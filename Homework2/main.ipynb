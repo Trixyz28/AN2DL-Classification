{
 "cells": [
  {
   "cell_type": "markdown",
   "metadata": {
    "id": "rGEgyogRPFYc",
    "pycharm": {
     "name": "#%% md\n"
    }
   },
   "source": [
    "# Notebook for ANNDL - Homework 2\n",
    "\n",
    "Team: All Is Well\n",
    "\n",
    "Team members: Fatma Hamila, Kodai Takigawa, Zheng Maria Yu"
   ]
  },
  {
   "cell_type": "code",
   "execution_count": null,
   "metadata": {
    "colab": {
     "base_uri": "https://localhost:8080/"
    },
    "id": "VA-umYcjKlyn",
    "outputId": "fcd44d83-b09e-4a23-8287-8e97e94f068c",
    "pycharm": {
     "name": "#%%\n"
    }
   },
   "outputs": [],
   "source": [
    "!unzip /dataset.zip "
   ]
  },
  {
   "cell_type": "markdown",
   "metadata": {
    "id": "r_QsOhFvo7qr",
    "pycharm": {
     "name": "#%% md\n"
    }
   },
   "source": [
    "# Setup\n",
    "Firstly, we need to setup the environment by importing the required libraries, setting the current path (eventually mounting Google Drive), and fixing the random seed for our experiments' reproducibility.\n",
    "\n",
    "The dataset should be present in the same folder of this notebook."
   ]
  },
  {
   "cell_type": "code",
   "execution_count": 1,
   "metadata": {
    "id": "Z9l-AdB1uPvC",
    "pycharm": {
     "name": "#%%\n"
    }
   },
   "outputs": [],
   "source": [
    "# Import libraries\n",
    "import tensorflow as tf\n",
    "import numpy as np\n",
    "import os\n",
    "import random\n",
    "import pandas as pd\n",
    "import seaborn as sns\n",
    "\n",
    "tfk = tf.keras\n",
    "tfkl = tf.keras.layers"
   ]
  },
  {
   "cell_type": "code",
   "execution_count": 2,
   "metadata": {
    "id": "7jpYPMSCKXTG",
    "pycharm": {
     "name": "#%%\n"
    }
   },
   "outputs": [],
   "source": [
    "use_drive = False"
   ]
  },
  {
   "cell_type": "code",
   "execution_count": 3,
   "metadata": {
    "colab": {
     "base_uri": "https://localhost:8080/"
    },
    "id": "Yvhn0BUeKXTG",
    "outputId": "adc229e6-0e15-44be-e265-f8a8761fdabb",
    "pycharm": {
     "name": "#%%\n"
    }
   },
   "outputs": [
    {
     "name": "stdout",
     "output_type": "stream",
     "text": [
      "C:\\Users\\zheng\\Documents\\Uni\\Magistrale\\ANNDL\\22-23\\Homework2\\Env\n"
     ]
    }
   ],
   "source": [
    "# Connect to Google Drive\n",
    "# Set path\n",
    "\n",
    "if(use_drive):\n",
    "    from google.colab import drive\n",
    "    drive.mount('/gdrive')\n",
    "    path = \"/gdrive/My Drive/ANNDL/2022-23/Homework2\"\n",
    "    %cd /gdrive/My Drive/ANNDL/2022-23/Homework2\n",
    "else:\n",
    "    path = os.getcwd()\n",
    "    print(str(path))"
   ]
  },
  {
   "cell_type": "code",
   "execution_count": 4,
   "metadata": {
    "id": "76iRDDThuZsI",
    "pycharm": {
     "name": "#%%\n"
    }
   },
   "outputs": [],
   "source": [
    "# Fix random seed for reproducibility\n",
    "seed = 23\n",
    "\n",
    "random.seed(seed)\n",
    "os.environ['PYTHONHASHSEED'] = str(seed)\n",
    "np.random.seed(seed)\n",
    "tf.random.set_seed(seed)\n",
    "tf.compat.v1.set_random_seed(seed)"
   ]
  },
  {
   "cell_type": "code",
   "execution_count": 5,
   "metadata": {
    "id": "Odq6PBX1KXTH",
    "pycharm": {
     "name": "#%%\n"
    }
   },
   "outputs": [],
   "source": [
    "# Set dataset directory\n",
    "dataset_dir = 'dataset'"
   ]
  },
  {
   "cell_type": "code",
   "execution_count": 6,
   "metadata": {
    "id": "Q3gmA5LyKXTI",
    "pycharm": {
     "name": "#%%\n"
    }
   },
   "outputs": [],
   "source": [
    "# Load data\n",
    "X_all_raw = np.load(os.path.join(dataset_dir, 'x_train.npy'))\n",
    "y_all_raw = np.load(os.path.join(dataset_dir, 'y_train.npy'))"
   ]
  },
  {
   "cell_type": "code",
   "execution_count": 7,
   "metadata": {
    "colab": {
     "base_uri": "https://localhost:8080/"
    },
    "id": "fk_XQjNXKXTI",
    "outputId": "00b2fbe5-7407-4530-de3f-0a2c40d147cf",
    "pycharm": {
     "name": "#%%\n"
    }
   },
   "outputs": [
    {
     "name": "stdout",
     "output_type": "stream",
     "text": [
      "(2429, 36, 6) (2429,)\n"
     ]
    }
   ],
   "source": [
    "print(X_all_raw.shape,y_all_raw.shape)"
   ]
  },
  {
   "cell_type": "code",
   "execution_count": 8,
   "metadata": {
    "colab": {
     "base_uri": "https://localhost:8080/"
    },
    "id": "wP7FXYknDyyK",
    "outputId": "671dcb24-5aa0-4c90-be36-db422fa927a2",
    "pycharm": {
     "name": "#%%\n"
    }
   },
   "outputs": [
    {
     "data": {
      "text/plain": [
       "(11, 0)"
      ]
     },
     "execution_count": 8,
     "metadata": {},
     "output_type": "execute_result"
    }
   ],
   "source": [
    "max(y_all_raw),min(y_all_raw)"
   ]
  },
  {
   "cell_type": "markdown",
   "metadata": {
    "id": "fSiVbs7KDqK0",
    "pycharm": {
     "name": "#%% md\n"
    }
   },
   "source": [
    "# Data Preprocessing & Splitting\n",
    "In this part, the extracted data is preprocessed and splitted into a training set and a validation set."
   ]
  },
  {
   "cell_type": "code",
   "execution_count": 12,
   "metadata": {
    "pycharm": {
     "name": "#%%\n"
    }
   },
   "outputs": [
    {
     "name": "stdout",
     "output_type": "stream",
     "text": [
      "(1224, 6)\n",
      "(4428, 6)\n",
      "(9720, 6)\n",
      "(13716, 6)\n",
      "(2232, 6)\n",
      "(5508, 6)\n",
      "(11268, 6)\n",
      "(2448, 6)\n",
      "(4320, 6)\n",
      "(27972, 6)\n",
      "(2772, 6)\n",
      "(1836, 6)\n"
     ]
    }
   ],
   "source": [
    "# Combine data sequences belonging to the same class\n",
    "def combine_frame(x,y):\n",
    "    new_data=[]\n",
    "    for i in range(12):\n",
    "        index=np.where(y==i)[0]\n",
    "        data=x[index[0]]\n",
    "        for j in index[1:]:\n",
    "            data=np.concatenate((data,x[j]),axis=0)\n",
    "        new_data.append(data)\n",
    "    return new_data\n",
    "\n",
    "data=combine_frame(X_all_raw,y_all_raw)\n",
    "for a in data:\n",
    "    print(a.shape)"
   ]
  },
  {
   "cell_type": "code",
   "execution_count": 13,
   "metadata": {
    "pycharm": {
     "name": "#%%\n"
    }
   },
   "outputs": [],
   "source": [
    "# Split training sequence and validation sequence\n",
    "X_train,X_val=[d[:int(len(d)*0.8)] for d in data],[d[int(len(d)*0.8):] for d in data]"
   ]
  },
  {
   "cell_type": "code",
   "execution_count": 15,
   "metadata": {
    "id": "1auAIeIeNHJz",
    "pycharm": {
     "name": "#%%\n"
    }
   },
   "outputs": [],
   "source": [
    "# Split the long sequences into shorter ones with the sliding window\n",
    "def split_data(x,y,window=24,step=1):\n",
    "    data=[]\n",
    "    target=[]\n",
    "    \n",
    "    for i in range(len(x)):\n",
    "        a=x[i]\n",
    "        b=y[i]\n",
    "        for j in range(0,len(a)-window,step):\n",
    "            data.append(a[j:j+window])\n",
    "            target.append(b)\n",
    "            \n",
    "    return np.asarray(data),np.asarray(target)"
   ]
  },
  {
   "cell_type": "code",
   "execution_count": 16,
   "metadata": {
    "pycharm": {
     "name": "#%%\n"
    }
   },
   "outputs": [
    {
     "data": {
      "text/plain": [
       "((11592, 36, 6), (11592,))"
      ]
     },
     "execution_count": 16,
     "metadata": {},
     "output_type": "execute_result"
    }
   ],
   "source": [
    "X_train,y_train=split_data(X_train,range(12),window=36,step=6)\n",
    "X_train.shape,y_train.shape"
   ]
  },
  {
   "cell_type": "code",
   "execution_count": 17,
   "metadata": {
    "pycharm": {
     "name": "#%%\n"
    }
   },
   "outputs": [
    {
     "data": {
      "text/plain": [
       "((479, 36, 6), (479,))"
      ]
     },
     "execution_count": 17,
     "metadata": {},
     "output_type": "execute_result"
    }
   ],
   "source": [
    "X_val,y_val=split_data(X_val,range(12),window=36,step=36)\n",
    "X_val.shape,y_val.shape"
   ]
  },
  {
   "cell_type": "code",
   "execution_count": 18,
   "metadata": {
    "colab": {
     "base_uri": "https://localhost:8080/"
    },
    "id": "rDlRtrjCZ8er",
    "outputId": "a1351138-ef4a-44e3-c911-511d64c70020",
    "pycharm": {
     "name": "#%%\n"
    }
   },
   "outputs": [],
   "source": [
    "# Normalize the data\n",
    "def normalize_data(x):\n",
    "    new_x=[]\n",
    "    \n",
    "    for i in range(len(x)):\n",
    "        a=x[i]\n",
    "        max_,min_,mean_,std_=a.max(axis=0),a.min(axis=0),a.mean(axis=0),a.std(axis=0)\n",
    "        b=np.concatenate((max_,min_,mean_,std_)).reshape((-1,6))\n",
    "        a=2*(a-min_)/(max_-min_)-1\n",
    "        a=np.concatenate((a,b))\n",
    "        new_x.append(a)\n",
    "        \n",
    "    return np.array(new_x)\n",
    "\n",
    "X_train = normalize_data(X_train)\n",
    "X_val = normalize_data(X_val)"
   ]
  },
  {
   "cell_type": "code",
   "execution_count": 19,
   "metadata": {
    "id": "GRyh4i9uKXTK",
    "pycharm": {
     "name": "#%%\n"
    }
   },
   "outputs": [],
   "source": [
    "# Convert the integer labels to one-hot encoding\n",
    "y_train = tfk.utils.to_categorical(y_train.reshape((-1,1)))\n",
    "y_val = tfk.utils.to_categorical(y_val.reshape((-1,1)))"
   ]
  },
  {
   "cell_type": "code",
   "execution_count": 20,
   "metadata": {
    "colab": {
     "base_uri": "https://localhost:8080/"
    },
    "id": "rfV5QccrKXTL",
    "outputId": "deb48da0-630e-4156-d46b-12e5c7677b30",
    "pycharm": {
     "name": "#%%\n"
    }
   },
   "outputs": [
    {
     "data": {
      "text/plain": [
       "((11592, 40, 6), (11592, 12), (479, 40, 6), (479, 12))"
      ]
     },
     "execution_count": 20,
     "metadata": {},
     "output_type": "execute_result"
    }
   ],
   "source": [
    "X_train.shape, y_train.shape, X_val.shape, y_val.shape"
   ]
  },
  {
   "cell_type": "markdown",
   "metadata": {
    "pycharm": {
     "name": "#%% md\n"
    }
   },
   "source": [
    "# Model training"
   ]
  },
  {
   "cell_type": "code",
   "execution_count": 21,
   "metadata": {
    "id": "QYLO-iudKXTL",
    "pycharm": {
     "name": "#%%\n"
    }
   },
   "outputs": [],
   "source": [
    "# Set the values for training\n",
    "input_shape = (36, 6)\n",
    "classes = 12\n",
    "batch_size = 128\n",
    "epochs = 100"
   ]
  },
  {
   "cell_type": "code",
   "execution_count": 22,
   "metadata": {
    "colab": {
     "base_uri": "https://localhost:8080/"
    },
    "id": "nCXeHsheKXTL",
    "outputId": "dfff22ad-cf63-49c1-ba6b-b545604c3e7d",
    "pycharm": {
     "name": "#%%\n"
    }
   },
   "outputs": [
    {
     "data": {
      "text/plain": [
       "((36, 6), 12)"
      ]
     },
     "execution_count": 22,
     "metadata": {},
     "output_type": "execute_result"
    }
   ],
   "source": [
    "input_shape, classes"
   ]
  },
  {
   "cell_type": "code",
   "execution_count": 26,
   "metadata": {
    "id": "ELSGUwQb4q2V",
    "pycharm": {
     "name": "#%%\n"
    }
   },
   "outputs": [],
   "source": [
    "from keras.layers import Conv1D, BatchNormalization, GlobalAveragePooling1D, Permute, Dropout, Flatten\n",
    "from keras.layers import Input, Dense, LSTM, CuDNNLSTM, concatenate, Activation, GRU, SimpleRNN,MaxPool1D,Bidirectional,GlobalMaxPooling1D,Concatenate\n",
    "from attention import Attention\n",
    "\n",
    "def build_model(input_shape, classes):\n",
    "\n",
    "    input = tfkl.Input(shape=input_shape, name='Input')\n",
    "    x_input=input\n",
    "\n",
    "    # 512\n",
    "    x1 = Bidirectional(LSTM(units=256, return_sequences=True))(x_input)\n",
    "        \n",
    "    # 384\n",
    "    l1 = Bidirectional(LSTM(units=192, return_sequences=True))(x1)\n",
    "    l2 = Bidirectional(LSTM(units=192, return_sequences=True))(x_input)\n",
    "\n",
    "    c1 = Concatenate(axis=2)((l1,l2))\n",
    "    \n",
    "    # 256\n",
    "    l3 = Bidirectional(LSTM(units=128, return_sequences=True))(c1)\n",
    "    l4 = Bidirectional(LSTM(units=128, return_sequences=True))(l2)\n",
    "\n",
    "    c2 = Concatenate(axis=2)((l3,l4))\n",
    "    \n",
    "    l6 = GlobalMaxPooling1D()(c2)\n",
    "    \n",
    "#    a1 = Attention()(c2)\n",
    "    \n",
    "    l7 = Dense(units=128, activation='relu')(l6)\n",
    "    l8 = Dropout(0.3, seed=seed)(l7)\n",
    "        \n",
    "    output = Dense(12, activation='softmax')(l8)\n",
    "\n",
    "    model = tfk.Model(inputs=input, outputs=output)\n",
    "    \n",
    "    # Compile the model\n",
    "    model.compile(\n",
    "        loss=tfk.losses.CategoricalCrossentropy(),\n",
    "        optimizer=tfk.optimizers.Adam(learning_rate=1e-4),\n",
    "        metrics=['accuracy']\n",
    "    )\n",
    "\n",
    "    # Return the model\n",
    "    return model"
   ]
  },
  {
   "cell_type": "code",
   "execution_count": 27,
   "metadata": {
    "pycharm": {
     "name": "#%%\n"
    }
   },
   "outputs": [
    {
     "name": "stdout",
     "output_type": "stream",
     "text": [
      "Model: \"model_1\"\n",
      "__________________________________________________________________________________________________\n",
      " Layer (type)                   Output Shape         Param #     Connected to                     \n",
      "==================================================================================================\n",
      " Input (InputLayer)             [(None, 36, 6)]      0           []                               \n",
      "                                                                                                  \n",
      " bidirectional_5 (Bidirectional  (None, 36, 512)     538624      ['Input[0][0]']                  \n",
      " )                                                                                                \n",
      "                                                                                                  \n",
      " bidirectional_6 (Bidirectional  (None, 36, 384)     1082880     ['bidirectional_5[0][0]']        \n",
      " )                                                                                                \n",
      "                                                                                                  \n",
      " bidirectional_7 (Bidirectional  (None, 36, 384)     305664      ['Input[0][0]']                  \n",
      " )                                                                                                \n",
      "                                                                                                  \n",
      " concatenate_2 (Concatenate)    (None, 36, 768)      0           ['bidirectional_6[0][0]',        \n",
      "                                                                  'bidirectional_7[0][0]']        \n",
      "                                                                                                  \n",
      " bidirectional_8 (Bidirectional  (None, 36, 256)     918528      ['concatenate_2[0][0]']          \n",
      " )                                                                                                \n",
      "                                                                                                  \n",
      " bidirectional_9 (Bidirectional  (None, 36, 256)     525312      ['bidirectional_7[0][0]']        \n",
      " )                                                                                                \n",
      "                                                                                                  \n",
      " concatenate_3 (Concatenate)    (None, 36, 512)      0           ['bidirectional_8[0][0]',        \n",
      "                                                                  'bidirectional_9[0][0]']        \n",
      "                                                                                                  \n",
      " global_max_pooling1d_1 (Global  (None, 512)         0           ['concatenate_3[0][0]']          \n",
      " MaxPooling1D)                                                                                    \n",
      "                                                                                                  \n",
      " dense_2 (Dense)                (None, 128)          65664       ['global_max_pooling1d_1[0][0]'] \n",
      "                                                                                                  \n",
      " dropout_1 (Dropout)            (None, 128)          0           ['dense_2[0][0]']                \n",
      "                                                                                                  \n",
      " dense_3 (Dense)                (None, 12)           1548        ['dropout_1[0][0]']              \n",
      "                                                                                                  \n",
      "==================================================================================================\n",
      "Total params: 3,438,220\n",
      "Trainable params: 3,438,220\n",
      "Non-trainable params: 0\n",
      "__________________________________________________________________________________________________\n"
     ]
    }
   ],
   "source": [
    "# Build the model\n",
    "model = build_model((36,6), classes)\n",
    "model.summary()"
   ]
  },
  {
   "cell_type": "markdown",
   "metadata": {
    "id": "Ok9qde99qbhC",
    "pycharm": {
     "name": "#%% md\n"
    }
   },
   "source": [
    "# Checkpoint and Early stopping settings\n",
    "Early stopping options can be activated to limit model overfitting.\n",
    "\n",
    "There is possibility to save checkpoints during the training, in order to keep track of the performance and to get more choices of the final model.\n"
   ]
  },
  {
   "cell_type": "code",
   "execution_count": 28,
   "metadata": {
    "colab": {
     "base_uri": "https://localhost:8080/",
     "height": 35
    },
    "id": "IqI3L_BCKXTO",
    "outputId": "954f41a7-4d6a-4d06-c5fa-796bab42d514",
    "pycharm": {
     "name": "#%%\n"
    }
   },
   "outputs": [
    {
     "data": {
      "text/plain": [
       "'C:\\\\Users\\\\zheng\\\\Documents\\\\Uni\\\\Magistrale\\\\ANNDL\\\\22-23\\\\Homework2\\\\Env'"
      ]
     },
     "execution_count": 28,
     "metadata": {},
     "output_type": "execute_result"
    }
   ],
   "source": [
    "os.getcwd()"
   ]
  },
  {
   "cell_type": "code",
   "execution_count": 29,
   "metadata": {
    "id": "_joKtLpgKXTO",
    "pycharm": {
     "name": "#%%\n"
    }
   },
   "outputs": [],
   "source": [
    "from datetime import datetime\n",
    "def create_folders_and_callbacks(model_name):\n",
    "    \n",
    "    exps_dir = os.path.join('experiments')\n",
    "    if not os.path.exists(exps_dir):\n",
    "        os.makedirs(exps_dir)\n",
    "\n",
    "    now = datetime.now().strftime('%b%d_%H-%M-%S')\n",
    "    print(now)\n",
    "\n",
    "    exp_dir = os.path.join(exps_dir, model_name + '_' + str(now))\n",
    "    if not os.path.exists(exp_dir):\n",
    "        os.makedirs(exp_dir)\n",
    "\n",
    "    callbacks = []\n",
    "\n",
    "    # Model checkpoint\n",
    "    ckpt_dir = os.path.join(exp_dir, 'base_ckpts')\n",
    "    if not os.path.exists(ckpt_dir):\n",
    "        os.makedirs(ckpt_dir)\n",
    "\n",
    "    ckpt_callback = tf.keras.callbacks.ModelCheckpoint(filepath=os.path.join(ckpt_dir, 'cp_{epoch:02d}.ckpt'),\n",
    "                                                     save_weights_only=False, # True to save only weights\n",
    "                                                     save_best_only=True,# True to save only the best epoch\n",
    "                                                     monitor='val_accuracy')\n",
    "    callbacks.append(ckpt_callback)\n",
    "\n",
    "    # Visualize Learning on Tensorboard\n",
    "    tb_dir = os.path.join(exp_dir, 'tb_logs')\n",
    "    if not os.path.exists(tb_dir):\n",
    "        os.makedirs(tb_dir)\n",
    "\n",
    "    # By default shows losses and metrics for both training and validation\n",
    "    tb_callback = tf.keras.callbacks.TensorBoard(log_dir=tb_dir,\n",
    "                                               profile_batch=0,\n",
    "                                               histogram_freq=1)  # if > 0 (epochs) shows weights histograms\n",
    "    callbacks.append(tb_callback)\n",
    "    \n",
    "\n",
    "    return callbacks, now"
   ]
  },
  {
   "cell_type": "code",
   "execution_count": 30,
   "metadata": {
    "id": "w0EvjDOuKXTO",
    "pycharm": {
     "name": "#%%\n"
    }
   },
   "outputs": [],
   "source": [
    "foldermode = \"ResLSTM\""
   ]
  },
  {
   "cell_type": "code",
   "execution_count": 31,
   "metadata": {
    "colab": {
     "base_uri": "https://localhost:8080/"
    },
    "id": "_DOoDxlWKXTO",
    "outputId": "da22d2ca-db03-43c4-9a16-d950fc51e5a9",
    "pycharm": {
     "name": "#%%\n"
    }
   },
   "outputs": [
    {
     "name": "stdout",
     "output_type": "stream",
     "text": [
      "Dec17_22-33-03\n"
     ]
    }
   ],
   "source": [
    "# Define the callbacks\n",
    "callbacks, date = create_folders_and_callbacks(foldermode)"
   ]
  },
  {
   "cell_type": "code",
   "execution_count": 32,
   "metadata": {
    "colab": {
     "base_uri": "https://localhost:8080/"
    },
    "id": "StJJpdTlKXTP",
    "outputId": "d83382e3-84c0-4bdc-d38c-dbfd4ef3e3b7",
    "pycharm": {
     "name": "#%%\n"
    }
   },
   "outputs": [
    {
     "name": "stdout",
     "output_type": "stream",
     "text": [
      "ResLSTM_Dec17_22-33-03\n"
     ]
    }
   ],
   "source": [
    "foldername = foldermode + '_' + str(date)\n",
    "print(foldername)"
   ]
  },
  {
   "cell_type": "code",
   "execution_count": 33,
   "metadata": {
    "colab": {
     "base_uri": "https://localhost:8080/"
    },
    "id": "8tFqkU8SXfIm",
    "outputId": "ef77ddd3-0a01-4b55-8ded-e52cf6e44d87",
    "pycharm": {
     "name": "#%%\n"
    }
   },
   "outputs": [
    {
     "name": "stdout",
     "output_type": "stream",
     "text": [
      "(64, 36, 6) (64, 12)\n"
     ]
    }
   ],
   "source": [
    "# Define the generator for augmented samples\n",
    "from tensorflow.keras.utils import Sequence\n",
    "import augmentationrepo.utils.augmentation as aug\n",
    "\n",
    "class AugmentDataGenerator(Sequence):\n",
    "\n",
    "    def __init__(self, data,target,p=0.1,batch_size=64):\n",
    "        self.data = data\n",
    "        self.target=target\n",
    "        self.p=p\n",
    "        self.augment=[aug.jitter,aug.scaling,aug.permutation,\n",
    "                      aug.magnitude_warp,aug.time_warp,\n",
    "                      aug.rotation,aug.window_slice,aug.window_warp]\n",
    "\n",
    "        self.batch_size=batch_size\n",
    "        self.perm=np.random.permutation(len(self.data))\n",
    "        \n",
    "    def __len__(self):\n",
    "          if len(self.data)%self.batch_size==0:\n",
    "            return len(self.data)//self.batch_size\n",
    "          return len(self.data)//self.batch_size+1\n",
    "\n",
    "    def getitem(self,x):\n",
    "        data,target=self.data[x],self.target[x]\n",
    "        max_,min_=data[36],data[37]\n",
    "        data=data[:36]\n",
    "        for f in self.augment:\n",
    "            if np.random.rand()<self.p:\n",
    "                data = f(np.array([data]))[0]\n",
    "                \n",
    "        data=(data+1)*(max_-min_)/2+min_\n",
    "        return (np.array(data), np.array(target))\n",
    "    \n",
    "    def __getitem__(self, x):\n",
    "        data,target=[],[]\n",
    "        for i in self.perm[x*self.batch_size:min(len(self.data),(x+1)*self.batch_size)]:\n",
    "              a,b=self.getitem(i)\n",
    "              data.append(a)\n",
    "              target.append(b)\n",
    "        if ((x+1)*self.batch_size)>len(self.data):\n",
    "            self.perm=np.random.permutation(len(self.data))\n",
    "        return (np.array(data), np.array(target))\n",
    "        \n",
    "\n",
    "\n",
    "generator=AugmentDataGenerator(X_train,y_train,p=0.5)\n",
    "data,target=generator.__getitem__(0)\n",
    "print(data.shape,target.shape)"
   ]
  },
  {
   "cell_type": "code",
   "execution_count": 34,
   "metadata": {
    "pycharm": {
     "name": "#%%\n"
    }
   },
   "outputs": [
    {
     "name": "stdout",
     "output_type": "stream",
     "text": [
      "(64, 36, 6) (64, 12)\n"
     ]
    }
   ],
   "source": [
    "val_generator=AugmentDataGenerator(X_val,y_val,p=0)\n",
    "data,target=generator.__getitem__(0)\n",
    "print(data.shape,target.shape)"
   ]
  },
  {
   "cell_type": "code",
   "execution_count": 35,
   "metadata": {
    "scrolled": true,
    "pycharm": {
     "name": "#%%\n"
    }
   },
   "outputs": [
    {
     "name": "stdout",
     "output_type": "stream",
     "text": [
      "Epoch 1/500\n",
      "182/182 [==============================] - ETA: 0s - loss: 1.8316 - accuracy: 0.4066"
     ]
    },
    {
     "name": "stderr",
     "output_type": "stream",
     "text": [
      "WARNING:absl:Function `_wrapped_model` contains input name(s) Input with unsupported characters which will be renamed to input in the SavedModel.\n",
      "WARNING:absl:Found untraced functions such as lstm_cell_16_layer_call_fn, lstm_cell_16_layer_call_and_return_conditional_losses, lstm_cell_17_layer_call_fn, lstm_cell_17_layer_call_and_return_conditional_losses, lstm_cell_19_layer_call_fn while saving (showing 5 of 20). These functions will not be directly callable after loading.\n"
     ]
    },
    {
     "name": "stdout",
     "output_type": "stream",
     "text": [
      "INFO:tensorflow:Assets written to: experiments\\ResLSTM_Dec17_22-33-03\\base_ckpts\\cp_01.ckpt\\assets\n"
     ]
    },
    {
     "name": "stderr",
     "output_type": "stream",
     "text": [
      "INFO:tensorflow:Assets written to: experiments\\ResLSTM_Dec17_22-33-03\\base_ckpts\\cp_01.ckpt\\assets\n"
     ]
    },
    {
     "name": "stdout",
     "output_type": "stream",
     "text": [
      "182/182 [==============================] - 141s 674ms/step - loss: 1.8316 - accuracy: 0.4066 - val_loss: 1.4601 - val_accuracy: 0.4969\n",
      "Epoch 2/500\n",
      "181/182 [============================>.] - ETA: 0s - loss: 1.5417 - accuracy: 0.4831"
     ]
    },
    {
     "name": "stderr",
     "output_type": "stream",
     "text": [
      "WARNING:absl:Function `_wrapped_model` contains input name(s) Input with unsupported characters which will be renamed to input in the SavedModel.\n",
      "WARNING:absl:Found untraced functions such as lstm_cell_16_layer_call_fn, lstm_cell_16_layer_call_and_return_conditional_losses, lstm_cell_17_layer_call_fn, lstm_cell_17_layer_call_and_return_conditional_losses, lstm_cell_19_layer_call_fn while saving (showing 5 of 20). These functions will not be directly callable after loading.\n"
     ]
    },
    {
     "name": "stdout",
     "output_type": "stream",
     "text": [
      "INFO:tensorflow:Assets written to: experiments\\ResLSTM_Dec17_22-33-03\\base_ckpts\\cp_02.ckpt\\assets\n"
     ]
    },
    {
     "name": "stderr",
     "output_type": "stream",
     "text": [
      "INFO:tensorflow:Assets written to: experiments\\ResLSTM_Dec17_22-33-03\\base_ckpts\\cp_02.ckpt\\assets\n"
     ]
    },
    {
     "name": "stdout",
     "output_type": "stream",
     "text": [
      "182/182 [==============================] - 114s 632ms/step - loss: 1.5414 - accuracy: 0.4831 - val_loss: 1.2504 - val_accuracy: 0.5762\n",
      "Epoch 3/500\n",
      "181/182 [============================>.] - ETA: 0s - loss: 1.4440 - accuracy: 0.5084"
     ]
    },
    {
     "name": "stderr",
     "output_type": "stream",
     "text": [
      "WARNING:absl:Function `_wrapped_model` contains input name(s) Input with unsupported characters which will be renamed to input in the SavedModel.\n",
      "WARNING:absl:Found untraced functions such as lstm_cell_16_layer_call_fn, lstm_cell_16_layer_call_and_return_conditional_losses, lstm_cell_17_layer_call_fn, lstm_cell_17_layer_call_and_return_conditional_losses, lstm_cell_19_layer_call_fn while saving (showing 5 of 20). These functions will not be directly callable after loading.\n"
     ]
    },
    {
     "name": "stdout",
     "output_type": "stream",
     "text": [
      "INFO:tensorflow:Assets written to: experiments\\ResLSTM_Dec17_22-33-03\\base_ckpts\\cp_03.ckpt\\assets\n"
     ]
    },
    {
     "name": "stderr",
     "output_type": "stream",
     "text": [
      "INFO:tensorflow:Assets written to: experiments\\ResLSTM_Dec17_22-33-03\\base_ckpts\\cp_03.ckpt\\assets\n"
     ]
    },
    {
     "name": "stdout",
     "output_type": "stream",
     "text": [
      "182/182 [==============================] - 115s 633ms/step - loss: 1.4440 - accuracy: 0.5085 - val_loss: 1.1433 - val_accuracy: 0.6138\n",
      "Epoch 4/500\n",
      "181/182 [============================>.] - ETA: 0s - loss: 1.3785 - accuracy: 0.5275"
     ]
    },
    {
     "name": "stderr",
     "output_type": "stream",
     "text": [
      "WARNING:absl:Function `_wrapped_model` contains input name(s) Input with unsupported characters which will be renamed to input in the SavedModel.\n",
      "WARNING:absl:Found untraced functions such as lstm_cell_16_layer_call_fn, lstm_cell_16_layer_call_and_return_conditional_losses, lstm_cell_17_layer_call_fn, lstm_cell_17_layer_call_and_return_conditional_losses, lstm_cell_19_layer_call_fn while saving (showing 5 of 20). These functions will not be directly callable after loading.\n"
     ]
    },
    {
     "name": "stdout",
     "output_type": "stream",
     "text": [
      "INFO:tensorflow:Assets written to: experiments\\ResLSTM_Dec17_22-33-03\\base_ckpts\\cp_04.ckpt\\assets\n"
     ]
    },
    {
     "name": "stderr",
     "output_type": "stream",
     "text": [
      "INFO:tensorflow:Assets written to: experiments\\ResLSTM_Dec17_22-33-03\\base_ckpts\\cp_04.ckpt\\assets\n"
     ]
    },
    {
     "name": "stdout",
     "output_type": "stream",
     "text": [
      "182/182 [==============================] - 114s 629ms/step - loss: 1.3784 - accuracy: 0.5274 - val_loss: 1.0845 - val_accuracy: 0.6326\n",
      "Epoch 5/500\n",
      "181/182 [============================>.] - ETA: 0s - loss: 1.3578 - accuracy: 0.5377"
     ]
    },
    {
     "name": "stderr",
     "output_type": "stream",
     "text": [
      "WARNING:absl:Function `_wrapped_model` contains input name(s) Input with unsupported characters which will be renamed to input in the SavedModel.\n",
      "WARNING:absl:Found untraced functions such as lstm_cell_16_layer_call_fn, lstm_cell_16_layer_call_and_return_conditional_losses, lstm_cell_17_layer_call_fn, lstm_cell_17_layer_call_and_return_conditional_losses, lstm_cell_19_layer_call_fn while saving (showing 5 of 20). These functions will not be directly callable after loading.\n"
     ]
    },
    {
     "name": "stdout",
     "output_type": "stream",
     "text": [
      "INFO:tensorflow:Assets written to: experiments\\ResLSTM_Dec17_22-33-03\\base_ckpts\\cp_05.ckpt\\assets\n"
     ]
    },
    {
     "name": "stderr",
     "output_type": "stream",
     "text": [
      "INFO:tensorflow:Assets written to: experiments\\ResLSTM_Dec17_22-33-03\\base_ckpts\\cp_05.ckpt\\assets\n"
     ]
    },
    {
     "name": "stdout",
     "output_type": "stream",
     "text": [
      "182/182 [==============================] - 113s 623ms/step - loss: 1.3580 - accuracy: 0.5378 - val_loss: 1.0562 - val_accuracy: 0.6472\n",
      "Epoch 6/500\n",
      "182/182 [==============================] - 38s 210ms/step - loss: 1.3153 - accuracy: 0.5531 - val_loss: 1.0200 - val_accuracy: 0.6430\n",
      "Epoch 7/500\n",
      "182/182 [==============================] - 38s 210ms/step - loss: 1.2830 - accuracy: 0.5622 - val_loss: 1.0134 - val_accuracy: 0.6388\n",
      "Epoch 8/500\n",
      "181/182 [============================>.] - ETA: 0s - loss: 1.2723 - accuracy: 0.5653"
     ]
    },
    {
     "name": "stderr",
     "output_type": "stream",
     "text": [
      "WARNING:absl:Function `_wrapped_model` contains input name(s) Input with unsupported characters which will be renamed to input in the SavedModel.\n",
      "WARNING:absl:Found untraced functions such as lstm_cell_16_layer_call_fn, lstm_cell_16_layer_call_and_return_conditional_losses, lstm_cell_17_layer_call_fn, lstm_cell_17_layer_call_and_return_conditional_losses, lstm_cell_19_layer_call_fn while saving (showing 5 of 20). These functions will not be directly callable after loading.\n"
     ]
    },
    {
     "name": "stdout",
     "output_type": "stream",
     "text": [
      "INFO:tensorflow:Assets written to: experiments\\ResLSTM_Dec17_22-33-03\\base_ckpts\\cp_08.ckpt\\assets\n"
     ]
    },
    {
     "name": "stderr",
     "output_type": "stream",
     "text": [
      "INFO:tensorflow:Assets written to: experiments\\ResLSTM_Dec17_22-33-03\\base_ckpts\\cp_08.ckpt\\assets\n"
     ]
    },
    {
     "name": "stdout",
     "output_type": "stream",
     "text": [
      "182/182 [==============================] - 117s 648ms/step - loss: 1.2726 - accuracy: 0.5653 - val_loss: 0.9984 - val_accuracy: 0.6534\n",
      "Epoch 9/500\n",
      "181/182 [============================>.] - ETA: 0s - loss: 1.2423 - accuracy: 0.5792"
     ]
    },
    {
     "name": "stderr",
     "output_type": "stream",
     "text": [
      "WARNING:absl:Function `_wrapped_model` contains input name(s) Input with unsupported characters which will be renamed to input in the SavedModel.\n",
      "WARNING:absl:Found untraced functions such as lstm_cell_16_layer_call_fn, lstm_cell_16_layer_call_and_return_conditional_losses, lstm_cell_17_layer_call_fn, lstm_cell_17_layer_call_and_return_conditional_losses, lstm_cell_19_layer_call_fn while saving (showing 5 of 20). These functions will not be directly callable after loading.\n"
     ]
    },
    {
     "name": "stdout",
     "output_type": "stream",
     "text": [
      "INFO:tensorflow:Assets written to: experiments\\ResLSTM_Dec17_22-33-03\\base_ckpts\\cp_09.ckpt\\assets\n"
     ]
    },
    {
     "name": "stderr",
     "output_type": "stream",
     "text": [
      "INFO:tensorflow:Assets written to: experiments\\ResLSTM_Dec17_22-33-03\\base_ckpts\\cp_09.ckpt\\assets\n"
     ]
    },
    {
     "name": "stdout",
     "output_type": "stream",
     "text": [
      "182/182 [==============================] - 111s 615ms/step - loss: 1.2424 - accuracy: 0.5792 - val_loss: 0.9884 - val_accuracy: 0.6555\n",
      "Epoch 10/500\n",
      "182/182 [==============================] - 14s 74ms/step - loss: 1.2478 - accuracy: 0.5720 - val_loss: 0.9842 - val_accuracy: 0.6534\n",
      "Epoch 11/500\n",
      "181/182 [============================>.] - ETA: 0s - loss: 1.2186 - accuracy: 0.5751"
     ]
    },
    {
     "name": "stderr",
     "output_type": "stream",
     "text": [
      "WARNING:absl:Function `_wrapped_model` contains input name(s) Input with unsupported characters which will be renamed to input in the SavedModel.\n",
      "WARNING:absl:Found untraced functions such as lstm_cell_16_layer_call_fn, lstm_cell_16_layer_call_and_return_conditional_losses, lstm_cell_17_layer_call_fn, lstm_cell_17_layer_call_and_return_conditional_losses, lstm_cell_19_layer_call_fn while saving (showing 5 of 20). These functions will not be directly callable after loading.\n"
     ]
    },
    {
     "name": "stdout",
     "output_type": "stream",
     "text": [
      "INFO:tensorflow:Assets written to: experiments\\ResLSTM_Dec17_22-33-03\\base_ckpts\\cp_11.ckpt\\assets\n"
     ]
    },
    {
     "name": "stderr",
     "output_type": "stream",
     "text": [
      "INFO:tensorflow:Assets written to: experiments\\ResLSTM_Dec17_22-33-03\\base_ckpts\\cp_11.ckpt\\assets\n"
     ]
    },
    {
     "name": "stdout",
     "output_type": "stream",
     "text": [
      "182/182 [==============================] - 86s 473ms/step - loss: 1.2186 - accuracy: 0.5751 - val_loss: 0.9678 - val_accuracy: 0.6576\n",
      "Epoch 12/500\n",
      "182/182 [==============================] - 14s 74ms/step - loss: 1.2136 - accuracy: 0.5832 - val_loss: 0.9676 - val_accuracy: 0.6493\n",
      "Epoch 13/500\n",
      "182/182 [==============================] - 13s 73ms/step - loss: 1.1921 - accuracy: 0.5893 - val_loss: 0.9634 - val_accuracy: 0.6576\n",
      "Epoch 14/500\n",
      "182/182 [==============================] - 13s 74ms/step - loss: 1.1873 - accuracy: 0.5953 - val_loss: 0.9421 - val_accuracy: 0.6514\n",
      "Epoch 15/500\n",
      "182/182 [==============================] - 13s 73ms/step - loss: 1.1793 - accuracy: 0.5910 - val_loss: 0.9819 - val_accuracy: 0.6409\n",
      "Epoch 16/500\n",
      "181/182 [============================>.] - ETA: 0s - loss: 1.1729 - accuracy: 0.5960"
     ]
    },
    {
     "name": "stderr",
     "output_type": "stream",
     "text": [
      "WARNING:absl:Function `_wrapped_model` contains input name(s) Input with unsupported characters which will be renamed to input in the SavedModel.\n",
      "WARNING:absl:Found untraced functions such as lstm_cell_16_layer_call_fn, lstm_cell_16_layer_call_and_return_conditional_losses, lstm_cell_17_layer_call_fn, lstm_cell_17_layer_call_and_return_conditional_losses, lstm_cell_19_layer_call_fn while saving (showing 5 of 20). These functions will not be directly callable after loading.\n"
     ]
    },
    {
     "name": "stdout",
     "output_type": "stream",
     "text": [
      "INFO:tensorflow:Assets written to: experiments\\ResLSTM_Dec17_22-33-03\\base_ckpts\\cp_16.ckpt\\assets\n"
     ]
    },
    {
     "name": "stderr",
     "output_type": "stream",
     "text": [
      "INFO:tensorflow:Assets written to: experiments\\ResLSTM_Dec17_22-33-03\\base_ckpts\\cp_16.ckpt\\assets\n"
     ]
    },
    {
     "name": "stdout",
     "output_type": "stream",
     "text": [
      "182/182 [==============================] - 88s 484ms/step - loss: 1.1730 - accuracy: 0.5959 - val_loss: 0.9452 - val_accuracy: 0.6597\n",
      "Epoch 17/500\n",
      "181/182 [============================>.] - ETA: 0s - loss: 1.1469 - accuracy: 0.6037"
     ]
    },
    {
     "name": "stderr",
     "output_type": "stream",
     "text": [
      "WARNING:absl:Function `_wrapped_model` contains input name(s) Input with unsupported characters which will be renamed to input in the SavedModel.\n",
      "WARNING:absl:Found untraced functions such as lstm_cell_16_layer_call_fn, lstm_cell_16_layer_call_and_return_conditional_losses, lstm_cell_17_layer_call_fn, lstm_cell_17_layer_call_and_return_conditional_losses, lstm_cell_19_layer_call_fn while saving (showing 5 of 20). These functions will not be directly callable after loading.\n"
     ]
    },
    {
     "name": "stdout",
     "output_type": "stream",
     "text": [
      "INFO:tensorflow:Assets written to: experiments\\ResLSTM_Dec17_22-33-03\\base_ckpts\\cp_17.ckpt\\assets\n"
     ]
    },
    {
     "name": "stderr",
     "output_type": "stream",
     "text": [
      "INFO:tensorflow:Assets written to: experiments\\ResLSTM_Dec17_22-33-03\\base_ckpts\\cp_17.ckpt\\assets\n"
     ]
    },
    {
     "name": "stdout",
     "output_type": "stream",
     "text": [
      "182/182 [==============================] - 84s 463ms/step - loss: 1.1470 - accuracy: 0.6036 - val_loss: 0.9230 - val_accuracy: 0.6618\n",
      "Epoch 18/500\n",
      "182/182 [==============================] - 13s 73ms/step - loss: 1.1504 - accuracy: 0.6052 - val_loss: 0.9237 - val_accuracy: 0.6555\n",
      "Epoch 19/500\n",
      "181/182 [============================>.] - ETA: 0s - loss: 1.1354 - accuracy: 0.6091"
     ]
    },
    {
     "name": "stderr",
     "output_type": "stream",
     "text": [
      "WARNING:absl:Function `_wrapped_model` contains input name(s) Input with unsupported characters which will be renamed to input in the SavedModel.\n",
      "WARNING:absl:Found untraced functions such as lstm_cell_16_layer_call_fn, lstm_cell_16_layer_call_and_return_conditional_losses, lstm_cell_17_layer_call_fn, lstm_cell_17_layer_call_and_return_conditional_losses, lstm_cell_19_layer_call_fn while saving (showing 5 of 20). These functions will not be directly callable after loading.\n"
     ]
    },
    {
     "name": "stdout",
     "output_type": "stream",
     "text": [
      "INFO:tensorflow:Assets written to: experiments\\ResLSTM_Dec17_22-33-03\\base_ckpts\\cp_19.ckpt\\assets\n"
     ]
    },
    {
     "name": "stderr",
     "output_type": "stream",
     "text": [
      "INFO:tensorflow:Assets written to: experiments\\ResLSTM_Dec17_22-33-03\\base_ckpts\\cp_19.ckpt\\assets\n"
     ]
    },
    {
     "name": "stdout",
     "output_type": "stream",
     "text": [
      "182/182 [==============================] - 85s 466ms/step - loss: 1.1352 - accuracy: 0.6091 - val_loss: 0.9090 - val_accuracy: 0.6722\n",
      "Epoch 20/500\n",
      "182/182 [==============================] - 14s 74ms/step - loss: 1.1290 - accuracy: 0.6121 - val_loss: 0.9164 - val_accuracy: 0.6701\n",
      "Epoch 21/500\n",
      "181/182 [============================>.] - ETA: 0s - loss: 1.1241 - accuracy: 0.6114"
     ]
    },
    {
     "name": "stderr",
     "output_type": "stream",
     "text": [
      "WARNING:absl:Function `_wrapped_model` contains input name(s) Input with unsupported characters which will be renamed to input in the SavedModel.\n",
      "WARNING:absl:Found untraced functions such as lstm_cell_16_layer_call_fn, lstm_cell_16_layer_call_and_return_conditional_losses, lstm_cell_17_layer_call_fn, lstm_cell_17_layer_call_and_return_conditional_losses, lstm_cell_19_layer_call_fn while saving (showing 5 of 20). These functions will not be directly callable after loading.\n"
     ]
    },
    {
     "name": "stdout",
     "output_type": "stream",
     "text": [
      "INFO:tensorflow:Assets written to: experiments\\ResLSTM_Dec17_22-33-03\\base_ckpts\\cp_21.ckpt\\assets\n"
     ]
    },
    {
     "name": "stderr",
     "output_type": "stream",
     "text": [
      "INFO:tensorflow:Assets written to: experiments\\ResLSTM_Dec17_22-33-03\\base_ckpts\\cp_21.ckpt\\assets\n"
     ]
    },
    {
     "name": "stdout",
     "output_type": "stream",
     "text": [
      "182/182 [==============================] - 84s 462ms/step - loss: 1.1247 - accuracy: 0.6113 - val_loss: 0.9166 - val_accuracy: 0.6785\n",
      "Epoch 22/500\n",
      "181/182 [============================>.] - ETA: 0s - loss: 1.1255 - accuracy: 0.6146"
     ]
    },
    {
     "name": "stderr",
     "output_type": "stream",
     "text": [
      "WARNING:absl:Function `_wrapped_model` contains input name(s) Input with unsupported characters which will be renamed to input in the SavedModel.\n",
      "WARNING:absl:Found untraced functions such as lstm_cell_16_layer_call_fn, lstm_cell_16_layer_call_and_return_conditional_losses, lstm_cell_17_layer_call_fn, lstm_cell_17_layer_call_and_return_conditional_losses, lstm_cell_19_layer_call_fn while saving (showing 5 of 20). These functions will not be directly callable after loading.\n"
     ]
    },
    {
     "name": "stdout",
     "output_type": "stream",
     "text": [
      "INFO:tensorflow:Assets written to: experiments\\ResLSTM_Dec17_22-33-03\\base_ckpts\\cp_22.ckpt\\assets\n"
     ]
    },
    {
     "name": "stderr",
     "output_type": "stream",
     "text": [
      "INFO:tensorflow:Assets written to: experiments\\ResLSTM_Dec17_22-33-03\\base_ckpts\\cp_22.ckpt\\assets\n"
     ]
    },
    {
     "name": "stdout",
     "output_type": "stream",
     "text": [
      "182/182 [==============================] - 84s 463ms/step - loss: 1.1255 - accuracy: 0.6146 - val_loss: 0.9002 - val_accuracy: 0.6806\n",
      "Epoch 23/500\n",
      "181/182 [============================>.] - ETA: 0s - loss: 1.1109 - accuracy: 0.6119"
     ]
    },
    {
     "name": "stderr",
     "output_type": "stream",
     "text": [
      "WARNING:absl:Function `_wrapped_model` contains input name(s) Input with unsupported characters which will be renamed to input in the SavedModel.\n",
      "WARNING:absl:Found untraced functions such as lstm_cell_16_layer_call_fn, lstm_cell_16_layer_call_and_return_conditional_losses, lstm_cell_17_layer_call_fn, lstm_cell_17_layer_call_and_return_conditional_losses, lstm_cell_19_layer_call_fn while saving (showing 5 of 20). These functions will not be directly callable after loading.\n"
     ]
    },
    {
     "name": "stdout",
     "output_type": "stream",
     "text": [
      "INFO:tensorflow:Assets written to: experiments\\ResLSTM_Dec17_22-33-03\\base_ckpts\\cp_23.ckpt\\assets\n"
     ]
    },
    {
     "name": "stderr",
     "output_type": "stream",
     "text": [
      "INFO:tensorflow:Assets written to: experiments\\ResLSTM_Dec17_22-33-03\\base_ckpts\\cp_23.ckpt\\assets\n"
     ]
    },
    {
     "name": "stdout",
     "output_type": "stream",
     "text": [
      "182/182 [==============================] - 82s 452ms/step - loss: 1.1107 - accuracy: 0.6119 - val_loss: 0.9116 - val_accuracy: 0.6827\n",
      "Epoch 24/500\n",
      "182/182 [==============================] - 14s 74ms/step - loss: 1.1018 - accuracy: 0.6181 - val_loss: 0.9007 - val_accuracy: 0.6722\n",
      "Epoch 25/500\n",
      "182/182 [==============================] - 14s 74ms/step - loss: 1.0953 - accuracy: 0.6219 - val_loss: 0.8931 - val_accuracy: 0.6743\n",
      "Epoch 26/500\n",
      "182/182 [==============================] - 14s 74ms/step - loss: 1.0987 - accuracy: 0.6186 - val_loss: 0.8819 - val_accuracy: 0.6722\n",
      "Epoch 27/500\n",
      "181/182 [============================>.] - ETA: 0s - loss: 1.0924 - accuracy: 0.6244"
     ]
    },
    {
     "name": "stderr",
     "output_type": "stream",
     "text": [
      "WARNING:absl:Function `_wrapped_model` contains input name(s) Input with unsupported characters which will be renamed to input in the SavedModel.\n",
      "WARNING:absl:Found untraced functions such as lstm_cell_16_layer_call_fn, lstm_cell_16_layer_call_and_return_conditional_losses, lstm_cell_17_layer_call_fn, lstm_cell_17_layer_call_and_return_conditional_losses, lstm_cell_19_layer_call_fn while saving (showing 5 of 20). These functions will not be directly callable after loading.\n"
     ]
    },
    {
     "name": "stdout",
     "output_type": "stream",
     "text": [
      "INFO:tensorflow:Assets written to: experiments\\ResLSTM_Dec17_22-33-03\\base_ckpts\\cp_27.ckpt\\assets\n"
     ]
    },
    {
     "name": "stderr",
     "output_type": "stream",
     "text": [
      "INFO:tensorflow:Assets written to: experiments\\ResLSTM_Dec17_22-33-03\\base_ckpts\\cp_27.ckpt\\assets\n"
     ]
    },
    {
     "name": "stdout",
     "output_type": "stream",
     "text": [
      "182/182 [==============================] - 83s 458ms/step - loss: 1.0925 - accuracy: 0.6244 - val_loss: 0.8944 - val_accuracy: 0.6848\n",
      "Epoch 28/500\n",
      "182/182 [==============================] - 14s 74ms/step - loss: 1.0891 - accuracy: 0.6215 - val_loss: 0.8975 - val_accuracy: 0.6764\n",
      "Epoch 29/500\n",
      "182/182 [==============================] - 13s 73ms/step - loss: 1.0855 - accuracy: 0.6187 - val_loss: 0.8908 - val_accuracy: 0.6785\n",
      "Epoch 30/500\n",
      "182/182 [==============================] - 14s 74ms/step - loss: 1.0761 - accuracy: 0.6296 - val_loss: 0.8918 - val_accuracy: 0.6764\n",
      "Epoch 31/500\n",
      "181/182 [============================>.] - ETA: 0s - loss: 1.0668 - accuracy: 0.6287"
     ]
    },
    {
     "name": "stderr",
     "output_type": "stream",
     "text": [
      "WARNING:absl:Function `_wrapped_model` contains input name(s) Input with unsupported characters which will be renamed to input in the SavedModel.\n",
      "WARNING:absl:Found untraced functions such as lstm_cell_16_layer_call_fn, lstm_cell_16_layer_call_and_return_conditional_losses, lstm_cell_17_layer_call_fn, lstm_cell_17_layer_call_and_return_conditional_losses, lstm_cell_19_layer_call_fn while saving (showing 5 of 20). These functions will not be directly callable after loading.\n"
     ]
    },
    {
     "name": "stdout",
     "output_type": "stream",
     "text": [
      "INFO:tensorflow:Assets written to: experiments\\ResLSTM_Dec17_22-33-03\\base_ckpts\\cp_31.ckpt\\assets\n"
     ]
    },
    {
     "name": "stderr",
     "output_type": "stream",
     "text": [
      "INFO:tensorflow:Assets written to: experiments\\ResLSTM_Dec17_22-33-03\\base_ckpts\\cp_31.ckpt\\assets\n"
     ]
    },
    {
     "name": "stdout",
     "output_type": "stream",
     "text": [
      "182/182 [==============================] - 84s 465ms/step - loss: 1.0672 - accuracy: 0.6286 - val_loss: 0.8824 - val_accuracy: 0.6868\n",
      "Epoch 32/500\n",
      "181/182 [============================>.] - ETA: 0s - loss: 1.0650 - accuracy: 0.6310"
     ]
    },
    {
     "name": "stderr",
     "output_type": "stream",
     "text": [
      "WARNING:absl:Function `_wrapped_model` contains input name(s) Input with unsupported characters which will be renamed to input in the SavedModel.\n",
      "WARNING:absl:Found untraced functions such as lstm_cell_16_layer_call_fn, lstm_cell_16_layer_call_and_return_conditional_losses, lstm_cell_17_layer_call_fn, lstm_cell_17_layer_call_and_return_conditional_losses, lstm_cell_19_layer_call_fn while saving (showing 5 of 20). These functions will not be directly callable after loading.\n"
     ]
    },
    {
     "name": "stdout",
     "output_type": "stream",
     "text": [
      "INFO:tensorflow:Assets written to: experiments\\ResLSTM_Dec17_22-33-03\\base_ckpts\\cp_32.ckpt\\assets\n"
     ]
    },
    {
     "name": "stderr",
     "output_type": "stream",
     "text": [
      "INFO:tensorflow:Assets written to: experiments\\ResLSTM_Dec17_22-33-03\\base_ckpts\\cp_32.ckpt\\assets\n"
     ]
    },
    {
     "name": "stdout",
     "output_type": "stream",
     "text": [
      "182/182 [==============================] - 85s 469ms/step - loss: 1.0645 - accuracy: 0.6312 - val_loss: 0.8892 - val_accuracy: 0.6889\n",
      "Epoch 33/500\n",
      "182/182 [==============================] - 14s 74ms/step - loss: 1.0580 - accuracy: 0.6303 - val_loss: 0.8699 - val_accuracy: 0.6889\n",
      "Epoch 34/500\n",
      "182/182 [==============================] - 13s 74ms/step - loss: 1.0621 - accuracy: 0.6296 - val_loss: 0.8815 - val_accuracy: 0.6681\n",
      "Epoch 35/500\n",
      "182/182 [==============================] - 14s 75ms/step - loss: 1.0481 - accuracy: 0.6399 - val_loss: 0.8621 - val_accuracy: 0.6848\n",
      "Epoch 36/500\n",
      "181/182 [============================>.] - ETA: 0s - loss: 1.0454 - accuracy: 0.6348"
     ]
    },
    {
     "name": "stderr",
     "output_type": "stream",
     "text": [
      "WARNING:absl:Function `_wrapped_model` contains input name(s) Input with unsupported characters which will be renamed to input in the SavedModel.\n",
      "WARNING:absl:Found untraced functions such as lstm_cell_16_layer_call_fn, lstm_cell_16_layer_call_and_return_conditional_losses, lstm_cell_17_layer_call_fn, lstm_cell_17_layer_call_and_return_conditional_losses, lstm_cell_19_layer_call_fn while saving (showing 5 of 20). These functions will not be directly callable after loading.\n"
     ]
    },
    {
     "name": "stdout",
     "output_type": "stream",
     "text": [
      "INFO:tensorflow:Assets written to: experiments\\ResLSTM_Dec17_22-33-03\\base_ckpts\\cp_36.ckpt\\assets\n"
     ]
    },
    {
     "name": "stderr",
     "output_type": "stream",
     "text": [
      "INFO:tensorflow:Assets written to: experiments\\ResLSTM_Dec17_22-33-03\\base_ckpts\\cp_36.ckpt\\assets\n"
     ]
    },
    {
     "name": "stdout",
     "output_type": "stream",
     "text": [
      "182/182 [==============================] - 82s 455ms/step - loss: 1.0462 - accuracy: 0.6347 - val_loss: 0.8829 - val_accuracy: 0.6994\n",
      "Epoch 37/500\n",
      "182/182 [==============================] - 14s 73ms/step - loss: 1.0410 - accuracy: 0.6350 - val_loss: 0.8793 - val_accuracy: 0.6952\n",
      "Epoch 38/500\n",
      "181/182 [============================>.] - ETA: 0s - loss: 1.0502 - accuracy: 0.6380"
     ]
    },
    {
     "name": "stderr",
     "output_type": "stream",
     "text": [
      "WARNING:absl:Function `_wrapped_model` contains input name(s) Input with unsupported characters which will be renamed to input in the SavedModel.\n",
      "WARNING:absl:Found untraced functions such as lstm_cell_16_layer_call_fn, lstm_cell_16_layer_call_and_return_conditional_losses, lstm_cell_17_layer_call_fn, lstm_cell_17_layer_call_and_return_conditional_losses, lstm_cell_19_layer_call_fn while saving (showing 5 of 20). These functions will not be directly callable after loading.\n"
     ]
    },
    {
     "name": "stdout",
     "output_type": "stream",
     "text": [
      "INFO:tensorflow:Assets written to: experiments\\ResLSTM_Dec17_22-33-03\\base_ckpts\\cp_38.ckpt\\assets\n"
     ]
    },
    {
     "name": "stderr",
     "output_type": "stream",
     "text": [
      "INFO:tensorflow:Assets written to: experiments\\ResLSTM_Dec17_22-33-03\\base_ckpts\\cp_38.ckpt\\assets\n"
     ]
    },
    {
     "name": "stdout",
     "output_type": "stream",
     "text": [
      "182/182 [==============================] - 83s 459ms/step - loss: 1.0500 - accuracy: 0.6381 - val_loss: 0.8721 - val_accuracy: 0.7056\n",
      "Epoch 39/500\n",
      "182/182 [==============================] - 14s 73ms/step - loss: 1.0318 - accuracy: 0.6454 - val_loss: 0.8774 - val_accuracy: 0.6952\n",
      "Epoch 40/500\n",
      "182/182 [==============================] - 14s 74ms/step - loss: 1.0309 - accuracy: 0.6413 - val_loss: 0.8403 - val_accuracy: 0.6931\n",
      "Epoch 41/500\n",
      "182/182 [==============================] - 13s 74ms/step - loss: 1.0333 - accuracy: 0.6448 - val_loss: 0.8451 - val_accuracy: 0.7056\n",
      "Epoch 42/500\n",
      "182/182 [==============================] - 13s 73ms/step - loss: 1.0320 - accuracy: 0.6448 - val_loss: 0.8583 - val_accuracy: 0.6785\n",
      "Epoch 43/500\n",
      "182/182 [==============================] - 14s 74ms/step - loss: 1.0138 - accuracy: 0.6456 - val_loss: 0.8791 - val_accuracy: 0.6994\n",
      "Epoch 44/500\n",
      "182/182 [==============================] - 13s 74ms/step - loss: 1.0262 - accuracy: 0.6419 - val_loss: 0.8580 - val_accuracy: 0.7035\n",
      "Epoch 45/500\n",
      "182/182 [==============================] - 13s 74ms/step - loss: 1.0055 - accuracy: 0.6528 - val_loss: 0.8590 - val_accuracy: 0.6931\n",
      "Epoch 46/500\n",
      "182/182 [==============================] - 13s 74ms/step - loss: 1.0235 - accuracy: 0.6481 - val_loss: 0.8587 - val_accuracy: 0.6952\n",
      "Epoch 47/500\n",
      "182/182 [==============================] - 14s 74ms/step - loss: 1.0235 - accuracy: 0.6471 - val_loss: 0.8640 - val_accuracy: 0.6952\n",
      "Epoch 48/500\n",
      "182/182 [==============================] - 14s 74ms/step - loss: 1.0048 - accuracy: 0.6492 - val_loss: 0.8403 - val_accuracy: 0.6910\n",
      "Epoch 49/500\n",
      "182/182 [==============================] - 13s 73ms/step - loss: 1.0017 - accuracy: 0.6495 - val_loss: 0.8487 - val_accuracy: 0.6973\n",
      "Epoch 50/500\n",
      "182/182 [==============================] - 14s 74ms/step - loss: 1.0051 - accuracy: 0.6553 - val_loss: 0.8574 - val_accuracy: 0.6868\n",
      "Epoch 51/500\n",
      "182/182 [==============================] - 14s 74ms/step - loss: 1.0098 - accuracy: 0.6449 - val_loss: 0.8529 - val_accuracy: 0.6952\n",
      "Epoch 52/500\n",
      "182/182 [==============================] - 14s 74ms/step - loss: 0.9922 - accuracy: 0.6562 - val_loss: 0.8481 - val_accuracy: 0.6994\n",
      "Epoch 53/500\n",
      "182/182 [==============================] - 14s 75ms/step - loss: 0.9981 - accuracy: 0.6528 - val_loss: 0.8747 - val_accuracy: 0.7035\n",
      "Epoch 54/500\n",
      "182/182 [==============================] - 14s 75ms/step - loss: 0.9937 - accuracy: 0.6542 - val_loss: 0.8527 - val_accuracy: 0.6994\n",
      "Epoch 55/500\n",
      "182/182 [==============================] - 14s 74ms/step - loss: 0.9843 - accuracy: 0.6592 - val_loss: 0.8705 - val_accuracy: 0.7035\n",
      "Epoch 56/500\n",
      "181/182 [============================>.] - ETA: 0s - loss: 0.9804 - accuracy: 0.6597"
     ]
    },
    {
     "name": "stderr",
     "output_type": "stream",
     "text": [
      "WARNING:absl:Function `_wrapped_model` contains input name(s) Input with unsupported characters which will be renamed to input in the SavedModel.\n",
      "WARNING:absl:Found untraced functions such as lstm_cell_16_layer_call_fn, lstm_cell_16_layer_call_and_return_conditional_losses, lstm_cell_17_layer_call_fn, lstm_cell_17_layer_call_and_return_conditional_losses, lstm_cell_19_layer_call_fn while saving (showing 5 of 20). These functions will not be directly callable after loading.\n"
     ]
    },
    {
     "name": "stdout",
     "output_type": "stream",
     "text": [
      "INFO:tensorflow:Assets written to: experiments\\ResLSTM_Dec17_22-33-03\\base_ckpts\\cp_56.ckpt\\assets\n"
     ]
    },
    {
     "name": "stderr",
     "output_type": "stream",
     "text": [
      "INFO:tensorflow:Assets written to: experiments\\ResLSTM_Dec17_22-33-03\\base_ckpts\\cp_56.ckpt\\assets\n"
     ]
    },
    {
     "name": "stdout",
     "output_type": "stream",
     "text": [
      "182/182 [==============================] - 82s 454ms/step - loss: 0.9805 - accuracy: 0.6598 - val_loss: 0.8369 - val_accuracy: 0.7161\n",
      "Epoch 57/500\n",
      "182/182 [==============================] - 13s 72ms/step - loss: 0.9742 - accuracy: 0.6604 - val_loss: 0.8428 - val_accuracy: 0.7077\n",
      "Epoch 58/500\n",
      "182/182 [==============================] - 13s 74ms/step - loss: 0.9804 - accuracy: 0.6599 - val_loss: 0.8375 - val_accuracy: 0.7077\n",
      "Epoch 59/500\n",
      "182/182 [==============================] - 13s 74ms/step - loss: 0.9641 - accuracy: 0.6658 - val_loss: 0.8716 - val_accuracy: 0.7077\n",
      "Epoch 60/500\n",
      "182/182 [==============================] - 13s 74ms/step - loss: 0.9698 - accuracy: 0.6623 - val_loss: 0.8506 - val_accuracy: 0.7015\n",
      "Epoch 61/500\n",
      "182/182 [==============================] - 14s 74ms/step - loss: 0.9669 - accuracy: 0.6661 - val_loss: 0.8649 - val_accuracy: 0.7035\n",
      "Epoch 62/500\n",
      "181/182 [============================>.] - ETA: 0s - loss: 0.9679 - accuracy: 0.6629"
     ]
    },
    {
     "name": "stderr",
     "output_type": "stream",
     "text": [
      "WARNING:absl:Function `_wrapped_model` contains input name(s) Input with unsupported characters which will be renamed to input in the SavedModel.\n",
      "WARNING:absl:Found untraced functions such as lstm_cell_16_layer_call_fn, lstm_cell_16_layer_call_and_return_conditional_losses, lstm_cell_17_layer_call_fn, lstm_cell_17_layer_call_and_return_conditional_losses, lstm_cell_19_layer_call_fn while saving (showing 5 of 20). These functions will not be directly callable after loading.\n"
     ]
    },
    {
     "name": "stdout",
     "output_type": "stream",
     "text": [
      "INFO:tensorflow:Assets written to: experiments\\ResLSTM_Dec17_22-33-03\\base_ckpts\\cp_62.ckpt\\assets\n"
     ]
    },
    {
     "name": "stderr",
     "output_type": "stream",
     "text": [
      "INFO:tensorflow:Assets written to: experiments\\ResLSTM_Dec17_22-33-03\\base_ckpts\\cp_62.ckpt\\assets\n"
     ]
    },
    {
     "name": "stdout",
     "output_type": "stream",
     "text": [
      "182/182 [==============================] - 84s 462ms/step - loss: 0.9675 - accuracy: 0.6631 - val_loss: 0.8357 - val_accuracy: 0.7223\n",
      "Epoch 63/500\n",
      "182/182 [==============================] - 13s 73ms/step - loss: 0.9432 - accuracy: 0.6739 - val_loss: 0.8550 - val_accuracy: 0.7140\n",
      "Epoch 64/500\n",
      "182/182 [==============================] - 14s 75ms/step - loss: 0.9545 - accuracy: 0.6689 - val_loss: 0.8430 - val_accuracy: 0.7161\n",
      "Epoch 65/500\n",
      "182/182 [==============================] - 14s 75ms/step - loss: 0.9628 - accuracy: 0.6668 - val_loss: 0.8425 - val_accuracy: 0.7119\n",
      "Epoch 66/500\n",
      "182/182 [==============================] - 14s 74ms/step - loss: 0.9499 - accuracy: 0.6715 - val_loss: 0.8579 - val_accuracy: 0.7119\n",
      "Epoch 67/500\n",
      "182/182 [==============================] - 14s 75ms/step - loss: 0.9499 - accuracy: 0.6728 - val_loss: 0.8631 - val_accuracy: 0.6994\n",
      "Epoch 68/500\n",
      "182/182 [==============================] - 14s 75ms/step - loss: 0.9539 - accuracy: 0.6649 - val_loss: 0.8434 - val_accuracy: 0.7140\n",
      "Epoch 69/500\n",
      "182/182 [==============================] - 14s 75ms/step - loss: 0.9355 - accuracy: 0.6745 - val_loss: 0.8830 - val_accuracy: 0.7119\n",
      "Epoch 70/500\n",
      "182/182 [==============================] - 13s 74ms/step - loss: 0.9384 - accuracy: 0.6746 - val_loss: 0.8825 - val_accuracy: 0.6931\n",
      "Epoch 71/500\n",
      "182/182 [==============================] - 13s 74ms/step - loss: 0.9295 - accuracy: 0.6781 - val_loss: 0.8907 - val_accuracy: 0.6973\n",
      "Epoch 72/500\n",
      "182/182 [==============================] - 13s 74ms/step - loss: 0.9538 - accuracy: 0.6639 - val_loss: 0.8427 - val_accuracy: 0.7182\n",
      "Epoch 73/500\n",
      "181/182 [============================>.] - ETA: 0s - loss: 0.9306 - accuracy: 0.6791"
     ]
    },
    {
     "name": "stderr",
     "output_type": "stream",
     "text": [
      "WARNING:absl:Function `_wrapped_model` contains input name(s) Input with unsupported characters which will be renamed to input in the SavedModel.\n",
      "WARNING:absl:Found untraced functions such as lstm_cell_16_layer_call_fn, lstm_cell_16_layer_call_and_return_conditional_losses, lstm_cell_17_layer_call_fn, lstm_cell_17_layer_call_and_return_conditional_losses, lstm_cell_19_layer_call_fn while saving (showing 5 of 20). These functions will not be directly callable after loading.\n"
     ]
    },
    {
     "name": "stdout",
     "output_type": "stream",
     "text": [
      "INFO:tensorflow:Assets written to: experiments\\ResLSTM_Dec17_22-33-03\\base_ckpts\\cp_73.ckpt\\assets\n"
     ]
    },
    {
     "name": "stderr",
     "output_type": "stream",
     "text": [
      "INFO:tensorflow:Assets written to: experiments\\ResLSTM_Dec17_22-33-03\\base_ckpts\\cp_73.ckpt\\assets\n"
     ]
    },
    {
     "name": "stdout",
     "output_type": "stream",
     "text": [
      "182/182 [==============================] - 90s 499ms/step - loss: 0.9307 - accuracy: 0.6791 - val_loss: 0.8220 - val_accuracy: 0.7265\n",
      "Epoch 74/500\n",
      "182/182 [==============================] - 14s 74ms/step - loss: 0.9282 - accuracy: 0.6764 - val_loss: 0.8296 - val_accuracy: 0.7098\n",
      "Epoch 75/500\n",
      "182/182 [==============================] - 14s 74ms/step - loss: 0.9399 - accuracy: 0.6751 - val_loss: 0.8141 - val_accuracy: 0.7223\n",
      "Epoch 76/500\n",
      "182/182 [==============================] - 14s 76ms/step - loss: 0.9339 - accuracy: 0.6724 - val_loss: 0.8167 - val_accuracy: 0.7203\n",
      "Epoch 77/500\n",
      "182/182 [==============================] - 14s 75ms/step - loss: 0.9245 - accuracy: 0.6806 - val_loss: 0.8433 - val_accuracy: 0.7098\n",
      "Epoch 78/500\n",
      "182/182 [==============================] - 14s 75ms/step - loss: 0.9189 - accuracy: 0.6779 - val_loss: 0.8464 - val_accuracy: 0.6973\n",
      "Epoch 79/500\n",
      "182/182 [==============================] - 14s 75ms/step - loss: 0.9221 - accuracy: 0.6761 - val_loss: 0.8442 - val_accuracy: 0.7015\n",
      "Epoch 80/500\n",
      "182/182 [==============================] - 14s 74ms/step - loss: 0.9021 - accuracy: 0.6865 - val_loss: 0.8701 - val_accuracy: 0.6994\n",
      "Epoch 81/500\n",
      "182/182 [==============================] - 14s 75ms/step - loss: 0.9151 - accuracy: 0.6812 - val_loss: 0.8499 - val_accuracy: 0.7035\n",
      "Epoch 82/500\n",
      "182/182 [==============================] - 14s 75ms/step - loss: 0.9232 - accuracy: 0.6810 - val_loss: 0.8408 - val_accuracy: 0.7244\n",
      "Epoch 83/500\n",
      "182/182 [==============================] - 14s 75ms/step - loss: 0.9132 - accuracy: 0.6796 - val_loss: 0.8423 - val_accuracy: 0.7119\n",
      "Epoch 84/500\n",
      "182/182 [==============================] - 14s 75ms/step - loss: 0.9080 - accuracy: 0.6845 - val_loss: 0.8305 - val_accuracy: 0.7203\n",
      "Epoch 85/500\n",
      "182/182 [==============================] - 14s 75ms/step - loss: 0.8960 - accuracy: 0.6896 - val_loss: 0.8519 - val_accuracy: 0.7035\n",
      "Epoch 86/500\n",
      "182/182 [==============================] - 14s 79ms/step - loss: 0.9111 - accuracy: 0.6819 - val_loss: 0.8295 - val_accuracy: 0.7223\n",
      "Epoch 87/500\n",
      "182/182 [==============================] - 14s 75ms/step - loss: 0.9092 - accuracy: 0.6806 - val_loss: 0.8584 - val_accuracy: 0.7098\n",
      "Epoch 88/500\n",
      "182/182 [==============================] - 14s 75ms/step - loss: 0.8976 - accuracy: 0.6850 - val_loss: 0.8554 - val_accuracy: 0.7077\n",
      "Epoch 89/500\n",
      "182/182 [==============================] - 14s 75ms/step - loss: 0.8990 - accuracy: 0.6888 - val_loss: 0.8308 - val_accuracy: 0.7161\n",
      "Epoch 90/500\n",
      "182/182 [==============================] - 14s 75ms/step - loss: 0.8946 - accuracy: 0.6925 - val_loss: 0.8645 - val_accuracy: 0.6868\n",
      "Epoch 91/500\n",
      "182/182 [==============================] - 14s 77ms/step - loss: 0.8884 - accuracy: 0.6947 - val_loss: 0.8660 - val_accuracy: 0.6994\n",
      "Epoch 92/500\n",
      "182/182 [==============================] - 14s 76ms/step - loss: 0.8865 - accuracy: 0.6935 - val_loss: 0.8401 - val_accuracy: 0.7182\n",
      "Epoch 93/500\n",
      "182/182 [==============================] - 14s 74ms/step - loss: 0.8923 - accuracy: 0.6922 - val_loss: 0.8639 - val_accuracy: 0.7098\n",
      "Epoch 94/500\n",
      "182/182 [==============================] - 13s 73ms/step - loss: 0.8816 - accuracy: 0.6976 - val_loss: 0.8540 - val_accuracy: 0.7161\n",
      "Epoch 95/500\n",
      "182/182 [==============================] - 14s 74ms/step - loss: 0.8857 - accuracy: 0.6978 - val_loss: 0.8702 - val_accuracy: 0.7161\n",
      "Epoch 96/500\n",
      "182/182 [==============================] - 14s 75ms/step - loss: 0.8917 - accuracy: 0.6919 - val_loss: 0.8654 - val_accuracy: 0.7035\n",
      "Epoch 97/500\n",
      "181/182 [============================>.] - ETA: 0s - loss: 0.8793 - accuracy: 0.6942"
     ]
    },
    {
     "name": "stderr",
     "output_type": "stream",
     "text": [
      "WARNING:absl:Function `_wrapped_model` contains input name(s) Input with unsupported characters which will be renamed to input in the SavedModel.\n",
      "WARNING:absl:Found untraced functions such as lstm_cell_16_layer_call_fn, lstm_cell_16_layer_call_and_return_conditional_losses, lstm_cell_17_layer_call_fn, lstm_cell_17_layer_call_and_return_conditional_losses, lstm_cell_19_layer_call_fn while saving (showing 5 of 20). These functions will not be directly callable after loading.\n"
     ]
    },
    {
     "name": "stdout",
     "output_type": "stream",
     "text": [
      "INFO:tensorflow:Assets written to: experiments\\ResLSTM_Dec17_22-33-03\\base_ckpts\\cp_97.ckpt\\assets\n"
     ]
    },
    {
     "name": "stderr",
     "output_type": "stream",
     "text": [
      "INFO:tensorflow:Assets written to: experiments\\ResLSTM_Dec17_22-33-03\\base_ckpts\\cp_97.ckpt\\assets\n"
     ]
    },
    {
     "name": "stdout",
     "output_type": "stream",
     "text": [
      "182/182 [==============================] - 83s 458ms/step - loss: 0.8790 - accuracy: 0.6944 - val_loss: 0.8944 - val_accuracy: 0.7307\n",
      "Epoch 98/500\n",
      "182/182 [==============================] - 14s 74ms/step - loss: 0.8959 - accuracy: 0.6902 - val_loss: 0.9243 - val_accuracy: 0.7015\n",
      "Epoch 99/500\n",
      "182/182 [==============================] - 14s 75ms/step - loss: 0.8909 - accuracy: 0.6938 - val_loss: 0.8623 - val_accuracy: 0.7161\n",
      "Epoch 100/500\n",
      "181/182 [============================>.] - ETA: 0s - loss: 0.8698 - accuracy: 0.6956"
     ]
    },
    {
     "name": "stderr",
     "output_type": "stream",
     "text": [
      "WARNING:absl:Function `_wrapped_model` contains input name(s) Input with unsupported characters which will be renamed to input in the SavedModel.\n",
      "WARNING:absl:Found untraced functions such as lstm_cell_16_layer_call_fn, lstm_cell_16_layer_call_and_return_conditional_losses, lstm_cell_17_layer_call_fn, lstm_cell_17_layer_call_and_return_conditional_losses, lstm_cell_19_layer_call_fn while saving (showing 5 of 20). These functions will not be directly callable after loading.\n"
     ]
    },
    {
     "name": "stdout",
     "output_type": "stream",
     "text": [
      "INFO:tensorflow:Assets written to: experiments\\ResLSTM_Dec17_22-33-03\\base_ckpts\\cp_100.ckpt\\assets\n"
     ]
    },
    {
     "name": "stderr",
     "output_type": "stream",
     "text": [
      "INFO:tensorflow:Assets written to: experiments\\ResLSTM_Dec17_22-33-03\\base_ckpts\\cp_100.ckpt\\assets\n"
     ]
    },
    {
     "name": "stdout",
     "output_type": "stream",
     "text": [
      "182/182 [==============================] - 84s 462ms/step - loss: 0.8698 - accuracy: 0.6957 - val_loss: 0.9191 - val_accuracy: 0.7328\n",
      "Epoch 101/500\n",
      "182/182 [==============================] - 14s 75ms/step - loss: 0.8754 - accuracy: 0.6942 - val_loss: 0.8566 - val_accuracy: 0.7265\n",
      "Epoch 102/500\n",
      "182/182 [==============================] - 14s 75ms/step - loss: 0.8723 - accuracy: 0.6963 - val_loss: 0.8719 - val_accuracy: 0.7119\n",
      "Epoch 103/500\n",
      "182/182 [==============================] - 14s 75ms/step - loss: 0.8672 - accuracy: 0.6988 - val_loss: 0.8747 - val_accuracy: 0.7098\n",
      "Epoch 104/500\n",
      "182/182 [==============================] - 14s 75ms/step - loss: 0.8659 - accuracy: 0.7019 - val_loss: 0.8498 - val_accuracy: 0.7223\n",
      "Epoch 105/500\n",
      "182/182 [==============================] - 14s 75ms/step - loss: 0.8583 - accuracy: 0.7001 - val_loss: 0.9115 - val_accuracy: 0.7182\n",
      "Epoch 106/500\n",
      "182/182 [==============================] - 14s 75ms/step - loss: 0.8639 - accuracy: 0.6988 - val_loss: 0.8383 - val_accuracy: 0.7223\n",
      "Epoch 107/500\n",
      "182/182 [==============================] - 14s 74ms/step - loss: 0.8664 - accuracy: 0.6975 - val_loss: 0.8766 - val_accuracy: 0.7119\n",
      "Epoch 108/500\n",
      "182/182 [==============================] - 14s 75ms/step - loss: 0.8618 - accuracy: 0.6969 - val_loss: 0.9273 - val_accuracy: 0.7056\n",
      "Epoch 109/500\n",
      "182/182 [==============================] - 14s 75ms/step - loss: 0.8627 - accuracy: 0.7018 - val_loss: 0.9016 - val_accuracy: 0.7015\n",
      "Epoch 110/500\n",
      "182/182 [==============================] - ETA: 0s - loss: 0.8537 - accuracy: 0.6949"
     ]
    },
    {
     "name": "stderr",
     "output_type": "stream",
     "text": [
      "WARNING:absl:Function `_wrapped_model` contains input name(s) Input with unsupported characters which will be renamed to input in the SavedModel.\n",
      "WARNING:absl:Found untraced functions such as lstm_cell_16_layer_call_fn, lstm_cell_16_layer_call_and_return_conditional_losses, lstm_cell_17_layer_call_fn, lstm_cell_17_layer_call_and_return_conditional_losses, lstm_cell_19_layer_call_fn while saving (showing 5 of 20). These functions will not be directly callable after loading.\n"
     ]
    },
    {
     "name": "stdout",
     "output_type": "stream",
     "text": [
      "INFO:tensorflow:Assets written to: experiments\\ResLSTM_Dec17_22-33-03\\base_ckpts\\cp_110.ckpt\\assets\n"
     ]
    },
    {
     "name": "stderr",
     "output_type": "stream",
     "text": [
      "INFO:tensorflow:Assets written to: experiments\\ResLSTM_Dec17_22-33-03\\base_ckpts\\cp_110.ckpt\\assets\n"
     ]
    },
    {
     "name": "stdout",
     "output_type": "stream",
     "text": [
      "182/182 [==============================] - 86s 476ms/step - loss: 0.8537 - accuracy: 0.6949 - val_loss: 0.8746 - val_accuracy: 0.7349\n",
      "Epoch 111/500\n",
      "182/182 [==============================] - 14s 75ms/step - loss: 0.8616 - accuracy: 0.7013 - val_loss: 0.8895 - val_accuracy: 0.7056\n",
      "Epoch 112/500\n",
      "182/182 [==============================] - 14s 74ms/step - loss: 0.8524 - accuracy: 0.7017 - val_loss: 0.9088 - val_accuracy: 0.7056\n",
      "Epoch 113/500\n",
      "182/182 [==============================] - 14s 75ms/step - loss: 0.8553 - accuracy: 0.6994 - val_loss: 0.8720 - val_accuracy: 0.7223\n",
      "Epoch 114/500\n",
      "182/182 [==============================] - 14s 75ms/step - loss: 0.8688 - accuracy: 0.6963 - val_loss: 0.9084 - val_accuracy: 0.7161\n",
      "Epoch 115/500\n",
      "182/182 [==============================] - 14s 74ms/step - loss: 0.8595 - accuracy: 0.7011 - val_loss: 0.8921 - val_accuracy: 0.7056\n",
      "Epoch 116/500\n",
      "182/182 [==============================] - 14s 75ms/step - loss: 0.8619 - accuracy: 0.7076 - val_loss: 0.9229 - val_accuracy: 0.7182\n",
      "Epoch 117/500\n",
      "182/182 [==============================] - 14s 74ms/step - loss: 0.8534 - accuracy: 0.7029 - val_loss: 0.9156 - val_accuracy: 0.7098\n",
      "Epoch 118/500\n",
      "182/182 [==============================] - 14s 76ms/step - loss: 0.8461 - accuracy: 0.7029 - val_loss: 0.8869 - val_accuracy: 0.7182\n",
      "Epoch 119/500\n",
      "182/182 [==============================] - 13s 74ms/step - loss: 0.8345 - accuracy: 0.7114 - val_loss: 0.9376 - val_accuracy: 0.6994\n",
      "Epoch 120/500\n",
      "182/182 [==============================] - 14s 74ms/step - loss: 0.8427 - accuracy: 0.7056 - val_loss: 0.9499 - val_accuracy: 0.7223\n",
      "Epoch 121/500\n",
      "182/182 [==============================] - 14s 74ms/step - loss: 0.8446 - accuracy: 0.7038 - val_loss: 0.9121 - val_accuracy: 0.7077\n",
      "Epoch 122/500\n",
      "182/182 [==============================] - 13s 74ms/step - loss: 0.8284 - accuracy: 0.7124 - val_loss: 0.9344 - val_accuracy: 0.7035\n",
      "Epoch 123/500\n",
      "182/182 [==============================] - 14s 74ms/step - loss: 0.8341 - accuracy: 0.7104 - val_loss: 0.9915 - val_accuracy: 0.7056\n",
      "Epoch 124/500\n",
      "182/182 [==============================] - 13s 74ms/step - loss: 0.8297 - accuracy: 0.7112 - val_loss: 0.9188 - val_accuracy: 0.7056\n",
      "Epoch 125/500\n",
      "182/182 [==============================] - 14s 74ms/step - loss: 0.8363 - accuracy: 0.7111 - val_loss: 0.9390 - val_accuracy: 0.7161\n",
      "Epoch 126/500\n",
      "182/182 [==============================] - 14s 74ms/step - loss: 0.8396 - accuracy: 0.7097 - val_loss: 0.9299 - val_accuracy: 0.7244\n",
      "Epoch 127/500\n",
      "182/182 [==============================] - 14s 74ms/step - loss: 0.8292 - accuracy: 0.7126 - val_loss: 0.9484 - val_accuracy: 0.7223\n",
      "Epoch 128/500\n",
      "182/182 [==============================] - 14s 75ms/step - loss: 0.8351 - accuracy: 0.7089 - val_loss: 0.9265 - val_accuracy: 0.7182\n",
      "Epoch 129/500\n",
      "182/182 [==============================] - 13s 74ms/step - loss: 0.8435 - accuracy: 0.7074 - val_loss: 0.9434 - val_accuracy: 0.7265\n",
      "Epoch 130/500\n",
      "182/182 [==============================] - 14s 74ms/step - loss: 0.8333 - accuracy: 0.7095 - val_loss: 0.9316 - val_accuracy: 0.7119\n",
      "Epoch 131/500\n",
      "182/182 [==============================] - 14s 75ms/step - loss: 0.8258 - accuracy: 0.7142 - val_loss: 0.9529 - val_accuracy: 0.7244\n",
      "Epoch 132/500\n",
      "182/182 [==============================] - 14s 75ms/step - loss: 0.8395 - accuracy: 0.7055 - val_loss: 0.8977 - val_accuracy: 0.7119\n",
      "Epoch 133/500\n",
      "182/182 [==============================] - 14s 74ms/step - loss: 0.8340 - accuracy: 0.7057 - val_loss: 0.9248 - val_accuracy: 0.7015\n",
      "Epoch 134/500\n",
      "182/182 [==============================] - 14s 74ms/step - loss: 0.8232 - accuracy: 0.7149 - val_loss: 0.9153 - val_accuracy: 0.6973\n",
      "Epoch 135/500\n",
      "182/182 [==============================] - 14s 74ms/step - loss: 0.8323 - accuracy: 0.7130 - val_loss: 0.9274 - val_accuracy: 0.7077\n",
      "Epoch 136/500\n",
      "182/182 [==============================] - 14s 75ms/step - loss: 0.8137 - accuracy: 0.7158 - val_loss: 0.9376 - val_accuracy: 0.7182\n",
      "Epoch 137/500\n",
      "182/182 [==============================] - 14s 75ms/step - loss: 0.8277 - accuracy: 0.7139 - val_loss: 0.9147 - val_accuracy: 0.7223\n",
      "Epoch 138/500\n",
      "182/182 [==============================] - 14s 74ms/step - loss: 0.8275 - accuracy: 0.7095 - val_loss: 0.9514 - val_accuracy: 0.7182\n",
      "Epoch 139/500\n",
      "182/182 [==============================] - 14s 74ms/step - loss: 0.8188 - accuracy: 0.7110 - val_loss: 0.9280 - val_accuracy: 0.7182\n",
      "Epoch 140/500\n",
      "182/182 [==============================] - 14s 74ms/step - loss: 0.8238 - accuracy: 0.7125 - val_loss: 0.9382 - val_accuracy: 0.7182\n",
      "Epoch 141/500\n",
      "182/182 [==============================] - 13s 74ms/step - loss: 0.8103 - accuracy: 0.7170 - val_loss: 0.9381 - val_accuracy: 0.7265\n",
      "Epoch 142/500\n",
      "182/182 [==============================] - 14s 75ms/step - loss: 0.8264 - accuracy: 0.7094 - val_loss: 0.9732 - val_accuracy: 0.7056\n",
      "Epoch 143/500\n",
      "182/182 [==============================] - 14s 75ms/step - loss: 0.8093 - accuracy: 0.7189 - val_loss: 1.0286 - val_accuracy: 0.7056\n",
      "Epoch 144/500\n",
      "182/182 [==============================] - 14s 77ms/step - loss: 0.8128 - accuracy: 0.7178 - val_loss: 0.9661 - val_accuracy: 0.7182\n",
      "Epoch 145/500\n",
      "182/182 [==============================] - 14s 76ms/step - loss: 0.8196 - accuracy: 0.7213 - val_loss: 0.9700 - val_accuracy: 0.7203\n",
      "Epoch 146/500\n",
      "182/182 [==============================] - 14s 75ms/step - loss: 0.8120 - accuracy: 0.7173 - val_loss: 0.9388 - val_accuracy: 0.7203\n",
      "Epoch 147/500\n",
      "182/182 [==============================] - 14s 76ms/step - loss: 0.8004 - accuracy: 0.7211 - val_loss: 0.9614 - val_accuracy: 0.7140\n",
      "Epoch 148/500\n",
      "182/182 [==============================] - 14s 75ms/step - loss: 0.8096 - accuracy: 0.7200 - val_loss: 0.9665 - val_accuracy: 0.7161\n",
      "Epoch 149/500\n",
      "182/182 [==============================] - 14s 75ms/step - loss: 0.8050 - accuracy: 0.7195 - val_loss: 0.9317 - val_accuracy: 0.7140\n",
      "Epoch 150/500\n",
      "182/182 [==============================] - 14s 76ms/step - loss: 0.8063 - accuracy: 0.7258 - val_loss: 0.9647 - val_accuracy: 0.7223\n",
      "Epoch 151/500\n",
      "182/182 [==============================] - 14s 76ms/step - loss: 0.7992 - accuracy: 0.7214 - val_loss: 0.9434 - val_accuracy: 0.7015\n",
      "Epoch 152/500\n",
      "182/182 [==============================] - 14s 74ms/step - loss: 0.8048 - accuracy: 0.7206 - val_loss: 0.9921 - val_accuracy: 0.7098\n",
      "Epoch 153/500\n",
      "182/182 [==============================] - 14s 74ms/step - loss: 0.8103 - accuracy: 0.7184 - val_loss: 0.9118 - val_accuracy: 0.7223\n",
      "Epoch 154/500\n",
      "182/182 [==============================] - 13s 73ms/step - loss: 0.8044 - accuracy: 0.7230 - val_loss: 0.9204 - val_accuracy: 0.7098\n",
      "Epoch 155/500\n",
      "182/182 [==============================] - 14s 74ms/step - loss: 0.7947 - accuracy: 0.7205 - val_loss: 0.9590 - val_accuracy: 0.7349\n",
      "Epoch 156/500\n",
      "182/182 [==============================] - 13s 74ms/step - loss: 0.8050 - accuracy: 0.7179 - val_loss: 0.9811 - val_accuracy: 0.7077\n",
      "Epoch 157/500\n",
      "182/182 [==============================] - 13s 74ms/step - loss: 0.7959 - accuracy: 0.7220 - val_loss: 0.9846 - val_accuracy: 0.7223\n",
      "Epoch 158/500\n",
      "181/182 [============================>.] - ETA: 0s - loss: 0.7838 - accuracy: 0.7262"
     ]
    },
    {
     "name": "stderr",
     "output_type": "stream",
     "text": [
      "WARNING:absl:Function `_wrapped_model` contains input name(s) Input with unsupported characters which will be renamed to input in the SavedModel.\n",
      "WARNING:absl:Found untraced functions such as lstm_cell_16_layer_call_fn, lstm_cell_16_layer_call_and_return_conditional_losses, lstm_cell_17_layer_call_fn, lstm_cell_17_layer_call_and_return_conditional_losses, lstm_cell_19_layer_call_fn while saving (showing 5 of 20). These functions will not be directly callable after loading.\n"
     ]
    },
    {
     "name": "stdout",
     "output_type": "stream",
     "text": [
      "INFO:tensorflow:Assets written to: experiments\\ResLSTM_Dec17_22-33-03\\base_ckpts\\cp_158.ckpt\\assets\n"
     ]
    },
    {
     "name": "stderr",
     "output_type": "stream",
     "text": [
      "INFO:tensorflow:Assets written to: experiments\\ResLSTM_Dec17_22-33-03\\base_ckpts\\cp_158.ckpt\\assets\n"
     ]
    },
    {
     "name": "stdout",
     "output_type": "stream",
     "text": [
      "182/182 [==============================] - 83s 459ms/step - loss: 0.7842 - accuracy: 0.7261 - val_loss: 0.9638 - val_accuracy: 0.7474\n",
      "Epoch 159/500\n",
      "182/182 [==============================] - 14s 74ms/step - loss: 0.8076 - accuracy: 0.7162 - val_loss: 0.9916 - val_accuracy: 0.7203\n",
      "Epoch 160/500\n",
      "182/182 [==============================] - 13s 74ms/step - loss: 0.7873 - accuracy: 0.7256 - val_loss: 1.0213 - val_accuracy: 0.6868\n",
      "Epoch 161/500\n",
      "182/182 [==============================] - 14s 74ms/step - loss: 0.7899 - accuracy: 0.7223 - val_loss: 0.9442 - val_accuracy: 0.7077\n",
      "Epoch 162/500\n",
      "182/182 [==============================] - 13s 74ms/step - loss: 0.8003 - accuracy: 0.7201 - val_loss: 0.9525 - val_accuracy: 0.7015\n",
      "Epoch 163/500\n",
      "182/182 [==============================] - 14s 74ms/step - loss: 0.7972 - accuracy: 0.7242 - val_loss: 0.9535 - val_accuracy: 0.7098\n",
      "Epoch 164/500\n",
      "182/182 [==============================] - 14s 74ms/step - loss: 0.7916 - accuracy: 0.7239 - val_loss: 0.9629 - val_accuracy: 0.7182\n",
      "Epoch 165/500\n",
      "182/182 [==============================] - 14s 74ms/step - loss: 0.7823 - accuracy: 0.7268 - val_loss: 0.9527 - val_accuracy: 0.7244\n",
      "Epoch 166/500\n",
      "182/182 [==============================] - 13s 73ms/step - loss: 0.7874 - accuracy: 0.7296 - val_loss: 0.9378 - val_accuracy: 0.7182\n",
      "Epoch 167/500\n",
      "182/182 [==============================] - 14s 74ms/step - loss: 0.7903 - accuracy: 0.7254 - val_loss: 0.9658 - val_accuracy: 0.7182\n",
      "Epoch 168/500\n",
      "182/182 [==============================] - 14s 74ms/step - loss: 0.7843 - accuracy: 0.7315 - val_loss: 0.9451 - val_accuracy: 0.7223\n",
      "Epoch 169/500\n",
      "182/182 [==============================] - 13s 74ms/step - loss: 0.7812 - accuracy: 0.7255 - val_loss: 0.9546 - val_accuracy: 0.7140\n",
      "Epoch 170/500\n",
      "182/182 [==============================] - 14s 75ms/step - loss: 0.7922 - accuracy: 0.7252 - val_loss: 0.9512 - val_accuracy: 0.7223\n",
      "Epoch 171/500\n",
      "182/182 [==============================] - 14s 74ms/step - loss: 0.7800 - accuracy: 0.7296 - val_loss: 0.9828 - val_accuracy: 0.7140\n",
      "Epoch 172/500\n",
      "182/182 [==============================] - 14s 75ms/step - loss: 0.7871 - accuracy: 0.7267 - val_loss: 0.9778 - val_accuracy: 0.7015\n",
      "Epoch 173/500\n",
      "182/182 [==============================] - 14s 74ms/step - loss: 0.7902 - accuracy: 0.7270 - val_loss: 0.9877 - val_accuracy: 0.7223\n",
      "Epoch 174/500\n",
      "182/182 [==============================] - 13s 74ms/step - loss: 0.7826 - accuracy: 0.7261 - val_loss: 1.0136 - val_accuracy: 0.6994\n",
      "Epoch 175/500\n",
      "182/182 [==============================] - 14s 74ms/step - loss: 0.7829 - accuracy: 0.7252 - val_loss: 0.9507 - val_accuracy: 0.7411\n",
      "Epoch 176/500\n",
      "182/182 [==============================] - 14s 74ms/step - loss: 0.7752 - accuracy: 0.7296 - val_loss: 0.9611 - val_accuracy: 0.7098\n",
      "Epoch 177/500\n",
      "182/182 [==============================] - 13s 74ms/step - loss: 0.7691 - accuracy: 0.7362 - val_loss: 1.0120 - val_accuracy: 0.7077\n",
      "Epoch 178/500\n",
      "182/182 [==============================] - 14s 74ms/step - loss: 0.7785 - accuracy: 0.7300 - val_loss: 0.9549 - val_accuracy: 0.7307\n",
      "Epoch 179/500\n",
      "182/182 [==============================] - 13s 74ms/step - loss: 0.7823 - accuracy: 0.7287 - val_loss: 0.9408 - val_accuracy: 0.7223\n",
      "Epoch 180/500\n",
      "182/182 [==============================] - 14s 74ms/step - loss: 0.7722 - accuracy: 0.7285 - val_loss: 0.9497 - val_accuracy: 0.7161\n",
      "Epoch 181/500\n",
      "182/182 [==============================] - 14s 74ms/step - loss: 0.7672 - accuracy: 0.7331 - val_loss: 1.0123 - val_accuracy: 0.7161\n",
      "Epoch 182/500\n",
      "182/182 [==============================] - 14s 75ms/step - loss: 0.7748 - accuracy: 0.7293 - val_loss: 1.0219 - val_accuracy: 0.7182\n",
      "Epoch 183/500\n",
      "182/182 [==============================] - 13s 74ms/step - loss: 0.7863 - accuracy: 0.7245 - val_loss: 0.9561 - val_accuracy: 0.7203\n",
      "Epoch 184/500\n",
      "182/182 [==============================] - 14s 75ms/step - loss: 0.7650 - accuracy: 0.7377 - val_loss: 1.0159 - val_accuracy: 0.7203\n",
      "Epoch 185/500\n",
      "182/182 [==============================] - 14s 74ms/step - loss: 0.7722 - accuracy: 0.7311 - val_loss: 0.9936 - val_accuracy: 0.7307\n",
      "Epoch 186/500\n",
      "182/182 [==============================] - 13s 74ms/step - loss: 0.7568 - accuracy: 0.7344 - val_loss: 1.0061 - val_accuracy: 0.7244\n",
      "Epoch 187/500\n",
      "182/182 [==============================] - 13s 74ms/step - loss: 0.7672 - accuracy: 0.7352 - val_loss: 0.9686 - val_accuracy: 0.7286\n",
      "Epoch 188/500\n",
      "182/182 [==============================] - 14s 75ms/step - loss: 0.7584 - accuracy: 0.7390 - val_loss: 0.9930 - val_accuracy: 0.7223\n",
      "Epoch 189/500\n",
      "182/182 [==============================] - 13s 74ms/step - loss: 0.7664 - accuracy: 0.7290 - val_loss: 0.9963 - val_accuracy: 0.7349\n",
      "Epoch 190/500\n",
      "182/182 [==============================] - 14s 75ms/step - loss: 0.7742 - accuracy: 0.7380 - val_loss: 0.9570 - val_accuracy: 0.7307\n",
      "Epoch 191/500\n",
      "182/182 [==============================] - 14s 75ms/step - loss: 0.7633 - accuracy: 0.7379 - val_loss: 0.9778 - val_accuracy: 0.7203\n",
      "Epoch 192/500\n",
      "182/182 [==============================] - 14s 74ms/step - loss: 0.7710 - accuracy: 0.7334 - val_loss: 1.0398 - val_accuracy: 0.7244\n",
      "Epoch 193/500\n",
      "182/182 [==============================] - 14s 74ms/step - loss: 0.7674 - accuracy: 0.7338 - val_loss: 1.0183 - val_accuracy: 0.7244\n",
      "Epoch 194/500\n",
      "182/182 [==============================] - 14s 74ms/step - loss: 0.7563 - accuracy: 0.7343 - val_loss: 1.0411 - val_accuracy: 0.7265\n",
      "Epoch 195/500\n",
      "182/182 [==============================] - 13s 74ms/step - loss: 0.7614 - accuracy: 0.7324 - val_loss: 0.9638 - val_accuracy: 0.7244\n",
      "Epoch 196/500\n",
      "182/182 [==============================] - 13s 74ms/step - loss: 0.7491 - accuracy: 0.7396 - val_loss: 1.0915 - val_accuracy: 0.7098\n",
      "Epoch 197/500\n",
      "182/182 [==============================] - 14s 74ms/step - loss: 0.7700 - accuracy: 0.7352 - val_loss: 1.0317 - val_accuracy: 0.7223\n",
      "Epoch 198/500\n",
      "182/182 [==============================] - 13s 73ms/step - loss: 0.7534 - accuracy: 0.7419 - val_loss: 1.0414 - val_accuracy: 0.7182\n",
      "Epoch 199/500\n",
      "182/182 [==============================] - 13s 73ms/step - loss: 0.7380 - accuracy: 0.7418 - val_loss: 0.9887 - val_accuracy: 0.7223\n",
      "Epoch 200/500\n",
      "182/182 [==============================] - 13s 74ms/step - loss: 0.7509 - accuracy: 0.7385 - val_loss: 1.0350 - val_accuracy: 0.7140\n",
      "Epoch 201/500\n",
      "182/182 [==============================] - 13s 74ms/step - loss: 0.7642 - accuracy: 0.7329 - val_loss: 1.0446 - val_accuracy: 0.7119\n",
      "Epoch 202/500\n",
      "182/182 [==============================] - 13s 74ms/step - loss: 0.7431 - accuracy: 0.7413 - val_loss: 1.0053 - val_accuracy: 0.7328\n",
      "Epoch 203/500\n",
      "182/182 [==============================] - 13s 74ms/step - loss: 0.7543 - accuracy: 0.7320 - val_loss: 1.0282 - val_accuracy: 0.7286\n",
      "Epoch 204/500\n",
      "182/182 [==============================] - 13s 74ms/step - loss: 0.7405 - accuracy: 0.7398 - val_loss: 1.0364 - val_accuracy: 0.7098\n",
      "Epoch 205/500\n",
      "182/182 [==============================] - 13s 74ms/step - loss: 0.7398 - accuracy: 0.7350 - val_loss: 1.0750 - val_accuracy: 0.7203\n",
      "Epoch 206/500\n",
      "182/182 [==============================] - 14s 75ms/step - loss: 0.7579 - accuracy: 0.7343 - val_loss: 1.0752 - val_accuracy: 0.7203\n",
      "Epoch 207/500\n",
      "182/182 [==============================] - 14s 75ms/step - loss: 0.7434 - accuracy: 0.7380 - val_loss: 1.0704 - val_accuracy: 0.7077\n",
      "Epoch 208/500\n",
      "182/182 [==============================] - 13s 74ms/step - loss: 0.7514 - accuracy: 0.7395 - val_loss: 1.0274 - val_accuracy: 0.7203\n",
      "Epoch 209/500\n",
      "182/182 [==============================] - 14s 75ms/step - loss: 0.7605 - accuracy: 0.7337 - val_loss: 1.0232 - val_accuracy: 0.7244\n",
      "Epoch 210/500\n",
      "182/182 [==============================] - 13s 73ms/step - loss: 0.7348 - accuracy: 0.7421 - val_loss: 0.9616 - val_accuracy: 0.7328\n",
      "Epoch 211/500\n",
      "182/182 [==============================] - 14s 74ms/step - loss: 0.7395 - accuracy: 0.7444 - val_loss: 1.0663 - val_accuracy: 0.7140\n",
      "Epoch 212/500\n",
      "182/182 [==============================] - 14s 74ms/step - loss: 0.7406 - accuracy: 0.7392 - val_loss: 1.0091 - val_accuracy: 0.7349\n",
      "Epoch 213/500\n",
      "182/182 [==============================] - 14s 74ms/step - loss: 0.7342 - accuracy: 0.7393 - val_loss: 1.0519 - val_accuracy: 0.7328\n"
     ]
    },
    {
     "name": "stdout",
     "output_type": "stream",
     "text": [
      "Epoch 214/500\n",
      "182/182 [==============================] - 13s 73ms/step - loss: 0.7412 - accuracy: 0.7403 - val_loss: 1.0382 - val_accuracy: 0.7182\n",
      "Epoch 215/500\n",
      "182/182 [==============================] - 14s 75ms/step - loss: 0.7471 - accuracy: 0.7422 - val_loss: 1.0330 - val_accuracy: 0.7182\n",
      "Epoch 216/500\n",
      "182/182 [==============================] - 14s 74ms/step - loss: 0.7460 - accuracy: 0.7447 - val_loss: 1.0300 - val_accuracy: 0.7286\n",
      "Epoch 217/500\n",
      "182/182 [==============================] - 13s 73ms/step - loss: 0.7367 - accuracy: 0.7442 - val_loss: 1.0502 - val_accuracy: 0.7223\n",
      "Epoch 218/500\n",
      "182/182 [==============================] - 14s 74ms/step - loss: 0.7360 - accuracy: 0.7403 - val_loss: 0.9897 - val_accuracy: 0.7035\n",
      "Epoch 219/500\n",
      "182/182 [==============================] - 13s 74ms/step - loss: 0.7382 - accuracy: 0.7415 - val_loss: 1.0178 - val_accuracy: 0.7119\n",
      "Epoch 220/500\n",
      "182/182 [==============================] - 13s 74ms/step - loss: 0.7322 - accuracy: 0.7408 - val_loss: 0.9726 - val_accuracy: 0.7140\n",
      "Epoch 221/500\n",
      "182/182 [==============================] - 13s 74ms/step - loss: 0.7472 - accuracy: 0.7409 - val_loss: 1.0051 - val_accuracy: 0.7119\n",
      "Epoch 222/500\n",
      "182/182 [==============================] - 14s 74ms/step - loss: 0.7342 - accuracy: 0.7404 - val_loss: 1.0186 - val_accuracy: 0.7265\n",
      "Epoch 223/500\n",
      "182/182 [==============================] - 14s 74ms/step - loss: 0.7379 - accuracy: 0.7416 - val_loss: 1.0428 - val_accuracy: 0.7370\n",
      "Epoch 224/500\n",
      "182/182 [==============================] - 14s 76ms/step - loss: 0.7396 - accuracy: 0.7413 - val_loss: 1.0364 - val_accuracy: 0.7098\n",
      "Epoch 225/500\n",
      "182/182 [==============================] - 14s 75ms/step - loss: 0.7338 - accuracy: 0.7435 - val_loss: 1.0381 - val_accuracy: 0.7140\n",
      "Epoch 226/500\n",
      "182/182 [==============================] - 14s 75ms/step - loss: 0.7386 - accuracy: 0.7446 - val_loss: 1.0129 - val_accuracy: 0.7223\n",
      "Epoch 227/500\n",
      "182/182 [==============================] - 14s 75ms/step - loss: 0.7315 - accuracy: 0.7440 - val_loss: 1.0067 - val_accuracy: 0.7077\n",
      "Epoch 228/500\n",
      "182/182 [==============================] - 14s 75ms/step - loss: 0.7414 - accuracy: 0.7432 - val_loss: 0.9986 - val_accuracy: 0.7349\n",
      "Epoch 229/500\n",
      "182/182 [==============================] - 14s 74ms/step - loss: 0.7265 - accuracy: 0.7509 - val_loss: 1.0255 - val_accuracy: 0.7349\n",
      "Epoch 230/500\n",
      "182/182 [==============================] - 14s 75ms/step - loss: 0.7327 - accuracy: 0.7496 - val_loss: 0.9947 - val_accuracy: 0.7349\n",
      "Epoch 231/500\n",
      "182/182 [==============================] - 14s 74ms/step - loss: 0.7406 - accuracy: 0.7387 - val_loss: 1.0265 - val_accuracy: 0.7203\n",
      "Epoch 232/500\n",
      "182/182 [==============================] - 14s 74ms/step - loss: 0.7259 - accuracy: 0.7492 - val_loss: 1.0599 - val_accuracy: 0.7328\n",
      "Epoch 233/500\n",
      "182/182 [==============================] - 14s 75ms/step - loss: 0.7339 - accuracy: 0.7486 - val_loss: 1.0051 - val_accuracy: 0.7307\n",
      "Epoch 234/500\n",
      "182/182 [==============================] - 14s 74ms/step - loss: 0.7441 - accuracy: 0.7409 - val_loss: 0.9752 - val_accuracy: 0.7349\n",
      "Epoch 235/500\n",
      "182/182 [==============================] - 14s 75ms/step - loss: 0.7309 - accuracy: 0.7460 - val_loss: 1.0429 - val_accuracy: 0.7182\n",
      "Epoch 236/500\n",
      "182/182 [==============================] - 14s 75ms/step - loss: 0.7173 - accuracy: 0.7448 - val_loss: 0.9620 - val_accuracy: 0.7370\n",
      "Epoch 237/500\n",
      "182/182 [==============================] - 14s 75ms/step - loss: 0.7284 - accuracy: 0.7453 - val_loss: 1.0213 - val_accuracy: 0.7098\n",
      "Epoch 238/500\n",
      "182/182 [==============================] - 14s 75ms/step - loss: 0.7174 - accuracy: 0.7513 - val_loss: 1.0232 - val_accuracy: 0.7307\n",
      "Epoch 239/500\n",
      "182/182 [==============================] - 14s 76ms/step - loss: 0.7291 - accuracy: 0.7449 - val_loss: 1.0686 - val_accuracy: 0.7140\n",
      "Epoch 240/500\n",
      "182/182 [==============================] - 14s 75ms/step - loss: 0.7305 - accuracy: 0.7445 - val_loss: 0.9945 - val_accuracy: 0.7223\n",
      "Epoch 241/500\n",
      "182/182 [==============================] - 14s 75ms/step - loss: 0.7300 - accuracy: 0.7473 - val_loss: 1.0554 - val_accuracy: 0.7244\n",
      "Epoch 242/500\n",
      "182/182 [==============================] - 14s 75ms/step - loss: 0.7229 - accuracy: 0.7468 - val_loss: 1.0173 - val_accuracy: 0.7223\n",
      "Epoch 243/500\n",
      "182/182 [==============================] - 14s 74ms/step - loss: 0.7101 - accuracy: 0.7516 - val_loss: 1.0074 - val_accuracy: 0.7411\n",
      "Epoch 244/500\n",
      "182/182 [==============================] - 14s 75ms/step - loss: 0.7148 - accuracy: 0.7494 - val_loss: 1.0416 - val_accuracy: 0.7265\n",
      "Epoch 245/500\n",
      "182/182 [==============================] - 14s 75ms/step - loss: 0.7158 - accuracy: 0.7513 - val_loss: 1.0496 - val_accuracy: 0.7328\n",
      "Epoch 246/500\n",
      "182/182 [==============================] - 13s 74ms/step - loss: 0.7338 - accuracy: 0.7459 - val_loss: 1.0454 - val_accuracy: 0.7161\n",
      "Epoch 247/500\n",
      "182/182 [==============================] - 14s 75ms/step - loss: 0.7298 - accuracy: 0.7442 - val_loss: 1.0051 - val_accuracy: 0.7328\n",
      "Epoch 248/500\n",
      "182/182 [==============================] - 14s 74ms/step - loss: 0.7116 - accuracy: 0.7497 - val_loss: 1.0013 - val_accuracy: 0.7453\n",
      "Epoch 249/500\n",
      "182/182 [==============================] - 14s 74ms/step - loss: 0.7129 - accuracy: 0.7459 - val_loss: 1.0587 - val_accuracy: 0.7286\n",
      "Epoch 250/500\n",
      "182/182 [==============================] - 14s 75ms/step - loss: 0.7260 - accuracy: 0.7420 - val_loss: 1.0958 - val_accuracy: 0.7453\n",
      "Epoch 251/500\n",
      "182/182 [==============================] - 14s 75ms/step - loss: 0.7104 - accuracy: 0.7518 - val_loss: 1.0946 - val_accuracy: 0.7432\n",
      "Epoch 252/500\n",
      "182/182 [==============================] - 14s 74ms/step - loss: 0.7077 - accuracy: 0.7534 - val_loss: 1.0498 - val_accuracy: 0.7286\n",
      "Epoch 253/500\n",
      "182/182 [==============================] - 14s 74ms/step - loss: 0.7115 - accuracy: 0.7488 - val_loss: 1.0152 - val_accuracy: 0.7286\n",
      "Epoch 254/500\n",
      "182/182 [==============================] - 14s 75ms/step - loss: 0.7138 - accuracy: 0.7516 - val_loss: 1.0560 - val_accuracy: 0.7265\n",
      "Epoch 255/500\n",
      "182/182 [==============================] - 14s 76ms/step - loss: 0.7087 - accuracy: 0.7503 - val_loss: 1.1372 - val_accuracy: 0.7307\n",
      "Epoch 256/500\n",
      "182/182 [==============================] - 14s 75ms/step - loss: 0.7241 - accuracy: 0.7473 - val_loss: 1.0520 - val_accuracy: 0.7474\n",
      "Epoch 257/500\n",
      "182/182 [==============================] - 14s 75ms/step - loss: 0.7188 - accuracy: 0.7457 - val_loss: 1.0320 - val_accuracy: 0.7286\n",
      "Epoch 258/500\n",
      "182/182 [==============================] - 14s 75ms/step - loss: 0.7073 - accuracy: 0.7522 - val_loss: 1.0335 - val_accuracy: 0.7265\n",
      "Epoch 259/500\n",
      "182/182 [==============================] - 14s 74ms/step - loss: 0.7006 - accuracy: 0.7519 - val_loss: 1.0846 - val_accuracy: 0.7307\n",
      "Epoch 260/500\n",
      "182/182 [==============================] - 14s 75ms/step - loss: 0.7090 - accuracy: 0.7481 - val_loss: 1.0595 - val_accuracy: 0.7265\n",
      "Epoch 261/500\n",
      "182/182 [==============================] - 14s 75ms/step - loss: 0.7184 - accuracy: 0.7451 - val_loss: 1.1336 - val_accuracy: 0.7244\n",
      "Epoch 262/500\n",
      "182/182 [==============================] - 14s 75ms/step - loss: 0.7087 - accuracy: 0.7515 - val_loss: 1.0782 - val_accuracy: 0.7349\n",
      "Epoch 263/500\n",
      "182/182 [==============================] - 14s 75ms/step - loss: 0.6967 - accuracy: 0.7550 - val_loss: 1.0504 - val_accuracy: 0.7223\n",
      "Epoch 264/500\n",
      "182/182 [==============================] - 14s 75ms/step - loss: 0.6988 - accuracy: 0.7587 - val_loss: 1.0568 - val_accuracy: 0.7453\n",
      "Epoch 265/500\n",
      "182/182 [==============================] - 14s 74ms/step - loss: 0.7070 - accuracy: 0.7517 - val_loss: 1.0381 - val_accuracy: 0.7307\n",
      "Epoch 266/500\n",
      "182/182 [==============================] - 14s 76ms/step - loss: 0.7087 - accuracy: 0.7535 - val_loss: 1.0652 - val_accuracy: 0.7328\n",
      "Epoch 267/500\n",
      "182/182 [==============================] - 14s 75ms/step - loss: 0.7059 - accuracy: 0.7510 - val_loss: 1.0951 - val_accuracy: 0.7307\n",
      "Epoch 268/500\n",
      "182/182 [==============================] - 14s 75ms/step - loss: 0.6965 - accuracy: 0.7538 - val_loss: 1.1355 - val_accuracy: 0.7203\n",
      "Epoch 269/500\n",
      "182/182 [==============================] - 14s 75ms/step - loss: 0.7102 - accuracy: 0.7512 - val_loss: 1.0833 - val_accuracy: 0.7307\n"
     ]
    },
    {
     "name": "stdout",
     "output_type": "stream",
     "text": [
      "Epoch 270/500\n",
      "182/182 [==============================] - 14s 74ms/step - loss: 0.7068 - accuracy: 0.7499 - val_loss: 1.1168 - val_accuracy: 0.7244\n",
      "Epoch 271/500\n",
      "182/182 [==============================] - 14s 74ms/step - loss: 0.7131 - accuracy: 0.7495 - val_loss: 1.0833 - val_accuracy: 0.7370\n",
      "Epoch 272/500\n",
      "182/182 [==============================] - 14s 74ms/step - loss: 0.6982 - accuracy: 0.7549 - val_loss: 1.1206 - val_accuracy: 0.7307\n",
      "Epoch 273/500\n",
      "182/182 [==============================] - 13s 74ms/step - loss: 0.6942 - accuracy: 0.7571 - val_loss: 1.0794 - val_accuracy: 0.7140\n",
      "Epoch 274/500\n",
      "182/182 [==============================] - 13s 74ms/step - loss: 0.6990 - accuracy: 0.7612 - val_loss: 1.0853 - val_accuracy: 0.7390\n",
      "Epoch 275/500\n",
      "182/182 [==============================] - 14s 75ms/step - loss: 0.6985 - accuracy: 0.7534 - val_loss: 1.1387 - val_accuracy: 0.7307\n",
      "Epoch 276/500\n",
      "182/182 [==============================] - 14s 75ms/step - loss: 0.6903 - accuracy: 0.7589 - val_loss: 1.0722 - val_accuracy: 0.7265\n",
      "Epoch 277/500\n",
      "182/182 [==============================] - 14s 74ms/step - loss: 0.7021 - accuracy: 0.7530 - val_loss: 1.0336 - val_accuracy: 0.7307\n",
      "Epoch 278/500\n",
      "182/182 [==============================] - 14s 75ms/step - loss: 0.7025 - accuracy: 0.7529 - val_loss: 1.0383 - val_accuracy: 0.7182\n",
      "Epoch 279/500\n",
      "182/182 [==============================] - 13s 74ms/step - loss: 0.6896 - accuracy: 0.7557 - val_loss: 1.0615 - val_accuracy: 0.7328\n",
      "Epoch 280/500\n",
      "182/182 [==============================] - 14s 74ms/step - loss: 0.6978 - accuracy: 0.7573 - val_loss: 1.0496 - val_accuracy: 0.7286\n",
      "Epoch 281/500\n",
      "182/182 [==============================] - 14s 74ms/step - loss: 0.6923 - accuracy: 0.7564 - val_loss: 1.0950 - val_accuracy: 0.7182\n",
      "Epoch 282/500\n",
      "182/182 [==============================] - 14s 75ms/step - loss: 0.6926 - accuracy: 0.7585 - val_loss: 1.1629 - val_accuracy: 0.7265\n",
      "Epoch 283/500\n",
      "182/182 [==============================] - 14s 74ms/step - loss: 0.6954 - accuracy: 0.7573 - val_loss: 1.1102 - val_accuracy: 0.7307\n",
      "Epoch 284/500\n",
      "182/182 [==============================] - 14s 74ms/step - loss: 0.6864 - accuracy: 0.7651 - val_loss: 1.1011 - val_accuracy: 0.7244\n",
      "Epoch 285/500\n",
      "182/182 [==============================] - 14s 75ms/step - loss: 0.6900 - accuracy: 0.7576 - val_loss: 1.0989 - val_accuracy: 0.7223\n",
      "Epoch 286/500\n",
      "182/182 [==============================] - 13s 74ms/step - loss: 0.6865 - accuracy: 0.7573 - val_loss: 1.0803 - val_accuracy: 0.7453\n",
      "Epoch 287/500\n",
      "182/182 [==============================] - 14s 75ms/step - loss: 0.6996 - accuracy: 0.7608 - val_loss: 1.0612 - val_accuracy: 0.7244\n",
      "Epoch 288/500\n",
      "182/182 [==============================] - 14s 76ms/step - loss: 0.6881 - accuracy: 0.7568 - val_loss: 1.1008 - val_accuracy: 0.7265\n",
      "Epoch 289/500\n",
      "182/182 [==============================] - 14s 76ms/step - loss: 0.6975 - accuracy: 0.7521 - val_loss: 1.1043 - val_accuracy: 0.7411\n",
      "Epoch 290/500\n",
      " 73/182 [===========>..................] - ETA: 7s - loss: 0.7088 - accuracy: 0.7509"
     ]
    },
    {
     "ename": "KeyboardInterrupt",
     "evalue": "",
     "output_type": "error",
     "traceback": [
      "\u001B[1;31m---------------------------------------------------------------------------\u001B[0m",
      "\u001B[1;31mKeyboardInterrupt\u001B[0m                         Traceback (most recent call last)",
      "Input \u001B[1;32mIn [35]\u001B[0m, in \u001B[0;36m<cell line: 1>\u001B[1;34m()\u001B[0m\n\u001B[1;32m----> 1\u001B[0m history \u001B[38;5;241m=\u001B[39m \u001B[43mmodel\u001B[49m\u001B[38;5;241;43m.\u001B[39;49m\u001B[43mfit\u001B[49m\u001B[43m(\u001B[49m\n\u001B[0;32m      2\u001B[0m \u001B[43m    \u001B[49m\u001B[43mgenerator\u001B[49m\u001B[43m,\u001B[49m\n\u001B[0;32m      3\u001B[0m \u001B[43m    \u001B[49m\u001B[43mvalidation_data\u001B[49m\u001B[43m \u001B[49m\u001B[38;5;241;43m=\u001B[39;49m\u001B[43m \u001B[49m\u001B[43mval_generator\u001B[49m\u001B[43m,\u001B[49m\n\u001B[0;32m      4\u001B[0m \u001B[43m    \u001B[49m\u001B[43mepochs\u001B[49m\u001B[43m \u001B[49m\u001B[38;5;241;43m=\u001B[39;49m\u001B[43m \u001B[49m\u001B[38;5;241;43m500\u001B[39;49m\u001B[43m,\u001B[49m\n\u001B[0;32m      5\u001B[0m \u001B[43m    \u001B[49m\u001B[43mshuffle\u001B[49m\u001B[38;5;241;43m=\u001B[39;49m\u001B[38;5;28;43;01mFalse\u001B[39;49;00m\u001B[43m,\u001B[49m\n\u001B[0;32m      6\u001B[0m \u001B[43m    \u001B[49m\u001B[43mcallbacks\u001B[49m\u001B[38;5;241;43m=\u001B[39;49m\u001B[43mcallbacks\u001B[49m\n\u001B[0;32m      7\u001B[0m \u001B[43m)\u001B[49m\u001B[38;5;241m.\u001B[39mhistory\n",
      "File \u001B[1;32m~\\AppData\\Roaming\\Python\\Python39\\site-packages\\keras\\utils\\traceback_utils.py:64\u001B[0m, in \u001B[0;36mfilter_traceback.<locals>.error_handler\u001B[1;34m(*args, **kwargs)\u001B[0m\n\u001B[0;32m     62\u001B[0m filtered_tb \u001B[38;5;241m=\u001B[39m \u001B[38;5;28;01mNone\u001B[39;00m\n\u001B[0;32m     63\u001B[0m \u001B[38;5;28;01mtry\u001B[39;00m:\n\u001B[1;32m---> 64\u001B[0m   \u001B[38;5;28;01mreturn\u001B[39;00m fn(\u001B[38;5;241m*\u001B[39margs, \u001B[38;5;241m*\u001B[39m\u001B[38;5;241m*\u001B[39mkwargs)\n\u001B[0;32m     65\u001B[0m \u001B[38;5;28;01mexcept\u001B[39;00m \u001B[38;5;167;01mException\u001B[39;00m \u001B[38;5;28;01mas\u001B[39;00m e:  \u001B[38;5;66;03m# pylint: disable=broad-except\u001B[39;00m\n\u001B[0;32m     66\u001B[0m   filtered_tb \u001B[38;5;241m=\u001B[39m _process_traceback_frames(e\u001B[38;5;241m.\u001B[39m__traceback__)\n",
      "File \u001B[1;32m~\\AppData\\Roaming\\Python\\Python39\\site-packages\\keras\\engine\\training.py:1409\u001B[0m, in \u001B[0;36mModel.fit\u001B[1;34m(self, x, y, batch_size, epochs, verbose, callbacks, validation_split, validation_data, shuffle, class_weight, sample_weight, initial_epoch, steps_per_epoch, validation_steps, validation_batch_size, validation_freq, max_queue_size, workers, use_multiprocessing)\u001B[0m\n\u001B[0;32m   1402\u001B[0m \u001B[38;5;28;01mwith\u001B[39;00m tf\u001B[38;5;241m.\u001B[39mprofiler\u001B[38;5;241m.\u001B[39mexperimental\u001B[38;5;241m.\u001B[39mTrace(\n\u001B[0;32m   1403\u001B[0m     \u001B[38;5;124m'\u001B[39m\u001B[38;5;124mtrain\u001B[39m\u001B[38;5;124m'\u001B[39m,\n\u001B[0;32m   1404\u001B[0m     epoch_num\u001B[38;5;241m=\u001B[39mepoch,\n\u001B[0;32m   1405\u001B[0m     step_num\u001B[38;5;241m=\u001B[39mstep,\n\u001B[0;32m   1406\u001B[0m     batch_size\u001B[38;5;241m=\u001B[39mbatch_size,\n\u001B[0;32m   1407\u001B[0m     _r\u001B[38;5;241m=\u001B[39m\u001B[38;5;241m1\u001B[39m):\n\u001B[0;32m   1408\u001B[0m   callbacks\u001B[38;5;241m.\u001B[39mon_train_batch_begin(step)\n\u001B[1;32m-> 1409\u001B[0m   tmp_logs \u001B[38;5;241m=\u001B[39m \u001B[38;5;28;43mself\u001B[39;49m\u001B[38;5;241;43m.\u001B[39;49m\u001B[43mtrain_function\u001B[49m\u001B[43m(\u001B[49m\u001B[43miterator\u001B[49m\u001B[43m)\u001B[49m\n\u001B[0;32m   1410\u001B[0m   \u001B[38;5;28;01mif\u001B[39;00m data_handler\u001B[38;5;241m.\u001B[39mshould_sync:\n\u001B[0;32m   1411\u001B[0m     context\u001B[38;5;241m.\u001B[39masync_wait()\n",
      "File \u001B[1;32m~\\AppData\\Roaming\\Python\\Python39\\site-packages\\tensorflow\\python\\util\\traceback_utils.py:150\u001B[0m, in \u001B[0;36mfilter_traceback.<locals>.error_handler\u001B[1;34m(*args, **kwargs)\u001B[0m\n\u001B[0;32m    148\u001B[0m filtered_tb \u001B[38;5;241m=\u001B[39m \u001B[38;5;28;01mNone\u001B[39;00m\n\u001B[0;32m    149\u001B[0m \u001B[38;5;28;01mtry\u001B[39;00m:\n\u001B[1;32m--> 150\u001B[0m   \u001B[38;5;28;01mreturn\u001B[39;00m fn(\u001B[38;5;241m*\u001B[39margs, \u001B[38;5;241m*\u001B[39m\u001B[38;5;241m*\u001B[39mkwargs)\n\u001B[0;32m    151\u001B[0m \u001B[38;5;28;01mexcept\u001B[39;00m \u001B[38;5;167;01mException\u001B[39;00m \u001B[38;5;28;01mas\u001B[39;00m e:\n\u001B[0;32m    152\u001B[0m   filtered_tb \u001B[38;5;241m=\u001B[39m _process_traceback_frames(e\u001B[38;5;241m.\u001B[39m__traceback__)\n",
      "File \u001B[1;32m~\\AppData\\Roaming\\Python\\Python39\\site-packages\\tensorflow\\python\\eager\\def_function.py:915\u001B[0m, in \u001B[0;36mFunction.__call__\u001B[1;34m(self, *args, **kwds)\u001B[0m\n\u001B[0;32m    912\u001B[0m compiler \u001B[38;5;241m=\u001B[39m \u001B[38;5;124m\"\u001B[39m\u001B[38;5;124mxla\u001B[39m\u001B[38;5;124m\"\u001B[39m \u001B[38;5;28;01mif\u001B[39;00m \u001B[38;5;28mself\u001B[39m\u001B[38;5;241m.\u001B[39m_jit_compile \u001B[38;5;28;01melse\u001B[39;00m \u001B[38;5;124m\"\u001B[39m\u001B[38;5;124mnonXla\u001B[39m\u001B[38;5;124m\"\u001B[39m\n\u001B[0;32m    914\u001B[0m \u001B[38;5;28;01mwith\u001B[39;00m OptionalXlaContext(\u001B[38;5;28mself\u001B[39m\u001B[38;5;241m.\u001B[39m_jit_compile):\n\u001B[1;32m--> 915\u001B[0m   result \u001B[38;5;241m=\u001B[39m \u001B[38;5;28mself\u001B[39m\u001B[38;5;241m.\u001B[39m_call(\u001B[38;5;241m*\u001B[39margs, \u001B[38;5;241m*\u001B[39m\u001B[38;5;241m*\u001B[39mkwds)\n\u001B[0;32m    917\u001B[0m new_tracing_count \u001B[38;5;241m=\u001B[39m \u001B[38;5;28mself\u001B[39m\u001B[38;5;241m.\u001B[39mexperimental_get_tracing_count()\n\u001B[0;32m    918\u001B[0m without_tracing \u001B[38;5;241m=\u001B[39m (tracing_count \u001B[38;5;241m==\u001B[39m new_tracing_count)\n",
      "File \u001B[1;32m~\\AppData\\Roaming\\Python\\Python39\\site-packages\\tensorflow\\python\\eager\\def_function.py:947\u001B[0m, in \u001B[0;36mFunction._call\u001B[1;34m(self, *args, **kwds)\u001B[0m\n\u001B[0;32m    944\u001B[0m   \u001B[38;5;28mself\u001B[39m\u001B[38;5;241m.\u001B[39m_lock\u001B[38;5;241m.\u001B[39mrelease()\n\u001B[0;32m    945\u001B[0m   \u001B[38;5;66;03m# In this case we have created variables on the first call, so we run the\u001B[39;00m\n\u001B[0;32m    946\u001B[0m   \u001B[38;5;66;03m# defunned version which is guaranteed to never create variables.\u001B[39;00m\n\u001B[1;32m--> 947\u001B[0m   \u001B[38;5;28;01mreturn\u001B[39;00m \u001B[38;5;28mself\u001B[39m\u001B[38;5;241m.\u001B[39m_stateless_fn(\u001B[38;5;241m*\u001B[39margs, \u001B[38;5;241m*\u001B[39m\u001B[38;5;241m*\u001B[39mkwds)  \u001B[38;5;66;03m# pylint: disable=not-callable\u001B[39;00m\n\u001B[0;32m    948\u001B[0m \u001B[38;5;28;01melif\u001B[39;00m \u001B[38;5;28mself\u001B[39m\u001B[38;5;241m.\u001B[39m_stateful_fn \u001B[38;5;129;01mis\u001B[39;00m \u001B[38;5;129;01mnot\u001B[39;00m \u001B[38;5;28;01mNone\u001B[39;00m:\n\u001B[0;32m    949\u001B[0m   \u001B[38;5;66;03m# Release the lock early so that multiple threads can perform the call\u001B[39;00m\n\u001B[0;32m    950\u001B[0m   \u001B[38;5;66;03m# in parallel.\u001B[39;00m\n\u001B[0;32m    951\u001B[0m   \u001B[38;5;28mself\u001B[39m\u001B[38;5;241m.\u001B[39m_lock\u001B[38;5;241m.\u001B[39mrelease()\n",
      "File \u001B[1;32m~\\AppData\\Roaming\\Python\\Python39\\site-packages\\tensorflow\\python\\eager\\function.py:2453\u001B[0m, in \u001B[0;36mFunction.__call__\u001B[1;34m(self, *args, **kwargs)\u001B[0m\n\u001B[0;32m   2450\u001B[0m \u001B[38;5;28;01mwith\u001B[39;00m \u001B[38;5;28mself\u001B[39m\u001B[38;5;241m.\u001B[39m_lock:\n\u001B[0;32m   2451\u001B[0m   (graph_function,\n\u001B[0;32m   2452\u001B[0m    filtered_flat_args) \u001B[38;5;241m=\u001B[39m \u001B[38;5;28mself\u001B[39m\u001B[38;5;241m.\u001B[39m_maybe_define_function(args, kwargs)\n\u001B[1;32m-> 2453\u001B[0m \u001B[38;5;28;01mreturn\u001B[39;00m \u001B[43mgraph_function\u001B[49m\u001B[38;5;241;43m.\u001B[39;49m\u001B[43m_call_flat\u001B[49m\u001B[43m(\u001B[49m\n\u001B[0;32m   2454\u001B[0m \u001B[43m    \u001B[49m\u001B[43mfiltered_flat_args\u001B[49m\u001B[43m,\u001B[49m\u001B[43m \u001B[49m\u001B[43mcaptured_inputs\u001B[49m\u001B[38;5;241;43m=\u001B[39;49m\u001B[43mgraph_function\u001B[49m\u001B[38;5;241;43m.\u001B[39;49m\u001B[43mcaptured_inputs\u001B[49m\u001B[43m)\u001B[49m\n",
      "File \u001B[1;32m~\\AppData\\Roaming\\Python\\Python39\\site-packages\\tensorflow\\python\\eager\\function.py:1860\u001B[0m, in \u001B[0;36mConcreteFunction._call_flat\u001B[1;34m(self, args, captured_inputs, cancellation_manager)\u001B[0m\n\u001B[0;32m   1856\u001B[0m possible_gradient_type \u001B[38;5;241m=\u001B[39m gradients_util\u001B[38;5;241m.\u001B[39mPossibleTapeGradientTypes(args)\n\u001B[0;32m   1857\u001B[0m \u001B[38;5;28;01mif\u001B[39;00m (possible_gradient_type \u001B[38;5;241m==\u001B[39m gradients_util\u001B[38;5;241m.\u001B[39mPOSSIBLE_GRADIENT_TYPES_NONE\n\u001B[0;32m   1858\u001B[0m     \u001B[38;5;129;01mand\u001B[39;00m executing_eagerly):\n\u001B[0;32m   1859\u001B[0m   \u001B[38;5;66;03m# No tape is watching; skip to running the function.\u001B[39;00m\n\u001B[1;32m-> 1860\u001B[0m   \u001B[38;5;28;01mreturn\u001B[39;00m \u001B[38;5;28mself\u001B[39m\u001B[38;5;241m.\u001B[39m_build_call_outputs(\u001B[38;5;28;43mself\u001B[39;49m\u001B[38;5;241;43m.\u001B[39;49m\u001B[43m_inference_function\u001B[49m\u001B[38;5;241;43m.\u001B[39;49m\u001B[43mcall\u001B[49m\u001B[43m(\u001B[49m\n\u001B[0;32m   1861\u001B[0m \u001B[43m      \u001B[49m\u001B[43mctx\u001B[49m\u001B[43m,\u001B[49m\u001B[43m \u001B[49m\u001B[43margs\u001B[49m\u001B[43m,\u001B[49m\u001B[43m \u001B[49m\u001B[43mcancellation_manager\u001B[49m\u001B[38;5;241;43m=\u001B[39;49m\u001B[43mcancellation_manager\u001B[49m\u001B[43m)\u001B[49m)\n\u001B[0;32m   1862\u001B[0m forward_backward \u001B[38;5;241m=\u001B[39m \u001B[38;5;28mself\u001B[39m\u001B[38;5;241m.\u001B[39m_select_forward_and_backward_functions(\n\u001B[0;32m   1863\u001B[0m     args,\n\u001B[0;32m   1864\u001B[0m     possible_gradient_type,\n\u001B[0;32m   1865\u001B[0m     executing_eagerly)\n\u001B[0;32m   1866\u001B[0m forward_function, args_with_tangents \u001B[38;5;241m=\u001B[39m forward_backward\u001B[38;5;241m.\u001B[39mforward()\n",
      "File \u001B[1;32m~\\AppData\\Roaming\\Python\\Python39\\site-packages\\tensorflow\\python\\eager\\function.py:497\u001B[0m, in \u001B[0;36m_EagerDefinedFunction.call\u001B[1;34m(self, ctx, args, cancellation_manager)\u001B[0m\n\u001B[0;32m    495\u001B[0m \u001B[38;5;28;01mwith\u001B[39;00m _InterpolateFunctionError(\u001B[38;5;28mself\u001B[39m):\n\u001B[0;32m    496\u001B[0m   \u001B[38;5;28;01mif\u001B[39;00m cancellation_manager \u001B[38;5;129;01mis\u001B[39;00m \u001B[38;5;28;01mNone\u001B[39;00m:\n\u001B[1;32m--> 497\u001B[0m     outputs \u001B[38;5;241m=\u001B[39m \u001B[43mexecute\u001B[49m\u001B[38;5;241;43m.\u001B[39;49m\u001B[43mexecute\u001B[49m\u001B[43m(\u001B[49m\n\u001B[0;32m    498\u001B[0m \u001B[43m        \u001B[49m\u001B[38;5;28;43mstr\u001B[39;49m\u001B[43m(\u001B[49m\u001B[38;5;28;43mself\u001B[39;49m\u001B[38;5;241;43m.\u001B[39;49m\u001B[43msignature\u001B[49m\u001B[38;5;241;43m.\u001B[39;49m\u001B[43mname\u001B[49m\u001B[43m)\u001B[49m\u001B[43m,\u001B[49m\n\u001B[0;32m    499\u001B[0m \u001B[43m        \u001B[49m\u001B[43mnum_outputs\u001B[49m\u001B[38;5;241;43m=\u001B[39;49m\u001B[38;5;28;43mself\u001B[39;49m\u001B[38;5;241;43m.\u001B[39;49m\u001B[43m_num_outputs\u001B[49m\u001B[43m,\u001B[49m\n\u001B[0;32m    500\u001B[0m \u001B[43m        \u001B[49m\u001B[43minputs\u001B[49m\u001B[38;5;241;43m=\u001B[39;49m\u001B[43margs\u001B[49m\u001B[43m,\u001B[49m\n\u001B[0;32m    501\u001B[0m \u001B[43m        \u001B[49m\u001B[43mattrs\u001B[49m\u001B[38;5;241;43m=\u001B[39;49m\u001B[43mattrs\u001B[49m\u001B[43m,\u001B[49m\n\u001B[0;32m    502\u001B[0m \u001B[43m        \u001B[49m\u001B[43mctx\u001B[49m\u001B[38;5;241;43m=\u001B[39;49m\u001B[43mctx\u001B[49m\u001B[43m)\u001B[49m\n\u001B[0;32m    503\u001B[0m   \u001B[38;5;28;01melse\u001B[39;00m:\n\u001B[0;32m    504\u001B[0m     outputs \u001B[38;5;241m=\u001B[39m execute\u001B[38;5;241m.\u001B[39mexecute_with_cancellation(\n\u001B[0;32m    505\u001B[0m         \u001B[38;5;28mstr\u001B[39m(\u001B[38;5;28mself\u001B[39m\u001B[38;5;241m.\u001B[39msignature\u001B[38;5;241m.\u001B[39mname),\n\u001B[0;32m    506\u001B[0m         num_outputs\u001B[38;5;241m=\u001B[39m\u001B[38;5;28mself\u001B[39m\u001B[38;5;241m.\u001B[39m_num_outputs,\n\u001B[1;32m   (...)\u001B[0m\n\u001B[0;32m    509\u001B[0m         ctx\u001B[38;5;241m=\u001B[39mctx,\n\u001B[0;32m    510\u001B[0m         cancellation_manager\u001B[38;5;241m=\u001B[39mcancellation_manager)\n",
      "File \u001B[1;32m~\\AppData\\Roaming\\Python\\Python39\\site-packages\\tensorflow\\python\\eager\\execute.py:54\u001B[0m, in \u001B[0;36mquick_execute\u001B[1;34m(op_name, num_outputs, inputs, attrs, ctx, name)\u001B[0m\n\u001B[0;32m     52\u001B[0m \u001B[38;5;28;01mtry\u001B[39;00m:\n\u001B[0;32m     53\u001B[0m   ctx\u001B[38;5;241m.\u001B[39mensure_initialized()\n\u001B[1;32m---> 54\u001B[0m   tensors \u001B[38;5;241m=\u001B[39m \u001B[43mpywrap_tfe\u001B[49m\u001B[38;5;241;43m.\u001B[39;49m\u001B[43mTFE_Py_Execute\u001B[49m\u001B[43m(\u001B[49m\u001B[43mctx\u001B[49m\u001B[38;5;241;43m.\u001B[39;49m\u001B[43m_handle\u001B[49m\u001B[43m,\u001B[49m\u001B[43m \u001B[49m\u001B[43mdevice_name\u001B[49m\u001B[43m,\u001B[49m\u001B[43m \u001B[49m\u001B[43mop_name\u001B[49m\u001B[43m,\u001B[49m\n\u001B[0;32m     55\u001B[0m \u001B[43m                                      \u001B[49m\u001B[43minputs\u001B[49m\u001B[43m,\u001B[49m\u001B[43m \u001B[49m\u001B[43mattrs\u001B[49m\u001B[43m,\u001B[49m\u001B[43m \u001B[49m\u001B[43mnum_outputs\u001B[49m\u001B[43m)\u001B[49m\n\u001B[0;32m     56\u001B[0m \u001B[38;5;28;01mexcept\u001B[39;00m core\u001B[38;5;241m.\u001B[39m_NotOkStatusException \u001B[38;5;28;01mas\u001B[39;00m e:\n\u001B[0;32m     57\u001B[0m   \u001B[38;5;28;01mif\u001B[39;00m name \u001B[38;5;129;01mis\u001B[39;00m \u001B[38;5;129;01mnot\u001B[39;00m \u001B[38;5;28;01mNone\u001B[39;00m:\n",
      "\u001B[1;31mKeyboardInterrupt\u001B[0m: "
     ]
    }
   ],
   "source": [
    "history = model.fit(\n",
    "    generator,\n",
    "    validation_data = val_generator,\n",
    "    epochs = 500,\n",
    "    shuffle=False,\n",
    "    callbacks=callbacks\n",
    ").history"
   ]
  },
  {
   "cell_type": "markdown",
   "metadata": {
    "id": "nMTI1OpUGDBK",
    "pycharm": {
     "name": "#%% md\n"
    }
   },
   "source": [
    "## Matplotlib"
   ]
  },
  {
   "cell_type": "code",
   "execution_count": 41,
   "metadata": {
    "id": "V75c5PjD0b6e",
    "pycharm": {
     "name": "#%%\n"
    }
   },
   "outputs": [],
   "source": [
    "# Import library\n",
    "import matplotlib.pyplot as plt"
   ]
  },
  {
   "cell_type": "code",
   "execution_count": 42,
   "metadata": {
    "colab": {
     "base_uri": "https://localhost:8080/",
     "height": 336
    },
    "id": "uKzFy9BmJ1oc",
    "outputId": "3e55257b-1db6-4d6b-9b0a-878d964d0a6f",
    "pycharm": {
     "name": "#%%\n"
    }
   },
   "outputs": [
    {
     "data": {
      "image/png": "[encoded data removed]",
      "text/plain": [
       "<Figure size 576x360 with 1 Axes>"
      ]
     },
     "metadata": {
      "needs_background": "light"
     },
     "output_type": "display_data"
    }
   ],
   "source": [
    "# Plot the accuracy\n",
    "plt.figure(figsize=(8,5))\n",
    "plt.plot(history['loss'], label='Training', alpha=.8, color='#ff7f0e')\n",
    "plt.plot(history['val_loss'], label='Validation', alpha=.8, color='#4D61E2')\n",
    "plt.title(' Loss')\n",
    "plt.legend(loc='upper right')\n",
    "plt.grid(alpha=.3)\n",
    "plt.show()"
   ]
  },
  {
   "cell_type": "code",
   "execution_count": 43,
   "metadata": {
    "colab": {
     "base_uri": "https://localhost:8080/",
     "height": 336
    },
    "id": "Q1T2m3MhJ1H9",
    "outputId": "cad0f6c2-ab14-42a0-b026-7dd4dae49326",
    "pycharm": {
     "name": "#%%\n"
    }
   },
   "outputs": [
    {
     "data": {
      "image/png": "[encoded data removed]",
      "text/plain": [
       "<Figure size 576x360 with 1 Axes>"
      ]
     },
     "metadata": {
      "needs_background": "light"
     },
     "output_type": "display_data"
    }
   ],
   "source": [
    "plt.figure(figsize=(8,5))\n",
    "plt.plot(history['accuracy'], label='Training', alpha=.8, color='#ff7f0e')\n",
    "plt.plot(history['val_accuracy'], label='Validation', alpha=.8, color='#4D61E2')\n",
    "plt.title(' Accuracy')\n",
    "plt.legend(loc='lower right')\n",
    "plt.grid(alpha=.3)\n",
    "plt.show()"
   ]
  },
  {
   "cell_type": "markdown",
   "metadata": {
    "id": "-83ete1O0DT6",
    "pycharm": {
     "name": "#%% md\n"
    }
   },
   "source": [
    "# Model saving\n",
    "The model is saved and it can be reloaded if necessary."
   ]
  },
  {
   "cell_type": "code",
   "execution_count": null,
   "metadata": {
    "colab": {
     "base_uri": "https://localhost:8080/"
    },
    "id": "KWuFBdq8qpDj",
    "outputId": "10047537-b514-445c-ec90-25156d117bcc",
    "pycharm": {
     "name": "#%%\n"
    }
   },
   "outputs": [],
   "source": [
    "# Save the model\n",
    "model.save(mode)"
   ]
  }
 ],
 "metadata": {
  "accelerator": "GPU",
  "colab": {
   "collapsed_sections": [
    "klvPMoR2F-JJ",
    "eIkjM67YNay_",
    "-83ete1O0DT6"
   ],
   "provenance": []
  },
  "gpuClass": "standard",
  "kernelspec": {
   "display_name": "Python 3 (ipykernel)",
   "language": "python",
   "name": "python3"
  },
  "language_info": {
   "codemirror_mode": {
    "name": "ipython",
    "version": 3
   },
   "file_extension": ".py",
   "mimetype": "text/x-python",
   "name": "python",
   "nbconvert_exporter": "python",
   "pygments_lexer": "ipython3",
   "version": "3.9.12"
  }
 },
 "nbformat": 4,
 "nbformat_minor": 1
}