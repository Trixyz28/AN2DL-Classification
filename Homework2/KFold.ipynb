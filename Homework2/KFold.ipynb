{
 "cells": [
  {
   "cell_type": "markdown",
   "metadata": {
    "id": "rGEgyogRPFYc",
    "pycharm": {
     "name": "#%% md\n"
    }
   },
   "source": [
    "# Notebook for ANNDL - Homework 2\n",
    "\n",
    "Team: All Is Well\n",
    "\n",
    "Team members: Fatma Hamila, Kodai Takigawa, Zheng Maria Yu"
   ]
  },
  {
   "cell_type": "code",
   "execution_count": null,
   "metadata": {
    "colab": {
     "base_uri": "https://localhost:8080/"
    },
    "id": "VA-umYcjKlyn",
    "outputId": "fcd44d83-b09e-4a23-8287-8e97e94f068c",
    "pycharm": {
     "name": "#%%\n"
    }
   },
   "outputs": [],
   "source": [
    "!unzip /dataset.zip "
   ]
  },
  {
   "cell_type": "markdown",
   "metadata": {
    "id": "r_QsOhFvo7qr",
    "pycharm": {
     "name": "#%% md\n"
    }
   },
   "source": [
    "# Setup\n",
    "Firstly, we need to setup the environment by importing the required libraries, setting the current path (eventually mounting Google Drive), and fixing the random seed for our experiments' reproducibility.\n",
    "\n",
    "The dataset should be present in the same folder of this notebook."
   ]
  },
  {
   "cell_type": "code",
   "execution_count": 147,
   "metadata": {
    "id": "Z9l-AdB1uPvC",
    "pycharm": {
     "name": "#%%\n"
    }
   },
   "outputs": [],
   "source": [
    "# Import libraries\n",
    "import tensorflow as tf\n",
    "import numpy as np\n",
    "import os\n",
    "import random\n",
    "import pandas as pd\n",
    "import seaborn as sns\n",
    "\n",
    "tfk = tf.keras\n",
    "tfkl = tf.keras.layers"
   ]
  },
  {
   "cell_type": "code",
   "execution_count": 148,
   "metadata": {
    "id": "7jpYPMSCKXTG",
    "pycharm": {
     "name": "#%%\n"
    }
   },
   "outputs": [],
   "source": [
    "use_drive = False"
   ]
  },
  {
   "cell_type": "code",
   "execution_count": 149,
   "metadata": {
    "colab": {
     "base_uri": "https://localhost:8080/"
    },
    "id": "Yvhn0BUeKXTG",
    "outputId": "adc229e6-0e15-44be-e265-f8a8761fdabb",
    "pycharm": {
     "name": "#%%\n"
    }
   },
   "outputs": [
    {
     "name": "stdout",
     "output_type": "stream",
     "text": [
      "C:\\Users\\zheng\\Documents\\Uni\\Magistrale\\ANNDL\\22-23\\Homework2\\Env\n"
     ]
    }
   ],
   "source": [
    "# Connect to Google Drive\n",
    "# Set path\n",
    "\n",
    "if(use_drive):\n",
    "    from google.colab import drive\n",
    "    drive.mount('/gdrive')\n",
    "    path = \"/gdrive/My Drive/ANNDL/2022-23/Homework2\"\n",
    "    %cd /gdrive/My Drive/ANNDL/2022-23/Homework1\n",
    "else:\n",
    "    path = os.getcwd()\n",
    "    print(str(path))"
   ]
  },
  {
   "cell_type": "code",
   "execution_count": 150,
   "metadata": {
    "id": "76iRDDThuZsI",
    "pycharm": {
     "name": "#%%\n"
    }
   },
   "outputs": [],
   "source": [
    "# Fix random seed for reproducibility\n",
    "seed = 23\n",
    "\n",
    "random.seed(seed)\n",
    "os.environ['PYTHONHASHSEED'] = str(seed)\n",
    "np.random.seed(seed)\n",
    "tf.random.set_seed(seed)\n",
    "tf.compat.v1.set_random_seed(seed)"
   ]
  },
  {
   "cell_type": "code",
   "execution_count": 151,
   "metadata": {
    "id": "Odq6PBX1KXTH",
    "pycharm": {
     "name": "#%%\n"
    }
   },
   "outputs": [],
   "source": [
    "# Set dataset path\n",
    "dataset_dir = 'dataset'"
   ]
  },
  {
   "cell_type": "code",
   "execution_count": 152,
   "metadata": {
    "id": "Q3gmA5LyKXTI",
    "pycharm": {
     "name": "#%%\n"
    }
   },
   "outputs": [],
   "source": [
    "# Load dataset files\n",
    "X_all_raw = np.load(os.path.join(dataset_dir, 'x_train.npy'))\n",
    "y_all_raw = np.load(os.path.join(dataset_dir, 'y_train.npy'))"
   ]
  },
  {
   "cell_type": "code",
   "execution_count": 153,
   "metadata": {
    "colab": {
     "base_uri": "https://localhost:8080/"
    },
    "id": "fk_XQjNXKXTI",
    "outputId": "00b2fbe5-7407-4530-de3f-0a2c40d147cf",
    "pycharm": {
     "name": "#%%\n"
    }
   },
   "outputs": [
    {
     "name": "stdout",
     "output_type": "stream",
     "text": [
      "(2429, 36, 6) (2429,)\n"
     ]
    }
   ],
   "source": [
    "print(X_all_raw.shape,y_all_raw.shape)"
   ]
  },
  {
   "cell_type": "code",
   "execution_count": 8,
   "metadata": {
    "colab": {
     "base_uri": "https://localhost:8080/"
    },
    "id": "wP7FXYknDyyK",
    "outputId": "671dcb24-5aa0-4c90-be36-db422fa927a2",
    "pycharm": {
     "name": "#%%\n"
    }
   },
   "outputs": [
    {
     "data": {
      "text/plain": [
       "(11, 0)"
      ]
     },
     "execution_count": 8,
     "metadata": {},
     "output_type": "execute_result"
    }
   ],
   "source": [
    "max(y_all_raw),min(y_all_raw)"
   ]
  },
  {
   "cell_type": "markdown",
   "metadata": {
    "pycharm": {
     "name": "#%% md\n"
    }
   },
   "source": [
    "# Data preprocessing & splitting\n",
    "The extracted data is preprocessed and splitted for the K-Fold cross validation."
   ]
  },
  {
   "cell_type": "code",
   "execution_count": 52,
   "metadata": {
    "pycharm": {
     "name": "#%%\n"
    }
   },
   "outputs": [
    {
     "name": "stdout",
     "output_type": "stream",
     "text": [
      "(1224, 6)\n",
      "(4428, 6)\n",
      "(9720, 6)\n",
      "(13716, 6)\n",
      "(2232, 6)\n",
      "(5508, 6)\n",
      "(11268, 6)\n",
      "(2448, 6)\n",
      "(4320, 6)\n",
      "(27972, 6)\n",
      "(2772, 6)\n",
      "(1836, 6)\n"
     ]
    }
   ],
   "source": [
    "# Combine data sequences belonging to the same class\n",
    "def combine_frame(x,y):\n",
    "    new_data=[]\n",
    "    for i in range(12):\n",
    "        index=np.where(y==i)[0]\n",
    "        data=x[index[0]]\n",
    "        for j in index[1:]:\n",
    "            data=np.concatenate((data,x[j]),axis=0)\n",
    "        new_data.append(data)\n",
    "    return new_data\n",
    "\n",
    "data=combine_frame(X_all_raw,y_all_raw)\n",
    "for a in data:\n",
    "    print(a.shape)"
   ]
  },
  {
   "cell_type": "code",
   "execution_count": 53,
   "metadata": {
    "pycharm": {
     "name": "#%%\n"
    }
   },
   "outputs": [],
   "source": [
    "X_train_KF = []\n",
    "X_val_KF = []\n",
    "y_train_KF = []\n",
    "y_val_KF = []"
   ]
  },
  {
   "cell_type": "code",
   "execution_count": 54,
   "metadata": {
    "pycharm": {
     "name": "#%%\n"
    }
   },
   "outputs": [],
   "source": [
    "# Prepare data for the K-Fold cross validation\n",
    "X_train_KF.append([d[int(len(d)*0.2):] for d in data])\n",
    "X_val_KF.append([d[:int(len(d)*0.2)] for d in data])"
   ]
  },
  {
   "cell_type": "code",
   "execution_count": 55,
   "metadata": {
    "pycharm": {
     "name": "#%%\n"
    }
   },
   "outputs": [],
   "source": [
    "for i in range(3):\n",
    "    fold = []\n",
    "    fold.append([d[:int(len(d)*(0.2+0.2*i))] for d in data])\n",
    "    fold.append([d[int(len(d)*(0.4+0.2*i)):] for d in data])\n",
    "    X_train_KF.append(fold)\n",
    "    X_val_KF.append([d[int(len(d)*(0.2+0.2*i)):int(len(d)*(0.4+0.2*i))] for d in data])"
   ]
  },
  {
   "cell_type": "code",
   "execution_count": 56,
   "metadata": {
    "pycharm": {
     "name": "#%%\n"
    }
   },
   "outputs": [],
   "source": [
    "X_train_KF.append([d[:int(len(d)*0.8)] for d in data])\n",
    "X_val_KF.append([d[int(len(d)*0.8):] for d in data])"
   ]
  },
  {
   "cell_type": "code",
   "execution_count": 58,
   "metadata": {
    "id": "1auAIeIeNHJz",
    "pycharm": {
     "name": "#%%\n"
    }
   },
   "outputs": [],
   "source": [
    "# Split the data into shorter sequences with the sliding window\n",
    "def split_data(x,y,window=24,step=1):\n",
    "    data=[]\n",
    "    target=[]\n",
    "    \n",
    "    for i in range(len(x)):\n",
    "        a=x[i]\n",
    "        b=y[i]\n",
    "        for j in range(0,len(a)-window,step):\n",
    "            data.append(a[j:j+window])\n",
    "            target.append(b)\n",
    "            \n",
    "    return np.asarray(data),np.asarray(target)"
   ]
  },
  {
   "cell_type": "code",
   "execution_count": 59,
   "metadata": {
    "pycharm": {
     "name": "#%%\n"
    }
   },
   "outputs": [],
   "source": [
    "# Prepare the training and the validation sets\n",
    "for i in range(5):\n",
    "    X_val_KF[i],y_val=split_data(X_val_KF[i],range(12),window=36,step=36)\n",
    "    y_val_KF.append(y_val)\n",
    "    \n",
    "    if((i<1) or (i>3)):\n",
    "        X_train_KF[i],y_train=split_data(X_train_KF[i],range(12),window=36,step=6)\n",
    "        y_train_KF.append(y_train)\n",
    "    else:\n",
    "        X_temp = []\n",
    "        y_temp = []\n",
    "        for j in range(2):\n",
    "            X_train, y_train = split_data(X_train_KF[i][j],range(12),window=36,step=6)\n",
    "            X_temp.append(X_train)\n",
    "            y_temp.append(y_train)\n",
    "        X_train_KF[i]=np.concatenate((X_temp[0],X_temp[1]),axis=0)\n",
    "        y_train_KF.append(np.concatenate((y_temp[0],y_temp[1]),axis=0))"
   ]
  },
  {
   "cell_type": "code",
   "execution_count": 60,
   "metadata": {
    "colab": {
     "base_uri": "https://localhost:8080/"
    },
    "id": "rDlRtrjCZ8er",
    "outputId": "a1351138-ef4a-44e3-c911-511d64c70020",
    "pycharm": {
     "name": "#%%\n"
    }
   },
   "outputs": [],
   "source": [
    "# Normalize the data\n",
    "def normalize_data(x):\n",
    "    new_x=[]\n",
    "    \n",
    "    for i in range(len(x)):\n",
    "        a=x[i]\n",
    "        max_,min_,mean_,std_=a.max(axis=0),a.min(axis=0),a.mean(axis=0),a.std(axis=0)\n",
    "        b=np.concatenate((max_,min_,mean_,std_)).reshape((-1,6))\n",
    "        a=2*(a-min_)/(max_-min_)-1\n",
    "        a=np.concatenate((a,b))\n",
    "        new_x.append(a)\n",
    "        \n",
    "    return np.array(new_x)"
   ]
  },
  {
   "cell_type": "code",
   "execution_count": 61,
   "metadata": {
    "pycharm": {
     "name": "#%%\n"
    }
   },
   "outputs": [],
   "source": [
    "for i in range(5):\n",
    "    X_train_KF[i] = normalize_data(X_train_KF[i])\n",
    "    X_val_KF[i] = normalize_data(X_val_KF[i])\n",
    "    y_train_KF[i] = tfk.utils.to_categorical(y_train_KF[i].reshape((-1,1)))\n",
    "    y_val_KF[i] = tfk.utils.to_categorical(y_val_KF[i].reshape((-1,1)))"
   ]
  },
  {
   "cell_type": "code",
   "execution_count": 62,
   "metadata": {
    "colab": {
     "base_uri": "https://localhost:8080/"
    },
    "id": "rfV5QccrKXTL",
    "outputId": "deb48da0-630e-4156-d46b-12e5c7677b30",
    "pycharm": {
     "name": "#%%\n"
    }
   },
   "outputs": [
    {
     "data": {
      "text/plain": [
       "((11525, 40, 6), (11525, 12), (479, 40, 6), (479, 12))"
      ]
     },
     "execution_count": 62,
     "metadata": {},
     "output_type": "execute_result"
    }
   ],
   "source": [
    "X_train_KF[1].shape, y_train_KF[1].shape, X_val_KF[1].shape, y_val_KF[1].shape"
   ]
  },
  {
   "cell_type": "markdown",
   "metadata": {
    "id": "H7jnjBD2u2tS",
    "pycharm": {
     "name": "#%% md\n"
    }
   },
   "source": [
    "# Model training"
   ]
  },
  {
   "cell_type": "code",
   "execution_count": 63,
   "metadata": {
    "id": "QYLO-iudKXTL",
    "pycharm": {
     "name": "#%%\n"
    }
   },
   "outputs": [],
   "source": [
    "input_shape = (36, 6)\n",
    "classes = 12\n",
    "batch_size = 128\n",
    "epochs = 100"
   ]
  },
  {
   "cell_type": "code",
   "execution_count": 64,
   "metadata": {
    "colab": {
     "base_uri": "https://localhost:8080/"
    },
    "id": "nCXeHsheKXTL",
    "outputId": "dfff22ad-cf63-49c1-ba6b-b545604c3e7d",
    "pycharm": {
     "name": "#%%\n"
    }
   },
   "outputs": [
    {
     "data": {
      "text/plain": [
       "((36, 6), 12)"
      ]
     },
     "execution_count": 64,
     "metadata": {},
     "output_type": "execute_result"
    }
   ],
   "source": [
    "input_shape, classes"
   ]
  },
  {
   "cell_type": "code",
   "execution_count": 28,
   "metadata": {
    "id": "ELSGUwQb4q2V",
    "pycharm": {
     "name": "#%%\n"
    }
   },
   "outputs": [],
   "source": [
    "from keras.layers import Conv1D, BatchNormalization, GlobalAveragePooling1D, Permute, Dropout, Flatten\n",
    "from keras.layers import Input, Dense, LSTM, CuDNNLSTM, concatenate, Activation, GRU, SimpleRNN,MaxPool1D,Bidirectional,GlobalMaxPooling1D,Concatenate\n",
    "from attention import Attention\n",
    "\n",
    "def build_model(input_shape, classes):\n",
    "\n",
    "    input = tfkl.Input(shape=input_shape, name='Input')\n",
    "    x_input=input\n",
    "\n",
    "    # default 512\n",
    "    x1 = Bidirectional(LSTM(units=512, return_sequences=True))(x_input)\n",
    "        \n",
    "    # default 384\n",
    "    l1 = Bidirectional(LSTM(units=384, return_sequences=True))(x1)\n",
    "    l2 = Bidirectional(LSTM(units=384, return_sequences=True))(x_input)\n",
    "\n",
    "    c1 = Concatenate(axis=2)((l1,l2))\n",
    "    \n",
    "    # default 256\n",
    "    l3 = Bidirectional(LSTM(units=256, return_sequences=True))(c1)\n",
    "    l4 = Bidirectional(LSTM(units=256, return_sequences=True))(l2)\n",
    "\n",
    "    c2 = Concatenate(axis=2)((l3,l4))\n",
    "    \n",
    "    l6 = GlobalMaxPooling1D()(c2)\n",
    "    \n",
    "#    a1 = Attention()(c2)\n",
    "    \n",
    "    l7 = Dense(units=128, activation='selu')(l6)\n",
    "    l8 = Dropout(0.05, seed=seed)(l7)\n",
    "        \n",
    "    output = Dense(12, activation='sigmoid')(l8)\n",
    "\n",
    "    model = tfk.Model(inputs=input, outputs=output)\n",
    "    \n",
    "    # Compile the model\n",
    "    model.compile(\n",
    "        loss=tfk.losses.CategoricalCrossentropy(),\n",
    "        optimizer=tfk.optimizers.Adam(learning_rate=1e-4),\n",
    "        metrics=['accuracy']\n",
    "    )\n",
    "\n",
    "    # Return the model\n",
    "    return model"
   ]
  },
  {
   "cell_type": "code",
   "execution_count": 29,
   "metadata": {
    "pycharm": {
     "name": "#%%\n"
    }
   },
   "outputs": [],
   "source": [
    "# model = build_model((36,6), classes)\n",
    "# model.summary()"
   ]
  },
  {
   "cell_type": "markdown",
   "metadata": {
    "id": "Ok9qde99qbhC",
    "pycharm": {
     "name": "#%% md\n"
    }
   },
   "source": [
    "# Checkpoint and Early stopping settings\n",
    "Early stopping options can be activated to limit model overfitting.\n",
    "\n",
    "There is possibility to save checkpoints during the training, in order to keep track of the performance and to get more choices of the final model.\n"
   ]
  },
  {
   "cell_type": "code",
   "execution_count": 30,
   "metadata": {
    "colab": {
     "base_uri": "https://localhost:8080/",
     "height": 35
    },
    "id": "IqI3L_BCKXTO",
    "outputId": "954f41a7-4d6a-4d06-c5fa-796bab42d514",
    "pycharm": {
     "name": "#%%\n"
    }
   },
   "outputs": [
    {
     "data": {
      "text/plain": [
       "'C:\\\\Users\\\\zheng\\\\Documents\\\\Uni\\\\Magistrale\\\\ANNDL\\\\22-23\\\\Homework2\\\\Env'"
      ]
     },
     "execution_count": 30,
     "metadata": {},
     "output_type": "execute_result"
    }
   ],
   "source": [
    "os.getcwd()"
   ]
  },
  {
   "cell_type": "code",
   "execution_count": 33,
   "metadata": {
    "id": "_joKtLpgKXTO",
    "pycharm": {
     "name": "#%%\n"
    }
   },
   "outputs": [],
   "source": [
    "from datetime import datetime\n",
    "def create_folders_and_callbacks(model_name):\n",
    "    \n",
    "    exps_dir = os.path.join('experiments')\n",
    "    if not os.path.exists(exps_dir):\n",
    "        os.makedirs(exps_dir)\n",
    "\n",
    "    now = datetime.now().strftime('%b%d_%H-%M-%S')\n",
    "    print(now)\n",
    "\n",
    "    exp_dir = os.path.join(exps_dir, model_name + '_' + str(now))\n",
    "    if not os.path.exists(exp_dir):\n",
    "        os.makedirs(exp_dir)\n",
    "\n",
    "    callbacks = []\n",
    "\n",
    "    # Model checkpoint\n",
    "    ckpt_dir = os.path.join(exp_dir, 'base_ckpts')\n",
    "    if not os.path.exists(ckpt_dir):\n",
    "        os.makedirs(ckpt_dir)\n",
    "\n",
    "    ckpt_callback = tf.keras.callbacks.ModelCheckpoint(filepath=os.path.join(ckpt_dir, 'cp_{epoch:02d}.ckpt'),\n",
    "                                                     save_weights_only=False, # True to save only weights\n",
    "                                                     save_best_only=True,# True to save only the best epoch\n",
    "                                                     monitor='val_accuracy')\n",
    "    callbacks.append(ckpt_callback)\n",
    "\n",
    "    # Visualize Learning on Tensorboard\n",
    "    tb_dir = os.path.join(exp_dir, 'tb_logs')\n",
    "    if not os.path.exists(tb_dir):\n",
    "        os.makedirs(tb_dir)\n",
    "\n",
    "    # By default shows losses and metrics for both training and validation\n",
    "    tb_callback = tf.keras.callbacks.TensorBoard(log_dir=tb_dir,\n",
    "                                               profile_batch=0,\n",
    "                                               histogram_freq=1)  # if > 0 (epochs) shows weights histograms\n",
    "    callbacks.append(tb_callback)\n",
    "\n",
    "\n",
    "#     def scheduler(epoch):\n",
    "#         if epoch < 30:\n",
    "#             return 1e-4\n",
    "#         elif epoch < 300:\n",
    "#             return 1e-3\n",
    "#         elif epoch < 500:\n",
    "#             return 3e-4\n",
    "#         else:\n",
    "#             return 1e-4\n",
    "        \n",
    "#     sc_callback = tf.keras.callbacks.LearningRateScheduler(scheduler)\n",
    "    \n",
    "#     callbacks.append(sc_callback)\n",
    "    \n",
    "\n",
    "    return callbacks, now"
   ]
  },
  {
   "cell_type": "code",
   "execution_count": 34,
   "metadata": {
    "id": "w0EvjDOuKXTO",
    "pycharm": {
     "name": "#%%\n"
    }
   },
   "outputs": [],
   "source": [
    "foldermode = \"ResLSTM\""
   ]
  },
  {
   "cell_type": "code",
   "execution_count": 33,
   "metadata": {
    "colab": {
     "base_uri": "https://localhost:8080/"
    },
    "id": "_DOoDxlWKXTO",
    "outputId": "da22d2ca-db03-43c4-9a16-d950fc51e5a9",
    "pycharm": {
     "name": "#%%\n"
    }
   },
   "outputs": [],
   "source": [
    "# callbacks, date = create_folders_and_callbacks(foldermode)"
   ]
  },
  {
   "cell_type": "code",
   "execution_count": 34,
   "metadata": {
    "colab": {
     "base_uri": "https://localhost:8080/"
    },
    "id": "StJJpdTlKXTP",
    "outputId": "d83382e3-84c0-4bdc-d38c-dbfd4ef3e3b7",
    "pycharm": {
     "name": "#%%\n"
    }
   },
   "outputs": [],
   "source": [
    "# foldername = foldermode + '_' + str(date)\n",
    "# print(foldername)"
   ]
  },
  {
   "cell_type": "code",
   "execution_count": 27,
   "metadata": {
    "colab": {
     "base_uri": "https://localhost:8080/"
    },
    "id": "8tFqkU8SXfIm",
    "outputId": "ef77ddd3-0a01-4b55-8ded-e52cf6e44d87",
    "pycharm": {
     "name": "#%%\n"
    }
   },
   "outputs": [],
   "source": [
    "# Build generator to obtain augmented data\n",
    "from tensorflow.keras.utils import Sequence\n",
    "import augmentationrepo.utils.augmentation as aug\n",
    "\n",
    "class AugmentDataGenerator(Sequence):\n",
    "\n",
    "    def __init__(self, data,target,p=0.1,batch_size=64):\n",
    "        self.data = data\n",
    "        self.target=target\n",
    "        self.p=p\n",
    "        self.augment=[aug.jitter,aug.scaling,aug.permutation,\n",
    "                      aug.magnitude_warp,aug.time_warp,\n",
    "                      aug.rotation,aug.window_slice,aug.window_warp]\n",
    "\n",
    "        self.batch_size=batch_size\n",
    "        self.perm=np.random.permutation(len(self.data))\n",
    "        \n",
    "    def __len__(self):\n",
    "          if len(self.data)%self.batch_size==0:\n",
    "            return len(self.data)//self.batch_size\n",
    "          return len(self.data)//self.batch_size+1\n",
    "\n",
    "    def getitem(self,x):\n",
    "        data,target=self.data[x],self.target[x]\n",
    "        max_,min_=data[36],data[37]\n",
    "        data=data[:36]\n",
    "        for f in self.augment:\n",
    "            if np.random.rand()<self.p:\n",
    "                data = f(np.array([data]))[0]\n",
    "                \n",
    "        data=(data+1)*(max_-min_)/2+min_\n",
    "        return (np.array(data), np.array(target))\n",
    "    \n",
    "    def __getitem__(self, x):\n",
    "        data,target=[],[]\n",
    "        for i in self.perm[x*self.batch_size:min(len(self.data),(x+1)*self.batch_size)]:\n",
    "              a,b=self.getitem(i)\n",
    "              data.append(a)\n",
    "              target.append(b)\n",
    "        if ((x+1)*self.batch_size)>len(self.data):\n",
    "            self.perm=np.random.permutation(len(self.data))\n",
    "        return (np.array(data), np.array(target))\n",
    "        \n",
    "\n",
    "\n",
    "# generator=AugmentDataGenerator(X_train,y_train,p=0.5)\n",
    "# data,target=generator.__getitem__(0)\n",
    "# print(data.shape,target.shape)"
   ]
  },
  {
   "cell_type": "code",
   "execution_count": 36,
   "metadata": {
    "pycharm": {
     "name": "#%%\n"
    }
   },
   "outputs": [],
   "source": [
    "# val_generator=AugmentDataGenerator(X_val,y_val,p=0)\n",
    "# data,target=generator.__getitem__(0)\n",
    "# print(data.shape,target.shape)"
   ]
  },
  {
   "cell_type": "code",
   "execution_count": 37,
   "metadata": {
    "pycharm": {
     "name": "#%%\n"
    }
   },
   "outputs": [
    {
     "name": "stdout",
     "output_type": "stream",
     "text": [
      "Dec17_02-56-07\n",
      "ResLSTM_Dec17_02-56-07\n"
     ]
    }
   ],
   "source": [
    "# Prepare KFold models\n",
    "model = build_model((36,6), classes)\n",
    "generator=AugmentDataGenerator(X_train_KF[0],y_train_KF[0],p=0.5)\n",
    "val_generator=AugmentDataGenerator(X_val_KF[0],y_val_KF[0],p=0)\n",
    "callbacks, date = create_folders_and_callbacks(foldermode)\n",
    "foldername = foldermode + '_' + str(date)\n",
    "print(foldername)"
   ]
  },
  {
   "cell_type": "code",
   "execution_count": 38,
   "metadata": {
    "scrolled": true,
    "pycharm": {
     "name": "#%%\n"
    }
   },
   "outputs": [
    {
     "name": "stdout",
     "output_type": "stream",
     "text": [
      "Epoch 1/500\n",
      "181/182 [============================>.] - ETA: 0s - loss: 1.5726 - accuracy: 0.4694"
     ]
    },
    {
     "name": "stderr",
     "output_type": "stream",
     "text": [
      "WARNING:absl:Function `_wrapped_model` contains input name(s) Input with unsupported characters which will be renamed to input in the SavedModel.\n",
      "WARNING:absl:Found untraced functions such as lstm_cell_1_layer_call_fn, lstm_cell_1_layer_call_and_return_conditional_losses, lstm_cell_2_layer_call_fn, lstm_cell_2_layer_call_and_return_conditional_losses, lstm_cell_4_layer_call_fn while saving (showing 5 of 20). These functions will not be directly callable after loading.\n"
     ]
    },
    {
     "name": "stdout",
     "output_type": "stream",
     "text": [
      "INFO:tensorflow:Assets written to: experiments\\ResLSTM_Dec17_02-56-07\\base_ckpts\\cp_01.ckpt\\assets\n"
     ]
    },
    {
     "name": "stderr",
     "output_type": "stream",
     "text": [
      "INFO:tensorflow:Assets written to: experiments\\ResLSTM_Dec17_02-56-07\\base_ckpts\\cp_01.ckpt\\assets\n"
     ]
    },
    {
     "name": "stdout",
     "output_type": "stream",
     "text": [
      "182/182 [==============================] - 100s 475ms/step - loss: 1.5726 - accuracy: 0.4693 - val_loss: 1.1934 - val_accuracy: 0.5908\n",
      "Epoch 2/500\n",
      "181/182 [============================>.] - ETA: 0s - loss: 1.3553 - accuracy: 0.5334"
     ]
    },
    {
     "name": "stderr",
     "output_type": "stream",
     "text": [
      "WARNING:absl:Function `_wrapped_model` contains input name(s) Input with unsupported characters which will be renamed to input in the SavedModel.\n",
      "WARNING:absl:Found untraced functions such as lstm_cell_1_layer_call_fn, lstm_cell_1_layer_call_and_return_conditional_losses, lstm_cell_2_layer_call_fn, lstm_cell_2_layer_call_and_return_conditional_losses, lstm_cell_4_layer_call_fn while saving (showing 5 of 20). These functions will not be directly callable after loading.\n"
     ]
    },
    {
     "name": "stdout",
     "output_type": "stream",
     "text": [
      "INFO:tensorflow:Assets written to: experiments\\ResLSTM_Dec17_02-56-07\\base_ckpts\\cp_02.ckpt\\assets\n"
     ]
    },
    {
     "name": "stderr",
     "output_type": "stream",
     "text": [
      "INFO:tensorflow:Assets written to: experiments\\ResLSTM_Dec17_02-56-07\\base_ckpts\\cp_02.ckpt\\assets\n"
     ]
    },
    {
     "name": "stdout",
     "output_type": "stream",
     "text": [
      "182/182 [==============================] - 83s 458ms/step - loss: 1.3554 - accuracy: 0.5334 - val_loss: 1.0967 - val_accuracy: 0.6180\n",
      "Epoch 3/500\n",
      "181/182 [============================>.] - ETA: 0s - loss: 1.2820 - accuracy: 0.5540"
     ]
    },
    {
     "name": "stderr",
     "output_type": "stream",
     "text": [
      "WARNING:absl:Function `_wrapped_model` contains input name(s) Input with unsupported characters which will be renamed to input in the SavedModel.\n",
      "WARNING:absl:Found untraced functions such as lstm_cell_1_layer_call_fn, lstm_cell_1_layer_call_and_return_conditional_losses, lstm_cell_2_layer_call_fn, lstm_cell_2_layer_call_and_return_conditional_losses, lstm_cell_4_layer_call_fn while saving (showing 5 of 20). These functions will not be directly callable after loading.\n"
     ]
    },
    {
     "name": "stdout",
     "output_type": "stream",
     "text": [
      "INFO:tensorflow:Assets written to: experiments\\ResLSTM_Dec17_02-56-07\\base_ckpts\\cp_03.ckpt\\assets\n"
     ]
    },
    {
     "name": "stderr",
     "output_type": "stream",
     "text": [
      "INFO:tensorflow:Assets written to: experiments\\ResLSTM_Dec17_02-56-07\\base_ckpts\\cp_03.ckpt\\assets\n"
     ]
    },
    {
     "name": "stdout",
     "output_type": "stream",
     "text": [
      "182/182 [==============================] - 84s 464ms/step - loss: 1.2816 - accuracy: 0.5543 - val_loss: 1.0354 - val_accuracy: 0.6284\n",
      "Epoch 4/500\n",
      "181/182 [============================>.] - ETA: 0s - loss: 1.2300 - accuracy: 0.5684"
     ]
    },
    {
     "name": "stderr",
     "output_type": "stream",
     "text": [
      "WARNING:absl:Function `_wrapped_model` contains input name(s) Input with unsupported characters which will be renamed to input in the SavedModel.\n",
      "WARNING:absl:Found untraced functions such as lstm_cell_1_layer_call_fn, lstm_cell_1_layer_call_and_return_conditional_losses, lstm_cell_2_layer_call_fn, lstm_cell_2_layer_call_and_return_conditional_losses, lstm_cell_4_layer_call_fn while saving (showing 5 of 20). These functions will not be directly callable after loading.\n"
     ]
    },
    {
     "name": "stdout",
     "output_type": "stream",
     "text": [
      "INFO:tensorflow:Assets written to: experiments\\ResLSTM_Dec17_02-56-07\\base_ckpts\\cp_04.ckpt\\assets\n"
     ]
    },
    {
     "name": "stderr",
     "output_type": "stream",
     "text": [
      "INFO:tensorflow:Assets written to: experiments\\ResLSTM_Dec17_02-56-07\\base_ckpts\\cp_04.ckpt\\assets\n"
     ]
    },
    {
     "name": "stdout",
     "output_type": "stream",
     "text": [
      "182/182 [==============================] - 82s 452ms/step - loss: 1.2300 - accuracy: 0.5683 - val_loss: 1.0052 - val_accuracy: 0.6409\n",
      "Epoch 5/500\n",
      "181/182 [============================>.] - ETA: 0s - loss: 1.2088 - accuracy: 0.5741"
     ]
    },
    {
     "name": "stderr",
     "output_type": "stream",
     "text": [
      "WARNING:absl:Function `_wrapped_model` contains input name(s) Input with unsupported characters which will be renamed to input in the SavedModel.\n",
      "WARNING:absl:Found untraced functions such as lstm_cell_1_layer_call_fn, lstm_cell_1_layer_call_and_return_conditional_losses, lstm_cell_2_layer_call_fn, lstm_cell_2_layer_call_and_return_conditional_losses, lstm_cell_4_layer_call_fn while saving (showing 5 of 20). These functions will not be directly callable after loading.\n"
     ]
    },
    {
     "name": "stdout",
     "output_type": "stream",
     "text": [
      "INFO:tensorflow:Assets written to: experiments\\ResLSTM_Dec17_02-56-07\\base_ckpts\\cp_05.ckpt\\assets\n"
     ]
    },
    {
     "name": "stderr",
     "output_type": "stream",
     "text": [
      "INFO:tensorflow:Assets written to: experiments\\ResLSTM_Dec17_02-56-07\\base_ckpts\\cp_05.ckpt\\assets\n"
     ]
    },
    {
     "name": "stdout",
     "output_type": "stream",
     "text": [
      "182/182 [==============================] - 84s 461ms/step - loss: 1.2084 - accuracy: 0.5742 - val_loss: 0.9648 - val_accuracy: 0.6660\n",
      "Epoch 6/500\n",
      "182/182 [==============================] - 14s 77ms/step - loss: 1.1902 - accuracy: 0.5873 - val_loss: 0.9449 - val_accuracy: 0.6576\n",
      "Epoch 7/500\n",
      "182/182 [==============================] - 14s 76ms/step - loss: 1.1687 - accuracy: 0.5913 - val_loss: 0.9362 - val_accuracy: 0.6534\n",
      "Epoch 8/500\n",
      "181/182 [============================>.] - ETA: 0s - loss: 1.1396 - accuracy: 0.5944"
     ]
    },
    {
     "name": "stderr",
     "output_type": "stream",
     "text": [
      "WARNING:absl:Function `_wrapped_model` contains input name(s) Input with unsupported characters which will be renamed to input in the SavedModel.\n",
      "WARNING:absl:Found untraced functions such as lstm_cell_1_layer_call_fn, lstm_cell_1_layer_call_and_return_conditional_losses, lstm_cell_2_layer_call_fn, lstm_cell_2_layer_call_and_return_conditional_losses, lstm_cell_4_layer_call_fn while saving (showing 5 of 20). These functions will not be directly callable after loading.\n"
     ]
    },
    {
     "name": "stdout",
     "output_type": "stream",
     "text": [
      "INFO:tensorflow:Assets written to: experiments\\ResLSTM_Dec17_02-56-07\\base_ckpts\\cp_08.ckpt\\assets\n"
     ]
    },
    {
     "name": "stderr",
     "output_type": "stream",
     "text": [
      "INFO:tensorflow:Assets written to: experiments\\ResLSTM_Dec17_02-56-07\\base_ckpts\\cp_08.ckpt\\assets\n"
     ]
    },
    {
     "name": "stdout",
     "output_type": "stream",
     "text": [
      "182/182 [==============================] - 82s 451ms/step - loss: 1.1397 - accuracy: 0.5944 - val_loss: 0.8776 - val_accuracy: 0.6848\n",
      "Epoch 9/500\n",
      "181/182 [============================>.] - ETA: 0s - loss: 1.1258 - accuracy: 0.6027"
     ]
    },
    {
     "name": "stderr",
     "output_type": "stream",
     "text": [
      "WARNING:absl:Function `_wrapped_model` contains input name(s) Input with unsupported characters which will be renamed to input in the SavedModel.\n",
      "WARNING:absl:Found untraced functions such as lstm_cell_1_layer_call_fn, lstm_cell_1_layer_call_and_return_conditional_losses, lstm_cell_2_layer_call_fn, lstm_cell_2_layer_call_and_return_conditional_losses, lstm_cell_4_layer_call_fn while saving (showing 5 of 20). These functions will not be directly callable after loading.\n"
     ]
    },
    {
     "name": "stdout",
     "output_type": "stream",
     "text": [
      "INFO:tensorflow:Assets written to: experiments\\ResLSTM_Dec17_02-56-07\\base_ckpts\\cp_09.ckpt\\assets\n"
     ]
    },
    {
     "name": "stderr",
     "output_type": "stream",
     "text": [
      "INFO:tensorflow:Assets written to: experiments\\ResLSTM_Dec17_02-56-07\\base_ckpts\\cp_09.ckpt\\assets\n"
     ]
    },
    {
     "name": "stdout",
     "output_type": "stream",
     "text": [
      "182/182 [==============================] - 84s 462ms/step - loss: 1.1260 - accuracy: 0.6026 - val_loss: 0.8609 - val_accuracy: 0.6952\n",
      "Epoch 10/500\n",
      "182/182 [==============================] - 14s 77ms/step - loss: 1.1083 - accuracy: 0.6065 - val_loss: 0.8686 - val_accuracy: 0.6848\n",
      "Epoch 11/500\n",
      "182/182 [==============================] - 14s 77ms/step - loss: 1.1074 - accuracy: 0.6089 - val_loss: 0.9021 - val_accuracy: 0.6889\n",
      "Epoch 12/500\n",
      "181/182 [============================>.] - ETA: 0s - loss: 1.0909 - accuracy: 0.6181"
     ]
    },
    {
     "name": "stderr",
     "output_type": "stream",
     "text": [
      "WARNING:absl:Function `_wrapped_model` contains input name(s) Input with unsupported characters which will be renamed to input in the SavedModel.\n",
      "WARNING:absl:Found untraced functions such as lstm_cell_1_layer_call_fn, lstm_cell_1_layer_call_and_return_conditional_losses, lstm_cell_2_layer_call_fn, lstm_cell_2_layer_call_and_return_conditional_losses, lstm_cell_4_layer_call_fn while saving (showing 5 of 20). These functions will not be directly callable after loading.\n"
     ]
    },
    {
     "name": "stdout",
     "output_type": "stream",
     "text": [
      "INFO:tensorflow:Assets written to: experiments\\ResLSTM_Dec17_02-56-07\\base_ckpts\\cp_12.ckpt\\assets\n"
     ]
    },
    {
     "name": "stderr",
     "output_type": "stream",
     "text": [
      "INFO:tensorflow:Assets written to: experiments\\ResLSTM_Dec17_02-56-07\\base_ckpts\\cp_12.ckpt\\assets\n"
     ]
    },
    {
     "name": "stdout",
     "output_type": "stream",
     "text": [
      "182/182 [==============================] - 83s 460ms/step - loss: 1.0912 - accuracy: 0.6178 - val_loss: 0.8620 - val_accuracy: 0.7015\n",
      "Epoch 13/500\n",
      "181/182 [============================>.] - ETA: 0s - loss: 1.0784 - accuracy: 0.6188"
     ]
    },
    {
     "name": "stderr",
     "output_type": "stream",
     "text": [
      "WARNING:absl:Function `_wrapped_model` contains input name(s) Input with unsupported characters which will be renamed to input in the SavedModel.\n",
      "WARNING:absl:Found untraced functions such as lstm_cell_1_layer_call_fn, lstm_cell_1_layer_call_and_return_conditional_losses, lstm_cell_2_layer_call_fn, lstm_cell_2_layer_call_and_return_conditional_losses, lstm_cell_4_layer_call_fn while saving (showing 5 of 20). These functions will not be directly callable after loading.\n"
     ]
    },
    {
     "name": "stdout",
     "output_type": "stream",
     "text": [
      "INFO:tensorflow:Assets written to: experiments\\ResLSTM_Dec17_02-56-07\\base_ckpts\\cp_13.ckpt\\assets\n"
     ]
    },
    {
     "name": "stderr",
     "output_type": "stream",
     "text": [
      "INFO:tensorflow:Assets written to: experiments\\ResLSTM_Dec17_02-56-07\\base_ckpts\\cp_13.ckpt\\assets\n"
     ]
    },
    {
     "name": "stdout",
     "output_type": "stream",
     "text": [
      "182/182 [==============================] - 84s 461ms/step - loss: 1.0782 - accuracy: 0.6190 - val_loss: 0.8393 - val_accuracy: 0.7098\n",
      "Epoch 14/500\n",
      "182/182 [==============================] - 15s 78ms/step - loss: 1.0773 - accuracy: 0.6234 - val_loss: 0.8598 - val_accuracy: 0.6806\n",
      "Epoch 15/500\n",
      "182/182 [==============================] - 14s 77ms/step - loss: 1.0592 - accuracy: 0.6254 - val_loss: 0.8289 - val_accuracy: 0.7015\n",
      "Epoch 16/500\n",
      "182/182 [==============================] - 14s 77ms/step - loss: 1.0382 - accuracy: 0.6334 - val_loss: 0.8076 - val_accuracy: 0.7077\n",
      "Epoch 17/500\n",
      "181/182 [============================>.] - ETA: 0s - loss: 1.0391 - accuracy: 0.6352"
     ]
    },
    {
     "name": "stderr",
     "output_type": "stream",
     "text": [
      "WARNING:absl:Function `_wrapped_model` contains input name(s) Input with unsupported characters which will be renamed to input in the SavedModel.\n",
      "WARNING:absl:Found untraced functions such as lstm_cell_1_layer_call_fn, lstm_cell_1_layer_call_and_return_conditional_losses, lstm_cell_2_layer_call_fn, lstm_cell_2_layer_call_and_return_conditional_losses, lstm_cell_4_layer_call_fn while saving (showing 5 of 20). These functions will not be directly callable after loading.\n"
     ]
    },
    {
     "name": "stdout",
     "output_type": "stream",
     "text": [
      "INFO:tensorflow:Assets written to: experiments\\ResLSTM_Dec17_02-56-07\\base_ckpts\\cp_17.ckpt\\assets\n"
     ]
    },
    {
     "name": "stderr",
     "output_type": "stream",
     "text": [
      "INFO:tensorflow:Assets written to: experiments\\ResLSTM_Dec17_02-56-07\\base_ckpts\\cp_17.ckpt\\assets\n"
     ]
    },
    {
     "name": "stdout",
     "output_type": "stream",
     "text": [
      "182/182 [==============================] - 82s 453ms/step - loss: 1.0393 - accuracy: 0.6350 - val_loss: 0.7853 - val_accuracy: 0.7286\n",
      "Epoch 18/500\n",
      "182/182 [==============================] - 14s 77ms/step - loss: 1.0457 - accuracy: 0.6339 - val_loss: 0.8090 - val_accuracy: 0.7015\n",
      "Epoch 19/500\n",
      "181/182 [============================>.] - ETA: 0s - loss: 1.0334 - accuracy: 0.6385"
     ]
    },
    {
     "name": "stderr",
     "output_type": "stream",
     "text": [
      "WARNING:absl:Function `_wrapped_model` contains input name(s) Input with unsupported characters which will be renamed to input in the SavedModel.\n",
      "WARNING:absl:Found untraced functions such as lstm_cell_1_layer_call_fn, lstm_cell_1_layer_call_and_return_conditional_losses, lstm_cell_2_layer_call_fn, lstm_cell_2_layer_call_and_return_conditional_losses, lstm_cell_4_layer_call_fn while saving (showing 5 of 20). These functions will not be directly callable after loading.\n"
     ]
    },
    {
     "name": "stdout",
     "output_type": "stream",
     "text": [
      "INFO:tensorflow:Assets written to: experiments\\ResLSTM_Dec17_02-56-07\\base_ckpts\\cp_19.ckpt\\assets\n"
     ]
    },
    {
     "name": "stderr",
     "output_type": "stream",
     "text": [
      "INFO:tensorflow:Assets written to: experiments\\ResLSTM_Dec17_02-56-07\\base_ckpts\\cp_19.ckpt\\assets\n"
     ]
    },
    {
     "name": "stdout",
     "output_type": "stream",
     "text": [
      "182/182 [==============================] - 85s 469ms/step - loss: 1.0340 - accuracy: 0.6383 - val_loss: 0.7980 - val_accuracy: 0.7328\n",
      "Epoch 20/500\n",
      "182/182 [==============================] - 14s 76ms/step - loss: 1.0218 - accuracy: 0.6379 - val_loss: 0.7823 - val_accuracy: 0.7265\n",
      "Epoch 21/500\n",
      "182/182 [==============================] - 14s 78ms/step - loss: 1.0136 - accuracy: 0.6484 - val_loss: 0.7657 - val_accuracy: 0.7265\n",
      "Epoch 22/500\n",
      "182/182 [==============================] - 14s 77ms/step - loss: 1.0091 - accuracy: 0.6472 - val_loss: 0.8008 - val_accuracy: 0.7265\n",
      "Epoch 23/500\n",
      "181/182 [============================>.] - ETA: 0s - loss: 1.0018 - accuracy: 0.6481"
     ]
    },
    {
     "name": "stderr",
     "output_type": "stream",
     "text": [
      "WARNING:absl:Function `_wrapped_model` contains input name(s) Input with unsupported characters which will be renamed to input in the SavedModel.\n",
      "WARNING:absl:Found untraced functions such as lstm_cell_1_layer_call_fn, lstm_cell_1_layer_call_and_return_conditional_losses, lstm_cell_2_layer_call_fn, lstm_cell_2_layer_call_and_return_conditional_losses, lstm_cell_4_layer_call_fn while saving (showing 5 of 20). These functions will not be directly callable after loading.\n"
     ]
    },
    {
     "name": "stdout",
     "output_type": "stream",
     "text": [
      "INFO:tensorflow:Assets written to: experiments\\ResLSTM_Dec17_02-56-07\\base_ckpts\\cp_23.ckpt\\assets\n"
     ]
    },
    {
     "name": "stderr",
     "output_type": "stream",
     "text": [
      "INFO:tensorflow:Assets written to: experiments\\ResLSTM_Dec17_02-56-07\\base_ckpts\\cp_23.ckpt\\assets\n"
     ]
    },
    {
     "name": "stdout",
     "output_type": "stream",
     "text": [
      "182/182 [==============================] - 82s 454ms/step - loss: 1.0018 - accuracy: 0.6479 - val_loss: 0.7848 - val_accuracy: 0.7474\n",
      "Epoch 24/500\n",
      "182/182 [==============================] - 14s 77ms/step - loss: 0.9973 - accuracy: 0.6466 - val_loss: 0.7982 - val_accuracy: 0.7244\n",
      "Epoch 25/500\n",
      "182/182 [==============================] - 14s 77ms/step - loss: 0.9904 - accuracy: 0.6532 - val_loss: 0.7631 - val_accuracy: 0.7411\n",
      "Epoch 26/500\n",
      "182/182 [==============================] - 14s 77ms/step - loss: 0.9878 - accuracy: 0.6511 - val_loss: 0.7644 - val_accuracy: 0.7432\n",
      "Epoch 27/500\n",
      "182/182 [==============================] - 14s 77ms/step - loss: 0.9735 - accuracy: 0.6512 - val_loss: 0.7804 - val_accuracy: 0.7390\n",
      "Epoch 28/500\n",
      "181/182 [============================>.] - ETA: 0s - loss: 0.9662 - accuracy: 0.6567"
     ]
    },
    {
     "name": "stderr",
     "output_type": "stream",
     "text": [
      "WARNING:absl:Function `_wrapped_model` contains input name(s) Input with unsupported characters which will be renamed to input in the SavedModel.\n",
      "WARNING:absl:Found untraced functions such as lstm_cell_1_layer_call_fn, lstm_cell_1_layer_call_and_return_conditional_losses, lstm_cell_2_layer_call_fn, lstm_cell_2_layer_call_and_return_conditional_losses, lstm_cell_4_layer_call_fn while saving (showing 5 of 20). These functions will not be directly callable after loading.\n"
     ]
    },
    {
     "name": "stdout",
     "output_type": "stream",
     "text": [
      "INFO:tensorflow:Assets written to: experiments\\ResLSTM_Dec17_02-56-07\\base_ckpts\\cp_28.ckpt\\assets\n"
     ]
    },
    {
     "name": "stderr",
     "output_type": "stream",
     "text": [
      "INFO:tensorflow:Assets written to: experiments\\ResLSTM_Dec17_02-56-07\\base_ckpts\\cp_28.ckpt\\assets\n"
     ]
    },
    {
     "name": "stdout",
     "output_type": "stream",
     "text": [
      "182/182 [==============================] - 83s 459ms/step - loss: 0.9659 - accuracy: 0.6568 - val_loss: 0.7513 - val_accuracy: 0.7516\n",
      "Epoch 29/500\n",
      "182/182 [==============================] - 14s 77ms/step - loss: 0.9598 - accuracy: 0.6666 - val_loss: 0.7566 - val_accuracy: 0.7453\n",
      "Epoch 30/500\n",
      "182/182 [==============================] - 14s 77ms/step - loss: 0.9655 - accuracy: 0.6570 - val_loss: 0.7401 - val_accuracy: 0.7328\n",
      "Epoch 31/500\n",
      "181/182 [============================>.] - ETA: 0s - loss: 0.9529 - accuracy: 0.6639"
     ]
    },
    {
     "name": "stderr",
     "output_type": "stream",
     "text": [
      "WARNING:absl:Function `_wrapped_model` contains input name(s) Input with unsupported characters which will be renamed to input in the SavedModel.\n",
      "WARNING:absl:Found untraced functions such as lstm_cell_1_layer_call_fn, lstm_cell_1_layer_call_and_return_conditional_losses, lstm_cell_2_layer_call_fn, lstm_cell_2_layer_call_and_return_conditional_losses, lstm_cell_4_layer_call_fn while saving (showing 5 of 20). These functions will not be directly callable after loading.\n"
     ]
    },
    {
     "name": "stdout",
     "output_type": "stream",
     "text": [
      "INFO:tensorflow:Assets written to: experiments\\ResLSTM_Dec17_02-56-07\\base_ckpts\\cp_31.ckpt\\assets\n"
     ]
    },
    {
     "name": "stderr",
     "output_type": "stream",
     "text": [
      "INFO:tensorflow:Assets written to: experiments\\ResLSTM_Dec17_02-56-07\\base_ckpts\\cp_31.ckpt\\assets\n"
     ]
    },
    {
     "name": "stdout",
     "output_type": "stream",
     "text": [
      "182/182 [==============================] - 82s 454ms/step - loss: 0.9531 - accuracy: 0.6638 - val_loss: 0.7388 - val_accuracy: 0.7537\n",
      "Epoch 32/500\n",
      "182/182 [==============================] - ETA: 0s - loss: 0.9416 - accuracy: 0.6695"
     ]
    },
    {
     "name": "stderr",
     "output_type": "stream",
     "text": [
      "WARNING:absl:Function `_wrapped_model` contains input name(s) Input with unsupported characters which will be renamed to input in the SavedModel.\n",
      "WARNING:absl:Found untraced functions such as lstm_cell_1_layer_call_fn, lstm_cell_1_layer_call_and_return_conditional_losses, lstm_cell_2_layer_call_fn, lstm_cell_2_layer_call_and_return_conditional_losses, lstm_cell_4_layer_call_fn while saving (showing 5 of 20). These functions will not be directly callable after loading.\n"
     ]
    },
    {
     "name": "stdout",
     "output_type": "stream",
     "text": [
      "INFO:tensorflow:Assets written to: experiments\\ResLSTM_Dec17_02-56-07\\base_ckpts\\cp_32.ckpt\\assets\n"
     ]
    },
    {
     "name": "stderr",
     "output_type": "stream",
     "text": [
      "INFO:tensorflow:Assets written to: experiments\\ResLSTM_Dec17_02-56-07\\base_ckpts\\cp_32.ckpt\\assets\n"
     ]
    },
    {
     "name": "stdout",
     "output_type": "stream",
     "text": [
      "182/182 [==============================] - 85s 469ms/step - loss: 0.9416 - accuracy: 0.6695 - val_loss: 0.7522 - val_accuracy: 0.7641\n",
      "Epoch 33/500\n",
      "182/182 [==============================] - 14s 77ms/step - loss: 0.9362 - accuracy: 0.6712 - val_loss: 0.7519 - val_accuracy: 0.7516\n",
      "Epoch 34/500\n",
      "182/182 [==============================] - 14s 77ms/step - loss: 0.9302 - accuracy: 0.6731 - val_loss: 0.7266 - val_accuracy: 0.7620\n",
      "Epoch 35/500\n",
      "182/182 [==============================] - 14s 77ms/step - loss: 0.9205 - accuracy: 0.6773 - val_loss: 0.7560 - val_accuracy: 0.7599\n",
      "Epoch 36/500\n",
      "182/182 [==============================] - 14s 78ms/step - loss: 0.9282 - accuracy: 0.6774 - val_loss: 0.7182 - val_accuracy: 0.7641\n",
      "Epoch 37/500\n",
      "182/182 [==============================] - 14s 76ms/step - loss: 0.9206 - accuracy: 0.6774 - val_loss: 0.7408 - val_accuracy: 0.7578\n",
      "Epoch 38/500\n",
      "182/182 [==============================] - 14s 77ms/step - loss: 0.9231 - accuracy: 0.6744 - val_loss: 0.7133 - val_accuracy: 0.7578\n",
      "Epoch 39/500\n",
      "182/182 [==============================] - 14s 77ms/step - loss: 0.9244 - accuracy: 0.6768 - val_loss: 0.7532 - val_accuracy: 0.7390\n",
      "Epoch 40/500\n",
      "182/182 [==============================] - 14s 77ms/step - loss: 0.9046 - accuracy: 0.6826 - val_loss: 0.7504 - val_accuracy: 0.7370\n",
      "Epoch 41/500\n",
      "182/182 [==============================] - 14s 77ms/step - loss: 0.9061 - accuracy: 0.6867 - val_loss: 0.7457 - val_accuracy: 0.7349\n",
      "Epoch 42/500\n",
      "181/182 [============================>.] - ETA: 0s - loss: 0.8885 - accuracy: 0.6893"
     ]
    },
    {
     "name": "stderr",
     "output_type": "stream",
     "text": [
      "WARNING:absl:Function `_wrapped_model` contains input name(s) Input with unsupported characters which will be renamed to input in the SavedModel.\n",
      "WARNING:absl:Found untraced functions such as lstm_cell_1_layer_call_fn, lstm_cell_1_layer_call_and_return_conditional_losses, lstm_cell_2_layer_call_fn, lstm_cell_2_layer_call_and_return_conditional_losses, lstm_cell_4_layer_call_fn while saving (showing 5 of 20). These functions will not be directly callable after loading.\n"
     ]
    },
    {
     "name": "stdout",
     "output_type": "stream",
     "text": [
      "INFO:tensorflow:Assets written to: experiments\\ResLSTM_Dec17_02-56-07\\base_ckpts\\cp_42.ckpt\\assets\n"
     ]
    },
    {
     "name": "stderr",
     "output_type": "stream",
     "text": [
      "INFO:tensorflow:Assets written to: experiments\\ResLSTM_Dec17_02-56-07\\base_ckpts\\cp_42.ckpt\\assets\n"
     ]
    },
    {
     "name": "stdout",
     "output_type": "stream",
     "text": [
      "182/182 [==============================] - 84s 463ms/step - loss: 0.8884 - accuracy: 0.6893 - val_loss: 0.7243 - val_accuracy: 0.7662\n",
      "Epoch 43/500\n",
      "182/182 [==============================] - 14s 77ms/step - loss: 0.9019 - accuracy: 0.6888 - val_loss: 0.7325 - val_accuracy: 0.7537\n",
      "Epoch 44/500\n",
      "182/182 [==============================] - 14s 77ms/step - loss: 0.8936 - accuracy: 0.6893 - val_loss: 0.7242 - val_accuracy: 0.7453\n",
      "Epoch 45/500\n",
      "182/182 [==============================] - 14s 77ms/step - loss: 0.8878 - accuracy: 0.6892 - val_loss: 0.7223 - val_accuracy: 0.7620\n",
      "Epoch 46/500\n",
      "182/182 [==============================] - 14s 77ms/step - loss: 0.8881 - accuracy: 0.6893 - val_loss: 0.7102 - val_accuracy: 0.7599\n",
      "Epoch 47/500\n",
      "182/182 [==============================] - 14s 77ms/step - loss: 0.8735 - accuracy: 0.6944 - val_loss: 0.7127 - val_accuracy: 0.7599\n",
      "Epoch 48/500\n",
      "182/182 [==============================] - 14s 77ms/step - loss: 0.8791 - accuracy: 0.6903 - val_loss: 0.7340 - val_accuracy: 0.7495\n",
      "Epoch 49/500\n",
      "182/182 [==============================] - 14s 76ms/step - loss: 0.8693 - accuracy: 0.6979 - val_loss: 0.7081 - val_accuracy: 0.7578\n",
      "Epoch 50/500\n",
      "182/182 [==============================] - 14s 77ms/step - loss: 0.8671 - accuracy: 0.6967 - val_loss: 0.7458 - val_accuracy: 0.7578\n",
      "Epoch 51/500\n",
      "182/182 [==============================] - 14s 78ms/step - loss: 0.8578 - accuracy: 0.6965 - val_loss: 0.7433 - val_accuracy: 0.7453\n",
      "Epoch 52/500\n",
      "182/182 [==============================] - 14s 77ms/step - loss: 0.8444 - accuracy: 0.7063 - val_loss: 0.7318 - val_accuracy: 0.7411\n",
      "Epoch 53/500\n",
      "182/182 [==============================] - 14s 78ms/step - loss: 0.8652 - accuracy: 0.6912 - val_loss: 0.7304 - val_accuracy: 0.7453\n",
      "Epoch 54/500\n",
      "181/182 [============================>.] - ETA: 0s - loss: 0.8527 - accuracy: 0.7019"
     ]
    },
    {
     "name": "stderr",
     "output_type": "stream",
     "text": [
      "WARNING:absl:Function `_wrapped_model` contains input name(s) Input with unsupported characters which will be renamed to input in the SavedModel.\n",
      "WARNING:absl:Found untraced functions such as lstm_cell_1_layer_call_fn, lstm_cell_1_layer_call_and_return_conditional_losses, lstm_cell_2_layer_call_fn, lstm_cell_2_layer_call_and_return_conditional_losses, lstm_cell_4_layer_call_fn while saving (showing 5 of 20). These functions will not be directly callable after loading.\n"
     ]
    },
    {
     "name": "stdout",
     "output_type": "stream",
     "text": [
      "INFO:tensorflow:Assets written to: experiments\\ResLSTM_Dec17_02-56-07\\base_ckpts\\cp_54.ckpt\\assets\n"
     ]
    },
    {
     "name": "stderr",
     "output_type": "stream",
     "text": [
      "INFO:tensorflow:Assets written to: experiments\\ResLSTM_Dec17_02-56-07\\base_ckpts\\cp_54.ckpt\\assets\n"
     ]
    },
    {
     "name": "stdout",
     "output_type": "stream",
     "text": [
      "182/182 [==============================] - 82s 454ms/step - loss: 0.8528 - accuracy: 0.7018 - val_loss: 0.7278 - val_accuracy: 0.7724\n",
      "Epoch 55/500\n",
      "182/182 [==============================] - 14s 77ms/step - loss: 0.8484 - accuracy: 0.7008 - val_loss: 0.7029 - val_accuracy: 0.7704\n",
      "Epoch 56/500\n",
      "182/182 [==============================] - 14s 76ms/step - loss: 0.8489 - accuracy: 0.7060 - val_loss: 0.7107 - val_accuracy: 0.7495\n",
      "Epoch 57/500\n",
      "182/182 [==============================] - 14s 76ms/step - loss: 0.8349 - accuracy: 0.7080 - val_loss: 0.7339 - val_accuracy: 0.7641\n",
      "Epoch 58/500\n",
      "182/182 [==============================] - 14s 77ms/step - loss: 0.8449 - accuracy: 0.7025 - val_loss: 0.7852 - val_accuracy: 0.7453\n",
      "Epoch 59/500\n",
      "182/182 [==============================] - 14s 77ms/step - loss: 0.8525 - accuracy: 0.6982 - val_loss: 0.7191 - val_accuracy: 0.7537\n",
      "Epoch 60/500\n",
      "182/182 [==============================] - 14s 77ms/step - loss: 0.8425 - accuracy: 0.7067 - val_loss: 0.7668 - val_accuracy: 0.7704\n",
      "Epoch 61/500\n",
      "182/182 [==============================] - 14s 78ms/step - loss: 0.8424 - accuracy: 0.7063 - val_loss: 0.7230 - val_accuracy: 0.7537\n",
      "Epoch 62/500\n",
      "181/182 [============================>.] - ETA: 0s - loss: 0.8184 - accuracy: 0.7112"
     ]
    },
    {
     "name": "stderr",
     "output_type": "stream",
     "text": [
      "WARNING:absl:Function `_wrapped_model` contains input name(s) Input with unsupported characters which will be renamed to input in the SavedModel.\n",
      "WARNING:absl:Found untraced functions such as lstm_cell_1_layer_call_fn, lstm_cell_1_layer_call_and_return_conditional_losses, lstm_cell_2_layer_call_fn, lstm_cell_2_layer_call_and_return_conditional_losses, lstm_cell_4_layer_call_fn while saving (showing 5 of 20). These functions will not be directly callable after loading.\n"
     ]
    },
    {
     "name": "stdout",
     "output_type": "stream",
     "text": [
      "INFO:tensorflow:Assets written to: experiments\\ResLSTM_Dec17_02-56-07\\base_ckpts\\cp_62.ckpt\\assets\n"
     ]
    },
    {
     "name": "stderr",
     "output_type": "stream",
     "text": [
      "INFO:tensorflow:Assets written to: experiments\\ResLSTM_Dec17_02-56-07\\base_ckpts\\cp_62.ckpt\\assets\n"
     ]
    },
    {
     "name": "stdout",
     "output_type": "stream",
     "text": [
      "182/182 [==============================] - 85s 469ms/step - loss: 0.8182 - accuracy: 0.7113 - val_loss: 0.7163 - val_accuracy: 0.7766\n",
      "Epoch 63/500\n",
      "182/182 [==============================] - 14s 77ms/step - loss: 0.8320 - accuracy: 0.7082 - val_loss: 0.7145 - val_accuracy: 0.7620\n",
      "Epoch 64/500\n",
      "182/182 [==============================] - 14s 77ms/step - loss: 0.8184 - accuracy: 0.7113 - val_loss: 0.7718 - val_accuracy: 0.7537\n",
      "Epoch 65/500\n",
      "182/182 [==============================] - 14s 77ms/step - loss: 0.8280 - accuracy: 0.7124 - val_loss: 0.7757 - val_accuracy: 0.7557\n",
      "Epoch 66/500\n",
      "182/182 [==============================] - 14s 76ms/step - loss: 0.8143 - accuracy: 0.7136 - val_loss: 0.7352 - val_accuracy: 0.7578\n",
      "Epoch 67/500\n",
      "182/182 [==============================] - 14s 77ms/step - loss: 0.8155 - accuracy: 0.7128 - val_loss: 0.7276 - val_accuracy: 0.7516\n",
      "Epoch 68/500\n",
      "182/182 [==============================] - 14s 77ms/step - loss: 0.8256 - accuracy: 0.7130 - val_loss: 0.7426 - val_accuracy: 0.7495\n",
      "Epoch 69/500\n",
      "182/182 [==============================] - 14s 78ms/step - loss: 0.8108 - accuracy: 0.7139 - val_loss: 0.7476 - val_accuracy: 0.7390\n",
      "Epoch 70/500\n",
      "181/182 [============================>.] - ETA: 0s - loss: 0.8157 - accuracy: 0.7132"
     ]
    },
    {
     "name": "stderr",
     "output_type": "stream",
     "text": [
      "WARNING:absl:Function `_wrapped_model` contains input name(s) Input with unsupported characters which will be renamed to input in the SavedModel.\n",
      "WARNING:absl:Found untraced functions such as lstm_cell_1_layer_call_fn, lstm_cell_1_layer_call_and_return_conditional_losses, lstm_cell_2_layer_call_fn, lstm_cell_2_layer_call_and_return_conditional_losses, lstm_cell_4_layer_call_fn while saving (showing 5 of 20). These functions will not be directly callable after loading.\n"
     ]
    },
    {
     "name": "stdout",
     "output_type": "stream",
     "text": [
      "INFO:tensorflow:Assets written to: experiments\\ResLSTM_Dec17_02-56-07\\base_ckpts\\cp_70.ckpt\\assets\n"
     ]
    },
    {
     "name": "stderr",
     "output_type": "stream",
     "text": [
      "INFO:tensorflow:Assets written to: experiments\\ResLSTM_Dec17_02-56-07\\base_ckpts\\cp_70.ckpt\\assets\n"
     ]
    },
    {
     "name": "stdout",
     "output_type": "stream",
     "text": [
      "182/182 [==============================] - 84s 466ms/step - loss: 0.8156 - accuracy: 0.7133 - val_loss: 0.7217 - val_accuracy: 0.7829\n",
      "Epoch 71/500\n",
      "182/182 [==============================] - 14s 77ms/step - loss: 0.8086 - accuracy: 0.7188 - val_loss: 0.7232 - val_accuracy: 0.7745\n",
      "Epoch 72/500\n",
      "182/182 [==============================] - 14s 77ms/step - loss: 0.7956 - accuracy: 0.7202 - val_loss: 0.7268 - val_accuracy: 0.7474\n",
      "Epoch 73/500\n",
      "182/182 [==============================] - 14s 77ms/step - loss: 0.8017 - accuracy: 0.7197 - val_loss: 0.7540 - val_accuracy: 0.7641\n",
      "Epoch 74/500\n",
      "182/182 [==============================] - 14s 77ms/step - loss: 0.8003 - accuracy: 0.7214 - val_loss: 0.7426 - val_accuracy: 0.7724\n",
      "Epoch 75/500\n",
      "182/182 [==============================] - 14s 77ms/step - loss: 0.7854 - accuracy: 0.7208 - val_loss: 0.7538 - val_accuracy: 0.7537\n",
      "Epoch 76/500\n",
      "182/182 [==============================] - 14s 78ms/step - loss: 0.7947 - accuracy: 0.7248 - val_loss: 0.7072 - val_accuracy: 0.7683\n",
      "Epoch 77/500\n",
      "182/182 [==============================] - 14s 77ms/step - loss: 0.7873 - accuracy: 0.7246 - val_loss: 0.7223 - val_accuracy: 0.7599\n",
      "Epoch 78/500\n",
      "182/182 [==============================] - 14s 78ms/step - loss: 0.7912 - accuracy: 0.7208 - val_loss: 0.7454 - val_accuracy: 0.7537\n",
      "Epoch 79/500\n",
      "182/182 [==============================] - 14s 77ms/step - loss: 0.7767 - accuracy: 0.7256 - val_loss: 0.7919 - val_accuracy: 0.7432\n",
      "Epoch 80/500\n",
      "182/182 [==============================] - 14s 77ms/step - loss: 0.7767 - accuracy: 0.7276 - val_loss: 0.8537 - val_accuracy: 0.7370\n",
      "Epoch 81/500\n",
      "182/182 [==============================] - 14s 77ms/step - loss: 0.7804 - accuracy: 0.7260 - val_loss: 0.7702 - val_accuracy: 0.7453\n",
      "Epoch 82/500\n",
      "182/182 [==============================] - 14s 77ms/step - loss: 0.7889 - accuracy: 0.7209 - val_loss: 0.7910 - val_accuracy: 0.7390\n",
      "Epoch 83/500\n",
      "182/182 [==============================] - 14s 76ms/step - loss: 0.7707 - accuracy: 0.7321 - val_loss: 0.7368 - val_accuracy: 0.7578\n",
      "Epoch 84/500\n",
      "182/182 [==============================] - 14s 77ms/step - loss: 0.7746 - accuracy: 0.7227 - val_loss: 0.7508 - val_accuracy: 0.7453\n",
      "Epoch 85/500\n",
      "182/182 [==============================] - 14s 78ms/step - loss: 0.7738 - accuracy: 0.7301 - val_loss: 0.7744 - val_accuracy: 0.7453\n",
      "Epoch 86/500\n",
      "182/182 [==============================] - 14s 77ms/step - loss: 0.7653 - accuracy: 0.7334 - val_loss: 0.7849 - val_accuracy: 0.7578\n",
      "Epoch 87/500\n",
      "182/182 [==============================] - 14s 77ms/step - loss: 0.7671 - accuracy: 0.7264 - val_loss: 0.7731 - val_accuracy: 0.7349\n",
      "Epoch 88/500\n",
      "182/182 [==============================] - 14s 78ms/step - loss: 0.7731 - accuracy: 0.7301 - val_loss: 0.7644 - val_accuracy: 0.7495\n",
      "Epoch 89/500\n",
      "182/182 [==============================] - 14s 77ms/step - loss: 0.7649 - accuracy: 0.7333 - val_loss: 0.7910 - val_accuracy: 0.7411\n",
      "Epoch 90/500\n",
      "182/182 [==============================] - 14s 78ms/step - loss: 0.7634 - accuracy: 0.7328 - val_loss: 0.7626 - val_accuracy: 0.7557\n",
      "Epoch 91/500\n",
      "182/182 [==============================] - 14s 78ms/step - loss: 0.7396 - accuracy: 0.7372 - val_loss: 0.8011 - val_accuracy: 0.7599\n",
      "Epoch 92/500\n",
      "182/182 [==============================] - 14s 77ms/step - loss: 0.7477 - accuracy: 0.7356 - val_loss: 0.7670 - val_accuracy: 0.7557\n",
      "Epoch 93/500\n",
      "182/182 [==============================] - 14s 77ms/step - loss: 0.7484 - accuracy: 0.7346 - val_loss: 0.7724 - val_accuracy: 0.7641\n",
      "Epoch 94/500\n",
      "182/182 [==============================] - 14s 77ms/step - loss: 0.7474 - accuracy: 0.7366 - val_loss: 0.7556 - val_accuracy: 0.7557\n",
      "Epoch 95/500\n",
      "182/182 [==============================] - 14s 77ms/step - loss: 0.7499 - accuracy: 0.7371 - val_loss: 0.7874 - val_accuracy: 0.7390\n",
      "Epoch 96/500\n",
      "182/182 [==============================] - 14s 78ms/step - loss: 0.7526 - accuracy: 0.7327 - val_loss: 0.7879 - val_accuracy: 0.7349\n",
      "Epoch 97/500\n",
      "182/182 [==============================] - 14s 79ms/step - loss: 0.7563 - accuracy: 0.7317 - val_loss: 0.8042 - val_accuracy: 0.7453\n",
      "Epoch 98/500\n",
      "182/182 [==============================] - 14s 78ms/step - loss: 0.7566 - accuracy: 0.7307 - val_loss: 0.7301 - val_accuracy: 0.7704\n",
      "Epoch 99/500\n",
      "182/182 [==============================] - 14s 78ms/step - loss: 0.7516 - accuracy: 0.7361 - val_loss: 0.7711 - val_accuracy: 0.7578\n",
      "Epoch 100/500\n",
      "182/182 [==============================] - 14s 77ms/step - loss: 0.7393 - accuracy: 0.7370 - val_loss: 0.8035 - val_accuracy: 0.7578\n",
      "Epoch 101/500\n",
      "182/182 [==============================] - 14s 78ms/step - loss: 0.7480 - accuracy: 0.7385 - val_loss: 0.8324 - val_accuracy: 0.7390\n",
      "Epoch 102/500\n",
      "182/182 [==============================] - 14s 78ms/step - loss: 0.7561 - accuracy: 0.7359 - val_loss: 0.7454 - val_accuracy: 0.7557\n",
      "Epoch 103/500\n",
      "182/182 [==============================] - 14s 77ms/step - loss: 0.7396 - accuracy: 0.7459 - val_loss: 0.7865 - val_accuracy: 0.7390\n",
      "Epoch 104/500\n",
      "182/182 [==============================] - 14s 77ms/step - loss: 0.7252 - accuracy: 0.7452 - val_loss: 0.7353 - val_accuracy: 0.7578\n",
      "Epoch 105/500\n",
      "182/182 [==============================] - 14s 78ms/step - loss: 0.7349 - accuracy: 0.7437 - val_loss: 0.7834 - val_accuracy: 0.7495\n",
      "Epoch 106/500\n",
      "182/182 [==============================] - 14s 78ms/step - loss: 0.7204 - accuracy: 0.7450 - val_loss: 0.7557 - val_accuracy: 0.7683\n",
      "Epoch 107/500\n",
      "182/182 [==============================] - 14s 77ms/step - loss: 0.7138 - accuracy: 0.7472 - val_loss: 0.7800 - val_accuracy: 0.7578\n",
      "Epoch 108/500\n",
      "182/182 [==============================] - 14s 78ms/step - loss: 0.7153 - accuracy: 0.7515 - val_loss: 0.7664 - val_accuracy: 0.7641\n",
      "Epoch 109/500\n",
      "182/182 [==============================] - 14s 78ms/step - loss: 0.7325 - accuracy: 0.7448 - val_loss: 0.8157 - val_accuracy: 0.7516\n",
      "Epoch 110/500\n",
      "182/182 [==============================] - 14s 78ms/step - loss: 0.7222 - accuracy: 0.7490 - val_loss: 0.7512 - val_accuracy: 0.7557\n",
      "Epoch 111/500\n",
      "182/182 [==============================] - 14s 78ms/step - loss: 0.7248 - accuracy: 0.7474 - val_loss: 0.7623 - val_accuracy: 0.7578\n",
      "Epoch 112/500\n",
      "182/182 [==============================] - 14s 77ms/step - loss: 0.7211 - accuracy: 0.7464 - val_loss: 0.8492 - val_accuracy: 0.7370\n",
      "Epoch 113/500\n",
      "182/182 [==============================] - 14s 78ms/step - loss: 0.7237 - accuracy: 0.7447 - val_loss: 0.7727 - val_accuracy: 0.7599\n",
      "Epoch 114/500\n",
      "182/182 [==============================] - 14s 78ms/step - loss: 0.7249 - accuracy: 0.7431 - val_loss: 0.8426 - val_accuracy: 0.7328\n",
      "Epoch 115/500\n",
      "182/182 [==============================] - 14s 78ms/step - loss: 0.7147 - accuracy: 0.7465 - val_loss: 0.7853 - val_accuracy: 0.7537\n",
      "Epoch 116/500\n",
      "182/182 [==============================] - 14s 78ms/step - loss: 0.7050 - accuracy: 0.7505 - val_loss: 0.7551 - val_accuracy: 0.7745\n",
      "Epoch 117/500\n",
      "182/182 [==============================] - 14s 78ms/step - loss: 0.7173 - accuracy: 0.7440 - val_loss: 0.8059 - val_accuracy: 0.7265\n",
      "Epoch 118/500\n",
      "182/182 [==============================] - 14s 78ms/step - loss: 0.7058 - accuracy: 0.7521 - val_loss: 0.8314 - val_accuracy: 0.7453\n",
      "Epoch 119/500\n",
      "182/182 [==============================] - 14s 77ms/step - loss: 0.7029 - accuracy: 0.7552 - val_loss: 0.7616 - val_accuracy: 0.7474\n",
      "Epoch 120/500\n",
      "182/182 [==============================] - 14s 78ms/step - loss: 0.7032 - accuracy: 0.7509 - val_loss: 0.7803 - val_accuracy: 0.7683\n",
      "Epoch 121/500\n",
      "182/182 [==============================] - 14s 77ms/step - loss: 0.7091 - accuracy: 0.7504 - val_loss: 0.8113 - val_accuracy: 0.7516\n",
      "Epoch 122/500\n",
      "182/182 [==============================] - 14s 77ms/step - loss: 0.7041 - accuracy: 0.7474 - val_loss: 0.7887 - val_accuracy: 0.7411\n",
      "Epoch 123/500\n",
      "182/182 [==============================] - 14s 77ms/step - loss: 0.7103 - accuracy: 0.7503 - val_loss: 0.7888 - val_accuracy: 0.7620\n",
      "Epoch 124/500\n",
      "182/182 [==============================] - 14s 77ms/step - loss: 0.7001 - accuracy: 0.7517 - val_loss: 0.7744 - val_accuracy: 0.7766\n",
      "Epoch 125/500\n",
      "182/182 [==============================] - 14s 77ms/step - loss: 0.7186 - accuracy: 0.7456 - val_loss: 0.7656 - val_accuracy: 0.7620\n",
      "Epoch 126/500\n"
     ]
    },
    {
     "name": "stdout",
     "output_type": "stream",
     "text": [
      "182/182 [==============================] - 14s 78ms/step - loss: 0.7066 - accuracy: 0.7512 - val_loss: 0.7749 - val_accuracy: 0.7620\n",
      "Epoch 127/500\n",
      "182/182 [==============================] - 14s 77ms/step - loss: 0.6937 - accuracy: 0.7533 - val_loss: 0.7932 - val_accuracy: 0.7620\n",
      "Epoch 128/500\n",
      "182/182 [==============================] - 14s 78ms/step - loss: 0.6979 - accuracy: 0.7587 - val_loss: 0.7801 - val_accuracy: 0.7724\n",
      "Epoch 129/500\n",
      "182/182 [==============================] - 14s 78ms/step - loss: 0.6958 - accuracy: 0.7532 - val_loss: 0.8185 - val_accuracy: 0.7641\n",
      "Epoch 130/500\n",
      "182/182 [==============================] - 14s 78ms/step - loss: 0.7078 - accuracy: 0.7556 - val_loss: 0.7587 - val_accuracy: 0.7724\n",
      "Epoch 131/500\n",
      "182/182 [==============================] - 14s 77ms/step - loss: 0.6980 - accuracy: 0.7566 - val_loss: 0.7982 - val_accuracy: 0.7453\n",
      "Epoch 132/500\n",
      "182/182 [==============================] - 14s 78ms/step - loss: 0.6841 - accuracy: 0.7600 - val_loss: 0.7827 - val_accuracy: 0.7724\n",
      "Epoch 133/500\n",
      "182/182 [==============================] - 14s 77ms/step - loss: 0.7094 - accuracy: 0.7503 - val_loss: 0.8585 - val_accuracy: 0.7390\n",
      "Epoch 134/500\n",
      "182/182 [==============================] - 14s 78ms/step - loss: 0.6919 - accuracy: 0.7545 - val_loss: 0.7871 - val_accuracy: 0.7432\n",
      "Epoch 135/500\n",
      "182/182 [==============================] - 14s 78ms/step - loss: 0.7055 - accuracy: 0.7503 - val_loss: 0.8070 - val_accuracy: 0.7578\n",
      "Epoch 136/500\n",
      "182/182 [==============================] - 14s 78ms/step - loss: 0.6861 - accuracy: 0.7576 - val_loss: 0.8131 - val_accuracy: 0.7745\n",
      "Epoch 137/500\n",
      "182/182 [==============================] - 14s 78ms/step - loss: 0.6913 - accuracy: 0.7553 - val_loss: 0.8903 - val_accuracy: 0.7474\n",
      "Epoch 138/500\n",
      "182/182 [==============================] - 14s 77ms/step - loss: 0.6912 - accuracy: 0.7565 - val_loss: 0.7921 - val_accuracy: 0.7578\n",
      "Epoch 139/500\n",
      "182/182 [==============================] - 14s 78ms/step - loss: 0.6716 - accuracy: 0.7623 - val_loss: 0.8462 - val_accuracy: 0.7620\n",
      "Epoch 140/500\n",
      "182/182 [==============================] - 14s 77ms/step - loss: 0.6728 - accuracy: 0.7622 - val_loss: 0.7932 - val_accuracy: 0.7557\n",
      "Epoch 141/500\n",
      "182/182 [==============================] - 14s 77ms/step - loss: 0.6755 - accuracy: 0.7643 - val_loss: 0.8129 - val_accuracy: 0.7599\n",
      "Epoch 142/500\n",
      "182/182 [==============================] - 14s 78ms/step - loss: 0.6896 - accuracy: 0.7547 - val_loss: 0.8251 - val_accuracy: 0.7578\n",
      "Epoch 143/500\n",
      "182/182 [==============================] - 14s 77ms/step - loss: 0.6714 - accuracy: 0.7629 - val_loss: 0.8306 - val_accuracy: 0.7704\n",
      "Epoch 144/500\n",
      "182/182 [==============================] - 14s 78ms/step - loss: 0.6813 - accuracy: 0.7614 - val_loss: 0.8382 - val_accuracy: 0.7620\n",
      "Epoch 145/500\n",
      "182/182 [==============================] - 14s 78ms/step - loss: 0.6585 - accuracy: 0.7685 - val_loss: 0.8177 - val_accuracy: 0.7578\n",
      "Epoch 146/500\n",
      "182/182 [==============================] - 14s 78ms/step - loss: 0.6753 - accuracy: 0.7635 - val_loss: 0.7835 - val_accuracy: 0.7578\n",
      "Epoch 147/500\n",
      "182/182 [==============================] - 14s 77ms/step - loss: 0.6857 - accuracy: 0.7585 - val_loss: 0.8086 - val_accuracy: 0.7557\n",
      "Epoch 148/500\n",
      "182/182 [==============================] - 14s 77ms/step - loss: 0.6626 - accuracy: 0.7655 - val_loss: 0.8054 - val_accuracy: 0.7328\n",
      "Epoch 149/500\n",
      "182/182 [==============================] - 14s 77ms/step - loss: 0.6696 - accuracy: 0.7638 - val_loss: 0.8159 - val_accuracy: 0.7620\n",
      "Epoch 150/500\n",
      "182/182 [==============================] - 14s 78ms/step - loss: 0.6707 - accuracy: 0.7615 - val_loss: 0.8215 - val_accuracy: 0.7578\n",
      "Epoch 151/500\n",
      "182/182 [==============================] - 14s 78ms/step - loss: 0.6773 - accuracy: 0.7591 - val_loss: 0.8379 - val_accuracy: 0.7390\n",
      "Epoch 152/500\n",
      "182/182 [==============================] - 14s 78ms/step - loss: 0.6706 - accuracy: 0.7614 - val_loss: 0.8593 - val_accuracy: 0.7474\n",
      "Epoch 153/500\n",
      "182/182 [==============================] - 14s 78ms/step - loss: 0.6770 - accuracy: 0.7616 - val_loss: 0.8096 - val_accuracy: 0.7641\n",
      "Epoch 154/500\n",
      "182/182 [==============================] - 14s 77ms/step - loss: 0.6650 - accuracy: 0.7635 - val_loss: 0.8309 - val_accuracy: 0.7516\n",
      "Epoch 155/500\n",
      "182/182 [==============================] - 14s 78ms/step - loss: 0.6620 - accuracy: 0.7692 - val_loss: 0.8245 - val_accuracy: 0.7495\n",
      "Epoch 156/500\n",
      "182/182 [==============================] - 14s 78ms/step - loss: 0.6515 - accuracy: 0.7679 - val_loss: 0.7966 - val_accuracy: 0.7453\n",
      "Epoch 157/500\n",
      "182/182 [==============================] - 14s 78ms/step - loss: 0.6645 - accuracy: 0.7647 - val_loss: 0.8092 - val_accuracy: 0.7578\n",
      "Epoch 158/500\n",
      "182/182 [==============================] - 14s 77ms/step - loss: 0.6612 - accuracy: 0.7643 - val_loss: 0.8335 - val_accuracy: 0.7495\n",
      "Epoch 159/500\n",
      "182/182 [==============================] - 14s 78ms/step - loss: 0.6642 - accuracy: 0.7637 - val_loss: 0.8530 - val_accuracy: 0.7474\n",
      "Epoch 160/500\n",
      "182/182 [==============================] - 14s 77ms/step - loss: 0.6754 - accuracy: 0.7647 - val_loss: 0.8571 - val_accuracy: 0.7578\n",
      "Epoch 161/500\n",
      "182/182 [==============================] - 14s 77ms/step - loss: 0.6654 - accuracy: 0.7648 - val_loss: 0.7895 - val_accuracy: 0.7683\n",
      "Epoch 162/500\n",
      "182/182 [==============================] - 14s 78ms/step - loss: 0.6667 - accuracy: 0.7668 - val_loss: 0.7957 - val_accuracy: 0.7599\n",
      "Epoch 163/500\n",
      "182/182 [==============================] - 14s 78ms/step - loss: 0.6622 - accuracy: 0.7688 - val_loss: 0.8032 - val_accuracy: 0.7516\n",
      "Epoch 164/500\n",
      "182/182 [==============================] - 14s 77ms/step - loss: 0.6448 - accuracy: 0.7755 - val_loss: 0.8030 - val_accuracy: 0.7578\n",
      "Epoch 165/500\n",
      "182/182 [==============================] - 14s 77ms/step - loss: 0.6419 - accuracy: 0.7708 - val_loss: 0.8330 - val_accuracy: 0.7474\n",
      "Epoch 166/500\n",
      "182/182 [==============================] - 14s 77ms/step - loss: 0.6453 - accuracy: 0.7713 - val_loss: 0.7990 - val_accuracy: 0.7578\n",
      "Epoch 167/500\n",
      "182/182 [==============================] - 14s 78ms/step - loss: 0.6542 - accuracy: 0.7680 - val_loss: 0.8046 - val_accuracy: 0.7495\n",
      "Epoch 168/500\n",
      "182/182 [==============================] - 14s 77ms/step - loss: 0.6295 - accuracy: 0.7774 - val_loss: 0.8204 - val_accuracy: 0.7516\n",
      "Epoch 169/500\n",
      "182/182 [==============================] - 14s 77ms/step - loss: 0.6448 - accuracy: 0.7727 - val_loss: 0.8763 - val_accuracy: 0.7495\n",
      "Epoch 170/500\n",
      "182/182 [==============================] - 14s 78ms/step - loss: 0.6431 - accuracy: 0.7767 - val_loss: 0.7927 - val_accuracy: 0.7599\n",
      "Epoch 171/500\n",
      "182/182 [==============================] - 14s 78ms/step - loss: 0.6494 - accuracy: 0.7732 - val_loss: 0.8604 - val_accuracy: 0.7683\n",
      "Epoch 172/500\n",
      "182/182 [==============================] - 14s 78ms/step - loss: 0.6492 - accuracy: 0.7723 - val_loss: 0.8506 - val_accuracy: 0.7683\n",
      "Epoch 173/500\n",
      "182/182 [==============================] - 14s 77ms/step - loss: 0.6516 - accuracy: 0.7693 - val_loss: 0.8182 - val_accuracy: 0.7578\n",
      "Epoch 174/500\n",
      "182/182 [==============================] - 14s 77ms/step - loss: 0.6434 - accuracy: 0.7671 - val_loss: 0.8451 - val_accuracy: 0.7641\n",
      "Epoch 175/500\n",
      "182/182 [==============================] - 14s 78ms/step - loss: 0.6380 - accuracy: 0.7700 - val_loss: 0.8043 - val_accuracy: 0.7557\n",
      "Epoch 176/500\n",
      "182/182 [==============================] - 14s 78ms/step - loss: 0.6419 - accuracy: 0.7768 - val_loss: 0.8291 - val_accuracy: 0.7578\n",
      "Epoch 177/500\n",
      "182/182 [==============================] - 14s 77ms/step - loss: 0.6298 - accuracy: 0.7764 - val_loss: 0.8049 - val_accuracy: 0.7662\n",
      "Epoch 178/500\n",
      "182/182 [==============================] - 14s 78ms/step - loss: 0.6570 - accuracy: 0.7713 - val_loss: 0.8585 - val_accuracy: 0.7557\n",
      "Epoch 179/500\n",
      "182/182 [==============================] - 14s 77ms/step - loss: 0.6471 - accuracy: 0.7726 - val_loss: 0.8598 - val_accuracy: 0.7787\n",
      "Epoch 180/500\n",
      "182/182 [==============================] - 14s 78ms/step - loss: 0.6313 - accuracy: 0.7785 - val_loss: 0.7815 - val_accuracy: 0.7516\n",
      "Epoch 181/500\n",
      "182/182 [==============================] - 14s 77ms/step - loss: 0.6427 - accuracy: 0.7729 - val_loss: 0.7959 - val_accuracy: 0.7724\n"
     ]
    },
    {
     "name": "stdout",
     "output_type": "stream",
     "text": [
      "Epoch 182/500\n",
      "182/182 [==============================] - 14s 78ms/step - loss: 0.6306 - accuracy: 0.7706 - val_loss: 0.8750 - val_accuracy: 0.7453\n",
      "Epoch 183/500\n",
      "182/182 [==============================] - 14s 77ms/step - loss: 0.6373 - accuracy: 0.7723 - val_loss: 0.8389 - val_accuracy: 0.7662\n",
      "Epoch 184/500\n",
      "182/182 [==============================] - 14s 78ms/step - loss: 0.6249 - accuracy: 0.7752 - val_loss: 0.8207 - val_accuracy: 0.7683\n",
      "Epoch 185/500\n",
      "182/182 [==============================] - 14s 78ms/step - loss: 0.6289 - accuracy: 0.7811 - val_loss: 0.8279 - val_accuracy: 0.7557\n",
      "Epoch 186/500\n",
      "182/182 [==============================] - 14s 77ms/step - loss: 0.6163 - accuracy: 0.7818 - val_loss: 0.8448 - val_accuracy: 0.7599\n",
      "Epoch 187/500\n",
      "182/182 [==============================] - 14s 77ms/step - loss: 0.6413 - accuracy: 0.7748 - val_loss: 0.8597 - val_accuracy: 0.7620\n",
      "Epoch 188/500\n",
      "182/182 [==============================] - 14s 77ms/step - loss: 0.6203 - accuracy: 0.7759 - val_loss: 0.8762 - val_accuracy: 0.7599\n",
      "Epoch 189/500\n",
      "182/182 [==============================] - 14s 78ms/step - loss: 0.6394 - accuracy: 0.7734 - val_loss: 0.8154 - val_accuracy: 0.7516\n",
      "Epoch 190/500\n",
      "182/182 [==============================] - 14s 78ms/step - loss: 0.6298 - accuracy: 0.7794 - val_loss: 0.8574 - val_accuracy: 0.7704\n",
      "Epoch 191/500\n",
      "182/182 [==============================] - 14s 78ms/step - loss: 0.6387 - accuracy: 0.7729 - val_loss: 0.8616 - val_accuracy: 0.7745\n",
      "Epoch 192/500\n",
      "182/182 [==============================] - 14s 78ms/step - loss: 0.6155 - accuracy: 0.7784 - val_loss: 0.8524 - val_accuracy: 0.7683\n",
      "Epoch 193/500\n",
      "182/182 [==============================] - 14s 78ms/step - loss: 0.6176 - accuracy: 0.7817 - val_loss: 0.8657 - val_accuracy: 0.7557\n",
      "Epoch 194/500\n",
      "182/182 [==============================] - 14s 77ms/step - loss: 0.6262 - accuracy: 0.7771 - val_loss: 0.8465 - val_accuracy: 0.7641\n",
      "Epoch 195/500\n",
      "182/182 [==============================] - 14s 78ms/step - loss: 0.6209 - accuracy: 0.7815 - val_loss: 0.8171 - val_accuracy: 0.7724\n",
      "Epoch 196/500\n",
      "182/182 [==============================] - 14s 78ms/step - loss: 0.6242 - accuracy: 0.7767 - val_loss: 0.8301 - val_accuracy: 0.7766\n",
      "Epoch 197/500\n",
      "182/182 [==============================] - 14s 78ms/step - loss: 0.6303 - accuracy: 0.7767 - val_loss: 0.8169 - val_accuracy: 0.7662\n",
      "Epoch 198/500\n",
      "182/182 [==============================] - 14s 77ms/step - loss: 0.6148 - accuracy: 0.7791 - val_loss: 0.8265 - val_accuracy: 0.7724\n",
      "Epoch 199/500\n",
      "182/182 [==============================] - 14s 77ms/step - loss: 0.6199 - accuracy: 0.7808 - val_loss: 0.8120 - val_accuracy: 0.7516\n",
      "Epoch 200/500\n",
      "182/182 [==============================] - 14s 77ms/step - loss: 0.6185 - accuracy: 0.7794 - val_loss: 0.8279 - val_accuracy: 0.7474\n",
      "Epoch 201/500\n",
      "182/182 [==============================] - 14s 77ms/step - loss: 0.6084 - accuracy: 0.7786 - val_loss: 0.8871 - val_accuracy: 0.7474\n",
      "Epoch 202/500\n",
      "182/182 [==============================] - 14s 78ms/step - loss: 0.6221 - accuracy: 0.7784 - val_loss: 0.9318 - val_accuracy: 0.7537\n",
      "Epoch 203/500\n",
      "182/182 [==============================] - 14s 77ms/step - loss: 0.6142 - accuracy: 0.7869 - val_loss: 0.8506 - val_accuracy: 0.7641\n",
      "Epoch 204/500\n",
      "182/182 [==============================] - 14s 77ms/step - loss: 0.6245 - accuracy: 0.7811 - val_loss: 0.8505 - val_accuracy: 0.7745\n",
      "Epoch 205/500\n",
      "182/182 [==============================] - 14s 77ms/step - loss: 0.6193 - accuracy: 0.7793 - val_loss: 0.8517 - val_accuracy: 0.7620\n",
      "Epoch 206/500\n",
      "182/182 [==============================] - 14s 78ms/step - loss: 0.5994 - accuracy: 0.7824 - val_loss: 0.8420 - val_accuracy: 0.7516\n",
      "Epoch 207/500\n",
      "182/182 [==============================] - 14s 78ms/step - loss: 0.6210 - accuracy: 0.7817 - val_loss: 0.9021 - val_accuracy: 0.7474\n",
      "Epoch 208/500\n",
      "182/182 [==============================] - 14s 77ms/step - loss: 0.6168 - accuracy: 0.7811 - val_loss: 0.8807 - val_accuracy: 0.7557\n",
      "Epoch 209/500\n",
      "182/182 [==============================] - 14s 78ms/step - loss: 0.6213 - accuracy: 0.7807 - val_loss: 0.8283 - val_accuracy: 0.7683\n",
      "Epoch 210/500\n",
      "182/182 [==============================] - 14s 78ms/step - loss: 0.6221 - accuracy: 0.7772 - val_loss: 0.8629 - val_accuracy: 0.7453\n",
      "Epoch 211/500\n",
      "182/182 [==============================] - 14s 78ms/step - loss: 0.6070 - accuracy: 0.7798 - val_loss: 0.8450 - val_accuracy: 0.7516\n",
      "Epoch 212/500\n",
      "182/182 [==============================] - 14s 78ms/step - loss: 0.6069 - accuracy: 0.7852 - val_loss: 0.8274 - val_accuracy: 0.7516\n",
      "Epoch 213/500\n",
      "182/182 [==============================] - 14s 78ms/step - loss: 0.6126 - accuracy: 0.7837 - val_loss: 0.8343 - val_accuracy: 0.7453\n",
      "Epoch 214/500\n",
      "182/182 [==============================] - 14s 77ms/step - loss: 0.6151 - accuracy: 0.7852 - val_loss: 0.8319 - val_accuracy: 0.7557\n",
      "Epoch 215/500\n",
      "182/182 [==============================] - 14s 78ms/step - loss: 0.6120 - accuracy: 0.7822 - val_loss: 0.8510 - val_accuracy: 0.7620\n",
      "Epoch 216/500\n",
      "182/182 [==============================] - 14s 78ms/step - loss: 0.6071 - accuracy: 0.7823 - val_loss: 0.8190 - val_accuracy: 0.7662\n",
      "Epoch 217/500\n",
      "182/182 [==============================] - 14s 77ms/step - loss: 0.5946 - accuracy: 0.7872 - val_loss: 0.7895 - val_accuracy: 0.7724\n",
      "Epoch 218/500\n",
      "182/182 [==============================] - 14s 78ms/step - loss: 0.5996 - accuracy: 0.7893 - val_loss: 0.8194 - val_accuracy: 0.7599\n",
      "Epoch 219/500\n",
      "182/182 [==============================] - 14s 78ms/step - loss: 0.6163 - accuracy: 0.7806 - val_loss: 0.8271 - val_accuracy: 0.7787\n",
      "Epoch 220/500\n",
      "182/182 [==============================] - 14s 77ms/step - loss: 0.5943 - accuracy: 0.7918 - val_loss: 0.8187 - val_accuracy: 0.7578\n",
      "Epoch 221/500\n",
      "182/182 [==============================] - 14s 78ms/step - loss: 0.6089 - accuracy: 0.7889 - val_loss: 0.8309 - val_accuracy: 0.7537\n",
      "Epoch 222/500\n",
      "182/182 [==============================] - 14s 78ms/step - loss: 0.6071 - accuracy: 0.7881 - val_loss: 0.7795 - val_accuracy: 0.7745\n",
      "Epoch 223/500\n",
      "182/182 [==============================] - 14s 77ms/step - loss: 0.6010 - accuracy: 0.7895 - val_loss: 0.7974 - val_accuracy: 0.7495\n",
      "Epoch 224/500\n",
      "182/182 [==============================] - 14s 78ms/step - loss: 0.6072 - accuracy: 0.7851 - val_loss: 0.7873 - val_accuracy: 0.7662\n",
      "Epoch 225/500\n",
      "182/182 [==============================] - 14s 78ms/step - loss: 0.6052 - accuracy: 0.7807 - val_loss: 0.8083 - val_accuracy: 0.7808\n",
      "Epoch 226/500\n",
      "182/182 [==============================] - 14s 77ms/step - loss: 0.5965 - accuracy: 0.7874 - val_loss: 0.8238 - val_accuracy: 0.7704\n",
      "Epoch 227/500\n",
      "182/182 [==============================] - 14s 78ms/step - loss: 0.5988 - accuracy: 0.7882 - val_loss: 0.8477 - val_accuracy: 0.7745\n",
      "Epoch 228/500\n",
      "182/182 [==============================] - 14s 77ms/step - loss: 0.5996 - accuracy: 0.7871 - val_loss: 0.8350 - val_accuracy: 0.7787\n",
      "Epoch 229/500\n",
      "182/182 [==============================] - 14s 77ms/step - loss: 0.5982 - accuracy: 0.7877 - val_loss: 0.8365 - val_accuracy: 0.7641\n",
      "Epoch 230/500\n",
      "182/182 [==============================] - 14s 78ms/step - loss: 0.6040 - accuracy: 0.7836 - val_loss: 0.8414 - val_accuracy: 0.7662\n",
      "Epoch 231/500\n",
      "182/182 [==============================] - 14s 77ms/step - loss: 0.5935 - accuracy: 0.7884 - val_loss: 0.8749 - val_accuracy: 0.7724\n",
      "Epoch 232/500\n",
      "181/182 [============================>.] - ETA: 0s - loss: 0.6032 - accuracy: 0.7889"
     ]
    },
    {
     "name": "stderr",
     "output_type": "stream",
     "text": [
      "WARNING:absl:Function `_wrapped_model` contains input name(s) Input with unsupported characters which will be renamed to input in the SavedModel.\n",
      "WARNING:absl:Found untraced functions such as lstm_cell_1_layer_call_fn, lstm_cell_1_layer_call_and_return_conditional_losses, lstm_cell_2_layer_call_fn, lstm_cell_2_layer_call_and_return_conditional_losses, lstm_cell_4_layer_call_fn while saving (showing 5 of 20). These functions will not be directly callable after loading.\n"
     ]
    },
    {
     "name": "stdout",
     "output_type": "stream",
     "text": [
      "INFO:tensorflow:Assets written to: experiments\\ResLSTM_Dec17_02-56-07\\base_ckpts\\cp_232.ckpt\\assets\n"
     ]
    },
    {
     "name": "stderr",
     "output_type": "stream",
     "text": [
      "INFO:tensorflow:Assets written to: experiments\\ResLSTM_Dec17_02-56-07\\base_ckpts\\cp_232.ckpt\\assets\n"
     ]
    },
    {
     "name": "stdout",
     "output_type": "stream",
     "text": [
      "182/182 [==============================] - 84s 461ms/step - loss: 0.6031 - accuracy: 0.7890 - val_loss: 0.8293 - val_accuracy: 0.7954\n",
      "Epoch 233/500\n",
      "182/182 [==============================] - 15s 78ms/step - loss: 0.5963 - accuracy: 0.7905 - val_loss: 0.8833 - val_accuracy: 0.7766\n",
      "Epoch 234/500\n",
      "182/182 [==============================] - 14s 77ms/step - loss: 0.5941 - accuracy: 0.7905 - val_loss: 0.8166 - val_accuracy: 0.7787\n",
      "Epoch 235/500\n",
      "182/182 [==============================] - 14s 78ms/step - loss: 0.6028 - accuracy: 0.7849 - val_loss: 0.8677 - val_accuracy: 0.7620\n",
      "Epoch 236/500\n",
      "182/182 [==============================] - 14s 78ms/step - loss: 0.5923 - accuracy: 0.7876 - val_loss: 0.8421 - val_accuracy: 0.7641\n",
      "Epoch 237/500\n",
      "182/182 [==============================] - 14s 78ms/step - loss: 0.5880 - accuracy: 0.7928 - val_loss: 0.8481 - val_accuracy: 0.7578\n",
      "Epoch 238/500\n",
      "182/182 [==============================] - 14s 78ms/step - loss: 0.5862 - accuracy: 0.7905 - val_loss: 0.8389 - val_accuracy: 0.7745\n",
      "Epoch 239/500\n",
      "182/182 [==============================] - 14s 79ms/step - loss: 0.5998 - accuracy: 0.7862 - val_loss: 0.8768 - val_accuracy: 0.7662\n",
      "Epoch 240/500\n",
      "182/182 [==============================] - 14s 79ms/step - loss: 0.6036 - accuracy: 0.7921 - val_loss: 0.8818 - val_accuracy: 0.7578\n",
      "Epoch 241/500\n",
      "182/182 [==============================] - 14s 79ms/step - loss: 0.5886 - accuracy: 0.7934 - val_loss: 0.8468 - val_accuracy: 0.7766\n",
      "Epoch 242/500\n",
      "182/182 [==============================] - 14s 78ms/step - loss: 0.5780 - accuracy: 0.7963 - val_loss: 0.8368 - val_accuracy: 0.7724\n",
      "Epoch 243/500\n",
      "182/182 [==============================] - 14s 78ms/step - loss: 0.5813 - accuracy: 0.7911 - val_loss: 0.8291 - val_accuracy: 0.7766\n",
      "Epoch 244/500\n",
      "182/182 [==============================] - 14s 78ms/step - loss: 0.5811 - accuracy: 0.7958 - val_loss: 0.7774 - val_accuracy: 0.7808\n",
      "Epoch 245/500\n",
      "182/182 [==============================] - 14s 78ms/step - loss: 0.5822 - accuracy: 0.7946 - val_loss: 0.8682 - val_accuracy: 0.7557\n",
      "Epoch 246/500\n",
      "182/182 [==============================] - 14s 78ms/step - loss: 0.5897 - accuracy: 0.7929 - val_loss: 0.8420 - val_accuracy: 0.7683\n",
      "Epoch 247/500\n",
      "182/182 [==============================] - 14s 78ms/step - loss: 0.5886 - accuracy: 0.7943 - val_loss: 0.8545 - val_accuracy: 0.7516\n",
      "Epoch 248/500\n",
      "182/182 [==============================] - 14s 78ms/step - loss: 0.5954 - accuracy: 0.7866 - val_loss: 0.8659 - val_accuracy: 0.7704\n",
      "Epoch 249/500\n",
      "182/182 [==============================] - 14s 78ms/step - loss: 0.5893 - accuracy: 0.7910 - val_loss: 0.8584 - val_accuracy: 0.7578\n",
      "Epoch 250/500\n",
      "182/182 [==============================] - 14s 78ms/step - loss: 0.5896 - accuracy: 0.7875 - val_loss: 0.8386 - val_accuracy: 0.7474\n",
      "Epoch 251/500\n",
      "182/182 [==============================] - 14s 79ms/step - loss: 0.5897 - accuracy: 0.7879 - val_loss: 0.8639 - val_accuracy: 0.7683\n",
      "Epoch 252/500\n",
      "182/182 [==============================] - 14s 78ms/step - loss: 0.5736 - accuracy: 0.7973 - val_loss: 0.8863 - val_accuracy: 0.7704\n",
      "Epoch 253/500\n",
      "182/182 [==============================] - 14s 78ms/step - loss: 0.5874 - accuracy: 0.7907 - val_loss: 0.8090 - val_accuracy: 0.7704\n",
      "Epoch 254/500\n",
      "182/182 [==============================] - 14s 78ms/step - loss: 0.5707 - accuracy: 0.7965 - val_loss: 0.8202 - val_accuracy: 0.7808\n",
      "Epoch 255/500\n",
      "182/182 [==============================] - 14s 79ms/step - loss: 0.5776 - accuracy: 0.7930 - val_loss: 0.8444 - val_accuracy: 0.7683\n",
      "Epoch 256/500\n",
      "182/182 [==============================] - 14s 78ms/step - loss: 0.5708 - accuracy: 0.7976 - val_loss: 0.8511 - val_accuracy: 0.7578\n",
      "Epoch 257/500\n",
      "182/182 [==============================] - 14s 78ms/step - loss: 0.5671 - accuracy: 0.8003 - val_loss: 0.7858 - val_accuracy: 0.7745\n",
      "Epoch 258/500\n",
      "182/182 [==============================] - 14s 79ms/step - loss: 0.5787 - accuracy: 0.7974 - val_loss: 0.7746 - val_accuracy: 0.7829\n",
      "Epoch 259/500\n",
      "182/182 [==============================] - 14s 78ms/step - loss: 0.5703 - accuracy: 0.7987 - val_loss: 0.8501 - val_accuracy: 0.7557\n",
      "Epoch 260/500\n",
      "182/182 [==============================] - 14s 79ms/step - loss: 0.5650 - accuracy: 0.8015 - val_loss: 0.8370 - val_accuracy: 0.7641\n",
      "Epoch 261/500\n",
      "182/182 [==============================] - 14s 78ms/step - loss: 0.5746 - accuracy: 0.7952 - val_loss: 0.8725 - val_accuracy: 0.7662\n",
      "Epoch 262/500\n",
      "182/182 [==============================] - 14s 79ms/step - loss: 0.5782 - accuracy: 0.7918 - val_loss: 0.8625 - val_accuracy: 0.7787\n",
      "Epoch 263/500\n",
      "182/182 [==============================] - 14s 79ms/step - loss: 0.5863 - accuracy: 0.7914 - val_loss: 0.8341 - val_accuracy: 0.7850\n",
      "Epoch 264/500\n",
      "182/182 [==============================] - 14s 78ms/step - loss: 0.5619 - accuracy: 0.7993 - val_loss: 0.9097 - val_accuracy: 0.7662\n",
      "Epoch 265/500\n",
      "182/182 [==============================] - 14s 78ms/step - loss: 0.5819 - accuracy: 0.7955 - val_loss: 0.8247 - val_accuracy: 0.7724\n",
      "Epoch 266/500\n",
      "182/182 [==============================] - 14s 79ms/step - loss: 0.5771 - accuracy: 0.7951 - val_loss: 0.8417 - val_accuracy: 0.7891\n",
      "Epoch 267/500\n",
      "182/182 [==============================] - 14s 79ms/step - loss: 0.5766 - accuracy: 0.7956 - val_loss: 0.9368 - val_accuracy: 0.7704\n",
      "Epoch 268/500\n",
      "182/182 [==============================] - 14s 79ms/step - loss: 0.5591 - accuracy: 0.8012 - val_loss: 0.9063 - val_accuracy: 0.7599\n",
      "Epoch 269/500\n",
      "182/182 [==============================] - 14s 78ms/step - loss: 0.5728 - accuracy: 0.7960 - val_loss: 0.8763 - val_accuracy: 0.7641\n",
      "Epoch 270/500\n",
      "182/182 [==============================] - 14s 78ms/step - loss: 0.5648 - accuracy: 0.7943 - val_loss: 0.9265 - val_accuracy: 0.7599\n",
      "Epoch 271/500\n",
      "182/182 [==============================] - 14s 78ms/step - loss: 0.5699 - accuracy: 0.7960 - val_loss: 0.9109 - val_accuracy: 0.7453\n",
      "Epoch 272/500\n",
      "182/182 [==============================] - 14s 78ms/step - loss: 0.5682 - accuracy: 0.7948 - val_loss: 0.8746 - val_accuracy: 0.7662\n",
      "Epoch 273/500\n",
      "182/182 [==============================] - 14s 78ms/step - loss: 0.5576 - accuracy: 0.8005 - val_loss: 0.9333 - val_accuracy: 0.7599\n",
      "Epoch 274/500\n",
      "182/182 [==============================] - 14s 78ms/step - loss: 0.5732 - accuracy: 0.7986 - val_loss: 0.8456 - val_accuracy: 0.7641\n",
      "Epoch 275/500\n",
      "182/182 [==============================] - 14s 78ms/step - loss: 0.5625 - accuracy: 0.8035 - val_loss: 0.8206 - val_accuracy: 0.7724\n",
      "Epoch 276/500\n",
      "182/182 [==============================] - 14s 78ms/step - loss: 0.5643 - accuracy: 0.7965 - val_loss: 0.8890 - val_accuracy: 0.7620\n",
      "Epoch 277/500\n",
      "182/182 [==============================] - 14s 78ms/step - loss: 0.5623 - accuracy: 0.8002 - val_loss: 0.9227 - val_accuracy: 0.7662\n",
      "Epoch 278/500\n",
      "182/182 [==============================] - 14s 78ms/step - loss: 0.5711 - accuracy: 0.7970 - val_loss: 0.8935 - val_accuracy: 0.7474\n",
      "Epoch 279/500\n",
      "182/182 [==============================] - 14s 78ms/step - loss: 0.5604 - accuracy: 0.8009 - val_loss: 0.9609 - val_accuracy: 0.7599\n",
      "Epoch 280/500\n",
      "182/182 [==============================] - 14s 78ms/step - loss: 0.5554 - accuracy: 0.8028 - val_loss: 0.9197 - val_accuracy: 0.7850\n",
      "Epoch 281/500\n",
      "182/182 [==============================] - 14s 78ms/step - loss: 0.5663 - accuracy: 0.8017 - val_loss: 0.8946 - val_accuracy: 0.7495\n",
      "Epoch 282/500\n",
      "182/182 [==============================] - 14s 78ms/step - loss: 0.5561 - accuracy: 0.8011 - val_loss: 0.8955 - val_accuracy: 0.7537\n",
      "Epoch 283/500\n",
      "182/182 [==============================] - 14s 78ms/step - loss: 0.5612 - accuracy: 0.8061 - val_loss: 0.8761 - val_accuracy: 0.7599\n",
      "Epoch 284/500\n",
      "182/182 [==============================] - 14s 78ms/step - loss: 0.5528 - accuracy: 0.8031 - val_loss: 0.8495 - val_accuracy: 0.7557\n",
      "Epoch 285/500\n",
      "182/182 [==============================] - 14s 79ms/step - loss: 0.5497 - accuracy: 0.8064 - val_loss: 0.9228 - val_accuracy: 0.7787\n",
      "Epoch 286/500\n",
      "182/182 [==============================] - 14s 78ms/step - loss: 0.5487 - accuracy: 0.8037 - val_loss: 0.8728 - val_accuracy: 0.7808\n",
      "Epoch 287/500\n",
      "182/182 [==============================] - 14s 78ms/step - loss: 0.5523 - accuracy: 0.8053 - val_loss: 0.8866 - val_accuracy: 0.7537\n"
     ]
    },
    {
     "name": "stdout",
     "output_type": "stream",
     "text": [
      "Epoch 288/500\n",
      "182/182 [==============================] - 14s 78ms/step - loss: 0.5337 - accuracy: 0.8110 - val_loss: 0.8787 - val_accuracy: 0.7683\n",
      "Epoch 289/500\n",
      "182/182 [==============================] - 14s 78ms/step - loss: 0.5413 - accuracy: 0.8062 - val_loss: 0.9114 - val_accuracy: 0.7704\n",
      "Epoch 290/500\n",
      "182/182 [==============================] - 14s 78ms/step - loss: 0.5565 - accuracy: 0.8049 - val_loss: 0.9058 - val_accuracy: 0.7620\n",
      "Epoch 291/500\n",
      "182/182 [==============================] - 14s 79ms/step - loss: 0.5637 - accuracy: 0.7990 - val_loss: 0.9346 - val_accuracy: 0.7662\n",
      "Epoch 292/500\n",
      "182/182 [==============================] - 14s 78ms/step - loss: 0.5591 - accuracy: 0.8008 - val_loss: 0.8801 - val_accuracy: 0.7537\n",
      "Epoch 293/500\n",
      "182/182 [==============================] - 14s 78ms/step - loss: 0.5524 - accuracy: 0.8070 - val_loss: 0.9279 - val_accuracy: 0.7495\n",
      "Epoch 294/500\n",
      "182/182 [==============================] - 14s 79ms/step - loss: 0.5535 - accuracy: 0.8064 - val_loss: 0.9121 - val_accuracy: 0.7578\n",
      "Epoch 295/500\n",
      "182/182 [==============================] - 14s 78ms/step - loss: 0.5602 - accuracy: 0.8016 - val_loss: 0.9368 - val_accuracy: 0.7641\n",
      "Epoch 296/500\n",
      "182/182 [==============================] - 14s 79ms/step - loss: 0.5496 - accuracy: 0.8057 - val_loss: 0.8588 - val_accuracy: 0.7662\n",
      "Epoch 297/500\n",
      "182/182 [==============================] - 14s 79ms/step - loss: 0.5526 - accuracy: 0.8018 - val_loss: 0.8854 - val_accuracy: 0.7516\n",
      "Epoch 298/500\n",
      "182/182 [==============================] - 14s 77ms/step - loss: 0.5456 - accuracy: 0.8066 - val_loss: 0.9080 - val_accuracy: 0.7620\n",
      "Epoch 299/500\n",
      "182/182 [==============================] - 14s 79ms/step - loss: 0.5497 - accuracy: 0.8076 - val_loss: 0.8607 - val_accuracy: 0.7620\n",
      "Epoch 300/500\n",
      "182/182 [==============================] - 14s 79ms/step - loss: 0.5496 - accuracy: 0.8053 - val_loss: 0.8801 - val_accuracy: 0.7724\n",
      "Epoch 301/500\n",
      "182/182 [==============================] - 14s 78ms/step - loss: 0.5406 - accuracy: 0.8068 - val_loss: 0.9529 - val_accuracy: 0.7495\n",
      "Epoch 302/500\n",
      "182/182 [==============================] - 14s 79ms/step - loss: 0.5497 - accuracy: 0.8050 - val_loss: 0.9027 - val_accuracy: 0.7557\n",
      "Epoch 303/500\n",
      "182/182 [==============================] - 15s 82ms/step - loss: 0.5602 - accuracy: 0.8024 - val_loss: 0.8812 - val_accuracy: 0.7662\n",
      "Epoch 304/500\n",
      "182/182 [==============================] - 15s 80ms/step - loss: 0.5345 - accuracy: 0.8118 - val_loss: 0.9330 - val_accuracy: 0.7495\n",
      "Epoch 305/500\n",
      "182/182 [==============================] - 14s 78ms/step - loss: 0.5294 - accuracy: 0.8068 - val_loss: 0.9533 - val_accuracy: 0.7641\n",
      "Epoch 306/500\n",
      "182/182 [==============================] - 14s 78ms/step - loss: 0.5549 - accuracy: 0.8021 - val_loss: 0.9575 - val_accuracy: 0.7557\n",
      "Epoch 307/500\n",
      "182/182 [==============================] - 14s 78ms/step - loss: 0.5556 - accuracy: 0.8024 - val_loss: 0.9284 - val_accuracy: 0.7453\n",
      "Epoch 308/500\n",
      "182/182 [==============================] - 14s 78ms/step - loss: 0.5426 - accuracy: 0.8091 - val_loss: 0.9726 - val_accuracy: 0.7453\n",
      "Epoch 309/500\n",
      "182/182 [==============================] - 14s 78ms/step - loss: 0.5641 - accuracy: 0.8022 - val_loss: 0.8873 - val_accuracy: 0.7620\n",
      "Epoch 310/500\n",
      "182/182 [==============================] - 14s 78ms/step - loss: 0.5354 - accuracy: 0.8060 - val_loss: 0.8814 - val_accuracy: 0.7537\n",
      "Epoch 311/500\n",
      "182/182 [==============================] - 14s 78ms/step - loss: 0.5399 - accuracy: 0.8094 - val_loss: 0.8793 - val_accuracy: 0.7349\n",
      "Epoch 312/500\n",
      "182/182 [==============================] - 14s 79ms/step - loss: 0.5357 - accuracy: 0.8100 - val_loss: 0.9394 - val_accuracy: 0.7432\n",
      "Epoch 313/500\n",
      "182/182 [==============================] - 14s 78ms/step - loss: 0.5408 - accuracy: 0.8097 - val_loss: 0.9485 - val_accuracy: 0.7683\n",
      "Epoch 314/500\n",
      "182/182 [==============================] - 14s 78ms/step - loss: 0.5344 - accuracy: 0.8118 - val_loss: 0.8724 - val_accuracy: 0.7453\n",
      "Epoch 315/500\n",
      "182/182 [==============================] - 14s 78ms/step - loss: 0.5383 - accuracy: 0.8089 - val_loss: 0.9263 - val_accuracy: 0.7432\n",
      "Epoch 316/500\n",
      "182/182 [==============================] - 14s 77ms/step - loss: 0.5367 - accuracy: 0.8110 - val_loss: 0.8861 - val_accuracy: 0.7620\n",
      "Epoch 317/500\n",
      "182/182 [==============================] - 14s 79ms/step - loss: 0.5517 - accuracy: 0.8038 - val_loss: 0.9032 - val_accuracy: 0.7578\n",
      "Epoch 318/500\n",
      "182/182 [==============================] - 14s 79ms/step - loss: 0.5511 - accuracy: 0.8051 - val_loss: 0.9071 - val_accuracy: 0.7745\n",
      "Epoch 319/500\n",
      "182/182 [==============================] - 14s 78ms/step - loss: 0.5439 - accuracy: 0.8107 - val_loss: 0.8901 - val_accuracy: 0.7683\n",
      "Epoch 320/500\n",
      "182/182 [==============================] - 14s 78ms/step - loss: 0.5273 - accuracy: 0.8159 - val_loss: 0.8893 - val_accuracy: 0.7724\n",
      "Epoch 321/500\n",
      "182/182 [==============================] - 14s 79ms/step - loss: 0.5384 - accuracy: 0.8085 - val_loss: 0.9039 - val_accuracy: 0.7766\n",
      "Epoch 322/500\n",
      "182/182 [==============================] - 14s 78ms/step - loss: 0.5361 - accuracy: 0.8106 - val_loss: 0.8357 - val_accuracy: 0.7557\n",
      "Epoch 323/500\n",
      "182/182 [==============================] - 14s 79ms/step - loss: 0.5405 - accuracy: 0.8092 - val_loss: 0.9619 - val_accuracy: 0.7704\n",
      "Epoch 324/500\n",
      "182/182 [==============================] - 14s 78ms/step - loss: 0.5282 - accuracy: 0.8113 - val_loss: 0.9227 - val_accuracy: 0.7516\n",
      "Epoch 325/500\n",
      "182/182 [==============================] - 14s 78ms/step - loss: 0.5319 - accuracy: 0.8146 - val_loss: 0.9663 - val_accuracy: 0.7599\n",
      "Epoch 326/500\n",
      "182/182 [==============================] - 14s 79ms/step - loss: 0.5444 - accuracy: 0.8077 - val_loss: 0.9420 - val_accuracy: 0.7599\n",
      "Epoch 327/500\n",
      "182/182 [==============================] - 14s 78ms/step - loss: 0.5376 - accuracy: 0.8109 - val_loss: 0.9551 - val_accuracy: 0.7265\n",
      "Epoch 328/500\n",
      "182/182 [==============================] - 14s 78ms/step - loss: 0.5296 - accuracy: 0.8144 - val_loss: 0.9129 - val_accuracy: 0.7599\n",
      "Epoch 329/500\n",
      "182/182 [==============================] - 14s 78ms/step - loss: 0.5166 - accuracy: 0.8158 - val_loss: 0.9142 - val_accuracy: 0.7620\n",
      "Epoch 330/500\n",
      "182/182 [==============================] - 14s 79ms/step - loss: 0.5431 - accuracy: 0.8088 - val_loss: 0.9089 - val_accuracy: 0.7662\n",
      "Epoch 331/500\n",
      "182/182 [==============================] - 14s 78ms/step - loss: 0.5420 - accuracy: 0.8106 - val_loss: 0.9708 - val_accuracy: 0.7349\n",
      "Epoch 332/500\n",
      "182/182 [==============================] - 14s 79ms/step - loss: 0.5371 - accuracy: 0.8087 - val_loss: 0.9733 - val_accuracy: 0.7516\n",
      "Epoch 333/500\n",
      "182/182 [==============================] - 14s 78ms/step - loss: 0.5197 - accuracy: 0.8150 - val_loss: 0.9566 - val_accuracy: 0.7557\n",
      "Epoch 334/500\n",
      "182/182 [==============================] - 14s 78ms/step - loss: 0.5248 - accuracy: 0.8164 - val_loss: 0.9171 - val_accuracy: 0.7578\n",
      "Epoch 335/500\n",
      "182/182 [==============================] - 14s 78ms/step - loss: 0.5262 - accuracy: 0.8132 - val_loss: 0.9307 - val_accuracy: 0.7620\n",
      "Epoch 336/500\n",
      "182/182 [==============================] - 14s 79ms/step - loss: 0.5362 - accuracy: 0.8075 - val_loss: 0.9444 - val_accuracy: 0.7620\n",
      "Epoch 337/500\n",
      "182/182 [==============================] - 14s 78ms/step - loss: 0.5317 - accuracy: 0.8100 - val_loss: 0.9340 - val_accuracy: 0.7745\n",
      "Epoch 338/500\n",
      "182/182 [==============================] - 14s 78ms/step - loss: 0.5265 - accuracy: 0.8101 - val_loss: 0.9122 - val_accuracy: 0.7495\n",
      "Epoch 339/500\n",
      "182/182 [==============================] - 14s 79ms/step - loss: 0.5230 - accuracy: 0.8138 - val_loss: 0.9283 - val_accuracy: 0.7328\n",
      "Epoch 340/500\n",
      "182/182 [==============================] - 14s 79ms/step - loss: 0.5228 - accuracy: 0.8128 - val_loss: 0.9433 - val_accuracy: 0.7599\n",
      "Epoch 341/500\n",
      "182/182 [==============================] - 14s 79ms/step - loss: 0.5116 - accuracy: 0.8163 - val_loss: 0.9146 - val_accuracy: 0.7432\n",
      "Epoch 342/500\n",
      "182/182 [==============================] - 14s 78ms/step - loss: 0.5162 - accuracy: 0.8187 - val_loss: 0.8581 - val_accuracy: 0.7683\n",
      "Epoch 343/500\n",
      "182/182 [==============================] - 14s 78ms/step - loss: 0.5131 - accuracy: 0.8177 - val_loss: 0.8718 - val_accuracy: 0.7516\n"
     ]
    },
    {
     "name": "stdout",
     "output_type": "stream",
     "text": [
      "Epoch 344/500\n",
      "182/182 [==============================] - 14s 79ms/step - loss: 0.5197 - accuracy: 0.8136 - val_loss: 0.9135 - val_accuracy: 0.7724\n",
      "Epoch 345/500\n",
      "182/182 [==============================] - 14s 78ms/step - loss: 0.5172 - accuracy: 0.8179 - val_loss: 0.8738 - val_accuracy: 0.7766\n",
      "Epoch 346/500\n",
      "182/182 [==============================] - 14s 78ms/step - loss: 0.5235 - accuracy: 0.8124 - val_loss: 0.8684 - val_accuracy: 0.7662\n",
      "Epoch 347/500\n",
      "182/182 [==============================] - 14s 78ms/step - loss: 0.5040 - accuracy: 0.8202 - val_loss: 0.8556 - val_accuracy: 0.7599\n",
      "Epoch 348/500\n",
      "182/182 [==============================] - 14s 78ms/step - loss: 0.5344 - accuracy: 0.8131 - val_loss: 0.8684 - val_accuracy: 0.7641\n",
      "Epoch 349/500\n",
      "182/182 [==============================] - 14s 79ms/step - loss: 0.5322 - accuracy: 0.8146 - val_loss: 0.9133 - val_accuracy: 0.7599\n",
      "Epoch 350/500\n",
      "182/182 [==============================] - 14s 78ms/step - loss: 0.5209 - accuracy: 0.8170 - val_loss: 0.8944 - val_accuracy: 0.7495\n",
      "Epoch 351/500\n",
      "182/182 [==============================] - 14s 78ms/step - loss: 0.5271 - accuracy: 0.8145 - val_loss: 0.9235 - val_accuracy: 0.7578\n",
      "Epoch 352/500\n",
      "182/182 [==============================] - 14s 78ms/step - loss: 0.5034 - accuracy: 0.8196 - val_loss: 0.9326 - val_accuracy: 0.7474\n",
      "Epoch 353/500\n",
      "182/182 [==============================] - 14s 78ms/step - loss: 0.5160 - accuracy: 0.8175 - val_loss: 0.9296 - val_accuracy: 0.7662\n",
      "Epoch 354/500\n",
      "182/182 [==============================] - 14s 79ms/step - loss: 0.5333 - accuracy: 0.8085 - val_loss: 0.9357 - val_accuracy: 0.7641\n",
      "Epoch 355/500\n",
      "182/182 [==============================] - 14s 78ms/step - loss: 0.5152 - accuracy: 0.8183 - val_loss: 0.9017 - val_accuracy: 0.7704\n",
      "Epoch 356/500\n",
      "182/182 [==============================] - 14s 78ms/step - loss: 0.5134 - accuracy: 0.8224 - val_loss: 0.9368 - val_accuracy: 0.7683\n",
      "Epoch 357/500\n",
      "182/182 [==============================] - 14s 78ms/step - loss: 0.5168 - accuracy: 0.8174 - val_loss: 0.9056 - val_accuracy: 0.7620\n",
      "Epoch 358/500\n",
      "182/182 [==============================] - 14s 78ms/step - loss: 0.5179 - accuracy: 0.8132 - val_loss: 0.9456 - val_accuracy: 0.7474\n",
      "Epoch 359/500\n",
      "182/182 [==============================] - 14s 78ms/step - loss: 0.5151 - accuracy: 0.8194 - val_loss: 0.8762 - val_accuracy: 0.7641\n",
      "Epoch 360/500\n",
      "182/182 [==============================] - 14s 78ms/step - loss: 0.5149 - accuracy: 0.8173 - val_loss: 0.8873 - val_accuracy: 0.7641\n",
      "Epoch 361/500\n",
      "182/182 [==============================] - 14s 78ms/step - loss: 0.5129 - accuracy: 0.8147 - val_loss: 0.8458 - val_accuracy: 0.7724\n",
      "Epoch 362/500\n",
      "182/182 [==============================] - 14s 78ms/step - loss: 0.5066 - accuracy: 0.8193 - val_loss: 0.8958 - val_accuracy: 0.7641\n",
      "Epoch 363/500\n",
      "182/182 [==============================] - 14s 79ms/step - loss: 0.5176 - accuracy: 0.8159 - val_loss: 0.9011 - val_accuracy: 0.7516\n",
      "Epoch 364/500\n",
      "182/182 [==============================] - 14s 78ms/step - loss: 0.5021 - accuracy: 0.8188 - val_loss: 0.9218 - val_accuracy: 0.7453\n",
      "Epoch 365/500\n",
      "182/182 [==============================] - 14s 78ms/step - loss: 0.5110 - accuracy: 0.8194 - val_loss: 0.8849 - val_accuracy: 0.7724\n",
      "Epoch 366/500\n",
      "182/182 [==============================] - 14s 79ms/step - loss: 0.5006 - accuracy: 0.8238 - val_loss: 0.9161 - val_accuracy: 0.7766\n",
      "Epoch 367/500\n",
      "182/182 [==============================] - 14s 78ms/step - loss: 0.5146 - accuracy: 0.8148 - val_loss: 0.8885 - val_accuracy: 0.7808\n",
      "Epoch 368/500\n",
      "182/182 [==============================] - 14s 78ms/step - loss: 0.5152 - accuracy: 0.8182 - val_loss: 0.9067 - val_accuracy: 0.7766\n",
      "Epoch 369/500\n",
      "182/182 [==============================] - 15s 80ms/step - loss: 0.5106 - accuracy: 0.8229 - val_loss: 0.8764 - val_accuracy: 0.7662\n",
      "Epoch 370/500\n",
      "182/182 [==============================] - 14s 79ms/step - loss: 0.5193 - accuracy: 0.8188 - val_loss: 0.9489 - val_accuracy: 0.7662\n",
      "Epoch 371/500\n",
      "182/182 [==============================] - 14s 78ms/step - loss: 0.5232 - accuracy: 0.8131 - val_loss: 0.8784 - val_accuracy: 0.7662\n",
      "Epoch 372/500\n",
      "182/182 [==============================] - 14s 78ms/step - loss: 0.5054 - accuracy: 0.8222 - val_loss: 0.8833 - val_accuracy: 0.7724\n",
      "Epoch 373/500\n",
      "182/182 [==============================] - 14s 77ms/step - loss: 0.5045 - accuracy: 0.8242 - val_loss: 0.9580 - val_accuracy: 0.7495\n",
      "Epoch 374/500\n",
      "182/182 [==============================] - 14s 78ms/step - loss: 0.5250 - accuracy: 0.8111 - val_loss: 0.9725 - val_accuracy: 0.7683\n",
      "Epoch 375/500\n",
      "182/182 [==============================] - 14s 78ms/step - loss: 0.5069 - accuracy: 0.8261 - val_loss: 0.9266 - val_accuracy: 0.7641\n",
      "Epoch 376/500\n",
      "182/182 [==============================] - 14s 79ms/step - loss: 0.5136 - accuracy: 0.8191 - val_loss: 0.9164 - val_accuracy: 0.7620\n",
      "Epoch 377/500\n",
      "182/182 [==============================] - 14s 78ms/step - loss: 0.4961 - accuracy: 0.8213 - val_loss: 0.9111 - val_accuracy: 0.7620\n",
      "Epoch 378/500\n",
      "182/182 [==============================] - 14s 78ms/step - loss: 0.5006 - accuracy: 0.8204 - val_loss: 0.9224 - val_accuracy: 0.7766\n",
      "Epoch 379/500\n",
      "182/182 [==============================] - 14s 79ms/step - loss: 0.5049 - accuracy: 0.8203 - val_loss: 0.9609 - val_accuracy: 0.7349\n",
      "Epoch 380/500\n",
      "182/182 [==============================] - 14s 79ms/step - loss: 0.5019 - accuracy: 0.8188 - val_loss: 0.9766 - val_accuracy: 0.7474\n",
      "Epoch 381/500\n",
      "182/182 [==============================] - 14s 78ms/step - loss: 0.4941 - accuracy: 0.8232 - val_loss: 0.9494 - val_accuracy: 0.7411\n",
      "Epoch 382/500\n",
      "182/182 [==============================] - 14s 78ms/step - loss: 0.5101 - accuracy: 0.8164 - val_loss: 0.9550 - val_accuracy: 0.7474\n",
      "Epoch 383/500\n",
      "182/182 [==============================] - 14s 79ms/step - loss: 0.5138 - accuracy: 0.8170 - val_loss: 0.9276 - val_accuracy: 0.7516\n",
      "Epoch 384/500\n",
      "182/182 [==============================] - 14s 78ms/step - loss: 0.5035 - accuracy: 0.8213 - val_loss: 0.9675 - val_accuracy: 0.7557\n",
      "Epoch 385/500\n",
      "182/182 [==============================] - 14s 78ms/step - loss: 0.4889 - accuracy: 0.8273 - val_loss: 0.9822 - val_accuracy: 0.7641\n",
      "Epoch 386/500\n",
      "182/182 [==============================] - 14s 79ms/step - loss: 0.4970 - accuracy: 0.8249 - val_loss: 0.9813 - val_accuracy: 0.7453\n",
      "Epoch 387/500\n",
      "182/182 [==============================] - 14s 78ms/step - loss: 0.5177 - accuracy: 0.8179 - val_loss: 0.9193 - val_accuracy: 0.7641\n",
      "Epoch 388/500\n",
      "182/182 [==============================] - 14s 79ms/step - loss: 0.5134 - accuracy: 0.8202 - val_loss: 0.9964 - val_accuracy: 0.7537\n",
      "Epoch 389/500\n",
      "182/182 [==============================] - 14s 79ms/step - loss: 0.5066 - accuracy: 0.8217 - val_loss: 1.0590 - val_accuracy: 0.7474\n",
      "Epoch 390/500\n",
      "182/182 [==============================] - 14s 77ms/step - loss: 0.4961 - accuracy: 0.8226 - val_loss: 0.9954 - val_accuracy: 0.7537\n",
      "Epoch 391/500\n",
      "182/182 [==============================] - 14s 78ms/step - loss: 0.5056 - accuracy: 0.8211 - val_loss: 0.9880 - val_accuracy: 0.7516\n",
      "Epoch 392/500\n",
      "182/182 [==============================] - 14s 78ms/step - loss: 0.4993 - accuracy: 0.8210 - val_loss: 0.9525 - val_accuracy: 0.7662\n",
      "Epoch 393/500\n",
      "182/182 [==============================] - 14s 78ms/step - loss: 0.5027 - accuracy: 0.8200 - val_loss: 0.9624 - val_accuracy: 0.7578\n",
      "Epoch 394/500\n",
      "182/182 [==============================] - 14s 78ms/step - loss: 0.4838 - accuracy: 0.8288 - val_loss: 0.9838 - val_accuracy: 0.7495\n",
      "Epoch 395/500\n",
      "182/182 [==============================] - 14s 78ms/step - loss: 0.5062 - accuracy: 0.8182 - val_loss: 0.9630 - val_accuracy: 0.7704\n",
      "Epoch 396/500\n",
      "182/182 [==============================] - 14s 78ms/step - loss: 0.4878 - accuracy: 0.8270 - val_loss: 1.0201 - val_accuracy: 0.7557\n",
      "Epoch 397/500\n",
      "182/182 [==============================] - 14s 77ms/step - loss: 0.4961 - accuracy: 0.8293 - val_loss: 0.9460 - val_accuracy: 0.7829\n",
      "Epoch 398/500\n",
      "182/182 [==============================] - 14s 78ms/step - loss: 0.5048 - accuracy: 0.8231 - val_loss: 0.9767 - val_accuracy: 0.7516\n",
      "Epoch 399/500\n",
      "182/182 [==============================] - 14s 77ms/step - loss: 0.5014 - accuracy: 0.8192 - val_loss: 0.9899 - val_accuracy: 0.7620\n"
     ]
    },
    {
     "name": "stdout",
     "output_type": "stream",
     "text": [
      "Epoch 400/500\n",
      "182/182 [==============================] - 14s 78ms/step - loss: 0.5073 - accuracy: 0.8205 - val_loss: 1.0149 - val_accuracy: 0.7557\n",
      "Epoch 401/500\n",
      "182/182 [==============================] - 14s 78ms/step - loss: 0.4964 - accuracy: 0.8245 - val_loss: 0.9491 - val_accuracy: 0.7557\n",
      "Epoch 402/500\n",
      "182/182 [==============================] - 14s 78ms/step - loss: 0.5043 - accuracy: 0.8196 - val_loss: 0.9246 - val_accuracy: 0.7620\n",
      "Epoch 403/500\n",
      "182/182 [==============================] - 14s 78ms/step - loss: 0.4871 - accuracy: 0.8301 - val_loss: 0.9331 - val_accuracy: 0.7516\n",
      "Epoch 404/500\n",
      "182/182 [==============================] - 14s 78ms/step - loss: 0.5083 - accuracy: 0.8201 - val_loss: 1.0029 - val_accuracy: 0.7474\n",
      "Epoch 405/500\n",
      "182/182 [==============================] - 14s 78ms/step - loss: 0.4999 - accuracy: 0.8197 - val_loss: 0.9414 - val_accuracy: 0.7599\n",
      "Epoch 406/500\n",
      "182/182 [==============================] - 14s 78ms/step - loss: 0.4929 - accuracy: 0.8264 - val_loss: 0.9408 - val_accuracy: 0.7683\n",
      "Epoch 407/500\n",
      "182/182 [==============================] - 14s 78ms/step - loss: 0.4925 - accuracy: 0.8260 - val_loss: 0.9548 - val_accuracy: 0.7641\n",
      "Epoch 408/500\n",
      "182/182 [==============================] - 14s 78ms/step - loss: 0.4931 - accuracy: 0.8272 - val_loss: 0.9772 - val_accuracy: 0.7599\n",
      "Epoch 409/500\n",
      "182/182 [==============================] - 14s 77ms/step - loss: 0.4791 - accuracy: 0.8294 - val_loss: 0.9576 - val_accuracy: 0.7495\n",
      "Epoch 410/500\n",
      "182/182 [==============================] - 14s 78ms/step - loss: 0.4961 - accuracy: 0.8259 - val_loss: 0.9459 - val_accuracy: 0.7620\n",
      "Epoch 411/500\n",
      "182/182 [==============================] - 14s 78ms/step - loss: 0.4905 - accuracy: 0.8252 - val_loss: 0.9707 - val_accuracy: 0.7662\n",
      "Epoch 412/500\n",
      "182/182 [==============================] - 14s 78ms/step - loss: 0.4936 - accuracy: 0.8246 - val_loss: 1.0401 - val_accuracy: 0.7578\n",
      "Epoch 413/500\n",
      "182/182 [==============================] - 14s 77ms/step - loss: 0.4871 - accuracy: 0.8269 - val_loss: 0.9513 - val_accuracy: 0.7578\n",
      "Epoch 414/500\n",
      "182/182 [==============================] - 14s 79ms/step - loss: 0.5034 - accuracy: 0.8239 - val_loss: 0.9232 - val_accuracy: 0.7411\n",
      "Epoch 415/500\n",
      "182/182 [==============================] - 14s 78ms/step - loss: 0.4989 - accuracy: 0.8219 - val_loss: 0.9312 - val_accuracy: 0.7599\n",
      "Epoch 416/500\n",
      "182/182 [==============================] - 14s 78ms/step - loss: 0.4855 - accuracy: 0.8293 - val_loss: 0.9038 - val_accuracy: 0.7620\n",
      "Epoch 417/500\n",
      "182/182 [==============================] - 14s 78ms/step - loss: 0.4787 - accuracy: 0.8330 - val_loss: 0.9282 - val_accuracy: 0.7474\n",
      "Epoch 418/500\n",
      "182/182 [==============================] - 14s 78ms/step - loss: 0.5019 - accuracy: 0.8208 - val_loss: 0.9394 - val_accuracy: 0.7349\n",
      "Epoch 419/500\n",
      "182/182 [==============================] - 14s 78ms/step - loss: 0.4915 - accuracy: 0.8263 - val_loss: 0.9376 - val_accuracy: 0.7557\n",
      "Epoch 420/500\n",
      "182/182 [==============================] - 14s 78ms/step - loss: 0.4939 - accuracy: 0.8247 - val_loss: 0.9555 - val_accuracy: 0.7495\n",
      "Epoch 421/500\n",
      "182/182 [==============================] - 14s 77ms/step - loss: 0.4847 - accuracy: 0.8272 - val_loss: 0.9377 - val_accuracy: 0.7537\n",
      "Epoch 422/500\n",
      "182/182 [==============================] - 14s 78ms/step - loss: 0.4778 - accuracy: 0.8315 - val_loss: 0.8871 - val_accuracy: 0.7578\n",
      "Epoch 423/500\n",
      "182/182 [==============================] - 14s 77ms/step - loss: 0.4822 - accuracy: 0.8275 - val_loss: 0.9396 - val_accuracy: 0.7537\n",
      "Epoch 424/500\n",
      "182/182 [==============================] - 14s 78ms/step - loss: 0.4741 - accuracy: 0.8331 - val_loss: 0.9666 - val_accuracy: 0.7474\n",
      "Epoch 425/500\n",
      "182/182 [==============================] - 14s 78ms/step - loss: 0.4902 - accuracy: 0.8232 - val_loss: 0.9046 - val_accuracy: 0.7850\n",
      "Epoch 426/500\n",
      "182/182 [==============================] - 14s 77ms/step - loss: 0.4910 - accuracy: 0.8261 - val_loss: 0.9280 - val_accuracy: 0.7578\n",
      "Epoch 427/500\n",
      "182/182 [==============================] - 14s 79ms/step - loss: 0.4860 - accuracy: 0.8307 - val_loss: 0.9848 - val_accuracy: 0.7453\n",
      "Epoch 428/500\n",
      "182/182 [==============================] - 14s 79ms/step - loss: 0.4779 - accuracy: 0.8345 - val_loss: 0.9486 - val_accuracy: 0.7328\n",
      "Epoch 429/500\n",
      "182/182 [==============================] - 14s 78ms/step - loss: 0.4948 - accuracy: 0.8262 - val_loss: 0.9874 - val_accuracy: 0.7453\n",
      "Epoch 430/500\n",
      "182/182 [==============================] - 14s 78ms/step - loss: 0.4933 - accuracy: 0.8226 - val_loss: 0.9266 - val_accuracy: 0.7432\n",
      "Epoch 431/500\n",
      "182/182 [==============================] - 14s 78ms/step - loss: 0.4980 - accuracy: 0.8249 - val_loss: 0.9660 - val_accuracy: 0.7390\n",
      "Epoch 432/500\n",
      "182/182 [==============================] - 14s 78ms/step - loss: 0.4919 - accuracy: 0.8244 - val_loss: 0.9373 - val_accuracy: 0.7683\n",
      "Epoch 433/500\n",
      "182/182 [==============================] - 14s 78ms/step - loss: 0.4787 - accuracy: 0.8297 - val_loss: 1.0476 - val_accuracy: 0.7474\n",
      "Epoch 434/500\n",
      "182/182 [==============================] - 14s 78ms/step - loss: 0.4834 - accuracy: 0.8266 - val_loss: 0.9095 - val_accuracy: 0.7599\n",
      "Epoch 435/500\n",
      "182/182 [==============================] - 14s 78ms/step - loss: 0.4798 - accuracy: 0.8284 - val_loss: 0.9674 - val_accuracy: 0.7390\n",
      "Epoch 436/500\n",
      "182/182 [==============================] - 14s 77ms/step - loss: 0.4794 - accuracy: 0.8298 - val_loss: 0.9787 - val_accuracy: 0.7432\n",
      "Epoch 437/500\n",
      "182/182 [==============================] - 14s 78ms/step - loss: 0.4842 - accuracy: 0.8288 - val_loss: 0.9412 - val_accuracy: 0.7516\n",
      "Epoch 438/500\n",
      "182/182 [==============================] - 14s 77ms/step - loss: 0.4867 - accuracy: 0.8292 - val_loss: 1.0002 - val_accuracy: 0.7432\n",
      "Epoch 439/500\n",
      "182/182 [==============================] - 14s 78ms/step - loss: 0.4970 - accuracy: 0.8236 - val_loss: 0.9900 - val_accuracy: 0.7370\n",
      "Epoch 440/500\n",
      "182/182 [==============================] - 14s 78ms/step - loss: 0.4837 - accuracy: 0.8270 - val_loss: 1.0125 - val_accuracy: 0.7516\n",
      "Epoch 441/500\n",
      "182/182 [==============================] - 14s 78ms/step - loss: 0.4681 - accuracy: 0.8323 - val_loss: 1.0287 - val_accuracy: 0.7432\n",
      "Epoch 442/500\n",
      "182/182 [==============================] - 14s 78ms/step - loss: 0.4804 - accuracy: 0.8302 - val_loss: 1.0280 - val_accuracy: 0.7641\n",
      "Epoch 443/500\n",
      "182/182 [==============================] - 14s 78ms/step - loss: 0.4825 - accuracy: 0.8281 - val_loss: 1.0267 - val_accuracy: 0.7495\n",
      "Epoch 444/500\n",
      "182/182 [==============================] - 14s 78ms/step - loss: 0.4637 - accuracy: 0.8345 - val_loss: 0.9641 - val_accuracy: 0.7578\n",
      "Epoch 445/500\n",
      "182/182 [==============================] - 14s 77ms/step - loss: 0.4930 - accuracy: 0.8246 - val_loss: 1.0283 - val_accuracy: 0.7578\n",
      "Epoch 446/500\n",
      "182/182 [==============================] - 14s 78ms/step - loss: 0.4830 - accuracy: 0.8283 - val_loss: 0.9939 - val_accuracy: 0.7495\n",
      "Epoch 447/500\n",
      "182/182 [==============================] - 14s 78ms/step - loss: 0.4872 - accuracy: 0.8259 - val_loss: 1.0126 - val_accuracy: 0.7474\n",
      "Epoch 448/500\n",
      "182/182 [==============================] - 14s 78ms/step - loss: 0.4776 - accuracy: 0.8275 - val_loss: 1.0456 - val_accuracy: 0.7328\n",
      "Epoch 449/500\n",
      "182/182 [==============================] - 14s 78ms/step - loss: 0.4847 - accuracy: 0.8275 - val_loss: 1.0392 - val_accuracy: 0.7432\n",
      "Epoch 450/500\n",
      "182/182 [==============================] - 14s 78ms/step - loss: 0.4734 - accuracy: 0.8320 - val_loss: 0.9546 - val_accuracy: 0.7516\n",
      "Epoch 451/500\n",
      "182/182 [==============================] - 14s 77ms/step - loss: 0.4737 - accuracy: 0.8352 - val_loss: 1.0203 - val_accuracy: 0.7411\n",
      "Epoch 452/500\n",
      "182/182 [==============================] - 14s 78ms/step - loss: 0.4750 - accuracy: 0.8328 - val_loss: 0.9688 - val_accuracy: 0.7599\n",
      "Epoch 453/500\n",
      "182/182 [==============================] - 14s 77ms/step - loss: 0.4839 - accuracy: 0.8272 - val_loss: 0.9863 - val_accuracy: 0.7390\n",
      "Epoch 454/500\n",
      "182/182 [==============================] - 14s 78ms/step - loss: 0.4465 - accuracy: 0.8456 - val_loss: 0.9591 - val_accuracy: 0.7599\n",
      "Epoch 455/500\n",
      "182/182 [==============================] - 14s 78ms/step - loss: 0.4755 - accuracy: 0.8320 - val_loss: 0.9926 - val_accuracy: 0.7432\n"
     ]
    },
    {
     "name": "stdout",
     "output_type": "stream",
     "text": [
      "Epoch 456/500\n",
      "182/182 [==============================] - 14s 78ms/step - loss: 0.4835 - accuracy: 0.8282 - val_loss: 0.9840 - val_accuracy: 0.7516\n",
      "Epoch 457/500\n",
      "182/182 [==============================] - 14s 79ms/step - loss: 0.4685 - accuracy: 0.8357 - val_loss: 0.9781 - val_accuracy: 0.7495\n",
      "Epoch 458/500\n",
      "182/182 [==============================] - 14s 78ms/step - loss: 0.4731 - accuracy: 0.8345 - val_loss: 1.0146 - val_accuracy: 0.7390\n",
      "Epoch 459/500\n",
      "182/182 [==============================] - 14s 78ms/step - loss: 0.4729 - accuracy: 0.8300 - val_loss: 1.0266 - val_accuracy: 0.7390\n",
      "Epoch 460/500\n",
      "182/182 [==============================] - 14s 78ms/step - loss: 0.4696 - accuracy: 0.8341 - val_loss: 1.0571 - val_accuracy: 0.7370\n",
      "Epoch 461/500\n",
      "182/182 [==============================] - 14s 78ms/step - loss: 0.4811 - accuracy: 0.8270 - val_loss: 1.0151 - val_accuracy: 0.7557\n",
      "Epoch 462/500\n",
      "182/182 [==============================] - 14s 79ms/step - loss: 0.4942 - accuracy: 0.8241 - val_loss: 0.9930 - val_accuracy: 0.7474\n",
      "Epoch 463/500\n",
      "182/182 [==============================] - 14s 77ms/step - loss: 0.4692 - accuracy: 0.8318 - val_loss: 0.9571 - val_accuracy: 0.7599\n",
      "Epoch 464/500\n",
      "182/182 [==============================] - 14s 79ms/step - loss: 0.4757 - accuracy: 0.8347 - val_loss: 0.9535 - val_accuracy: 0.7683\n",
      "Epoch 465/500\n",
      "182/182 [==============================] - 14s 78ms/step - loss: 0.4665 - accuracy: 0.8342 - val_loss: 0.9452 - val_accuracy: 0.7704\n",
      "Epoch 466/500\n",
      "182/182 [==============================] - 14s 78ms/step - loss: 0.4722 - accuracy: 0.8303 - val_loss: 0.9500 - val_accuracy: 0.7745\n",
      "Epoch 467/500\n",
      "182/182 [==============================] - 14s 77ms/step - loss: 0.4679 - accuracy: 0.8355 - val_loss: 0.9380 - val_accuracy: 0.7724\n",
      "Epoch 468/500\n",
      "182/182 [==============================] - 14s 77ms/step - loss: 0.4723 - accuracy: 0.8325 - val_loss: 1.0172 - val_accuracy: 0.7474\n",
      "Epoch 469/500\n",
      "182/182 [==============================] - 14s 77ms/step - loss: 0.4609 - accuracy: 0.8355 - val_loss: 0.9875 - val_accuracy: 0.7557\n",
      "Epoch 470/500\n",
      "182/182 [==============================] - 14s 78ms/step - loss: 0.4749 - accuracy: 0.8323 - val_loss: 0.9746 - val_accuracy: 0.7474\n",
      "Epoch 471/500\n",
      "182/182 [==============================] - 14s 78ms/step - loss: 0.4755 - accuracy: 0.8333 - val_loss: 0.9959 - val_accuracy: 0.7599\n",
      "Epoch 472/500\n",
      "182/182 [==============================] - 14s 78ms/step - loss: 0.4596 - accuracy: 0.8365 - val_loss: 1.0235 - val_accuracy: 0.7411\n",
      "Epoch 473/500\n",
      "182/182 [==============================] - 14s 78ms/step - loss: 0.4685 - accuracy: 0.8276 - val_loss: 1.0279 - val_accuracy: 0.7474\n",
      "Epoch 474/500\n",
      "182/182 [==============================] - 14s 78ms/step - loss: 0.4558 - accuracy: 0.8351 - val_loss: 1.0095 - val_accuracy: 0.7578\n",
      "Epoch 475/500\n",
      "182/182 [==============================] - 14s 78ms/step - loss: 0.4715 - accuracy: 0.8321 - val_loss: 1.0276 - val_accuracy: 0.7516\n",
      "Epoch 476/500\n",
      "182/182 [==============================] - 14s 78ms/step - loss: 0.4693 - accuracy: 0.8310 - val_loss: 1.0285 - val_accuracy: 0.7495\n",
      "Epoch 477/500\n",
      "182/182 [==============================] - 14s 78ms/step - loss: 0.4780 - accuracy: 0.8323 - val_loss: 1.0113 - val_accuracy: 0.7495\n",
      "Epoch 478/500\n",
      "182/182 [==============================] - 14s 78ms/step - loss: 0.4819 - accuracy: 0.8286 - val_loss: 0.9690 - val_accuracy: 0.7620\n",
      "Epoch 479/500\n",
      "182/182 [==============================] - 14s 78ms/step - loss: 0.4665 - accuracy: 0.8338 - val_loss: 1.0542 - val_accuracy: 0.7411\n",
      "Epoch 480/500\n",
      "182/182 [==============================] - 14s 77ms/step - loss: 0.4721 - accuracy: 0.8351 - val_loss: 0.9801 - val_accuracy: 0.7578\n",
      "Epoch 481/500\n",
      "182/182 [==============================] - 14s 78ms/step - loss: 0.4730 - accuracy: 0.8323 - val_loss: 0.9954 - val_accuracy: 0.7704\n",
      "Epoch 482/500\n",
      "182/182 [==============================] - 14s 78ms/step - loss: 0.4767 - accuracy: 0.8292 - val_loss: 1.0446 - val_accuracy: 0.7390\n",
      "Epoch 483/500\n",
      "182/182 [==============================] - 14s 78ms/step - loss: 0.4688 - accuracy: 0.8375 - val_loss: 1.0276 - val_accuracy: 0.7432\n",
      "Epoch 484/500\n",
      "182/182 [==============================] - 14s 78ms/step - loss: 0.4682 - accuracy: 0.8339 - val_loss: 1.0169 - val_accuracy: 0.7411\n",
      "Epoch 485/500\n",
      "182/182 [==============================] - 14s 78ms/step - loss: 0.4617 - accuracy: 0.8408 - val_loss: 1.0261 - val_accuracy: 0.7495\n",
      "Epoch 486/500\n",
      "182/182 [==============================] - 14s 77ms/step - loss: 0.4675 - accuracy: 0.8330 - val_loss: 0.9876 - val_accuracy: 0.7620\n",
      "Epoch 487/500\n",
      "182/182 [==============================] - 14s 78ms/step - loss: 0.4631 - accuracy: 0.8385 - val_loss: 0.9621 - val_accuracy: 0.7683\n",
      "Epoch 488/500\n",
      "182/182 [==============================] - 14s 78ms/step - loss: 0.4724 - accuracy: 0.8315 - val_loss: 1.0025 - val_accuracy: 0.7578\n",
      "Epoch 489/500\n",
      "182/182 [==============================] - 14s 78ms/step - loss: 0.4697 - accuracy: 0.8380 - val_loss: 1.0146 - val_accuracy: 0.7578\n",
      "Epoch 490/500\n",
      "182/182 [==============================] - 14s 77ms/step - loss: 0.4658 - accuracy: 0.8344 - val_loss: 1.0373 - val_accuracy: 0.7641\n",
      "Epoch 491/500\n",
      "182/182 [==============================] - 14s 78ms/step - loss: 0.4630 - accuracy: 0.8380 - val_loss: 1.0310 - val_accuracy: 0.7662\n",
      "Epoch 492/500\n",
      "182/182 [==============================] - 14s 78ms/step - loss: 0.4609 - accuracy: 0.8376 - val_loss: 1.0128 - val_accuracy: 0.7662\n",
      "Epoch 493/500\n",
      "182/182 [==============================] - 14s 78ms/step - loss: 0.4622 - accuracy: 0.8383 - val_loss: 0.9481 - val_accuracy: 0.7578\n",
      "Epoch 494/500\n",
      "182/182 [==============================] - 14s 78ms/step - loss: 0.4569 - accuracy: 0.8421 - val_loss: 0.9653 - val_accuracy: 0.7599\n",
      "Epoch 495/500\n",
      "182/182 [==============================] - 14s 78ms/step - loss: 0.4554 - accuracy: 0.8377 - val_loss: 0.9962 - val_accuracy: 0.7578\n",
      "Epoch 496/500\n",
      "182/182 [==============================] - 14s 78ms/step - loss: 0.4728 - accuracy: 0.8335 - val_loss: 0.9782 - val_accuracy: 0.7370\n",
      "Epoch 497/500\n",
      "182/182 [==============================] - 14s 78ms/step - loss: 0.4514 - accuracy: 0.8427 - val_loss: 1.0674 - val_accuracy: 0.7411\n",
      "Epoch 498/500\n",
      "182/182 [==============================] - 14s 77ms/step - loss: 0.4617 - accuracy: 0.8365 - val_loss: 1.0281 - val_accuracy: 0.7683\n",
      "Epoch 499/500\n",
      "182/182 [==============================] - 14s 78ms/step - loss: 0.4584 - accuracy: 0.8376 - val_loss: 0.9861 - val_accuracy: 0.7557\n",
      "Epoch 500/500\n",
      "182/182 [==============================] - 14s 78ms/step - loss: 0.4623 - accuracy: 0.8323 - val_loss: 0.9633 - val_accuracy: 0.7620\n"
     ]
    }
   ],
   "source": [
    "history = model.fit(\n",
    "    generator,\n",
    "    validation_data = val_generator,\n",
    "    epochs = 500,\n",
    "    shuffle=False,\n",
    "    callbacks=callbacks\n",
    ").history"
   ]
  },
  {
   "cell_type": "code",
   "execution_count": 39,
   "metadata": {
    "pycharm": {
     "name": "#%%\n"
    }
   },
   "outputs": [
    {
     "name": "stdout",
     "output_type": "stream",
     "text": [
      "Dec17_05-18-07\n",
      "ResLSTM_Dec17_05-18-07\n"
     ]
    }
   ],
   "source": [
    "model = build_model((36,6), classes)\n",
    "generator=AugmentDataGenerator(X_train_KF[1],y_train_KF[1],p=0.5)\n",
    "val_generator=AugmentDataGenerator(X_val_KF[1],y_val_KF[1],p=0)\n",
    "callbacks, date = create_folders_and_callbacks(foldermode)\n",
    "foldername = foldermode + '_' + str(date)\n",
    "print(foldername)"
   ]
  },
  {
   "cell_type": "code",
   "execution_count": 40,
   "metadata": {
    "pycharm": {
     "name": "#%%\n"
    }
   },
   "outputs": [
    {
     "name": "stdout",
     "output_type": "stream",
     "text": [
      "Epoch 1/500\n",
      "180/181 [============================>.] - ETA: 0s - loss: 1.5615 - accuracy: 0.4714"
     ]
    },
    {
     "name": "stderr",
     "output_type": "stream",
     "text": [
      "WARNING:absl:Function `_wrapped_model` contains input name(s) Input with unsupported characters which will be renamed to input in the SavedModel.\n",
      "WARNING:absl:Found untraced functions such as lstm_cell_16_layer_call_fn, lstm_cell_16_layer_call_and_return_conditional_losses, lstm_cell_17_layer_call_fn, lstm_cell_17_layer_call_and_return_conditional_losses, lstm_cell_19_layer_call_fn while saving (showing 5 of 20). These functions will not be directly callable after loading.\n"
     ]
    },
    {
     "name": "stdout",
     "output_type": "stream",
     "text": [
      "INFO:tensorflow:Assets written to: experiments\\ResLSTM_Dec17_05-18-07\\base_ckpts\\cp_01.ckpt\\assets\n"
     ]
    },
    {
     "name": "stderr",
     "output_type": "stream",
     "text": [
      "INFO:tensorflow:Assets written to: experiments\\ResLSTM_Dec17_05-18-07\\base_ckpts\\cp_01.ckpt\\assets\n"
     ]
    },
    {
     "name": "stdout",
     "output_type": "stream",
     "text": [
      "181/181 [==============================] - 100s 488ms/step - loss: 1.5613 - accuracy: 0.4716 - val_loss: 1.2459 - val_accuracy: 0.6117\n",
      "Epoch 2/500\n",
      "181/181 [==============================] - 14s 78ms/step - loss: 1.3407 - accuracy: 0.5363 - val_loss: 1.1684 - val_accuracy: 0.5992\n",
      "Epoch 3/500\n",
      "180/181 [============================>.] - ETA: 0s - loss: 1.2643 - accuracy: 0.5595"
     ]
    },
    {
     "name": "stderr",
     "output_type": "stream",
     "text": [
      "WARNING:absl:Function `_wrapped_model` contains input name(s) Input with unsupported characters which will be renamed to input in the SavedModel.\n",
      "WARNING:absl:Found untraced functions such as lstm_cell_16_layer_call_fn, lstm_cell_16_layer_call_and_return_conditional_losses, lstm_cell_17_layer_call_fn, lstm_cell_17_layer_call_and_return_conditional_losses, lstm_cell_19_layer_call_fn while saving (showing 5 of 20). These functions will not be directly callable after loading.\n"
     ]
    },
    {
     "name": "stdout",
     "output_type": "stream",
     "text": [
      "INFO:tensorflow:Assets written to: experiments\\ResLSTM_Dec17_05-18-07\\base_ckpts\\cp_03.ckpt\\assets\n"
     ]
    },
    {
     "name": "stderr",
     "output_type": "stream",
     "text": [
      "INFO:tensorflow:Assets written to: experiments\\ResLSTM_Dec17_05-18-07\\base_ckpts\\cp_03.ckpt\\assets\n"
     ]
    },
    {
     "name": "stdout",
     "output_type": "stream",
     "text": [
      "181/181 [==============================] - 84s 464ms/step - loss: 1.2646 - accuracy: 0.5596 - val_loss: 1.0536 - val_accuracy: 0.6242\n",
      "Epoch 4/500\n",
      "181/181 [==============================] - 14s 78ms/step - loss: 1.2252 - accuracy: 0.5693 - val_loss: 1.0689 - val_accuracy: 0.6180\n",
      "Epoch 5/500\n",
      "180/181 [============================>.] - ETA: 0s - loss: 1.1886 - accuracy: 0.5841"
     ]
    },
    {
     "name": "stderr",
     "output_type": "stream",
     "text": [
      "WARNING:absl:Function `_wrapped_model` contains input name(s) Input with unsupported characters which will be renamed to input in the SavedModel.\n",
      "WARNING:absl:Found untraced functions such as lstm_cell_16_layer_call_fn, lstm_cell_16_layer_call_and_return_conditional_losses, lstm_cell_17_layer_call_fn, lstm_cell_17_layer_call_and_return_conditional_losses, lstm_cell_19_layer_call_fn while saving (showing 5 of 20). These functions will not be directly callable after loading.\n"
     ]
    },
    {
     "name": "stdout",
     "output_type": "stream",
     "text": [
      "INFO:tensorflow:Assets written to: experiments\\ResLSTM_Dec17_05-18-07\\base_ckpts\\cp_05.ckpt\\assets\n"
     ]
    },
    {
     "name": "stderr",
     "output_type": "stream",
     "text": [
      "INFO:tensorflow:Assets written to: experiments\\ResLSTM_Dec17_05-18-07\\base_ckpts\\cp_05.ckpt\\assets\n"
     ]
    },
    {
     "name": "stdout",
     "output_type": "stream",
     "text": [
      "181/181 [==============================] - 86s 476ms/step - loss: 1.1888 - accuracy: 0.5839 - val_loss: 1.0141 - val_accuracy: 0.6305\n",
      "Epoch 6/500\n",
      "180/181 [============================>.] - ETA: 0s - loss: 1.1635 - accuracy: 0.5973"
     ]
    },
    {
     "name": "stderr",
     "output_type": "stream",
     "text": [
      "WARNING:absl:Function `_wrapped_model` contains input name(s) Input with unsupported characters which will be renamed to input in the SavedModel.\n",
      "WARNING:absl:Found untraced functions such as lstm_cell_16_layer_call_fn, lstm_cell_16_layer_call_and_return_conditional_losses, lstm_cell_17_layer_call_fn, lstm_cell_17_layer_call_and_return_conditional_losses, lstm_cell_19_layer_call_fn while saving (showing 5 of 20). These functions will not be directly callable after loading.\n"
     ]
    },
    {
     "name": "stdout",
     "output_type": "stream",
     "text": [
      "INFO:tensorflow:Assets written to: experiments\\ResLSTM_Dec17_05-18-07\\base_ckpts\\cp_06.ckpt\\assets\n"
     ]
    },
    {
     "name": "stderr",
     "output_type": "stream",
     "text": [
      "INFO:tensorflow:Assets written to: experiments\\ResLSTM_Dec17_05-18-07\\base_ckpts\\cp_06.ckpt\\assets\n"
     ]
    },
    {
     "name": "stdout",
     "output_type": "stream",
     "text": [
      "181/181 [==============================] - 85s 470ms/step - loss: 1.1632 - accuracy: 0.5974 - val_loss: 0.9750 - val_accuracy: 0.6660\n",
      "Epoch 7/500\n",
      "181/181 [==============================] - 15s 79ms/step - loss: 1.1463 - accuracy: 0.5962 - val_loss: 0.9794 - val_accuracy: 0.6618\n",
      "Epoch 8/500\n",
      "180/181 [============================>.] - ETA: 0s - loss: 1.1288 - accuracy: 0.6045"
     ]
    },
    {
     "name": "stderr",
     "output_type": "stream",
     "text": [
      "WARNING:absl:Function `_wrapped_model` contains input name(s) Input with unsupported characters which will be renamed to input in the SavedModel.\n",
      "WARNING:absl:Found untraced functions such as lstm_cell_16_layer_call_fn, lstm_cell_16_layer_call_and_return_conditional_losses, lstm_cell_17_layer_call_fn, lstm_cell_17_layer_call_and_return_conditional_losses, lstm_cell_19_layer_call_fn while saving (showing 5 of 20). These functions will not be directly callable after loading.\n"
     ]
    },
    {
     "name": "stdout",
     "output_type": "stream",
     "text": [
      "INFO:tensorflow:Assets written to: experiments\\ResLSTM_Dec17_05-18-07\\base_ckpts\\cp_08.ckpt\\assets\n"
     ]
    },
    {
     "name": "stderr",
     "output_type": "stream",
     "text": [
      "INFO:tensorflow:Assets written to: experiments\\ResLSTM_Dec17_05-18-07\\base_ckpts\\cp_08.ckpt\\assets\n"
     ]
    },
    {
     "name": "stdout",
     "output_type": "stream",
     "text": [
      "181/181 [==============================] - 83s 461ms/step - loss: 1.1289 - accuracy: 0.6045 - val_loss: 0.9599 - val_accuracy: 0.6743\n",
      "Epoch 9/500\n",
      "181/181 [==============================] - 14s 78ms/step - loss: 1.1137 - accuracy: 0.6079 - val_loss: 0.9701 - val_accuracy: 0.6534\n",
      "Epoch 10/500\n",
      "181/181 [==============================] - 14s 78ms/step - loss: 1.0980 - accuracy: 0.6111 - val_loss: 0.9433 - val_accuracy: 0.6618\n",
      "Epoch 11/500\n",
      "181/181 [==============================] - 14s 78ms/step - loss: 1.0989 - accuracy: 0.6095 - val_loss: 0.9344 - val_accuracy: 0.6722\n",
      "Epoch 12/500\n",
      "180/181 [============================>.] - ETA: 0s - loss: 1.0657 - accuracy: 0.6260"
     ]
    },
    {
     "name": "stderr",
     "output_type": "stream",
     "text": [
      "WARNING:absl:Function `_wrapped_model` contains input name(s) Input with unsupported characters which will be renamed to input in the SavedModel.\n",
      "WARNING:absl:Found untraced functions such as lstm_cell_16_layer_call_fn, lstm_cell_16_layer_call_and_return_conditional_losses, lstm_cell_17_layer_call_fn, lstm_cell_17_layer_call_and_return_conditional_losses, lstm_cell_19_layer_call_fn while saving (showing 5 of 20). These functions will not be directly callable after loading.\n"
     ]
    },
    {
     "name": "stdout",
     "output_type": "stream",
     "text": [
      "INFO:tensorflow:Assets written to: experiments\\ResLSTM_Dec17_05-18-07\\base_ckpts\\cp_12.ckpt\\assets\n"
     ]
    },
    {
     "name": "stderr",
     "output_type": "stream",
     "text": [
      "INFO:tensorflow:Assets written to: experiments\\ResLSTM_Dec17_05-18-07\\base_ckpts\\cp_12.ckpt\\assets\n"
     ]
    },
    {
     "name": "stdout",
     "output_type": "stream",
     "text": [
      "181/181 [==============================] - 84s 464ms/step - loss: 1.0660 - accuracy: 0.6259 - val_loss: 0.9229 - val_accuracy: 0.6827\n",
      "Epoch 13/500\n",
      "180/181 [============================>.] - ETA: 0s - loss: 1.0585 - accuracy: 0.6287"
     ]
    },
    {
     "name": "stderr",
     "output_type": "stream",
     "text": [
      "WARNING:absl:Function `_wrapped_model` contains input name(s) Input with unsupported characters which will be renamed to input in the SavedModel.\n",
      "WARNING:absl:Found untraced functions such as lstm_cell_16_layer_call_fn, lstm_cell_16_layer_call_and_return_conditional_losses, lstm_cell_17_layer_call_fn, lstm_cell_17_layer_call_and_return_conditional_losses, lstm_cell_19_layer_call_fn while saving (showing 5 of 20). These functions will not be directly callable after loading.\n"
     ]
    },
    {
     "name": "stdout",
     "output_type": "stream",
     "text": [
      "INFO:tensorflow:Assets written to: experiments\\ResLSTM_Dec17_05-18-07\\base_ckpts\\cp_13.ckpt\\assets\n"
     ]
    },
    {
     "name": "stderr",
     "output_type": "stream",
     "text": [
      "INFO:tensorflow:Assets written to: experiments\\ResLSTM_Dec17_05-18-07\\base_ckpts\\cp_13.ckpt\\assets\n"
     ]
    },
    {
     "name": "stdout",
     "output_type": "stream",
     "text": [
      "181/181 [==============================] - 85s 471ms/step - loss: 1.0584 - accuracy: 0.6287 - val_loss: 0.9176 - val_accuracy: 0.6952\n",
      "Epoch 14/500\n",
      "181/181 [==============================] - 15s 79ms/step - loss: 1.0584 - accuracy: 0.6255 - val_loss: 0.9313 - val_accuracy: 0.6848\n",
      "Epoch 15/500\n",
      "181/181 [==============================] - 14s 78ms/step - loss: 1.0490 - accuracy: 0.6289 - val_loss: 0.9063 - val_accuracy: 0.6889\n",
      "Epoch 16/500\n",
      "181/181 [==============================] - 14s 78ms/step - loss: 1.0351 - accuracy: 0.6331 - val_loss: 0.8987 - val_accuracy: 0.6868\n",
      "Epoch 17/500\n",
      "181/181 [==============================] - 14s 79ms/step - loss: 1.0308 - accuracy: 0.6323 - val_loss: 0.9023 - val_accuracy: 0.6806\n",
      "Epoch 18/500\n",
      "181/181 [==============================] - 14s 79ms/step - loss: 1.0238 - accuracy: 0.6348 - val_loss: 0.9217 - val_accuracy: 0.6848\n",
      "Epoch 19/500\n",
      "181/181 [==============================] - 14s 78ms/step - loss: 1.0141 - accuracy: 0.6396 - val_loss: 0.9008 - val_accuracy: 0.6785\n",
      "Epoch 20/500\n",
      "180/181 [============================>.] - ETA: 0s - loss: 0.9950 - accuracy: 0.6521"
     ]
    },
    {
     "name": "stderr",
     "output_type": "stream",
     "text": [
      "WARNING:absl:Function `_wrapped_model` contains input name(s) Input with unsupported characters which will be renamed to input in the SavedModel.\n",
      "WARNING:absl:Found untraced functions such as lstm_cell_16_layer_call_fn, lstm_cell_16_layer_call_and_return_conditional_losses, lstm_cell_17_layer_call_fn, lstm_cell_17_layer_call_and_return_conditional_losses, lstm_cell_19_layer_call_fn while saving (showing 5 of 20). These functions will not be directly callable after loading.\n"
     ]
    },
    {
     "name": "stdout",
     "output_type": "stream",
     "text": [
      "INFO:tensorflow:Assets written to: experiments\\ResLSTM_Dec17_05-18-07\\base_ckpts\\cp_20.ckpt\\assets\n"
     ]
    },
    {
     "name": "stderr",
     "output_type": "stream",
     "text": [
      "INFO:tensorflow:Assets written to: experiments\\ResLSTM_Dec17_05-18-07\\base_ckpts\\cp_20.ckpt\\assets\n"
     ]
    },
    {
     "name": "stdout",
     "output_type": "stream",
     "text": [
      "181/181 [==============================] - 85s 472ms/step - loss: 0.9952 - accuracy: 0.6520 - val_loss: 0.8728 - val_accuracy: 0.7056\n",
      "Epoch 21/500\n",
      "181/181 [==============================] - 15s 78ms/step - loss: 0.9865 - accuracy: 0.6503 - val_loss: 0.8893 - val_accuracy: 0.6931\n",
      "Epoch 22/500\n",
      "181/181 [==============================] - 14s 79ms/step - loss: 1.0057 - accuracy: 0.6490 - val_loss: 0.8953 - val_accuracy: 0.7056\n",
      "Epoch 23/500\n",
      "181/181 [==============================] - 14s 79ms/step - loss: 0.9932 - accuracy: 0.6506 - val_loss: 0.8824 - val_accuracy: 0.6994\n",
      "Epoch 24/500\n",
      "181/181 [==============================] - 14s 79ms/step - loss: 0.9706 - accuracy: 0.6587 - val_loss: 0.8790 - val_accuracy: 0.6973\n",
      "Epoch 25/500\n",
      "181/181 [==============================] - 14s 79ms/step - loss: 0.9717 - accuracy: 0.6579 - val_loss: 0.8903 - val_accuracy: 0.7056\n",
      "Epoch 26/500\n",
      "181/181 [==============================] - 14s 79ms/step - loss: 0.9633 - accuracy: 0.6622 - val_loss: 0.9137 - val_accuracy: 0.6910\n",
      "Epoch 27/500\n",
      "181/181 [==============================] - 14s 79ms/step - loss: 0.9535 - accuracy: 0.6637 - val_loss: 0.8747 - val_accuracy: 0.7035\n",
      "Epoch 28/500\n",
      "180/181 [============================>.] - ETA: 0s - loss: 0.9419 - accuracy: 0.6692"
     ]
    },
    {
     "name": "stderr",
     "output_type": "stream",
     "text": [
      "WARNING:absl:Function `_wrapped_model` contains input name(s) Input with unsupported characters which will be renamed to input in the SavedModel.\n",
      "WARNING:absl:Found untraced functions such as lstm_cell_16_layer_call_fn, lstm_cell_16_layer_call_and_return_conditional_losses, lstm_cell_17_layer_call_fn, lstm_cell_17_layer_call_and_return_conditional_losses, lstm_cell_19_layer_call_fn while saving (showing 5 of 20). These functions will not be directly callable after loading.\n"
     ]
    },
    {
     "name": "stdout",
     "output_type": "stream",
     "text": [
      "INFO:tensorflow:Assets written to: experiments\\ResLSTM_Dec17_05-18-07\\base_ckpts\\cp_28.ckpt\\assets\n"
     ]
    },
    {
     "name": "stderr",
     "output_type": "stream",
     "text": [
      "INFO:tensorflow:Assets written to: experiments\\ResLSTM_Dec17_05-18-07\\base_ckpts\\cp_28.ckpt\\assets\n"
     ]
    },
    {
     "name": "stdout",
     "output_type": "stream",
     "text": [
      "181/181 [==============================] - 85s 472ms/step - loss: 0.9416 - accuracy: 0.6693 - val_loss: 0.9043 - val_accuracy: 0.7140\n",
      "Epoch 29/500\n",
      "181/181 [==============================] - 15s 79ms/step - loss: 0.9436 - accuracy: 0.6662 - val_loss: 0.8900 - val_accuracy: 0.6973\n",
      "Epoch 30/500\n",
      "181/181 [==============================] - 14s 79ms/step - loss: 0.9436 - accuracy: 0.6670 - val_loss: 0.8837 - val_accuracy: 0.6868\n",
      "Epoch 31/500\n",
      "180/181 [============================>.] - ETA: 0s - loss: 0.9424 - accuracy: 0.6650"
     ]
    },
    {
     "name": "stderr",
     "output_type": "stream",
     "text": [
      "WARNING:absl:Function `_wrapped_model` contains input name(s) Input with unsupported characters which will be renamed to input in the SavedModel.\n",
      "WARNING:absl:Found untraced functions such as lstm_cell_16_layer_call_fn, lstm_cell_16_layer_call_and_return_conditional_losses, lstm_cell_17_layer_call_fn, lstm_cell_17_layer_call_and_return_conditional_losses, lstm_cell_19_layer_call_fn while saving (showing 5 of 20). These functions will not be directly callable after loading.\n"
     ]
    },
    {
     "name": "stdout",
     "output_type": "stream",
     "text": [
      "INFO:tensorflow:Assets written to: experiments\\ResLSTM_Dec17_05-18-07\\base_ckpts\\cp_31.ckpt\\assets\n"
     ]
    },
    {
     "name": "stderr",
     "output_type": "stream",
     "text": [
      "INFO:tensorflow:Assets written to: experiments\\ResLSTM_Dec17_05-18-07\\base_ckpts\\cp_31.ckpt\\assets\n"
     ]
    },
    {
     "name": "stdout",
     "output_type": "stream",
     "text": [
      "181/181 [==============================] - 84s 464ms/step - loss: 0.9421 - accuracy: 0.6651 - val_loss: 0.8821 - val_accuracy: 0.7161\n",
      "Epoch 32/500\n",
      "181/181 [==============================] - 15s 79ms/step - loss: 0.9347 - accuracy: 0.6685 - val_loss: 0.9030 - val_accuracy: 0.6931\n",
      "Epoch 33/500\n",
      "181/181 [==============================] - 14s 79ms/step - loss: 0.9379 - accuracy: 0.6711 - val_loss: 0.8918 - val_accuracy: 0.7140\n",
      "Epoch 34/500\n",
      "180/181 [============================>.] - ETA: 0s - loss: 0.9169 - accuracy: 0.6720"
     ]
    },
    {
     "name": "stderr",
     "output_type": "stream",
     "text": [
      "WARNING:absl:Function `_wrapped_model` contains input name(s) Input with unsupported characters which will be renamed to input in the SavedModel.\n",
      "WARNING:absl:Found untraced functions such as lstm_cell_16_layer_call_fn, lstm_cell_16_layer_call_and_return_conditional_losses, lstm_cell_17_layer_call_fn, lstm_cell_17_layer_call_and_return_conditional_losses, lstm_cell_19_layer_call_fn while saving (showing 5 of 20). These functions will not be directly callable after loading.\n"
     ]
    },
    {
     "name": "stdout",
     "output_type": "stream",
     "text": [
      "INFO:tensorflow:Assets written to: experiments\\ResLSTM_Dec17_05-18-07\\base_ckpts\\cp_34.ckpt\\assets\n"
     ]
    },
    {
     "name": "stderr",
     "output_type": "stream",
     "text": [
      "INFO:tensorflow:Assets written to: experiments\\ResLSTM_Dec17_05-18-07\\base_ckpts\\cp_34.ckpt\\assets\n"
     ]
    },
    {
     "name": "stdout",
     "output_type": "stream",
     "text": [
      "181/181 [==============================] - 87s 481ms/step - loss: 0.9168 - accuracy: 0.6719 - val_loss: 0.8898 - val_accuracy: 0.7203\n",
      "Epoch 35/500\n",
      "181/181 [==============================] - 15s 79ms/step - loss: 0.9136 - accuracy: 0.6757 - val_loss: 0.8725 - val_accuracy: 0.7182\n",
      "Epoch 36/500\n",
      "181/181 [==============================] - 14s 79ms/step - loss: 0.9031 - accuracy: 0.6777 - val_loss: 0.8755 - val_accuracy: 0.7182\n",
      "Epoch 37/500\n",
      "181/181 [==============================] - 14s 79ms/step - loss: 0.9133 - accuracy: 0.6794 - val_loss: 0.9065 - val_accuracy: 0.6952\n",
      "Epoch 38/500\n",
      "181/181 [==============================] - 14s 79ms/step - loss: 0.9027 - accuracy: 0.6794 - val_loss: 0.8564 - val_accuracy: 0.7077\n",
      "Epoch 39/500\n",
      "181/181 [==============================] - 14s 79ms/step - loss: 0.8997 - accuracy: 0.6868 - val_loss: 0.9062 - val_accuracy: 0.7119\n",
      "Epoch 40/500\n",
      "181/181 [==============================] - 15s 80ms/step - loss: 0.9002 - accuracy: 0.6840 - val_loss: 0.8812 - val_accuracy: 0.7015\n",
      "Epoch 41/500\n",
      "181/181 [==============================] - 14s 79ms/step - loss: 0.8997 - accuracy: 0.6849 - val_loss: 0.9140 - val_accuracy: 0.7077\n",
      "Epoch 42/500\n",
      "181/181 [==============================] - 14s 79ms/step - loss: 0.8846 - accuracy: 0.6869 - val_loss: 0.8882 - val_accuracy: 0.7056\n",
      "Epoch 43/500\n",
      "181/181 [==============================] - 14s 79ms/step - loss: 0.8885 - accuracy: 0.6869 - val_loss: 0.8715 - val_accuracy: 0.7098\n",
      "Epoch 44/500\n",
      "181/181 [==============================] - 14s 79ms/step - loss: 0.8888 - accuracy: 0.6912 - val_loss: 0.8833 - val_accuracy: 0.7077\n",
      "Epoch 45/500\n",
      "181/181 [==============================] - 14s 78ms/step - loss: 0.8717 - accuracy: 0.6964 - val_loss: 0.8738 - val_accuracy: 0.6931\n",
      "Epoch 46/500\n",
      "181/181 [==============================] - 14s 79ms/step - loss: 0.8647 - accuracy: 0.6965 - val_loss: 0.8808 - val_accuracy: 0.7056\n",
      "Epoch 47/500\n",
      "181/181 [==============================] - 14s 79ms/step - loss: 0.8739 - accuracy: 0.6902 - val_loss: 0.8945 - val_accuracy: 0.6994\n",
      "Epoch 48/500\n",
      "181/181 [==============================] - 14s 80ms/step - loss: 0.8662 - accuracy: 0.6921 - val_loss: 0.8909 - val_accuracy: 0.7015\n",
      "Epoch 49/500\n",
      "181/181 [==============================] - 14s 79ms/step - loss: 0.8525 - accuracy: 0.7019 - val_loss: 0.9094 - val_accuracy: 0.6994\n",
      "Epoch 50/500\n",
      "181/181 [==============================] - 15s 80ms/step - loss: 0.8719 - accuracy: 0.6885 - val_loss: 0.9082 - val_accuracy: 0.7098\n",
      "Epoch 51/500\n",
      "181/181 [==============================] - 14s 79ms/step - loss: 0.8438 - accuracy: 0.7049 - val_loss: 0.8976 - val_accuracy: 0.6827\n",
      "Epoch 52/500\n",
      "181/181 [==============================] - 14s 79ms/step - loss: 0.8447 - accuracy: 0.7014 - val_loss: 0.9051 - val_accuracy: 0.6910\n",
      "Epoch 53/500\n",
      "180/181 [============================>.] - ETA: 0s - loss: 0.8427 - accuracy: 0.7048"
     ]
    },
    {
     "name": "stderr",
     "output_type": "stream",
     "text": [
      "WARNING:absl:Function `_wrapped_model` contains input name(s) Input with unsupported characters which will be renamed to input in the SavedModel.\n",
      "WARNING:absl:Found untraced functions such as lstm_cell_16_layer_call_fn, lstm_cell_16_layer_call_and_return_conditional_losses, lstm_cell_17_layer_call_fn, lstm_cell_17_layer_call_and_return_conditional_losses, lstm_cell_19_layer_call_fn while saving (showing 5 of 20). These functions will not be directly callable after loading.\n"
     ]
    },
    {
     "name": "stdout",
     "output_type": "stream",
     "text": [
      "INFO:tensorflow:Assets written to: experiments\\ResLSTM_Dec17_05-18-07\\base_ckpts\\cp_53.ckpt\\assets\n"
     ]
    },
    {
     "name": "stderr",
     "output_type": "stream",
     "text": [
      "INFO:tensorflow:Assets written to: experiments\\ResLSTM_Dec17_05-18-07\\base_ckpts\\cp_53.ckpt\\assets\n"
     ]
    },
    {
     "name": "stdout",
     "output_type": "stream",
     "text": [
      "181/181 [==============================] - 86s 479ms/step - loss: 0.8426 - accuracy: 0.7048 - val_loss: 0.8890 - val_accuracy: 0.7265\n",
      "Epoch 54/500\n",
      "181/181 [==============================] - 15s 79ms/step - loss: 0.8413 - accuracy: 0.7033 - val_loss: 0.8876 - val_accuracy: 0.6910\n",
      "Epoch 55/500\n",
      "181/181 [==============================] - 15s 81ms/step - loss: 0.8295 - accuracy: 0.7081 - val_loss: 0.9256 - val_accuracy: 0.7077\n",
      "Epoch 56/500\n",
      "181/181 [==============================] - 14s 79ms/step - loss: 0.8375 - accuracy: 0.7045 - val_loss: 0.9481 - val_accuracy: 0.6952\n",
      "Epoch 57/500\n",
      "181/181 [==============================] - 14s 79ms/step - loss: 0.8417 - accuracy: 0.7048 - val_loss: 0.8874 - val_accuracy: 0.7098\n",
      "Epoch 58/500\n",
      "181/181 [==============================] - 14s 79ms/step - loss: 0.8287 - accuracy: 0.7043 - val_loss: 0.8514 - val_accuracy: 0.7098\n",
      "Epoch 59/500\n",
      "181/181 [==============================] - 14s 79ms/step - loss: 0.8214 - accuracy: 0.7098 - val_loss: 0.8745 - val_accuracy: 0.7203\n",
      "Epoch 60/500\n",
      "181/181 [==============================] - 14s 79ms/step - loss: 0.8237 - accuracy: 0.7053 - val_loss: 0.9213 - val_accuracy: 0.7098\n",
      "Epoch 61/500\n",
      "181/181 [==============================] - 14s 79ms/step - loss: 0.8230 - accuracy: 0.7098 - val_loss: 0.9346 - val_accuracy: 0.6952\n",
      "Epoch 62/500\n",
      "181/181 [==============================] - 14s 79ms/step - loss: 0.8088 - accuracy: 0.7151 - val_loss: 0.9451 - val_accuracy: 0.6764\n",
      "Epoch 63/500\n",
      "181/181 [==============================] - 14s 79ms/step - loss: 0.8176 - accuracy: 0.7128 - val_loss: 0.9169 - val_accuracy: 0.7161\n",
      "Epoch 64/500\n",
      "181/181 [==============================] - 14s 79ms/step - loss: 0.8134 - accuracy: 0.7125 - val_loss: 0.9015 - val_accuracy: 0.6910\n",
      "Epoch 65/500\n",
      "181/181 [==============================] - 14s 79ms/step - loss: 0.8077 - accuracy: 0.7170 - val_loss: 0.9420 - val_accuracy: 0.7035\n",
      "Epoch 66/500\n",
      "181/181 [==============================] - 15s 80ms/step - loss: 0.8038 - accuracy: 0.7163 - val_loss: 0.9223 - val_accuracy: 0.7119\n",
      "Epoch 67/500\n",
      "181/181 [==============================] - 14s 79ms/step - loss: 0.7957 - accuracy: 0.7173 - val_loss: 0.9105 - val_accuracy: 0.7119\n",
      "Epoch 68/500\n",
      "181/181 [==============================] - 15s 81ms/step - loss: 0.8136 - accuracy: 0.7082 - val_loss: 0.9500 - val_accuracy: 0.6994\n",
      "Epoch 69/500\n",
      "181/181 [==============================] - 14s 79ms/step - loss: 0.7855 - accuracy: 0.7190 - val_loss: 0.9351 - val_accuracy: 0.6827\n",
      "Epoch 70/500\n",
      "181/181 [==============================] - 14s 80ms/step - loss: 0.7914 - accuracy: 0.7206 - val_loss: 0.9441 - val_accuracy: 0.7182\n",
      "Epoch 71/500\n",
      "181/181 [==============================] - 14s 79ms/step - loss: 0.7920 - accuracy: 0.7211 - val_loss: 0.9195 - val_accuracy: 0.7098\n",
      "Epoch 72/500\n",
      "181/181 [==============================] - 14s 79ms/step - loss: 0.7860 - accuracy: 0.7235 - val_loss: 0.9984 - val_accuracy: 0.6868\n",
      "Epoch 73/500\n",
      "181/181 [==============================] - 15s 81ms/step - loss: 0.7940 - accuracy: 0.7177 - val_loss: 0.9079 - val_accuracy: 0.7265\n",
      "Epoch 74/500\n",
      "181/181 [==============================] - 14s 79ms/step - loss: 0.7667 - accuracy: 0.7245 - val_loss: 0.9852 - val_accuracy: 0.7223\n",
      "Epoch 75/500\n",
      "181/181 [==============================] - 14s 79ms/step - loss: 0.7880 - accuracy: 0.7199 - val_loss: 0.9587 - val_accuracy: 0.7056\n",
      "Epoch 76/500\n",
      "181/181 [==============================] - 14s 78ms/step - loss: 0.7850 - accuracy: 0.7221 - val_loss: 0.8968 - val_accuracy: 0.7140\n",
      "Epoch 77/500\n",
      "181/181 [==============================] - 14s 80ms/step - loss: 0.7775 - accuracy: 0.7277 - val_loss: 0.9118 - val_accuracy: 0.7161\n",
      "Epoch 78/500\n",
      "181/181 [==============================] - 14s 79ms/step - loss: 0.7835 - accuracy: 0.7208 - val_loss: 0.9400 - val_accuracy: 0.7098\n",
      "Epoch 79/500\n",
      "181/181 [==============================] - 14s 79ms/step - loss: 0.7676 - accuracy: 0.7264 - val_loss: 0.9136 - val_accuracy: 0.7223\n",
      "Epoch 80/500\n",
      "181/181 [==============================] - 15s 81ms/step - loss: 0.7770 - accuracy: 0.7198 - val_loss: 0.9768 - val_accuracy: 0.7140\n",
      "Epoch 81/500\n",
      "181/181 [==============================] - 15s 80ms/step - loss: 0.7726 - accuracy: 0.7235 - val_loss: 0.9186 - val_accuracy: 0.7182\n",
      "Epoch 82/500\n",
      "181/181 [==============================] - 14s 79ms/step - loss: 0.7476 - accuracy: 0.7402 - val_loss: 0.9819 - val_accuracy: 0.6868\n",
      "Epoch 83/500\n",
      "181/181 [==============================] - 14s 79ms/step - loss: 0.7582 - accuracy: 0.7296 - val_loss: 1.0381 - val_accuracy: 0.6889\n",
      "Epoch 84/500\n",
      "181/181 [==============================] - 14s 80ms/step - loss: 0.7652 - accuracy: 0.7320 - val_loss: 1.0032 - val_accuracy: 0.7056\n",
      "Epoch 85/500\n",
      "181/181 [==============================] - 15s 80ms/step - loss: 0.7546 - accuracy: 0.7346 - val_loss: 0.9735 - val_accuracy: 0.7035\n",
      "Epoch 86/500\n",
      "181/181 [==============================] - 14s 80ms/step - loss: 0.7511 - accuracy: 0.7333 - val_loss: 1.0305 - val_accuracy: 0.6994\n",
      "Epoch 87/500\n",
      "181/181 [==============================] - 14s 80ms/step - loss: 0.7531 - accuracy: 0.7356 - val_loss: 1.0807 - val_accuracy: 0.6931\n",
      "Epoch 88/500\n",
      "181/181 [==============================] - 15s 80ms/step - loss: 0.7591 - accuracy: 0.7331 - val_loss: 0.9577 - val_accuracy: 0.7203\n",
      "Epoch 89/500\n",
      "181/181 [==============================] - 15s 80ms/step - loss: 0.7467 - accuracy: 0.7341 - val_loss: 0.9442 - val_accuracy: 0.7077\n",
      "Epoch 90/500\n",
      "181/181 [==============================] - 15s 80ms/step - loss: 0.7534 - accuracy: 0.7332 - val_loss: 0.9472 - val_accuracy: 0.7077\n",
      "Epoch 91/500\n",
      "181/181 [==============================] - 14s 79ms/step - loss: 0.7416 - accuracy: 0.7382 - val_loss: 0.9503 - val_accuracy: 0.7265\n",
      "Epoch 92/500\n",
      "181/181 [==============================] - 14s 79ms/step - loss: 0.7402 - accuracy: 0.7391 - val_loss: 0.9451 - val_accuracy: 0.7223\n",
      "Epoch 93/500\n",
      "181/181 [==============================] - 14s 80ms/step - loss: 0.7428 - accuracy: 0.7372 - val_loss: 0.9631 - val_accuracy: 0.6973\n",
      "Epoch 94/500\n",
      "181/181 [==============================] - 15s 80ms/step - loss: 0.7486 - accuracy: 0.7334 - val_loss: 0.9632 - val_accuracy: 0.7098\n",
      "Epoch 95/500\n",
      "181/181 [==============================] - 14s 79ms/step - loss: 0.7258 - accuracy: 0.7444 - val_loss: 0.9555 - val_accuracy: 0.7035\n",
      "Epoch 96/500\n",
      "181/181 [==============================] - 14s 79ms/step - loss: 0.7222 - accuracy: 0.7431 - val_loss: 0.9320 - val_accuracy: 0.7182\n",
      "Epoch 97/500\n",
      "181/181 [==============================] - 14s 79ms/step - loss: 0.7360 - accuracy: 0.7387 - val_loss: 0.9787 - val_accuracy: 0.7119\n",
      "Epoch 98/500\n",
      "181/181 [==============================] - 15s 80ms/step - loss: 0.7342 - accuracy: 0.7427 - val_loss: 0.9448 - val_accuracy: 0.7098\n",
      "Epoch 99/500\n",
      "181/181 [==============================] - 14s 79ms/step - loss: 0.7373 - accuracy: 0.7370 - val_loss: 0.9133 - val_accuracy: 0.6952\n",
      "Epoch 100/500\n",
      "181/181 [==============================] - 14s 79ms/step - loss: 0.7245 - accuracy: 0.7459 - val_loss: 0.8878 - val_accuracy: 0.7140\n",
      "Epoch 101/500\n",
      "181/181 [==============================] - 15s 80ms/step - loss: 0.7387 - accuracy: 0.7393 - val_loss: 0.9908 - val_accuracy: 0.6994\n",
      "Epoch 102/500\n",
      "180/181 [============================>.] - ETA: 0s - loss: 0.7339 - accuracy: 0.7372"
     ]
    },
    {
     "name": "stderr",
     "output_type": "stream",
     "text": [
      "WARNING:absl:Function `_wrapped_model` contains input name(s) Input with unsupported characters which will be renamed to input in the SavedModel.\n",
      "WARNING:absl:Found untraced functions such as lstm_cell_16_layer_call_fn, lstm_cell_16_layer_call_and_return_conditional_losses, lstm_cell_17_layer_call_fn, lstm_cell_17_layer_call_and_return_conditional_losses, lstm_cell_19_layer_call_fn while saving (showing 5 of 20). These functions will not be directly callable after loading.\n"
     ]
    },
    {
     "name": "stdout",
     "output_type": "stream",
     "text": [
      "INFO:tensorflow:Assets written to: experiments\\ResLSTM_Dec17_05-18-07\\base_ckpts\\cp_102.ckpt\\assets\n"
     ]
    },
    {
     "name": "stderr",
     "output_type": "stream",
     "text": [
      "INFO:tensorflow:Assets written to: experiments\\ResLSTM_Dec17_05-18-07\\base_ckpts\\cp_102.ckpt\\assets\n"
     ]
    },
    {
     "name": "stdout",
     "output_type": "stream",
     "text": [
      "181/181 [==============================] - 85s 472ms/step - loss: 0.7337 - accuracy: 0.7373 - val_loss: 0.9285 - val_accuracy: 0.7307\n",
      "Epoch 103/500\n",
      "181/181 [==============================] - 15s 80ms/step - loss: 0.7147 - accuracy: 0.7468 - val_loss: 0.9655 - val_accuracy: 0.7244\n",
      "Epoch 104/500\n",
      "181/181 [==============================] - 15s 80ms/step - loss: 0.7360 - accuracy: 0.7383 - val_loss: 0.9246 - val_accuracy: 0.7307\n",
      "Epoch 105/500\n",
      "181/181 [==============================] - 14s 79ms/step - loss: 0.7232 - accuracy: 0.7447 - val_loss: 0.9585 - val_accuracy: 0.7182\n",
      "Epoch 106/500\n",
      "181/181 [==============================] - 14s 78ms/step - loss: 0.7169 - accuracy: 0.7439 - val_loss: 1.0339 - val_accuracy: 0.7035\n",
      "Epoch 107/500\n",
      "181/181 [==============================] - 14s 79ms/step - loss: 0.7179 - accuracy: 0.7482 - val_loss: 0.9470 - val_accuracy: 0.7182\n",
      "Epoch 108/500\n",
      "181/181 [==============================] - 14s 79ms/step - loss: 0.7152 - accuracy: 0.7443 - val_loss: 0.9962 - val_accuracy: 0.7056\n",
      "Epoch 109/500\n",
      "181/181 [==============================] - 14s 80ms/step - loss: 0.7207 - accuracy: 0.7423 - val_loss: 0.9354 - val_accuracy: 0.6889\n",
      "Epoch 110/500\n",
      "181/181 [==============================] - 14s 79ms/step - loss: 0.7035 - accuracy: 0.7514 - val_loss: 0.9758 - val_accuracy: 0.7286\n",
      "Epoch 111/500\n",
      "181/181 [==============================] - 14s 79ms/step - loss: 0.7043 - accuracy: 0.7455 - val_loss: 0.9576 - val_accuracy: 0.7223\n",
      "Epoch 112/500\n",
      "181/181 [==============================] - 14s 79ms/step - loss: 0.7050 - accuracy: 0.7463 - val_loss: 0.9883 - val_accuracy: 0.7244\n",
      "Epoch 113/500\n",
      "181/181 [==============================] - 15s 80ms/step - loss: 0.7011 - accuracy: 0.7530 - val_loss: 0.9889 - val_accuracy: 0.7307\n",
      "Epoch 114/500\n",
      "181/181 [==============================] - 15s 80ms/step - loss: 0.7028 - accuracy: 0.7525 - val_loss: 0.9823 - val_accuracy: 0.6952\n",
      "Epoch 115/500\n",
      "181/181 [==============================] - 15s 81ms/step - loss: 0.6995 - accuracy: 0.7541 - val_loss: 0.9460 - val_accuracy: 0.7161\n",
      "Epoch 116/500\n",
      "180/181 [============================>.] - ETA: 0s - loss: 0.7108 - accuracy: 0.7477"
     ]
    },
    {
     "name": "stderr",
     "output_type": "stream",
     "text": [
      "WARNING:absl:Function `_wrapped_model` contains input name(s) Input with unsupported characters which will be renamed to input in the SavedModel.\n",
      "WARNING:absl:Found untraced functions such as lstm_cell_16_layer_call_fn, lstm_cell_16_layer_call_and_return_conditional_losses, lstm_cell_17_layer_call_fn, lstm_cell_17_layer_call_and_return_conditional_losses, lstm_cell_19_layer_call_fn while saving (showing 5 of 20). These functions will not be directly callable after loading.\n"
     ]
    },
    {
     "name": "stdout",
     "output_type": "stream",
     "text": [
      "INFO:tensorflow:Assets written to: experiments\\ResLSTM_Dec17_05-18-07\\base_ckpts\\cp_116.ckpt\\assets\n"
     ]
    },
    {
     "name": "stderr",
     "output_type": "stream",
     "text": [
      "INFO:tensorflow:Assets written to: experiments\\ResLSTM_Dec17_05-18-07\\base_ckpts\\cp_116.ckpt\\assets\n"
     ]
    },
    {
     "name": "stdout",
     "output_type": "stream",
     "text": [
      "181/181 [==============================] - 84s 467ms/step - loss: 0.7108 - accuracy: 0.7477 - val_loss: 0.9772 - val_accuracy: 0.7349\n",
      "Epoch 117/500\n",
      "181/181 [==============================] - 14s 78ms/step - loss: 0.7048 - accuracy: 0.7504 - val_loss: 1.0053 - val_accuracy: 0.7015\n",
      "Epoch 118/500\n",
      "181/181 [==============================] - 14s 79ms/step - loss: 0.6898 - accuracy: 0.7545 - val_loss: 1.0099 - val_accuracy: 0.7223\n",
      "Epoch 119/500\n",
      "181/181 [==============================] - 14s 78ms/step - loss: 0.6972 - accuracy: 0.7518 - val_loss: 0.9899 - val_accuracy: 0.7119\n",
      "Epoch 120/500\n",
      "181/181 [==============================] - 14s 80ms/step - loss: 0.6962 - accuracy: 0.7530 - val_loss: 1.0043 - val_accuracy: 0.7056\n",
      "Epoch 121/500\n",
      "180/181 [============================>.] - ETA: 0s - loss: 0.6900 - accuracy: 0.7536"
     ]
    },
    {
     "name": "stderr",
     "output_type": "stream",
     "text": [
      "WARNING:absl:Function `_wrapped_model` contains input name(s) Input with unsupported characters which will be renamed to input in the SavedModel.\n",
      "WARNING:absl:Found untraced functions such as lstm_cell_16_layer_call_fn, lstm_cell_16_layer_call_and_return_conditional_losses, lstm_cell_17_layer_call_fn, lstm_cell_17_layer_call_and_return_conditional_losses, lstm_cell_19_layer_call_fn while saving (showing 5 of 20). These functions will not be directly callable after loading.\n"
     ]
    },
    {
     "name": "stdout",
     "output_type": "stream",
     "text": [
      "INFO:tensorflow:Assets written to: experiments\\ResLSTM_Dec17_05-18-07\\base_ckpts\\cp_121.ckpt\\assets\n"
     ]
    },
    {
     "name": "stderr",
     "output_type": "stream",
     "text": [
      "INFO:tensorflow:Assets written to: experiments\\ResLSTM_Dec17_05-18-07\\base_ckpts\\cp_121.ckpt\\assets\n"
     ]
    },
    {
     "name": "stdout",
     "output_type": "stream",
     "text": [
      "181/181 [==============================] - 84s 467ms/step - loss: 0.6898 - accuracy: 0.7538 - val_loss: 0.9585 - val_accuracy: 0.7390\n",
      "Epoch 122/500\n",
      "181/181 [==============================] - 15s 79ms/step - loss: 0.7007 - accuracy: 0.7494 - val_loss: 0.9951 - val_accuracy: 0.7119\n",
      "Epoch 123/500\n",
      "181/181 [==============================] - 14s 78ms/step - loss: 0.7006 - accuracy: 0.7505 - val_loss: 0.9891 - val_accuracy: 0.7098\n",
      "Epoch 124/500\n",
      "181/181 [==============================] - 14s 78ms/step - loss: 0.6938 - accuracy: 0.7525 - val_loss: 1.0203 - val_accuracy: 0.6952\n",
      "Epoch 125/500\n",
      "181/181 [==============================] - 14s 79ms/step - loss: 0.7141 - accuracy: 0.7448 - val_loss: 0.9929 - val_accuracy: 0.7119\n",
      "Epoch 126/500\n",
      "180/181 [============================>.] - ETA: 0s - loss: 0.7021 - accuracy: 0.7516"
     ]
    },
    {
     "name": "stderr",
     "output_type": "stream",
     "text": [
      "WARNING:absl:Function `_wrapped_model` contains input name(s) Input with unsupported characters which will be renamed to input in the SavedModel.\n",
      "WARNING:absl:Found untraced functions such as lstm_cell_16_layer_call_fn, lstm_cell_16_layer_call_and_return_conditional_losses, lstm_cell_17_layer_call_fn, lstm_cell_17_layer_call_and_return_conditional_losses, lstm_cell_19_layer_call_fn while saving (showing 5 of 20). These functions will not be directly callable after loading.\n"
     ]
    },
    {
     "name": "stdout",
     "output_type": "stream",
     "text": [
      "INFO:tensorflow:Assets written to: experiments\\ResLSTM_Dec17_05-18-07\\base_ckpts\\cp_126.ckpt\\assets\n"
     ]
    },
    {
     "name": "stderr",
     "output_type": "stream",
     "text": [
      "INFO:tensorflow:Assets written to: experiments\\ResLSTM_Dec17_05-18-07\\base_ckpts\\cp_126.ckpt\\assets\n"
     ]
    },
    {
     "name": "stdout",
     "output_type": "stream",
     "text": [
      "181/181 [==============================] - 83s 463ms/step - loss: 0.7022 - accuracy: 0.7516 - val_loss: 0.9780 - val_accuracy: 0.7411\n",
      "Epoch 127/500\n",
      "181/181 [==============================] - 15s 79ms/step - loss: 0.6914 - accuracy: 0.7504 - val_loss: 1.0452 - val_accuracy: 0.7056\n",
      "Epoch 128/500\n",
      "181/181 [==============================] - 14s 79ms/step - loss: 0.6845 - accuracy: 0.7545 - val_loss: 0.9534 - val_accuracy: 0.7265\n",
      "Epoch 129/500\n",
      "181/181 [==============================] - 15s 80ms/step - loss: 0.6856 - accuracy: 0.7562 - val_loss: 0.9196 - val_accuracy: 0.7286\n",
      "Epoch 130/500\n",
      "181/181 [==============================] - 14s 80ms/step - loss: 0.6932 - accuracy: 0.7511 - val_loss: 0.9655 - val_accuracy: 0.7056\n",
      "Epoch 131/500\n",
      "181/181 [==============================] - 14s 79ms/step - loss: 0.6878 - accuracy: 0.7560 - val_loss: 1.0288 - val_accuracy: 0.6952\n",
      "Epoch 132/500\n",
      "181/181 [==============================] - 14s 80ms/step - loss: 0.6900 - accuracy: 0.7559 - val_loss: 0.9415 - val_accuracy: 0.7307\n",
      "Epoch 133/500\n",
      "181/181 [==============================] - 14s 79ms/step - loss: 0.6921 - accuracy: 0.7557 - val_loss: 0.9201 - val_accuracy: 0.7056\n",
      "Epoch 134/500\n",
      "181/181 [==============================] - 14s 79ms/step - loss: 0.6825 - accuracy: 0.7580 - val_loss: 1.0060 - val_accuracy: 0.7244\n",
      "Epoch 135/500\n",
      "181/181 [==============================] - 14s 79ms/step - loss: 0.6781 - accuracy: 0.7563 - val_loss: 0.9655 - val_accuracy: 0.7140\n",
      "Epoch 136/500\n",
      "181/181 [==============================] - 14s 80ms/step - loss: 0.6739 - accuracy: 0.7570 - val_loss: 0.9488 - val_accuracy: 0.7182\n",
      "Epoch 137/500\n",
      "181/181 [==============================] - 14s 80ms/step - loss: 0.6828 - accuracy: 0.7590 - val_loss: 1.0281 - val_accuracy: 0.7140\n",
      "Epoch 138/500\n",
      "181/181 [==============================] - 15s 80ms/step - loss: 0.6925 - accuracy: 0.7511 - val_loss: 0.9208 - val_accuracy: 0.7390\n",
      "Epoch 139/500\n",
      "181/181 [==============================] - 15s 80ms/step - loss: 0.6736 - accuracy: 0.7600 - val_loss: 0.9737 - val_accuracy: 0.7307\n",
      "Epoch 140/500\n",
      "181/181 [==============================] - 14s 80ms/step - loss: 0.6699 - accuracy: 0.7612 - val_loss: 0.9980 - val_accuracy: 0.7203\n",
      "Epoch 141/500\n",
      "181/181 [==============================] - 14s 80ms/step - loss: 0.6688 - accuracy: 0.7629 - val_loss: 1.0090 - val_accuracy: 0.7203\n",
      "Epoch 142/500\n",
      "181/181 [==============================] - 15s 80ms/step - loss: 0.6793 - accuracy: 0.7573 - val_loss: 0.9531 - val_accuracy: 0.7286\n",
      "Epoch 143/500\n",
      "180/181 [============================>.] - ETA: 0s - loss: 0.6719 - accuracy: 0.7637"
     ]
    },
    {
     "name": "stderr",
     "output_type": "stream",
     "text": [
      "WARNING:absl:Function `_wrapped_model` contains input name(s) Input with unsupported characters which will be renamed to input in the SavedModel.\n",
      "WARNING:absl:Found untraced functions such as lstm_cell_16_layer_call_fn, lstm_cell_16_layer_call_and_return_conditional_losses, lstm_cell_17_layer_call_fn, lstm_cell_17_layer_call_and_return_conditional_losses, lstm_cell_19_layer_call_fn while saving (showing 5 of 20). These functions will not be directly callable after loading.\n"
     ]
    },
    {
     "name": "stdout",
     "output_type": "stream",
     "text": [
      "INFO:tensorflow:Assets written to: experiments\\ResLSTM_Dec17_05-18-07\\base_ckpts\\cp_143.ckpt\\assets\n"
     ]
    },
    {
     "name": "stderr",
     "output_type": "stream",
     "text": [
      "INFO:tensorflow:Assets written to: experiments\\ResLSTM_Dec17_05-18-07\\base_ckpts\\cp_143.ckpt\\assets\n"
     ]
    },
    {
     "name": "stdout",
     "output_type": "stream",
     "text": [
      "181/181 [==============================] - 86s 478ms/step - loss: 0.6720 - accuracy: 0.7637 - val_loss: 0.9526 - val_accuracy: 0.7495\n",
      "Epoch 144/500\n",
      "181/181 [==============================] - 15s 79ms/step - loss: 0.6664 - accuracy: 0.7618 - val_loss: 1.0257 - val_accuracy: 0.7203\n",
      "Epoch 145/500\n",
      "181/181 [==============================] - 14s 79ms/step - loss: 0.6783 - accuracy: 0.7615 - val_loss: 0.9907 - val_accuracy: 0.7140\n",
      "Epoch 146/500\n",
      "181/181 [==============================] - 14s 79ms/step - loss: 0.6653 - accuracy: 0.7671 - val_loss: 1.0353 - val_accuracy: 0.7244\n",
      "Epoch 147/500\n",
      "181/181 [==============================] - 14s 79ms/step - loss: 0.6605 - accuracy: 0.7672 - val_loss: 1.0373 - val_accuracy: 0.7056\n",
      "Epoch 148/500\n",
      "181/181 [==============================] - 14s 79ms/step - loss: 0.6498 - accuracy: 0.7666 - val_loss: 1.0438 - val_accuracy: 0.7015\n",
      "Epoch 149/500\n",
      "181/181 [==============================] - 14s 79ms/step - loss: 0.6667 - accuracy: 0.7649 - val_loss: 0.9624 - val_accuracy: 0.7056\n",
      "Epoch 150/500\n",
      "181/181 [==============================] - 14s 79ms/step - loss: 0.6726 - accuracy: 0.7587 - val_loss: 0.9962 - val_accuracy: 0.7182\n",
      "Epoch 151/500\n",
      "181/181 [==============================] - 14s 80ms/step - loss: 0.6619 - accuracy: 0.7599 - val_loss: 1.0418 - val_accuracy: 0.7119\n",
      "Epoch 152/500\n",
      "181/181 [==============================] - 14s 79ms/step - loss: 0.6525 - accuracy: 0.7693 - val_loss: 1.0483 - val_accuracy: 0.6994\n",
      "Epoch 153/500\n",
      "181/181 [==============================] - 14s 79ms/step - loss: 0.6703 - accuracy: 0.7597 - val_loss: 0.9919 - val_accuracy: 0.7161\n",
      "Epoch 154/500\n",
      "181/181 [==============================] - 14s 79ms/step - loss: 0.6654 - accuracy: 0.7623 - val_loss: 1.0109 - val_accuracy: 0.7161\n",
      "Epoch 155/500\n",
      "181/181 [==============================] - 14s 79ms/step - loss: 0.6522 - accuracy: 0.7661 - val_loss: 1.1199 - val_accuracy: 0.7056\n",
      "Epoch 156/500\n",
      "181/181 [==============================] - 14s 80ms/step - loss: 0.6620 - accuracy: 0.7669 - val_loss: 1.0415 - val_accuracy: 0.7161\n",
      "Epoch 157/500\n",
      "181/181 [==============================] - 14s 79ms/step - loss: 0.6550 - accuracy: 0.7682 - val_loss: 1.0256 - val_accuracy: 0.7203\n",
      "Epoch 158/500\n",
      "181/181 [==============================] - 14s 79ms/step - loss: 0.6492 - accuracy: 0.7705 - val_loss: 1.0354 - val_accuracy: 0.7244\n",
      "Epoch 159/500\n",
      "181/181 [==============================] - 14s 80ms/step - loss: 0.6498 - accuracy: 0.7687 - val_loss: 1.0319 - val_accuracy: 0.7370\n",
      "Epoch 160/500\n",
      "181/181 [==============================] - 14s 79ms/step - loss: 0.6281 - accuracy: 0.7792 - val_loss: 1.0552 - val_accuracy: 0.7223\n",
      "Epoch 161/500\n",
      "181/181 [==============================] - 14s 80ms/step - loss: 0.6339 - accuracy: 0.7759 - val_loss: 1.0654 - val_accuracy: 0.7098\n",
      "Epoch 162/500\n",
      "181/181 [==============================] - 15s 80ms/step - loss: 0.6498 - accuracy: 0.7678 - val_loss: 1.0054 - val_accuracy: 0.7244\n",
      "Epoch 163/500\n",
      "181/181 [==============================] - 14s 79ms/step - loss: 0.6494 - accuracy: 0.7701 - val_loss: 1.0641 - val_accuracy: 0.6785\n",
      "Epoch 164/500\n",
      "181/181 [==============================] - 14s 78ms/step - loss: 0.6317 - accuracy: 0.7748 - val_loss: 1.0605 - val_accuracy: 0.6973\n",
      "Epoch 165/500\n",
      "181/181 [==============================] - 14s 79ms/step - loss: 0.6504 - accuracy: 0.7690 - val_loss: 1.0028 - val_accuracy: 0.7223\n",
      "Epoch 166/500\n",
      "181/181 [==============================] - 14s 79ms/step - loss: 0.6409 - accuracy: 0.7761 - val_loss: 1.0442 - val_accuracy: 0.6889\n",
      "Epoch 167/500\n",
      "181/181 [==============================] - 14s 79ms/step - loss: 0.6488 - accuracy: 0.7669 - val_loss: 1.0066 - val_accuracy: 0.6952\n",
      "Epoch 168/500\n",
      "181/181 [==============================] - 14s 79ms/step - loss: 0.6408 - accuracy: 0.7708 - val_loss: 1.0789 - val_accuracy: 0.7035\n",
      "Epoch 169/500\n",
      "181/181 [==============================] - 14s 79ms/step - loss: 0.6254 - accuracy: 0.7766 - val_loss: 1.0476 - val_accuracy: 0.7098\n",
      "Epoch 170/500\n",
      "181/181 [==============================] - 14s 79ms/step - loss: 0.6395 - accuracy: 0.7753 - val_loss: 1.0819 - val_accuracy: 0.7077\n",
      "Epoch 171/500\n",
      "181/181 [==============================] - 14s 79ms/step - loss: 0.6437 - accuracy: 0.7737 - val_loss: 1.0609 - val_accuracy: 0.7077\n",
      "Epoch 172/500\n",
      "181/181 [==============================] - 14s 80ms/step - loss: 0.6344 - accuracy: 0.7705 - val_loss: 1.0146 - val_accuracy: 0.7161\n",
      "Epoch 173/500\n",
      "181/181 [==============================] - 14s 79ms/step - loss: 0.6385 - accuracy: 0.7717 - val_loss: 1.0258 - val_accuracy: 0.7077\n",
      "Epoch 174/500\n",
      "181/181 [==============================] - 14s 79ms/step - loss: 0.6402 - accuracy: 0.7750 - val_loss: 1.0352 - val_accuracy: 0.7098\n",
      "Epoch 175/500\n",
      "181/181 [==============================] - 15s 80ms/step - loss: 0.6394 - accuracy: 0.7698 - val_loss: 1.0274 - val_accuracy: 0.7182\n",
      "Epoch 176/500\n",
      "181/181 [==============================] - 14s 80ms/step - loss: 0.6348 - accuracy: 0.7725 - val_loss: 1.0099 - val_accuracy: 0.7203\n",
      "Epoch 177/500\n",
      "181/181 [==============================] - 14s 79ms/step - loss: 0.6301 - accuracy: 0.7742 - val_loss: 1.0348 - val_accuracy: 0.7390\n",
      "Epoch 178/500\n",
      "181/181 [==============================] - 14s 80ms/step - loss: 0.6287 - accuracy: 0.7733 - val_loss: 1.0059 - val_accuracy: 0.7223\n",
      "Epoch 179/500\n",
      "181/181 [==============================] - 14s 79ms/step - loss: 0.6229 - accuracy: 0.7789 - val_loss: 1.0162 - val_accuracy: 0.7077\n",
      "Epoch 180/500\n",
      "181/181 [==============================] - 14s 80ms/step - loss: 0.6373 - accuracy: 0.7725 - val_loss: 0.9834 - val_accuracy: 0.7203\n",
      "Epoch 181/500\n",
      "181/181 [==============================] - 14s 79ms/step - loss: 0.6207 - accuracy: 0.7806 - val_loss: 1.0249 - val_accuracy: 0.7140\n",
      "Epoch 182/500\n",
      "181/181 [==============================] - 15s 80ms/step - loss: 0.6339 - accuracy: 0.7720 - val_loss: 0.9953 - val_accuracy: 0.7370\n",
      "Epoch 183/500\n",
      "181/181 [==============================] - 14s 79ms/step - loss: 0.6304 - accuracy: 0.7761 - val_loss: 1.0172 - val_accuracy: 0.7161\n",
      "Epoch 184/500\n",
      "181/181 [==============================] - 14s 79ms/step - loss: 0.6235 - accuracy: 0.7792 - val_loss: 1.0087 - val_accuracy: 0.7244\n",
      "Epoch 185/500\n",
      "181/181 [==============================] - 14s 79ms/step - loss: 0.6231 - accuracy: 0.7748 - val_loss: 1.0857 - val_accuracy: 0.7203\n",
      "Epoch 186/500\n",
      "181/181 [==============================] - 14s 79ms/step - loss: 0.6354 - accuracy: 0.7728 - val_loss: 1.0349 - val_accuracy: 0.7161\n",
      "Epoch 187/500\n",
      "181/181 [==============================] - 15s 80ms/step - loss: 0.6451 - accuracy: 0.7731 - val_loss: 1.0084 - val_accuracy: 0.7328\n",
      "Epoch 188/500\n",
      "181/181 [==============================] - 14s 79ms/step - loss: 0.6122 - accuracy: 0.7813 - val_loss: 1.0368 - val_accuracy: 0.7244\n",
      "Epoch 189/500\n",
      "181/181 [==============================] - 14s 79ms/step - loss: 0.6287 - accuracy: 0.7761 - val_loss: 1.1290 - val_accuracy: 0.6994\n",
      "Epoch 190/500\n",
      "181/181 [==============================] - 15s 80ms/step - loss: 0.6234 - accuracy: 0.7803 - val_loss: 0.9849 - val_accuracy: 0.7223\n",
      "Epoch 191/500\n",
      "181/181 [==============================] - 14s 80ms/step - loss: 0.6194 - accuracy: 0.7811 - val_loss: 1.1010 - val_accuracy: 0.6973\n",
      "Epoch 192/500\n",
      "181/181 [==============================] - 14s 79ms/step - loss: 0.6205 - accuracy: 0.7808 - val_loss: 1.0210 - val_accuracy: 0.7015\n",
      "Epoch 193/500\n",
      "181/181 [==============================] - 14s 79ms/step - loss: 0.6239 - accuracy: 0.7792 - val_loss: 1.0502 - val_accuracy: 0.7244\n",
      "Epoch 194/500\n",
      "181/181 [==============================] - 14s 79ms/step - loss: 0.6232 - accuracy: 0.7743 - val_loss: 1.0896 - val_accuracy: 0.7161\n",
      "Epoch 195/500\n",
      "181/181 [==============================] - 14s 80ms/step - loss: 0.6205 - accuracy: 0.7773 - val_loss: 1.0235 - val_accuracy: 0.7244\n",
      "Epoch 196/500\n",
      "181/181 [==============================] - 14s 80ms/step - loss: 0.6097 - accuracy: 0.7835 - val_loss: 1.0423 - val_accuracy: 0.7223\n",
      "Epoch 197/500\n",
      "181/181 [==============================] - 15s 80ms/step - loss: 0.6215 - accuracy: 0.7776 - val_loss: 1.0368 - val_accuracy: 0.7035\n",
      "Epoch 198/500\n",
      "181/181 [==============================] - 15s 81ms/step - loss: 0.6173 - accuracy: 0.7838 - val_loss: 1.0640 - val_accuracy: 0.6952\n"
     ]
    },
    {
     "name": "stdout",
     "output_type": "stream",
     "text": [
      "Epoch 199/500\n",
      "181/181 [==============================] - 14s 79ms/step - loss: 0.6108 - accuracy: 0.7848 - val_loss: 1.0181 - val_accuracy: 0.7015\n",
      "Epoch 200/500\n",
      "181/181 [==============================] - 14s 80ms/step - loss: 0.6110 - accuracy: 0.7830 - val_loss: 1.0579 - val_accuracy: 0.6994\n",
      "Epoch 201/500\n",
      "181/181 [==============================] - 14s 80ms/step - loss: 0.6119 - accuracy: 0.7836 - val_loss: 1.0289 - val_accuracy: 0.7035\n",
      "Epoch 202/500\n",
      "181/181 [==============================] - 14s 80ms/step - loss: 0.6182 - accuracy: 0.7793 - val_loss: 1.0367 - val_accuracy: 0.7119\n",
      "Epoch 203/500\n",
      "181/181 [==============================] - 14s 79ms/step - loss: 0.6142 - accuracy: 0.7799 - val_loss: 1.0271 - val_accuracy: 0.7056\n",
      "Epoch 204/500\n",
      "181/181 [==============================] - 15s 80ms/step - loss: 0.6112 - accuracy: 0.7825 - val_loss: 1.0145 - val_accuracy: 0.7140\n",
      "Epoch 205/500\n",
      "181/181 [==============================] - 14s 79ms/step - loss: 0.6123 - accuracy: 0.7849 - val_loss: 1.0615 - val_accuracy: 0.7056\n",
      "Epoch 206/500\n",
      "181/181 [==============================] - 14s 79ms/step - loss: 0.5976 - accuracy: 0.7851 - val_loss: 1.0624 - val_accuracy: 0.7161\n",
      "Epoch 207/500\n",
      "181/181 [==============================] - 14s 79ms/step - loss: 0.5992 - accuracy: 0.7854 - val_loss: 1.0334 - val_accuracy: 0.7098\n",
      "Epoch 208/500\n",
      "181/181 [==============================] - 14s 79ms/step - loss: 0.6044 - accuracy: 0.7857 - val_loss: 1.0377 - val_accuracy: 0.7370\n",
      "Epoch 209/500\n",
      "181/181 [==============================] - 14s 79ms/step - loss: 0.6136 - accuracy: 0.7820 - val_loss: 1.0863 - val_accuracy: 0.7244\n",
      "Epoch 210/500\n",
      "181/181 [==============================] - 14s 78ms/step - loss: 0.6017 - accuracy: 0.7910 - val_loss: 1.0687 - val_accuracy: 0.7056\n",
      "Epoch 211/500\n",
      "181/181 [==============================] - 14s 79ms/step - loss: 0.6006 - accuracy: 0.7855 - val_loss: 1.0790 - val_accuracy: 0.7035\n",
      "Epoch 212/500\n",
      "181/181 [==============================] - 14s 79ms/step - loss: 0.6008 - accuracy: 0.7840 - val_loss: 1.0848 - val_accuracy: 0.6889\n",
      "Epoch 213/500\n",
      "181/181 [==============================] - 14s 79ms/step - loss: 0.5964 - accuracy: 0.7865 - val_loss: 1.1112 - val_accuracy: 0.7203\n",
      "Epoch 214/500\n",
      "181/181 [==============================] - 14s 79ms/step - loss: 0.6061 - accuracy: 0.7833 - val_loss: 1.0968 - val_accuracy: 0.7119\n",
      "Epoch 215/500\n",
      "181/181 [==============================] - 14s 79ms/step - loss: 0.6103 - accuracy: 0.7793 - val_loss: 1.0934 - val_accuracy: 0.6952\n",
      "Epoch 216/500\n",
      "181/181 [==============================] - 14s 79ms/step - loss: 0.6089 - accuracy: 0.7819 - val_loss: 1.0326 - val_accuracy: 0.7077\n",
      "Epoch 217/500\n",
      "181/181 [==============================] - 14s 80ms/step - loss: 0.5968 - accuracy: 0.7891 - val_loss: 1.0713 - val_accuracy: 0.7077\n",
      "Epoch 218/500\n",
      "181/181 [==============================] - 14s 79ms/step - loss: 0.5894 - accuracy: 0.7919 - val_loss: 1.0928 - val_accuracy: 0.7161\n",
      "Epoch 219/500\n",
      "181/181 [==============================] - 15s 80ms/step - loss: 0.5896 - accuracy: 0.7915 - val_loss: 1.0769 - val_accuracy: 0.7098\n",
      "Epoch 220/500\n",
      "181/181 [==============================] - 14s 80ms/step - loss: 0.5874 - accuracy: 0.7902 - val_loss: 1.0502 - val_accuracy: 0.7077\n",
      "Epoch 221/500\n",
      "181/181 [==============================] - 14s 80ms/step - loss: 0.6046 - accuracy: 0.7821 - val_loss: 1.0196 - val_accuracy: 0.6994\n",
      "Epoch 222/500\n",
      "181/181 [==============================] - 14s 79ms/step - loss: 0.5861 - accuracy: 0.7915 - val_loss: 1.0472 - val_accuracy: 0.7140\n",
      "Epoch 223/500\n",
      "181/181 [==============================] - 14s 80ms/step - loss: 0.6027 - accuracy: 0.7864 - val_loss: 1.0699 - val_accuracy: 0.7203\n",
      "Epoch 224/500\n",
      "181/181 [==============================] - 15s 80ms/step - loss: 0.5942 - accuracy: 0.7876 - val_loss: 1.0633 - val_accuracy: 0.7119\n",
      "Epoch 225/500\n",
      "181/181 [==============================] - 14s 79ms/step - loss: 0.5898 - accuracy: 0.7881 - val_loss: 1.0540 - val_accuracy: 0.7203\n",
      "Epoch 226/500\n",
      "181/181 [==============================] - 14s 79ms/step - loss: 0.5801 - accuracy: 0.7950 - val_loss: 1.1025 - val_accuracy: 0.7119\n",
      "Epoch 227/500\n",
      "181/181 [==============================] - 14s 79ms/step - loss: 0.5968 - accuracy: 0.7880 - val_loss: 1.0639 - val_accuracy: 0.7161\n",
      "Epoch 228/500\n",
      "181/181 [==============================] - 14s 79ms/step - loss: 0.5876 - accuracy: 0.7904 - val_loss: 1.0916 - val_accuracy: 0.7161\n",
      "Epoch 229/500\n",
      "181/181 [==============================] - 15s 80ms/step - loss: 0.6042 - accuracy: 0.7852 - val_loss: 1.0060 - val_accuracy: 0.7411\n",
      "Epoch 230/500\n",
      "181/181 [==============================] - 14s 79ms/step - loss: 0.5852 - accuracy: 0.7896 - val_loss: 1.0448 - val_accuracy: 0.7244\n",
      "Epoch 231/500\n",
      "181/181 [==============================] - 14s 79ms/step - loss: 0.5879 - accuracy: 0.7879 - val_loss: 1.0174 - val_accuracy: 0.7349\n",
      "Epoch 232/500\n",
      "181/181 [==============================] - 14s 79ms/step - loss: 0.5762 - accuracy: 0.7938 - val_loss: 1.0436 - val_accuracy: 0.7244\n",
      "Epoch 233/500\n",
      "181/181 [==============================] - 14s 79ms/step - loss: 0.5835 - accuracy: 0.7956 - val_loss: 1.0527 - val_accuracy: 0.7203\n",
      "Epoch 234/500\n",
      "181/181 [==============================] - 14s 80ms/step - loss: 0.5875 - accuracy: 0.7917 - val_loss: 1.0273 - val_accuracy: 0.7203\n",
      "Epoch 235/500\n",
      "181/181 [==============================] - 14s 78ms/step - loss: 0.5911 - accuracy: 0.7902 - val_loss: 1.0924 - val_accuracy: 0.7244\n",
      "Epoch 236/500\n",
      "181/181 [==============================] - 15s 80ms/step - loss: 0.5840 - accuracy: 0.7920 - val_loss: 1.1029 - val_accuracy: 0.7203\n",
      "Epoch 237/500\n",
      "181/181 [==============================] - 14s 80ms/step - loss: 0.5917 - accuracy: 0.7857 - val_loss: 1.0102 - val_accuracy: 0.7370\n",
      "Epoch 238/500\n",
      "181/181 [==============================] - 14s 80ms/step - loss: 0.5720 - accuracy: 0.7936 - val_loss: 1.1198 - val_accuracy: 0.6994\n",
      "Epoch 239/500\n",
      "181/181 [==============================] - 15s 80ms/step - loss: 0.5944 - accuracy: 0.7853 - val_loss: 1.0755 - val_accuracy: 0.7161\n",
      "Epoch 240/500\n",
      "181/181 [==============================] - 14s 80ms/step - loss: 0.5863 - accuracy: 0.7899 - val_loss: 1.0018 - val_accuracy: 0.7203\n",
      "Epoch 241/500\n",
      "181/181 [==============================] - 14s 80ms/step - loss: 0.5829 - accuracy: 0.7953 - val_loss: 1.0374 - val_accuracy: 0.7307\n",
      "Epoch 242/500\n",
      "181/181 [==============================] - 14s 80ms/step - loss: 0.5791 - accuracy: 0.7918 - val_loss: 1.0912 - val_accuracy: 0.7140\n",
      "Epoch 243/500\n",
      "181/181 [==============================] - 14s 79ms/step - loss: 0.5850 - accuracy: 0.7913 - val_loss: 0.9859 - val_accuracy: 0.7203\n",
      "Epoch 244/500\n",
      "181/181 [==============================] - 14s 79ms/step - loss: 0.5780 - accuracy: 0.7951 - val_loss: 1.0172 - val_accuracy: 0.7077\n",
      "Epoch 245/500\n",
      "181/181 [==============================] - 14s 79ms/step - loss: 0.5935 - accuracy: 0.7922 - val_loss: 1.0792 - val_accuracy: 0.7035\n",
      "Epoch 246/500\n",
      "181/181 [==============================] - 14s 79ms/step - loss: 0.5774 - accuracy: 0.7912 - val_loss: 1.1302 - val_accuracy: 0.6994\n",
      "Epoch 247/500\n",
      "181/181 [==============================] - 14s 80ms/step - loss: 0.5711 - accuracy: 0.7941 - val_loss: 1.0972 - val_accuracy: 0.7140\n",
      "Epoch 248/500\n",
      "181/181 [==============================] - 14s 79ms/step - loss: 0.5619 - accuracy: 0.7983 - val_loss: 1.0856 - val_accuracy: 0.7035\n",
      "Epoch 249/500\n",
      "181/181 [==============================] - 14s 80ms/step - loss: 0.5790 - accuracy: 0.7915 - val_loss: 0.9913 - val_accuracy: 0.7223\n",
      "Epoch 250/500\n",
      "181/181 [==============================] - 15s 80ms/step - loss: 0.5673 - accuracy: 0.7989 - val_loss: 1.0566 - val_accuracy: 0.7098\n",
      "Epoch 251/500\n",
      "181/181 [==============================] - 14s 80ms/step - loss: 0.5574 - accuracy: 0.8028 - val_loss: 1.2097 - val_accuracy: 0.6952\n",
      "Epoch 252/500\n",
      "181/181 [==============================] - 14s 79ms/step - loss: 0.5819 - accuracy: 0.7919 - val_loss: 1.0563 - val_accuracy: 0.7161\n",
      "Epoch 253/500\n",
      "181/181 [==============================] - 15s 80ms/step - loss: 0.5716 - accuracy: 0.8000 - val_loss: 1.0905 - val_accuracy: 0.7119\n",
      "Epoch 254/500\n",
      "181/181 [==============================] - 14s 80ms/step - loss: 0.5755 - accuracy: 0.7936 - val_loss: 1.0773 - val_accuracy: 0.7244\n"
     ]
    },
    {
     "name": "stdout",
     "output_type": "stream",
     "text": [
      "Epoch 255/500\n",
      "181/181 [==============================] - 15s 80ms/step - loss: 0.5831 - accuracy: 0.7917 - val_loss: 1.1455 - val_accuracy: 0.6973\n",
      "Epoch 256/500\n",
      "181/181 [==============================] - 14s 79ms/step - loss: 0.5651 - accuracy: 0.7984 - val_loss: 1.1166 - val_accuracy: 0.7015\n",
      "Epoch 257/500\n",
      "181/181 [==============================] - 14s 79ms/step - loss: 0.5725 - accuracy: 0.7955 - val_loss: 1.1222 - val_accuracy: 0.7098\n",
      "Epoch 258/500\n",
      "181/181 [==============================] - 14s 80ms/step - loss: 0.5735 - accuracy: 0.7959 - val_loss: 1.1247 - val_accuracy: 0.7119\n",
      "Epoch 259/500\n",
      "181/181 [==============================] - 14s 79ms/step - loss: 0.5734 - accuracy: 0.7924 - val_loss: 1.0592 - val_accuracy: 0.7098\n",
      "Epoch 260/500\n",
      "181/181 [==============================] - 14s 79ms/step - loss: 0.5690 - accuracy: 0.7948 - val_loss: 1.0836 - val_accuracy: 0.7203\n",
      "Epoch 261/500\n",
      "181/181 [==============================] - 14s 79ms/step - loss: 0.5690 - accuracy: 0.7993 - val_loss: 1.1438 - val_accuracy: 0.7098\n",
      "Epoch 262/500\n",
      "181/181 [==============================] - 14s 79ms/step - loss: 0.5653 - accuracy: 0.7983 - val_loss: 1.0980 - val_accuracy: 0.7077\n",
      "Epoch 263/500\n",
      "181/181 [==============================] - 15s 80ms/step - loss: 0.5655 - accuracy: 0.8007 - val_loss: 1.0940 - val_accuracy: 0.7140\n",
      "Epoch 264/500\n",
      "181/181 [==============================] - 15s 80ms/step - loss: 0.5635 - accuracy: 0.8012 - val_loss: 1.1757 - val_accuracy: 0.7035\n",
      "Epoch 265/500\n",
      "181/181 [==============================] - 14s 79ms/step - loss: 0.5590 - accuracy: 0.8001 - val_loss: 1.1424 - val_accuracy: 0.7056\n",
      "Epoch 266/500\n",
      "181/181 [==============================] - 14s 79ms/step - loss: 0.5560 - accuracy: 0.8054 - val_loss: 1.1337 - val_accuracy: 0.7119\n",
      "Epoch 267/500\n",
      "181/181 [==============================] - 15s 80ms/step - loss: 0.5544 - accuracy: 0.8016 - val_loss: 1.1293 - val_accuracy: 0.7098\n",
      "Epoch 268/500\n",
      "181/181 [==============================] - 14s 79ms/step - loss: 0.5535 - accuracy: 0.8035 - val_loss: 1.2119 - val_accuracy: 0.6973\n",
      "Epoch 269/500\n",
      "181/181 [==============================] - 15s 80ms/step - loss: 0.5533 - accuracy: 0.8043 - val_loss: 1.0968 - val_accuracy: 0.7161\n",
      "Epoch 270/500\n",
      "181/181 [==============================] - 14s 80ms/step - loss: 0.5500 - accuracy: 0.8037 - val_loss: 1.1201 - val_accuracy: 0.7015\n",
      "Epoch 271/500\n",
      "181/181 [==============================] - 14s 80ms/step - loss: 0.5643 - accuracy: 0.7990 - val_loss: 1.0984 - val_accuracy: 0.7140\n",
      "Epoch 272/500\n",
      "181/181 [==============================] - 14s 80ms/step - loss: 0.5685 - accuracy: 0.7969 - val_loss: 1.0488 - val_accuracy: 0.7119\n",
      "Epoch 273/500\n",
      "181/181 [==============================] - 14s 79ms/step - loss: 0.5563 - accuracy: 0.8049 - val_loss: 1.1084 - val_accuracy: 0.7077\n",
      "Epoch 274/500\n",
      "181/181 [==============================] - 14s 79ms/step - loss: 0.5543 - accuracy: 0.8001 - val_loss: 1.1394 - val_accuracy: 0.7265\n",
      "Epoch 275/500\n",
      "181/181 [==============================] - 14s 79ms/step - loss: 0.5575 - accuracy: 0.8021 - val_loss: 1.0791 - val_accuracy: 0.7015\n",
      "Epoch 276/500\n",
      "181/181 [==============================] - 14s 79ms/step - loss: 0.5529 - accuracy: 0.8020 - val_loss: 1.1071 - val_accuracy: 0.6910\n",
      "Epoch 277/500\n",
      "181/181 [==============================] - 14s 80ms/step - loss: 0.5720 - accuracy: 0.7974 - val_loss: 1.0929 - val_accuracy: 0.7140\n",
      "Epoch 278/500\n",
      "181/181 [==============================] - 14s 79ms/step - loss: 0.5598 - accuracy: 0.8000 - val_loss: 1.0653 - val_accuracy: 0.7203\n",
      "Epoch 279/500\n",
      "181/181 [==============================] - 15s 80ms/step - loss: 0.5755 - accuracy: 0.7964 - val_loss: 1.1036 - val_accuracy: 0.7140\n",
      "Epoch 280/500\n",
      "181/181 [==============================] - 15s 80ms/step - loss: 0.5523 - accuracy: 0.8068 - val_loss: 1.1118 - val_accuracy: 0.6910\n",
      "Epoch 281/500\n",
      "181/181 [==============================] - 14s 80ms/step - loss: 0.5614 - accuracy: 0.8016 - val_loss: 1.1480 - val_accuracy: 0.7182\n",
      "Epoch 282/500\n",
      "181/181 [==============================] - 15s 80ms/step - loss: 0.5420 - accuracy: 0.8104 - val_loss: 1.1201 - val_accuracy: 0.7056\n",
      "Epoch 283/500\n",
      "181/181 [==============================] - 14s 79ms/step - loss: 0.5528 - accuracy: 0.8031 - val_loss: 1.1454 - val_accuracy: 0.7098\n",
      "Epoch 284/500\n",
      "181/181 [==============================] - 14s 80ms/step - loss: 0.5545 - accuracy: 0.8053 - val_loss: 1.1410 - val_accuracy: 0.6994\n",
      "Epoch 285/500\n",
      "181/181 [==============================] - 15s 80ms/step - loss: 0.5665 - accuracy: 0.8008 - val_loss: 1.1526 - val_accuracy: 0.7056\n",
      "Epoch 286/500\n",
      "181/181 [==============================] - 15s 80ms/step - loss: 0.5489 - accuracy: 0.8043 - val_loss: 1.1526 - val_accuracy: 0.6910\n",
      "Epoch 287/500\n",
      "181/181 [==============================] - 14s 79ms/step - loss: 0.5517 - accuracy: 0.8050 - val_loss: 1.0778 - val_accuracy: 0.7035\n",
      "Epoch 288/500\n",
      "181/181 [==============================] - 14s 79ms/step - loss: 0.5507 - accuracy: 0.8025 - val_loss: 1.1101 - val_accuracy: 0.7140\n",
      "Epoch 289/500\n",
      "181/181 [==============================] - 14s 79ms/step - loss: 0.5506 - accuracy: 0.8032 - val_loss: 1.0780 - val_accuracy: 0.7098\n",
      "Epoch 290/500\n",
      "181/181 [==============================] - 14s 80ms/step - loss: 0.5515 - accuracy: 0.8023 - val_loss: 1.0727 - val_accuracy: 0.7140\n",
      "Epoch 291/500\n",
      "181/181 [==============================] - 14s 79ms/step - loss: 0.5559 - accuracy: 0.8059 - val_loss: 1.1157 - val_accuracy: 0.7161\n",
      "Epoch 292/500\n",
      "181/181 [==============================] - 14s 79ms/step - loss: 0.5613 - accuracy: 0.8019 - val_loss: 1.1262 - val_accuracy: 0.7119\n",
      "Epoch 293/500\n",
      "181/181 [==============================] - 14s 79ms/step - loss: 0.5388 - accuracy: 0.8095 - val_loss: 1.1855 - val_accuracy: 0.7077\n",
      "Epoch 294/500\n",
      "181/181 [==============================] - 15s 80ms/step - loss: 0.5518 - accuracy: 0.8049 - val_loss: 1.1757 - val_accuracy: 0.7035\n",
      "Epoch 295/500\n",
      "181/181 [==============================] - 14s 80ms/step - loss: 0.5332 - accuracy: 0.8127 - val_loss: 1.1788 - val_accuracy: 0.7140\n",
      "Epoch 296/500\n",
      "181/181 [==============================] - 14s 80ms/step - loss: 0.5389 - accuracy: 0.8056 - val_loss: 1.1545 - val_accuracy: 0.7119\n",
      "Epoch 297/500\n",
      "181/181 [==============================] - 14s 79ms/step - loss: 0.5465 - accuracy: 0.8053 - val_loss: 1.0971 - val_accuracy: 0.7098\n",
      "Epoch 298/500\n",
      "181/181 [==============================] - 14s 79ms/step - loss: 0.5523 - accuracy: 0.8036 - val_loss: 1.1359 - val_accuracy: 0.7035\n",
      "Epoch 299/500\n",
      "181/181 [==============================] - 15s 80ms/step - loss: 0.5486 - accuracy: 0.8041 - val_loss: 1.0998 - val_accuracy: 0.7015\n",
      "Epoch 300/500\n",
      "181/181 [==============================] - 14s 80ms/step - loss: 0.5428 - accuracy: 0.8033 - val_loss: 1.1473 - val_accuracy: 0.7035\n",
      "Epoch 301/500\n",
      "181/181 [==============================] - 14s 79ms/step - loss: 0.5471 - accuracy: 0.8056 - val_loss: 1.0351 - val_accuracy: 0.7203\n",
      "Epoch 302/500\n",
      "181/181 [==============================] - 14s 80ms/step - loss: 0.5463 - accuracy: 0.8057 - val_loss: 1.1173 - val_accuracy: 0.6931\n",
      "Epoch 303/500\n",
      "181/181 [==============================] - 14s 79ms/step - loss: 0.5306 - accuracy: 0.8121 - val_loss: 1.0693 - val_accuracy: 0.7077\n",
      "Epoch 304/500\n",
      "181/181 [==============================] - 14s 80ms/step - loss: 0.5365 - accuracy: 0.8084 - val_loss: 1.1198 - val_accuracy: 0.7161\n",
      "Epoch 305/500\n",
      "181/181 [==============================] - 15s 80ms/step - loss: 0.5389 - accuracy: 0.8081 - val_loss: 1.0860 - val_accuracy: 0.7098\n",
      "Epoch 306/500\n",
      "181/181 [==============================] - 14s 79ms/step - loss: 0.5386 - accuracy: 0.8102 - val_loss: 1.0807 - val_accuracy: 0.7161\n",
      "Epoch 307/500\n",
      "181/181 [==============================] - 14s 79ms/step - loss: 0.5411 - accuracy: 0.8084 - val_loss: 1.1314 - val_accuracy: 0.7119\n",
      "Epoch 308/500\n",
      "181/181 [==============================] - 14s 80ms/step - loss: 0.5429 - accuracy: 0.8037 - val_loss: 1.1689 - val_accuracy: 0.7015\n",
      "Epoch 309/500\n",
      "181/181 [==============================] - 14s 79ms/step - loss: 0.5284 - accuracy: 0.8121 - val_loss: 1.0971 - val_accuracy: 0.7098\n",
      "Epoch 310/500\n",
      "181/181 [==============================] - 15s 80ms/step - loss: 0.5407 - accuracy: 0.8053 - val_loss: 1.1931 - val_accuracy: 0.7077\n"
     ]
    },
    {
     "name": "stdout",
     "output_type": "stream",
     "text": [
      "Epoch 311/500\n",
      "181/181 [==============================] - 14s 79ms/step - loss: 0.5365 - accuracy: 0.8091 - val_loss: 1.0790 - val_accuracy: 0.7098\n",
      "Epoch 312/500\n",
      "181/181 [==============================] - 14s 79ms/step - loss: 0.5359 - accuracy: 0.8086 - val_loss: 1.0743 - val_accuracy: 0.7077\n",
      "Epoch 313/500\n",
      "181/181 [==============================] - 14s 79ms/step - loss: 0.5456 - accuracy: 0.8066 - val_loss: 1.1087 - val_accuracy: 0.7015\n",
      "Epoch 314/500\n",
      "181/181 [==============================] - 14s 79ms/step - loss: 0.5335 - accuracy: 0.8108 - val_loss: 1.1293 - val_accuracy: 0.6931\n",
      "Epoch 315/500\n",
      "181/181 [==============================] - 14s 80ms/step - loss: 0.5275 - accuracy: 0.8128 - val_loss: 1.0403 - val_accuracy: 0.7098\n",
      "Epoch 316/500\n",
      "181/181 [==============================] - 14s 79ms/step - loss: 0.5324 - accuracy: 0.8106 - val_loss: 1.1047 - val_accuracy: 0.7098\n",
      "Epoch 317/500\n",
      "181/181 [==============================] - 14s 79ms/step - loss: 0.5322 - accuracy: 0.8119 - val_loss: 1.1795 - val_accuracy: 0.6952\n",
      "Epoch 318/500\n",
      "181/181 [==============================] - 14s 79ms/step - loss: 0.5326 - accuracy: 0.8097 - val_loss: 1.0951 - val_accuracy: 0.6931\n",
      "Epoch 319/500\n",
      "181/181 [==============================] - 14s 79ms/step - loss: 0.5276 - accuracy: 0.8131 - val_loss: 1.0970 - val_accuracy: 0.7077\n",
      "Epoch 320/500\n",
      "181/181 [==============================] - 14s 80ms/step - loss: 0.5474 - accuracy: 0.8030 - val_loss: 1.0789 - val_accuracy: 0.7203\n",
      "Epoch 321/500\n",
      "181/181 [==============================] - 15s 80ms/step - loss: 0.5388 - accuracy: 0.8095 - val_loss: 1.1818 - val_accuracy: 0.6994\n",
      "Epoch 322/500\n",
      "181/181 [==============================] - 15s 79ms/step - loss: 0.5297 - accuracy: 0.8122 - val_loss: 1.0683 - val_accuracy: 0.7140\n",
      "Epoch 323/500\n",
      "181/181 [==============================] - 14s 79ms/step - loss: 0.5339 - accuracy: 0.8082 - val_loss: 1.1289 - val_accuracy: 0.7015\n",
      "Epoch 324/500\n",
      "181/181 [==============================] - 14s 79ms/step - loss: 0.5412 - accuracy: 0.8049 - val_loss: 1.1754 - val_accuracy: 0.7035\n",
      "Epoch 325/500\n",
      "181/181 [==============================] - 14s 79ms/step - loss: 0.5150 - accuracy: 0.8124 - val_loss: 1.1487 - val_accuracy: 0.7119\n",
      "Epoch 326/500\n",
      "181/181 [==============================] - 14s 80ms/step - loss: 0.5280 - accuracy: 0.8102 - val_loss: 1.1244 - val_accuracy: 0.7077\n",
      "Epoch 327/500\n",
      "181/181 [==============================] - 14s 80ms/step - loss: 0.5393 - accuracy: 0.8084 - val_loss: 1.1125 - val_accuracy: 0.7140\n",
      "Epoch 328/500\n",
      "181/181 [==============================] - 14s 79ms/step - loss: 0.5258 - accuracy: 0.8181 - val_loss: 1.1513 - val_accuracy: 0.7140\n",
      "Epoch 329/500\n",
      "181/181 [==============================] - 14s 79ms/step - loss: 0.5305 - accuracy: 0.8075 - val_loss: 1.1187 - val_accuracy: 0.6973\n",
      "Epoch 330/500\n",
      "181/181 [==============================] - 14s 80ms/step - loss: 0.5243 - accuracy: 0.8101 - val_loss: 1.1957 - val_accuracy: 0.7056\n",
      "Epoch 331/500\n",
      "181/181 [==============================] - 14s 80ms/step - loss: 0.5273 - accuracy: 0.8126 - val_loss: 1.0475 - val_accuracy: 0.6994\n",
      "Epoch 332/500\n",
      "181/181 [==============================] - 14s 79ms/step - loss: 0.5321 - accuracy: 0.8124 - val_loss: 1.0534 - val_accuracy: 0.7182\n",
      "Epoch 333/500\n",
      "181/181 [==============================] - 14s 79ms/step - loss: 0.5274 - accuracy: 0.8119 - val_loss: 1.2477 - val_accuracy: 0.6910\n",
      "Epoch 334/500\n",
      "181/181 [==============================] - 14s 79ms/step - loss: 0.5273 - accuracy: 0.8120 - val_loss: 1.1127 - val_accuracy: 0.7203\n",
      "Epoch 335/500\n",
      "181/181 [==============================] - 15s 80ms/step - loss: 0.5322 - accuracy: 0.8129 - val_loss: 1.1056 - val_accuracy: 0.7182\n",
      "Epoch 336/500\n",
      "181/181 [==============================] - 15s 80ms/step - loss: 0.5214 - accuracy: 0.8120 - val_loss: 1.0943 - val_accuracy: 0.7035\n",
      "Epoch 337/500\n",
      "181/181 [==============================] - 14s 80ms/step - loss: 0.5252 - accuracy: 0.8107 - val_loss: 1.1371 - val_accuracy: 0.6994\n",
      "Epoch 338/500\n",
      "181/181 [==============================] - 14s 79ms/step - loss: 0.5145 - accuracy: 0.8193 - val_loss: 1.2082 - val_accuracy: 0.6952\n",
      "Epoch 339/500\n",
      "181/181 [==============================] - 14s 80ms/step - loss: 0.5270 - accuracy: 0.8175 - val_loss: 1.1523 - val_accuracy: 0.7056\n",
      "Epoch 340/500\n",
      "181/181 [==============================] - 14s 79ms/step - loss: 0.5249 - accuracy: 0.8139 - val_loss: 1.1757 - val_accuracy: 0.6973\n",
      "Epoch 341/500\n",
      "181/181 [==============================] - 14s 79ms/step - loss: 0.5200 - accuracy: 0.8171 - val_loss: 1.0867 - val_accuracy: 0.7140\n",
      "Epoch 342/500\n",
      "181/181 [==============================] - 14s 79ms/step - loss: 0.5225 - accuracy: 0.8143 - val_loss: 1.1285 - val_accuracy: 0.7161\n",
      "Epoch 343/500\n",
      "181/181 [==============================] - 14s 79ms/step - loss: 0.5104 - accuracy: 0.8173 - val_loss: 1.0852 - val_accuracy: 0.7223\n",
      "Epoch 344/500\n",
      "181/181 [==============================] - 15s 80ms/step - loss: 0.5180 - accuracy: 0.8144 - val_loss: 1.1409 - val_accuracy: 0.7265\n",
      "Epoch 345/500\n",
      "181/181 [==============================] - 14s 79ms/step - loss: 0.5243 - accuracy: 0.8114 - val_loss: 1.1536 - val_accuracy: 0.7140\n",
      "Epoch 346/500\n",
      "181/181 [==============================] - 14s 80ms/step - loss: 0.5123 - accuracy: 0.8211 - val_loss: 1.1532 - val_accuracy: 0.7015\n",
      "Epoch 347/500\n",
      "181/181 [==============================] - 14s 79ms/step - loss: 0.5200 - accuracy: 0.8134 - val_loss: 1.1115 - val_accuracy: 0.7161\n",
      "Epoch 348/500\n",
      "181/181 [==============================] - 14s 79ms/step - loss: 0.5189 - accuracy: 0.8133 - val_loss: 1.1345 - val_accuracy: 0.7161\n",
      "Epoch 349/500\n",
      "181/181 [==============================] - 14s 79ms/step - loss: 0.5113 - accuracy: 0.8195 - val_loss: 1.1115 - val_accuracy: 0.7203\n",
      "Epoch 350/500\n",
      "181/181 [==============================] - 14s 80ms/step - loss: 0.5092 - accuracy: 0.8168 - val_loss: 1.1177 - val_accuracy: 0.7161\n",
      "Epoch 351/500\n",
      "181/181 [==============================] - 14s 79ms/step - loss: 0.5244 - accuracy: 0.8121 - val_loss: 1.0912 - val_accuracy: 0.6994\n",
      "Epoch 352/500\n",
      "181/181 [==============================] - 14s 80ms/step - loss: 0.5126 - accuracy: 0.8220 - val_loss: 1.1203 - val_accuracy: 0.7098\n",
      "Epoch 353/500\n",
      "181/181 [==============================] - 14s 79ms/step - loss: 0.5215 - accuracy: 0.8141 - val_loss: 1.0999 - val_accuracy: 0.7203\n",
      "Epoch 354/500\n",
      "181/181 [==============================] - 15s 80ms/step - loss: 0.5238 - accuracy: 0.8161 - val_loss: 1.0929 - val_accuracy: 0.7223\n",
      "Epoch 355/500\n",
      "181/181 [==============================] - 14s 80ms/step - loss: 0.5365 - accuracy: 0.8094 - val_loss: 1.1631 - val_accuracy: 0.7119\n",
      "Epoch 356/500\n",
      "181/181 [==============================] - 14s 80ms/step - loss: 0.5175 - accuracy: 0.8141 - val_loss: 1.0449 - val_accuracy: 0.7119\n",
      "Epoch 357/500\n",
      "181/181 [==============================] - 14s 80ms/step - loss: 0.5217 - accuracy: 0.8156 - val_loss: 1.0839 - val_accuracy: 0.7119\n",
      "Epoch 358/500\n",
      "181/181 [==============================] - 14s 80ms/step - loss: 0.5209 - accuracy: 0.8136 - val_loss: 1.0751 - val_accuracy: 0.7203\n",
      "Epoch 359/500\n",
      "181/181 [==============================] - 14s 80ms/step - loss: 0.5131 - accuracy: 0.8197 - val_loss: 1.1114 - val_accuracy: 0.7098\n",
      "Epoch 360/500\n",
      "181/181 [==============================] - 14s 79ms/step - loss: 0.5207 - accuracy: 0.8143 - val_loss: 1.0639 - val_accuracy: 0.7223\n",
      "Epoch 361/500\n",
      "181/181 [==============================] - 14s 80ms/step - loss: 0.5084 - accuracy: 0.8194 - val_loss: 1.1266 - val_accuracy: 0.7056\n",
      "Epoch 362/500\n",
      "181/181 [==============================] - 14s 80ms/step - loss: 0.5105 - accuracy: 0.8212 - val_loss: 1.0505 - val_accuracy: 0.7182\n",
      "Epoch 363/500\n",
      "181/181 [==============================] - 14s 79ms/step - loss: 0.4936 - accuracy: 0.8276 - val_loss: 1.0966 - val_accuracy: 0.7161\n",
      "Epoch 364/500\n",
      "181/181 [==============================] - 14s 80ms/step - loss: 0.5155 - accuracy: 0.8185 - val_loss: 1.1082 - val_accuracy: 0.7203\n",
      "Epoch 365/500\n",
      "181/181 [==============================] - 15s 80ms/step - loss: 0.5203 - accuracy: 0.8094 - val_loss: 1.1612 - val_accuracy: 0.7015\n",
      "Epoch 366/500\n",
      "181/181 [==============================] - 14s 79ms/step - loss: 0.5076 - accuracy: 0.8165 - val_loss: 1.0678 - val_accuracy: 0.7223\n"
     ]
    },
    {
     "name": "stdout",
     "output_type": "stream",
     "text": [
      "Epoch 367/500\n",
      "181/181 [==============================] - 15s 80ms/step - loss: 0.5080 - accuracy: 0.8168 - val_loss: 1.0752 - val_accuracy: 0.7161\n",
      "Epoch 368/500\n",
      "181/181 [==============================] - 14s 79ms/step - loss: 0.5150 - accuracy: 0.8155 - val_loss: 1.0497 - val_accuracy: 0.7056\n",
      "Epoch 369/500\n",
      "181/181 [==============================] - 14s 80ms/step - loss: 0.5063 - accuracy: 0.8223 - val_loss: 1.1148 - val_accuracy: 0.7140\n",
      "Epoch 370/500\n",
      "181/181 [==============================] - 14s 79ms/step - loss: 0.5163 - accuracy: 0.8117 - val_loss: 1.0887 - val_accuracy: 0.7140\n",
      "Epoch 371/500\n",
      "181/181 [==============================] - 14s 79ms/step - loss: 0.5024 - accuracy: 0.8204 - val_loss: 1.1159 - val_accuracy: 0.6952\n",
      "Epoch 372/500\n",
      "181/181 [==============================] - 14s 79ms/step - loss: 0.5092 - accuracy: 0.8174 - val_loss: 1.1799 - val_accuracy: 0.6952\n",
      "Epoch 373/500\n",
      "181/181 [==============================] - 14s 79ms/step - loss: 0.5008 - accuracy: 0.8227 - val_loss: 1.1019 - val_accuracy: 0.7182\n",
      "Epoch 374/500\n",
      "181/181 [==============================] - 14s 79ms/step - loss: 0.4925 - accuracy: 0.8252 - val_loss: 1.1371 - val_accuracy: 0.7203\n",
      "Epoch 375/500\n",
      "181/181 [==============================] - 14s 79ms/step - loss: 0.5036 - accuracy: 0.8217 - val_loss: 1.1018 - val_accuracy: 0.7182\n",
      "Epoch 376/500\n",
      "181/181 [==============================] - 14s 79ms/step - loss: 0.5066 - accuracy: 0.8171 - val_loss: 1.1169 - val_accuracy: 0.7119\n",
      "Epoch 377/500\n",
      "181/181 [==============================] - 14s 79ms/step - loss: 0.4850 - accuracy: 0.8256 - val_loss: 1.0570 - val_accuracy: 0.7203\n",
      "Epoch 378/500\n",
      "181/181 [==============================] - 14s 79ms/step - loss: 0.4929 - accuracy: 0.8231 - val_loss: 1.1494 - val_accuracy: 0.7119\n",
      "Epoch 379/500\n",
      "181/181 [==============================] - 14s 79ms/step - loss: 0.5063 - accuracy: 0.8237 - val_loss: 1.0900 - val_accuracy: 0.7077\n",
      "Epoch 380/500\n",
      "181/181 [==============================] - 14s 80ms/step - loss: 0.5073 - accuracy: 0.8163 - val_loss: 1.0946 - val_accuracy: 0.7035\n",
      "Epoch 381/500\n",
      "181/181 [==============================] - 14s 80ms/step - loss: 0.5031 - accuracy: 0.8180 - val_loss: 1.1457 - val_accuracy: 0.7119\n",
      "Epoch 382/500\n",
      "181/181 [==============================] - 14s 80ms/step - loss: 0.5042 - accuracy: 0.8195 - val_loss: 1.1092 - val_accuracy: 0.6910\n",
      "Epoch 383/500\n",
      "181/181 [==============================] - 15s 80ms/step - loss: 0.5125 - accuracy: 0.8209 - val_loss: 1.1190 - val_accuracy: 0.7161\n",
      "Epoch 384/500\n",
      "181/181 [==============================] - 14s 80ms/step - loss: 0.4932 - accuracy: 0.8266 - val_loss: 1.1279 - val_accuracy: 0.6889\n",
      "Epoch 385/500\n",
      "181/181 [==============================] - 14s 80ms/step - loss: 0.5062 - accuracy: 0.8161 - val_loss: 1.1520 - val_accuracy: 0.7015\n",
      "Epoch 386/500\n",
      "181/181 [==============================] - 15s 80ms/step - loss: 0.5055 - accuracy: 0.8240 - val_loss: 1.1734 - val_accuracy: 0.7140\n",
      "Epoch 387/500\n",
      "181/181 [==============================] - 14s 80ms/step - loss: 0.5023 - accuracy: 0.8234 - val_loss: 1.1457 - val_accuracy: 0.7077\n",
      "Epoch 388/500\n",
      "181/181 [==============================] - 14s 79ms/step - loss: 0.5114 - accuracy: 0.8199 - val_loss: 1.1403 - val_accuracy: 0.7244\n",
      "Epoch 389/500\n",
      "181/181 [==============================] - 14s 79ms/step - loss: 0.5049 - accuracy: 0.8208 - val_loss: 1.1890 - val_accuracy: 0.7098\n",
      "Epoch 390/500\n",
      "181/181 [==============================] - 14s 79ms/step - loss: 0.5097 - accuracy: 0.8167 - val_loss: 1.1400 - val_accuracy: 0.7307\n",
      "Epoch 391/500\n",
      "181/181 [==============================] - 14s 79ms/step - loss: 0.4963 - accuracy: 0.8246 - val_loss: 1.1177 - val_accuracy: 0.7161\n",
      "Epoch 392/500\n",
      "181/181 [==============================] - 14s 80ms/step - loss: 0.5021 - accuracy: 0.8220 - val_loss: 1.1298 - val_accuracy: 0.7203\n",
      "Epoch 393/500\n",
      "181/181 [==============================] - 14s 80ms/step - loss: 0.4946 - accuracy: 0.8251 - val_loss: 1.1882 - val_accuracy: 0.7161\n",
      "Epoch 394/500\n",
      "181/181 [==============================] - 14s 79ms/step - loss: 0.4923 - accuracy: 0.8273 - val_loss: 1.1042 - val_accuracy: 0.7349\n",
      "Epoch 395/500\n",
      "181/181 [==============================] - 14s 79ms/step - loss: 0.5019 - accuracy: 0.8241 - val_loss: 1.1939 - val_accuracy: 0.7203\n",
      "Epoch 396/500\n",
      "181/181 [==============================] - 15s 80ms/step - loss: 0.5014 - accuracy: 0.8242 - val_loss: 1.1913 - val_accuracy: 0.7015\n",
      "Epoch 397/500\n",
      "181/181 [==============================] - 15s 80ms/step - loss: 0.4989 - accuracy: 0.8226 - val_loss: 1.1698 - val_accuracy: 0.7265\n",
      "Epoch 398/500\n",
      "181/181 [==============================] - 15s 80ms/step - loss: 0.4971 - accuracy: 0.8261 - val_loss: 1.1190 - val_accuracy: 0.7244\n",
      "Epoch 399/500\n",
      "181/181 [==============================] - 15s 80ms/step - loss: 0.5023 - accuracy: 0.8195 - val_loss: 1.1348 - val_accuracy: 0.7307\n",
      "Epoch 400/500\n",
      "181/181 [==============================] - 14s 80ms/step - loss: 0.5111 - accuracy: 0.8191 - val_loss: 1.1233 - val_accuracy: 0.7035\n",
      "Epoch 401/500\n",
      "181/181 [==============================] - 15s 80ms/step - loss: 0.4946 - accuracy: 0.8239 - val_loss: 1.1394 - val_accuracy: 0.7203\n",
      "Epoch 402/500\n",
      "181/181 [==============================] - 14s 80ms/step - loss: 0.4982 - accuracy: 0.8207 - val_loss: 1.1108 - val_accuracy: 0.7370\n",
      "Epoch 403/500\n",
      "181/181 [==============================] - 14s 79ms/step - loss: 0.4918 - accuracy: 0.8193 - val_loss: 1.1567 - val_accuracy: 0.7077\n",
      "Epoch 404/500\n",
      "181/181 [==============================] - 14s 80ms/step - loss: 0.4898 - accuracy: 0.8237 - val_loss: 1.1174 - val_accuracy: 0.7182\n",
      "Epoch 405/500\n",
      "181/181 [==============================] - 14s 79ms/step - loss: 0.4782 - accuracy: 0.8318 - val_loss: 1.1256 - val_accuracy: 0.7098\n",
      "Epoch 406/500\n",
      "181/181 [==============================] - 14s 79ms/step - loss: 0.4974 - accuracy: 0.8202 - val_loss: 1.0867 - val_accuracy: 0.7328\n",
      "Epoch 407/500\n",
      "181/181 [==============================] - 15s 80ms/step - loss: 0.4894 - accuracy: 0.8258 - val_loss: 1.1340 - val_accuracy: 0.7265\n",
      "Epoch 408/500\n",
      "181/181 [==============================] - 14s 79ms/step - loss: 0.4878 - accuracy: 0.8220 - val_loss: 1.2196 - val_accuracy: 0.6994\n",
      "Epoch 409/500\n",
      "181/181 [==============================] - 15s 80ms/step - loss: 0.4874 - accuracy: 0.8257 - val_loss: 1.1789 - val_accuracy: 0.7056\n",
      "Epoch 410/500\n",
      "181/181 [==============================] - 14s 80ms/step - loss: 0.4803 - accuracy: 0.8272 - val_loss: 1.1425 - val_accuracy: 0.7015\n",
      "Epoch 411/500\n",
      "181/181 [==============================] - 14s 79ms/step - loss: 0.5011 - accuracy: 0.8216 - val_loss: 1.1568 - val_accuracy: 0.6952\n",
      "Epoch 412/500\n",
      "181/181 [==============================] - 14s 79ms/step - loss: 0.4757 - accuracy: 0.8287 - val_loss: 1.2186 - val_accuracy: 0.7077\n",
      "Epoch 413/500\n",
      "181/181 [==============================] - 14s 79ms/step - loss: 0.4923 - accuracy: 0.8265 - val_loss: 1.1848 - val_accuracy: 0.7119\n",
      "Epoch 414/500\n",
      "181/181 [==============================] - 15s 80ms/step - loss: 0.4894 - accuracy: 0.8230 - val_loss: 1.1780 - val_accuracy: 0.7098\n",
      "Epoch 415/500\n",
      "181/181 [==============================] - 14s 79ms/step - loss: 0.4691 - accuracy: 0.8321 - val_loss: 1.2086 - val_accuracy: 0.6994\n",
      "Epoch 416/500\n",
      "181/181 [==============================] - 14s 80ms/step - loss: 0.4821 - accuracy: 0.8280 - val_loss: 1.1603 - val_accuracy: 0.7119\n",
      "Epoch 417/500\n",
      "181/181 [==============================] - 14s 79ms/step - loss: 0.4885 - accuracy: 0.8252 - val_loss: 1.2133 - val_accuracy: 0.6931\n",
      "Epoch 418/500\n",
      "181/181 [==============================] - 14s 79ms/step - loss: 0.4802 - accuracy: 0.8339 - val_loss: 1.1878 - val_accuracy: 0.7035\n",
      "Epoch 419/500\n",
      "181/181 [==============================] - 14s 79ms/step - loss: 0.4898 - accuracy: 0.8266 - val_loss: 1.2474 - val_accuracy: 0.6952\n",
      "Epoch 420/500\n",
      "181/181 [==============================] - 14s 80ms/step - loss: 0.4892 - accuracy: 0.8260 - val_loss: 1.1565 - val_accuracy: 0.7077\n",
      "Epoch 421/500\n",
      "181/181 [==============================] - 14s 79ms/step - loss: 0.4928 - accuracy: 0.8225 - val_loss: 1.2465 - val_accuracy: 0.6889\n",
      "Epoch 422/500\n",
      "181/181 [==============================] - 15s 80ms/step - loss: 0.4772 - accuracy: 0.8309 - val_loss: 1.1947 - val_accuracy: 0.6994\n"
     ]
    },
    {
     "name": "stdout",
     "output_type": "stream",
     "text": [
      "Epoch 423/500\n",
      "181/181 [==============================] - 14s 79ms/step - loss: 0.4929 - accuracy: 0.8272 - val_loss: 1.1707 - val_accuracy: 0.6910\n",
      "Epoch 424/500\n",
      "181/181 [==============================] - 14s 79ms/step - loss: 0.4814 - accuracy: 0.8281 - val_loss: 1.2310 - val_accuracy: 0.6973\n",
      "Epoch 425/500\n",
      "181/181 [==============================] - 14s 79ms/step - loss: 0.4841 - accuracy: 0.8295 - val_loss: 1.1887 - val_accuracy: 0.7035\n",
      "Epoch 426/500\n",
      "181/181 [==============================] - 14s 79ms/step - loss: 0.4760 - accuracy: 0.8306 - val_loss: 1.2170 - val_accuracy: 0.7056\n",
      "Epoch 427/500\n",
      "181/181 [==============================] - 14s 79ms/step - loss: 0.4855 - accuracy: 0.8309 - val_loss: 1.1887 - val_accuracy: 0.7223\n",
      "Epoch 428/500\n",
      "181/181 [==============================] - 14s 79ms/step - loss: 0.4753 - accuracy: 0.8338 - val_loss: 1.1064 - val_accuracy: 0.7307\n",
      "Epoch 429/500\n",
      "181/181 [==============================] - 14s 79ms/step - loss: 0.4840 - accuracy: 0.8283 - val_loss: 1.1562 - val_accuracy: 0.7244\n",
      "Epoch 430/500\n",
      "181/181 [==============================] - 14s 80ms/step - loss: 0.4781 - accuracy: 0.8289 - val_loss: 1.1422 - val_accuracy: 0.7265\n",
      "Epoch 431/500\n",
      "181/181 [==============================] - 14s 80ms/step - loss: 0.4721 - accuracy: 0.8322 - val_loss: 1.1670 - val_accuracy: 0.7098\n",
      "Epoch 432/500\n",
      "181/181 [==============================] - 14s 80ms/step - loss: 0.4825 - accuracy: 0.8268 - val_loss: 1.1999 - val_accuracy: 0.7056\n",
      "Epoch 433/500\n",
      "181/181 [==============================] - 14s 79ms/step - loss: 0.4728 - accuracy: 0.8306 - val_loss: 1.1584 - val_accuracy: 0.7140\n",
      "Epoch 434/500\n",
      "181/181 [==============================] - 14s 79ms/step - loss: 0.4716 - accuracy: 0.8298 - val_loss: 1.2175 - val_accuracy: 0.6994\n",
      "Epoch 435/500\n",
      "181/181 [==============================] - 14s 80ms/step - loss: 0.4699 - accuracy: 0.8357 - val_loss: 1.2318 - val_accuracy: 0.7035\n",
      "Epoch 436/500\n",
      "181/181 [==============================] - 14s 78ms/step - loss: 0.4854 - accuracy: 0.8285 - val_loss: 1.1606 - val_accuracy: 0.7244\n",
      "Epoch 437/500\n",
      "181/181 [==============================] - 14s 79ms/step - loss: 0.4749 - accuracy: 0.8319 - val_loss: 1.1952 - val_accuracy: 0.7098\n",
      "Epoch 438/500\n",
      "181/181 [==============================] - 14s 79ms/step - loss: 0.4912 - accuracy: 0.8239 - val_loss: 1.2036 - val_accuracy: 0.7307\n",
      "Epoch 439/500\n",
      "181/181 [==============================] - 14s 80ms/step - loss: 0.4704 - accuracy: 0.8317 - val_loss: 1.2100 - val_accuracy: 0.7223\n",
      "Epoch 440/500\n",
      "181/181 [==============================] - 15s 80ms/step - loss: 0.4947 - accuracy: 0.8239 - val_loss: 1.2966 - val_accuracy: 0.7077\n",
      "Epoch 441/500\n",
      "181/181 [==============================] - 15s 80ms/step - loss: 0.4896 - accuracy: 0.8275 - val_loss: 1.1741 - val_accuracy: 0.7035\n",
      "Epoch 442/500\n",
      "181/181 [==============================] - 14s 79ms/step - loss: 0.4730 - accuracy: 0.8331 - val_loss: 1.1548 - val_accuracy: 0.7098\n",
      "Epoch 443/500\n",
      "181/181 [==============================] - 14s 80ms/step - loss: 0.4778 - accuracy: 0.8289 - val_loss: 1.1701 - val_accuracy: 0.7077\n",
      "Epoch 444/500\n",
      "181/181 [==============================] - 14s 80ms/step - loss: 0.4889 - accuracy: 0.8251 - val_loss: 1.2254 - val_accuracy: 0.6931\n",
      "Epoch 445/500\n",
      "181/181 [==============================] - 14s 79ms/step - loss: 0.4789 - accuracy: 0.8290 - val_loss: 1.1826 - val_accuracy: 0.7203\n",
      "Epoch 446/500\n",
      "181/181 [==============================] - 14s 79ms/step - loss: 0.4773 - accuracy: 0.8291 - val_loss: 1.2098 - val_accuracy: 0.7035\n",
      "Epoch 447/500\n",
      "181/181 [==============================] - 14s 79ms/step - loss: 0.4785 - accuracy: 0.8285 - val_loss: 1.2082 - val_accuracy: 0.7119\n",
      "Epoch 448/500\n",
      "181/181 [==============================] - 14s 80ms/step - loss: 0.4644 - accuracy: 0.8338 - val_loss: 1.1540 - val_accuracy: 0.7182\n",
      "Epoch 449/500\n",
      "181/181 [==============================] - 14s 79ms/step - loss: 0.4938 - accuracy: 0.8208 - val_loss: 1.1469 - val_accuracy: 0.7056\n",
      "Epoch 450/500\n",
      "181/181 [==============================] - 14s 80ms/step - loss: 0.4646 - accuracy: 0.8392 - val_loss: 1.1193 - val_accuracy: 0.7161\n",
      "Epoch 451/500\n",
      "181/181 [==============================] - 14s 79ms/step - loss: 0.4700 - accuracy: 0.8335 - val_loss: 1.1995 - val_accuracy: 0.7098\n",
      "Epoch 452/500\n",
      "181/181 [==============================] - 14s 80ms/step - loss: 0.4768 - accuracy: 0.8304 - val_loss: 1.2303 - val_accuracy: 0.7140\n",
      "Epoch 453/500\n",
      "181/181 [==============================] - 14s 79ms/step - loss: 0.4657 - accuracy: 0.8353 - val_loss: 1.1788 - val_accuracy: 0.7161\n",
      "Epoch 454/500\n",
      "181/181 [==============================] - 14s 78ms/step - loss: 0.4706 - accuracy: 0.8331 - val_loss: 1.1322 - val_accuracy: 0.7265\n",
      "Epoch 455/500\n",
      "181/181 [==============================] - 14s 79ms/step - loss: 0.4828 - accuracy: 0.8277 - val_loss: 1.1423 - val_accuracy: 0.7286\n",
      "Epoch 456/500\n",
      "181/181 [==============================] - 14s 80ms/step - loss: 0.4783 - accuracy: 0.8314 - val_loss: 1.1171 - val_accuracy: 0.7286\n",
      "Epoch 457/500\n",
      "181/181 [==============================] - 14s 79ms/step - loss: 0.4668 - accuracy: 0.8329 - val_loss: 1.1162 - val_accuracy: 0.7182\n",
      "Epoch 458/500\n",
      "181/181 [==============================] - 14s 80ms/step - loss: 0.4788 - accuracy: 0.8307 - val_loss: 1.1781 - val_accuracy: 0.7119\n",
      "Epoch 459/500\n",
      "181/181 [==============================] - 14s 79ms/step - loss: 0.4660 - accuracy: 0.8313 - val_loss: 1.1906 - val_accuracy: 0.7161\n",
      "Epoch 460/500\n",
      "181/181 [==============================] - 14s 79ms/step - loss: 0.4626 - accuracy: 0.8348 - val_loss: 1.1917 - val_accuracy: 0.7098\n",
      "Epoch 461/500\n",
      "181/181 [==============================] - 14s 80ms/step - loss: 0.4589 - accuracy: 0.8351 - val_loss: 1.1411 - val_accuracy: 0.6931\n",
      "Epoch 462/500\n",
      "181/181 [==============================] - 14s 80ms/step - loss: 0.4790 - accuracy: 0.8310 - val_loss: 1.1140 - val_accuracy: 0.7140\n",
      "Epoch 463/500\n",
      "181/181 [==============================] - 14s 79ms/step - loss: 0.4826 - accuracy: 0.8308 - val_loss: 1.1607 - val_accuracy: 0.7307\n",
      "Epoch 464/500\n",
      "181/181 [==============================] - 15s 80ms/step - loss: 0.4589 - accuracy: 0.8379 - val_loss: 1.1250 - val_accuracy: 0.7265\n",
      "Epoch 465/500\n",
      "181/181 [==============================] - 14s 79ms/step - loss: 0.4704 - accuracy: 0.8329 - val_loss: 1.2100 - val_accuracy: 0.7265\n",
      "Epoch 466/500\n",
      "181/181 [==============================] - 14s 79ms/step - loss: 0.4715 - accuracy: 0.8352 - val_loss: 1.1907 - val_accuracy: 0.7370\n",
      "Epoch 467/500\n",
      "181/181 [==============================] - 14s 79ms/step - loss: 0.4670 - accuracy: 0.8351 - val_loss: 1.2267 - val_accuracy: 0.7098\n",
      "Epoch 468/500\n",
      "181/181 [==============================] - 14s 79ms/step - loss: 0.4601 - accuracy: 0.8375 - val_loss: 1.1454 - val_accuracy: 0.7370\n",
      "Epoch 469/500\n",
      "181/181 [==============================] - 14s 80ms/step - loss: 0.4674 - accuracy: 0.8344 - val_loss: 1.1482 - val_accuracy: 0.7161\n",
      "Epoch 470/500\n",
      "181/181 [==============================] - 14s 80ms/step - loss: 0.4743 - accuracy: 0.8331 - val_loss: 1.2105 - val_accuracy: 0.7077\n",
      "Epoch 471/500\n",
      "181/181 [==============================] - 14s 79ms/step - loss: 0.4628 - accuracy: 0.8364 - val_loss: 1.1152 - val_accuracy: 0.7182\n",
      "Epoch 472/500\n",
      "181/181 [==============================] - 15s 80ms/step - loss: 0.4611 - accuracy: 0.8359 - val_loss: 1.1360 - val_accuracy: 0.7244\n",
      "Epoch 473/500\n",
      "181/181 [==============================] - 14s 79ms/step - loss: 0.4644 - accuracy: 0.8332 - val_loss: 1.1832 - val_accuracy: 0.7182\n",
      "Epoch 474/500\n",
      "181/181 [==============================] - 14s 80ms/step - loss: 0.4729 - accuracy: 0.8344 - val_loss: 1.1574 - val_accuracy: 0.7161\n",
      "Epoch 475/500\n",
      "181/181 [==============================] - 14s 79ms/step - loss: 0.4621 - accuracy: 0.8386 - val_loss: 1.1610 - val_accuracy: 0.7307\n",
      "Epoch 476/500\n",
      "181/181 [==============================] - 15s 81ms/step - loss: 0.4758 - accuracy: 0.8298 - val_loss: 1.1329 - val_accuracy: 0.7265\n",
      "Epoch 477/500\n",
      "181/181 [==============================] - 14s 80ms/step - loss: 0.4586 - accuracy: 0.8345 - val_loss: 1.2063 - val_accuracy: 0.7307\n",
      "Epoch 478/500\n",
      "181/181 [==============================] - 14s 79ms/step - loss: 0.4593 - accuracy: 0.8388 - val_loss: 1.1829 - val_accuracy: 0.7286\n"
     ]
    },
    {
     "name": "stdout",
     "output_type": "stream",
     "text": [
      "Epoch 479/500\n",
      "181/181 [==============================] - 14s 80ms/step - loss: 0.4516 - accuracy: 0.8366 - val_loss: 1.2141 - val_accuracy: 0.7098\n",
      "Epoch 480/500\n",
      "181/181 [==============================] - 15s 80ms/step - loss: 0.4709 - accuracy: 0.8347 - val_loss: 1.1595 - val_accuracy: 0.7182\n",
      "Epoch 481/500\n",
      "181/181 [==============================] - 14s 79ms/step - loss: 0.4617 - accuracy: 0.8396 - val_loss: 1.1522 - val_accuracy: 0.7161\n",
      "Epoch 482/500\n",
      "181/181 [==============================] - 15s 80ms/step - loss: 0.4642 - accuracy: 0.8340 - val_loss: 1.0899 - val_accuracy: 0.7286\n",
      "Epoch 483/500\n",
      "181/181 [==============================] - 14s 79ms/step - loss: 0.4646 - accuracy: 0.8331 - val_loss: 1.1773 - val_accuracy: 0.7203\n",
      "Epoch 484/500\n",
      "181/181 [==============================] - 14s 80ms/step - loss: 0.4669 - accuracy: 0.8352 - val_loss: 1.1238 - val_accuracy: 0.7098\n",
      "Epoch 485/500\n",
      "181/181 [==============================] - 14s 80ms/step - loss: 0.4619 - accuracy: 0.8387 - val_loss: 1.2349 - val_accuracy: 0.7203\n",
      "Epoch 486/500\n",
      "181/181 [==============================] - 14s 79ms/step - loss: 0.4661 - accuracy: 0.8331 - val_loss: 1.2090 - val_accuracy: 0.7244\n",
      "Epoch 487/500\n",
      "181/181 [==============================] - 14s 80ms/step - loss: 0.4677 - accuracy: 0.8340 - val_loss: 1.1520 - val_accuracy: 0.7119\n",
      "Epoch 488/500\n",
      "181/181 [==============================] - 14s 80ms/step - loss: 0.4538 - accuracy: 0.8379 - val_loss: 1.1614 - val_accuracy: 0.7223\n",
      "Epoch 489/500\n",
      "181/181 [==============================] - 14s 79ms/step - loss: 0.4736 - accuracy: 0.8291 - val_loss: 1.1994 - val_accuracy: 0.7203\n",
      "Epoch 490/500\n",
      "181/181 [==============================] - 14s 79ms/step - loss: 0.4572 - accuracy: 0.8439 - val_loss: 1.1468 - val_accuracy: 0.7182\n",
      "Epoch 491/500\n",
      "181/181 [==============================] - 14s 80ms/step - loss: 0.4761 - accuracy: 0.8318 - val_loss: 1.1950 - val_accuracy: 0.7307\n",
      "Epoch 492/500\n",
      "181/181 [==============================] - 15s 80ms/step - loss: 0.4526 - accuracy: 0.8414 - val_loss: 1.1897 - val_accuracy: 0.7265\n",
      "Epoch 493/500\n",
      "181/181 [==============================] - 14s 79ms/step - loss: 0.4552 - accuracy: 0.8424 - val_loss: 1.1893 - val_accuracy: 0.7328\n",
      "Epoch 494/500\n",
      "181/181 [==============================] - 14s 79ms/step - loss: 0.4547 - accuracy: 0.8416 - val_loss: 1.1650 - val_accuracy: 0.7411\n",
      "Epoch 495/500\n",
      "181/181 [==============================] - 14s 80ms/step - loss: 0.4623 - accuracy: 0.8362 - val_loss: 1.1732 - val_accuracy: 0.7265\n",
      "Epoch 496/500\n",
      "181/181 [==============================] - 14s 79ms/step - loss: 0.4534 - accuracy: 0.8404 - val_loss: 1.1766 - val_accuracy: 0.7161\n",
      "Epoch 497/500\n",
      "181/181 [==============================] - 14s 79ms/step - loss: 0.4413 - accuracy: 0.8450 - val_loss: 1.1958 - val_accuracy: 0.7286\n",
      "Epoch 498/500\n",
      "181/181 [==============================] - 14s 80ms/step - loss: 0.4570 - accuracy: 0.8407 - val_loss: 1.2144 - val_accuracy: 0.7286\n",
      "Epoch 499/500\n",
      "181/181 [==============================] - 14s 80ms/step - loss: 0.4509 - accuracy: 0.8375 - val_loss: 1.1562 - val_accuracy: 0.7244\n",
      "Epoch 500/500\n",
      "181/181 [==============================] - 14s 80ms/step - loss: 0.4452 - accuracy: 0.8441 - val_loss: 1.1448 - val_accuracy: 0.7098\n"
     ]
    }
   ],
   "source": [
    "history = model.fit(\n",
    "    generator,\n",
    "    validation_data = val_generator,\n",
    "    epochs = 500,\n",
    "    shuffle=False,\n",
    "    callbacks=callbacks\n",
    ").history"
   ]
  },
  {
   "cell_type": "code",
   "execution_count": 41,
   "metadata": {
    "pycharm": {
     "name": "#%%\n"
    }
   },
   "outputs": [
    {
     "name": "stdout",
     "output_type": "stream",
     "text": [
      "Dec17_07-38-45\n",
      "ResLSTM_Dec17_07-38-45\n"
     ]
    }
   ],
   "source": [
    "model = build_model((36,6), classes)\n",
    "generator=AugmentDataGenerator(X_train_KF[2],y_train_KF[2],p=0.5)\n",
    "val_generator=AugmentDataGenerator(X_val_KF[2],y_val_KF[2],p=0)\n",
    "callbacks, date = create_folders_and_callbacks(foldermode)\n",
    "foldername = foldermode + '_' + str(date)\n",
    "print(foldername)"
   ]
  },
  {
   "cell_type": "code",
   "execution_count": 42,
   "metadata": {
    "pycharm": {
     "name": "#%%\n"
    }
   },
   "outputs": [
    {
     "name": "stdout",
     "output_type": "stream",
     "text": [
      "Epoch 1/500\n",
      "180/181 [============================>.] - ETA: 0s - loss: 1.5781 - accuracy: 0.4619"
     ]
    },
    {
     "name": "stderr",
     "output_type": "stream",
     "text": [
      "WARNING:absl:Function `_wrapped_model` contains input name(s) Input with unsupported characters which will be renamed to input in the SavedModel.\n",
      "WARNING:absl:Found untraced functions such as lstm_cell_31_layer_call_fn, lstm_cell_31_layer_call_and_return_conditional_losses, lstm_cell_32_layer_call_fn, lstm_cell_32_layer_call_and_return_conditional_losses, lstm_cell_34_layer_call_fn while saving (showing 5 of 20). These functions will not be directly callable after loading.\n"
     ]
    },
    {
     "name": "stdout",
     "output_type": "stream",
     "text": [
      "INFO:tensorflow:Assets written to: experiments\\ResLSTM_Dec17_07-38-45\\base_ckpts\\cp_01.ckpt\\assets\n"
     ]
    },
    {
     "name": "stderr",
     "output_type": "stream",
     "text": [
      "INFO:tensorflow:Assets written to: experiments\\ResLSTM_Dec17_07-38-45\\base_ckpts\\cp_01.ckpt\\assets\n"
     ]
    },
    {
     "name": "stdout",
     "output_type": "stream",
     "text": [
      "181/181 [==============================] - 102s 499ms/step - loss: 1.5781 - accuracy: 0.4619 - val_loss: 1.2406 - val_accuracy: 0.5783\n",
      "Epoch 2/500\n",
      "180/181 [============================>.] - ETA: 0s - loss: 1.3705 - accuracy: 0.5246"
     ]
    },
    {
     "name": "stderr",
     "output_type": "stream",
     "text": [
      "WARNING:absl:Function `_wrapped_model` contains input name(s) Input with unsupported characters which will be renamed to input in the SavedModel.\n",
      "WARNING:absl:Found untraced functions such as lstm_cell_31_layer_call_fn, lstm_cell_31_layer_call_and_return_conditional_losses, lstm_cell_32_layer_call_fn, lstm_cell_32_layer_call_and_return_conditional_losses, lstm_cell_34_layer_call_fn while saving (showing 5 of 20). These functions will not be directly callable after loading.\n"
     ]
    },
    {
     "name": "stdout",
     "output_type": "stream",
     "text": [
      "INFO:tensorflow:Assets written to: experiments\\ResLSTM_Dec17_07-38-45\\base_ckpts\\cp_02.ckpt\\assets\n"
     ]
    },
    {
     "name": "stderr",
     "output_type": "stream",
     "text": [
      "INFO:tensorflow:Assets written to: experiments\\ResLSTM_Dec17_07-38-45\\base_ckpts\\cp_02.ckpt\\assets\n"
     ]
    },
    {
     "name": "stdout",
     "output_type": "stream",
     "text": [
      "181/181 [==============================] - 85s 471ms/step - loss: 1.3706 - accuracy: 0.5244 - val_loss: 1.1067 - val_accuracy: 0.6159\n",
      "Epoch 3/500\n",
      "180/181 [============================>.] - ETA: 0s - loss: 1.2832 - accuracy: 0.5543"
     ]
    },
    {
     "name": "stderr",
     "output_type": "stream",
     "text": [
      "WARNING:absl:Function `_wrapped_model` contains input name(s) Input with unsupported characters which will be renamed to input in the SavedModel.\n",
      "WARNING:absl:Found untraced functions such as lstm_cell_31_layer_call_fn, lstm_cell_31_layer_call_and_return_conditional_losses, lstm_cell_32_layer_call_fn, lstm_cell_32_layer_call_and_return_conditional_losses, lstm_cell_34_layer_call_fn while saving (showing 5 of 20). These functions will not be directly callable after loading.\n"
     ]
    },
    {
     "name": "stdout",
     "output_type": "stream",
     "text": [
      "INFO:tensorflow:Assets written to: experiments\\ResLSTM_Dec17_07-38-45\\base_ckpts\\cp_03.ckpt\\assets\n"
     ]
    },
    {
     "name": "stderr",
     "output_type": "stream",
     "text": [
      "INFO:tensorflow:Assets written to: experiments\\ResLSTM_Dec17_07-38-45\\base_ckpts\\cp_03.ckpt\\assets\n"
     ]
    },
    {
     "name": "stdout",
     "output_type": "stream",
     "text": [
      "181/181 [==============================] - 85s 470ms/step - loss: 1.2830 - accuracy: 0.5545 - val_loss: 1.0375 - val_accuracy: 0.6388\n",
      "Epoch 4/500\n",
      "180/181 [============================>.] - ETA: 0s - loss: 1.2529 - accuracy: 0.5656"
     ]
    },
    {
     "name": "stderr",
     "output_type": "stream",
     "text": [
      "WARNING:absl:Function `_wrapped_model` contains input name(s) Input with unsupported characters which will be renamed to input in the SavedModel.\n",
      "WARNING:absl:Found untraced functions such as lstm_cell_31_layer_call_fn, lstm_cell_31_layer_call_and_return_conditional_losses, lstm_cell_32_layer_call_fn, lstm_cell_32_layer_call_and_return_conditional_losses, lstm_cell_34_layer_call_fn while saving (showing 5 of 20). These functions will not be directly callable after loading.\n"
     ]
    },
    {
     "name": "stdout",
     "output_type": "stream",
     "text": [
      "INFO:tensorflow:Assets written to: experiments\\ResLSTM_Dec17_07-38-45\\base_ckpts\\cp_04.ckpt\\assets\n"
     ]
    },
    {
     "name": "stderr",
     "output_type": "stream",
     "text": [
      "INFO:tensorflow:Assets written to: experiments\\ResLSTM_Dec17_07-38-45\\base_ckpts\\cp_04.ckpt\\assets\n"
     ]
    },
    {
     "name": "stdout",
     "output_type": "stream",
     "text": [
      "181/181 [==============================] - 85s 473ms/step - loss: 1.2532 - accuracy: 0.5655 - val_loss: 0.9821 - val_accuracy: 0.6701\n",
      "Epoch 5/500\n",
      "181/181 [==============================] - 15s 80ms/step - loss: 1.2112 - accuracy: 0.5793 - val_loss: 0.9603 - val_accuracy: 0.6618\n",
      "Epoch 6/500\n",
      "180/181 [============================>.] - ETA: 0s - loss: 1.1814 - accuracy: 0.5847"
     ]
    },
    {
     "name": "stderr",
     "output_type": "stream",
     "text": [
      "WARNING:absl:Function `_wrapped_model` contains input name(s) Input with unsupported characters which will be renamed to input in the SavedModel.\n",
      "WARNING:absl:Found untraced functions such as lstm_cell_31_layer_call_fn, lstm_cell_31_layer_call_and_return_conditional_losses, lstm_cell_32_layer_call_fn, lstm_cell_32_layer_call_and_return_conditional_losses, lstm_cell_34_layer_call_fn while saving (showing 5 of 20). These functions will not be directly callable after loading.\n"
     ]
    },
    {
     "name": "stdout",
     "output_type": "stream",
     "text": [
      "INFO:tensorflow:Assets written to: experiments\\ResLSTM_Dec17_07-38-45\\base_ckpts\\cp_06.ckpt\\assets\n"
     ]
    },
    {
     "name": "stderr",
     "output_type": "stream",
     "text": [
      "INFO:tensorflow:Assets written to: experiments\\ResLSTM_Dec17_07-38-45\\base_ckpts\\cp_06.ckpt\\assets\n"
     ]
    },
    {
     "name": "stdout",
     "output_type": "stream",
     "text": [
      "181/181 [==============================] - 83s 460ms/step - loss: 1.1820 - accuracy: 0.5847 - val_loss: 0.9347 - val_accuracy: 0.6827\n",
      "Epoch 7/500\n",
      "180/181 [============================>.] - ETA: 0s - loss: 1.1633 - accuracy: 0.5915"
     ]
    },
    {
     "name": "stderr",
     "output_type": "stream",
     "text": [
      "WARNING:absl:Function `_wrapped_model` contains input name(s) Input with unsupported characters which will be renamed to input in the SavedModel.\n",
      "WARNING:absl:Found untraced functions such as lstm_cell_31_layer_call_fn, lstm_cell_31_layer_call_and_return_conditional_losses, lstm_cell_32_layer_call_fn, lstm_cell_32_layer_call_and_return_conditional_losses, lstm_cell_34_layer_call_fn while saving (showing 5 of 20). These functions will not be directly callable after loading.\n"
     ]
    },
    {
     "name": "stdout",
     "output_type": "stream",
     "text": [
      "INFO:tensorflow:Assets written to: experiments\\ResLSTM_Dec17_07-38-45\\base_ckpts\\cp_07.ckpt\\assets\n"
     ]
    },
    {
     "name": "stderr",
     "output_type": "stream",
     "text": [
      "INFO:tensorflow:Assets written to: experiments\\ResLSTM_Dec17_07-38-45\\base_ckpts\\cp_07.ckpt\\assets\n"
     ]
    },
    {
     "name": "stdout",
     "output_type": "stream",
     "text": [
      "181/181 [==============================] - 86s 477ms/step - loss: 1.1634 - accuracy: 0.5914 - val_loss: 0.9215 - val_accuracy: 0.6973\n",
      "Epoch 8/500\n",
      "181/181 [==============================] - 15s 79ms/step - loss: 1.1536 - accuracy: 0.5943 - val_loss: 0.9217 - val_accuracy: 0.6743\n",
      "Epoch 9/500\n",
      "181/181 [==============================] - 14s 79ms/step - loss: 1.1259 - accuracy: 0.6020 - val_loss: 0.8799 - val_accuracy: 0.6910\n",
      "Epoch 10/500\n",
      "180/181 [============================>.] - ETA: 0s - loss: 1.1076 - accuracy: 0.6117"
     ]
    },
    {
     "name": "stderr",
     "output_type": "stream",
     "text": [
      "WARNING:absl:Function `_wrapped_model` contains input name(s) Input with unsupported characters which will be renamed to input in the SavedModel.\n",
      "WARNING:absl:Found untraced functions such as lstm_cell_31_layer_call_fn, lstm_cell_31_layer_call_and_return_conditional_losses, lstm_cell_32_layer_call_fn, lstm_cell_32_layer_call_and_return_conditional_losses, lstm_cell_34_layer_call_fn while saving (showing 5 of 20). These functions will not be directly callable after loading.\n"
     ]
    },
    {
     "name": "stdout",
     "output_type": "stream",
     "text": [
      "INFO:tensorflow:Assets written to: experiments\\ResLSTM_Dec17_07-38-45\\base_ckpts\\cp_10.ckpt\\assets\n"
     ]
    },
    {
     "name": "stderr",
     "output_type": "stream",
     "text": [
      "INFO:tensorflow:Assets written to: experiments\\ResLSTM_Dec17_07-38-45\\base_ckpts\\cp_10.ckpt\\assets\n"
     ]
    },
    {
     "name": "stdout",
     "output_type": "stream",
     "text": [
      "181/181 [==============================] - 86s 477ms/step - loss: 1.1079 - accuracy: 0.6117 - val_loss: 0.8828 - val_accuracy: 0.6994\n",
      "Epoch 11/500\n",
      "180/181 [============================>.] - ETA: 0s - loss: 1.1114 - accuracy: 0.6127"
     ]
    },
    {
     "name": "stderr",
     "output_type": "stream",
     "text": [
      "WARNING:absl:Function `_wrapped_model` contains input name(s) Input with unsupported characters which will be renamed to input in the SavedModel.\n",
      "WARNING:absl:Found untraced functions such as lstm_cell_31_layer_call_fn, lstm_cell_31_layer_call_and_return_conditional_losses, lstm_cell_32_layer_call_fn, lstm_cell_32_layer_call_and_return_conditional_losses, lstm_cell_34_layer_call_fn while saving (showing 5 of 20). These functions will not be directly callable after loading.\n"
     ]
    },
    {
     "name": "stdout",
     "output_type": "stream",
     "text": [
      "INFO:tensorflow:Assets written to: experiments\\ResLSTM_Dec17_07-38-45\\base_ckpts\\cp_11.ckpt\\assets\n"
     ]
    },
    {
     "name": "stderr",
     "output_type": "stream",
     "text": [
      "INFO:tensorflow:Assets written to: experiments\\ResLSTM_Dec17_07-38-45\\base_ckpts\\cp_11.ckpt\\assets\n"
     ]
    },
    {
     "name": "stdout",
     "output_type": "stream",
     "text": [
      "181/181 [==============================] - 85s 467ms/step - loss: 1.1116 - accuracy: 0.6125 - val_loss: 0.8725 - val_accuracy: 0.7056\n",
      "Epoch 12/500\n",
      "181/181 [==============================] - 15s 79ms/step - loss: 1.1036 - accuracy: 0.6151 - val_loss: 0.8493 - val_accuracy: 0.6994\n",
      "Epoch 13/500\n",
      "180/181 [============================>.] - ETA: 0s - loss: 1.0894 - accuracy: 0.6187"
     ]
    },
    {
     "name": "stderr",
     "output_type": "stream",
     "text": [
      "WARNING:absl:Function `_wrapped_model` contains input name(s) Input with unsupported characters which will be renamed to input in the SavedModel.\n",
      "WARNING:absl:Found untraced functions such as lstm_cell_31_layer_call_fn, lstm_cell_31_layer_call_and_return_conditional_losses, lstm_cell_32_layer_call_fn, lstm_cell_32_layer_call_and_return_conditional_losses, lstm_cell_34_layer_call_fn while saving (showing 5 of 20). These functions will not be directly callable after loading.\n"
     ]
    },
    {
     "name": "stdout",
     "output_type": "stream",
     "text": [
      "INFO:tensorflow:Assets written to: experiments\\ResLSTM_Dec17_07-38-45\\base_ckpts\\cp_13.ckpt\\assets\n"
     ]
    },
    {
     "name": "stderr",
     "output_type": "stream",
     "text": [
      "INFO:tensorflow:Assets written to: experiments\\ResLSTM_Dec17_07-38-45\\base_ckpts\\cp_13.ckpt\\assets\n"
     ]
    },
    {
     "name": "stdout",
     "output_type": "stream",
     "text": [
      "181/181 [==============================] - 84s 463ms/step - loss: 1.0896 - accuracy: 0.6186 - val_loss: 0.8467 - val_accuracy: 0.7119\n",
      "Epoch 14/500\n",
      "181/181 [==============================] - 15s 79ms/step - loss: 1.0810 - accuracy: 0.6198 - val_loss: 0.8545 - val_accuracy: 0.7015\n",
      "Epoch 15/500\n",
      "181/181 [==============================] - 14s 79ms/step - loss: 1.0602 - accuracy: 0.6238 - val_loss: 0.8619 - val_accuracy: 0.7098\n",
      "Epoch 16/500\n",
      "181/181 [==============================] - 15s 80ms/step - loss: 1.0670 - accuracy: 0.6264 - val_loss: 0.8451 - val_accuracy: 0.7077\n",
      "Epoch 17/500\n",
      "181/181 [==============================] - 14s 79ms/step - loss: 1.0407 - accuracy: 0.6318 - val_loss: 0.8400 - val_accuracy: 0.7056\n",
      "Epoch 18/500\n",
      "181/181 [==============================] - 14s 79ms/step - loss: 1.0388 - accuracy: 0.6350 - val_loss: 0.8790 - val_accuracy: 0.6952\n",
      "Epoch 19/500\n",
      "180/181 [============================>.] - ETA: 0s - loss: 1.0257 - accuracy: 0.6400"
     ]
    },
    {
     "name": "stderr",
     "output_type": "stream",
     "text": [
      "WARNING:absl:Function `_wrapped_model` contains input name(s) Input with unsupported characters which will be renamed to input in the SavedModel.\n",
      "WARNING:absl:Found untraced functions such as lstm_cell_31_layer_call_fn, lstm_cell_31_layer_call_and_return_conditional_losses, lstm_cell_32_layer_call_fn, lstm_cell_32_layer_call_and_return_conditional_losses, lstm_cell_34_layer_call_fn while saving (showing 5 of 20). These functions will not be directly callable after loading.\n"
     ]
    },
    {
     "name": "stdout",
     "output_type": "stream",
     "text": [
      "INFO:tensorflow:Assets written to: experiments\\ResLSTM_Dec17_07-38-45\\base_ckpts\\cp_19.ckpt\\assets\n"
     ]
    },
    {
     "name": "stderr",
     "output_type": "stream",
     "text": [
      "INFO:tensorflow:Assets written to: experiments\\ResLSTM_Dec17_07-38-45\\base_ckpts\\cp_19.ckpt\\assets\n"
     ]
    },
    {
     "name": "stdout",
     "output_type": "stream",
     "text": [
      "181/181 [==============================] - 84s 464ms/step - loss: 1.0257 - accuracy: 0.6400 - val_loss: 0.8551 - val_accuracy: 0.7161\n",
      "Epoch 20/500\n",
      "180/181 [============================>.] - ETA: 0s - loss: 1.0201 - accuracy: 0.6430"
     ]
    },
    {
     "name": "stderr",
     "output_type": "stream",
     "text": [
      "WARNING:absl:Function `_wrapped_model` contains input name(s) Input with unsupported characters which will be renamed to input in the SavedModel.\n",
      "WARNING:absl:Found untraced functions such as lstm_cell_31_layer_call_fn, lstm_cell_31_layer_call_and_return_conditional_losses, lstm_cell_32_layer_call_fn, lstm_cell_32_layer_call_and_return_conditional_losses, lstm_cell_34_layer_call_fn while saving (showing 5 of 20). These functions will not be directly callable after loading.\n"
     ]
    },
    {
     "name": "stdout",
     "output_type": "stream",
     "text": [
      "INFO:tensorflow:Assets written to: experiments\\ResLSTM_Dec17_07-38-45\\base_ckpts\\cp_20.ckpt\\assets\n"
     ]
    },
    {
     "name": "stderr",
     "output_type": "stream",
     "text": [
      "INFO:tensorflow:Assets written to: experiments\\ResLSTM_Dec17_07-38-45\\base_ckpts\\cp_20.ckpt\\assets\n"
     ]
    },
    {
     "name": "stdout",
     "output_type": "stream",
     "text": [
      "181/181 [==============================] - 84s 467ms/step - loss: 1.0200 - accuracy: 0.6430 - val_loss: 0.8052 - val_accuracy: 0.7307\n",
      "Epoch 21/500\n",
      "181/181 [==============================] - 15s 79ms/step - loss: 1.0048 - accuracy: 0.6451 - val_loss: 0.8188 - val_accuracy: 0.7140\n",
      "Epoch 22/500\n",
      "181/181 [==============================] - 14s 79ms/step - loss: 1.0112 - accuracy: 0.6401 - val_loss: 0.8269 - val_accuracy: 0.6973\n",
      "Epoch 23/500\n",
      "181/181 [==============================] - 14s 79ms/step - loss: 0.9937 - accuracy: 0.6488 - val_loss: 0.8339 - val_accuracy: 0.7223\n",
      "Epoch 24/500\n",
      "181/181 [==============================] - 14s 79ms/step - loss: 0.9882 - accuracy: 0.6562 - val_loss: 0.8291 - val_accuracy: 0.7161\n",
      "Epoch 25/500\n",
      "181/181 [==============================] - 14s 79ms/step - loss: 0.9786 - accuracy: 0.6497 - val_loss: 0.8505 - val_accuracy: 0.7203\n",
      "Epoch 26/500\n",
      "181/181 [==============================] - 14s 79ms/step - loss: 0.9818 - accuracy: 0.6550 - val_loss: 0.8534 - val_accuracy: 0.7265\n",
      "Epoch 27/500\n",
      "181/181 [==============================] - 15s 80ms/step - loss: 0.9694 - accuracy: 0.6643 - val_loss: 0.8293 - val_accuracy: 0.7015\n",
      "Epoch 28/500\n",
      "181/181 [==============================] - 15s 80ms/step - loss: 0.9711 - accuracy: 0.6588 - val_loss: 0.8256 - val_accuracy: 0.7244\n",
      "Epoch 29/500\n",
      "181/181 [==============================] - 14s 79ms/step - loss: 0.9696 - accuracy: 0.6600 - val_loss: 0.7983 - val_accuracy: 0.7286\n",
      "Epoch 30/500\n",
      "181/181 [==============================] - 14s 79ms/step - loss: 0.9628 - accuracy: 0.6641 - val_loss: 0.8215 - val_accuracy: 0.7182\n",
      "Epoch 31/500\n",
      "181/181 [==============================] - 14s 79ms/step - loss: 0.9454 - accuracy: 0.6724 - val_loss: 0.7971 - val_accuracy: 0.7265\n",
      "Epoch 32/500\n",
      "181/181 [==============================] - 14s 79ms/step - loss: 0.9403 - accuracy: 0.6727 - val_loss: 0.8229 - val_accuracy: 0.7015\n",
      "Epoch 33/500\n",
      "181/181 [==============================] - 14s 80ms/step - loss: 0.9452 - accuracy: 0.6694 - val_loss: 0.8580 - val_accuracy: 0.7056\n",
      "Epoch 34/500\n",
      "181/181 [==============================] - 15s 80ms/step - loss: 0.9302 - accuracy: 0.6758 - val_loss: 0.8412 - val_accuracy: 0.7035\n",
      "Epoch 35/500\n",
      "180/181 [============================>.] - ETA: 0s - loss: 0.9213 - accuracy: 0.6779"
     ]
    },
    {
     "name": "stderr",
     "output_type": "stream",
     "text": [
      "WARNING:absl:Function `_wrapped_model` contains input name(s) Input with unsupported characters which will be renamed to input in the SavedModel.\n",
      "WARNING:absl:Found untraced functions such as lstm_cell_31_layer_call_fn, lstm_cell_31_layer_call_and_return_conditional_losses, lstm_cell_32_layer_call_fn, lstm_cell_32_layer_call_and_return_conditional_losses, lstm_cell_34_layer_call_fn while saving (showing 5 of 20). These functions will not be directly callable after loading.\n"
     ]
    },
    {
     "name": "stdout",
     "output_type": "stream",
     "text": [
      "INFO:tensorflow:Assets written to: experiments\\ResLSTM_Dec17_07-38-45\\base_ckpts\\cp_35.ckpt\\assets\n"
     ]
    },
    {
     "name": "stderr",
     "output_type": "stream",
     "text": [
      "INFO:tensorflow:Assets written to: experiments\\ResLSTM_Dec17_07-38-45\\base_ckpts\\cp_35.ckpt\\assets\n"
     ]
    },
    {
     "name": "stdout",
     "output_type": "stream",
     "text": [
      "181/181 [==============================] - 86s 474ms/step - loss: 0.9213 - accuracy: 0.6779 - val_loss: 0.8114 - val_accuracy: 0.7328\n",
      "Epoch 36/500\n",
      "181/181 [==============================] - 15s 80ms/step - loss: 0.9198 - accuracy: 0.6800 - val_loss: 0.8074 - val_accuracy: 0.7140\n",
      "Epoch 37/500\n",
      "181/181 [==============================] - 14s 80ms/step - loss: 0.9327 - accuracy: 0.6708 - val_loss: 0.8421 - val_accuracy: 0.7223\n",
      "Epoch 38/500\n",
      "180/181 [============================>.] - ETA: 0s - loss: 0.9186 - accuracy: 0.6762"
     ]
    },
    {
     "name": "stderr",
     "output_type": "stream",
     "text": [
      "WARNING:absl:Function `_wrapped_model` contains input name(s) Input with unsupported characters which will be renamed to input in the SavedModel.\n",
      "WARNING:absl:Found untraced functions such as lstm_cell_31_layer_call_fn, lstm_cell_31_layer_call_and_return_conditional_losses, lstm_cell_32_layer_call_fn, lstm_cell_32_layer_call_and_return_conditional_losses, lstm_cell_34_layer_call_fn while saving (showing 5 of 20). These functions will not be directly callable after loading.\n"
     ]
    },
    {
     "name": "stdout",
     "output_type": "stream",
     "text": [
      "INFO:tensorflow:Assets written to: experiments\\ResLSTM_Dec17_07-38-45\\base_ckpts\\cp_38.ckpt\\assets\n"
     ]
    },
    {
     "name": "stderr",
     "output_type": "stream",
     "text": [
      "INFO:tensorflow:Assets written to: experiments\\ResLSTM_Dec17_07-38-45\\base_ckpts\\cp_38.ckpt\\assets\n"
     ]
    },
    {
     "name": "stdout",
     "output_type": "stream",
     "text": [
      "181/181 [==============================] - 84s 467ms/step - loss: 0.9187 - accuracy: 0.6762 - val_loss: 0.8301 - val_accuracy: 0.7370\n",
      "Epoch 39/500\n",
      "181/181 [==============================] - 15s 79ms/step - loss: 0.9048 - accuracy: 0.6803 - val_loss: 0.8296 - val_accuracy: 0.6952\n",
      "Epoch 40/500\n",
      "181/181 [==============================] - 14s 79ms/step - loss: 0.9008 - accuracy: 0.6818 - val_loss: 0.8029 - val_accuracy: 0.7161\n",
      "Epoch 41/500\n",
      "181/181 [==============================] - 14s 79ms/step - loss: 0.8952 - accuracy: 0.6882 - val_loss: 0.8877 - val_accuracy: 0.6931\n",
      "Epoch 42/500\n",
      "181/181 [==============================] - 14s 80ms/step - loss: 0.9024 - accuracy: 0.6780 - val_loss: 0.8287 - val_accuracy: 0.7119\n",
      "Epoch 43/500\n",
      "181/181 [==============================] - 14s 79ms/step - loss: 0.8904 - accuracy: 0.6911 - val_loss: 0.8216 - val_accuracy: 0.7349\n",
      "Epoch 44/500\n",
      "181/181 [==============================] - 14s 79ms/step - loss: 0.8943 - accuracy: 0.6845 - val_loss: 0.8098 - val_accuracy: 0.7286\n",
      "Epoch 45/500\n",
      "181/181 [==============================] - 14s 79ms/step - loss: 0.8927 - accuracy: 0.6866 - val_loss: 0.8638 - val_accuracy: 0.7098\n",
      "Epoch 46/500\n",
      "181/181 [==============================] - 14s 79ms/step - loss: 0.8817 - accuracy: 0.6873 - val_loss: 0.8417 - val_accuracy: 0.7077\n",
      "Epoch 47/500\n",
      "181/181 [==============================] - 14s 79ms/step - loss: 0.8755 - accuracy: 0.6957 - val_loss: 0.8471 - val_accuracy: 0.7307\n",
      "Epoch 48/500\n",
      "181/181 [==============================] - 14s 80ms/step - loss: 0.8752 - accuracy: 0.6904 - val_loss: 0.8552 - val_accuracy: 0.7098\n",
      "Epoch 49/500\n",
      "180/181 [============================>.] - ETA: 0s - loss: 0.8704 - accuracy: 0.6957"
     ]
    },
    {
     "name": "stderr",
     "output_type": "stream",
     "text": [
      "WARNING:absl:Function `_wrapped_model` contains input name(s) Input with unsupported characters which will be renamed to input in the SavedModel.\n",
      "WARNING:absl:Found untraced functions such as lstm_cell_31_layer_call_fn, lstm_cell_31_layer_call_and_return_conditional_losses, lstm_cell_32_layer_call_fn, lstm_cell_32_layer_call_and_return_conditional_losses, lstm_cell_34_layer_call_fn while saving (showing 5 of 20). These functions will not be directly callable after loading.\n"
     ]
    },
    {
     "name": "stdout",
     "output_type": "stream",
     "text": [
      "INFO:tensorflow:Assets written to: experiments\\ResLSTM_Dec17_07-38-45\\base_ckpts\\cp_49.ckpt\\assets\n"
     ]
    },
    {
     "name": "stderr",
     "output_type": "stream",
     "text": [
      "INFO:tensorflow:Assets written to: experiments\\ResLSTM_Dec17_07-38-45\\base_ckpts\\cp_49.ckpt\\assets\n"
     ]
    },
    {
     "name": "stdout",
     "output_type": "stream",
     "text": [
      "181/181 [==============================] - 84s 468ms/step - loss: 0.8706 - accuracy: 0.6956 - val_loss: 0.8696 - val_accuracy: 0.7390\n",
      "Epoch 50/500\n",
      "181/181 [==============================] - 15s 79ms/step - loss: 0.8581 - accuracy: 0.7012 - val_loss: 0.8504 - val_accuracy: 0.7161\n",
      "Epoch 51/500\n",
      "181/181 [==============================] - 14s 79ms/step - loss: 0.8663 - accuracy: 0.6975 - val_loss: 0.8704 - val_accuracy: 0.7015\n",
      "Epoch 52/500\n",
      "181/181 [==============================] - 14s 79ms/step - loss: 0.8790 - accuracy: 0.6931 - val_loss: 0.8586 - val_accuracy: 0.7119\n",
      "Epoch 53/500\n",
      "181/181 [==============================] - 14s 79ms/step - loss: 0.8590 - accuracy: 0.6976 - val_loss: 0.8491 - val_accuracy: 0.7349\n",
      "Epoch 54/500\n",
      "181/181 [==============================] - 14s 80ms/step - loss: 0.8638 - accuracy: 0.6979 - val_loss: 0.8342 - val_accuracy: 0.7203\n",
      "Epoch 55/500\n",
      "181/181 [==============================] - 15s 82ms/step - loss: 0.8481 - accuracy: 0.7022 - val_loss: 0.8852 - val_accuracy: 0.7035\n",
      "Epoch 56/500\n",
      "181/181 [==============================] - 14s 79ms/step - loss: 0.8540 - accuracy: 0.7014 - val_loss: 0.9112 - val_accuracy: 0.6952\n",
      "Epoch 57/500\n",
      "181/181 [==============================] - 15s 80ms/step - loss: 0.8407 - accuracy: 0.7065 - val_loss: 0.8920 - val_accuracy: 0.7265\n",
      "Epoch 58/500\n",
      "181/181 [==============================] - 14s 80ms/step - loss: 0.8291 - accuracy: 0.7078 - val_loss: 0.8720 - val_accuracy: 0.7182\n",
      "Epoch 59/500\n",
      "181/181 [==============================] - 15s 80ms/step - loss: 0.8448 - accuracy: 0.7026 - val_loss: 0.8758 - val_accuracy: 0.7349\n",
      "Epoch 60/500\n",
      "180/181 [============================>.] - ETA: 0s - loss: 0.8393 - accuracy: 0.7026"
     ]
    },
    {
     "name": "stderr",
     "output_type": "stream",
     "text": [
      "WARNING:absl:Function `_wrapped_model` contains input name(s) Input with unsupported characters which will be renamed to input in the SavedModel.\n",
      "WARNING:absl:Found untraced functions such as lstm_cell_31_layer_call_fn, lstm_cell_31_layer_call_and_return_conditional_losses, lstm_cell_32_layer_call_fn, lstm_cell_32_layer_call_and_return_conditional_losses, lstm_cell_34_layer_call_fn while saving (showing 5 of 20). These functions will not be directly callable after loading.\n"
     ]
    },
    {
     "name": "stdout",
     "output_type": "stream",
     "text": [
      "INFO:tensorflow:Assets written to: experiments\\ResLSTM_Dec17_07-38-45\\base_ckpts\\cp_60.ckpt\\assets\n"
     ]
    },
    {
     "name": "stderr",
     "output_type": "stream",
     "text": [
      "INFO:tensorflow:Assets written to: experiments\\ResLSTM_Dec17_07-38-45\\base_ckpts\\cp_60.ckpt\\assets\n"
     ]
    },
    {
     "name": "stdout",
     "output_type": "stream",
     "text": [
      "181/181 [==============================] - 85s 472ms/step - loss: 0.8392 - accuracy: 0.7026 - val_loss: 0.8552 - val_accuracy: 0.7453\n",
      "Epoch 61/500\n",
      "181/181 [==============================] - 15s 80ms/step - loss: 0.8379 - accuracy: 0.7088 - val_loss: 0.8562 - val_accuracy: 0.7182\n",
      "Epoch 62/500\n",
      "181/181 [==============================] - 15s 80ms/step - loss: 0.8351 - accuracy: 0.7074 - val_loss: 0.8186 - val_accuracy: 0.7265\n",
      "Epoch 63/500\n",
      "181/181 [==============================] - 14s 79ms/step - loss: 0.8232 - accuracy: 0.7076 - val_loss: 0.8569 - val_accuracy: 0.7119\n",
      "Epoch 64/500\n",
      "181/181 [==============================] - 15s 80ms/step - loss: 0.8375 - accuracy: 0.7080 - val_loss: 0.8869 - val_accuracy: 0.6827\n",
      "Epoch 65/500\n",
      "181/181 [==============================] - 14s 80ms/step - loss: 0.8079 - accuracy: 0.7149 - val_loss: 0.8769 - val_accuracy: 0.7182\n",
      "Epoch 66/500\n",
      "181/181 [==============================] - 14s 80ms/step - loss: 0.8186 - accuracy: 0.7122 - val_loss: 0.8554 - val_accuracy: 0.6994\n",
      "Epoch 67/500\n",
      "181/181 [==============================] - 15s 81ms/step - loss: 0.8107 - accuracy: 0.7169 - val_loss: 0.8287 - val_accuracy: 0.7307\n",
      "Epoch 68/500\n",
      "181/181 [==============================] - 15s 80ms/step - loss: 0.8229 - accuracy: 0.7130 - val_loss: 0.8943 - val_accuracy: 0.6952\n",
      "Epoch 69/500\n",
      "181/181 [==============================] - 14s 79ms/step - loss: 0.8097 - accuracy: 0.7170 - val_loss: 0.9145 - val_accuracy: 0.7203\n",
      "Epoch 70/500\n",
      "181/181 [==============================] - 14s 79ms/step - loss: 0.8076 - accuracy: 0.7169 - val_loss: 0.8469 - val_accuracy: 0.7328\n",
      "Epoch 71/500\n",
      "181/181 [==============================] - 14s 80ms/step - loss: 0.8054 - accuracy: 0.7213 - val_loss: 0.8555 - val_accuracy: 0.7411\n",
      "Epoch 72/500\n",
      "181/181 [==============================] - 15s 80ms/step - loss: 0.8058 - accuracy: 0.7153 - val_loss: 0.8723 - val_accuracy: 0.7328\n",
      "Epoch 73/500\n",
      "181/181 [==============================] - 14s 80ms/step - loss: 0.7866 - accuracy: 0.7238 - val_loss: 0.8811 - val_accuracy: 0.7223\n",
      "Epoch 74/500\n",
      "181/181 [==============================] - 15s 80ms/step - loss: 0.8034 - accuracy: 0.7220 - val_loss: 0.8951 - val_accuracy: 0.7390\n",
      "Epoch 75/500\n",
      "181/181 [==============================] - 15s 80ms/step - loss: 0.7953 - accuracy: 0.7193 - val_loss: 0.8908 - val_accuracy: 0.7203\n",
      "Epoch 76/500\n",
      "181/181 [==============================] - 15s 80ms/step - loss: 0.7889 - accuracy: 0.7245 - val_loss: 0.8687 - val_accuracy: 0.7307\n",
      "Epoch 77/500\n",
      "181/181 [==============================] - 15s 80ms/step - loss: 0.7933 - accuracy: 0.7224 - val_loss: 0.8519 - val_accuracy: 0.7098\n",
      "Epoch 78/500\n",
      "181/181 [==============================] - 15s 80ms/step - loss: 0.7868 - accuracy: 0.7212 - val_loss: 0.8685 - val_accuracy: 0.7203\n",
      "Epoch 79/500\n",
      "181/181 [==============================] - 15s 80ms/step - loss: 0.7831 - accuracy: 0.7238 - val_loss: 0.8932 - val_accuracy: 0.7035\n",
      "Epoch 80/500\n",
      "181/181 [==============================] - 15s 80ms/step - loss: 0.7878 - accuracy: 0.7248 - val_loss: 0.8600 - val_accuracy: 0.7244\n",
      "Epoch 81/500\n",
      "181/181 [==============================] - 14s 80ms/step - loss: 0.7880 - accuracy: 0.7218 - val_loss: 0.9039 - val_accuracy: 0.7119\n",
      "Epoch 82/500\n",
      "181/181 [==============================] - 15s 80ms/step - loss: 0.7769 - accuracy: 0.7241 - val_loss: 0.8629 - val_accuracy: 0.7307\n",
      "Epoch 83/500\n",
      "181/181 [==============================] - 15s 80ms/step - loss: 0.7807 - accuracy: 0.7228 - val_loss: 0.8854 - val_accuracy: 0.7265\n",
      "Epoch 84/500\n",
      "181/181 [==============================] - 14s 80ms/step - loss: 0.7805 - accuracy: 0.7251 - val_loss: 0.8395 - val_accuracy: 0.7203\n",
      "Epoch 85/500\n",
      "181/181 [==============================] - 15s 81ms/step - loss: 0.7701 - accuracy: 0.7289 - val_loss: 0.8795 - val_accuracy: 0.7098\n",
      "Epoch 86/500\n",
      "181/181 [==============================] - 15s 80ms/step - loss: 0.7764 - accuracy: 0.7280 - val_loss: 0.8844 - val_accuracy: 0.7307\n",
      "Epoch 87/500\n",
      "181/181 [==============================] - 15s 80ms/step - loss: 0.7605 - accuracy: 0.7344 - val_loss: 0.8800 - val_accuracy: 0.7182\n",
      "Epoch 88/500\n",
      "181/181 [==============================] - 15s 81ms/step - loss: 0.7740 - accuracy: 0.7273 - val_loss: 0.8448 - val_accuracy: 0.7077\n",
      "Epoch 89/500\n",
      "181/181 [==============================] - 14s 79ms/step - loss: 0.7568 - accuracy: 0.7375 - val_loss: 0.8860 - val_accuracy: 0.7223\n",
      "Epoch 90/500\n",
      "181/181 [==============================] - 15s 81ms/step - loss: 0.7800 - accuracy: 0.7242 - val_loss: 0.8557 - val_accuracy: 0.7349\n",
      "Epoch 91/500\n",
      "181/181 [==============================] - 15s 80ms/step - loss: 0.7504 - accuracy: 0.7349 - val_loss: 0.8573 - val_accuracy: 0.7349\n",
      "Epoch 92/500\n",
      "181/181 [==============================] - 14s 80ms/step - loss: 0.7704 - accuracy: 0.7310 - val_loss: 0.9123 - val_accuracy: 0.7203\n",
      "Epoch 93/500\n",
      "181/181 [==============================] - 15s 80ms/step - loss: 0.7557 - accuracy: 0.7297 - val_loss: 0.8770 - val_accuracy: 0.7286\n",
      "Epoch 94/500\n",
      "181/181 [==============================] - 15s 80ms/step - loss: 0.7559 - accuracy: 0.7350 - val_loss: 0.9393 - val_accuracy: 0.7244\n",
      "Epoch 95/500\n",
      "181/181 [==============================] - 15s 81ms/step - loss: 0.7560 - accuracy: 0.7336 - val_loss: 0.8600 - val_accuracy: 0.7432\n",
      "Epoch 96/500\n",
      "181/181 [==============================] - 15s 80ms/step - loss: 0.7415 - accuracy: 0.7392 - val_loss: 0.8997 - val_accuracy: 0.7244\n",
      "Epoch 97/500\n",
      "181/181 [==============================] - 15s 81ms/step - loss: 0.7593 - accuracy: 0.7326 - val_loss: 0.9397 - val_accuracy: 0.7223\n",
      "Epoch 98/500\n",
      "181/181 [==============================] - 15s 80ms/step - loss: 0.7453 - accuracy: 0.7375 - val_loss: 0.9107 - val_accuracy: 0.7161\n",
      "Epoch 99/500\n",
      "181/181 [==============================] - 15s 81ms/step - loss: 0.7491 - accuracy: 0.7392 - val_loss: 0.9174 - val_accuracy: 0.7390\n",
      "Epoch 100/500\n",
      "181/181 [==============================] - 15s 80ms/step - loss: 0.7497 - accuracy: 0.7369 - val_loss: 0.8977 - val_accuracy: 0.7453\n",
      "Epoch 101/500\n",
      "181/181 [==============================] - 15s 80ms/step - loss: 0.7395 - accuracy: 0.7428 - val_loss: 0.9139 - val_accuracy: 0.7286\n",
      "Epoch 102/500\n",
      "181/181 [==============================] - 15s 80ms/step - loss: 0.7344 - accuracy: 0.7408 - val_loss: 0.9017 - val_accuracy: 0.7349\n",
      "Epoch 103/500\n",
      "181/181 [==============================] - 15s 80ms/step - loss: 0.7463 - accuracy: 0.7368 - val_loss: 0.8928 - val_accuracy: 0.7119\n",
      "Epoch 104/500\n",
      "181/181 [==============================] - 15s 81ms/step - loss: 0.7485 - accuracy: 0.7407 - val_loss: 0.9135 - val_accuracy: 0.7265\n",
      "Epoch 105/500\n",
      "181/181 [==============================] - 15s 80ms/step - loss: 0.7444 - accuracy: 0.7411 - val_loss: 0.9314 - val_accuracy: 0.7182\n",
      "Epoch 106/500\n",
      "181/181 [==============================] - 15s 81ms/step - loss: 0.7396 - accuracy: 0.7406 - val_loss: 0.9016 - val_accuracy: 0.7349\n",
      "Epoch 107/500\n",
      "181/181 [==============================] - 15s 80ms/step - loss: 0.7338 - accuracy: 0.7417 - val_loss: 0.9032 - val_accuracy: 0.7307\n",
      "Epoch 108/500\n",
      "181/181 [==============================] - 15s 80ms/step - loss: 0.7441 - accuracy: 0.7364 - val_loss: 0.8889 - val_accuracy: 0.7223\n",
      "Epoch 109/500\n",
      "181/181 [==============================] - 15s 81ms/step - loss: 0.7299 - accuracy: 0.7442 - val_loss: 0.8704 - val_accuracy: 0.7370\n",
      "Epoch 110/500\n",
      "181/181 [==============================] - 15s 80ms/step - loss: 0.7343 - accuracy: 0.7417 - val_loss: 0.9160 - val_accuracy: 0.7161\n",
      "Epoch 111/500\n",
      "181/181 [==============================] - 15s 80ms/step - loss: 0.7054 - accuracy: 0.7522 - val_loss: 0.9393 - val_accuracy: 0.7119\n",
      "Epoch 112/500\n",
      "181/181 [==============================] - 15s 81ms/step - loss: 0.7296 - accuracy: 0.7476 - val_loss: 0.9293 - val_accuracy: 0.7119\n",
      "Epoch 113/500\n",
      "181/181 [==============================] - 15s 80ms/step - loss: 0.7264 - accuracy: 0.7415 - val_loss: 0.9378 - val_accuracy: 0.7307\n",
      "Epoch 114/500\n",
      "180/181 [============================>.] - ETA: 0s - loss: 0.7282 - accuracy: 0.7479"
     ]
    },
    {
     "name": "stderr",
     "output_type": "stream",
     "text": [
      "WARNING:absl:Function `_wrapped_model` contains input name(s) Input with unsupported characters which will be renamed to input in the SavedModel.\n",
      "WARNING:absl:Found untraced functions such as lstm_cell_31_layer_call_fn, lstm_cell_31_layer_call_and_return_conditional_losses, lstm_cell_32_layer_call_fn, lstm_cell_32_layer_call_and_return_conditional_losses, lstm_cell_34_layer_call_fn while saving (showing 5 of 20). These functions will not be directly callable after loading.\n"
     ]
    },
    {
     "name": "stdout",
     "output_type": "stream",
     "text": [
      "INFO:tensorflow:Assets written to: experiments\\ResLSTM_Dec17_07-38-45\\base_ckpts\\cp_114.ckpt\\assets\n"
     ]
    },
    {
     "name": "stderr",
     "output_type": "stream",
     "text": [
      "INFO:tensorflow:Assets written to: experiments\\ResLSTM_Dec17_07-38-45\\base_ckpts\\cp_114.ckpt\\assets\n"
     ]
    },
    {
     "name": "stdout",
     "output_type": "stream",
     "text": [
      "181/181 [==============================] - 86s 474ms/step - loss: 0.7282 - accuracy: 0.7479 - val_loss: 0.9010 - val_accuracy: 0.7557\n",
      "Epoch 115/500\n",
      "181/181 [==============================] - 15s 80ms/step - loss: 0.7229 - accuracy: 0.7424 - val_loss: 0.8998 - val_accuracy: 0.7390\n",
      "Epoch 116/500\n",
      "181/181 [==============================] - 14s 80ms/step - loss: 0.7203 - accuracy: 0.7447 - val_loss: 0.8815 - val_accuracy: 0.7474\n",
      "Epoch 117/500\n",
      "181/181 [==============================] - 14s 80ms/step - loss: 0.7248 - accuracy: 0.7448 - val_loss: 0.9163 - val_accuracy: 0.7370\n",
      "Epoch 118/500\n",
      "181/181 [==============================] - 15s 80ms/step - loss: 0.7037 - accuracy: 0.7541 - val_loss: 0.9114 - val_accuracy: 0.7328\n",
      "Epoch 119/500\n",
      "181/181 [==============================] - 15s 80ms/step - loss: 0.7283 - accuracy: 0.7423 - val_loss: 0.8478 - val_accuracy: 0.7432\n",
      "Epoch 120/500\n",
      "181/181 [==============================] - 15s 80ms/step - loss: 0.7167 - accuracy: 0.7460 - val_loss: 0.8865 - val_accuracy: 0.7265\n",
      "Epoch 121/500\n",
      "181/181 [==============================] - 15s 80ms/step - loss: 0.7182 - accuracy: 0.7468 - val_loss: 0.9059 - val_accuracy: 0.7203\n",
      "Epoch 122/500\n",
      "181/181 [==============================] - 15s 80ms/step - loss: 0.7163 - accuracy: 0.7438 - val_loss: 0.9439 - val_accuracy: 0.7140\n",
      "Epoch 123/500\n",
      "181/181 [==============================] - 15s 81ms/step - loss: 0.7142 - accuracy: 0.7455 - val_loss: 0.9409 - val_accuracy: 0.7328\n",
      "Epoch 124/500\n",
      "181/181 [==============================] - 15s 80ms/step - loss: 0.7099 - accuracy: 0.7539 - val_loss: 0.9226 - val_accuracy: 0.7203\n",
      "Epoch 125/500\n",
      "181/181 [==============================] - 15s 81ms/step - loss: 0.7210 - accuracy: 0.7451 - val_loss: 0.9302 - val_accuracy: 0.7265\n",
      "Epoch 126/500\n",
      "181/181 [==============================] - 15s 81ms/step - loss: 0.7029 - accuracy: 0.7507 - val_loss: 0.9458 - val_accuracy: 0.7307\n",
      "Epoch 127/500\n",
      "181/181 [==============================] - 15s 80ms/step - loss: 0.7093 - accuracy: 0.7508 - val_loss: 0.8985 - val_accuracy: 0.7307\n",
      "Epoch 128/500\n",
      "181/181 [==============================] - 15s 81ms/step - loss: 0.7066 - accuracy: 0.7515 - val_loss: 0.9063 - val_accuracy: 0.7370\n",
      "Epoch 129/500\n",
      "181/181 [==============================] - 15s 81ms/step - loss: 0.6956 - accuracy: 0.7590 - val_loss: 0.9851 - val_accuracy: 0.7077\n",
      "Epoch 130/500\n",
      "181/181 [==============================] - 15s 81ms/step - loss: 0.7120 - accuracy: 0.7506 - val_loss: 0.9779 - val_accuracy: 0.7182\n",
      "Epoch 131/500\n",
      "181/181 [==============================] - 15s 80ms/step - loss: 0.6967 - accuracy: 0.7579 - val_loss: 0.9490 - val_accuracy: 0.7328\n",
      "Epoch 132/500\n",
      "181/181 [==============================] - 15s 80ms/step - loss: 0.6998 - accuracy: 0.7525 - val_loss: 0.9299 - val_accuracy: 0.7286\n",
      "Epoch 133/500\n",
      "181/181 [==============================] - 15s 80ms/step - loss: 0.6917 - accuracy: 0.7589 - val_loss: 0.9243 - val_accuracy: 0.7474\n",
      "Epoch 134/500\n",
      "181/181 [==============================] - 15s 80ms/step - loss: 0.6871 - accuracy: 0.7565 - val_loss: 0.9608 - val_accuracy: 0.7077\n",
      "Epoch 135/500\n",
      "181/181 [==============================] - 15s 80ms/step - loss: 0.6998 - accuracy: 0.7488 - val_loss: 0.9700 - val_accuracy: 0.7119\n",
      "Epoch 136/500\n",
      "181/181 [==============================] - 15s 80ms/step - loss: 0.7019 - accuracy: 0.7482 - val_loss: 0.9448 - val_accuracy: 0.7182\n",
      "Epoch 137/500\n",
      "181/181 [==============================] - 15s 80ms/step - loss: 0.6917 - accuracy: 0.7562 - val_loss: 0.9289 - val_accuracy: 0.7265\n",
      "Epoch 138/500\n",
      "181/181 [==============================] - 15s 81ms/step - loss: 0.6802 - accuracy: 0.7618 - val_loss: 0.9467 - val_accuracy: 0.7056\n",
      "Epoch 139/500\n",
      "181/181 [==============================] - 15s 81ms/step - loss: 0.6830 - accuracy: 0.7567 - val_loss: 0.9708 - val_accuracy: 0.7182\n",
      "Epoch 140/500\n",
      "181/181 [==============================] - 15s 80ms/step - loss: 0.6893 - accuracy: 0.7578 - val_loss: 0.9942 - val_accuracy: 0.7077\n",
      "Epoch 141/500\n",
      "181/181 [==============================] - 15s 80ms/step - loss: 0.6981 - accuracy: 0.7565 - val_loss: 0.9150 - val_accuracy: 0.7349\n",
      "Epoch 142/500\n",
      "181/181 [==============================] - 15s 81ms/step - loss: 0.6986 - accuracy: 0.7526 - val_loss: 0.8940 - val_accuracy: 0.7474\n",
      "Epoch 143/500\n",
      "181/181 [==============================] - 14s 79ms/step - loss: 0.6772 - accuracy: 0.7606 - val_loss: 0.8775 - val_accuracy: 0.7557\n",
      "Epoch 144/500\n",
      "181/181 [==============================] - 15s 80ms/step - loss: 0.6740 - accuracy: 0.7624 - val_loss: 0.8740 - val_accuracy: 0.7411\n",
      "Epoch 145/500\n",
      "181/181 [==============================] - 15s 81ms/step - loss: 0.6912 - accuracy: 0.7592 - val_loss: 0.8632 - val_accuracy: 0.7432\n",
      "Epoch 146/500\n",
      "181/181 [==============================] - 15s 81ms/step - loss: 0.6818 - accuracy: 0.7590 - val_loss: 0.9262 - val_accuracy: 0.7411\n",
      "Epoch 147/500\n",
      "181/181 [==============================] - 15s 81ms/step - loss: 0.6691 - accuracy: 0.7651 - val_loss: 0.9034 - val_accuracy: 0.7349\n",
      "Epoch 148/500\n",
      "181/181 [==============================] - 15s 81ms/step - loss: 0.6826 - accuracy: 0.7598 - val_loss: 0.9142 - val_accuracy: 0.7390\n",
      "Epoch 149/500\n",
      "181/181 [==============================] - 15s 80ms/step - loss: 0.6809 - accuracy: 0.7603 - val_loss: 0.9153 - val_accuracy: 0.7182\n",
      "Epoch 150/500\n",
      "181/181 [==============================] - 15s 81ms/step - loss: 0.6714 - accuracy: 0.7659 - val_loss: 1.0047 - val_accuracy: 0.7307\n",
      "Epoch 151/500\n",
      "181/181 [==============================] - 15s 81ms/step - loss: 0.6815 - accuracy: 0.7611 - val_loss: 0.9805 - val_accuracy: 0.7161\n",
      "Epoch 152/500\n",
      "181/181 [==============================] - 15s 81ms/step - loss: 0.6762 - accuracy: 0.7633 - val_loss: 0.9713 - val_accuracy: 0.7370\n",
      "Epoch 153/500\n",
      "181/181 [==============================] - 15s 81ms/step - loss: 0.6676 - accuracy: 0.7639 - val_loss: 0.9708 - val_accuracy: 0.7307\n",
      "Epoch 154/500\n",
      "181/181 [==============================] - 15s 81ms/step - loss: 0.6638 - accuracy: 0.7587 - val_loss: 0.9257 - val_accuracy: 0.7328\n",
      "Epoch 155/500\n",
      "181/181 [==============================] - 15s 80ms/step - loss: 0.6624 - accuracy: 0.7655 - val_loss: 0.9279 - val_accuracy: 0.7370\n",
      "Epoch 156/500\n",
      "181/181 [==============================] - 15s 81ms/step - loss: 0.6687 - accuracy: 0.7652 - val_loss: 0.9460 - val_accuracy: 0.7265\n",
      "Epoch 157/500\n",
      "181/181 [==============================] - 15s 81ms/step - loss: 0.6565 - accuracy: 0.7645 - val_loss: 0.9407 - val_accuracy: 0.7286\n",
      "Epoch 158/500\n",
      "181/181 [==============================] - 15s 81ms/step - loss: 0.6678 - accuracy: 0.7683 - val_loss: 0.8833 - val_accuracy: 0.7390\n",
      "Epoch 159/500\n",
      "181/181 [==============================] - 15s 81ms/step - loss: 0.6652 - accuracy: 0.7664 - val_loss: 0.9202 - val_accuracy: 0.7453\n",
      "Epoch 160/500\n",
      "181/181 [==============================] - 15s 81ms/step - loss: 0.6782 - accuracy: 0.7598 - val_loss: 0.9164 - val_accuracy: 0.7161\n",
      "Epoch 161/500\n",
      "181/181 [==============================] - 15s 81ms/step - loss: 0.6611 - accuracy: 0.7690 - val_loss: 0.9579 - val_accuracy: 0.7286\n",
      "Epoch 162/500\n",
      "181/181 [==============================] - 15s 81ms/step - loss: 0.6649 - accuracy: 0.7636 - val_loss: 0.9402 - val_accuracy: 0.7203\n",
      "Epoch 163/500\n",
      "181/181 [==============================] - 15s 81ms/step - loss: 0.6623 - accuracy: 0.7670 - val_loss: 0.9021 - val_accuracy: 0.7411\n",
      "Epoch 164/500\n",
      "181/181 [==============================] - 15s 81ms/step - loss: 0.6604 - accuracy: 0.7689 - val_loss: 0.9377 - val_accuracy: 0.7307\n",
      "Epoch 165/500\n",
      "181/181 [==============================] - 15s 81ms/step - loss: 0.6601 - accuracy: 0.7625 - val_loss: 0.9351 - val_accuracy: 0.7286\n",
      "Epoch 166/500\n",
      "181/181 [==============================] - 15s 81ms/step - loss: 0.6598 - accuracy: 0.7666 - val_loss: 0.9446 - val_accuracy: 0.7411\n",
      "Epoch 167/500\n",
      "181/181 [==============================] - 15s 81ms/step - loss: 0.6561 - accuracy: 0.7659 - val_loss: 1.0004 - val_accuracy: 0.7390\n",
      "Epoch 168/500\n",
      "181/181 [==============================] - 15s 81ms/step - loss: 0.6713 - accuracy: 0.7625 - val_loss: 0.9454 - val_accuracy: 0.7307\n",
      "Epoch 169/500\n",
      "181/181 [==============================] - 15s 81ms/step - loss: 0.6510 - accuracy: 0.7689 - val_loss: 0.9794 - val_accuracy: 0.7140\n"
     ]
    },
    {
     "name": "stdout",
     "output_type": "stream",
     "text": [
      "Epoch 170/500\n",
      "181/181 [==============================] - 15s 81ms/step - loss: 0.6680 - accuracy: 0.7661 - val_loss: 0.9332 - val_accuracy: 0.7265\n",
      "Epoch 171/500\n",
      "181/181 [==============================] - 15s 80ms/step - loss: 0.6523 - accuracy: 0.7691 - val_loss: 0.9485 - val_accuracy: 0.7286\n",
      "Epoch 172/500\n",
      "181/181 [==============================] - 15s 82ms/step - loss: 0.6674 - accuracy: 0.7648 - val_loss: 0.9183 - val_accuracy: 0.7265\n",
      "Epoch 173/500\n",
      "181/181 [==============================] - 15s 80ms/step - loss: 0.6517 - accuracy: 0.7716 - val_loss: 0.9198 - val_accuracy: 0.7265\n",
      "Epoch 174/500\n",
      "181/181 [==============================] - 15s 81ms/step - loss: 0.6476 - accuracy: 0.7709 - val_loss: 0.9475 - val_accuracy: 0.7203\n",
      "Epoch 175/500\n",
      "181/181 [==============================] - 15s 80ms/step - loss: 0.6462 - accuracy: 0.7737 - val_loss: 0.9977 - val_accuracy: 0.7223\n",
      "Epoch 176/500\n",
      "181/181 [==============================] - 15s 81ms/step - loss: 0.6413 - accuracy: 0.7710 - val_loss: 0.9399 - val_accuracy: 0.7557\n",
      "Epoch 177/500\n",
      "181/181 [==============================] - 15s 81ms/step - loss: 0.6450 - accuracy: 0.7732 - val_loss: 0.9443 - val_accuracy: 0.7244\n",
      "Epoch 178/500\n",
      "181/181 [==============================] - 15s 80ms/step - loss: 0.6487 - accuracy: 0.7696 - val_loss: 0.9351 - val_accuracy: 0.7390\n",
      "Epoch 179/500\n",
      "181/181 [==============================] - 15s 80ms/step - loss: 0.6536 - accuracy: 0.7676 - val_loss: 0.9818 - val_accuracy: 0.7370\n",
      "Epoch 180/500\n",
      "181/181 [==============================] - 15s 81ms/step - loss: 0.6535 - accuracy: 0.7684 - val_loss: 0.9244 - val_accuracy: 0.7474\n",
      "Epoch 181/500\n",
      "181/181 [==============================] - 15s 81ms/step - loss: 0.6413 - accuracy: 0.7756 - val_loss: 0.9268 - val_accuracy: 0.7370\n",
      "Epoch 182/500\n",
      "181/181 [==============================] - 15s 81ms/step - loss: 0.6434 - accuracy: 0.7742 - val_loss: 0.9891 - val_accuracy: 0.7432\n",
      "Epoch 183/500\n",
      "181/181 [==============================] - 15s 80ms/step - loss: 0.6424 - accuracy: 0.7764 - val_loss: 0.9371 - val_accuracy: 0.7453\n",
      "Epoch 184/500\n",
      "181/181 [==============================] - 15s 81ms/step - loss: 0.6260 - accuracy: 0.7789 - val_loss: 0.9528 - val_accuracy: 0.7495\n",
      "Epoch 185/500\n",
      "181/181 [==============================] - 15s 80ms/step - loss: 0.6412 - accuracy: 0.7747 - val_loss: 0.9248 - val_accuracy: 0.7328\n",
      "Epoch 186/500\n",
      "181/181 [==============================] - 15s 81ms/step - loss: 0.6328 - accuracy: 0.7723 - val_loss: 0.9470 - val_accuracy: 0.7453\n",
      "Epoch 187/500\n",
      "181/181 [==============================] - 15s 81ms/step - loss: 0.6313 - accuracy: 0.7753 - val_loss: 0.9769 - val_accuracy: 0.7390\n",
      "Epoch 188/500\n",
      "181/181 [==============================] - 15s 81ms/step - loss: 0.6340 - accuracy: 0.7762 - val_loss: 0.9792 - val_accuracy: 0.7286\n",
      "Epoch 189/500\n",
      "181/181 [==============================] - 14s 80ms/step - loss: 0.6214 - accuracy: 0.7848 - val_loss: 0.9266 - val_accuracy: 0.7537\n",
      "Epoch 190/500\n",
      "181/181 [==============================] - 15s 80ms/step - loss: 0.6342 - accuracy: 0.7748 - val_loss: 0.9512 - val_accuracy: 0.7370\n",
      "Epoch 191/500\n",
      "181/181 [==============================] - 15s 81ms/step - loss: 0.6370 - accuracy: 0.7736 - val_loss: 0.9410 - val_accuracy: 0.7495\n",
      "Epoch 192/500\n",
      "181/181 [==============================] - 15s 80ms/step - loss: 0.6346 - accuracy: 0.7755 - val_loss: 0.9711 - val_accuracy: 0.7265\n",
      "Epoch 193/500\n",
      "181/181 [==============================] - 15s 81ms/step - loss: 0.6248 - accuracy: 0.7794 - val_loss: 1.0040 - val_accuracy: 0.7307\n",
      "Epoch 194/500\n",
      "181/181 [==============================] - 15s 80ms/step - loss: 0.6305 - accuracy: 0.7755 - val_loss: 0.9323 - val_accuracy: 0.7411\n",
      "Epoch 195/500\n",
      "181/181 [==============================] - 14s 80ms/step - loss: 0.6305 - accuracy: 0.7784 - val_loss: 0.9478 - val_accuracy: 0.7453\n",
      "Epoch 196/500\n",
      "181/181 [==============================] - 15s 81ms/step - loss: 0.6237 - accuracy: 0.7792 - val_loss: 0.9531 - val_accuracy: 0.7203\n",
      "Epoch 197/500\n",
      "181/181 [==============================] - ETA: 0s - loss: 0.6379 - accuracy: 0.7758"
     ]
    },
    {
     "name": "stderr",
     "output_type": "stream",
     "text": [
      "WARNING:absl:Function `_wrapped_model` contains input name(s) Input with unsupported characters which will be renamed to input in the SavedModel.\n",
      "WARNING:absl:Found untraced functions such as lstm_cell_31_layer_call_fn, lstm_cell_31_layer_call_and_return_conditional_losses, lstm_cell_32_layer_call_fn, lstm_cell_32_layer_call_and_return_conditional_losses, lstm_cell_34_layer_call_fn while saving (showing 5 of 20). These functions will not be directly callable after loading.\n"
     ]
    },
    {
     "name": "stdout",
     "output_type": "stream",
     "text": [
      "INFO:tensorflow:Assets written to: experiments\\ResLSTM_Dec17_07-38-45\\base_ckpts\\cp_197.ckpt\\assets\n"
     ]
    },
    {
     "name": "stderr",
     "output_type": "stream",
     "text": [
      "INFO:tensorflow:Assets written to: experiments\\ResLSTM_Dec17_07-38-45\\base_ckpts\\cp_197.ckpt\\assets\n"
     ]
    },
    {
     "name": "stdout",
     "output_type": "stream",
     "text": [
      "181/181 [==============================] - 86s 477ms/step - loss: 0.6379 - accuracy: 0.7758 - val_loss: 0.9230 - val_accuracy: 0.7578\n",
      "Epoch 198/500\n",
      "181/181 [==============================] - 15s 80ms/step - loss: 0.6369 - accuracy: 0.7741 - val_loss: 0.9641 - val_accuracy: 0.7453\n",
      "Epoch 199/500\n",
      "181/181 [==============================] - 14s 80ms/step - loss: 0.6295 - accuracy: 0.7786 - val_loss: 0.9016 - val_accuracy: 0.7432\n",
      "Epoch 200/500\n",
      "181/181 [==============================] - 14s 80ms/step - loss: 0.6286 - accuracy: 0.7786 - val_loss: 0.9044 - val_accuracy: 0.7307\n",
      "Epoch 201/500\n",
      "181/181 [==============================] - 15s 80ms/step - loss: 0.6218 - accuracy: 0.7779 - val_loss: 0.9211 - val_accuracy: 0.7411\n",
      "Epoch 202/500\n",
      "181/181 [==============================] - 15s 81ms/step - loss: 0.6233 - accuracy: 0.7733 - val_loss: 0.9281 - val_accuracy: 0.7390\n",
      "Epoch 203/500\n",
      "181/181 [==============================] - 15s 80ms/step - loss: 0.6173 - accuracy: 0.7827 - val_loss: 0.9502 - val_accuracy: 0.7453\n",
      "Epoch 204/500\n",
      "181/181 [==============================] - 14s 80ms/step - loss: 0.6184 - accuracy: 0.7796 - val_loss: 0.9659 - val_accuracy: 0.7411\n",
      "Epoch 205/500\n",
      "181/181 [==============================] - 15s 80ms/step - loss: 0.6299 - accuracy: 0.7793 - val_loss: 0.9735 - val_accuracy: 0.7349\n",
      "Epoch 206/500\n",
      "181/181 [==============================] - 15s 80ms/step - loss: 0.6218 - accuracy: 0.7789 - val_loss: 0.9770 - val_accuracy: 0.7453\n",
      "Epoch 207/500\n",
      "181/181 [==============================] - 15s 80ms/step - loss: 0.6248 - accuracy: 0.7801 - val_loss: 1.0264 - val_accuracy: 0.7182\n",
      "Epoch 208/500\n",
      "181/181 [==============================] - 15s 81ms/step - loss: 0.6293 - accuracy: 0.7788 - val_loss: 0.9974 - val_accuracy: 0.7140\n",
      "Epoch 209/500\n",
      "181/181 [==============================] - 15s 80ms/step - loss: 0.6065 - accuracy: 0.7833 - val_loss: 0.9543 - val_accuracy: 0.7537\n",
      "Epoch 210/500\n",
      "181/181 [==============================] - 14s 80ms/step - loss: 0.6080 - accuracy: 0.7857 - val_loss: 0.9926 - val_accuracy: 0.7495\n",
      "Epoch 211/500\n",
      "181/181 [==============================] - 15s 80ms/step - loss: 0.6132 - accuracy: 0.7788 - val_loss: 0.9945 - val_accuracy: 0.7453\n",
      "Epoch 212/500\n",
      "181/181 [==============================] - 15s 80ms/step - loss: 0.6140 - accuracy: 0.7848 - val_loss: 0.9751 - val_accuracy: 0.7307\n",
      "Epoch 213/500\n",
      "181/181 [==============================] - 15s 80ms/step - loss: 0.6065 - accuracy: 0.7854 - val_loss: 1.0139 - val_accuracy: 0.7244\n",
      "Epoch 214/500\n",
      "181/181 [==============================] - 14s 80ms/step - loss: 0.5936 - accuracy: 0.7902 - val_loss: 0.9854 - val_accuracy: 0.7161\n",
      "Epoch 215/500\n",
      "181/181 [==============================] - 15s 81ms/step - loss: 0.5987 - accuracy: 0.7827 - val_loss: 0.9738 - val_accuracy: 0.7203\n",
      "Epoch 216/500\n",
      "181/181 [==============================] - 15s 81ms/step - loss: 0.6253 - accuracy: 0.7808 - val_loss: 0.9826 - val_accuracy: 0.7516\n",
      "Epoch 217/500\n",
      "181/181 [==============================] - 15s 81ms/step - loss: 0.6183 - accuracy: 0.7811 - val_loss: 0.9875 - val_accuracy: 0.7244\n",
      "Epoch 218/500\n",
      "181/181 [==============================] - 14s 80ms/step - loss: 0.6055 - accuracy: 0.7838 - val_loss: 0.9652 - val_accuracy: 0.7390\n",
      "Epoch 219/500\n",
      "181/181 [==============================] - 15s 81ms/step - loss: 0.6060 - accuracy: 0.7832 - val_loss: 0.9838 - val_accuracy: 0.7453\n",
      "Epoch 220/500\n",
      "181/181 [==============================] - 15s 80ms/step - loss: 0.5985 - accuracy: 0.7901 - val_loss: 1.0684 - val_accuracy: 0.7411\n",
      "Epoch 221/500\n",
      "181/181 [==============================] - 15s 81ms/step - loss: 0.6005 - accuracy: 0.7887 - val_loss: 0.9949 - val_accuracy: 0.7349\n",
      "Epoch 222/500\n",
      "181/181 [==============================] - 15s 80ms/step - loss: 0.6011 - accuracy: 0.7893 - val_loss: 0.9716 - val_accuracy: 0.7453\n",
      "Epoch 223/500\n",
      "181/181 [==============================] - 15s 81ms/step - loss: 0.6029 - accuracy: 0.7868 - val_loss: 0.9493 - val_accuracy: 0.7390\n",
      "Epoch 224/500\n",
      "181/181 [==============================] - 14s 79ms/step - loss: 0.5948 - accuracy: 0.7887 - val_loss: 0.9531 - val_accuracy: 0.7495\n",
      "Epoch 225/500\n",
      "181/181 [==============================] - 15s 80ms/step - loss: 0.6097 - accuracy: 0.7860 - val_loss: 0.9663 - val_accuracy: 0.7370\n",
      "Epoch 226/500\n",
      "181/181 [==============================] - 15s 81ms/step - loss: 0.6161 - accuracy: 0.7852 - val_loss: 0.9342 - val_accuracy: 0.7432\n",
      "Epoch 227/500\n",
      "181/181 [==============================] - 15s 81ms/step - loss: 0.5987 - accuracy: 0.7851 - val_loss: 0.9759 - val_accuracy: 0.7286\n",
      "Epoch 228/500\n",
      "181/181 [==============================] - 15s 81ms/step - loss: 0.5915 - accuracy: 0.7920 - val_loss: 0.9429 - val_accuracy: 0.7557\n",
      "Epoch 229/500\n",
      "181/181 [==============================] - 15s 81ms/step - loss: 0.6144 - accuracy: 0.7824 - val_loss: 0.9818 - val_accuracy: 0.7182\n",
      "Epoch 230/500\n",
      "181/181 [==============================] - 15s 80ms/step - loss: 0.6008 - accuracy: 0.7860 - val_loss: 0.9823 - val_accuracy: 0.7537\n",
      "Epoch 231/500\n",
      "181/181 [==============================] - 15s 80ms/step - loss: 0.6018 - accuracy: 0.7865 - val_loss: 1.0045 - val_accuracy: 0.7349\n",
      "Epoch 232/500\n",
      "181/181 [==============================] - 15s 80ms/step - loss: 0.5865 - accuracy: 0.7903 - val_loss: 0.9563 - val_accuracy: 0.7349\n",
      "Epoch 233/500\n",
      "181/181 [==============================] - 15s 80ms/step - loss: 0.5936 - accuracy: 0.7911 - val_loss: 0.9772 - val_accuracy: 0.7328\n",
      "Epoch 234/500\n",
      "181/181 [==============================] - 15s 81ms/step - loss: 0.6023 - accuracy: 0.7912 - val_loss: 1.0025 - val_accuracy: 0.7328\n",
      "Epoch 235/500\n",
      "181/181 [==============================] - 15s 81ms/step - loss: 0.5991 - accuracy: 0.7850 - val_loss: 0.9919 - val_accuracy: 0.7516\n",
      "Epoch 236/500\n",
      "181/181 [==============================] - 15s 81ms/step - loss: 0.5920 - accuracy: 0.7842 - val_loss: 1.0225 - val_accuracy: 0.7432\n",
      "Epoch 237/500\n",
      "181/181 [==============================] - 15s 80ms/step - loss: 0.5885 - accuracy: 0.7915 - val_loss: 1.0058 - val_accuracy: 0.7495\n",
      "Epoch 238/500\n",
      "181/181 [==============================] - 15s 81ms/step - loss: 0.6067 - accuracy: 0.7852 - val_loss: 0.9467 - val_accuracy: 0.7516\n",
      "Epoch 239/500\n",
      "181/181 [==============================] - 15s 80ms/step - loss: 0.6065 - accuracy: 0.7897 - val_loss: 0.9535 - val_accuracy: 0.7370\n",
      "Epoch 240/500\n",
      "181/181 [==============================] - 15s 80ms/step - loss: 0.5981 - accuracy: 0.7912 - val_loss: 1.0368 - val_accuracy: 0.7411\n",
      "Epoch 241/500\n",
      "181/181 [==============================] - 15s 81ms/step - loss: 0.6025 - accuracy: 0.7902 - val_loss: 1.0306 - val_accuracy: 0.7411\n",
      "Epoch 242/500\n",
      "181/181 [==============================] - 15s 81ms/step - loss: 0.5916 - accuracy: 0.7900 - val_loss: 0.9884 - val_accuracy: 0.7390\n",
      "Epoch 243/500\n",
      "181/181 [==============================] - 15s 81ms/step - loss: 0.5812 - accuracy: 0.7973 - val_loss: 0.9889 - val_accuracy: 0.7244\n",
      "Epoch 244/500\n",
      "181/181 [==============================] - 15s 81ms/step - loss: 0.5899 - accuracy: 0.7936 - val_loss: 0.9587 - val_accuracy: 0.7453\n",
      "Epoch 245/500\n",
      "181/181 [==============================] - 14s 80ms/step - loss: 0.5719 - accuracy: 0.7985 - val_loss: 0.9516 - val_accuracy: 0.7349\n",
      "Epoch 246/500\n",
      "181/181 [==============================] - 15s 80ms/step - loss: 0.5872 - accuracy: 0.7913 - val_loss: 0.9563 - val_accuracy: 0.7474\n",
      "Epoch 247/500\n",
      "181/181 [==============================] - 15s 81ms/step - loss: 0.5887 - accuracy: 0.7919 - val_loss: 0.9924 - val_accuracy: 0.7495\n",
      "Epoch 248/500\n",
      "181/181 [==============================] - 15s 81ms/step - loss: 0.5850 - accuracy: 0.7922 - val_loss: 1.0358 - val_accuracy: 0.7265\n",
      "Epoch 249/500\n",
      "181/181 [==============================] - 15s 81ms/step - loss: 0.5845 - accuracy: 0.7958 - val_loss: 0.9543 - val_accuracy: 0.7474\n",
      "Epoch 250/500\n",
      "181/181 [==============================] - 15s 81ms/step - loss: 0.5804 - accuracy: 0.7926 - val_loss: 0.9489 - val_accuracy: 0.7578\n",
      "Epoch 251/500\n",
      "180/181 [============================>.] - ETA: 0s - loss: 0.5886 - accuracy: 0.7932"
     ]
    },
    {
     "name": "stderr",
     "output_type": "stream",
     "text": [
      "WARNING:absl:Function `_wrapped_model` contains input name(s) Input with unsupported characters which will be renamed to input in the SavedModel.\n",
      "WARNING:absl:Found untraced functions such as lstm_cell_31_layer_call_fn, lstm_cell_31_layer_call_and_return_conditional_losses, lstm_cell_32_layer_call_fn, lstm_cell_32_layer_call_and_return_conditional_losses, lstm_cell_34_layer_call_fn while saving (showing 5 of 20). These functions will not be directly callable after loading.\n"
     ]
    },
    {
     "name": "stdout",
     "output_type": "stream",
     "text": [
      "INFO:tensorflow:Assets written to: experiments\\ResLSTM_Dec17_07-38-45\\base_ckpts\\cp_251.ckpt\\assets\n"
     ]
    },
    {
     "name": "stderr",
     "output_type": "stream",
     "text": [
      "INFO:tensorflow:Assets written to: experiments\\ResLSTM_Dec17_07-38-45\\base_ckpts\\cp_251.ckpt\\assets\n"
     ]
    },
    {
     "name": "stdout",
     "output_type": "stream",
     "text": [
      "181/181 [==============================] - 86s 478ms/step - loss: 0.5883 - accuracy: 0.7933 - val_loss: 0.9923 - val_accuracy: 0.7641\n",
      "Epoch 252/500\n",
      "181/181 [==============================] - 15s 81ms/step - loss: 0.5800 - accuracy: 0.7955 - val_loss: 0.9395 - val_accuracy: 0.7453\n",
      "Epoch 253/500\n",
      "181/181 [==============================] - 15s 81ms/step - loss: 0.5904 - accuracy: 0.7906 - val_loss: 1.0078 - val_accuracy: 0.7349\n",
      "Epoch 254/500\n",
      "181/181 [==============================] - 15s 80ms/step - loss: 0.5665 - accuracy: 0.8005 - val_loss: 1.0052 - val_accuracy: 0.7307\n",
      "Epoch 255/500\n",
      "181/181 [==============================] - 15s 80ms/step - loss: 0.5864 - accuracy: 0.7905 - val_loss: 0.9313 - val_accuracy: 0.7474\n",
      "Epoch 256/500\n",
      "181/181 [==============================] - 15s 81ms/step - loss: 0.5899 - accuracy: 0.7886 - val_loss: 0.9562 - val_accuracy: 0.7578\n",
      "Epoch 257/500\n",
      "181/181 [==============================] - 15s 81ms/step - loss: 0.5864 - accuracy: 0.7895 - val_loss: 0.9542 - val_accuracy: 0.7286\n",
      "Epoch 258/500\n",
      "181/181 [==============================] - 15s 81ms/step - loss: 0.5790 - accuracy: 0.7919 - val_loss: 0.9581 - val_accuracy: 0.7370\n",
      "Epoch 259/500\n",
      "181/181 [==============================] - 15s 81ms/step - loss: 0.5821 - accuracy: 0.7938 - val_loss: 0.9845 - val_accuracy: 0.7265\n",
      "Epoch 260/500\n",
      "181/181 [==============================] - 15s 81ms/step - loss: 0.5798 - accuracy: 0.7965 - val_loss: 1.0016 - val_accuracy: 0.7370\n",
      "Epoch 261/500\n",
      "181/181 [==============================] - 15s 81ms/step - loss: 0.5758 - accuracy: 0.7919 - val_loss: 0.9804 - val_accuracy: 0.7453\n",
      "Epoch 262/500\n",
      "181/181 [==============================] - 15s 81ms/step - loss: 0.5750 - accuracy: 0.7906 - val_loss: 0.9654 - val_accuracy: 0.7223\n",
      "Epoch 263/500\n",
      "181/181 [==============================] - 15s 81ms/step - loss: 0.5821 - accuracy: 0.7929 - val_loss: 0.9480 - val_accuracy: 0.7328\n",
      "Epoch 264/500\n",
      "181/181 [==============================] - 15s 80ms/step - loss: 0.5745 - accuracy: 0.8004 - val_loss: 0.9624 - val_accuracy: 0.7077\n",
      "Epoch 265/500\n",
      "181/181 [==============================] - 15s 80ms/step - loss: 0.5945 - accuracy: 0.7914 - val_loss: 1.0057 - val_accuracy: 0.7328\n",
      "Epoch 266/500\n",
      "181/181 [==============================] - 15s 80ms/step - loss: 0.5767 - accuracy: 0.7924 - val_loss: 0.9694 - val_accuracy: 0.7453\n",
      "Epoch 267/500\n",
      "181/181 [==============================] - 15s 81ms/step - loss: 0.5832 - accuracy: 0.7932 - val_loss: 0.9705 - val_accuracy: 0.7307\n",
      "Epoch 268/500\n",
      "181/181 [==============================] - 15s 82ms/step - loss: 0.5795 - accuracy: 0.7947 - val_loss: 1.0649 - val_accuracy: 0.7182\n",
      "Epoch 269/500\n",
      "181/181 [==============================] - 15s 80ms/step - loss: 0.5897 - accuracy: 0.7931 - val_loss: 0.9689 - val_accuracy: 0.7411\n",
      "Epoch 270/500\n",
      "181/181 [==============================] - 15s 80ms/step - loss: 0.5663 - accuracy: 0.7980 - val_loss: 0.9882 - val_accuracy: 0.7537\n",
      "Epoch 271/500\n",
      "181/181 [==============================] - 15s 81ms/step - loss: 0.5701 - accuracy: 0.7990 - val_loss: 1.0454 - val_accuracy: 0.7349\n",
      "Epoch 272/500\n",
      "181/181 [==============================] - 15s 81ms/step - loss: 0.5727 - accuracy: 0.7954 - val_loss: 1.0277 - val_accuracy: 0.7182\n",
      "Epoch 273/500\n",
      "181/181 [==============================] - 15s 81ms/step - loss: 0.5791 - accuracy: 0.7910 - val_loss: 1.0077 - val_accuracy: 0.7140\n",
      "Epoch 274/500\n",
      "181/181 [==============================] - 15s 81ms/step - loss: 0.5568 - accuracy: 0.8033 - val_loss: 0.9624 - val_accuracy: 0.6973\n",
      "Epoch 275/500\n",
      "181/181 [==============================] - 15s 81ms/step - loss: 0.5763 - accuracy: 0.7950 - val_loss: 1.0107 - val_accuracy: 0.7265\n",
      "Epoch 276/500\n",
      "181/181 [==============================] - 15s 81ms/step - loss: 0.5655 - accuracy: 0.8001 - val_loss: 1.0370 - val_accuracy: 0.7453\n",
      "Epoch 277/500\n",
      "181/181 [==============================] - 15s 81ms/step - loss: 0.5718 - accuracy: 0.7946 - val_loss: 1.0417 - val_accuracy: 0.7244\n",
      "Epoch 278/500\n",
      "181/181 [==============================] - 15s 80ms/step - loss: 0.5735 - accuracy: 0.7987 - val_loss: 1.0389 - val_accuracy: 0.7328\n",
      "Epoch 279/500\n",
      "181/181 [==============================] - 15s 81ms/step - loss: 0.5714 - accuracy: 0.8015 - val_loss: 1.0064 - val_accuracy: 0.7328\n",
      "Epoch 280/500\n",
      "181/181 [==============================] - 15s 81ms/step - loss: 0.5721 - accuracy: 0.8002 - val_loss: 1.0052 - val_accuracy: 0.7161\n",
      "Epoch 281/500\n",
      "181/181 [==============================] - 15s 81ms/step - loss: 0.5577 - accuracy: 0.8031 - val_loss: 0.9441 - val_accuracy: 0.7286\n",
      "Epoch 282/500\n",
      "181/181 [==============================] - 15s 81ms/step - loss: 0.5663 - accuracy: 0.8019 - val_loss: 0.9689 - val_accuracy: 0.7474\n",
      "Epoch 283/500\n",
      "181/181 [==============================] - 15s 81ms/step - loss: 0.5633 - accuracy: 0.7991 - val_loss: 0.9991 - val_accuracy: 0.7182\n",
      "Epoch 284/500\n",
      "181/181 [==============================] - 15s 80ms/step - loss: 0.5775 - accuracy: 0.7946 - val_loss: 0.9305 - val_accuracy: 0.7390\n",
      "Epoch 285/500\n",
      "181/181 [==============================] - 14s 80ms/step - loss: 0.5700 - accuracy: 0.7996 - val_loss: 0.9660 - val_accuracy: 0.7453\n",
      "Epoch 286/500\n",
      "181/181 [==============================] - 15s 80ms/step - loss: 0.5745 - accuracy: 0.7982 - val_loss: 0.9709 - val_accuracy: 0.7495\n",
      "Epoch 287/500\n",
      "181/181 [==============================] - 15s 81ms/step - loss: 0.5571 - accuracy: 0.8036 - val_loss: 1.0665 - val_accuracy: 0.7370\n",
      "Epoch 288/500\n",
      "181/181 [==============================] - 15s 81ms/step - loss: 0.5663 - accuracy: 0.8014 - val_loss: 1.0082 - val_accuracy: 0.7432\n",
      "Epoch 289/500\n",
      "181/181 [==============================] - 15s 81ms/step - loss: 0.5686 - accuracy: 0.8002 - val_loss: 0.9841 - val_accuracy: 0.7307\n",
      "Epoch 290/500\n",
      "181/181 [==============================] - 15s 80ms/step - loss: 0.5438 - accuracy: 0.8108 - val_loss: 0.9988 - val_accuracy: 0.7411\n",
      "Epoch 291/500\n",
      "181/181 [==============================] - 15s 81ms/step - loss: 0.5694 - accuracy: 0.8031 - val_loss: 1.0156 - val_accuracy: 0.7411\n",
      "Epoch 292/500\n",
      "181/181 [==============================] - 15s 81ms/step - loss: 0.5625 - accuracy: 0.8006 - val_loss: 1.0703 - val_accuracy: 0.7411\n",
      "Epoch 293/500\n",
      "181/181 [==============================] - 15s 81ms/step - loss: 0.5632 - accuracy: 0.8010 - val_loss: 1.0875 - val_accuracy: 0.7161\n",
      "Epoch 294/500\n",
      "181/181 [==============================] - 15s 81ms/step - loss: 0.5643 - accuracy: 0.8011 - val_loss: 1.0168 - val_accuracy: 0.7578\n",
      "Epoch 295/500\n",
      "181/181 [==============================] - 15s 81ms/step - loss: 0.5603 - accuracy: 0.8020 - val_loss: 1.0044 - val_accuracy: 0.7411\n",
      "Epoch 296/500\n",
      "181/181 [==============================] - 15s 81ms/step - loss: 0.5509 - accuracy: 0.8045 - val_loss: 1.0029 - val_accuracy: 0.7349\n",
      "Epoch 297/500\n",
      "181/181 [==============================] - 15s 81ms/step - loss: 0.5606 - accuracy: 0.7955 - val_loss: 1.0121 - val_accuracy: 0.7432\n",
      "Epoch 298/500\n",
      "181/181 [==============================] - 15s 81ms/step - loss: 0.5586 - accuracy: 0.7995 - val_loss: 0.9689 - val_accuracy: 0.7432\n",
      "Epoch 299/500\n",
      "181/181 [==============================] - 15s 81ms/step - loss: 0.5659 - accuracy: 0.7978 - val_loss: 1.0046 - val_accuracy: 0.7307\n",
      "Epoch 300/500\n",
      "181/181 [==============================] - 15s 81ms/step - loss: 0.5667 - accuracy: 0.7960 - val_loss: 0.9871 - val_accuracy: 0.7286\n",
      "Epoch 301/500\n",
      "181/181 [==============================] - 15s 81ms/step - loss: 0.5621 - accuracy: 0.7986 - val_loss: 0.9770 - val_accuracy: 0.7557\n",
      "Epoch 302/500\n",
      "181/181 [==============================] - 15s 82ms/step - loss: 0.5710 - accuracy: 0.7982 - val_loss: 0.9924 - val_accuracy: 0.7474\n",
      "Epoch 303/500\n",
      "181/181 [==============================] - 15s 81ms/step - loss: 0.5552 - accuracy: 0.8031 - val_loss: 0.9881 - val_accuracy: 0.7286\n",
      "Epoch 304/500\n",
      "181/181 [==============================] - 15s 81ms/step - loss: 0.5472 - accuracy: 0.8063 - val_loss: 0.9540 - val_accuracy: 0.7286\n",
      "Epoch 305/500\n",
      "181/181 [==============================] - 15s 81ms/step - loss: 0.5544 - accuracy: 0.8011 - val_loss: 0.9716 - val_accuracy: 0.7495\n",
      "Epoch 306/500\n",
      "181/181 [==============================] - 15s 81ms/step - loss: 0.5523 - accuracy: 0.8040 - val_loss: 1.0706 - val_accuracy: 0.7453\n"
     ]
    },
    {
     "name": "stdout",
     "output_type": "stream",
     "text": [
      "Epoch 307/500\n",
      "181/181 [==============================] - 15s 82ms/step - loss: 0.5542 - accuracy: 0.8054 - val_loss: 1.0265 - val_accuracy: 0.7453\n",
      "Epoch 308/500\n",
      "181/181 [==============================] - 15s 81ms/step - loss: 0.5556 - accuracy: 0.8024 - val_loss: 1.0178 - val_accuracy: 0.7495\n",
      "Epoch 309/500\n",
      "181/181 [==============================] - 15s 81ms/step - loss: 0.5599 - accuracy: 0.7997 - val_loss: 1.0550 - val_accuracy: 0.7432\n",
      "Epoch 310/500\n",
      "181/181 [==============================] - 15s 81ms/step - loss: 0.5542 - accuracy: 0.8026 - val_loss: 1.0797 - val_accuracy: 0.7474\n",
      "Epoch 311/500\n",
      "181/181 [==============================] - 15s 81ms/step - loss: 0.5498 - accuracy: 0.8052 - val_loss: 1.0120 - val_accuracy: 0.7328\n",
      "Epoch 312/500\n",
      "181/181 [==============================] - 15s 81ms/step - loss: 0.5523 - accuracy: 0.8058 - val_loss: 1.0064 - val_accuracy: 0.7557\n",
      "Epoch 313/500\n",
      "181/181 [==============================] - 15s 82ms/step - loss: 0.5478 - accuracy: 0.8073 - val_loss: 1.0432 - val_accuracy: 0.7453\n",
      "Epoch 314/500\n",
      "181/181 [==============================] - 15s 81ms/step - loss: 0.5515 - accuracy: 0.8029 - val_loss: 1.0544 - val_accuracy: 0.7557\n",
      "Epoch 315/500\n",
      "181/181 [==============================] - 15s 81ms/step - loss: 0.5467 - accuracy: 0.8057 - val_loss: 0.9989 - val_accuracy: 0.7641\n",
      "Epoch 316/500\n",
      "181/181 [==============================] - 15s 81ms/step - loss: 0.5550 - accuracy: 0.8009 - val_loss: 1.0273 - val_accuracy: 0.7495\n",
      "Epoch 317/500\n",
      "181/181 [==============================] - 15s 81ms/step - loss: 0.5395 - accuracy: 0.8083 - val_loss: 0.9929 - val_accuracy: 0.7328\n",
      "Epoch 318/500\n",
      "181/181 [==============================] - 15s 81ms/step - loss: 0.5538 - accuracy: 0.8024 - val_loss: 1.0117 - val_accuracy: 0.7453\n",
      "Epoch 319/500\n",
      "181/181 [==============================] - 15s 81ms/step - loss: 0.5486 - accuracy: 0.8061 - val_loss: 1.0135 - val_accuracy: 0.7140\n",
      "Epoch 320/500\n",
      "181/181 [==============================] - 15s 81ms/step - loss: 0.5367 - accuracy: 0.8112 - val_loss: 1.0272 - val_accuracy: 0.7411\n",
      "Epoch 321/500\n",
      "181/181 [==============================] - 15s 81ms/step - loss: 0.5573 - accuracy: 0.8024 - val_loss: 1.0026 - val_accuracy: 0.7390\n",
      "Epoch 322/500\n",
      "181/181 [==============================] - 15s 81ms/step - loss: 0.5369 - accuracy: 0.8096 - val_loss: 1.0529 - val_accuracy: 0.7432\n",
      "Epoch 323/500\n",
      "181/181 [==============================] - 15s 80ms/step - loss: 0.5343 - accuracy: 0.8084 - val_loss: 1.0224 - val_accuracy: 0.7390\n",
      "Epoch 324/500\n",
      "181/181 [==============================] - 15s 81ms/step - loss: 0.5378 - accuracy: 0.8098 - val_loss: 0.9831 - val_accuracy: 0.7328\n",
      "Epoch 325/500\n",
      "181/181 [==============================] - 15s 81ms/step - loss: 0.5471 - accuracy: 0.8057 - val_loss: 1.0693 - val_accuracy: 0.7453\n",
      "Epoch 326/500\n",
      "181/181 [==============================] - 15s 81ms/step - loss: 0.5494 - accuracy: 0.8067 - val_loss: 1.0116 - val_accuracy: 0.7182\n",
      "Epoch 327/500\n",
      "181/181 [==============================] - 15s 81ms/step - loss: 0.5293 - accuracy: 0.8134 - val_loss: 0.9794 - val_accuracy: 0.7370\n",
      "Epoch 328/500\n",
      "181/181 [==============================] - 15s 81ms/step - loss: 0.5425 - accuracy: 0.8110 - val_loss: 0.9682 - val_accuracy: 0.7390\n",
      "Epoch 329/500\n",
      "181/181 [==============================] - 15s 81ms/step - loss: 0.5546 - accuracy: 0.8033 - val_loss: 0.9919 - val_accuracy: 0.7557\n",
      "Epoch 330/500\n",
      "181/181 [==============================] - 15s 80ms/step - loss: 0.5362 - accuracy: 0.8122 - val_loss: 1.0595 - val_accuracy: 0.7411\n",
      "Epoch 331/500\n",
      "181/181 [==============================] - 15s 80ms/step - loss: 0.5251 - accuracy: 0.8162 - val_loss: 1.0394 - val_accuracy: 0.7495\n",
      "Epoch 332/500\n",
      "181/181 [==============================] - 15s 81ms/step - loss: 0.5381 - accuracy: 0.8119 - val_loss: 0.9831 - val_accuracy: 0.7453\n",
      "Epoch 333/500\n",
      "181/181 [==============================] - 15s 81ms/step - loss: 0.5339 - accuracy: 0.8083 - val_loss: 1.0292 - val_accuracy: 0.7411\n",
      "Epoch 334/500\n",
      "181/181 [==============================] - 15s 81ms/step - loss: 0.5362 - accuracy: 0.8074 - val_loss: 1.0535 - val_accuracy: 0.7182\n",
      "Epoch 335/500\n",
      "181/181 [==============================] - 15s 81ms/step - loss: 0.5472 - accuracy: 0.8068 - val_loss: 0.9988 - val_accuracy: 0.7244\n",
      "Epoch 336/500\n",
      "181/181 [==============================] - 15s 81ms/step - loss: 0.5375 - accuracy: 0.8084 - val_loss: 1.0142 - val_accuracy: 0.7182\n",
      "Epoch 337/500\n",
      "181/181 [==============================] - 15s 81ms/step - loss: 0.5421 - accuracy: 0.8060 - val_loss: 1.0286 - val_accuracy: 0.7328\n",
      "Epoch 338/500\n",
      "181/181 [==============================] - 15s 81ms/step - loss: 0.5307 - accuracy: 0.8136 - val_loss: 0.9706 - val_accuracy: 0.7390\n",
      "Epoch 339/500\n",
      "181/181 [==============================] - 15s 81ms/step - loss: 0.5251 - accuracy: 0.8109 - val_loss: 1.0005 - val_accuracy: 0.7474\n",
      "Epoch 340/500\n",
      "181/181 [==============================] - 15s 81ms/step - loss: 0.5330 - accuracy: 0.8112 - val_loss: 0.9916 - val_accuracy: 0.7411\n",
      "Epoch 341/500\n",
      "181/181 [==============================] - 15s 81ms/step - loss: 0.5499 - accuracy: 0.8054 - val_loss: 1.0279 - val_accuracy: 0.7432\n",
      "Epoch 342/500\n",
      "181/181 [==============================] - 15s 81ms/step - loss: 0.5377 - accuracy: 0.8065 - val_loss: 1.0025 - val_accuracy: 0.7265\n",
      "Epoch 343/500\n",
      "181/181 [==============================] - 15s 80ms/step - loss: 0.5343 - accuracy: 0.8111 - val_loss: 1.0280 - val_accuracy: 0.7244\n",
      "Epoch 344/500\n",
      "181/181 [==============================] - 15s 81ms/step - loss: 0.5278 - accuracy: 0.8128 - val_loss: 1.0596 - val_accuracy: 0.7411\n",
      "Epoch 345/500\n",
      "181/181 [==============================] - 15s 81ms/step - loss: 0.5337 - accuracy: 0.8143 - val_loss: 1.0270 - val_accuracy: 0.7244\n",
      "Epoch 346/500\n",
      "181/181 [==============================] - 15s 81ms/step - loss: 0.5332 - accuracy: 0.8141 - val_loss: 1.0250 - val_accuracy: 0.7182\n",
      "Epoch 347/500\n",
      "181/181 [==============================] - 15s 81ms/step - loss: 0.5369 - accuracy: 0.8090 - val_loss: 1.0655 - val_accuracy: 0.7265\n",
      "Epoch 348/500\n",
      "181/181 [==============================] - 15s 81ms/step - loss: 0.5156 - accuracy: 0.8173 - val_loss: 1.0259 - val_accuracy: 0.7328\n",
      "Epoch 349/500\n",
      "181/181 [==============================] - 15s 80ms/step - loss: 0.5346 - accuracy: 0.8128 - val_loss: 1.0794 - val_accuracy: 0.7349\n",
      "Epoch 350/500\n",
      "181/181 [==============================] - 15s 81ms/step - loss: 0.5243 - accuracy: 0.8133 - val_loss: 1.0693 - val_accuracy: 0.7370\n",
      "Epoch 351/500\n",
      "181/181 [==============================] - 15s 80ms/step - loss: 0.5277 - accuracy: 0.8109 - val_loss: 0.9973 - val_accuracy: 0.7370\n",
      "Epoch 352/500\n",
      "181/181 [==============================] - 15s 81ms/step - loss: 0.5252 - accuracy: 0.8160 - val_loss: 1.0371 - val_accuracy: 0.7223\n",
      "Epoch 353/500\n",
      "181/181 [==============================] - 15s 81ms/step - loss: 0.5167 - accuracy: 0.8192 - val_loss: 1.0921 - val_accuracy: 0.7286\n",
      "Epoch 354/500\n",
      "181/181 [==============================] - 15s 80ms/step - loss: 0.5205 - accuracy: 0.8114 - val_loss: 1.0373 - val_accuracy: 0.7182\n",
      "Epoch 355/500\n",
      "181/181 [==============================] - 15s 80ms/step - loss: 0.5285 - accuracy: 0.8113 - val_loss: 1.0976 - val_accuracy: 0.7140\n",
      "Epoch 356/500\n",
      "181/181 [==============================] - 15s 80ms/step - loss: 0.5187 - accuracy: 0.8154 - val_loss: 1.0564 - val_accuracy: 0.7453\n",
      "Epoch 357/500\n",
      "181/181 [==============================] - 15s 80ms/step - loss: 0.5257 - accuracy: 0.8142 - val_loss: 1.0293 - val_accuracy: 0.7307\n",
      "Epoch 358/500\n",
      "181/181 [==============================] - 15s 80ms/step - loss: 0.5256 - accuracy: 0.8112 - val_loss: 1.1000 - val_accuracy: 0.7328\n",
      "Epoch 359/500\n",
      "181/181 [==============================] - 15s 80ms/step - loss: 0.5355 - accuracy: 0.8137 - val_loss: 1.0764 - val_accuracy: 0.7328\n",
      "Epoch 360/500\n",
      "181/181 [==============================] - 15s 80ms/step - loss: 0.5199 - accuracy: 0.8136 - val_loss: 1.0569 - val_accuracy: 0.7182\n",
      "Epoch 361/500\n",
      "181/181 [==============================] - 15s 80ms/step - loss: 0.5117 - accuracy: 0.8194 - val_loss: 1.0736 - val_accuracy: 0.7265\n",
      "Epoch 362/500\n",
      "181/181 [==============================] - 15s 80ms/step - loss: 0.5118 - accuracy: 0.8194 - val_loss: 1.0377 - val_accuracy: 0.7307\n"
     ]
    },
    {
     "name": "stdout",
     "output_type": "stream",
     "text": [
      "Epoch 363/500\n",
      "181/181 [==============================] - 15s 80ms/step - loss: 0.5249 - accuracy: 0.8099 - val_loss: 1.0535 - val_accuracy: 0.7056\n",
      "Epoch 364/500\n",
      "181/181 [==============================] - 15s 81ms/step - loss: 0.5263 - accuracy: 0.8160 - val_loss: 1.0279 - val_accuracy: 0.7223\n",
      "Epoch 365/500\n",
      "181/181 [==============================] - 15s 81ms/step - loss: 0.5330 - accuracy: 0.8148 - val_loss: 1.0407 - val_accuracy: 0.7265\n",
      "Epoch 366/500\n",
      "181/181 [==============================] - 15s 80ms/step - loss: 0.5101 - accuracy: 0.8208 - val_loss: 1.0277 - val_accuracy: 0.7265\n",
      "Epoch 367/500\n",
      "181/181 [==============================] - 15s 81ms/step - loss: 0.5264 - accuracy: 0.8125 - val_loss: 0.9987 - val_accuracy: 0.7203\n",
      "Epoch 368/500\n",
      "181/181 [==============================] - 15s 81ms/step - loss: 0.5226 - accuracy: 0.8126 - val_loss: 0.9976 - val_accuracy: 0.7286\n",
      "Epoch 369/500\n",
      "181/181 [==============================] - 15s 81ms/step - loss: 0.5210 - accuracy: 0.8161 - val_loss: 1.0152 - val_accuracy: 0.7328\n",
      "Epoch 370/500\n",
      "181/181 [==============================] - 15s 81ms/step - loss: 0.5251 - accuracy: 0.8112 - val_loss: 1.0259 - val_accuracy: 0.7223\n",
      "Epoch 371/500\n",
      "181/181 [==============================] - 15s 81ms/step - loss: 0.5182 - accuracy: 0.8165 - val_loss: 0.9878 - val_accuracy: 0.7328\n",
      "Epoch 372/500\n",
      "181/181 [==============================] - 15s 80ms/step - loss: 0.5124 - accuracy: 0.8190 - val_loss: 1.0416 - val_accuracy: 0.7244\n",
      "Epoch 373/500\n",
      "181/181 [==============================] - 15s 80ms/step - loss: 0.4922 - accuracy: 0.8222 - val_loss: 1.0198 - val_accuracy: 0.7098\n",
      "Epoch 374/500\n",
      "181/181 [==============================] - 15s 81ms/step - loss: 0.5136 - accuracy: 0.8182 - val_loss: 1.0663 - val_accuracy: 0.7140\n",
      "Epoch 375/500\n",
      "181/181 [==============================] - 15s 81ms/step - loss: 0.5114 - accuracy: 0.8178 - val_loss: 1.0647 - val_accuracy: 0.7244\n",
      "Epoch 376/500\n",
      "181/181 [==============================] - 15s 82ms/step - loss: 0.5083 - accuracy: 0.8201 - val_loss: 1.0691 - val_accuracy: 0.7182\n",
      "Epoch 377/500\n",
      "181/181 [==============================] - 15s 80ms/step - loss: 0.5141 - accuracy: 0.8184 - val_loss: 1.1075 - val_accuracy: 0.7286\n",
      "Epoch 378/500\n",
      "181/181 [==============================] - 15s 81ms/step - loss: 0.5238 - accuracy: 0.8110 - val_loss: 1.0565 - val_accuracy: 0.7161\n",
      "Epoch 379/500\n",
      "181/181 [==============================] - 15s 80ms/step - loss: 0.5176 - accuracy: 0.8196 - val_loss: 1.0121 - val_accuracy: 0.7307\n",
      "Epoch 380/500\n",
      "181/181 [==============================] - 15s 81ms/step - loss: 0.5083 - accuracy: 0.8182 - val_loss: 0.9693 - val_accuracy: 0.7390\n",
      "Epoch 381/500\n",
      "181/181 [==============================] - 15s 81ms/step - loss: 0.5088 - accuracy: 0.8245 - val_loss: 0.9956 - val_accuracy: 0.7370\n",
      "Epoch 382/500\n",
      "181/181 [==============================] - 15s 81ms/step - loss: 0.5154 - accuracy: 0.8170 - val_loss: 1.0070 - val_accuracy: 0.7286\n",
      "Epoch 383/500\n",
      "181/181 [==============================] - 15s 80ms/step - loss: 0.5222 - accuracy: 0.8195 - val_loss: 1.0372 - val_accuracy: 0.7349\n",
      "Epoch 384/500\n",
      "181/181 [==============================] - 15s 82ms/step - loss: 0.5198 - accuracy: 0.8152 - val_loss: 1.0608 - val_accuracy: 0.7265\n",
      "Epoch 385/500\n",
      "181/181 [==============================] - 15s 81ms/step - loss: 0.5229 - accuracy: 0.8160 - val_loss: 0.9937 - val_accuracy: 0.7286\n",
      "Epoch 386/500\n",
      "181/181 [==============================] - 15s 82ms/step - loss: 0.5152 - accuracy: 0.8216 - val_loss: 1.0760 - val_accuracy: 0.7307\n",
      "Epoch 387/500\n",
      "181/181 [==============================] - 15s 81ms/step - loss: 0.5111 - accuracy: 0.8191 - val_loss: 1.0324 - val_accuracy: 0.7328\n",
      "Epoch 388/500\n",
      "181/181 [==============================] - 15s 82ms/step - loss: 0.5121 - accuracy: 0.8196 - val_loss: 1.0631 - val_accuracy: 0.7432\n",
      "Epoch 389/500\n",
      "181/181 [==============================] - 15s 82ms/step - loss: 0.5151 - accuracy: 0.8208 - val_loss: 0.9879 - val_accuracy: 0.7411\n",
      "Epoch 390/500\n",
      "181/181 [==============================] - 15s 81ms/step - loss: 0.5172 - accuracy: 0.8176 - val_loss: 1.0267 - val_accuracy: 0.7390\n",
      "Epoch 391/500\n",
      "181/181 [==============================] - 15s 81ms/step - loss: 0.5028 - accuracy: 0.8214 - val_loss: 1.0114 - val_accuracy: 0.7349\n",
      "Epoch 392/500\n",
      "181/181 [==============================] - 15s 80ms/step - loss: 0.5039 - accuracy: 0.8251 - val_loss: 0.9897 - val_accuracy: 0.7370\n",
      "Epoch 393/500\n",
      "181/181 [==============================] - 15s 80ms/step - loss: 0.5089 - accuracy: 0.8214 - val_loss: 1.0801 - val_accuracy: 0.7286\n",
      "Epoch 394/500\n",
      "181/181 [==============================] - 15s 82ms/step - loss: 0.5116 - accuracy: 0.8190 - val_loss: 1.0665 - val_accuracy: 0.7265\n",
      "Epoch 395/500\n",
      "181/181 [==============================] - 15s 82ms/step - loss: 0.5061 - accuracy: 0.8233 - val_loss: 1.0329 - val_accuracy: 0.7244\n",
      "Epoch 396/500\n",
      "181/181 [==============================] - 15s 82ms/step - loss: 0.5184 - accuracy: 0.8205 - val_loss: 1.0105 - val_accuracy: 0.7349\n",
      "Epoch 397/500\n",
      "181/181 [==============================] - 15s 81ms/step - loss: 0.5097 - accuracy: 0.8160 - val_loss: 1.0208 - val_accuracy: 0.7307\n",
      "Epoch 398/500\n",
      "181/181 [==============================] - 15s 81ms/step - loss: 0.5084 - accuracy: 0.8204 - val_loss: 1.0767 - val_accuracy: 0.7370\n",
      "Epoch 399/500\n",
      "181/181 [==============================] - 15s 81ms/step - loss: 0.5082 - accuracy: 0.8192 - val_loss: 1.0228 - val_accuracy: 0.7349\n",
      "Epoch 400/500\n",
      "181/181 [==============================] - 15s 81ms/step - loss: 0.4949 - accuracy: 0.8238 - val_loss: 1.0284 - val_accuracy: 0.7432\n",
      "Epoch 401/500\n",
      "181/181 [==============================] - 15s 81ms/step - loss: 0.4930 - accuracy: 0.8255 - val_loss: 1.0031 - val_accuracy: 0.7516\n",
      "Epoch 402/500\n",
      "181/181 [==============================] - 15s 81ms/step - loss: 0.5085 - accuracy: 0.8210 - val_loss: 0.9921 - val_accuracy: 0.7370\n",
      "Epoch 403/500\n",
      "181/181 [==============================] - 15s 81ms/step - loss: 0.5029 - accuracy: 0.8252 - val_loss: 1.0233 - val_accuracy: 0.7349\n",
      "Epoch 404/500\n",
      "181/181 [==============================] - 15s 81ms/step - loss: 0.5084 - accuracy: 0.8221 - val_loss: 1.0315 - val_accuracy: 0.7307\n",
      "Epoch 405/500\n",
      "181/181 [==============================] - 15s 80ms/step - loss: 0.4886 - accuracy: 0.8240 - val_loss: 1.0096 - val_accuracy: 0.7411\n",
      "Epoch 406/500\n",
      "181/181 [==============================] - 15s 80ms/step - loss: 0.4925 - accuracy: 0.8250 - val_loss: 1.0410 - val_accuracy: 0.7328\n",
      "Epoch 407/500\n",
      "181/181 [==============================] - 15s 81ms/step - loss: 0.5064 - accuracy: 0.8167 - val_loss: 1.0266 - val_accuracy: 0.7349\n",
      "Epoch 408/500\n",
      "181/181 [==============================] - 15s 80ms/step - loss: 0.5060 - accuracy: 0.8209 - val_loss: 1.0413 - val_accuracy: 0.7265\n",
      "Epoch 409/500\n",
      "181/181 [==============================] - 15s 80ms/step - loss: 0.5067 - accuracy: 0.8221 - val_loss: 1.0302 - val_accuracy: 0.7223\n",
      "Epoch 410/500\n",
      "181/181 [==============================] - 15s 81ms/step - loss: 0.5057 - accuracy: 0.8239 - val_loss: 0.9968 - val_accuracy: 0.7307\n",
      "Epoch 411/500\n",
      "181/181 [==============================] - 15s 81ms/step - loss: 0.4891 - accuracy: 0.8260 - val_loss: 0.9809 - val_accuracy: 0.7286\n",
      "Epoch 412/500\n",
      "181/181 [==============================] - 15s 81ms/step - loss: 0.4939 - accuracy: 0.8227 - val_loss: 1.0023 - val_accuracy: 0.7432\n",
      "Epoch 413/500\n",
      "181/181 [==============================] - 15s 81ms/step - loss: 0.5085 - accuracy: 0.8182 - val_loss: 1.0056 - val_accuracy: 0.7328\n",
      "Epoch 414/500\n",
      "181/181 [==============================] - 15s 81ms/step - loss: 0.4927 - accuracy: 0.8272 - val_loss: 1.0385 - val_accuracy: 0.7244\n",
      "Epoch 415/500\n",
      "181/181 [==============================] - 15s 80ms/step - loss: 0.4837 - accuracy: 0.8284 - val_loss: 1.0256 - val_accuracy: 0.7390\n",
      "Epoch 416/500\n",
      "181/181 [==============================] - 15s 81ms/step - loss: 0.5033 - accuracy: 0.8234 - val_loss: 1.0568 - val_accuracy: 0.7307\n",
      "Epoch 417/500\n",
      "181/181 [==============================] - 15s 81ms/step - loss: 0.4981 - accuracy: 0.8206 - val_loss: 1.0532 - val_accuracy: 0.7307\n",
      "Epoch 418/500\n",
      "181/181 [==============================] - 15s 81ms/step - loss: 0.5056 - accuracy: 0.8173 - val_loss: 1.1364 - val_accuracy: 0.7453\n"
     ]
    },
    {
     "name": "stdout",
     "output_type": "stream",
     "text": [
      "Epoch 419/500\n",
      "181/181 [==============================] - 15s 82ms/step - loss: 0.5030 - accuracy: 0.8258 - val_loss: 1.0482 - val_accuracy: 0.7328\n",
      "Epoch 420/500\n",
      "181/181 [==============================] - 15s 81ms/step - loss: 0.4943 - accuracy: 0.8272 - val_loss: 1.0637 - val_accuracy: 0.7411\n",
      "Epoch 421/500\n",
      "181/181 [==============================] - 15s 80ms/step - loss: 0.4916 - accuracy: 0.8235 - val_loss: 1.0640 - val_accuracy: 0.7098\n",
      "Epoch 422/500\n",
      "181/181 [==============================] - 15s 81ms/step - loss: 0.5040 - accuracy: 0.8236 - val_loss: 1.0097 - val_accuracy: 0.7244\n",
      "Epoch 423/500\n",
      "181/181 [==============================] - 15s 81ms/step - loss: 0.5070 - accuracy: 0.8183 - val_loss: 1.0346 - val_accuracy: 0.7140\n",
      "Epoch 424/500\n",
      "181/181 [==============================] - 15s 81ms/step - loss: 0.4803 - accuracy: 0.8306 - val_loss: 0.9983 - val_accuracy: 0.7370\n",
      "Epoch 425/500\n",
      "181/181 [==============================] - 15s 81ms/step - loss: 0.4867 - accuracy: 0.8266 - val_loss: 1.0102 - val_accuracy: 0.7390\n",
      "Epoch 426/500\n",
      "181/181 [==============================] - 15s 81ms/step - loss: 0.5044 - accuracy: 0.8217 - val_loss: 1.0158 - val_accuracy: 0.7537\n",
      "Epoch 427/500\n",
      "181/181 [==============================] - 15s 81ms/step - loss: 0.4934 - accuracy: 0.8240 - val_loss: 1.0272 - val_accuracy: 0.7349\n",
      "Epoch 428/500\n",
      "181/181 [==============================] - 15s 81ms/step - loss: 0.5019 - accuracy: 0.8247 - val_loss: 1.0583 - val_accuracy: 0.7370\n",
      "Epoch 429/500\n",
      "181/181 [==============================] - 15s 81ms/step - loss: 0.5010 - accuracy: 0.8208 - val_loss: 1.0542 - val_accuracy: 0.7349\n",
      "Epoch 430/500\n",
      "181/181 [==============================] - 15s 81ms/step - loss: 0.4915 - accuracy: 0.8275 - val_loss: 1.0064 - val_accuracy: 0.7432\n",
      "Epoch 431/500\n",
      "181/181 [==============================] - 15s 81ms/step - loss: 0.4965 - accuracy: 0.8227 - val_loss: 1.0617 - val_accuracy: 0.7265\n",
      "Epoch 432/500\n",
      "181/181 [==============================] - 15s 80ms/step - loss: 0.4839 - accuracy: 0.8305 - val_loss: 1.0755 - val_accuracy: 0.7203\n",
      "Epoch 433/500\n",
      "181/181 [==============================] - 15s 81ms/step - loss: 0.4950 - accuracy: 0.8269 - val_loss: 1.0440 - val_accuracy: 0.7161\n",
      "Epoch 434/500\n",
      "181/181 [==============================] - 15s 81ms/step - loss: 0.4855 - accuracy: 0.8285 - val_loss: 1.0663 - val_accuracy: 0.7307\n",
      "Epoch 435/500\n",
      "181/181 [==============================] - 15s 81ms/step - loss: 0.4907 - accuracy: 0.8248 - val_loss: 1.1210 - val_accuracy: 0.7015\n",
      "Epoch 436/500\n",
      "181/181 [==============================] - 15s 81ms/step - loss: 0.4782 - accuracy: 0.8307 - val_loss: 1.0580 - val_accuracy: 0.7390\n",
      "Epoch 437/500\n",
      "181/181 [==============================] - 15s 80ms/step - loss: 0.5022 - accuracy: 0.8225 - val_loss: 1.0967 - val_accuracy: 0.7265\n",
      "Epoch 438/500\n",
      "181/181 [==============================] - 15s 81ms/step - loss: 0.4795 - accuracy: 0.8301 - val_loss: 1.0759 - val_accuracy: 0.7432\n",
      "Epoch 439/500\n",
      "181/181 [==============================] - 15s 81ms/step - loss: 0.5009 - accuracy: 0.8256 - val_loss: 1.0268 - val_accuracy: 0.7182\n",
      "Epoch 440/500\n",
      "181/181 [==============================] - 15s 81ms/step - loss: 0.4966 - accuracy: 0.8266 - val_loss: 1.0695 - val_accuracy: 0.7328\n",
      "Epoch 441/500\n",
      "181/181 [==============================] - 15s 81ms/step - loss: 0.4819 - accuracy: 0.8299 - val_loss: 1.1046 - val_accuracy: 0.7203\n",
      "Epoch 442/500\n",
      "181/181 [==============================] - 15s 81ms/step - loss: 0.4870 - accuracy: 0.8254 - val_loss: 1.0426 - val_accuracy: 0.7307\n",
      "Epoch 443/500\n",
      "181/181 [==============================] - 15s 81ms/step - loss: 0.4763 - accuracy: 0.8337 - val_loss: 1.1038 - val_accuracy: 0.7223\n",
      "Epoch 444/500\n",
      "181/181 [==============================] - 15s 81ms/step - loss: 0.4875 - accuracy: 0.8263 - val_loss: 1.0603 - val_accuracy: 0.7307\n",
      "Epoch 445/500\n",
      "181/181 [==============================] - 15s 81ms/step - loss: 0.4871 - accuracy: 0.8290 - val_loss: 1.1116 - val_accuracy: 0.7390\n",
      "Epoch 446/500\n",
      "181/181 [==============================] - 15s 81ms/step - loss: 0.4794 - accuracy: 0.8285 - val_loss: 1.0614 - val_accuracy: 0.7453\n",
      "Epoch 447/500\n",
      "181/181 [==============================] - 15s 81ms/step - loss: 0.4878 - accuracy: 0.8273 - val_loss: 1.0627 - val_accuracy: 0.7516\n",
      "Epoch 448/500\n",
      "181/181 [==============================] - 15s 81ms/step - loss: 0.4832 - accuracy: 0.8308 - val_loss: 1.0642 - val_accuracy: 0.7390\n",
      "Epoch 449/500\n",
      "181/181 [==============================] - 15s 81ms/step - loss: 0.4709 - accuracy: 0.8329 - val_loss: 1.0493 - val_accuracy: 0.7411\n",
      "Epoch 450/500\n",
      "181/181 [==============================] - 15s 81ms/step - loss: 0.4810 - accuracy: 0.8262 - val_loss: 0.9782 - val_accuracy: 0.7432\n",
      "Epoch 451/500\n",
      "181/181 [==============================] - 15s 81ms/step - loss: 0.4774 - accuracy: 0.8326 - val_loss: 1.0321 - val_accuracy: 0.7203\n",
      "Epoch 452/500\n",
      "181/181 [==============================] - 15s 81ms/step - loss: 0.4692 - accuracy: 0.8318 - val_loss: 1.0085 - val_accuracy: 0.7286\n",
      "Epoch 453/500\n",
      "181/181 [==============================] - 15s 80ms/step - loss: 0.4810 - accuracy: 0.8327 - val_loss: 0.9748 - val_accuracy: 0.7495\n",
      "Epoch 454/500\n",
      "181/181 [==============================] - 15s 81ms/step - loss: 0.4831 - accuracy: 0.8322 - val_loss: 1.0298 - val_accuracy: 0.7474\n",
      "Epoch 455/500\n",
      "181/181 [==============================] - 15s 80ms/step - loss: 0.4894 - accuracy: 0.8279 - val_loss: 0.9985 - val_accuracy: 0.7140\n",
      "Epoch 456/500\n",
      "181/181 [==============================] - 15s 80ms/step - loss: 0.4766 - accuracy: 0.8329 - val_loss: 1.0640 - val_accuracy: 0.7432\n",
      "Epoch 457/500\n",
      "181/181 [==============================] - 15s 81ms/step - loss: 0.4762 - accuracy: 0.8319 - val_loss: 1.0414 - val_accuracy: 0.7244\n",
      "Epoch 458/500\n",
      "181/181 [==============================] - 15s 81ms/step - loss: 0.4744 - accuracy: 0.8324 - val_loss: 1.0748 - val_accuracy: 0.7286\n",
      "Epoch 459/500\n",
      "181/181 [==============================] - 15s 81ms/step - loss: 0.4779 - accuracy: 0.8307 - val_loss: 1.0803 - val_accuracy: 0.7411\n",
      "Epoch 460/500\n",
      "181/181 [==============================] - 15s 80ms/step - loss: 0.4762 - accuracy: 0.8303 - val_loss: 1.0672 - val_accuracy: 0.7349\n",
      "Epoch 461/500\n",
      "181/181 [==============================] - 15s 81ms/step - loss: 0.4776 - accuracy: 0.8299 - val_loss: 1.0158 - val_accuracy: 0.7516\n",
      "Epoch 462/500\n",
      "181/181 [==============================] - 15s 81ms/step - loss: 0.4791 - accuracy: 0.8334 - val_loss: 1.0868 - val_accuracy: 0.7077\n",
      "Epoch 463/500\n",
      "181/181 [==============================] - 15s 81ms/step - loss: 0.4805 - accuracy: 0.8295 - val_loss: 1.0492 - val_accuracy: 0.7370\n",
      "Epoch 464/500\n",
      "181/181 [==============================] - 15s 81ms/step - loss: 0.4880 - accuracy: 0.8271 - val_loss: 1.0903 - val_accuracy: 0.7077\n",
      "Epoch 465/500\n",
      "181/181 [==============================] - 15s 81ms/step - loss: 0.4815 - accuracy: 0.8296 - val_loss: 1.0740 - val_accuracy: 0.7244\n",
      "Epoch 466/500\n",
      "181/181 [==============================] - 15s 81ms/step - loss: 0.4808 - accuracy: 0.8299 - val_loss: 1.0330 - val_accuracy: 0.7390\n",
      "Epoch 467/500\n",
      "181/181 [==============================] - 15s 81ms/step - loss: 0.4792 - accuracy: 0.8305 - val_loss: 1.0411 - val_accuracy: 0.7411\n",
      "Epoch 468/500\n",
      "181/181 [==============================] - 15s 81ms/step - loss: 0.4770 - accuracy: 0.8306 - val_loss: 1.0067 - val_accuracy: 0.7516\n",
      "Epoch 469/500\n",
      "181/181 [==============================] - 15s 80ms/step - loss: 0.4863 - accuracy: 0.8281 - val_loss: 1.0017 - val_accuracy: 0.7432\n",
      "Epoch 470/500\n",
      "181/181 [==============================] - 15s 81ms/step - loss: 0.4833 - accuracy: 0.8291 - val_loss: 1.0212 - val_accuracy: 0.7537\n",
      "Epoch 471/500\n",
      "181/181 [==============================] - 15s 81ms/step - loss: 0.4710 - accuracy: 0.8326 - val_loss: 1.0685 - val_accuracy: 0.7244\n",
      "Epoch 472/500\n",
      "181/181 [==============================] - 15s 81ms/step - loss: 0.4748 - accuracy: 0.8284 - val_loss: 1.0668 - val_accuracy: 0.7286\n",
      "Epoch 473/500\n",
      "181/181 [==============================] - 15s 80ms/step - loss: 0.4885 - accuracy: 0.8268 - val_loss: 1.1086 - val_accuracy: 0.7203\n",
      "Epoch 474/500\n",
      "181/181 [==============================] - 15s 81ms/step - loss: 0.4793 - accuracy: 0.8301 - val_loss: 1.1479 - val_accuracy: 0.7161\n"
     ]
    },
    {
     "name": "stdout",
     "output_type": "stream",
     "text": [
      "Epoch 475/500\n",
      "181/181 [==============================] - 15s 80ms/step - loss: 0.4584 - accuracy: 0.8347 - val_loss: 1.1575 - val_accuracy: 0.7265\n",
      "Epoch 476/500\n",
      "181/181 [==============================] - 15s 80ms/step - loss: 0.4659 - accuracy: 0.8363 - val_loss: 1.0822 - val_accuracy: 0.7223\n",
      "Epoch 477/500\n",
      "181/181 [==============================] - 15s 81ms/step - loss: 0.4823 - accuracy: 0.8294 - val_loss: 1.0529 - val_accuracy: 0.7328\n",
      "Epoch 478/500\n",
      "181/181 [==============================] - 15s 81ms/step - loss: 0.4767 - accuracy: 0.8298 - val_loss: 1.1550 - val_accuracy: 0.7265\n",
      "Epoch 479/500\n",
      "181/181 [==============================] - 15s 81ms/step - loss: 0.4558 - accuracy: 0.8396 - val_loss: 1.0811 - val_accuracy: 0.7474\n",
      "Epoch 480/500\n",
      "181/181 [==============================] - 15s 81ms/step - loss: 0.4736 - accuracy: 0.8321 - val_loss: 1.0986 - val_accuracy: 0.7328\n",
      "Epoch 481/500\n",
      "181/181 [==============================] - 15s 81ms/step - loss: 0.4728 - accuracy: 0.8321 - val_loss: 0.9855 - val_accuracy: 0.7328\n",
      "Epoch 482/500\n",
      "181/181 [==============================] - 15s 81ms/step - loss: 0.4528 - accuracy: 0.8395 - val_loss: 1.0902 - val_accuracy: 0.7098\n",
      "Epoch 483/500\n",
      "181/181 [==============================] - 15s 81ms/step - loss: 0.4696 - accuracy: 0.8327 - val_loss: 1.1105 - val_accuracy: 0.7265\n",
      "Epoch 484/500\n",
      "181/181 [==============================] - 15s 81ms/step - loss: 0.4661 - accuracy: 0.8346 - val_loss: 1.1304 - val_accuracy: 0.7370\n",
      "Epoch 485/500\n",
      "181/181 [==============================] - 15s 80ms/step - loss: 0.4642 - accuracy: 0.8375 - val_loss: 1.0940 - val_accuracy: 0.7328\n",
      "Epoch 486/500\n",
      "181/181 [==============================] - 15s 81ms/step - loss: 0.4670 - accuracy: 0.8401 - val_loss: 1.1425 - val_accuracy: 0.7265\n",
      "Epoch 487/500\n",
      "181/181 [==============================] - 15s 81ms/step - loss: 0.4709 - accuracy: 0.8333 - val_loss: 1.0991 - val_accuracy: 0.7244\n",
      "Epoch 488/500\n",
      "181/181 [==============================] - 15s 80ms/step - loss: 0.4668 - accuracy: 0.8352 - val_loss: 1.0663 - val_accuracy: 0.7182\n",
      "Epoch 489/500\n",
      "181/181 [==============================] - 15s 81ms/step - loss: 0.4732 - accuracy: 0.8295 - val_loss: 1.0682 - val_accuracy: 0.7328\n",
      "Epoch 490/500\n",
      "181/181 [==============================] - 15s 81ms/step - loss: 0.4694 - accuracy: 0.8305 - val_loss: 1.0924 - val_accuracy: 0.7307\n",
      "Epoch 491/500\n",
      "181/181 [==============================] - 15s 80ms/step - loss: 0.4715 - accuracy: 0.8338 - val_loss: 1.0773 - val_accuracy: 0.7370\n",
      "Epoch 492/500\n",
      "181/181 [==============================] - 15s 80ms/step - loss: 0.4691 - accuracy: 0.8302 - val_loss: 1.0654 - val_accuracy: 0.7495\n",
      "Epoch 493/500\n",
      "181/181 [==============================] - 15s 81ms/step - loss: 0.4639 - accuracy: 0.8347 - val_loss: 1.0927 - val_accuracy: 0.7432\n",
      "Epoch 494/500\n",
      "181/181 [==============================] - 15s 81ms/step - loss: 0.4776 - accuracy: 0.8292 - val_loss: 1.0957 - val_accuracy: 0.7286\n",
      "Epoch 495/500\n",
      "181/181 [==============================] - 15s 81ms/step - loss: 0.4738 - accuracy: 0.8300 - val_loss: 1.0909 - val_accuracy: 0.7286\n",
      "Epoch 496/500\n",
      "181/181 [==============================] - 15s 81ms/step - loss: 0.4744 - accuracy: 0.8359 - val_loss: 1.0852 - val_accuracy: 0.7328\n",
      "Epoch 497/500\n",
      "181/181 [==============================] - 15s 81ms/step - loss: 0.4569 - accuracy: 0.8376 - val_loss: 1.0827 - val_accuracy: 0.7307\n",
      "Epoch 498/500\n",
      "181/181 [==============================] - 15s 81ms/step - loss: 0.4714 - accuracy: 0.8393 - val_loss: 1.1677 - val_accuracy: 0.7390\n",
      "Epoch 499/500\n",
      "181/181 [==============================] - 15s 81ms/step - loss: 0.4701 - accuracy: 0.8354 - val_loss: 1.0870 - val_accuracy: 0.7328\n",
      "Epoch 500/500\n",
      "181/181 [==============================] - 15s 81ms/step - loss: 0.4590 - accuracy: 0.8345 - val_loss: 1.1115 - val_accuracy: 0.7203\n"
     ]
    }
   ],
   "source": [
    "history = model.fit(\n",
    "    generator,\n",
    "    validation_data = val_generator,\n",
    "    epochs = 500,\n",
    "    shuffle=False,\n",
    "    callbacks=callbacks\n",
    ").history"
   ]
  },
  {
   "cell_type": "code",
   "execution_count": 43,
   "metadata": {
    "pycharm": {
     "name": "#%%\n"
    }
   },
   "outputs": [
    {
     "name": "stdout",
     "output_type": "stream",
     "text": [
      "Dec17_10-02-13\n",
      "ResLSTM_Dec17_10-02-13\n"
     ]
    }
   ],
   "source": [
    "model = build_model((36,6), classes)\n",
    "generator=AugmentDataGenerator(X_train_KF[3],y_train_KF[3],p=0.5)\n",
    "val_generator=AugmentDataGenerator(X_val_KF[3],y_val_KF[3],p=0)\n",
    "callbacks, date = create_folders_and_callbacks(foldermode)\n",
    "foldername = foldermode + '_' + str(date)\n",
    "print(foldername)"
   ]
  },
  {
   "cell_type": "code",
   "execution_count": 44,
   "metadata": {
    "pycharm": {
     "name": "#%%\n"
    }
   },
   "outputs": [
    {
     "name": "stdout",
     "output_type": "stream",
     "text": [
      "Epoch 1/500\n",
      "180/181 [============================>.] - ETA: 0s - loss: 1.5592 - accuracy: 0.4691"
     ]
    },
    {
     "name": "stderr",
     "output_type": "stream",
     "text": [
      "WARNING:absl:Function `_wrapped_model` contains input name(s) Input with unsupported characters which will be renamed to input in the SavedModel.\n",
      "WARNING:absl:Found untraced functions such as lstm_cell_46_layer_call_fn, lstm_cell_46_layer_call_and_return_conditional_losses, lstm_cell_47_layer_call_fn, lstm_cell_47_layer_call_and_return_conditional_losses, lstm_cell_49_layer_call_fn while saving (showing 5 of 20). These functions will not be directly callable after loading.\n"
     ]
    },
    {
     "name": "stdout",
     "output_type": "stream",
     "text": [
      "INFO:tensorflow:Assets written to: experiments\\ResLSTM_Dec17_10-02-13\\base_ckpts\\cp_01.ckpt\\assets\n"
     ]
    },
    {
     "name": "stderr",
     "output_type": "stream",
     "text": [
      "INFO:tensorflow:Assets written to: experiments\\ResLSTM_Dec17_10-02-13\\base_ckpts\\cp_01.ckpt\\assets\n"
     ]
    },
    {
     "name": "stdout",
     "output_type": "stream",
     "text": [
      "181/181 [==============================] - 102s 499ms/step - loss: 1.5589 - accuracy: 0.4692 - val_loss: 1.2433 - val_accuracy: 0.5825\n",
      "Epoch 2/500\n",
      "180/181 [============================>.] - ETA: 0s - loss: 1.3439 - accuracy: 0.5336"
     ]
    },
    {
     "name": "stderr",
     "output_type": "stream",
     "text": [
      "WARNING:absl:Function `_wrapped_model` contains input name(s) Input with unsupported characters which will be renamed to input in the SavedModel.\n",
      "WARNING:absl:Found untraced functions such as lstm_cell_46_layer_call_fn, lstm_cell_46_layer_call_and_return_conditional_losses, lstm_cell_47_layer_call_fn, lstm_cell_47_layer_call_and_return_conditional_losses, lstm_cell_49_layer_call_fn while saving (showing 5 of 20). These functions will not be directly callable after loading.\n"
     ]
    },
    {
     "name": "stdout",
     "output_type": "stream",
     "text": [
      "INFO:tensorflow:Assets written to: experiments\\ResLSTM_Dec17_10-02-13\\base_ckpts\\cp_02.ckpt\\assets\n"
     ]
    },
    {
     "name": "stderr",
     "output_type": "stream",
     "text": [
      "INFO:tensorflow:Assets written to: experiments\\ResLSTM_Dec17_10-02-13\\base_ckpts\\cp_02.ckpt\\assets\n"
     ]
    },
    {
     "name": "stdout",
     "output_type": "stream",
     "text": [
      "181/181 [==============================] - 86s 477ms/step - loss: 1.3441 - accuracy: 0.5334 - val_loss: 1.1445 - val_accuracy: 0.6117\n",
      "Epoch 3/500\n",
      "180/181 [============================>.] - ETA: 0s - loss: 1.2725 - accuracy: 0.5540"
     ]
    },
    {
     "name": "stderr",
     "output_type": "stream",
     "text": [
      "WARNING:absl:Function `_wrapped_model` contains input name(s) Input with unsupported characters which will be renamed to input in the SavedModel.\n",
      "WARNING:absl:Found untraced functions such as lstm_cell_46_layer_call_fn, lstm_cell_46_layer_call_and_return_conditional_losses, lstm_cell_47_layer_call_fn, lstm_cell_47_layer_call_and_return_conditional_losses, lstm_cell_49_layer_call_fn while saving (showing 5 of 20). These functions will not be directly callable after loading.\n"
     ]
    },
    {
     "name": "stdout",
     "output_type": "stream",
     "text": [
      "INFO:tensorflow:Assets written to: experiments\\ResLSTM_Dec17_10-02-13\\base_ckpts\\cp_03.ckpt\\assets\n"
     ]
    },
    {
     "name": "stderr",
     "output_type": "stream",
     "text": [
      "INFO:tensorflow:Assets written to: experiments\\ResLSTM_Dec17_10-02-13\\base_ckpts\\cp_03.ckpt\\assets\n"
     ]
    },
    {
     "name": "stdout",
     "output_type": "stream",
     "text": [
      "181/181 [==============================] - 86s 476ms/step - loss: 1.2722 - accuracy: 0.5541 - val_loss: 1.0954 - val_accuracy: 0.6180\n",
      "Epoch 4/500\n",
      "181/181 [==============================] - 15s 82ms/step - loss: 1.2123 - accuracy: 0.5728 - val_loss: 1.0816 - val_accuracy: 0.6054\n",
      "Epoch 5/500\n",
      "180/181 [============================>.] - ETA: 0s - loss: 1.2050 - accuracy: 0.5753"
     ]
    },
    {
     "name": "stderr",
     "output_type": "stream",
     "text": [
      "WARNING:absl:Function `_wrapped_model` contains input name(s) Input with unsupported characters which will be renamed to input in the SavedModel.\n",
      "WARNING:absl:Found untraced functions such as lstm_cell_46_layer_call_fn, lstm_cell_46_layer_call_and_return_conditional_losses, lstm_cell_47_layer_call_fn, lstm_cell_47_layer_call_and_return_conditional_losses, lstm_cell_49_layer_call_fn while saving (showing 5 of 20). These functions will not be directly callable after loading.\n"
     ]
    },
    {
     "name": "stdout",
     "output_type": "stream",
     "text": [
      "INFO:tensorflow:Assets written to: experiments\\ResLSTM_Dec17_10-02-13\\base_ckpts\\cp_05.ckpt\\assets\n"
     ]
    },
    {
     "name": "stderr",
     "output_type": "stream",
     "text": [
      "INFO:tensorflow:Assets written to: experiments\\ResLSTM_Dec17_10-02-13\\base_ckpts\\cp_05.ckpt\\assets\n"
     ]
    },
    {
     "name": "stdout",
     "output_type": "stream",
     "text": [
      "181/181 [==============================] - 86s 477ms/step - loss: 1.2046 - accuracy: 0.5755 - val_loss: 1.0324 - val_accuracy: 0.6284\n",
      "Epoch 6/500\n",
      "180/181 [============================>.] - ETA: 0s - loss: 1.1530 - accuracy: 0.5916"
     ]
    },
    {
     "name": "stderr",
     "output_type": "stream",
     "text": [
      "WARNING:absl:Function `_wrapped_model` contains input name(s) Input with unsupported characters which will be renamed to input in the SavedModel.\n",
      "WARNING:absl:Found untraced functions such as lstm_cell_46_layer_call_fn, lstm_cell_46_layer_call_and_return_conditional_losses, lstm_cell_47_layer_call_fn, lstm_cell_47_layer_call_and_return_conditional_losses, lstm_cell_49_layer_call_fn while saving (showing 5 of 20). These functions will not be directly callable after loading.\n"
     ]
    },
    {
     "name": "stdout",
     "output_type": "stream",
     "text": [
      "INFO:tensorflow:Assets written to: experiments\\ResLSTM_Dec17_10-02-13\\base_ckpts\\cp_06.ckpt\\assets\n"
     ]
    },
    {
     "name": "stderr",
     "output_type": "stream",
     "text": [
      "INFO:tensorflow:Assets written to: experiments\\ResLSTM_Dec17_10-02-13\\base_ckpts\\cp_06.ckpt\\assets\n"
     ]
    },
    {
     "name": "stdout",
     "output_type": "stream",
     "text": [
      "181/181 [==============================] - 86s 478ms/step - loss: 1.1529 - accuracy: 0.5916 - val_loss: 1.0376 - val_accuracy: 0.6388\n",
      "Epoch 7/500\n",
      "180/181 [============================>.] - ETA: 0s - loss: 1.1377 - accuracy: 0.5966"
     ]
    },
    {
     "name": "stderr",
     "output_type": "stream",
     "text": [
      "WARNING:absl:Function `_wrapped_model` contains input name(s) Input with unsupported characters which will be renamed to input in the SavedModel.\n",
      "WARNING:absl:Found untraced functions such as lstm_cell_46_layer_call_fn, lstm_cell_46_layer_call_and_return_conditional_losses, lstm_cell_47_layer_call_fn, lstm_cell_47_layer_call_and_return_conditional_losses, lstm_cell_49_layer_call_fn while saving (showing 5 of 20). These functions will not be directly callable after loading.\n"
     ]
    },
    {
     "name": "stdout",
     "output_type": "stream",
     "text": [
      "INFO:tensorflow:Assets written to: experiments\\ResLSTM_Dec17_10-02-13\\base_ckpts\\cp_07.ckpt\\assets\n"
     ]
    },
    {
     "name": "stderr",
     "output_type": "stream",
     "text": [
      "INFO:tensorflow:Assets written to: experiments\\ResLSTM_Dec17_10-02-13\\base_ckpts\\cp_07.ckpt\\assets\n"
     ]
    },
    {
     "name": "stdout",
     "output_type": "stream",
     "text": [
      "181/181 [==============================] - 84s 467ms/step - loss: 1.1379 - accuracy: 0.5965 - val_loss: 1.0230 - val_accuracy: 0.6430\n",
      "Epoch 8/500\n",
      "180/181 [============================>.] - ETA: 0s - loss: 1.1171 - accuracy: 0.6040"
     ]
    },
    {
     "name": "stderr",
     "output_type": "stream",
     "text": [
      "WARNING:absl:Function `_wrapped_model` contains input name(s) Input with unsupported characters which will be renamed to input in the SavedModel.\n",
      "WARNING:absl:Found untraced functions such as lstm_cell_46_layer_call_fn, lstm_cell_46_layer_call_and_return_conditional_losses, lstm_cell_47_layer_call_fn, lstm_cell_47_layer_call_and_return_conditional_losses, lstm_cell_49_layer_call_fn while saving (showing 5 of 20). These functions will not be directly callable after loading.\n"
     ]
    },
    {
     "name": "stdout",
     "output_type": "stream",
     "text": [
      "INFO:tensorflow:Assets written to: experiments\\ResLSTM_Dec17_10-02-13\\base_ckpts\\cp_08.ckpt\\assets\n"
     ]
    },
    {
     "name": "stderr",
     "output_type": "stream",
     "text": [
      "INFO:tensorflow:Assets written to: experiments\\ResLSTM_Dec17_10-02-13\\base_ckpts\\cp_08.ckpt\\assets\n"
     ]
    },
    {
     "name": "stdout",
     "output_type": "stream",
     "text": [
      "181/181 [==============================] - 87s 480ms/step - loss: 1.1172 - accuracy: 0.6039 - val_loss: 0.9836 - val_accuracy: 0.6555\n",
      "Epoch 9/500\n",
      "181/181 [==============================] - 15s 79ms/step - loss: 1.1052 - accuracy: 0.6080 - val_loss: 1.0096 - val_accuracy: 0.6472\n",
      "Epoch 10/500\n",
      "180/181 [============================>.] - ETA: 0s - loss: 1.0924 - accuracy: 0.6156"
     ]
    },
    {
     "name": "stderr",
     "output_type": "stream",
     "text": [
      "WARNING:absl:Function `_wrapped_model` contains input name(s) Input with unsupported characters which will be renamed to input in the SavedModel.\n",
      "WARNING:absl:Found untraced functions such as lstm_cell_46_layer_call_fn, lstm_cell_46_layer_call_and_return_conditional_losses, lstm_cell_47_layer_call_fn, lstm_cell_47_layer_call_and_return_conditional_losses, lstm_cell_49_layer_call_fn while saving (showing 5 of 20). These functions will not be directly callable after loading.\n"
     ]
    },
    {
     "name": "stdout",
     "output_type": "stream",
     "text": [
      "INFO:tensorflow:Assets written to: experiments\\ResLSTM_Dec17_10-02-13\\base_ckpts\\cp_10.ckpt\\assets\n"
     ]
    },
    {
     "name": "stderr",
     "output_type": "stream",
     "text": [
      "INFO:tensorflow:Assets written to: experiments\\ResLSTM_Dec17_10-02-13\\base_ckpts\\cp_10.ckpt\\assets\n"
     ]
    },
    {
     "name": "stdout",
     "output_type": "stream",
     "text": [
      "181/181 [==============================] - 85s 471ms/step - loss: 1.0923 - accuracy: 0.6156 - val_loss: 0.9620 - val_accuracy: 0.6827\n",
      "Epoch 11/500\n",
      "181/181 [==============================] - 15s 81ms/step - loss: 1.0833 - accuracy: 0.6150 - val_loss: 0.9586 - val_accuracy: 0.6764\n",
      "Epoch 12/500\n",
      "181/181 [==============================] - 15s 81ms/step - loss: 1.0726 - accuracy: 0.6206 - val_loss: 0.9911 - val_accuracy: 0.6597\n",
      "Epoch 13/500\n",
      "181/181 [==============================] - 15s 82ms/step - loss: 1.0501 - accuracy: 0.6295 - val_loss: 0.9324 - val_accuracy: 0.6764\n",
      "Epoch 14/500\n",
      "180/181 [============================>.] - ETA: 0s - loss: 1.0416 - accuracy: 0.6293"
     ]
    },
    {
     "name": "stderr",
     "output_type": "stream",
     "text": [
      "WARNING:absl:Function `_wrapped_model` contains input name(s) Input with unsupported characters which will be renamed to input in the SavedModel.\n",
      "WARNING:absl:Found untraced functions such as lstm_cell_46_layer_call_fn, lstm_cell_46_layer_call_and_return_conditional_losses, lstm_cell_47_layer_call_fn, lstm_cell_47_layer_call_and_return_conditional_losses, lstm_cell_49_layer_call_fn while saving (showing 5 of 20). These functions will not be directly callable after loading.\n"
     ]
    },
    {
     "name": "stdout",
     "output_type": "stream",
     "text": [
      "INFO:tensorflow:Assets written to: experiments\\ResLSTM_Dec17_10-02-13\\base_ckpts\\cp_14.ckpt\\assets\n"
     ]
    },
    {
     "name": "stderr",
     "output_type": "stream",
     "text": [
      "INFO:tensorflow:Assets written to: experiments\\ResLSTM_Dec17_10-02-13\\base_ckpts\\cp_14.ckpt\\assets\n"
     ]
    },
    {
     "name": "stdout",
     "output_type": "stream",
     "text": [
      "181/181 [==============================] - 87s 481ms/step - loss: 1.0416 - accuracy: 0.6292 - val_loss: 0.9529 - val_accuracy: 0.6868\n",
      "Epoch 15/500\n",
      "181/181 [==============================] - 15s 80ms/step - loss: 1.0502 - accuracy: 0.6258 - val_loss: 0.9716 - val_accuracy: 0.6639\n",
      "Epoch 16/500\n",
      "181/181 [==============================] - 14s 80ms/step - loss: 1.0474 - accuracy: 0.6302 - val_loss: 1.0053 - val_accuracy: 0.6618\n",
      "Epoch 17/500\n",
      "180/181 [============================>.] - ETA: 0s - loss: 1.0213 - accuracy: 0.6405"
     ]
    },
    {
     "name": "stderr",
     "output_type": "stream",
     "text": [
      "WARNING:absl:Function `_wrapped_model` contains input name(s) Input with unsupported characters which will be renamed to input in the SavedModel.\n",
      "WARNING:absl:Found untraced functions such as lstm_cell_46_layer_call_fn, lstm_cell_46_layer_call_and_return_conditional_losses, lstm_cell_47_layer_call_fn, lstm_cell_47_layer_call_and_return_conditional_losses, lstm_cell_49_layer_call_fn while saving (showing 5 of 20). These functions will not be directly callable after loading.\n"
     ]
    },
    {
     "name": "stdout",
     "output_type": "stream",
     "text": [
      "INFO:tensorflow:Assets written to: experiments\\ResLSTM_Dec17_10-02-13\\base_ckpts\\cp_17.ckpt\\assets\n"
     ]
    },
    {
     "name": "stderr",
     "output_type": "stream",
     "text": [
      "INFO:tensorflow:Assets written to: experiments\\ResLSTM_Dec17_10-02-13\\base_ckpts\\cp_17.ckpt\\assets\n"
     ]
    },
    {
     "name": "stdout",
     "output_type": "stream",
     "text": [
      "181/181 [==============================] - 85s 474ms/step - loss: 1.0215 - accuracy: 0.6403 - val_loss: 0.8956 - val_accuracy: 0.7015\n",
      "Epoch 18/500\n",
      "181/181 [==============================] - 15s 81ms/step - loss: 1.0257 - accuracy: 0.6340 - val_loss: 0.8946 - val_accuracy: 0.6952\n",
      "Epoch 19/500\n",
      "181/181 [==============================] - 15s 81ms/step - loss: 1.0137 - accuracy: 0.6407 - val_loss: 0.9222 - val_accuracy: 0.6827\n",
      "Epoch 20/500\n",
      "181/181 [==============================] - 15s 81ms/step - loss: 1.0074 - accuracy: 0.6455 - val_loss: 0.9310 - val_accuracy: 0.6889\n",
      "Epoch 21/500\n",
      "181/181 [==============================] - 15s 81ms/step - loss: 0.9862 - accuracy: 0.6502 - val_loss: 0.8960 - val_accuracy: 0.6889\n",
      "Epoch 22/500\n",
      "181/181 [==============================] - 15s 81ms/step - loss: 0.9898 - accuracy: 0.6481 - val_loss: 0.9183 - val_accuracy: 0.6910\n",
      "Epoch 23/500\n",
      "181/181 [==============================] - 15s 81ms/step - loss: 0.9759 - accuracy: 0.6499 - val_loss: 0.8906 - val_accuracy: 0.6973\n",
      "Epoch 24/500\n",
      "181/181 [==============================] - 15s 82ms/step - loss: 0.9821 - accuracy: 0.6469 - val_loss: 0.8985 - val_accuracy: 0.6952\n",
      "Epoch 25/500\n",
      "181/181 [==============================] - 15s 82ms/step - loss: 0.9572 - accuracy: 0.6582 - val_loss: 0.9201 - val_accuracy: 0.6994\n",
      "Epoch 26/500\n",
      "181/181 [==============================] - 15s 82ms/step - loss: 0.9644 - accuracy: 0.6579 - val_loss: 0.8986 - val_accuracy: 0.7015\n",
      "Epoch 27/500\n",
      "181/181 [==============================] - 15s 82ms/step - loss: 0.9602 - accuracy: 0.6595 - val_loss: 0.9047 - val_accuracy: 0.6785\n",
      "Epoch 28/500\n",
      "181/181 [==============================] - 15s 81ms/step - loss: 0.9545 - accuracy: 0.6600 - val_loss: 0.9022 - val_accuracy: 0.6910\n",
      "Epoch 29/500\n",
      "181/181 [==============================] - 15s 81ms/step - loss: 0.9400 - accuracy: 0.6632 - val_loss: 0.8953 - val_accuracy: 0.6952\n",
      "Epoch 30/500\n",
      "180/181 [============================>.] - ETA: 0s - loss: 0.9349 - accuracy: 0.6699"
     ]
    },
    {
     "name": "stderr",
     "output_type": "stream",
     "text": [
      "WARNING:absl:Function `_wrapped_model` contains input name(s) Input with unsupported characters which will be renamed to input in the SavedModel.\n",
      "WARNING:absl:Found untraced functions such as lstm_cell_46_layer_call_fn, lstm_cell_46_layer_call_and_return_conditional_losses, lstm_cell_47_layer_call_fn, lstm_cell_47_layer_call_and_return_conditional_losses, lstm_cell_49_layer_call_fn while saving (showing 5 of 20). These functions will not be directly callable after loading.\n"
     ]
    },
    {
     "name": "stdout",
     "output_type": "stream",
     "text": [
      "INFO:tensorflow:Assets written to: experiments\\ResLSTM_Dec17_10-02-13\\base_ckpts\\cp_30.ckpt\\assets\n"
     ]
    },
    {
     "name": "stderr",
     "output_type": "stream",
     "text": [
      "INFO:tensorflow:Assets written to: experiments\\ResLSTM_Dec17_10-02-13\\base_ckpts\\cp_30.ckpt\\assets\n"
     ]
    },
    {
     "name": "stdout",
     "output_type": "stream",
     "text": [
      "181/181 [==============================] - 86s 475ms/step - loss: 0.9347 - accuracy: 0.6700 - val_loss: 0.8816 - val_accuracy: 0.7140\n",
      "Epoch 31/500\n",
      "181/181 [==============================] - 15s 81ms/step - loss: 0.9229 - accuracy: 0.6732 - val_loss: 0.9514 - val_accuracy: 0.6597\n",
      "Epoch 32/500\n",
      "181/181 [==============================] - 15s 81ms/step - loss: 0.9397 - accuracy: 0.6672 - val_loss: 0.9151 - val_accuracy: 0.6722\n",
      "Epoch 33/500\n",
      "181/181 [==============================] - 15s 80ms/step - loss: 0.9210 - accuracy: 0.6743 - val_loss: 0.9041 - val_accuracy: 0.6952\n",
      "Epoch 34/500\n",
      "181/181 [==============================] - 15s 81ms/step - loss: 0.9095 - accuracy: 0.6797 - val_loss: 0.8993 - val_accuracy: 0.6994\n",
      "Epoch 35/500\n",
      "181/181 [==============================] - 15s 81ms/step - loss: 0.9268 - accuracy: 0.6736 - val_loss: 0.9138 - val_accuracy: 0.6827\n",
      "Epoch 36/500\n",
      "181/181 [==============================] - 15s 81ms/step - loss: 0.9185 - accuracy: 0.6778 - val_loss: 0.8843 - val_accuracy: 0.6931\n",
      "Epoch 37/500\n",
      "181/181 [==============================] - 15s 81ms/step - loss: 0.8957 - accuracy: 0.6810 - val_loss: 1.0123 - val_accuracy: 0.6597\n",
      "Epoch 38/500\n",
      "181/181 [==============================] - 15s 81ms/step - loss: 0.9075 - accuracy: 0.6792 - val_loss: 0.9369 - val_accuracy: 0.6785\n",
      "Epoch 39/500\n",
      "180/181 [============================>.] - ETA: 0s - loss: 0.8852 - accuracy: 0.6825"
     ]
    },
    {
     "name": "stderr",
     "output_type": "stream",
     "text": [
      "WARNING:absl:Function `_wrapped_model` contains input name(s) Input with unsupported characters which will be renamed to input in the SavedModel.\n",
      "WARNING:absl:Found untraced functions such as lstm_cell_46_layer_call_fn, lstm_cell_46_layer_call_and_return_conditional_losses, lstm_cell_47_layer_call_fn, lstm_cell_47_layer_call_and_return_conditional_losses, lstm_cell_49_layer_call_fn while saving (showing 5 of 20). These functions will not be directly callable after loading.\n"
     ]
    },
    {
     "name": "stdout",
     "output_type": "stream",
     "text": [
      "INFO:tensorflow:Assets written to: experiments\\ResLSTM_Dec17_10-02-13\\base_ckpts\\cp_39.ckpt\\assets\n"
     ]
    },
    {
     "name": "stderr",
     "output_type": "stream",
     "text": [
      "INFO:tensorflow:Assets written to: experiments\\ResLSTM_Dec17_10-02-13\\base_ckpts\\cp_39.ckpt\\assets\n"
     ]
    },
    {
     "name": "stdout",
     "output_type": "stream",
     "text": [
      "181/181 [==============================] - 85s 473ms/step - loss: 0.8855 - accuracy: 0.6824 - val_loss: 0.8873 - val_accuracy: 0.7265\n",
      "Epoch 40/500\n",
      "181/181 [==============================] - 15s 81ms/step - loss: 0.8857 - accuracy: 0.6878 - val_loss: 0.8878 - val_accuracy: 0.7203\n",
      "Epoch 41/500\n",
      "181/181 [==============================] - 15s 81ms/step - loss: 0.8792 - accuracy: 0.6886 - val_loss: 0.8970 - val_accuracy: 0.6848\n",
      "Epoch 42/500\n",
      "181/181 [==============================] - 15s 80ms/step - loss: 0.8920 - accuracy: 0.6847 - val_loss: 0.8962 - val_accuracy: 0.6973\n",
      "Epoch 43/500\n",
      "181/181 [==============================] - 15s 80ms/step - loss: 0.8804 - accuracy: 0.6878 - val_loss: 0.9096 - val_accuracy: 0.7056\n",
      "Epoch 44/500\n",
      "181/181 [==============================] - 15s 80ms/step - loss: 0.8775 - accuracy: 0.6915 - val_loss: 0.8843 - val_accuracy: 0.7015\n",
      "Epoch 45/500\n",
      "181/181 [==============================] - 15s 81ms/step - loss: 0.8616 - accuracy: 0.6931 - val_loss: 0.9194 - val_accuracy: 0.6952\n",
      "Epoch 46/500\n",
      "181/181 [==============================] - 15s 81ms/step - loss: 0.8592 - accuracy: 0.6976 - val_loss: 0.9002 - val_accuracy: 0.6973\n",
      "Epoch 47/500\n",
      "181/181 [==============================] - 14s 80ms/step - loss: 0.8649 - accuracy: 0.6924 - val_loss: 0.8967 - val_accuracy: 0.7098\n",
      "Epoch 48/500\n",
      "181/181 [==============================] - 15s 81ms/step - loss: 0.8506 - accuracy: 0.7024 - val_loss: 1.0070 - val_accuracy: 0.6701\n",
      "Epoch 49/500\n",
      "181/181 [==============================] - 15s 81ms/step - loss: 0.8667 - accuracy: 0.6951 - val_loss: 0.9026 - val_accuracy: 0.7056\n",
      "Epoch 50/500\n",
      "181/181 [==============================] - 15s 81ms/step - loss: 0.8587 - accuracy: 0.6944 - val_loss: 0.9207 - val_accuracy: 0.6931\n",
      "Epoch 51/500\n",
      "181/181 [==============================] - 15s 81ms/step - loss: 0.8505 - accuracy: 0.7018 - val_loss: 0.9635 - val_accuracy: 0.6931\n",
      "Epoch 52/500\n",
      "181/181 [==============================] - 15s 81ms/step - loss: 0.8441 - accuracy: 0.7030 - val_loss: 0.9754 - val_accuracy: 0.6785\n",
      "Epoch 53/500\n",
      "181/181 [==============================] - 15s 81ms/step - loss: 0.8498 - accuracy: 0.7033 - val_loss: 0.9169 - val_accuracy: 0.6910\n",
      "Epoch 54/500\n",
      "181/181 [==============================] - 15s 81ms/step - loss: 0.8337 - accuracy: 0.7052 - val_loss: 0.9671 - val_accuracy: 0.6764\n",
      "Epoch 55/500\n",
      "181/181 [==============================] - 15s 80ms/step - loss: 0.8268 - accuracy: 0.7088 - val_loss: 0.9210 - val_accuracy: 0.7140\n",
      "Epoch 56/500\n",
      "181/181 [==============================] - 15s 82ms/step - loss: 0.8183 - accuracy: 0.7126 - val_loss: 0.9859 - val_accuracy: 0.7119\n",
      "Epoch 57/500\n",
      "181/181 [==============================] - 15s 81ms/step - loss: 0.8219 - accuracy: 0.7079 - val_loss: 0.9621 - val_accuracy: 0.6952\n",
      "Epoch 58/500\n",
      "181/181 [==============================] - 15s 81ms/step - loss: 0.8243 - accuracy: 0.7097 - val_loss: 0.9471 - val_accuracy: 0.7015\n",
      "Epoch 59/500\n",
      "181/181 [==============================] - 15s 81ms/step - loss: 0.8303 - accuracy: 0.7054 - val_loss: 0.9789 - val_accuracy: 0.6868\n",
      "Epoch 60/500\n",
      "181/181 [==============================] - 15s 81ms/step - loss: 0.8182 - accuracy: 0.7069 - val_loss: 0.9724 - val_accuracy: 0.6785\n",
      "Epoch 61/500\n",
      "181/181 [==============================] - 15s 81ms/step - loss: 0.8163 - accuracy: 0.7123 - val_loss: 0.9584 - val_accuracy: 0.6931\n",
      "Epoch 62/500\n",
      "181/181 [==============================] - 15s 81ms/step - loss: 0.8210 - accuracy: 0.7118 - val_loss: 0.9806 - val_accuracy: 0.6722\n",
      "Epoch 63/500\n",
      "181/181 [==============================] - 15s 81ms/step - loss: 0.8105 - accuracy: 0.7123 - val_loss: 0.9587 - val_accuracy: 0.7182\n",
      "Epoch 64/500\n",
      "181/181 [==============================] - 15s 81ms/step - loss: 0.8084 - accuracy: 0.7168 - val_loss: 1.0266 - val_accuracy: 0.6889\n",
      "Epoch 65/500\n",
      "181/181 [==============================] - 15s 81ms/step - loss: 0.7976 - accuracy: 0.7165 - val_loss: 0.9834 - val_accuracy: 0.6973\n",
      "Epoch 66/500\n",
      "181/181 [==============================] - 15s 82ms/step - loss: 0.8106 - accuracy: 0.7132 - val_loss: 0.9900 - val_accuracy: 0.6827\n",
      "Epoch 67/500\n",
      "181/181 [==============================] - 15s 81ms/step - loss: 0.8075 - accuracy: 0.7132 - val_loss: 0.9703 - val_accuracy: 0.6785\n",
      "Epoch 68/500\n",
      "181/181 [==============================] - 15s 81ms/step - loss: 0.8076 - accuracy: 0.7161 - val_loss: 0.9946 - val_accuracy: 0.6743\n",
      "Epoch 69/500\n",
      "181/181 [==============================] - 15s 81ms/step - loss: 0.8077 - accuracy: 0.7153 - val_loss: 0.9206 - val_accuracy: 0.7056\n",
      "Epoch 70/500\n",
      "181/181 [==============================] - 15s 81ms/step - loss: 0.7992 - accuracy: 0.7213 - val_loss: 0.9776 - val_accuracy: 0.6931\n",
      "Epoch 71/500\n",
      "181/181 [==============================] - 15s 81ms/step - loss: 0.7914 - accuracy: 0.7209 - val_loss: 1.0005 - val_accuracy: 0.6743\n",
      "Epoch 72/500\n",
      "181/181 [==============================] - 15s 81ms/step - loss: 0.7884 - accuracy: 0.7230 - val_loss: 1.0113 - val_accuracy: 0.6806\n",
      "Epoch 73/500\n",
      "181/181 [==============================] - 15s 81ms/step - loss: 0.7779 - accuracy: 0.7226 - val_loss: 0.9946 - val_accuracy: 0.6868\n",
      "Epoch 74/500\n",
      "181/181 [==============================] - 15s 81ms/step - loss: 0.7785 - accuracy: 0.7275 - val_loss: 0.9794 - val_accuracy: 0.7098\n",
      "Epoch 75/500\n",
      "181/181 [==============================] - 15s 80ms/step - loss: 0.7861 - accuracy: 0.7234 - val_loss: 0.9841 - val_accuracy: 0.6910\n",
      "Epoch 76/500\n",
      "181/181 [==============================] - 15s 80ms/step - loss: 0.7706 - accuracy: 0.7274 - val_loss: 0.9952 - val_accuracy: 0.6910\n",
      "Epoch 77/500\n",
      "181/181 [==============================] - 15s 82ms/step - loss: 0.7756 - accuracy: 0.7282 - val_loss: 1.0185 - val_accuracy: 0.6827\n",
      "Epoch 78/500\n",
      "181/181 [==============================] - 15s 81ms/step - loss: 0.7783 - accuracy: 0.7279 - val_loss: 1.0693 - val_accuracy: 0.6806\n",
      "Epoch 79/500\n",
      "181/181 [==============================] - 15s 81ms/step - loss: 0.7702 - accuracy: 0.7279 - val_loss: 0.9864 - val_accuracy: 0.6931\n",
      "Epoch 80/500\n",
      "181/181 [==============================] - 15s 81ms/step - loss: 0.7760 - accuracy: 0.7299 - val_loss: 0.9573 - val_accuracy: 0.7015\n",
      "Epoch 81/500\n",
      "181/181 [==============================] - 15s 81ms/step - loss: 0.7624 - accuracy: 0.7333 - val_loss: 1.0075 - val_accuracy: 0.6827\n",
      "Epoch 82/500\n",
      "181/181 [==============================] - 15s 81ms/step - loss: 0.7710 - accuracy: 0.7308 - val_loss: 1.0224 - val_accuracy: 0.6931\n",
      "Epoch 83/500\n",
      "181/181 [==============================] - 15s 81ms/step - loss: 0.7646 - accuracy: 0.7275 - val_loss: 1.0453 - val_accuracy: 0.6848\n",
      "Epoch 84/500\n",
      "181/181 [==============================] - 15s 81ms/step - loss: 0.7517 - accuracy: 0.7336 - val_loss: 1.0436 - val_accuracy: 0.6910\n",
      "Epoch 85/500\n",
      "181/181 [==============================] - 15s 81ms/step - loss: 0.7591 - accuracy: 0.7312 - val_loss: 1.0341 - val_accuracy: 0.6868\n",
      "Epoch 86/500\n",
      "181/181 [==============================] - 15s 81ms/step - loss: 0.7636 - accuracy: 0.7318 - val_loss: 0.9474 - val_accuracy: 0.6994\n",
      "Epoch 87/500\n",
      "181/181 [==============================] - 15s 81ms/step - loss: 0.7553 - accuracy: 0.7359 - val_loss: 0.9856 - val_accuracy: 0.6952\n",
      "Epoch 88/500\n",
      "181/181 [==============================] - 15s 81ms/step - loss: 0.7315 - accuracy: 0.7431 - val_loss: 1.0619 - val_accuracy: 0.6618\n",
      "Epoch 89/500\n",
      "181/181 [==============================] - 15s 81ms/step - loss: 0.7379 - accuracy: 0.7386 - val_loss: 0.9689 - val_accuracy: 0.7098\n",
      "Epoch 90/500\n",
      "181/181 [==============================] - 15s 82ms/step - loss: 0.7435 - accuracy: 0.7394 - val_loss: 1.0211 - val_accuracy: 0.6889\n",
      "Epoch 91/500\n",
      "181/181 [==============================] - 15s 84ms/step - loss: 0.7377 - accuracy: 0.7386 - val_loss: 0.9877 - val_accuracy: 0.6952\n",
      "Epoch 92/500\n",
      "181/181 [==============================] - 15s 84ms/step - loss: 0.7414 - accuracy: 0.7376 - val_loss: 1.0251 - val_accuracy: 0.6785\n",
      "Epoch 93/500\n",
      "181/181 [==============================] - 15s 84ms/step - loss: 0.7475 - accuracy: 0.7316 - val_loss: 1.0406 - val_accuracy: 0.6910\n",
      "Epoch 94/500\n",
      "181/181 [==============================] - 15s 83ms/step - loss: 0.7338 - accuracy: 0.7401 - val_loss: 0.9925 - val_accuracy: 0.6994\n",
      "Epoch 95/500\n",
      "181/181 [==============================] - 15s 84ms/step - loss: 0.7434 - accuracy: 0.7330 - val_loss: 1.0088 - val_accuracy: 0.7015\n",
      "Epoch 96/500\n",
      "181/181 [==============================] - 15s 84ms/step - loss: 0.7304 - accuracy: 0.7412 - val_loss: 1.0184 - val_accuracy: 0.7056\n",
      "Epoch 97/500\n",
      "181/181 [==============================] - 15s 84ms/step - loss: 0.7506 - accuracy: 0.7364 - val_loss: 1.0715 - val_accuracy: 0.6973\n",
      "Epoch 98/500\n",
      "181/181 [==============================] - 15s 83ms/step - loss: 0.7464 - accuracy: 0.7354 - val_loss: 1.0597 - val_accuracy: 0.6910\n",
      "Epoch 99/500\n",
      "181/181 [==============================] - 15s 83ms/step - loss: 0.7308 - accuracy: 0.7367 - val_loss: 1.0042 - val_accuracy: 0.7140\n",
      "Epoch 100/500\n",
      "181/181 [==============================] - 15s 83ms/step - loss: 0.7405 - accuracy: 0.7372 - val_loss: 1.0762 - val_accuracy: 0.6994\n",
      "Epoch 101/500\n",
      "181/181 [==============================] - 15s 84ms/step - loss: 0.7449 - accuracy: 0.7338 - val_loss: 1.0199 - val_accuracy: 0.6931\n",
      "Epoch 102/500\n",
      "181/181 [==============================] - 15s 83ms/step - loss: 0.7259 - accuracy: 0.7414 - val_loss: 1.0332 - val_accuracy: 0.6848\n",
      "Epoch 103/500\n",
      "181/181 [==============================] - 15s 83ms/step - loss: 0.7227 - accuracy: 0.7402 - val_loss: 1.0510 - val_accuracy: 0.6931\n",
      "Epoch 104/500\n",
      "181/181 [==============================] - 15s 82ms/step - loss: 0.7248 - accuracy: 0.7431 - val_loss: 1.0114 - val_accuracy: 0.6868\n",
      "Epoch 105/500\n",
      "181/181 [==============================] - 15s 82ms/step - loss: 0.7195 - accuracy: 0.7446 - val_loss: 1.0100 - val_accuracy: 0.6952\n",
      "Epoch 106/500\n",
      "181/181 [==============================] - 15s 84ms/step - loss: 0.7337 - accuracy: 0.7389 - val_loss: 0.9838 - val_accuracy: 0.7035\n",
      "Epoch 107/500\n",
      "181/181 [==============================] - 15s 82ms/step - loss: 0.7080 - accuracy: 0.7481 - val_loss: 1.0002 - val_accuracy: 0.7035\n",
      "Epoch 108/500\n",
      "181/181 [==============================] - 15s 83ms/step - loss: 0.7189 - accuracy: 0.7483 - val_loss: 1.0794 - val_accuracy: 0.6889\n",
      "Epoch 109/500\n",
      "181/181 [==============================] - 15s 82ms/step - loss: 0.7167 - accuracy: 0.7452 - val_loss: 1.0023 - val_accuracy: 0.7035\n",
      "Epoch 110/500\n",
      "181/181 [==============================] - 15s 82ms/step - loss: 0.7036 - accuracy: 0.7485 - val_loss: 1.0172 - val_accuracy: 0.6973\n",
      "Epoch 111/500\n",
      "181/181 [==============================] - 15s 81ms/step - loss: 0.7085 - accuracy: 0.7444 - val_loss: 1.0705 - val_accuracy: 0.6848\n",
      "Epoch 112/500\n",
      "181/181 [==============================] - 15s 82ms/step - loss: 0.7207 - accuracy: 0.7431 - val_loss: 1.0179 - val_accuracy: 0.6994\n",
      "Epoch 113/500\n",
      "181/181 [==============================] - 15s 82ms/step - loss: 0.7093 - accuracy: 0.7513 - val_loss: 1.0137 - val_accuracy: 0.6910\n",
      "Epoch 114/500\n",
      "181/181 [==============================] - 15s 81ms/step - loss: 0.7051 - accuracy: 0.7517 - val_loss: 1.0212 - val_accuracy: 0.6806\n",
      "Epoch 115/500\n",
      "181/181 [==============================] - 15s 81ms/step - loss: 0.7164 - accuracy: 0.7447 - val_loss: 1.0571 - val_accuracy: 0.6848\n",
      "Epoch 116/500\n",
      "181/181 [==============================] - 15s 81ms/step - loss: 0.7067 - accuracy: 0.7505 - val_loss: 1.0176 - val_accuracy: 0.6931\n",
      "Epoch 117/500\n",
      "181/181 [==============================] - 15s 81ms/step - loss: 0.7087 - accuracy: 0.7488 - val_loss: 1.0142 - val_accuracy: 0.6931\n",
      "Epoch 118/500\n",
      "181/181 [==============================] - 15s 81ms/step - loss: 0.6898 - accuracy: 0.7592 - val_loss: 1.0429 - val_accuracy: 0.6931\n",
      "Epoch 119/500\n",
      "181/181 [==============================] - 15s 81ms/step - loss: 0.7128 - accuracy: 0.7466 - val_loss: 1.0403 - val_accuracy: 0.6848\n",
      "Epoch 120/500\n",
      "181/181 [==============================] - 15s 81ms/step - loss: 0.7027 - accuracy: 0.7543 - val_loss: 1.0642 - val_accuracy: 0.7056\n",
      "Epoch 121/500\n",
      "181/181 [==============================] - 15s 82ms/step - loss: 0.7041 - accuracy: 0.7484 - val_loss: 1.0108 - val_accuracy: 0.7140\n",
      "Epoch 122/500\n",
      "181/181 [==============================] - 15s 81ms/step - loss: 0.7022 - accuracy: 0.7496 - val_loss: 1.0466 - val_accuracy: 0.6848\n",
      "Epoch 123/500\n",
      "181/181 [==============================] - 15s 81ms/step - loss: 0.7082 - accuracy: 0.7452 - val_loss: 1.0376 - val_accuracy: 0.6931\n",
      "Epoch 124/500\n",
      "181/181 [==============================] - 15s 81ms/step - loss: 0.7036 - accuracy: 0.7546 - val_loss: 0.9891 - val_accuracy: 0.6973\n",
      "Epoch 125/500\n",
      "181/181 [==============================] - 15s 81ms/step - loss: 0.6933 - accuracy: 0.7569 - val_loss: 1.0376 - val_accuracy: 0.6889\n",
      "Epoch 126/500\n",
      "181/181 [==============================] - 15s 82ms/step - loss: 0.6955 - accuracy: 0.7551 - val_loss: 1.0462 - val_accuracy: 0.6743\n",
      "Epoch 127/500\n",
      "181/181 [==============================] - 15s 81ms/step - loss: 0.6913 - accuracy: 0.7544 - val_loss: 1.0729 - val_accuracy: 0.7035\n",
      "Epoch 128/500\n",
      "181/181 [==============================] - 15s 81ms/step - loss: 0.6863 - accuracy: 0.7525 - val_loss: 1.0305 - val_accuracy: 0.7077\n",
      "Epoch 129/500\n",
      "181/181 [==============================] - 15s 82ms/step - loss: 0.6952 - accuracy: 0.7544 - val_loss: 1.0485 - val_accuracy: 0.6848\n",
      "Epoch 130/500\n",
      "181/181 [==============================] - 15s 82ms/step - loss: 0.6816 - accuracy: 0.7563 - val_loss: 1.0285 - val_accuracy: 0.6827\n",
      "Epoch 131/500\n",
      "181/181 [==============================] - 15s 82ms/step - loss: 0.6773 - accuracy: 0.7597 - val_loss: 1.0828 - val_accuracy: 0.6827\n",
      "Epoch 132/500\n",
      "181/181 [==============================] - 15s 82ms/step - loss: 0.6917 - accuracy: 0.7544 - val_loss: 1.0039 - val_accuracy: 0.6743\n",
      "Epoch 133/500\n",
      "181/181 [==============================] - 15s 82ms/step - loss: 0.6807 - accuracy: 0.7555 - val_loss: 1.0789 - val_accuracy: 0.7035\n",
      "Epoch 134/500\n",
      "181/181 [==============================] - 15s 82ms/step - loss: 0.6652 - accuracy: 0.7603 - val_loss: 1.0334 - val_accuracy: 0.7015\n",
      "Epoch 135/500\n",
      "181/181 [==============================] - 15s 82ms/step - loss: 0.6788 - accuracy: 0.7570 - val_loss: 1.0421 - val_accuracy: 0.7015\n",
      "Epoch 136/500\n",
      "181/181 [==============================] - 15s 83ms/step - loss: 0.6924 - accuracy: 0.7546 - val_loss: 1.0866 - val_accuracy: 0.6806\n",
      "Epoch 137/500\n",
      "181/181 [==============================] - 15s 82ms/step - loss: 0.6836 - accuracy: 0.7532 - val_loss: 1.0310 - val_accuracy: 0.6952\n",
      "Epoch 138/500\n",
      "181/181 [==============================] - 15s 81ms/step - loss: 0.6786 - accuracy: 0.7584 - val_loss: 1.0495 - val_accuracy: 0.7015\n",
      "Epoch 139/500\n",
      "181/181 [==============================] - 15s 82ms/step - loss: 0.6815 - accuracy: 0.7552 - val_loss: 1.0576 - val_accuracy: 0.6952\n",
      "Epoch 140/500\n",
      "181/181 [==============================] - 15s 82ms/step - loss: 0.6672 - accuracy: 0.7587 - val_loss: 1.0974 - val_accuracy: 0.6681\n",
      "Epoch 141/500\n",
      "181/181 [==============================] - 15s 82ms/step - loss: 0.6768 - accuracy: 0.7584 - val_loss: 1.0811 - val_accuracy: 0.6889\n",
      "Epoch 142/500\n",
      "181/181 [==============================] - 15s 82ms/step - loss: 0.6782 - accuracy: 0.7607 - val_loss: 1.0528 - val_accuracy: 0.6889\n",
      "Epoch 143/500\n",
      "181/181 [==============================] - 15s 81ms/step - loss: 0.6656 - accuracy: 0.7663 - val_loss: 1.0907 - val_accuracy: 0.6743\n",
      "Epoch 144/500\n",
      "181/181 [==============================] - 15s 82ms/step - loss: 0.6723 - accuracy: 0.7619 - val_loss: 1.0280 - val_accuracy: 0.6973\n",
      "Epoch 145/500\n",
      "181/181 [==============================] - 15s 82ms/step - loss: 0.6778 - accuracy: 0.7570 - val_loss: 1.0410 - val_accuracy: 0.7015\n",
      "Epoch 146/500\n",
      "181/181 [==============================] - 15s 82ms/step - loss: 0.6697 - accuracy: 0.7656 - val_loss: 1.0284 - val_accuracy: 0.6806\n",
      "Epoch 147/500\n",
      "181/181 [==============================] - 15s 82ms/step - loss: 0.6787 - accuracy: 0.7602 - val_loss: 1.0318 - val_accuracy: 0.7035\n",
      "Epoch 148/500\n",
      "181/181 [==============================] - 15s 81ms/step - loss: 0.6644 - accuracy: 0.7632 - val_loss: 1.0693 - val_accuracy: 0.6848\n",
      "Epoch 149/500\n",
      "181/181 [==============================] - 15s 81ms/step - loss: 0.6640 - accuracy: 0.7654 - val_loss: 1.0712 - val_accuracy: 0.7119\n",
      "Epoch 150/500\n",
      "181/181 [==============================] - 15s 82ms/step - loss: 0.6689 - accuracy: 0.7624 - val_loss: 1.0613 - val_accuracy: 0.7056\n"
     ]
    },
    {
     "name": "stdout",
     "output_type": "stream",
     "text": [
      "Epoch 151/500\n",
      "181/181 [==============================] - 15s 81ms/step - loss: 0.6657 - accuracy: 0.7625 - val_loss: 1.0603 - val_accuracy: 0.6868\n",
      "Epoch 152/500\n",
      "181/181 [==============================] - 15s 82ms/step - loss: 0.6645 - accuracy: 0.7681 - val_loss: 1.0427 - val_accuracy: 0.7035\n",
      "Epoch 153/500\n",
      "181/181 [==============================] - 15s 81ms/step - loss: 0.6587 - accuracy: 0.7689 - val_loss: 1.0305 - val_accuracy: 0.7035\n",
      "Epoch 154/500\n",
      "181/181 [==============================] - 15s 81ms/step - loss: 0.6536 - accuracy: 0.7703 - val_loss: 1.0471 - val_accuracy: 0.6952\n",
      "Epoch 155/500\n",
      "181/181 [==============================] - 15s 82ms/step - loss: 0.6648 - accuracy: 0.7613 - val_loss: 1.0265 - val_accuracy: 0.7182\n",
      "Epoch 156/500\n",
      "181/181 [==============================] - 15s 82ms/step - loss: 0.6393 - accuracy: 0.7744 - val_loss: 1.0741 - val_accuracy: 0.7077\n",
      "Epoch 157/500\n",
      "181/181 [==============================] - 15s 82ms/step - loss: 0.6462 - accuracy: 0.7714 - val_loss: 0.9963 - val_accuracy: 0.7098\n",
      "Epoch 158/500\n",
      "181/181 [==============================] - 15s 82ms/step - loss: 0.6506 - accuracy: 0.7715 - val_loss: 1.0404 - val_accuracy: 0.7077\n",
      "Epoch 159/500\n",
      "181/181 [==============================] - 15s 83ms/step - loss: 0.6467 - accuracy: 0.7689 - val_loss: 1.0363 - val_accuracy: 0.6889\n",
      "Epoch 160/500\n",
      "181/181 [==============================] - 15s 82ms/step - loss: 0.6502 - accuracy: 0.7687 - val_loss: 1.0510 - val_accuracy: 0.7119\n",
      "Epoch 161/500\n",
      "181/181 [==============================] - 15s 82ms/step - loss: 0.6594 - accuracy: 0.7662 - val_loss: 1.0074 - val_accuracy: 0.7015\n",
      "Epoch 162/500\n",
      "181/181 [==============================] - 15s 82ms/step - loss: 0.6744 - accuracy: 0.7586 - val_loss: 1.0491 - val_accuracy: 0.6973\n",
      "Epoch 163/500\n",
      "181/181 [==============================] - 15s 83ms/step - loss: 0.6422 - accuracy: 0.7718 - val_loss: 1.0574 - val_accuracy: 0.7140\n",
      "Epoch 164/500\n",
      "181/181 [==============================] - 15s 81ms/step - loss: 0.6461 - accuracy: 0.7682 - val_loss: 1.0739 - val_accuracy: 0.6973\n",
      "Epoch 165/500\n",
      "181/181 [==============================] - 15s 83ms/step - loss: 0.6497 - accuracy: 0.7691 - val_loss: 1.0504 - val_accuracy: 0.7077\n",
      "Epoch 166/500\n",
      "181/181 [==============================] - 15s 81ms/step - loss: 0.6462 - accuracy: 0.7691 - val_loss: 1.0688 - val_accuracy: 0.7119\n",
      "Epoch 167/500\n",
      "181/181 [==============================] - 15s 83ms/step - loss: 0.6495 - accuracy: 0.7697 - val_loss: 1.0705 - val_accuracy: 0.6973\n",
      "Epoch 168/500\n",
      "181/181 [==============================] - 15s 82ms/step - loss: 0.6485 - accuracy: 0.7684 - val_loss: 1.0340 - val_accuracy: 0.7015\n",
      "Epoch 169/500\n",
      "181/181 [==============================] - 15s 82ms/step - loss: 0.6432 - accuracy: 0.7669 - val_loss: 1.0757 - val_accuracy: 0.7035\n",
      "Epoch 170/500\n",
      "181/181 [==============================] - 15s 81ms/step - loss: 0.6306 - accuracy: 0.7748 - val_loss: 1.0853 - val_accuracy: 0.7119\n",
      "Epoch 171/500\n",
      "181/181 [==============================] - 15s 83ms/step - loss: 0.6423 - accuracy: 0.7708 - val_loss: 1.0535 - val_accuracy: 0.6973\n",
      "Epoch 172/500\n",
      "181/181 [==============================] - 15s 82ms/step - loss: 0.6429 - accuracy: 0.7722 - val_loss: 1.0417 - val_accuracy: 0.6931\n",
      "Epoch 173/500\n",
      "181/181 [==============================] - 15s 82ms/step - loss: 0.6403 - accuracy: 0.7720 - val_loss: 1.0655 - val_accuracy: 0.7203\n",
      "Epoch 174/500\n",
      "181/181 [==============================] - 15s 81ms/step - loss: 0.6312 - accuracy: 0.7780 - val_loss: 1.0120 - val_accuracy: 0.7098\n",
      "Epoch 175/500\n",
      "181/181 [==============================] - 15s 82ms/step - loss: 0.6333 - accuracy: 0.7734 - val_loss: 1.0745 - val_accuracy: 0.7077\n",
      "Epoch 176/500\n",
      "181/181 [==============================] - 15s 82ms/step - loss: 0.6365 - accuracy: 0.7727 - val_loss: 1.0548 - val_accuracy: 0.6889\n",
      "Epoch 177/500\n",
      "181/181 [==============================] - 15s 82ms/step - loss: 0.6371 - accuracy: 0.7748 - val_loss: 1.0494 - val_accuracy: 0.7015\n",
      "Epoch 178/500\n",
      "180/181 [============================>.] - ETA: 0s - loss: 0.6222 - accuracy: 0.7784"
     ]
    },
    {
     "name": "stderr",
     "output_type": "stream",
     "text": [
      "WARNING:absl:Function `_wrapped_model` contains input name(s) Input with unsupported characters which will be renamed to input in the SavedModel.\n",
      "WARNING:absl:Found untraced functions such as lstm_cell_46_layer_call_fn, lstm_cell_46_layer_call_and_return_conditional_losses, lstm_cell_47_layer_call_fn, lstm_cell_47_layer_call_and_return_conditional_losses, lstm_cell_49_layer_call_fn while saving (showing 5 of 20). These functions will not be directly callable after loading.\n"
     ]
    },
    {
     "name": "stdout",
     "output_type": "stream",
     "text": [
      "INFO:tensorflow:Assets written to: experiments\\ResLSTM_Dec17_10-02-13\\base_ckpts\\cp_178.ckpt\\assets\n"
     ]
    },
    {
     "name": "stderr",
     "output_type": "stream",
     "text": [
      "INFO:tensorflow:Assets written to: experiments\\ResLSTM_Dec17_10-02-13\\base_ckpts\\cp_178.ckpt\\assets\n"
     ]
    },
    {
     "name": "stdout",
     "output_type": "stream",
     "text": [
      "181/181 [==============================] - 86s 479ms/step - loss: 0.6222 - accuracy: 0.7784 - val_loss: 1.0600 - val_accuracy: 0.7307\n",
      "Epoch 179/500\n",
      "181/181 [==============================] - 15s 81ms/step - loss: 0.6524 - accuracy: 0.7734 - val_loss: 1.0250 - val_accuracy: 0.7265\n",
      "Epoch 180/500\n",
      "180/181 [============================>.] - ETA: 0s - loss: 0.6318 - accuracy: 0.7749"
     ]
    },
    {
     "name": "stderr",
     "output_type": "stream",
     "text": [
      "WARNING:absl:Function `_wrapped_model` contains input name(s) Input with unsupported characters which will be renamed to input in the SavedModel.\n",
      "WARNING:absl:Found untraced functions such as lstm_cell_46_layer_call_fn, lstm_cell_46_layer_call_and_return_conditional_losses, lstm_cell_47_layer_call_fn, lstm_cell_47_layer_call_and_return_conditional_losses, lstm_cell_49_layer_call_fn while saving (showing 5 of 20). These functions will not be directly callable after loading.\n"
     ]
    },
    {
     "name": "stdout",
     "output_type": "stream",
     "text": [
      "INFO:tensorflow:Assets written to: experiments\\ResLSTM_Dec17_10-02-13\\base_ckpts\\cp_180.ckpt\\assets\n"
     ]
    },
    {
     "name": "stderr",
     "output_type": "stream",
     "text": [
      "INFO:tensorflow:Assets written to: experiments\\ResLSTM_Dec17_10-02-13\\base_ckpts\\cp_180.ckpt\\assets\n"
     ]
    },
    {
     "name": "stdout",
     "output_type": "stream",
     "text": [
      "181/181 [==============================] - 86s 478ms/step - loss: 0.6317 - accuracy: 0.7749 - val_loss: 1.0597 - val_accuracy: 0.7349\n",
      "Epoch 181/500\n",
      "181/181 [==============================] - 15s 82ms/step - loss: 0.6362 - accuracy: 0.7746 - val_loss: 1.0187 - val_accuracy: 0.7056\n",
      "Epoch 182/500\n",
      "181/181 [==============================] - 15s 82ms/step - loss: 0.6263 - accuracy: 0.7754 - val_loss: 0.9888 - val_accuracy: 0.7223\n",
      "Epoch 183/500\n",
      "181/181 [==============================] - 15s 82ms/step - loss: 0.6189 - accuracy: 0.7805 - val_loss: 1.0628 - val_accuracy: 0.7161\n",
      "Epoch 184/500\n",
      "181/181 [==============================] - 15s 82ms/step - loss: 0.6224 - accuracy: 0.7775 - val_loss: 1.0485 - val_accuracy: 0.7077\n",
      "Epoch 185/500\n",
      "181/181 [==============================] - 15s 82ms/step - loss: 0.6274 - accuracy: 0.7767 - val_loss: 1.0436 - val_accuracy: 0.7077\n",
      "Epoch 186/500\n",
      "181/181 [==============================] - 15s 83ms/step - loss: 0.6286 - accuracy: 0.7785 - val_loss: 1.0256 - val_accuracy: 0.7035\n",
      "Epoch 187/500\n",
      "181/181 [==============================] - 15s 83ms/step - loss: 0.6365 - accuracy: 0.7708 - val_loss: 1.0719 - val_accuracy: 0.7098\n",
      "Epoch 188/500\n",
      "181/181 [==============================] - 15s 82ms/step - loss: 0.6135 - accuracy: 0.7800 - val_loss: 1.0170 - val_accuracy: 0.7140\n",
      "Epoch 189/500\n",
      "181/181 [==============================] - 15s 82ms/step - loss: 0.6142 - accuracy: 0.7809 - val_loss: 1.0322 - val_accuracy: 0.7223\n",
      "Epoch 190/500\n",
      "181/181 [==============================] - 15s 82ms/step - loss: 0.6196 - accuracy: 0.7803 - val_loss: 1.0261 - val_accuracy: 0.7015\n",
      "Epoch 191/500\n",
      "181/181 [==============================] - 15s 82ms/step - loss: 0.6404 - accuracy: 0.7743 - val_loss: 1.0401 - val_accuracy: 0.7015\n",
      "Epoch 192/500\n",
      "181/181 [==============================] - 15s 82ms/step - loss: 0.6184 - accuracy: 0.7819 - val_loss: 1.0225 - val_accuracy: 0.7182\n",
      "Epoch 193/500\n",
      "181/181 [==============================] - 15s 82ms/step - loss: 0.6174 - accuracy: 0.7817 - val_loss: 1.0060 - val_accuracy: 0.7077\n",
      "Epoch 194/500\n",
      "181/181 [==============================] - 15s 82ms/step - loss: 0.6161 - accuracy: 0.7858 - val_loss: 1.0236 - val_accuracy: 0.7244\n",
      "Epoch 195/500\n",
      "181/181 [==============================] - 15s 81ms/step - loss: 0.6308 - accuracy: 0.7731 - val_loss: 0.9863 - val_accuracy: 0.7307\n",
      "Epoch 196/500\n",
      "181/181 [==============================] - 15s 82ms/step - loss: 0.6112 - accuracy: 0.7851 - val_loss: 0.9992 - val_accuracy: 0.6952\n",
      "Epoch 197/500\n",
      "181/181 [==============================] - 15s 82ms/step - loss: 0.6054 - accuracy: 0.7849 - val_loss: 1.0240 - val_accuracy: 0.7098\n",
      "Epoch 198/500\n",
      "181/181 [==============================] - 15s 82ms/step - loss: 0.6102 - accuracy: 0.7820 - val_loss: 1.0146 - val_accuracy: 0.7056\n",
      "Epoch 199/500\n",
      "181/181 [==============================] - 15s 82ms/step - loss: 0.6009 - accuracy: 0.7896 - val_loss: 1.0526 - val_accuracy: 0.7140\n",
      "Epoch 200/500\n",
      "181/181 [==============================] - 15s 82ms/step - loss: 0.6109 - accuracy: 0.7867 - val_loss: 1.0331 - val_accuracy: 0.7077\n",
      "Epoch 201/500\n",
      "181/181 [==============================] - 15s 82ms/step - loss: 0.6170 - accuracy: 0.7774 - val_loss: 1.0630 - val_accuracy: 0.6889\n",
      "Epoch 202/500\n",
      "181/181 [==============================] - 15s 82ms/step - loss: 0.5997 - accuracy: 0.7859 - val_loss: 1.0670 - val_accuracy: 0.7056\n",
      "Epoch 203/500\n",
      "181/181 [==============================] - 15s 82ms/step - loss: 0.6202 - accuracy: 0.7792 - val_loss: 1.0153 - val_accuracy: 0.7056\n",
      "Epoch 204/500\n",
      "181/181 [==============================] - 15s 82ms/step - loss: 0.6061 - accuracy: 0.7855 - val_loss: 1.0412 - val_accuracy: 0.7035\n",
      "Epoch 205/500\n",
      "181/181 [==============================] - 15s 82ms/step - loss: 0.6214 - accuracy: 0.7773 - val_loss: 1.0516 - val_accuracy: 0.7119\n",
      "Epoch 206/500\n",
      "181/181 [==============================] - 15s 82ms/step - loss: 0.6118 - accuracy: 0.7763 - val_loss: 1.0724 - val_accuracy: 0.7077\n",
      "Epoch 207/500\n",
      "181/181 [==============================] - 15s 83ms/step - loss: 0.5864 - accuracy: 0.7925 - val_loss: 1.1700 - val_accuracy: 0.7140\n",
      "Epoch 208/500\n",
      "181/181 [==============================] - 15s 82ms/step - loss: 0.6182 - accuracy: 0.7806 - val_loss: 1.0621 - val_accuracy: 0.7015\n",
      "Epoch 209/500\n",
      "181/181 [==============================] - 15s 82ms/step - loss: 0.6143 - accuracy: 0.7823 - val_loss: 1.0686 - val_accuracy: 0.7119\n",
      "Epoch 210/500\n",
      "181/181 [==============================] - 15s 83ms/step - loss: 0.6076 - accuracy: 0.7840 - val_loss: 1.0882 - val_accuracy: 0.7307\n",
      "Epoch 211/500\n",
      "181/181 [==============================] - 15s 81ms/step - loss: 0.5955 - accuracy: 0.7898 - val_loss: 1.0787 - val_accuracy: 0.7223\n",
      "Epoch 212/500\n",
      "181/181 [==============================] - 15s 82ms/step - loss: 0.6100 - accuracy: 0.7842 - val_loss: 1.0779 - val_accuracy: 0.7140\n",
      "Epoch 213/500\n",
      "181/181 [==============================] - 15s 82ms/step - loss: 0.6106 - accuracy: 0.7875 - val_loss: 1.0964 - val_accuracy: 0.6973\n",
      "Epoch 214/500\n",
      "181/181 [==============================] - 15s 82ms/step - loss: 0.6020 - accuracy: 0.7870 - val_loss: 1.1487 - val_accuracy: 0.6952\n",
      "Epoch 215/500\n",
      "181/181 [==============================] - 15s 82ms/step - loss: 0.6217 - accuracy: 0.7809 - val_loss: 1.0492 - val_accuracy: 0.7015\n",
      "Epoch 216/500\n",
      "181/181 [==============================] - 15s 82ms/step - loss: 0.6008 - accuracy: 0.7858 - val_loss: 1.0636 - val_accuracy: 0.7119\n",
      "Epoch 217/500\n",
      "181/181 [==============================] - 15s 82ms/step - loss: 0.5996 - accuracy: 0.7874 - val_loss: 1.0966 - val_accuracy: 0.7140\n",
      "Epoch 218/500\n",
      "181/181 [==============================] - 15s 82ms/step - loss: 0.5990 - accuracy: 0.7911 - val_loss: 1.1157 - val_accuracy: 0.7140\n",
      "Epoch 219/500\n",
      "181/181 [==============================] - 15s 82ms/step - loss: 0.6085 - accuracy: 0.7858 - val_loss: 1.1362 - val_accuracy: 0.6910\n",
      "Epoch 220/500\n",
      "181/181 [==============================] - 15s 82ms/step - loss: 0.5980 - accuracy: 0.7868 - val_loss: 1.1365 - val_accuracy: 0.6931\n",
      "Epoch 221/500\n",
      "181/181 [==============================] - 15s 82ms/step - loss: 0.5959 - accuracy: 0.7859 - val_loss: 1.1095 - val_accuracy: 0.6806\n",
      "Epoch 222/500\n",
      "181/181 [==============================] - 15s 82ms/step - loss: 0.5918 - accuracy: 0.7918 - val_loss: 1.1877 - val_accuracy: 0.6889\n",
      "Epoch 223/500\n",
      "181/181 [==============================] - 15s 82ms/step - loss: 0.5948 - accuracy: 0.7876 - val_loss: 1.1860 - val_accuracy: 0.6952\n",
      "Epoch 224/500\n",
      "181/181 [==============================] - 15s 82ms/step - loss: 0.5956 - accuracy: 0.7896 - val_loss: 1.1573 - val_accuracy: 0.6973\n",
      "Epoch 225/500\n",
      "181/181 [==============================] - 15s 82ms/step - loss: 0.6006 - accuracy: 0.7841 - val_loss: 1.0985 - val_accuracy: 0.6910\n",
      "Epoch 226/500\n",
      "181/181 [==============================] - 15s 82ms/step - loss: 0.5948 - accuracy: 0.7891 - val_loss: 1.0972 - val_accuracy: 0.7328\n",
      "Epoch 227/500\n",
      "181/181 [==============================] - 15s 82ms/step - loss: 0.5857 - accuracy: 0.7943 - val_loss: 1.0305 - val_accuracy: 0.7161\n",
      "Epoch 228/500\n",
      "181/181 [==============================] - 15s 82ms/step - loss: 0.5778 - accuracy: 0.7947 - val_loss: 1.1128 - val_accuracy: 0.6952\n",
      "Epoch 229/500\n",
      "181/181 [==============================] - 15s 82ms/step - loss: 0.5828 - accuracy: 0.7942 - val_loss: 1.0979 - val_accuracy: 0.7182\n",
      "Epoch 230/500\n",
      "181/181 [==============================] - 15s 83ms/step - loss: 0.5780 - accuracy: 0.7944 - val_loss: 1.1466 - val_accuracy: 0.6931\n",
      "Epoch 231/500\n",
      "181/181 [==============================] - 15s 82ms/step - loss: 0.5847 - accuracy: 0.7945 - val_loss: 1.1368 - val_accuracy: 0.7223\n",
      "Epoch 232/500\n",
      "181/181 [==============================] - 15s 82ms/step - loss: 0.5976 - accuracy: 0.7922 - val_loss: 1.1166 - val_accuracy: 0.7098\n",
      "Epoch 233/500\n",
      "181/181 [==============================] - 15s 82ms/step - loss: 0.5886 - accuracy: 0.7897 - val_loss: 1.1660 - val_accuracy: 0.7182\n",
      "Epoch 234/500\n",
      "181/181 [==============================] - 15s 82ms/step - loss: 0.5901 - accuracy: 0.7911 - val_loss: 1.1353 - val_accuracy: 0.7161\n",
      "Epoch 235/500\n",
      "181/181 [==============================] - 15s 82ms/step - loss: 0.5994 - accuracy: 0.7864 - val_loss: 1.1403 - val_accuracy: 0.6931\n"
     ]
    },
    {
     "name": "stdout",
     "output_type": "stream",
     "text": [
      "Epoch 236/500\n",
      "181/181 [==============================] - 15s 82ms/step - loss: 0.5832 - accuracy: 0.7911 - val_loss: 1.1105 - val_accuracy: 0.6910\n",
      "Epoch 237/500\n",
      "181/181 [==============================] - 15s 82ms/step - loss: 0.5774 - accuracy: 0.7955 - val_loss: 1.1335 - val_accuracy: 0.7140\n",
      "Epoch 238/500\n",
      "181/181 [==============================] - 15s 83ms/step - loss: 0.5733 - accuracy: 0.7985 - val_loss: 1.0691 - val_accuracy: 0.7098\n",
      "Epoch 239/500\n",
      "181/181 [==============================] - 15s 82ms/step - loss: 0.5924 - accuracy: 0.7913 - val_loss: 1.1036 - val_accuracy: 0.6910\n",
      "Epoch 240/500\n",
      "181/181 [==============================] - 15s 82ms/step - loss: 0.5841 - accuracy: 0.7918 - val_loss: 1.0604 - val_accuracy: 0.7077\n",
      "Epoch 241/500\n",
      "181/181 [==============================] - 15s 83ms/step - loss: 0.5625 - accuracy: 0.8020 - val_loss: 1.0978 - val_accuracy: 0.7140\n",
      "Epoch 242/500\n",
      "181/181 [==============================] - 15s 82ms/step - loss: 0.5776 - accuracy: 0.7967 - val_loss: 1.1104 - val_accuracy: 0.7077\n",
      "Epoch 243/500\n",
      "181/181 [==============================] - 15s 82ms/step - loss: 0.5847 - accuracy: 0.7916 - val_loss: 1.0829 - val_accuracy: 0.7223\n",
      "Epoch 244/500\n",
      "181/181 [==============================] - 15s 82ms/step - loss: 0.5801 - accuracy: 0.7971 - val_loss: 1.0878 - val_accuracy: 0.7098\n",
      "Epoch 245/500\n",
      "181/181 [==============================] - 15s 82ms/step - loss: 0.5879 - accuracy: 0.7929 - val_loss: 1.1433 - val_accuracy: 0.7119\n",
      "Epoch 246/500\n",
      "181/181 [==============================] - 15s 82ms/step - loss: 0.5825 - accuracy: 0.7908 - val_loss: 1.0948 - val_accuracy: 0.7056\n",
      "Epoch 247/500\n",
      "181/181 [==============================] - 15s 82ms/step - loss: 0.5755 - accuracy: 0.7965 - val_loss: 1.1725 - val_accuracy: 0.6952\n",
      "Epoch 248/500\n",
      "181/181 [==============================] - 15s 82ms/step - loss: 0.5736 - accuracy: 0.7976 - val_loss: 1.1308 - val_accuracy: 0.6952\n",
      "Epoch 249/500\n",
      "181/181 [==============================] - 15s 83ms/step - loss: 0.5937 - accuracy: 0.7871 - val_loss: 1.1088 - val_accuracy: 0.7140\n",
      "Epoch 250/500\n",
      "181/181 [==============================] - 15s 82ms/step - loss: 0.5690 - accuracy: 0.7957 - val_loss: 1.0882 - val_accuracy: 0.7077\n",
      "Epoch 251/500\n",
      "181/181 [==============================] - 15s 81ms/step - loss: 0.5723 - accuracy: 0.7996 - val_loss: 1.1253 - val_accuracy: 0.7056\n",
      "Epoch 252/500\n",
      "181/181 [==============================] - 15s 82ms/step - loss: 0.5706 - accuracy: 0.7985 - val_loss: 1.1513 - val_accuracy: 0.6555\n",
      "Epoch 253/500\n",
      "181/181 [==============================] - 15s 82ms/step - loss: 0.5776 - accuracy: 0.7981 - val_loss: 1.1076 - val_accuracy: 0.7140\n",
      "Epoch 254/500\n",
      "181/181 [==============================] - 15s 82ms/step - loss: 0.5716 - accuracy: 0.7983 - val_loss: 1.0965 - val_accuracy: 0.7035\n",
      "Epoch 255/500\n",
      "181/181 [==============================] - 15s 82ms/step - loss: 0.5624 - accuracy: 0.7984 - val_loss: 1.1050 - val_accuracy: 0.7035\n",
      "Epoch 256/500\n",
      "181/181 [==============================] - 15s 82ms/step - loss: 0.5770 - accuracy: 0.7978 - val_loss: 1.0712 - val_accuracy: 0.7182\n",
      "Epoch 257/500\n",
      "181/181 [==============================] - 15s 82ms/step - loss: 0.5640 - accuracy: 0.8010 - val_loss: 1.0585 - val_accuracy: 0.7161\n",
      "Epoch 258/500\n",
      "181/181 [==============================] - 15s 83ms/step - loss: 0.5785 - accuracy: 0.7932 - val_loss: 1.0661 - val_accuracy: 0.7119\n",
      "Epoch 259/500\n",
      "181/181 [==============================] - 15s 81ms/step - loss: 0.5707 - accuracy: 0.7954 - val_loss: 1.0871 - val_accuracy: 0.6952\n",
      "Epoch 260/500\n",
      "181/181 [==============================] - 15s 82ms/step - loss: 0.5659 - accuracy: 0.7981 - val_loss: 1.1459 - val_accuracy: 0.7161\n",
      "Epoch 261/500\n",
      "181/181 [==============================] - 15s 82ms/step - loss: 0.5665 - accuracy: 0.8001 - val_loss: 1.1233 - val_accuracy: 0.6889\n",
      "Epoch 262/500\n",
      "181/181 [==============================] - 15s 82ms/step - loss: 0.5617 - accuracy: 0.8009 - val_loss: 1.1606 - val_accuracy: 0.6889\n",
      "Epoch 263/500\n",
      "181/181 [==============================] - 15s 82ms/step - loss: 0.5642 - accuracy: 0.7990 - val_loss: 1.1032 - val_accuracy: 0.7161\n",
      "Epoch 264/500\n",
      "181/181 [==============================] - 15s 83ms/step - loss: 0.5810 - accuracy: 0.7950 - val_loss: 1.0927 - val_accuracy: 0.6889\n",
      "Epoch 265/500\n",
      "181/181 [==============================] - 15s 82ms/step - loss: 0.5605 - accuracy: 0.7970 - val_loss: 1.0736 - val_accuracy: 0.7098\n",
      "Epoch 266/500\n",
      "181/181 [==============================] - 15s 82ms/step - loss: 0.5698 - accuracy: 0.7967 - val_loss: 1.1223 - val_accuracy: 0.7182\n",
      "Epoch 267/500\n",
      "181/181 [==============================] - 15s 82ms/step - loss: 0.5642 - accuracy: 0.7988 - val_loss: 1.0822 - val_accuracy: 0.7223\n",
      "Epoch 268/500\n",
      "181/181 [==============================] - 15s 82ms/step - loss: 0.5758 - accuracy: 0.7948 - val_loss: 1.0694 - val_accuracy: 0.7077\n",
      "Epoch 269/500\n",
      "181/181 [==============================] - 15s 82ms/step - loss: 0.5625 - accuracy: 0.8017 - val_loss: 1.1011 - val_accuracy: 0.6973\n",
      "Epoch 270/500\n",
      "181/181 [==============================] - 15s 82ms/step - loss: 0.5440 - accuracy: 0.8082 - val_loss: 1.1068 - val_accuracy: 0.7244\n",
      "Epoch 271/500\n",
      "181/181 [==============================] - 15s 82ms/step - loss: 0.5593 - accuracy: 0.7967 - val_loss: 1.0885 - val_accuracy: 0.7056\n",
      "Epoch 272/500\n",
      "181/181 [==============================] - 15s 82ms/step - loss: 0.5555 - accuracy: 0.8064 - val_loss: 1.1079 - val_accuracy: 0.6910\n",
      "Epoch 273/500\n",
      "181/181 [==============================] - 15s 82ms/step - loss: 0.5521 - accuracy: 0.8005 - val_loss: 1.1201 - val_accuracy: 0.6994\n",
      "Epoch 274/500\n",
      "181/181 [==============================] - 15s 82ms/step - loss: 0.5695 - accuracy: 0.7964 - val_loss: 1.1104 - val_accuracy: 0.7077\n",
      "Epoch 275/500\n",
      "181/181 [==============================] - 15s 82ms/step - loss: 0.5480 - accuracy: 0.8057 - val_loss: 1.1198 - val_accuracy: 0.6931\n",
      "Epoch 276/500\n",
      "181/181 [==============================] - 15s 82ms/step - loss: 0.5596 - accuracy: 0.7992 - val_loss: 1.1243 - val_accuracy: 0.7077\n",
      "Epoch 277/500\n",
      "181/181 [==============================] - 15s 82ms/step - loss: 0.5622 - accuracy: 0.7997 - val_loss: 1.1416 - val_accuracy: 0.7182\n",
      "Epoch 278/500\n",
      "181/181 [==============================] - 15s 82ms/step - loss: 0.5468 - accuracy: 0.8060 - val_loss: 1.1309 - val_accuracy: 0.7182\n",
      "Epoch 279/500\n",
      "181/181 [==============================] - 15s 82ms/step - loss: 0.5463 - accuracy: 0.8060 - val_loss: 1.1598 - val_accuracy: 0.7056\n",
      "Epoch 280/500\n",
      "181/181 [==============================] - 15s 82ms/step - loss: 0.5579 - accuracy: 0.8044 - val_loss: 1.1127 - val_accuracy: 0.6973\n",
      "Epoch 281/500\n",
      "181/181 [==============================] - 15s 82ms/step - loss: 0.5507 - accuracy: 0.8035 - val_loss: 1.0859 - val_accuracy: 0.7265\n",
      "Epoch 282/500\n",
      "181/181 [==============================] - 15s 82ms/step - loss: 0.5649 - accuracy: 0.8025 - val_loss: 1.1500 - val_accuracy: 0.6952\n",
      "Epoch 283/500\n",
      "181/181 [==============================] - 15s 82ms/step - loss: 0.5421 - accuracy: 0.8056 - val_loss: 1.1192 - val_accuracy: 0.7077\n",
      "Epoch 284/500\n",
      "181/181 [==============================] - 15s 82ms/step - loss: 0.5506 - accuracy: 0.8075 - val_loss: 1.1595 - val_accuracy: 0.7328\n",
      "Epoch 285/500\n",
      "181/181 [==============================] - 15s 82ms/step - loss: 0.5565 - accuracy: 0.7995 - val_loss: 1.0652 - val_accuracy: 0.7286\n",
      "Epoch 286/500\n",
      "181/181 [==============================] - 15s 81ms/step - loss: 0.5604 - accuracy: 0.8022 - val_loss: 1.0784 - val_accuracy: 0.7182\n",
      "Epoch 287/500\n",
      "181/181 [==============================] - 15s 82ms/step - loss: 0.5526 - accuracy: 0.8058 - val_loss: 1.1300 - val_accuracy: 0.6973\n",
      "Epoch 288/500\n",
      "181/181 [==============================] - 15s 82ms/step - loss: 0.5491 - accuracy: 0.8090 - val_loss: 1.1570 - val_accuracy: 0.6973\n",
      "Epoch 289/500\n",
      "181/181 [==============================] - 15s 82ms/step - loss: 0.5416 - accuracy: 0.8069 - val_loss: 1.1739 - val_accuracy: 0.7098\n",
      "Epoch 290/500\n",
      "181/181 [==============================] - 15s 82ms/step - loss: 0.5395 - accuracy: 0.8056 - val_loss: 1.1534 - val_accuracy: 0.7098\n",
      "Epoch 291/500\n",
      "181/181 [==============================] - 15s 82ms/step - loss: 0.5507 - accuracy: 0.8020 - val_loss: 1.1634 - val_accuracy: 0.7056\n"
     ]
    },
    {
     "name": "stdout",
     "output_type": "stream",
     "text": [
      "Epoch 292/500\n",
      "181/181 [==============================] - 15s 83ms/step - loss: 0.5567 - accuracy: 0.8010 - val_loss: 1.1506 - val_accuracy: 0.6868\n",
      "Epoch 293/500\n",
      "181/181 [==============================] - 15s 82ms/step - loss: 0.5500 - accuracy: 0.8034 - val_loss: 1.1092 - val_accuracy: 0.6827\n",
      "Epoch 294/500\n",
      "181/181 [==============================] - 15s 82ms/step - loss: 0.5408 - accuracy: 0.8089 - val_loss: 1.1082 - val_accuracy: 0.6764\n",
      "Epoch 295/500\n",
      "181/181 [==============================] - 15s 82ms/step - loss: 0.5450 - accuracy: 0.8060 - val_loss: 1.1055 - val_accuracy: 0.6994\n",
      "Epoch 296/500\n",
      "181/181 [==============================] - 15s 82ms/step - loss: 0.5408 - accuracy: 0.8089 - val_loss: 1.1311 - val_accuracy: 0.7035\n",
      "Epoch 297/500\n",
      "181/181 [==============================] - 15s 82ms/step - loss: 0.5556 - accuracy: 0.8015 - val_loss: 1.1140 - val_accuracy: 0.7035\n",
      "Epoch 298/500\n",
      "181/181 [==============================] - 15s 82ms/step - loss: 0.5536 - accuracy: 0.8057 - val_loss: 1.1225 - val_accuracy: 0.7119\n",
      "Epoch 299/500\n",
      "181/181 [==============================] - 15s 82ms/step - loss: 0.5533 - accuracy: 0.8054 - val_loss: 1.1101 - val_accuracy: 0.7182\n",
      "Epoch 300/500\n",
      "181/181 [==============================] - 15s 81ms/step - loss: 0.5507 - accuracy: 0.7980 - val_loss: 1.1828 - val_accuracy: 0.7140\n",
      "Epoch 301/500\n",
      "181/181 [==============================] - 15s 82ms/step - loss: 0.5522 - accuracy: 0.8008 - val_loss: 1.0829 - val_accuracy: 0.7265\n",
      "Epoch 302/500\n",
      "181/181 [==============================] - 15s 82ms/step - loss: 0.5548 - accuracy: 0.8019 - val_loss: 1.1583 - val_accuracy: 0.6973\n",
      "Epoch 303/500\n",
      "181/181 [==============================] - 15s 82ms/step - loss: 0.5394 - accuracy: 0.8069 - val_loss: 1.0921 - val_accuracy: 0.7203\n",
      "Epoch 304/500\n",
      "181/181 [==============================] - 15s 81ms/step - loss: 0.5363 - accuracy: 0.8121 - val_loss: 1.1204 - val_accuracy: 0.7140\n",
      "Epoch 305/500\n",
      "181/181 [==============================] - 15s 82ms/step - loss: 0.5503 - accuracy: 0.8058 - val_loss: 1.1579 - val_accuracy: 0.7203\n",
      "Epoch 306/500\n",
      "181/181 [==============================] - 15s 82ms/step - loss: 0.5468 - accuracy: 0.8057 - val_loss: 1.0714 - val_accuracy: 0.7119\n",
      "Epoch 307/500\n",
      "181/181 [==============================] - 15s 83ms/step - loss: 0.5493 - accuracy: 0.8036 - val_loss: 1.1224 - val_accuracy: 0.6848\n",
      "Epoch 308/500\n",
      "181/181 [==============================] - 15s 82ms/step - loss: 0.5372 - accuracy: 0.8061 - val_loss: 1.1348 - val_accuracy: 0.6848\n",
      "Epoch 309/500\n",
      "181/181 [==============================] - 15s 83ms/step - loss: 0.5441 - accuracy: 0.8043 - val_loss: 1.1319 - val_accuracy: 0.6973\n",
      "Epoch 310/500\n",
      "181/181 [==============================] - 15s 82ms/step - loss: 0.5435 - accuracy: 0.8083 - val_loss: 1.1116 - val_accuracy: 0.7098\n",
      "Epoch 311/500\n",
      "181/181 [==============================] - 15s 82ms/step - loss: 0.5395 - accuracy: 0.8109 - val_loss: 1.1029 - val_accuracy: 0.7119\n",
      "Epoch 312/500\n",
      "181/181 [==============================] - 15s 82ms/step - loss: 0.5436 - accuracy: 0.8106 - val_loss: 1.1185 - val_accuracy: 0.7119\n",
      "Epoch 313/500\n",
      "181/181 [==============================] - 15s 82ms/step - loss: 0.5488 - accuracy: 0.8077 - val_loss: 1.0708 - val_accuracy: 0.7056\n",
      "Epoch 314/500\n",
      "181/181 [==============================] - 15s 82ms/step - loss: 0.5433 - accuracy: 0.8091 - val_loss: 1.0731 - val_accuracy: 0.7035\n",
      "Epoch 315/500\n",
      "181/181 [==============================] - 15s 82ms/step - loss: 0.5437 - accuracy: 0.8100 - val_loss: 1.1070 - val_accuracy: 0.6973\n",
      "Epoch 316/500\n",
      "181/181 [==============================] - 15s 82ms/step - loss: 0.5419 - accuracy: 0.8076 - val_loss: 1.1778 - val_accuracy: 0.6889\n",
      "Epoch 317/500\n",
      "181/181 [==============================] - 15s 82ms/step - loss: 0.5313 - accuracy: 0.8087 - val_loss: 1.1338 - val_accuracy: 0.7015\n",
      "Epoch 318/500\n",
      "181/181 [==============================] - 15s 82ms/step - loss: 0.5367 - accuracy: 0.8094 - val_loss: 1.1651 - val_accuracy: 0.7098\n",
      "Epoch 319/500\n",
      "181/181 [==============================] - 15s 82ms/step - loss: 0.5194 - accuracy: 0.8164 - val_loss: 1.1457 - val_accuracy: 0.7119\n",
      "Epoch 320/500\n",
      "181/181 [==============================] - 15s 82ms/step - loss: 0.5267 - accuracy: 0.8130 - val_loss: 1.1328 - val_accuracy: 0.7077\n",
      "Epoch 321/500\n",
      "181/181 [==============================] - 15s 83ms/step - loss: 0.5314 - accuracy: 0.8073 - val_loss: 1.1473 - val_accuracy: 0.7203\n",
      "Epoch 322/500\n",
      "181/181 [==============================] - 15s 82ms/step - loss: 0.5342 - accuracy: 0.8102 - val_loss: 1.1708 - val_accuracy: 0.7203\n",
      "Epoch 323/500\n",
      "181/181 [==============================] - 15s 82ms/step - loss: 0.5167 - accuracy: 0.8205 - val_loss: 1.1810 - val_accuracy: 0.7077\n",
      "Epoch 324/500\n",
      "181/181 [==============================] - 15s 83ms/step - loss: 0.5306 - accuracy: 0.8113 - val_loss: 1.1228 - val_accuracy: 0.7140\n",
      "Epoch 325/500\n",
      "181/181 [==============================] - 15s 82ms/step - loss: 0.5335 - accuracy: 0.8106 - val_loss: 1.1319 - val_accuracy: 0.7161\n",
      "Epoch 326/500\n",
      "181/181 [==============================] - 15s 82ms/step - loss: 0.5300 - accuracy: 0.8103 - val_loss: 1.0940 - val_accuracy: 0.7161\n",
      "Epoch 327/500\n",
      "181/181 [==============================] - 15s 83ms/step - loss: 0.5357 - accuracy: 0.8103 - val_loss: 1.1528 - val_accuracy: 0.7056\n",
      "Epoch 328/500\n",
      "181/181 [==============================] - 15s 83ms/step - loss: 0.5296 - accuracy: 0.8128 - val_loss: 1.1278 - val_accuracy: 0.7056\n",
      "Epoch 329/500\n",
      "181/181 [==============================] - 15s 81ms/step - loss: 0.5253 - accuracy: 0.8116 - val_loss: 1.1518 - val_accuracy: 0.7015\n",
      "Epoch 330/500\n",
      "181/181 [==============================] - 15s 82ms/step - loss: 0.5344 - accuracy: 0.8116 - val_loss: 1.1290 - val_accuracy: 0.7203\n",
      "Epoch 331/500\n",
      "181/181 [==============================] - 15s 82ms/step - loss: 0.5484 - accuracy: 0.8021 - val_loss: 1.0816 - val_accuracy: 0.7182\n",
      "Epoch 332/500\n",
      "181/181 [==============================] - 15s 82ms/step - loss: 0.5307 - accuracy: 0.8132 - val_loss: 1.1373 - val_accuracy: 0.7015\n",
      "Epoch 333/500\n",
      "181/181 [==============================] - 15s 82ms/step - loss: 0.5347 - accuracy: 0.8117 - val_loss: 1.1047 - val_accuracy: 0.7119\n",
      "Epoch 334/500\n",
      "181/181 [==============================] - 15s 82ms/step - loss: 0.5270 - accuracy: 0.8152 - val_loss: 1.0947 - val_accuracy: 0.7077\n",
      "Epoch 335/500\n",
      "181/181 [==============================] - 15s 82ms/step - loss: 0.5185 - accuracy: 0.8165 - val_loss: 1.1202 - val_accuracy: 0.7119\n",
      "Epoch 336/500\n",
      "181/181 [==============================] - 15s 82ms/step - loss: 0.5312 - accuracy: 0.8117 - val_loss: 1.1233 - val_accuracy: 0.7119\n",
      "Epoch 337/500\n",
      "181/181 [==============================] - 15s 82ms/step - loss: 0.5287 - accuracy: 0.8149 - val_loss: 1.1775 - val_accuracy: 0.7035\n",
      "Epoch 338/500\n",
      "181/181 [==============================] - 15s 82ms/step - loss: 0.5238 - accuracy: 0.8179 - val_loss: 1.1253 - val_accuracy: 0.7182\n",
      "Epoch 339/500\n",
      "181/181 [==============================] - 15s 83ms/step - loss: 0.5324 - accuracy: 0.8100 - val_loss: 1.1342 - val_accuracy: 0.7161\n",
      "Epoch 340/500\n",
      "181/181 [==============================] - 15s 82ms/step - loss: 0.5255 - accuracy: 0.8151 - val_loss: 1.1217 - val_accuracy: 0.7140\n",
      "Epoch 341/500\n",
      "181/181 [==============================] - 15s 82ms/step - loss: 0.5159 - accuracy: 0.8187 - val_loss: 1.1428 - val_accuracy: 0.7119\n",
      "Epoch 342/500\n",
      "181/181 [==============================] - 15s 82ms/step - loss: 0.5202 - accuracy: 0.8166 - val_loss: 1.0560 - val_accuracy: 0.7161\n",
      "Epoch 343/500\n",
      "181/181 [==============================] - 15s 82ms/step - loss: 0.5291 - accuracy: 0.8126 - val_loss: 1.1489 - val_accuracy: 0.7098\n",
      "Epoch 344/500\n",
      "181/181 [==============================] - 15s 82ms/step - loss: 0.5285 - accuracy: 0.8150 - val_loss: 1.1102 - val_accuracy: 0.7328\n",
      "Epoch 345/500\n",
      "181/181 [==============================] - 15s 82ms/step - loss: 0.5104 - accuracy: 0.8170 - val_loss: 1.0868 - val_accuracy: 0.7286\n",
      "Epoch 346/500\n",
      "181/181 [==============================] - 15s 83ms/step - loss: 0.5215 - accuracy: 0.8171 - val_loss: 1.1158 - val_accuracy: 0.7223\n",
      "Epoch 347/500\n",
      "181/181 [==============================] - 15s 82ms/step - loss: 0.5212 - accuracy: 0.8115 - val_loss: 1.1366 - val_accuracy: 0.7265\n"
     ]
    },
    {
     "name": "stdout",
     "output_type": "stream",
     "text": [
      "Epoch 348/500\n",
      "181/181 [==============================] - 15s 82ms/step - loss: 0.5243 - accuracy: 0.8131 - val_loss: 1.1280 - val_accuracy: 0.7265\n",
      "Epoch 349/500\n",
      "180/181 [============================>.] - ETA: 0s - loss: 0.5182 - accuracy: 0.8154"
     ]
    },
    {
     "name": "stderr",
     "output_type": "stream",
     "text": [
      "WARNING:absl:Function `_wrapped_model` contains input name(s) Input with unsupported characters which will be renamed to input in the SavedModel.\n",
      "WARNING:absl:Found untraced functions such as lstm_cell_46_layer_call_fn, lstm_cell_46_layer_call_and_return_conditional_losses, lstm_cell_47_layer_call_fn, lstm_cell_47_layer_call_and_return_conditional_losses, lstm_cell_49_layer_call_fn while saving (showing 5 of 20). These functions will not be directly callable after loading.\n"
     ]
    },
    {
     "name": "stdout",
     "output_type": "stream",
     "text": [
      "INFO:tensorflow:Assets written to: experiments\\ResLSTM_Dec17_10-02-13\\base_ckpts\\cp_349.ckpt\\assets\n"
     ]
    },
    {
     "name": "stderr",
     "output_type": "stream",
     "text": [
      "INFO:tensorflow:Assets written to: experiments\\ResLSTM_Dec17_10-02-13\\base_ckpts\\cp_349.ckpt\\assets\n"
     ]
    },
    {
     "name": "stdout",
     "output_type": "stream",
     "text": [
      "181/181 [==============================] - 86s 477ms/step - loss: 0.5186 - accuracy: 0.8153 - val_loss: 1.1200 - val_accuracy: 0.7411\n",
      "Epoch 350/500\n",
      "181/181 [==============================] - 15s 82ms/step - loss: 0.5134 - accuracy: 0.8148 - val_loss: 1.1299 - val_accuracy: 0.7182\n",
      "Epoch 351/500\n",
      "181/181 [==============================] - 15s 82ms/step - loss: 0.5197 - accuracy: 0.8151 - val_loss: 1.1321 - val_accuracy: 0.7140\n",
      "Epoch 352/500\n",
      "181/181 [==============================] - 15s 83ms/step - loss: 0.5248 - accuracy: 0.8185 - val_loss: 1.1361 - val_accuracy: 0.7077\n",
      "Epoch 353/500\n",
      "181/181 [==============================] - 15s 82ms/step - loss: 0.5187 - accuracy: 0.8180 - val_loss: 1.1968 - val_accuracy: 0.6785\n",
      "Epoch 354/500\n",
      "181/181 [==============================] - 15s 82ms/step - loss: 0.5080 - accuracy: 0.8180 - val_loss: 1.0890 - val_accuracy: 0.7098\n",
      "Epoch 355/500\n",
      "181/181 [==============================] - 15s 82ms/step - loss: 0.5173 - accuracy: 0.8151 - val_loss: 1.1199 - val_accuracy: 0.7203\n",
      "Epoch 356/500\n",
      "181/181 [==============================] - 15s 82ms/step - loss: 0.5208 - accuracy: 0.8193 - val_loss: 1.1510 - val_accuracy: 0.6973\n",
      "Epoch 357/500\n",
      "181/181 [==============================] - 15s 82ms/step - loss: 0.5094 - accuracy: 0.8192 - val_loss: 1.1832 - val_accuracy: 0.7056\n",
      "Epoch 358/500\n",
      "181/181 [==============================] - 15s 82ms/step - loss: 0.5203 - accuracy: 0.8150 - val_loss: 1.1058 - val_accuracy: 0.6952\n",
      "Epoch 359/500\n",
      "181/181 [==============================] - 15s 82ms/step - loss: 0.4985 - accuracy: 0.8252 - val_loss: 1.0978 - val_accuracy: 0.7203\n",
      "Epoch 360/500\n",
      "181/181 [==============================] - 15s 82ms/step - loss: 0.5094 - accuracy: 0.8197 - val_loss: 1.0917 - val_accuracy: 0.6952\n",
      "Epoch 361/500\n",
      "181/181 [==============================] - 15s 82ms/step - loss: 0.5035 - accuracy: 0.8224 - val_loss: 1.1772 - val_accuracy: 0.7015\n",
      "Epoch 362/500\n",
      "181/181 [==============================] - 15s 81ms/step - loss: 0.5041 - accuracy: 0.8182 - val_loss: 1.1577 - val_accuracy: 0.7140\n",
      "Epoch 363/500\n",
      "181/181 [==============================] - 15s 83ms/step - loss: 0.5085 - accuracy: 0.8215 - val_loss: 1.1104 - val_accuracy: 0.7140\n",
      "Epoch 364/500\n",
      "181/181 [==============================] - 15s 83ms/step - loss: 0.5132 - accuracy: 0.8190 - val_loss: 1.1626 - val_accuracy: 0.7056\n",
      "Epoch 365/500\n",
      "181/181 [==============================] - 15s 82ms/step - loss: 0.5196 - accuracy: 0.8141 - val_loss: 1.1294 - val_accuracy: 0.7098\n",
      "Epoch 366/500\n",
      "181/181 [==============================] - 15s 82ms/step - loss: 0.5049 - accuracy: 0.8220 - val_loss: 1.1749 - val_accuracy: 0.7035\n",
      "Epoch 367/500\n",
      "181/181 [==============================] - 15s 82ms/step - loss: 0.5221 - accuracy: 0.8148 - val_loss: 1.1567 - val_accuracy: 0.6973\n",
      "Epoch 368/500\n",
      "181/181 [==============================] - 15s 83ms/step - loss: 0.5126 - accuracy: 0.8153 - val_loss: 1.1422 - val_accuracy: 0.7077\n",
      "Epoch 369/500\n",
      "181/181 [==============================] - 15s 83ms/step - loss: 0.4975 - accuracy: 0.8222 - val_loss: 1.0916 - val_accuracy: 0.7182\n",
      "Epoch 370/500\n",
      "181/181 [==============================] - 15s 82ms/step - loss: 0.5166 - accuracy: 0.8193 - val_loss: 1.1031 - val_accuracy: 0.7077\n",
      "Epoch 371/500\n",
      "181/181 [==============================] - 15s 82ms/step - loss: 0.5298 - accuracy: 0.8122 - val_loss: 1.0832 - val_accuracy: 0.7140\n",
      "Epoch 372/500\n",
      "181/181 [==============================] - 15s 82ms/step - loss: 0.5168 - accuracy: 0.8196 - val_loss: 1.0891 - val_accuracy: 0.7223\n",
      "Epoch 373/500\n",
      "181/181 [==============================] - 15s 82ms/step - loss: 0.5077 - accuracy: 0.8207 - val_loss: 1.1695 - val_accuracy: 0.7015\n",
      "Epoch 374/500\n",
      "181/181 [==============================] - 15s 82ms/step - loss: 0.5179 - accuracy: 0.8165 - val_loss: 1.1238 - val_accuracy: 0.7119\n",
      "Epoch 375/500\n",
      "180/181 [============================>.] - ETA: 0s - loss: 0.5099 - accuracy: 0.8190"
     ]
    },
    {
     "name": "stderr",
     "output_type": "stream",
     "text": [
      "WARNING:absl:Function `_wrapped_model` contains input name(s) Input with unsupported characters which will be renamed to input in the SavedModel.\n",
      "WARNING:absl:Found untraced functions such as lstm_cell_46_layer_call_fn, lstm_cell_46_layer_call_and_return_conditional_losses, lstm_cell_47_layer_call_fn, lstm_cell_47_layer_call_and_return_conditional_losses, lstm_cell_49_layer_call_fn while saving (showing 5 of 20). These functions will not be directly callable after loading.\n"
     ]
    },
    {
     "name": "stdout",
     "output_type": "stream",
     "text": [
      "INFO:tensorflow:Assets written to: experiments\\ResLSTM_Dec17_10-02-13\\base_ckpts\\cp_375.ckpt\\assets\n"
     ]
    },
    {
     "name": "stderr",
     "output_type": "stream",
     "text": [
      "INFO:tensorflow:Assets written to: experiments\\ResLSTM_Dec17_10-02-13\\base_ckpts\\cp_375.ckpt\\assets\n"
     ]
    },
    {
     "name": "stdout",
     "output_type": "stream",
     "text": [
      "181/181 [==============================] - 84s 466ms/step - loss: 0.5098 - accuracy: 0.8190 - val_loss: 1.1030 - val_accuracy: 0.7432\n",
      "Epoch 376/500\n",
      "181/181 [==============================] - 15s 80ms/step - loss: 0.5039 - accuracy: 0.8229 - val_loss: 1.1188 - val_accuracy: 0.7203\n",
      "Epoch 377/500\n",
      "181/181 [==============================] - 15s 81ms/step - loss: 0.5069 - accuracy: 0.8254 - val_loss: 1.1446 - val_accuracy: 0.7161\n",
      "Epoch 378/500\n",
      "181/181 [==============================] - 15s 82ms/step - loss: 0.5104 - accuracy: 0.8189 - val_loss: 1.1465 - val_accuracy: 0.7015\n",
      "Epoch 379/500\n",
      "181/181 [==============================] - 15s 82ms/step - loss: 0.4984 - accuracy: 0.8259 - val_loss: 1.1796 - val_accuracy: 0.6868\n",
      "Epoch 380/500\n",
      "181/181 [==============================] - 15s 82ms/step - loss: 0.4959 - accuracy: 0.8248 - val_loss: 1.1826 - val_accuracy: 0.7119\n",
      "Epoch 381/500\n",
      "181/181 [==============================] - 15s 82ms/step - loss: 0.5069 - accuracy: 0.8187 - val_loss: 1.1590 - val_accuracy: 0.6931\n",
      "Epoch 382/500\n",
      "181/181 [==============================] - 15s 82ms/step - loss: 0.5074 - accuracy: 0.8164 - val_loss: 1.2034 - val_accuracy: 0.7140\n",
      "Epoch 383/500\n",
      "181/181 [==============================] - 15s 81ms/step - loss: 0.5048 - accuracy: 0.8239 - val_loss: 1.1019 - val_accuracy: 0.7223\n",
      "Epoch 384/500\n",
      "181/181 [==============================] - 15s 81ms/step - loss: 0.4984 - accuracy: 0.8250 - val_loss: 1.1584 - val_accuracy: 0.6868\n",
      "Epoch 385/500\n",
      "181/181 [==============================] - 15s 82ms/step - loss: 0.5146 - accuracy: 0.8164 - val_loss: 1.1412 - val_accuracy: 0.7203\n",
      "Epoch 386/500\n",
      "181/181 [==============================] - 15s 82ms/step - loss: 0.4878 - accuracy: 0.8266 - val_loss: 1.1284 - val_accuracy: 0.6889\n",
      "Epoch 387/500\n",
      "181/181 [==============================] - 15s 82ms/step - loss: 0.4953 - accuracy: 0.8252 - val_loss: 1.1468 - val_accuracy: 0.7140\n",
      "Epoch 388/500\n",
      "181/181 [==============================] - 15s 82ms/step - loss: 0.4887 - accuracy: 0.8242 - val_loss: 1.1185 - val_accuracy: 0.7307\n",
      "Epoch 389/500\n",
      "181/181 [==============================] - 15s 82ms/step - loss: 0.5098 - accuracy: 0.8206 - val_loss: 1.1043 - val_accuracy: 0.7119\n",
      "Epoch 390/500\n",
      "181/181 [==============================] - 15s 82ms/step - loss: 0.4971 - accuracy: 0.8258 - val_loss: 1.1330 - val_accuracy: 0.6931\n",
      "Epoch 391/500\n",
      "181/181 [==============================] - 15s 81ms/step - loss: 0.5197 - accuracy: 0.8186 - val_loss: 1.0881 - val_accuracy: 0.7077\n",
      "Epoch 392/500\n",
      "181/181 [==============================] - 15s 82ms/step - loss: 0.4869 - accuracy: 0.8287 - val_loss: 1.1584 - val_accuracy: 0.6931\n",
      "Epoch 393/500\n",
      "181/181 [==============================] - 15s 81ms/step - loss: 0.4979 - accuracy: 0.8232 - val_loss: 1.2150 - val_accuracy: 0.6910\n",
      "Epoch 394/500\n",
      "181/181 [==============================] - 15s 82ms/step - loss: 0.4933 - accuracy: 0.8277 - val_loss: 1.1651 - val_accuracy: 0.6994\n",
      "Epoch 395/500\n",
      "181/181 [==============================] - 15s 82ms/step - loss: 0.4850 - accuracy: 0.8251 - val_loss: 1.1569 - val_accuracy: 0.7056\n",
      "Epoch 396/500\n",
      "181/181 [==============================] - 15s 82ms/step - loss: 0.4834 - accuracy: 0.8312 - val_loss: 1.1576 - val_accuracy: 0.7244\n",
      "Epoch 397/500\n",
      "181/181 [==============================] - 15s 82ms/step - loss: 0.4985 - accuracy: 0.8223 - val_loss: 1.1494 - val_accuracy: 0.7203\n",
      "Epoch 398/500\n",
      "181/181 [==============================] - 15s 81ms/step - loss: 0.4932 - accuracy: 0.8260 - val_loss: 1.1886 - val_accuracy: 0.7328\n",
      "Epoch 399/500\n",
      "181/181 [==============================] - 15s 82ms/step - loss: 0.4909 - accuracy: 0.8286 - val_loss: 1.2183 - val_accuracy: 0.7056\n",
      "Epoch 400/500\n",
      "181/181 [==============================] - 15s 82ms/step - loss: 0.5051 - accuracy: 0.8193 - val_loss: 1.1628 - val_accuracy: 0.6848\n",
      "Epoch 401/500\n",
      "181/181 [==============================] - 15s 81ms/step - loss: 0.4957 - accuracy: 0.8261 - val_loss: 1.1488 - val_accuracy: 0.6910\n",
      "Epoch 402/500\n",
      "181/181 [==============================] - 15s 82ms/step - loss: 0.4827 - accuracy: 0.8271 - val_loss: 1.1814 - val_accuracy: 0.6827\n",
      "Epoch 403/500\n",
      "181/181 [==============================] - 15s 82ms/step - loss: 0.4851 - accuracy: 0.8263 - val_loss: 1.1917 - val_accuracy: 0.6973\n",
      "Epoch 404/500\n",
      "181/181 [==============================] - 15s 82ms/step - loss: 0.4902 - accuracy: 0.8271 - val_loss: 1.1945 - val_accuracy: 0.6910\n",
      "Epoch 405/500\n",
      "181/181 [==============================] - 15s 82ms/step - loss: 0.5154 - accuracy: 0.8174 - val_loss: 1.1295 - val_accuracy: 0.7015\n",
      "Epoch 406/500\n",
      "181/181 [==============================] - 15s 82ms/step - loss: 0.4895 - accuracy: 0.8325 - val_loss: 1.1858 - val_accuracy: 0.7077\n",
      "Epoch 407/500\n",
      "181/181 [==============================] - 15s 81ms/step - loss: 0.4836 - accuracy: 0.8300 - val_loss: 1.1738 - val_accuracy: 0.7098\n",
      "Epoch 408/500\n",
      "181/181 [==============================] - 15s 81ms/step - loss: 0.4960 - accuracy: 0.8239 - val_loss: 1.1792 - val_accuracy: 0.6952\n",
      "Epoch 409/500\n",
      "181/181 [==============================] - 15s 82ms/step - loss: 0.4706 - accuracy: 0.8314 - val_loss: 1.1852 - val_accuracy: 0.7015\n",
      "Epoch 410/500\n",
      "181/181 [==============================] - 15s 82ms/step - loss: 0.4925 - accuracy: 0.8285 - val_loss: 1.1879 - val_accuracy: 0.7119\n",
      "Epoch 411/500\n",
      "181/181 [==============================] - 15s 82ms/step - loss: 0.4871 - accuracy: 0.8252 - val_loss: 1.1851 - val_accuracy: 0.6910\n",
      "Epoch 412/500\n",
      "181/181 [==============================] - 15s 82ms/step - loss: 0.4845 - accuracy: 0.8267 - val_loss: 1.1628 - val_accuracy: 0.7223\n",
      "Epoch 413/500\n",
      "181/181 [==============================] - 15s 82ms/step - loss: 0.4978 - accuracy: 0.8249 - val_loss: 1.1472 - val_accuracy: 0.7140\n",
      "Epoch 414/500\n",
      "181/181 [==============================] - 15s 82ms/step - loss: 0.4829 - accuracy: 0.8253 - val_loss: 1.2055 - val_accuracy: 0.7119\n",
      "Epoch 415/500\n",
      "181/181 [==============================] - 15s 81ms/step - loss: 0.5002 - accuracy: 0.8239 - val_loss: 1.1262 - val_accuracy: 0.7077\n",
      "Epoch 416/500\n",
      "181/181 [==============================] - 15s 81ms/step - loss: 0.4923 - accuracy: 0.8296 - val_loss: 1.2311 - val_accuracy: 0.7119\n",
      "Epoch 417/500\n",
      "181/181 [==============================] - 15s 83ms/step - loss: 0.4909 - accuracy: 0.8295 - val_loss: 1.1951 - val_accuracy: 0.7140\n",
      "Epoch 418/500\n",
      "181/181 [==============================] - 15s 81ms/step - loss: 0.4903 - accuracy: 0.8272 - val_loss: 1.2145 - val_accuracy: 0.7182\n",
      "Epoch 419/500\n",
      "181/181 [==============================] - 15s 81ms/step - loss: 0.4713 - accuracy: 0.8344 - val_loss: 1.2315 - val_accuracy: 0.7119\n",
      "Epoch 420/500\n",
      "181/181 [==============================] - 15s 82ms/step - loss: 0.4980 - accuracy: 0.8225 - val_loss: 1.2171 - val_accuracy: 0.6994\n",
      "Epoch 421/500\n",
      "181/181 [==============================] - 15s 82ms/step - loss: 0.4911 - accuracy: 0.8279 - val_loss: 1.2507 - val_accuracy: 0.6973\n",
      "Epoch 422/500\n",
      "181/181 [==============================] - 15s 81ms/step - loss: 0.4758 - accuracy: 0.8347 - val_loss: 1.1957 - val_accuracy: 0.7015\n",
      "Epoch 423/500\n",
      "181/181 [==============================] - 15s 83ms/step - loss: 0.4814 - accuracy: 0.8311 - val_loss: 1.2135 - val_accuracy: 0.7119\n",
      "Epoch 424/500\n",
      "181/181 [==============================] - 15s 81ms/step - loss: 0.4894 - accuracy: 0.8308 - val_loss: 1.1654 - val_accuracy: 0.7119\n",
      "Epoch 425/500\n",
      "181/181 [==============================] - 15s 81ms/step - loss: 0.4841 - accuracy: 0.8339 - val_loss: 1.2295 - val_accuracy: 0.7265\n",
      "Epoch 426/500\n",
      "181/181 [==============================] - 15s 82ms/step - loss: 0.4849 - accuracy: 0.8248 - val_loss: 1.2520 - val_accuracy: 0.7119\n",
      "Epoch 427/500\n",
      "181/181 [==============================] - 15s 81ms/step - loss: 0.4865 - accuracy: 0.8292 - val_loss: 1.2542 - val_accuracy: 0.6973\n",
      "Epoch 428/500\n",
      "181/181 [==============================] - 15s 82ms/step - loss: 0.4825 - accuracy: 0.8300 - val_loss: 1.2616 - val_accuracy: 0.7098\n",
      "Epoch 429/500\n",
      "181/181 [==============================] - 15s 82ms/step - loss: 0.4960 - accuracy: 0.8246 - val_loss: 1.2082 - val_accuracy: 0.6868\n",
      "Epoch 430/500\n",
      "181/181 [==============================] - 15s 81ms/step - loss: 0.4857 - accuracy: 0.8259 - val_loss: 1.2014 - val_accuracy: 0.6994\n"
     ]
    },
    {
     "name": "stdout",
     "output_type": "stream",
     "text": [
      "Epoch 431/500\n",
      "181/181 [==============================] - 15s 82ms/step - loss: 0.4845 - accuracy: 0.8285 - val_loss: 1.1551 - val_accuracy: 0.7015\n",
      "Epoch 432/500\n",
      "181/181 [==============================] - 15s 82ms/step - loss: 0.4847 - accuracy: 0.8272 - val_loss: 1.1601 - val_accuracy: 0.6973\n",
      "Epoch 433/500\n",
      "181/181 [==============================] - 15s 82ms/step - loss: 0.4821 - accuracy: 0.8262 - val_loss: 1.1936 - val_accuracy: 0.7203\n",
      "Epoch 434/500\n",
      "181/181 [==============================] - 15s 81ms/step - loss: 0.4812 - accuracy: 0.8251 - val_loss: 1.1815 - val_accuracy: 0.7015\n",
      "Epoch 435/500\n",
      "181/181 [==============================] - 15s 82ms/step - loss: 0.4876 - accuracy: 0.8290 - val_loss: 1.1763 - val_accuracy: 0.7015\n",
      "Epoch 436/500\n",
      "181/181 [==============================] - 15s 82ms/step - loss: 0.4828 - accuracy: 0.8281 - val_loss: 1.1773 - val_accuracy: 0.7015\n",
      "Epoch 437/500\n",
      "181/181 [==============================] - 15s 82ms/step - loss: 0.4760 - accuracy: 0.8291 - val_loss: 1.1396 - val_accuracy: 0.6973\n",
      "Epoch 438/500\n",
      "181/181 [==============================] - 15s 83ms/step - loss: 0.4727 - accuracy: 0.8322 - val_loss: 1.1719 - val_accuracy: 0.7035\n",
      "Epoch 439/500\n",
      "181/181 [==============================] - 15s 82ms/step - loss: 0.4674 - accuracy: 0.8360 - val_loss: 1.1991 - val_accuracy: 0.6931\n",
      "Epoch 440/500\n",
      "181/181 [==============================] - 15s 83ms/step - loss: 0.4778 - accuracy: 0.8325 - val_loss: 1.2116 - val_accuracy: 0.7098\n",
      "Epoch 441/500\n",
      "181/181 [==============================] - 15s 83ms/step - loss: 0.4820 - accuracy: 0.8328 - val_loss: 1.1604 - val_accuracy: 0.7077\n",
      "Epoch 442/500\n",
      "181/181 [==============================] - 15s 82ms/step - loss: 0.4610 - accuracy: 0.8344 - val_loss: 1.2514 - val_accuracy: 0.7015\n",
      "Epoch 443/500\n",
      "181/181 [==============================] - 15s 82ms/step - loss: 0.4836 - accuracy: 0.8337 - val_loss: 1.1756 - val_accuracy: 0.7119\n",
      "Epoch 444/500\n",
      "181/181 [==============================] - 15s 82ms/step - loss: 0.4788 - accuracy: 0.8308 - val_loss: 1.1169 - val_accuracy: 0.6994\n",
      "Epoch 445/500\n",
      "181/181 [==============================] - 15s 82ms/step - loss: 0.4704 - accuracy: 0.8353 - val_loss: 1.1592 - val_accuracy: 0.7203\n",
      "Epoch 446/500\n",
      "181/181 [==============================] - 15s 83ms/step - loss: 0.4547 - accuracy: 0.8364 - val_loss: 1.1695 - val_accuracy: 0.7119\n",
      "Epoch 447/500\n",
      "181/181 [==============================] - 15s 82ms/step - loss: 0.4847 - accuracy: 0.8292 - val_loss: 1.1270 - val_accuracy: 0.7119\n",
      "Epoch 448/500\n",
      "181/181 [==============================] - 15s 82ms/step - loss: 0.4633 - accuracy: 0.8330 - val_loss: 1.2270 - val_accuracy: 0.7077\n",
      "Epoch 449/500\n",
      "181/181 [==============================] - 15s 82ms/step - loss: 0.4753 - accuracy: 0.8261 - val_loss: 1.2372 - val_accuracy: 0.6973\n",
      "Epoch 450/500\n",
      "181/181 [==============================] - 15s 83ms/step - loss: 0.4816 - accuracy: 0.8319 - val_loss: 1.2138 - val_accuracy: 0.7140\n",
      "Epoch 451/500\n",
      "181/181 [==============================] - 15s 82ms/step - loss: 0.4769 - accuracy: 0.8332 - val_loss: 1.2008 - val_accuracy: 0.6806\n",
      "Epoch 452/500\n",
      "181/181 [==============================] - 15s 81ms/step - loss: 0.4774 - accuracy: 0.8353 - val_loss: 1.1998 - val_accuracy: 0.6889\n",
      "Epoch 453/500\n",
      "181/181 [==============================] - 15s 82ms/step - loss: 0.4811 - accuracy: 0.8330 - val_loss: 1.2037 - val_accuracy: 0.7119\n",
      "Epoch 454/500\n",
      "181/181 [==============================] - 15s 83ms/step - loss: 0.4739 - accuracy: 0.8316 - val_loss: 1.1715 - val_accuracy: 0.7182\n",
      "Epoch 455/500\n",
      "181/181 [==============================] - 15s 82ms/step - loss: 0.4888 - accuracy: 0.8271 - val_loss: 1.1596 - val_accuracy: 0.7119\n",
      "Epoch 456/500\n",
      "181/181 [==============================] - 15s 82ms/step - loss: 0.4730 - accuracy: 0.8337 - val_loss: 1.2007 - val_accuracy: 0.7035\n",
      "Epoch 457/500\n",
      "181/181 [==============================] - 15s 82ms/step - loss: 0.4767 - accuracy: 0.8339 - val_loss: 1.1897 - val_accuracy: 0.7015\n",
      "Epoch 458/500\n",
      "181/181 [==============================] - 15s 81ms/step - loss: 0.4617 - accuracy: 0.8355 - val_loss: 1.1165 - val_accuracy: 0.7307\n",
      "Epoch 459/500\n",
      "181/181 [==============================] - 15s 82ms/step - loss: 0.4650 - accuracy: 0.8348 - val_loss: 1.1178 - val_accuracy: 0.7286\n",
      "Epoch 460/500\n",
      "181/181 [==============================] - 15s 82ms/step - loss: 0.4760 - accuracy: 0.8326 - val_loss: 1.1958 - val_accuracy: 0.7015\n",
      "Epoch 461/500\n",
      "181/181 [==============================] - 15s 82ms/step - loss: 0.4708 - accuracy: 0.8305 - val_loss: 1.1173 - val_accuracy: 0.7098\n",
      "Epoch 462/500\n",
      "181/181 [==============================] - 15s 82ms/step - loss: 0.4823 - accuracy: 0.8302 - val_loss: 1.1220 - val_accuracy: 0.7328\n",
      "Epoch 463/500\n",
      "181/181 [==============================] - 15s 82ms/step - loss: 0.4721 - accuracy: 0.8342 - val_loss: 1.1756 - val_accuracy: 0.7203\n",
      "Epoch 464/500\n",
      "181/181 [==============================] - 15s 83ms/step - loss: 0.4834 - accuracy: 0.8273 - val_loss: 1.1718 - val_accuracy: 0.7203\n",
      "Epoch 465/500\n",
      "181/181 [==============================] - 15s 82ms/step - loss: 0.4665 - accuracy: 0.8350 - val_loss: 1.1495 - val_accuracy: 0.7182\n",
      "Epoch 466/500\n",
      "181/181 [==============================] - 15s 81ms/step - loss: 0.4775 - accuracy: 0.8315 - val_loss: 1.0905 - val_accuracy: 0.7182\n",
      "Epoch 467/500\n",
      "181/181 [==============================] - 15s 83ms/step - loss: 0.4741 - accuracy: 0.8330 - val_loss: 1.1528 - val_accuracy: 0.7203\n",
      "Epoch 468/500\n",
      "181/181 [==============================] - 15s 82ms/step - loss: 0.4674 - accuracy: 0.8400 - val_loss: 1.1433 - val_accuracy: 0.7244\n",
      "Epoch 469/500\n",
      "181/181 [==============================] - 15s 82ms/step - loss: 0.4707 - accuracy: 0.8330 - val_loss: 1.1729 - val_accuracy: 0.7015\n",
      "Epoch 470/500\n",
      "181/181 [==============================] - 15s 82ms/step - loss: 0.4654 - accuracy: 0.8325 - val_loss: 1.1814 - val_accuracy: 0.7056\n",
      "Epoch 471/500\n",
      "181/181 [==============================] - 15s 82ms/step - loss: 0.4867 - accuracy: 0.8301 - val_loss: 1.2228 - val_accuracy: 0.7182\n",
      "Epoch 472/500\n",
      "181/181 [==============================] - 15s 83ms/step - loss: 0.4652 - accuracy: 0.8370 - val_loss: 1.1620 - val_accuracy: 0.7056\n",
      "Epoch 473/500\n",
      "181/181 [==============================] - 15s 83ms/step - loss: 0.4651 - accuracy: 0.8345 - val_loss: 1.1826 - val_accuracy: 0.7035\n",
      "Epoch 474/500\n",
      "181/181 [==============================] - 15s 82ms/step - loss: 0.4633 - accuracy: 0.8370 - val_loss: 1.1483 - val_accuracy: 0.7182\n",
      "Epoch 475/500\n",
      "181/181 [==============================] - 15s 82ms/step - loss: 0.4665 - accuracy: 0.8362 - val_loss: 1.1481 - val_accuracy: 0.7077\n",
      "Epoch 476/500\n",
      "181/181 [==============================] - 15s 81ms/step - loss: 0.4561 - accuracy: 0.8390 - val_loss: 1.1559 - val_accuracy: 0.7077\n",
      "Epoch 477/500\n",
      "181/181 [==============================] - 15s 82ms/step - loss: 0.4644 - accuracy: 0.8354 - val_loss: 1.1592 - val_accuracy: 0.7140\n",
      "Epoch 478/500\n",
      "181/181 [==============================] - 15s 82ms/step - loss: 0.4774 - accuracy: 0.8278 - val_loss: 1.1583 - val_accuracy: 0.7161\n",
      "Epoch 479/500\n",
      "181/181 [==============================] - 15s 82ms/step - loss: 0.4636 - accuracy: 0.8397 - val_loss: 1.1432 - val_accuracy: 0.7307\n",
      "Epoch 480/500\n",
      "181/181 [==============================] - 15s 82ms/step - loss: 0.4568 - accuracy: 0.8390 - val_loss: 1.1330 - val_accuracy: 0.7307\n",
      "Epoch 481/500\n",
      "181/181 [==============================] - 15s 82ms/step - loss: 0.4722 - accuracy: 0.8311 - val_loss: 1.1225 - val_accuracy: 0.7349\n",
      "Epoch 482/500\n",
      "181/181 [==============================] - 15s 82ms/step - loss: 0.4716 - accuracy: 0.8305 - val_loss: 1.2125 - val_accuracy: 0.7035\n",
      "Epoch 483/500\n",
      "181/181 [==============================] - 15s 82ms/step - loss: 0.4621 - accuracy: 0.8371 - val_loss: 1.2417 - val_accuracy: 0.6889\n",
      "Epoch 484/500\n",
      "181/181 [==============================] - 15s 82ms/step - loss: 0.4482 - accuracy: 0.8449 - val_loss: 1.1716 - val_accuracy: 0.7077\n",
      "Epoch 485/500\n",
      "181/181 [==============================] - 15s 81ms/step - loss: 0.4494 - accuracy: 0.8416 - val_loss: 1.1419 - val_accuracy: 0.7035\n",
      "Epoch 486/500\n",
      "181/181 [==============================] - 15s 82ms/step - loss: 0.4572 - accuracy: 0.8377 - val_loss: 1.1604 - val_accuracy: 0.7161\n"
     ]
    },
    {
     "name": "stdout",
     "output_type": "stream",
     "text": [
      "Epoch 487/500\n",
      "181/181 [==============================] - 15s 82ms/step - loss: 0.4594 - accuracy: 0.8403 - val_loss: 1.2227 - val_accuracy: 0.7119\n",
      "Epoch 488/500\n",
      "181/181 [==============================] - 15s 82ms/step - loss: 0.4682 - accuracy: 0.8366 - val_loss: 1.1583 - val_accuracy: 0.7307\n",
      "Epoch 489/500\n",
      "181/181 [==============================] - 15s 82ms/step - loss: 0.4599 - accuracy: 0.8397 - val_loss: 1.1924 - val_accuracy: 0.7286\n",
      "Epoch 490/500\n",
      "181/181 [==============================] - 15s 82ms/step - loss: 0.4655 - accuracy: 0.8329 - val_loss: 1.1727 - val_accuracy: 0.7035\n",
      "Epoch 491/500\n",
      "181/181 [==============================] - 15s 82ms/step - loss: 0.4535 - accuracy: 0.8370 - val_loss: 1.1831 - val_accuracy: 0.7077\n",
      "Epoch 492/500\n",
      "181/181 [==============================] - 15s 82ms/step - loss: 0.4589 - accuracy: 0.8392 - val_loss: 1.2020 - val_accuracy: 0.7182\n",
      "Epoch 493/500\n",
      "181/181 [==============================] - 15s 81ms/step - loss: 0.4582 - accuracy: 0.8369 - val_loss: 1.2316 - val_accuracy: 0.7203\n",
      "Epoch 494/500\n",
      "181/181 [==============================] - 15s 84ms/step - loss: 0.4679 - accuracy: 0.8376 - val_loss: 1.1667 - val_accuracy: 0.7182\n",
      "Epoch 495/500\n",
      "181/181 [==============================] - 15s 83ms/step - loss: 0.4633 - accuracy: 0.8323 - val_loss: 1.1330 - val_accuracy: 0.7349\n",
      "Epoch 496/500\n",
      "181/181 [==============================] - 15s 85ms/step - loss: 0.4523 - accuracy: 0.8384 - val_loss: 1.1303 - val_accuracy: 0.7265\n",
      "Epoch 497/500\n",
      "181/181 [==============================] - 16s 86ms/step - loss: 0.4578 - accuracy: 0.8376 - val_loss: 1.1476 - val_accuracy: 0.7182\n",
      "Epoch 498/500\n",
      "181/181 [==============================] - 16s 85ms/step - loss: 0.4624 - accuracy: 0.8390 - val_loss: 1.2114 - val_accuracy: 0.7182\n",
      "Epoch 499/500\n",
      "181/181 [==============================] - 15s 83ms/step - loss: 0.4601 - accuracy: 0.8389 - val_loss: 1.1906 - val_accuracy: 0.7223\n",
      "Epoch 500/500\n",
      "181/181 [==============================] - 15s 83ms/step - loss: 0.4685 - accuracy: 0.8328 - val_loss: 1.1773 - val_accuracy: 0.7203\n"
     ]
    }
   ],
   "source": [
    "history = model.fit(\n",
    "    generator,\n",
    "    validation_data = val_generator,\n",
    "    epochs = 500,\n",
    "    shuffle=False,\n",
    "    callbacks=callbacks\n",
    ").history"
   ]
  },
  {
   "cell_type": "code",
   "execution_count": 45,
   "metadata": {
    "pycharm": {
     "name": "#%%\n"
    }
   },
   "outputs": [
    {
     "name": "stdout",
     "output_type": "stream",
     "text": [
      "Dec17_12-25-29\n",
      "ResLSTM_Dec17_12-25-29\n"
     ]
    }
   ],
   "source": [
    "model = build_model((36,6), classes)\n",
    "generator=AugmentDataGenerator(X_train_KF[4],y_train_KF[4],p=0.5)\n",
    "val_generator=AugmentDataGenerator(X_val_KF[4],y_val_KF[4],p=0)\n",
    "callbacks, date = create_folders_and_callbacks(foldermode)\n",
    "foldername = foldermode + '_' + str(date)\n",
    "print(foldername)"
   ]
  },
  {
   "cell_type": "code",
   "execution_count": 46,
   "metadata": {
    "pycharm": {
     "name": "#%%\n"
    }
   },
   "outputs": [
    {
     "name": "stdout",
     "output_type": "stream",
     "text": [
      "Epoch 1/500\n",
      "181/182 [============================>.] - ETA: 0s - loss: 1.5754 - accuracy: 0.4763"
     ]
    },
    {
     "name": "stderr",
     "output_type": "stream",
     "text": [
      "WARNING:absl:Function `_wrapped_model` contains input name(s) Input with unsupported characters which will be renamed to input in the SavedModel.\n",
      "WARNING:absl:Found untraced functions such as lstm_cell_61_layer_call_fn, lstm_cell_61_layer_call_and_return_conditional_losses, lstm_cell_62_layer_call_fn, lstm_cell_62_layer_call_and_return_conditional_losses, lstm_cell_64_layer_call_fn while saving (showing 5 of 20). These functions will not be directly callable after loading.\n"
     ]
    },
    {
     "name": "stdout",
     "output_type": "stream",
     "text": [
      "INFO:tensorflow:Assets written to: experiments\\ResLSTM_Dec17_12-25-29\\base_ckpts\\cp_01.ckpt\\assets\n"
     ]
    },
    {
     "name": "stderr",
     "output_type": "stream",
     "text": [
      "INFO:tensorflow:Assets written to: experiments\\ResLSTM_Dec17_12-25-29\\base_ckpts\\cp_01.ckpt\\assets\n"
     ]
    },
    {
     "name": "stdout",
     "output_type": "stream",
     "text": [
      "182/182 [==============================] - 105s 485ms/step - loss: 1.5753 - accuracy: 0.4762 - val_loss: 1.1888 - val_accuracy: 0.6013\n",
      "Epoch 2/500\n",
      "181/182 [============================>.] - ETA: 0s - loss: 1.3545 - accuracy: 0.5337"
     ]
    },
    {
     "name": "stderr",
     "output_type": "stream",
     "text": [
      "WARNING:absl:Function `_wrapped_model` contains input name(s) Input with unsupported characters which will be renamed to input in the SavedModel.\n",
      "WARNING:absl:Found untraced functions such as lstm_cell_61_layer_call_fn, lstm_cell_61_layer_call_and_return_conditional_losses, lstm_cell_62_layer_call_fn, lstm_cell_62_layer_call_and_return_conditional_losses, lstm_cell_64_layer_call_fn while saving (showing 5 of 20). These functions will not be directly callable after loading.\n"
     ]
    },
    {
     "name": "stdout",
     "output_type": "stream",
     "text": [
      "INFO:tensorflow:Assets written to: experiments\\ResLSTM_Dec17_12-25-29\\base_ckpts\\cp_02.ckpt\\assets\n"
     ]
    },
    {
     "name": "stderr",
     "output_type": "stream",
     "text": [
      "INFO:tensorflow:Assets written to: experiments\\ResLSTM_Dec17_12-25-29\\base_ckpts\\cp_02.ckpt\\assets\n"
     ]
    },
    {
     "name": "stdout",
     "output_type": "stream",
     "text": [
      "182/182 [==============================] - 85s 467ms/step - loss: 1.3541 - accuracy: 0.5339 - val_loss: 1.0416 - val_accuracy: 0.6493\n",
      "Epoch 3/500\n",
      "182/182 [==============================] - 15s 82ms/step - loss: 1.2771 - accuracy: 0.5550 - val_loss: 1.0343 - val_accuracy: 0.6305\n",
      "Epoch 4/500\n",
      "182/182 [==============================] - 15s 82ms/step - loss: 1.2367 - accuracy: 0.5665 - val_loss: 1.0122 - val_accuracy: 0.6159\n",
      "Epoch 5/500\n",
      "182/182 [==============================] - 15s 82ms/step - loss: 1.2072 - accuracy: 0.5804 - val_loss: 1.0162 - val_accuracy: 0.5950\n",
      "Epoch 6/500\n",
      "181/182 [============================>.] - ETA: 0s - loss: 1.1858 - accuracy: 0.5838"
     ]
    },
    {
     "name": "stderr",
     "output_type": "stream",
     "text": [
      "WARNING:absl:Function `_wrapped_model` contains input name(s) Input with unsupported characters which will be renamed to input in the SavedModel.\n",
      "WARNING:absl:Found untraced functions such as lstm_cell_61_layer_call_fn, lstm_cell_61_layer_call_and_return_conditional_losses, lstm_cell_62_layer_call_fn, lstm_cell_62_layer_call_and_return_conditional_losses, lstm_cell_64_layer_call_fn while saving (showing 5 of 20). These functions will not be directly callable after loading.\n"
     ]
    },
    {
     "name": "stdout",
     "output_type": "stream",
     "text": [
      "INFO:tensorflow:Assets written to: experiments\\ResLSTM_Dec17_12-25-29\\base_ckpts\\cp_06.ckpt\\assets\n"
     ]
    },
    {
     "name": "stderr",
     "output_type": "stream",
     "text": [
      "INFO:tensorflow:Assets written to: experiments\\ResLSTM_Dec17_12-25-29\\base_ckpts\\cp_06.ckpt\\assets\n"
     ]
    },
    {
     "name": "stdout",
     "output_type": "stream",
     "text": [
      "182/182 [==============================] - 87s 479ms/step - loss: 1.1859 - accuracy: 0.5838 - val_loss: 0.9503 - val_accuracy: 0.6660\n",
      "Epoch 7/500\n",
      "182/182 [==============================] - ETA: 0s - loss: 1.1561 - accuracy: 0.5996"
     ]
    },
    {
     "name": "stderr",
     "output_type": "stream",
     "text": [
      "WARNING:absl:Function `_wrapped_model` contains input name(s) Input with unsupported characters which will be renamed to input in the SavedModel.\n",
      "WARNING:absl:Found untraced functions such as lstm_cell_61_layer_call_fn, lstm_cell_61_layer_call_and_return_conditional_losses, lstm_cell_62_layer_call_fn, lstm_cell_62_layer_call_and_return_conditional_losses, lstm_cell_64_layer_call_fn while saving (showing 5 of 20). These functions will not be directly callable after loading.\n"
     ]
    },
    {
     "name": "stdout",
     "output_type": "stream",
     "text": [
      "INFO:tensorflow:Assets written to: experiments\\ResLSTM_Dec17_12-25-29\\base_ckpts\\cp_07.ckpt\\assets\n"
     ]
    },
    {
     "name": "stderr",
     "output_type": "stream",
     "text": [
      "INFO:tensorflow:Assets written to: experiments\\ResLSTM_Dec17_12-25-29\\base_ckpts\\cp_07.ckpt\\assets\n"
     ]
    },
    {
     "name": "stdout",
     "output_type": "stream",
     "text": [
      "182/182 [==============================] - 87s 475ms/step - loss: 1.1561 - accuracy: 0.5996 - val_loss: 0.9482 - val_accuracy: 0.6701\n",
      "Epoch 8/500\n",
      "181/182 [============================>.] - ETA: 0s - loss: 1.1395 - accuracy: 0.6039"
     ]
    },
    {
     "name": "stderr",
     "output_type": "stream",
     "text": [
      "WARNING:absl:Function `_wrapped_model` contains input name(s) Input with unsupported characters which will be renamed to input in the SavedModel.\n",
      "WARNING:absl:Found untraced functions such as lstm_cell_61_layer_call_fn, lstm_cell_61_layer_call_and_return_conditional_losses, lstm_cell_62_layer_call_fn, lstm_cell_62_layer_call_and_return_conditional_losses, lstm_cell_64_layer_call_fn while saving (showing 5 of 20). These functions will not be directly callable after loading.\n"
     ]
    },
    {
     "name": "stdout",
     "output_type": "stream",
     "text": [
      "INFO:tensorflow:Assets written to: experiments\\ResLSTM_Dec17_12-25-29\\base_ckpts\\cp_08.ckpt\\assets\n"
     ]
    },
    {
     "name": "stderr",
     "output_type": "stream",
     "text": [
      "INFO:tensorflow:Assets written to: experiments\\ResLSTM_Dec17_12-25-29\\base_ckpts\\cp_08.ckpt\\assets\n"
     ]
    },
    {
     "name": "stdout",
     "output_type": "stream",
     "text": [
      "182/182 [==============================] - 85s 469ms/step - loss: 1.1397 - accuracy: 0.6039 - val_loss: 0.9342 - val_accuracy: 0.6806\n",
      "Epoch 9/500\n",
      "182/182 [==============================] - 15s 81ms/step - loss: 1.1153 - accuracy: 0.6083 - val_loss: 0.9033 - val_accuracy: 0.6555\n",
      "Epoch 10/500\n",
      "181/182 [============================>.] - ETA: 0s - loss: 1.1005 - accuracy: 0.6106"
     ]
    },
    {
     "name": "stderr",
     "output_type": "stream",
     "text": [
      "WARNING:absl:Function `_wrapped_model` contains input name(s) Input with unsupported characters which will be renamed to input in the SavedModel.\n",
      "WARNING:absl:Found untraced functions such as lstm_cell_61_layer_call_fn, lstm_cell_61_layer_call_and_return_conditional_losses, lstm_cell_62_layer_call_fn, lstm_cell_62_layer_call_and_return_conditional_losses, lstm_cell_64_layer_call_fn while saving (showing 5 of 20). These functions will not be directly callable after loading.\n"
     ]
    },
    {
     "name": "stdout",
     "output_type": "stream",
     "text": [
      "INFO:tensorflow:Assets written to: experiments\\ResLSTM_Dec17_12-25-29\\base_ckpts\\cp_10.ckpt\\assets\n"
     ]
    },
    {
     "name": "stderr",
     "output_type": "stream",
     "text": [
      "INFO:tensorflow:Assets written to: experiments\\ResLSTM_Dec17_12-25-29\\base_ckpts\\cp_10.ckpt\\assets\n"
     ]
    },
    {
     "name": "stdout",
     "output_type": "stream",
     "text": [
      "182/182 [==============================] - 85s 467ms/step - loss: 1.1006 - accuracy: 0.6106 - val_loss: 0.9160 - val_accuracy: 0.6848\n",
      "Epoch 11/500\n",
      "182/182 [==============================] - ETA: 0s - loss: 1.1023 - accuracy: 0.6138"
     ]
    },
    {
     "name": "stderr",
     "output_type": "stream",
     "text": [
      "WARNING:absl:Function `_wrapped_model` contains input name(s) Input with unsupported characters which will be renamed to input in the SavedModel.\n",
      "WARNING:absl:Found untraced functions such as lstm_cell_61_layer_call_fn, lstm_cell_61_layer_call_and_return_conditional_losses, lstm_cell_62_layer_call_fn, lstm_cell_62_layer_call_and_return_conditional_losses, lstm_cell_64_layer_call_fn while saving (showing 5 of 20). These functions will not be directly callable after loading.\n"
     ]
    },
    {
     "name": "stdout",
     "output_type": "stream",
     "text": [
      "INFO:tensorflow:Assets written to: experiments\\ResLSTM_Dec17_12-25-29\\base_ckpts\\cp_11.ckpt\\assets\n"
     ]
    },
    {
     "name": "stderr",
     "output_type": "stream",
     "text": [
      "INFO:tensorflow:Assets written to: experiments\\ResLSTM_Dec17_12-25-29\\base_ckpts\\cp_11.ckpt\\assets\n"
     ]
    },
    {
     "name": "stdout",
     "output_type": "stream",
     "text": [
      "182/182 [==============================] - 86s 472ms/step - loss: 1.1023 - accuracy: 0.6138 - val_loss: 0.8837 - val_accuracy: 0.6889\n",
      "Epoch 12/500\n",
      "182/182 [==============================] - 15s 81ms/step - loss: 1.0841 - accuracy: 0.6232 - val_loss: 0.9137 - val_accuracy: 0.6848\n",
      "Epoch 13/500\n",
      "182/182 [==============================] - 15s 80ms/step - loss: 1.0674 - accuracy: 0.6232 - val_loss: 0.9203 - val_accuracy: 0.6785\n",
      "Epoch 14/500\n",
      "181/182 [============================>.] - ETA: 0s - loss: 1.0684 - accuracy: 0.6237"
     ]
    },
    {
     "name": "stderr",
     "output_type": "stream",
     "text": [
      "WARNING:absl:Function `_wrapped_model` contains input name(s) Input with unsupported characters which will be renamed to input in the SavedModel.\n",
      "WARNING:absl:Found untraced functions such as lstm_cell_61_layer_call_fn, lstm_cell_61_layer_call_and_return_conditional_losses, lstm_cell_62_layer_call_fn, lstm_cell_62_layer_call_and_return_conditional_losses, lstm_cell_64_layer_call_fn while saving (showing 5 of 20). These functions will not be directly callable after loading.\n"
     ]
    },
    {
     "name": "stdout",
     "output_type": "stream",
     "text": [
      "INFO:tensorflow:Assets written to: experiments\\ResLSTM_Dec17_12-25-29\\base_ckpts\\cp_14.ckpt\\assets\n"
     ]
    },
    {
     "name": "stderr",
     "output_type": "stream",
     "text": [
      "INFO:tensorflow:Assets written to: experiments\\ResLSTM_Dec17_12-25-29\\base_ckpts\\cp_14.ckpt\\assets\n"
     ]
    },
    {
     "name": "stdout",
     "output_type": "stream",
     "text": [
      "182/182 [==============================] - 86s 476ms/step - loss: 1.0680 - accuracy: 0.6239 - val_loss: 0.8687 - val_accuracy: 0.6931\n",
      "Epoch 15/500\n",
      "182/182 [==============================] - 15s 83ms/step - loss: 1.0491 - accuracy: 0.6357 - val_loss: 0.8816 - val_accuracy: 0.6848\n",
      "Epoch 16/500\n",
      "181/182 [============================>.] - ETA: 0s - loss: 1.0448 - accuracy: 0.6285"
     ]
    },
    {
     "name": "stderr",
     "output_type": "stream",
     "text": [
      "WARNING:absl:Function `_wrapped_model` contains input name(s) Input with unsupported characters which will be renamed to input in the SavedModel.\n",
      "WARNING:absl:Found untraced functions such as lstm_cell_61_layer_call_fn, lstm_cell_61_layer_call_and_return_conditional_losses, lstm_cell_62_layer_call_fn, lstm_cell_62_layer_call_and_return_conditional_losses, lstm_cell_64_layer_call_fn while saving (showing 5 of 20). These functions will not be directly callable after loading.\n"
     ]
    },
    {
     "name": "stdout",
     "output_type": "stream",
     "text": [
      "INFO:tensorflow:Assets written to: experiments\\ResLSTM_Dec17_12-25-29\\base_ckpts\\cp_16.ckpt\\assets\n"
     ]
    },
    {
     "name": "stderr",
     "output_type": "stream",
     "text": [
      "INFO:tensorflow:Assets written to: experiments\\ResLSTM_Dec17_12-25-29\\base_ckpts\\cp_16.ckpt\\assets\n"
     ]
    },
    {
     "name": "stdout",
     "output_type": "stream",
     "text": [
      "182/182 [==============================] - 84s 465ms/step - loss: 1.0445 - accuracy: 0.6286 - val_loss: 0.8750 - val_accuracy: 0.7015\n",
      "Epoch 17/500\n",
      "182/182 [==============================] - 15s 82ms/step - loss: 1.0420 - accuracy: 0.6331 - val_loss: 0.8732 - val_accuracy: 0.6952\n",
      "Epoch 18/500\n",
      "182/182 [==============================] - 15s 81ms/step - loss: 1.0203 - accuracy: 0.6413 - val_loss: 0.8803 - val_accuracy: 0.6952\n",
      "Epoch 19/500\n",
      "182/182 [==============================] - 15s 82ms/step - loss: 1.0238 - accuracy: 0.6405 - val_loss: 0.8572 - val_accuracy: 0.6827\n",
      "Epoch 20/500\n",
      "182/182 [==============================] - 15s 82ms/step - loss: 1.0015 - accuracy: 0.6480 - val_loss: 0.8644 - val_accuracy: 0.6931\n",
      "Epoch 21/500\n",
      "182/182 [==============================] - 15s 82ms/step - loss: 1.0029 - accuracy: 0.6472 - val_loss: 0.8479 - val_accuracy: 0.6952\n",
      "Epoch 22/500\n",
      "182/182 [==============================] - 15s 82ms/step - loss: 0.9937 - accuracy: 0.6518 - val_loss: 0.8610 - val_accuracy: 0.6952\n",
      "Epoch 23/500\n",
      "182/182 [==============================] - 15s 82ms/step - loss: 0.9868 - accuracy: 0.6541 - val_loss: 0.8644 - val_accuracy: 0.6827\n",
      "Epoch 24/500\n",
      "181/182 [============================>.] - ETA: 0s - loss: 0.9860 - accuracy: 0.6526"
     ]
    },
    {
     "name": "stderr",
     "output_type": "stream",
     "text": [
      "WARNING:absl:Function `_wrapped_model` contains input name(s) Input with unsupported characters which will be renamed to input in the SavedModel.\n",
      "WARNING:absl:Found untraced functions such as lstm_cell_61_layer_call_fn, lstm_cell_61_layer_call_and_return_conditional_losses, lstm_cell_62_layer_call_fn, lstm_cell_62_layer_call_and_return_conditional_losses, lstm_cell_64_layer_call_fn while saving (showing 5 of 20). These functions will not be directly callable after loading.\n"
     ]
    },
    {
     "name": "stdout",
     "output_type": "stream",
     "text": [
      "INFO:tensorflow:Assets written to: experiments\\ResLSTM_Dec17_12-25-29\\base_ckpts\\cp_24.ckpt\\assets\n"
     ]
    },
    {
     "name": "stderr",
     "output_type": "stream",
     "text": [
      "INFO:tensorflow:Assets written to: experiments\\ResLSTM_Dec17_12-25-29\\base_ckpts\\cp_24.ckpt\\assets\n"
     ]
    },
    {
     "name": "stdout",
     "output_type": "stream",
     "text": [
      "182/182 [==============================] - 86s 474ms/step - loss: 0.9866 - accuracy: 0.6525 - val_loss: 0.8517 - val_accuracy: 0.7056\n",
      "Epoch 25/500\n",
      "182/182 [==============================] - 15s 83ms/step - loss: 0.9715 - accuracy: 0.6601 - val_loss: 0.8734 - val_accuracy: 0.6973\n",
      "Epoch 26/500\n",
      "181/182 [============================>.] - ETA: 0s - loss: 0.9599 - accuracy: 0.6608"
     ]
    },
    {
     "name": "stderr",
     "output_type": "stream",
     "text": [
      "WARNING:absl:Function `_wrapped_model` contains input name(s) Input with unsupported characters which will be renamed to input in the SavedModel.\n",
      "WARNING:absl:Found untraced functions such as lstm_cell_61_layer_call_fn, lstm_cell_61_layer_call_and_return_conditional_losses, lstm_cell_62_layer_call_fn, lstm_cell_62_layer_call_and_return_conditional_losses, lstm_cell_64_layer_call_fn while saving (showing 5 of 20). These functions will not be directly callable after loading.\n"
     ]
    },
    {
     "name": "stdout",
     "output_type": "stream",
     "text": [
      "INFO:tensorflow:Assets written to: experiments\\ResLSTM_Dec17_12-25-29\\base_ckpts\\cp_26.ckpt\\assets\n"
     ]
    },
    {
     "name": "stderr",
     "output_type": "stream",
     "text": [
      "INFO:tensorflow:Assets written to: experiments\\ResLSTM_Dec17_12-25-29\\base_ckpts\\cp_26.ckpt\\assets\n"
     ]
    },
    {
     "name": "stdout",
     "output_type": "stream",
     "text": [
      "182/182 [==============================] - 87s 478ms/step - loss: 0.9598 - accuracy: 0.6609 - val_loss: 0.8473 - val_accuracy: 0.7140\n",
      "Epoch 27/500\n",
      "182/182 [==============================] - 15s 81ms/step - loss: 0.9616 - accuracy: 0.6626 - val_loss: 0.8543 - val_accuracy: 0.7056\n",
      "Epoch 28/500\n",
      "182/182 [==============================] - 15s 81ms/step - loss: 0.9584 - accuracy: 0.6647 - val_loss: 0.8786 - val_accuracy: 0.6785\n",
      "Epoch 29/500\n",
      "182/182 [==============================] - 15s 81ms/step - loss: 0.9629 - accuracy: 0.6598 - val_loss: 0.8700 - val_accuracy: 0.6868\n",
      "Epoch 30/500\n",
      "182/182 [==============================] - 15s 81ms/step - loss: 0.9433 - accuracy: 0.6666 - val_loss: 0.8838 - val_accuracy: 0.7140\n",
      "Epoch 31/500\n",
      "181/182 [============================>.] - ETA: 0s - loss: 0.9356 - accuracy: 0.6706"
     ]
    },
    {
     "name": "stderr",
     "output_type": "stream",
     "text": [
      "WARNING:absl:Function `_wrapped_model` contains input name(s) Input with unsupported characters which will be renamed to input in the SavedModel.\n",
      "WARNING:absl:Found untraced functions such as lstm_cell_61_layer_call_fn, lstm_cell_61_layer_call_and_return_conditional_losses, lstm_cell_62_layer_call_fn, lstm_cell_62_layer_call_and_return_conditional_losses, lstm_cell_64_layer_call_fn while saving (showing 5 of 20). These functions will not be directly callable after loading.\n"
     ]
    },
    {
     "name": "stdout",
     "output_type": "stream",
     "text": [
      "INFO:tensorflow:Assets written to: experiments\\ResLSTM_Dec17_12-25-29\\base_ckpts\\cp_31.ckpt\\assets\n"
     ]
    },
    {
     "name": "stderr",
     "output_type": "stream",
     "text": [
      "INFO:tensorflow:Assets written to: experiments\\ResLSTM_Dec17_12-25-29\\base_ckpts\\cp_31.ckpt\\assets\n"
     ]
    },
    {
     "name": "stdout",
     "output_type": "stream",
     "text": [
      "182/182 [==============================] - 84s 462ms/step - loss: 0.9363 - accuracy: 0.6704 - val_loss: 0.8376 - val_accuracy: 0.7244\n",
      "Epoch 32/500\n",
      "182/182 [==============================] - 15s 81ms/step - loss: 0.9411 - accuracy: 0.6696 - val_loss: 0.8136 - val_accuracy: 0.7244\n",
      "Epoch 33/500\n",
      "182/182 [==============================] - 15s 82ms/step - loss: 0.9277 - accuracy: 0.6715 - val_loss: 0.8383 - val_accuracy: 0.6827\n",
      "Epoch 34/500\n",
      "181/182 [============================>.] - ETA: 0s - loss: 0.9230 - accuracy: 0.6740"
     ]
    },
    {
     "name": "stderr",
     "output_type": "stream",
     "text": [
      "WARNING:absl:Function `_wrapped_model` contains input name(s) Input with unsupported characters which will be renamed to input in the SavedModel.\n",
      "WARNING:absl:Found untraced functions such as lstm_cell_61_layer_call_fn, lstm_cell_61_layer_call_and_return_conditional_losses, lstm_cell_62_layer_call_fn, lstm_cell_62_layer_call_and_return_conditional_losses, lstm_cell_64_layer_call_fn while saving (showing 5 of 20). These functions will not be directly callable after loading.\n"
     ]
    },
    {
     "name": "stdout",
     "output_type": "stream",
     "text": [
      "INFO:tensorflow:Assets written to: experiments\\ResLSTM_Dec17_12-25-29\\base_ckpts\\cp_34.ckpt\\assets\n"
     ]
    },
    {
     "name": "stderr",
     "output_type": "stream",
     "text": [
      "INFO:tensorflow:Assets written to: experiments\\ResLSTM_Dec17_12-25-29\\base_ckpts\\cp_34.ckpt\\assets\n"
     ]
    },
    {
     "name": "stdout",
     "output_type": "stream",
     "text": [
      "182/182 [==============================] - 87s 482ms/step - loss: 0.9230 - accuracy: 0.6738 - val_loss: 0.8064 - val_accuracy: 0.7307\n",
      "Epoch 35/500\n",
      "182/182 [==============================] - 15s 82ms/step - loss: 0.9259 - accuracy: 0.6739 - val_loss: 0.8610 - val_accuracy: 0.7098\n",
      "Epoch 36/500\n",
      "182/182 [==============================] - 15s 82ms/step - loss: 0.9084 - accuracy: 0.6804 - val_loss: 0.8515 - val_accuracy: 0.7098\n",
      "Epoch 37/500\n",
      "182/182 [==============================] - 15s 82ms/step - loss: 0.9128 - accuracy: 0.6787 - val_loss: 0.8364 - val_accuracy: 0.7077\n",
      "Epoch 38/500\n",
      "182/182 [==============================] - 15s 82ms/step - loss: 0.9113 - accuracy: 0.6818 - val_loss: 0.8334 - val_accuracy: 0.7056\n",
      "Epoch 39/500\n",
      "182/182 [==============================] - 15s 82ms/step - loss: 0.8819 - accuracy: 0.6963 - val_loss: 0.8332 - val_accuracy: 0.6994\n",
      "Epoch 40/500\n",
      "182/182 [==============================] - 15s 83ms/step - loss: 0.8896 - accuracy: 0.6882 - val_loss: 0.8833 - val_accuracy: 0.6952\n",
      "Epoch 41/500\n",
      "182/182 [==============================] - 15s 81ms/step - loss: 0.8920 - accuracy: 0.6868 - val_loss: 0.8232 - val_accuracy: 0.7098\n",
      "Epoch 42/500\n",
      "182/182 [==============================] - 15s 82ms/step - loss: 0.8888 - accuracy: 0.6929 - val_loss: 0.8447 - val_accuracy: 0.7286\n",
      "Epoch 43/500\n",
      "182/182 [==============================] - 15s 82ms/step - loss: 0.8813 - accuracy: 0.6890 - val_loss: 0.8428 - val_accuracy: 0.7182\n",
      "Epoch 44/500\n",
      "182/182 [==============================] - 15s 82ms/step - loss: 0.8753 - accuracy: 0.6919 - val_loss: 0.8224 - val_accuracy: 0.7077\n",
      "Epoch 45/500\n",
      "182/182 [==============================] - 15s 83ms/step - loss: 0.8795 - accuracy: 0.6891 - val_loss: 0.8386 - val_accuracy: 0.7119\n",
      "Epoch 46/500\n",
      "182/182 [==============================] - 15s 82ms/step - loss: 0.8703 - accuracy: 0.6976 - val_loss: 0.8727 - val_accuracy: 0.7077\n",
      "Epoch 47/500\n",
      "182/182 [==============================] - 15s 82ms/step - loss: 0.8719 - accuracy: 0.6927 - val_loss: 0.8380 - val_accuracy: 0.7244\n",
      "Epoch 48/500\n",
      "182/182 [==============================] - 15s 82ms/step - loss: 0.8644 - accuracy: 0.6960 - val_loss: 0.8685 - val_accuracy: 0.7265\n",
      "Epoch 49/500\n",
      "182/182 [==============================] - 15s 83ms/step - loss: 0.8639 - accuracy: 0.6960 - val_loss: 0.8366 - val_accuracy: 0.7265\n",
      "Epoch 50/500\n",
      "182/182 [==============================] - 15s 83ms/step - loss: 0.8502 - accuracy: 0.7019 - val_loss: 0.8735 - val_accuracy: 0.6994\n",
      "Epoch 51/500\n",
      "182/182 [==============================] - 15s 83ms/step - loss: 0.8424 - accuracy: 0.7083 - val_loss: 0.8532 - val_accuracy: 0.7182\n",
      "Epoch 52/500\n",
      "182/182 [==============================] - 15s 82ms/step - loss: 0.8451 - accuracy: 0.7031 - val_loss: 0.8712 - val_accuracy: 0.7140\n",
      "Epoch 53/500\n",
      "182/182 [==============================] - 15s 82ms/step - loss: 0.8237 - accuracy: 0.7134 - val_loss: 0.8866 - val_accuracy: 0.7140\n",
      "Epoch 54/500\n",
      "182/182 [==============================] - 15s 82ms/step - loss: 0.8403 - accuracy: 0.7038 - val_loss: 0.8938 - val_accuracy: 0.7015\n",
      "Epoch 55/500\n",
      "182/182 [==============================] - 15s 82ms/step - loss: 0.8358 - accuracy: 0.7073 - val_loss: 0.8725 - val_accuracy: 0.7035\n",
      "Epoch 56/500\n",
      "182/182 [==============================] - 15s 82ms/step - loss: 0.8349 - accuracy: 0.7051 - val_loss: 0.8781 - val_accuracy: 0.6994\n",
      "Epoch 57/500\n",
      "182/182 [==============================] - 15s 83ms/step - loss: 0.8296 - accuracy: 0.7080 - val_loss: 0.8736 - val_accuracy: 0.7161\n",
      "Epoch 58/500\n",
      "182/182 [==============================] - 15s 82ms/step - loss: 0.8229 - accuracy: 0.7104 - val_loss: 0.8609 - val_accuracy: 0.7161\n",
      "Epoch 59/500\n",
      "181/182 [============================>.] - ETA: 0s - loss: 0.8320 - accuracy: 0.7075"
     ]
    },
    {
     "name": "stderr",
     "output_type": "stream",
     "text": [
      "WARNING:absl:Function `_wrapped_model` contains input name(s) Input with unsupported characters which will be renamed to input in the SavedModel.\n",
      "WARNING:absl:Found untraced functions such as lstm_cell_61_layer_call_fn, lstm_cell_61_layer_call_and_return_conditional_losses, lstm_cell_62_layer_call_fn, lstm_cell_62_layer_call_and_return_conditional_losses, lstm_cell_64_layer_call_fn while saving (showing 5 of 20). These functions will not be directly callable after loading.\n"
     ]
    },
    {
     "name": "stdout",
     "output_type": "stream",
     "text": [
      "INFO:tensorflow:Assets written to: experiments\\ResLSTM_Dec17_12-25-29\\base_ckpts\\cp_59.ckpt\\assets\n"
     ]
    },
    {
     "name": "stderr",
     "output_type": "stream",
     "text": [
      "INFO:tensorflow:Assets written to: experiments\\ResLSTM_Dec17_12-25-29\\base_ckpts\\cp_59.ckpt\\assets\n"
     ]
    },
    {
     "name": "stdout",
     "output_type": "stream",
     "text": [
      "182/182 [==============================] - 85s 468ms/step - loss: 0.8314 - accuracy: 0.7077 - val_loss: 0.8724 - val_accuracy: 0.7349\n",
      "Epoch 60/500\n",
      "182/182 [==============================] - 15s 82ms/step - loss: 0.8217 - accuracy: 0.7127 - val_loss: 0.8530 - val_accuracy: 0.7307\n",
      "Epoch 61/500\n",
      "182/182 [==============================] - 15s 81ms/step - loss: 0.8070 - accuracy: 0.7158 - val_loss: 0.9127 - val_accuracy: 0.7035\n",
      "Epoch 62/500\n",
      "182/182 [==============================] - 15s 82ms/step - loss: 0.8188 - accuracy: 0.7147 - val_loss: 0.8972 - val_accuracy: 0.7119\n",
      "Epoch 63/500\n",
      "182/182 [==============================] - 15s 82ms/step - loss: 0.7977 - accuracy: 0.7240 - val_loss: 0.8590 - val_accuracy: 0.7077\n",
      "Epoch 64/500\n",
      "182/182 [==============================] - 15s 81ms/step - loss: 0.8071 - accuracy: 0.7157 - val_loss: 0.8697 - val_accuracy: 0.7244\n",
      "Epoch 65/500\n",
      "182/182 [==============================] - 15s 81ms/step - loss: 0.8030 - accuracy: 0.7166 - val_loss: 0.8695 - val_accuracy: 0.7119\n",
      "Epoch 66/500\n",
      "182/182 [==============================] - 15s 82ms/step - loss: 0.8020 - accuracy: 0.7195 - val_loss: 0.8823 - val_accuracy: 0.7161\n",
      "Epoch 67/500\n",
      "182/182 [==============================] - 15s 81ms/step - loss: 0.8128 - accuracy: 0.7181 - val_loss: 0.9474 - val_accuracy: 0.6994\n",
      "Epoch 68/500\n",
      "182/182 [==============================] - 15s 81ms/step - loss: 0.8022 - accuracy: 0.7201 - val_loss: 0.8995 - val_accuracy: 0.7265\n",
      "Epoch 69/500\n",
      "182/182 [==============================] - 15s 83ms/step - loss: 0.8142 - accuracy: 0.7179 - val_loss: 0.9308 - val_accuracy: 0.7182\n",
      "Epoch 70/500\n",
      "182/182 [==============================] - 15s 81ms/step - loss: 0.7742 - accuracy: 0.7269 - val_loss: 0.9185 - val_accuracy: 0.7161\n",
      "Epoch 71/500\n",
      "182/182 [==============================] - 15s 81ms/step - loss: 0.7838 - accuracy: 0.7226 - val_loss: 0.9551 - val_accuracy: 0.6910\n",
      "Epoch 72/500\n",
      "182/182 [==============================] - 15s 82ms/step - loss: 0.7994 - accuracy: 0.7177 - val_loss: 1.0065 - val_accuracy: 0.7203\n",
      "Epoch 73/500\n",
      "182/182 [==============================] - 15s 81ms/step - loss: 0.7943 - accuracy: 0.7226 - val_loss: 0.9420 - val_accuracy: 0.6931\n",
      "Epoch 74/500\n",
      "182/182 [==============================] - 15s 82ms/step - loss: 0.7839 - accuracy: 0.7277 - val_loss: 0.9039 - val_accuracy: 0.7182\n",
      "Epoch 75/500\n",
      "182/182 [==============================] - 15s 82ms/step - loss: 0.7861 - accuracy: 0.7243 - val_loss: 0.9172 - val_accuracy: 0.7223\n",
      "Epoch 76/500\n",
      "182/182 [==============================] - 15s 81ms/step - loss: 0.7943 - accuracy: 0.7174 - val_loss: 0.9556 - val_accuracy: 0.7056\n",
      "Epoch 77/500\n",
      "182/182 [==============================] - 15s 81ms/step - loss: 0.7729 - accuracy: 0.7285 - val_loss: 0.9156 - val_accuracy: 0.7098\n",
      "Epoch 78/500\n",
      "182/182 [==============================] - 15s 82ms/step - loss: 0.7803 - accuracy: 0.7253 - val_loss: 0.9089 - val_accuracy: 0.7328\n",
      "Epoch 79/500\n",
      "182/182 [==============================] - 15s 81ms/step - loss: 0.7735 - accuracy: 0.7297 - val_loss: 0.9499 - val_accuracy: 0.6827\n",
      "Epoch 80/500\n",
      "182/182 [==============================] - 15s 82ms/step - loss: 0.7540 - accuracy: 0.7369 - val_loss: 0.9028 - val_accuracy: 0.7286\n",
      "Epoch 81/500\n",
      "182/182 [==============================] - 15s 82ms/step - loss: 0.7771 - accuracy: 0.7255 - val_loss: 0.9315 - val_accuracy: 0.7077\n",
      "Epoch 82/500\n",
      "182/182 [==============================] - 15s 81ms/step - loss: 0.7682 - accuracy: 0.7283 - val_loss: 0.8948 - val_accuracy: 0.7015\n",
      "Epoch 83/500\n",
      "182/182 [==============================] - 15s 82ms/step - loss: 0.7684 - accuracy: 0.7253 - val_loss: 0.9632 - val_accuracy: 0.7286\n",
      "Epoch 84/500\n",
      "182/182 [==============================] - 15s 81ms/step - loss: 0.7621 - accuracy: 0.7307 - val_loss: 0.9104 - val_accuracy: 0.7140\n",
      "Epoch 85/500\n",
      "182/182 [==============================] - 15s 82ms/step - loss: 0.7624 - accuracy: 0.7336 - val_loss: 0.8892 - val_accuracy: 0.7265\n",
      "Epoch 86/500\n",
      "182/182 [==============================] - 15s 82ms/step - loss: 0.7714 - accuracy: 0.7264 - val_loss: 0.9039 - val_accuracy: 0.7140\n",
      "Epoch 87/500\n",
      "182/182 [==============================] - 15s 82ms/step - loss: 0.7602 - accuracy: 0.7352 - val_loss: 0.9223 - val_accuracy: 0.6952\n",
      "Epoch 88/500\n",
      "181/182 [============================>.] - ETA: 0s - loss: 0.7632 - accuracy: 0.7303"
     ]
    },
    {
     "name": "stderr",
     "output_type": "stream",
     "text": [
      "WARNING:absl:Function `_wrapped_model` contains input name(s) Input with unsupported characters which will be renamed to input in the SavedModel.\n",
      "WARNING:absl:Found untraced functions such as lstm_cell_61_layer_call_fn, lstm_cell_61_layer_call_and_return_conditional_losses, lstm_cell_62_layer_call_fn, lstm_cell_62_layer_call_and_return_conditional_losses, lstm_cell_64_layer_call_fn while saving (showing 5 of 20). These functions will not be directly callable after loading.\n"
     ]
    },
    {
     "name": "stdout",
     "output_type": "stream",
     "text": [
      "INFO:tensorflow:Assets written to: experiments\\ResLSTM_Dec17_12-25-29\\base_ckpts\\cp_88.ckpt\\assets\n"
     ]
    },
    {
     "name": "stderr",
     "output_type": "stream",
     "text": [
      "INFO:tensorflow:Assets written to: experiments\\ResLSTM_Dec17_12-25-29\\base_ckpts\\cp_88.ckpt\\assets\n"
     ]
    },
    {
     "name": "stdout",
     "output_type": "stream",
     "text": [
      "182/182 [==============================] - 84s 463ms/step - loss: 0.7630 - accuracy: 0.7303 - val_loss: 0.9314 - val_accuracy: 0.7411\n",
      "Epoch 89/500\n",
      "182/182 [==============================] - 15s 81ms/step - loss: 0.7475 - accuracy: 0.7384 - val_loss: 0.9206 - val_accuracy: 0.7223\n",
      "Epoch 90/500\n",
      "182/182 [==============================] - 15s 81ms/step - loss: 0.7579 - accuracy: 0.7362 - val_loss: 0.9249 - val_accuracy: 0.7077\n",
      "Epoch 91/500\n",
      "182/182 [==============================] - 15s 80ms/step - loss: 0.7526 - accuracy: 0.7369 - val_loss: 0.9393 - val_accuracy: 0.7244\n",
      "Epoch 92/500\n",
      "182/182 [==============================] - 15s 81ms/step - loss: 0.7463 - accuracy: 0.7357 - val_loss: 1.0219 - val_accuracy: 0.7411\n",
      "Epoch 93/500\n",
      "182/182 [==============================] - 15s 81ms/step - loss: 0.7371 - accuracy: 0.7409 - val_loss: 0.9696 - val_accuracy: 0.7223\n",
      "Epoch 94/500\n",
      "182/182 [==============================] - 15s 80ms/step - loss: 0.7603 - accuracy: 0.7317 - val_loss: 0.9162 - val_accuracy: 0.7203\n",
      "Epoch 95/500\n",
      "182/182 [==============================] - 15s 82ms/step - loss: 0.7378 - accuracy: 0.7379 - val_loss: 0.9218 - val_accuracy: 0.7370\n",
      "Epoch 96/500\n",
      "182/182 [==============================] - 15s 81ms/step - loss: 0.7343 - accuracy: 0.7428 - val_loss: 0.9728 - val_accuracy: 0.7328\n",
      "Epoch 97/500\n",
      "182/182 [==============================] - 15s 81ms/step - loss: 0.7360 - accuracy: 0.7403 - val_loss: 0.8985 - val_accuracy: 0.7286\n",
      "Epoch 98/500\n",
      "182/182 [==============================] - 15s 82ms/step - loss: 0.7396 - accuracy: 0.7404 - val_loss: 0.9331 - val_accuracy: 0.7390\n",
      "Epoch 99/500\n",
      "182/182 [==============================] - 15s 81ms/step - loss: 0.7360 - accuracy: 0.7390 - val_loss: 0.9338 - val_accuracy: 0.7349\n",
      "Epoch 100/500\n",
      "182/182 [==============================] - 15s 80ms/step - loss: 0.7272 - accuracy: 0.7434 - val_loss: 0.9284 - val_accuracy: 0.7286\n",
      "Epoch 101/500\n",
      "182/182 [==============================] - 15s 81ms/step - loss: 0.7153 - accuracy: 0.7500 - val_loss: 0.9578 - val_accuracy: 0.7140\n",
      "Epoch 102/500\n",
      "182/182 [==============================] - 15s 81ms/step - loss: 0.7233 - accuracy: 0.7455 - val_loss: 0.9828 - val_accuracy: 0.7244\n",
      "Epoch 103/500\n",
      "182/182 [==============================] - 15s 81ms/step - loss: 0.7149 - accuracy: 0.7484 - val_loss: 0.9404 - val_accuracy: 0.7098\n",
      "Epoch 104/500\n",
      "182/182 [==============================] - 15s 81ms/step - loss: 0.7203 - accuracy: 0.7508 - val_loss: 0.9429 - val_accuracy: 0.7265\n",
      "Epoch 105/500\n",
      "182/182 [==============================] - 15s 81ms/step - loss: 0.7136 - accuracy: 0.7464 - val_loss: 0.9339 - val_accuracy: 0.7244\n",
      "Epoch 106/500\n",
      "182/182 [==============================] - 15s 81ms/step - loss: 0.7300 - accuracy: 0.7408 - val_loss: 0.9647 - val_accuracy: 0.7223\n",
      "Epoch 107/500\n",
      "182/182 [==============================] - 15s 81ms/step - loss: 0.7192 - accuracy: 0.7415 - val_loss: 0.9707 - val_accuracy: 0.7286\n",
      "Epoch 108/500\n",
      "182/182 [==============================] - 15s 81ms/step - loss: 0.7149 - accuracy: 0.7472 - val_loss: 0.9404 - val_accuracy: 0.7411\n",
      "Epoch 109/500\n",
      "182/182 [==============================] - 15s 81ms/step - loss: 0.7157 - accuracy: 0.7502 - val_loss: 0.9505 - val_accuracy: 0.7370\n",
      "Epoch 110/500\n",
      "182/182 [==============================] - 15s 81ms/step - loss: 0.7079 - accuracy: 0.7510 - val_loss: 0.9810 - val_accuracy: 0.7223\n",
      "Epoch 111/500\n",
      "182/182 [==============================] - 15s 81ms/step - loss: 0.7187 - accuracy: 0.7482 - val_loss: 0.9409 - val_accuracy: 0.7244\n",
      "Epoch 112/500\n",
      "182/182 [==============================] - 15s 81ms/step - loss: 0.7043 - accuracy: 0.7504 - val_loss: 0.9578 - val_accuracy: 0.7244\n",
      "Epoch 113/500\n",
      "182/182 [==============================] - 15s 80ms/step - loss: 0.7115 - accuracy: 0.7530 - val_loss: 1.0011 - val_accuracy: 0.7077\n",
      "Epoch 114/500\n",
      "182/182 [==============================] - 15s 81ms/step - loss: 0.7008 - accuracy: 0.7547 - val_loss: 0.9981 - val_accuracy: 0.7203\n",
      "Epoch 115/500\n",
      "182/182 [==============================] - 15s 81ms/step - loss: 0.7047 - accuracy: 0.7544 - val_loss: 0.9736 - val_accuracy: 0.7140\n",
      "Epoch 116/500\n",
      "182/182 [==============================] - 15s 81ms/step - loss: 0.7105 - accuracy: 0.7494 - val_loss: 0.9838 - val_accuracy: 0.7370\n",
      "Epoch 117/500\n",
      "182/182 [==============================] - 15s 81ms/step - loss: 0.7011 - accuracy: 0.7542 - val_loss: 0.9701 - val_accuracy: 0.7203\n",
      "Epoch 118/500\n",
      "182/182 [==============================] - 15s 81ms/step - loss: 0.7021 - accuracy: 0.7468 - val_loss: 1.0246 - val_accuracy: 0.7119\n",
      "Epoch 119/500\n",
      "182/182 [==============================] - 15s 81ms/step - loss: 0.7090 - accuracy: 0.7528 - val_loss: 1.0357 - val_accuracy: 0.7182\n",
      "Epoch 120/500\n",
      "182/182 [==============================] - 15s 81ms/step - loss: 0.6934 - accuracy: 0.7554 - val_loss: 1.0224 - val_accuracy: 0.7140\n",
      "Epoch 121/500\n",
      "182/182 [==============================] - 15s 80ms/step - loss: 0.7117 - accuracy: 0.7487 - val_loss: 0.9545 - val_accuracy: 0.7286\n",
      "Epoch 122/500\n",
      "182/182 [==============================] - 15s 80ms/step - loss: 0.7071 - accuracy: 0.7526 - val_loss: 0.9906 - val_accuracy: 0.7203\n",
      "Epoch 123/500\n",
      "182/182 [==============================] - 15s 80ms/step - loss: 0.6871 - accuracy: 0.7575 - val_loss: 1.0567 - val_accuracy: 0.7077\n",
      "Epoch 124/500\n",
      "182/182 [==============================] - 15s 81ms/step - loss: 0.6894 - accuracy: 0.7585 - val_loss: 0.9656 - val_accuracy: 0.7203\n",
      "Epoch 125/500\n",
      "182/182 [==============================] - 15s 81ms/step - loss: 0.6889 - accuracy: 0.7614 - val_loss: 0.9743 - val_accuracy: 0.7244\n",
      "Epoch 126/500\n",
      "182/182 [==============================] - 15s 80ms/step - loss: 0.6946 - accuracy: 0.7585 - val_loss: 1.0448 - val_accuracy: 0.7077\n",
      "Epoch 127/500\n",
      "182/182 [==============================] - 15s 81ms/step - loss: 0.6816 - accuracy: 0.7585 - val_loss: 0.9675 - val_accuracy: 0.7370\n",
      "Epoch 128/500\n",
      "182/182 [==============================] - 15s 81ms/step - loss: 0.6826 - accuracy: 0.7647 - val_loss: 1.0237 - val_accuracy: 0.7328\n",
      "Epoch 129/500\n",
      "182/182 [==============================] - 15s 81ms/step - loss: 0.6988 - accuracy: 0.7509 - val_loss: 0.9836 - val_accuracy: 0.7203\n",
      "Epoch 130/500\n",
      "182/182 [==============================] - 15s 81ms/step - loss: 0.6773 - accuracy: 0.7621 - val_loss: 1.0025 - val_accuracy: 0.7328\n",
      "Epoch 131/500\n",
      "182/182 [==============================] - 15s 81ms/step - loss: 0.6758 - accuracy: 0.7615 - val_loss: 0.9412 - val_accuracy: 0.7307\n",
      "Epoch 132/500\n",
      "182/182 [==============================] - 15s 81ms/step - loss: 0.6875 - accuracy: 0.7573 - val_loss: 1.0074 - val_accuracy: 0.7119\n",
      "Epoch 133/500\n",
      "182/182 [==============================] - 15s 80ms/step - loss: 0.6785 - accuracy: 0.7592 - val_loss: 0.9449 - val_accuracy: 0.7286\n",
      "Epoch 134/500\n",
      "182/182 [==============================] - 15s 81ms/step - loss: 0.6862 - accuracy: 0.7581 - val_loss: 1.0124 - val_accuracy: 0.7035\n",
      "Epoch 135/500\n",
      "182/182 [==============================] - 15s 81ms/step - loss: 0.6714 - accuracy: 0.7604 - val_loss: 1.0043 - val_accuracy: 0.7328\n",
      "Epoch 136/500\n",
      "182/182 [==============================] - 15s 81ms/step - loss: 0.6750 - accuracy: 0.7605 - val_loss: 1.0142 - val_accuracy: 0.7307\n",
      "Epoch 137/500\n",
      "182/182 [==============================] - 15s 81ms/step - loss: 0.6673 - accuracy: 0.7714 - val_loss: 0.9905 - val_accuracy: 0.7244\n",
      "Epoch 138/500\n",
      "182/182 [==============================] - 15s 81ms/step - loss: 0.6915 - accuracy: 0.7606 - val_loss: 0.9719 - val_accuracy: 0.7203\n",
      "Epoch 139/500\n",
      "182/182 [==============================] - 15s 81ms/step - loss: 0.6790 - accuracy: 0.7610 - val_loss: 1.0117 - val_accuracy: 0.7182\n",
      "Epoch 140/500\n",
      "182/182 [==============================] - 15s 81ms/step - loss: 0.6737 - accuracy: 0.7611 - val_loss: 0.9803 - val_accuracy: 0.7223\n",
      "Epoch 141/500\n",
      "182/182 [==============================] - 15s 81ms/step - loss: 0.6699 - accuracy: 0.7633 - val_loss: 1.0022 - val_accuracy: 0.7203\n",
      "Epoch 142/500\n",
      "181/182 [============================>.] - ETA: 0s - loss: 0.6720 - accuracy: 0.7609"
     ]
    },
    {
     "name": "stderr",
     "output_type": "stream",
     "text": [
      "WARNING:absl:Function `_wrapped_model` contains input name(s) Input with unsupported characters which will be renamed to input in the SavedModel.\n",
      "WARNING:absl:Found untraced functions such as lstm_cell_61_layer_call_fn, lstm_cell_61_layer_call_and_return_conditional_losses, lstm_cell_62_layer_call_fn, lstm_cell_62_layer_call_and_return_conditional_losses, lstm_cell_64_layer_call_fn while saving (showing 5 of 20). These functions will not be directly callable after loading.\n"
     ]
    },
    {
     "name": "stdout",
     "output_type": "stream",
     "text": [
      "INFO:tensorflow:Assets written to: experiments\\ResLSTM_Dec17_12-25-29\\base_ckpts\\cp_142.ckpt\\assets\n"
     ]
    },
    {
     "name": "stderr",
     "output_type": "stream",
     "text": [
      "INFO:tensorflow:Assets written to: experiments\\ResLSTM_Dec17_12-25-29\\base_ckpts\\cp_142.ckpt\\assets\n"
     ]
    },
    {
     "name": "stdout",
     "output_type": "stream",
     "text": [
      "182/182 [==============================] - 86s 473ms/step - loss: 0.6723 - accuracy: 0.7608 - val_loss: 0.9842 - val_accuracy: 0.7453\n",
      "Epoch 143/500\n",
      "182/182 [==============================] - 15s 81ms/step - loss: 0.6671 - accuracy: 0.7627 - val_loss: 0.9374 - val_accuracy: 0.7411\n",
      "Epoch 144/500\n",
      "182/182 [==============================] - 15s 82ms/step - loss: 0.6490 - accuracy: 0.7697 - val_loss: 0.9500 - val_accuracy: 0.7370\n",
      "Epoch 145/500\n",
      "181/182 [============================>.] - ETA: 0s - loss: 0.6536 - accuracy: 0.7710"
     ]
    },
    {
     "name": "stderr",
     "output_type": "stream",
     "text": [
      "WARNING:absl:Function `_wrapped_model` contains input name(s) Input with unsupported characters which will be renamed to input in the SavedModel.\n",
      "WARNING:absl:Found untraced functions such as lstm_cell_61_layer_call_fn, lstm_cell_61_layer_call_and_return_conditional_losses, lstm_cell_62_layer_call_fn, lstm_cell_62_layer_call_and_return_conditional_losses, lstm_cell_64_layer_call_fn while saving (showing 5 of 20). These functions will not be directly callable after loading.\n"
     ]
    },
    {
     "name": "stdout",
     "output_type": "stream",
     "text": [
      "INFO:tensorflow:Assets written to: experiments\\ResLSTM_Dec17_12-25-29\\base_ckpts\\cp_145.ckpt\\assets\n"
     ]
    },
    {
     "name": "stderr",
     "output_type": "stream",
     "text": [
      "INFO:tensorflow:Assets written to: experiments\\ResLSTM_Dec17_12-25-29\\base_ckpts\\cp_145.ckpt\\assets\n"
     ]
    },
    {
     "name": "stdout",
     "output_type": "stream",
     "text": [
      "182/182 [==============================] - 87s 481ms/step - loss: 0.6542 - accuracy: 0.7709 - val_loss: 0.9685 - val_accuracy: 0.7495\n",
      "Epoch 146/500\n",
      "182/182 [==============================] - 15s 81ms/step - loss: 0.6692 - accuracy: 0.7616 - val_loss: 1.0205 - val_accuracy: 0.7307\n",
      "Epoch 147/500\n",
      "182/182 [==============================] - 15s 82ms/step - loss: 0.6723 - accuracy: 0.7643 - val_loss: 0.9609 - val_accuracy: 0.7370\n",
      "Epoch 148/500\n",
      "182/182 [==============================] - 15s 82ms/step - loss: 0.6602 - accuracy: 0.7648 - val_loss: 0.9612 - val_accuracy: 0.7140\n",
      "Epoch 149/500\n",
      "182/182 [==============================] - 15s 81ms/step - loss: 0.6721 - accuracy: 0.7630 - val_loss: 0.9877 - val_accuracy: 0.7286\n",
      "Epoch 150/500\n",
      "182/182 [==============================] - 15s 81ms/step - loss: 0.6506 - accuracy: 0.7674 - val_loss: 1.0103 - val_accuracy: 0.7265\n",
      "Epoch 151/500\n",
      "182/182 [==============================] - 15s 81ms/step - loss: 0.6733 - accuracy: 0.7594 - val_loss: 1.0115 - val_accuracy: 0.7328\n",
      "Epoch 152/500\n",
      "182/182 [==============================] - 15s 83ms/step - loss: 0.6524 - accuracy: 0.7689 - val_loss: 1.0655 - val_accuracy: 0.7265\n",
      "Epoch 153/500\n",
      "182/182 [==============================] - 15s 81ms/step - loss: 0.6461 - accuracy: 0.7751 - val_loss: 1.0137 - val_accuracy: 0.7349\n",
      "Epoch 154/500\n",
      "182/182 [==============================] - 15s 83ms/step - loss: 0.6620 - accuracy: 0.7688 - val_loss: 1.0180 - val_accuracy: 0.7432\n",
      "Epoch 155/500\n",
      "182/182 [==============================] - 15s 81ms/step - loss: 0.6536 - accuracy: 0.7686 - val_loss: 1.0043 - val_accuracy: 0.7265\n",
      "Epoch 156/500\n",
      "182/182 [==============================] - 15s 82ms/step - loss: 0.6477 - accuracy: 0.7756 - val_loss: 1.0306 - val_accuracy: 0.7286\n",
      "Epoch 157/500\n",
      "182/182 [==============================] - 15s 82ms/step - loss: 0.6441 - accuracy: 0.7713 - val_loss: 1.0858 - val_accuracy: 0.7349\n",
      "Epoch 158/500\n",
      "182/182 [==============================] - 15s 82ms/step - loss: 0.6545 - accuracy: 0.7649 - val_loss: 1.0408 - val_accuracy: 0.7119\n",
      "Epoch 159/500\n",
      "182/182 [==============================] - 15s 81ms/step - loss: 0.6558 - accuracy: 0.7672 - val_loss: 1.0442 - val_accuracy: 0.7432\n",
      "Epoch 160/500\n",
      "182/182 [==============================] - 15s 82ms/step - loss: 0.6554 - accuracy: 0.7607 - val_loss: 0.9775 - val_accuracy: 0.7411\n",
      "Epoch 161/500\n",
      "182/182 [==============================] - 15s 82ms/step - loss: 0.6566 - accuracy: 0.7655 - val_loss: 1.0096 - val_accuracy: 0.7286\n",
      "Epoch 162/500\n",
      "182/182 [==============================] - 15s 81ms/step - loss: 0.6364 - accuracy: 0.7757 - val_loss: 1.0460 - val_accuracy: 0.7203\n",
      "Epoch 163/500\n",
      "182/182 [==============================] - 15s 82ms/step - loss: 0.6320 - accuracy: 0.7754 - val_loss: 0.9840 - val_accuracy: 0.7349\n",
      "Epoch 164/500\n",
      "182/182 [==============================] - 15s 82ms/step - loss: 0.6340 - accuracy: 0.7773 - val_loss: 0.9887 - val_accuracy: 0.7411\n",
      "Epoch 165/500\n",
      "182/182 [==============================] - 15s 81ms/step - loss: 0.6335 - accuracy: 0.7761 - val_loss: 1.0119 - val_accuracy: 0.7307\n",
      "Epoch 166/500\n",
      "182/182 [==============================] - 15s 82ms/step - loss: 0.6499 - accuracy: 0.7682 - val_loss: 0.9997 - val_accuracy: 0.7286\n",
      "Epoch 167/500\n",
      "182/182 [==============================] - 15s 82ms/step - loss: 0.6434 - accuracy: 0.7710 - val_loss: 1.0330 - val_accuracy: 0.7223\n",
      "Epoch 168/500\n",
      "182/182 [==============================] - 15s 81ms/step - loss: 0.6225 - accuracy: 0.7777 - val_loss: 1.0096 - val_accuracy: 0.7390\n",
      "Epoch 169/500\n",
      "182/182 [==============================] - 15s 82ms/step - loss: 0.6362 - accuracy: 0.7699 - val_loss: 1.0189 - val_accuracy: 0.7328\n",
      "Epoch 170/500\n",
      "182/182 [==============================] - 15s 82ms/step - loss: 0.6445 - accuracy: 0.7697 - val_loss: 1.0049 - val_accuracy: 0.7370\n",
      "Epoch 171/500\n",
      "182/182 [==============================] - 15s 82ms/step - loss: 0.6545 - accuracy: 0.7648 - val_loss: 1.0429 - val_accuracy: 0.7390\n",
      "Epoch 172/500\n",
      "182/182 [==============================] - 15s 82ms/step - loss: 0.6264 - accuracy: 0.7786 - val_loss: 1.0458 - val_accuracy: 0.7140\n",
      "Epoch 173/500\n",
      "182/182 [==============================] - 15s 82ms/step - loss: 0.6305 - accuracy: 0.7789 - val_loss: 1.0312 - val_accuracy: 0.7265\n",
      "Epoch 174/500\n",
      "182/182 [==============================] - 15s 81ms/step - loss: 0.6205 - accuracy: 0.7830 - val_loss: 1.0299 - val_accuracy: 0.7328\n",
      "Epoch 175/500\n",
      "182/182 [==============================] - 15s 82ms/step - loss: 0.6248 - accuracy: 0.7769 - val_loss: 1.0322 - val_accuracy: 0.7140\n",
      "Epoch 176/500\n",
      "182/182 [==============================] - 15s 82ms/step - loss: 0.6285 - accuracy: 0.7766 - val_loss: 1.0222 - val_accuracy: 0.7244\n",
      "Epoch 177/500\n",
      "182/182 [==============================] - 15s 81ms/step - loss: 0.6169 - accuracy: 0.7823 - val_loss: 1.0545 - val_accuracy: 0.7098\n",
      "Epoch 178/500\n",
      "182/182 [==============================] - 15s 82ms/step - loss: 0.6319 - accuracy: 0.7764 - val_loss: 1.0150 - val_accuracy: 0.7203\n",
      "Epoch 179/500\n",
      "182/182 [==============================] - 15s 82ms/step - loss: 0.6251 - accuracy: 0.7822 - val_loss: 0.9920 - val_accuracy: 0.7370\n",
      "Epoch 180/500\n",
      "182/182 [==============================] - 15s 82ms/step - loss: 0.6389 - accuracy: 0.7716 - val_loss: 1.0258 - val_accuracy: 0.7307\n",
      "Epoch 181/500\n",
      "182/182 [==============================] - 15s 82ms/step - loss: 0.6155 - accuracy: 0.7822 - val_loss: 1.0617 - val_accuracy: 0.7244\n",
      "Epoch 182/500\n",
      "182/182 [==============================] - 15s 82ms/step - loss: 0.6218 - accuracy: 0.7805 - val_loss: 1.0236 - val_accuracy: 0.7244\n",
      "Epoch 183/500\n",
      "181/182 [============================>.] - ETA: 0s - loss: 0.6382 - accuracy: 0.7753"
     ]
    },
    {
     "name": "stderr",
     "output_type": "stream",
     "text": [
      "WARNING:absl:Function `_wrapped_model` contains input name(s) Input with unsupported characters which will be renamed to input in the SavedModel.\n",
      "WARNING:absl:Found untraced functions such as lstm_cell_61_layer_call_fn, lstm_cell_61_layer_call_and_return_conditional_losses, lstm_cell_62_layer_call_fn, lstm_cell_62_layer_call_and_return_conditional_losses, lstm_cell_64_layer_call_fn while saving (showing 5 of 20). These functions will not be directly callable after loading.\n"
     ]
    },
    {
     "name": "stdout",
     "output_type": "stream",
     "text": [
      "INFO:tensorflow:Assets written to: experiments\\ResLSTM_Dec17_12-25-29\\base_ckpts\\cp_183.ckpt\\assets\n"
     ]
    },
    {
     "name": "stderr",
     "output_type": "stream",
     "text": [
      "INFO:tensorflow:Assets written to: experiments\\ResLSTM_Dec17_12-25-29\\base_ckpts\\cp_183.ckpt\\assets\n"
     ]
    },
    {
     "name": "stdout",
     "output_type": "stream",
     "text": [
      "182/182 [==============================] - 84s 464ms/step - loss: 0.6378 - accuracy: 0.7754 - val_loss: 1.0136 - val_accuracy: 0.7516\n",
      "Epoch 184/500\n",
      "182/182 [==============================] - 15s 81ms/step - loss: 0.6175 - accuracy: 0.7796 - val_loss: 1.0446 - val_accuracy: 0.7307\n",
      "Epoch 185/500\n",
      "182/182 [==============================] - 15s 81ms/step - loss: 0.6223 - accuracy: 0.7811 - val_loss: 1.0693 - val_accuracy: 0.7140\n",
      "Epoch 186/500\n",
      "182/182 [==============================] - 15s 81ms/step - loss: 0.6164 - accuracy: 0.7797 - val_loss: 1.0447 - val_accuracy: 0.7411\n",
      "Epoch 187/500\n",
      "182/182 [==============================] - 15s 81ms/step - loss: 0.6218 - accuracy: 0.7794 - val_loss: 1.0081 - val_accuracy: 0.7411\n",
      "Epoch 188/500\n",
      "182/182 [==============================] - 15s 81ms/step - loss: 0.6149 - accuracy: 0.7808 - val_loss: 1.0168 - val_accuracy: 0.7411\n",
      "Epoch 189/500\n",
      "182/182 [==============================] - 15s 81ms/step - loss: 0.6418 - accuracy: 0.7743 - val_loss: 1.0081 - val_accuracy: 0.7411\n",
      "Epoch 190/500\n",
      "182/182 [==============================] - 15s 81ms/step - loss: 0.6252 - accuracy: 0.7784 - val_loss: 1.0084 - val_accuracy: 0.7349\n",
      "Epoch 191/500\n",
      "182/182 [==============================] - 15s 82ms/step - loss: 0.6333 - accuracy: 0.7774 - val_loss: 1.0173 - val_accuracy: 0.7328\n",
      "Epoch 192/500\n",
      "182/182 [==============================] - 15s 81ms/step - loss: 0.6002 - accuracy: 0.7929 - val_loss: 1.0089 - val_accuracy: 0.7307\n",
      "Epoch 193/500\n",
      "182/182 [==============================] - 15s 80ms/step - loss: 0.5987 - accuracy: 0.7911 - val_loss: 1.0516 - val_accuracy: 0.7286\n",
      "Epoch 194/500\n",
      "182/182 [==============================] - 15s 81ms/step - loss: 0.6196 - accuracy: 0.7795 - val_loss: 1.0727 - val_accuracy: 0.7370\n",
      "Epoch 195/500\n",
      "182/182 [==============================] - 15s 81ms/step - loss: 0.6105 - accuracy: 0.7812 - val_loss: 1.0157 - val_accuracy: 0.7286\n",
      "Epoch 196/500\n",
      "182/182 [==============================] - 15s 82ms/step - loss: 0.6155 - accuracy: 0.7844 - val_loss: 1.0101 - val_accuracy: 0.7286\n",
      "Epoch 197/500\n",
      "182/182 [==============================] - 15s 81ms/step - loss: 0.6106 - accuracy: 0.7864 - val_loss: 1.0096 - val_accuracy: 0.7411\n",
      "Epoch 198/500\n",
      "182/182 [==============================] - 15s 81ms/step - loss: 0.6117 - accuracy: 0.7850 - val_loss: 1.0174 - val_accuracy: 0.7411\n",
      "Epoch 199/500\n",
      "182/182 [==============================] - 15s 81ms/step - loss: 0.6156 - accuracy: 0.7830 - val_loss: 1.0705 - val_accuracy: 0.7349\n",
      "Epoch 200/500\n",
      "182/182 [==============================] - 15s 81ms/step - loss: 0.6124 - accuracy: 0.7879 - val_loss: 1.0039 - val_accuracy: 0.7432\n",
      "Epoch 201/500\n",
      "182/182 [==============================] - 15s 81ms/step - loss: 0.5989 - accuracy: 0.7876 - val_loss: 1.0339 - val_accuracy: 0.7411\n",
      "Epoch 202/500\n",
      "182/182 [==============================] - 15s 81ms/step - loss: 0.6013 - accuracy: 0.7842 - val_loss: 1.0275 - val_accuracy: 0.7203\n",
      "Epoch 203/500\n",
      "182/182 [==============================] - 15s 81ms/step - loss: 0.6015 - accuracy: 0.7858 - val_loss: 1.0722 - val_accuracy: 0.7328\n",
      "Epoch 204/500\n",
      "182/182 [==============================] - 15s 81ms/step - loss: 0.6007 - accuracy: 0.7844 - val_loss: 1.0369 - val_accuracy: 0.7390\n",
      "Epoch 205/500\n",
      "182/182 [==============================] - 15s 82ms/step - loss: 0.6053 - accuracy: 0.7859 - val_loss: 1.0467 - val_accuracy: 0.7432\n",
      "Epoch 206/500\n",
      "182/182 [==============================] - 15s 81ms/step - loss: 0.6179 - accuracy: 0.7826 - val_loss: 1.0928 - val_accuracy: 0.7223\n",
      "Epoch 207/500\n",
      "182/182 [==============================] - 15s 81ms/step - loss: 0.6015 - accuracy: 0.7838 - val_loss: 1.0483 - val_accuracy: 0.7453\n",
      "Epoch 208/500\n",
      "182/182 [==============================] - 15s 81ms/step - loss: 0.6099 - accuracy: 0.7873 - val_loss: 1.1176 - val_accuracy: 0.7203\n",
      "Epoch 209/500\n",
      "182/182 [==============================] - 15s 81ms/step - loss: 0.6091 - accuracy: 0.7849 - val_loss: 1.0775 - val_accuracy: 0.7244\n",
      "Epoch 210/500\n",
      "182/182 [==============================] - 15s 82ms/step - loss: 0.6123 - accuracy: 0.7823 - val_loss: 1.0649 - val_accuracy: 0.7286\n",
      "Epoch 211/500\n",
      "182/182 [==============================] - 15s 81ms/step - loss: 0.5993 - accuracy: 0.7887 - val_loss: 1.1475 - val_accuracy: 0.7411\n",
      "Epoch 212/500\n",
      "182/182 [==============================] - 15s 82ms/step - loss: 0.5966 - accuracy: 0.7880 - val_loss: 1.0749 - val_accuracy: 0.7328\n",
      "Epoch 213/500\n",
      "182/182 [==============================] - 15s 81ms/step - loss: 0.6047 - accuracy: 0.7870 - val_loss: 1.1132 - val_accuracy: 0.7453\n",
      "Epoch 214/500\n",
      "182/182 [==============================] - 15s 81ms/step - loss: 0.5929 - accuracy: 0.7923 - val_loss: 1.0642 - val_accuracy: 0.7265\n",
      "Epoch 215/500\n",
      "182/182 [==============================] - 15s 82ms/step - loss: 0.5945 - accuracy: 0.7864 - val_loss: 1.1208 - val_accuracy: 0.7390\n",
      "Epoch 216/500\n",
      "182/182 [==============================] - 15s 81ms/step - loss: 0.5977 - accuracy: 0.7896 - val_loss: 1.0771 - val_accuracy: 0.7390\n",
      "Epoch 217/500\n",
      "182/182 [==============================] - 15s 81ms/step - loss: 0.5889 - accuracy: 0.7899 - val_loss: 1.1163 - val_accuracy: 0.7223\n",
      "Epoch 218/500\n",
      "182/182 [==============================] - 15s 82ms/step - loss: 0.5971 - accuracy: 0.7885 - val_loss: 1.0715 - val_accuracy: 0.7244\n",
      "Epoch 219/500\n",
      "182/182 [==============================] - 15s 82ms/step - loss: 0.5993 - accuracy: 0.7883 - val_loss: 1.0910 - val_accuracy: 0.7098\n",
      "Epoch 220/500\n",
      "182/182 [==============================] - 15s 81ms/step - loss: 0.5783 - accuracy: 0.7974 - val_loss: 1.1045 - val_accuracy: 0.7265\n",
      "Epoch 221/500\n",
      "182/182 [==============================] - 15s 81ms/step - loss: 0.5925 - accuracy: 0.7880 - val_loss: 1.0500 - val_accuracy: 0.7307\n",
      "Epoch 222/500\n",
      "182/182 [==============================] - 15s 81ms/step - loss: 0.5848 - accuracy: 0.7937 - val_loss: 1.0465 - val_accuracy: 0.7328\n",
      "Epoch 223/500\n",
      "182/182 [==============================] - 15s 81ms/step - loss: 0.5916 - accuracy: 0.7863 - val_loss: 1.0420 - val_accuracy: 0.7328\n",
      "Epoch 224/500\n",
      "182/182 [==============================] - 15s 81ms/step - loss: 0.5857 - accuracy: 0.7923 - val_loss: 1.0458 - val_accuracy: 0.7349\n",
      "Epoch 225/500\n",
      "182/182 [==============================] - 15s 81ms/step - loss: 0.6019 - accuracy: 0.7889 - val_loss: 1.0237 - val_accuracy: 0.7411\n",
      "Epoch 226/500\n",
      "182/182 [==============================] - 15s 81ms/step - loss: 0.5919 - accuracy: 0.7924 - val_loss: 1.0428 - val_accuracy: 0.7307\n",
      "Epoch 227/500\n",
      "182/182 [==============================] - 15s 82ms/step - loss: 0.5837 - accuracy: 0.7890 - val_loss: 1.1054 - val_accuracy: 0.7244\n",
      "Epoch 228/500\n",
      "182/182 [==============================] - 15s 81ms/step - loss: 0.5746 - accuracy: 0.7979 - val_loss: 1.0906 - val_accuracy: 0.7307\n",
      "Epoch 229/500\n",
      "182/182 [==============================] - 15s 82ms/step - loss: 0.5826 - accuracy: 0.7913 - val_loss: 1.0290 - val_accuracy: 0.7098\n",
      "Epoch 230/500\n",
      "182/182 [==============================] - 15s 82ms/step - loss: 0.5808 - accuracy: 0.7932 - val_loss: 1.0632 - val_accuracy: 0.7390\n",
      "Epoch 231/500\n",
      "182/182 [==============================] - 15s 81ms/step - loss: 0.5899 - accuracy: 0.7888 - val_loss: 1.0302 - val_accuracy: 0.7349\n",
      "Epoch 232/500\n",
      "182/182 [==============================] - 15s 82ms/step - loss: 0.5823 - accuracy: 0.7935 - val_loss: 1.0404 - val_accuracy: 0.7265\n",
      "Epoch 233/500\n",
      "182/182 [==============================] - 15s 82ms/step - loss: 0.5811 - accuracy: 0.7931 - val_loss: 1.0662 - val_accuracy: 0.7474\n",
      "Epoch 234/500\n",
      "182/182 [==============================] - 15s 82ms/step - loss: 0.5734 - accuracy: 0.7998 - val_loss: 1.1242 - val_accuracy: 0.7182\n",
      "Epoch 235/500\n",
      "182/182 [==============================] - 15s 81ms/step - loss: 0.5753 - accuracy: 0.7940 - val_loss: 1.0660 - val_accuracy: 0.7411\n",
      "Epoch 236/500\n",
      "182/182 [==============================] - 15s 82ms/step - loss: 0.5742 - accuracy: 0.7960 - val_loss: 1.1127 - val_accuracy: 0.7203\n",
      "Epoch 237/500\n",
      "182/182 [==============================] - 15s 81ms/step - loss: 0.5808 - accuracy: 0.7959 - val_loss: 1.1244 - val_accuracy: 0.7161\n",
      "Epoch 238/500\n",
      "182/182 [==============================] - 15s 82ms/step - loss: 0.5845 - accuracy: 0.7902 - val_loss: 1.0475 - val_accuracy: 0.7390\n"
     ]
    },
    {
     "name": "stdout",
     "output_type": "stream",
     "text": [
      "Epoch 239/500\n",
      "182/182 [==============================] - 15s 81ms/step - loss: 0.5631 - accuracy: 0.7998 - val_loss: 1.1391 - val_accuracy: 0.7286\n",
      "Epoch 240/500\n",
      "182/182 [==============================] - 15s 82ms/step - loss: 0.5724 - accuracy: 0.8006 - val_loss: 1.1001 - val_accuracy: 0.7223\n",
      "Epoch 241/500\n",
      "182/182 [==============================] - 15s 81ms/step - loss: 0.5694 - accuracy: 0.7940 - val_loss: 1.0594 - val_accuracy: 0.7411\n",
      "Epoch 242/500\n",
      "182/182 [==============================] - 15s 81ms/step - loss: 0.5719 - accuracy: 0.7976 - val_loss: 1.0923 - val_accuracy: 0.7307\n",
      "Epoch 243/500\n",
      "182/182 [==============================] - 15s 82ms/step - loss: 0.5742 - accuracy: 0.7981 - val_loss: 1.0263 - val_accuracy: 0.7307\n",
      "Epoch 244/500\n",
      "182/182 [==============================] - 15s 81ms/step - loss: 0.5761 - accuracy: 0.7924 - val_loss: 1.0839 - val_accuracy: 0.7453\n",
      "Epoch 245/500\n",
      "182/182 [==============================] - 15s 81ms/step - loss: 0.5757 - accuracy: 0.7984 - val_loss: 1.1003 - val_accuracy: 0.7370\n",
      "Epoch 246/500\n",
      "182/182 [==============================] - 15s 81ms/step - loss: 0.5631 - accuracy: 0.8011 - val_loss: 1.0335 - val_accuracy: 0.7495\n",
      "Epoch 247/500\n",
      "182/182 [==============================] - 15s 81ms/step - loss: 0.5687 - accuracy: 0.7993 - val_loss: 1.1189 - val_accuracy: 0.7056\n",
      "Epoch 248/500\n",
      "182/182 [==============================] - 15s 81ms/step - loss: 0.5677 - accuracy: 0.7959 - val_loss: 1.1259 - val_accuracy: 0.7349\n",
      "Epoch 249/500\n",
      "182/182 [==============================] - 15s 81ms/step - loss: 0.5729 - accuracy: 0.7903 - val_loss: 1.1510 - val_accuracy: 0.7203\n",
      "Epoch 250/500\n",
      "182/182 [==============================] - 15s 81ms/step - loss: 0.5652 - accuracy: 0.8012 - val_loss: 1.1194 - val_accuracy: 0.7390\n",
      "Epoch 251/500\n",
      "182/182 [==============================] - 15s 82ms/step - loss: 0.5687 - accuracy: 0.8003 - val_loss: 1.0859 - val_accuracy: 0.7223\n",
      "Epoch 252/500\n",
      "182/182 [==============================] - 15s 82ms/step - loss: 0.5771 - accuracy: 0.7980 - val_loss: 1.0982 - val_accuracy: 0.7307\n",
      "Epoch 253/500\n",
      "182/182 [==============================] - 15s 81ms/step - loss: 0.5604 - accuracy: 0.8003 - val_loss: 1.1198 - val_accuracy: 0.7182\n",
      "Epoch 254/500\n",
      "182/182 [==============================] - 15s 81ms/step - loss: 0.5702 - accuracy: 0.7979 - val_loss: 1.1317 - val_accuracy: 0.7182\n",
      "Epoch 255/500\n",
      "182/182 [==============================] - 15s 81ms/step - loss: 0.5627 - accuracy: 0.8020 - val_loss: 1.1256 - val_accuracy: 0.7286\n",
      "Epoch 256/500\n",
      "182/182 [==============================] - 15s 82ms/step - loss: 0.5768 - accuracy: 0.7991 - val_loss: 1.0627 - val_accuracy: 0.7432\n",
      "Epoch 257/500\n",
      "182/182 [==============================] - 15s 81ms/step - loss: 0.5677 - accuracy: 0.7987 - val_loss: 1.1371 - val_accuracy: 0.7203\n",
      "Epoch 258/500\n",
      "182/182 [==============================] - 15s 82ms/step - loss: 0.5680 - accuracy: 0.7998 - val_loss: 1.0918 - val_accuracy: 0.7307\n",
      "Epoch 259/500\n",
      "182/182 [==============================] - 15s 82ms/step - loss: 0.5820 - accuracy: 0.7939 - val_loss: 1.0792 - val_accuracy: 0.7203\n",
      "Epoch 260/500\n",
      "182/182 [==============================] - 15s 82ms/step - loss: 0.5712 - accuracy: 0.7966 - val_loss: 1.0707 - val_accuracy: 0.7432\n",
      "Epoch 261/500\n",
      "182/182 [==============================] - 15s 81ms/step - loss: 0.5757 - accuracy: 0.7955 - val_loss: 1.0627 - val_accuracy: 0.7203\n",
      "Epoch 262/500\n",
      "182/182 [==============================] - 15s 82ms/step - loss: 0.5714 - accuracy: 0.7963 - val_loss: 1.0380 - val_accuracy: 0.7286\n",
      "Epoch 263/500\n",
      "182/182 [==============================] - 15s 82ms/step - loss: 0.5619 - accuracy: 0.8025 - val_loss: 1.0552 - val_accuracy: 0.7328\n",
      "Epoch 264/500\n",
      "182/182 [==============================] - 15s 82ms/step - loss: 0.5690 - accuracy: 0.7992 - val_loss: 1.0700 - val_accuracy: 0.7349\n",
      "Epoch 265/500\n",
      "182/182 [==============================] - 15s 81ms/step - loss: 0.5684 - accuracy: 0.7966 - val_loss: 1.0158 - val_accuracy: 0.7349\n",
      "Epoch 266/500\n",
      "182/182 [==============================] - 15s 81ms/step - loss: 0.5657 - accuracy: 0.7977 - val_loss: 1.0325 - val_accuracy: 0.7307\n",
      "Epoch 267/500\n",
      "182/182 [==============================] - 15s 81ms/step - loss: 0.5480 - accuracy: 0.8077 - val_loss: 1.0621 - val_accuracy: 0.7265\n",
      "Epoch 268/500\n",
      "182/182 [==============================] - 15s 81ms/step - loss: 0.5446 - accuracy: 0.8100 - val_loss: 1.0556 - val_accuracy: 0.7307\n",
      "Epoch 269/500\n",
      "182/182 [==============================] - 15s 81ms/step - loss: 0.5524 - accuracy: 0.8041 - val_loss: 1.0754 - val_accuracy: 0.7203\n",
      "Epoch 270/500\n",
      "182/182 [==============================] - 15s 81ms/step - loss: 0.5529 - accuracy: 0.7995 - val_loss: 1.0878 - val_accuracy: 0.7265\n",
      "Epoch 271/500\n",
      "182/182 [==============================] - 15s 81ms/step - loss: 0.5548 - accuracy: 0.8037 - val_loss: 1.0625 - val_accuracy: 0.7203\n",
      "Epoch 272/500\n",
      "182/182 [==============================] - 15s 81ms/step - loss: 0.5451 - accuracy: 0.8090 - val_loss: 1.0489 - val_accuracy: 0.7390\n",
      "Epoch 273/500\n",
      "182/182 [==============================] - 15s 82ms/step - loss: 0.5610 - accuracy: 0.7967 - val_loss: 1.0699 - val_accuracy: 0.7349\n",
      "Epoch 274/500\n",
      "182/182 [==============================] - 15s 81ms/step - loss: 0.5608 - accuracy: 0.8018 - val_loss: 1.0858 - val_accuracy: 0.7390\n",
      "Epoch 275/500\n",
      "182/182 [==============================] - 15s 80ms/step - loss: 0.5485 - accuracy: 0.8047 - val_loss: 1.0334 - val_accuracy: 0.7411\n",
      "Epoch 276/500\n",
      "182/182 [==============================] - 15s 81ms/step - loss: 0.5467 - accuracy: 0.8079 - val_loss: 1.0702 - val_accuracy: 0.7286\n",
      "Epoch 277/500\n",
      "182/182 [==============================] - 15s 81ms/step - loss: 0.5450 - accuracy: 0.8056 - val_loss: 1.0150 - val_accuracy: 0.7328\n",
      "Epoch 278/500\n",
      "182/182 [==============================] - 15s 81ms/step - loss: 0.5488 - accuracy: 0.8027 - val_loss: 1.1387 - val_accuracy: 0.7286\n",
      "Epoch 279/500\n",
      "182/182 [==============================] - 15s 81ms/step - loss: 0.5445 - accuracy: 0.8111 - val_loss: 1.1270 - val_accuracy: 0.7349\n",
      "Epoch 280/500\n",
      "182/182 [==============================] - 15s 81ms/step - loss: 0.5455 - accuracy: 0.8073 - val_loss: 1.0984 - val_accuracy: 0.7265\n",
      "Epoch 281/500\n",
      "181/182 [============================>.] - ETA: 0s - loss: 0.5489 - accuracy: 0.8080"
     ]
    },
    {
     "name": "stderr",
     "output_type": "stream",
     "text": [
      "WARNING:absl:Function `_wrapped_model` contains input name(s) Input with unsupported characters which will be renamed to input in the SavedModel.\n",
      "WARNING:absl:Found untraced functions such as lstm_cell_61_layer_call_fn, lstm_cell_61_layer_call_and_return_conditional_losses, lstm_cell_62_layer_call_fn, lstm_cell_62_layer_call_and_return_conditional_losses, lstm_cell_64_layer_call_fn while saving (showing 5 of 20). These functions will not be directly callable after loading.\n"
     ]
    },
    {
     "name": "stdout",
     "output_type": "stream",
     "text": [
      "INFO:tensorflow:Assets written to: experiments\\ResLSTM_Dec17_12-25-29\\base_ckpts\\cp_281.ckpt\\assets\n"
     ]
    },
    {
     "name": "stderr",
     "output_type": "stream",
     "text": [
      "INFO:tensorflow:Assets written to: experiments\\ResLSTM_Dec17_12-25-29\\base_ckpts\\cp_281.ckpt\\assets\n"
     ]
    },
    {
     "name": "stdout",
     "output_type": "stream",
     "text": [
      "182/182 [==============================] - 87s 478ms/step - loss: 0.5487 - accuracy: 0.8081 - val_loss: 1.1040 - val_accuracy: 0.7557\n",
      "Epoch 282/500\n",
      "182/182 [==============================] - 15s 81ms/step - loss: 0.5393 - accuracy: 0.8074 - val_loss: 1.0577 - val_accuracy: 0.7432\n",
      "Epoch 283/500\n",
      "182/182 [==============================] - 15s 81ms/step - loss: 0.5536 - accuracy: 0.8078 - val_loss: 1.0756 - val_accuracy: 0.7328\n",
      "Epoch 284/500\n",
      "182/182 [==============================] - 15s 81ms/step - loss: 0.5368 - accuracy: 0.8114 - val_loss: 1.0968 - val_accuracy: 0.7537\n",
      "Epoch 285/500\n",
      "182/182 [==============================] - 15s 80ms/step - loss: 0.5308 - accuracy: 0.8112 - val_loss: 1.0844 - val_accuracy: 0.7349\n",
      "Epoch 286/500\n",
      "182/182 [==============================] - 15s 81ms/step - loss: 0.5424 - accuracy: 0.8066 - val_loss: 1.0396 - val_accuracy: 0.7370\n",
      "Epoch 287/500\n",
      "182/182 [==============================] - 15s 80ms/step - loss: 0.5400 - accuracy: 0.8101 - val_loss: 1.0387 - val_accuracy: 0.7411\n",
      "Epoch 288/500\n",
      "182/182 [==============================] - 15s 81ms/step - loss: 0.5451 - accuracy: 0.8081 - val_loss: 1.0799 - val_accuracy: 0.7390\n",
      "Epoch 289/500\n",
      "182/182 [==============================] - 15s 81ms/step - loss: 0.5413 - accuracy: 0.8097 - val_loss: 1.1076 - val_accuracy: 0.7349\n",
      "Epoch 290/500\n",
      "182/182 [==============================] - 15s 81ms/step - loss: 0.5347 - accuracy: 0.8089 - val_loss: 1.1065 - val_accuracy: 0.7286\n",
      "Epoch 291/500\n",
      "182/182 [==============================] - 15s 80ms/step - loss: 0.5416 - accuracy: 0.8076 - val_loss: 1.1158 - val_accuracy: 0.7223\n",
      "Epoch 292/500\n",
      "182/182 [==============================] - 15s 81ms/step - loss: 0.5332 - accuracy: 0.8100 - val_loss: 1.0952 - val_accuracy: 0.7307\n",
      "Epoch 293/500\n",
      "182/182 [==============================] - 15s 81ms/step - loss: 0.5405 - accuracy: 0.8089 - val_loss: 1.0531 - val_accuracy: 0.7307\n",
      "Epoch 294/500\n",
      "182/182 [==============================] - 15s 81ms/step - loss: 0.5459 - accuracy: 0.8054 - val_loss: 1.0399 - val_accuracy: 0.7432\n",
      "Epoch 295/500\n",
      "182/182 [==============================] - 15s 80ms/step - loss: 0.5323 - accuracy: 0.8117 - val_loss: 1.1123 - val_accuracy: 0.7203\n",
      "Epoch 296/500\n",
      "182/182 [==============================] - 15s 81ms/step - loss: 0.5440 - accuracy: 0.8063 - val_loss: 1.1286 - val_accuracy: 0.7370\n",
      "Epoch 297/500\n",
      "182/182 [==============================] - 15s 81ms/step - loss: 0.5360 - accuracy: 0.8119 - val_loss: 1.1736 - val_accuracy: 0.7328\n",
      "Epoch 298/500\n",
      "182/182 [==============================] - 15s 81ms/step - loss: 0.5362 - accuracy: 0.8092 - val_loss: 1.1415 - val_accuracy: 0.7370\n",
      "Epoch 299/500\n",
      "182/182 [==============================] - 15s 81ms/step - loss: 0.5402 - accuracy: 0.8080 - val_loss: 1.0920 - val_accuracy: 0.7411\n",
      "Epoch 300/500\n",
      "182/182 [==============================] - 15s 81ms/step - loss: 0.5438 - accuracy: 0.8105 - val_loss: 1.0728 - val_accuracy: 0.7328\n",
      "Epoch 301/500\n",
      "182/182 [==============================] - 15s 82ms/step - loss: 0.5381 - accuracy: 0.8074 - val_loss: 1.0847 - val_accuracy: 0.7286\n",
      "Epoch 302/500\n",
      "182/182 [==============================] - 15s 81ms/step - loss: 0.5332 - accuracy: 0.8121 - val_loss: 1.0732 - val_accuracy: 0.7182\n",
      "Epoch 303/500\n",
      "182/182 [==============================] - 15s 81ms/step - loss: 0.5264 - accuracy: 0.8132 - val_loss: 1.1151 - val_accuracy: 0.7286\n",
      "Epoch 304/500\n",
      "182/182 [==============================] - 15s 81ms/step - loss: 0.5298 - accuracy: 0.8109 - val_loss: 1.0897 - val_accuracy: 0.7286\n",
      "Epoch 305/500\n",
      "182/182 [==============================] - 15s 82ms/step - loss: 0.5302 - accuracy: 0.8123 - val_loss: 1.0767 - val_accuracy: 0.7182\n",
      "Epoch 306/500\n",
      "182/182 [==============================] - 15s 81ms/step - loss: 0.5362 - accuracy: 0.8090 - val_loss: 1.1274 - val_accuracy: 0.7140\n",
      "Epoch 307/500\n",
      "182/182 [==============================] - 15s 81ms/step - loss: 0.5472 - accuracy: 0.8058 - val_loss: 1.0823 - val_accuracy: 0.7328\n",
      "Epoch 308/500\n",
      "182/182 [==============================] - 15s 82ms/step - loss: 0.5386 - accuracy: 0.8099 - val_loss: 1.0536 - val_accuracy: 0.7349\n",
      "Epoch 309/500\n",
      "182/182 [==============================] - 15s 81ms/step - loss: 0.5351 - accuracy: 0.8089 - val_loss: 1.0788 - val_accuracy: 0.7203\n",
      "Epoch 310/500\n",
      "182/182 [==============================] - 15s 81ms/step - loss: 0.5344 - accuracy: 0.8102 - val_loss: 1.1230 - val_accuracy: 0.7161\n",
      "Epoch 311/500\n",
      "182/182 [==============================] - 15s 81ms/step - loss: 0.5341 - accuracy: 0.8105 - val_loss: 1.1229 - val_accuracy: 0.7390\n",
      "Epoch 312/500\n",
      "182/182 [==============================] - 15s 81ms/step - loss: 0.5186 - accuracy: 0.8175 - val_loss: 1.0968 - val_accuracy: 0.7140\n",
      "Epoch 313/500\n",
      "182/182 [==============================] - 15s 80ms/step - loss: 0.5196 - accuracy: 0.8169 - val_loss: 1.1322 - val_accuracy: 0.7244\n",
      "Epoch 314/500\n",
      "182/182 [==============================] - 15s 82ms/step - loss: 0.5383 - accuracy: 0.8088 - val_loss: 1.0644 - val_accuracy: 0.7411\n",
      "Epoch 315/500\n",
      "182/182 [==============================] - 15s 81ms/step - loss: 0.5509 - accuracy: 0.8062 - val_loss: 1.1216 - val_accuracy: 0.7223\n",
      "Epoch 316/500\n",
      "182/182 [==============================] - 15s 82ms/step - loss: 0.5270 - accuracy: 0.8129 - val_loss: 1.1069 - val_accuracy: 0.7370\n",
      "Epoch 317/500\n",
      "182/182 [==============================] - 15s 82ms/step - loss: 0.5348 - accuracy: 0.8121 - val_loss: 1.1135 - val_accuracy: 0.7265\n",
      "Epoch 318/500\n",
      "182/182 [==============================] - 15s 81ms/step - loss: 0.5062 - accuracy: 0.8220 - val_loss: 1.1014 - val_accuracy: 0.7140\n",
      "Epoch 319/500\n",
      "182/182 [==============================] - 15s 81ms/step - loss: 0.5307 - accuracy: 0.8102 - val_loss: 1.1651 - val_accuracy: 0.7370\n",
      "Epoch 320/500\n",
      "182/182 [==============================] - 15s 81ms/step - loss: 0.5277 - accuracy: 0.8127 - val_loss: 1.1432 - val_accuracy: 0.7307\n",
      "Epoch 321/500\n",
      "182/182 [==============================] - 15s 81ms/step - loss: 0.5220 - accuracy: 0.8131 - val_loss: 1.0756 - val_accuracy: 0.7411\n",
      "Epoch 322/500\n",
      "182/182 [==============================] - 15s 81ms/step - loss: 0.5272 - accuracy: 0.8133 - val_loss: 1.1360 - val_accuracy: 0.7390\n",
      "Epoch 323/500\n",
      "182/182 [==============================] - 15s 81ms/step - loss: 0.5199 - accuracy: 0.8164 - val_loss: 1.1506 - val_accuracy: 0.7223\n",
      "Epoch 324/500\n",
      "182/182 [==============================] - 15s 83ms/step - loss: 0.5275 - accuracy: 0.8137 - val_loss: 1.1247 - val_accuracy: 0.7182\n",
      "Epoch 325/500\n",
      "182/182 [==============================] - 15s 83ms/step - loss: 0.5249 - accuracy: 0.8130 - val_loss: 1.0946 - val_accuracy: 0.7265\n",
      "Epoch 326/500\n",
      "182/182 [==============================] - 15s 82ms/step - loss: 0.5269 - accuracy: 0.8144 - val_loss: 1.1083 - val_accuracy: 0.7244\n",
      "Epoch 327/500\n",
      "182/182 [==============================] - 15s 81ms/step - loss: 0.5166 - accuracy: 0.8220 - val_loss: 1.1501 - val_accuracy: 0.7411\n",
      "Epoch 328/500\n",
      "182/182 [==============================] - 15s 82ms/step - loss: 0.5229 - accuracy: 0.8154 - val_loss: 1.1671 - val_accuracy: 0.7265\n",
      "Epoch 329/500\n",
      "182/182 [==============================] - 15s 82ms/step - loss: 0.5171 - accuracy: 0.8104 - val_loss: 1.1409 - val_accuracy: 0.7244\n",
      "Epoch 330/500\n",
      "182/182 [==============================] - 15s 81ms/step - loss: 0.5176 - accuracy: 0.8147 - val_loss: 1.1683 - val_accuracy: 0.7098\n",
      "Epoch 331/500\n",
      "182/182 [==============================] - 15s 81ms/step - loss: 0.5299 - accuracy: 0.8113 - val_loss: 1.0927 - val_accuracy: 0.7244\n",
      "Epoch 332/500\n",
      "182/182 [==============================] - 15s 80ms/step - loss: 0.5109 - accuracy: 0.8188 - val_loss: 1.1602 - val_accuracy: 0.7370\n",
      "Epoch 333/500\n",
      "182/182 [==============================] - 15s 81ms/step - loss: 0.5207 - accuracy: 0.8164 - val_loss: 1.0888 - val_accuracy: 0.7432\n",
      "Epoch 334/500\n",
      "182/182 [==============================] - 15s 82ms/step - loss: 0.5307 - accuracy: 0.8106 - val_loss: 1.1132 - val_accuracy: 0.7432\n",
      "Epoch 335/500\n",
      "182/182 [==============================] - 15s 82ms/step - loss: 0.5162 - accuracy: 0.8182 - val_loss: 1.1126 - val_accuracy: 0.7203\n",
      "Epoch 336/500\n",
      "182/182 [==============================] - 15s 82ms/step - loss: 0.5050 - accuracy: 0.8232 - val_loss: 1.1250 - val_accuracy: 0.7390\n"
     ]
    },
    {
     "name": "stdout",
     "output_type": "stream",
     "text": [
      "Epoch 337/500\n",
      "182/182 [==============================] - 15s 82ms/step - loss: 0.5199 - accuracy: 0.8152 - val_loss: 1.1124 - val_accuracy: 0.7411\n",
      "Epoch 338/500\n",
      "182/182 [==============================] - 15s 81ms/step - loss: 0.5152 - accuracy: 0.8213 - val_loss: 1.0984 - val_accuracy: 0.7328\n",
      "Epoch 339/500\n",
      "182/182 [==============================] - 15s 81ms/step - loss: 0.5259 - accuracy: 0.8118 - val_loss: 1.0692 - val_accuracy: 0.7495\n",
      "Epoch 340/500\n",
      "182/182 [==============================] - 15s 81ms/step - loss: 0.5235 - accuracy: 0.8150 - val_loss: 1.1110 - val_accuracy: 0.7474\n",
      "Epoch 341/500\n",
      "182/182 [==============================] - 15s 81ms/step - loss: 0.5149 - accuracy: 0.8182 - val_loss: 1.1271 - val_accuracy: 0.7349\n",
      "Epoch 342/500\n",
      "182/182 [==============================] - 15s 80ms/step - loss: 0.5230 - accuracy: 0.8133 - val_loss: 1.0856 - val_accuracy: 0.7390\n",
      "Epoch 343/500\n",
      "182/182 [==============================] - 15s 81ms/step - loss: 0.5106 - accuracy: 0.8184 - val_loss: 1.0653 - val_accuracy: 0.7537\n",
      "Epoch 344/500\n",
      "182/182 [==============================] - 15s 81ms/step - loss: 0.5115 - accuracy: 0.8156 - val_loss: 1.1526 - val_accuracy: 0.7307\n",
      "Epoch 345/500\n",
      "182/182 [==============================] - 15s 81ms/step - loss: 0.5164 - accuracy: 0.8163 - val_loss: 1.1511 - val_accuracy: 0.7474\n",
      "Epoch 346/500\n",
      "182/182 [==============================] - 15s 81ms/step - loss: 0.5105 - accuracy: 0.8227 - val_loss: 1.1238 - val_accuracy: 0.7453\n",
      "Epoch 347/500\n",
      "182/182 [==============================] - 15s 82ms/step - loss: 0.5084 - accuracy: 0.8188 - val_loss: 1.1444 - val_accuracy: 0.7495\n",
      "Epoch 348/500\n",
      "182/182 [==============================] - 15s 82ms/step - loss: 0.5105 - accuracy: 0.8196 - val_loss: 1.1381 - val_accuracy: 0.7390\n",
      "Epoch 349/500\n",
      "182/182 [==============================] - 15s 81ms/step - loss: 0.4952 - accuracy: 0.8232 - val_loss: 1.1352 - val_accuracy: 0.7349\n",
      "Epoch 350/500\n",
      "182/182 [==============================] - 15s 82ms/step - loss: 0.5103 - accuracy: 0.8224 - val_loss: 1.1162 - val_accuracy: 0.7307\n",
      "Epoch 351/500\n",
      "181/182 [============================>.] - ETA: 0s - loss: 0.5155 - accuracy: 0.8162"
     ]
    },
    {
     "name": "stderr",
     "output_type": "stream",
     "text": [
      "WARNING:absl:Function `_wrapped_model` contains input name(s) Input with unsupported characters which will be renamed to input in the SavedModel.\n",
      "WARNING:absl:Found untraced functions such as lstm_cell_61_layer_call_fn, lstm_cell_61_layer_call_and_return_conditional_losses, lstm_cell_62_layer_call_fn, lstm_cell_62_layer_call_and_return_conditional_losses, lstm_cell_64_layer_call_fn while saving (showing 5 of 20). These functions will not be directly callable after loading.\n"
     ]
    },
    {
     "name": "stdout",
     "output_type": "stream",
     "text": [
      "INFO:tensorflow:Assets written to: experiments\\ResLSTM_Dec17_12-25-29\\base_ckpts\\cp_351.ckpt\\assets\n"
     ]
    },
    {
     "name": "stderr",
     "output_type": "stream",
     "text": [
      "INFO:tensorflow:Assets written to: experiments\\ResLSTM_Dec17_12-25-29\\base_ckpts\\cp_351.ckpt\\assets\n"
     ]
    },
    {
     "name": "stdout",
     "output_type": "stream",
     "text": [
      "182/182 [==============================] - 84s 463ms/step - loss: 0.5156 - accuracy: 0.8162 - val_loss: 1.1072 - val_accuracy: 0.7578\n",
      "Epoch 352/500\n",
      "182/182 [==============================] - 15s 82ms/step - loss: 0.5211 - accuracy: 0.8150 - val_loss: 1.0759 - val_accuracy: 0.7370\n",
      "Epoch 353/500\n",
      "182/182 [==============================] - 15s 82ms/step - loss: 0.5142 - accuracy: 0.8150 - val_loss: 1.1735 - val_accuracy: 0.7453\n",
      "Epoch 354/500\n",
      "182/182 [==============================] - 15s 81ms/step - loss: 0.5088 - accuracy: 0.8190 - val_loss: 1.1214 - val_accuracy: 0.7453\n",
      "Epoch 355/500\n",
      "182/182 [==============================] - 15s 82ms/step - loss: 0.4982 - accuracy: 0.8201 - val_loss: 1.1770 - val_accuracy: 0.7307\n",
      "Epoch 356/500\n",
      "182/182 [==============================] - 15s 81ms/step - loss: 0.5100 - accuracy: 0.8182 - val_loss: 1.2075 - val_accuracy: 0.7432\n",
      "Epoch 357/500\n",
      "182/182 [==============================] - 15s 82ms/step - loss: 0.5060 - accuracy: 0.8208 - val_loss: 1.1573 - val_accuracy: 0.7349\n",
      "Epoch 358/500\n",
      "182/182 [==============================] - 15s 82ms/step - loss: 0.5030 - accuracy: 0.8234 - val_loss: 1.1486 - val_accuracy: 0.7411\n",
      "Epoch 359/500\n",
      "182/182 [==============================] - 15s 83ms/step - loss: 0.5077 - accuracy: 0.8199 - val_loss: 1.0982 - val_accuracy: 0.7557\n",
      "Epoch 360/500\n",
      "182/182 [==============================] - 15s 82ms/step - loss: 0.4994 - accuracy: 0.8239 - val_loss: 1.0962 - val_accuracy: 0.7453\n",
      "Epoch 361/500\n",
      "182/182 [==============================] - 15s 82ms/step - loss: 0.4904 - accuracy: 0.8241 - val_loss: 1.1504 - val_accuracy: 0.7474\n",
      "Epoch 362/500\n",
      "182/182 [==============================] - 15s 84ms/step - loss: 0.5112 - accuracy: 0.8167 - val_loss: 1.1432 - val_accuracy: 0.7516\n",
      "Epoch 363/500\n",
      "182/182 [==============================] - 16s 85ms/step - loss: 0.5057 - accuracy: 0.8207 - val_loss: 1.1544 - val_accuracy: 0.7411\n",
      "Epoch 364/500\n",
      "182/182 [==============================] - 16s 86ms/step - loss: 0.5081 - accuracy: 0.8198 - val_loss: 1.1428 - val_accuracy: 0.7370\n",
      "Epoch 365/500\n",
      "182/182 [==============================] - 16s 85ms/step - loss: 0.4956 - accuracy: 0.8232 - val_loss: 1.0837 - val_accuracy: 0.7495\n",
      "Epoch 366/500\n",
      "182/182 [==============================] - 16s 85ms/step - loss: 0.4845 - accuracy: 0.8245 - val_loss: 1.0957 - val_accuracy: 0.7349\n",
      "Epoch 367/500\n",
      "182/182 [==============================] - 16s 85ms/step - loss: 0.5035 - accuracy: 0.8204 - val_loss: 1.1128 - val_accuracy: 0.7370\n",
      "Epoch 368/500\n",
      "182/182 [==============================] - 15s 84ms/step - loss: 0.4977 - accuracy: 0.8233 - val_loss: 1.0826 - val_accuracy: 0.7516\n",
      "Epoch 369/500\n",
      "182/182 [==============================] - 15s 84ms/step - loss: 0.5167 - accuracy: 0.8161 - val_loss: 1.0704 - val_accuracy: 0.7516\n",
      "Epoch 370/500\n",
      "182/182 [==============================] - 15s 84ms/step - loss: 0.4975 - accuracy: 0.8217 - val_loss: 1.0899 - val_accuracy: 0.7516\n",
      "Epoch 371/500\n",
      "182/182 [==============================] - 15s 83ms/step - loss: 0.5098 - accuracy: 0.8196 - val_loss: 1.0757 - val_accuracy: 0.7411\n",
      "Epoch 372/500\n",
      "182/182 [==============================] - 15s 85ms/step - loss: 0.4963 - accuracy: 0.8232 - val_loss: 1.1542 - val_accuracy: 0.7432\n",
      "Epoch 373/500\n",
      "182/182 [==============================] - 15s 84ms/step - loss: 0.4900 - accuracy: 0.8267 - val_loss: 1.1399 - val_accuracy: 0.7390\n",
      "Epoch 374/500\n",
      "182/182 [==============================] - 15s 84ms/step - loss: 0.4943 - accuracy: 0.8253 - val_loss: 1.1263 - val_accuracy: 0.7537\n",
      "Epoch 375/500\n",
      "182/182 [==============================] - 15s 83ms/step - loss: 0.4888 - accuracy: 0.8251 - val_loss: 1.1510 - val_accuracy: 0.7516\n",
      "Epoch 376/500\n",
      "182/182 [==============================] - 15s 84ms/step - loss: 0.4893 - accuracy: 0.8259 - val_loss: 1.1334 - val_accuracy: 0.7370\n",
      "Epoch 377/500\n",
      "182/182 [==============================] - 16s 86ms/step - loss: 0.5187 - accuracy: 0.8169 - val_loss: 1.1006 - val_accuracy: 0.7537\n",
      "Epoch 378/500\n",
      "182/182 [==============================] - 16s 86ms/step - loss: 0.4937 - accuracy: 0.8240 - val_loss: 1.0727 - val_accuracy: 0.7516\n",
      "Epoch 379/500\n",
      "182/182 [==============================] - 16s 85ms/step - loss: 0.4952 - accuracy: 0.8238 - val_loss: 1.0963 - val_accuracy: 0.7390\n",
      "Epoch 380/500\n",
      "182/182 [==============================] - 16s 85ms/step - loss: 0.4825 - accuracy: 0.8329 - val_loss: 1.0485 - val_accuracy: 0.7349\n",
      "Epoch 381/500\n",
      "182/182 [==============================] - 16s 86ms/step - loss: 0.5066 - accuracy: 0.8219 - val_loss: 1.0314 - val_accuracy: 0.7578\n",
      "Epoch 382/500\n",
      "182/182 [==============================] - 16s 86ms/step - loss: 0.5063 - accuracy: 0.8203 - val_loss: 1.0524 - val_accuracy: 0.7516\n",
      "Epoch 383/500\n",
      "182/182 [==============================] - 16s 85ms/step - loss: 0.4889 - accuracy: 0.8286 - val_loss: 1.0987 - val_accuracy: 0.7453\n",
      "Epoch 384/500\n",
      "182/182 [==============================] - 16s 86ms/step - loss: 0.4904 - accuracy: 0.8263 - val_loss: 1.0509 - val_accuracy: 0.7557\n",
      "Epoch 385/500\n",
      "182/182 [==============================] - 16s 85ms/step - loss: 0.4900 - accuracy: 0.8257 - val_loss: 1.0737 - val_accuracy: 0.7349\n",
      "Epoch 386/500\n",
      "182/182 [==============================] - 16s 85ms/step - loss: 0.4879 - accuracy: 0.8267 - val_loss: 1.0932 - val_accuracy: 0.7370\n",
      "Epoch 387/500\n",
      "182/182 [==============================] - 15s 84ms/step - loss: 0.4941 - accuracy: 0.8237 - val_loss: 1.1813 - val_accuracy: 0.7265\n",
      "Epoch 388/500\n",
      "182/182 [==============================] - 15s 84ms/step - loss: 0.4931 - accuracy: 0.8261 - val_loss: 1.1277 - val_accuracy: 0.7370\n",
      "Epoch 389/500\n",
      "182/182 [==============================] - 15s 85ms/step - loss: 0.4886 - accuracy: 0.8265 - val_loss: 1.0650 - val_accuracy: 0.7411\n",
      "Epoch 390/500\n",
      "182/182 [==============================] - 15s 84ms/step - loss: 0.4974 - accuracy: 0.8225 - val_loss: 1.1233 - val_accuracy: 0.7453\n",
      "Epoch 391/500\n",
      "182/182 [==============================] - 15s 85ms/step - loss: 0.5031 - accuracy: 0.8209 - val_loss: 1.1226 - val_accuracy: 0.7286\n",
      "Epoch 392/500\n",
      "182/182 [==============================] - 15s 84ms/step - loss: 0.4942 - accuracy: 0.8225 - val_loss: 1.1440 - val_accuracy: 0.7223\n",
      "Epoch 393/500\n",
      "182/182 [==============================] - 15s 84ms/step - loss: 0.4955 - accuracy: 0.8264 - val_loss: 1.1999 - val_accuracy: 0.7328\n",
      "Epoch 394/500\n",
      "182/182 [==============================] - 15s 84ms/step - loss: 0.4980 - accuracy: 0.8218 - val_loss: 1.1090 - val_accuracy: 0.7411\n",
      "Epoch 395/500\n",
      "182/182 [==============================] - 15s 84ms/step - loss: 0.4808 - accuracy: 0.8290 - val_loss: 1.1059 - val_accuracy: 0.7265\n",
      "Epoch 396/500\n",
      "182/182 [==============================] - 15s 84ms/step - loss: 0.4860 - accuracy: 0.8309 - val_loss: 1.1411 - val_accuracy: 0.7265\n",
      "Epoch 397/500\n",
      "182/182 [==============================] - 15s 84ms/step - loss: 0.4925 - accuracy: 0.8269 - val_loss: 1.0730 - val_accuracy: 0.7390\n",
      "Epoch 398/500\n",
      "182/182 [==============================] - 15s 85ms/step - loss: 0.4858 - accuracy: 0.8289 - val_loss: 1.1247 - val_accuracy: 0.7370\n",
      "Epoch 399/500\n",
      "182/182 [==============================] - 15s 84ms/step - loss: 0.4959 - accuracy: 0.8282 - val_loss: 1.0839 - val_accuracy: 0.7453\n",
      "Epoch 400/500\n",
      "182/182 [==============================] - 16s 85ms/step - loss: 0.4958 - accuracy: 0.8242 - val_loss: 1.1618 - val_accuracy: 0.7286\n",
      "Epoch 401/500\n",
      "182/182 [==============================] - 15s 84ms/step - loss: 0.5003 - accuracy: 0.8246 - val_loss: 1.0910 - val_accuracy: 0.7349\n",
      "Epoch 402/500\n",
      "182/182 [==============================] - 15s 85ms/step - loss: 0.4816 - accuracy: 0.8307 - val_loss: 1.1040 - val_accuracy: 0.7161\n",
      "Epoch 403/500\n",
      "182/182 [==============================] - 15s 84ms/step - loss: 0.4926 - accuracy: 0.8262 - val_loss: 1.1306 - val_accuracy: 0.7349\n",
      "Epoch 404/500\n",
      "182/182 [==============================] - 15s 84ms/step - loss: 0.4902 - accuracy: 0.8302 - val_loss: 1.1470 - val_accuracy: 0.7390\n",
      "Epoch 405/500\n",
      "182/182 [==============================] - 15s 84ms/step - loss: 0.4719 - accuracy: 0.8347 - val_loss: 1.1038 - val_accuracy: 0.7495\n",
      "Epoch 406/500\n",
      "182/182 [==============================] - 15s 84ms/step - loss: 0.4873 - accuracy: 0.8261 - val_loss: 1.1707 - val_accuracy: 0.7537\n"
     ]
    },
    {
     "name": "stdout",
     "output_type": "stream",
     "text": [
      "Epoch 407/500\n",
      "182/182 [==============================] - 15s 83ms/step - loss: 0.4907 - accuracy: 0.8262 - val_loss: 1.1135 - val_accuracy: 0.7390\n",
      "Epoch 408/500\n",
      "182/182 [==============================] - 15s 83ms/step - loss: 0.4872 - accuracy: 0.8256 - val_loss: 1.1464 - val_accuracy: 0.7370\n",
      "Epoch 409/500\n",
      "182/182 [==============================] - 15s 84ms/step - loss: 0.4902 - accuracy: 0.8295 - val_loss: 1.0856 - val_accuracy: 0.7161\n",
      "Epoch 410/500\n",
      "182/182 [==============================] - 15s 84ms/step - loss: 0.4826 - accuracy: 0.8343 - val_loss: 1.1183 - val_accuracy: 0.7453\n",
      "Epoch 411/500\n",
      "182/182 [==============================] - 15s 83ms/step - loss: 0.4740 - accuracy: 0.8342 - val_loss: 1.1087 - val_accuracy: 0.7349\n",
      "Epoch 412/500\n",
      "182/182 [==============================] - 15s 83ms/step - loss: 0.4759 - accuracy: 0.8325 - val_loss: 1.1425 - val_accuracy: 0.7265\n",
      "Epoch 413/500\n",
      "182/182 [==============================] - 15s 84ms/step - loss: 0.4862 - accuracy: 0.8284 - val_loss: 1.1318 - val_accuracy: 0.7432\n",
      "Epoch 414/500\n",
      "182/182 [==============================] - 15s 84ms/step - loss: 0.4836 - accuracy: 0.8300 - val_loss: 1.1173 - val_accuracy: 0.7182\n",
      "Epoch 415/500\n",
      "182/182 [==============================] - 15s 84ms/step - loss: 0.4763 - accuracy: 0.8288 - val_loss: 1.1923 - val_accuracy: 0.7182\n",
      "Epoch 416/500\n",
      "182/182 [==============================] - 15s 84ms/step - loss: 0.4929 - accuracy: 0.8261 - val_loss: 1.1373 - val_accuracy: 0.7495\n",
      "Epoch 417/500\n",
      "182/182 [==============================] - 15s 84ms/step - loss: 0.4800 - accuracy: 0.8291 - val_loss: 1.1728 - val_accuracy: 0.7286\n",
      "Epoch 418/500\n",
      "182/182 [==============================] - 15s 83ms/step - loss: 0.4776 - accuracy: 0.8307 - val_loss: 1.1377 - val_accuracy: 0.7286\n",
      "Epoch 419/500\n",
      "182/182 [==============================] - 15s 83ms/step - loss: 0.4763 - accuracy: 0.8307 - val_loss: 1.1694 - val_accuracy: 0.7390\n",
      "Epoch 420/500\n",
      "182/182 [==============================] - 15s 83ms/step - loss: 0.4853 - accuracy: 0.8285 - val_loss: 1.1843 - val_accuracy: 0.7474\n",
      "Epoch 421/500\n",
      "182/182 [==============================] - 15s 84ms/step - loss: 0.4789 - accuracy: 0.8283 - val_loss: 1.1307 - val_accuracy: 0.7349\n",
      "Epoch 422/500\n",
      "182/182 [==============================] - 15s 84ms/step - loss: 0.4784 - accuracy: 0.8289 - val_loss: 1.1815 - val_accuracy: 0.7161\n",
      "Epoch 423/500\n",
      "182/182 [==============================] - 15s 84ms/step - loss: 0.4865 - accuracy: 0.8304 - val_loss: 1.1384 - val_accuracy: 0.7474\n",
      "Epoch 424/500\n",
      "182/182 [==============================] - 15s 84ms/step - loss: 0.4811 - accuracy: 0.8304 - val_loss: 1.1604 - val_accuracy: 0.7328\n",
      "Epoch 425/500\n",
      "182/182 [==============================] - 15s 83ms/step - loss: 0.4591 - accuracy: 0.8348 - val_loss: 1.1699 - val_accuracy: 0.7411\n",
      "Epoch 426/500\n",
      "182/182 [==============================] - 15s 84ms/step - loss: 0.4742 - accuracy: 0.8330 - val_loss: 1.1789 - val_accuracy: 0.7453\n",
      "Epoch 427/500\n",
      "182/182 [==============================] - 15s 84ms/step - loss: 0.4779 - accuracy: 0.8314 - val_loss: 1.1465 - val_accuracy: 0.7557\n",
      "Epoch 428/500\n",
      "182/182 [==============================] - 15s 84ms/step - loss: 0.4772 - accuracy: 0.8345 - val_loss: 1.1597 - val_accuracy: 0.7474\n",
      "Epoch 429/500\n",
      "182/182 [==============================] - 15s 83ms/step - loss: 0.4672 - accuracy: 0.8346 - val_loss: 1.1445 - val_accuracy: 0.7349\n",
      "Epoch 430/500\n",
      "182/182 [==============================] - 15s 84ms/step - loss: 0.4876 - accuracy: 0.8276 - val_loss: 1.1715 - val_accuracy: 0.7349\n",
      "Epoch 431/500\n",
      "182/182 [==============================] - 15s 84ms/step - loss: 0.4763 - accuracy: 0.8311 - val_loss: 1.2349 - val_accuracy: 0.7286\n",
      "Epoch 432/500\n",
      "182/182 [==============================] - 15s 84ms/step - loss: 0.4946 - accuracy: 0.8271 - val_loss: 1.1530 - val_accuracy: 0.7286\n",
      "Epoch 433/500\n",
      "182/182 [==============================] - 15s 84ms/step - loss: 0.4752 - accuracy: 0.8334 - val_loss: 1.1831 - val_accuracy: 0.7370\n",
      "Epoch 434/500\n",
      "182/182 [==============================] - 15s 83ms/step - loss: 0.4617 - accuracy: 0.8369 - val_loss: 1.1764 - val_accuracy: 0.7265\n",
      "Epoch 435/500\n",
      "182/182 [==============================] - 15s 84ms/step - loss: 0.4744 - accuracy: 0.8293 - val_loss: 1.1276 - val_accuracy: 0.7537\n",
      "Epoch 436/500\n",
      "182/182 [==============================] - 15s 84ms/step - loss: 0.4716 - accuracy: 0.8335 - val_loss: 1.1550 - val_accuracy: 0.7328\n",
      "Epoch 437/500\n",
      "182/182 [==============================] - 15s 84ms/step - loss: 0.4682 - accuracy: 0.8332 - val_loss: 1.1852 - val_accuracy: 0.7286\n",
      "Epoch 438/500\n",
      "182/182 [==============================] - 15s 83ms/step - loss: 0.4652 - accuracy: 0.8331 - val_loss: 1.1891 - val_accuracy: 0.7328\n",
      "Epoch 439/500\n",
      "182/182 [==============================] - 15s 84ms/step - loss: 0.4553 - accuracy: 0.8399 - val_loss: 1.1646 - val_accuracy: 0.7390\n",
      "Epoch 440/500\n",
      "182/182 [==============================] - 15s 83ms/step - loss: 0.4635 - accuracy: 0.8332 - val_loss: 1.1063 - val_accuracy: 0.7432\n",
      "Epoch 441/500\n",
      "182/182 [==============================] - 15s 84ms/step - loss: 0.4820 - accuracy: 0.8307 - val_loss: 1.1497 - val_accuracy: 0.7411\n",
      "Epoch 442/500\n",
      "182/182 [==============================] - 15s 84ms/step - loss: 0.4738 - accuracy: 0.8339 - val_loss: 1.2229 - val_accuracy: 0.7223\n",
      "Epoch 443/500\n",
      "182/182 [==============================] - 15s 84ms/step - loss: 0.4669 - accuracy: 0.8349 - val_loss: 1.2431 - val_accuracy: 0.7328\n",
      "Epoch 444/500\n",
      "182/182 [==============================] - 15s 84ms/step - loss: 0.4597 - accuracy: 0.8346 - val_loss: 1.1903 - val_accuracy: 0.7328\n",
      "Epoch 445/500\n",
      "182/182 [==============================] - 15s 84ms/step - loss: 0.4652 - accuracy: 0.8345 - val_loss: 1.1765 - val_accuracy: 0.7370\n",
      "Epoch 446/500\n",
      "182/182 [==============================] - 15s 84ms/step - loss: 0.4703 - accuracy: 0.8310 - val_loss: 1.1892 - val_accuracy: 0.7286\n",
      "Epoch 447/500\n",
      "182/182 [==============================] - 15s 84ms/step - loss: 0.4789 - accuracy: 0.8288 - val_loss: 1.1749 - val_accuracy: 0.7390\n",
      "Epoch 448/500\n",
      "182/182 [==============================] - 15s 84ms/step - loss: 0.4801 - accuracy: 0.8307 - val_loss: 1.1252 - val_accuracy: 0.7349\n",
      "Epoch 449/500\n",
      "182/182 [==============================] - 15s 84ms/step - loss: 0.4553 - accuracy: 0.8380 - val_loss: 1.2218 - val_accuracy: 0.7265\n",
      "Epoch 450/500\n",
      "182/182 [==============================] - 15s 84ms/step - loss: 0.4612 - accuracy: 0.8401 - val_loss: 1.1641 - val_accuracy: 0.7411\n",
      "Epoch 451/500\n",
      "182/182 [==============================] - 15s 84ms/step - loss: 0.4730 - accuracy: 0.8312 - val_loss: 1.1930 - val_accuracy: 0.7265\n",
      "Epoch 452/500\n",
      "182/182 [==============================] - 15s 84ms/step - loss: 0.4797 - accuracy: 0.8303 - val_loss: 1.1780 - val_accuracy: 0.7349\n",
      "Epoch 453/500\n",
      "182/182 [==============================] - 15s 84ms/step - loss: 0.4618 - accuracy: 0.8400 - val_loss: 1.1753 - val_accuracy: 0.7390\n",
      "Epoch 454/500\n",
      "182/182 [==============================] - 15s 84ms/step - loss: 0.4485 - accuracy: 0.8416 - val_loss: 1.2101 - val_accuracy: 0.7223\n",
      "Epoch 455/500\n",
      "182/182 [==============================] - 15s 84ms/step - loss: 0.4634 - accuracy: 0.8335 - val_loss: 1.2287 - val_accuracy: 0.7223\n",
      "Epoch 456/500\n",
      "182/182 [==============================] - 15s 84ms/step - loss: 0.4641 - accuracy: 0.8332 - val_loss: 1.2189 - val_accuracy: 0.7244\n",
      "Epoch 457/500\n",
      "182/182 [==============================] - 15s 84ms/step - loss: 0.4703 - accuracy: 0.8343 - val_loss: 1.1744 - val_accuracy: 0.7286\n",
      "Epoch 458/500\n",
      "182/182 [==============================] - 15s 84ms/step - loss: 0.4523 - accuracy: 0.8405 - val_loss: 1.1861 - val_accuracy: 0.7265\n",
      "Epoch 459/500\n",
      "182/182 [==============================] - 15s 84ms/step - loss: 0.4589 - accuracy: 0.8373 - val_loss: 1.2186 - val_accuracy: 0.7328\n",
      "Epoch 460/500\n",
      "182/182 [==============================] - 15s 84ms/step - loss: 0.4620 - accuracy: 0.8361 - val_loss: 1.2381 - val_accuracy: 0.7265\n",
      "Epoch 461/500\n",
      "182/182 [==============================] - 15s 83ms/step - loss: 0.4625 - accuracy: 0.8357 - val_loss: 1.2348 - val_accuracy: 0.7119\n",
      "Epoch 462/500\n",
      "182/182 [==============================] - 15s 84ms/step - loss: 0.4688 - accuracy: 0.8360 - val_loss: 1.1935 - val_accuracy: 0.7265\n"
     ]
    },
    {
     "name": "stdout",
     "output_type": "stream",
     "text": [
      "Epoch 463/500\n",
      "182/182 [==============================] - 15s 85ms/step - loss: 0.4706 - accuracy: 0.8392 - val_loss: 1.2579 - val_accuracy: 0.7223\n",
      "Epoch 464/500\n",
      "182/182 [==============================] - 15s 84ms/step - loss: 0.4555 - accuracy: 0.8415 - val_loss: 1.1648 - val_accuracy: 0.7182\n",
      "Epoch 465/500\n",
      "182/182 [==============================] - 15s 84ms/step - loss: 0.4602 - accuracy: 0.8383 - val_loss: 1.2221 - val_accuracy: 0.7265\n",
      "Epoch 466/500\n",
      "182/182 [==============================] - 15s 84ms/step - loss: 0.4553 - accuracy: 0.8373 - val_loss: 1.2480 - val_accuracy: 0.7182\n",
      "Epoch 467/500\n",
      "182/182 [==============================] - 15s 85ms/step - loss: 0.4753 - accuracy: 0.8332 - val_loss: 1.2443 - val_accuracy: 0.7223\n",
      "Epoch 468/500\n",
      "182/182 [==============================] - 15s 84ms/step - loss: 0.4649 - accuracy: 0.8384 - val_loss: 1.1963 - val_accuracy: 0.7370\n",
      "Epoch 469/500\n",
      "182/182 [==============================] - 15s 84ms/step - loss: 0.4599 - accuracy: 0.8376 - val_loss: 1.2096 - val_accuracy: 0.7349\n",
      "Epoch 470/500\n",
      "182/182 [==============================] - 15s 84ms/step - loss: 0.4613 - accuracy: 0.8361 - val_loss: 1.1275 - val_accuracy: 0.7286\n",
      "Epoch 471/500\n",
      "182/182 [==============================] - 15s 84ms/step - loss: 0.4614 - accuracy: 0.8341 - val_loss: 1.1617 - val_accuracy: 0.7349\n",
      "Epoch 472/500\n",
      "182/182 [==============================] - 15s 83ms/step - loss: 0.4449 - accuracy: 0.8445 - val_loss: 1.1652 - val_accuracy: 0.7390\n",
      "Epoch 473/500\n",
      "182/182 [==============================] - 15s 83ms/step - loss: 0.4519 - accuracy: 0.8393 - val_loss: 1.1669 - val_accuracy: 0.7265\n",
      "Epoch 474/500\n",
      "182/182 [==============================] - 15s 84ms/step - loss: 0.4579 - accuracy: 0.8398 - val_loss: 1.1396 - val_accuracy: 0.7328\n",
      "Epoch 475/500\n",
      "182/182 [==============================] - 15s 84ms/step - loss: 0.4608 - accuracy: 0.8392 - val_loss: 1.1776 - val_accuracy: 0.7328\n",
      "Epoch 476/500\n",
      "182/182 [==============================] - 15s 84ms/step - loss: 0.4668 - accuracy: 0.8382 - val_loss: 1.1820 - val_accuracy: 0.7265\n",
      "Epoch 477/500\n",
      "182/182 [==============================] - 15s 83ms/step - loss: 0.4616 - accuracy: 0.8377 - val_loss: 1.1564 - val_accuracy: 0.7140\n",
      "Epoch 478/500\n",
      "182/182 [==============================] - 15s 83ms/step - loss: 0.4519 - accuracy: 0.8434 - val_loss: 1.1902 - val_accuracy: 0.7161\n",
      "Epoch 479/500\n",
      "182/182 [==============================] - 15s 84ms/step - loss: 0.4476 - accuracy: 0.8432 - val_loss: 1.1573 - val_accuracy: 0.7370\n",
      "Epoch 480/500\n",
      "182/182 [==============================] - 15s 83ms/step - loss: 0.4560 - accuracy: 0.8389 - val_loss: 1.1408 - val_accuracy: 0.7349\n",
      "Epoch 481/500\n",
      "182/182 [==============================] - 15s 84ms/step - loss: 0.4528 - accuracy: 0.8391 - val_loss: 1.1439 - val_accuracy: 0.7182\n",
      "Epoch 482/500\n",
      "182/182 [==============================] - 15s 84ms/step - loss: 0.4660 - accuracy: 0.8339 - val_loss: 1.2076 - val_accuracy: 0.7119\n",
      "Epoch 483/500\n",
      "182/182 [==============================] - 15s 83ms/step - loss: 0.4587 - accuracy: 0.8387 - val_loss: 1.1671 - val_accuracy: 0.7286\n",
      "Epoch 484/500\n",
      "182/182 [==============================] - 15s 84ms/step - loss: 0.4429 - accuracy: 0.8434 - val_loss: 1.1699 - val_accuracy: 0.7349\n",
      "Epoch 485/500\n",
      "182/182 [==============================] - 15s 84ms/step - loss: 0.4455 - accuracy: 0.8449 - val_loss: 1.2004 - val_accuracy: 0.7244\n",
      "Epoch 486/500\n",
      "182/182 [==============================] - 15s 84ms/step - loss: 0.4374 - accuracy: 0.8453 - val_loss: 1.1992 - val_accuracy: 0.7182\n",
      "Epoch 487/500\n",
      "182/182 [==============================] - 15s 83ms/step - loss: 0.4507 - accuracy: 0.8404 - val_loss: 1.1392 - val_accuracy: 0.7453\n",
      "Epoch 488/500\n",
      "182/182 [==============================] - 15s 84ms/step - loss: 0.4466 - accuracy: 0.8424 - val_loss: 1.1665 - val_accuracy: 0.7182\n",
      "Epoch 489/500\n",
      "182/182 [==============================] - 15s 83ms/step - loss: 0.4471 - accuracy: 0.8445 - val_loss: 1.1671 - val_accuracy: 0.7328\n",
      "Epoch 490/500\n",
      "182/182 [==============================] - 15s 84ms/step - loss: 0.4541 - accuracy: 0.8409 - val_loss: 1.2004 - val_accuracy: 0.7286\n",
      "Epoch 491/500\n",
      "182/182 [==============================] - 15s 85ms/step - loss: 0.4616 - accuracy: 0.8371 - val_loss: 1.2050 - val_accuracy: 0.7349\n",
      "Epoch 492/500\n",
      "182/182 [==============================] - 15s 83ms/step - loss: 0.4516 - accuracy: 0.8427 - val_loss: 1.1104 - val_accuracy: 0.7370\n",
      "Epoch 493/500\n",
      "182/182 [==============================] - 15s 84ms/step - loss: 0.4458 - accuracy: 0.8423 - val_loss: 1.1333 - val_accuracy: 0.7223\n",
      "Epoch 494/500\n",
      "182/182 [==============================] - 15s 84ms/step - loss: 0.4461 - accuracy: 0.8432 - val_loss: 1.1858 - val_accuracy: 0.7265\n",
      "Epoch 495/500\n",
      "182/182 [==============================] - 15s 85ms/step - loss: 0.4358 - accuracy: 0.8483 - val_loss: 1.1611 - val_accuracy: 0.7265\n",
      "Epoch 496/500\n",
      "182/182 [==============================] - 16s 85ms/step - loss: 0.4530 - accuracy: 0.8427 - val_loss: 1.1270 - val_accuracy: 0.7432\n",
      "Epoch 497/500\n",
      "182/182 [==============================] - 15s 84ms/step - loss: 0.4370 - accuracy: 0.8458 - val_loss: 1.1643 - val_accuracy: 0.7328\n",
      "Epoch 498/500\n",
      "182/182 [==============================] - 15s 84ms/step - loss: 0.4378 - accuracy: 0.8431 - val_loss: 1.1190 - val_accuracy: 0.7432\n",
      "Epoch 499/500\n",
      "182/182 [==============================] - 16s 85ms/step - loss: 0.4514 - accuracy: 0.8377 - val_loss: 1.1590 - val_accuracy: 0.7286\n",
      "Epoch 500/500\n",
      "182/182 [==============================] - 16s 85ms/step - loss: 0.4486 - accuracy: 0.8427 - val_loss: 1.1611 - val_accuracy: 0.7349\n"
     ]
    }
   ],
   "source": [
    "history = model.fit(\n",
    "    generator,\n",
    "    validation_data = val_generator,\n",
    "    epochs = 500,\n",
    "    shuffle=False,\n",
    "    callbacks=callbacks\n",
    ").history"
   ]
  },
  {
   "cell_type": "code",
   "execution_count": 36,
   "metadata": {
    "pycharm": {
     "name": "#%%\n"
    }
   },
   "outputs": [],
   "source": [
    "from keras.callbacks import Callback\n",
    "from keras import backend as K\n",
    "import math\n",
    "\n",
    "class CosineAnnealingScheduler(Callback):\n",
    "    \"\"\"Cosine annealing scheduler.\n",
    "    \"\"\"\n",
    "\n",
    "    def __init__(self, T_max, eta_max, eta_min=0., verbose=0):\n",
    "        super(CosineAnnealingScheduler, self).__init__()\n",
    "        self.T_max = T_max\n",
    "        self.eta_max = eta_max\n",
    "        self.eta_min = eta_min\n",
    "        self.verbose = verbose\n",
    "\n",
    "    def on_epoch_begin(self, epoch, logs=None):\n",
    "        if not hasattr(self.model.optimizer, 'lr'):\n",
    "            raise ValueError('Optimizer must have a \"lr\" attribute.')\n",
    "        lr = self.eta_min + (self.eta_max - self.eta_min) * (1 + math.cos(math.pi * epoch / self.T_max)) / 2\n",
    "        K.set_value(self.model.optimizer.lr, lr)\n",
    "        if self.verbose > 0:\n",
    "            print('\\nEpoch %05d: CosineAnnealingScheduler setting learning '\n",
    "                  'rate to %s.' % (epoch + 1, lr))\n",
    "\n",
    "    def on_epoch_end(self, epoch, logs=None):\n",
    "        logs = logs or {}\n",
    "        logs['lr'] = K.get_value(self.model.optimizer.lr)\n",
    "        \n",
    "# callbacks.append(CosineAnnealingScheduler(T_max=50, eta_max=1e-1, eta_min=1e-4))"
   ]
  },
  {
   "cell_type": "code",
   "execution_count": 30,
   "metadata": {
    "pycharm": {
     "name": "#%%\n"
    }
   },
   "outputs": [],
   "source": [
    "def categorical_focal_loss(y_true, y_pred):\n",
    "    \"\"\"\n",
    "    Softmax version of focal loss.\n",
    "    When there is a skew between different categories/labels in your data set, you can try to apply this function as a\n",
    "    loss.\n",
    "           m\n",
    "      FL = ∑  -alpha * (1 - p_o,c)^gamma * y_o,c * log(p_o,c)\n",
    "          c=1\n",
    "      where m = number of classes, c = class and o = observation\n",
    "    Parameters:\n",
    "      alpha -- the same as weighing factor in balanced cross entropy. Alpha is used to specify the weight of different\n",
    "      categories/labels, the size of the array needs to be consistent with the number of classes.\n",
    "      gamma -- focusing parameter for modulating factor (1-p)\n",
    "    Default value:\n",
    "      gamma -- 2.0 as mentioned in the paper\n",
    "      alpha -- 0.25 as mentioned in the paper\n",
    "    References:\n",
    "        Official paper: https://arxiv.org/pdf/1708.02002.pdf\n",
    "        https://www.tensorflow.org/api_docs/python/tf/keras/backend/categorical_crossentropy\n",
    "    Usage:\n",
    "     model.compile(loss=[categorical_focal_loss(alpha=[[.25, .25, .25]], gamma=2)], metrics=[\"accuracy\"], optimizer=adam)\n",
    "    \"\"\"\n",
    "    \n",
    "    alpha = [[.25, .2, .1, .25, .35, .25, .15, .35, .1, .2, .1, .3]]\n",
    "\n",
    "    alpha = np.array(alpha, dtype=np.float32)\n",
    "    \n",
    "    gamma = 2.\n",
    "\n",
    "    \"\"\"\n",
    "    :param y_true: A tensor of the same shape as `y_pred`\n",
    "    :param y_pred: A tensor resulting from a softmax\n",
    "    :return: Output tensor.\n",
    "    \"\"\"\n",
    "\n",
    "    # Clip the prediction value to prevent NaN's and Inf's\n",
    "    epsilon = K.epsilon()\n",
    "    y_pred = K.clip(y_pred, epsilon, 1. - epsilon)\n",
    "\n",
    "    # Calculate Cross Entropy\n",
    "    cross_entropy = -y_true * K.log(y_pred)\n",
    "\n",
    "    # Calculate Focal Loss\n",
    "    c_loss = alpha * K.pow(1 - y_pred, gamma) * cross_entropy\n",
    "\n",
    "    # Compute mean loss in mini_batch\n",
    "    return K.mean(K.sum(c_loss, axis=-1))"
   ]
  },
  {
   "cell_type": "code",
   "execution_count": 57,
   "metadata": {
    "pycharm": {
     "name": "#%%\n"
    }
   },
   "outputs": [],
   "source": [
    "model=tfk.models.load_model(\"experiments/KF_0.ckpt/base_ckpts/cp_232.ckpt\")"
   ]
  },
  {
   "cell_type": "code",
   "execution_count": 58,
   "metadata": {
    "pycharm": {
     "name": "#%%\n"
    }
   },
   "outputs": [],
   "source": [
    "model.compile(\n",
    "            loss=categorical_focal_loss,\n",
    "            optimizer=tfk.optimizers.SGD(learning_rate=1e-1),\n",
    "            metrics=['accuracy']\n",
    "        )"
   ]
  },
  {
   "cell_type": "code",
   "execution_count": 59,
   "metadata": {
    "pycharm": {
     "name": "#%%\n"
    }
   },
   "outputs": [
    {
     "name": "stdout",
     "output_type": "stream",
     "text": [
      "Dec17_16-22-03\n",
      "ResLSTM_Dec17_16-22-03\n"
     ]
    }
   ],
   "source": [
    "generator=AugmentDataGenerator(X_train_KF[0],y_train_KF[0],p=0.5)\n",
    "val_generator=AugmentDataGenerator(X_val_KF[0],y_val_KF[0],p=0)\n",
    "callbacks, date = create_folders_and_callbacks(foldermode)\n",
    "callbacks.append(CosineAnnealingScheduler(T_max=50, eta_max=1e-1, eta_min=1e-4))\n",
    "\n",
    "foldername = foldermode + '_' + str(date)\n",
    "print(foldername)"
   ]
  },
  {
   "cell_type": "code",
   "execution_count": 60,
   "metadata": {
    "scrolled": true,
    "pycharm": {
     "name": "#%%\n"
    }
   },
   "outputs": [
    {
     "name": "stdout",
     "output_type": "stream",
     "text": [
      "Epoch 1/100\n",
      "  6/182 [..............................] - ETA: 18s - loss: 0.0023 - accuracy: 0.7969    WARNING:tensorflow:Callback method `on_train_batch_end` is slow compared to the batch time (batch time: 0.0929s vs `on_train_batch_end` time: 0.4331s). Check your callbacks.\n"
     ]
    },
    {
     "name": "stderr",
     "output_type": "stream",
     "text": [
      "WARNING:tensorflow:Callback method `on_train_batch_end` is slow compared to the batch time (batch time: 0.0929s vs `on_train_batch_end` time: 0.4331s). Check your callbacks.\n"
     ]
    },
    {
     "name": "stdout",
     "output_type": "stream",
     "text": [
      "182/182 [==============================] - ETA: 0s - loss: 4.5566e-04 - accuracy: 0.7875"
     ]
    },
    {
     "name": "stderr",
     "output_type": "stream",
     "text": [
      "WARNING:absl:Function `_wrapped_model` contains input name(s) Input with unsupported characters which will be renamed to input in the SavedModel.\n",
      "WARNING:absl:Found untraced functions such as lstm_cell_106_layer_call_fn, lstm_cell_106_layer_call_and_return_conditional_losses, lstm_cell_107_layer_call_fn, lstm_cell_107_layer_call_and_return_conditional_losses, lstm_cell_109_layer_call_fn while saving (showing 5 of 20). These functions will not be directly callable after loading.\n"
     ]
    },
    {
     "name": "stdout",
     "output_type": "stream",
     "text": [
      "INFO:tensorflow:Assets written to: experiments\\ResLSTM_Dec17_16-22-03\\base_ckpts\\cp_01.ckpt\\assets\n"
     ]
    },
    {
     "name": "stderr",
     "output_type": "stream",
     "text": [
      "INFO:tensorflow:Assets written to: experiments\\ResLSTM_Dec17_16-22-03\\base_ckpts\\cp_01.ckpt\\assets\n"
     ]
    },
    {
     "name": "stdout",
     "output_type": "stream",
     "text": [
      "182/182 [==============================] - 105s 508ms/step - loss: 4.5566e-04 - accuracy: 0.7875 - val_loss: 0.0015 - val_accuracy: 0.7975 - lr: 0.1000\n",
      "Epoch 2/100\n",
      "182/182 [==============================] - 15s 83ms/step - loss: 4.0995e-04 - accuracy: 0.7891 - val_loss: 8.7791e-04 - val_accuracy: 0.7912 - lr: 0.0999\n",
      "Epoch 3/100\n",
      "182/182 [==============================] - 15s 83ms/step - loss: 3.1933e-04 - accuracy: 0.7799 - val_loss: 0.0010 - val_accuracy: 0.7975 - lr: 0.0996\n",
      "Epoch 4/100\n",
      "182/182 [==============================] - 15s 83ms/step - loss: 2.5492e-04 - accuracy: 0.7868 - val_loss: 0.0011 - val_accuracy: 0.7975 - lr: 0.0991\n",
      "Epoch 5/100\n",
      "182/182 [==============================] - 15s 83ms/step - loss: 2.5364e-04 - accuracy: 0.7830 - val_loss: 0.0011 - val_accuracy: 0.7912 - lr: 0.0984\n",
      "Epoch 6/100\n",
      "182/182 [==============================] - 15s 83ms/step - loss: 4.4426e-04 - accuracy: 0.7790 - val_loss: 7.8739e-04 - val_accuracy: 0.7829 - lr: 0.0976\n",
      "Epoch 7/100\n",
      "182/182 [==============================] - 15s 83ms/step - loss: 2.2038e-04 - accuracy: 0.7741 - val_loss: 3.7816e-04 - val_accuracy: 0.7704 - lr: 0.0965\n",
      "Epoch 8/100\n",
      "182/182 [==============================] - 15s 83ms/step - loss: 2.3473e-04 - accuracy: 0.7651 - val_loss: 3.9237e-04 - val_accuracy: 0.7537 - lr: 0.0952\n",
      "Epoch 9/100\n",
      "182/182 [==============================] - 15s 83ms/step - loss: 2.8159e-04 - accuracy: 0.7631 - val_loss: 4.0620e-04 - val_accuracy: 0.7557 - lr: 0.0938\n",
      "Epoch 10/100\n",
      "182/182 [==============================] - 15s 84ms/step - loss: 1.7956e-04 - accuracy: 0.7679 - val_loss: 3.4108e-04 - val_accuracy: 0.7495 - lr: 0.0922\n",
      "Epoch 11/100\n",
      "182/182 [==============================] - 15s 82ms/step - loss: 3.1922e-04 - accuracy: 0.7553 - val_loss: 3.5452e-04 - val_accuracy: 0.7432 - lr: 0.0905\n",
      "Epoch 12/100\n",
      "182/182 [==============================] - 15s 84ms/step - loss: 2.3467e-04 - accuracy: 0.7583 - val_loss: 3.8785e-04 - val_accuracy: 0.7474 - lr: 0.0885\n",
      "Epoch 13/100\n",
      "182/182 [==============================] - 15s 84ms/step - loss: 1.6520e-04 - accuracy: 0.7574 - val_loss: 3.5429e-04 - val_accuracy: 0.7432 - lr: 0.0865\n",
      "Epoch 14/100\n",
      "182/182 [==============================] - 15s 82ms/step - loss: 1.5843e-04 - accuracy: 0.7516 - val_loss: 2.8165e-04 - val_accuracy: 0.7474 - lr: 0.0842\n",
      "Epoch 15/100\n",
      "182/182 [==============================] - 15s 84ms/step - loss: 1.5978e-04 - accuracy: 0.7567 - val_loss: 1.9641e-04 - val_accuracy: 0.7432 - lr: 0.0819\n",
      "Epoch 16/100\n",
      "182/182 [==============================] - 15s 84ms/step - loss: 2.0524e-04 - accuracy: 0.7548 - val_loss: 1.8883e-04 - val_accuracy: 0.7516 - lr: 0.0794\n",
      "Epoch 17/100\n",
      "182/182 [==============================] - 15s 83ms/step - loss: 1.7863e-04 - accuracy: 0.7571 - val_loss: 2.3578e-04 - val_accuracy: 0.7411 - lr: 0.0768\n",
      "Epoch 18/100\n",
      "182/182 [==============================] - 15s 84ms/step - loss: 1.3801e-04 - accuracy: 0.7511 - val_loss: 2.0556e-04 - val_accuracy: 0.7286 - lr: 0.0741\n",
      "Epoch 19/100\n",
      "182/182 [==============================] - 15s 83ms/step - loss: 1.3669e-04 - accuracy: 0.7513 - val_loss: 2.2789e-04 - val_accuracy: 0.7370 - lr: 0.0713\n",
      "Epoch 20/100\n",
      "182/182 [==============================] - 15s 83ms/step - loss: 1.6271e-04 - accuracy: 0.7482 - val_loss: 2.2655e-04 - val_accuracy: 0.7307 - lr: 0.0684\n",
      "Epoch 21/100\n",
      "182/182 [==============================] - 15s 83ms/step - loss: 2.0541e-04 - accuracy: 0.7567 - val_loss: 2.2769e-04 - val_accuracy: 0.7244 - lr: 0.0655\n",
      "Epoch 22/100\n",
      "182/182 [==============================] - 15s 83ms/step - loss: 9.5812e-05 - accuracy: 0.7504 - val_loss: 2.1284e-04 - val_accuracy: 0.7265 - lr: 0.0625\n",
      "Epoch 23/100\n",
      "182/182 [==============================] - 15s 83ms/step - loss: 1.0211e-04 - accuracy: 0.7468 - val_loss: 2.0277e-04 - val_accuracy: 0.7286 - lr: 0.0594\n",
      "Epoch 24/100\n",
      "182/182 [==============================] - 15s 84ms/step - loss: 2.0218e-04 - accuracy: 0.7421 - val_loss: 1.9710e-04 - val_accuracy: 0.7265 - lr: 0.0563\n",
      "Epoch 25/100\n",
      "182/182 [==============================] - 15s 83ms/step - loss: 8.3654e-05 - accuracy: 0.7480 - val_loss: 1.8319e-04 - val_accuracy: 0.7307 - lr: 0.0532\n",
      "Epoch 26/100\n",
      "182/182 [==============================] - 15s 84ms/step - loss: 1.3284e-04 - accuracy: 0.7440 - val_loss: 1.8059e-04 - val_accuracy: 0.7265 - lr: 0.0501\n",
      "Epoch 27/100\n",
      "182/182 [==============================] - 15s 84ms/step - loss: 1.4842e-04 - accuracy: 0.7481 - val_loss: 1.9373e-04 - val_accuracy: 0.7328 - lr: 0.0469\n",
      "Epoch 28/100\n",
      "182/182 [==============================] - 15s 83ms/step - loss: 8.6940e-05 - accuracy: 0.7533 - val_loss: 2.0051e-04 - val_accuracy: 0.7265 - lr: 0.0438\n",
      "Epoch 29/100\n",
      "182/182 [==============================] - 15s 83ms/step - loss: 1.3390e-04 - accuracy: 0.7459 - val_loss: 2.1015e-04 - val_accuracy: 0.7265 - lr: 0.0407\n",
      "Epoch 30/100\n",
      "182/182 [==============================] - 15s 83ms/step - loss: 1.7448e-04 - accuracy: 0.7414 - val_loss: 2.0560e-04 - val_accuracy: 0.7244 - lr: 0.0376\n",
      "Epoch 31/100\n",
      "182/182 [==============================] - 15s 83ms/step - loss: 1.7158e-04 - accuracy: 0.7415 - val_loss: 2.2655e-04 - val_accuracy: 0.7223 - lr: 0.0346\n",
      "Epoch 32/100\n",
      "182/182 [==============================] - 15s 83ms/step - loss: 8.4315e-05 - accuracy: 0.7490 - val_loss: 2.1531e-04 - val_accuracy: 0.7223 - lr: 0.0317\n",
      "Epoch 33/100\n",
      "182/182 [==============================] - 15s 83ms/step - loss: 1.3087e-04 - accuracy: 0.7477 - val_loss: 2.1711e-04 - val_accuracy: 0.7223 - lr: 0.0288\n",
      "Epoch 34/100\n",
      "182/182 [==============================] - 15s 83ms/step - loss: 8.3444e-05 - accuracy: 0.7440 - val_loss: 2.1670e-04 - val_accuracy: 0.7223 - lr: 0.0260\n",
      "Epoch 35/100\n",
      "182/182 [==============================] - 15s 83ms/step - loss: 1.0510e-04 - accuracy: 0.7425 - val_loss: 2.1484e-04 - val_accuracy: 0.7265 - lr: 0.0233\n",
      "Epoch 36/100\n",
      "182/182 [==============================] - 15s 83ms/step - loss: 1.0281e-04 - accuracy: 0.7465 - val_loss: 2.1790e-04 - val_accuracy: 0.7286 - lr: 0.0207\n",
      "Epoch 37/100\n",
      "182/182 [==============================] - 15s 83ms/step - loss: 9.1211e-05 - accuracy: 0.7447 - val_loss: 2.0922e-04 - val_accuracy: 0.7286 - lr: 0.0182\n",
      "Epoch 38/100\n",
      "182/182 [==============================] - 15s 83ms/step - loss: 7.7187e-05 - accuracy: 0.7503 - val_loss: 2.0410e-04 - val_accuracy: 0.7286 - lr: 0.0159\n",
      "Epoch 39/100\n",
      "182/182 [==============================] - 15s 84ms/step - loss: 1.1713e-04 - accuracy: 0.7431 - val_loss: 1.9971e-04 - val_accuracy: 0.7286 - lr: 0.0136\n",
      "Epoch 40/100\n",
      "182/182 [==============================] - 15s 83ms/step - loss: 9.2791e-05 - accuracy: 0.7421 - val_loss: 2.0217e-04 - val_accuracy: 0.7286 - lr: 0.0116\n",
      "Epoch 41/100\n",
      "182/182 [==============================] - 15s 83ms/step - loss: 1.1481e-04 - accuracy: 0.7517 - val_loss: 2.0373e-04 - val_accuracy: 0.7307 - lr: 0.0096\n",
      "Epoch 42/100\n",
      "182/182 [==============================] - 15s 84ms/step - loss: 1.2918e-04 - accuracy: 0.7409 - val_loss: 2.0480e-04 - val_accuracy: 0.7244 - lr: 0.0079\n",
      "Epoch 43/100\n",
      "182/182 [==============================] - 15s 83ms/step - loss: 6.2733e-05 - accuracy: 0.7472 - val_loss: 2.0692e-04 - val_accuracy: 0.7265 - lr: 0.0063\n",
      "Epoch 44/100\n",
      "182/182 [==============================] - 15s 83ms/step - loss: 1.0756e-04 - accuracy: 0.7523 - val_loss: 2.0725e-04 - val_accuracy: 0.7265 - lr: 0.0049\n",
      "Epoch 45/100\n",
      "182/182 [==============================] - 15s 83ms/step - loss: 8.1589e-05 - accuracy: 0.7496 - val_loss: 2.0777e-04 - val_accuracy: 0.7265 - lr: 0.0036\n",
      "Epoch 46/100\n",
      "182/182 [==============================] - 15s 84ms/step - loss: 8.3339e-05 - accuracy: 0.7431 - val_loss: 2.0789e-04 - val_accuracy: 0.7265 - lr: 0.0025\n",
      "Epoch 47/100\n",
      "182/182 [==============================] - 15s 83ms/step - loss: 7.9740e-05 - accuracy: 0.7425 - val_loss: 2.0839e-04 - val_accuracy: 0.7265 - lr: 0.0017\n",
      "Epoch 48/100\n",
      "182/182 [==============================] - 15s 84ms/step - loss: 7.6111e-05 - accuracy: 0.7516 - val_loss: 2.0790e-04 - val_accuracy: 0.7265 - lr: 9.8475e-04\n",
      "Epoch 49/100\n",
      "182/182 [==============================] - 15s 84ms/step - loss: 1.1765e-04 - accuracy: 0.7460 - val_loss: 2.0813e-04 - val_accuracy: 0.7265 - lr: 4.9387e-04\n",
      "Epoch 50/100\n",
      "182/182 [==============================] - 15s 84ms/step - loss: 1.4421e-04 - accuracy: 0.7385 - val_loss: 2.0816e-04 - val_accuracy: 0.7265 - lr: 1.9856e-04\n",
      "Epoch 51/100\n",
      "182/182 [==============================] - 15s 84ms/step - loss: 9.0444e-05 - accuracy: 0.7516 - val_loss: 2.0808e-04 - val_accuracy: 0.7265 - lr: 1.0000e-04\n",
      "Epoch 52/100\n",
      "182/182 [==============================] - 15s 84ms/step - loss: 1.5400e-04 - accuracy: 0.7440 - val_loss: 2.0799e-04 - val_accuracy: 0.7265 - lr: 1.9856e-04\n",
      "Epoch 53/100\n",
      "182/182 [==============================] - 15s 83ms/step - loss: 5.2064e-05 - accuracy: 0.7530 - val_loss: 2.0786e-04 - val_accuracy: 0.7265 - lr: 4.9387e-04\n",
      "Epoch 54/100\n",
      "182/182 [==============================] - 15s 83ms/step - loss: 6.7379e-05 - accuracy: 0.7448 - val_loss: 2.0776e-04 - val_accuracy: 0.7265 - lr: 9.8475e-04\n",
      "Epoch 55/100\n",
      "182/182 [==============================] - 15s 84ms/step - loss: 1.2121e-04 - accuracy: 0.7465 - val_loss: 2.0731e-04 - val_accuracy: 0.7265 - lr: 0.0017\n",
      "Epoch 56/100\n",
      "182/182 [==============================] - 15s 83ms/step - loss: 1.2255e-04 - accuracy: 0.7465 - val_loss: 2.0609e-04 - val_accuracy: 0.7265 - lr: 0.0025\n",
      "Epoch 57/100\n",
      "182/182 [==============================] - 15s 83ms/step - loss: 1.0732e-04 - accuracy: 0.7475 - val_loss: 2.0682e-04 - val_accuracy: 0.7265 - lr: 0.0036\n",
      "Epoch 58/100\n",
      "182/182 [==============================] - 16s 86ms/step - loss: 8.9566e-05 - accuracy: 0.7396 - val_loss: 2.0683e-04 - val_accuracy: 0.7265 - lr: 0.0049\n",
      "Epoch 59/100\n",
      "182/182 [==============================] - 16s 86ms/step - loss: 9.0479e-05 - accuracy: 0.7430 - val_loss: 2.0707e-04 - val_accuracy: 0.7265 - lr: 0.0063\n",
      "Epoch 60/100\n",
      "182/182 [==============================] - 16s 86ms/step - loss: 1.4379e-04 - accuracy: 0.7433 - val_loss: 2.0632e-04 - val_accuracy: 0.7286 - lr: 0.0079\n",
      "Epoch 61/100\n",
      "182/182 [==============================] - 16s 85ms/step - loss: 1.1418e-04 - accuracy: 0.7461 - val_loss: 2.1348e-04 - val_accuracy: 0.7286 - lr: 0.0096\n",
      "Epoch 62/100\n",
      "182/182 [==============================] - 15s 85ms/step - loss: 9.9069e-05 - accuracy: 0.7488 - val_loss: 2.1853e-04 - val_accuracy: 0.7286 - lr: 0.0116\n",
      "Epoch 63/100\n",
      "182/182 [==============================] - 16s 85ms/step - loss: 9.6960e-05 - accuracy: 0.7433 - val_loss: 2.2639e-04 - val_accuracy: 0.7286 - lr: 0.0136\n",
      "Epoch 64/100\n",
      "182/182 [==============================] - 16s 85ms/step - loss: 1.2730e-04 - accuracy: 0.7428 - val_loss: 2.2335e-04 - val_accuracy: 0.7286 - lr: 0.0159\n",
      "Epoch 65/100\n",
      "182/182 [==============================] - 16s 85ms/step - loss: 1.4770e-04 - accuracy: 0.7497 - val_loss: 2.2537e-04 - val_accuracy: 0.7244 - lr: 0.0182\n",
      "Epoch 66/100\n",
      "182/182 [==============================] - 16s 85ms/step - loss: 9.2783e-05 - accuracy: 0.7442 - val_loss: 2.2273e-04 - val_accuracy: 0.7265 - lr: 0.0207\n",
      "Epoch 67/100\n",
      "182/182 [==============================] - 15s 84ms/step - loss: 7.4886e-05 - accuracy: 0.7530 - val_loss: 2.1844e-04 - val_accuracy: 0.7307 - lr: 0.0233\n",
      "Epoch 68/100\n",
      "182/182 [==============================] - 16s 85ms/step - loss: 1.1550e-04 - accuracy: 0.7501 - val_loss: 2.1037e-04 - val_accuracy: 0.7286 - lr: 0.0260\n",
      "Epoch 69/100\n",
      "182/182 [==============================] - 16s 86ms/step - loss: 7.7924e-05 - accuracy: 0.7449 - val_loss: 2.1705e-04 - val_accuracy: 0.7328 - lr: 0.0288\n",
      "Epoch 70/100\n",
      "182/182 [==============================] - 15s 85ms/step - loss: 1.5976e-04 - accuracy: 0.7464 - val_loss: 1.7808e-04 - val_accuracy: 0.7286 - lr: 0.0317\n",
      "Epoch 71/100\n",
      "182/182 [==============================] - 16s 86ms/step - loss: 1.1743e-04 - accuracy: 0.7477 - val_loss: 2.1523e-04 - val_accuracy: 0.7223 - lr: 0.0346\n",
      "Epoch 72/100\n",
      "182/182 [==============================] - 16s 85ms/step - loss: 7.6098e-05 - accuracy: 0.7397 - val_loss: 2.0984e-04 - val_accuracy: 0.7182 - lr: 0.0376\n",
      "Epoch 73/100\n",
      "182/182 [==============================] - 15s 84ms/step - loss: 9.5896e-05 - accuracy: 0.7483 - val_loss: 2.1784e-04 - val_accuracy: 0.7182 - lr: 0.0407\n",
      "Epoch 74/100\n",
      "182/182 [==============================] - 15s 84ms/step - loss: 1.0786e-04 - accuracy: 0.7449 - val_loss: 2.0932e-04 - val_accuracy: 0.7223 - lr: 0.0438\n",
      "Epoch 75/100\n",
      "182/182 [==============================] - 16s 85ms/step - loss: 1.1845e-04 - accuracy: 0.7484 - val_loss: 2.0317e-04 - val_accuracy: 0.7265 - lr: 0.0469\n",
      "Epoch 76/100\n",
      "182/182 [==============================] - 15s 84ms/step - loss: 7.5291e-05 - accuracy: 0.7473 - val_loss: 1.9113e-04 - val_accuracy: 0.7244 - lr: 0.0501\n",
      "Epoch 77/100\n",
      "182/182 [==============================] - 16s 85ms/step - loss: 1.0844e-04 - accuracy: 0.7491 - val_loss: 1.8773e-04 - val_accuracy: 0.7244 - lr: 0.0532\n",
      "Epoch 78/100\n",
      "182/182 [==============================] - 15s 84ms/step - loss: 1.2121e-04 - accuracy: 0.7478 - val_loss: 2.0502e-04 - val_accuracy: 0.7286 - lr: 0.0563\n",
      "Epoch 79/100\n",
      "182/182 [==============================] - 16s 85ms/step - loss: 7.4015e-05 - accuracy: 0.7483 - val_loss: 2.0085e-04 - val_accuracy: 0.7286 - lr: 0.0594\n",
      "Epoch 80/100\n",
      "182/182 [==============================] - 16s 86ms/step - loss: 7.1219e-05 - accuracy: 0.7491 - val_loss: 2.0166e-04 - val_accuracy: 0.7307 - lr: 0.0625\n",
      "Epoch 81/100\n",
      "182/182 [==============================] - 16s 86ms/step - loss: 7.0431e-05 - accuracy: 0.7477 - val_loss: 1.7846e-04 - val_accuracy: 0.7307 - lr: 0.0655\n",
      "Epoch 82/100\n",
      "182/182 [==============================] - 15s 84ms/step - loss: 9.2010e-05 - accuracy: 0.7393 - val_loss: 1.7340e-04 - val_accuracy: 0.7328 - lr: 0.0684\n",
      "Epoch 83/100\n",
      "182/182 [==============================] - 15s 84ms/step - loss: 1.0619e-04 - accuracy: 0.7484 - val_loss: 1.7484e-04 - val_accuracy: 0.7349 - lr: 0.0713\n",
      "Epoch 84/100\n",
      "182/182 [==============================] - 15s 84ms/step - loss: 1.2243e-04 - accuracy: 0.7390 - val_loss: 2.0836e-04 - val_accuracy: 0.7390 - lr: 0.0741\n",
      "Epoch 85/100\n",
      "182/182 [==============================] - 15s 84ms/step - loss: 1.3836e-04 - accuracy: 0.7470 - val_loss: 1.8246e-04 - val_accuracy: 0.7411 - lr: 0.0768\n",
      "Epoch 86/100\n",
      "182/182 [==============================] - 15s 83ms/step - loss: 7.2730e-05 - accuracy: 0.7365 - val_loss: 2.0075e-04 - val_accuracy: 0.7411 - lr: 0.0794\n",
      "Epoch 87/100\n",
      "182/182 [==============================] - 15s 83ms/step - loss: 6.4771e-05 - accuracy: 0.7409 - val_loss: 1.9985e-04 - val_accuracy: 0.7390 - lr: 0.0819\n",
      "Epoch 88/100\n",
      "182/182 [==============================] - 15s 84ms/step - loss: 6.0387e-05 - accuracy: 0.7458 - val_loss: 1.8620e-04 - val_accuracy: 0.7411 - lr: 0.0842\n",
      "Epoch 89/100\n",
      "182/182 [==============================] - 15s 83ms/step - loss: 5.8568e-05 - accuracy: 0.7476 - val_loss: 1.7092e-04 - val_accuracy: 0.7370 - lr: 0.0865\n",
      "Epoch 90/100\n",
      "182/182 [==============================] - 15s 84ms/step - loss: 5.9669e-05 - accuracy: 0.7406 - val_loss: 1.7292e-04 - val_accuracy: 0.7411 - lr: 0.0885\n",
      "Epoch 91/100\n",
      "182/182 [==============================] - 15s 84ms/step - loss: 4.7908e-05 - accuracy: 0.7433 - val_loss: 1.7347e-04 - val_accuracy: 0.7370 - lr: 0.0905\n",
      "Epoch 92/100\n",
      "182/182 [==============================] - 15s 83ms/step - loss: 2.5704e-05 - accuracy: 0.7371 - val_loss: 1.7478e-04 - val_accuracy: 0.7349 - lr: 0.0922\n",
      "Epoch 93/100\n",
      "182/182 [==============================] - 15s 84ms/step - loss: 1.2105e-04 - accuracy: 0.7394 - val_loss: 1.9300e-04 - val_accuracy: 0.7328 - lr: 0.0938\n",
      "Epoch 94/100\n",
      "182/182 [==============================] - 15s 84ms/step - loss: 7.2151e-05 - accuracy: 0.7436 - val_loss: 2.2403e-04 - val_accuracy: 0.7370 - lr: 0.0952\n",
      "Epoch 95/100\n",
      "182/182 [==============================] - 15s 84ms/step - loss: 8.4825e-05 - accuracy: 0.7446 - val_loss: 2.1766e-04 - val_accuracy: 0.7328 - lr: 0.0965\n",
      "Epoch 96/100\n",
      "182/182 [==============================] - 15s 83ms/step - loss: 5.9893e-05 - accuracy: 0.7411 - val_loss: 2.0496e-04 - val_accuracy: 0.7370 - lr: 0.0976\n",
      "Epoch 97/100\n",
      "182/182 [==============================] - 15s 84ms/step - loss: 7.8533e-05 - accuracy: 0.7428 - val_loss: 2.2403e-04 - val_accuracy: 0.7370 - lr: 0.0984\n",
      "Epoch 98/100\n",
      "182/182 [==============================] - 15s 83ms/step - loss: 2.9120e-05 - accuracy: 0.7367 - val_loss: 2.1462e-04 - val_accuracy: 0.7370 - lr: 0.0991\n",
      "Epoch 99/100\n"
     ]
    },
    {
     "name": "stdout",
     "output_type": "stream",
     "text": [
      "182/182 [==============================] - 15s 83ms/step - loss: 7.2395e-05 - accuracy: 0.7327 - val_loss: 1.4855e-04 - val_accuracy: 0.7307 - lr: 0.0996\n",
      "Epoch 100/100\n",
      "182/182 [==============================] - 15s 84ms/step - loss: 4.7934e-05 - accuracy: 0.7421 - val_loss: 1.4890e-04 - val_accuracy: 0.7328 - lr: 0.0999\n"
     ]
    }
   ],
   "source": [
    "history = model.fit(\n",
    "    generator,\n",
    "    validation_data = val_generator,\n",
    "    epochs = 100,\n",
    "    shuffle=False,\n",
    "    callbacks=callbacks\n",
    ").history"
   ]
  },
  {
   "cell_type": "code",
   "execution_count": 61,
   "metadata": {
    "pycharm": {
     "name": "#%%\n"
    }
   },
   "outputs": [
    {
     "name": "stdout",
     "output_type": "stream",
     "text": [
      "Dec17_16-49-05\n",
      "Epoch 1/100\n",
      "  6/182 [..............................] - ETA: 18s - loss: 3.3865e-06 - accuracy: 0.7188WARNING:tensorflow:Callback method `on_train_batch_end` is slow compared to the batch time (batch time: 0.0694s vs `on_train_batch_end` time: 0.4451s). Check your callbacks.\n"
     ]
    },
    {
     "name": "stderr",
     "output_type": "stream",
     "text": [
      "WARNING:tensorflow:Callback method `on_train_batch_end` is slow compared to the batch time (batch time: 0.0694s vs `on_train_batch_end` time: 0.4451s). Check your callbacks.\n"
     ]
    },
    {
     "name": "stdout",
     "output_type": "stream",
     "text": [
      "181/182 [============================>.] - ETA: 0s - loss: 7.6802e-05 - accuracy: 0.7357"
     ]
    },
    {
     "name": "stderr",
     "output_type": "stream",
     "text": [
      "WARNING:absl:Function `_wrapped_model` contains input name(s) Input with unsupported characters which will be renamed to input in the SavedModel.\n",
      "WARNING:absl:Found untraced functions such as lstm_cell_106_layer_call_fn, lstm_cell_106_layer_call_and_return_conditional_losses, lstm_cell_107_layer_call_fn, lstm_cell_107_layer_call_and_return_conditional_losses, lstm_cell_109_layer_call_fn while saving (showing 5 of 20). These functions will not be directly callable after loading.\n"
     ]
    },
    {
     "name": "stdout",
     "output_type": "stream",
     "text": [
      "INFO:tensorflow:Assets written to: experiments\\ResLSTM_Dec17_16-49-05\\base_ckpts\\cp_01.ckpt\\assets\n"
     ]
    },
    {
     "name": "stderr",
     "output_type": "stream",
     "text": [
      "INFO:tensorflow:Assets written to: experiments\\ResLSTM_Dec17_16-49-05\\base_ckpts\\cp_01.ckpt\\assets\n"
     ]
    },
    {
     "name": "stdout",
     "output_type": "stream",
     "text": [
      "182/182 [==============================] - 88s 471ms/step - loss: 7.6750e-05 - accuracy: 0.7358 - val_loss: 1.6569e-04 - val_accuracy: 0.7307 - lr: 0.1000\n",
      "Epoch 2/100\n",
      "182/182 [==============================] - 15s 82ms/step - loss: 3.4944e-05 - accuracy: 0.7382 - val_loss: 1.4272e-04 - val_accuracy: 0.7307 - lr: 0.0999\n",
      "Epoch 3/100\n",
      "182/182 [==============================] - 15s 83ms/step - loss: 6.4477e-05 - accuracy: 0.7359 - val_loss: 1.6149e-04 - val_accuracy: 0.7307 - lr: 0.0996\n",
      "Epoch 4/100\n",
      "181/182 [============================>.] - ETA: 0s - loss: 2.7680e-05 - accuracy: 0.7383"
     ]
    },
    {
     "name": "stderr",
     "output_type": "stream",
     "text": [
      "WARNING:absl:Function `_wrapped_model` contains input name(s) Input with unsupported characters which will be renamed to input in the SavedModel.\n",
      "WARNING:absl:Found untraced functions such as lstm_cell_106_layer_call_fn, lstm_cell_106_layer_call_and_return_conditional_losses, lstm_cell_107_layer_call_fn, lstm_cell_107_layer_call_and_return_conditional_losses, lstm_cell_109_layer_call_fn while saving (showing 5 of 20). These functions will not be directly callable after loading.\n"
     ]
    },
    {
     "name": "stdout",
     "output_type": "stream",
     "text": [
      "INFO:tensorflow:Assets written to: experiments\\ResLSTM_Dec17_16-49-05\\base_ckpts\\cp_04.ckpt\\assets\n"
     ]
    },
    {
     "name": "stderr",
     "output_type": "stream",
     "text": [
      "INFO:tensorflow:Assets written to: experiments\\ResLSTM_Dec17_16-49-05\\base_ckpts\\cp_04.ckpt\\assets\n"
     ]
    },
    {
     "name": "stdout",
     "output_type": "stream",
     "text": [
      "182/182 [==============================] - 86s 475ms/step - loss: 2.7662e-05 - accuracy: 0.7384 - val_loss: 1.4698e-04 - val_accuracy: 0.7328 - lr: 0.0991\n",
      "Epoch 5/100\n",
      "181/182 [============================>.] - ETA: 0s - loss: 5.0509e-05 - accuracy: 0.7348"
     ]
    },
    {
     "name": "stderr",
     "output_type": "stream",
     "text": [
      "WARNING:absl:Function `_wrapped_model` contains input name(s) Input with unsupported characters which will be renamed to input in the SavedModel.\n",
      "WARNING:absl:Found untraced functions such as lstm_cell_106_layer_call_fn, lstm_cell_106_layer_call_and_return_conditional_losses, lstm_cell_107_layer_call_fn, lstm_cell_107_layer_call_and_return_conditional_losses, lstm_cell_109_layer_call_fn while saving (showing 5 of 20). These functions will not be directly callable after loading.\n"
     ]
    },
    {
     "name": "stdout",
     "output_type": "stream",
     "text": [
      "INFO:tensorflow:Assets written to: experiments\\ResLSTM_Dec17_16-49-05\\base_ckpts\\cp_05.ckpt\\assets\n"
     ]
    },
    {
     "name": "stderr",
     "output_type": "stream",
     "text": [
      "INFO:tensorflow:Assets written to: experiments\\ResLSTM_Dec17_16-49-05\\base_ckpts\\cp_05.ckpt\\assets\n"
     ]
    },
    {
     "name": "stdout",
     "output_type": "stream",
     "text": [
      "182/182 [==============================] - 91s 498ms/step - loss: 5.0474e-05 - accuracy: 0.7349 - val_loss: 1.4967e-04 - val_accuracy: 0.7349 - lr: 0.0984\n",
      "Epoch 6/100\n",
      "182/182 [==============================] - 15s 84ms/step - loss: 5.4247e-05 - accuracy: 0.7409 - val_loss: 1.2854e-04 - val_accuracy: 0.7265 - lr: 0.0976\n",
      "Epoch 7/100\n",
      "182/182 [==============================] - 15s 82ms/step - loss: 3.7721e-05 - accuracy: 0.7337 - val_loss: 1.3035e-04 - val_accuracy: 0.7286 - lr: 0.0965\n",
      "Epoch 8/100\n",
      "182/182 [==============================] - 15s 83ms/step - loss: 5.4779e-05 - accuracy: 0.7258 - val_loss: 1.2057e-04 - val_accuracy: 0.7328 - lr: 0.0952\n",
      "Epoch 9/100\n",
      "182/182 [==============================] - 15s 83ms/step - loss: 3.1991e-05 - accuracy: 0.7338 - val_loss: 1.2909e-04 - val_accuracy: 0.7349 - lr: 0.0938\n",
      "Epoch 10/100\n",
      "182/182 [==============================] - 15s 83ms/step - loss: 4.5322e-05 - accuracy: 0.7372 - val_loss: 1.1395e-04 - val_accuracy: 0.7307 - lr: 0.0922\n",
      "Epoch 11/100\n",
      "182/182 [==============================] - 15s 83ms/step - loss: 2.8942e-05 - accuracy: 0.7347 - val_loss: 1.0800e-04 - val_accuracy: 0.7307 - lr: 0.0905\n",
      "Epoch 12/100\n",
      "182/182 [==============================] - 15s 84ms/step - loss: 2.5002e-05 - accuracy: 0.7302 - val_loss: 1.1226e-04 - val_accuracy: 0.7328 - lr: 0.0885\n",
      "Epoch 13/100\n",
      "182/182 [==============================] - 15s 83ms/step - loss: 4.2073e-05 - accuracy: 0.7333 - val_loss: 1.0512e-04 - val_accuracy: 0.7286 - lr: 0.0865\n",
      "Epoch 14/100\n",
      "182/182 [==============================] - 15s 83ms/step - loss: 3.9062e-05 - accuracy: 0.7379 - val_loss: 8.9336e-05 - val_accuracy: 0.7307 - lr: 0.0842\n",
      "Epoch 15/100\n",
      "182/182 [==============================] - 15s 84ms/step - loss: 4.4896e-05 - accuracy: 0.7295 - val_loss: 8.7722e-05 - val_accuracy: 0.7307 - lr: 0.0819\n",
      "Epoch 16/100\n",
      "182/182 [==============================] - 15s 83ms/step - loss: 6.1808e-05 - accuracy: 0.7282 - val_loss: 8.6916e-05 - val_accuracy: 0.7286 - lr: 0.0794\n",
      "Epoch 17/100\n",
      "182/182 [==============================] - 15s 83ms/step - loss: 6.4051e-05 - accuracy: 0.7227 - val_loss: 6.3225e-05 - val_accuracy: 0.7161 - lr: 0.0768\n",
      "Epoch 18/100\n",
      "182/182 [==============================] - 15s 83ms/step - loss: 3.0984e-05 - accuracy: 0.7264 - val_loss: 6.5342e-05 - val_accuracy: 0.7203 - lr: 0.0741\n",
      "Epoch 19/100\n",
      "182/182 [==============================] - 15s 83ms/step - loss: 6.8920e-05 - accuracy: 0.7282 - val_loss: 6.5312e-05 - val_accuracy: 0.7161 - lr: 0.0713\n",
      "Epoch 20/100\n",
      "182/182 [==============================] - 15s 83ms/step - loss: 3.3181e-05 - accuracy: 0.7216 - val_loss: 6.9227e-05 - val_accuracy: 0.7244 - lr: 0.0684\n",
      "Epoch 21/100\n",
      "182/182 [==============================] - 15s 83ms/step - loss: 5.6003e-05 - accuracy: 0.7208 - val_loss: 7.5656e-05 - val_accuracy: 0.7223 - lr: 0.0655\n",
      "Epoch 22/100\n",
      "182/182 [==============================] - 15s 83ms/step - loss: 3.3874e-05 - accuracy: 0.7192 - val_loss: 7.6874e-05 - val_accuracy: 0.7203 - lr: 0.0625\n",
      "Epoch 23/100\n",
      "182/182 [==============================] - 15s 83ms/step - loss: 2.3473e-05 - accuracy: 0.7149 - val_loss: 7.7311e-05 - val_accuracy: 0.7203 - lr: 0.0594\n",
      "Epoch 24/100\n",
      "182/182 [==============================] - 15s 82ms/step - loss: 2.5721e-05 - accuracy: 0.7239 - val_loss: 8.1983e-05 - val_accuracy: 0.7223 - lr: 0.0563\n",
      "Epoch 25/100\n",
      "182/182 [==============================] - 15s 82ms/step - loss: 2.8216e-05 - accuracy: 0.7251 - val_loss: 7.3231e-05 - val_accuracy: 0.7265 - lr: 0.0532\n",
      "Epoch 26/100\n",
      "182/182 [==============================] - 15s 82ms/step - loss: 2.0495e-05 - accuracy: 0.7196 - val_loss: 7.3887e-05 - val_accuracy: 0.7244 - lr: 0.0501\n",
      "Epoch 27/100\n",
      "182/182 [==============================] - 15s 82ms/step - loss: 6.7837e-05 - accuracy: 0.7214 - val_loss: 7.8637e-05 - val_accuracy: 0.7223 - lr: 0.0469\n",
      "Epoch 28/100\n",
      "182/182 [==============================] - 15s 83ms/step - loss: 3.7467e-05 - accuracy: 0.7238 - val_loss: 7.6092e-05 - val_accuracy: 0.7203 - lr: 0.0438\n",
      "Epoch 29/100\n",
      "182/182 [==============================] - 15s 83ms/step - loss: 2.5837e-05 - accuracy: 0.7164 - val_loss: 7.6657e-05 - val_accuracy: 0.7140 - lr: 0.0407\n",
      "Epoch 30/100\n",
      "182/182 [==============================] - 15s 83ms/step - loss: 3.4926e-05 - accuracy: 0.7277 - val_loss: 7.7474e-05 - val_accuracy: 0.7140 - lr: 0.0376\n",
      "Epoch 31/100\n",
      "182/182 [==============================] - 15s 83ms/step - loss: 3.4418e-05 - accuracy: 0.7185 - val_loss: 7.7162e-05 - val_accuracy: 0.7161 - lr: 0.0346\n",
      "Epoch 32/100\n",
      "182/182 [==============================] - 15s 83ms/step - loss: 4.2953e-05 - accuracy: 0.7194 - val_loss: 7.4576e-05 - val_accuracy: 0.7161 - lr: 0.0317\n",
      "Epoch 33/100\n",
      "182/182 [==============================] - 15s 83ms/step - loss: 3.9445e-05 - accuracy: 0.7138 - val_loss: 7.4408e-05 - val_accuracy: 0.7140 - lr: 0.0288\n",
      "Epoch 34/100\n",
      "182/182 [==============================] - 15s 83ms/step - loss: 3.0922e-05 - accuracy: 0.7141 - val_loss: 7.1848e-05 - val_accuracy: 0.7161 - lr: 0.0260\n",
      "Epoch 35/100\n",
      "182/182 [==============================] - 15s 82ms/step - loss: 2.8402e-05 - accuracy: 0.7203 - val_loss: 7.2480e-05 - val_accuracy: 0.7161 - lr: 0.0233\n",
      "Epoch 36/100\n",
      "182/182 [==============================] - 15s 83ms/step - loss: 4.5439e-05 - accuracy: 0.7241 - val_loss: 7.4104e-05 - val_accuracy: 0.7182 - lr: 0.0207\n",
      "Epoch 37/100\n",
      "182/182 [==============================] - 15s 83ms/step - loss: 1.9676e-05 - accuracy: 0.7243 - val_loss: 7.3545e-05 - val_accuracy: 0.7182 - lr: 0.0182\n",
      "Epoch 38/100\n",
      "182/182 [==============================] - 15s 84ms/step - loss: 1.4844e-05 - accuracy: 0.7189 - val_loss: 7.3579e-05 - val_accuracy: 0.7161 - lr: 0.0159\n",
      "Epoch 39/100\n",
      "182/182 [==============================] - 15s 83ms/step - loss: 3.4114e-05 - accuracy: 0.7190 - val_loss: 7.1825e-05 - val_accuracy: 0.7161 - lr: 0.0136\n",
      "Epoch 40/100\n",
      "182/182 [==============================] - 15s 84ms/step - loss: 5.0871e-05 - accuracy: 0.7208 - val_loss: 6.9762e-05 - val_accuracy: 0.7161 - lr: 0.0116\n",
      "Epoch 41/100\n",
      "182/182 [==============================] - 15s 83ms/step - loss: 3.1812e-05 - accuracy: 0.7125 - val_loss: 7.0112e-05 - val_accuracy: 0.7161 - lr: 0.0096\n",
      "Epoch 42/100\n",
      "182/182 [==============================] - 15s 84ms/step - loss: 4.3254e-05 - accuracy: 0.7179 - val_loss: 7.0557e-05 - val_accuracy: 0.7161 - lr: 0.0079\n",
      "Epoch 43/100\n",
      "182/182 [==============================] - 15s 83ms/step - loss: 3.5714e-05 - accuracy: 0.7214 - val_loss: 7.0717e-05 - val_accuracy: 0.7161 - lr: 0.0063\n",
      "Epoch 44/100\n",
      "182/182 [==============================] - 15s 84ms/step - loss: 4.0435e-05 - accuracy: 0.7194 - val_loss: 7.0660e-05 - val_accuracy: 0.7161 - lr: 0.0049\n",
      "Epoch 45/100\n",
      "182/182 [==============================] - 15s 83ms/step - loss: 2.2882e-05 - accuracy: 0.7190 - val_loss: 7.0706e-05 - val_accuracy: 0.7161 - lr: 0.0036\n",
      "Epoch 46/100\n",
      "182/182 [==============================] - 15s 84ms/step - loss: 1.4475e-05 - accuracy: 0.7181 - val_loss: 7.0700e-05 - val_accuracy: 0.7161 - lr: 0.0025\n",
      "Epoch 47/100\n",
      "182/182 [==============================] - 15s 83ms/step - loss: 2.3093e-05 - accuracy: 0.7139 - val_loss: 7.0613e-05 - val_accuracy: 0.7161 - lr: 0.0017\n",
      "Epoch 48/100\n",
      "182/182 [==============================] - 15s 83ms/step - loss: 4.0776e-05 - accuracy: 0.7125 - val_loss: 7.0546e-05 - val_accuracy: 0.7161 - lr: 9.8475e-04\n",
      "Epoch 49/100\n",
      "182/182 [==============================] - 15s 83ms/step - loss: 2.3568e-05 - accuracy: 0.7223 - val_loss: 7.0550e-05 - val_accuracy: 0.7161 - lr: 4.9387e-04\n",
      "Epoch 50/100\n",
      "182/182 [==============================] - 15s 83ms/step - loss: 2.9136e-05 - accuracy: 0.7176 - val_loss: 7.0499e-05 - val_accuracy: 0.7161 - lr: 1.9856e-04\n",
      "Epoch 51/100\n",
      "182/182 [==============================] - 15s 83ms/step - loss: 3.5122e-05 - accuracy: 0.7190 - val_loss: 7.0495e-05 - val_accuracy: 0.7161 - lr: 1.0000e-04\n",
      "Epoch 52/100\n",
      "182/182 [==============================] - 15s 83ms/step - loss: 3.3680e-05 - accuracy: 0.7177 - val_loss: 7.0387e-05 - val_accuracy: 0.7161 - lr: 1.9856e-04\n",
      "Epoch 53/100\n",
      "182/182 [==============================] - 15s 83ms/step - loss: 8.3615e-05 - accuracy: 0.7133 - val_loss: 7.0386e-05 - val_accuracy: 0.7161 - lr: 4.9387e-04\n",
      "Epoch 54/100\n"
     ]
    },
    {
     "name": "stdout",
     "output_type": "stream",
     "text": [
      "182/182 [==============================] - 15s 84ms/step - loss: 1.3861e-05 - accuracy: 0.7213 - val_loss: 7.0386e-05 - val_accuracy: 0.7161 - lr: 9.8475e-04\n",
      "Epoch 55/100\n",
      "182/182 [==============================] - 15s 83ms/step - loss: 2.7112e-05 - accuracy: 0.7193 - val_loss: 7.0293e-05 - val_accuracy: 0.7161 - lr: 0.0017\n",
      "Epoch 56/100\n",
      "182/182 [==============================] - 15s 83ms/step - loss: 3.7678e-05 - accuracy: 0.7184 - val_loss: 7.0226e-05 - val_accuracy: 0.7161 - lr: 0.0025\n",
      "Epoch 57/100\n",
      "182/182 [==============================] - 15s 83ms/step - loss: 1.8978e-05 - accuracy: 0.7148 - val_loss: 7.0216e-05 - val_accuracy: 0.7161 - lr: 0.0036\n",
      "Epoch 58/100\n",
      "182/182 [==============================] - 15s 84ms/step - loss: 9.1536e-05 - accuracy: 0.7183 - val_loss: 7.0155e-05 - val_accuracy: 0.7182 - lr: 0.0049\n",
      "Epoch 59/100\n",
      "182/182 [==============================] - 15s 83ms/step - loss: 7.0893e-05 - accuracy: 0.7183 - val_loss: 6.9598e-05 - val_accuracy: 0.7182 - lr: 0.0063\n",
      "Epoch 60/100\n",
      "182/182 [==============================] - 15s 83ms/step - loss: 2.5476e-05 - accuracy: 0.7217 - val_loss: 7.0254e-05 - val_accuracy: 0.7182 - lr: 0.0079\n",
      "Epoch 61/100\n",
      "182/182 [==============================] - 15s 84ms/step - loss: 3.8821e-05 - accuracy: 0.7240 - val_loss: 7.0664e-05 - val_accuracy: 0.7182 - lr: 0.0096\n",
      "Epoch 62/100\n",
      "182/182 [==============================] - 15s 83ms/step - loss: 3.5333e-05 - accuracy: 0.7243 - val_loss: 7.1971e-05 - val_accuracy: 0.7182 - lr: 0.0116\n",
      "Epoch 63/100\n",
      "182/182 [==============================] - 15s 83ms/step - loss: 4.3027e-05 - accuracy: 0.7158 - val_loss: 7.3607e-05 - val_accuracy: 0.7182 - lr: 0.0136\n",
      "Epoch 64/100\n",
      "182/182 [==============================] - 15s 83ms/step - loss: 3.2831e-05 - accuracy: 0.7222 - val_loss: 7.3376e-05 - val_accuracy: 0.7182 - lr: 0.0159\n",
      "Epoch 65/100\n",
      "182/182 [==============================] - 15s 83ms/step - loss: 1.6858e-05 - accuracy: 0.7144 - val_loss: 7.2277e-05 - val_accuracy: 0.7182 - lr: 0.0182\n",
      "Epoch 66/100\n",
      "182/182 [==============================] - 15s 83ms/step - loss: 3.3045e-05 - accuracy: 0.7187 - val_loss: 7.3112e-05 - val_accuracy: 0.7182 - lr: 0.0207\n",
      "Epoch 67/100\n",
      "182/182 [==============================] - 15s 83ms/step - loss: 3.8956e-05 - accuracy: 0.7154 - val_loss: 7.1452e-05 - val_accuracy: 0.7182 - lr: 0.0233\n",
      "Epoch 68/100\n",
      "182/182 [==============================] - 15s 83ms/step - loss: 4.0636e-05 - accuracy: 0.7249 - val_loss: 7.3406e-05 - val_accuracy: 0.7182 - lr: 0.0260\n",
      "Epoch 69/100\n",
      "182/182 [==============================] - 15s 84ms/step - loss: 5.5162e-05 - accuracy: 0.7138 - val_loss: 6.7345e-05 - val_accuracy: 0.7140 - lr: 0.0288\n",
      "Epoch 70/100\n",
      "182/182 [==============================] - 15s 83ms/step - loss: 4.8255e-05 - accuracy: 0.7224 - val_loss: 6.8346e-05 - val_accuracy: 0.7140 - lr: 0.0317\n",
      "Epoch 71/100\n",
      "182/182 [==============================] - 15s 83ms/step - loss: 3.6060e-05 - accuracy: 0.7191 - val_loss: 6.8364e-05 - val_accuracy: 0.7119 - lr: 0.0346\n",
      "Epoch 72/100\n",
      "182/182 [==============================] - 15s 84ms/step - loss: 2.8993e-05 - accuracy: 0.7189 - val_loss: 6.8835e-05 - val_accuracy: 0.7119 - lr: 0.0376\n",
      "Epoch 73/100\n",
      "182/182 [==============================] - 15s 83ms/step - loss: 4.0955e-05 - accuracy: 0.7158 - val_loss: 5.9746e-05 - val_accuracy: 0.7161 - lr: 0.0407\n",
      "Epoch 74/100\n",
      "182/182 [==============================] - 15s 83ms/step - loss: 2.5957e-05 - accuracy: 0.7163 - val_loss: 5.8143e-05 - val_accuracy: 0.7161 - lr: 0.0438\n",
      "Epoch 75/100\n",
      "182/182 [==============================] - 15s 83ms/step - loss: 5.4231e-05 - accuracy: 0.7141 - val_loss: 6.1724e-05 - val_accuracy: 0.7140 - lr: 0.0469\n",
      "Epoch 76/100\n",
      "182/182 [==============================] - 15s 83ms/step - loss: 4.7313e-05 - accuracy: 0.7170 - val_loss: 6.1778e-05 - val_accuracy: 0.7119 - lr: 0.0501\n",
      "Epoch 77/100\n",
      "182/182 [==============================] - 15s 83ms/step - loss: 4.5063e-05 - accuracy: 0.7241 - val_loss: 6.0135e-05 - val_accuracy: 0.7119 - lr: 0.0532\n",
      "Epoch 78/100\n",
      "182/182 [==============================] - 15s 82ms/step - loss: 2.6632e-05 - accuracy: 0.7231 - val_loss: 6.1092e-05 - val_accuracy: 0.7119 - lr: 0.0563\n",
      "Epoch 79/100\n",
      "182/182 [==============================] - 15s 83ms/step - loss: 2.9906e-05 - accuracy: 0.7206 - val_loss: 5.6741e-05 - val_accuracy: 0.7119 - lr: 0.0594\n",
      "Epoch 80/100\n",
      "182/182 [==============================] - 15s 84ms/step - loss: 3.9160e-05 - accuracy: 0.7189 - val_loss: 5.8792e-05 - val_accuracy: 0.7119 - lr: 0.0625\n",
      "Epoch 81/100\n",
      "182/182 [==============================] - 15s 83ms/step - loss: 1.7566e-05 - accuracy: 0.7216 - val_loss: 5.8334e-05 - val_accuracy: 0.7140 - lr: 0.0655\n",
      "Epoch 82/100\n",
      "182/182 [==============================] - 15s 82ms/step - loss: 4.0795e-05 - accuracy: 0.7122 - val_loss: 5.5201e-05 - val_accuracy: 0.7119 - lr: 0.0684\n",
      "Epoch 83/100\n",
      "182/182 [==============================] - 15s 84ms/step - loss: 6.7953e-05 - accuracy: 0.7142 - val_loss: 5.3636e-05 - val_accuracy: 0.7140 - lr: 0.0713\n",
      "Epoch 84/100\n",
      "182/182 [==============================] - 15s 83ms/step - loss: 1.3067e-05 - accuracy: 0.7170 - val_loss: 5.4754e-05 - val_accuracy: 0.7119 - lr: 0.0741\n",
      "Epoch 85/100\n",
      "182/182 [==============================] - 15s 84ms/step - loss: 4.7535e-05 - accuracy: 0.7202 - val_loss: 5.2876e-05 - val_accuracy: 0.7161 - lr: 0.0768\n",
      "Epoch 86/100\n",
      "182/182 [==============================] - 15s 83ms/step - loss: 4.2710e-05 - accuracy: 0.7211 - val_loss: 5.4534e-05 - val_accuracy: 0.7182 - lr: 0.0794\n",
      "Epoch 87/100\n",
      "182/182 [==============================] - 15s 83ms/step - loss: 3.7012e-05 - accuracy: 0.7230 - val_loss: 5.3210e-05 - val_accuracy: 0.7140 - lr: 0.0819\n",
      "Epoch 88/100\n",
      "182/182 [==============================] - 15s 84ms/step - loss: 2.1596e-05 - accuracy: 0.7183 - val_loss: 4.8996e-05 - val_accuracy: 0.7161 - lr: 0.0842\n",
      "Epoch 89/100\n",
      "182/182 [==============================] - 15s 83ms/step - loss: 1.4229e-05 - accuracy: 0.7168 - val_loss: 4.9249e-05 - val_accuracy: 0.7161 - lr: 0.0865\n",
      "Epoch 90/100\n",
      "182/182 [==============================] - 15s 84ms/step - loss: 4.2632e-05 - accuracy: 0.7214 - val_loss: 4.7605e-05 - val_accuracy: 0.7140 - lr: 0.0885\n",
      "Epoch 91/100\n",
      "182/182 [==============================] - 15s 83ms/step - loss: 2.0490e-05 - accuracy: 0.7107 - val_loss: 4.4891e-05 - val_accuracy: 0.7119 - lr: 0.0905\n",
      "Epoch 92/100\n",
      "182/182 [==============================] - 15s 84ms/step - loss: 2.7514e-05 - accuracy: 0.7159 - val_loss: 4.4671e-05 - val_accuracy: 0.7119 - lr: 0.0922\n",
      "Epoch 93/100\n",
      "182/182 [==============================] - 15s 84ms/step - loss: 5.9025e-05 - accuracy: 0.7208 - val_loss: 4.8752e-05 - val_accuracy: 0.7119 - lr: 0.0938\n",
      "Epoch 94/100\n",
      "182/182 [==============================] - 15s 84ms/step - loss: 2.0751e-05 - accuracy: 0.7133 - val_loss: 4.9132e-05 - val_accuracy: 0.7119 - lr: 0.0952\n",
      "Epoch 95/100\n",
      "182/182 [==============================] - 15s 83ms/step - loss: 5.8531e-05 - accuracy: 0.7067 - val_loss: 4.0930e-05 - val_accuracy: 0.7140 - lr: 0.0965\n",
      "Epoch 96/100\n",
      "182/182 [==============================] - 15s 83ms/step - loss: 3.0349e-05 - accuracy: 0.7169 - val_loss: 3.8355e-05 - val_accuracy: 0.7119 - lr: 0.0976\n",
      "Epoch 97/100\n",
      "182/182 [==============================] - 15s 83ms/step - loss: 1.4054e-05 - accuracy: 0.7107 - val_loss: 3.7752e-05 - val_accuracy: 0.7098 - lr: 0.0984\n",
      "Epoch 98/100\n",
      "182/182 [==============================] - 15s 83ms/step - loss: 2.1012e-05 - accuracy: 0.7162 - val_loss: 4.4825e-05 - val_accuracy: 0.7140 - lr: 0.0991\n",
      "Epoch 99/100\n",
      "182/182 [==============================] - 15s 83ms/step - loss: 4.8854e-05 - accuracy: 0.7177 - val_loss: 5.2656e-05 - val_accuracy: 0.7140 - lr: 0.0996\n",
      "Epoch 100/100\n",
      "182/182 [==============================] - 15s 83ms/step - loss: 1.3058e-05 - accuracy: 0.7201 - val_loss: 4.8025e-05 - val_accuracy: 0.7119 - lr: 0.0999\n"
     ]
    }
   ],
   "source": [
    "callbacks, date = create_folders_and_callbacks(foldermode)\n",
    "callbacks.append(CosineAnnealingScheduler(T_max=50, eta_max=1e-1, eta_min=1e-4))\n",
    "history = model.fit(\n",
    "    generator,\n",
    "    validation_data = val_generator,\n",
    "    epochs = 100,\n",
    "    shuffle=False,\n",
    "    callbacks=callbacks\n",
    ").history"
   ]
  },
  {
   "cell_type": "code",
   "execution_count": 62,
   "metadata": {
    "pycharm": {
     "name": "#%%\n"
    }
   },
   "outputs": [
    {
     "name": "stdout",
     "output_type": "stream",
     "text": [
      "Dec17_17-18-05\n",
      "Epoch 1/100\n",
      "  6/182 [..............................] - ETA: 22s - loss: 2.6650e-05 - accuracy: 0.7448WARNING:tensorflow:Callback method `on_train_batch_end` is slow compared to the batch time (batch time: 0.0926s vs `on_train_batch_end` time: 0.4422s). Check your callbacks.\n"
     ]
    },
    {
     "name": "stderr",
     "output_type": "stream",
     "text": [
      "WARNING:tensorflow:Callback method `on_train_batch_end` is slow compared to the batch time (batch time: 0.0926s vs `on_train_batch_end` time: 0.4422s). Check your callbacks.\n"
     ]
    },
    {
     "name": "stdout",
     "output_type": "stream",
     "text": [
      "181/182 [============================>.] - ETA: 0s - loss: 1.4827e-05 - accuracy: 0.7166"
     ]
    },
    {
     "name": "stderr",
     "output_type": "stream",
     "text": [
      "WARNING:absl:Function `_wrapped_model` contains input name(s) Input with unsupported characters which will be renamed to input in the SavedModel.\n",
      "WARNING:absl:Found untraced functions such as lstm_cell_106_layer_call_fn, lstm_cell_106_layer_call_and_return_conditional_losses, lstm_cell_107_layer_call_fn, lstm_cell_107_layer_call_and_return_conditional_losses, lstm_cell_109_layer_call_fn while saving (showing 5 of 20). These functions will not be directly callable after loading.\n"
     ]
    },
    {
     "name": "stdout",
     "output_type": "stream",
     "text": [
      "INFO:tensorflow:Assets written to: experiments\\ResLSTM_Dec17_17-18-05\\base_ckpts\\cp_01.ckpt\\assets\n"
     ]
    },
    {
     "name": "stderr",
     "output_type": "stream",
     "text": [
      "INFO:tensorflow:Assets written to: experiments\\ResLSTM_Dec17_17-18-05\\base_ckpts\\cp_01.ckpt\\assets\n"
     ]
    },
    {
     "name": "stdout",
     "output_type": "stream",
     "text": [
      "182/182 [==============================] - 88s 474ms/step - loss: 1.4817e-05 - accuracy: 0.7167 - val_loss: 4.8686e-05 - val_accuracy: 0.7119 - lr: 0.1000\n",
      "Epoch 2/100\n",
      "182/182 [==============================] - 16s 84ms/step - loss: 1.5049e-05 - accuracy: 0.7159 - val_loss: 3.9718e-05 - val_accuracy: 0.7119 - lr: 0.0999\n",
      "Epoch 3/100\n",
      "182/182 [==============================] - 15s 85ms/step - loss: 7.7207e-05 - accuracy: 0.7070 - val_loss: 3.7989e-05 - val_accuracy: 0.7098 - lr: 0.0996\n",
      "Epoch 4/100\n",
      "182/182 [==============================] - 15s 85ms/step - loss: 1.5837e-05 - accuracy: 0.7034 - val_loss: 3.5361e-05 - val_accuracy: 0.7077 - lr: 0.0991\n",
      "Epoch 5/100\n",
      "182/182 [==============================] - 15s 84ms/step - loss: 2.0253e-05 - accuracy: 0.7009 - val_loss: 3.7852e-05 - val_accuracy: 0.7098 - lr: 0.0984\n",
      "Epoch 6/100\n",
      "182/182 [==============================] - 15s 84ms/step - loss: 2.4044e-05 - accuracy: 0.7074 - val_loss: 3.5771e-05 - val_accuracy: 0.7119 - lr: 0.0976\n",
      "Epoch 7/100\n",
      "181/182 [============================>.] - ETA: 0s - loss: 2.8723e-05 - accuracy: 0.7046"
     ]
    },
    {
     "name": "stderr",
     "output_type": "stream",
     "text": [
      "WARNING:absl:Function `_wrapped_model` contains input name(s) Input with unsupported characters which will be renamed to input in the SavedModel.\n",
      "WARNING:absl:Found untraced functions such as lstm_cell_106_layer_call_fn, lstm_cell_106_layer_call_and_return_conditional_losses, lstm_cell_107_layer_call_fn, lstm_cell_107_layer_call_and_return_conditional_losses, lstm_cell_109_layer_call_fn while saving (showing 5 of 20). These functions will not be directly callable after loading.\n"
     ]
    },
    {
     "name": "stdout",
     "output_type": "stream",
     "text": [
      "INFO:tensorflow:Assets written to: experiments\\ResLSTM_Dec17_17-18-05\\base_ckpts\\cp_07.ckpt\\assets\n"
     ]
    },
    {
     "name": "stderr",
     "output_type": "stream",
     "text": [
      "INFO:tensorflow:Assets written to: experiments\\ResLSTM_Dec17_17-18-05\\base_ckpts\\cp_07.ckpt\\assets\n"
     ]
    },
    {
     "name": "stdout",
     "output_type": "stream",
     "text": [
      "182/182 [==============================] - 91s 502ms/step - loss: 2.8703e-05 - accuracy: 0.7048 - val_loss: 3.7652e-05 - val_accuracy: 0.7161 - lr: 0.0965\n",
      "Epoch 8/100\n",
      "182/182 [==============================] - 15s 83ms/step - loss: 1.4212e-05 - accuracy: 0.7066 - val_loss: 3.7904e-05 - val_accuracy: 0.7161 - lr: 0.0952\n",
      "Epoch 9/100\n",
      "182/182 [==============================] - 15s 83ms/step - loss: 1.0449e-04 - accuracy: 0.7066 - val_loss: 3.9962e-05 - val_accuracy: 0.7140 - lr: 0.0938\n",
      "Epoch 10/100\n",
      "182/182 [==============================] - 15s 83ms/step - loss: 3.5223e-05 - accuracy: 0.7016 - val_loss: 3.7880e-05 - val_accuracy: 0.7119 - lr: 0.0922\n",
      "Epoch 11/100\n",
      "182/182 [==============================] - 15s 83ms/step - loss: 2.4721e-05 - accuracy: 0.7125 - val_loss: 3.4260e-05 - val_accuracy: 0.7098 - lr: 0.0905\n",
      "Epoch 12/100\n",
      "182/182 [==============================] - 15s 83ms/step - loss: 1.0911e-05 - accuracy: 0.7084 - val_loss: 3.4679e-05 - val_accuracy: 0.7140 - lr: 0.0885\n",
      "Epoch 13/100\n",
      "182/182 [==============================] - 15s 83ms/step - loss: 1.4773e-05 - accuracy: 0.7166 - val_loss: 2.3252e-05 - val_accuracy: 0.7140 - lr: 0.0865\n",
      "Epoch 14/100\n",
      "182/182 [==============================] - 15s 84ms/step - loss: 1.2199e-05 - accuracy: 0.7063 - val_loss: 2.4634e-05 - val_accuracy: 0.7161 - lr: 0.0842\n",
      "Epoch 15/100\n",
      "182/182 [==============================] - 15s 84ms/step - loss: 2.3806e-05 - accuracy: 0.7152 - val_loss: 2.5550e-05 - val_accuracy: 0.7161 - lr: 0.0819\n",
      "Epoch 16/100\n",
      "182/182 [==============================] - 15s 84ms/step - loss: 1.8999e-05 - accuracy: 0.7197 - val_loss: 2.5758e-05 - val_accuracy: 0.7098 - lr: 0.0794\n",
      "Epoch 17/100\n",
      "182/182 [==============================] - 15s 83ms/step - loss: 1.0964e-05 - accuracy: 0.7129 - val_loss: 2.5052e-05 - val_accuracy: 0.7098 - lr: 0.0768\n",
      "Epoch 18/100\n",
      "182/182 [==============================] - 15s 83ms/step - loss: 1.1734e-05 - accuracy: 0.7137 - val_loss: 2.5373e-05 - val_accuracy: 0.7119 - lr: 0.0741\n",
      "Epoch 19/100\n",
      "182/182 [==============================] - 15s 84ms/step - loss: 2.3673e-05 - accuracy: 0.7102 - val_loss: 2.5302e-05 - val_accuracy: 0.7119 - lr: 0.0713\n",
      "Epoch 20/100\n",
      "182/182 [==============================] - 15s 83ms/step - loss: 2.4216e-05 - accuracy: 0.7042 - val_loss: 2.4140e-05 - val_accuracy: 0.7119 - lr: 0.0684\n",
      "Epoch 21/100\n",
      "182/182 [==============================] - 15s 83ms/step - loss: 1.5354e-05 - accuracy: 0.7047 - val_loss: 2.2941e-05 - val_accuracy: 0.7119 - lr: 0.0655\n",
      "Epoch 22/100\n",
      "182/182 [==============================] - 15s 83ms/step - loss: 1.2804e-05 - accuracy: 0.7045 - val_loss: 2.4356e-05 - val_accuracy: 0.7098 - lr: 0.0625\n",
      "Epoch 23/100\n",
      "182/182 [==============================] - 15s 83ms/step - loss: 2.3684e-05 - accuracy: 0.7021 - val_loss: 2.6605e-05 - val_accuracy: 0.7098 - lr: 0.0594\n",
      "Epoch 24/100\n",
      "182/182 [==============================] - 15s 84ms/step - loss: 1.3257e-05 - accuracy: 0.7075 - val_loss: 2.6842e-05 - val_accuracy: 0.7098 - lr: 0.0563\n",
      "Epoch 25/100\n",
      "182/182 [==============================] - 15s 84ms/step - loss: 5.0900e-05 - accuracy: 0.7065 - val_loss: 2.7004e-05 - val_accuracy: 0.7077 - lr: 0.0532\n",
      "Epoch 26/100\n",
      "182/182 [==============================] - 15s 84ms/step - loss: 3.0459e-05 - accuracy: 0.7030 - val_loss: 2.7823e-05 - val_accuracy: 0.7077 - lr: 0.0501\n",
      "Epoch 27/100\n",
      "182/182 [==============================] - 15s 83ms/step - loss: 2.7698e-05 - accuracy: 0.7031 - val_loss: 2.7033e-05 - val_accuracy: 0.7056 - lr: 0.0469\n",
      "Epoch 28/100\n",
      "182/182 [==============================] - 15s 84ms/step - loss: 2.9585e-05 - accuracy: 0.7012 - val_loss: 2.5886e-05 - val_accuracy: 0.7077 - lr: 0.0438\n",
      "Epoch 29/100\n",
      "182/182 [==============================] - 15s 83ms/step - loss: 1.6174e-05 - accuracy: 0.6976 - val_loss: 2.6036e-05 - val_accuracy: 0.7077 - lr: 0.0407\n",
      "Epoch 30/100\n",
      "182/182 [==============================] - 15s 84ms/step - loss: 1.5000e-05 - accuracy: 0.7093 - val_loss: 2.5615e-05 - val_accuracy: 0.7098 - lr: 0.0376\n",
      "Epoch 31/100\n",
      "182/182 [==============================] - 15s 84ms/step - loss: 2.1264e-05 - accuracy: 0.7032 - val_loss: 2.5597e-05 - val_accuracy: 0.7077 - lr: 0.0346\n",
      "Epoch 32/100\n",
      "182/182 [==============================] - 15s 84ms/step - loss: 1.0890e-05 - accuracy: 0.7001 - val_loss: 2.5665e-05 - val_accuracy: 0.7098 - lr: 0.0317\n",
      "Epoch 33/100\n",
      "182/182 [==============================] - 15s 84ms/step - loss: 8.4977e-05 - accuracy: 0.7057 - val_loss: 2.5889e-05 - val_accuracy: 0.7077 - lr: 0.0288\n",
      "Epoch 34/100\n",
      "182/182 [==============================] - 15s 84ms/step - loss: 1.4928e-05 - accuracy: 0.7094 - val_loss: 2.5829e-05 - val_accuracy: 0.7098 - lr: 0.0260\n",
      "Epoch 35/100\n",
      "182/182 [==============================] - 15s 83ms/step - loss: 1.3808e-05 - accuracy: 0.7070 - val_loss: 2.5395e-05 - val_accuracy: 0.7056 - lr: 0.0233\n",
      "Epoch 36/100\n",
      "182/182 [==============================] - 15s 83ms/step - loss: 2.5993e-05 - accuracy: 0.7087 - val_loss: 2.4379e-05 - val_accuracy: 0.7077 - lr: 0.0207\n",
      "Epoch 37/100\n",
      "182/182 [==============================] - 15s 83ms/step - loss: 9.3582e-06 - accuracy: 0.7003 - val_loss: 2.4367e-05 - val_accuracy: 0.7077 - lr: 0.0182\n",
      "Epoch 38/100\n",
      "182/182 [==============================] - 15s 84ms/step - loss: 1.1012e-05 - accuracy: 0.7045 - val_loss: 2.4382e-05 - val_accuracy: 0.7077 - lr: 0.0159\n",
      "Epoch 39/100\n",
      "182/182 [==============================] - 15s 84ms/step - loss: 8.2420e-06 - accuracy: 0.7078 - val_loss: 2.4468e-05 - val_accuracy: 0.7077 - lr: 0.0136\n",
      "Epoch 40/100\n",
      "182/182 [==============================] - 15s 83ms/step - loss: 2.1041e-05 - accuracy: 0.7075 - val_loss: 2.4061e-05 - val_accuracy: 0.7077 - lr: 0.0116\n",
      "Epoch 41/100\n",
      "182/182 [==============================] - 15s 84ms/step - loss: 2.8712e-05 - accuracy: 0.6940 - val_loss: 2.4392e-05 - val_accuracy: 0.7077 - lr: 0.0096\n",
      "Epoch 42/100\n",
      "182/182 [==============================] - 15s 83ms/step - loss: 4.3273e-05 - accuracy: 0.7028 - val_loss: 2.4446e-05 - val_accuracy: 0.7077 - lr: 0.0079\n",
      "Epoch 43/100\n",
      "182/182 [==============================] - 15s 84ms/step - loss: 2.3161e-05 - accuracy: 0.7015 - val_loss: 2.4372e-05 - val_accuracy: 0.7077 - lr: 0.0063\n",
      "Epoch 44/100\n",
      "182/182 [==============================] - 15s 84ms/step - loss: 1.2304e-05 - accuracy: 0.7050 - val_loss: 2.4390e-05 - val_accuracy: 0.7098 - lr: 0.0049\n",
      "Epoch 45/100\n",
      "182/182 [==============================] - 15s 84ms/step - loss: 1.1327e-05 - accuracy: 0.7063 - val_loss: 2.4347e-05 - val_accuracy: 0.7077 - lr: 0.0036\n",
      "Epoch 46/100\n",
      "182/182 [==============================] - 15s 84ms/step - loss: 5.4109e-05 - accuracy: 0.7001 - val_loss: 2.4406e-05 - val_accuracy: 0.7077 - lr: 0.0025\n",
      "Epoch 47/100\n",
      "182/182 [==============================] - 15s 83ms/step - loss: 5.5764e-05 - accuracy: 0.7039 - val_loss: 2.4399e-05 - val_accuracy: 0.7077 - lr: 0.0017\n",
      "Epoch 48/100\n",
      "182/182 [==============================] - 15s 84ms/step - loss: 3.2945e-05 - accuracy: 0.7007 - val_loss: 2.4416e-05 - val_accuracy: 0.7077 - lr: 9.8475e-04\n",
      "Epoch 49/100\n",
      "182/182 [==============================] - 15s 84ms/step - loss: 1.4764e-05 - accuracy: 0.7026 - val_loss: 2.4432e-05 - val_accuracy: 0.7077 - lr: 4.9387e-04\n",
      "Epoch 50/100\n",
      "182/182 [==============================] - 15s 84ms/step - loss: 3.2656e-05 - accuracy: 0.7054 - val_loss: 2.4445e-05 - val_accuracy: 0.7077 - lr: 1.9856e-04\n",
      "Epoch 51/100\n",
      "182/182 [==============================] - 15s 84ms/step - loss: 1.1244e-05 - accuracy: 0.7031 - val_loss: 2.4437e-05 - val_accuracy: 0.7077 - lr: 1.0000e-04\n",
      "Epoch 52/100\n",
      "182/182 [==============================] - 15s 84ms/step - loss: 4.9727e-05 - accuracy: 0.6989 - val_loss: 2.4430e-05 - val_accuracy: 0.7077 - lr: 1.9856e-04\n",
      "Epoch 53/100\n",
      "182/182 [==============================] - 15s 83ms/step - loss: 2.1310e-05 - accuracy: 0.7048 - val_loss: 2.4419e-05 - val_accuracy: 0.7077 - lr: 4.9387e-04\n",
      "Epoch 54/100\n",
      "182/182 [==============================] - 15s 83ms/step - loss: 1.3655e-05 - accuracy: 0.6948 - val_loss: 2.4447e-05 - val_accuracy: 0.7077 - lr: 9.8475e-04\n",
      "Epoch 55/100\n",
      "182/182 [==============================] - 15s 84ms/step - loss: 1.3084e-05 - accuracy: 0.7017 - val_loss: 2.4449e-05 - val_accuracy: 0.7077 - lr: 0.0017\n"
     ]
    },
    {
     "name": "stdout",
     "output_type": "stream",
     "text": [
      "Epoch 56/100\n",
      "182/182 [==============================] - 15s 83ms/step - loss: 5.2712e-05 - accuracy: 0.7038 - val_loss: 2.4414e-05 - val_accuracy: 0.7077 - lr: 0.0025\n",
      "Epoch 57/100\n",
      "182/182 [==============================] - 15s 84ms/step - loss: 1.9710e-05 - accuracy: 0.7002 - val_loss: 2.4412e-05 - val_accuracy: 0.7077 - lr: 0.0036\n",
      "Epoch 58/100\n",
      "182/182 [==============================] - 15s 84ms/step - loss: 1.8891e-05 - accuracy: 0.7034 - val_loss: 2.4465e-05 - val_accuracy: 0.7077 - lr: 0.0049\n",
      "Epoch 59/100\n",
      "182/182 [==============================] - 15s 84ms/step - loss: 1.9862e-05 - accuracy: 0.7071 - val_loss: 2.4483e-05 - val_accuracy: 0.7077 - lr: 0.0063\n",
      "Epoch 60/100\n",
      "182/182 [==============================] - 15s 84ms/step - loss: 1.5984e-05 - accuracy: 0.7019 - val_loss: 2.4504e-05 - val_accuracy: 0.7077 - lr: 0.0079\n",
      "Epoch 61/100\n",
      "182/182 [==============================] - 15s 83ms/step - loss: 4.1654e-05 - accuracy: 0.7082 - val_loss: 2.4501e-05 - val_accuracy: 0.7077 - lr: 0.0096\n",
      "Epoch 62/100\n",
      "182/182 [==============================] - 15s 84ms/step - loss: 2.8305e-05 - accuracy: 0.7052 - val_loss: 2.4259e-05 - val_accuracy: 0.7077 - lr: 0.0116\n",
      "Epoch 63/100\n",
      "182/182 [==============================] - 15s 84ms/step - loss: 2.1640e-05 - accuracy: 0.7067 - val_loss: 2.4218e-05 - val_accuracy: 0.7077 - lr: 0.0136\n",
      "Epoch 64/100\n",
      "182/182 [==============================] - 15s 84ms/step - loss: 1.0348e-05 - accuracy: 0.7108 - val_loss: 2.4213e-05 - val_accuracy: 0.7098 - lr: 0.0159\n",
      "Epoch 65/100\n",
      "182/182 [==============================] - 15s 84ms/step - loss: 3.0737e-05 - accuracy: 0.7003 - val_loss: 2.4193e-05 - val_accuracy: 0.7098 - lr: 0.0182\n",
      "Epoch 66/100\n",
      "182/182 [==============================] - 15s 84ms/step - loss: 3.6132e-05 - accuracy: 0.7059 - val_loss: 2.4104e-05 - val_accuracy: 0.7056 - lr: 0.0207\n",
      "Epoch 67/100\n",
      "182/182 [==============================] - 15s 84ms/step - loss: 1.4229e-05 - accuracy: 0.7002 - val_loss: 2.4111e-05 - val_accuracy: 0.7077 - lr: 0.0233\n",
      "Epoch 68/100\n",
      "182/182 [==============================] - 15s 83ms/step - loss: 1.3859e-05 - accuracy: 0.7059 - val_loss: 2.3925e-05 - val_accuracy: 0.7098 - lr: 0.0260\n",
      "Epoch 69/100\n",
      "182/182 [==============================] - 15s 83ms/step - loss: 1.0702e-05 - accuracy: 0.7081 - val_loss: 2.4185e-05 - val_accuracy: 0.7119 - lr: 0.0288\n",
      "Epoch 70/100\n",
      "182/182 [==============================] - 15s 83ms/step - loss: 4.2868e-05 - accuracy: 0.7009 - val_loss: 2.4659e-05 - val_accuracy: 0.7056 - lr: 0.0317\n",
      "Epoch 71/100\n",
      "182/182 [==============================] - 15s 84ms/step - loss: 2.6906e-05 - accuracy: 0.7002 - val_loss: 2.4631e-05 - val_accuracy: 0.7077 - lr: 0.0346\n",
      "Epoch 72/100\n",
      "182/182 [==============================] - 15s 83ms/step - loss: 1.5461e-05 - accuracy: 0.7066 - val_loss: 2.4453e-05 - val_accuracy: 0.7077 - lr: 0.0376\n",
      "Epoch 73/100\n",
      "182/182 [==============================] - 15s 83ms/step - loss: 8.6907e-06 - accuracy: 0.7088 - val_loss: 2.4496e-05 - val_accuracy: 0.7077 - lr: 0.0407\n",
      "Epoch 74/100\n",
      "182/182 [==============================] - 15s 84ms/step - loss: 1.4560e-05 - accuracy: 0.7079 - val_loss: 2.4661e-05 - val_accuracy: 0.7077 - lr: 0.0438\n",
      "Epoch 75/100\n",
      "182/182 [==============================] - 15s 84ms/step - loss: 1.4512e-05 - accuracy: 0.7055 - val_loss: 2.3764e-05 - val_accuracy: 0.7077 - lr: 0.0469\n",
      "Epoch 76/100\n",
      "182/182 [==============================] - 15s 84ms/step - loss: 1.7917e-05 - accuracy: 0.7068 - val_loss: 2.3981e-05 - val_accuracy: 0.7056 - lr: 0.0501\n",
      "Epoch 77/100\n",
      "182/182 [==============================] - 15s 83ms/step - loss: 8.3246e-06 - accuracy: 0.7044 - val_loss: 2.4073e-05 - val_accuracy: 0.7056 - lr: 0.0532\n",
      "Epoch 78/100\n",
      "182/182 [==============================] - 15s 84ms/step - loss: 1.7141e-05 - accuracy: 0.7019 - val_loss: 2.4177e-05 - val_accuracy: 0.7056 - lr: 0.0563\n",
      "Epoch 79/100\n",
      "182/182 [==============================] - 15s 83ms/step - loss: 2.4493e-05 - accuracy: 0.7062 - val_loss: 2.3276e-05 - val_accuracy: 0.7056 - lr: 0.0594\n",
      "Epoch 80/100\n",
      "182/182 [==============================] - 15s 84ms/step - loss: 3.0878e-05 - accuracy: 0.7101 - val_loss: 2.3335e-05 - val_accuracy: 0.7056 - lr: 0.0625\n",
      "Epoch 81/100\n",
      "182/182 [==============================] - 15s 83ms/step - loss: 3.8117e-05 - accuracy: 0.7132 - val_loss: 2.3241e-05 - val_accuracy: 0.7056 - lr: 0.0655\n",
      "Epoch 82/100\n",
      "182/182 [==============================] - 15s 83ms/step - loss: 2.3271e-05 - accuracy: 0.7067 - val_loss: 2.3288e-05 - val_accuracy: 0.7056 - lr: 0.0684\n",
      "Epoch 83/100\n",
      "182/182 [==============================] - 15s 84ms/step - loss: 2.2575e-05 - accuracy: 0.6992 - val_loss: 2.1478e-05 - val_accuracy: 0.7035 - lr: 0.0713\n",
      "Epoch 84/100\n",
      "182/182 [==============================] - 15s 84ms/step - loss: 1.7262e-05 - accuracy: 0.7019 - val_loss: 2.1824e-05 - val_accuracy: 0.7077 - lr: 0.0741\n",
      "Epoch 85/100\n",
      "182/182 [==============================] - 15s 83ms/step - loss: 1.3936e-05 - accuracy: 0.7027 - val_loss: 2.1843e-05 - val_accuracy: 0.7077 - lr: 0.0768\n",
      "Epoch 86/100\n",
      "182/182 [==============================] - 15s 83ms/step - loss: 1.2216e-05 - accuracy: 0.7073 - val_loss: 2.1654e-05 - val_accuracy: 0.7098 - lr: 0.0794\n",
      "Epoch 87/100\n",
      "182/182 [==============================] - 15s 84ms/step - loss: 1.9555e-05 - accuracy: 0.7055 - val_loss: 2.1333e-05 - val_accuracy: 0.7119 - lr: 0.0819\n",
      "Epoch 88/100\n",
      "182/182 [==============================] - 15s 83ms/step - loss: 1.5043e-05 - accuracy: 0.7053 - val_loss: 2.1771e-05 - val_accuracy: 0.7098 - lr: 0.0842\n",
      "Epoch 89/100\n",
      "182/182 [==============================] - 15s 83ms/step - loss: 2.1134e-05 - accuracy: 0.7041 - val_loss: 2.3847e-05 - val_accuracy: 0.7119 - lr: 0.0865\n",
      "Epoch 90/100\n",
      "182/182 [==============================] - 15s 84ms/step - loss: 4.4442e-05 - accuracy: 0.7070 - val_loss: 2.6331e-05 - val_accuracy: 0.7077 - lr: 0.0885\n",
      "Epoch 91/100\n",
      "182/182 [==============================] - 15s 84ms/step - loss: 1.9855e-05 - accuracy: 0.7056 - val_loss: 2.6293e-05 - val_accuracy: 0.7098 - lr: 0.0905\n",
      "Epoch 92/100\n",
      "182/182 [==============================] - 15s 84ms/step - loss: 1.3965e-05 - accuracy: 0.7044 - val_loss: 2.6105e-05 - val_accuracy: 0.7098 - lr: 0.0922\n",
      "Epoch 93/100\n",
      "182/182 [==============================] - 15s 84ms/step - loss: 2.4135e-05 - accuracy: 0.7033 - val_loss: 2.6865e-05 - val_accuracy: 0.7119 - lr: 0.0938\n",
      "Epoch 94/100\n",
      "182/182 [==============================] - 15s 84ms/step - loss: 1.0192e-05 - accuracy: 0.7040 - val_loss: 2.7210e-05 - val_accuracy: 0.7098 - lr: 0.0952\n",
      "Epoch 95/100\n",
      "182/182 [==============================] - 15s 84ms/step - loss: 8.3424e-06 - accuracy: 0.7092 - val_loss: 2.6185e-05 - val_accuracy: 0.7119 - lr: 0.0965\n",
      "Epoch 96/100\n",
      "182/182 [==============================] - 15s 84ms/step - loss: 2.1846e-05 - accuracy: 0.7053 - val_loss: 2.7486e-05 - val_accuracy: 0.7077 - lr: 0.0976\n",
      "Epoch 97/100\n",
      "182/182 [==============================] - 15s 84ms/step - loss: 1.3950e-05 - accuracy: 0.7019 - val_loss: 2.6031e-05 - val_accuracy: 0.7098 - lr: 0.0984\n",
      "Epoch 98/100\n",
      "182/182 [==============================] - 15s 84ms/step - loss: 8.6618e-06 - accuracy: 0.7062 - val_loss: 2.5595e-05 - val_accuracy: 0.7098 - lr: 0.0991\n",
      "Epoch 99/100\n",
      "182/182 [==============================] - 15s 83ms/step - loss: 6.7100e-06 - accuracy: 0.7068 - val_loss: 2.5307e-05 - val_accuracy: 0.7098 - lr: 0.0996\n",
      "Epoch 100/100\n",
      "182/182 [==============================] - 15s 84ms/step - loss: 1.1348e-05 - accuracy: 0.7054 - val_loss: 2.3650e-05 - val_accuracy: 0.7056 - lr: 0.0999\n"
     ]
    }
   ],
   "source": [
    "callbacks, date = create_folders_and_callbacks(foldermode)\n",
    "callbacks.append(CosineAnnealingScheduler(T_max=50, eta_max=1e-1, eta_min=1e-4))\n",
    "history = model.fit(\n",
    "    generator,\n",
    "    validation_data = val_generator,\n",
    "    epochs = 100,\n",
    "    shuffle=False,\n",
    "    callbacks=callbacks\n",
    ").history"
   ]
  },
  {
   "cell_type": "code",
   "execution_count": 63,
   "metadata": {
    "pycharm": {
     "name": "#%%\n"
    }
   },
   "outputs": [],
   "source": [
    "model=tfk.models.load_model(\"experiments/KF_1.ckpt/base_ckpts/cp_143.ckpt\")"
   ]
  },
  {
   "cell_type": "code",
   "execution_count": 64,
   "metadata": {
    "pycharm": {
     "name": "#%%\n"
    }
   },
   "outputs": [],
   "source": [
    "model.compile(\n",
    "            loss=categorical_focal_loss,\n",
    "            optimizer=tfk.optimizers.SGD(learning_rate=1e-1),\n",
    "            metrics=['accuracy']\n",
    "        )"
   ]
  },
  {
   "cell_type": "code",
   "execution_count": 65,
   "metadata": {
    "pycharm": {
     "name": "#%%\n"
    }
   },
   "outputs": [
    {
     "name": "stdout",
     "output_type": "stream",
     "text": [
      "Dec17_17-47-11\n",
      "ResLSTM_Dec17_17-47-11\n"
     ]
    }
   ],
   "source": [
    "generator=AugmentDataGenerator(X_train_KF[1],y_train_KF[1],p=0.5)\n",
    "val_generator=AugmentDataGenerator(X_val_KF[1],y_val_KF[1],p=0)\n",
    "callbacks, date = create_folders_and_callbacks(foldermode)\n",
    "callbacks.append(CosineAnnealingScheduler(T_max=50, eta_max=1e-1, eta_min=1e-4))\n",
    "\n",
    "foldername = foldermode + '_' + str(date)\n",
    "print(foldername)"
   ]
  },
  {
   "cell_type": "code",
   "execution_count": 66,
   "metadata": {
    "scrolled": true,
    "pycharm": {
     "name": "#%%\n"
    }
   },
   "outputs": [
    {
     "name": "stdout",
     "output_type": "stream",
     "text": [
      "Epoch 1/100\n",
      "  6/181 [..............................] - ETA: 18s - loss: 0.0017 - accuracy: 0.7630  WARNING:tensorflow:Callback method `on_train_batch_end` is slow compared to the batch time (batch time: 0.0780s vs `on_train_batch_end` time: 0.4412s). Check your callbacks.\n"
     ]
    },
    {
     "name": "stderr",
     "output_type": "stream",
     "text": [
      "WARNING:tensorflow:Callback method `on_train_batch_end` is slow compared to the batch time (batch time: 0.0780s vs `on_train_batch_end` time: 0.4412s). Check your callbacks.\n"
     ]
    },
    {
     "name": "stdout",
     "output_type": "stream",
     "text": [
      "180/181 [============================>.] - ETA: 0s - loss: 4.9939e-04 - accuracy: 0.7604"
     ]
    },
    {
     "name": "stderr",
     "output_type": "stream",
     "text": [
      "WARNING:absl:Function `_wrapped_model` contains input name(s) Input with unsupported characters which will be renamed to input in the SavedModel.\n",
      "WARNING:absl:Found untraced functions such as lstm_cell_121_layer_call_fn, lstm_cell_121_layer_call_and_return_conditional_losses, lstm_cell_122_layer_call_fn, lstm_cell_122_layer_call_and_return_conditional_losses, lstm_cell_124_layer_call_fn while saving (showing 5 of 20). These functions will not be directly callable after loading.\n"
     ]
    },
    {
     "name": "stdout",
     "output_type": "stream",
     "text": [
      "INFO:tensorflow:Assets written to: experiments\\ResLSTM_Dec17_17-47-11\\base_ckpts\\cp_01.ckpt\\assets\n"
     ]
    },
    {
     "name": "stderr",
     "output_type": "stream",
     "text": [
      "INFO:tensorflow:Assets written to: experiments\\ResLSTM_Dec17_17-47-11\\base_ckpts\\cp_01.ckpt\\assets\n"
     ]
    },
    {
     "name": "stdout",
     "output_type": "stream",
     "text": [
      "181/181 [==============================] - 105s 513ms/step - loss: 4.9918e-04 - accuracy: 0.7604 - val_loss: 0.0040 - val_accuracy: 0.7453 - lr: 0.1000\n",
      "Epoch 2/100\n",
      "181/181 [==============================] - 16s 85ms/step - loss: 3.9082e-04 - accuracy: 0.7660 - val_loss: 0.0036 - val_accuracy: 0.7307 - lr: 0.0999\n",
      "Epoch 3/100\n",
      "181/181 [==============================] - 16s 85ms/step - loss: 3.3421e-04 - accuracy: 0.7609 - val_loss: 0.0038 - val_accuracy: 0.7286 - lr: 0.0996\n",
      "Epoch 4/100\n",
      "181/181 [==============================] - 15s 85ms/step - loss: 3.0042e-04 - accuracy: 0.7511 - val_loss: 0.0032 - val_accuracy: 0.7140 - lr: 0.0991\n",
      "Epoch 5/100\n",
      "181/181 [==============================] - 15s 85ms/step - loss: 3.3083e-04 - accuracy: 0.7550 - val_loss: 0.0026 - val_accuracy: 0.7161 - lr: 0.0984\n",
      "Epoch 6/100\n",
      "181/181 [==============================] - 15s 85ms/step - loss: 2.7458e-04 - accuracy: 0.7486 - val_loss: 0.0024 - val_accuracy: 0.7119 - lr: 0.0976\n",
      "Epoch 7/100\n",
      "181/181 [==============================] - 15s 85ms/step - loss: 2.9326e-04 - accuracy: 0.7479 - val_loss: 0.0021 - val_accuracy: 0.7015 - lr: 0.0965\n",
      "Epoch 8/100\n",
      "181/181 [==============================] - 15s 84ms/step - loss: 2.6359e-04 - accuracy: 0.7469 - val_loss: 0.0020 - val_accuracy: 0.7077 - lr: 0.0952\n",
      "Epoch 9/100\n",
      "181/181 [==============================] - 15s 85ms/step - loss: 2.5137e-04 - accuracy: 0.7455 - val_loss: 0.0019 - val_accuracy: 0.6994 - lr: 0.0938\n",
      "Epoch 10/100\n",
      "181/181 [==============================] - 15s 85ms/step - loss: 2.5464e-04 - accuracy: 0.7364 - val_loss: 0.0016 - val_accuracy: 0.6973 - lr: 0.0922\n",
      "Epoch 11/100\n",
      "181/181 [==============================] - 15s 85ms/step - loss: 2.0034e-04 - accuracy: 0.7474 - val_loss: 0.0015 - val_accuracy: 0.7035 - lr: 0.0905\n",
      "Epoch 12/100\n",
      "181/181 [==============================] - 15s 85ms/step - loss: 1.8081e-04 - accuracy: 0.7357 - val_loss: 0.0013 - val_accuracy: 0.6973 - lr: 0.0885\n",
      "Epoch 13/100\n",
      "181/181 [==============================] - 15s 85ms/step - loss: 1.9441e-04 - accuracy: 0.7378 - val_loss: 0.0012 - val_accuracy: 0.6889 - lr: 0.0865\n",
      "Epoch 14/100\n",
      "181/181 [==============================] - 15s 85ms/step - loss: 1.5571e-04 - accuracy: 0.7367 - val_loss: 0.0012 - val_accuracy: 0.6827 - lr: 0.0842\n",
      "Epoch 15/100\n",
      "181/181 [==============================] - 15s 85ms/step - loss: 9.7072e-05 - accuracy: 0.7337 - val_loss: 0.0011 - val_accuracy: 0.6848 - lr: 0.0819\n",
      "Epoch 16/100\n",
      "181/181 [==============================] - 15s 85ms/step - loss: 1.0935e-04 - accuracy: 0.7361 - val_loss: 0.0011 - val_accuracy: 0.6743 - lr: 0.0794\n",
      "Epoch 17/100\n",
      "181/181 [==============================] - 16s 86ms/step - loss: 2.0864e-04 - accuracy: 0.7210 - val_loss: 9.4795e-04 - val_accuracy: 0.6660 - lr: 0.0768\n",
      "Epoch 18/100\n",
      "181/181 [==============================] - 16s 86ms/step - loss: 9.4047e-05 - accuracy: 0.7240 - val_loss: 9.4017e-04 - val_accuracy: 0.6701 - lr: 0.0741\n",
      "Epoch 19/100\n",
      "181/181 [==============================] - 16s 85ms/step - loss: 1.0028e-04 - accuracy: 0.7210 - val_loss: 8.9643e-04 - val_accuracy: 0.6618 - lr: 0.0713\n",
      "Epoch 20/100\n",
      "181/181 [==============================] - 15s 85ms/step - loss: 1.5567e-04 - accuracy: 0.7186 - val_loss: 7.8353e-04 - val_accuracy: 0.6576 - lr: 0.0684\n",
      "Epoch 21/100\n",
      "181/181 [==============================] - 15s 85ms/step - loss: 1.5400e-04 - accuracy: 0.7236 - val_loss: 7.7470e-04 - val_accuracy: 0.6555 - lr: 0.0655\n",
      "Epoch 22/100\n",
      "181/181 [==============================] - 15s 85ms/step - loss: 1.6487e-04 - accuracy: 0.7138 - val_loss: 7.1747e-04 - val_accuracy: 0.6555 - lr: 0.0625\n",
      "Epoch 23/100\n",
      "181/181 [==============================] - 15s 85ms/step - loss: 1.3062e-04 - accuracy: 0.7183 - val_loss: 7.2151e-04 - val_accuracy: 0.6534 - lr: 0.0594\n",
      "Epoch 24/100\n",
      "181/181 [==============================] - 15s 85ms/step - loss: 1.2226e-04 - accuracy: 0.7118 - val_loss: 6.9172e-04 - val_accuracy: 0.6534 - lr: 0.0563\n",
      "Epoch 25/100\n",
      "181/181 [==============================] - 15s 85ms/step - loss: 1.4373e-04 - accuracy: 0.7134 - val_loss: 6.6770e-04 - val_accuracy: 0.6618 - lr: 0.0532\n",
      "Epoch 26/100\n",
      "181/181 [==============================] - 15s 85ms/step - loss: 8.7751e-05 - accuracy: 0.7177 - val_loss: 6.7995e-04 - val_accuracy: 0.6597 - lr: 0.0501\n",
      "Epoch 27/100\n",
      "181/181 [==============================] - 16s 86ms/step - loss: 1.2104e-04 - accuracy: 0.7181 - val_loss: 6.8803e-04 - val_accuracy: 0.6576 - lr: 0.0469\n",
      "Epoch 28/100\n",
      "181/181 [==============================] - 16s 86ms/step - loss: 1.3017e-04 - accuracy: 0.7205 - val_loss: 6.4897e-04 - val_accuracy: 0.6639 - lr: 0.0438\n",
      "Epoch 29/100\n",
      "181/181 [==============================] - 15s 85ms/step - loss: 9.5848e-05 - accuracy: 0.7122 - val_loss: 6.4218e-04 - val_accuracy: 0.6618 - lr: 0.0407\n",
      "Epoch 30/100\n",
      "181/181 [==============================] - 15s 85ms/step - loss: 1.9222e-04 - accuracy: 0.7143 - val_loss: 6.3787e-04 - val_accuracy: 0.6576 - lr: 0.0376\n",
      "Epoch 31/100\n",
      "181/181 [==============================] - 15s 84ms/step - loss: 8.5549e-05 - accuracy: 0.7122 - val_loss: 5.9057e-04 - val_accuracy: 0.6534 - lr: 0.0346\n",
      "Epoch 32/100\n",
      "181/181 [==============================] - 15s 85ms/step - loss: 1.3606e-04 - accuracy: 0.7138 - val_loss: 5.7884e-04 - val_accuracy: 0.6576 - lr: 0.0317\n",
      "Epoch 33/100\n",
      "181/181 [==============================] - 15s 85ms/step - loss: 9.8132e-05 - accuracy: 0.7179 - val_loss: 5.5525e-04 - val_accuracy: 0.6597 - lr: 0.0288\n",
      "Epoch 34/100\n",
      "181/181 [==============================] - 15s 85ms/step - loss: 7.7722e-05 - accuracy: 0.7136 - val_loss: 5.3990e-04 - val_accuracy: 0.6576 - lr: 0.0260\n",
      "Epoch 35/100\n",
      "181/181 [==============================] - 15s 85ms/step - loss: 1.1479e-04 - accuracy: 0.7135 - val_loss: 5.1855e-04 - val_accuracy: 0.6534 - lr: 0.0233\n",
      "Epoch 36/100\n",
      "181/181 [==============================] - 15s 85ms/step - loss: 9.0946e-05 - accuracy: 0.7177 - val_loss: 5.1723e-04 - val_accuracy: 0.6555 - lr: 0.0207\n",
      "Epoch 37/100\n",
      "181/181 [==============================] - 16s 86ms/step - loss: 1.4286e-04 - accuracy: 0.7090 - val_loss: 5.1218e-04 - val_accuracy: 0.6514 - lr: 0.0182\n",
      "Epoch 38/100\n",
      "181/181 [==============================] - 16s 85ms/step - loss: 1.0592e-04 - accuracy: 0.7094 - val_loss: 5.1313e-04 - val_accuracy: 0.6534 - lr: 0.0159\n",
      "Epoch 39/100\n",
      "181/181 [==============================] - 15s 85ms/step - loss: 7.5841e-05 - accuracy: 0.7170 - val_loss: 5.0680e-04 - val_accuracy: 0.6534 - lr: 0.0136\n",
      "Epoch 40/100\n",
      "181/181 [==============================] - 15s 85ms/step - loss: 1.3418e-04 - accuracy: 0.7111 - val_loss: 5.0090e-04 - val_accuracy: 0.6555 - lr: 0.0116\n",
      "Epoch 41/100\n",
      "181/181 [==============================] - 15s 85ms/step - loss: 6.3032e-05 - accuracy: 0.7108 - val_loss: 4.9759e-04 - val_accuracy: 0.6576 - lr: 0.0096\n",
      "Epoch 42/100\n",
      "181/181 [==============================] - 16s 85ms/step - loss: 6.5659e-05 - accuracy: 0.7074 - val_loss: 4.9666e-04 - val_accuracy: 0.6576 - lr: 0.0079\n",
      "Epoch 43/100\n",
      "181/181 [==============================] - 15s 85ms/step - loss: 1.1685e-04 - accuracy: 0.7125 - val_loss: 4.9257e-04 - val_accuracy: 0.6576 - lr: 0.0063\n",
      "Epoch 44/100\n",
      "181/181 [==============================] - 16s 85ms/step - loss: 7.7888e-05 - accuracy: 0.7119 - val_loss: 4.9290e-04 - val_accuracy: 0.6576 - lr: 0.0049\n",
      "Epoch 45/100\n",
      "181/181 [==============================] - 15s 85ms/step - loss: 8.7208e-05 - accuracy: 0.7131 - val_loss: 4.9144e-04 - val_accuracy: 0.6576 - lr: 0.0036\n",
      "Epoch 46/100\n",
      "181/181 [==============================] - 15s 85ms/step - loss: 8.0990e-05 - accuracy: 0.7198 - val_loss: 4.9133e-04 - val_accuracy: 0.6576 - lr: 0.0025\n",
      "Epoch 47/100\n",
      "181/181 [==============================] - 15s 85ms/step - loss: 9.1365e-05 - accuracy: 0.7131 - val_loss: 4.9019e-04 - val_accuracy: 0.6576 - lr: 0.0017\n",
      "Epoch 48/100\n",
      "181/181 [==============================] - 15s 85ms/step - loss: 1.3921e-04 - accuracy: 0.7132 - val_loss: 4.9051e-04 - val_accuracy: 0.6576 - lr: 9.8475e-04\n",
      "Epoch 49/100\n",
      "181/181 [==============================] - 15s 85ms/step - loss: 6.7575e-05 - accuracy: 0.7136 - val_loss: 4.9077e-04 - val_accuracy: 0.6576 - lr: 4.9387e-04\n",
      "Epoch 50/100\n",
      "181/181 [==============================] - 15s 85ms/step - loss: 1.2715e-04 - accuracy: 0.7140 - val_loss: 4.9043e-04 - val_accuracy: 0.6576 - lr: 1.9856e-04\n",
      "Epoch 51/100\n",
      "181/181 [==============================] - 15s 84ms/step - loss: 6.5069e-05 - accuracy: 0.7138 - val_loss: 4.9065e-04 - val_accuracy: 0.6576 - lr: 1.0000e-04\n",
      "Epoch 52/100\n",
      "181/181 [==============================] - 16s 85ms/step - loss: 1.6072e-04 - accuracy: 0.7130 - val_loss: 4.9064e-04 - val_accuracy: 0.6576 - lr: 1.9856e-04\n",
      "Epoch 53/100\n",
      "181/181 [==============================] - 15s 85ms/step - loss: 1.0133e-04 - accuracy: 0.7159 - val_loss: 4.9062e-04 - val_accuracy: 0.6576 - lr: 4.9387e-04\n",
      "Epoch 54/100\n",
      "181/181 [==============================] - 15s 85ms/step - loss: 6.8034e-05 - accuracy: 0.7115 - val_loss: 4.9034e-04 - val_accuracy: 0.6576 - lr: 9.8475e-04\n",
      "Epoch 55/100\n",
      "181/181 [==============================] - 15s 85ms/step - loss: 8.0806e-05 - accuracy: 0.7146 - val_loss: 4.8905e-04 - val_accuracy: 0.6576 - lr: 0.0017\n",
      "Epoch 56/100\n",
      "181/181 [==============================] - 16s 86ms/step - loss: 1.0572e-04 - accuracy: 0.7188 - val_loss: 4.8851e-04 - val_accuracy: 0.6576 - lr: 0.0025\n",
      "Epoch 57/100\n",
      "181/181 [==============================] - 16s 85ms/step - loss: 1.4758e-04 - accuracy: 0.7208 - val_loss: 4.8738e-04 - val_accuracy: 0.6576 - lr: 0.0036\n",
      "Epoch 58/100\n",
      "181/181 [==============================] - 15s 85ms/step - loss: 5.5299e-05 - accuracy: 0.7166 - val_loss: 4.8636e-04 - val_accuracy: 0.6576 - lr: 0.0049\n",
      "Epoch 59/100\n",
      "181/181 [==============================] - 15s 85ms/step - loss: 8.9250e-05 - accuracy: 0.7138 - val_loss: 4.8761e-04 - val_accuracy: 0.6576 - lr: 0.0063\n",
      "Epoch 60/100\n",
      "181/181 [==============================] - 15s 85ms/step - loss: 1.5997e-04 - accuracy: 0.7137 - val_loss: 4.7298e-04 - val_accuracy: 0.6576 - lr: 0.0079\n",
      "Epoch 61/100\n",
      "181/181 [==============================] - 16s 86ms/step - loss: 6.6766e-05 - accuracy: 0.7097 - val_loss: 4.7147e-04 - val_accuracy: 0.6576 - lr: 0.0096\n",
      "Epoch 62/100\n",
      "181/181 [==============================] - 15s 85ms/step - loss: 1.3646e-04 - accuracy: 0.7102 - val_loss: 4.6194e-04 - val_accuracy: 0.6555 - lr: 0.0116\n",
      "Epoch 63/100\n",
      "181/181 [==============================] - 15s 85ms/step - loss: 6.1854e-05 - accuracy: 0.7074 - val_loss: 4.5847e-04 - val_accuracy: 0.6576 - lr: 0.0136\n",
      "Epoch 64/100\n",
      "181/181 [==============================] - 16s 86ms/step - loss: 7.6800e-05 - accuracy: 0.7163 - val_loss: 4.5788e-04 - val_accuracy: 0.6576 - lr: 0.0159\n",
      "Epoch 65/100\n",
      "181/181 [==============================] - 16s 85ms/step - loss: 8.3733e-05 - accuracy: 0.7115 - val_loss: 4.4480e-04 - val_accuracy: 0.6576 - lr: 0.0182\n",
      "Epoch 66/100\n",
      "181/181 [==============================] - 15s 85ms/step - loss: 7.0936e-05 - accuracy: 0.7093 - val_loss: 4.5106e-04 - val_accuracy: 0.6555 - lr: 0.0207\n",
      "Epoch 67/100\n",
      "181/181 [==============================] - 16s 86ms/step - loss: 7.7103e-05 - accuracy: 0.7149 - val_loss: 4.4861e-04 - val_accuracy: 0.6534 - lr: 0.0233\n",
      "Epoch 68/100\n",
      "181/181 [==============================] - 16s 85ms/step - loss: 1.1966e-04 - accuracy: 0.7146 - val_loss: 4.4516e-04 - val_accuracy: 0.6555 - lr: 0.0260\n",
      "Epoch 69/100\n",
      "181/181 [==============================] - 15s 85ms/step - loss: 7.8622e-05 - accuracy: 0.7163 - val_loss: 4.4158e-04 - val_accuracy: 0.6597 - lr: 0.0288\n",
      "Epoch 70/100\n",
      "181/181 [==============================] - 15s 85ms/step - loss: 5.7682e-05 - accuracy: 0.7098 - val_loss: 4.3555e-04 - val_accuracy: 0.6555 - lr: 0.0317\n",
      "Epoch 71/100\n",
      "181/181 [==============================] - 15s 85ms/step - loss: 1.1323e-04 - accuracy: 0.7102 - val_loss: 4.2337e-04 - val_accuracy: 0.6534 - lr: 0.0346\n",
      "Epoch 72/100\n",
      "181/181 [==============================] - 16s 86ms/step - loss: 1.0695e-04 - accuracy: 0.7097 - val_loss: 4.3733e-04 - val_accuracy: 0.6555 - lr: 0.0376\n",
      "Epoch 73/100\n",
      "181/181 [==============================] - 15s 85ms/step - loss: 6.0230e-05 - accuracy: 0.7100 - val_loss: 4.4721e-04 - val_accuracy: 0.6534 - lr: 0.0407\n",
      "Epoch 74/100\n",
      "181/181 [==============================] - 16s 86ms/step - loss: 7.9315e-05 - accuracy: 0.7138 - val_loss: 4.3988e-04 - val_accuracy: 0.6555 - lr: 0.0438\n",
      "Epoch 75/100\n",
      "181/181 [==============================] - 15s 85ms/step - loss: 9.4892e-05 - accuracy: 0.7077 - val_loss: 4.6486e-04 - val_accuracy: 0.6555 - lr: 0.0469\n",
      "Epoch 76/100\n",
      "181/181 [==============================] - 16s 87ms/step - loss: 1.8389e-04 - accuracy: 0.7123 - val_loss: 4.4256e-04 - val_accuracy: 0.6534 - lr: 0.0501\n",
      "Epoch 77/100\n",
      "181/181 [==============================] - 16s 89ms/step - loss: 1.0926e-04 - accuracy: 0.7145 - val_loss: 4.5179e-04 - val_accuracy: 0.6555 - lr: 0.0532\n",
      "Epoch 78/100\n",
      "181/181 [==============================] - 16s 88ms/step - loss: 6.0110e-05 - accuracy: 0.7129 - val_loss: 4.4099e-04 - val_accuracy: 0.6534 - lr: 0.0563\n",
      "Epoch 79/100\n",
      "181/181 [==============================] - 16s 89ms/step - loss: 8.4725e-05 - accuracy: 0.7093 - val_loss: 4.4366e-04 - val_accuracy: 0.6514 - lr: 0.0594\n",
      "Epoch 80/100\n",
      "181/181 [==============================] - 16s 90ms/step - loss: 7.7571e-05 - accuracy: 0.7107 - val_loss: 4.1182e-04 - val_accuracy: 0.6514 - lr: 0.0625\n",
      "Epoch 81/100\n",
      "181/181 [==============================] - 16s 89ms/step - loss: 1.2047e-04 - accuracy: 0.7118 - val_loss: 3.9681e-04 - val_accuracy: 0.6514 - lr: 0.0655\n",
      "Epoch 82/100\n",
      "181/181 [==============================] - 16s 87ms/step - loss: 7.0083e-05 - accuracy: 0.7131 - val_loss: 3.7625e-04 - val_accuracy: 0.6493 - lr: 0.0684\n",
      "Epoch 83/100\n",
      "181/181 [==============================] - 16s 87ms/step - loss: 8.5142e-05 - accuracy: 0.7079 - val_loss: 3.2915e-04 - val_accuracy: 0.6534 - lr: 0.0713\n",
      "Epoch 84/100\n",
      "181/181 [==============================] - 16s 87ms/step - loss: 6.1367e-05 - accuracy: 0.7117 - val_loss: 3.1955e-04 - val_accuracy: 0.6514 - lr: 0.0741\n",
      "Epoch 85/100\n",
      "181/181 [==============================] - 16s 87ms/step - loss: 7.3519e-05 - accuracy: 0.7039 - val_loss: 3.0863e-04 - val_accuracy: 0.6555 - lr: 0.0768\n",
      "Epoch 86/100\n",
      "181/181 [==============================] - 16s 87ms/step - loss: 6.5730e-05 - accuracy: 0.7115 - val_loss: 3.1689e-04 - val_accuracy: 0.6576 - lr: 0.0794\n",
      "Epoch 87/100\n",
      "181/181 [==============================] - 16s 87ms/step - loss: 1.0159e-04 - accuracy: 0.7082 - val_loss: 3.0329e-04 - val_accuracy: 0.6534 - lr: 0.0819\n",
      "Epoch 88/100\n",
      "181/181 [==============================] - 16s 87ms/step - loss: 6.5635e-05 - accuracy: 0.7115 - val_loss: 3.1333e-04 - val_accuracy: 0.6493 - lr: 0.0842\n",
      "Epoch 89/100\n",
      "181/181 [==============================] - 16s 87ms/step - loss: 6.3116e-05 - accuracy: 0.7082 - val_loss: 3.2624e-04 - val_accuracy: 0.6555 - lr: 0.0865\n",
      "Epoch 90/100\n",
      "181/181 [==============================] - 16s 87ms/step - loss: 8.5060e-05 - accuracy: 0.7013 - val_loss: 2.7417e-04 - val_accuracy: 0.6472 - lr: 0.0885\n",
      "Epoch 91/100\n",
      "181/181 [==============================] - 16s 87ms/step - loss: 4.3902e-05 - accuracy: 0.7028 - val_loss: 2.6637e-04 - val_accuracy: 0.6472 - lr: 0.0905\n",
      "Epoch 92/100\n",
      "181/181 [==============================] - 16s 87ms/step - loss: 3.5990e-05 - accuracy: 0.7039 - val_loss: 2.7552e-04 - val_accuracy: 0.6514 - lr: 0.0922\n",
      "Epoch 93/100\n",
      "181/181 [==============================] - 16s 87ms/step - loss: 5.6412e-05 - accuracy: 0.7033 - val_loss: 2.5573e-04 - val_accuracy: 0.6514 - lr: 0.0938\n",
      "Epoch 94/100\n",
      "181/181 [==============================] - 16s 87ms/step - loss: 5.7293e-05 - accuracy: 0.6949 - val_loss: 2.0366e-04 - val_accuracy: 0.6472 - lr: 0.0952\n",
      "Epoch 95/100\n",
      "181/181 [==============================] - 16s 87ms/step - loss: 3.7432e-05 - accuracy: 0.6982 - val_loss: 2.0189e-04 - val_accuracy: 0.6493 - lr: 0.0965\n",
      "Epoch 96/100\n",
      "181/181 [==============================] - 16s 87ms/step - loss: 5.9222e-05 - accuracy: 0.6996 - val_loss: 1.8538e-04 - val_accuracy: 0.6493 - lr: 0.0976\n",
      "Epoch 97/100\n",
      "181/181 [==============================] - 16s 87ms/step - loss: 3.3176e-05 - accuracy: 0.7019 - val_loss: 1.7278e-04 - val_accuracy: 0.6514 - lr: 0.0984\n",
      "Epoch 98/100\n",
      "181/181 [==============================] - 16s 87ms/step - loss: 3.0974e-05 - accuracy: 0.6918 - val_loss: 1.5598e-04 - val_accuracy: 0.6493 - lr: 0.0991\n",
      "Epoch 99/100\n"
     ]
    },
    {
     "name": "stdout",
     "output_type": "stream",
     "text": [
      "181/181 [==============================] - 16s 87ms/step - loss: 4.6447e-05 - accuracy: 0.6995 - val_loss: 1.5231e-04 - val_accuracy: 0.6472 - lr: 0.0996\n",
      "Epoch 100/100\n",
      "181/181 [==============================] - 16s 87ms/step - loss: 4.4659e-05 - accuracy: 0.6920 - val_loss: 1.5383e-04 - val_accuracy: 0.6472 - lr: 0.0999\n"
     ]
    }
   ],
   "source": [
    "history = model.fit(\n",
    "    generator,\n",
    "    validation_data = val_generator,\n",
    "    epochs = 100,\n",
    "    shuffle=False,\n",
    "    callbacks=callbacks\n",
    ").history"
   ]
  },
  {
   "cell_type": "code",
   "execution_count": 67,
   "metadata": {
    "pycharm": {
     "name": "#%%\n"
    }
   },
   "outputs": [
    {
     "name": "stdout",
     "output_type": "stream",
     "text": [
      "Dec17_18-14-39\n",
      "Epoch 1/100\n",
      "  6/181 [..............................] - ETA: 21s - loss: 4.9350e-06 - accuracy: 0.6406WARNING:tensorflow:Callback method `on_train_batch_end` is slow compared to the batch time (batch time: 0.0912s vs `on_train_batch_end` time: 0.4425s). Check your callbacks.\n"
     ]
    },
    {
     "name": "stderr",
     "output_type": "stream",
     "text": [
      "WARNING:tensorflow:Callback method `on_train_batch_end` is slow compared to the batch time (batch time: 0.0912s vs `on_train_batch_end` time: 0.4425s). Check your callbacks.\n"
     ]
    },
    {
     "name": "stdout",
     "output_type": "stream",
     "text": [
      "180/181 [============================>.] - ETA: 0s - loss: 4.5558e-05 - accuracy: 0.7009"
     ]
    },
    {
     "name": "stderr",
     "output_type": "stream",
     "text": [
      "WARNING:absl:Function `_wrapped_model` contains input name(s) Input with unsupported characters which will be renamed to input in the SavedModel.\n",
      "WARNING:absl:Found untraced functions such as lstm_cell_121_layer_call_fn, lstm_cell_121_layer_call_and_return_conditional_losses, lstm_cell_122_layer_call_fn, lstm_cell_122_layer_call_and_return_conditional_losses, lstm_cell_124_layer_call_fn while saving (showing 5 of 20). These functions will not be directly callable after loading.\n"
     ]
    },
    {
     "name": "stdout",
     "output_type": "stream",
     "text": [
      "INFO:tensorflow:Assets written to: experiments\\ResLSTM_Dec17_18-14-39\\base_ckpts\\cp_01.ckpt\\assets\n"
     ]
    },
    {
     "name": "stderr",
     "output_type": "stream",
     "text": [
      "INFO:tensorflow:Assets written to: experiments\\ResLSTM_Dec17_18-14-39\\base_ckpts\\cp_01.ckpt\\assets\n"
     ]
    },
    {
     "name": "stdout",
     "output_type": "stream",
     "text": [
      "181/181 [==============================] - 90s 485ms/step - loss: 4.5538e-05 - accuracy: 0.7009 - val_loss: 1.5760e-04 - val_accuracy: 0.6514 - lr: 0.1000\n",
      "Epoch 2/100\n",
      "181/181 [==============================] - 16s 85ms/step - loss: 3.8920e-05 - accuracy: 0.6985 - val_loss: 1.4905e-04 - val_accuracy: 0.6514 - lr: 0.0999\n",
      "Epoch 3/100\n",
      "181/181 [==============================] - 15s 85ms/step - loss: 2.0021e-05 - accuracy: 0.6991 - val_loss: 1.4358e-04 - val_accuracy: 0.6514 - lr: 0.0996\n",
      "Epoch 4/100\n",
      "181/181 [==============================] - 16s 86ms/step - loss: 2.5364e-05 - accuracy: 0.6989 - val_loss: 1.3274e-04 - val_accuracy: 0.6514 - lr: 0.0991\n",
      "Epoch 5/100\n",
      "181/181 [==============================] - 16s 85ms/step - loss: 3.6865e-05 - accuracy: 0.6949 - val_loss: 1.2468e-04 - val_accuracy: 0.6472 - lr: 0.0984\n",
      "Epoch 6/100\n",
      "181/181 [==============================] - 16s 86ms/step - loss: 3.9602e-05 - accuracy: 0.7013 - val_loss: 1.2172e-04 - val_accuracy: 0.6472 - lr: 0.0976\n",
      "Epoch 7/100\n",
      "181/181 [==============================] - 16s 86ms/step - loss: 4.5979e-05 - accuracy: 0.6986 - val_loss: 1.1889e-04 - val_accuracy: 0.6472 - lr: 0.0965\n",
      "Epoch 8/100\n",
      "181/181 [==============================] - 16s 86ms/step - loss: 7.0602e-05 - accuracy: 0.6949 - val_loss: 1.0754e-04 - val_accuracy: 0.6367 - lr: 0.0952\n",
      "Epoch 9/100\n",
      "181/181 [==============================] - 16s 86ms/step - loss: 5.8319e-05 - accuracy: 0.6966 - val_loss: 9.4607e-05 - val_accuracy: 0.6305 - lr: 0.0938\n",
      "Epoch 10/100\n",
      "181/181 [==============================] - 16s 87ms/step - loss: 3.3767e-05 - accuracy: 0.6878 - val_loss: 9.8250e-05 - val_accuracy: 0.6347 - lr: 0.0922\n",
      "Epoch 11/100\n",
      "181/181 [==============================] - 16s 86ms/step - loss: 3.4820e-05 - accuracy: 0.6919 - val_loss: 1.0289e-04 - val_accuracy: 0.6326 - lr: 0.0905\n",
      "Epoch 12/100\n",
      "181/181 [==============================] - 16s 86ms/step - loss: 4.9641e-05 - accuracy: 0.6995 - val_loss: 1.0516e-04 - val_accuracy: 0.6367 - lr: 0.0885\n",
      "Epoch 13/100\n",
      "181/181 [==============================] - 16s 85ms/step - loss: 4.6706e-05 - accuracy: 0.6929 - val_loss: 1.0390e-04 - val_accuracy: 0.6347 - lr: 0.0865\n",
      "Epoch 14/100\n",
      "181/181 [==============================] - 16s 87ms/step - loss: 3.6891e-05 - accuracy: 0.6976 - val_loss: 1.0815e-04 - val_accuracy: 0.6388 - lr: 0.0842\n",
      "Epoch 15/100\n",
      "181/181 [==============================] - 16s 86ms/step - loss: 3.3733e-05 - accuracy: 0.6971 - val_loss: 1.0317e-04 - val_accuracy: 0.6388 - lr: 0.0819\n",
      "Epoch 16/100\n",
      "181/181 [==============================] - 16s 87ms/step - loss: 3.8486e-05 - accuracy: 0.6888 - val_loss: 1.0932e-04 - val_accuracy: 0.6493 - lr: 0.0794\n",
      "Epoch 17/100\n",
      "181/181 [==============================] - 16s 87ms/step - loss: 7.2487e-05 - accuracy: 0.6945 - val_loss: 8.1425e-05 - val_accuracy: 0.6367 - lr: 0.0768\n",
      "Epoch 18/100\n",
      "181/181 [==============================] - 16s 86ms/step - loss: 3.4427e-05 - accuracy: 0.6867 - val_loss: 8.1588e-05 - val_accuracy: 0.6388 - lr: 0.0741\n",
      "Epoch 19/100\n",
      "181/181 [==============================] - 16s 85ms/step - loss: 5.7834e-05 - accuracy: 0.6987 - val_loss: 7.9131e-05 - val_accuracy: 0.6388 - lr: 0.0713\n",
      "Epoch 20/100\n",
      "181/181 [==============================] - 16s 86ms/step - loss: 1.2575e-04 - accuracy: 0.6900 - val_loss: 8.2557e-05 - val_accuracy: 0.6430 - lr: 0.0684\n",
      "Epoch 21/100\n",
      "181/181 [==============================] - 16s 87ms/step - loss: 2.3227e-05 - accuracy: 0.6970 - val_loss: 8.3031e-05 - val_accuracy: 0.6430 - lr: 0.0655\n",
      "Epoch 22/100\n",
      "181/181 [==============================] - 16s 86ms/step - loss: 7.8095e-05 - accuracy: 0.6916 - val_loss: 8.8965e-05 - val_accuracy: 0.6409 - lr: 0.0625\n",
      "Epoch 23/100\n",
      "181/181 [==============================] - 16s 86ms/step - loss: 3.1875e-05 - accuracy: 0.6959 - val_loss: 9.1749e-05 - val_accuracy: 0.6409 - lr: 0.0594\n",
      "Epoch 24/100\n",
      "181/181 [==============================] - 16s 86ms/step - loss: 6.4849e-05 - accuracy: 0.6895 - val_loss: 8.3322e-05 - val_accuracy: 0.6388 - lr: 0.0563\n",
      "Epoch 25/100\n",
      "181/181 [==============================] - 16s 87ms/step - loss: 2.7999e-05 - accuracy: 0.6912 - val_loss: 7.9862e-05 - val_accuracy: 0.6388 - lr: 0.0532\n",
      "Epoch 26/100\n",
      "181/181 [==============================] - 16s 87ms/step - loss: 3.6662e-05 - accuracy: 0.6933 - val_loss: 7.8743e-05 - val_accuracy: 0.6367 - lr: 0.0501\n",
      "Epoch 27/100\n",
      "181/181 [==============================] - 16s 86ms/step - loss: 3.0916e-05 - accuracy: 0.6944 - val_loss: 7.9536e-05 - val_accuracy: 0.6409 - lr: 0.0469\n",
      "Epoch 28/100\n",
      "181/181 [==============================] - 15s 85ms/step - loss: 2.2868e-05 - accuracy: 0.6895 - val_loss: 7.9949e-05 - val_accuracy: 0.6388 - lr: 0.0438\n",
      "Epoch 29/100\n",
      "181/181 [==============================] - 16s 86ms/step - loss: 2.1802e-05 - accuracy: 0.6915 - val_loss: 8.0086e-05 - val_accuracy: 0.6388 - lr: 0.0407\n",
      "Epoch 30/100\n",
      "181/181 [==============================] - 16s 86ms/step - loss: 3.2686e-05 - accuracy: 0.6888 - val_loss: 7.9304e-05 - val_accuracy: 0.6388 - lr: 0.0376\n",
      "Epoch 31/100\n",
      "181/181 [==============================] - 16s 86ms/step - loss: 4.2629e-05 - accuracy: 0.6933 - val_loss: 7.5535e-05 - val_accuracy: 0.6367 - lr: 0.0346\n",
      "Epoch 32/100\n",
      "181/181 [==============================] - 16s 86ms/step - loss: 5.2713e-05 - accuracy: 0.6867 - val_loss: 7.9476e-05 - val_accuracy: 0.6409 - lr: 0.0317\n",
      "Epoch 33/100\n",
      "181/181 [==============================] - 16s 86ms/step - loss: 5.3309e-05 - accuracy: 0.6895 - val_loss: 8.0431e-05 - val_accuracy: 0.6409 - lr: 0.0288\n",
      "Epoch 34/100\n",
      "181/181 [==============================] - 16s 86ms/step - loss: 4.6113e-05 - accuracy: 0.6860 - val_loss: 7.9687e-05 - val_accuracy: 0.6409 - lr: 0.0260\n",
      "Epoch 35/100\n",
      "181/181 [==============================] - 16s 86ms/step - loss: 2.9188e-05 - accuracy: 0.6947 - val_loss: 7.9318e-05 - val_accuracy: 0.6409 - lr: 0.0233\n",
      "Epoch 36/100\n",
      "181/181 [==============================] - 16s 86ms/step - loss: 2.9959e-05 - accuracy: 0.6974 - val_loss: 7.9538e-05 - val_accuracy: 0.6409 - lr: 0.0207\n",
      "Epoch 37/100\n",
      "181/181 [==============================] - 16s 86ms/step - loss: 1.5844e-05 - accuracy: 0.6909 - val_loss: 7.9266e-05 - val_accuracy: 0.6409 - lr: 0.0182\n",
      "Epoch 38/100\n",
      "181/181 [==============================] - 16s 86ms/step - loss: 4.1905e-05 - accuracy: 0.6862 - val_loss: 7.8423e-05 - val_accuracy: 0.6409 - lr: 0.0159\n",
      "Epoch 39/100\n",
      "181/181 [==============================] - 16s 86ms/step - loss: 3.2867e-05 - accuracy: 0.6854 - val_loss: 7.8130e-05 - val_accuracy: 0.6409 - lr: 0.0136\n",
      "Epoch 40/100\n",
      "181/181 [==============================] - 16s 86ms/step - loss: 2.0687e-05 - accuracy: 0.6960 - val_loss: 7.7881e-05 - val_accuracy: 0.6409 - lr: 0.0116\n",
      "Epoch 41/100\n",
      "181/181 [==============================] - 16s 86ms/step - loss: 3.2679e-05 - accuracy: 0.6930 - val_loss: 7.8681e-05 - val_accuracy: 0.6409 - lr: 0.0096\n",
      "Epoch 42/100\n",
      "181/181 [==============================] - 16s 86ms/step - loss: 3.4437e-05 - accuracy: 0.6869 - val_loss: 7.8342e-05 - val_accuracy: 0.6409 - lr: 0.0079\n",
      "Epoch 43/100\n",
      "181/181 [==============================] - 16s 86ms/step - loss: 1.6337e-05 - accuracy: 0.6943 - val_loss: 7.8329e-05 - val_accuracy: 0.6409 - lr: 0.0063\n",
      "Epoch 44/100\n",
      "181/181 [==============================] - 16s 86ms/step - loss: 6.1986e-05 - accuracy: 0.6882 - val_loss: 7.7999e-05 - val_accuracy: 0.6409 - lr: 0.0049\n",
      "Epoch 45/100\n",
      "181/181 [==============================] - 16s 86ms/step - loss: 7.0985e-05 - accuracy: 0.6931 - val_loss: 7.8288e-05 - val_accuracy: 0.6409 - lr: 0.0036\n",
      "Epoch 46/100\n",
      "181/181 [==============================] - 16s 86ms/step - loss: 4.4215e-05 - accuracy: 0.6883 - val_loss: 7.8395e-05 - val_accuracy: 0.6409 - lr: 0.0025\n",
      "Epoch 47/100\n",
      "181/181 [==============================] - 16s 86ms/step - loss: 3.6727e-05 - accuracy: 0.6867 - val_loss: 7.8514e-05 - val_accuracy: 0.6409 - lr: 0.0017\n",
      "Epoch 48/100\n",
      "181/181 [==============================] - 16s 86ms/step - loss: 3.3863e-05 - accuracy: 0.6915 - val_loss: 7.8441e-05 - val_accuracy: 0.6409 - lr: 9.8475e-04\n",
      "Epoch 49/100\n",
      "181/181 [==============================] - 16s 85ms/step - loss: 1.4857e-05 - accuracy: 0.6915 - val_loss: 7.8499e-05 - val_accuracy: 0.6409 - lr: 4.9387e-04\n",
      "Epoch 50/100\n",
      "181/181 [==============================] - 16s 86ms/step - loss: 2.9341e-05 - accuracy: 0.6961 - val_loss: 7.8457e-05 - val_accuracy: 0.6409 - lr: 1.9856e-04\n",
      "Epoch 51/100\n",
      "181/181 [==============================] - 16s 86ms/step - loss: 2.7888e-05 - accuracy: 0.6865 - val_loss: 7.8455e-05 - val_accuracy: 0.6409 - lr: 1.0000e-04\n",
      "Epoch 52/100\n",
      "181/181 [==============================] - 15s 85ms/step - loss: 1.9231e-05 - accuracy: 0.6943 - val_loss: 7.8467e-05 - val_accuracy: 0.6409 - lr: 1.9856e-04\n",
      "Epoch 53/100\n",
      "181/181 [==============================] - 16s 86ms/step - loss: 1.7278e-05 - accuracy: 0.6894 - val_loss: 7.8429e-05 - val_accuracy: 0.6409 - lr: 4.9387e-04\n",
      "Epoch 54/100\n",
      "181/181 [==============================] - 16s 86ms/step - loss: 4.2631e-05 - accuracy: 0.6912 - val_loss: 7.8318e-05 - val_accuracy: 0.6409 - lr: 9.8475e-04\n",
      "Epoch 55/100\n",
      "181/181 [==============================] - 16s 86ms/step - loss: 1.6107e-05 - accuracy: 0.6910 - val_loss: 7.8242e-05 - val_accuracy: 0.6409 - lr: 0.0017\n",
      "Epoch 56/100\n",
      "181/181 [==============================] - 16s 86ms/step - loss: 1.8125e-05 - accuracy: 0.6834 - val_loss: 7.8152e-05 - val_accuracy: 0.6409 - lr: 0.0025\n",
      "Epoch 57/100\n",
      "181/181 [==============================] - 16s 86ms/step - loss: 2.8104e-05 - accuracy: 0.6877 - val_loss: 7.8077e-05 - val_accuracy: 0.6409 - lr: 0.0036\n",
      "Epoch 58/100\n",
      "181/181 [==============================] - 16s 86ms/step - loss: 5.1748e-05 - accuracy: 0.6916 - val_loss: 7.7080e-05 - val_accuracy: 0.6409 - lr: 0.0049\n",
      "Epoch 59/100\n",
      "181/181 [==============================] - 16s 86ms/step - loss: 2.3865e-05 - accuracy: 0.6872 - val_loss: 7.7050e-05 - val_accuracy: 0.6409 - lr: 0.0063\n",
      "Epoch 60/100\n",
      "181/181 [==============================] - 16s 86ms/step - loss: 3.8083e-05 - accuracy: 0.6897 - val_loss: 7.6636e-05 - val_accuracy: 0.6430 - lr: 0.0079\n",
      "Epoch 61/100\n",
      "181/181 [==============================] - 16s 85ms/step - loss: 3.2605e-05 - accuracy: 0.6873 - val_loss: 7.6079e-05 - val_accuracy: 0.6430 - lr: 0.0096\n",
      "Epoch 62/100\n",
      "181/181 [==============================] - 16s 86ms/step - loss: 2.7647e-05 - accuracy: 0.6852 - val_loss: 7.5724e-05 - val_accuracy: 0.6430 - lr: 0.0116\n",
      "Epoch 63/100\n",
      "181/181 [==============================] - 16s 86ms/step - loss: 2.1885e-05 - accuracy: 0.6892 - val_loss: 7.5435e-05 - val_accuracy: 0.6430 - lr: 0.0136\n",
      "Epoch 64/100\n",
      "181/181 [==============================] - 16s 86ms/step - loss: 3.9261e-05 - accuracy: 0.6880 - val_loss: 7.5655e-05 - val_accuracy: 0.6430 - lr: 0.0159\n",
      "Epoch 65/100\n",
      "181/181 [==============================] - 16s 86ms/step - loss: 1.8819e-05 - accuracy: 0.6916 - val_loss: 7.5526e-05 - val_accuracy: 0.6409 - lr: 0.0182\n",
      "Epoch 66/100\n",
      "181/181 [==============================] - 16s 86ms/step - loss: 3.0918e-05 - accuracy: 0.6890 - val_loss: 7.6773e-05 - val_accuracy: 0.6409 - lr: 0.0207\n",
      "Epoch 67/100\n",
      "181/181 [==============================] - 16s 85ms/step - loss: 3.5628e-05 - accuracy: 0.6883 - val_loss: 7.7042e-05 - val_accuracy: 0.6430 - lr: 0.0233\n",
      "Epoch 68/100\n",
      "181/181 [==============================] - 16s 86ms/step - loss: 2.7785e-05 - accuracy: 0.6890 - val_loss: 7.5842e-05 - val_accuracy: 0.6430 - lr: 0.0260\n",
      "Epoch 69/100\n",
      "181/181 [==============================] - 16s 86ms/step - loss: 1.5267e-05 - accuracy: 0.6850 - val_loss: 7.5656e-05 - val_accuracy: 0.6430 - lr: 0.0288\n",
      "Epoch 70/100\n",
      "181/181 [==============================] - 16s 86ms/step - loss: 3.0633e-05 - accuracy: 0.6914 - val_loss: 7.3059e-05 - val_accuracy: 0.6409 - lr: 0.0317\n",
      "Epoch 71/100\n",
      "181/181 [==============================] - 16s 85ms/step - loss: 2.8465e-05 - accuracy: 0.6916 - val_loss: 7.1545e-05 - val_accuracy: 0.6388 - lr: 0.0346\n",
      "Epoch 72/100\n",
      "181/181 [==============================] - 16s 86ms/step - loss: 1.7713e-05 - accuracy: 0.6895 - val_loss: 7.1548e-05 - val_accuracy: 0.6388 - lr: 0.0376\n",
      "Epoch 73/100\n",
      "181/181 [==============================] - 16s 87ms/step - loss: 3.3481e-05 - accuracy: 0.6887 - val_loss: 7.0583e-05 - val_accuracy: 0.6388 - lr: 0.0407\n",
      "Epoch 74/100\n",
      "181/181 [==============================] - 16s 86ms/step - loss: 1.8868e-05 - accuracy: 0.6961 - val_loss: 7.0816e-05 - val_accuracy: 0.6367 - lr: 0.0438\n",
      "Epoch 75/100\n",
      "181/181 [==============================] - 16s 87ms/step - loss: 2.2596e-05 - accuracy: 0.6882 - val_loss: 7.1165e-05 - val_accuracy: 0.6388 - lr: 0.0469\n",
      "Epoch 76/100\n",
      "181/181 [==============================] - 16s 86ms/step - loss: 5.9494e-05 - accuracy: 0.6965 - val_loss: 7.1879e-05 - val_accuracy: 0.6388 - lr: 0.0501\n",
      "Epoch 77/100\n",
      "181/181 [==============================] - 16s 87ms/step - loss: 3.8026e-05 - accuracy: 0.6815 - val_loss: 7.6447e-05 - val_accuracy: 0.6409 - lr: 0.0532\n",
      "Epoch 78/100\n",
      "181/181 [==============================] - 16s 87ms/step - loss: 2.7165e-05 - accuracy: 0.6853 - val_loss: 7.4798e-05 - val_accuracy: 0.6409 - lr: 0.0563\n",
      "Epoch 79/100\n",
      "181/181 [==============================] - 16s 86ms/step - loss: 2.1770e-05 - accuracy: 0.6873 - val_loss: 7.5762e-05 - val_accuracy: 0.6409 - lr: 0.0594\n",
      "Epoch 80/100\n",
      "181/181 [==============================] - 16s 86ms/step - loss: 2.9136e-05 - accuracy: 0.6955 - val_loss: 7.6280e-05 - val_accuracy: 0.6388 - lr: 0.0625\n",
      "Epoch 81/100\n",
      "181/181 [==============================] - 16s 86ms/step - loss: 9.3308e-05 - accuracy: 0.6824 - val_loss: 7.4419e-05 - val_accuracy: 0.6388 - lr: 0.0655\n",
      "Epoch 82/100\n",
      "181/181 [==============================] - 16s 86ms/step - loss: 2.3267e-05 - accuracy: 0.6908 - val_loss: 7.3281e-05 - val_accuracy: 0.6347 - lr: 0.0684\n",
      "Epoch 83/100\n",
      "181/181 [==============================] - 16s 86ms/step - loss: 6.5078e-05 - accuracy: 0.6928 - val_loss: 6.8204e-05 - val_accuracy: 0.6367 - lr: 0.0713\n",
      "Epoch 84/100\n",
      "181/181 [==============================] - 16s 86ms/step - loss: 6.3160e-05 - accuracy: 0.6866 - val_loss: 6.2052e-05 - val_accuracy: 0.6409 - lr: 0.0741\n",
      "Epoch 85/100\n",
      "181/181 [==============================] - 16s 87ms/step - loss: 3.2895e-05 - accuracy: 0.6883 - val_loss: 6.3722e-05 - val_accuracy: 0.6430 - lr: 0.0768\n",
      "Epoch 86/100\n",
      "181/181 [==============================] - 16s 86ms/step - loss: 1.1111e-05 - accuracy: 0.6848 - val_loss: 6.2140e-05 - val_accuracy: 0.6430 - lr: 0.0794\n",
      "Epoch 87/100\n",
      "181/181 [==============================] - 16s 87ms/step - loss: 1.3901e-05 - accuracy: 0.6870 - val_loss: 6.0923e-05 - val_accuracy: 0.6409 - lr: 0.0819\n",
      "Epoch 88/100\n",
      "181/181 [==============================] - 16s 86ms/step - loss: 2.4514e-05 - accuracy: 0.6843 - val_loss: 6.3206e-05 - val_accuracy: 0.6451 - lr: 0.0842\n",
      "Epoch 89/100\n",
      "181/181 [==============================] - 16s 87ms/step - loss: 2.2973e-05 - accuracy: 0.6930 - val_loss: 6.3588e-05 - val_accuracy: 0.6472 - lr: 0.0865\n",
      "Epoch 90/100\n",
      "181/181 [==============================] - 16s 87ms/step - loss: 3.8193e-05 - accuracy: 0.6927 - val_loss: 6.3553e-05 - val_accuracy: 0.6472 - lr: 0.0885\n",
      "Epoch 91/100\n",
      "181/181 [==============================] - 16s 86ms/step - loss: 3.6443e-05 - accuracy: 0.6944 - val_loss: 5.9925e-05 - val_accuracy: 0.6451 - lr: 0.0905\n",
      "Epoch 92/100\n",
      "181/181 [==============================] - 16s 86ms/step - loss: 2.2886e-05 - accuracy: 0.6948 - val_loss: 6.1189e-05 - val_accuracy: 0.6451 - lr: 0.0922\n",
      "Epoch 93/100\n",
      "181/181 [==============================] - 16s 87ms/step - loss: 3.5561e-05 - accuracy: 0.6861 - val_loss: 6.1752e-05 - val_accuracy: 0.6514 - lr: 0.0938\n",
      "Epoch 94/100\n",
      "181/181 [==============================] - 16s 86ms/step - loss: 2.5959e-05 - accuracy: 0.6954 - val_loss: 5.9737e-05 - val_accuracy: 0.6514 - lr: 0.0952\n",
      "Epoch 95/100\n",
      "181/181 [==============================] - 16s 86ms/step - loss: 2.1536e-05 - accuracy: 0.6889 - val_loss: 5.6474e-05 - val_accuracy: 0.6514 - lr: 0.0965\n",
      "Epoch 96/100\n",
      "181/181 [==============================] - 16s 86ms/step - loss: 2.0355e-05 - accuracy: 0.6884 - val_loss: 5.5814e-05 - val_accuracy: 0.6514 - lr: 0.0976\n",
      "Epoch 97/100\n",
      "181/181 [==============================] - 16s 86ms/step - loss: 2.3649e-05 - accuracy: 0.6868 - val_loss: 4.9465e-05 - val_accuracy: 0.6514 - lr: 0.0984\n",
      "Epoch 98/100\n",
      "181/181 [==============================] - 16s 86ms/step - loss: 2.0211e-05 - accuracy: 0.6888 - val_loss: 4.7978e-05 - val_accuracy: 0.6514 - lr: 0.0991\n",
      "Epoch 99/100\n"
     ]
    },
    {
     "name": "stdout",
     "output_type": "stream",
     "text": [
      "181/181 [==============================] - 16s 86ms/step - loss: 3.6341e-05 - accuracy: 0.6868 - val_loss: 4.6712e-05 - val_accuracy: 0.6430 - lr: 0.0996\n",
      "Epoch 100/100\n",
      "181/181 [==============================] - 16s 86ms/step - loss: 2.7806e-05 - accuracy: 0.6865 - val_loss: 4.7148e-05 - val_accuracy: 0.6493 - lr: 0.0999\n"
     ]
    }
   ],
   "source": [
    "callbacks, date = create_folders_and_callbacks(foldermode)\n",
    "callbacks.append(CosineAnnealingScheduler(T_max=50, eta_max=1e-1, eta_min=1e-4))\n",
    "history = model.fit(\n",
    "    generator,\n",
    "    validation_data = val_generator,\n",
    "    epochs = 100,\n",
    "    shuffle=False,\n",
    "    callbacks=callbacks\n",
    ").history"
   ]
  },
  {
   "cell_type": "code",
   "execution_count": 68,
   "metadata": {
    "pycharm": {
     "name": "#%%\n"
    }
   },
   "outputs": [
    {
     "name": "stdout",
     "output_type": "stream",
     "text": [
      "Dec17_18-41-59\n",
      "Epoch 1/100\n",
      "  6/181 [..............................] - ETA: 20s - loss: 1.3241e-06 - accuracy: 0.7188WARNING:tensorflow:Callback method `on_train_batch_end` is slow compared to the batch time (batch time: 0.0779s vs `on_train_batch_end` time: 0.4508s). Check your callbacks.\n"
     ]
    },
    {
     "name": "stderr",
     "output_type": "stream",
     "text": [
      "WARNING:tensorflow:Callback method `on_train_batch_end` is slow compared to the batch time (batch time: 0.0779s vs `on_train_batch_end` time: 0.4508s). Check your callbacks.\n"
     ]
    },
    {
     "name": "stdout",
     "output_type": "stream",
     "text": [
      "180/181 [============================>.] - ETA: 0s - loss: 1.0742e-05 - accuracy: 0.6845"
     ]
    },
    {
     "name": "stderr",
     "output_type": "stream",
     "text": [
      "WARNING:absl:Function `_wrapped_model` contains input name(s) Input with unsupported characters which will be renamed to input in the SavedModel.\n",
      "WARNING:absl:Found untraced functions such as lstm_cell_121_layer_call_fn, lstm_cell_121_layer_call_and_return_conditional_losses, lstm_cell_122_layer_call_fn, lstm_cell_122_layer_call_and_return_conditional_losses, lstm_cell_124_layer_call_fn while saving (showing 5 of 20). These functions will not be directly callable after loading.\n"
     ]
    },
    {
     "name": "stdout",
     "output_type": "stream",
     "text": [
      "INFO:tensorflow:Assets written to: experiments\\ResLSTM_Dec17_18-41-59\\base_ckpts\\cp_01.ckpt\\assets\n"
     ]
    },
    {
     "name": "stderr",
     "output_type": "stream",
     "text": [
      "INFO:tensorflow:Assets written to: experiments\\ResLSTM_Dec17_18-41-59\\base_ckpts\\cp_01.ckpt\\assets\n"
     ]
    },
    {
     "name": "stdout",
     "output_type": "stream",
     "text": [
      "181/181 [==============================] - 89s 479ms/step - loss: 1.0738e-05 - accuracy: 0.6843 - val_loss: 4.6131e-05 - val_accuracy: 0.6451 - lr: 0.1000\n",
      "Epoch 2/100\n",
      "180/181 [============================>.] - ETA: 0s - loss: 1.8743e-05 - accuracy: 0.6828"
     ]
    },
    {
     "name": "stderr",
     "output_type": "stream",
     "text": [
      "WARNING:absl:Function `_wrapped_model` contains input name(s) Input with unsupported characters which will be renamed to input in the SavedModel.\n",
      "WARNING:absl:Found untraced functions such as lstm_cell_121_layer_call_fn, lstm_cell_121_layer_call_and_return_conditional_losses, lstm_cell_122_layer_call_fn, lstm_cell_122_layer_call_and_return_conditional_losses, lstm_cell_124_layer_call_fn while saving (showing 5 of 20). These functions will not be directly callable after loading.\n"
     ]
    },
    {
     "name": "stdout",
     "output_type": "stream",
     "text": [
      "INFO:tensorflow:Assets written to: experiments\\ResLSTM_Dec17_18-41-59\\base_ckpts\\cp_02.ckpt\\assets\n"
     ]
    },
    {
     "name": "stderr",
     "output_type": "stream",
     "text": [
      "INFO:tensorflow:Assets written to: experiments\\ResLSTM_Dec17_18-41-59\\base_ckpts\\cp_02.ckpt\\assets\n"
     ]
    },
    {
     "name": "stdout",
     "output_type": "stream",
     "text": [
      "181/181 [==============================] - 90s 496ms/step - loss: 1.8735e-05 - accuracy: 0.6830 - val_loss: 4.4009e-05 - val_accuracy: 0.6514 - lr: 0.0999\n",
      "Epoch 3/100\n",
      "180/181 [============================>.] - ETA: 0s - loss: 1.4675e-05 - accuracy: 0.6841"
     ]
    },
    {
     "name": "stderr",
     "output_type": "stream",
     "text": [
      "WARNING:absl:Function `_wrapped_model` contains input name(s) Input with unsupported characters which will be renamed to input in the SavedModel.\n",
      "WARNING:absl:Found untraced functions such as lstm_cell_121_layer_call_fn, lstm_cell_121_layer_call_and_return_conditional_losses, lstm_cell_122_layer_call_fn, lstm_cell_122_layer_call_and_return_conditional_losses, lstm_cell_124_layer_call_fn while saving (showing 5 of 20). These functions will not be directly callable after loading.\n"
     ]
    },
    {
     "name": "stdout",
     "output_type": "stream",
     "text": [
      "INFO:tensorflow:Assets written to: experiments\\ResLSTM_Dec17_18-41-59\\base_ckpts\\cp_03.ckpt\\assets\n"
     ]
    },
    {
     "name": "stderr",
     "output_type": "stream",
     "text": [
      "INFO:tensorflow:Assets written to: experiments\\ResLSTM_Dec17_18-41-59\\base_ckpts\\cp_03.ckpt\\assets\n"
     ]
    },
    {
     "name": "stdout",
     "output_type": "stream",
     "text": [
      "181/181 [==============================] - 88s 489ms/step - loss: 1.4669e-05 - accuracy: 0.6842 - val_loss: 4.2911e-05 - val_accuracy: 0.6534 - lr: 0.0996\n",
      "Epoch 4/100\n",
      "180/181 [============================>.] - ETA: 0s - loss: 1.4916e-05 - accuracy: 0.6803"
     ]
    },
    {
     "name": "stderr",
     "output_type": "stream",
     "text": [
      "WARNING:absl:Function `_wrapped_model` contains input name(s) Input with unsupported characters which will be renamed to input in the SavedModel.\n",
      "WARNING:absl:Found untraced functions such as lstm_cell_121_layer_call_fn, lstm_cell_121_layer_call_and_return_conditional_losses, lstm_cell_122_layer_call_fn, lstm_cell_122_layer_call_and_return_conditional_losses, lstm_cell_124_layer_call_fn while saving (showing 5 of 20). These functions will not be directly callable after loading.\n"
     ]
    },
    {
     "name": "stdout",
     "output_type": "stream",
     "text": [
      "INFO:tensorflow:Assets written to: experiments\\ResLSTM_Dec17_18-41-59\\base_ckpts\\cp_04.ckpt\\assets\n"
     ]
    },
    {
     "name": "stderr",
     "output_type": "stream",
     "text": [
      "INFO:tensorflow:Assets written to: experiments\\ResLSTM_Dec17_18-41-59\\base_ckpts\\cp_04.ckpt\\assets\n"
     ]
    },
    {
     "name": "stdout",
     "output_type": "stream",
     "text": [
      "181/181 [==============================] - 90s 496ms/step - loss: 1.4909e-05 - accuracy: 0.6803 - val_loss: 4.3118e-05 - val_accuracy: 0.6555 - lr: 0.0991\n",
      "Epoch 5/100\n",
      "181/181 [==============================] - 16s 86ms/step - loss: 1.0377e-05 - accuracy: 0.6823 - val_loss: 4.1451e-05 - val_accuracy: 0.6534 - lr: 0.0984\n",
      "Epoch 6/100\n",
      "181/181 [==============================] - 16s 86ms/step - loss: 3.0152e-05 - accuracy: 0.6884 - val_loss: 3.9097e-05 - val_accuracy: 0.6555 - lr: 0.0976\n",
      "Epoch 7/100\n",
      "181/181 [==============================] - 16s 86ms/step - loss: 1.5617e-05 - accuracy: 0.6858 - val_loss: 3.7964e-05 - val_accuracy: 0.6555 - lr: 0.0965\n",
      "Epoch 8/100\n",
      "181/181 [==============================] - 16s 87ms/step - loss: 1.0115e-05 - accuracy: 0.6827 - val_loss: 3.7188e-05 - val_accuracy: 0.6534 - lr: 0.0952\n",
      "Epoch 9/100\n",
      "181/181 [==============================] - 16s 87ms/step - loss: 2.4317e-05 - accuracy: 0.6828 - val_loss: 3.6694e-05 - val_accuracy: 0.6534 - lr: 0.0938\n",
      "Epoch 10/100\n",
      "181/181 [==============================] - 16s 87ms/step - loss: 1.3573e-05 - accuracy: 0.6919 - val_loss: 3.4736e-05 - val_accuracy: 0.6514 - lr: 0.0922\n",
      "Epoch 11/100\n",
      "181/181 [==============================] - 16s 87ms/step - loss: 2.4699e-05 - accuracy: 0.6822 - val_loss: 3.1529e-05 - val_accuracy: 0.6493 - lr: 0.0905\n",
      "Epoch 12/100\n",
      "181/181 [==============================] - 16s 86ms/step - loss: 2.2701e-05 - accuracy: 0.6865 - val_loss: 3.1193e-05 - val_accuracy: 0.6514 - lr: 0.0885\n",
      "Epoch 13/100\n",
      "181/181 [==============================] - 16s 86ms/step - loss: 3.8778e-05 - accuracy: 0.6803 - val_loss: 3.1052e-05 - val_accuracy: 0.6493 - lr: 0.0865\n",
      "Epoch 14/100\n",
      "181/181 [==============================] - 16s 87ms/step - loss: 2.0981e-05 - accuracy: 0.6773 - val_loss: 3.0049e-05 - val_accuracy: 0.6493 - lr: 0.0842\n",
      "Epoch 15/100\n",
      "181/181 [==============================] - 16s 86ms/step - loss: 2.3261e-05 - accuracy: 0.6816 - val_loss: 2.9850e-05 - val_accuracy: 0.6472 - lr: 0.0819\n",
      "Epoch 16/100\n",
      "181/181 [==============================] - 16s 87ms/step - loss: 4.4879e-05 - accuracy: 0.6838 - val_loss: 2.2984e-05 - val_accuracy: 0.6451 - lr: 0.0794\n",
      "Epoch 17/100\n",
      "181/181 [==============================] - 16s 87ms/step - loss: 1.8379e-05 - accuracy: 0.6728 - val_loss: 2.2352e-05 - val_accuracy: 0.6493 - lr: 0.0768\n",
      "Epoch 18/100\n",
      "181/181 [==============================] - 16s 86ms/step - loss: 1.4507e-05 - accuracy: 0.6856 - val_loss: 2.2589e-05 - val_accuracy: 0.6472 - lr: 0.0741\n",
      "Epoch 19/100\n",
      "181/181 [==============================] - 16s 86ms/step - loss: 1.6275e-05 - accuracy: 0.6835 - val_loss: 2.2126e-05 - val_accuracy: 0.6472 - lr: 0.0713\n",
      "Epoch 20/100\n",
      "181/181 [==============================] - 16s 87ms/step - loss: 3.5560e-05 - accuracy: 0.6810 - val_loss: 2.1125e-05 - val_accuracy: 0.6472 - lr: 0.0684\n",
      "Epoch 21/100\n",
      "181/181 [==============================] - 16s 86ms/step - loss: 3.8232e-05 - accuracy: 0.6760 - val_loss: 2.1085e-05 - val_accuracy: 0.6493 - lr: 0.0655\n",
      "Epoch 22/100\n",
      "181/181 [==============================] - 16s 87ms/step - loss: 1.1236e-05 - accuracy: 0.6773 - val_loss: 2.0696e-05 - val_accuracy: 0.6493 - lr: 0.0625\n",
      "Epoch 23/100\n",
      "181/181 [==============================] - 16s 87ms/step - loss: 1.5064e-05 - accuracy: 0.6766 - val_loss: 2.0591e-05 - val_accuracy: 0.6472 - lr: 0.0594\n",
      "Epoch 24/100\n",
      "181/181 [==============================] - 16s 87ms/step - loss: 3.4227e-05 - accuracy: 0.6800 - val_loss: 2.1990e-05 - val_accuracy: 0.6493 - lr: 0.0563\n",
      "Epoch 25/100\n",
      "181/181 [==============================] - 16s 86ms/step - loss: 2.1992e-05 - accuracy: 0.6758 - val_loss: 2.1479e-05 - val_accuracy: 0.6514 - lr: 0.0532\n",
      "Epoch 26/100\n",
      "181/181 [==============================] - 16s 86ms/step - loss: 1.7543e-05 - accuracy: 0.6753 - val_loss: 2.0939e-05 - val_accuracy: 0.6493 - lr: 0.0501\n",
      "Epoch 27/100\n",
      "181/181 [==============================] - 16s 87ms/step - loss: 7.4950e-06 - accuracy: 0.6759 - val_loss: 2.0796e-05 - val_accuracy: 0.6493 - lr: 0.0469\n",
      "Epoch 28/100\n",
      "181/181 [==============================] - 16s 87ms/step - loss: 1.6080e-05 - accuracy: 0.6810 - val_loss: 2.1209e-05 - val_accuracy: 0.6493 - lr: 0.0438\n",
      "Epoch 29/100\n",
      "181/181 [==============================] - 16s 87ms/step - loss: 2.5730e-05 - accuracy: 0.6731 - val_loss: 2.0817e-05 - val_accuracy: 0.6472 - lr: 0.0407\n",
      "Epoch 30/100\n",
      "181/181 [==============================] - 16s 87ms/step - loss: 2.0818e-05 - accuracy: 0.6761 - val_loss: 2.0569e-05 - val_accuracy: 0.6472 - lr: 0.0376\n",
      "Epoch 31/100\n",
      "181/181 [==============================] - 16s 86ms/step - loss: 8.0695e-06 - accuracy: 0.6743 - val_loss: 2.0506e-05 - val_accuracy: 0.6472 - lr: 0.0346\n",
      "Epoch 32/100\n",
      "181/181 [==============================] - 16s 87ms/step - loss: 4.1595e-05 - accuracy: 0.6794 - val_loss: 2.0665e-05 - val_accuracy: 0.6472 - lr: 0.0317\n",
      "Epoch 33/100\n",
      "181/181 [==============================] - 16s 86ms/step - loss: 2.2226e-05 - accuracy: 0.6794 - val_loss: 2.0644e-05 - val_accuracy: 0.6472 - lr: 0.0288\n",
      "Epoch 34/100\n",
      "181/181 [==============================] - 16s 87ms/step - loss: 2.8456e-05 - accuracy: 0.6786 - val_loss: 2.0825e-05 - val_accuracy: 0.6493 - lr: 0.0260\n",
      "Epoch 35/100\n",
      "181/181 [==============================] - 16s 87ms/step - loss: 1.8402e-05 - accuracy: 0.6723 - val_loss: 2.0752e-05 - val_accuracy: 0.6472 - lr: 0.0233\n",
      "Epoch 36/100\n",
      "181/181 [==============================] - 16s 87ms/step - loss: 3.0568e-05 - accuracy: 0.6739 - val_loss: 1.9975e-05 - val_accuracy: 0.6472 - lr: 0.0207\n",
      "Epoch 37/100\n",
      "181/181 [==============================] - 16s 86ms/step - loss: 1.0731e-05 - accuracy: 0.6817 - val_loss: 1.9894e-05 - val_accuracy: 0.6472 - lr: 0.0182\n",
      "Epoch 38/100\n",
      "181/181 [==============================] - 16s 87ms/step - loss: 7.1504e-06 - accuracy: 0.6758 - val_loss: 1.9859e-05 - val_accuracy: 0.6493 - lr: 0.0159\n",
      "Epoch 39/100\n",
      "181/181 [==============================] - 16s 87ms/step - loss: 7.2115e-06 - accuracy: 0.6739 - val_loss: 1.9899e-05 - val_accuracy: 0.6472 - lr: 0.0136\n",
      "Epoch 40/100\n",
      "181/181 [==============================] - 16s 87ms/step - loss: 1.0852e-05 - accuracy: 0.6707 - val_loss: 1.9936e-05 - val_accuracy: 0.6493 - lr: 0.0116\n",
      "Epoch 41/100\n",
      "181/181 [==============================] - 16s 87ms/step - loss: 1.4411e-05 - accuracy: 0.6748 - val_loss: 1.9867e-05 - val_accuracy: 0.6472 - lr: 0.0096\n",
      "Epoch 42/100\n",
      "181/181 [==============================] - 16s 87ms/step - loss: 1.9118e-05 - accuracy: 0.6813 - val_loss: 2.0027e-05 - val_accuracy: 0.6472 - lr: 0.0079\n",
      "Epoch 43/100\n",
      "181/181 [==============================] - 16s 87ms/step - loss: 8.6762e-06 - accuracy: 0.6807 - val_loss: 2.0027e-05 - val_accuracy: 0.6472 - lr: 0.0063\n",
      "Epoch 44/100\n",
      "181/181 [==============================] - 16s 87ms/step - loss: 2.6399e-05 - accuracy: 0.6750 - val_loss: 2.0057e-05 - val_accuracy: 0.6472 - lr: 0.0049\n",
      "Epoch 45/100\n",
      "181/181 [==============================] - 16s 87ms/step - loss: 1.2729e-05 - accuracy: 0.6774 - val_loss: 2.0066e-05 - val_accuracy: 0.6472 - lr: 0.0036\n",
      "Epoch 46/100\n",
      "181/181 [==============================] - 16s 87ms/step - loss: 2.2681e-05 - accuracy: 0.6795 - val_loss: 2.0093e-05 - val_accuracy: 0.6472 - lr: 0.0025\n",
      "Epoch 47/100\n",
      "181/181 [==============================] - 16s 87ms/step - loss: 9.6661e-06 - accuracy: 0.6842 - val_loss: 2.0214e-05 - val_accuracy: 0.6472 - lr: 0.0017\n",
      "Epoch 48/100\n",
      "181/181 [==============================] - 16s 87ms/step - loss: 1.5170e-05 - accuracy: 0.6769 - val_loss: 2.0208e-05 - val_accuracy: 0.6472 - lr: 9.8475e-04\n",
      "Epoch 49/100\n",
      "181/181 [==============================] - 16s 86ms/step - loss: 7.5413e-06 - accuracy: 0.6762 - val_loss: 2.0225e-05 - val_accuracy: 0.6472 - lr: 4.9387e-04\n",
      "Epoch 50/100\n",
      "181/181 [==============================] - 16s 87ms/step - loss: 9.0720e-06 - accuracy: 0.6780 - val_loss: 2.0215e-05 - val_accuracy: 0.6472 - lr: 1.9856e-04\n",
      "Epoch 51/100\n",
      "181/181 [==============================] - 16s 87ms/step - loss: 1.2722e-05 - accuracy: 0.6733 - val_loss: 2.0212e-05 - val_accuracy: 0.6472 - lr: 1.0000e-04\n",
      "Epoch 52/100\n",
      "181/181 [==============================] - 16s 87ms/step - loss: 1.6243e-05 - accuracy: 0.6686 - val_loss: 2.0220e-05 - val_accuracy: 0.6472 - lr: 1.9856e-04\n",
      "Epoch 53/100\n"
     ]
    },
    {
     "name": "stdout",
     "output_type": "stream",
     "text": [
      "181/181 [==============================] - 16s 87ms/step - loss: 2.3431e-05 - accuracy: 0.6795 - val_loss: 2.0186e-05 - val_accuracy: 0.6472 - lr: 4.9387e-04\n",
      "Epoch 54/100\n",
      "181/181 [==============================] - 16s 87ms/step - loss: 9.8454e-06 - accuracy: 0.6765 - val_loss: 2.0191e-05 - val_accuracy: 0.6472 - lr: 9.8475e-04\n",
      "Epoch 55/100\n",
      "181/181 [==============================] - 16s 86ms/step - loss: 1.1755e-05 - accuracy: 0.6761 - val_loss: 2.0198e-05 - val_accuracy: 0.6472 - lr: 0.0017\n",
      "Epoch 56/100\n",
      "181/181 [==============================] - 16s 87ms/step - loss: 2.6619e-05 - accuracy: 0.6797 - val_loss: 2.0209e-05 - val_accuracy: 0.6472 - lr: 0.0025\n",
      "Epoch 57/100\n",
      "181/181 [==============================] - 16s 86ms/step - loss: 6.8672e-06 - accuracy: 0.6757 - val_loss: 2.0144e-05 - val_accuracy: 0.6472 - lr: 0.0036\n",
      "Epoch 58/100\n",
      "181/181 [==============================] - 16s 87ms/step - loss: 7.4851e-06 - accuracy: 0.6775 - val_loss: 2.0145e-05 - val_accuracy: 0.6472 - lr: 0.0049\n",
      "Epoch 59/100\n",
      "181/181 [==============================] - 16s 87ms/step - loss: 1.1960e-05 - accuracy: 0.6804 - val_loss: 2.0043e-05 - val_accuracy: 0.6451 - lr: 0.0063\n",
      "Epoch 60/100\n",
      "181/181 [==============================] - 16s 86ms/step - loss: 1.3549e-05 - accuracy: 0.6708 - val_loss: 1.9928e-05 - val_accuracy: 0.6451 - lr: 0.0079\n",
      "Epoch 61/100\n",
      "181/181 [==============================] - 16s 87ms/step - loss: 1.6534e-05 - accuracy: 0.6740 - val_loss: 2.0085e-05 - val_accuracy: 0.6451 - lr: 0.0096\n",
      "Epoch 62/100\n",
      "181/181 [==============================] - 16s 87ms/step - loss: 8.5533e-06 - accuracy: 0.6822 - val_loss: 1.9984e-05 - val_accuracy: 0.6451 - lr: 0.0116\n",
      "Epoch 63/100\n",
      "181/181 [==============================] - 16s 87ms/step - loss: 1.6495e-05 - accuracy: 0.6737 - val_loss: 1.9971e-05 - val_accuracy: 0.6451 - lr: 0.0136\n",
      "Epoch 64/100\n",
      "181/181 [==============================] - 16s 87ms/step - loss: 9.4698e-06 - accuracy: 0.6769 - val_loss: 1.9858e-05 - val_accuracy: 0.6451 - lr: 0.0159\n",
      "Epoch 65/100\n",
      "181/181 [==============================] - 16s 87ms/step - loss: 4.8626e-05 - accuracy: 0.6710 - val_loss: 1.9623e-05 - val_accuracy: 0.6472 - lr: 0.0182\n",
      "Epoch 66/100\n",
      "181/181 [==============================] - 16s 88ms/step - loss: 2.1729e-05 - accuracy: 0.6778 - val_loss: 1.9379e-05 - val_accuracy: 0.6451 - lr: 0.0207\n",
      "Epoch 67/100\n",
      "181/181 [==============================] - 16s 86ms/step - loss: 1.3742e-05 - accuracy: 0.6739 - val_loss: 1.9183e-05 - val_accuracy: 0.6451 - lr: 0.0233\n",
      "Epoch 68/100\n",
      "181/181 [==============================] - 16s 86ms/step - loss: 2.3193e-05 - accuracy: 0.6718 - val_loss: 1.8684e-05 - val_accuracy: 0.6472 - lr: 0.0260\n",
      "Epoch 69/100\n",
      "181/181 [==============================] - 16s 86ms/step - loss: 2.3666e-05 - accuracy: 0.6753 - val_loss: 1.8565e-05 - val_accuracy: 0.6493 - lr: 0.0288\n",
      "Epoch 70/100\n",
      "181/181 [==============================] - 16s 87ms/step - loss: 1.5930e-05 - accuracy: 0.6764 - val_loss: 1.8451e-05 - val_accuracy: 0.6493 - lr: 0.0317\n",
      "Epoch 71/100\n",
      "181/181 [==============================] - 16s 87ms/step - loss: 8.3400e-06 - accuracy: 0.6772 - val_loss: 1.8487e-05 - val_accuracy: 0.6493 - lr: 0.0346\n",
      "Epoch 72/100\n",
      "181/181 [==============================] - 16s 87ms/step - loss: 1.3515e-05 - accuracy: 0.6836 - val_loss: 1.8387e-05 - val_accuracy: 0.6472 - lr: 0.0376\n",
      "Epoch 73/100\n",
      "181/181 [==============================] - 16s 86ms/step - loss: 6.9329e-06 - accuracy: 0.6724 - val_loss: 1.8198e-05 - val_accuracy: 0.6472 - lr: 0.0407\n",
      "Epoch 74/100\n",
      "181/181 [==============================] - 16s 87ms/step - loss: 1.1708e-05 - accuracy: 0.6800 - val_loss: 1.8039e-05 - val_accuracy: 0.6472 - lr: 0.0438\n",
      "Epoch 75/100\n",
      "181/181 [==============================] - 16s 87ms/step - loss: 1.5990e-05 - accuracy: 0.6750 - val_loss: 1.7972e-05 - val_accuracy: 0.6451 - lr: 0.0469\n",
      "Epoch 76/100\n",
      "181/181 [==============================] - 16s 87ms/step - loss: 9.8583e-06 - accuracy: 0.6761 - val_loss: 1.7707e-05 - val_accuracy: 0.6451 - lr: 0.0501\n",
      "Epoch 77/100\n",
      "181/181 [==============================] - 16s 86ms/step - loss: 2.4828e-05 - accuracy: 0.6717 - val_loss: 1.7702e-05 - val_accuracy: 0.6451 - lr: 0.0532\n",
      "Epoch 78/100\n",
      "181/181 [==============================] - 16s 87ms/step - loss: 1.4679e-05 - accuracy: 0.6739 - val_loss: 1.7294e-05 - val_accuracy: 0.6493 - lr: 0.0563\n",
      "Epoch 79/100\n",
      "181/181 [==============================] - 16s 87ms/step - loss: 1.2155e-05 - accuracy: 0.6764 - val_loss: 1.7228e-05 - val_accuracy: 0.6451 - lr: 0.0594\n",
      "Epoch 80/100\n",
      "181/181 [==============================] - 16s 86ms/step - loss: 1.3490e-05 - accuracy: 0.6764 - val_loss: 1.7048e-05 - val_accuracy: 0.6451 - lr: 0.0625\n",
      "Epoch 81/100\n",
      "181/181 [==============================] - 16s 87ms/step - loss: 1.4351e-05 - accuracy: 0.6754 - val_loss: 1.6567e-05 - val_accuracy: 0.6451 - lr: 0.0655\n",
      "Epoch 82/100\n",
      "181/181 [==============================] - 16s 87ms/step - loss: 1.5386e-05 - accuracy: 0.6753 - val_loss: 1.7229e-05 - val_accuracy: 0.6472 - lr: 0.0684\n",
      "Epoch 83/100\n",
      "181/181 [==============================] - 16s 87ms/step - loss: 1.2897e-05 - accuracy: 0.6749 - val_loss: 1.7108e-05 - val_accuracy: 0.6430 - lr: 0.0713\n",
      "Epoch 84/100\n",
      "181/181 [==============================] - 16s 87ms/step - loss: 6.9822e-06 - accuracy: 0.6752 - val_loss: 1.7001e-05 - val_accuracy: 0.6451 - lr: 0.0741\n",
      "Epoch 85/100\n",
      "181/181 [==============================] - 16s 87ms/step - loss: 8.9323e-06 - accuracy: 0.6780 - val_loss: 1.6779e-05 - val_accuracy: 0.6451 - lr: 0.0768\n",
      "Epoch 86/100\n",
      "181/181 [==============================] - 16s 87ms/step - loss: 1.3610e-05 - accuracy: 0.6794 - val_loss: 1.6761e-05 - val_accuracy: 0.6472 - lr: 0.0794\n",
      "Epoch 87/100\n",
      "181/181 [==============================] - 16s 87ms/step - loss: 1.5846e-05 - accuracy: 0.6710 - val_loss: 1.5321e-05 - val_accuracy: 0.6451 - lr: 0.0819\n",
      "Epoch 88/100\n",
      "181/181 [==============================] - 16s 87ms/step - loss: 6.9413e-06 - accuracy: 0.6724 - val_loss: 1.5111e-05 - val_accuracy: 0.6472 - lr: 0.0842\n",
      "Epoch 89/100\n",
      "181/181 [==============================] - 16s 87ms/step - loss: 8.2496e-06 - accuracy: 0.6779 - val_loss: 1.5142e-05 - val_accuracy: 0.6493 - lr: 0.0865\n",
      "Epoch 90/100\n",
      "181/181 [==============================] - 16s 87ms/step - loss: 1.0960e-05 - accuracy: 0.6732 - val_loss: 1.4638e-05 - val_accuracy: 0.6430 - lr: 0.0885\n",
      "Epoch 91/100\n",
      "181/181 [==============================] - 16s 87ms/step - loss: 7.6758e-06 - accuracy: 0.6820 - val_loss: 1.4379e-05 - val_accuracy: 0.6451 - lr: 0.0905\n",
      "Epoch 92/100\n",
      "181/181 [==============================] - 16s 87ms/step - loss: 1.4085e-05 - accuracy: 0.6679 - val_loss: 1.4289e-05 - val_accuracy: 0.6430 - lr: 0.0922\n",
      "Epoch 93/100\n",
      "181/181 [==============================] - 16s 87ms/step - loss: 2.0278e-05 - accuracy: 0.6703 - val_loss: 1.4426e-05 - val_accuracy: 0.6451 - lr: 0.0938\n",
      "Epoch 94/100\n",
      "181/181 [==============================] - 16s 87ms/step - loss: 1.7963e-05 - accuracy: 0.6722 - val_loss: 1.3863e-05 - val_accuracy: 0.6493 - lr: 0.0952\n",
      "Epoch 95/100\n",
      "181/181 [==============================] - 16s 87ms/step - loss: 1.9335e-05 - accuracy: 0.6700 - val_loss: 1.3603e-05 - val_accuracy: 0.6472 - lr: 0.0965\n",
      "Epoch 96/100\n",
      "181/181 [==============================] - 16s 87ms/step - loss: 7.1013e-06 - accuracy: 0.6746 - val_loss: 1.3561e-05 - val_accuracy: 0.6451 - lr: 0.0976\n",
      "Epoch 97/100\n",
      "181/181 [==============================] - 16s 87ms/step - loss: 1.0236e-05 - accuracy: 0.6673 - val_loss: 1.3412e-05 - val_accuracy: 0.6430 - lr: 0.0984\n",
      "Epoch 98/100\n",
      "181/181 [==============================] - 16s 87ms/step - loss: 1.3835e-05 - accuracy: 0.6746 - val_loss: 1.2779e-05 - val_accuracy: 0.6388 - lr: 0.0991\n",
      "Epoch 99/100\n",
      "181/181 [==============================] - 16s 87ms/step - loss: 7.4241e-06 - accuracy: 0.6689 - val_loss: 1.2524e-05 - val_accuracy: 0.6409 - lr: 0.0996\n",
      "Epoch 100/100\n",
      "181/181 [==============================] - 16s 87ms/step - loss: 1.4017e-05 - accuracy: 0.6739 - val_loss: 1.2118e-05 - val_accuracy: 0.6388 - lr: 0.0999\n"
     ]
    }
   ],
   "source": [
    "callbacks, date = create_folders_and_callbacks(foldermode)\n",
    "callbacks.append(CosineAnnealingScheduler(T_max=50, eta_max=1e-1, eta_min=1e-4))\n",
    "history = model.fit(\n",
    "    generator,\n",
    "    validation_data = val_generator,\n",
    "    epochs = 100,\n",
    "    shuffle=False,\n",
    "    callbacks=callbacks\n",
    ").history"
   ]
  },
  {
   "cell_type": "code",
   "execution_count": 69,
   "metadata": {
    "pycharm": {
     "name": "#%%\n"
    }
   },
   "outputs": [],
   "source": [
    "model=tfk.models.load_model(\"experiments/KF_2.ckpt/base_ckpts/cp_251.ckpt\")"
   ]
  },
  {
   "cell_type": "code",
   "execution_count": 70,
   "metadata": {
    "pycharm": {
     "name": "#%%\n"
    }
   },
   "outputs": [],
   "source": [
    "model.compile(\n",
    "            loss=categorical_focal_loss,\n",
    "            optimizer=tfk.optimizers.SGD(learning_rate=1e-1),\n",
    "            metrics=['accuracy']\n",
    "        )"
   ]
  },
  {
   "cell_type": "code",
   "execution_count": 71,
   "metadata": {
    "pycharm": {
     "name": "#%%\n"
    }
   },
   "outputs": [
    {
     "name": "stdout",
     "output_type": "stream",
     "text": [
      "Dec17_19-14-19\n",
      "ResLSTM_Dec17_19-14-19\n"
     ]
    }
   ],
   "source": [
    "generator=AugmentDataGenerator(X_train_KF[2],y_train_KF[2],p=0.5)\n",
    "val_generator=AugmentDataGenerator(X_val_KF[2],y_val_KF[2],p=0)\n",
    "callbacks, date = create_folders_and_callbacks(foldermode)\n",
    "callbacks.append(CosineAnnealingScheduler(T_max=50, eta_max=1e-1, eta_min=1e-4))\n",
    "\n",
    "foldername = foldermode + '_' + str(date)\n",
    "print(foldername)"
   ]
  },
  {
   "cell_type": "code",
   "execution_count": 72,
   "metadata": {
    "pycharm": {
     "name": "#%%\n"
    }
   },
   "outputs": [
    {
     "name": "stdout",
     "output_type": "stream",
     "text": [
      "Epoch 1/100\n",
      "  6/181 [..............................] - ETA: 21s - loss: 1.1497e-04 - accuracy: 0.8099WARNING:tensorflow:Callback method `on_train_batch_end` is slow compared to the batch time (batch time: 0.0860s vs `on_train_batch_end` time: 0.4633s). Check your callbacks.\n"
     ]
    },
    {
     "name": "stderr",
     "output_type": "stream",
     "text": [
      "WARNING:tensorflow:Callback method `on_train_batch_end` is slow compared to the batch time (batch time: 0.0860s vs `on_train_batch_end` time: 0.4633s). Check your callbacks.\n"
     ]
    },
    {
     "name": "stdout",
     "output_type": "stream",
     "text": [
      "180/181 [============================>.] - ETA: 0s - loss: 4.9230e-04 - accuracy: 0.7890"
     ]
    },
    {
     "name": "stderr",
     "output_type": "stream",
     "text": [
      "WARNING:absl:Function `_wrapped_model` contains input name(s) Input with unsupported characters which will be renamed to input in the SavedModel.\n",
      "WARNING:absl:Found untraced functions such as lstm_cell_136_layer_call_fn, lstm_cell_136_layer_call_and_return_conditional_losses, lstm_cell_137_layer_call_fn, lstm_cell_137_layer_call_and_return_conditional_losses, lstm_cell_139_layer_call_fn while saving (showing 5 of 20). These functions will not be directly callable after loading.\n"
     ]
    },
    {
     "name": "stdout",
     "output_type": "stream",
     "text": [
      "INFO:tensorflow:Assets written to: experiments\\ResLSTM_Dec17_19-14-19\\base_ckpts\\cp_01.ckpt\\assets\n"
     ]
    },
    {
     "name": "stderr",
     "output_type": "stream",
     "text": [
      "INFO:tensorflow:Assets written to: experiments\\ResLSTM_Dec17_19-14-19\\base_ckpts\\cp_01.ckpt\\assets\n"
     ]
    },
    {
     "name": "stdout",
     "output_type": "stream",
     "text": [
      "181/181 [==============================] - 105s 516ms/step - loss: 4.9204e-04 - accuracy: 0.7889 - val_loss: 0.0023 - val_accuracy: 0.7620 - lr: 0.1000\n",
      "Epoch 2/100\n",
      "181/181 [==============================] - 16s 87ms/step - loss: 5.6807e-04 - accuracy: 0.7775 - val_loss: 0.0022 - val_accuracy: 0.7411 - lr: 0.0999\n",
      "Epoch 3/100\n",
      "181/181 [==============================] - 16s 87ms/step - loss: 3.3950e-04 - accuracy: 0.7882 - val_loss: 0.0018 - val_accuracy: 0.7453 - lr: 0.0996\n",
      "Epoch 4/100\n",
      "181/181 [==============================] - 16s 87ms/step - loss: 2.2177e-04 - accuracy: 0.7755 - val_loss: 0.0015 - val_accuracy: 0.7286 - lr: 0.0991\n",
      "Epoch 5/100\n",
      "181/181 [==============================] - 16s 88ms/step - loss: 3.1863e-04 - accuracy: 0.7838 - val_loss: 0.0014 - val_accuracy: 0.7370 - lr: 0.0984\n",
      "Epoch 6/100\n",
      "181/181 [==============================] - 16s 87ms/step - loss: 2.8231e-04 - accuracy: 0.7743 - val_loss: 0.0012 - val_accuracy: 0.7286 - lr: 0.0976\n",
      "Epoch 7/100\n",
      "181/181 [==============================] - 16s 88ms/step - loss: 2.2852e-04 - accuracy: 0.7736 - val_loss: 0.0014 - val_accuracy: 0.7328 - lr: 0.0965\n",
      "Epoch 8/100\n",
      "181/181 [==============================] - 16s 87ms/step - loss: 2.6138e-04 - accuracy: 0.7675 - val_loss: 0.0014 - val_accuracy: 0.7307 - lr: 0.0952\n",
      "Epoch 9/100\n",
      "181/181 [==============================] - 16s 88ms/step - loss: 2.0656e-04 - accuracy: 0.7682 - val_loss: 0.0016 - val_accuracy: 0.7349 - lr: 0.0938\n",
      "Epoch 10/100\n",
      "181/181 [==============================] - 16s 87ms/step - loss: 1.4531e-04 - accuracy: 0.7744 - val_loss: 0.0015 - val_accuracy: 0.7307 - lr: 0.0922\n",
      "Epoch 11/100\n",
      "181/181 [==============================] - 16s 87ms/step - loss: 1.7996e-04 - accuracy: 0.7746 - val_loss: 0.0016 - val_accuracy: 0.7286 - lr: 0.0905\n",
      "Epoch 12/100\n",
      "181/181 [==============================] - 16s 87ms/step - loss: 2.0749e-04 - accuracy: 0.7778 - val_loss: 0.0012 - val_accuracy: 0.7161 - lr: 0.0885\n",
      "Epoch 13/100\n",
      "181/181 [==============================] - 16s 88ms/step - loss: 1.2812e-04 - accuracy: 0.7631 - val_loss: 0.0011 - val_accuracy: 0.7182 - lr: 0.0865\n",
      "Epoch 14/100\n",
      "181/181 [==============================] - 16s 87ms/step - loss: 8.9300e-05 - accuracy: 0.7665 - val_loss: 9.9395e-04 - val_accuracy: 0.7223 - lr: 0.0842\n",
      "Epoch 15/100\n",
      "181/181 [==============================] - 16s 88ms/step - loss: 1.1251e-04 - accuracy: 0.7695 - val_loss: 0.0010 - val_accuracy: 0.7286 - lr: 0.0819\n",
      "Epoch 16/100\n",
      "181/181 [==============================] - 16s 87ms/step - loss: 1.1123e-04 - accuracy: 0.7742 - val_loss: 0.0010 - val_accuracy: 0.7265 - lr: 0.0794\n",
      "Epoch 17/100\n",
      "181/181 [==============================] - 16s 88ms/step - loss: 1.9670e-04 - accuracy: 0.7710 - val_loss: 9.9199e-04 - val_accuracy: 0.7307 - lr: 0.0768\n",
      "Epoch 18/100\n",
      "181/181 [==============================] - 16s 88ms/step - loss: 1.7143e-04 - accuracy: 0.7697 - val_loss: 0.0011 - val_accuracy: 0.7307 - lr: 0.0741\n",
      "Epoch 19/100\n",
      "181/181 [==============================] - 16s 88ms/step - loss: 1.1333e-04 - accuracy: 0.7728 - val_loss: 0.0011 - val_accuracy: 0.7307 - lr: 0.0713\n",
      "Epoch 20/100\n",
      "181/181 [==============================] - 16s 87ms/step - loss: 1.6060e-04 - accuracy: 0.7722 - val_loss: 0.0012 - val_accuracy: 0.7265 - lr: 0.0684\n",
      "Epoch 21/100\n",
      "181/181 [==============================] - 16s 88ms/step - loss: 1.8387e-04 - accuracy: 0.7673 - val_loss: 0.0011 - val_accuracy: 0.7223 - lr: 0.0655\n",
      "Epoch 22/100\n",
      "181/181 [==============================] - 16s 87ms/step - loss: 1.4666e-04 - accuracy: 0.7710 - val_loss: 0.0012 - val_accuracy: 0.7265 - lr: 0.0625\n",
      "Epoch 23/100\n",
      "181/181 [==============================] - 16s 88ms/step - loss: 1.2804e-04 - accuracy: 0.7682 - val_loss: 0.0011 - val_accuracy: 0.7244 - lr: 0.0594\n",
      "Epoch 24/100\n",
      "181/181 [==============================] - 16s 88ms/step - loss: 1.0711e-04 - accuracy: 0.7657 - val_loss: 0.0011 - val_accuracy: 0.7244 - lr: 0.0563\n",
      "Epoch 25/100\n",
      "181/181 [==============================] - 16s 88ms/step - loss: 2.7394e-04 - accuracy: 0.7693 - val_loss: 0.0011 - val_accuracy: 0.7223 - lr: 0.0532\n",
      "Epoch 26/100\n",
      "181/181 [==============================] - 16s 88ms/step - loss: 9.8758e-05 - accuracy: 0.7657 - val_loss: 0.0010 - val_accuracy: 0.7161 - lr: 0.0501\n",
      "Epoch 27/100\n",
      "181/181 [==============================] - 16s 88ms/step - loss: 9.7123e-05 - accuracy: 0.7688 - val_loss: 9.7479e-04 - val_accuracy: 0.7203 - lr: 0.0469\n",
      "Epoch 28/100\n",
      "181/181 [==============================] - 16s 88ms/step - loss: 9.6174e-05 - accuracy: 0.7639 - val_loss: 9.0908e-04 - val_accuracy: 0.7161 - lr: 0.0438\n",
      "Epoch 29/100\n",
      "181/181 [==============================] - 16s 88ms/step - loss: 1.5053e-04 - accuracy: 0.7589 - val_loss: 8.0406e-04 - val_accuracy: 0.7223 - lr: 0.0407\n",
      "Epoch 30/100\n",
      "181/181 [==============================] - 16s 88ms/step - loss: 1.0572e-04 - accuracy: 0.7625 - val_loss: 8.1761e-04 - val_accuracy: 0.7223 - lr: 0.0376\n",
      "Epoch 31/100\n",
      "181/181 [==============================] - 16s 88ms/step - loss: 1.4417e-04 - accuracy: 0.7645 - val_loss: 7.3249e-04 - val_accuracy: 0.7182 - lr: 0.0346\n",
      "Epoch 32/100\n",
      "181/181 [==============================] - 16s 87ms/step - loss: 1.7184e-04 - accuracy: 0.7652 - val_loss: 7.7328e-04 - val_accuracy: 0.7223 - lr: 0.0317\n",
      "Epoch 33/100\n",
      "181/181 [==============================] - 16s 87ms/step - loss: 1.3259e-04 - accuracy: 0.7631 - val_loss: 7.8390e-04 - val_accuracy: 0.7223 - lr: 0.0288\n",
      "Epoch 34/100\n",
      "181/181 [==============================] - 16s 87ms/step - loss: 1.2180e-04 - accuracy: 0.7668 - val_loss: 7.1785e-04 - val_accuracy: 0.7223 - lr: 0.0260\n",
      "Epoch 35/100\n",
      "181/181 [==============================] - 16s 87ms/step - loss: 1.1034e-04 - accuracy: 0.7647 - val_loss: 7.2348e-04 - val_accuracy: 0.7182 - lr: 0.0233\n",
      "Epoch 36/100\n",
      "181/181 [==============================] - 16s 87ms/step - loss: 1.0126e-04 - accuracy: 0.7637 - val_loss: 7.2305e-04 - val_accuracy: 0.7182 - lr: 0.0207\n",
      "Epoch 37/100\n",
      "181/181 [==============================] - 16s 87ms/step - loss: 9.0324e-05 - accuracy: 0.7624 - val_loss: 6.9883e-04 - val_accuracy: 0.7161 - lr: 0.0182\n",
      "Epoch 38/100\n",
      "181/181 [==============================] - 16s 87ms/step - loss: 9.3049e-05 - accuracy: 0.7622 - val_loss: 7.0865e-04 - val_accuracy: 0.7182 - lr: 0.0159\n",
      "Epoch 39/100\n",
      "181/181 [==============================] - 16s 87ms/step - loss: 8.8492e-05 - accuracy: 0.7626 - val_loss: 7.0243e-04 - val_accuracy: 0.7203 - lr: 0.0136\n",
      "Epoch 40/100\n",
      "181/181 [==============================] - 16s 87ms/step - loss: 1.1624e-04 - accuracy: 0.7660 - val_loss: 6.8199e-04 - val_accuracy: 0.7203 - lr: 0.0116\n",
      "Epoch 41/100\n",
      "181/181 [==============================] - 16s 87ms/step - loss: 1.5057e-04 - accuracy: 0.7643 - val_loss: 7.0706e-04 - val_accuracy: 0.7161 - lr: 0.0096\n",
      "Epoch 42/100\n",
      "181/181 [==============================] - 16s 87ms/step - loss: 1.2010e-04 - accuracy: 0.7633 - val_loss: 7.0782e-04 - val_accuracy: 0.7203 - lr: 0.0079\n",
      "Epoch 43/100\n",
      "181/181 [==============================] - 16s 87ms/step - loss: 9.8696e-05 - accuracy: 0.7609 - val_loss: 7.0361e-04 - val_accuracy: 0.7203 - lr: 0.0063\n",
      "Epoch 44/100\n",
      "181/181 [==============================] - 16s 87ms/step - loss: 1.2715e-04 - accuracy: 0.7651 - val_loss: 6.9301e-04 - val_accuracy: 0.7203 - lr: 0.0049\n",
      "Epoch 45/100\n",
      "181/181 [==============================] - 16s 87ms/step - loss: 1.1582e-04 - accuracy: 0.7605 - val_loss: 6.8904e-04 - val_accuracy: 0.7182 - lr: 0.0036\n",
      "Epoch 46/100\n",
      "181/181 [==============================] - 16s 87ms/step - loss: 9.9283e-05 - accuracy: 0.7634 - val_loss: 6.8660e-04 - val_accuracy: 0.7203 - lr: 0.0025\n",
      "Epoch 47/100\n",
      "181/181 [==============================] - 16s 88ms/step - loss: 1.3007e-04 - accuracy: 0.7685 - val_loss: 6.8654e-04 - val_accuracy: 0.7203 - lr: 0.0017\n",
      "Epoch 48/100\n",
      "181/181 [==============================] - 16s 88ms/step - loss: 1.0899e-04 - accuracy: 0.7611 - val_loss: 6.8520e-04 - val_accuracy: 0.7182 - lr: 9.8475e-04\n",
      "Epoch 49/100\n",
      "181/181 [==============================] - 16s 87ms/step - loss: 1.1560e-04 - accuracy: 0.7639 - val_loss: 6.8530e-04 - val_accuracy: 0.7182 - lr: 4.9387e-04\n",
      "Epoch 50/100\n",
      "181/181 [==============================] - 16s 87ms/step - loss: 1.1014e-04 - accuracy: 0.7621 - val_loss: 6.8531e-04 - val_accuracy: 0.7182 - lr: 1.9856e-04\n"
     ]
    },
    {
     "name": "stdout",
     "output_type": "stream",
     "text": [
      "Epoch 51/100\n",
      "181/181 [==============================] - 16s 87ms/step - loss: 5.7323e-05 - accuracy: 0.7625 - val_loss: 6.8526e-04 - val_accuracy: 0.7182 - lr: 1.0000e-04\n",
      "Epoch 52/100\n",
      "181/181 [==============================] - 16s 87ms/step - loss: 9.0340e-05 - accuracy: 0.7611 - val_loss: 6.8503e-04 - val_accuracy: 0.7203 - lr: 1.9856e-04\n",
      "Epoch 53/100\n",
      "181/181 [==============================] - 16s 87ms/step - loss: 7.4206e-05 - accuracy: 0.7636 - val_loss: 6.8469e-04 - val_accuracy: 0.7203 - lr: 4.9387e-04\n",
      "Epoch 54/100\n",
      "181/181 [==============================] - 16s 87ms/step - loss: 9.1493e-05 - accuracy: 0.7635 - val_loss: 6.8401e-04 - val_accuracy: 0.7182 - lr: 9.8475e-04\n",
      "Epoch 55/100\n",
      "181/181 [==============================] - 16s 87ms/step - loss: 8.6596e-05 - accuracy: 0.7605 - val_loss: 6.8331e-04 - val_accuracy: 0.7182 - lr: 0.0017\n",
      "Epoch 56/100\n",
      "181/181 [==============================] - 16s 87ms/step - loss: 6.0780e-05 - accuracy: 0.7669 - val_loss: 6.8119e-04 - val_accuracy: 0.7182 - lr: 0.0025\n",
      "Epoch 57/100\n",
      "181/181 [==============================] - 16s 87ms/step - loss: 1.0940e-04 - accuracy: 0.7606 - val_loss: 6.7913e-04 - val_accuracy: 0.7161 - lr: 0.0036\n",
      "Epoch 58/100\n",
      "181/181 [==============================] - 16s 87ms/step - loss: 7.0089e-05 - accuracy: 0.7625 - val_loss: 6.7772e-04 - val_accuracy: 0.7203 - lr: 0.0049\n",
      "Epoch 59/100\n",
      "181/181 [==============================] - 16s 87ms/step - loss: 8.8838e-05 - accuracy: 0.7627 - val_loss: 6.7705e-04 - val_accuracy: 0.7182 - lr: 0.0063\n",
      "Epoch 60/100\n",
      "181/181 [==============================] - 16s 87ms/step - loss: 7.4579e-05 - accuracy: 0.7641 - val_loss: 6.6499e-04 - val_accuracy: 0.7182 - lr: 0.0079\n",
      "Epoch 61/100\n",
      "181/181 [==============================] - 16s 88ms/step - loss: 1.0066e-04 - accuracy: 0.7626 - val_loss: 6.5599e-04 - val_accuracy: 0.7140 - lr: 0.0096\n",
      "Epoch 62/100\n",
      "181/181 [==============================] - 16s 87ms/step - loss: 1.0658e-04 - accuracy: 0.7614 - val_loss: 6.4907e-04 - val_accuracy: 0.7161 - lr: 0.0116\n",
      "Epoch 63/100\n",
      "181/181 [==============================] - 16s 87ms/step - loss: 6.8342e-05 - accuracy: 0.7631 - val_loss: 6.4019e-04 - val_accuracy: 0.7161 - lr: 0.0136\n",
      "Epoch 64/100\n",
      "181/181 [==============================] - 16s 87ms/step - loss: 1.6409e-04 - accuracy: 0.7584 - val_loss: 6.2640e-04 - val_accuracy: 0.7182 - lr: 0.0159\n",
      "Epoch 65/100\n",
      "181/181 [==============================] - 16s 87ms/step - loss: 9.2535e-05 - accuracy: 0.7630 - val_loss: 6.1172e-04 - val_accuracy: 0.7182 - lr: 0.0182\n",
      "Epoch 66/100\n",
      "181/181 [==============================] - 16s 87ms/step - loss: 2.6790e-04 - accuracy: 0.7681 - val_loss: 6.0237e-04 - val_accuracy: 0.7161 - lr: 0.0207\n",
      "Epoch 67/100\n",
      "181/181 [==============================] - 16s 88ms/step - loss: 1.3640e-04 - accuracy: 0.7596 - val_loss: 5.6125e-04 - val_accuracy: 0.7056 - lr: 0.0233\n",
      "Epoch 68/100\n",
      "181/181 [==============================] - 16s 88ms/step - loss: 1.2776e-04 - accuracy: 0.7635 - val_loss: 5.6777e-04 - val_accuracy: 0.7056 - lr: 0.0260\n",
      "Epoch 69/100\n",
      "181/181 [==============================] - 16s 87ms/step - loss: 1.1096e-04 - accuracy: 0.7588 - val_loss: 5.4385e-04 - val_accuracy: 0.7077 - lr: 0.0288\n",
      "Epoch 70/100\n",
      "181/181 [==============================] - 16s 87ms/step - loss: 8.3917e-05 - accuracy: 0.7561 - val_loss: 5.4677e-04 - val_accuracy: 0.7098 - lr: 0.0317\n",
      "Epoch 71/100\n",
      "181/181 [==============================] - 16s 87ms/step - loss: 7.6832e-05 - accuracy: 0.7595 - val_loss: 5.6389e-04 - val_accuracy: 0.7140 - lr: 0.0346\n",
      "Epoch 72/100\n",
      "181/181 [==============================] - 16s 88ms/step - loss: 8.6582e-05 - accuracy: 0.7618 - val_loss: 5.4377e-04 - val_accuracy: 0.7161 - lr: 0.0376\n",
      "Epoch 73/100\n",
      "181/181 [==============================] - 16s 87ms/step - loss: 9.2992e-05 - accuracy: 0.7653 - val_loss: 5.1853e-04 - val_accuracy: 0.7161 - lr: 0.0407\n",
      "Epoch 74/100\n",
      "181/181 [==============================] - 16s 87ms/step - loss: 8.5569e-05 - accuracy: 0.7602 - val_loss: 4.8944e-04 - val_accuracy: 0.7140 - lr: 0.0438\n",
      "Epoch 75/100\n",
      "181/181 [==============================] - 16s 87ms/step - loss: 1.3839e-04 - accuracy: 0.7585 - val_loss: 4.8428e-04 - val_accuracy: 0.7077 - lr: 0.0469\n",
      "Epoch 76/100\n",
      "181/181 [==============================] - 16s 87ms/step - loss: 6.5947e-05 - accuracy: 0.7620 - val_loss: 4.4174e-04 - val_accuracy: 0.7077 - lr: 0.0501\n",
      "Epoch 77/100\n",
      "181/181 [==============================] - 16s 87ms/step - loss: 1.2687e-04 - accuracy: 0.7623 - val_loss: 4.0519e-04 - val_accuracy: 0.7035 - lr: 0.0532\n",
      "Epoch 78/100\n",
      "181/181 [==============================] - 16s 88ms/step - loss: 7.2979e-05 - accuracy: 0.7559 - val_loss: 4.1806e-04 - val_accuracy: 0.7056 - lr: 0.0563\n",
      "Epoch 79/100\n",
      "181/181 [==============================] - 16s 86ms/step - loss: 1.2920e-04 - accuracy: 0.7572 - val_loss: 4.2977e-04 - val_accuracy: 0.7056 - lr: 0.0594\n",
      "Epoch 80/100\n",
      "181/181 [==============================] - 16s 87ms/step - loss: 5.6560e-05 - accuracy: 0.7658 - val_loss: 4.2117e-04 - val_accuracy: 0.7098 - lr: 0.0625\n",
      "Epoch 81/100\n",
      "181/181 [==============================] - 16s 87ms/step - loss: 1.0250e-04 - accuracy: 0.7567 - val_loss: 4.1616e-04 - val_accuracy: 0.7035 - lr: 0.0655\n",
      "Epoch 82/100\n",
      "181/181 [==============================] - 16s 88ms/step - loss: 5.1699e-05 - accuracy: 0.7603 - val_loss: 3.6659e-04 - val_accuracy: 0.7056 - lr: 0.0684\n",
      "Epoch 83/100\n",
      "181/181 [==============================] - 16s 87ms/step - loss: 9.3517e-05 - accuracy: 0.7576 - val_loss: 3.9217e-04 - val_accuracy: 0.7056 - lr: 0.0713\n",
      "Epoch 84/100\n",
      "181/181 [==============================] - 16s 88ms/step - loss: 5.9553e-05 - accuracy: 0.7587 - val_loss: 3.5642e-04 - val_accuracy: 0.7056 - lr: 0.0741\n",
      "Epoch 85/100\n",
      "181/181 [==============================] - 16s 88ms/step - loss: 9.8916e-05 - accuracy: 0.7622 - val_loss: 3.5305e-04 - val_accuracy: 0.7119 - lr: 0.0768\n",
      "Epoch 86/100\n",
      "181/181 [==============================] - 16s 88ms/step - loss: 7.6843e-05 - accuracy: 0.7494 - val_loss: 3.1946e-04 - val_accuracy: 0.7140 - lr: 0.0794\n",
      "Epoch 87/100\n",
      "181/181 [==============================] - 16s 89ms/step - loss: 1.3497e-04 - accuracy: 0.7514 - val_loss: 3.6831e-04 - val_accuracy: 0.7119 - lr: 0.0819\n",
      "Epoch 88/100\n",
      "181/181 [==============================] - 16s 87ms/step - loss: 3.7718e-05 - accuracy: 0.7524 - val_loss: 3.7356e-04 - val_accuracy: 0.7077 - lr: 0.0842\n",
      "Epoch 89/100\n",
      "181/181 [==============================] - 16s 88ms/step - loss: 7.7847e-05 - accuracy: 0.7504 - val_loss: 3.2174e-04 - val_accuracy: 0.7035 - lr: 0.0865\n",
      "Epoch 90/100\n",
      "181/181 [==============================] - 16s 87ms/step - loss: 9.4828e-05 - accuracy: 0.7466 - val_loss: 3.5557e-04 - val_accuracy: 0.7035 - lr: 0.0885\n",
      "Epoch 91/100\n",
      "181/181 [==============================] - 16s 87ms/step - loss: 3.4635e-05 - accuracy: 0.7559 - val_loss: 3.4937e-04 - val_accuracy: 0.7035 - lr: 0.0905\n",
      "Epoch 92/100\n",
      "181/181 [==============================] - 16s 88ms/step - loss: 6.0962e-05 - accuracy: 0.7589 - val_loss: 3.3688e-04 - val_accuracy: 0.7077 - lr: 0.0922\n",
      "Epoch 93/100\n",
      "181/181 [==============================] - 16s 87ms/step - loss: 6.8945e-05 - accuracy: 0.7498 - val_loss: 3.0543e-04 - val_accuracy: 0.7035 - lr: 0.0938\n",
      "Epoch 94/100\n",
      "181/181 [==============================] - 16s 87ms/step - loss: 9.4025e-05 - accuracy: 0.7546 - val_loss: 2.6694e-04 - val_accuracy: 0.7119 - lr: 0.0952\n",
      "Epoch 95/100\n",
      "181/181 [==============================] - 16s 87ms/step - loss: 8.8330e-05 - accuracy: 0.7504 - val_loss: 2.1050e-04 - val_accuracy: 0.7140 - lr: 0.0965\n",
      "Epoch 96/100\n",
      "181/181 [==============================] - 16s 88ms/step - loss: 5.6976e-05 - accuracy: 0.7511 - val_loss: 1.8816e-04 - val_accuracy: 0.7119 - lr: 0.0976\n",
      "Epoch 97/100\n",
      "181/181 [==============================] - 16s 87ms/step - loss: 3.0818e-05 - accuracy: 0.7481 - val_loss: 2.0026e-04 - val_accuracy: 0.7161 - lr: 0.0984\n",
      "Epoch 98/100\n",
      "181/181 [==============================] - 16s 88ms/step - loss: 4.8345e-05 - accuracy: 0.7495 - val_loss: 2.0552e-04 - val_accuracy: 0.7182 - lr: 0.0991\n",
      "Epoch 99/100\n",
      "181/181 [==============================] - 16s 87ms/step - loss: 4.4323e-05 - accuracy: 0.7518 - val_loss: 1.7222e-04 - val_accuracy: 0.7161 - lr: 0.0996\n"
     ]
    },
    {
     "name": "stdout",
     "output_type": "stream",
     "text": [
      "Epoch 100/100\n",
      "181/181 [==============================] - 16s 87ms/step - loss: 6.2962e-05 - accuracy: 0.7526 - val_loss: 1.5580e-04 - val_accuracy: 0.7119 - lr: 0.0999\n"
     ]
    }
   ],
   "source": [
    "history = model.fit(\n",
    "    generator,\n",
    "    validation_data = val_generator,\n",
    "    epochs = 100,\n",
    "    shuffle=False,\n",
    "    callbacks=callbacks\n",
    ").history"
   ]
  },
  {
   "cell_type": "code",
   "execution_count": 73,
   "metadata": {
    "pycharm": {
     "name": "#%%\n"
    }
   },
   "outputs": [
    {
     "name": "stdout",
     "output_type": "stream",
     "text": [
      "Dec17_19-42-17\n",
      "Epoch 1/100\n",
      "  6/181 [..............................] - ETA: 21s - loss: 2.1224e-04 - accuracy: 0.7917WARNING:tensorflow:Callback method `on_train_batch_end` is slow compared to the batch time (batch time: 0.0836s vs `on_train_batch_end` time: 0.4574s). Check your callbacks.\n"
     ]
    },
    {
     "name": "stderr",
     "output_type": "stream",
     "text": [
      "WARNING:tensorflow:Callback method `on_train_batch_end` is slow compared to the batch time (batch time: 0.0836s vs `on_train_batch_end` time: 0.4574s). Check your callbacks.\n"
     ]
    },
    {
     "name": "stdout",
     "output_type": "stream",
     "text": [
      "180/181 [============================>.] - ETA: 0s - loss: 5.9832e-05 - accuracy: 0.7509"
     ]
    },
    {
     "name": "stderr",
     "output_type": "stream",
     "text": [
      "WARNING:absl:Function `_wrapped_model` contains input name(s) Input with unsupported characters which will be renamed to input in the SavedModel.\n",
      "WARNING:absl:Found untraced functions such as lstm_cell_136_layer_call_fn, lstm_cell_136_layer_call_and_return_conditional_losses, lstm_cell_137_layer_call_fn, lstm_cell_137_layer_call_and_return_conditional_losses, lstm_cell_139_layer_call_fn while saving (showing 5 of 20). These functions will not be directly callable after loading.\n"
     ]
    },
    {
     "name": "stdout",
     "output_type": "stream",
     "text": [
      "INFO:tensorflow:Assets written to: experiments\\ResLSTM_Dec17_19-42-17\\base_ckpts\\cp_01.ckpt\\assets\n"
     ]
    },
    {
     "name": "stderr",
     "output_type": "stream",
     "text": [
      "INFO:tensorflow:Assets written to: experiments\\ResLSTM_Dec17_19-42-17\\base_ckpts\\cp_01.ckpt\\assets\n"
     ]
    },
    {
     "name": "stdout",
     "output_type": "stream",
     "text": [
      "181/181 [==============================] - 90s 486ms/step - loss: 5.9802e-05 - accuracy: 0.7508 - val_loss: 1.9763e-04 - val_accuracy: 0.7140 - lr: 0.1000\n",
      "Epoch 2/100\n",
      "181/181 [==============================] - 16s 87ms/step - loss: 8.8578e-05 - accuracy: 0.7472 - val_loss: 1.7106e-04 - val_accuracy: 0.7119 - lr: 0.0999\n",
      "Epoch 3/100\n",
      "181/181 [==============================] - 16s 87ms/step - loss: 3.8677e-05 - accuracy: 0.7507 - val_loss: 1.7950e-04 - val_accuracy: 0.7140 - lr: 0.0996\n",
      "Epoch 4/100\n",
      "180/181 [============================>.] - ETA: 0s - loss: 5.7699e-05 - accuracy: 0.7519"
     ]
    },
    {
     "name": "stderr",
     "output_type": "stream",
     "text": [
      "WARNING:absl:Function `_wrapped_model` contains input name(s) Input with unsupported characters which will be renamed to input in the SavedModel.\n",
      "WARNING:absl:Found untraced functions such as lstm_cell_136_layer_call_fn, lstm_cell_136_layer_call_and_return_conditional_losses, lstm_cell_137_layer_call_fn, lstm_cell_137_layer_call_and_return_conditional_losses, lstm_cell_139_layer_call_fn while saving (showing 5 of 20). These functions will not be directly callable after loading.\n"
     ]
    },
    {
     "name": "stdout",
     "output_type": "stream",
     "text": [
      "INFO:tensorflow:Assets written to: experiments\\ResLSTM_Dec17_19-42-17\\base_ckpts\\cp_04.ckpt\\assets\n"
     ]
    },
    {
     "name": "stderr",
     "output_type": "stream",
     "text": [
      "INFO:tensorflow:Assets written to: experiments\\ResLSTM_Dec17_19-42-17\\base_ckpts\\cp_04.ckpt\\assets\n"
     ]
    },
    {
     "name": "stdout",
     "output_type": "stream",
     "text": [
      "181/181 [==============================] - 86s 480ms/step - loss: 5.7671e-05 - accuracy: 0.7518 - val_loss: 1.6845e-04 - val_accuracy: 0.7161 - lr: 0.0991\n",
      "Epoch 5/100\n",
      "181/181 [==============================] - 16s 87ms/step - loss: 8.1977e-05 - accuracy: 0.7535 - val_loss: 1.7592e-04 - val_accuracy: 0.7161 - lr: 0.0984\n",
      "Epoch 6/100\n",
      "181/181 [==============================] - 16s 86ms/step - loss: 6.7534e-05 - accuracy: 0.7498 - val_loss: 1.7420e-04 - val_accuracy: 0.7161 - lr: 0.0976\n",
      "Epoch 7/100\n",
      "181/181 [==============================] - 16s 88ms/step - loss: 5.3435e-05 - accuracy: 0.7459 - val_loss: 2.1020e-04 - val_accuracy: 0.7098 - lr: 0.0965\n",
      "Epoch 8/100\n",
      "181/181 [==============================] - 16s 87ms/step - loss: 4.7869e-05 - accuracy: 0.7548 - val_loss: 2.3753e-04 - val_accuracy: 0.7140 - lr: 0.0952\n",
      "Epoch 9/100\n",
      "181/181 [==============================] - 16s 87ms/step - loss: 3.1283e-05 - accuracy: 0.7454 - val_loss: 2.3575e-04 - val_accuracy: 0.7098 - lr: 0.0938\n",
      "Epoch 10/100\n",
      "181/181 [==============================] - 16s 87ms/step - loss: 2.9839e-05 - accuracy: 0.7497 - val_loss: 2.4386e-04 - val_accuracy: 0.7119 - lr: 0.0922\n",
      "Epoch 11/100\n",
      "181/181 [==============================] - 16s 87ms/step - loss: 4.7213e-05 - accuracy: 0.7510 - val_loss: 2.5715e-04 - val_accuracy: 0.7098 - lr: 0.0905\n",
      "Epoch 12/100\n",
      "181/181 [==============================] - 16s 87ms/step - loss: 1.0199e-04 - accuracy: 0.7487 - val_loss: 2.6579e-04 - val_accuracy: 0.7119 - lr: 0.0885\n",
      "Epoch 13/100\n",
      "181/181 [==============================] - 16s 87ms/step - loss: 7.4678e-05 - accuracy: 0.7465 - val_loss: 2.5200e-04 - val_accuracy: 0.7119 - lr: 0.0865\n",
      "Epoch 14/100\n",
      "181/181 [==============================] - 16s 87ms/step - loss: 4.2839e-05 - accuracy: 0.7485 - val_loss: 2.5453e-04 - val_accuracy: 0.7077 - lr: 0.0842\n",
      "Epoch 15/100\n",
      "181/181 [==============================] - 16s 87ms/step - loss: 3.5072e-05 - accuracy: 0.7464 - val_loss: 2.3808e-04 - val_accuracy: 0.7098 - lr: 0.0819\n",
      "Epoch 16/100\n",
      "181/181 [==============================] - 16s 87ms/step - loss: 4.2023e-05 - accuracy: 0.7548 - val_loss: 2.1471e-04 - val_accuracy: 0.7119 - lr: 0.0794\n",
      "Epoch 17/100\n",
      "181/181 [==============================] - 16s 87ms/step - loss: 4.6340e-05 - accuracy: 0.7415 - val_loss: 1.9292e-04 - val_accuracy: 0.7140 - lr: 0.0768\n",
      "Epoch 18/100\n",
      "181/181 [==============================] - 16s 87ms/step - loss: 3.3630e-05 - accuracy: 0.7526 - val_loss: 1.7947e-04 - val_accuracy: 0.7161 - lr: 0.0741\n",
      "Epoch 19/100\n",
      "181/181 [==============================] - 16s 86ms/step - loss: 3.5970e-05 - accuracy: 0.7461 - val_loss: 1.6745e-04 - val_accuracy: 0.7098 - lr: 0.0713\n",
      "Epoch 20/100\n",
      "181/181 [==============================] - 16s 87ms/step - loss: 2.0512e-05 - accuracy: 0.7512 - val_loss: 1.6427e-04 - val_accuracy: 0.7119 - lr: 0.0684\n",
      "Epoch 21/100\n",
      "181/181 [==============================] - 16s 87ms/step - loss: 4.1919e-05 - accuracy: 0.7459 - val_loss: 1.4687e-04 - val_accuracy: 0.7140 - lr: 0.0655\n",
      "Epoch 22/100\n",
      "181/181 [==============================] - 16s 88ms/step - loss: 2.6966e-05 - accuracy: 0.7500 - val_loss: 1.7046e-04 - val_accuracy: 0.7119 - lr: 0.0625\n",
      "Epoch 23/100\n",
      "181/181 [==============================] - 16s 88ms/step - loss: 5.5436e-05 - accuracy: 0.7485 - val_loss: 1.6804e-04 - val_accuracy: 0.7119 - lr: 0.0594\n",
      "Epoch 24/100\n",
      "181/181 [==============================] - 16s 86ms/step - loss: 6.5485e-05 - accuracy: 0.7477 - val_loss: 1.7265e-04 - val_accuracy: 0.7161 - lr: 0.0563\n",
      "Epoch 25/100\n",
      "181/181 [==============================] - 16s 87ms/step - loss: 3.8787e-05 - accuracy: 0.7508 - val_loss: 1.7165e-04 - val_accuracy: 0.7119 - lr: 0.0532\n",
      "Epoch 26/100\n",
      "181/181 [==============================] - 16s 88ms/step - loss: 2.4766e-05 - accuracy: 0.7446 - val_loss: 1.6212e-04 - val_accuracy: 0.7077 - lr: 0.0501\n",
      "Epoch 27/100\n",
      "181/181 [==============================] - 16s 87ms/step - loss: 2.0104e-05 - accuracy: 0.7426 - val_loss: 1.6129e-04 - val_accuracy: 0.7077 - lr: 0.0469\n",
      "Epoch 28/100\n",
      "181/181 [==============================] - 16s 87ms/step - loss: 6.3766e-05 - accuracy: 0.7434 - val_loss: 1.4624e-04 - val_accuracy: 0.7077 - lr: 0.0438\n",
      "Epoch 29/100\n",
      "181/181 [==============================] - 16s 87ms/step - loss: 2.5010e-05 - accuracy: 0.7405 - val_loss: 1.4701e-04 - val_accuracy: 0.7077 - lr: 0.0407\n",
      "Epoch 30/100\n",
      "181/181 [==============================] - 16s 87ms/step - loss: 3.6799e-05 - accuracy: 0.7474 - val_loss: 1.4412e-04 - val_accuracy: 0.7077 - lr: 0.0376\n",
      "Epoch 31/100\n",
      "181/181 [==============================] - 16s 88ms/step - loss: 1.7894e-05 - accuracy: 0.7448 - val_loss: 1.4356e-04 - val_accuracy: 0.7077 - lr: 0.0346\n",
      "Epoch 32/100\n",
      "181/181 [==============================] - 16s 88ms/step - loss: 5.8059e-05 - accuracy: 0.7423 - val_loss: 1.4226e-04 - val_accuracy: 0.7077 - lr: 0.0317\n",
      "Epoch 33/100\n",
      "181/181 [==============================] - 16s 87ms/step - loss: 3.5187e-05 - accuracy: 0.7496 - val_loss: 1.4229e-04 - val_accuracy: 0.7077 - lr: 0.0288\n",
      "Epoch 34/100\n",
      "181/181 [==============================] - 16s 88ms/step - loss: 2.1361e-05 - accuracy: 0.7458 - val_loss: 1.3671e-04 - val_accuracy: 0.7077 - lr: 0.0260\n",
      "Epoch 35/100\n",
      "181/181 [==============================] - 16s 88ms/step - loss: 2.1294e-05 - accuracy: 0.7491 - val_loss: 1.3285e-04 - val_accuracy: 0.7077 - lr: 0.0233\n",
      "Epoch 36/100\n",
      "181/181 [==============================] - 16s 87ms/step - loss: 6.5902e-05 - accuracy: 0.7402 - val_loss: 1.3532e-04 - val_accuracy: 0.7098 - lr: 0.0207\n",
      "Epoch 37/100\n",
      "181/181 [==============================] - 16s 88ms/step - loss: 2.9635e-05 - accuracy: 0.7472 - val_loss: 1.3665e-04 - val_accuracy: 0.7098 - lr: 0.0182\n",
      "Epoch 38/100\n",
      "181/181 [==============================] - 16s 88ms/step - loss: 1.9193e-05 - accuracy: 0.7411 - val_loss: 1.3837e-04 - val_accuracy: 0.7098 - lr: 0.0159\n",
      "Epoch 39/100\n",
      "181/181 [==============================] - 16s 87ms/step - loss: 6.3932e-05 - accuracy: 0.7421 - val_loss: 1.3881e-04 - val_accuracy: 0.7098 - lr: 0.0136\n",
      "Epoch 40/100\n",
      "181/181 [==============================] - 16s 86ms/step - loss: 3.9851e-05 - accuracy: 0.7415 - val_loss: 1.3821e-04 - val_accuracy: 0.7098 - lr: 0.0116\n",
      "Epoch 41/100\n",
      "181/181 [==============================] - 16s 87ms/step - loss: 1.9743e-05 - accuracy: 0.7427 - val_loss: 1.3751e-04 - val_accuracy: 0.7098 - lr: 0.0096\n",
      "Epoch 42/100\n",
      "181/181 [==============================] - 16s 87ms/step - loss: 2.9017e-05 - accuracy: 0.7423 - val_loss: 1.3729e-04 - val_accuracy: 0.7098 - lr: 0.0079\n",
      "Epoch 43/100\n",
      "181/181 [==============================] - 16s 88ms/step - loss: 4.3446e-05 - accuracy: 0.7465 - val_loss: 1.3770e-04 - val_accuracy: 0.7098 - lr: 0.0063\n",
      "Epoch 44/100\n",
      "181/181 [==============================] - 16s 88ms/step - loss: 3.8842e-05 - accuracy: 0.7441 - val_loss: 1.3974e-04 - val_accuracy: 0.7098 - lr: 0.0049\n",
      "Epoch 45/100\n",
      "181/181 [==============================] - 16s 87ms/step - loss: 2.2096e-05 - accuracy: 0.7445 - val_loss: 1.3914e-04 - val_accuracy: 0.7098 - lr: 0.0036\n",
      "Epoch 46/100\n",
      "181/181 [==============================] - 16s 87ms/step - loss: 2.5373e-05 - accuracy: 0.7492 - val_loss: 1.3940e-04 - val_accuracy: 0.7098 - lr: 0.0025\n",
      "Epoch 47/100\n",
      "181/181 [==============================] - 16s 88ms/step - loss: 6.0689e-05 - accuracy: 0.7434 - val_loss: 1.3990e-04 - val_accuracy: 0.7098 - lr: 0.0017\n",
      "Epoch 48/100\n",
      "181/181 [==============================] - 16s 88ms/step - loss: 3.6416e-05 - accuracy: 0.7389 - val_loss: 1.3975e-04 - val_accuracy: 0.7098 - lr: 9.8475e-04\n",
      "Epoch 49/100\n",
      "181/181 [==============================] - 16s 87ms/step - loss: 1.1828e-04 - accuracy: 0.7427 - val_loss: 1.3998e-04 - val_accuracy: 0.7098 - lr: 4.9387e-04\n",
      "Epoch 50/100\n",
      "181/181 [==============================] - 16s 88ms/step - loss: 2.8262e-05 - accuracy: 0.7456 - val_loss: 1.4003e-04 - val_accuracy: 0.7098 - lr: 1.9856e-04\n",
      "Epoch 51/100\n",
      "181/181 [==============================] - 16s 88ms/step - loss: 4.9441e-05 - accuracy: 0.7392 - val_loss: 1.4008e-04 - val_accuracy: 0.7098 - lr: 1.0000e-04\n",
      "Epoch 52/100\n",
      "181/181 [==============================] - 16s 87ms/step - loss: 1.7760e-05 - accuracy: 0.7424 - val_loss: 1.4016e-04 - val_accuracy: 0.7098 - lr: 1.9856e-04\n",
      "Epoch 53/100\n"
     ]
    },
    {
     "name": "stdout",
     "output_type": "stream",
     "text": [
      "181/181 [==============================] - 16s 87ms/step - loss: 4.4327e-05 - accuracy: 0.7453 - val_loss: 1.3999e-04 - val_accuracy: 0.7098 - lr: 4.9387e-04\n",
      "Epoch 54/100\n",
      "181/181 [==============================] - 16s 87ms/step - loss: 4.8104e-05 - accuracy: 0.7464 - val_loss: 1.3996e-04 - val_accuracy: 0.7098 - lr: 9.8475e-04\n",
      "Epoch 55/100\n",
      "181/181 [==============================] - 16s 87ms/step - loss: 9.9767e-05 - accuracy: 0.7466 - val_loss: 1.3991e-04 - val_accuracy: 0.7098 - lr: 0.0017\n",
      "Epoch 56/100\n",
      "181/181 [==============================] - 16s 87ms/step - loss: 2.4702e-05 - accuracy: 0.7446 - val_loss: 1.3956e-04 - val_accuracy: 0.7098 - lr: 0.0025\n",
      "Epoch 57/100\n",
      "181/181 [==============================] - 16s 87ms/step - loss: 5.8323e-05 - accuracy: 0.7420 - val_loss: 1.3938e-04 - val_accuracy: 0.7098 - lr: 0.0036\n",
      "Epoch 58/100\n",
      "181/181 [==============================] - 16s 86ms/step - loss: 3.3622e-05 - accuracy: 0.7402 - val_loss: 1.3901e-04 - val_accuracy: 0.7098 - lr: 0.0049\n",
      "Epoch 59/100\n",
      "181/181 [==============================] - 16s 87ms/step - loss: 3.3282e-05 - accuracy: 0.7434 - val_loss: 1.4005e-04 - val_accuracy: 0.7098 - lr: 0.0063\n",
      "Epoch 60/100\n",
      "181/181 [==============================] - 16s 87ms/step - loss: 4.4785e-05 - accuracy: 0.7473 - val_loss: 1.3886e-04 - val_accuracy: 0.7098 - lr: 0.0079\n",
      "Epoch 61/100\n",
      "181/181 [==============================] - 16s 87ms/step - loss: 6.0346e-05 - accuracy: 0.7446 - val_loss: 1.3860e-04 - val_accuracy: 0.7098 - lr: 0.0096\n",
      "Epoch 62/100\n",
      "181/181 [==============================] - 16s 87ms/step - loss: 2.0736e-05 - accuracy: 0.7365 - val_loss: 1.3825e-04 - val_accuracy: 0.7098 - lr: 0.0116\n",
      "Epoch 63/100\n",
      "181/181 [==============================] - 16s 87ms/step - loss: 3.1049e-05 - accuracy: 0.7472 - val_loss: 1.3815e-04 - val_accuracy: 0.7098 - lr: 0.0136\n",
      "Epoch 64/100\n",
      "181/181 [==============================] - 16s 87ms/step - loss: 3.2114e-05 - accuracy: 0.7437 - val_loss: 1.3514e-04 - val_accuracy: 0.7098 - lr: 0.0159\n",
      "Epoch 65/100\n",
      "181/181 [==============================] - 16s 87ms/step - loss: 5.5380e-05 - accuracy: 0.7470 - val_loss: 1.3304e-04 - val_accuracy: 0.7119 - lr: 0.0182\n",
      "Epoch 66/100\n",
      "181/181 [==============================] - 16s 87ms/step - loss: 9.5429e-05 - accuracy: 0.7422 - val_loss: 1.4711e-04 - val_accuracy: 0.7161 - lr: 0.0207\n",
      "Epoch 67/100\n",
      "181/181 [==============================] - 16s 87ms/step - loss: 3.0555e-05 - accuracy: 0.7375 - val_loss: 1.4768e-04 - val_accuracy: 0.7140 - lr: 0.0233\n",
      "Epoch 68/100\n",
      "181/181 [==============================] - 16s 87ms/step - loss: 6.3084e-05 - accuracy: 0.7456 - val_loss: 1.4521e-04 - val_accuracy: 0.7140 - lr: 0.0260\n",
      "Epoch 69/100\n",
      "181/181 [==============================] - 16s 88ms/step - loss: 3.7129e-05 - accuracy: 0.7400 - val_loss: 1.4385e-04 - val_accuracy: 0.7140 - lr: 0.0288\n",
      "Epoch 70/100\n",
      "181/181 [==============================] - 16s 87ms/step - loss: 6.1974e-05 - accuracy: 0.7477 - val_loss: 1.3467e-04 - val_accuracy: 0.7140 - lr: 0.0317\n",
      "Epoch 71/100\n",
      "181/181 [==============================] - 16s 87ms/step - loss: 3.0521e-05 - accuracy: 0.7463 - val_loss: 1.3672e-04 - val_accuracy: 0.7140 - lr: 0.0346\n",
      "Epoch 72/100\n",
      "181/181 [==============================] - 16s 87ms/step - loss: 5.1570e-05 - accuracy: 0.7372 - val_loss: 1.3313e-04 - val_accuracy: 0.7140 - lr: 0.0376\n",
      "Epoch 73/100\n",
      "181/181 [==============================] - 16s 88ms/step - loss: 6.0653e-05 - accuracy: 0.7428 - val_loss: 1.2509e-04 - val_accuracy: 0.7098 - lr: 0.0407\n",
      "Epoch 74/100\n",
      "181/181 [==============================] - 16s 87ms/step - loss: 4.6032e-05 - accuracy: 0.7429 - val_loss: 1.3229e-04 - val_accuracy: 0.7077 - lr: 0.0438\n",
      "Epoch 75/100\n",
      "181/181 [==============================] - 16s 87ms/step - loss: 2.2361e-05 - accuracy: 0.7475 - val_loss: 1.3151e-04 - val_accuracy: 0.7119 - lr: 0.0469\n",
      "Epoch 76/100\n",
      "181/181 [==============================] - 16s 87ms/step - loss: 2.5003e-05 - accuracy: 0.7362 - val_loss: 1.3524e-04 - val_accuracy: 0.7098 - lr: 0.0501\n",
      "Epoch 77/100\n",
      "181/181 [==============================] - 16s 87ms/step - loss: 3.0358e-05 - accuracy: 0.7460 - val_loss: 1.3440e-04 - val_accuracy: 0.7056 - lr: 0.0532\n",
      "Epoch 78/100\n",
      "181/181 [==============================] - 16s 87ms/step - loss: 6.0252e-05 - accuracy: 0.7420 - val_loss: 1.4563e-04 - val_accuracy: 0.7119 - lr: 0.0563\n",
      "Epoch 79/100\n",
      "181/181 [==============================] - 16s 88ms/step - loss: 2.2778e-05 - accuracy: 0.7418 - val_loss: 1.4331e-04 - val_accuracy: 0.7140 - lr: 0.0594\n",
      "Epoch 80/100\n",
      "181/181 [==============================] - 16s 87ms/step - loss: 2.9076e-05 - accuracy: 0.7415 - val_loss: 1.3618e-04 - val_accuracy: 0.7077 - lr: 0.0625\n",
      "Epoch 81/100\n",
      "181/181 [==============================] - 16s 87ms/step - loss: 2.4759e-05 - accuracy: 0.7414 - val_loss: 1.3265e-04 - val_accuracy: 0.7098 - lr: 0.0655\n",
      "Epoch 82/100\n",
      "181/181 [==============================] - 16s 87ms/step - loss: 3.8062e-05 - accuracy: 0.7353 - val_loss: 1.2739e-04 - val_accuracy: 0.7077 - lr: 0.0684\n",
      "Epoch 83/100\n",
      "181/181 [==============================] - 16s 87ms/step - loss: 2.7752e-05 - accuracy: 0.7424 - val_loss: 1.3071e-04 - val_accuracy: 0.7056 - lr: 0.0713\n",
      "Epoch 84/100\n",
      "181/181 [==============================] - 16s 88ms/step - loss: 7.5995e-05 - accuracy: 0.7429 - val_loss: 1.2749e-04 - val_accuracy: 0.7119 - lr: 0.0741\n",
      "Epoch 85/100\n",
      "181/181 [==============================] - 16s 87ms/step - loss: 2.2720e-05 - accuracy: 0.7395 - val_loss: 1.1934e-04 - val_accuracy: 0.7098 - lr: 0.0768\n",
      "Epoch 86/100\n",
      "181/181 [==============================] - 16s 87ms/step - loss: 3.3170e-05 - accuracy: 0.7383 - val_loss: 1.3559e-04 - val_accuracy: 0.7119 - lr: 0.0794\n",
      "Epoch 87/100\n",
      "181/181 [==============================] - 16s 87ms/step - loss: 8.6593e-05 - accuracy: 0.7449 - val_loss: 1.3866e-04 - val_accuracy: 0.7077 - lr: 0.0819\n",
      "Epoch 88/100\n",
      "181/181 [==============================] - 16s 87ms/step - loss: 2.4474e-05 - accuracy: 0.7371 - val_loss: 1.4203e-04 - val_accuracy: 0.7077 - lr: 0.0842\n",
      "Epoch 89/100\n",
      "181/181 [==============================] - 16s 87ms/step - loss: 4.1222e-05 - accuracy: 0.7374 - val_loss: 1.4126e-04 - val_accuracy: 0.7056 - lr: 0.0865\n",
      "Epoch 90/100\n",
      "181/181 [==============================] - 16s 87ms/step - loss: 2.4580e-05 - accuracy: 0.7389 - val_loss: 1.4013e-04 - val_accuracy: 0.7056 - lr: 0.0885\n",
      "Epoch 91/100\n",
      "181/181 [==============================] - 16s 87ms/step - loss: 5.7669e-05 - accuracy: 0.7383 - val_loss: 1.4704e-04 - val_accuracy: 0.7098 - lr: 0.0905\n",
      "Epoch 92/100\n",
      "181/181 [==============================] - 16s 87ms/step - loss: 7.2343e-05 - accuracy: 0.7349 - val_loss: 1.1944e-04 - val_accuracy: 0.7140 - lr: 0.0922\n",
      "Epoch 93/100\n",
      "181/181 [==============================] - 16s 87ms/step - loss: 3.5292e-05 - accuracy: 0.7313 - val_loss: 1.1485e-04 - val_accuracy: 0.7077 - lr: 0.0938\n",
      "Epoch 94/100\n",
      "181/181 [==============================] - 16s 87ms/step - loss: 6.0163e-05 - accuracy: 0.7263 - val_loss: 9.2604e-05 - val_accuracy: 0.7077 - lr: 0.0952\n",
      "Epoch 95/100\n",
      "181/181 [==============================] - 16s 87ms/step - loss: 2.4810e-05 - accuracy: 0.7313 - val_loss: 8.0592e-05 - val_accuracy: 0.7098 - lr: 0.0965\n",
      "Epoch 96/100\n",
      "181/181 [==============================] - 16s 87ms/step - loss: 2.1499e-05 - accuracy: 0.7274 - val_loss: 8.0858e-05 - val_accuracy: 0.7077 - lr: 0.0976\n",
      "Epoch 97/100\n",
      "181/181 [==============================] - 16s 87ms/step - loss: 2.3214e-05 - accuracy: 0.7375 - val_loss: 7.9290e-05 - val_accuracy: 0.7077 - lr: 0.0984\n",
      "Epoch 98/100\n",
      "181/181 [==============================] - 16s 87ms/step - loss: 2.6845e-05 - accuracy: 0.7354 - val_loss: 7.7431e-05 - val_accuracy: 0.7035 - lr: 0.0991\n",
      "Epoch 99/100\n",
      "181/181 [==============================] - 16s 87ms/step - loss: 2.2244e-05 - accuracy: 0.7382 - val_loss: 1.0532e-04 - val_accuracy: 0.7140 - lr: 0.0996\n",
      "Epoch 100/100\n",
      "181/181 [==============================] - 16s 87ms/step - loss: 1.9463e-05 - accuracy: 0.7352 - val_loss: 1.0813e-04 - val_accuracy: 0.7140 - lr: 0.0999\n"
     ]
    }
   ],
   "source": [
    "callbacks, date = create_folders_and_callbacks(foldermode)\n",
    "callbacks.append(CosineAnnealingScheduler(T_max=50, eta_max=1e-1, eta_min=1e-4))\n",
    "history = model.fit(\n",
    "    generator,\n",
    "    validation_data = val_generator,\n",
    "    epochs = 100,\n",
    "    shuffle=False,\n",
    "    callbacks=callbacks\n",
    ").history"
   ]
  },
  {
   "cell_type": "code",
   "execution_count": 74,
   "metadata": {
    "pycharm": {
     "name": "#%%\n"
    }
   },
   "outputs": [
    {
     "name": "stdout",
     "output_type": "stream",
     "text": [
      "Dec17_20-11-09\n",
      "Epoch 1/100\n",
      "  6/181 [..............................] - ETA: 18s - loss: 2.4768e-06 - accuracy: 0.7656WARNING:tensorflow:Callback method `on_train_batch_end` is slow compared to the batch time (batch time: 0.0776s vs `on_train_batch_end` time: 0.4446s). Check your callbacks.\n"
     ]
    },
    {
     "name": "stderr",
     "output_type": "stream",
     "text": [
      "WARNING:tensorflow:Callback method `on_train_batch_end` is slow compared to the batch time (batch time: 0.0776s vs `on_train_batch_end` time: 0.4446s). Check your callbacks.\n"
     ]
    },
    {
     "name": "stdout",
     "output_type": "stream",
     "text": [
      "181/181 [==============================] - ETA: 0s - loss: 2.4398e-05 - accuracy: 0.7329"
     ]
    },
    {
     "name": "stderr",
     "output_type": "stream",
     "text": [
      "WARNING:absl:Function `_wrapped_model` contains input name(s) Input with unsupported characters which will be renamed to input in the SavedModel.\n",
      "WARNING:absl:Found untraced functions such as lstm_cell_136_layer_call_fn, lstm_cell_136_layer_call_and_return_conditional_losses, lstm_cell_137_layer_call_fn, lstm_cell_137_layer_call_and_return_conditional_losses, lstm_cell_139_layer_call_fn while saving (showing 5 of 20). These functions will not be directly callable after loading.\n"
     ]
    },
    {
     "name": "stdout",
     "output_type": "stream",
     "text": [
      "INFO:tensorflow:Assets written to: experiments\\ResLSTM_Dec17_20-11-09\\base_ckpts\\cp_01.ckpt\\assets\n"
     ]
    },
    {
     "name": "stderr",
     "output_type": "stream",
     "text": [
      "INFO:tensorflow:Assets written to: experiments\\ResLSTM_Dec17_20-11-09\\base_ckpts\\cp_01.ckpt\\assets\n"
     ]
    },
    {
     "name": "stdout",
     "output_type": "stream",
     "text": [
      "181/181 [==============================] - 93s 504ms/step - loss: 2.4398e-05 - accuracy: 0.7329 - val_loss: 8.9310e-05 - val_accuracy: 0.7098 - lr: 0.1000\n",
      "Epoch 2/100\n",
      "181/181 [==============================] - 16s 85ms/step - loss: 1.5605e-05 - accuracy: 0.7375 - val_loss: 8.5520e-05 - val_accuracy: 0.7077 - lr: 0.0999\n",
      "Epoch 3/100\n",
      "180/181 [============================>.] - ETA: 0s - loss: 8.5171e-05 - accuracy: 0.7351"
     ]
    },
    {
     "name": "stderr",
     "output_type": "stream",
     "text": [
      "WARNING:absl:Function `_wrapped_model` contains input name(s) Input with unsupported characters which will be renamed to input in the SavedModel.\n",
      "WARNING:absl:Found untraced functions such as lstm_cell_136_layer_call_fn, lstm_cell_136_layer_call_and_return_conditional_losses, lstm_cell_137_layer_call_fn, lstm_cell_137_layer_call_and_return_conditional_losses, lstm_cell_139_layer_call_fn while saving (showing 5 of 20). These functions will not be directly callable after loading.\n"
     ]
    },
    {
     "name": "stdout",
     "output_type": "stream",
     "text": [
      "INFO:tensorflow:Assets written to: experiments\\ResLSTM_Dec17_20-11-09\\base_ckpts\\cp_03.ckpt\\assets\n"
     ]
    },
    {
     "name": "stderr",
     "output_type": "stream",
     "text": [
      "INFO:tensorflow:Assets written to: experiments\\ResLSTM_Dec17_20-11-09\\base_ckpts\\cp_03.ckpt\\assets\n"
     ]
    },
    {
     "name": "stdout",
     "output_type": "stream",
     "text": [
      "181/181 [==============================] - 87s 480ms/step - loss: 8.5127e-05 - accuracy: 0.7351 - val_loss: 8.9599e-05 - val_accuracy: 0.7140 - lr: 0.0996\n",
      "Epoch 4/100\n",
      "181/181 [==============================] - 16s 86ms/step - loss: 1.8808e-05 - accuracy: 0.7394 - val_loss: 8.0801e-05 - val_accuracy: 0.7140 - lr: 0.0991\n",
      "Epoch 5/100\n",
      "181/181 [==============================] - 16s 86ms/step - loss: 5.0584e-05 - accuracy: 0.7391 - val_loss: 8.2316e-05 - val_accuracy: 0.7098 - lr: 0.0984\n",
      "Epoch 6/100\n",
      "180/181 [============================>.] - ETA: 0s - loss: 2.6995e-05 - accuracy: 0.7339"
     ]
    },
    {
     "name": "stderr",
     "output_type": "stream",
     "text": [
      "WARNING:absl:Function `_wrapped_model` contains input name(s) Input with unsupported characters which will be renamed to input in the SavedModel.\n",
      "WARNING:absl:Found untraced functions such as lstm_cell_136_layer_call_fn, lstm_cell_136_layer_call_and_return_conditional_losses, lstm_cell_137_layer_call_fn, lstm_cell_137_layer_call_and_return_conditional_losses, lstm_cell_139_layer_call_fn while saving (showing 5 of 20). These functions will not be directly callable after loading.\n"
     ]
    },
    {
     "name": "stdout",
     "output_type": "stream",
     "text": [
      "INFO:tensorflow:Assets written to: experiments\\ResLSTM_Dec17_20-11-09\\base_ckpts\\cp_06.ckpt\\assets\n"
     ]
    },
    {
     "name": "stderr",
     "output_type": "stream",
     "text": [
      "INFO:tensorflow:Assets written to: experiments\\ResLSTM_Dec17_20-11-09\\base_ckpts\\cp_06.ckpt\\assets\n"
     ]
    },
    {
     "name": "stdout",
     "output_type": "stream",
     "text": [
      "181/181 [==============================] - 87s 484ms/step - loss: 2.6981e-05 - accuracy: 0.7339 - val_loss: 8.8435e-05 - val_accuracy: 0.7161 - lr: 0.0976\n",
      "Epoch 7/100\n",
      "181/181 [==============================] - 16s 85ms/step - loss: 1.6948e-05 - accuracy: 0.7393 - val_loss: 1.0565e-04 - val_accuracy: 0.7119 - lr: 0.0965\n",
      "Epoch 8/100\n",
      "181/181 [==============================] - 16s 86ms/step - loss: 1.3211e-05 - accuracy: 0.7355 - val_loss: 1.0532e-04 - val_accuracy: 0.7119 - lr: 0.0952\n",
      "Epoch 9/100\n",
      "181/181 [==============================] - 16s 86ms/step - loss: 3.5407e-05 - accuracy: 0.7387 - val_loss: 1.0076e-04 - val_accuracy: 0.7098 - lr: 0.0938\n",
      "Epoch 10/100\n",
      "181/181 [==============================] - 16s 87ms/step - loss: 1.9188e-05 - accuracy: 0.7371 - val_loss: 1.0278e-04 - val_accuracy: 0.7161 - lr: 0.0922\n",
      "Epoch 11/100\n",
      "181/181 [==============================] - ETA: 0s - loss: 3.5650e-05 - accuracy: 0.7298"
     ]
    },
    {
     "name": "stderr",
     "output_type": "stream",
     "text": [
      "WARNING:absl:Function `_wrapped_model` contains input name(s) Input with unsupported characters which will be renamed to input in the SavedModel.\n",
      "WARNING:absl:Found untraced functions such as lstm_cell_136_layer_call_fn, lstm_cell_136_layer_call_and_return_conditional_losses, lstm_cell_137_layer_call_fn, lstm_cell_137_layer_call_and_return_conditional_losses, lstm_cell_139_layer_call_fn while saving (showing 5 of 20). These functions will not be directly callable after loading.\n"
     ]
    },
    {
     "name": "stdout",
     "output_type": "stream",
     "text": [
      "INFO:tensorflow:Assets written to: experiments\\ResLSTM_Dec17_20-11-09\\base_ckpts\\cp_11.ckpt\\assets\n"
     ]
    },
    {
     "name": "stderr",
     "output_type": "stream",
     "text": [
      "INFO:tensorflow:Assets written to: experiments\\ResLSTM_Dec17_20-11-09\\base_ckpts\\cp_11.ckpt\\assets\n"
     ]
    },
    {
     "name": "stdout",
     "output_type": "stream",
     "text": [
      "181/181 [==============================] - 90s 501ms/step - loss: 3.5650e-05 - accuracy: 0.7298 - val_loss: 1.0515e-04 - val_accuracy: 0.7182 - lr: 0.0905\n",
      "Epoch 12/100\n",
      "181/181 [==============================] - 16s 85ms/step - loss: 1.8101e-05 - accuracy: 0.7362 - val_loss: 1.0341e-04 - val_accuracy: 0.7119 - lr: 0.0885\n",
      "Epoch 13/100\n",
      "181/181 [==============================] - 16s 86ms/step - loss: 1.7391e-05 - accuracy: 0.7314 - val_loss: 9.5322e-05 - val_accuracy: 0.7140 - lr: 0.0865\n",
      "Epoch 14/100\n",
      "181/181 [==============================] - 16s 86ms/step - loss: 1.8110e-05 - accuracy: 0.7412 - val_loss: 9.5724e-05 - val_accuracy: 0.7140 - lr: 0.0842\n",
      "Epoch 15/100\n",
      "181/181 [==============================] - 16s 87ms/step - loss: 1.6312e-05 - accuracy: 0.7320 - val_loss: 8.8958e-05 - val_accuracy: 0.7119 - lr: 0.0819\n",
      "Epoch 16/100\n",
      "181/181 [==============================] - 16s 86ms/step - loss: 8.6010e-06 - accuracy: 0.7270 - val_loss: 9.1411e-05 - val_accuracy: 0.7119 - lr: 0.0794\n",
      "Epoch 17/100\n",
      "181/181 [==============================] - 16s 86ms/step - loss: 1.3838e-05 - accuracy: 0.7373 - val_loss: 8.8683e-05 - val_accuracy: 0.7077 - lr: 0.0768\n",
      "Epoch 18/100\n",
      "181/181 [==============================] - 16s 86ms/step - loss: 1.4227e-05 - accuracy: 0.7287 - val_loss: 8.3981e-05 - val_accuracy: 0.7056 - lr: 0.0741\n",
      "Epoch 19/100\n",
      "181/181 [==============================] - 16s 87ms/step - loss: 2.3152e-05 - accuracy: 0.7348 - val_loss: 8.1203e-05 - val_accuracy: 0.7056 - lr: 0.0713\n",
      "Epoch 20/100\n",
      "181/181 [==============================] - 16s 86ms/step - loss: 9.1664e-06 - accuracy: 0.7320 - val_loss: 8.2102e-05 - val_accuracy: 0.7056 - lr: 0.0684\n",
      "Epoch 21/100\n",
      "181/181 [==============================] - 16s 86ms/step - loss: 3.5189e-05 - accuracy: 0.7356 - val_loss: 8.3452e-05 - val_accuracy: 0.7035 - lr: 0.0655\n",
      "Epoch 22/100\n",
      "181/181 [==============================] - 16s 86ms/step - loss: 1.4488e-05 - accuracy: 0.7290 - val_loss: 8.2483e-05 - val_accuracy: 0.7035 - lr: 0.0625\n",
      "Epoch 23/100\n",
      "181/181 [==============================] - 16s 86ms/step - loss: 2.1905e-05 - accuracy: 0.7402 - val_loss: 7.5260e-05 - val_accuracy: 0.7056 - lr: 0.0594\n",
      "Epoch 24/100\n",
      "181/181 [==============================] - 16s 86ms/step - loss: 7.0371e-06 - accuracy: 0.7348 - val_loss: 7.4885e-05 - val_accuracy: 0.7056 - lr: 0.0563\n",
      "Epoch 25/100\n",
      "181/181 [==============================] - 16s 87ms/step - loss: 4.2884e-05 - accuracy: 0.7274 - val_loss: 7.6472e-05 - val_accuracy: 0.7035 - lr: 0.0532\n",
      "Epoch 26/100\n",
      "181/181 [==============================] - 16s 86ms/step - loss: 1.3092e-05 - accuracy: 0.7225 - val_loss: 7.4730e-05 - val_accuracy: 0.7077 - lr: 0.0501\n",
      "Epoch 27/100\n",
      "181/181 [==============================] - 16s 86ms/step - loss: 1.8766e-05 - accuracy: 0.7322 - val_loss: 7.0997e-05 - val_accuracy: 0.7056 - lr: 0.0469\n",
      "Epoch 28/100\n",
      "181/181 [==============================] - 16s 86ms/step - loss: 1.0845e-05 - accuracy: 0.7327 - val_loss: 6.8596e-05 - val_accuracy: 0.7077 - lr: 0.0438\n",
      "Epoch 29/100\n",
      "181/181 [==============================] - 16s 87ms/step - loss: 1.7469e-05 - accuracy: 0.7342 - val_loss: 6.8481e-05 - val_accuracy: 0.7077 - lr: 0.0407\n",
      "Epoch 30/100\n",
      "181/181 [==============================] - 16s 86ms/step - loss: 2.9801e-05 - accuracy: 0.7326 - val_loss: 6.5940e-05 - val_accuracy: 0.7077 - lr: 0.0376\n",
      "Epoch 31/100\n",
      "181/181 [==============================] - 16s 87ms/step - loss: 1.3330e-05 - accuracy: 0.7349 - val_loss: 6.6747e-05 - val_accuracy: 0.7077 - lr: 0.0346\n",
      "Epoch 32/100\n",
      "181/181 [==============================] - 16s 87ms/step - loss: 1.9215e-05 - accuracy: 0.7289 - val_loss: 6.6795e-05 - val_accuracy: 0.7077 - lr: 0.0317\n",
      "Epoch 33/100\n",
      "181/181 [==============================] - 16s 86ms/step - loss: 4.2885e-05 - accuracy: 0.7284 - val_loss: 6.5486e-05 - val_accuracy: 0.7056 - lr: 0.0288\n",
      "Epoch 34/100\n",
      "181/181 [==============================] - 16s 86ms/step - loss: 2.2974e-05 - accuracy: 0.7317 - val_loss: 6.6815e-05 - val_accuracy: 0.7015 - lr: 0.0260\n",
      "Epoch 35/100\n",
      "181/181 [==============================] - 16s 86ms/step - loss: 1.4783e-05 - accuracy: 0.7350 - val_loss: 6.5808e-05 - val_accuracy: 0.7015 - lr: 0.0233\n",
      "Epoch 36/100\n",
      "181/181 [==============================] - 16s 87ms/step - loss: 4.3087e-05 - accuracy: 0.7214 - val_loss: 6.9429e-05 - val_accuracy: 0.7035 - lr: 0.0207\n",
      "Epoch 37/100\n",
      "181/181 [==============================] - 16s 87ms/step - loss: 4.6897e-05 - accuracy: 0.7304 - val_loss: 6.7537e-05 - val_accuracy: 0.7015 - lr: 0.0182\n",
      "Epoch 38/100\n",
      "181/181 [==============================] - 16s 86ms/step - loss: 2.4542e-05 - accuracy: 0.7375 - val_loss: 6.9231e-05 - val_accuracy: 0.7015 - lr: 0.0159\n",
      "Epoch 39/100\n",
      "181/181 [==============================] - 16s 86ms/step - loss: 3.5326e-05 - accuracy: 0.7279 - val_loss: 7.3542e-05 - val_accuracy: 0.7015 - lr: 0.0136\n",
      "Epoch 40/100\n",
      "181/181 [==============================] - 16s 86ms/step - loss: 2.3035e-05 - accuracy: 0.7290 - val_loss: 7.3523e-05 - val_accuracy: 0.7015 - lr: 0.0116\n",
      "Epoch 41/100\n",
      "181/181 [==============================] - 16s 86ms/step - loss: 1.3861e-05 - accuracy: 0.7350 - val_loss: 7.3734e-05 - val_accuracy: 0.7015 - lr: 0.0096\n",
      "Epoch 42/100\n",
      "181/181 [==============================] - 16s 86ms/step - loss: 1.8474e-05 - accuracy: 0.7309 - val_loss: 7.3641e-05 - val_accuracy: 0.7015 - lr: 0.0079\n",
      "Epoch 43/100\n",
      "181/181 [==============================] - 16s 86ms/step - loss: 6.1713e-06 - accuracy: 0.7362 - val_loss: 7.3540e-05 - val_accuracy: 0.7015 - lr: 0.0063\n",
      "Epoch 44/100\n",
      "181/181 [==============================] - 16s 86ms/step - loss: 1.9205e-05 - accuracy: 0.7355 - val_loss: 7.3956e-05 - val_accuracy: 0.7015 - lr: 0.0049\n",
      "Epoch 45/100\n",
      "181/181 [==============================] - 16s 86ms/step - loss: 4.9554e-05 - accuracy: 0.7294 - val_loss: 7.4250e-05 - val_accuracy: 0.7015 - lr: 0.0036\n",
      "Epoch 46/100\n",
      "181/181 [==============================] - 16s 87ms/step - loss: 2.2606e-05 - accuracy: 0.7326 - val_loss: 7.4768e-05 - val_accuracy: 0.7015 - lr: 0.0025\n",
      "Epoch 47/100\n",
      "181/181 [==============================] - 16s 87ms/step - loss: 6.9496e-06 - accuracy: 0.7313 - val_loss: 7.4670e-05 - val_accuracy: 0.7015 - lr: 0.0017\n",
      "Epoch 48/100\n",
      "181/181 [==============================] - 16s 86ms/step - loss: 1.6122e-05 - accuracy: 0.7335 - val_loss: 7.4714e-05 - val_accuracy: 0.7015 - lr: 9.8475e-04\n",
      "Epoch 49/100\n",
      "181/181 [==============================] - 16s 87ms/step - loss: 1.3063e-05 - accuracy: 0.7346 - val_loss: 7.4767e-05 - val_accuracy: 0.7015 - lr: 4.9387e-04\n",
      "Epoch 50/100\n",
      "181/181 [==============================] - 16s 87ms/step - loss: 2.3537e-05 - accuracy: 0.7340 - val_loss: 7.4725e-05 - val_accuracy: 0.7015 - lr: 1.9856e-04\n",
      "Epoch 51/100\n",
      "181/181 [==============================] - 16s 86ms/step - loss: 3.5896e-05 - accuracy: 0.7317 - val_loss: 7.4744e-05 - val_accuracy: 0.7015 - lr: 1.0000e-04\n",
      "Epoch 52/100\n",
      "181/181 [==============================] - 16s 86ms/step - loss: 6.2340e-05 - accuracy: 0.7337 - val_loss: 7.4703e-05 - val_accuracy: 0.7015 - lr: 1.9856e-04\n",
      "Epoch 53/100\n",
      "181/181 [==============================] - 16s 86ms/step - loss: 2.8974e-05 - accuracy: 0.7349 - val_loss: 7.4697e-05 - val_accuracy: 0.7015 - lr: 4.9387e-04\n",
      "Epoch 54/100\n",
      "181/181 [==============================] - 16s 86ms/step - loss: 1.1360e-05 - accuracy: 0.7357 - val_loss: 7.4685e-05 - val_accuracy: 0.7015 - lr: 9.8475e-04\n",
      "Epoch 55/100\n",
      "181/181 [==============================] - 16s 86ms/step - loss: 4.4807e-05 - accuracy: 0.7345 - val_loss: 7.5188e-05 - val_accuracy: 0.7015 - lr: 0.0017\n",
      "Epoch 56/100\n",
      "181/181 [==============================] - 16s 86ms/step - loss: 5.1591e-05 - accuracy: 0.7349 - val_loss: 7.5130e-05 - val_accuracy: 0.6994 - lr: 0.0025\n",
      "Epoch 57/100\n",
      "181/181 [==============================] - 16s 86ms/step - loss: 2.3591e-05 - accuracy: 0.7361 - val_loss: 7.5177e-05 - val_accuracy: 0.6994 - lr: 0.0036\n",
      "Epoch 58/100\n",
      "181/181 [==============================] - 16s 86ms/step - loss: 2.4506e-05 - accuracy: 0.7314 - val_loss: 7.5200e-05 - val_accuracy: 0.6994 - lr: 0.0049\n",
      "Epoch 59/100\n",
      "181/181 [==============================] - 16s 87ms/step - loss: 2.6675e-05 - accuracy: 0.7334 - val_loss: 7.5029e-05 - val_accuracy: 0.6994 - lr: 0.0063\n"
     ]
    },
    {
     "name": "stdout",
     "output_type": "stream",
     "text": [
      "Epoch 60/100\n",
      "181/181 [==============================] - 16s 86ms/step - loss: 1.5265e-05 - accuracy: 0.7313 - val_loss: 7.4422e-05 - val_accuracy: 0.6994 - lr: 0.0079\n",
      "Epoch 61/100\n",
      "181/181 [==============================] - 16s 86ms/step - loss: 2.1845e-05 - accuracy: 0.7324 - val_loss: 7.6484e-05 - val_accuracy: 0.6994 - lr: 0.0096\n",
      "Epoch 62/100\n",
      "181/181 [==============================] - 16s 86ms/step - loss: 2.3578e-05 - accuracy: 0.7326 - val_loss: 7.6309e-05 - val_accuracy: 0.6994 - lr: 0.0116\n",
      "Epoch 63/100\n",
      "181/181 [==============================] - 16s 86ms/step - loss: 2.1554e-05 - accuracy: 0.7275 - val_loss: 7.5982e-05 - val_accuracy: 0.7015 - lr: 0.0136\n",
      "Epoch 64/100\n",
      "181/181 [==============================] - 16s 86ms/step - loss: 2.5376e-05 - accuracy: 0.7297 - val_loss: 7.4729e-05 - val_accuracy: 0.7015 - lr: 0.0159\n",
      "Epoch 65/100\n",
      "181/181 [==============================] - 16s 87ms/step - loss: 2.2249e-05 - accuracy: 0.7279 - val_loss: 7.4818e-05 - val_accuracy: 0.7015 - lr: 0.0182\n",
      "Epoch 66/100\n",
      "181/181 [==============================] - 16s 86ms/step - loss: 1.3215e-05 - accuracy: 0.7342 - val_loss: 7.4153e-05 - val_accuracy: 0.7015 - lr: 0.0207\n",
      "Epoch 67/100\n",
      "181/181 [==============================] - 16s 86ms/step - loss: 1.8223e-05 - accuracy: 0.7331 - val_loss: 7.5155e-05 - val_accuracy: 0.7015 - lr: 0.0233\n",
      "Epoch 68/100\n",
      "181/181 [==============================] - 16s 86ms/step - loss: 9.1572e-06 - accuracy: 0.7309 - val_loss: 7.4974e-05 - val_accuracy: 0.7015 - lr: 0.0260\n",
      "Epoch 69/100\n",
      "181/181 [==============================] - 16s 86ms/step - loss: 4.6947e-05 - accuracy: 0.7335 - val_loss: 7.9457e-05 - val_accuracy: 0.6973 - lr: 0.0288\n",
      "Epoch 70/100\n",
      "181/181 [==============================] - 16s 87ms/step - loss: 9.3693e-06 - accuracy: 0.7377 - val_loss: 7.8014e-05 - val_accuracy: 0.6952 - lr: 0.0317\n",
      "Epoch 71/100\n",
      "181/181 [==============================] - 16s 86ms/step - loss: 5.4125e-06 - accuracy: 0.7330 - val_loss: 7.7750e-05 - val_accuracy: 0.6973 - lr: 0.0346\n",
      "Epoch 72/100\n",
      "181/181 [==============================] - 16s 86ms/step - loss: 1.9918e-05 - accuracy: 0.7337 - val_loss: 7.5455e-05 - val_accuracy: 0.6952 - lr: 0.0376\n",
      "Epoch 73/100\n",
      "181/181 [==============================] - 16s 87ms/step - loss: 1.5921e-05 - accuracy: 0.7359 - val_loss: 7.4059e-05 - val_accuracy: 0.6973 - lr: 0.0407\n",
      "Epoch 74/100\n",
      "181/181 [==============================] - 16s 87ms/step - loss: 1.1460e-05 - accuracy: 0.7280 - val_loss: 7.2287e-05 - val_accuracy: 0.6973 - lr: 0.0438\n",
      "Epoch 75/100\n",
      "181/181 [==============================] - 16s 87ms/step - loss: 4.7863e-05 - accuracy: 0.7409 - val_loss: 7.5878e-05 - val_accuracy: 0.6952 - lr: 0.0469\n",
      "Epoch 76/100\n",
      "181/181 [==============================] - 16s 86ms/step - loss: 7.9503e-06 - accuracy: 0.7290 - val_loss: 7.3659e-05 - val_accuracy: 0.6952 - lr: 0.0501\n",
      "Epoch 77/100\n",
      "181/181 [==============================] - 16s 87ms/step - loss: 9.4020e-06 - accuracy: 0.7268 - val_loss: 7.0750e-05 - val_accuracy: 0.6952 - lr: 0.0532\n",
      "Epoch 78/100\n",
      "181/181 [==============================] - 16s 87ms/step - loss: 4.9387e-05 - accuracy: 0.7294 - val_loss: 7.3059e-05 - val_accuracy: 0.7015 - lr: 0.0563\n",
      "Epoch 79/100\n",
      "181/181 [==============================] - 16s 86ms/step - loss: 2.0838e-05 - accuracy: 0.7322 - val_loss: 7.2732e-05 - val_accuracy: 0.7015 - lr: 0.0594\n",
      "Epoch 80/100\n",
      "181/181 [==============================] - 16s 86ms/step - loss: 5.4827e-06 - accuracy: 0.7319 - val_loss: 7.0510e-05 - val_accuracy: 0.7015 - lr: 0.0625\n",
      "Epoch 81/100\n",
      "181/181 [==============================] - 16s 87ms/step - loss: 3.8938e-05 - accuracy: 0.7328 - val_loss: 6.9274e-05 - val_accuracy: 0.7015 - lr: 0.0655\n",
      "Epoch 82/100\n",
      "181/181 [==============================] - 16s 87ms/step - loss: 7.4458e-06 - accuracy: 0.7278 - val_loss: 6.8855e-05 - val_accuracy: 0.7015 - lr: 0.0684\n",
      "Epoch 83/100\n",
      "181/181 [==============================] - 16s 87ms/step - loss: 1.8423e-05 - accuracy: 0.7312 - val_loss: 6.5839e-05 - val_accuracy: 0.6994 - lr: 0.0713\n",
      "Epoch 84/100\n",
      "181/181 [==============================] - 16s 87ms/step - loss: 1.2658e-05 - accuracy: 0.7307 - val_loss: 6.2980e-05 - val_accuracy: 0.7015 - lr: 0.0741\n",
      "Epoch 85/100\n",
      "181/181 [==============================] - 16s 87ms/step - loss: 1.9301e-05 - accuracy: 0.7323 - val_loss: 6.0452e-05 - val_accuracy: 0.7035 - lr: 0.0768\n",
      "Epoch 86/100\n",
      "181/181 [==============================] - 16s 86ms/step - loss: 6.5605e-05 - accuracy: 0.7261 - val_loss: 5.9404e-05 - val_accuracy: 0.6994 - lr: 0.0794\n",
      "Epoch 87/100\n",
      "181/181 [==============================] - 16s 86ms/step - loss: 1.3881e-05 - accuracy: 0.7318 - val_loss: 5.2248e-05 - val_accuracy: 0.6994 - lr: 0.0819\n",
      "Epoch 88/100\n",
      "181/181 [==============================] - 16s 86ms/step - loss: 2.2503e-05 - accuracy: 0.7316 - val_loss: 5.3838e-05 - val_accuracy: 0.6994 - lr: 0.0842\n",
      "Epoch 89/100\n",
      "181/181 [==============================] - 16s 86ms/step - loss: 2.4843e-05 - accuracy: 0.7353 - val_loss: 7.0444e-05 - val_accuracy: 0.7015 - lr: 0.0865\n",
      "Epoch 90/100\n",
      "181/181 [==============================] - 16s 87ms/step - loss: 2.5148e-05 - accuracy: 0.7264 - val_loss: 7.1884e-05 - val_accuracy: 0.6973 - lr: 0.0885\n",
      "Epoch 91/100\n",
      "181/181 [==============================] - 16s 86ms/step - loss: 2.9048e-05 - accuracy: 0.7221 - val_loss: 6.8854e-05 - val_accuracy: 0.6994 - lr: 0.0905\n",
      "Epoch 92/100\n",
      "181/181 [==============================] - 16s 87ms/step - loss: 1.0947e-05 - accuracy: 0.7331 - val_loss: 6.7531e-05 - val_accuracy: 0.6994 - lr: 0.0922\n",
      "Epoch 93/100\n",
      "181/181 [==============================] - 16s 86ms/step - loss: 2.1747e-05 - accuracy: 0.7340 - val_loss: 6.8011e-05 - val_accuracy: 0.7056 - lr: 0.0938\n",
      "Epoch 94/100\n",
      "181/181 [==============================] - 16s 87ms/step - loss: 1.4723e-05 - accuracy: 0.7289 - val_loss: 6.5258e-05 - val_accuracy: 0.7056 - lr: 0.0952\n",
      "Epoch 95/100\n",
      "181/181 [==============================] - 16s 86ms/step - loss: 1.8388e-05 - accuracy: 0.7349 - val_loss: 6.4340e-05 - val_accuracy: 0.7015 - lr: 0.0965\n",
      "Epoch 96/100\n",
      "181/181 [==============================] - 16s 86ms/step - loss: 7.6460e-05 - accuracy: 0.7236 - val_loss: 6.6954e-05 - val_accuracy: 0.6973 - lr: 0.0976\n",
      "Epoch 97/100\n",
      "181/181 [==============================] - 16s 87ms/step - loss: 1.6023e-05 - accuracy: 0.7250 - val_loss: 6.7971e-05 - val_accuracy: 0.6973 - lr: 0.0984\n",
      "Epoch 98/100\n",
      "181/181 [==============================] - 16s 86ms/step - loss: 8.6186e-06 - accuracy: 0.7298 - val_loss: 6.7550e-05 - val_accuracy: 0.6973 - lr: 0.0991\n",
      "Epoch 99/100\n",
      "181/181 [==============================] - 16s 86ms/step - loss: 1.0699e-05 - accuracy: 0.7256 - val_loss: 6.9476e-05 - val_accuracy: 0.6973 - lr: 0.0996\n",
      "Epoch 100/100\n",
      "181/181 [==============================] - 16s 87ms/step - loss: 1.7103e-05 - accuracy: 0.7306 - val_loss: 7.0978e-05 - val_accuracy: 0.6973 - lr: 0.0999\n"
     ]
    }
   ],
   "source": [
    "callbacks, date = create_folders_and_callbacks(foldermode)\n",
    "callbacks.append(CosineAnnealingScheduler(T_max=50, eta_max=1e-1, eta_min=1e-4))\n",
    "history = model.fit(\n",
    "    generator,\n",
    "    validation_data = val_generator,\n",
    "    epochs = 100,\n",
    "    shuffle=False,\n",
    "    callbacks=callbacks\n",
    ").history"
   ]
  },
  {
   "cell_type": "code",
   "execution_count": 75,
   "metadata": {
    "pycharm": {
     "name": "#%%\n"
    }
   },
   "outputs": [],
   "source": [
    "model=tfk.models.load_model(\"experiments/KF_3.ckpt/base_ckpts/cp_375.ckpt\")"
   ]
  },
  {
   "cell_type": "code",
   "execution_count": 76,
   "metadata": {
    "pycharm": {
     "name": "#%%\n"
    }
   },
   "outputs": [],
   "source": [
    "model.compile(\n",
    "            loss=categorical_focal_loss,\n",
    "            optimizer=tfk.optimizers.SGD(learning_rate=1e-1),\n",
    "            metrics=['accuracy']\n",
    "        )"
   ]
  },
  {
   "cell_type": "code",
   "execution_count": 77,
   "metadata": {
    "pycharm": {
     "name": "#%%\n"
    }
   },
   "outputs": [
    {
     "name": "stdout",
     "output_type": "stream",
     "text": [
      "Dec17_20-43-23\n",
      "ResLSTM_Dec17_20-43-23\n"
     ]
    }
   ],
   "source": [
    "generator=AugmentDataGenerator(X_train_KF[3],y_train_KF[3],p=0.5)\n",
    "val_generator=AugmentDataGenerator(X_val_KF[3],y_val_KF[3],p=0)\n",
    "callbacks, date = create_folders_and_callbacks(foldermode)\n",
    "callbacks.append(CosineAnnealingScheduler(T_max=50, eta_max=1e-1, eta_min=1e-4))\n",
    "\n",
    "foldername = foldermode + '_' + str(date)\n",
    "print(foldername)"
   ]
  },
  {
   "cell_type": "code",
   "execution_count": 78,
   "metadata": {
    "pycharm": {
     "name": "#%%\n"
    }
   },
   "outputs": [
    {
     "name": "stdout",
     "output_type": "stream",
     "text": [
      "Epoch 1/100\n",
      "  6/181 [..............................] - ETA: 19s - loss: 4.1609e-05 - accuracy: 0.8203WARNING:tensorflow:Callback method `on_train_batch_end` is slow compared to the batch time (batch time: 0.0820s vs `on_train_batch_end` time: 0.4455s). Check your callbacks.\n"
     ]
    },
    {
     "name": "stderr",
     "output_type": "stream",
     "text": [
      "WARNING:tensorflow:Callback method `on_train_batch_end` is slow compared to the batch time (batch time: 0.0820s vs `on_train_batch_end` time: 0.4455s). Check your callbacks.\n"
     ]
    },
    {
     "name": "stdout",
     "output_type": "stream",
     "text": [
      "180/181 [============================>.] - ETA: 0s - loss: 5.0462e-04 - accuracy: 0.8263"
     ]
    },
    {
     "name": "stderr",
     "output_type": "stream",
     "text": [
      "WARNING:absl:Function `_wrapped_model` contains input name(s) Input with unsupported characters which will be renamed to input in the SavedModel.\n",
      "WARNING:absl:Found untraced functions such as lstm_cell_151_layer_call_fn, lstm_cell_151_layer_call_and_return_conditional_losses, lstm_cell_152_layer_call_fn, lstm_cell_152_layer_call_and_return_conditional_losses, lstm_cell_154_layer_call_fn while saving (showing 5 of 20). These functions will not be directly callable after loading.\n"
     ]
    },
    {
     "name": "stdout",
     "output_type": "stream",
     "text": [
      "INFO:tensorflow:Assets written to: experiments\\ResLSTM_Dec17_20-43-23\\base_ckpts\\cp_01.ckpt\\assets\n"
     ]
    },
    {
     "name": "stderr",
     "output_type": "stream",
     "text": [
      "INFO:tensorflow:Assets written to: experiments\\ResLSTM_Dec17_20-43-23\\base_ckpts\\cp_01.ckpt\\assets\n"
     ]
    },
    {
     "name": "stdout",
     "output_type": "stream",
     "text": [
      "181/181 [==============================] - 105s 515ms/step - loss: 5.0441e-04 - accuracy: 0.8263 - val_loss: 0.0175 - val_accuracy: 0.7286 - lr: 0.1000\n",
      "Epoch 2/100\n",
      "181/181 [==============================] - 16s 86ms/step - loss: 3.1624e-04 - accuracy: 0.8161 - val_loss: 0.0157 - val_accuracy: 0.7203 - lr: 0.0999\n",
      "Epoch 3/100\n",
      "181/181 [==============================] - 16s 86ms/step - loss: 4.0806e-04 - accuracy: 0.8098 - val_loss: 0.0137 - val_accuracy: 0.7161 - lr: 0.0996\n",
      "Epoch 4/100\n",
      "181/181 [==============================] - 16s 87ms/step - loss: 3.4350e-04 - accuracy: 0.8042 - val_loss: 0.0129 - val_accuracy: 0.7015 - lr: 0.0991\n",
      "Epoch 5/100\n",
      "181/181 [==============================] - 16s 87ms/step - loss: 2.2145e-04 - accuracy: 0.7938 - val_loss: 0.0123 - val_accuracy: 0.6827 - lr: 0.0984\n",
      "Epoch 6/100\n",
      "181/181 [==============================] - 16s 87ms/step - loss: 3.3899e-04 - accuracy: 0.7996 - val_loss: 0.0107 - val_accuracy: 0.6994 - lr: 0.0976\n",
      "Epoch 7/100\n",
      "181/181 [==============================] - 16s 87ms/step - loss: 2.2036e-04 - accuracy: 0.7912 - val_loss: 0.0098 - val_accuracy: 0.6910 - lr: 0.0965\n",
      "Epoch 8/100\n",
      "181/181 [==============================] - 16s 87ms/step - loss: 3.3564e-04 - accuracy: 0.7924 - val_loss: 0.0090 - val_accuracy: 0.6973 - lr: 0.0952\n",
      "Epoch 9/100\n",
      "181/181 [==============================] - 16s 87ms/step - loss: 2.3600e-04 - accuracy: 0.7959 - val_loss: 0.0092 - val_accuracy: 0.6868 - lr: 0.0938\n",
      "Epoch 10/100\n",
      "181/181 [==============================] - 16s 87ms/step - loss: 2.0532e-04 - accuracy: 0.8013 - val_loss: 0.0085 - val_accuracy: 0.6764 - lr: 0.0922\n",
      "Epoch 11/100\n",
      "181/181 [==============================] - 16s 87ms/step - loss: 2.1540e-04 - accuracy: 0.7897 - val_loss: 0.0078 - val_accuracy: 0.6806 - lr: 0.0905\n",
      "Epoch 12/100\n",
      "181/181 [==============================] - 16s 87ms/step - loss: 1.2203e-04 - accuracy: 0.7964 - val_loss: 0.0078 - val_accuracy: 0.6764 - lr: 0.0885\n",
      "Epoch 13/100\n",
      "181/181 [==============================] - 16s 87ms/step - loss: 2.4157e-04 - accuracy: 0.7853 - val_loss: 0.0073 - val_accuracy: 0.6701 - lr: 0.0865\n",
      "Epoch 14/100\n",
      "181/181 [==============================] - 16s 87ms/step - loss: 2.5128e-04 - accuracy: 0.7929 - val_loss: 0.0065 - val_accuracy: 0.6785 - lr: 0.0842\n",
      "Epoch 15/100\n",
      "181/181 [==============================] - 16s 87ms/step - loss: 2.4081e-04 - accuracy: 0.7863 - val_loss: 0.0063 - val_accuracy: 0.6722 - lr: 0.0819\n",
      "Epoch 16/100\n",
      "181/181 [==============================] - 16s 86ms/step - loss: 1.6388e-04 - accuracy: 0.7912 - val_loss: 0.0063 - val_accuracy: 0.6701 - lr: 0.0794\n",
      "Epoch 17/100\n",
      "181/181 [==============================] - 16s 87ms/step - loss: 1.2808e-04 - accuracy: 0.7826 - val_loss: 0.0058 - val_accuracy: 0.6660 - lr: 0.0768\n",
      "Epoch 18/100\n",
      "181/181 [==============================] - 16s 87ms/step - loss: 1.6776e-04 - accuracy: 0.7857 - val_loss: 0.0055 - val_accuracy: 0.6639 - lr: 0.0741\n",
      "Epoch 19/100\n",
      "181/181 [==============================] - 16s 87ms/step - loss: 3.3160e-04 - accuracy: 0.7833 - val_loss: 0.0052 - val_accuracy: 0.6597 - lr: 0.0713\n",
      "Epoch 20/100\n",
      "181/181 [==============================] - 16s 87ms/step - loss: 1.5018e-04 - accuracy: 0.7784 - val_loss: 0.0051 - val_accuracy: 0.6472 - lr: 0.0684\n",
      "Epoch 21/100\n",
      "181/181 [==============================] - 16s 87ms/step - loss: 1.7627e-04 - accuracy: 0.7716 - val_loss: 0.0048 - val_accuracy: 0.6472 - lr: 0.0655\n",
      "Epoch 22/100\n",
      "181/181 [==============================] - 16s 87ms/step - loss: 1.4027e-04 - accuracy: 0.7708 - val_loss: 0.0051 - val_accuracy: 0.6493 - lr: 0.0625\n",
      "Epoch 23/100\n",
      "181/181 [==============================] - 16s 87ms/step - loss: 1.9835e-04 - accuracy: 0.7759 - val_loss: 0.0052 - val_accuracy: 0.6472 - lr: 0.0594\n",
      "Epoch 24/100\n",
      "181/181 [==============================] - 16s 87ms/step - loss: 1.0736e-04 - accuracy: 0.7776 - val_loss: 0.0054 - val_accuracy: 0.6534 - lr: 0.0563\n",
      "Epoch 25/100\n",
      "181/181 [==============================] - 16s 88ms/step - loss: 1.0960e-04 - accuracy: 0.7806 - val_loss: 0.0053 - val_accuracy: 0.6534 - lr: 0.0532\n",
      "Epoch 26/100\n",
      "181/181 [==============================] - 16s 87ms/step - loss: 1.0369e-04 - accuracy: 0.7786 - val_loss: 0.0055 - val_accuracy: 0.6430 - lr: 0.0501\n",
      "Epoch 27/100\n",
      "181/181 [==============================] - 16s 87ms/step - loss: 1.4658e-04 - accuracy: 0.7870 - val_loss: 0.0054 - val_accuracy: 0.6534 - lr: 0.0469\n",
      "Epoch 28/100\n",
      "181/181 [==============================] - 16s 87ms/step - loss: 1.8118e-04 - accuracy: 0.7702 - val_loss: 0.0055 - val_accuracy: 0.6514 - lr: 0.0438\n",
      "Epoch 29/100\n",
      "181/181 [==============================] - 16s 88ms/step - loss: 1.2364e-04 - accuracy: 0.7754 - val_loss: 0.0056 - val_accuracy: 0.6451 - lr: 0.0407\n",
      "Epoch 30/100\n",
      "181/181 [==============================] - 16s 86ms/step - loss: 1.2171e-04 - accuracy: 0.7741 - val_loss: 0.0054 - val_accuracy: 0.6472 - lr: 0.0376\n",
      "Epoch 31/100\n",
      "181/181 [==============================] - 16s 87ms/step - loss: 1.3851e-04 - accuracy: 0.7738 - val_loss: 0.0054 - val_accuracy: 0.6472 - lr: 0.0346\n",
      "Epoch 32/100\n",
      "181/181 [==============================] - 16s 87ms/step - loss: 1.8527e-04 - accuracy: 0.7717 - val_loss: 0.0054 - val_accuracy: 0.6388 - lr: 0.0317\n",
      "Epoch 33/100\n",
      "181/181 [==============================] - 16s 87ms/step - loss: 1.3955e-04 - accuracy: 0.7767 - val_loss: 0.0052 - val_accuracy: 0.6451 - lr: 0.0288\n",
      "Epoch 34/100\n",
      "181/181 [==============================] - 16s 87ms/step - loss: 8.3804e-05 - accuracy: 0.7710 - val_loss: 0.0053 - val_accuracy: 0.6451 - lr: 0.0260\n",
      "Epoch 35/100\n",
      "181/181 [==============================] - 16s 88ms/step - loss: 9.0166e-05 - accuracy: 0.7743 - val_loss: 0.0053 - val_accuracy: 0.6430 - lr: 0.0233\n",
      "Epoch 36/100\n",
      "181/181 [==============================] - 16s 88ms/step - loss: 2.0912e-04 - accuracy: 0.7707 - val_loss: 0.0054 - val_accuracy: 0.6430 - lr: 0.0207\n",
      "Epoch 37/100\n",
      "181/181 [==============================] - 16s 87ms/step - loss: 9.0086e-05 - accuracy: 0.7669 - val_loss: 0.0055 - val_accuracy: 0.6472 - lr: 0.0182\n",
      "Epoch 38/100\n",
      "181/181 [==============================] - 16s 87ms/step - loss: 1.1355e-04 - accuracy: 0.7705 - val_loss: 0.0055 - val_accuracy: 0.6493 - lr: 0.0159\n",
      "Epoch 39/100\n",
      "181/181 [==============================] - 16s 88ms/step - loss: 1.3585e-04 - accuracy: 0.7686 - val_loss: 0.0055 - val_accuracy: 0.6493 - lr: 0.0136\n",
      "Epoch 40/100\n",
      "181/181 [==============================] - 16s 88ms/step - loss: 1.0708e-04 - accuracy: 0.7698 - val_loss: 0.0055 - val_accuracy: 0.6451 - lr: 0.0116\n",
      "Epoch 41/100\n",
      "181/181 [==============================] - 16s 87ms/step - loss: 1.9728e-04 - accuracy: 0.7774 - val_loss: 0.0056 - val_accuracy: 0.6451 - lr: 0.0096\n",
      "Epoch 42/100\n",
      "181/181 [==============================] - 16s 87ms/step - loss: 1.6387e-04 - accuracy: 0.7704 - val_loss: 0.0055 - val_accuracy: 0.6409 - lr: 0.0079\n",
      "Epoch 43/100\n",
      "181/181 [==============================] - 16s 87ms/step - loss: 8.9854e-05 - accuracy: 0.7706 - val_loss: 0.0054 - val_accuracy: 0.6430 - lr: 0.0063\n",
      "Epoch 44/100\n",
      "181/181 [==============================] - 16s 87ms/step - loss: 1.1728e-04 - accuracy: 0.7715 - val_loss: 0.0054 - val_accuracy: 0.6472 - lr: 0.0049\n",
      "Epoch 45/100\n",
      "181/181 [==============================] - 16s 87ms/step - loss: 1.3804e-04 - accuracy: 0.7686 - val_loss: 0.0054 - val_accuracy: 0.6472 - lr: 0.0036\n",
      "Epoch 46/100\n",
      "181/181 [==============================] - 16s 87ms/step - loss: 2.2830e-04 - accuracy: 0.7742 - val_loss: 0.0054 - val_accuracy: 0.6430 - lr: 0.0025\n",
      "Epoch 47/100\n",
      "181/181 [==============================] - 16s 88ms/step - loss: 1.2952e-04 - accuracy: 0.7700 - val_loss: 0.0054 - val_accuracy: 0.6388 - lr: 0.0017\n",
      "Epoch 48/100\n",
      "181/181 [==============================] - 16s 87ms/step - loss: 1.1546e-04 - accuracy: 0.7735 - val_loss: 0.0054 - val_accuracy: 0.6409 - lr: 9.8475e-04\n",
      "Epoch 49/100\n",
      "181/181 [==============================] - 16s 87ms/step - loss: 1.2902e-04 - accuracy: 0.7682 - val_loss: 0.0054 - val_accuracy: 0.6388 - lr: 4.9387e-04\n",
      "Epoch 50/100\n",
      "181/181 [==============================] - 16s 87ms/step - loss: 1.2134e-04 - accuracy: 0.7716 - val_loss: 0.0054 - val_accuracy: 0.6388 - lr: 1.9856e-04\n",
      "Epoch 51/100\n",
      "181/181 [==============================] - 16s 87ms/step - loss: 1.7257e-04 - accuracy: 0.7734 - val_loss: 0.0054 - val_accuracy: 0.6388 - lr: 1.0000e-04\n",
      "Epoch 52/100\n",
      "181/181 [==============================] - 16s 88ms/step - loss: 1.9097e-04 - accuracy: 0.7715 - val_loss: 0.0054 - val_accuracy: 0.6388 - lr: 1.9856e-04\n",
      "Epoch 53/100\n",
      "181/181 [==============================] - 16s 88ms/step - loss: 8.0781e-05 - accuracy: 0.7662 - val_loss: 0.0054 - val_accuracy: 0.6388 - lr: 4.9387e-04\n",
      "Epoch 54/100\n",
      "181/181 [==============================] - 16s 87ms/step - loss: 9.8381e-05 - accuracy: 0.7749 - val_loss: 0.0054 - val_accuracy: 0.6409 - lr: 9.8475e-04\n",
      "Epoch 55/100\n",
      "181/181 [==============================] - 16s 87ms/step - loss: 1.4238e-04 - accuracy: 0.7731 - val_loss: 0.0054 - val_accuracy: 0.6409 - lr: 0.0017\n",
      "Epoch 56/100\n",
      "181/181 [==============================] - 16s 88ms/step - loss: 5.7140e-05 - accuracy: 0.7650 - val_loss: 0.0054 - val_accuracy: 0.6409 - lr: 0.0025\n",
      "Epoch 57/100\n",
      "181/181 [==============================] - 16s 88ms/step - loss: 1.6637e-04 - accuracy: 0.7691 - val_loss: 0.0054 - val_accuracy: 0.6388 - lr: 0.0036\n",
      "Epoch 58/100\n",
      "181/181 [==============================] - 16s 87ms/step - loss: 8.3617e-05 - accuracy: 0.7774 - val_loss: 0.0054 - val_accuracy: 0.6409 - lr: 0.0049\n",
      "Epoch 59/100\n",
      "181/181 [==============================] - 16s 87ms/step - loss: 1.4262e-04 - accuracy: 0.7759 - val_loss: 0.0054 - val_accuracy: 0.6430 - lr: 0.0063\n",
      "Epoch 60/100\n",
      "181/181 [==============================] - 16s 88ms/step - loss: 2.0237e-04 - accuracy: 0.7780 - val_loss: 0.0052 - val_accuracy: 0.6472 - lr: 0.0079\n",
      "Epoch 61/100\n",
      "181/181 [==============================] - 16s 88ms/step - loss: 2.2976e-04 - accuracy: 0.7658 - val_loss: 0.0053 - val_accuracy: 0.6409 - lr: 0.0096\n",
      "Epoch 62/100\n",
      "181/181 [==============================] - 16s 87ms/step - loss: 1.1401e-04 - accuracy: 0.7722 - val_loss: 0.0054 - val_accuracy: 0.6388 - lr: 0.0116\n",
      "Epoch 63/100\n",
      "181/181 [==============================] - 16s 87ms/step - loss: 1.0420e-04 - accuracy: 0.7763 - val_loss: 0.0054 - val_accuracy: 0.6326 - lr: 0.0136\n",
      "Epoch 64/100\n",
      "181/181 [==============================] - 16s 86ms/step - loss: 8.2117e-05 - accuracy: 0.7685 - val_loss: 0.0054 - val_accuracy: 0.6347 - lr: 0.0159\n",
      "Epoch 65/100\n",
      "181/181 [==============================] - 16s 88ms/step - loss: 6.2669e-05 - accuracy: 0.7697 - val_loss: 0.0054 - val_accuracy: 0.6326 - lr: 0.0182\n",
      "Epoch 66/100\n",
      "181/181 [==============================] - 16s 88ms/step - loss: 1.0040e-04 - accuracy: 0.7753 - val_loss: 0.0054 - val_accuracy: 0.6347 - lr: 0.0207\n",
      "Epoch 67/100\n",
      "181/181 [==============================] - 16s 88ms/step - loss: 1.4073e-04 - accuracy: 0.7675 - val_loss: 0.0054 - val_accuracy: 0.6284 - lr: 0.0233\n",
      "Epoch 68/100\n",
      "181/181 [==============================] - 16s 87ms/step - loss: 8.9193e-05 - accuracy: 0.7721 - val_loss: 0.0054 - val_accuracy: 0.6263 - lr: 0.0260\n",
      "Epoch 69/100\n",
      "181/181 [==============================] - 16s 88ms/step - loss: 7.4165e-05 - accuracy: 0.7746 - val_loss: 0.0054 - val_accuracy: 0.6263 - lr: 0.0288\n",
      "Epoch 70/100\n",
      "181/181 [==============================] - 16s 88ms/step - loss: 7.9957e-05 - accuracy: 0.7650 - val_loss: 0.0054 - val_accuracy: 0.6242 - lr: 0.0317\n",
      "Epoch 71/100\n",
      "181/181 [==============================] - 16s 88ms/step - loss: 9.4507e-05 - accuracy: 0.7685 - val_loss: 0.0054 - val_accuracy: 0.6284 - lr: 0.0346\n",
      "Epoch 72/100\n",
      "181/181 [==============================] - 16s 87ms/step - loss: 1.4977e-04 - accuracy: 0.7643 - val_loss: 0.0055 - val_accuracy: 0.6263 - lr: 0.0376\n",
      "Epoch 73/100\n",
      "181/181 [==============================] - 16s 87ms/step - loss: 1.0090e-04 - accuracy: 0.7671 - val_loss: 0.0055 - val_accuracy: 0.6221 - lr: 0.0407\n",
      "Epoch 74/100\n",
      "181/181 [==============================] - 16s 88ms/step - loss: 1.4720e-04 - accuracy: 0.7675 - val_loss: 0.0055 - val_accuracy: 0.6242 - lr: 0.0438\n",
      "Epoch 75/100\n",
      "181/181 [==============================] - 16s 88ms/step - loss: 1.6045e-04 - accuracy: 0.7636 - val_loss: 0.0055 - val_accuracy: 0.6221 - lr: 0.0469\n",
      "Epoch 76/100\n",
      "181/181 [==============================] - 16s 87ms/step - loss: 9.5062e-05 - accuracy: 0.7651 - val_loss: 0.0054 - val_accuracy: 0.6263 - lr: 0.0501\n",
      "Epoch 77/100\n",
      "181/181 [==============================] - 16s 87ms/step - loss: 1.4032e-04 - accuracy: 0.7633 - val_loss: 0.0050 - val_accuracy: 0.6305 - lr: 0.0532\n",
      "Epoch 78/100\n",
      "181/181 [==============================] - 16s 87ms/step - loss: 1.5333e-04 - accuracy: 0.7689 - val_loss: 0.0051 - val_accuracy: 0.6326 - lr: 0.0563\n",
      "Epoch 79/100\n",
      "181/181 [==============================] - 16s 87ms/step - loss: 1.1312e-04 - accuracy: 0.7652 - val_loss: 0.0048 - val_accuracy: 0.6242 - lr: 0.0594\n",
      "Epoch 80/100\n",
      "181/181 [==============================] - 16s 88ms/step - loss: 1.6108e-04 - accuracy: 0.7654 - val_loss: 0.0047 - val_accuracy: 0.6284 - lr: 0.0625\n",
      "Epoch 81/100\n",
      "181/181 [==============================] - 16s 88ms/step - loss: 8.5013e-05 - accuracy: 0.7696 - val_loss: 0.0047 - val_accuracy: 0.6326 - lr: 0.0655\n",
      "Epoch 82/100\n",
      "181/181 [==============================] - 16s 87ms/step - loss: 1.8479e-04 - accuracy: 0.7623 - val_loss: 0.0045 - val_accuracy: 0.6221 - lr: 0.0684\n",
      "Epoch 83/100\n",
      "181/181 [==============================] - 16s 87ms/step - loss: 8.4907e-05 - accuracy: 0.7613 - val_loss: 0.0045 - val_accuracy: 0.6263 - lr: 0.0713\n",
      "Epoch 84/100\n",
      "181/181 [==============================] - 16s 87ms/step - loss: 1.0905e-04 - accuracy: 0.7630 - val_loss: 0.0045 - val_accuracy: 0.6096 - lr: 0.0741\n",
      "Epoch 85/100\n",
      "181/181 [==============================] - 16s 88ms/step - loss: 6.2959e-05 - accuracy: 0.7570 - val_loss: 0.0046 - val_accuracy: 0.6117 - lr: 0.0768\n",
      "Epoch 86/100\n",
      "181/181 [==============================] - 16s 87ms/step - loss: 1.1135e-04 - accuracy: 0.7552 - val_loss: 0.0042 - val_accuracy: 0.6200 - lr: 0.0794\n",
      "Epoch 87/100\n",
      "181/181 [==============================] - 16s 88ms/step - loss: 9.8738e-05 - accuracy: 0.7573 - val_loss: 0.0040 - val_accuracy: 0.6242 - lr: 0.0819\n",
      "Epoch 88/100\n",
      "181/181 [==============================] - 16s 88ms/step - loss: 7.0926e-05 - accuracy: 0.7558 - val_loss: 0.0040 - val_accuracy: 0.6242 - lr: 0.0842\n",
      "Epoch 89/100\n",
      "181/181 [==============================] - 16s 86ms/step - loss: 9.6494e-05 - accuracy: 0.7559 - val_loss: 0.0040 - val_accuracy: 0.6180 - lr: 0.0865\n",
      "Epoch 90/100\n",
      "181/181 [==============================] - 16s 86ms/step - loss: 9.7055e-05 - accuracy: 0.7498 - val_loss: 0.0039 - val_accuracy: 0.6159 - lr: 0.0885\n",
      "Epoch 91/100\n",
      "181/181 [==============================] - 16s 86ms/step - loss: 1.2760e-04 - accuracy: 0.7505 - val_loss: 0.0040 - val_accuracy: 0.6347 - lr: 0.0905\n",
      "Epoch 92/100\n",
      "181/181 [==============================] - 16s 86ms/step - loss: 1.0850e-04 - accuracy: 0.7492 - val_loss: 0.0039 - val_accuracy: 0.6305 - lr: 0.0922\n",
      "Epoch 93/100\n",
      "181/181 [==============================] - 16s 86ms/step - loss: 7.8944e-05 - accuracy: 0.7589 - val_loss: 0.0040 - val_accuracy: 0.6200 - lr: 0.0938\n",
      "Epoch 94/100\n",
      "181/181 [==============================] - 16s 87ms/step - loss: 5.0434e-05 - accuracy: 0.7504 - val_loss: 0.0040 - val_accuracy: 0.6221 - lr: 0.0952\n",
      "Epoch 95/100\n",
      "181/181 [==============================] - 16s 86ms/step - loss: 5.9114e-05 - accuracy: 0.7506 - val_loss: 0.0039 - val_accuracy: 0.6221 - lr: 0.0965\n",
      "Epoch 96/100\n",
      "181/181 [==============================] - 16s 86ms/step - loss: 5.5149e-05 - accuracy: 0.7466 - val_loss: 0.0040 - val_accuracy: 0.6221 - lr: 0.0976\n",
      "Epoch 97/100\n",
      "181/181 [==============================] - 16s 86ms/step - loss: 8.0094e-05 - accuracy: 0.7527 - val_loss: 0.0039 - val_accuracy: 0.6263 - lr: 0.0984\n",
      "Epoch 98/100\n",
      "181/181 [==============================] - 16s 86ms/step - loss: 8.5339e-05 - accuracy: 0.7499 - val_loss: 0.0037 - val_accuracy: 0.6326 - lr: 0.0991\n",
      "Epoch 99/100\n",
      "181/181 [==============================] - 16s 86ms/step - loss: 5.7818e-05 - accuracy: 0.7498 - val_loss: 0.0037 - val_accuracy: 0.6200 - lr: 0.0996\n",
      "Epoch 100/100\n",
      "181/181 [==============================] - 16s 86ms/step - loss: 1.0294e-04 - accuracy: 0.7419 - val_loss: 0.0036 - val_accuracy: 0.6075 - lr: 0.0999\n"
     ]
    }
   ],
   "source": [
    "history = model.fit(\n",
    "    generator,\n",
    "    validation_data = val_generator,\n",
    "    epochs = 100,\n",
    "    shuffle=False,\n",
    "    callbacks=callbacks\n",
    ").history"
   ]
  },
  {
   "cell_type": "code",
   "execution_count": 79,
   "metadata": {
    "pycharm": {
     "name": "#%%\n"
    }
   },
   "outputs": [
    {
     "name": "stdout",
     "output_type": "stream",
     "text": [
      "Dec17_21-11-16\n",
      "Epoch 1/100\n",
      "  6/181 [..............................] - ETA: 18s - loss: 5.8070e-06 - accuracy: 0.7552WARNING:tensorflow:Callback method `on_train_batch_end` is slow compared to the batch time (batch time: 0.0711s vs `on_train_batch_end` time: 0.4493s). Check your callbacks.\n"
     ]
    },
    {
     "name": "stderr",
     "output_type": "stream",
     "text": [
      "WARNING:tensorflow:Callback method `on_train_batch_end` is slow compared to the batch time (batch time: 0.0711s vs `on_train_batch_end` time: 0.4493s). Check your callbacks.\n"
     ]
    },
    {
     "name": "stdout",
     "output_type": "stream",
     "text": [
      "180/181 [============================>.] - ETA: 0s - loss: 6.4988e-05 - accuracy: 0.7463"
     ]
    },
    {
     "name": "stderr",
     "output_type": "stream",
     "text": [
      "WARNING:absl:Function `_wrapped_model` contains input name(s) Input with unsupported characters which will be renamed to input in the SavedModel.\n",
      "WARNING:absl:Found untraced functions such as lstm_cell_151_layer_call_fn, lstm_cell_151_layer_call_and_return_conditional_losses, lstm_cell_152_layer_call_fn, lstm_cell_152_layer_call_and_return_conditional_losses, lstm_cell_154_layer_call_fn while saving (showing 5 of 20). These functions will not be directly callable after loading.\n"
     ]
    },
    {
     "name": "stdout",
     "output_type": "stream",
     "text": [
      "INFO:tensorflow:Assets written to: experiments\\ResLSTM_Dec17_21-11-16\\base_ckpts\\cp_01.ckpt\\assets\n"
     ]
    },
    {
     "name": "stderr",
     "output_type": "stream",
     "text": [
      "INFO:tensorflow:Assets written to: experiments\\ResLSTM_Dec17_21-11-16\\base_ckpts\\cp_01.ckpt\\assets\n"
     ]
    },
    {
     "name": "stdout",
     "output_type": "stream",
     "text": [
      "181/181 [==============================] - 89s 478ms/step - loss: 6.4960e-05 - accuracy: 0.7462 - val_loss: 0.0037 - val_accuracy: 0.6075 - lr: 0.1000\n",
      "Epoch 2/100\n",
      "181/181 [==============================] - 16s 85ms/step - loss: 5.8801e-05 - accuracy: 0.7377 - val_loss: 0.0035 - val_accuracy: 0.6075 - lr: 0.0999\n",
      "Epoch 3/100\n",
      "181/181 [==============================] - 16s 86ms/step - loss: 2.5525e-05 - accuracy: 0.7339 - val_loss: 0.0035 - val_accuracy: 0.6075 - lr: 0.0996\n",
      "Epoch 4/100\n",
      "180/181 [============================>.] - ETA: 0s - loss: 5.9484e-05 - accuracy: 0.7327"
     ]
    },
    {
     "name": "stderr",
     "output_type": "stream",
     "text": [
      "WARNING:absl:Function `_wrapped_model` contains input name(s) Input with unsupported characters which will be renamed to input in the SavedModel.\n",
      "WARNING:absl:Found untraced functions such as lstm_cell_151_layer_call_fn, lstm_cell_151_layer_call_and_return_conditional_losses, lstm_cell_152_layer_call_fn, lstm_cell_152_layer_call_and_return_conditional_losses, lstm_cell_154_layer_call_fn while saving (showing 5 of 20). These functions will not be directly callable after loading.\n"
     ]
    },
    {
     "name": "stdout",
     "output_type": "stream",
     "text": [
      "INFO:tensorflow:Assets written to: experiments\\ResLSTM_Dec17_21-11-16\\base_ckpts\\cp_04.ckpt\\assets\n"
     ]
    },
    {
     "name": "stderr",
     "output_type": "stream",
     "text": [
      "INFO:tensorflow:Assets written to: experiments\\ResLSTM_Dec17_21-11-16\\base_ckpts\\cp_04.ckpt\\assets\n"
     ]
    },
    {
     "name": "stdout",
     "output_type": "stream",
     "text": [
      "181/181 [==============================] - 89s 497ms/step - loss: 5.9458e-05 - accuracy: 0.7327 - val_loss: 0.0035 - val_accuracy: 0.6096 - lr: 0.0991\n",
      "Epoch 5/100\n",
      "181/181 [==============================] - 16s 85ms/step - loss: 6.3550e-05 - accuracy: 0.7277 - val_loss: 0.0034 - val_accuracy: 0.6054 - lr: 0.0984\n",
      "Epoch 6/100\n",
      "181/181 [==============================] - 16s 85ms/step - loss: 1.1274e-04 - accuracy: 0.7326 - val_loss: 0.0034 - val_accuracy: 0.6054 - lr: 0.0976\n",
      "Epoch 7/100\n",
      "181/181 [==============================] - 15s 85ms/step - loss: 5.6385e-05 - accuracy: 0.7330 - val_loss: 0.0034 - val_accuracy: 0.6075 - lr: 0.0965\n",
      "Epoch 8/100\n",
      "180/181 [============================>.] - ETA: 0s - loss: 7.2951e-05 - accuracy: 0.7395"
     ]
    },
    {
     "name": "stderr",
     "output_type": "stream",
     "text": [
      "WARNING:absl:Function `_wrapped_model` contains input name(s) Input with unsupported characters which will be renamed to input in the SavedModel.\n",
      "WARNING:absl:Found untraced functions such as lstm_cell_151_layer_call_fn, lstm_cell_151_layer_call_and_return_conditional_losses, lstm_cell_152_layer_call_fn, lstm_cell_152_layer_call_and_return_conditional_losses, lstm_cell_154_layer_call_fn while saving (showing 5 of 20). These functions will not be directly callable after loading.\n"
     ]
    },
    {
     "name": "stdout",
     "output_type": "stream",
     "text": [
      "INFO:tensorflow:Assets written to: experiments\\ResLSTM_Dec17_21-11-16\\base_ckpts\\cp_08.ckpt\\assets\n"
     ]
    },
    {
     "name": "stderr",
     "output_type": "stream",
     "text": [
      "INFO:tensorflow:Assets written to: experiments\\ResLSTM_Dec17_21-11-16\\base_ckpts\\cp_08.ckpt\\assets\n"
     ]
    },
    {
     "name": "stdout",
     "output_type": "stream",
     "text": [
      "181/181 [==============================] - 89s 496ms/step - loss: 7.2919e-05 - accuracy: 0.7396 - val_loss: 0.0034 - val_accuracy: 0.6117 - lr: 0.0952\n",
      "Epoch 9/100\n",
      "180/181 [============================>.] - ETA: 0s - loss: 5.2923e-05 - accuracy: 0.7281"
     ]
    },
    {
     "name": "stderr",
     "output_type": "stream",
     "text": [
      "WARNING:absl:Function `_wrapped_model` contains input name(s) Input with unsupported characters which will be renamed to input in the SavedModel.\n",
      "WARNING:absl:Found untraced functions such as lstm_cell_151_layer_call_fn, lstm_cell_151_layer_call_and_return_conditional_losses, lstm_cell_152_layer_call_fn, lstm_cell_152_layer_call_and_return_conditional_losses, lstm_cell_154_layer_call_fn while saving (showing 5 of 20). These functions will not be directly callable after loading.\n"
     ]
    },
    {
     "name": "stdout",
     "output_type": "stream",
     "text": [
      "INFO:tensorflow:Assets written to: experiments\\ResLSTM_Dec17_21-11-16\\base_ckpts\\cp_09.ckpt\\assets\n"
     ]
    },
    {
     "name": "stderr",
     "output_type": "stream",
     "text": [
      "INFO:tensorflow:Assets written to: experiments\\ResLSTM_Dec17_21-11-16\\base_ckpts\\cp_09.ckpt\\assets\n"
     ]
    },
    {
     "name": "stdout",
     "output_type": "stream",
     "text": [
      "181/181 [==============================] - 85s 469ms/step - loss: 5.2900e-05 - accuracy: 0.7282 - val_loss: 0.0034 - val_accuracy: 0.6138 - lr: 0.0938\n",
      "Epoch 10/100\n",
      "181/181 [==============================] - 16s 86ms/step - loss: 6.3817e-05 - accuracy: 0.7354 - val_loss: 0.0035 - val_accuracy: 0.6033 - lr: 0.0922\n",
      "Epoch 11/100\n",
      "180/181 [============================>.] - ETA: 0s - loss: 4.6090e-05 - accuracy: 0.7269"
     ]
    },
    {
     "name": "stderr",
     "output_type": "stream",
     "text": [
      "WARNING:absl:Function `_wrapped_model` contains input name(s) Input with unsupported characters which will be renamed to input in the SavedModel.\n",
      "WARNING:absl:Found untraced functions such as lstm_cell_151_layer_call_fn, lstm_cell_151_layer_call_and_return_conditional_losses, lstm_cell_152_layer_call_fn, lstm_cell_152_layer_call_and_return_conditional_losses, lstm_cell_154_layer_call_fn while saving (showing 5 of 20). These functions will not be directly callable after loading.\n"
     ]
    },
    {
     "name": "stdout",
     "output_type": "stream",
     "text": [
      "INFO:tensorflow:Assets written to: experiments\\ResLSTM_Dec17_21-11-16\\base_ckpts\\cp_11.ckpt\\assets\n"
     ]
    },
    {
     "name": "stderr",
     "output_type": "stream",
     "text": [
      "INFO:tensorflow:Assets written to: experiments\\ResLSTM_Dec17_21-11-16\\base_ckpts\\cp_11.ckpt\\assets\n"
     ]
    },
    {
     "name": "stdout",
     "output_type": "stream",
     "text": [
      "181/181 [==============================] - 91s 504ms/step - loss: 4.6071e-05 - accuracy: 0.7267 - val_loss: 0.0035 - val_accuracy: 0.6159 - lr: 0.0905\n",
      "Epoch 12/100\n",
      "181/181 [==============================] - 16s 86ms/step - loss: 9.0082e-05 - accuracy: 0.7399 - val_loss: 0.0034 - val_accuracy: 0.6138 - lr: 0.0885\n",
      "Epoch 13/100\n",
      "181/181 [==============================] - 16s 86ms/step - loss: 7.7311e-05 - accuracy: 0.7360 - val_loss: 0.0030 - val_accuracy: 0.6075 - lr: 0.0865\n",
      "Epoch 14/100\n",
      "181/181 [==============================] - 16s 86ms/step - loss: 8.3794e-05 - accuracy: 0.7411 - val_loss: 0.0032 - val_accuracy: 0.6138 - lr: 0.0842\n",
      "Epoch 15/100\n",
      "181/181 [==============================] - 16s 86ms/step - loss: 9.2215e-05 - accuracy: 0.7387 - val_loss: 0.0031 - val_accuracy: 0.6075 - lr: 0.0819\n",
      "Epoch 16/100\n",
      "181/181 [==============================] - 16s 86ms/step - loss: 3.7922e-05 - accuracy: 0.7401 - val_loss: 0.0030 - val_accuracy: 0.6117 - lr: 0.0794\n",
      "Epoch 17/100\n",
      "181/181 [==============================] - 16s 86ms/step - loss: 2.9543e-05 - accuracy: 0.7403 - val_loss: 0.0030 - val_accuracy: 0.6096 - lr: 0.0768\n",
      "Epoch 18/100\n",
      "181/181 [==============================] - 16s 85ms/step - loss: 4.9052e-05 - accuracy: 0.7371 - val_loss: 0.0031 - val_accuracy: 0.6159 - lr: 0.0741\n",
      "Epoch 19/100\n",
      "181/181 [==============================] - 16s 85ms/step - loss: 5.5222e-05 - accuracy: 0.7327 - val_loss: 0.0032 - val_accuracy: 0.6117 - lr: 0.0713\n",
      "Epoch 20/100\n",
      "181/181 [==============================] - 16s 86ms/step - loss: 1.1378e-04 - accuracy: 0.7370 - val_loss: 0.0035 - val_accuracy: 0.6159 - lr: 0.0684\n",
      "Epoch 21/100\n",
      "181/181 [==============================] - 16s 86ms/step - loss: 5.1707e-05 - accuracy: 0.7328 - val_loss: 0.0034 - val_accuracy: 0.6138 - lr: 0.0655\n",
      "Epoch 22/100\n",
      "180/181 [============================>.] - ETA: 0s - loss: 6.2538e-05 - accuracy: 0.7361"
     ]
    },
    {
     "name": "stderr",
     "output_type": "stream",
     "text": [
      "WARNING:absl:Function `_wrapped_model` contains input name(s) Input with unsupported characters which will be renamed to input in the SavedModel.\n",
      "WARNING:absl:Found untraced functions such as lstm_cell_151_layer_call_fn, lstm_cell_151_layer_call_and_return_conditional_losses, lstm_cell_152_layer_call_fn, lstm_cell_152_layer_call_and_return_conditional_losses, lstm_cell_154_layer_call_fn while saving (showing 5 of 20). These functions will not be directly callable after loading.\n"
     ]
    },
    {
     "name": "stdout",
     "output_type": "stream",
     "text": [
      "INFO:tensorflow:Assets written to: experiments\\ResLSTM_Dec17_21-11-16\\base_ckpts\\cp_22.ckpt\\assets\n"
     ]
    },
    {
     "name": "stderr",
     "output_type": "stream",
     "text": [
      "INFO:tensorflow:Assets written to: experiments\\ResLSTM_Dec17_21-11-16\\base_ckpts\\cp_22.ckpt\\assets\n"
     ]
    },
    {
     "name": "stdout",
     "output_type": "stream",
     "text": [
      "181/181 [==============================] - 85s 474ms/step - loss: 6.2511e-05 - accuracy: 0.7362 - val_loss: 0.0035 - val_accuracy: 0.6200 - lr: 0.0625\n",
      "Epoch 23/100\n",
      "181/181 [==============================] - 16s 86ms/step - loss: 4.9695e-05 - accuracy: 0.7359 - val_loss: 0.0034 - val_accuracy: 0.6117 - lr: 0.0594\n",
      "Epoch 24/100\n",
      "181/181 [==============================] - 16s 87ms/step - loss: 3.3700e-05 - accuracy: 0.7405 - val_loss: 0.0035 - val_accuracy: 0.6138 - lr: 0.0563\n",
      "Epoch 25/100\n",
      "181/181 [==============================] - 16s 87ms/step - loss: 1.6521e-05 - accuracy: 0.7349 - val_loss: 0.0035 - val_accuracy: 0.6138 - lr: 0.0532\n",
      "Epoch 26/100\n",
      "181/181 [==============================] - 16s 86ms/step - loss: 3.8310e-05 - accuracy: 0.7479 - val_loss: 0.0035 - val_accuracy: 0.6138 - lr: 0.0501\n",
      "Epoch 27/100\n",
      "181/181 [==============================] - 16s 87ms/step - loss: 3.5761e-05 - accuracy: 0.7440 - val_loss: 0.0035 - val_accuracy: 0.6138 - lr: 0.0469\n",
      "Epoch 28/100\n",
      "181/181 [==============================] - 16s 87ms/step - loss: 4.3564e-05 - accuracy: 0.7375 - val_loss: 0.0034 - val_accuracy: 0.6138 - lr: 0.0438\n",
      "Epoch 29/100\n",
      "181/181 [==============================] - 16s 87ms/step - loss: 7.0445e-05 - accuracy: 0.7393 - val_loss: 0.0034 - val_accuracy: 0.6117 - lr: 0.0407\n",
      "Epoch 30/100\n",
      "181/181 [==============================] - 16s 87ms/step - loss: 4.5492e-05 - accuracy: 0.7423 - val_loss: 0.0035 - val_accuracy: 0.6138 - lr: 0.0376\n",
      "Epoch 31/100\n",
      "181/181 [==============================] - 16s 87ms/step - loss: 8.9683e-05 - accuracy: 0.7410 - val_loss: 0.0034 - val_accuracy: 0.6159 - lr: 0.0346\n",
      "Epoch 32/100\n",
      "181/181 [==============================] - 16s 87ms/step - loss: 8.1400e-05 - accuracy: 0.7400 - val_loss: 0.0035 - val_accuracy: 0.6138 - lr: 0.0317\n",
      "Epoch 33/100\n",
      "181/181 [==============================] - 16s 86ms/step - loss: 4.6493e-05 - accuracy: 0.7402 - val_loss: 0.0035 - val_accuracy: 0.6138 - lr: 0.0288\n",
      "Epoch 34/100\n",
      "181/181 [==============================] - 16s 87ms/step - loss: 4.2534e-05 - accuracy: 0.7374 - val_loss: 0.0035 - val_accuracy: 0.6138 - lr: 0.0260\n",
      "Epoch 35/100\n",
      "181/181 [==============================] - 16s 87ms/step - loss: 8.8316e-05 - accuracy: 0.7369 - val_loss: 0.0036 - val_accuracy: 0.6138 - lr: 0.0233\n",
      "Epoch 36/100\n",
      "181/181 [==============================] - 16s 87ms/step - loss: 3.1873e-05 - accuracy: 0.7353 - val_loss: 0.0036 - val_accuracy: 0.6180 - lr: 0.0207\n",
      "Epoch 37/100\n",
      "181/181 [==============================] - 16s 86ms/step - loss: 4.0994e-05 - accuracy: 0.7396 - val_loss: 0.0036 - val_accuracy: 0.6180 - lr: 0.0182\n",
      "Epoch 38/100\n",
      "181/181 [==============================] - 16s 87ms/step - loss: 3.0134e-05 - accuracy: 0.7326 - val_loss: 0.0036 - val_accuracy: 0.6180 - lr: 0.0159\n",
      "Epoch 39/100\n",
      "181/181 [==============================] - 16s 87ms/step - loss: 6.6686e-05 - accuracy: 0.7410 - val_loss: 0.0036 - val_accuracy: 0.6159 - lr: 0.0136\n",
      "Epoch 40/100\n",
      "181/181 [==============================] - 16s 87ms/step - loss: 5.0301e-05 - accuracy: 0.7355 - val_loss: 0.0036 - val_accuracy: 0.6159 - lr: 0.0116\n",
      "Epoch 41/100\n",
      "181/181 [==============================] - 16s 87ms/step - loss: 5.9395e-05 - accuracy: 0.7426 - val_loss: 0.0036 - val_accuracy: 0.6159 - lr: 0.0096\n",
      "Epoch 42/100\n",
      "181/181 [==============================] - 16s 88ms/step - loss: 5.1942e-05 - accuracy: 0.7362 - val_loss: 0.0036 - val_accuracy: 0.6159 - lr: 0.0079\n",
      "Epoch 43/100\n",
      "181/181 [==============================] - 16s 87ms/step - loss: 1.0996e-04 - accuracy: 0.7401 - val_loss: 0.0036 - val_accuracy: 0.6159 - lr: 0.0063\n",
      "Epoch 44/100\n",
      "181/181 [==============================] - 16s 86ms/step - loss: 5.5925e-05 - accuracy: 0.7371 - val_loss: 0.0036 - val_accuracy: 0.6159 - lr: 0.0049\n",
      "Epoch 45/100\n",
      "181/181 [==============================] - 16s 87ms/step - loss: 7.0467e-05 - accuracy: 0.7333 - val_loss: 0.0036 - val_accuracy: 0.6159 - lr: 0.0036\n",
      "Epoch 46/100\n",
      "181/181 [==============================] - 16s 87ms/step - loss: 4.0380e-05 - accuracy: 0.7422 - val_loss: 0.0036 - val_accuracy: 0.6159 - lr: 0.0025\n",
      "Epoch 47/100\n",
      "181/181 [==============================] - 16s 87ms/step - loss: 4.3565e-05 - accuracy: 0.7386 - val_loss: 0.0036 - val_accuracy: 0.6159 - lr: 0.0017\n",
      "Epoch 48/100\n",
      "181/181 [==============================] - 16s 87ms/step - loss: 7.5932e-05 - accuracy: 0.7478 - val_loss: 0.0036 - val_accuracy: 0.6159 - lr: 9.8475e-04\n",
      "Epoch 49/100\n",
      "181/181 [==============================] - 16s 87ms/step - loss: 8.2832e-05 - accuracy: 0.7403 - val_loss: 0.0036 - val_accuracy: 0.6159 - lr: 4.9387e-04\n",
      "Epoch 50/100\n",
      "181/181 [==============================] - 16s 88ms/step - loss: 5.4872e-05 - accuracy: 0.7399 - val_loss: 0.0036 - val_accuracy: 0.6159 - lr: 1.9856e-04\n",
      "Epoch 51/100\n",
      "181/181 [==============================] - 16s 87ms/step - loss: 4.1970e-05 - accuracy: 0.7383 - val_loss: 0.0036 - val_accuracy: 0.6159 - lr: 1.0000e-04\n",
      "Epoch 52/100\n",
      "181/181 [==============================] - 16s 87ms/step - loss: 5.2963e-05 - accuracy: 0.7441 - val_loss: 0.0036 - val_accuracy: 0.6159 - lr: 1.9856e-04\n",
      "Epoch 53/100\n",
      "181/181 [==============================] - 16s 87ms/step - loss: 3.3177e-05 - accuracy: 0.7367 - val_loss: 0.0036 - val_accuracy: 0.6159 - lr: 4.9387e-04\n",
      "Epoch 54/100\n",
      "181/181 [==============================] - 16s 87ms/step - loss: 5.5168e-05 - accuracy: 0.7361 - val_loss: 0.0036 - val_accuracy: 0.6159 - lr: 9.8475e-04\n",
      "Epoch 55/100\n",
      "181/181 [==============================] - 16s 87ms/step - loss: 2.2207e-05 - accuracy: 0.7422 - val_loss: 0.0036 - val_accuracy: 0.6159 - lr: 0.0017\n",
      "Epoch 56/100\n",
      "181/181 [==============================] - 16s 87ms/step - loss: 5.5591e-05 - accuracy: 0.7384 - val_loss: 0.0036 - val_accuracy: 0.6159 - lr: 0.0025\n",
      "Epoch 57/100\n",
      "181/181 [==============================] - 16s 87ms/step - loss: 7.8425e-05 - accuracy: 0.7368 - val_loss: 0.0036 - val_accuracy: 0.6117 - lr: 0.0036\n",
      "Epoch 58/100\n",
      "181/181 [==============================] - 16s 88ms/step - loss: 5.1193e-05 - accuracy: 0.7439 - val_loss: 0.0036 - val_accuracy: 0.6117 - lr: 0.0049\n",
      "Epoch 59/100\n",
      "181/181 [==============================] - 16s 87ms/step - loss: 5.6908e-05 - accuracy: 0.7391 - val_loss: 0.0036 - val_accuracy: 0.6138 - lr: 0.0063\n",
      "Epoch 60/100\n",
      "181/181 [==============================] - 16s 87ms/step - loss: 5.7218e-05 - accuracy: 0.7424 - val_loss: 0.0036 - val_accuracy: 0.6138 - lr: 0.0079\n",
      "Epoch 61/100\n",
      "181/181 [==============================] - 16s 87ms/step - loss: 5.1126e-05 - accuracy: 0.7456 - val_loss: 0.0036 - val_accuracy: 0.6138 - lr: 0.0096\n",
      "Epoch 62/100\n",
      "181/181 [==============================] - 16s 88ms/step - loss: 6.9345e-05 - accuracy: 0.7361 - val_loss: 0.0036 - val_accuracy: 0.6138 - lr: 0.0116\n",
      "Epoch 63/100\n",
      "181/181 [==============================] - 16s 87ms/step - loss: 3.8557e-05 - accuracy: 0.7471 - val_loss: 0.0036 - val_accuracy: 0.6138 - lr: 0.0136\n",
      "Epoch 64/100\n",
      "181/181 [==============================] - 16s 87ms/step - loss: 3.6465e-05 - accuracy: 0.7400 - val_loss: 0.0036 - val_accuracy: 0.6138 - lr: 0.0159\n",
      "Epoch 65/100\n",
      "181/181 [==============================] - 16s 88ms/step - loss: 1.7959e-05 - accuracy: 0.7390 - val_loss: 0.0036 - val_accuracy: 0.6138 - lr: 0.0182\n",
      "Epoch 66/100\n",
      "181/181 [==============================] - 16s 87ms/step - loss: 4.2130e-05 - accuracy: 0.7426 - val_loss: 0.0036 - val_accuracy: 0.6138 - lr: 0.0207\n",
      "Epoch 67/100\n",
      "181/181 [==============================] - 16s 87ms/step - loss: 4.7538e-05 - accuracy: 0.7421 - val_loss: 0.0036 - val_accuracy: 0.6096 - lr: 0.0233\n",
      "Epoch 68/100\n",
      "181/181 [==============================] - 16s 87ms/step - loss: 1.3793e-04 - accuracy: 0.7347 - val_loss: 0.0036 - val_accuracy: 0.6096 - lr: 0.0260\n",
      "Epoch 69/100\n",
      "181/181 [==============================] - 16s 87ms/step - loss: 4.1432e-05 - accuracy: 0.7393 - val_loss: 0.0036 - val_accuracy: 0.6096 - lr: 0.0288\n",
      "Epoch 70/100\n",
      "181/181 [==============================] - 16s 87ms/step - loss: 5.2794e-05 - accuracy: 0.7335 - val_loss: 0.0036 - val_accuracy: 0.6096 - lr: 0.0317\n",
      "Epoch 71/100\n",
      "181/181 [==============================] - 16s 87ms/step - loss: 1.0563e-04 - accuracy: 0.7297 - val_loss: 0.0036 - val_accuracy: 0.6117 - lr: 0.0346\n",
      "Epoch 72/100\n",
      "181/181 [==============================] - 16s 86ms/step - loss: 4.2386e-05 - accuracy: 0.7393 - val_loss: 0.0036 - val_accuracy: 0.6117 - lr: 0.0376\n",
      "Epoch 73/100\n",
      "181/181 [==============================] - 16s 87ms/step - loss: 4.1273e-05 - accuracy: 0.7355 - val_loss: 0.0035 - val_accuracy: 0.6096 - lr: 0.0407\n",
      "Epoch 74/100\n",
      "181/181 [==============================] - 16s 88ms/step - loss: 5.8067e-05 - accuracy: 0.7359 - val_loss: 0.0036 - val_accuracy: 0.6096 - lr: 0.0438\n",
      "Epoch 75/100\n",
      "181/181 [==============================] - 16s 87ms/step - loss: 8.6738e-05 - accuracy: 0.7426 - val_loss: 0.0035 - val_accuracy: 0.6117 - lr: 0.0469\n",
      "Epoch 76/100\n",
      "181/181 [==============================] - 16s 86ms/step - loss: 6.0566e-05 - accuracy: 0.7348 - val_loss: 0.0034 - val_accuracy: 0.6117 - lr: 0.0501\n",
      "Epoch 77/100\n",
      "181/181 [==============================] - 16s 87ms/step - loss: 3.5418e-05 - accuracy: 0.7342 - val_loss: 0.0034 - val_accuracy: 0.6180 - lr: 0.0532\n",
      "Epoch 78/100\n",
      "181/181 [==============================] - 16s 87ms/step - loss: 7.0441e-05 - accuracy: 0.7315 - val_loss: 0.0034 - val_accuracy: 0.6138 - lr: 0.0563\n",
      "Epoch 79/100\n",
      "181/181 [==============================] - 16s 86ms/step - loss: 7.3068e-05 - accuracy: 0.7308 - val_loss: 0.0033 - val_accuracy: 0.6096 - lr: 0.0594\n",
      "Epoch 80/100\n",
      "181/181 [==============================] - 16s 87ms/step - loss: 4.4628e-05 - accuracy: 0.7396 - val_loss: 0.0032 - val_accuracy: 0.6117 - lr: 0.0625\n",
      "Epoch 81/100\n",
      "181/181 [==============================] - 16s 87ms/step - loss: 2.9111e-05 - accuracy: 0.7390 - val_loss: 0.0031 - val_accuracy: 0.6117 - lr: 0.0655\n",
      "Epoch 82/100\n",
      "181/181 [==============================] - 16s 87ms/step - loss: 2.2004e-05 - accuracy: 0.7393 - val_loss: 0.0032 - val_accuracy: 0.6054 - lr: 0.0684\n",
      "Epoch 83/100\n",
      "181/181 [==============================] - 16s 87ms/step - loss: 3.4307e-05 - accuracy: 0.7345 - val_loss: 0.0031 - val_accuracy: 0.6054 - lr: 0.0713\n",
      "Epoch 84/100\n",
      "181/181 [==============================] - 16s 86ms/step - loss: 6.0715e-05 - accuracy: 0.7270 - val_loss: 0.0031 - val_accuracy: 0.6033 - lr: 0.0741\n",
      "Epoch 85/100\n",
      "181/181 [==============================] - 16s 87ms/step - loss: 1.2878e-05 - accuracy: 0.7251 - val_loss: 0.0031 - val_accuracy: 0.6013 - lr: 0.0768\n",
      "Epoch 86/100\n",
      "181/181 [==============================] - 16s 87ms/step - loss: 5.9251e-05 - accuracy: 0.7262 - val_loss: 0.0031 - val_accuracy: 0.6013 - lr: 0.0794\n",
      "Epoch 87/100\n",
      "181/181 [==============================] - 16s 87ms/step - loss: 5.8313e-05 - accuracy: 0.7197 - val_loss: 0.0032 - val_accuracy: 0.5929 - lr: 0.0819\n",
      "Epoch 88/100\n",
      "181/181 [==============================] - 16s 86ms/step - loss: 2.5116e-05 - accuracy: 0.7226 - val_loss: 0.0033 - val_accuracy: 0.5887 - lr: 0.0842\n",
      "Epoch 89/100\n",
      "181/181 [==============================] - 16s 87ms/step - loss: 3.9598e-05 - accuracy: 0.7269 - val_loss: 0.0033 - val_accuracy: 0.5846 - lr: 0.0865\n",
      "Epoch 90/100\n",
      "181/181 [==============================] - 16s 87ms/step - loss: 1.9066e-05 - accuracy: 0.7230 - val_loss: 0.0032 - val_accuracy: 0.5783 - lr: 0.0885\n",
      "Epoch 91/100\n",
      "181/181 [==============================] - 16s 87ms/step - loss: 5.1471e-05 - accuracy: 0.7135 - val_loss: 0.0029 - val_accuracy: 0.5908 - lr: 0.0905\n",
      "Epoch 92/100\n",
      "181/181 [==============================] - 16s 87ms/step - loss: 5.5457e-05 - accuracy: 0.7223 - val_loss: 0.0031 - val_accuracy: 0.5887 - lr: 0.0922\n",
      "Epoch 93/100\n",
      "181/181 [==============================] - 16s 87ms/step - loss: 7.3764e-05 - accuracy: 0.7185 - val_loss: 0.0030 - val_accuracy: 0.5783 - lr: 0.0938\n",
      "Epoch 94/100\n",
      "181/181 [==============================] - 16s 87ms/step - loss: 3.8400e-05 - accuracy: 0.7161 - val_loss: 0.0030 - val_accuracy: 0.5741 - lr: 0.0952\n",
      "Epoch 95/100\n",
      "181/181 [==============================] - 16s 86ms/step - loss: 2.3498e-05 - accuracy: 0.7195 - val_loss: 0.0029 - val_accuracy: 0.5804 - lr: 0.0965\n",
      "Epoch 96/100\n",
      "181/181 [==============================] - 16s 87ms/step - loss: 5.3717e-05 - accuracy: 0.7187 - val_loss: 0.0029 - val_accuracy: 0.5741 - lr: 0.0976\n",
      "Epoch 97/100\n",
      "181/181 [==============================] - 16s 87ms/step - loss: 1.9895e-05 - accuracy: 0.7138 - val_loss: 0.0029 - val_accuracy: 0.5783 - lr: 0.0984\n",
      "Epoch 98/100\n",
      "181/181 [==============================] - 16s 87ms/step - loss: 2.4537e-05 - accuracy: 0.7157 - val_loss: 0.0029 - val_accuracy: 0.5741 - lr: 0.0991\n",
      "Epoch 99/100\n",
      "181/181 [==============================] - 16s 86ms/step - loss: 4.6770e-05 - accuracy: 0.7190 - val_loss: 0.0029 - val_accuracy: 0.5783 - lr: 0.0996\n",
      "Epoch 100/100\n",
      "181/181 [==============================] - 16s 87ms/step - loss: 2.4085e-05 - accuracy: 0.7223 - val_loss: 0.0029 - val_accuracy: 0.5783 - lr: 0.0999\n"
     ]
    }
   ],
   "source": [
    "callbacks, date = create_folders_and_callbacks(foldermode)\n",
    "callbacks.append(CosineAnnealingScheduler(T_max=50, eta_max=1e-1, eta_min=1e-4))\n",
    "history = model.fit(\n",
    "    generator,\n",
    "    validation_data = val_generator,\n",
    "    epochs = 100,\n",
    "    shuffle=False,\n",
    "    callbacks=callbacks\n",
    ").history"
   ]
  },
  {
   "cell_type": "code",
   "execution_count": 80,
   "metadata": {
    "pycharm": {
     "name": "#%%\n"
    }
   },
   "outputs": [
    {
     "name": "stdout",
     "output_type": "stream",
     "text": [
      "Dec17_21-44-49\n",
      "Epoch 1/100\n",
      "  6/181 [..............................] - ETA: 18s - loss: 1.0515e-05 - accuracy: 0.7083WARNING:tensorflow:Callback method `on_train_batch_end` is slow compared to the batch time (batch time: 0.0736s vs `on_train_batch_end` time: 0.4440s). Check your callbacks.\n"
     ]
    },
    {
     "name": "stderr",
     "output_type": "stream",
     "text": [
      "WARNING:tensorflow:Callback method `on_train_batch_end` is slow compared to the batch time (batch time: 0.0736s vs `on_train_batch_end` time: 0.4440s). Check your callbacks.\n"
     ]
    },
    {
     "name": "stdout",
     "output_type": "stream",
     "text": [
      "180/181 [============================>.] - ETA: 0s - loss: 4.2641e-05 - accuracy: 0.7216"
     ]
    },
    {
     "name": "stderr",
     "output_type": "stream",
     "text": [
      "WARNING:absl:Function `_wrapped_model` contains input name(s) Input with unsupported characters which will be renamed to input in the SavedModel.\n",
      "WARNING:absl:Found untraced functions such as lstm_cell_151_layer_call_fn, lstm_cell_151_layer_call_and_return_conditional_losses, lstm_cell_152_layer_call_fn, lstm_cell_152_layer_call_and_return_conditional_losses, lstm_cell_154_layer_call_fn while saving (showing 5 of 20). These functions will not be directly callable after loading.\n"
     ]
    },
    {
     "name": "stdout",
     "output_type": "stream",
     "text": [
      "INFO:tensorflow:Assets written to: experiments\\ResLSTM_Dec17_21-44-49\\base_ckpts\\cp_01.ckpt\\assets\n"
     ]
    },
    {
     "name": "stderr",
     "output_type": "stream",
     "text": [
      "INFO:tensorflow:Assets written to: experiments\\ResLSTM_Dec17_21-44-49\\base_ckpts\\cp_01.ckpt\\assets\n"
     ]
    },
    {
     "name": "stdout",
     "output_type": "stream",
     "text": [
      "181/181 [==============================] - 94s 507ms/step - loss: 4.2623e-05 - accuracy: 0.7216 - val_loss: 0.0029 - val_accuracy: 0.5825 - lr: 0.1000\n",
      "Epoch 2/100\n",
      "181/181 [==============================] - 16s 85ms/step - loss: 3.9227e-05 - accuracy: 0.7257 - val_loss: 0.0027 - val_accuracy: 0.5741 - lr: 0.0999\n",
      "Epoch 3/100\n",
      "181/181 [==============================] - 15s 85ms/step - loss: 3.6104e-05 - accuracy: 0.7236 - val_loss: 0.0027 - val_accuracy: 0.5678 - lr: 0.0996\n",
      "Epoch 4/100\n",
      "181/181 [==============================] - 15s 85ms/step - loss: 3.7245e-05 - accuracy: 0.7276 - val_loss: 0.0028 - val_accuracy: 0.5699 - lr: 0.0991\n",
      "Epoch 5/100\n",
      "181/181 [==============================] - 16s 86ms/step - loss: 2.4905e-05 - accuracy: 0.7196 - val_loss: 0.0028 - val_accuracy: 0.5637 - lr: 0.0984\n",
      "Epoch 6/100\n",
      "181/181 [==============================] - 16s 85ms/step - loss: 3.6200e-05 - accuracy: 0.7210 - val_loss: 0.0028 - val_accuracy: 0.5699 - lr: 0.0976\n",
      "Epoch 7/100\n",
      "181/181 [==============================] - 16s 86ms/step - loss: 3.3938e-05 - accuracy: 0.7249 - val_loss: 0.0028 - val_accuracy: 0.5741 - lr: 0.0965\n",
      "Epoch 8/100\n",
      "181/181 [==============================] - 15s 85ms/step - loss: 5.4266e-05 - accuracy: 0.7230 - val_loss: 0.0029 - val_accuracy: 0.5804 - lr: 0.0952\n",
      "Epoch 9/100\n",
      "180/181 [============================>.] - ETA: 0s - loss: 1.3692e-05 - accuracy: 0.7196"
     ]
    },
    {
     "name": "stderr",
     "output_type": "stream",
     "text": [
      "WARNING:absl:Function `_wrapped_model` contains input name(s) Input with unsupported characters which will be renamed to input in the SavedModel.\n",
      "WARNING:absl:Found untraced functions such as lstm_cell_151_layer_call_fn, lstm_cell_151_layer_call_and_return_conditional_losses, lstm_cell_152_layer_call_fn, lstm_cell_152_layer_call_and_return_conditional_losses, lstm_cell_154_layer_call_fn while saving (showing 5 of 20). These functions will not be directly callable after loading.\n"
     ]
    },
    {
     "name": "stdout",
     "output_type": "stream",
     "text": [
      "INFO:tensorflow:Assets written to: experiments\\ResLSTM_Dec17_21-44-49\\base_ckpts\\cp_09.ckpt\\assets\n"
     ]
    },
    {
     "name": "stderr",
     "output_type": "stream",
     "text": [
      "INFO:tensorflow:Assets written to: experiments\\ResLSTM_Dec17_21-44-49\\base_ckpts\\cp_09.ckpt\\assets\n"
     ]
    },
    {
     "name": "stdout",
     "output_type": "stream",
     "text": [
      "181/181 [==============================] - 87s 481ms/step - loss: 1.3686e-05 - accuracy: 0.7197 - val_loss: 0.0029 - val_accuracy: 0.5866 - lr: 0.0938\n",
      "Epoch 10/100\n",
      "180/181 [============================>.] - ETA: 0s - loss: 3.2586e-05 - accuracy: 0.7262"
     ]
    },
    {
     "name": "stderr",
     "output_type": "stream",
     "text": [
      "WARNING:absl:Function `_wrapped_model` contains input name(s) Input with unsupported characters which will be renamed to input in the SavedModel.\n",
      "WARNING:absl:Found untraced functions such as lstm_cell_151_layer_call_fn, lstm_cell_151_layer_call_and_return_conditional_losses, lstm_cell_152_layer_call_fn, lstm_cell_152_layer_call_and_return_conditional_losses, lstm_cell_154_layer_call_fn while saving (showing 5 of 20). These functions will not be directly callable after loading.\n"
     ]
    },
    {
     "name": "stdout",
     "output_type": "stream",
     "text": [
      "INFO:tensorflow:Assets written to: experiments\\ResLSTM_Dec17_21-44-49\\base_ckpts\\cp_10.ckpt\\assets\n"
     ]
    },
    {
     "name": "stderr",
     "output_type": "stream",
     "text": [
      "INFO:tensorflow:Assets written to: experiments\\ResLSTM_Dec17_21-44-49\\base_ckpts\\cp_10.ckpt\\assets\n"
     ]
    },
    {
     "name": "stdout",
     "output_type": "stream",
     "text": [
      "181/181 [==============================] - 89s 492ms/step - loss: 3.2572e-05 - accuracy: 0.7261 - val_loss: 0.0029 - val_accuracy: 0.5887 - lr: 0.0922\n",
      "Epoch 11/100\n",
      "181/181 [==============================] - 16s 87ms/step - loss: 3.5109e-05 - accuracy: 0.7209 - val_loss: 0.0030 - val_accuracy: 0.5866 - lr: 0.0905\n",
      "Epoch 12/100\n",
      "181/181 [==============================] - 16s 87ms/step - loss: 4.5618e-05 - accuracy: 0.7217 - val_loss: 0.0030 - val_accuracy: 0.5825 - lr: 0.0885\n",
      "Epoch 13/100\n",
      "181/181 [==============================] - 16s 87ms/step - loss: 2.5579e-05 - accuracy: 0.7221 - val_loss: 0.0029 - val_accuracy: 0.5825 - lr: 0.0865\n",
      "Epoch 14/100\n",
      "181/181 [==============================] - 16s 87ms/step - loss: 6.2533e-05 - accuracy: 0.7190 - val_loss: 0.0028 - val_accuracy: 0.5846 - lr: 0.0842\n",
      "Epoch 15/100\n",
      "181/181 [==============================] - 16s 87ms/step - loss: 2.7880e-05 - accuracy: 0.7156 - val_loss: 0.0028 - val_accuracy: 0.5846 - lr: 0.0819\n",
      "Epoch 16/100\n",
      "181/181 [==============================] - 16s 86ms/step - loss: 2.2491e-05 - accuracy: 0.7209 - val_loss: 0.0028 - val_accuracy: 0.5866 - lr: 0.0794\n",
      "Epoch 17/100\n",
      "181/181 [==============================] - 16s 87ms/step - loss: 1.4443e-05 - accuracy: 0.7172 - val_loss: 0.0027 - val_accuracy: 0.5887 - lr: 0.0768\n",
      "Epoch 18/100\n",
      "181/181 [==============================] - 16s 87ms/step - loss: 5.2516e-05 - accuracy: 0.7290 - val_loss: 0.0026 - val_accuracy: 0.5866 - lr: 0.0741\n",
      "Epoch 19/100\n",
      "181/181 [==============================] - 16s 87ms/step - loss: 9.5511e-05 - accuracy: 0.7193 - val_loss: 0.0027 - val_accuracy: 0.5866 - lr: 0.0713\n",
      "Epoch 20/100\n",
      "181/181 [==============================] - 16s 87ms/step - loss: 7.8756e-05 - accuracy: 0.7159 - val_loss: 0.0028 - val_accuracy: 0.5866 - lr: 0.0684\n",
      "Epoch 21/100\n",
      "181/181 [==============================] - 16s 87ms/step - loss: 3.1878e-05 - accuracy: 0.7210 - val_loss: 0.0028 - val_accuracy: 0.5887 - lr: 0.0655\n",
      "Epoch 22/100\n",
      "181/181 [==============================] - 16s 87ms/step - loss: 2.2556e-05 - accuracy: 0.7195 - val_loss: 0.0027 - val_accuracy: 0.5887 - lr: 0.0625\n",
      "Epoch 23/100\n",
      "181/181 [==============================] - 16s 87ms/step - loss: 1.0375e-05 - accuracy: 0.7290 - val_loss: 0.0027 - val_accuracy: 0.5887 - lr: 0.0594\n",
      "Epoch 24/100\n",
      "180/181 [============================>.] - ETA: 0s - loss: 7.9974e-05 - accuracy: 0.7216"
     ]
    },
    {
     "name": "stderr",
     "output_type": "stream",
     "text": [
      "WARNING:absl:Function `_wrapped_model` contains input name(s) Input with unsupported characters which will be renamed to input in the SavedModel.\n",
      "WARNING:absl:Found untraced functions such as lstm_cell_151_layer_call_fn, lstm_cell_151_layer_call_and_return_conditional_losses, lstm_cell_152_layer_call_fn, lstm_cell_152_layer_call_and_return_conditional_losses, lstm_cell_154_layer_call_fn while saving (showing 5 of 20). These functions will not be directly callable after loading.\n"
     ]
    },
    {
     "name": "stdout",
     "output_type": "stream",
     "text": [
      "INFO:tensorflow:Assets written to: experiments\\ResLSTM_Dec17_21-44-49\\base_ckpts\\cp_24.ckpt\\assets\n"
     ]
    },
    {
     "name": "stderr",
     "output_type": "stream",
     "text": [
      "INFO:tensorflow:Assets written to: experiments\\ResLSTM_Dec17_21-44-49\\base_ckpts\\cp_24.ckpt\\assets\n"
     ]
    },
    {
     "name": "stdout",
     "output_type": "stream",
     "text": [
      "181/181 [==============================] - 86s 475ms/step - loss: 7.9939e-05 - accuracy: 0.7216 - val_loss: 0.0026 - val_accuracy: 0.5971 - lr: 0.0563\n",
      "Epoch 25/100\n",
      "181/181 [==============================] - 16s 87ms/step - loss: 3.7329e-05 - accuracy: 0.7134 - val_loss: 0.0026 - val_accuracy: 0.5971 - lr: 0.0532\n",
      "Epoch 26/100\n",
      "181/181 [==============================] - 16s 86ms/step - loss: 4.8458e-05 - accuracy: 0.7156 - val_loss: 0.0026 - val_accuracy: 0.5950 - lr: 0.0501\n",
      "Epoch 27/100\n",
      "181/181 [==============================] - 16s 86ms/step - loss: 2.2508e-05 - accuracy: 0.7149 - val_loss: 0.0025 - val_accuracy: 0.5908 - lr: 0.0469\n",
      "Epoch 28/100\n",
      "181/181 [==============================] - 16s 87ms/step - loss: 8.8884e-06 - accuracy: 0.7216 - val_loss: 0.0025 - val_accuracy: 0.5908 - lr: 0.0438\n",
      "Epoch 29/100\n",
      "181/181 [==============================] - 16s 87ms/step - loss: 1.7979e-05 - accuracy: 0.7212 - val_loss: 0.0025 - val_accuracy: 0.5950 - lr: 0.0407\n",
      "Epoch 30/100\n",
      "181/181 [==============================] - 16s 87ms/step - loss: 4.4099e-05 - accuracy: 0.7111 - val_loss: 0.0025 - val_accuracy: 0.5971 - lr: 0.0376\n",
      "Epoch 31/100\n",
      "180/181 [============================>.] - ETA: 0s - loss: 8.9498e-05 - accuracy: 0.7163"
     ]
    },
    {
     "name": "stderr",
     "output_type": "stream",
     "text": [
      "WARNING:absl:Function `_wrapped_model` contains input name(s) Input with unsupported characters which will be renamed to input in the SavedModel.\n",
      "WARNING:absl:Found untraced functions such as lstm_cell_151_layer_call_fn, lstm_cell_151_layer_call_and_return_conditional_losses, lstm_cell_152_layer_call_fn, lstm_cell_152_layer_call_and_return_conditional_losses, lstm_cell_154_layer_call_fn while saving (showing 5 of 20). These functions will not be directly callable after loading.\n"
     ]
    },
    {
     "name": "stdout",
     "output_type": "stream",
     "text": [
      "INFO:tensorflow:Assets written to: experiments\\ResLSTM_Dec17_21-44-49\\base_ckpts\\cp_31.ckpt\\assets\n"
     ]
    },
    {
     "name": "stderr",
     "output_type": "stream",
     "text": [
      "INFO:tensorflow:Assets written to: experiments\\ResLSTM_Dec17_21-44-49\\base_ckpts\\cp_31.ckpt\\assets\n"
     ]
    },
    {
     "name": "stdout",
     "output_type": "stream",
     "text": [
      "181/181 [==============================] - 85s 470ms/step - loss: 8.9459e-05 - accuracy: 0.7164 - val_loss: 0.0025 - val_accuracy: 0.5992 - lr: 0.0346\n",
      "Epoch 32/100\n",
      "181/181 [==============================] - 16s 86ms/step - loss: 1.8249e-05 - accuracy: 0.7160 - val_loss: 0.0025 - val_accuracy: 0.5971 - lr: 0.0317\n",
      "Epoch 33/100\n",
      "181/181 [==============================] - 16s 86ms/step - loss: 2.4980e-05 - accuracy: 0.7177 - val_loss: 0.0024 - val_accuracy: 0.5908 - lr: 0.0288\n",
      "Epoch 34/100\n",
      "181/181 [==============================] - 16s 86ms/step - loss: 2.5607e-05 - accuracy: 0.7187 - val_loss: 0.0024 - val_accuracy: 0.5908 - lr: 0.0260\n",
      "Epoch 35/100\n",
      "181/181 [==============================] - 16s 86ms/step - loss: 2.7452e-05 - accuracy: 0.7160 - val_loss: 0.0024 - val_accuracy: 0.5908 - lr: 0.0233\n",
      "Epoch 36/100\n",
      "181/181 [==============================] - 16s 86ms/step - loss: 2.4842e-05 - accuracy: 0.7111 - val_loss: 0.0024 - val_accuracy: 0.5929 - lr: 0.0207\n",
      "Epoch 37/100\n",
      "181/181 [==============================] - 16s 86ms/step - loss: 1.8819e-05 - accuracy: 0.7190 - val_loss: 0.0024 - val_accuracy: 0.5908 - lr: 0.0182\n",
      "Epoch 38/100\n",
      "181/181 [==============================] - 16s 87ms/step - loss: 2.9679e-05 - accuracy: 0.7118 - val_loss: 0.0024 - val_accuracy: 0.5908 - lr: 0.0159\n",
      "Epoch 39/100\n",
      "181/181 [==============================] - 16s 86ms/step - loss: 1.3004e-05 - accuracy: 0.7111 - val_loss: 0.0024 - val_accuracy: 0.5908 - lr: 0.0136\n",
      "Epoch 40/100\n",
      "181/181 [==============================] - 16s 87ms/step - loss: 2.1920e-05 - accuracy: 0.7152 - val_loss: 0.0024 - val_accuracy: 0.5908 - lr: 0.0116\n",
      "Epoch 41/100\n",
      "181/181 [==============================] - 16s 87ms/step - loss: 1.2639e-05 - accuracy: 0.7154 - val_loss: 0.0024 - val_accuracy: 0.5908 - lr: 0.0096\n",
      "Epoch 42/100\n",
      "181/181 [==============================] - 16s 87ms/step - loss: 4.1114e-05 - accuracy: 0.7149 - val_loss: 0.0024 - val_accuracy: 0.5908 - lr: 0.0079\n",
      "Epoch 43/100\n",
      "181/181 [==============================] - 16s 86ms/step - loss: 4.6313e-05 - accuracy: 0.7196 - val_loss: 0.0024 - val_accuracy: 0.5929 - lr: 0.0063\n",
      "Epoch 44/100\n",
      "181/181 [==============================] - 16s 86ms/step - loss: 2.8573e-05 - accuracy: 0.7145 - val_loss: 0.0024 - val_accuracy: 0.5908 - lr: 0.0049\n",
      "Epoch 45/100\n",
      "181/181 [==============================] - 16s 86ms/step - loss: 4.4075e-05 - accuracy: 0.7140 - val_loss: 0.0024 - val_accuracy: 0.5908 - lr: 0.0036\n",
      "Epoch 46/100\n",
      "181/181 [==============================] - 16s 87ms/step - loss: 6.2781e-05 - accuracy: 0.7094 - val_loss: 0.0024 - val_accuracy: 0.5908 - lr: 0.0025\n",
      "Epoch 47/100\n",
      "181/181 [==============================] - 16s 86ms/step - loss: 4.3885e-05 - accuracy: 0.7095 - val_loss: 0.0024 - val_accuracy: 0.5908 - lr: 0.0017\n",
      "Epoch 48/100\n",
      "181/181 [==============================] - 16s 87ms/step - loss: 2.2625e-05 - accuracy: 0.7125 - val_loss: 0.0024 - val_accuracy: 0.5908 - lr: 9.8475e-04\n",
      "Epoch 49/100\n",
      "181/181 [==============================] - 15s 85ms/step - loss: 3.0325e-05 - accuracy: 0.7178 - val_loss: 0.0024 - val_accuracy: 0.5908 - lr: 4.9387e-04\n",
      "Epoch 50/100\n",
      "181/181 [==============================] - 16s 86ms/step - loss: 1.1403e-05 - accuracy: 0.7119 - val_loss: 0.0024 - val_accuracy: 0.5908 - lr: 1.9856e-04\n",
      "Epoch 51/100\n",
      "181/181 [==============================] - 16s 86ms/step - loss: 2.3657e-05 - accuracy: 0.7146 - val_loss: 0.0024 - val_accuracy: 0.5908 - lr: 1.0000e-04\n",
      "Epoch 52/100\n",
      "181/181 [==============================] - 16s 87ms/step - loss: 2.5433e-05 - accuracy: 0.7200 - val_loss: 0.0024 - val_accuracy: 0.5908 - lr: 1.9856e-04\n",
      "Epoch 53/100\n",
      "181/181 [==============================] - 16s 86ms/step - loss: 2.7740e-05 - accuracy: 0.7209 - val_loss: 0.0024 - val_accuracy: 0.5908 - lr: 4.9387e-04\n",
      "Epoch 54/100\n",
      "181/181 [==============================] - 16s 86ms/step - loss: 2.9887e-05 - accuracy: 0.7133 - val_loss: 0.0024 - val_accuracy: 0.5908 - lr: 9.8475e-04\n",
      "Epoch 55/100\n",
      "181/181 [==============================] - 16s 87ms/step - loss: 3.4201e-05 - accuracy: 0.7160 - val_loss: 0.0024 - val_accuracy: 0.5908 - lr: 0.0017\n",
      "Epoch 56/100\n",
      "181/181 [==============================] - 16s 87ms/step - loss: 1.1319e-05 - accuracy: 0.7123 - val_loss: 0.0024 - val_accuracy: 0.5908 - lr: 0.0025\n",
      "Epoch 57/100\n",
      "181/181 [==============================] - 16s 86ms/step - loss: 4.7723e-05 - accuracy: 0.7161 - val_loss: 0.0024 - val_accuracy: 0.5929 - lr: 0.0036\n",
      "Epoch 58/100\n",
      "181/181 [==============================] - 16s 86ms/step - loss: 1.1497e-05 - accuracy: 0.7100 - val_loss: 0.0024 - val_accuracy: 0.5929 - lr: 0.0049\n",
      "Epoch 59/100\n",
      "181/181 [==============================] - 16s 86ms/step - loss: 1.5309e-05 - accuracy: 0.7179 - val_loss: 0.0024 - val_accuracy: 0.5929 - lr: 0.0063\n",
      "Epoch 60/100\n",
      "181/181 [==============================] - 16s 87ms/step - loss: 2.7337e-05 - accuracy: 0.7186 - val_loss: 0.0024 - val_accuracy: 0.5929 - lr: 0.0079\n",
      "Epoch 61/100\n",
      "181/181 [==============================] - 16s 86ms/step - loss: 3.2606e-05 - accuracy: 0.7177 - val_loss: 0.0024 - val_accuracy: 0.5908 - lr: 0.0096\n",
      "Epoch 62/100\n",
      "181/181 [==============================] - 16s 86ms/step - loss: 3.5775e-05 - accuracy: 0.7152 - val_loss: 0.0024 - val_accuracy: 0.5929 - lr: 0.0116\n",
      "Epoch 63/100\n",
      "181/181 [==============================] - 16s 86ms/step - loss: 2.2892e-05 - accuracy: 0.7136 - val_loss: 0.0024 - val_accuracy: 0.5929 - lr: 0.0136\n",
      "Epoch 64/100\n",
      "181/181 [==============================] - 16s 86ms/step - loss: 3.8625e-05 - accuracy: 0.7137 - val_loss: 0.0024 - val_accuracy: 0.5908 - lr: 0.0159\n",
      "Epoch 65/100\n",
      "181/181 [==============================] - 16s 86ms/step - loss: 4.0264e-05 - accuracy: 0.7144 - val_loss: 0.0024 - val_accuracy: 0.5908 - lr: 0.0182\n",
      "Epoch 66/100\n",
      "181/181 [==============================] - 16s 87ms/step - loss: 4.2843e-05 - accuracy: 0.7129 - val_loss: 0.0024 - val_accuracy: 0.5908 - lr: 0.0207\n",
      "Epoch 67/100\n",
      "181/181 [==============================] - 16s 86ms/step - loss: 3.1919e-05 - accuracy: 0.7113 - val_loss: 0.0024 - val_accuracy: 0.5866 - lr: 0.0233\n",
      "Epoch 68/100\n",
      "181/181 [==============================] - 16s 86ms/step - loss: 4.5036e-05 - accuracy: 0.7202 - val_loss: 0.0024 - val_accuracy: 0.5908 - lr: 0.0260\n",
      "Epoch 69/100\n",
      "181/181 [==============================] - 16s 86ms/step - loss: 9.9269e-06 - accuracy: 0.7146 - val_loss: 0.0024 - val_accuracy: 0.5929 - lr: 0.0288\n",
      "Epoch 70/100\n",
      "181/181 [==============================] - 16s 86ms/step - loss: 2.3595e-05 - accuracy: 0.7112 - val_loss: 0.0024 - val_accuracy: 0.5929 - lr: 0.0317\n",
      "Epoch 71/100\n",
      "181/181 [==============================] - 16s 86ms/step - loss: 3.7324e-05 - accuracy: 0.7157 - val_loss: 0.0024 - val_accuracy: 0.5866 - lr: 0.0346\n",
      "Epoch 72/100\n",
      "181/181 [==============================] - 16s 86ms/step - loss: 3.9394e-05 - accuracy: 0.7179 - val_loss: 0.0024 - val_accuracy: 0.5887 - lr: 0.0376\n",
      "Epoch 73/100\n",
      "181/181 [==============================] - 16s 86ms/step - loss: 1.7271e-05 - accuracy: 0.7126 - val_loss: 0.0024 - val_accuracy: 0.5887 - lr: 0.0407\n",
      "Epoch 74/100\n",
      "181/181 [==============================] - 16s 87ms/step - loss: 1.7247e-05 - accuracy: 0.7138 - val_loss: 0.0024 - val_accuracy: 0.5887 - lr: 0.0438\n",
      "Epoch 75/100\n",
      "181/181 [==============================] - 16s 87ms/step - loss: 4.0533e-05 - accuracy: 0.7172 - val_loss: 0.0024 - val_accuracy: 0.5866 - lr: 0.0469\n",
      "Epoch 76/100\n",
      "181/181 [==============================] - 16s 86ms/step - loss: 6.7046e-05 - accuracy: 0.7198 - val_loss: 0.0024 - val_accuracy: 0.5887 - lr: 0.0501\n",
      "Epoch 77/100\n",
      "181/181 [==============================] - 16s 87ms/step - loss: 3.3279e-05 - accuracy: 0.7082 - val_loss: 0.0024 - val_accuracy: 0.5866 - lr: 0.0532\n",
      "Epoch 78/100\n",
      "181/181 [==============================] - 16s 86ms/step - loss: 3.9770e-05 - accuracy: 0.7166 - val_loss: 0.0023 - val_accuracy: 0.5887 - lr: 0.0563\n",
      "Epoch 79/100\n",
      "181/181 [==============================] - 16s 86ms/step - loss: 4.5420e-05 - accuracy: 0.7089 - val_loss: 0.0024 - val_accuracy: 0.5866 - lr: 0.0594\n",
      "Epoch 80/100\n",
      "181/181 [==============================] - 16s 86ms/step - loss: 1.5904e-05 - accuracy: 0.7164 - val_loss: 0.0024 - val_accuracy: 0.5866 - lr: 0.0625\n",
      "Epoch 81/100\n",
      "181/181 [==============================] - 16s 86ms/step - loss: 3.0033e-05 - accuracy: 0.7089 - val_loss: 0.0024 - val_accuracy: 0.5866 - lr: 0.0655\n",
      "Epoch 82/100\n",
      "181/181 [==============================] - 16s 86ms/step - loss: 3.4515e-05 - accuracy: 0.7090 - val_loss: 0.0025 - val_accuracy: 0.5846 - lr: 0.0684\n",
      "Epoch 83/100\n",
      "181/181 [==============================] - 16s 86ms/step - loss: 2.3450e-05 - accuracy: 0.7074 - val_loss: 0.0024 - val_accuracy: 0.5825 - lr: 0.0713\n",
      "Epoch 84/100\n",
      "181/181 [==============================] - 16s 87ms/step - loss: 2.4445e-05 - accuracy: 0.7016 - val_loss: 0.0024 - val_accuracy: 0.5846 - lr: 0.0741\n",
      "Epoch 85/100\n",
      "181/181 [==============================] - 16s 86ms/step - loss: 3.6202e-05 - accuracy: 0.7079 - val_loss: 0.0025 - val_accuracy: 0.5866 - lr: 0.0768\n",
      "Epoch 86/100\n",
      "181/181 [==============================] - 16s 86ms/step - loss: 6.0454e-05 - accuracy: 0.7050 - val_loss: 0.0025 - val_accuracy: 0.5846 - lr: 0.0794\n",
      "Epoch 87/100\n",
      "181/181 [==============================] - 16s 86ms/step - loss: 1.9637e-05 - accuracy: 0.7067 - val_loss: 0.0025 - val_accuracy: 0.5846 - lr: 0.0819\n",
      "Epoch 88/100\n",
      "181/181 [==============================] - 16s 86ms/step - loss: 2.4473e-05 - accuracy: 0.7103 - val_loss: 0.0025 - val_accuracy: 0.5846 - lr: 0.0842\n",
      "Epoch 89/100\n",
      "181/181 [==============================] - 16s 87ms/step - loss: 1.8579e-05 - accuracy: 0.7098 - val_loss: 0.0025 - val_accuracy: 0.5866 - lr: 0.0865\n",
      "Epoch 90/100\n",
      "181/181 [==============================] - 16s 87ms/step - loss: 4.4449e-05 - accuracy: 0.7050 - val_loss: 0.0023 - val_accuracy: 0.5929 - lr: 0.0885\n",
      "Epoch 91/100\n",
      "181/181 [==============================] - 16s 86ms/step - loss: 3.7974e-05 - accuracy: 0.7127 - val_loss: 0.0023 - val_accuracy: 0.5929 - lr: 0.0905\n",
      "Epoch 92/100\n",
      "181/181 [==============================] - 16s 87ms/step - loss: 1.6619e-05 - accuracy: 0.7078 - val_loss: 0.0023 - val_accuracy: 0.5908 - lr: 0.0922\n",
      "Epoch 93/100\n",
      "181/181 [==============================] - 16s 87ms/step - loss: 1.3283e-05 - accuracy: 0.7089 - val_loss: 0.0023 - val_accuracy: 0.5887 - lr: 0.0938\n",
      "Epoch 94/100\n",
      "181/181 [==============================] - 16s 87ms/step - loss: 1.2727e-05 - accuracy: 0.7125 - val_loss: 0.0023 - val_accuracy: 0.5908 - lr: 0.0952\n",
      "Epoch 95/100\n",
      "181/181 [==============================] - 16s 86ms/step - loss: 1.5799e-05 - accuracy: 0.7151 - val_loss: 0.0023 - val_accuracy: 0.5929 - lr: 0.0965\n",
      "Epoch 96/100\n",
      "181/181 [==============================] - 16s 86ms/step - loss: 9.5822e-06 - accuracy: 0.7144 - val_loss: 0.0023 - val_accuracy: 0.5908 - lr: 0.0976\n",
      "Epoch 97/100\n",
      "181/181 [==============================] - 16s 87ms/step - loss: 2.0654e-05 - accuracy: 0.7146 - val_loss: 0.0023 - val_accuracy: 0.5929 - lr: 0.0984\n",
      "Epoch 98/100\n",
      "181/181 [==============================] - 16s 86ms/step - loss: 4.7068e-05 - accuracy: 0.7082 - val_loss: 0.0023 - val_accuracy: 0.5866 - lr: 0.0991\n",
      "Epoch 99/100\n",
      "181/181 [==============================] - 16s 87ms/step - loss: 2.0118e-05 - accuracy: 0.7076 - val_loss: 0.0023 - val_accuracy: 0.5887 - lr: 0.0996\n",
      "Epoch 100/100\n",
      "181/181 [==============================] - 16s 86ms/step - loss: 1.2301e-05 - accuracy: 0.7110 - val_loss: 0.0023 - val_accuracy: 0.5887 - lr: 0.0999\n"
     ]
    }
   ],
   "source": [
    "callbacks, date = create_folders_and_callbacks(foldermode)\n",
    "callbacks.append(CosineAnnealingScheduler(T_max=50, eta_max=1e-1, eta_min=1e-4))\n",
    "history = model.fit(\n",
    "    generator,\n",
    "    validation_data = val_generator,\n",
    "    epochs = 100,\n",
    "    shuffle=False,\n",
    "    callbacks=callbacks\n",
    ").history"
   ]
  },
  {
   "cell_type": "code",
   "execution_count": 28,
   "metadata": {
    "pycharm": {
     "name": "#%%\n"
    }
   },
   "outputs": [],
   "source": [
    "model=tfk.models.load_model(\"experiments/KF_4.ckpt/base_ckpts/cp_351.ckpt\")"
   ]
  },
  {
   "cell_type": "code",
   "execution_count": 37,
   "metadata": {
    "colab": {
     "base_uri": "https://localhost:8080/"
    },
    "id": "cc-JuDZrKXTP",
    "outputId": "e853c051-910f-4e30-8c68-05097e659a6d",
    "scrolled": true,
    "pycharm": {
     "name": "#%%\n"
    }
   },
   "outputs": [],
   "source": [
    "model.compile(\n",
    "            loss=categorical_focal_loss,\n",
    "            optimizer=tfk.optimizers.SGD(learning_rate=1e-1),\n",
    "            metrics=['accuracy']\n",
    "        )"
   ]
  },
  {
   "cell_type": "code",
   "execution_count": 38,
   "metadata": {
    "id": "dNfvyxx1trut",
    "pycharm": {
     "name": "#%%\n"
    }
   },
   "outputs": [
    {
     "name": "stdout",
     "output_type": "stream",
     "text": [
      "Dec18_02-38-29\n",
      "ResLSTM_Dec18_02-38-29\n"
     ]
    }
   ],
   "source": [
    "generator=AugmentDataGenerator(X_train_KF[4],y_train_KF[4],p=0.5)\n",
    "val_generator=AugmentDataGenerator(X_val_KF[4],y_val_KF[4],p=0)\n",
    "callbacks, date = create_folders_and_callbacks(foldermode)\n",
    "callbacks.append(CosineAnnealingScheduler(T_max=50, eta_max=1e-1, eta_min=1e-4))\n",
    "\n",
    "foldername = foldermode + '_' + str(date)\n",
    "print(foldername)"
   ]
  },
  {
   "cell_type": "code",
   "execution_count": 39,
   "metadata": {
    "id": "v-Ro_nnJKXTP",
    "outputId": "9c5d9cab-ead8-4471-fa2c-b74a7f9efb1b",
    "pycharm": {
     "name": "#%%\n"
    }
   },
   "outputs": [
    {
     "name": "stdout",
     "output_type": "stream",
     "text": [
      "Epoch 1/100\n",
      "  6/182 [..............................] - ETA: 20s - loss: 1.2682e-04 - accuracy: 0.7630WARNING:tensorflow:Callback method `on_train_batch_end` is slow compared to the batch time (batch time: 0.0824s vs `on_train_batch_end` time: 0.6011s). Check your callbacks.\n",
      "181/182 [============================>.] - ETA: 0s - loss: 3.9546e-04 - accuracy: 0.8218"
     ]
    },
    {
     "name": "stderr",
     "output_type": "stream",
     "text": [
      "WARNING:absl:Function `_wrapped_model` contains input name(s) Input with unsupported characters which will be renamed to input in the SavedModel.\n",
      "WARNING:absl:Found untraced functions such as lstm_cell_1_layer_call_fn, lstm_cell_1_layer_call_and_return_conditional_losses, lstm_cell_2_layer_call_fn, lstm_cell_2_layer_call_and_return_conditional_losses, lstm_cell_4_layer_call_fn while saving (showing 5 of 20). These functions will not be directly callable after loading.\n"
     ]
    },
    {
     "name": "stdout",
     "output_type": "stream",
     "text": [
      "INFO:tensorflow:Assets written to: experiments\\ResLSTM_Dec18_02-38-29\\base_ckpts\\cp_01.ckpt\\assets\n"
     ]
    },
    {
     "name": "stderr",
     "output_type": "stream",
     "text": [
      "INFO:tensorflow:Assets written to: experiments\\ResLSTM_Dec18_02-38-29\\base_ckpts\\cp_01.ckpt\\assets\n"
     ]
    },
    {
     "name": "stdout",
     "output_type": "stream",
     "text": [
      "182/182 [==============================] - 100s 475ms/step - loss: 3.9520e-04 - accuracy: 0.8217 - val_loss: 0.0082 - val_accuracy: 0.7495 - lr: 0.1000\n",
      "Epoch 2/100\n",
      "182/182 [==============================] - 14s 76ms/step - loss: 4.0105e-04 - accuracy: 0.8131 - val_loss: 0.0074 - val_accuracy: 0.7453 - lr: 0.0999\n",
      "Epoch 3/100\n",
      "182/182 [==============================] - 14s 77ms/step - loss: 4.2298e-04 - accuracy: 0.7993 - val_loss: 0.0069 - val_accuracy: 0.7495 - lr: 0.0996\n",
      "Epoch 4/100\n",
      "182/182 [==============================] - 14s 77ms/step - loss: 3.7660e-04 - accuracy: 0.8009 - val_loss: 0.0064 - val_accuracy: 0.7474 - lr: 0.0991\n",
      "Epoch 5/100\n",
      "182/182 [==============================] - 14s 78ms/step - loss: 2.9111e-04 - accuracy: 0.7990 - val_loss: 0.0065 - val_accuracy: 0.7390 - lr: 0.0984\n",
      "Epoch 6/100\n",
      "182/182 [==============================] - 14s 78ms/step - loss: 3.8133e-04 - accuracy: 0.7993 - val_loss: 0.0061 - val_accuracy: 0.7432 - lr: 0.0976\n",
      "Epoch 7/100\n",
      "182/182 [==============================] - 14s 78ms/step - loss: 3.0889e-04 - accuracy: 0.7874 - val_loss: 0.0052 - val_accuracy: 0.7432 - lr: 0.0965\n",
      "Epoch 8/100\n",
      "182/182 [==============================] - 14s 79ms/step - loss: 2.2952e-04 - accuracy: 0.7918 - val_loss: 0.0050 - val_accuracy: 0.7390 - lr: 0.0952\n",
      "Epoch 9/100\n",
      "182/182 [==============================] - 14s 78ms/step - loss: 2.5734e-04 - accuracy: 0.7861 - val_loss: 0.0047 - val_accuracy: 0.7370 - lr: 0.0938\n",
      "Epoch 10/100\n",
      "182/182 [==============================] - 14s 78ms/step - loss: 1.5746e-04 - accuracy: 0.7937 - val_loss: 0.0045 - val_accuracy: 0.7286 - lr: 0.0922\n",
      "Epoch 11/100\n",
      "182/182 [==============================] - 14s 78ms/step - loss: 2.6664e-04 - accuracy: 0.7962 - val_loss: 0.0042 - val_accuracy: 0.7223 - lr: 0.0905\n",
      "Epoch 12/100\n",
      "182/182 [==============================] - 14s 78ms/step - loss: 2.3529e-04 - accuracy: 0.7877 - val_loss: 0.0042 - val_accuracy: 0.7244 - lr: 0.0885\n",
      "Epoch 13/100\n",
      "182/182 [==============================] - 14s 78ms/step - loss: 1.4867e-04 - accuracy: 0.7987 - val_loss: 0.0040 - val_accuracy: 0.7265 - lr: 0.0865\n",
      "Epoch 14/100\n",
      "182/182 [==============================] - 14s 78ms/step - loss: 1.7120e-04 - accuracy: 0.7914 - val_loss: 0.0038 - val_accuracy: 0.7203 - lr: 0.0842\n",
      "Epoch 15/100\n",
      "182/182 [==============================] - 14s 77ms/step - loss: 1.2734e-04 - accuracy: 0.7937 - val_loss: 0.0039 - val_accuracy: 0.7161 - lr: 0.0819\n",
      "Epoch 16/100\n",
      "182/182 [==============================] - 14s 78ms/step - loss: 1.3978e-04 - accuracy: 0.7833 - val_loss: 0.0037 - val_accuracy: 0.7203 - lr: 0.0794\n",
      "Epoch 17/100\n",
      "182/182 [==============================] - 14s 78ms/step - loss: 1.5428e-04 - accuracy: 0.7823 - val_loss: 0.0035 - val_accuracy: 0.7140 - lr: 0.0768\n",
      "Epoch 18/100\n",
      "182/182 [==============================] - 14s 78ms/step - loss: 9.5311e-05 - accuracy: 0.7873 - val_loss: 0.0034 - val_accuracy: 0.7119 - lr: 0.0741\n",
      "Epoch 19/100\n",
      "182/182 [==============================] - 14s 78ms/step - loss: 1.3033e-04 - accuracy: 0.7855 - val_loss: 0.0033 - val_accuracy: 0.7056 - lr: 0.0713\n",
      "Epoch 20/100\n",
      "182/182 [==============================] - 14s 78ms/step - loss: 1.1846e-04 - accuracy: 0.7904 - val_loss: 0.0032 - val_accuracy: 0.7056 - lr: 0.0684\n",
      "Epoch 21/100\n",
      "182/182 [==============================] - 14s 78ms/step - loss: 1.5470e-04 - accuracy: 0.7855 - val_loss: 0.0031 - val_accuracy: 0.7035 - lr: 0.0655\n",
      "Epoch 22/100\n",
      "182/182 [==============================] - 14s 78ms/step - loss: 1.1331e-04 - accuracy: 0.7778 - val_loss: 0.0030 - val_accuracy: 0.7056 - lr: 0.0625\n",
      "Epoch 23/100\n",
      "182/182 [==============================] - 14s 78ms/step - loss: 1.3711e-04 - accuracy: 0.7780 - val_loss: 0.0028 - val_accuracy: 0.6973 - lr: 0.0594\n",
      "Epoch 24/100\n",
      "182/182 [==============================] - 14s 78ms/step - loss: 1.7028e-04 - accuracy: 0.7717 - val_loss: 0.0028 - val_accuracy: 0.6973 - lr: 0.0563\n",
      "Epoch 25/100\n",
      "182/182 [==============================] - 14s 78ms/step - loss: 1.5649e-04 - accuracy: 0.7780 - val_loss: 0.0028 - val_accuracy: 0.6973 - lr: 0.0532\n",
      "Epoch 26/100\n",
      "182/182 [==============================] - 14s 78ms/step - loss: 1.4516e-04 - accuracy: 0.7852 - val_loss: 0.0027 - val_accuracy: 0.7035 - lr: 0.0501\n",
      "Epoch 27/100\n",
      "182/182 [==============================] - 14s 78ms/step - loss: 1.9146e-04 - accuracy: 0.7867 - val_loss: 0.0026 - val_accuracy: 0.6952 - lr: 0.0469\n",
      "Epoch 28/100\n",
      "182/182 [==============================] - 14s 78ms/step - loss: 1.5608e-04 - accuracy: 0.7870 - val_loss: 0.0025 - val_accuracy: 0.6973 - lr: 0.0438\n",
      "Epoch 29/100\n",
      "182/182 [==============================] - 14s 77ms/step - loss: 1.6472e-04 - accuracy: 0.7859 - val_loss: 0.0025 - val_accuracy: 0.6952 - lr: 0.0407\n",
      "Epoch 30/100\n",
      "182/182 [==============================] - 14s 78ms/step - loss: 1.6920e-04 - accuracy: 0.7912 - val_loss: 0.0025 - val_accuracy: 0.6952 - lr: 0.0376\n",
      "Epoch 31/100\n",
      "182/182 [==============================] - 14s 78ms/step - loss: 8.1332e-05 - accuracy: 0.7803 - val_loss: 0.0025 - val_accuracy: 0.7015 - lr: 0.0346\n",
      "Epoch 32/100\n",
      "182/182 [==============================] - 14s 78ms/step - loss: 1.0562e-04 - accuracy: 0.7807 - val_loss: 0.0025 - val_accuracy: 0.7015 - lr: 0.0317\n",
      "Epoch 33/100\n",
      "182/182 [==============================] - 14s 78ms/step - loss: 1.5027e-04 - accuracy: 0.7868 - val_loss: 0.0025 - val_accuracy: 0.7056 - lr: 0.0288\n",
      "Epoch 34/100\n",
      "182/182 [==============================] - 14s 78ms/step - loss: 1.0811e-04 - accuracy: 0.7784 - val_loss: 0.0025 - val_accuracy: 0.7035 - lr: 0.0260\n",
      "Epoch 35/100\n",
      "182/182 [==============================] - 14s 79ms/step - loss: 1.1149e-04 - accuracy: 0.7793 - val_loss: 0.0024 - val_accuracy: 0.7077 - lr: 0.0233\n",
      "Epoch 36/100\n",
      "182/182 [==============================] - 14s 78ms/step - loss: 1.4450e-04 - accuracy: 0.7827 - val_loss: 0.0024 - val_accuracy: 0.7015 - lr: 0.0207\n",
      "Epoch 37/100\n",
      "182/182 [==============================] - 14s 77ms/step - loss: 1.7552e-04 - accuracy: 0.7834 - val_loss: 0.0024 - val_accuracy: 0.7015 - lr: 0.0182\n",
      "Epoch 38/100\n",
      "182/182 [==============================] - 14s 78ms/step - loss: 1.1526e-04 - accuracy: 0.7853 - val_loss: 0.0023 - val_accuracy: 0.7035 - lr: 0.0159\n",
      "Epoch 39/100\n",
      "182/182 [==============================] - 14s 78ms/step - loss: 1.2053e-04 - accuracy: 0.7774 - val_loss: 0.0023 - val_accuracy: 0.7035 - lr: 0.0136\n",
      "Epoch 40/100\n",
      "182/182 [==============================] - 14s 78ms/step - loss: 5.4354e-05 - accuracy: 0.7826 - val_loss: 0.0023 - val_accuracy: 0.7035 - lr: 0.0116\n",
      "Epoch 41/100\n",
      "182/182 [==============================] - 14s 78ms/step - loss: 9.3116e-05 - accuracy: 0.7785 - val_loss: 0.0023 - val_accuracy: 0.7035 - lr: 0.0096\n",
      "Epoch 42/100\n",
      "182/182 [==============================] - 14s 78ms/step - loss: 1.2300e-04 - accuracy: 0.7814 - val_loss: 0.0023 - val_accuracy: 0.7035 - lr: 0.0079\n",
      "Epoch 43/100\n",
      "182/182 [==============================] - 14s 78ms/step - loss: 8.4732e-05 - accuracy: 0.7778 - val_loss: 0.0023 - val_accuracy: 0.7015 - lr: 0.0063\n",
      "Epoch 44/100\n",
      "182/182 [==============================] - 14s 78ms/step - loss: 7.8951e-05 - accuracy: 0.7802 - val_loss: 0.0023 - val_accuracy: 0.7015 - lr: 0.0049\n",
      "Epoch 45/100\n",
      "182/182 [==============================] - 14s 78ms/step - loss: 1.2270e-04 - accuracy: 0.7737 - val_loss: 0.0023 - val_accuracy: 0.7015 - lr: 0.0036\n",
      "Epoch 46/100\n",
      "182/182 [==============================] - 14s 78ms/step - loss: 1.3500e-04 - accuracy: 0.7813 - val_loss: 0.0023 - val_accuracy: 0.7015 - lr: 0.0025\n",
      "Epoch 47/100\n",
      "182/182 [==============================] - 14s 78ms/step - loss: 8.3907e-05 - accuracy: 0.7802 - val_loss: 0.0023 - val_accuracy: 0.7015 - lr: 0.0017\n",
      "Epoch 48/100\n",
      "182/182 [==============================] - 14s 78ms/step - loss: 1.6218e-04 - accuracy: 0.7806 - val_loss: 0.0023 - val_accuracy: 0.7015 - lr: 9.8475e-04\n",
      "Epoch 49/100\n",
      "182/182 [==============================] - 14s 77ms/step - loss: 1.2856e-04 - accuracy: 0.7827 - val_loss: 0.0023 - val_accuracy: 0.7015 - lr: 4.9387e-04\n",
      "Epoch 50/100\n",
      "182/182 [==============================] - 14s 78ms/step - loss: 1.5263e-04 - accuracy: 0.7799 - val_loss: 0.0023 - val_accuracy: 0.7015 - lr: 1.9856e-04\n",
      "Epoch 51/100\n",
      "182/182 [==============================] - 14s 78ms/step - loss: 9.2184e-05 - accuracy: 0.7816 - val_loss: 0.0023 - val_accuracy: 0.7015 - lr: 1.0000e-04\n",
      "Epoch 52/100\n",
      "182/182 [==============================] - 14s 78ms/step - loss: 1.4218e-04 - accuracy: 0.7812 - val_loss: 0.0023 - val_accuracy: 0.7015 - lr: 1.9856e-04\n",
      "Epoch 53/100\n",
      "182/182 [==============================] - 14s 78ms/step - loss: 1.6977e-04 - accuracy: 0.7776 - val_loss: 0.0023 - val_accuracy: 0.7015 - lr: 4.9387e-04\n",
      "Epoch 54/100\n",
      "182/182 [==============================] - 14s 79ms/step - loss: 1.3163e-04 - accuracy: 0.7752 - val_loss: 0.0023 - val_accuracy: 0.7035 - lr: 9.8475e-04\n",
      "Epoch 55/100\n",
      "182/182 [==============================] - 14s 78ms/step - loss: 1.1405e-04 - accuracy: 0.7881 - val_loss: 0.0023 - val_accuracy: 0.7035 - lr: 0.0017\n",
      "Epoch 56/100\n",
      "182/182 [==============================] - 14s 77ms/step - loss: 5.4166e-05 - accuracy: 0.7819 - val_loss: 0.0023 - val_accuracy: 0.7015 - lr: 0.0025\n",
      "Epoch 57/100\n",
      "182/182 [==============================] - 14s 77ms/step - loss: 1.5095e-04 - accuracy: 0.7920 - val_loss: 0.0023 - val_accuracy: 0.7015 - lr: 0.0036\n",
      "Epoch 58/100\n",
      "182/182 [==============================] - 14s 79ms/step - loss: 9.9358e-05 - accuracy: 0.7787 - val_loss: 0.0023 - val_accuracy: 0.7015 - lr: 0.0049\n",
      "Epoch 59/100\n",
      "182/182 [==============================] - 14s 78ms/step - loss: 8.3548e-05 - accuracy: 0.7776 - val_loss: 0.0023 - val_accuracy: 0.7015 - lr: 0.0063\n",
      "Epoch 60/100\n",
      "182/182 [==============================] - 14s 78ms/step - loss: 6.1545e-05 - accuracy: 0.7803 - val_loss: 0.0023 - val_accuracy: 0.7015 - lr: 0.0079\n",
      "Epoch 61/100\n",
      "182/182 [==============================] - 14s 79ms/step - loss: 7.9958e-05 - accuracy: 0.7780 - val_loss: 0.0023 - val_accuracy: 0.7015 - lr: 0.0096\n",
      "Epoch 62/100\n",
      "182/182 [==============================] - 14s 78ms/step - loss: 1.7531e-04 - accuracy: 0.7779 - val_loss: 0.0023 - val_accuracy: 0.6994 - lr: 0.0116\n",
      "Epoch 63/100\n",
      "182/182 [==============================] - 14s 77ms/step - loss: 6.0203e-05 - accuracy: 0.7795 - val_loss: 0.0023 - val_accuracy: 0.6994 - lr: 0.0136\n",
      "Epoch 64/100\n",
      "182/182 [==============================] - 14s 78ms/step - loss: 1.2470e-04 - accuracy: 0.7759 - val_loss: 0.0023 - val_accuracy: 0.7015 - lr: 0.0159\n",
      "Epoch 65/100\n",
      "182/182 [==============================] - 14s 78ms/step - loss: 1.2816e-04 - accuracy: 0.7776 - val_loss: 0.0023 - val_accuracy: 0.7056 - lr: 0.0182\n",
      "Epoch 66/100\n",
      "182/182 [==============================] - 14s 78ms/step - loss: 1.0677e-04 - accuracy: 0.7793 - val_loss: 0.0023 - val_accuracy: 0.7015 - lr: 0.0207\n",
      "Epoch 67/100\n",
      "182/182 [==============================] - 14s 78ms/step - loss: 5.3989e-05 - accuracy: 0.7795 - val_loss: 0.0023 - val_accuracy: 0.7035 - lr: 0.0233\n",
      "Epoch 68/100\n",
      "182/182 [==============================] - 14s 78ms/step - loss: 6.8526e-05 - accuracy: 0.7813 - val_loss: 0.0023 - val_accuracy: 0.7035 - lr: 0.0260\n",
      "Epoch 69/100\n",
      "182/182 [==============================] - 14s 78ms/step - loss: 1.4249e-04 - accuracy: 0.7811 - val_loss: 0.0023 - val_accuracy: 0.7015 - lr: 0.0288\n",
      "Epoch 70/100\n",
      "182/182 [==============================] - 14s 78ms/step - loss: 1.1869e-04 - accuracy: 0.7778 - val_loss: 0.0022 - val_accuracy: 0.6994 - lr: 0.0317\n",
      "Epoch 71/100\n",
      "182/182 [==============================] - 14s 78ms/step - loss: 1.2562e-04 - accuracy: 0.7795 - val_loss: 0.0022 - val_accuracy: 0.7035 - lr: 0.0346\n",
      "Epoch 72/100\n",
      "182/182 [==============================] - 14s 78ms/step - loss: 1.5118e-04 - accuracy: 0.7792 - val_loss: 0.0021 - val_accuracy: 0.7015 - lr: 0.0376\n",
      "Epoch 73/100\n",
      "182/182 [==============================] - 14s 78ms/step - loss: 1.4679e-04 - accuracy: 0.7810 - val_loss: 0.0021 - val_accuracy: 0.6994 - lr: 0.0407\n",
      "Epoch 74/100\n",
      "182/182 [==============================] - 14s 77ms/step - loss: 8.2307e-05 - accuracy: 0.7817 - val_loss: 0.0021 - val_accuracy: 0.7077 - lr: 0.0438\n",
      "Epoch 75/100\n",
      "182/182 [==============================] - 14s 78ms/step - loss: 8.0875e-05 - accuracy: 0.7791 - val_loss: 0.0021 - val_accuracy: 0.7015 - lr: 0.0469\n",
      "Epoch 76/100\n",
      "182/182 [==============================] - 14s 78ms/step - loss: 1.2153e-04 - accuracy: 0.7768 - val_loss: 0.0021 - val_accuracy: 0.7015 - lr: 0.0501\n",
      "Epoch 77/100\n",
      "182/182 [==============================] - 14s 78ms/step - loss: 5.0717e-05 - accuracy: 0.7870 - val_loss: 0.0020 - val_accuracy: 0.7056 - lr: 0.0532\n",
      "Epoch 78/100\n",
      "182/182 [==============================] - 14s 78ms/step - loss: 7.0071e-05 - accuracy: 0.7825 - val_loss: 0.0019 - val_accuracy: 0.7140 - lr: 0.0563\n",
      "Epoch 79/100\n",
      "182/182 [==============================] - 14s 78ms/step - loss: 9.4406e-05 - accuracy: 0.7781 - val_loss: 0.0019 - val_accuracy: 0.7119 - lr: 0.0594\n",
      "Epoch 80/100\n",
      "182/182 [==============================] - 14s 78ms/step - loss: 7.6552e-05 - accuracy: 0.7844 - val_loss: 0.0018 - val_accuracy: 0.7098 - lr: 0.0625\n",
      "Epoch 81/100\n",
      "182/182 [==============================] - 14s 78ms/step - loss: 7.6254e-05 - accuracy: 0.7850 - val_loss: 0.0018 - val_accuracy: 0.7119 - lr: 0.0655\n",
      "Epoch 82/100\n",
      "182/182 [==============================] - 14s 78ms/step - loss: 5.1128e-05 - accuracy: 0.7822 - val_loss: 0.0018 - val_accuracy: 0.7098 - lr: 0.0684\n",
      "Epoch 83/100\n",
      "182/182 [==============================] - 14s 77ms/step - loss: 6.8300e-05 - accuracy: 0.7805 - val_loss: 0.0018 - val_accuracy: 0.7056 - lr: 0.0713\n",
      "Epoch 84/100\n",
      "182/182 [==============================] - 14s 78ms/step - loss: 7.2804e-05 - accuracy: 0.7872 - val_loss: 0.0017 - val_accuracy: 0.7056 - lr: 0.0741\n",
      "Epoch 85/100\n",
      "182/182 [==============================] - 14s 78ms/step - loss: 7.5601e-05 - accuracy: 0.7689 - val_loss: 0.0018 - val_accuracy: 0.6994 - lr: 0.0768\n",
      "Epoch 86/100\n",
      "182/182 [==============================] - 14s 77ms/step - loss: 9.4585e-05 - accuracy: 0.7799 - val_loss: 0.0018 - val_accuracy: 0.7098 - lr: 0.0794\n",
      "Epoch 87/100\n",
      "182/182 [==============================] - 14s 78ms/step - loss: 5.5173e-05 - accuracy: 0.7846 - val_loss: 0.0018 - val_accuracy: 0.7119 - lr: 0.0819\n",
      "Epoch 88/100\n",
      "182/182 [==============================] - 14s 78ms/step - loss: 8.5183e-05 - accuracy: 0.7879 - val_loss: 0.0017 - val_accuracy: 0.7140 - lr: 0.0842\n",
      "Epoch 89/100\n",
      "182/182 [==============================] - 14s 78ms/step - loss: 1.0527e-04 - accuracy: 0.7844 - val_loss: 0.0017 - val_accuracy: 0.7161 - lr: 0.0865\n",
      "Epoch 90/100\n",
      "182/182 [==============================] - 14s 78ms/step - loss: 1.4837e-04 - accuracy: 0.7842 - val_loss: 0.0017 - val_accuracy: 0.7140 - lr: 0.0885\n",
      "Epoch 91/100\n",
      "182/182 [==============================] - 14s 79ms/step - loss: 5.8205e-05 - accuracy: 0.7767 - val_loss: 0.0017 - val_accuracy: 0.7119 - lr: 0.0905\n",
      "Epoch 92/100\n",
      "182/182 [==============================] - 14s 78ms/step - loss: 2.7554e-04 - accuracy: 0.7753 - val_loss: 0.0016 - val_accuracy: 0.7035 - lr: 0.0922\n",
      "Epoch 93/100\n",
      "182/182 [==============================] - 14s 77ms/step - loss: 6.0202e-05 - accuracy: 0.7709 - val_loss: 0.0016 - val_accuracy: 0.7035 - lr: 0.0938\n",
      "Epoch 94/100\n",
      "182/182 [==============================] - 14s 78ms/step - loss: 6.9901e-05 - accuracy: 0.7660 - val_loss: 0.0016 - val_accuracy: 0.7077 - lr: 0.0952\n",
      "Epoch 95/100\n",
      "182/182 [==============================] - 14s 78ms/step - loss: 8.3312e-05 - accuracy: 0.7708 - val_loss: 0.0016 - val_accuracy: 0.7015 - lr: 0.0965\n",
      "Epoch 96/100\n",
      "182/182 [==============================] - 14s 79ms/step - loss: 6.6250e-05 - accuracy: 0.7710 - val_loss: 0.0015 - val_accuracy: 0.7035 - lr: 0.0976\n",
      "Epoch 97/100\n",
      "182/182 [==============================] - 14s 78ms/step - loss: 6.8020e-05 - accuracy: 0.7580 - val_loss: 0.0015 - val_accuracy: 0.6973 - lr: 0.0984\n",
      "Epoch 98/100\n",
      "182/182 [==============================] - 14s 78ms/step - loss: 3.7130e-05 - accuracy: 0.7685 - val_loss: 0.0015 - val_accuracy: 0.6952 - lr: 0.0991\n",
      "Epoch 99/100\n",
      "182/182 [==============================] - 14s 79ms/step - loss: 7.6048e-05 - accuracy: 0.7680 - val_loss: 0.0015 - val_accuracy: 0.6952 - lr: 0.0996\n",
      "Epoch 100/100\n",
      "182/182 [==============================] - 14s 78ms/step - loss: 4.0051e-05 - accuracy: 0.7637 - val_loss: 0.0015 - val_accuracy: 0.6973 - lr: 0.0999\n"
     ]
    }
   ],
   "source": [
    "history = model.fit(\n",
    "    generator,\n",
    "    validation_data = val_generator,\n",
    "    epochs = 100,\n",
    "    shuffle=False,\n",
    "    callbacks=callbacks\n",
    ").history"
   ]
  },
  {
   "cell_type": "code",
   "execution_count": 40,
   "metadata": {
    "pycharm": {
     "name": "#%%\n"
    }
   },
   "outputs": [
    {
     "name": "stdout",
     "output_type": "stream",
     "text": [
      "Dec18_03-03-42\n",
      "Epoch 1/100\n",
      "  6/182 [..............................] - ETA: 17s - loss: 1.1801e-05 - accuracy: 0.7474WARNING:tensorflow:Callback method `on_train_batch_end` is slow compared to the batch time (batch time: 0.0661s vs `on_train_batch_end` time: 0.4368s). Check your callbacks.\n"
     ]
    },
    {
     "name": "stderr",
     "output_type": "stream",
     "text": [
      "WARNING:tensorflow:Callback method `on_train_batch_end` is slow compared to the batch time (batch time: 0.0661s vs `on_train_batch_end` time: 0.4368s). Check your callbacks.\n"
     ]
    },
    {
     "name": "stdout",
     "output_type": "stream",
     "text": [
      "181/182 [============================>.] - ETA: 0s - loss: 7.8230e-05 - accuracy: 0.7611"
     ]
    },
    {
     "name": "stderr",
     "output_type": "stream",
     "text": [
      "WARNING:absl:Function `_wrapped_model` contains input name(s) Input with unsupported characters which will be renamed to input in the SavedModel.\n",
      "WARNING:absl:Found untraced functions such as lstm_cell_1_layer_call_fn, lstm_cell_1_layer_call_and_return_conditional_losses, lstm_cell_2_layer_call_fn, lstm_cell_2_layer_call_and_return_conditional_losses, lstm_cell_4_layer_call_fn while saving (showing 5 of 20). These functions will not be directly callable after loading.\n"
     ]
    },
    {
     "name": "stdout",
     "output_type": "stream",
     "text": [
      "INFO:tensorflow:Assets written to: experiments\\ResLSTM_Dec18_03-03-42\\base_ckpts\\cp_01.ckpt\\assets\n"
     ]
    },
    {
     "name": "stderr",
     "output_type": "stream",
     "text": [
      "INFO:tensorflow:Assets written to: experiments\\ResLSTM_Dec18_03-03-42\\base_ckpts\\cp_01.ckpt\\assets\n"
     ]
    },
    {
     "name": "stdout",
     "output_type": "stream",
     "text": [
      "182/182 [==============================] - 89s 475ms/step - loss: 7.8176e-05 - accuracy: 0.7613 - val_loss: 0.0015 - val_accuracy: 0.6994 - lr: 0.1000\n",
      "Epoch 2/100\n",
      "182/182 [==============================] - 14s 78ms/step - loss: 9.7659e-05 - accuracy: 0.7566 - val_loss: 0.0014 - val_accuracy: 0.6931 - lr: 0.0999\n",
      "Epoch 3/100\n",
      "182/182 [==============================] - 14s 78ms/step - loss: 5.0250e-05 - accuracy: 0.7597 - val_loss: 0.0014 - val_accuracy: 0.6827 - lr: 0.0996\n",
      "Epoch 4/100\n",
      "182/182 [==============================] - 14s 77ms/step - loss: 4.1831e-05 - accuracy: 0.7517 - val_loss: 0.0014 - val_accuracy: 0.6889 - lr: 0.0991\n",
      "Epoch 5/100\n",
      "182/182 [==============================] - 14s 78ms/step - loss: 5.8207e-05 - accuracy: 0.7547 - val_loss: 0.0013 - val_accuracy: 0.6889 - lr: 0.0984\n",
      "Epoch 6/100\n",
      "182/182 [==============================] - 14s 78ms/step - loss: 6.1643e-05 - accuracy: 0.7604 - val_loss: 0.0013 - val_accuracy: 0.6889 - lr: 0.0976\n",
      "Epoch 7/100\n",
      "182/182 [==============================] - 14s 77ms/step - loss: 5.3681e-05 - accuracy: 0.7543 - val_loss: 0.0013 - val_accuracy: 0.6868 - lr: 0.0965\n",
      "Epoch 8/100\n",
      "182/182 [==============================] - 14s 78ms/step - loss: 7.1268e-05 - accuracy: 0.7538 - val_loss: 0.0013 - val_accuracy: 0.6889 - lr: 0.0952\n",
      "Epoch 9/100\n",
      "182/182 [==============================] - 14s 78ms/step - loss: 3.4711e-05 - accuracy: 0.7577 - val_loss: 0.0012 - val_accuracy: 0.6827 - lr: 0.0938\n",
      "Epoch 10/100\n",
      "182/182 [==============================] - 14s 78ms/step - loss: 3.5738e-05 - accuracy: 0.7604 - val_loss: 0.0012 - val_accuracy: 0.6910 - lr: 0.0922\n",
      "Epoch 11/100\n",
      "182/182 [==============================] - 14s 78ms/step - loss: 4.4705e-05 - accuracy: 0.7595 - val_loss: 0.0012 - val_accuracy: 0.6889 - lr: 0.0905\n",
      "Epoch 12/100\n",
      "182/182 [==============================] - 14s 78ms/step - loss: 2.7032e-05 - accuracy: 0.7604 - val_loss: 0.0012 - val_accuracy: 0.6931 - lr: 0.0885\n",
      "Epoch 13/100\n",
      "182/182 [==============================] - 14s 78ms/step - loss: 4.1417e-05 - accuracy: 0.7564 - val_loss: 0.0012 - val_accuracy: 0.6931 - lr: 0.0865\n",
      "Epoch 14/100\n",
      "182/182 [==============================] - 14s 78ms/step - loss: 8.0230e-05 - accuracy: 0.7650 - val_loss: 0.0012 - val_accuracy: 0.6889 - lr: 0.0842\n",
      "Epoch 15/100\n",
      "182/182 [==============================] - 14s 78ms/step - loss: 9.9455e-05 - accuracy: 0.7567 - val_loss: 0.0011 - val_accuracy: 0.6931 - lr: 0.0819\n",
      "Epoch 16/100\n",
      "182/182 [==============================] - 14s 79ms/step - loss: 2.9781e-05 - accuracy: 0.7524 - val_loss: 0.0011 - val_accuracy: 0.6889 - lr: 0.0794\n",
      "Epoch 17/100\n",
      "182/182 [==============================] - 14s 78ms/step - loss: 1.1486e-04 - accuracy: 0.7453 - val_loss: 0.0011 - val_accuracy: 0.6806 - lr: 0.0768\n",
      "Epoch 18/100\n",
      "182/182 [==============================] - 14s 79ms/step - loss: 4.9717e-05 - accuracy: 0.7485 - val_loss: 0.0011 - val_accuracy: 0.6827 - lr: 0.0741\n",
      "Epoch 19/100\n",
      "182/182 [==============================] - 14s 77ms/step - loss: 3.6044e-05 - accuracy: 0.7556 - val_loss: 0.0011 - val_accuracy: 0.6868 - lr: 0.0713\n",
      "Epoch 20/100\n",
      "182/182 [==============================] - 14s 78ms/step - loss: 4.3997e-05 - accuracy: 0.7542 - val_loss: 0.0011 - val_accuracy: 0.6868 - lr: 0.0684\n",
      "Epoch 21/100\n",
      "182/182 [==============================] - 14s 78ms/step - loss: 2.8048e-05 - accuracy: 0.7519 - val_loss: 0.0010 - val_accuracy: 0.6868 - lr: 0.0655\n",
      "Epoch 22/100\n",
      "182/182 [==============================] - 14s 77ms/step - loss: 3.6262e-05 - accuracy: 0.7571 - val_loss: 0.0010 - val_accuracy: 0.6868 - lr: 0.0625\n",
      "Epoch 23/100\n",
      "182/182 [==============================] - 14s 78ms/step - loss: 8.0604e-05 - accuracy: 0.7605 - val_loss: 0.0010 - val_accuracy: 0.6785 - lr: 0.0594\n",
      "Epoch 24/100\n",
      "182/182 [==============================] - 14s 78ms/step - loss: 4.1501e-05 - accuracy: 0.7581 - val_loss: 0.0010 - val_accuracy: 0.6868 - lr: 0.0563\n",
      "Epoch 25/100\n",
      "182/182 [==============================] - 14s 78ms/step - loss: 3.6566e-05 - accuracy: 0.7503 - val_loss: 0.0010 - val_accuracy: 0.6764 - lr: 0.0532\n",
      "Epoch 26/100\n",
      "182/182 [==============================] - 14s 77ms/step - loss: 2.8829e-05 - accuracy: 0.7509 - val_loss: 0.0010 - val_accuracy: 0.6785 - lr: 0.0501\n",
      "Epoch 27/100\n",
      "182/182 [==============================] - 14s 78ms/step - loss: 7.1202e-05 - accuracy: 0.7565 - val_loss: 9.8926e-04 - val_accuracy: 0.6722 - lr: 0.0469\n",
      "Epoch 28/100\n",
      "182/182 [==============================] - 14s 78ms/step - loss: 5.3427e-05 - accuracy: 0.7490 - val_loss: 9.9329e-04 - val_accuracy: 0.6764 - lr: 0.0438\n",
      "Epoch 29/100\n",
      "182/182 [==============================] - 14s 78ms/step - loss: 3.0758e-05 - accuracy: 0.7585 - val_loss: 9.9406e-04 - val_accuracy: 0.6785 - lr: 0.0407\n",
      "Epoch 30/100\n",
      "182/182 [==============================] - 14s 79ms/step - loss: 6.2505e-05 - accuracy: 0.7513 - val_loss: 9.9397e-04 - val_accuracy: 0.6722 - lr: 0.0376\n",
      "Epoch 31/100\n",
      "182/182 [==============================] - 14s 78ms/step - loss: 7.8102e-05 - accuracy: 0.7528 - val_loss: 9.9280e-04 - val_accuracy: 0.6681 - lr: 0.0346\n",
      "Epoch 32/100\n",
      "182/182 [==============================] - 14s 78ms/step - loss: 4.4188e-05 - accuracy: 0.7507 - val_loss: 9.8823e-04 - val_accuracy: 0.6681 - lr: 0.0317\n",
      "Epoch 33/100\n",
      "182/182 [==============================] - 14s 78ms/step - loss: 2.3948e-05 - accuracy: 0.7524 - val_loss: 9.7770e-04 - val_accuracy: 0.6660 - lr: 0.0288\n",
      "Epoch 34/100\n",
      "182/182 [==============================] - 14s 78ms/step - loss: 3.3977e-05 - accuracy: 0.7494 - val_loss: 9.7324e-04 - val_accuracy: 0.6639 - lr: 0.0260\n",
      "Epoch 35/100\n",
      "182/182 [==============================] - 14s 78ms/step - loss: 3.8933e-05 - accuracy: 0.7503 - val_loss: 9.7645e-04 - val_accuracy: 0.6806 - lr: 0.0233\n",
      "Epoch 36/100\n",
      "182/182 [==============================] - 14s 78ms/step - loss: 8.3061e-05 - accuracy: 0.7566 - val_loss: 9.7584e-04 - val_accuracy: 0.6827 - lr: 0.0207\n",
      "Epoch 37/100\n",
      "182/182 [==============================] - 14s 78ms/step - loss: 3.1625e-05 - accuracy: 0.7508 - val_loss: 9.7482e-04 - val_accuracy: 0.6827 - lr: 0.0182\n",
      "Epoch 38/100\n",
      "182/182 [==============================] - 14s 77ms/step - loss: 4.6085e-05 - accuracy: 0.7516 - val_loss: 9.7223e-04 - val_accuracy: 0.6806 - lr: 0.0159\n",
      "Epoch 39/100\n",
      "182/182 [==============================] - 14s 78ms/step - loss: 2.9065e-05 - accuracy: 0.7524 - val_loss: 9.7086e-04 - val_accuracy: 0.6785 - lr: 0.0136\n",
      "Epoch 40/100\n",
      "182/182 [==============================] - 14s 78ms/step - loss: 4.5532e-05 - accuracy: 0.7587 - val_loss: 9.6929e-04 - val_accuracy: 0.6743 - lr: 0.0116\n",
      "Epoch 41/100\n",
      "182/182 [==============================] - 14s 77ms/step - loss: 3.9432e-05 - accuracy: 0.7588 - val_loss: 9.6923e-04 - val_accuracy: 0.6743 - lr: 0.0096\n",
      "Epoch 42/100\n",
      "182/182 [==============================] - 14s 78ms/step - loss: 2.2363e-05 - accuracy: 0.7506 - val_loss: 9.6805e-04 - val_accuracy: 0.6743 - lr: 0.0079\n",
      "Epoch 43/100\n",
      "182/182 [==============================] - 14s 78ms/step - loss: 3.7990e-05 - accuracy: 0.7579 - val_loss: 9.6749e-04 - val_accuracy: 0.6743 - lr: 0.0063\n",
      "Epoch 44/100\n",
      "182/182 [==============================] - 14s 79ms/step - loss: 5.7862e-05 - accuracy: 0.7615 - val_loss: 9.6706e-04 - val_accuracy: 0.6743 - lr: 0.0049\n",
      "Epoch 45/100\n",
      "182/182 [==============================] - 14s 79ms/step - loss: 2.7552e-05 - accuracy: 0.7523 - val_loss: 9.6609e-04 - val_accuracy: 0.6743 - lr: 0.0036\n",
      "Epoch 46/100\n",
      "182/182 [==============================] - 14s 78ms/step - loss: 5.3976e-05 - accuracy: 0.7547 - val_loss: 9.6612e-04 - val_accuracy: 0.6764 - lr: 0.0025\n",
      "Epoch 47/100\n",
      "182/182 [==============================] - 14s 78ms/step - loss: 9.2861e-05 - accuracy: 0.7593 - val_loss: 9.6602e-04 - val_accuracy: 0.6764 - lr: 0.0017\n",
      "Epoch 48/100\n",
      "182/182 [==============================] - 14s 78ms/step - loss: 3.4701e-05 - accuracy: 0.7546 - val_loss: 9.6594e-04 - val_accuracy: 0.6764 - lr: 9.8475e-04\n",
      "Epoch 49/100\n",
      "182/182 [==============================] - 14s 77ms/step - loss: 3.7547e-05 - accuracy: 0.7564 - val_loss: 9.6607e-04 - val_accuracy: 0.6764 - lr: 4.9387e-04\n",
      "Epoch 50/100\n",
      "182/182 [==============================] - 14s 78ms/step - loss: 2.7018e-05 - accuracy: 0.7566 - val_loss: 9.6608e-04 - val_accuracy: 0.6764 - lr: 1.9856e-04\n"
     ]
    },
    {
     "name": "stdout",
     "output_type": "stream",
     "text": [
      "Epoch 51/100\n",
      "182/182 [==============================] - 14s 78ms/step - loss: 1.1839e-04 - accuracy: 0.7553 - val_loss: 9.6579e-04 - val_accuracy: 0.6764 - lr: 1.0000e-04\n",
      "Epoch 52/100\n",
      "182/182 [==============================] - 14s 78ms/step - loss: 4.4318e-05 - accuracy: 0.7547 - val_loss: 9.6595e-04 - val_accuracy: 0.6764 - lr: 1.9856e-04\n",
      "Epoch 53/100\n",
      "182/182 [==============================] - 14s 78ms/step - loss: 3.6903e-05 - accuracy: 0.7537 - val_loss: 9.6571e-04 - val_accuracy: 0.6764 - lr: 4.9387e-04\n",
      "Epoch 54/100\n",
      "182/182 [==============================] - 14s 78ms/step - loss: 8.1089e-05 - accuracy: 0.7509 - val_loss: 9.6587e-04 - val_accuracy: 0.6764 - lr: 9.8475e-04\n",
      "Epoch 55/100\n",
      "182/182 [==============================] - 14s 79ms/step - loss: 5.3752e-05 - accuracy: 0.7562 - val_loss: 9.6546e-04 - val_accuracy: 0.6764 - lr: 0.0017\n",
      "Epoch 56/100\n",
      "182/182 [==============================] - 14s 78ms/step - loss: 2.3934e-05 - accuracy: 0.7560 - val_loss: 9.6570e-04 - val_accuracy: 0.6764 - lr: 0.0025\n",
      "Epoch 57/100\n",
      "182/182 [==============================] - 14s 78ms/step - loss: 4.7021e-05 - accuracy: 0.7558 - val_loss: 9.6535e-04 - val_accuracy: 0.6764 - lr: 0.0036\n",
      "Epoch 58/100\n",
      "182/182 [==============================] - 14s 78ms/step - loss: 5.5546e-05 - accuracy: 0.7546 - val_loss: 9.6485e-04 - val_accuracy: 0.6764 - lr: 0.0049\n",
      "Epoch 59/100\n",
      "182/182 [==============================] - 14s 79ms/step - loss: 4.2834e-05 - accuracy: 0.7591 - val_loss: 9.6432e-04 - val_accuracy: 0.6743 - lr: 0.0063\n",
      "Epoch 60/100\n",
      "182/182 [==============================] - 14s 78ms/step - loss: 3.8585e-05 - accuracy: 0.7557 - val_loss: 9.6133e-04 - val_accuracy: 0.6743 - lr: 0.0079\n",
      "Epoch 61/100\n",
      "182/182 [==============================] - 14s 78ms/step - loss: 6.1320e-05 - accuracy: 0.7562 - val_loss: 9.6017e-04 - val_accuracy: 0.6743 - lr: 0.0096\n",
      "Epoch 62/100\n",
      "182/182 [==============================] - 14s 78ms/step - loss: 2.1705e-05 - accuracy: 0.7573 - val_loss: 9.6368e-04 - val_accuracy: 0.6743 - lr: 0.0116\n",
      "Epoch 63/100\n",
      "182/182 [==============================] - 14s 78ms/step - loss: 2.8895e-05 - accuracy: 0.7547 - val_loss: 9.6378e-04 - val_accuracy: 0.6743 - lr: 0.0136\n",
      "Epoch 64/100\n",
      "182/182 [==============================] - 14s 78ms/step - loss: 6.6825e-05 - accuracy: 0.7480 - val_loss: 9.6259e-04 - val_accuracy: 0.6743 - lr: 0.0159\n",
      "Epoch 65/100\n",
      "182/182 [==============================] - 14s 78ms/step - loss: 9.0880e-05 - accuracy: 0.7541 - val_loss: 9.5080e-04 - val_accuracy: 0.6701 - lr: 0.0182\n",
      "Epoch 66/100\n",
      "182/182 [==============================] - 14s 77ms/step - loss: 4.2151e-05 - accuracy: 0.7516 - val_loss: 9.4544e-04 - val_accuracy: 0.6743 - lr: 0.0207\n",
      "Epoch 67/100\n",
      "182/182 [==============================] - 14s 78ms/step - loss: 4.2296e-05 - accuracy: 0.7500 - val_loss: 9.4239e-04 - val_accuracy: 0.6743 - lr: 0.0233\n",
      "Epoch 68/100\n",
      "182/182 [==============================] - 14s 78ms/step - loss: 5.3847e-05 - accuracy: 0.7542 - val_loss: 9.3602e-04 - val_accuracy: 0.6764 - lr: 0.0260\n",
      "Epoch 69/100\n",
      "182/182 [==============================] - 14s 77ms/step - loss: 2.7287e-05 - accuracy: 0.7572 - val_loss: 9.3426e-04 - val_accuracy: 0.6743 - lr: 0.0288\n",
      "Epoch 70/100\n",
      "182/182 [==============================] - 14s 78ms/step - loss: 4.2777e-05 - accuracy: 0.7616 - val_loss: 9.3327e-04 - val_accuracy: 0.6785 - lr: 0.0317\n",
      "Epoch 71/100\n",
      "182/182 [==============================] - 14s 79ms/step - loss: 2.0327e-05 - accuracy: 0.7618 - val_loss: 9.2961e-04 - val_accuracy: 0.6785 - lr: 0.0346\n",
      "Epoch 72/100\n",
      "182/182 [==============================] - 14s 78ms/step - loss: 4.1434e-05 - accuracy: 0.7540 - val_loss: 9.2609e-04 - val_accuracy: 0.6743 - lr: 0.0376\n",
      "Epoch 73/100\n",
      "182/182 [==============================] - 14s 77ms/step - loss: 6.9608e-05 - accuracy: 0.7518 - val_loss: 9.2427e-04 - val_accuracy: 0.6701 - lr: 0.0407\n",
      "Epoch 74/100\n",
      "182/182 [==============================] - 14s 78ms/step - loss: 3.3990e-05 - accuracy: 0.7578 - val_loss: 9.1830e-04 - val_accuracy: 0.6764 - lr: 0.0438\n",
      "Epoch 75/100\n",
      "182/182 [==============================] - 14s 78ms/step - loss: 2.4192e-05 - accuracy: 0.7551 - val_loss: 9.1639e-04 - val_accuracy: 0.6743 - lr: 0.0469\n",
      "Epoch 76/100\n",
      "182/182 [==============================] - 14s 78ms/step - loss: 4.5787e-05 - accuracy: 0.7576 - val_loss: 9.1250e-04 - val_accuracy: 0.6743 - lr: 0.0501\n",
      "Epoch 77/100\n",
      "182/182 [==============================] - 14s 78ms/step - loss: 5.3058e-05 - accuracy: 0.7635 - val_loss: 9.1387e-04 - val_accuracy: 0.6722 - lr: 0.0532\n",
      "Epoch 78/100\n",
      "182/182 [==============================] - 14s 78ms/step - loss: 1.5266e-05 - accuracy: 0.7572 - val_loss: 9.0755e-04 - val_accuracy: 0.6722 - lr: 0.0563\n",
      "Epoch 79/100\n",
      "182/182 [==============================] - 14s 78ms/step - loss: 5.0432e-05 - accuracy: 0.7563 - val_loss: 8.9982e-04 - val_accuracy: 0.6743 - lr: 0.0594\n",
      "Epoch 80/100\n",
      "182/182 [==============================] - 14s 79ms/step - loss: 2.8806e-05 - accuracy: 0.7544 - val_loss: 8.9598e-04 - val_accuracy: 0.6701 - lr: 0.0625\n",
      "Epoch 81/100\n",
      "182/182 [==============================] - 14s 78ms/step - loss: 3.8641e-05 - accuracy: 0.7544 - val_loss: 8.8809e-04 - val_accuracy: 0.6722 - lr: 0.0655\n",
      "Epoch 82/100\n",
      "182/182 [==============================] - 14s 78ms/step - loss: 2.7327e-05 - accuracy: 0.7588 - val_loss: 8.7545e-04 - val_accuracy: 0.6722 - lr: 0.0684\n",
      "Epoch 83/100\n",
      "182/182 [==============================] - 14s 78ms/step - loss: 9.0101e-06 - accuracy: 0.7582 - val_loss: 8.7208e-04 - val_accuracy: 0.6701 - lr: 0.0713\n",
      "Epoch 84/100\n",
      "182/182 [==============================] - 14s 78ms/step - loss: 3.4926e-05 - accuracy: 0.7604 - val_loss: 8.6565e-04 - val_accuracy: 0.6722 - lr: 0.0741\n",
      "Epoch 85/100\n",
      "182/182 [==============================] - 14s 78ms/step - loss: 6.3474e-05 - accuracy: 0.7501 - val_loss: 8.4898e-04 - val_accuracy: 0.6681 - lr: 0.0768\n",
      "Epoch 86/100\n",
      "182/182 [==============================] - 14s 78ms/step - loss: 4.0363e-05 - accuracy: 0.7547 - val_loss: 8.4139e-04 - val_accuracy: 0.6764 - lr: 0.0794\n",
      "Epoch 87/100\n",
      "182/182 [==============================] - 14s 78ms/step - loss: 2.6198e-05 - accuracy: 0.7574 - val_loss: 8.4585e-04 - val_accuracy: 0.6722 - lr: 0.0819\n",
      "Epoch 88/100\n",
      "182/182 [==============================] - 14s 78ms/step - loss: 3.8628e-05 - accuracy: 0.7527 - val_loss: 8.3742e-04 - val_accuracy: 0.6743 - lr: 0.0842\n",
      "Epoch 89/100\n",
      "182/182 [==============================] - 14s 78ms/step - loss: 2.9049e-05 - accuracy: 0.7481 - val_loss: 8.0299e-04 - val_accuracy: 0.6701 - lr: 0.0865\n",
      "Epoch 90/100\n",
      "182/182 [==============================] - 14s 78ms/step - loss: 2.7111e-05 - accuracy: 0.7595 - val_loss: 7.9653e-04 - val_accuracy: 0.6681 - lr: 0.0885\n",
      "Epoch 91/100\n",
      "182/182 [==============================] - 14s 78ms/step - loss: 2.8793e-05 - accuracy: 0.7550 - val_loss: 7.8825e-04 - val_accuracy: 0.6681 - lr: 0.0905\n",
      "Epoch 92/100\n",
      "182/182 [==============================] - 14s 78ms/step - loss: 2.2772e-05 - accuracy: 0.7579 - val_loss: 7.8767e-04 - val_accuracy: 0.6660 - lr: 0.0922\n",
      "Epoch 93/100\n",
      "182/182 [==============================] - 14s 78ms/step - loss: 5.3732e-05 - accuracy: 0.7517 - val_loss: 7.7612e-04 - val_accuracy: 0.6681 - lr: 0.0938\n",
      "Epoch 94/100\n",
      "182/182 [==============================] - 14s 78ms/step - loss: 3.9155e-05 - accuracy: 0.7574 - val_loss: 7.5777e-04 - val_accuracy: 0.6701 - lr: 0.0952\n",
      "Epoch 95/100\n",
      "182/182 [==============================] - 14s 78ms/step - loss: 1.8123e-05 - accuracy: 0.7509 - val_loss: 7.4841e-04 - val_accuracy: 0.6722 - lr: 0.0965\n",
      "Epoch 96/100\n",
      "182/182 [==============================] - 14s 78ms/step - loss: 7.5320e-06 - accuracy: 0.7556 - val_loss: 7.4566e-04 - val_accuracy: 0.6722 - lr: 0.0976\n",
      "Epoch 97/100\n",
      "182/182 [==============================] - 14s 78ms/step - loss: 5.8375e-05 - accuracy: 0.7563 - val_loss: 7.5244e-04 - val_accuracy: 0.6743 - lr: 0.0984\n",
      "Epoch 98/100\n",
      "182/182 [==============================] - 14s 78ms/step - loss: 5.0280e-05 - accuracy: 0.7560 - val_loss: 7.2896e-04 - val_accuracy: 0.6764 - lr: 0.0991\n",
      "Epoch 99/100\n",
      "182/182 [==============================] - 14s 78ms/step - loss: 3.2881e-05 - accuracy: 0.7549 - val_loss: 7.1769e-04 - val_accuracy: 0.6785 - lr: 0.0996\n"
     ]
    },
    {
     "name": "stdout",
     "output_type": "stream",
     "text": [
      "Epoch 100/100\n",
      "182/182 [==============================] - 14s 78ms/step - loss: 1.7464e-05 - accuracy: 0.7480 - val_loss: 7.1000e-04 - val_accuracy: 0.6743 - lr: 0.0999\n"
     ]
    }
   ],
   "source": [
    "callbacks, date = create_folders_and_callbacks(foldermode)\n",
    "callbacks.append(CosineAnnealingScheduler(T_max=50, eta_max=1e-1, eta_min=1e-4))\n",
    "history = model.fit(\n",
    "    generator,\n",
    "    validation_data = val_generator,\n",
    "    epochs = 100,\n",
    "    shuffle=False,\n",
    "    callbacks=callbacks\n",
    ").history"
   ]
  },
  {
   "cell_type": "code",
   "execution_count": 41,
   "metadata": {
    "pycharm": {
     "name": "#%%\n"
    }
   },
   "outputs": [
    {
     "name": "stdout",
     "output_type": "stream",
     "text": [
      "Dec18_03-28-42\n",
      "Epoch 1/100\n",
      "  6/182 [..............................] - ETA: 18s - loss: 1.2208e-05 - accuracy: 0.7526WARNING:tensorflow:Callback method `on_train_batch_end` is slow compared to the batch time (batch time: 0.0707s vs `on_train_batch_end` time: 0.4378s). Check your callbacks.\n"
     ]
    },
    {
     "name": "stderr",
     "output_type": "stream",
     "text": [
      "WARNING:tensorflow:Callback method `on_train_batch_end` is slow compared to the batch time (batch time: 0.0707s vs `on_train_batch_end` time: 0.4378s). Check your callbacks.\n"
     ]
    },
    {
     "name": "stdout",
     "output_type": "stream",
     "text": [
      "181/182 [============================>.] - ETA: 0s - loss: 9.3682e-05 - accuracy: 0.7514"
     ]
    },
    {
     "name": "stderr",
     "output_type": "stream",
     "text": [
      "WARNING:absl:Function `_wrapped_model` contains input name(s) Input with unsupported characters which will be renamed to input in the SavedModel.\n",
      "WARNING:absl:Found untraced functions such as lstm_cell_1_layer_call_fn, lstm_cell_1_layer_call_and_return_conditional_losses, lstm_cell_2_layer_call_fn, lstm_cell_2_layer_call_and_return_conditional_losses, lstm_cell_4_layer_call_fn while saving (showing 5 of 20). These functions will not be directly callable after loading.\n"
     ]
    },
    {
     "name": "stdout",
     "output_type": "stream",
     "text": [
      "INFO:tensorflow:Assets written to: experiments\\ResLSTM_Dec18_03-28-42\\base_ckpts\\cp_01.ckpt\\assets\n"
     ]
    },
    {
     "name": "stderr",
     "output_type": "stream",
     "text": [
      "INFO:tensorflow:Assets written to: experiments\\ResLSTM_Dec18_03-28-42\\base_ckpts\\cp_01.ckpt\\assets\n"
     ]
    },
    {
     "name": "stdout",
     "output_type": "stream",
     "text": [
      "182/182 [==============================] - 87s 465ms/step - loss: 9.3622e-05 - accuracy: 0.7513 - val_loss: 7.1791e-04 - val_accuracy: 0.6764 - lr: 0.1000\n",
      "Epoch 2/100\n",
      "182/182 [==============================] - 15s 78ms/step - loss: 3.2666e-05 - accuracy: 0.7506 - val_loss: 7.2569e-04 - val_accuracy: 0.6743 - lr: 0.0999\n",
      "Epoch 3/100\n",
      "181/182 [============================>.] - ETA: 0s - loss: 4.1507e-05 - accuracy: 0.7416"
     ]
    },
    {
     "name": "stderr",
     "output_type": "stream",
     "text": [
      "WARNING:absl:Function `_wrapped_model` contains input name(s) Input with unsupported characters which will be renamed to input in the SavedModel.\n",
      "WARNING:absl:Found untraced functions such as lstm_cell_1_layer_call_fn, lstm_cell_1_layer_call_and_return_conditional_losses, lstm_cell_2_layer_call_fn, lstm_cell_2_layer_call_and_return_conditional_losses, lstm_cell_4_layer_call_fn while saving (showing 5 of 20). These functions will not be directly callable after loading.\n"
     ]
    },
    {
     "name": "stdout",
     "output_type": "stream",
     "text": [
      "INFO:tensorflow:Assets written to: experiments\\ResLSTM_Dec18_03-28-42\\base_ckpts\\cp_03.ckpt\\assets\n"
     ]
    },
    {
     "name": "stderr",
     "output_type": "stream",
     "text": [
      "INFO:tensorflow:Assets written to: experiments\\ResLSTM_Dec18_03-28-42\\base_ckpts\\cp_03.ckpt\\assets\n"
     ]
    },
    {
     "name": "stdout",
     "output_type": "stream",
     "text": [
      "182/182 [==============================] - 86s 474ms/step - loss: 4.1479e-05 - accuracy: 0.7416 - val_loss: 7.0581e-04 - val_accuracy: 0.6785 - lr: 0.0996\n",
      "Epoch 4/100\n",
      "181/182 [============================>.] - ETA: 0s - loss: 4.5176e-05 - accuracy: 0.7411"
     ]
    },
    {
     "name": "stderr",
     "output_type": "stream",
     "text": [
      "WARNING:absl:Function `_wrapped_model` contains input name(s) Input with unsupported characters which will be renamed to input in the SavedModel.\n",
      "WARNING:absl:Found untraced functions such as lstm_cell_1_layer_call_fn, lstm_cell_1_layer_call_and_return_conditional_losses, lstm_cell_2_layer_call_fn, lstm_cell_2_layer_call_and_return_conditional_losses, lstm_cell_4_layer_call_fn while saving (showing 5 of 20). These functions will not be directly callable after loading.\n"
     ]
    },
    {
     "name": "stdout",
     "output_type": "stream",
     "text": [
      "INFO:tensorflow:Assets written to: experiments\\ResLSTM_Dec18_03-28-42\\base_ckpts\\cp_04.ckpt\\assets\n"
     ]
    },
    {
     "name": "stderr",
     "output_type": "stream",
     "text": [
      "INFO:tensorflow:Assets written to: experiments\\ResLSTM_Dec18_03-28-42\\base_ckpts\\cp_04.ckpt\\assets\n"
     ]
    },
    {
     "name": "stdout",
     "output_type": "stream",
     "text": [
      "182/182 [==============================] - 83s 458ms/step - loss: 4.5146e-05 - accuracy: 0.7412 - val_loss: 6.9255e-04 - val_accuracy: 0.6827 - lr: 0.0991\n",
      "Epoch 5/100\n",
      "181/182 [============================>.] - ETA: 0s - loss: 2.6562e-05 - accuracy: 0.7524"
     ]
    },
    {
     "name": "stderr",
     "output_type": "stream",
     "text": [
      "WARNING:absl:Function `_wrapped_model` contains input name(s) Input with unsupported characters which will be renamed to input in the SavedModel.\n",
      "WARNING:absl:Found untraced functions such as lstm_cell_1_layer_call_fn, lstm_cell_1_layer_call_and_return_conditional_losses, lstm_cell_2_layer_call_fn, lstm_cell_2_layer_call_and_return_conditional_losses, lstm_cell_4_layer_call_fn while saving (showing 5 of 20). These functions will not be directly callable after loading.\n"
     ]
    },
    {
     "name": "stdout",
     "output_type": "stream",
     "text": [
      "INFO:tensorflow:Assets written to: experiments\\ResLSTM_Dec18_03-28-42\\base_ckpts\\cp_05.ckpt\\assets\n"
     ]
    },
    {
     "name": "stderr",
     "output_type": "stream",
     "text": [
      "INFO:tensorflow:Assets written to: experiments\\ResLSTM_Dec18_03-28-42\\base_ckpts\\cp_05.ckpt\\assets\n"
     ]
    },
    {
     "name": "stdout",
     "output_type": "stream",
     "text": [
      "182/182 [==============================] - 84s 462ms/step - loss: 2.6544e-05 - accuracy: 0.7524 - val_loss: 6.8343e-04 - val_accuracy: 0.6848 - lr: 0.0984\n",
      "Epoch 6/100\n",
      "181/182 [============================>.] - ETA: 0s - loss: 3.8208e-05 - accuracy: 0.7451"
     ]
    },
    {
     "name": "stderr",
     "output_type": "stream",
     "text": [
      "WARNING:absl:Function `_wrapped_model` contains input name(s) Input with unsupported characters which will be renamed to input in the SavedModel.\n",
      "WARNING:absl:Found untraced functions such as lstm_cell_1_layer_call_fn, lstm_cell_1_layer_call_and_return_conditional_losses, lstm_cell_2_layer_call_fn, lstm_cell_2_layer_call_and_return_conditional_losses, lstm_cell_4_layer_call_fn while saving (showing 5 of 20). These functions will not be directly callable after loading.\n"
     ]
    },
    {
     "name": "stdout",
     "output_type": "stream",
     "text": [
      "INFO:tensorflow:Assets written to: experiments\\ResLSTM_Dec18_03-28-42\\base_ckpts\\cp_06.ckpt\\assets\n"
     ]
    },
    {
     "name": "stderr",
     "output_type": "stream",
     "text": [
      "INFO:tensorflow:Assets written to: experiments\\ResLSTM_Dec18_03-28-42\\base_ckpts\\cp_06.ckpt\\assets\n"
     ]
    },
    {
     "name": "stdout",
     "output_type": "stream",
     "text": [
      "182/182 [==============================] - 85s 467ms/step - loss: 3.8182e-05 - accuracy: 0.7451 - val_loss: 6.8615e-04 - val_accuracy: 0.6889 - lr: 0.0976\n",
      "Epoch 7/100\n",
      "182/182 [==============================] - 15s 78ms/step - loss: 2.2939e-05 - accuracy: 0.7478 - val_loss: 6.8967e-04 - val_accuracy: 0.6848 - lr: 0.0965\n",
      "Epoch 8/100\n",
      "182/182 [==============================] - 14s 78ms/step - loss: 2.0387e-05 - accuracy: 0.7567 - val_loss: 6.8715e-04 - val_accuracy: 0.6806 - lr: 0.0952\n",
      "Epoch 9/100\n",
      "182/182 [==============================] - 14s 78ms/step - loss: 1.7150e-05 - accuracy: 0.7456 - val_loss: 6.7699e-04 - val_accuracy: 0.6827 - lr: 0.0938\n",
      "Epoch 10/100\n",
      "182/182 [==============================] - 14s 77ms/step - loss: 3.1392e-05 - accuracy: 0.7508 - val_loss: 6.6993e-04 - val_accuracy: 0.6868 - lr: 0.0922\n",
      "Epoch 11/100\n",
      "182/182 [==============================] - 14s 78ms/step - loss: 7.1519e-05 - accuracy: 0.7552 - val_loss: 6.7355e-04 - val_accuracy: 0.6827 - lr: 0.0905\n",
      "Epoch 12/100\n",
      "182/182 [==============================] - 14s 78ms/step - loss: 2.1172e-05 - accuracy: 0.7488 - val_loss: 6.6812e-04 - val_accuracy: 0.6848 - lr: 0.0885\n",
      "Epoch 13/100\n",
      "182/182 [==============================] - 14s 78ms/step - loss: 6.8115e-05 - accuracy: 0.7404 - val_loss: 6.5172e-04 - val_accuracy: 0.6806 - lr: 0.0865\n",
      "Epoch 14/100\n",
      "182/182 [==============================] - 14s 78ms/step - loss: 2.0134e-05 - accuracy: 0.7525 - val_loss: 6.5491e-04 - val_accuracy: 0.6764 - lr: 0.0842\n",
      "Epoch 15/100\n",
      "182/182 [==============================] - 14s 78ms/step - loss: 4.1786e-05 - accuracy: 0.7428 - val_loss: 6.3893e-04 - val_accuracy: 0.6764 - lr: 0.0819\n",
      "Epoch 16/100\n",
      "182/182 [==============================] - 14s 78ms/step - loss: 2.6866e-05 - accuracy: 0.7460 - val_loss: 6.4560e-04 - val_accuracy: 0.6639 - lr: 0.0794\n",
      "Epoch 17/100\n",
      "182/182 [==============================] - 14s 78ms/step - loss: 6.0474e-05 - accuracy: 0.7364 - val_loss: 6.3233e-04 - val_accuracy: 0.6639 - lr: 0.0768\n",
      "Epoch 18/100\n",
      "182/182 [==============================] - 14s 78ms/step - loss: 1.4437e-05 - accuracy: 0.7407 - val_loss: 6.3211e-04 - val_accuracy: 0.6639 - lr: 0.0741\n",
      "Epoch 19/100\n",
      "182/182 [==============================] - 14s 78ms/step - loss: 3.3516e-05 - accuracy: 0.7353 - val_loss: 6.2768e-04 - val_accuracy: 0.6681 - lr: 0.0713\n",
      "Epoch 20/100\n",
      "182/182 [==============================] - 14s 78ms/step - loss: 1.6094e-05 - accuracy: 0.7420 - val_loss: 6.2772e-04 - val_accuracy: 0.6681 - lr: 0.0684\n",
      "Epoch 21/100\n",
      "182/182 [==============================] - 14s 78ms/step - loss: 2.1784e-05 - accuracy: 0.7403 - val_loss: 6.1833e-04 - val_accuracy: 0.6701 - lr: 0.0655\n",
      "Epoch 22/100\n",
      "182/182 [==============================] - 14s 78ms/step - loss: 5.9834e-05 - accuracy: 0.7423 - val_loss: 6.2345e-04 - val_accuracy: 0.6701 - lr: 0.0625\n",
      "Epoch 23/100\n",
      "182/182 [==============================] - 14s 77ms/step - loss: 1.6226e-05 - accuracy: 0.7436 - val_loss: 6.2315e-04 - val_accuracy: 0.6722 - lr: 0.0594\n",
      "Epoch 24/100\n",
      "182/182 [==============================] - 14s 78ms/step - loss: 1.8776e-05 - accuracy: 0.7435 - val_loss: 6.1605e-04 - val_accuracy: 0.6681 - lr: 0.0563\n",
      "Epoch 25/100\n",
      "182/182 [==============================] - 14s 78ms/step - loss: 1.5159e-05 - accuracy: 0.7472 - val_loss: 6.1247e-04 - val_accuracy: 0.6681 - lr: 0.0532\n",
      "Epoch 26/100\n",
      "182/182 [==============================] - 14s 77ms/step - loss: 3.0072e-05 - accuracy: 0.7401 - val_loss: 6.0845e-04 - val_accuracy: 0.6660 - lr: 0.0501\n",
      "Epoch 27/100\n",
      "182/182 [==============================] - 14s 78ms/step - loss: 2.0116e-05 - accuracy: 0.7444 - val_loss: 6.0772e-04 - val_accuracy: 0.6660 - lr: 0.0469\n",
      "Epoch 28/100\n",
      "182/182 [==============================] - 14s 78ms/step - loss: 1.5641e-05 - accuracy: 0.7441 - val_loss: 5.9480e-04 - val_accuracy: 0.6660 - lr: 0.0438\n",
      "Epoch 29/100\n",
      "182/182 [==============================] - 14s 78ms/step - loss: 1.4656e-05 - accuracy: 0.7431 - val_loss: 5.8659e-04 - val_accuracy: 0.6639 - lr: 0.0407\n",
      "Epoch 30/100\n",
      "182/182 [==============================] - 14s 78ms/step - loss: 3.5558e-05 - accuracy: 0.7420 - val_loss: 5.8809e-04 - val_accuracy: 0.6681 - lr: 0.0376\n",
      "Epoch 31/100\n",
      "182/182 [==============================] - 14s 78ms/step - loss: 2.2302e-05 - accuracy: 0.7419 - val_loss: 5.8774e-04 - val_accuracy: 0.6722 - lr: 0.0346\n",
      "Epoch 32/100\n",
      "182/182 [==============================] - 14s 78ms/step - loss: 1.9956e-05 - accuracy: 0.7426 - val_loss: 5.8678e-04 - val_accuracy: 0.6701 - lr: 0.0317\n",
      "Epoch 33/100\n",
      "182/182 [==============================] - 14s 78ms/step - loss: 1.5827e-05 - accuracy: 0.7390 - val_loss: 5.8439e-04 - val_accuracy: 0.6681 - lr: 0.0288\n",
      "Epoch 34/100\n",
      "182/182 [==============================] - 14s 77ms/step - loss: 4.1904e-05 - accuracy: 0.7416 - val_loss: 5.8615e-04 - val_accuracy: 0.6681 - lr: 0.0260\n",
      "Epoch 35/100\n",
      "182/182 [==============================] - 14s 78ms/step - loss: 1.4742e-05 - accuracy: 0.7411 - val_loss: 5.8705e-04 - val_accuracy: 0.6701 - lr: 0.0233\n",
      "Epoch 36/100\n",
      "182/182 [==============================] - 14s 78ms/step - loss: 1.6478e-05 - accuracy: 0.7390 - val_loss: 5.8699e-04 - val_accuracy: 0.6722 - lr: 0.0207\n",
      "Epoch 37/100\n",
      "182/182 [==============================] - 14s 78ms/step - loss: 1.1411e-05 - accuracy: 0.7440 - val_loss: 5.8733e-04 - val_accuracy: 0.6722 - lr: 0.0182\n",
      "Epoch 38/100\n",
      "182/182 [==============================] - 14s 79ms/step - loss: 2.7885e-05 - accuracy: 0.7405 - val_loss: 5.8644e-04 - val_accuracy: 0.6722 - lr: 0.0159\n",
      "Epoch 39/100\n",
      "182/182 [==============================] - 14s 78ms/step - loss: 1.8683e-05 - accuracy: 0.7379 - val_loss: 5.8670e-04 - val_accuracy: 0.6722 - lr: 0.0136\n",
      "Epoch 40/100\n",
      "182/182 [==============================] - 14s 79ms/step - loss: 1.7917e-05 - accuracy: 0.7420 - val_loss: 5.8731e-04 - val_accuracy: 0.6722 - lr: 0.0116\n",
      "Epoch 41/100\n",
      "182/182 [==============================] - 14s 78ms/step - loss: 2.3147e-05 - accuracy: 0.7373 - val_loss: 5.8698e-04 - val_accuracy: 0.6722 - lr: 0.0096\n",
      "Epoch 42/100\n",
      "182/182 [==============================] - 14s 77ms/step - loss: 1.4216e-05 - accuracy: 0.7363 - val_loss: 5.8757e-04 - val_accuracy: 0.6722 - lr: 0.0079\n",
      "Epoch 43/100\n",
      "182/182 [==============================] - 14s 77ms/step - loss: 1.1162e-05 - accuracy: 0.7405 - val_loss: 5.8737e-04 - val_accuracy: 0.6722 - lr: 0.0063\n",
      "Epoch 44/100\n",
      "182/182 [==============================] - 14s 78ms/step - loss: 5.1163e-05 - accuracy: 0.7428 - val_loss: 5.8799e-04 - val_accuracy: 0.6722 - lr: 0.0049\n",
      "Epoch 45/100\n",
      "182/182 [==============================] - 14s 78ms/step - loss: 1.9425e-05 - accuracy: 0.7438 - val_loss: 5.8830e-04 - val_accuracy: 0.6722 - lr: 0.0036\n",
      "Epoch 46/100\n",
      "182/182 [==============================] - 14s 78ms/step - loss: 4.3057e-05 - accuracy: 0.7440 - val_loss: 5.8732e-04 - val_accuracy: 0.6722 - lr: 0.0025\n",
      "Epoch 47/100\n",
      "182/182 [==============================] - 14s 78ms/step - loss: 2.3314e-05 - accuracy: 0.7421 - val_loss: 5.8751e-04 - val_accuracy: 0.6722 - lr: 0.0017\n",
      "Epoch 48/100\n",
      "182/182 [==============================] - 14s 78ms/step - loss: 4.8173e-05 - accuracy: 0.7449 - val_loss: 5.8745e-04 - val_accuracy: 0.6722 - lr: 9.8475e-04\n",
      "Epoch 49/100\n",
      "182/182 [==============================] - 14s 77ms/step - loss: 1.2079e-05 - accuracy: 0.7433 - val_loss: 5.8732e-04 - val_accuracy: 0.6722 - lr: 4.9387e-04\n",
      "Epoch 50/100\n",
      "182/182 [==============================] - 14s 78ms/step - loss: 3.1951e-05 - accuracy: 0.7440 - val_loss: 5.8732e-04 - val_accuracy: 0.6722 - lr: 1.9856e-04\n",
      "Epoch 51/100\n",
      "182/182 [==============================] - 14s 79ms/step - loss: 2.9564e-05 - accuracy: 0.7400 - val_loss: 5.8731e-04 - val_accuracy: 0.6722 - lr: 1.0000e-04\n",
      "Epoch 52/100\n",
      "182/182 [==============================] - 14s 78ms/step - loss: 3.3000e-05 - accuracy: 0.7410 - val_loss: 5.8731e-04 - val_accuracy: 0.6722 - lr: 1.9856e-04\n",
      "Epoch 53/100\n",
      "182/182 [==============================] - 14s 78ms/step - loss: 2.1550e-05 - accuracy: 0.7415 - val_loss: 5.8699e-04 - val_accuracy: 0.6722 - lr: 4.9387e-04\n",
      "Epoch 54/100\n",
      "182/182 [==============================] - 14s 78ms/step - loss: 4.9063e-05 - accuracy: 0.7429 - val_loss: 5.8733e-04 - val_accuracy: 0.6722 - lr: 9.8475e-04\n"
     ]
    },
    {
     "name": "stdout",
     "output_type": "stream",
     "text": [
      "Epoch 55/100\n",
      "182/182 [==============================] - 14s 79ms/step - loss: 2.9659e-05 - accuracy: 0.7346 - val_loss: 5.8720e-04 - val_accuracy: 0.6722 - lr: 0.0017\n",
      "Epoch 56/100\n",
      "182/182 [==============================] - 14s 78ms/step - loss: 2.3461e-05 - accuracy: 0.7476 - val_loss: 5.8582e-04 - val_accuracy: 0.6722 - lr: 0.0025\n",
      "Epoch 57/100\n",
      "182/182 [==============================] - 14s 78ms/step - loss: 1.6157e-05 - accuracy: 0.7431 - val_loss: 5.8582e-04 - val_accuracy: 0.6722 - lr: 0.0036\n",
      "Epoch 58/100\n",
      "182/182 [==============================] - 14s 79ms/step - loss: 2.6974e-05 - accuracy: 0.7421 - val_loss: 5.8549e-04 - val_accuracy: 0.6722 - lr: 0.0049\n",
      "Epoch 59/100\n",
      "182/182 [==============================] - 14s 78ms/step - loss: 2.6756e-05 - accuracy: 0.7454 - val_loss: 5.8532e-04 - val_accuracy: 0.6722 - lr: 0.0063\n",
      "Epoch 60/100\n",
      "182/182 [==============================] - 14s 78ms/step - loss: 3.3837e-05 - accuracy: 0.7355 - val_loss: 5.7960e-04 - val_accuracy: 0.6722 - lr: 0.0079\n",
      "Epoch 61/100\n",
      "182/182 [==============================] - 14s 79ms/step - loss: 3.2591e-05 - accuracy: 0.7403 - val_loss: 5.7995e-04 - val_accuracy: 0.6722 - lr: 0.0096\n",
      "Epoch 62/100\n",
      "182/182 [==============================] - 14s 79ms/step - loss: 2.0348e-05 - accuracy: 0.7434 - val_loss: 5.7956e-04 - val_accuracy: 0.6722 - lr: 0.0116\n",
      "Epoch 63/100\n",
      "182/182 [==============================] - 14s 79ms/step - loss: 6.4998e-05 - accuracy: 0.7405 - val_loss: 5.8008e-04 - val_accuracy: 0.6722 - lr: 0.0136\n",
      "Epoch 64/100\n",
      "182/182 [==============================] - 14s 78ms/step - loss: 4.2842e-05 - accuracy: 0.7414 - val_loss: 5.8018e-04 - val_accuracy: 0.6722 - lr: 0.0159\n",
      "Epoch 65/100\n",
      "182/182 [==============================] - 14s 78ms/step - loss: 2.6707e-05 - accuracy: 0.7374 - val_loss: 5.8162e-04 - val_accuracy: 0.6722 - lr: 0.0182\n",
      "Epoch 66/100\n",
      "182/182 [==============================] - 14s 79ms/step - loss: 2.5108e-05 - accuracy: 0.7352 - val_loss: 5.7978e-04 - val_accuracy: 0.6722 - lr: 0.0207\n",
      "Epoch 67/100\n",
      "182/182 [==============================] - 14s 79ms/step - loss: 4.2370e-05 - accuracy: 0.7422 - val_loss: 5.7908e-04 - val_accuracy: 0.6722 - lr: 0.0233\n",
      "Epoch 68/100\n",
      "182/182 [==============================] - 14s 79ms/step - loss: 7.1280e-05 - accuracy: 0.7465 - val_loss: 5.6388e-04 - val_accuracy: 0.6722 - lr: 0.0260\n",
      "Epoch 69/100\n",
      "182/182 [==============================] - 14s 78ms/step - loss: 8.3565e-06 - accuracy: 0.7414 - val_loss: 5.6356e-04 - val_accuracy: 0.6722 - lr: 0.0288\n",
      "Epoch 70/100\n",
      "182/182 [==============================] - 14s 78ms/step - loss: 3.1269e-05 - accuracy: 0.7393 - val_loss: 5.6138e-04 - val_accuracy: 0.6722 - lr: 0.0317\n",
      "Epoch 71/100\n",
      "182/182 [==============================] - 14s 78ms/step - loss: 1.1704e-05 - accuracy: 0.7416 - val_loss: 5.6147e-04 - val_accuracy: 0.6722 - lr: 0.0346\n",
      "Epoch 72/100\n",
      "182/182 [==============================] - 14s 79ms/step - loss: 4.9838e-05 - accuracy: 0.7409 - val_loss: 5.5297e-04 - val_accuracy: 0.6701 - lr: 0.0376\n",
      "Epoch 73/100\n",
      "182/182 [==============================] - 14s 78ms/step - loss: 3.3617e-05 - accuracy: 0.7437 - val_loss: 5.5116e-04 - val_accuracy: 0.6681 - lr: 0.0407\n",
      "Epoch 74/100\n",
      "182/182 [==============================] - 14s 77ms/step - loss: 1.2583e-05 - accuracy: 0.7484 - val_loss: 5.5067e-04 - val_accuracy: 0.6722 - lr: 0.0438\n",
      "Epoch 75/100\n",
      "182/182 [==============================] - 14s 79ms/step - loss: 1.8755e-05 - accuracy: 0.7324 - val_loss: 5.4873e-04 - val_accuracy: 0.6701 - lr: 0.0469\n",
      "Epoch 76/100\n",
      "182/182 [==============================] - 14s 79ms/step - loss: 5.6404e-05 - accuracy: 0.7434 - val_loss: 5.4677e-04 - val_accuracy: 0.6722 - lr: 0.0501\n",
      "Epoch 77/100\n",
      "182/182 [==============================] - 14s 78ms/step - loss: 4.2589e-05 - accuracy: 0.7418 - val_loss: 5.4696e-04 - val_accuracy: 0.6722 - lr: 0.0532\n",
      "Epoch 78/100\n",
      "182/182 [==============================] - 14s 79ms/step - loss: 3.6335e-05 - accuracy: 0.7415 - val_loss: 5.2694e-04 - val_accuracy: 0.6681 - lr: 0.0563\n",
      "Epoch 79/100\n",
      "182/182 [==============================] - 14s 78ms/step - loss: 2.0879e-05 - accuracy: 0.7412 - val_loss: 5.2452e-04 - val_accuracy: 0.6722 - lr: 0.0594\n",
      "Epoch 80/100\n",
      "182/182 [==============================] - 14s 78ms/step - loss: 1.6724e-05 - accuracy: 0.7432 - val_loss: 5.2568e-04 - val_accuracy: 0.6722 - lr: 0.0625\n",
      "Epoch 81/100\n",
      "182/182 [==============================] - 14s 78ms/step - loss: 1.6580e-05 - accuracy: 0.7382 - val_loss: 5.2835e-04 - val_accuracy: 0.6701 - lr: 0.0655\n",
      "Epoch 82/100\n",
      "182/182 [==============================] - 14s 78ms/step - loss: 2.8143e-05 - accuracy: 0.7363 - val_loss: 5.1397e-04 - val_accuracy: 0.6743 - lr: 0.0684\n",
      "Epoch 83/100\n",
      "182/182 [==============================] - 14s 78ms/step - loss: 1.6135e-05 - accuracy: 0.7388 - val_loss: 5.2110e-04 - val_accuracy: 0.6701 - lr: 0.0713\n",
      "Epoch 84/100\n",
      "182/182 [==============================] - 14s 78ms/step - loss: 3.3366e-05 - accuracy: 0.7346 - val_loss: 5.1808e-04 - val_accuracy: 0.6743 - lr: 0.0741\n",
      "Epoch 85/100\n",
      "182/182 [==============================] - 14s 79ms/step - loss: 1.9062e-05 - accuracy: 0.7378 - val_loss: 5.1391e-04 - val_accuracy: 0.6785 - lr: 0.0768\n",
      "Epoch 86/100\n",
      "182/182 [==============================] - 14s 78ms/step - loss: 3.1010e-05 - accuracy: 0.7414 - val_loss: 5.1269e-04 - val_accuracy: 0.6701 - lr: 0.0794\n",
      "Epoch 87/100\n",
      "182/182 [==============================] - 14s 79ms/step - loss: 1.7799e-05 - accuracy: 0.7329 - val_loss: 5.1419e-04 - val_accuracy: 0.6681 - lr: 0.0819\n",
      "Epoch 88/100\n",
      "182/182 [==============================] - 14s 79ms/step - loss: 1.9164e-05 - accuracy: 0.7455 - val_loss: 5.1842e-04 - val_accuracy: 0.6681 - lr: 0.0842\n",
      "Epoch 89/100\n",
      "182/182 [==============================] - 14s 78ms/step - loss: 9.7357e-06 - accuracy: 0.7362 - val_loss: 5.2093e-04 - val_accuracy: 0.6701 - lr: 0.0865\n",
      "Epoch 90/100\n",
      "182/182 [==============================] - 14s 78ms/step - loss: 2.3633e-05 - accuracy: 0.7308 - val_loss: 5.1873e-04 - val_accuracy: 0.6701 - lr: 0.0885\n",
      "Epoch 91/100\n",
      "182/182 [==============================] - 14s 78ms/step - loss: 3.5307e-05 - accuracy: 0.7392 - val_loss: 5.1484e-04 - val_accuracy: 0.6701 - lr: 0.0905\n",
      "Epoch 92/100\n",
      "182/182 [==============================] - 14s 78ms/step - loss: 1.2061e-05 - accuracy: 0.7347 - val_loss: 5.1265e-04 - val_accuracy: 0.6660 - lr: 0.0922\n",
      "Epoch 93/100\n",
      "182/182 [==============================] - 14s 78ms/step - loss: 1.1062e-05 - accuracy: 0.7384 - val_loss: 5.0688e-04 - val_accuracy: 0.6639 - lr: 0.0938\n",
      "Epoch 94/100\n",
      "182/182 [==============================] - 14s 79ms/step - loss: 1.7576e-05 - accuracy: 0.7384 - val_loss: 5.0498e-04 - val_accuracy: 0.6722 - lr: 0.0952\n",
      "Epoch 95/100\n",
      "182/182 [==============================] - 14s 78ms/step - loss: 2.0449e-05 - accuracy: 0.7361 - val_loss: 5.0281e-04 - val_accuracy: 0.6681 - lr: 0.0965\n",
      "Epoch 96/100\n",
      "182/182 [==============================] - 14s 79ms/step - loss: 1.2711e-05 - accuracy: 0.7409 - val_loss: 4.9591e-04 - val_accuracy: 0.6701 - lr: 0.0976\n",
      "Epoch 97/100\n",
      "182/182 [==============================] - 14s 78ms/step - loss: 1.9597e-05 - accuracy: 0.7371 - val_loss: 4.9390e-04 - val_accuracy: 0.6660 - lr: 0.0984\n",
      "Epoch 98/100\n",
      "182/182 [==============================] - 14s 78ms/step - loss: 2.3626e-05 - accuracy: 0.7421 - val_loss: 4.7971e-04 - val_accuracy: 0.6597 - lr: 0.0991\n",
      "Epoch 99/100\n",
      "182/182 [==============================] - 14s 79ms/step - loss: 1.3839e-05 - accuracy: 0.7338 - val_loss: 4.7284e-04 - val_accuracy: 0.6597 - lr: 0.0996\n",
      "Epoch 100/100\n",
      "182/182 [==============================] - 14s 78ms/step - loss: 3.2067e-05 - accuracy: 0.7283 - val_loss: 4.8013e-04 - val_accuracy: 0.6660 - lr: 0.0999\n"
     ]
    }
   ],
   "source": [
    "callbacks, date = create_folders_and_callbacks(foldermode)\n",
    "callbacks.append(CosineAnnealingScheduler(T_max=50, eta_max=1e-1, eta_min=1e-4))\n",
    "history = model.fit(\n",
    "    generator,\n",
    "    validation_data = val_generator,\n",
    "    epochs = 100,\n",
    "    shuffle=False,\n",
    "    callbacks=callbacks\n",
    ").history"
   ]
  },
  {
   "cell_type": "markdown",
   "metadata": {
    "id": "-83ete1O0DT6",
    "pycharm": {
     "name": "#%% md\n"
    }
   },
   "source": [
    "# Model saving\n",
    "The model is saved and it can be reloaded if necessary."
   ]
  },
  {
   "cell_type": "code",
   "execution_count": null,
   "metadata": {
    "colab": {
     "base_uri": "https://localhost:8080/"
    },
    "id": "KWuFBdq8qpDj",
    "outputId": "10047537-b514-445c-ec90-25156d117bcc",
    "pycharm": {
     "name": "#%%\n"
    }
   },
   "outputs": [],
   "source": [
    "# Save the model\n",
    "model.save(mode)"
   ]
  }
 ],
 "metadata": {
  "accelerator": "GPU",
  "colab": {
   "collapsed_sections": [
    "klvPMoR2F-JJ",
    "eIkjM67YNay_",
    "-83ete1O0DT6"
   ],
   "provenance": []
  },
  "gpuClass": "standard",
  "kernelspec": {
   "display_name": "Python 3 (ipykernel)",
   "language": "python",
   "name": "python3"
  },
  "language_info": {
   "codemirror_mode": {
    "name": "ipython",
    "version": 3
   },
   "file_extension": ".py",
   "mimetype": "text/x-python",
   "name": "python",
   "nbconvert_exporter": "python",
   "pygments_lexer": "ipython3",
   "version": "3.9.12"
  }
 },
 "nbformat": 4,
 "nbformat_minor": 1
}