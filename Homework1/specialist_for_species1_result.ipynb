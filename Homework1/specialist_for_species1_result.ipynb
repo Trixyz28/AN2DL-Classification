{
  "cells": [
    {
      "cell_type": "raw",
      "metadata": {
        "id": "rGEgyogRPFYc"
      },
      "source": [
        "# Notebook for ANNDL - Homework 1\n",
        "\n",
        "Team: All Is Well\n",
        "\n",
        "Team members: Fatma Hamila, Kodai, Zheng Maria Yu"
      ]
    },
    {
      "cell_type": "markdown",
      "metadata": {
        "id": "r_QsOhFvo7qr"
      },
      "source": [
        "# Setup\n",
        "Firstly, we need to setup the environment by mounting Google Drive, importing the required libraries and fixing the random seed for our experiments' reproducibility.\n",
        "\n",
        "The path should be set to where this notebook file is, and the dataset should be present in the same folder. "
      ]
    },
    {
      "cell_type": "code",
      "execution_count": null,
      "metadata": {
        "id": "s-jrxIjNPd9_"
      },
      "outputs": [],
      "source": [
        "gdrive = False"
      ]
    },
    {
      "cell_type": "code",
      "execution_count": null,
      "metadata": {
        "colab": {
          "base_uri": "https://localhost:8080/"
        },
        "id": "TmKFZO7TPeoI",
        "outputId": "b2990efb-e2e9-496b-cb9e-8bce0641a2b2"
      },
      "outputs": [
        {
          "name": "stdout",
          "output_type": "stream",
          "text": [
            "C:\\Users\\zheng\\Documents\\Uni\\Magistrale\\ANNDL\\22-23\\Homework1\\Playground\n"
          ]
        }
      ],
      "source": [
        "if(gdrive):\n",
        "    from google.colab import drive\n",
        "    drive.mount('/gdrive')\n",
        "    path = \"/gdrive/My Drive/Colab Notebooks/AN2DL/Homework1\"\n",
        "    %cd /gdrive/My Drive/Colab Notebooks/AN2DL/Homework1\n",
        "else:\n",
        "    path = os.getcwd()\n",
        "    print(str(path))"
      ]
    },
    {
      "cell_type": "code",
      "execution_count": null,
      "metadata": {
        "colab": {
          "base_uri": "https://localhost:8080/"
        },
        "execution": {
          "iopub.execute_input": "2022-11-17T19:54:45.822447Z",
          "iopub.status.busy": "2022-11-17T19:54:45.821616Z",
          "iopub.status.idle": "2022-11-17T19:54:45.856872Z",
          "shell.execute_reply": "2022-11-17T19:54:45.854503Z",
          "shell.execute_reply.started": "2022-11-17T19:54:45.822405Z"
        },
        "id": "yQFwFti7OMl6",
        "outputId": "af993660-4333-49da-f828-629849654760"
      },
      "outputs": [
        {
          "data": {
            "text/plain": [
              "[name: \"/device:CPU:0\"\n",
              " device_type: \"CPU\"\n",
              " memory_limit: 268435456\n",
              " locality {\n",
              " }\n",
              " incarnation: 13374501323155411370\n",
              " xla_global_id: -1,\n",
              " name: \"/device:GPU:0\"\n",
              " device_type: \"GPU\"\n",
              " memory_limit: 5738397696\n",
              " locality {\n",
              "   bus_id: 1\n",
              "   links {\n",
              "   }\n",
              " }\n",
              " incarnation: 9919746650561388401\n",
              " physical_device_desc: \"device: 0, name: NVIDIA GeForce RTX 3070, pci bus id: 0000:2d:00.0, compute capability: 8.6\"\n",
              " xla_global_id: 416903419]"
            ]
          },
          "execution_count": 7,
          "metadata": {},
          "output_type": "execute_result"
        }
      ],
      "source": [
        "from tensorflow.python.client import device_lib\n",
        "device_lib.list_local_devices()"
      ]
    },
    {
      "cell_type": "code",
      "execution_count": null,
      "metadata": {
        "execution": {
          "iopub.execute_input": "2022-11-17T19:54:45.962657Z",
          "iopub.status.busy": "2022-11-17T19:54:45.961991Z",
          "iopub.status.idle": "2022-11-17T19:54:45.968027Z",
          "shell.execute_reply": "2022-11-17T19:54:45.966488Z",
          "shell.execute_reply.started": "2022-11-17T19:54:45.962608Z"
        },
        "id": "Z9l-AdB1uPvC"
      },
      "outputs": [],
      "source": [
        "# Import libraries\n",
        "import tensorflow as tf\n",
        "import numpy as np\n",
        "import os\n",
        "import random\n",
        "import matplotlib.pyplot as plt\n",
        "from PIL import Image\n",
        "from sklearn.model_selection import train_test_split\n",
        "\n",
        "tfk = tf.keras\n",
        "tfkl = tf.keras.layers"
      ]
    },
    {
      "cell_type": "code",
      "execution_count": null,
      "metadata": {
        "execution": {
          "iopub.execute_input": "2022-11-17T19:54:46.236187Z",
          "iopub.status.busy": "2022-11-17T19:54:46.234747Z",
          "iopub.status.idle": "2022-11-17T19:54:46.243940Z",
          "shell.execute_reply": "2022-11-17T19:54:46.241978Z",
          "shell.execute_reply.started": "2022-11-17T19:54:46.236121Z"
        },
        "id": "76iRDDThuZsI"
      },
      "outputs": [],
      "source": [
        "# Fix random seed for reproducibility\n",
        "seed = 42\n",
        "\n",
        "random.seed(seed)\n",
        "os.environ['PYTHONHASHSEED'] = str(seed)\n",
        "np.random.seed(seed)\n",
        "tf.random.set_seed(seed)\n",
        "tf.compat.v1.set_random_seed(seed)"
      ]
    },
    {
      "cell_type": "markdown",
      "metadata": {
        "id": "0tiaTPpzp3xZ"
      },
      "source": [
        "# Data splitting\n",
        "Now the dataset file should be unzipped and split into two parts: a training folder and a validation folder. (Current split ratio: 19:1)\n",
        "\n",
        "Two data splitting modes are provided here:\n",
        "- make a random split using the package split-folders,\n",
        "- make a regular split using the function we defined below."
      ]
    },
    {
      "cell_type": "code",
      "execution_count": null,
      "metadata": {
        "execution": {
          "iopub.execute_input": "2022-11-17T19:54:46.448040Z",
          "iopub.status.busy": "2022-11-17T19:54:46.447678Z",
          "iopub.status.idle": "2022-11-17T19:54:46.453947Z",
          "shell.execute_reply": "2022-11-17T19:54:46.452086Z",
          "shell.execute_reply.started": "2022-11-17T19:54:46.448015Z"
        },
        "id": "yDohWCxatbUK"
      },
      "outputs": [],
      "source": [
        "# Set to True to use the random seed for data splitting\n",
        "split_folder = False\n",
        "random_split = True"
      ]
    },
    {
      "cell_type": "code",
      "execution_count": null,
      "metadata": {
        "execution": {
          "iopub.execute_input": "2022-11-17T19:54:46.665198Z",
          "iopub.status.busy": "2022-11-17T19:54:46.664750Z",
          "iopub.status.idle": "2022-11-17T19:54:46.682310Z",
          "shell.execute_reply": "2022-11-17T19:54:46.681222Z",
          "shell.execute_reply.started": "2022-11-17T19:54:46.665159Z"
        },
        "id": "0QBNxSL0BTN1"
      },
      "outputs": [],
      "source": [
        "# Random split: the operation is based on the chosen random seed\n",
        "# Regular split: the operation selects a validation sample per 20 images\n",
        "\n",
        "if(split_folder):\n",
        "    %cd '/kaggle/input/d/kodai7/an2dl-homework1-dataset2/dataset2'\n",
        "\n",
        "if(split_folder and random_split):\n",
        "\n",
        "  cwd = os.getcwd()\n",
        "  cwd\n",
        "\n",
        "  !pip install split-folders\n",
        "\n",
        "  import splitfolders\n",
        "  splitfolders.ratio(\"training\", output=\"output\", seed=seed, ratio=(.8, .1, .1), group_prefix=None)\n",
        "  print(\"Random split completed\")\n",
        "\n",
        "elif(split_folder):\n",
        "\n",
        "  import glob\n",
        "  import shutil\n",
        "\n",
        "  path = dataset_dir_path\n",
        "  os.chdir(path)\n",
        "  cwd = os.getcwd()\n",
        "  cwd\n",
        "\n",
        "  os.makedirs(\"validation\", exist_ok=True)\n",
        "\n",
        "  i = 0\n",
        "  for file in glob.glob(\"training/*/*.jpg\", recursive=True):\n",
        "    if i == 20:\n",
        "        old_path = os.path.join(cwd, str(file))\n",
        "        new_path = old_path.replace(\"training\", \"validation\")\n",
        "        print(\"Image: \" + new_path)\n",
        "        if not os.path.exists(os.path.dirname(new_path)):\n",
        "            os.makedirs(os.path.dirname(new_path), exist_ok=True)\n",
        "        shutil.move(old_path, new_path)\n",
        "        i = 0\n",
        "        continue\n",
        "    i += 1\n",
        "  print(\"Regular split completed\")\n"
      ]
    },
    {
      "cell_type": "code",
      "execution_count": null,
      "metadata": {
        "execution": {
          "iopub.execute_input": "2022-11-17T19:54:46.901689Z",
          "iopub.status.busy": "2022-11-17T19:54:46.901052Z",
          "iopub.status.idle": "2022-11-17T19:54:46.908277Z",
          "shell.execute_reply": "2022-11-17T19:54:46.907302Z",
          "shell.execute_reply.started": "2022-11-17T19:54:46.901651Z"
        },
        "id": "nwT9Pp6EuqXS"
      },
      "outputs": [],
      "source": [
        "# Set working paths\n",
        "# default random_split\n",
        "\n",
        "if((split_folder and random_split) or not split_folder):\n",
        "    data_dir = os.path.join(path, 'dataset2')\n",
        "    dataset_dir = os.path.join(data_dir, 'output')\n",
        "    training_dir = os.path.join(dataset_dir, 'train')\n",
        "    validation_dir = os.path.join(dataset_dir, 'val')\n",
        "    test_dir = os.path.join(dataset_dir, 'test')\n",
        "elif(split_folder):\n",
        "    dataset_dir = cwd\n",
        "    training_dir = os.path.join(dataset_dir, 'training')\n",
        "    validation_dir = os.path.join(dataset_dir, 'validation')\n",
        "    test_dir = os.path.join(dataset_dir, 'test')    "
      ]
    },
    {
      "cell_type": "markdown",
      "metadata": {
        "id": "BqDbLz4_rf_c"
      },
      "source": [
        "# Mode selection\n",
        "There are different available options for the model: it can be a basic convolutional neural network or based on a pre-trained one.\n",
        "\n",
        "The pre-trained models that we tried out are MobileNetV2, ResNet50V2, VGG19, EfficientNetB7.\n",
        "\n",
        "In transfer learning mode, the parameters of the supernet are freezed temporarily."
      ]
    },
    {
      "cell_type": "code",
      "execution_count": null,
      "metadata": {
        "execution": {
          "iopub.execute_input": "2022-11-17T19:54:47.826832Z",
          "iopub.status.busy": "2022-11-17T19:54:47.826203Z",
          "iopub.status.idle": "2022-11-17T19:54:47.833546Z",
          "shell.execute_reply": "2022-11-17T19:54:47.832214Z",
          "shell.execute_reply.started": "2022-11-17T19:54:47.826791Z"
        },
        "id": "iKtdPypGrfPK"
      },
      "outputs": [],
      "source": [
        "# Params: [Baseline, Mobilenet, Resnet, VGG, Efficientnet]\n",
        "mode = 'VGG'\n",
        "transfer_learning = True"
      ]
    },
    {
      "cell_type": "markdown",
      "metadata": {
        "id": "kyKeLF_IqD6j"
      },
      "source": [
        "# Data pre-processing\n",
        "In this part, data preprocessing is done with the corresponding preprocessing function or with the rescale factor.\n",
        "\n",
        "Data augmentation options are also available."
      ]
    },
    {
      "cell_type": "code",
      "execution_count": null,
      "metadata": {
        "execution": {
          "iopub.execute_input": "2022-11-17T19:54:48.523694Z",
          "iopub.status.busy": "2022-11-17T19:54:48.523110Z",
          "iopub.status.idle": "2022-11-17T19:54:48.534208Z",
          "shell.execute_reply": "2022-11-17T19:54:48.531990Z",
          "shell.execute_reply.started": "2022-11-17T19:54:48.523665Z"
        },
        "id": "74IWMU_HrxPa"
      },
      "outputs": [],
      "source": [
        "# Import the correct preprocessing function for pre-trained models\n",
        "if mode == 'Mobilenet':\n",
        "  from tensorflow.keras.applications.mobilenet import preprocess_input\n",
        "\n",
        "if mode == 'Resnet':\n",
        "  from tensorflow.keras.applications.resnet50v2 import preprocess_input\n",
        "\n",
        "if mode == 'Efficientnet':\n",
        "  from tensorflow.keras.applications.efficientnet import preprocess_input\n",
        "\n",
        "if mode == 'VGG':\n",
        "  from tensorflow.keras.applications.vgg19 import preprocess_input"
      ]
    },
    {
      "cell_type": "code",
      "execution_count": null,
      "metadata": {
        "execution": {
          "iopub.execute_input": "2022-11-17T19:54:48.881766Z",
          "iopub.status.busy": "2022-11-17T19:54:48.881393Z",
          "iopub.status.idle": "2022-11-17T19:54:48.890101Z",
          "shell.execute_reply": "2022-11-17T19:54:48.888381Z",
          "shell.execute_reply.started": "2022-11-17T19:54:48.881740Z"
        },
        "id": "1Twnvp3TuTWq"
      },
      "outputs": [],
      "source": [
        "# Set batch size\n",
        "batch_size = 64"
      ]
    },
    {
      "cell_type": "code",
      "execution_count": null,
      "metadata": {
        "execution": {
          "iopub.execute_input": "2022-11-17T19:54:49.379346Z",
          "iopub.status.busy": "2022-11-17T19:54:49.378957Z",
          "iopub.status.idle": "2022-11-17T19:54:49.385064Z",
          "shell.execute_reply": "2022-11-17T19:54:49.383060Z",
          "shell.execute_reply.started": "2022-11-17T19:54:49.379309Z"
        },
        "id": "-IKTqKzA4pkf"
      },
      "outputs": [],
      "source": [
        "# Set to True to apply data augmentation methods\n",
        "data_augmentation = True\n",
        "read_data_as_array = True"
      ]
    },
    {
      "cell_type": "code",
      "execution_count": null,
      "metadata": {
        "execution": {
          "iopub.execute_input": "2022-11-17T19:54:49.654422Z",
          "iopub.status.busy": "2022-11-17T19:54:49.653288Z",
          "iopub.status.idle": "2022-11-17T19:55:16.716475Z",
          "shell.execute_reply": "2022-11-17T19:55:16.712660Z",
          "shell.execute_reply.started": "2022-11-17T19:54:49.654359Z"
        },
        "id": "n8CXQ0kyOMmB"
      },
      "outputs": [],
      "source": [
        "if(read_data_as_array):\n",
        "    imgs_others = []\n",
        "    class_img_others_pahts = os.walk(training_dir + '/Others/')\n",
        "    for img_paths in class_img_others_pahts:\n",
        "        for img_path in img_paths[2]:\n",
        "            # load the image\n",
        "            image = Image.open(training_dir + '/Others/'+img_path)\n",
        "            # convert image to numpy array\n",
        "            data = np.asarray(image)\n",
        "            imgs_others.append(data)\n",
        "    imgs_others_y = np.zeros(shape=(1, len(imgs_others)), dtype=int)[0]\n",
        "    \n",
        "    imgs_sp1 = []\n",
        "    class_img_sp1_pahts = os.walk(training_dir + '/Species1/')\n",
        "    for img_paths in class_img_sp1_pahts:\n",
        "        for img_path in img_paths[2]:\n",
        "            # load the image\n",
        "            image = Image.open(training_dir + '/Species1/'+img_path)\n",
        "            # convert image to numpy array\n",
        "            data = np.asarray(image)\n",
        "            imgs_sp1.append(data)\n",
        "    imgs_sp1_y = np.ones(shape=(1, len(imgs_sp1)), dtype=int)[0]\n",
        "    \n",
        "    # TRAINING UNDER SAMPLING\n",
        "    mask_others = np.full(len(imgs_others), False)\n",
        "    mask_others[:len(imgs_sp1)] = True\n",
        "    np.random.shuffle(mask_others)\n",
        "    imgs_others = np.array(imgs_others)\n",
        "    imgs_others_undersampled = imgs_others[mask_others]\n",
        "    imgs_others_undersampled_y = np.zeros(shape=(1, len(imgs_others_undersampled)), dtype=int)[0]\n",
        "    \n",
        "#     imgs_x, imgs_y are after undersampling\n",
        "    imgs_x = np.concatenate((imgs_others_undersampled, imgs_sp1))\n",
        "    imgs_y = np.concatenate((imgs_others_undersampled_y, imgs_sp1_y), dtype=int)\n",
        "\n",
        "    train_imgs_x, valid_imgs_x, train_imgs_y, valid_imgs_y = train_test_split(imgs_x, imgs_y, test_size=0.2, random_state=42)"
      ]
    },
    {
      "cell_type": "code",
      "execution_count": null,
      "metadata": {
        "colab": {
          "base_uri": "https://localhost:8080/"
        },
        "execution": {
          "iopub.execute_input": "2022-11-17T19:56:33.301640Z",
          "iopub.status.busy": "2022-11-17T19:56:33.301264Z",
          "iopub.status.idle": "2022-11-17T19:56:33.309801Z",
          "shell.execute_reply": "2022-11-17T19:56:33.308330Z",
          "shell.execute_reply.started": "2022-11-17T19:56:33.301608Z"
        },
        "id": "Audq90CbOMmC",
        "outputId": "0755b045-dd55-4612-81a0-1cd160da9424"
      },
      "outputs": [
        {
          "data": {
            "text/plain": [
              "((236, 96, 96, 3), (236,), (60, 96, 96, 3), (60,))"
            ]
          },
          "execution_count": 19,
          "metadata": {},
          "output_type": "execute_result"
        }
      ],
      "source": [
        "train_imgs_x.shape, train_imgs_y.shape, valid_imgs_x.shape, valid_imgs_y.shape"
      ]
    },
    {
      "cell_type": "code",
      "execution_count": null,
      "metadata": {
        "id": "dOEN7HBhG_WY"
      },
      "outputs": [],
      "source": [
        "# Define augmented images generator\n",
        "\n",
        "import albumentations as alb\n",
        "from tensorflow.keras.utils import Sequence\n",
        "\n",
        "class AugmentDataGenerator(Sequence):\n",
        "    def __init__(self, datagen, augment=None):\n",
        "        self.datagen = datagen\n",
        "        if augment is None:\n",
        "            self.augment = alb.Compose([])\n",
        "        else:\n",
        "            self.augment = augment\n",
        "    \n",
        "    def __len__(self):\n",
        "        return len(self.datagen)\n",
        "    \n",
        "    def __getitem__(self, x):\n",
        "        images, *rest = self.datagen[x]\n",
        "        augmented = []\n",
        "        for image in images:\n",
        "            image = self.augment(image=image)['image']\n",
        "            augmented.append(image)\n",
        "        return (np.array(augmented), *rest)"
      ]
    },
    {
      "cell_type": "code",
      "execution_count": null,
      "metadata": {
        "colab": {
          "base_uri": "https://localhost:8080/"
        },
        "execution": {
          "iopub.execute_input": "2022-11-17T20:04:14.571925Z",
          "iopub.status.busy": "2022-11-17T20:04:14.571503Z",
          "iopub.status.idle": "2022-11-17T20:04:14.588387Z",
          "shell.execute_reply": "2022-11-17T20:04:14.587010Z",
          "shell.execute_reply.started": "2022-11-17T20:04:14.571887Z"
        },
        "id": "DBPFKJxkvJcK",
        "outputId": "d9ae3c0c-60b9-4bec-9637-4cafe54f65ee"
      },
      "outputs": [
        {
          "name": "stdout",
          "output_type": "stream",
          "text": [
            "Data augmentation and input preprocessing completed\n"
          ]
        }
      ],
      "source": [
        "# Load data with ImageDataGenerator\n",
        "# Other available parameters: width_shift_range = 0.2, height_shift_range = 0.2, zoom_range = 0.15, rotation_range = 20\n",
        "\n",
        "from tensorflow.keras.preprocessing.image import ImageDataGenerator\n",
        "\n",
        "if(data_augmentation):\n",
        "    if(mode == 'Baseline'):\n",
        "        train_data_gen = ImageDataGenerator(\n",
        "            horizontal_flip = True,\n",
        "            vertical_flip = True,\n",
        "            fill_mode = \"reflect\",\n",
        "            rescale = 1/255.\n",
        "        )\n",
        "\n",
        "        val_data_gen = ImageDataGenerator(\n",
        "            rescale = 1/255.)\n",
        "\n",
        "        test_data_gen = ImageDataGenerator(\n",
        "            rescale = 1/255.)\n",
        "\n",
        "        print(\"Data augmentation and rescaling completed\")\n",
        "    \n",
        "    else:\n",
        "        # train_data_gen = ImageDataGenerator(\n",
        "        #     rotation_range = 90,\n",
        "        #     zoom_range = 0.2,\n",
        "        #     width_shift_range = 0.2,\n",
        "        #     height_shift_range = 0.2,\n",
        "        #     horizontal_flip = True,\n",
        "        #     vertical_flip = True,\n",
        "        #     fill_mode = \"reflect\",\n",
        "        #     preprocessing_function = preprocess_input\n",
        "        # )\n",
        "\n",
        "        train_data_gen = ImageDataGenerator(\n",
        "            preprocessing_function = preprocess_input)\n",
        "\n",
        "        val_data_gen = ImageDataGenerator(\n",
        "            preprocessing_function = preprocess_input)\n",
        "\n",
        "        test_data_gen = ImageDataGenerator(\n",
        "            preprocessing_function = preprocess_input)\n",
        "\n",
        "        print(\"Data augmentation and input preprocessing completed\")\n",
        "        \n",
        "else:\n",
        "\n",
        "    if(mode == 'Baseline'):\n",
        "      train_data_gen = ImageDataGenerator(\n",
        "          rescale = 1/255.)\n",
        "      val_data_gen = ImageDataGenerator(\n",
        "          rescale = 1/255.)\n",
        "      test_data_gen = ImageDataGenerator(\n",
        "          rescale = 1/255.)\n",
        "      print(\"Rescaling completed\")\n",
        "\n",
        "    else:\n",
        "      train_data_gen = ImageDataGenerator(\n",
        "          preprocessing_function = preprocess_input)\n",
        "      val_data_gen = ImageDataGenerator(\n",
        "          preprocessing_function = preprocess_input)\n",
        "      test_data_gen = ImageDataGenerator(\n",
        "          preprocessing_function = preprocess_input)\n",
        "      print(\"Input preprocessing completed\")\n",
        "\n",
        "        \n",
        "if (read_data_as_array):\n",
        "    train_gen = train_data_gen.flow(\n",
        "        train_imgs_x,\n",
        "        train_imgs_y,\n",
        "        batch_size = batch_size,\n",
        "        shuffle = True,\n",
        "        seed = seed\n",
        "    )\n",
        "\n",
        "    val_gen = val_data_gen.flow(\n",
        "        valid_imgs_x,\n",
        "        valid_imgs_y,\n",
        "        batch_size = batch_size,\n",
        "        shuffle = False,\n",
        "        seed = seed\n",
        "    )\n",
        "\n",
        "#     test_gen = test_data_gen.flow(\n",
        "#         train_imgs_x,\n",
        "#         train_imgs_y,\n",
        "#         target_size = (96,96),\n",
        "#         color_mode = 'rgb',\n",
        "#         classes = None,\n",
        "#         class_mode = 'binary',\n",
        "#         batch_size = batch_size,\n",
        "#         shuffle = False,\n",
        "#         seed = seed\n",
        "#     )\n",
        "    \n",
        "else:\n",
        "    train_gen = train_data_gen.flow_from_directory(\n",
        "        directory = training_dir,\n",
        "        target_size = (96,96),\n",
        "        color_mode = 'rgb',\n",
        "        classes = None,\n",
        "        class_mode = 'binary',\n",
        "        batch_size = batch_size,\n",
        "        shuffle = True,\n",
        "        seed = seed\n",
        "    )\n",
        "\n",
        "    val_gen = val_data_gen.flow_from_directory(\n",
        "        directory = validation_dir,\n",
        "        target_size = (96,96),\n",
        "        color_mode = 'rgb',\n",
        "        classes = None,\n",
        "        class_mode = 'binary',\n",
        "        batch_size = batch_size,\n",
        "        shuffle = False,\n",
        "        seed = seed\n",
        "    )\n",
        "\n",
        "    test_gen = test_data_gen.flow_from_directory(\n",
        "        directory = test_dir,\n",
        "        target_size = (96,96),\n",
        "        color_mode = 'rgb',\n",
        "        classes = None,\n",
        "        class_mode = 'binary',\n",
        "        batch_size = batch_size,\n",
        "        shuffle = False,\n",
        "        seed = seed\n",
        "    )"
      ]
    },
    {
      "cell_type": "code",
      "execution_count": null,
      "metadata": {
        "id": "s48CMlY5HvnI",
        "outputId": "dd502b1c-50e9-4e61-c1b1-9f6ff5fab150"
      },
      "outputs": [
        {
          "name": "stdout",
          "output_type": "stream",
          "text": [
            "Data augmentation applied\n"
          ]
        }
      ],
      "source": [
        "if(data_augmentation):\n",
        "    train_gen = AugmentDataGenerator(train_gen, alb.Compose([\n",
        "        alb.HorizontalFlip(),\n",
        "        alb.VerticalFlip(),\n",
        "        alb.Transpose(),\n",
        "        alb.CoarseDropout(),\n",
        "        alb.RandomBrightnessContrast(),\n",
        "        alb.GaussNoise(),\n",
        "        alb.SafeRotate(limit=20),\n",
        "        alb.OneOf([\n",
        "            alb.GridDistortion(),\n",
        "            alb.OpticalDistortion()\n",
        "        ], p=0.3)\n",
        "    ]))\n",
        "    \n",
        "    print(\"Data augmentation applied\")"
      ]
    },
    {
      "cell_type": "markdown",
      "metadata": {
        "id": "L2ZFGy0YOMmD"
      },
      "source": [
        "## Get some samples"
      ]
    },
    {
      "cell_type": "code",
      "execution_count": null,
      "metadata": {
        "execution": {
          "iopub.execute_input": "2022-11-17T20:04:14.675895Z",
          "iopub.status.busy": "2022-11-17T20:04:14.675262Z",
          "iopub.status.idle": "2022-11-17T20:04:14.680892Z",
          "shell.execute_reply": "2022-11-17T20:04:14.679616Z",
          "shell.execute_reply.started": "2022-11-17T20:04:14.675831Z"
        },
        "id": "etJWW6PVOMmD"
      },
      "outputs": [],
      "source": [
        "# def get_next_batch(generator):\n",
        "#   batch = next(generator)\n",
        "\n",
        "#   image = batch[0]\n",
        "#   target = batch[1]\n",
        "\n",
        "#   print(\"(Input) image shape:\", image.shape)\n",
        "#   print(\"Target shape:\",target.shape)\n",
        "\n",
        "#   # Visualize only the first sample\n",
        "#   image = image[0]\n",
        "#   target = target[0]\n",
        "#   target_idx = np.argmax(target)\n",
        "#   print()\n",
        "#   print(\"Categorical label:\", target)\n",
        "#   print(\"Label:\", target_idx)\n",
        "#   print(\"Class name:\", labels[target_idx])\n",
        "#   fig = plt.figure(figsize=(6, 4))\n",
        "#   plt.imshow(np.uint8(image))\n",
        "\n",
        "#   return batch"
      ]
    },
    {
      "cell_type": "code",
      "execution_count": null,
      "metadata": {
        "execution": {
          "iopub.execute_input": "2022-11-15T19:00:51.973268Z",
          "iopub.status.busy": "2022-11-15T19:00:51.972887Z",
          "iopub.status.idle": "2022-11-15T19:00:51.993939Z",
          "shell.execute_reply": "2022-11-15T19:00:51.992817Z",
          "shell.execute_reply.started": "2022-11-15T19:00:51.973216Z"
        },
        "id": "KtmuURaJOMmD"
      },
      "outputs": [],
      "source": [
        "# # Get a sample from dataset and show info\n",
        "# _ = get_next_batch(train_gen)"
      ]
    },
    {
      "cell_type": "markdown",
      "metadata": {
        "id": "H7jnjBD2u2tS"
      },
      "source": [
        "# Hyperparameters setting\n",
        "In this part, the hyperparameters of the model are defining."
      ]
    },
    {
      "cell_type": "code",
      "execution_count": null,
      "metadata": {
        "execution": {
          "iopub.execute_input": "2022-11-17T20:04:40.827068Z",
          "iopub.status.busy": "2022-11-17T20:04:40.826666Z",
          "iopub.status.idle": "2022-11-17T20:04:40.832727Z",
          "shell.execute_reply": "2022-11-17T20:04:40.831569Z",
          "shell.execute_reply.started": "2022-11-17T20:04:40.827026Z"
        },
        "id": "tFigwY1Kx1eH"
      },
      "outputs": [],
      "source": [
        "# Fix input shape and number of epochs\n",
        "input_shape = (96, 96, 3)\n",
        "epochs = 200"
      ]
    },
    {
      "cell_type": "code",
      "execution_count": null,
      "metadata": {
        "execution": {
          "iopub.execute_input": "2022-11-17T20:04:44.627064Z",
          "iopub.status.busy": "2022-11-17T20:04:44.626642Z",
          "iopub.status.idle": "2022-11-17T20:04:44.639709Z",
          "shell.execute_reply": "2022-11-17T20:04:44.638838Z",
          "shell.execute_reply.started": "2022-11-17T20:04:44.627030Z"
        },
        "id": "5moa_FFb3xX8"
      },
      "outputs": [],
      "source": [
        "# Define loss\n",
        "loss = tfk.losses.BinaryCrossentropy()\n",
        "\n",
        "# Define learning rate\n",
        "lr = 3e-4\n",
        "\n",
        "# Define optimizer for regularization\n",
        "optimizer = tfk.optimizers.Adam(learning_rate = lr)\n",
        "\n",
        "# Define metrics for evaluation\n",
        "# metrics = [tf.keras.metrics.Precision()]\n",
        "metrics = ['accuracy']"
      ]
    },
    {
      "cell_type": "markdown",
      "metadata": {
        "id": "f0lT-umHqX8j"
      },
      "source": [
        "# Model structure\n",
        "According to the chosen mode, the corresponding model structure is loaded."
      ]
    },
    {
      "cell_type": "markdown",
      "metadata": {
        "id": "u4mFAHjcFIz8"
      },
      "source": [
        "## Basic CNN model"
      ]
    },
    {
      "cell_type": "code",
      "execution_count": null,
      "metadata": {
        "execution": {
          "iopub.execute_input": "2022-11-15T14:35:56.487931Z",
          "iopub.status.busy": "2022-11-15T14:35:56.487366Z",
          "iopub.status.idle": "2022-11-15T14:35:56.500853Z",
          "shell.execute_reply": "2022-11-15T14:35:56.499580Z",
          "shell.execute_reply.started": "2022-11-15T14:35:56.487877Z"
        },
        "id": "C48KSuCdCoMh"
      },
      "outputs": [],
      "source": [
        "# Use base CNN model\n",
        "if(mode == 'Baseline' or False):\n",
        "  model = tfk.Sequential()\n",
        "\n",
        "  # Input layer\n",
        "  model.add(tfkl.Input(shape=input_shape, name='Input'))\n",
        "\n",
        "  # Convolution + Pooling\n",
        "  model.add(tfkl.Conv2D(\n",
        "      filters=16,\n",
        "      kernel_size=(3, 3),\n",
        "      strides=(1, 1),\n",
        "      padding='same',\n",
        "      activation='relu',\n",
        "      kernel_initializer = tfk.initializers.GlorotUniform(seed)\n",
        "  ))\n",
        "  model.add(tfkl.BatchNormalization())\n",
        "  model.add(tfkl.MaxPooling2D(pool_size=(2, 2)))\n",
        "\n",
        "  model.add(tfkl.Conv2D(\n",
        "      filters=32,\n",
        "      kernel_size=(3, 3),\n",
        "      strides=(1, 1),\n",
        "      padding='same',\n",
        "      activation='relu',\n",
        "      kernel_initializer = tfk.initializers.GlorotUniform(seed)\n",
        "  ))\n",
        "  model.add(tfkl.BatchNormalization())\n",
        "  model.add(tfkl.MaxPooling2D(pool_size=(2, 2)))\n",
        "\n",
        "  model.add(tfkl.Conv2D(\n",
        "      filters=64,\n",
        "      kernel_size=(3, 3),\n",
        "      strides=(1, 1),\n",
        "      padding='same',\n",
        "      activation='relu',\n",
        "      kernel_initializer = tfk.initializers.GlorotUniform(seed)\n",
        "  ))\n",
        "  model.add(tfkl.BatchNormalization())\n",
        "  model.add(tfkl.MaxPooling2D(pool_size=(2, 2)))\n",
        "\n",
        "  # Global average pooling\n",
        "  model.add(tfkl.Flatten(name='Flatten'))\n",
        "\n",
        "  # Dropout layer\n",
        "  model.add(tfkl.Dropout(0.4, seed=seed))\n",
        "\n",
        "  # Linear layer with ReLU activation\n",
        "  model.add(tfkl.Dense(\n",
        "      units=64,\n",
        "      activation='relu',\n",
        "      kernel_initializer = tfk.initializers.GlorotUniform(seed)\n",
        "  ))\n",
        "\n",
        "  # Dropout layer\n",
        "  model.add(tfkl.Dropout(0.4, seed=seed))\n",
        "\n",
        "  # Output layer\n",
        "  model.add(tfkl.Dense(\n",
        "      units=1,\n",
        "      activation='sigmoid',\n",
        "      kernel_initializer = tfk.initializers.GlorotUniform(seed),\n",
        "      name='Output'\n",
        "  ))"
      ]
    },
    {
      "cell_type": "code",
      "execution_count": null,
      "metadata": {
        "execution": {
          "iopub.execute_input": "2022-11-15T14:35:56.503010Z",
          "iopub.status.busy": "2022-11-15T14:35:56.502616Z",
          "iopub.status.idle": "2022-11-15T14:35:56.517013Z",
          "shell.execute_reply": "2022-11-15T14:35:56.515991Z",
          "shell.execute_reply.started": "2022-11-15T14:35:56.502973Z"
        },
        "id": "H0nhHpQTOMmF"
      },
      "outputs": [],
      "source": [
        "# Use base CNN model\n",
        "if(mode == 'Baseline'):\n",
        "    # Build the neural network layer by layer\n",
        "    input_layer = tfkl.Input(shape=input_shape, name='input_layer')\n",
        "\n",
        "    conv1 = tfkl.Conv2D(\n",
        "        filters=32,\n",
        "        kernel_size=3,\n",
        "        padding = 'same',\n",
        "        activation = 'relu',\n",
        "        kernel_initializer = tfk.initializers.HeUniform(seed)\n",
        "    )(input_layer)\n",
        "    pool1 = tfkl.MaxPooling2D()(conv1)\n",
        "\n",
        "    conv2 = tfkl.Conv2D(\n",
        "        filters=64,\n",
        "        kernel_size=3,\n",
        "        padding = 'same',\n",
        "        activation = 'relu',\n",
        "        kernel_initializer = tfk.initializers.HeUniform(seed)\n",
        "    )(pool1)\n",
        "    pool2 = tfkl.MaxPooling2D()(conv2)\n",
        "\n",
        "    conv3 = tfkl.Conv2D(\n",
        "        filters=128,\n",
        "        kernel_size=3,\n",
        "        padding = 'same',\n",
        "        activation = 'relu',\n",
        "        kernel_initializer = tfk.initializers.HeUniform(seed)\n",
        "    )(pool2)\n",
        "    pool3 = tfkl.MaxPooling2D()(conv3)\n",
        "\n",
        "    conv4 = tfkl.Conv2D(\n",
        "        filters=256,\n",
        "        kernel_size=3,\n",
        "        padding = 'same',\n",
        "        activation = 'relu',\n",
        "        kernel_initializer = tfk.initializers.HeUniform(seed)\n",
        "    )(pool3)\n",
        "    pool4 = tfkl.MaxPooling2D()(conv4)\n",
        "\n",
        "    conv5 = tfkl.Conv2D(\n",
        "        filters=512,\n",
        "        kernel_size=3,\n",
        "        padding = 'same',\n",
        "        activation = 'relu',\n",
        "        kernel_initializer = tfk.initializers.HeUniform(seed)\n",
        "    )(pool4)\n",
        "    pool5 = tfkl.MaxPooling2D()(conv5)\n",
        "\n",
        "    flattening_layer = tfkl.Flatten(name='Flatten')(pool5)\n",
        "    dropout = tfkl.Dropout(0.3, seed=seed)(flattening_layer)\n",
        "    classifier_layer = tfkl.Dense(units=512, name='Classifier', kernel_initializer=tfk.initializers.HeUniform(seed), activation='relu')(dropout)\n",
        "    dropout = tfkl.Dropout(0.3, seed=seed)(classifier_layer)\n",
        "    output_layer = tfkl.Dense(units=1, activation='sigmoid', kernel_initializer=tfk.initializers.GlorotUniform(seed), name='output_layer')(dropout)\n",
        "\n",
        "    # Connect input and output through the Model class\n",
        "    model = tfk.Model(inputs=input_layer, outputs=output_layer, name='model')"
      ]
    },
    {
      "cell_type": "markdown",
      "metadata": {
        "id": "lqkwFZMrFC8A"
      },
      "source": [
        "## Supernet: MobileNetV2"
      ]
    },
    {
      "cell_type": "code",
      "execution_count": null,
      "metadata": {
        "execution": {
          "iopub.execute_input": "2022-11-15T14:35:56.521959Z",
          "iopub.status.busy": "2022-11-15T14:35:56.521698Z",
          "iopub.status.idle": "2022-11-15T14:35:56.530468Z",
          "shell.execute_reply": "2022-11-15T14:35:56.529473Z",
          "shell.execute_reply.started": "2022-11-15T14:35:56.521934Z"
        },
        "id": "dsWBI1fIvOH6"
      },
      "outputs": [],
      "source": [
        "# Use MobileNetV2\n",
        "if(mode == 'Mobilenet'):\n",
        "  supernet = tfk.applications.MobileNetV2(\n",
        "      weights='imagenet',\n",
        "      include_top=False,\n",
        "      input_shape=input_shape)\n",
        "\n",
        "  model = tfk.Sequential()\n",
        "  model.add(supernet)\n",
        "\n",
        "  model.add(tfkl.AveragePooling2D(pool_size=(2, 2)))\n",
        "  model.add(tfkl.Flatten())\n",
        "\n",
        "  model.add(tfkl.Dense(\n",
        "      units=128,\n",
        "      activation='relu',\n",
        "      kernel_initializer = tfk.initializers.GlorotUniform(seed)\n",
        "  ))\n",
        "  model.add(tfkl.Dropout(0.5, seed=seed))\n",
        "  model.add(tfkl.Dense(\n",
        "      units=1,\n",
        "      activation='sigmoid',\n",
        "      kernel_initializer = tfk.initializers.GlorotUniform(seed)\n",
        "  ))\n",
        "#   model.add(tfkl.Flatten(name='FlattenOutput'))"
      ]
    },
    {
      "cell_type": "markdown",
      "metadata": {
        "id": "MExAxJIzZo-N"
      },
      "source": [
        "## Supernet: ResNet50V2"
      ]
    },
    {
      "cell_type": "code",
      "execution_count": null,
      "metadata": {
        "execution": {
          "iopub.execute_input": "2022-11-15T14:35:56.532827Z",
          "iopub.status.busy": "2022-11-15T14:35:56.531933Z",
          "iopub.status.idle": "2022-11-15T14:35:56.542718Z",
          "shell.execute_reply": "2022-11-15T14:35:56.541873Z",
          "shell.execute_reply.started": "2022-11-15T14:35:56.532789Z"
        },
        "id": "jpfsk-l1ZoOh"
      },
      "outputs": [],
      "source": [
        "# Use ResNet50V2\n",
        "if(mode == 'Resnet'):\n",
        "  supernet = tfk.applications.ResNet50V2(\n",
        "    include_top = False,\n",
        "    weights = 'imagenet',\n",
        "    input_shape = input_shape)\n",
        "\n",
        "  model = tfk.Sequential()\n",
        "  model.add(supernet)\n",
        "  model.add(tfkl.Flatten())\n",
        "  model.add(tfkl.Dropout(0.3, seed=seed))\n",
        "  model.add(tfkl.Dense(\n",
        "      units = 256,\n",
        "      activation = 'relu',\n",
        "      kernel_initializer = tfk.initializers.GlorotUniform(seed)\n",
        "  ))\n",
        "  model.add(tfkl.Dropout(0.5, seed=seed))\n",
        "  model.add(tfkl.Dense(\n",
        "      units = 14,\n",
        "      activation = 'softmax',\n",
        "      kernel_initializer = tfk.initializers.GlorotUniform(seed)\n",
        "  ))"
      ]
    },
    {
      "cell_type": "markdown",
      "metadata": {
        "id": "uFUCj7uYa0eS"
      },
      "source": [
        "## Supernet: VGG19"
      ]
    },
    {
      "cell_type": "code",
      "execution_count": null,
      "metadata": {
        "execution": {
          "iopub.execute_input": "2022-11-17T20:05:56.283122Z",
          "iopub.status.busy": "2022-11-17T20:05:56.282761Z",
          "iopub.status.idle": "2022-11-17T20:05:56.789265Z",
          "shell.execute_reply": "2022-11-17T20:05:56.788483Z",
          "shell.execute_reply.started": "2022-11-17T20:05:56.283093Z"
        },
        "id": "lcqRohtaay6s"
      },
      "outputs": [],
      "source": [
        "if(mode == 'VGG'):\n",
        "  supernet = tfk.applications.VGG19(\n",
        "    include_top = False,\n",
        "    weights = \"imagenet\",\n",
        "    input_shape = input_shape)\n",
        "  \n",
        "  model = tf.keras.Sequential()\n",
        "  model.add(supernet)\n",
        "  model.add(tfkl.Flatten())\n",
        "  model.add(tfkl.Dropout(0.4, seed=seed))\n",
        "\n",
        "  model.add(tfkl.Dense(\n",
        "    units = 96,\n",
        "    activation = 'relu',\n",
        "    kernel_initializer = tfk.initializers.GlorotUniform(seed)))\n",
        "  \n",
        "  model.add(tfkl.Dropout(0.4, seed=seed))\n",
        "  \n",
        "  model.add(tfkl.Dense(\n",
        "    units = 1,\n",
        "    activation = 'sigmoid',\n",
        "    kernel_initializer = tfk.initializers.GlorotUniform(seed)))"
      ]
    },
    {
      "cell_type": "markdown",
      "metadata": {
        "id": "caYlR35qFREK"
      },
      "source": [
        "## Supernet: EfficientNetB7"
      ]
    },
    {
      "cell_type": "code",
      "execution_count": null,
      "metadata": {
        "execution": {
          "iopub.execute_input": "2022-11-15T14:35:56.985952Z",
          "iopub.status.busy": "2022-11-15T14:35:56.985606Z",
          "iopub.status.idle": "2022-11-15T14:35:56.993143Z",
          "shell.execute_reply": "2022-11-15T14:35:56.992028Z",
          "shell.execute_reply.started": "2022-11-15T14:35:56.985914Z"
        },
        "id": "GTigcmX5kPfj"
      },
      "outputs": [],
      "source": [
        "# Use EfficientNetB7\n",
        "if(mode == 'Efficientnet'):\n",
        "  supernet = tf.keras.applications.EfficientNetB7(\n",
        "      weights='imagenet',\n",
        "      include_top=False,\n",
        "      input_shape=input_shape)\n",
        "\n",
        "  model = tf.keras.Sequential()\n",
        "  model.add(supernet)\n",
        "  model.add(tf.keras.layers.GlobalAveragePooling2D())\n",
        "  model.add(tfkl.Dense(\n",
        "      units=128,\n",
        "      activation='relu',\n",
        "      kernel_initializer = tfk.initializers.GlorotUniform(seed)\n",
        "  ))\n",
        "  model.add(tfkl.Dropout(0.5, seed=seed))\n",
        "  model.add(tfkl.Dense(\n",
        "      units=14,\n",
        "      activation='softmax',\n",
        "      kernel_initializer = tfk.initializers.GlorotUniform(seed)\n",
        "  ))"
      ]
    },
    {
      "cell_type": "markdown",
      "metadata": {
        "id": "nDzNuoKEOMmG"
      },
      "source": [
        "## Transfer learning setting"
      ]
    },
    {
      "cell_type": "code",
      "execution_count": null,
      "metadata": {
        "execution": {
          "iopub.execute_input": "2022-11-17T20:06:06.404075Z",
          "iopub.status.busy": "2022-11-17T20:06:06.403467Z",
          "iopub.status.idle": "2022-11-17T20:06:06.411112Z",
          "shell.execute_reply": "2022-11-17T20:06:06.409464Z",
          "shell.execute_reply.started": "2022-11-17T20:06:06.404016Z"
        },
        "id": "fc0_XL7MbRUa"
      },
      "outputs": [],
      "source": [
        "# Freeze the supernet if it is in transfer learning mode\n",
        "if(transfer_learning):\n",
        "    supernet.trainable = False"
      ]
    },
    {
      "cell_type": "markdown",
      "metadata": {
        "id": "bDPUj0TwR0rW"
      },
      "source": [
        "## Model summary and compilation"
      ]
    },
    {
      "cell_type": "code",
      "execution_count": null,
      "metadata": {
        "colab": {
          "base_uri": "https://localhost:8080/"
        },
        "execution": {
          "iopub.execute_input": "2022-11-17T20:06:08.866918Z",
          "iopub.status.busy": "2022-11-17T20:06:08.866487Z",
          "iopub.status.idle": "2022-11-17T20:06:08.875168Z",
          "shell.execute_reply": "2022-11-17T20:06:08.873530Z",
          "shell.execute_reply.started": "2022-11-17T20:06:08.866878Z"
        },
        "id": "Mn70Fj1Kvuax",
        "outputId": "6a6b614b-9857-4cae-f269-62e90100d226"
      },
      "outputs": [
        {
          "name": "stdout",
          "output_type": "stream",
          "text": [
            "Model: \"sequential\"\n",
            "_________________________________________________________________\n",
            " Layer (type)                Output Shape              Param #   \n",
            "=================================================================\n",
            " vgg19 (Functional)          (None, 3, 3, 512)         20024384  \n",
            "                                                                 \n",
            " flatten (Flatten)           (None, 4608)              0         \n",
            "                                                                 \n",
            " dropout (Dropout)           (None, 4608)              0         \n",
            "                                                                 \n",
            " dense (Dense)               (None, 96)                442464    \n",
            "                                                                 \n",
            " dropout_1 (Dropout)         (None, 96)                0         \n",
            "                                                                 \n",
            " dense_1 (Dense)             (None, 1)                 97        \n",
            "                                                                 \n",
            "=================================================================\n",
            "Total params: 20,466,945\n",
            "Trainable params: 442,561\n",
            "Non-trainable params: 20,024,384\n",
            "_________________________________________________________________\n"
          ]
        }
      ],
      "source": [
        "# Show model structure\n",
        "model.summary()"
      ]
    },
    {
      "cell_type": "code",
      "execution_count": null,
      "metadata": {
        "execution": {
          "iopub.execute_input": "2022-11-17T20:06:11.457767Z",
          "iopub.status.busy": "2022-11-17T20:06:11.457370Z",
          "iopub.status.idle": "2022-11-17T20:06:11.474392Z",
          "shell.execute_reply": "2022-11-17T20:06:11.473041Z",
          "shell.execute_reply.started": "2022-11-17T20:06:11.457735Z"
        },
        "id": "IcLW6Rnz3U8a"
      },
      "outputs": [],
      "source": [
        "# Compile the model\n",
        "model.compile(\n",
        "    optimizer=optimizer,\n",
        "    loss=loss,\n",
        "    metrics=metrics\n",
        ")"
      ]
    },
    {
      "cell_type": "markdown",
      "metadata": {
        "id": "k4dDAxvsXLPY"
      },
      "source": [
        "# Fine Tuning\n",
        "If transfer learning was done, we can improve the performance by unfreezing some layers of the pre-trained model."
      ]
    },
    {
      "cell_type": "code",
      "execution_count": null,
      "metadata": {
        "execution": {
          "iopub.execute_input": "2022-11-15T14:36:18.519777Z",
          "iopub.status.busy": "2022-11-15T14:36:18.519404Z",
          "iopub.status.idle": "2022-11-15T14:36:18.524575Z",
          "shell.execute_reply": "2022-11-15T14:36:18.523533Z",
          "shell.execute_reply.started": "2022-11-15T14:36:18.519743Z"
        },
        "id": "tdKwpTtMXhva"
      },
      "outputs": [],
      "source": [
        "# Load and show the transfer learning model\n",
        "# model = tfk.models.load_model('TLModel')\n",
        "# model.summary()"
      ]
    },
    {
      "cell_type": "code",
      "execution_count": null,
      "metadata": {
        "colab": {
          "base_uri": "https://localhost:8080/"
        },
        "execution": {
          "iopub.execute_input": "2022-11-15T14:36:18.751002Z",
          "iopub.status.busy": "2022-11-15T14:36:18.750710Z",
          "iopub.status.idle": "2022-11-15T14:36:18.755442Z",
          "shell.execute_reply": "2022-11-15T14:36:18.754370Z",
          "shell.execute_reply.started": "2022-11-15T14:36:18.750975Z"
        },
        "id": "Dxsh7Hk7Xr4f",
        "outputId": "a7f4c35e-6f3c-405d-f2f0-fa3eccbf4155"
      },
      "outputs": [
        {
          "name": "stdout",
          "output_type": "stream",
          "text": [
            "0 input_1 False\n",
            "1 block1_conv1 False\n",
            "2 block1_conv2 False\n",
            "3 block1_pool False\n",
            "4 block2_conv1 False\n",
            "5 block2_conv2 False\n",
            "6 block2_pool False\n",
            "7 block3_conv1 False\n",
            "8 block3_conv2 False\n",
            "9 block3_conv3 False\n",
            "10 block3_conv4 False\n",
            "11 block3_pool False\n",
            "12 block4_conv1 False\n",
            "13 block4_conv2 False\n",
            "14 block4_conv3 False\n",
            "15 block4_conv4 True\n",
            "16 block4_pool True\n",
            "17 block5_conv1 True\n",
            "18 block5_conv2 True\n",
            "19 block5_conv3 True\n",
            "20 block5_conv4 True\n",
            "21 block5_pool True\n",
            "Model: \"sequential\"\n",
            "_________________________________________________________________\n",
            " Layer (type)                Output Shape              Param #   \n",
            "=================================================================\n",
            " vgg19 (Functional)          (None, 3, 3, 512)         20024384  \n",
            "                                                                 \n",
            " flatten (Flatten)           (None, 4608)              0         \n",
            "                                                                 \n",
            " dropout (Dropout)           (None, 4608)              0         \n",
            "                                                                 \n",
            " dense (Dense)               (None, 96)                442464    \n",
            "                                                                 \n",
            " dropout_1 (Dropout)         (None, 96)                0         \n",
            "                                                                 \n",
            " dense_1 (Dense)             (None, 1)                 97        \n",
            "                                                                 \n",
            "=================================================================\n",
            "Total params: 20,466,945\n",
            "Trainable params: 442,561\n",
            "Non-trainable params: 20,024,384\n",
            "_________________________________________________________________\n"
          ]
        }
      ],
      "source": [
        "# Unfreeze some layers and show the result\n",
        "for i, layer in enumerate(model.get_layer('vgg19').layers[15:]):\n",
        "  layer.trainable = True\n",
        "\n",
        "for i, layer in enumerate(model.get_layer('vgg19').layers):\n",
        "   print(i, layer.name, layer.trainable)\n",
        "model.summary()"
      ]
    },
    {
      "cell_type": "code",
      "execution_count": null,
      "metadata": {
        "execution": {
          "iopub.execute_input": "2022-11-15T14:36:19.557858Z",
          "iopub.status.busy": "2022-11-15T14:36:19.557139Z",
          "iopub.status.idle": "2022-11-15T14:36:19.576727Z",
          "shell.execute_reply": "2022-11-15T14:36:19.575578Z",
          "shell.execute_reply.started": "2022-11-15T14:36:19.557820Z"
        },
        "id": "qBqXmHw6YCbA"
      },
      "outputs": [],
      "source": [
        "# Compile the model\n",
        "model.compile(\n",
        "    optimizer=optimizer,\n",
        "    loss=loss,\n",
        "    metrics=metrics\n",
        ")"
      ]
    },
    {
      "cell_type": "markdown",
      "metadata": {
        "id": "Ok9qde99qbhC"
      },
      "source": [
        "# Checkpoint and Early stopping settings\n",
        "Early stopping options can be activated to limit model overfitting.\n",
        "\n",
        "There is possibility to save checkpoints during the training, in order to keep track of the performance and to get more choices of the final model.\n"
      ]
    },
    {
      "cell_type": "markdown",
      "metadata": {
        "id": "F3tzme4mOMmH"
      },
      "source": [
        "## Custom callback function"
      ]
    },
    {
      "cell_type": "code",
      "execution_count": null,
      "metadata": {
        "execution": {
          "iopub.execute_input": "2022-11-15T19:04:54.519047Z",
          "iopub.status.busy": "2022-11-15T19:04:54.518669Z",
          "iopub.status.idle": "2022-11-15T19:04:54.526563Z",
          "shell.execute_reply": "2022-11-15T19:04:54.525438Z",
          "shell.execute_reply.started": "2022-11-15T19:04:54.519017Z"
        },
        "id": "JL9axzCaOMmI"
      },
      "outputs": [],
      "source": [
        "class UnfreezeCallback(tf.keras.callbacks.Callback):\n",
        "    def __init__(self, optimizer, loss, metrics, n_epochs=0, layer=''):\n",
        "        super().__init__()\n",
        "        self.n_epochs = n_epochs\n",
        "        self.layer = layer\n",
        "        self.optimizer = optimizer\n",
        "        self.loss = loss\n",
        "        self.metrics = metrics\n",
        "\n",
        "    def on_epoch_end(self, epoch, logs=None):\n",
        "        if epoch == self.n_epochs:\n",
        "            self.model.get_layer(self.layer).trainable = True\n",
        "            for i, layer in enumerate(model.get_layer(self.layer).layers[:10]):\n",
        "                layer.trainable = True\n",
        "            self.model.compile(\n",
        "                optimizer=self.optimizer,\n",
        "                loss=self.loss,\n",
        "                metrics=self.metrics\n",
        "            )\n",
        "            print(\"Unfreezed all layers at epoch {}\".format(epoch))\n",
        "            for i, layer in enumerate(model.get_layer(self.layer).layers):\n",
        "                print(i, layer.name, layer.trainable)"
      ]
    },
    {
      "cell_type": "code",
      "execution_count": null,
      "metadata": {
        "execution": {
          "iopub.execute_input": "2022-11-17T20:06:35.728752Z",
          "iopub.status.busy": "2022-11-17T20:06:35.728199Z",
          "iopub.status.idle": "2022-11-17T20:06:35.745784Z",
          "shell.execute_reply": "2022-11-17T20:06:35.744714Z",
          "shell.execute_reply.started": "2022-11-17T20:06:35.728714Z"
        },
        "id": "cWGfO5V5EB5F"
      },
      "outputs": [],
      "source": [
        "from datetime import datetime\n",
        "\n",
        "# %cd /kaggle/working\n",
        "\n",
        "# Utility function to create folders and callbacks for training\n",
        "def create_folders_and_callbacks(model_name):\n",
        "    exps_dir = os.path.join('experiments')\n",
        "    if not os.path.exists(exps_dir):\n",
        "        os.makedirs(exps_dir)\n",
        "\n",
        "    now = datetime.now().strftime('%b%d_%H-%M-%S')\n",
        "    print(str(now))\n",
        "\n",
        "    exp_dir = os.path.join(exps_dir, model_name + '_' + str(now))\n",
        "    if not os.path.exists(exp_dir):\n",
        "        os.makedirs(exp_dir)\n",
        "      \n",
        "    callbacks = []\n",
        "\n",
        "    # Model checkpoint\n",
        "    ckpt_dir = os.path.join(exp_dir, 'base_ckpts')\n",
        "    if not os.path.exists(ckpt_dir):\n",
        "        os.makedirs(ckpt_dir)\n",
        "\n",
        "    ckpt_callback = tf.keras.callbacks.ModelCheckpoint(filepath=os.path.join(ckpt_dir, 'cp_{epoch:02d}.ckpt'), \n",
        "                                                     save_weights_only=False, # True to save only weights\n",
        "                                                     save_best_only=True) # True to save only the best epoch \n",
        "    callbacks.append(ckpt_callback)\n",
        "\n",
        "    # Visualize Learning on Tensorboard\n",
        "    tb_dir = os.path.join(exp_dir, 'tb_logs')\n",
        "    if not os.path.exists(tb_dir):\n",
        "        os.makedirs(tb_dir)\n",
        "      \n",
        "#     # By default shows losses and metrics for both training and validation\n",
        "#     tb_callback = tf.keras.callbacks.TensorBoard(log_dir=tb_dir, \n",
        "#                                                profile_batch=0,\n",
        "#                                                histogram_freq=1)  # if > 0 (epochs) shows weights histograms\n",
        "#     callbacks.append(tb_callback)\n",
        "\n",
        "    # Early Stopping\n",
        "\n",
        "    # # Monitoring parameter: validation loss\n",
        "    # monitor = 'val_loss'\n",
        "  \n",
        "    # # Number of epochs after that the training stops, if there are no improvements\n",
        "    # patience = 20\n",
        "\n",
        "    # es_callback = tf.keras.callbacks.EarlyStopping(monitor=monitor, patience=patience, restore_best_weights=True)\n",
        "    # callbacks.append(es_callback)\n",
        "\n",
        "#     # Unfreeze layers\n",
        "    # uf_callback = UnfreezeCallback(n_epochs=10, layer='vgg19', optimizer=optimizer, loss=loss, metrics=metrics)\n",
        "    # callbacks.append(uf_callback)\n",
        "\n",
        "    return callbacks"
      ]
    },
    {
      "cell_type": "markdown",
      "metadata": {
        "id": "E5csUQfVqhx2"
      },
      "source": [
        "# Model fitting\n",
        "The chosen model is fit on the training dataset."
      ]
    },
    {
      "cell_type": "code",
      "execution_count": null,
      "metadata": {
        "colab": {
          "base_uri": "https://localhost:8080/"
        },
        "execution": {
          "iopub.execute_input": "2022-11-17T20:06:38.937778Z",
          "iopub.status.busy": "2022-11-17T20:06:38.936938Z",
          "iopub.status.idle": "2022-11-17T20:06:38.944185Z",
          "shell.execute_reply": "2022-11-17T20:06:38.943360Z",
          "shell.execute_reply.started": "2022-11-17T20:06:38.937704Z"
        },
        "id": "MAeK-cKwSeUI",
        "outputId": "48a796d6-a117-4043-b18b-6ae19a8cb3dd"
      },
      "outputs": [
        {
          "name": "stdout",
          "output_type": "stream",
          "text": [
            "Nov18_20-45-18\n"
          ]
        },
        {
          "data": {
            "text/plain": [
              "[<keras.callbacks.ModelCheckpoint at 0x2406d584760>]"
            ]
          },
          "execution_count": 41,
          "metadata": {},
          "output_type": "execute_result"
        }
      ],
      "source": [
        "callbacks = create_folders_and_callbacks(model_name = mode)\n",
        "callbacks"
      ]
    },
    {
      "cell_type": "code",
      "execution_count": null,
      "metadata": {
        "execution": {
          "iopub.execute_input": "2022-11-15T19:08:10.162941Z",
          "iopub.status.busy": "2022-11-15T19:08:10.162585Z",
          "iopub.status.idle": "2022-11-15T19:08:10.167641Z",
          "shell.execute_reply": "2022-11-15T19:08:10.166587Z",
          "shell.execute_reply.started": "2022-11-15T19:08:10.162911Z"
        },
        "id": "CVFp-ml8OMmI"
      },
      "outputs": [],
      "source": [
        "class_weight = {0: 1.,\n",
        "                1: 18.\n",
        "               }"
      ]
    },
    {
      "cell_type": "code",
      "execution_count": null,
      "metadata": {
        "colab": {
          "base_uri": "https://localhost:8080/",
          "height": 169
        },
        "execution": {
          "iopub.execute_input": "2022-11-15T19:08:10.282354Z",
          "iopub.status.busy": "2022-11-15T19:08:10.282039Z",
          "iopub.status.idle": "2022-11-15T19:08:10.288501Z",
          "shell.execute_reply": "2022-11-15T19:08:10.287574Z",
          "shell.execute_reply.started": "2022-11-15T19:08:10.282326Z"
        },
        "id": "6GYFH8qDOMmI",
        "outputId": "af8b0953-9fbf-445d-d633-3f56c095f02d"
      },
      "outputs": [
        {
          "ename": "AttributeError",
          "evalue": "'NumpyArrayIterator' object has no attribute 'class_indices'",
          "output_type": "error",
          "traceback": [
            "\u001b[1;31m---------------------------------------------------------------------------\u001b[0m",
            "\u001b[1;31mAttributeError\u001b[0m                            Traceback (most recent call last)",
            "Input \u001b[1;32mIn [43]\u001b[0m, in \u001b[0;36m<cell line: 1>\u001b[1;34m()\u001b[0m\n\u001b[1;32m----> 1\u001b[0m \u001b[43mval_gen\u001b[49m\u001b[38;5;241;43m.\u001b[39;49m\u001b[43mclass_indices\u001b[49m\n",
            "\u001b[1;31mAttributeError\u001b[0m: 'NumpyArrayIterator' object has no attribute 'class_indices'"
          ]
        }
      ],
      "source": [
        "val_gen.class_indices"
      ]
    },
    {
      "cell_type": "code",
      "execution_count": null,
      "metadata": {
        "colab": {
          "base_uri": "https://localhost:8080/"
        },
        "execution": {
          "iopub.execute_input": "2022-11-17T20:07:36.948499Z",
          "iopub.status.busy": "2022-11-17T20:07:36.948114Z",
          "iopub.status.idle": "2022-11-17T20:08:05.368136Z",
          "shell.execute_reply": "2022-11-17T20:08:05.366226Z",
          "shell.execute_reply.started": "2022-11-17T20:07:36.948470Z"
        },
        "id": "cAZYPolE4RNE",
        "outputId": "65f24407-9c7f-490e-dd4a-1974e8313037"
      },
      "outputs": [
        {
          "name": "stdout",
          "output_type": "stream",
          "text": [
            "Epoch 1/100\n",
            "4/4 [==============================] - ETA: 0s - loss: 1.8110 - accuracy: 0.4873"
          ]
        },
        {
          "name": "stderr",
          "output_type": "stream",
          "text": [
            "WARNING:absl:Found untraced functions such as _jit_compiled_convolution_op, _jit_compiled_convolution_op, _jit_compiled_convolution_op, _jit_compiled_convolution_op, _jit_compiled_convolution_op while saving (showing 5 of 16). These functions will not be directly callable after loading.\n"
          ]
        },
        {
          "name": "stdout",
          "output_type": "stream",
          "text": [
            "INFO:tensorflow:Assets written to: experiments\\VGG_Nov18_20-45-18\\base_ckpts\\cp_01.ckpt\\assets\n"
          ]
        },
        {
          "name": "stderr",
          "output_type": "stream",
          "text": [
            "INFO:tensorflow:Assets written to: experiments\\VGG_Nov18_20-45-18\\base_ckpts\\cp_01.ckpt\\assets\n"
          ]
        },
        {
          "name": "stdout",
          "output_type": "stream",
          "text": [
            "4/4 [==============================] - 9s 2s/step - loss: 1.8110 - accuracy: 0.4873 - val_loss: 1.4091 - val_accuracy: 0.5500\n",
            "Epoch 2/100\n",
            "4/4 [==============================] - ETA: 0s - loss: 1.2260 - accuracy: 0.5169"
          ]
        },
        {
          "name": "stderr",
          "output_type": "stream",
          "text": [
            "WARNING:absl:Found untraced functions such as _jit_compiled_convolution_op, _jit_compiled_convolution_op, _jit_compiled_convolution_op, _jit_compiled_convolution_op, _jit_compiled_convolution_op while saving (showing 5 of 16). These functions will not be directly callable after loading.\n"
          ]
        },
        {
          "name": "stdout",
          "output_type": "stream",
          "text": [
            "INFO:tensorflow:Assets written to: experiments\\VGG_Nov18_20-45-18\\base_ckpts\\cp_02.ckpt\\assets\n"
          ]
        },
        {
          "name": "stderr",
          "output_type": "stream",
          "text": [
            "INFO:tensorflow:Assets written to: experiments\\VGG_Nov18_20-45-18\\base_ckpts\\cp_02.ckpt\\assets\n"
          ]
        },
        {
          "name": "stdout",
          "output_type": "stream",
          "text": [
            "4/4 [==============================] - 4s 1s/step - loss: 1.2260 - accuracy: 0.5169 - val_loss: 1.2931 - val_accuracy: 0.5833\n",
            "Epoch 3/100\n",
            "4/4 [==============================] - 0s 71ms/step - loss: 1.1802 - accuracy: 0.5636 - val_loss: 1.3621 - val_accuracy: 0.6167\n",
            "Epoch 4/100\n",
            "4/4 [==============================] - 0s 83ms/step - loss: 1.2455 - accuracy: 0.5127 - val_loss: 1.3523 - val_accuracy: 0.6000\n",
            "Epoch 5/100\n",
            "4/4 [==============================] - 0s 82ms/step - loss: 1.1555 - accuracy: 0.5466 - val_loss: 1.3762 - val_accuracy: 0.6000\n",
            "Epoch 6/100\n",
            "4/4 [==============================] - 0s 86ms/step - loss: 1.0488 - accuracy: 0.5339 - val_loss: 1.4129 - val_accuracy: 0.6167\n",
            "Epoch 7/100\n",
            "4/4 [==============================] - 0s 84ms/step - loss: 1.2859 - accuracy: 0.5254 - val_loss: 1.4174 - val_accuracy: 0.6167\n",
            "Epoch 8/100\n",
            "4/4 [==============================] - 0s 89ms/step - loss: 0.9938 - accuracy: 0.5636 - val_loss: 1.3140 - val_accuracy: 0.5833\n",
            "Epoch 9/100\n",
            "4/4 [==============================] - ETA: 0s - loss: 0.9017 - accuracy: 0.5847"
          ]
        },
        {
          "name": "stderr",
          "output_type": "stream",
          "text": [
            "WARNING:absl:Found untraced functions such as _jit_compiled_convolution_op, _jit_compiled_convolution_op, _jit_compiled_convolution_op, _jit_compiled_convolution_op, _jit_compiled_convolution_op while saving (showing 5 of 16). These functions will not be directly callable after loading.\n"
          ]
        },
        {
          "name": "stdout",
          "output_type": "stream",
          "text": [
            "INFO:tensorflow:Assets written to: experiments\\VGG_Nov18_20-45-18\\base_ckpts\\cp_09.ckpt\\assets\n"
          ]
        },
        {
          "name": "stderr",
          "output_type": "stream",
          "text": [
            "INFO:tensorflow:Assets written to: experiments\\VGG_Nov18_20-45-18\\base_ckpts\\cp_09.ckpt\\assets\n"
          ]
        },
        {
          "name": "stdout",
          "output_type": "stream",
          "text": [
            "4/4 [==============================] - 3s 1s/step - loss: 0.9017 - accuracy: 0.5847 - val_loss: 1.2818 - val_accuracy: 0.6667\n",
            "Epoch 10/100\n",
            "4/4 [==============================] - ETA: 0s - loss: 1.1790 - accuracy: 0.5678"
          ]
        },
        {
          "name": "stderr",
          "output_type": "stream",
          "text": [
            "WARNING:absl:Found untraced functions such as _jit_compiled_convolution_op, _jit_compiled_convolution_op, _jit_compiled_convolution_op, _jit_compiled_convolution_op, _jit_compiled_convolution_op while saving (showing 5 of 16). These functions will not be directly callable after loading.\n"
          ]
        },
        {
          "name": "stdout",
          "output_type": "stream",
          "text": [
            "INFO:tensorflow:Assets written to: experiments\\VGG_Nov18_20-45-18\\base_ckpts\\cp_10.ckpt\\assets\n"
          ]
        },
        {
          "name": "stderr",
          "output_type": "stream",
          "text": [
            "INFO:tensorflow:Assets written to: experiments\\VGG_Nov18_20-45-18\\base_ckpts\\cp_10.ckpt\\assets\n"
          ]
        },
        {
          "name": "stdout",
          "output_type": "stream",
          "text": [
            "4/4 [==============================] - 4s 1s/step - loss: 1.1790 - accuracy: 0.5678 - val_loss: 1.2367 - val_accuracy: 0.6500\n",
            "Epoch 11/100\n",
            "3/4 [=====================>........] - ETA: 0s - loss: 0.9401 - accuracy: 0.5833"
          ]
        },
        {
          "name": "stderr",
          "output_type": "stream",
          "text": [
            "WARNING:absl:Found untraced functions such as _jit_compiled_convolution_op, _jit_compiled_convolution_op, _jit_compiled_convolution_op, _jit_compiled_convolution_op, _jit_compiled_convolution_op while saving (showing 5 of 16). These functions will not be directly callable after loading.\n"
          ]
        },
        {
          "name": "stdout",
          "output_type": "stream",
          "text": [
            "INFO:tensorflow:Assets written to: experiments\\VGG_Nov18_20-45-18\\base_ckpts\\cp_11.ckpt\\assets\n"
          ]
        },
        {
          "name": "stderr",
          "output_type": "stream",
          "text": [
            "INFO:tensorflow:Assets written to: experiments\\VGG_Nov18_20-45-18\\base_ckpts\\cp_11.ckpt\\assets\n"
          ]
        },
        {
          "name": "stdout",
          "output_type": "stream",
          "text": [
            "4/4 [==============================] - 4s 1s/step - loss: 1.0386 - accuracy: 0.5678 - val_loss: 1.1813 - val_accuracy: 0.6500\n",
            "Epoch 12/100\n",
            "4/4 [==============================] - ETA: 0s - loss: 1.0011 - accuracy: 0.6102"
          ]
        },
        {
          "name": "stderr",
          "output_type": "stream",
          "text": [
            "WARNING:absl:Found untraced functions such as _jit_compiled_convolution_op, _jit_compiled_convolution_op, _jit_compiled_convolution_op, _jit_compiled_convolution_op, _jit_compiled_convolution_op while saving (showing 5 of 16). These functions will not be directly callable after loading.\n"
          ]
        },
        {
          "name": "stdout",
          "output_type": "stream",
          "text": [
            "INFO:tensorflow:Assets written to: experiments\\VGG_Nov18_20-45-18\\base_ckpts\\cp_12.ckpt\\assets\n"
          ]
        },
        {
          "name": "stderr",
          "output_type": "stream",
          "text": [
            "INFO:tensorflow:Assets written to: experiments\\VGG_Nov18_20-45-18\\base_ckpts\\cp_12.ckpt\\assets\n"
          ]
        },
        {
          "name": "stdout",
          "output_type": "stream",
          "text": [
            "4/4 [==============================] - 4s 1s/step - loss: 1.0011 - accuracy: 0.6102 - val_loss: 1.1392 - val_accuracy: 0.6667\n",
            "Epoch 13/100\n",
            "4/4 [==============================] - ETA: 0s - loss: 0.8447 - accuracy: 0.6144"
          ]
        },
        {
          "name": "stderr",
          "output_type": "stream",
          "text": [
            "WARNING:absl:Found untraced functions such as _jit_compiled_convolution_op, _jit_compiled_convolution_op, _jit_compiled_convolution_op, _jit_compiled_convolution_op, _jit_compiled_convolution_op while saving (showing 5 of 16). These functions will not be directly callable after loading.\n"
          ]
        },
        {
          "name": "stdout",
          "output_type": "stream",
          "text": [
            "INFO:tensorflow:Assets written to: experiments\\VGG_Nov18_20-45-18\\base_ckpts\\cp_13.ckpt\\assets\n"
          ]
        },
        {
          "name": "stderr",
          "output_type": "stream",
          "text": [
            "INFO:tensorflow:Assets written to: experiments\\VGG_Nov18_20-45-18\\base_ckpts\\cp_13.ckpt\\assets\n"
          ]
        },
        {
          "name": "stdout",
          "output_type": "stream",
          "text": [
            "4/4 [==============================] - 4s 1s/step - loss: 0.8447 - accuracy: 0.6144 - val_loss: 1.1157 - val_accuracy: 0.6833\n",
            "Epoch 14/100\n",
            "4/4 [==============================] - ETA: 0s - loss: 1.0120 - accuracy: 0.5593"
          ]
        },
        {
          "name": "stderr",
          "output_type": "stream",
          "text": [
            "WARNING:absl:Found untraced functions such as _jit_compiled_convolution_op, _jit_compiled_convolution_op, _jit_compiled_convolution_op, _jit_compiled_convolution_op, _jit_compiled_convolution_op while saving (showing 5 of 16). These functions will not be directly callable after loading.\n"
          ]
        },
        {
          "name": "stdout",
          "output_type": "stream",
          "text": [
            "INFO:tensorflow:Assets written to: experiments\\VGG_Nov18_20-45-18\\base_ckpts\\cp_14.ckpt\\assets\n"
          ]
        },
        {
          "name": "stderr",
          "output_type": "stream",
          "text": [
            "INFO:tensorflow:Assets written to: experiments\\VGG_Nov18_20-45-18\\base_ckpts\\cp_14.ckpt\\assets\n"
          ]
        },
        {
          "name": "stdout",
          "output_type": "stream",
          "text": [
            "4/4 [==============================] - 4s 1s/step - loss: 1.0120 - accuracy: 0.5593 - val_loss: 1.0596 - val_accuracy: 0.7000\n",
            "Epoch 15/100\n",
            "3/4 [=====================>........] - ETA: 0s - loss: 0.9549 - accuracy: 0.6198"
          ]
        },
        {
          "name": "stderr",
          "output_type": "stream",
          "text": [
            "WARNING:absl:Found untraced functions such as _jit_compiled_convolution_op, _jit_compiled_convolution_op, _jit_compiled_convolution_op, _jit_compiled_convolution_op, _jit_compiled_convolution_op while saving (showing 5 of 16). These functions will not be directly callable after loading.\n"
          ]
        },
        {
          "name": "stdout",
          "output_type": "stream",
          "text": [
            "INFO:tensorflow:Assets written to: experiments\\VGG_Nov18_20-45-18\\base_ckpts\\cp_15.ckpt\\assets\n"
          ]
        },
        {
          "name": "stderr",
          "output_type": "stream",
          "text": [
            "INFO:tensorflow:Assets written to: experiments\\VGG_Nov18_20-45-18\\base_ckpts\\cp_15.ckpt\\assets\n"
          ]
        },
        {
          "name": "stdout",
          "output_type": "stream",
          "text": [
            "4/4 [==============================] - 4s 1s/step - loss: 1.0070 - accuracy: 0.6271 - val_loss: 1.0021 - val_accuracy: 0.6500\n",
            "Epoch 16/100\n",
            "4/4 [==============================] - ETA: 0s - loss: 0.9526 - accuracy: 0.6102"
          ]
        },
        {
          "name": "stderr",
          "output_type": "stream",
          "text": [
            "WARNING:absl:Found untraced functions such as _jit_compiled_convolution_op, _jit_compiled_convolution_op, _jit_compiled_convolution_op, _jit_compiled_convolution_op, _jit_compiled_convolution_op while saving (showing 5 of 16). These functions will not be directly callable after loading.\n"
          ]
        },
        {
          "name": "stdout",
          "output_type": "stream",
          "text": [
            "INFO:tensorflow:Assets written to: experiments\\VGG_Nov18_20-45-18\\base_ckpts\\cp_16.ckpt\\assets\n"
          ]
        },
        {
          "name": "stderr",
          "output_type": "stream",
          "text": [
            "INFO:tensorflow:Assets written to: experiments\\VGG_Nov18_20-45-18\\base_ckpts\\cp_16.ckpt\\assets\n"
          ]
        },
        {
          "name": "stdout",
          "output_type": "stream",
          "text": [
            "4/4 [==============================] - 4s 1s/step - loss: 0.9526 - accuracy: 0.6102 - val_loss: 0.9948 - val_accuracy: 0.6333\n",
            "Epoch 17/100\n",
            "4/4 [==============================] - ETA: 0s - loss: 0.8889 - accuracy: 0.5381"
          ]
        },
        {
          "name": "stderr",
          "output_type": "stream",
          "text": [
            "WARNING:absl:Found untraced functions such as _jit_compiled_convolution_op, _jit_compiled_convolution_op, _jit_compiled_convolution_op, _jit_compiled_convolution_op, _jit_compiled_convolution_op while saving (showing 5 of 16). These functions will not be directly callable after loading.\n"
          ]
        },
        {
          "name": "stdout",
          "output_type": "stream",
          "text": [
            "INFO:tensorflow:Assets written to: experiments\\VGG_Nov18_20-45-18\\base_ckpts\\cp_17.ckpt\\assets\n"
          ]
        },
        {
          "name": "stderr",
          "output_type": "stream",
          "text": [
            "INFO:tensorflow:Assets written to: experiments\\VGG_Nov18_20-45-18\\base_ckpts\\cp_17.ckpt\\assets\n"
          ]
        },
        {
          "name": "stdout",
          "output_type": "stream",
          "text": [
            "4/4 [==============================] - 4s 1s/step - loss: 0.8889 - accuracy: 0.5381 - val_loss: 0.9870 - val_accuracy: 0.6167\n",
            "Epoch 18/100\n",
            "4/4 [==============================] - ETA: 0s - loss: 0.8893 - accuracy: 0.6102"
          ]
        },
        {
          "name": "stderr",
          "output_type": "stream",
          "text": [
            "WARNING:absl:Found untraced functions such as _jit_compiled_convolution_op, _jit_compiled_convolution_op, _jit_compiled_convolution_op, _jit_compiled_convolution_op, _jit_compiled_convolution_op while saving (showing 5 of 16). These functions will not be directly callable after loading.\n"
          ]
        },
        {
          "name": "stdout",
          "output_type": "stream",
          "text": [
            "INFO:tensorflow:Assets written to: experiments\\VGG_Nov18_20-45-18\\base_ckpts\\cp_18.ckpt\\assets\n"
          ]
        },
        {
          "name": "stderr",
          "output_type": "stream",
          "text": [
            "INFO:tensorflow:Assets written to: experiments\\VGG_Nov18_20-45-18\\base_ckpts\\cp_18.ckpt\\assets\n"
          ]
        },
        {
          "name": "stdout",
          "output_type": "stream",
          "text": [
            "4/4 [==============================] - 4s 1s/step - loss: 0.8893 - accuracy: 0.6102 - val_loss: 0.9836 - val_accuracy: 0.6333\n",
            "Epoch 19/100\n",
            "4/4 [==============================] - ETA: 0s - loss: 0.9257 - accuracy: 0.5975"
          ]
        },
        {
          "name": "stderr",
          "output_type": "stream",
          "text": [
            "WARNING:absl:Found untraced functions such as _jit_compiled_convolution_op, _jit_compiled_convolution_op, _jit_compiled_convolution_op, _jit_compiled_convolution_op, _jit_compiled_convolution_op while saving (showing 5 of 16). These functions will not be directly callable after loading.\n"
          ]
        },
        {
          "name": "stdout",
          "output_type": "stream",
          "text": [
            "INFO:tensorflow:Assets written to: experiments\\VGG_Nov18_20-45-18\\base_ckpts\\cp_19.ckpt\\assets\n"
          ]
        },
        {
          "name": "stderr",
          "output_type": "stream",
          "text": [
            "INFO:tensorflow:Assets written to: experiments\\VGG_Nov18_20-45-18\\base_ckpts\\cp_19.ckpt\\assets\n"
          ]
        },
        {
          "name": "stdout",
          "output_type": "stream",
          "text": [
            "4/4 [==============================] - 4s 1s/step - loss: 0.9257 - accuracy: 0.5975 - val_loss: 0.9816 - val_accuracy: 0.6333\n",
            "Epoch 20/100\n",
            "4/4 [==============================] - ETA: 0s - loss: 0.8393 - accuracy: 0.5763"
          ]
        },
        {
          "name": "stderr",
          "output_type": "stream",
          "text": [
            "WARNING:absl:Found untraced functions such as _jit_compiled_convolution_op, _jit_compiled_convolution_op, _jit_compiled_convolution_op, _jit_compiled_convolution_op, _jit_compiled_convolution_op while saving (showing 5 of 16). These functions will not be directly callable after loading.\n"
          ]
        },
        {
          "name": "stdout",
          "output_type": "stream",
          "text": [
            "INFO:tensorflow:Assets written to: experiments\\VGG_Nov18_20-45-18\\base_ckpts\\cp_20.ckpt\\assets\n"
          ]
        },
        {
          "name": "stderr",
          "output_type": "stream",
          "text": [
            "INFO:tensorflow:Assets written to: experiments\\VGG_Nov18_20-45-18\\base_ckpts\\cp_20.ckpt\\assets\n"
          ]
        },
        {
          "name": "stdout",
          "output_type": "stream",
          "text": [
            "4/4 [==============================] - 4s 1s/step - loss: 0.8393 - accuracy: 0.5763 - val_loss: 0.9604 - val_accuracy: 0.6500\n",
            "Epoch 21/100\n",
            "3/4 [=====================>........] - ETA: 0s - loss: 0.8251 - accuracy: 0.5930"
          ]
        },
        {
          "name": "stderr",
          "output_type": "stream",
          "text": [
            "WARNING:absl:Found untraced functions such as _jit_compiled_convolution_op, _jit_compiled_convolution_op, _jit_compiled_convolution_op, _jit_compiled_convolution_op, _jit_compiled_convolution_op while saving (showing 5 of 16). These functions will not be directly callable after loading.\n"
          ]
        },
        {
          "name": "stdout",
          "output_type": "stream",
          "text": [
            "INFO:tensorflow:Assets written to: experiments\\VGG_Nov18_20-45-18\\base_ckpts\\cp_21.ckpt\\assets\n"
          ]
        },
        {
          "name": "stderr",
          "output_type": "stream",
          "text": [
            "INFO:tensorflow:Assets written to: experiments\\VGG_Nov18_20-45-18\\base_ckpts\\cp_21.ckpt\\assets\n"
          ]
        },
        {
          "name": "stdout",
          "output_type": "stream",
          "text": [
            "4/4 [==============================] - 4s 1s/step - loss: 0.9047 - accuracy: 0.5847 - val_loss: 0.9551 - val_accuracy: 0.6833\n",
            "Epoch 22/100\n",
            "4/4 [==============================] - ETA: 0s - loss: 0.8050 - accuracy: 0.6017"
          ]
        },
        {
          "name": "stderr",
          "output_type": "stream",
          "text": [
            "WARNING:absl:Found untraced functions such as _jit_compiled_convolution_op, _jit_compiled_convolution_op, _jit_compiled_convolution_op, _jit_compiled_convolution_op, _jit_compiled_convolution_op while saving (showing 5 of 16). These functions will not be directly callable after loading.\n"
          ]
        },
        {
          "name": "stdout",
          "output_type": "stream",
          "text": [
            "INFO:tensorflow:Assets written to: experiments\\VGG_Nov18_20-45-18\\base_ckpts\\cp_22.ckpt\\assets\n"
          ]
        },
        {
          "name": "stderr",
          "output_type": "stream",
          "text": [
            "INFO:tensorflow:Assets written to: experiments\\VGG_Nov18_20-45-18\\base_ckpts\\cp_22.ckpt\\assets\n"
          ]
        },
        {
          "name": "stdout",
          "output_type": "stream",
          "text": [
            "4/4 [==============================] - 4s 1s/step - loss: 0.8050 - accuracy: 0.6017 - val_loss: 0.9406 - val_accuracy: 0.6667\n",
            "Epoch 23/100\n",
            "4/4 [==============================] - ETA: 0s - loss: 0.9730 - accuracy: 0.6102"
          ]
        },
        {
          "name": "stderr",
          "output_type": "stream",
          "text": [
            "WARNING:absl:Found untraced functions such as _jit_compiled_convolution_op, _jit_compiled_convolution_op, _jit_compiled_convolution_op, _jit_compiled_convolution_op, _jit_compiled_convolution_op while saving (showing 5 of 16). These functions will not be directly callable after loading.\n"
          ]
        },
        {
          "name": "stdout",
          "output_type": "stream",
          "text": [
            "INFO:tensorflow:Assets written to: experiments\\VGG_Nov18_20-45-18\\base_ckpts\\cp_23.ckpt\\assets\n"
          ]
        },
        {
          "name": "stderr",
          "output_type": "stream",
          "text": [
            "INFO:tensorflow:Assets written to: experiments\\VGG_Nov18_20-45-18\\base_ckpts\\cp_23.ckpt\\assets\n"
          ]
        },
        {
          "name": "stdout",
          "output_type": "stream",
          "text": [
            "4/4 [==============================] - 4s 1s/step - loss: 0.9730 - accuracy: 0.6102 - val_loss: 0.9288 - val_accuracy: 0.6667\n",
            "Epoch 24/100\n",
            "4/4 [==============================] - 0s 78ms/step - loss: 0.7247 - accuracy: 0.6525 - val_loss: 0.9291 - val_accuracy: 0.6500\n",
            "Epoch 25/100\n",
            "4/4 [==============================] - ETA: 0s - loss: 0.7086 - accuracy: 0.6102"
          ]
        },
        {
          "name": "stderr",
          "output_type": "stream",
          "text": [
            "WARNING:absl:Found untraced functions such as _jit_compiled_convolution_op, _jit_compiled_convolution_op, _jit_compiled_convolution_op, _jit_compiled_convolution_op, _jit_compiled_convolution_op while saving (showing 5 of 16). These functions will not be directly callable after loading.\n"
          ]
        },
        {
          "name": "stdout",
          "output_type": "stream",
          "text": [
            "INFO:tensorflow:Assets written to: experiments\\VGG_Nov18_20-45-18\\base_ckpts\\cp_25.ckpt\\assets\n"
          ]
        },
        {
          "name": "stderr",
          "output_type": "stream",
          "text": [
            "INFO:tensorflow:Assets written to: experiments\\VGG_Nov18_20-45-18\\base_ckpts\\cp_25.ckpt\\assets\n"
          ]
        },
        {
          "name": "stdout",
          "output_type": "stream",
          "text": [
            "4/4 [==============================] - 3s 1s/step - loss: 0.7086 - accuracy: 0.6102 - val_loss: 0.9147 - val_accuracy: 0.6833\n",
            "Epoch 26/100\n",
            "4/4 [==============================] - ETA: 0s - loss: 0.7204 - accuracy: 0.6441"
          ]
        },
        {
          "name": "stderr",
          "output_type": "stream",
          "text": [
            "WARNING:absl:Found untraced functions such as _jit_compiled_convolution_op, _jit_compiled_convolution_op, _jit_compiled_convolution_op, _jit_compiled_convolution_op, _jit_compiled_convolution_op while saving (showing 5 of 16). These functions will not be directly callable after loading.\n"
          ]
        },
        {
          "name": "stdout",
          "output_type": "stream",
          "text": [
            "INFO:tensorflow:Assets written to: experiments\\VGG_Nov18_20-45-18\\base_ckpts\\cp_26.ckpt\\assets\n"
          ]
        },
        {
          "name": "stderr",
          "output_type": "stream",
          "text": [
            "INFO:tensorflow:Assets written to: experiments\\VGG_Nov18_20-45-18\\base_ckpts\\cp_26.ckpt\\assets\n"
          ]
        },
        {
          "name": "stdout",
          "output_type": "stream",
          "text": [
            "4/4 [==============================] - 4s 1s/step - loss: 0.7204 - accuracy: 0.6441 - val_loss: 0.9034 - val_accuracy: 0.7000\n",
            "Epoch 27/100\n",
            "3/4 [=====================>........] - ETA: 0s - loss: 0.7325 - accuracy: 0.6354"
          ]
        },
        {
          "name": "stderr",
          "output_type": "stream",
          "text": [
            "WARNING:absl:Found untraced functions such as _jit_compiled_convolution_op, _jit_compiled_convolution_op, _jit_compiled_convolution_op, _jit_compiled_convolution_op, _jit_compiled_convolution_op while saving (showing 5 of 16). These functions will not be directly callable after loading.\n"
          ]
        },
        {
          "name": "stdout",
          "output_type": "stream",
          "text": [
            "INFO:tensorflow:Assets written to: experiments\\VGG_Nov18_20-45-18\\base_ckpts\\cp_27.ckpt\\assets\n"
          ]
        },
        {
          "name": "stderr",
          "output_type": "stream",
          "text": [
            "INFO:tensorflow:Assets written to: experiments\\VGG_Nov18_20-45-18\\base_ckpts\\cp_27.ckpt\\assets\n"
          ]
        },
        {
          "name": "stdout",
          "output_type": "stream",
          "text": [
            "4/4 [==============================] - 4s 1s/step - loss: 0.7811 - accuracy: 0.6229 - val_loss: 0.8935 - val_accuracy: 0.7000\n",
            "Epoch 28/100\n",
            "3/4 [=====================>........] - ETA: 0s - loss: 0.7529 - accuracy: 0.6562"
          ]
        },
        {
          "name": "stderr",
          "output_type": "stream",
          "text": [
            "WARNING:absl:Found untraced functions such as _jit_compiled_convolution_op, _jit_compiled_convolution_op, _jit_compiled_convolution_op, _jit_compiled_convolution_op, _jit_compiled_convolution_op while saving (showing 5 of 16). These functions will not be directly callable after loading.\n"
          ]
        },
        {
          "name": "stdout",
          "output_type": "stream",
          "text": [
            "INFO:tensorflow:Assets written to: experiments\\VGG_Nov18_20-45-18\\base_ckpts\\cp_28.ckpt\\assets\n"
          ]
        },
        {
          "name": "stderr",
          "output_type": "stream",
          "text": [
            "INFO:tensorflow:Assets written to: experiments\\VGG_Nov18_20-45-18\\base_ckpts\\cp_28.ckpt\\assets\n"
          ]
        },
        {
          "name": "stdout",
          "output_type": "stream",
          "text": [
            "4/4 [==============================] - 4s 1s/step - loss: 0.8430 - accuracy: 0.6398 - val_loss: 0.8895 - val_accuracy: 0.7000\n",
            "Epoch 29/100\n",
            "4/4 [==============================] - ETA: 0s - loss: 0.8371 - accuracy: 0.5932"
          ]
        },
        {
          "name": "stderr",
          "output_type": "stream",
          "text": [
            "WARNING:absl:Found untraced functions such as _jit_compiled_convolution_op, _jit_compiled_convolution_op, _jit_compiled_convolution_op, _jit_compiled_convolution_op, _jit_compiled_convolution_op while saving (showing 5 of 16). These functions will not be directly callable after loading.\n"
          ]
        },
        {
          "name": "stdout",
          "output_type": "stream",
          "text": [
            "INFO:tensorflow:Assets written to: experiments\\VGG_Nov18_20-45-18\\base_ckpts\\cp_29.ckpt\\assets\n"
          ]
        },
        {
          "name": "stderr",
          "output_type": "stream",
          "text": [
            "INFO:tensorflow:Assets written to: experiments\\VGG_Nov18_20-45-18\\base_ckpts\\cp_29.ckpt\\assets\n"
          ]
        },
        {
          "name": "stdout",
          "output_type": "stream",
          "text": [
            "4/4 [==============================] - 4s 1s/step - loss: 0.8371 - accuracy: 0.5932 - val_loss: 0.8843 - val_accuracy: 0.7000\n",
            "Epoch 30/100\n",
            "3/4 [=====================>........] - ETA: 0s - loss: 0.5921 - accuracy: 0.6615"
          ]
        },
        {
          "name": "stderr",
          "output_type": "stream",
          "text": [
            "WARNING:absl:Found untraced functions such as _jit_compiled_convolution_op, _jit_compiled_convolution_op, _jit_compiled_convolution_op, _jit_compiled_convolution_op, _jit_compiled_convolution_op while saving (showing 5 of 16). These functions will not be directly callable after loading.\n"
          ]
        },
        {
          "name": "stdout",
          "output_type": "stream",
          "text": [
            "INFO:tensorflow:Assets written to: experiments\\VGG_Nov18_20-45-18\\base_ckpts\\cp_30.ckpt\\assets\n"
          ]
        },
        {
          "name": "stderr",
          "output_type": "stream",
          "text": [
            "INFO:tensorflow:Assets written to: experiments\\VGG_Nov18_20-45-18\\base_ckpts\\cp_30.ckpt\\assets\n"
          ]
        },
        {
          "name": "stdout",
          "output_type": "stream",
          "text": [
            "4/4 [==============================] - 4s 1s/step - loss: 0.6042 - accuracy: 0.6356 - val_loss: 0.8733 - val_accuracy: 0.7167\n",
            "Epoch 31/100\n",
            "4/4 [==============================] - ETA: 0s - loss: 0.8912 - accuracy: 0.6059"
          ]
        },
        {
          "name": "stderr",
          "output_type": "stream",
          "text": [
            "WARNING:absl:Found untraced functions such as _jit_compiled_convolution_op, _jit_compiled_convolution_op, _jit_compiled_convolution_op, _jit_compiled_convolution_op, _jit_compiled_convolution_op while saving (showing 5 of 16). These functions will not be directly callable after loading.\n"
          ]
        },
        {
          "name": "stdout",
          "output_type": "stream",
          "text": [
            "INFO:tensorflow:Assets written to: experiments\\VGG_Nov18_20-45-18\\base_ckpts\\cp_31.ckpt\\assets\n"
          ]
        },
        {
          "name": "stderr",
          "output_type": "stream",
          "text": [
            "INFO:tensorflow:Assets written to: experiments\\VGG_Nov18_20-45-18\\base_ckpts\\cp_31.ckpt\\assets\n"
          ]
        },
        {
          "name": "stdout",
          "output_type": "stream",
          "text": [
            "4/4 [==============================] - 4s 1s/step - loss: 0.8912 - accuracy: 0.6059 - val_loss: 0.8476 - val_accuracy: 0.7167\n",
            "Epoch 32/100\n",
            "3/4 [=====================>........] - ETA: 0s - loss: 0.6381 - accuracy: 0.6395"
          ]
        },
        {
          "name": "stderr",
          "output_type": "stream",
          "text": [
            "WARNING:absl:Found untraced functions such as _jit_compiled_convolution_op, _jit_compiled_convolution_op, _jit_compiled_convolution_op, _jit_compiled_convolution_op, _jit_compiled_convolution_op while saving (showing 5 of 16). These functions will not be directly callable after loading.\n"
          ]
        },
        {
          "name": "stdout",
          "output_type": "stream",
          "text": [
            "INFO:tensorflow:Assets written to: experiments\\VGG_Nov18_20-45-18\\base_ckpts\\cp_32.ckpt\\assets\n"
          ]
        },
        {
          "name": "stderr",
          "output_type": "stream",
          "text": [
            "INFO:tensorflow:Assets written to: experiments\\VGG_Nov18_20-45-18\\base_ckpts\\cp_32.ckpt\\assets\n"
          ]
        },
        {
          "name": "stdout",
          "output_type": "stream",
          "text": [
            "4/4 [==============================] - 4s 1s/step - loss: 0.6982 - accuracy: 0.6186 - val_loss: 0.8401 - val_accuracy: 0.7000\n",
            "Epoch 33/100\n",
            "4/4 [==============================] - 0s 82ms/step - loss: 0.7874 - accuracy: 0.5847 - val_loss: 0.8513 - val_accuracy: 0.6833\n",
            "Epoch 34/100\n",
            "4/4 [==============================] - ETA: 0s - loss: 0.8207 - accuracy: 0.5975"
          ]
        },
        {
          "name": "stderr",
          "output_type": "stream",
          "text": [
            "WARNING:absl:Found untraced functions such as _jit_compiled_convolution_op, _jit_compiled_convolution_op, _jit_compiled_convolution_op, _jit_compiled_convolution_op, _jit_compiled_convolution_op while saving (showing 5 of 16). These functions will not be directly callable after loading.\n"
          ]
        },
        {
          "name": "stdout",
          "output_type": "stream",
          "text": [
            "INFO:tensorflow:Assets written to: experiments\\VGG_Nov18_20-45-18\\base_ckpts\\cp_34.ckpt\\assets\n"
          ]
        },
        {
          "name": "stderr",
          "output_type": "stream",
          "text": [
            "INFO:tensorflow:Assets written to: experiments\\VGG_Nov18_20-45-18\\base_ckpts\\cp_34.ckpt\\assets\n"
          ]
        },
        {
          "name": "stdout",
          "output_type": "stream",
          "text": [
            "4/4 [==============================] - 3s 1s/step - loss: 0.8207 - accuracy: 0.5975 - val_loss: 0.8258 - val_accuracy: 0.6667\n",
            "Epoch 35/100\n",
            "4/4 [==============================] - ETA: 0s - loss: 0.8173 - accuracy: 0.6102"
          ]
        },
        {
          "name": "stderr",
          "output_type": "stream",
          "text": [
            "WARNING:absl:Found untraced functions such as _jit_compiled_convolution_op, _jit_compiled_convolution_op, _jit_compiled_convolution_op, _jit_compiled_convolution_op, _jit_compiled_convolution_op while saving (showing 5 of 16). These functions will not be directly callable after loading.\n"
          ]
        },
        {
          "name": "stdout",
          "output_type": "stream",
          "text": [
            "INFO:tensorflow:Assets written to: experiments\\VGG_Nov18_20-45-18\\base_ckpts\\cp_35.ckpt\\assets\n"
          ]
        },
        {
          "name": "stderr",
          "output_type": "stream",
          "text": [
            "INFO:tensorflow:Assets written to: experiments\\VGG_Nov18_20-45-18\\base_ckpts\\cp_35.ckpt\\assets\n"
          ]
        },
        {
          "name": "stdout",
          "output_type": "stream",
          "text": [
            "4/4 [==============================] - 4s 1s/step - loss: 0.8173 - accuracy: 0.6102 - val_loss: 0.8159 - val_accuracy: 0.6833\n",
            "Epoch 36/100\n",
            "4/4 [==============================] - ETA: 0s - loss: 0.8129 - accuracy: 0.6102"
          ]
        },
        {
          "name": "stderr",
          "output_type": "stream",
          "text": [
            "WARNING:absl:Found untraced functions such as _jit_compiled_convolution_op, _jit_compiled_convolution_op, _jit_compiled_convolution_op, _jit_compiled_convolution_op, _jit_compiled_convolution_op while saving (showing 5 of 16). These functions will not be directly callable after loading.\n"
          ]
        },
        {
          "name": "stdout",
          "output_type": "stream",
          "text": [
            "INFO:tensorflow:Assets written to: experiments\\VGG_Nov18_20-45-18\\base_ckpts\\cp_36.ckpt\\assets\n"
          ]
        },
        {
          "name": "stderr",
          "output_type": "stream",
          "text": [
            "INFO:tensorflow:Assets written to: experiments\\VGG_Nov18_20-45-18\\base_ckpts\\cp_36.ckpt\\assets\n"
          ]
        },
        {
          "name": "stdout",
          "output_type": "stream",
          "text": [
            "4/4 [==============================] - 4s 1s/step - loss: 0.8129 - accuracy: 0.6102 - val_loss: 0.8135 - val_accuracy: 0.6833\n",
            "Epoch 37/100\n",
            "4/4 [==============================] - ETA: 0s - loss: 0.7713 - accuracy: 0.5763"
          ]
        },
        {
          "name": "stderr",
          "output_type": "stream",
          "text": [
            "WARNING:absl:Found untraced functions such as _jit_compiled_convolution_op, _jit_compiled_convolution_op, _jit_compiled_convolution_op, _jit_compiled_convolution_op, _jit_compiled_convolution_op while saving (showing 5 of 16). These functions will not be directly callable after loading.\n"
          ]
        },
        {
          "name": "stdout",
          "output_type": "stream",
          "text": [
            "INFO:tensorflow:Assets written to: experiments\\VGG_Nov18_20-45-18\\base_ckpts\\cp_37.ckpt\\assets\n"
          ]
        },
        {
          "name": "stderr",
          "output_type": "stream",
          "text": [
            "INFO:tensorflow:Assets written to: experiments\\VGG_Nov18_20-45-18\\base_ckpts\\cp_37.ckpt\\assets\n"
          ]
        },
        {
          "name": "stdout",
          "output_type": "stream",
          "text": [
            "4/4 [==============================] - 4s 1s/step - loss: 0.7713 - accuracy: 0.5763 - val_loss: 0.8064 - val_accuracy: 0.6500\n",
            "Epoch 38/100\n",
            "4/4 [==============================] - 0s 93ms/step - loss: 0.8335 - accuracy: 0.6144 - val_loss: 0.8079 - val_accuracy: 0.6500\n",
            "Epoch 39/100\n",
            "4/4 [==============================] - 0s 93ms/step - loss: 0.7573 - accuracy: 0.6017 - val_loss: 0.8089 - val_accuracy: 0.6167\n",
            "Epoch 40/100\n",
            "3/4 [=====================>........] - ETA: 0s - loss: 0.8105 - accuracy: 0.5260"
          ]
        },
        {
          "name": "stderr",
          "output_type": "stream",
          "text": [
            "WARNING:absl:Found untraced functions such as _jit_compiled_convolution_op, _jit_compiled_convolution_op, _jit_compiled_convolution_op, _jit_compiled_convolution_op, _jit_compiled_convolution_op while saving (showing 5 of 16). These functions will not be directly callable after loading.\n"
          ]
        },
        {
          "name": "stdout",
          "output_type": "stream",
          "text": [
            "INFO:tensorflow:Assets written to: experiments\\VGG_Nov18_20-45-18\\base_ckpts\\cp_40.ckpt\\assets\n"
          ]
        },
        {
          "name": "stderr",
          "output_type": "stream",
          "text": [
            "INFO:tensorflow:Assets written to: experiments\\VGG_Nov18_20-45-18\\base_ckpts\\cp_40.ckpt\\assets\n"
          ]
        },
        {
          "name": "stdout",
          "output_type": "stream",
          "text": [
            "4/4 [==============================] - 4s 1s/step - loss: 0.7828 - accuracy: 0.5593 - val_loss: 0.8061 - val_accuracy: 0.6167\n",
            "Epoch 41/100\n",
            "4/4 [==============================] - ETA: 0s - loss: 0.7617 - accuracy: 0.6144"
          ]
        },
        {
          "name": "stderr",
          "output_type": "stream",
          "text": [
            "WARNING:absl:Found untraced functions such as _jit_compiled_convolution_op, _jit_compiled_convolution_op, _jit_compiled_convolution_op, _jit_compiled_convolution_op, _jit_compiled_convolution_op while saving (showing 5 of 16). These functions will not be directly callable after loading.\n"
          ]
        },
        {
          "name": "stdout",
          "output_type": "stream",
          "text": [
            "INFO:tensorflow:Assets written to: experiments\\VGG_Nov18_20-45-18\\base_ckpts\\cp_41.ckpt\\assets\n"
          ]
        },
        {
          "name": "stderr",
          "output_type": "stream",
          "text": [
            "INFO:tensorflow:Assets written to: experiments\\VGG_Nov18_20-45-18\\base_ckpts\\cp_41.ckpt\\assets\n"
          ]
        },
        {
          "name": "stdout",
          "output_type": "stream",
          "text": [
            "4/4 [==============================] - 4s 1s/step - loss: 0.7617 - accuracy: 0.6144 - val_loss: 0.7850 - val_accuracy: 0.6333\n",
            "Epoch 42/100\n",
            "4/4 [==============================] - ETA: 0s - loss: 0.7951 - accuracy: 0.6017"
          ]
        },
        {
          "name": "stderr",
          "output_type": "stream",
          "text": [
            "WARNING:absl:Found untraced functions such as _jit_compiled_convolution_op, _jit_compiled_convolution_op, _jit_compiled_convolution_op, _jit_compiled_convolution_op, _jit_compiled_convolution_op while saving (showing 5 of 16). These functions will not be directly callable after loading.\n"
          ]
        },
        {
          "name": "stdout",
          "output_type": "stream",
          "text": [
            "INFO:tensorflow:Assets written to: experiments\\VGG_Nov18_20-45-18\\base_ckpts\\cp_42.ckpt\\assets\n"
          ]
        },
        {
          "name": "stderr",
          "output_type": "stream",
          "text": [
            "INFO:tensorflow:Assets written to: experiments\\VGG_Nov18_20-45-18\\base_ckpts\\cp_42.ckpt\\assets\n"
          ]
        },
        {
          "name": "stdout",
          "output_type": "stream",
          "text": [
            "4/4 [==============================] - 4s 1s/step - loss: 0.7951 - accuracy: 0.6017 - val_loss: 0.7292 - val_accuracy: 0.6500\n",
            "Epoch 43/100\n",
            "4/4 [==============================] - ETA: 0s - loss: 0.7393 - accuracy: 0.6271"
          ]
        },
        {
          "name": "stderr",
          "output_type": "stream",
          "text": [
            "WARNING:absl:Found untraced functions such as _jit_compiled_convolution_op, _jit_compiled_convolution_op, _jit_compiled_convolution_op, _jit_compiled_convolution_op, _jit_compiled_convolution_op while saving (showing 5 of 16). These functions will not be directly callable after loading.\n"
          ]
        },
        {
          "name": "stdout",
          "output_type": "stream",
          "text": [
            "INFO:tensorflow:Assets written to: experiments\\VGG_Nov18_20-45-18\\base_ckpts\\cp_43.ckpt\\assets\n"
          ]
        },
        {
          "name": "stderr",
          "output_type": "stream",
          "text": [
            "INFO:tensorflow:Assets written to: experiments\\VGG_Nov18_20-45-18\\base_ckpts\\cp_43.ckpt\\assets\n"
          ]
        },
        {
          "name": "stdout",
          "output_type": "stream",
          "text": [
            "4/4 [==============================] - 4s 1s/step - loss: 0.7393 - accuracy: 0.6271 - val_loss: 0.7224 - val_accuracy: 0.6500\n",
            "Epoch 44/100\n",
            "4/4 [==============================] - ETA: 0s - loss: 0.6579 - accuracy: 0.6314"
          ]
        },
        {
          "name": "stderr",
          "output_type": "stream",
          "text": [
            "WARNING:absl:Found untraced functions such as _jit_compiled_convolution_op, _jit_compiled_convolution_op, _jit_compiled_convolution_op, _jit_compiled_convolution_op, _jit_compiled_convolution_op while saving (showing 5 of 16). These functions will not be directly callable after loading.\n"
          ]
        },
        {
          "name": "stdout",
          "output_type": "stream",
          "text": [
            "INFO:tensorflow:Assets written to: experiments\\VGG_Nov18_20-45-18\\base_ckpts\\cp_44.ckpt\\assets\n"
          ]
        },
        {
          "name": "stderr",
          "output_type": "stream",
          "text": [
            "INFO:tensorflow:Assets written to: experiments\\VGG_Nov18_20-45-18\\base_ckpts\\cp_44.ckpt\\assets\n"
          ]
        },
        {
          "name": "stdout",
          "output_type": "stream",
          "text": [
            "4/4 [==============================] - 4s 1s/step - loss: 0.6579 - accuracy: 0.6314 - val_loss: 0.6996 - val_accuracy: 0.6667\n",
            "Epoch 45/100\n",
            "4/4 [==============================] - ETA: 0s - loss: 0.7080 - accuracy: 0.5805"
          ]
        },
        {
          "name": "stderr",
          "output_type": "stream",
          "text": [
            "WARNING:absl:Found untraced functions such as _jit_compiled_convolution_op, _jit_compiled_convolution_op, _jit_compiled_convolution_op, _jit_compiled_convolution_op, _jit_compiled_convolution_op while saving (showing 5 of 16). These functions will not be directly callable after loading.\n"
          ]
        },
        {
          "name": "stdout",
          "output_type": "stream",
          "text": [
            "INFO:tensorflow:Assets written to: experiments\\VGG_Nov18_20-45-18\\base_ckpts\\cp_45.ckpt\\assets\n"
          ]
        },
        {
          "name": "stderr",
          "output_type": "stream",
          "text": [
            "INFO:tensorflow:Assets written to: experiments\\VGG_Nov18_20-45-18\\base_ckpts\\cp_45.ckpt\\assets\n"
          ]
        },
        {
          "name": "stdout",
          "output_type": "stream",
          "text": [
            "4/4 [==============================] - 4s 1s/step - loss: 0.7080 - accuracy: 0.5805 - val_loss: 0.6965 - val_accuracy: 0.6667\n",
            "Epoch 46/100\n",
            "4/4 [==============================] - 1s 96ms/step - loss: 0.6070 - accuracy: 0.6568 - val_loss: 0.7198 - val_accuracy: 0.6833\n",
            "Epoch 47/100\n",
            "4/4 [==============================] - 0s 89ms/step - loss: 0.6576 - accuracy: 0.6186 - val_loss: 0.7612 - val_accuracy: 0.6167\n",
            "Epoch 48/100\n",
            "4/4 [==============================] - 0s 93ms/step - loss: 0.5900 - accuracy: 0.6610 - val_loss: 0.8018 - val_accuracy: 0.6333\n",
            "Epoch 49/100\n",
            "4/4 [==============================] - 0s 86ms/step - loss: 0.7299 - accuracy: 0.5890 - val_loss: 0.7855 - val_accuracy: 0.6167\n",
            "Epoch 50/100\n",
            "4/4 [==============================] - 0s 79ms/step - loss: 0.7389 - accuracy: 0.6314 - val_loss: 0.7413 - val_accuracy: 0.6167\n",
            "Epoch 51/100\n",
            "4/4 [==============================] - 0s 86ms/step - loss: 0.7177 - accuracy: 0.6398 - val_loss: 0.7142 - val_accuracy: 0.6333\n",
            "Epoch 52/100\n",
            "4/4 [==============================] - ETA: 0s - loss: 0.6361 - accuracy: 0.6483"
          ]
        },
        {
          "name": "stderr",
          "output_type": "stream",
          "text": [
            "WARNING:absl:Found untraced functions such as _jit_compiled_convolution_op, _jit_compiled_convolution_op, _jit_compiled_convolution_op, _jit_compiled_convolution_op, _jit_compiled_convolution_op while saving (showing 5 of 16). These functions will not be directly callable after loading.\n"
          ]
        },
        {
          "name": "stdout",
          "output_type": "stream",
          "text": [
            "INFO:tensorflow:Assets written to: experiments\\VGG_Nov18_20-45-18\\base_ckpts\\cp_52.ckpt\\assets\n"
          ]
        },
        {
          "name": "stderr",
          "output_type": "stream",
          "text": [
            "INFO:tensorflow:Assets written to: experiments\\VGG_Nov18_20-45-18\\base_ckpts\\cp_52.ckpt\\assets\n"
          ]
        },
        {
          "name": "stdout",
          "output_type": "stream",
          "text": [
            "4/4 [==============================] - 4s 1s/step - loss: 0.6361 - accuracy: 0.6483 - val_loss: 0.6943 - val_accuracy: 0.6333\n",
            "Epoch 53/100\n",
            "4/4 [==============================] - ETA: 0s - loss: 0.7438 - accuracy: 0.5975"
          ]
        },
        {
          "name": "stderr",
          "output_type": "stream",
          "text": [
            "WARNING:absl:Found untraced functions such as _jit_compiled_convolution_op, _jit_compiled_convolution_op, _jit_compiled_convolution_op, _jit_compiled_convolution_op, _jit_compiled_convolution_op while saving (showing 5 of 16). These functions will not be directly callable after loading.\n"
          ]
        },
        {
          "name": "stdout",
          "output_type": "stream",
          "text": [
            "INFO:tensorflow:Assets written to: experiments\\VGG_Nov18_20-45-18\\base_ckpts\\cp_53.ckpt\\assets\n"
          ]
        },
        {
          "name": "stderr",
          "output_type": "stream",
          "text": [
            "INFO:tensorflow:Assets written to: experiments\\VGG_Nov18_20-45-18\\base_ckpts\\cp_53.ckpt\\assets\n"
          ]
        },
        {
          "name": "stdout",
          "output_type": "stream",
          "text": [
            "4/4 [==============================] - 4s 1s/step - loss: 0.7438 - accuracy: 0.5975 - val_loss: 0.6767 - val_accuracy: 0.6667\n",
            "Epoch 54/100\n",
            "3/4 [=====================>........] - ETA: 0s - loss: 0.6391 - accuracy: 0.6667"
          ]
        },
        {
          "name": "stderr",
          "output_type": "stream",
          "text": [
            "WARNING:absl:Found untraced functions such as _jit_compiled_convolution_op, _jit_compiled_convolution_op, _jit_compiled_convolution_op, _jit_compiled_convolution_op, _jit_compiled_convolution_op while saving (showing 5 of 16). These functions will not be directly callable after loading.\n"
          ]
        },
        {
          "name": "stdout",
          "output_type": "stream",
          "text": [
            "INFO:tensorflow:Assets written to: experiments\\VGG_Nov18_20-45-18\\base_ckpts\\cp_54.ckpt\\assets\n"
          ]
        },
        {
          "name": "stderr",
          "output_type": "stream",
          "text": [
            "INFO:tensorflow:Assets written to: experiments\\VGG_Nov18_20-45-18\\base_ckpts\\cp_54.ckpt\\assets\n"
          ]
        },
        {
          "name": "stdout",
          "output_type": "stream",
          "text": [
            "4/4 [==============================] - 4s 1s/step - loss: 0.6671 - accuracy: 0.6356 - val_loss: 0.6575 - val_accuracy: 0.6667\n",
            "Epoch 55/100\n",
            "4/4 [==============================] - ETA: 0s - loss: 0.7082 - accuracy: 0.6568"
          ]
        },
        {
          "name": "stderr",
          "output_type": "stream",
          "text": [
            "WARNING:absl:Found untraced functions such as _jit_compiled_convolution_op, _jit_compiled_convolution_op, _jit_compiled_convolution_op, _jit_compiled_convolution_op, _jit_compiled_convolution_op while saving (showing 5 of 16). These functions will not be directly callable after loading.\n"
          ]
        },
        {
          "name": "stdout",
          "output_type": "stream",
          "text": [
            "INFO:tensorflow:Assets written to: experiments\\VGG_Nov18_20-45-18\\base_ckpts\\cp_55.ckpt\\assets\n"
          ]
        },
        {
          "name": "stderr",
          "output_type": "stream",
          "text": [
            "INFO:tensorflow:Assets written to: experiments\\VGG_Nov18_20-45-18\\base_ckpts\\cp_55.ckpt\\assets\n"
          ]
        },
        {
          "name": "stdout",
          "output_type": "stream",
          "text": [
            "4/4 [==============================] - 4s 1s/step - loss: 0.7082 - accuracy: 0.6568 - val_loss: 0.6365 - val_accuracy: 0.6667\n",
            "Epoch 56/100\n",
            "4/4 [==============================] - ETA: 0s - loss: 0.6422 - accuracy: 0.6653"
          ]
        },
        {
          "name": "stderr",
          "output_type": "stream",
          "text": [
            "WARNING:absl:Found untraced functions such as _jit_compiled_convolution_op, _jit_compiled_convolution_op, _jit_compiled_convolution_op, _jit_compiled_convolution_op, _jit_compiled_convolution_op while saving (showing 5 of 16). These functions will not be directly callable after loading.\n"
          ]
        },
        {
          "name": "stdout",
          "output_type": "stream",
          "text": [
            "INFO:tensorflow:Assets written to: experiments\\VGG_Nov18_20-45-18\\base_ckpts\\cp_56.ckpt\\assets\n"
          ]
        },
        {
          "name": "stderr",
          "output_type": "stream",
          "text": [
            "INFO:tensorflow:Assets written to: experiments\\VGG_Nov18_20-45-18\\base_ckpts\\cp_56.ckpt\\assets\n"
          ]
        },
        {
          "name": "stdout",
          "output_type": "stream",
          "text": [
            "4/4 [==============================] - 4s 1s/step - loss: 0.6422 - accuracy: 0.6653 - val_loss: 0.6235 - val_accuracy: 0.6667\n",
            "Epoch 57/100\n",
            "4/4 [==============================] - 1s 92ms/step - loss: 0.6473 - accuracy: 0.6653 - val_loss: 0.6243 - val_accuracy: 0.6333\n",
            "Epoch 58/100\n",
            "4/4 [==============================] - 0s 85ms/step - loss: 0.6579 - accuracy: 0.6568 - val_loss: 0.6301 - val_accuracy: 0.6500\n",
            "Epoch 59/100\n",
            "4/4 [==============================] - 0s 91ms/step - loss: 0.7543 - accuracy: 0.6144 - val_loss: 0.6432 - val_accuracy: 0.6500\n",
            "Epoch 60/100\n",
            "4/4 [==============================] - 0s 82ms/step - loss: 0.6992 - accuracy: 0.6271 - val_loss: 0.6523 - val_accuracy: 0.6333\n",
            "Epoch 61/100\n",
            "4/4 [==============================] - 0s 86ms/step - loss: 0.6892 - accuracy: 0.5890 - val_loss: 0.6645 - val_accuracy: 0.6333\n",
            "Epoch 62/100\n",
            "4/4 [==============================] - 0s 79ms/step - loss: 0.7056 - accuracy: 0.6314 - val_loss: 0.6568 - val_accuracy: 0.6333\n",
            "Epoch 63/100\n",
            "4/4 [==============================] - 0s 88ms/step - loss: 0.6665 - accuracy: 0.6059 - val_loss: 0.6305 - val_accuracy: 0.6667\n",
            "Epoch 64/100\n",
            "4/4 [==============================] - ETA: 0s - loss: 0.6964 - accuracy: 0.6271"
          ]
        },
        {
          "name": "stderr",
          "output_type": "stream",
          "text": [
            "WARNING:absl:Found untraced functions such as _jit_compiled_convolution_op, _jit_compiled_convolution_op, _jit_compiled_convolution_op, _jit_compiled_convolution_op, _jit_compiled_convolution_op while saving (showing 5 of 16). These functions will not be directly callable after loading.\n"
          ]
        },
        {
          "name": "stdout",
          "output_type": "stream",
          "text": [
            "INFO:tensorflow:Assets written to: experiments\\VGG_Nov18_20-45-18\\base_ckpts\\cp_64.ckpt\\assets\n"
          ]
        },
        {
          "name": "stderr",
          "output_type": "stream",
          "text": [
            "INFO:tensorflow:Assets written to: experiments\\VGG_Nov18_20-45-18\\base_ckpts\\cp_64.ckpt\\assets\n"
          ]
        },
        {
          "name": "stdout",
          "output_type": "stream",
          "text": [
            "4/4 [==============================] - 3s 1s/step - loss: 0.6964 - accuracy: 0.6271 - val_loss: 0.6093 - val_accuracy: 0.6500\n",
            "Epoch 65/100\n",
            "4/4 [==============================] - ETA: 0s - loss: 0.7203 - accuracy: 0.6398"
          ]
        },
        {
          "name": "stderr",
          "output_type": "stream",
          "text": [
            "WARNING:absl:Found untraced functions such as _jit_compiled_convolution_op, _jit_compiled_convolution_op, _jit_compiled_convolution_op, _jit_compiled_convolution_op, _jit_compiled_convolution_op while saving (showing 5 of 16). These functions will not be directly callable after loading.\n"
          ]
        },
        {
          "name": "stdout",
          "output_type": "stream",
          "text": [
            "INFO:tensorflow:Assets written to: experiments\\VGG_Nov18_20-45-18\\base_ckpts\\cp_65.ckpt\\assets\n"
          ]
        },
        {
          "name": "stderr",
          "output_type": "stream",
          "text": [
            "INFO:tensorflow:Assets written to: experiments\\VGG_Nov18_20-45-18\\base_ckpts\\cp_65.ckpt\\assets\n"
          ]
        },
        {
          "name": "stdout",
          "output_type": "stream",
          "text": [
            "4/4 [==============================] - 4s 1s/step - loss: 0.7203 - accuracy: 0.6398 - val_loss: 0.6074 - val_accuracy: 0.6500\n",
            "Epoch 66/100\n",
            "4/4 [==============================] - 1s 92ms/step - loss: 0.6820 - accuracy: 0.6186 - val_loss: 0.6183 - val_accuracy: 0.6500\n",
            "Epoch 67/100\n",
            "4/4 [==============================] - 0s 81ms/step - loss: 0.6620 - accuracy: 0.6737 - val_loss: 0.6282 - val_accuracy: 0.6167\n",
            "Epoch 68/100\n",
            "4/4 [==============================] - 0s 96ms/step - loss: 0.6046 - accuracy: 0.6441 - val_loss: 0.6337 - val_accuracy: 0.6333\n",
            "Epoch 69/100\n",
            "4/4 [==============================] - 0s 81ms/step - loss: 0.6398 - accuracy: 0.6186 - val_loss: 0.6443 - val_accuracy: 0.6333\n",
            "Epoch 70/100\n",
            "4/4 [==============================] - 0s 79ms/step - loss: 0.6290 - accuracy: 0.6314 - val_loss: 0.6575 - val_accuracy: 0.6500\n",
            "Epoch 71/100\n",
            "4/4 [==============================] - 0s 95ms/step - loss: 0.7189 - accuracy: 0.6314 - val_loss: 0.6550 - val_accuracy: 0.6500\n",
            "Epoch 72/100\n",
            "4/4 [==============================] - 0s 85ms/step - loss: 0.6361 - accuracy: 0.6907 - val_loss: 0.6586 - val_accuracy: 0.6667\n",
            "Epoch 73/100\n",
            "4/4 [==============================] - 0s 92ms/step - loss: 0.7053 - accuracy: 0.6483 - val_loss: 0.6765 - val_accuracy: 0.6333\n",
            "Epoch 74/100\n",
            "4/4 [==============================] - 0s 83ms/step - loss: 0.7373 - accuracy: 0.5890 - val_loss: 0.6759 - val_accuracy: 0.6500\n",
            "Epoch 75/100\n",
            "4/4 [==============================] - 0s 91ms/step - loss: 0.6555 - accuracy: 0.6186 - val_loss: 0.6769 - val_accuracy: 0.6500\n",
            "Epoch 76/100\n",
            "4/4 [==============================] - 0s 81ms/step - loss: 0.7776 - accuracy: 0.6356 - val_loss: 0.6578 - val_accuracy: 0.6333\n",
            "Epoch 77/100\n",
            "4/4 [==============================] - 0s 97ms/step - loss: 0.7067 - accuracy: 0.5551 - val_loss: 0.6443 - val_accuracy: 0.6167\n",
            "Epoch 78/100\n",
            "4/4 [==============================] - 0s 96ms/step - loss: 0.6587 - accuracy: 0.6271 - val_loss: 0.6348 - val_accuracy: 0.6667\n",
            "Epoch 79/100\n",
            "4/4 [==============================] - 0s 83ms/step - loss: 0.5892 - accuracy: 0.6568 - val_loss: 0.6323 - val_accuracy: 0.6667\n",
            "Epoch 80/100\n",
            "4/4 [==============================] - 0s 85ms/step - loss: 0.6582 - accuracy: 0.5932 - val_loss: 0.6294 - val_accuracy: 0.6667\n",
            "Epoch 81/100\n",
            "4/4 [==============================] - 0s 80ms/step - loss: 0.6317 - accuracy: 0.6864 - val_loss: 0.6255 - val_accuracy: 0.6667\n",
            "Epoch 82/100\n",
            "4/4 [==============================] - 0s 87ms/step - loss: 0.5993 - accuracy: 0.6695 - val_loss: 0.6245 - val_accuracy: 0.6667\n",
            "Epoch 83/100\n",
            "4/4 [==============================] - 0s 91ms/step - loss: 0.6415 - accuracy: 0.6568 - val_loss: 0.6221 - val_accuracy: 0.6667\n",
            "Epoch 84/100\n",
            "4/4 [==============================] - 0s 88ms/step - loss: 0.6897 - accuracy: 0.6186 - val_loss: 0.6249 - val_accuracy: 0.6667\n",
            "Epoch 85/100\n",
            "4/4 [==============================] - 0s 85ms/step - loss: 0.5549 - accuracy: 0.6610 - val_loss: 0.6235 - val_accuracy: 0.7167\n",
            "Epoch 86/100\n",
            "4/4 [==============================] - 0s 83ms/step - loss: 0.6198 - accuracy: 0.6314 - val_loss: 0.6245 - val_accuracy: 0.7000\n",
            "Epoch 87/100\n",
            "4/4 [==============================] - 0s 82ms/step - loss: 0.5874 - accuracy: 0.6907 - val_loss: 0.6230 - val_accuracy: 0.7000\n",
            "Epoch 88/100\n",
            "4/4 [==============================] - 0s 87ms/step - loss: 0.6456 - accuracy: 0.6695 - val_loss: 0.6160 - val_accuracy: 0.7167\n",
            "Epoch 89/100\n",
            "4/4 [==============================] - 0s 88ms/step - loss: 0.6551 - accuracy: 0.6271 - val_loss: 0.6152 - val_accuracy: 0.7333\n",
            "Epoch 90/100\n",
            "4/4 [==============================] - 0s 101ms/step - loss: 0.6662 - accuracy: 0.6441 - val_loss: 0.6145 - val_accuracy: 0.7333\n",
            "Epoch 91/100\n",
            "4/4 [==============================] - 0s 85ms/step - loss: 0.6125 - accuracy: 0.6610 - val_loss: 0.6139 - val_accuracy: 0.7333\n",
            "Epoch 92/100\n",
            "4/4 [==============================] - 0s 89ms/step - loss: 0.6214 - accuracy: 0.6525 - val_loss: 0.6124 - val_accuracy: 0.7167\n",
            "Epoch 93/100\n",
            "4/4 [==============================] - 0s 84ms/step - loss: 0.6497 - accuracy: 0.6314 - val_loss: 0.6080 - val_accuracy: 0.7167\n",
            "Epoch 94/100\n",
            "3/4 [=====================>........] - ETA: 0s - loss: 0.6172 - accuracy: 0.6667"
          ]
        },
        {
          "name": "stderr",
          "output_type": "stream",
          "text": [
            "WARNING:absl:Found untraced functions such as _jit_compiled_convolution_op, _jit_compiled_convolution_op, _jit_compiled_convolution_op, _jit_compiled_convolution_op, _jit_compiled_convolution_op while saving (showing 5 of 16). These functions will not be directly callable after loading.\n"
          ]
        },
        {
          "name": "stdout",
          "output_type": "stream",
          "text": [
            "INFO:tensorflow:Assets written to: experiments\\VGG_Nov18_20-45-18\\base_ckpts\\cp_94.ckpt\\assets\n"
          ]
        },
        {
          "name": "stderr",
          "output_type": "stream",
          "text": [
            "INFO:tensorflow:Assets written to: experiments\\VGG_Nov18_20-45-18\\base_ckpts\\cp_94.ckpt\\assets\n"
          ]
        },
        {
          "name": "stdout",
          "output_type": "stream",
          "text": [
            "4/4 [==============================] - 3s 1s/step - loss: 0.6334 - accuracy: 0.6653 - val_loss: 0.6024 - val_accuracy: 0.7500\n",
            "Epoch 95/100\n",
            "4/4 [==============================] - ETA: 0s - loss: 0.6268 - accuracy: 0.6441"
          ]
        },
        {
          "name": "stderr",
          "output_type": "stream",
          "text": [
            "WARNING:absl:Found untraced functions such as _jit_compiled_convolution_op, _jit_compiled_convolution_op, _jit_compiled_convolution_op, _jit_compiled_convolution_op, _jit_compiled_convolution_op while saving (showing 5 of 16). These functions will not be directly callable after loading.\n"
          ]
        },
        {
          "name": "stdout",
          "output_type": "stream",
          "text": [
            "INFO:tensorflow:Assets written to: experiments\\VGG_Nov18_20-45-18\\base_ckpts\\cp_95.ckpt\\assets\n"
          ]
        },
        {
          "name": "stderr",
          "output_type": "stream",
          "text": [
            "INFO:tensorflow:Assets written to: experiments\\VGG_Nov18_20-45-18\\base_ckpts\\cp_95.ckpt\\assets\n"
          ]
        },
        {
          "name": "stdout",
          "output_type": "stream",
          "text": [
            "4/4 [==============================] - 4s 1s/step - loss: 0.6268 - accuracy: 0.6441 - val_loss: 0.6009 - val_accuracy: 0.7500\n",
            "Epoch 96/100\n",
            "3/4 [=====================>........] - ETA: 0s - loss: 0.5921 - accuracy: 0.6395"
          ]
        },
        {
          "name": "stderr",
          "output_type": "stream",
          "text": [
            "WARNING:absl:Found untraced functions such as _jit_compiled_convolution_op, _jit_compiled_convolution_op, _jit_compiled_convolution_op, _jit_compiled_convolution_op, _jit_compiled_convolution_op while saving (showing 5 of 16). These functions will not be directly callable after loading.\n"
          ]
        },
        {
          "name": "stdout",
          "output_type": "stream",
          "text": [
            "INFO:tensorflow:Assets written to: experiments\\VGG_Nov18_20-45-18\\base_ckpts\\cp_96.ckpt\\assets\n"
          ]
        },
        {
          "name": "stderr",
          "output_type": "stream",
          "text": [
            "INFO:tensorflow:Assets written to: experiments\\VGG_Nov18_20-45-18\\base_ckpts\\cp_96.ckpt\\assets\n"
          ]
        },
        {
          "name": "stdout",
          "output_type": "stream",
          "text": [
            "4/4 [==============================] - 4s 1s/step - loss: 0.6192 - accuracy: 0.6059 - val_loss: 0.6008 - val_accuracy: 0.7500\n",
            "Epoch 97/100\n",
            "4/4 [==============================] - ETA: 0s - loss: 0.6218 - accuracy: 0.6780"
          ]
        },
        {
          "name": "stderr",
          "output_type": "stream",
          "text": [
            "WARNING:absl:Found untraced functions such as _jit_compiled_convolution_op, _jit_compiled_convolution_op, _jit_compiled_convolution_op, _jit_compiled_convolution_op, _jit_compiled_convolution_op while saving (showing 5 of 16). These functions will not be directly callable after loading.\n"
          ]
        },
        {
          "name": "stdout",
          "output_type": "stream",
          "text": [
            "INFO:tensorflow:Assets written to: experiments\\VGG_Nov18_20-45-18\\base_ckpts\\cp_97.ckpt\\assets\n"
          ]
        },
        {
          "name": "stderr",
          "output_type": "stream",
          "text": [
            "INFO:tensorflow:Assets written to: experiments\\VGG_Nov18_20-45-18\\base_ckpts\\cp_97.ckpt\\assets\n"
          ]
        },
        {
          "name": "stdout",
          "output_type": "stream",
          "text": [
            "4/4 [==============================] - 4s 1s/step - loss: 0.6218 - accuracy: 0.6780 - val_loss: 0.5982 - val_accuracy: 0.7167\n",
            "Epoch 98/100\n",
            "4/4 [==============================] - ETA: 0s - loss: 0.6279 - accuracy: 0.6483"
          ]
        },
        {
          "name": "stderr",
          "output_type": "stream",
          "text": [
            "WARNING:absl:Found untraced functions such as _jit_compiled_convolution_op, _jit_compiled_convolution_op, _jit_compiled_convolution_op, _jit_compiled_convolution_op, _jit_compiled_convolution_op while saving (showing 5 of 16). These functions will not be directly callable after loading.\n"
          ]
        },
        {
          "name": "stdout",
          "output_type": "stream",
          "text": [
            "INFO:tensorflow:Assets written to: experiments\\VGG_Nov18_20-45-18\\base_ckpts\\cp_98.ckpt\\assets\n"
          ]
        },
        {
          "name": "stderr",
          "output_type": "stream",
          "text": [
            "INFO:tensorflow:Assets written to: experiments\\VGG_Nov18_20-45-18\\base_ckpts\\cp_98.ckpt\\assets\n"
          ]
        },
        {
          "name": "stdout",
          "output_type": "stream",
          "text": [
            "4/4 [==============================] - 4s 1s/step - loss: 0.6279 - accuracy: 0.6483 - val_loss: 0.5978 - val_accuracy: 0.7333\n",
            "Epoch 99/100\n",
            "4/4 [==============================] - ETA: 0s - loss: 0.6207 - accuracy: 0.6568"
          ]
        },
        {
          "name": "stderr",
          "output_type": "stream",
          "text": [
            "WARNING:absl:Found untraced functions such as _jit_compiled_convolution_op, _jit_compiled_convolution_op, _jit_compiled_convolution_op, _jit_compiled_convolution_op, _jit_compiled_convolution_op while saving (showing 5 of 16). These functions will not be directly callable after loading.\n"
          ]
        },
        {
          "name": "stdout",
          "output_type": "stream",
          "text": [
            "INFO:tensorflow:Assets written to: experiments\\VGG_Nov18_20-45-18\\base_ckpts\\cp_99.ckpt\\assets\n"
          ]
        },
        {
          "name": "stderr",
          "output_type": "stream",
          "text": [
            "INFO:tensorflow:Assets written to: experiments\\VGG_Nov18_20-45-18\\base_ckpts\\cp_99.ckpt\\assets\n"
          ]
        },
        {
          "name": "stdout",
          "output_type": "stream",
          "text": [
            "4/4 [==============================] - 4s 1s/step - loss: 0.6207 - accuracy: 0.6568 - val_loss: 0.5943 - val_accuracy: 0.7167\n",
            "Epoch 100/100\n",
            "4/4 [==============================] - ETA: 0s - loss: 0.6167 - accuracy: 0.6441"
          ]
        },
        {
          "name": "stderr",
          "output_type": "stream",
          "text": [
            "WARNING:absl:Found untraced functions such as _jit_compiled_convolution_op, _jit_compiled_convolution_op, _jit_compiled_convolution_op, _jit_compiled_convolution_op, _jit_compiled_convolution_op while saving (showing 5 of 16). These functions will not be directly callable after loading.\n"
          ]
        },
        {
          "name": "stdout",
          "output_type": "stream",
          "text": [
            "INFO:tensorflow:Assets written to: experiments\\VGG_Nov18_20-45-18\\base_ckpts\\cp_100.ckpt\\assets\n"
          ]
        },
        {
          "name": "stderr",
          "output_type": "stream",
          "text": [
            "INFO:tensorflow:Assets written to: experiments\\VGG_Nov18_20-45-18\\base_ckpts\\cp_100.ckpt\\assets\n"
          ]
        },
        {
          "name": "stdout",
          "output_type": "stream",
          "text": [
            "\b\b\b\b\b\b\b\b\b\b\b\b\b\b\b\b\b\b\b\b\b\b\b\b\b\b\b\b\b\b\b\b\b\b\b\b\b\b\b\b\b\b\b\b\b\b\b\b\b\b\b\b\b\b\b\b\b\b\b\b\b\b\b\b\b\b\b\b\b\b\b\b\b\b\b\b\b\b\b\b\r",
            "4/4 [==============================] - 4s 1s/step - loss: 0.6167 - accuracy: 0.6441 - val_loss: 0.5940 - val_accuracy: 0.7333\n"
          ]
        }
      ],
      "source": [
        "history = model.fit(\n",
        "    x = train_gen,\n",
        "    epochs = 100,\n",
        "    validation_data = val_gen,\n",
        "    callbacks = callbacks\n",
        "#     class_weight=class_weight\n",
        ").history"
      ]
    },
    {
      "cell_type": "code",
      "execution_count": null,
      "metadata": {
        "execution": {
          "iopub.execute_input": "2022-11-15T19:10:28.042939Z",
          "iopub.status.busy": "2022-11-15T19:10:28.042582Z",
          "iopub.status.idle": "2022-11-15T19:10:28.048802Z",
          "shell.execute_reply": "2022-11-15T19:10:28.047630Z",
          "shell.execute_reply.started": "2022-11-15T19:10:28.042909Z"
        },
        "id": "liuoATAmrUOK"
      },
      "outputs": [],
      "source": [
        "f=open(\"/gdrive/MyDrive/Colab Notebooks/AN2DL/Homework1/experiments/VGG_Nov17_21-14-22/history\",\"w\")\n",
        "f.write(str(history))\n",
        "f.close()"
      ]
    },
    {
      "cell_type": "markdown",
      "metadata": {
        "id": "Um4Ebl0aqiYa"
      },
      "source": [
        "# Trend plot\n",
        "Model loss and accuracy trends can be plotted for a better understanding of the training process."
      ]
    },
    {
      "cell_type": "markdown",
      "metadata": {
        "id": "nMTI1OpUGDBK"
      },
      "source": [
        "## Matplotlib"
      ]
    },
    {
      "cell_type": "code",
      "execution_count": null,
      "metadata": {
        "execution": {
          "iopub.execute_input": "2022-11-15T19:10:34.501817Z",
          "iopub.status.busy": "2022-11-15T19:10:34.501418Z",
          "iopub.status.idle": "2022-11-15T19:10:34.506841Z",
          "shell.execute_reply": "2022-11-15T19:10:34.505824Z",
          "shell.execute_reply.started": "2022-11-15T19:10:34.501783Z"
        },
        "id": "V75c5PjD0b6e"
      },
      "outputs": [],
      "source": [
        "# Import library\n",
        "import matplotlib.pyplot as plt"
      ]
    },
    {
      "cell_type": "code",
      "execution_count": null,
      "metadata": {
        "colab": {
          "base_uri": "https://localhost:8080/",
          "height": 350
        },
        "execution": {
          "iopub.execute_input": "2022-11-15T19:10:34.869862Z",
          "iopub.status.busy": "2022-11-15T19:10:34.869373Z",
          "iopub.status.idle": "2022-11-15T19:11:03.832497Z",
          "shell.execute_reply": "2022-11-15T19:11:03.831585Z",
          "shell.execute_reply.started": "2022-11-15T19:10:34.869830Z"
        },
        "id": "uKzFy9BmJ1oc",
        "outputId": "5b0eb536-9ba8-424a-e793-e7953966d062"
      },
      "outputs": [
        {
          "data": {
            "image/png": "[encoded data removed]",
            "text/plain": [
              "<Figure size 576x360 with 1 Axes>"
            ]
          },
          "metadata": {
            "needs_background": "light"
          },
          "output_type": "display_data"
        }
      ],
      "source": [
        "# Plot the accuracy\n",
        "plt.figure(figsize=(8,5))\n",
        "plt.xlabel('epochs')\n",
        "plt.ylabel('loss')\n",
        "plt.plot(history['loss'], label='Training', alpha=.8, color='#ff7f0e')\n",
        "plt.plot(history['val_loss'], label='Validation', alpha=.8, color='#4D61E2')\n",
        "plt.title(mode + ' Loss')\n",
        "plt.legend(loc='upper right')\n",
        "plt.grid(alpha=.3)\n",
        "plt.show()"
      ]
    },
    {
      "cell_type": "code",
      "execution_count": null,
      "metadata": {
        "colab": {
          "base_uri": "https://localhost:8080/"
        },
        "execution": {
          "iopub.execute_input": "2022-11-15T19:11:03.835474Z",
          "iopub.status.busy": "2022-11-15T19:11:03.834755Z",
          "iopub.status.idle": "2022-11-15T19:11:03.841891Z",
          "shell.execute_reply": "2022-11-15T19:11:03.840816Z",
          "shell.execute_reply.started": "2022-11-15T19:11:03.835423Z"
        },
        "id": "2pzPIfV5OMmJ",
        "outputId": "6394a83a-431b-494e-8451-a9b18ba9f91c"
      },
      "outputs": [
        {
          "data": {
            "text/plain": [
              "dict_keys(['loss', 'accuracy', 'val_loss', 'val_accuracy'])"
            ]
          },
          "execution_count": 47,
          "metadata": {},
          "output_type": "execute_result"
        }
      ],
      "source": [
        "history.keys()"
      ]
    },
    {
      "cell_type": "code",
      "execution_count": null,
      "metadata": {
        "colab": {
          "base_uri": "https://localhost:8080/",
          "height": 336
        },
        "execution": {
          "iopub.execute_input": "2022-11-15T19:11:03.844109Z",
          "iopub.status.busy": "2022-11-15T19:11:03.843672Z",
          "iopub.status.idle": "2022-11-15T19:11:04.068555Z",
          "shell.execute_reply": "2022-11-15T19:11:04.067113Z",
          "shell.execute_reply.started": "2022-11-15T19:11:03.844066Z"
        },
        "id": "Q1T2m3MhJ1H9",
        "outputId": "5bd084e5-044c-44c6-d3fe-f6607ca9111b"
      },
      "outputs": [
        {
          "data": {
            "image/png": "[encoded data removed]",
            "text/plain": [
              "<Figure size 576x360 with 1 Axes>"
            ]
          },
          "metadata": {
            "needs_background": "light"
          },
          "output_type": "display_data"
        }
      ],
      "source": [
        "plt.figure(figsize=(8,5))\n",
        "plt.plot(history['accuracy'], label='Training', alpha=.8, color='#ff7f0e')\n",
        "plt.plot(history['val_accuracy'], label='Validation', alpha=.8, color='#4D61E2')\n",
        "plt.title(mode + ' Accuracy')\n",
        "plt.legend(loc='upper right')\n",
        "plt.grid(alpha=.3)\n",
        "plt.show()"
      ]
    },
    {
      "cell_type": "markdown",
      "metadata": {
        "id": "klvPMoR2F-JJ"
      },
      "source": [
        "## Tensorboard"
      ]
    },
    {
      "cell_type": "code",
      "execution_count": null,
      "metadata": {
        "id": "ngBGK7jMGOSp"
      },
      "outputs": [],
      "source": [
        "%cd /gdrive/MyDrive/Colab Notebooks/AN2DL/Homework1\n",
        "\n",
        "%load_ext tensorboard\n",
        "%tensorboard --logdir results\n",
        "# logdir: directory of the experiments\n",
        "# --logdir ... --port 6006: default"
      ]
    },
    {
      "cell_type": "markdown",
      "metadata": {
        "id": "eIkjM67YNay_"
      },
      "source": [
        "# Model evaluation"
      ]
    },
    {
      "cell_type": "code",
      "execution_count": null,
      "metadata": {
        "execution": {
          "iopub.execute_input": "2022-11-16T17:51:32.442043Z",
          "iopub.status.busy": "2022-11-16T17:51:32.441539Z",
          "iopub.status.idle": "2022-11-16T17:51:35.895617Z",
          "shell.execute_reply": "2022-11-16T17:51:35.894444Z",
          "shell.execute_reply.started": "2022-11-16T17:51:32.442004Z"
        },
        "id": "VuIl-h8SNaf4"
      },
      "outputs": [],
      "source": [
        "# Load a chosen model\n",
        "# model = tfk.models.load_model(\"/kaggle/working/experiments/VGG_\"+\"Nov15_19-08-09\"+\"/base_ckpts/cp_13.ckpt\",)\n",
        "model = tfk.models.load_model(\"/gdrive/MyDrive/Colab Notebooks/AN2DL/Homework1/experiments/VGG_Nov17_21-14-22/base_ckpts/cp_78.ckpt\",)"
      ]
    },
    {
      "cell_type": "code",
      "execution_count": null,
      "metadata": {
        "execution": {
          "iopub.execute_input": "2022-11-15T21:43:17.435417Z",
          "iopub.status.busy": "2022-11-15T21:43:17.434987Z",
          "iopub.status.idle": "2022-11-15T21:43:17.448136Z",
          "shell.execute_reply": "2022-11-15T21:43:17.447002Z",
          "shell.execute_reply.started": "2022-11-15T21:43:17.435381Z"
        },
        "id": "9KajQvAKPyjR"
      },
      "outputs": [],
      "source": [
        "def predict(model, X):\n",
        "    # # X = tf.image.resize(X, (256, 256))\n",
        "    # image_array = np.reshape(X, (1, 256, 256, 3))\n",
        "    # # image_array = tf.keras.preprocessing.image.img_to_array(image_array)\n",
        "    #\n",
        "    # out = loaded_model.predict(x=image_array / 255.)\n",
        "    # # out = loaded_model.predict(image_array)\n",
        "    #\n",
        "    # out = tf.argmax(out, axis=-1)\n",
        "    #\n",
        "    # return out\n",
        "\n",
        "    # Insert your preprocessing here\n",
        "\n",
        "    X = np.reshape(X, (1, 96, 96, 3))\n",
        "    assert X.ndim == 4\n",
        "\n",
        "    # X = tf.keras.applications.efficientnet.preprocess_input(X)\n",
        "    X = X / 255.\n",
        "    # predicts = []\n",
        "    # fs = [tf.image.flip_left_right, tf.image.flip_up_down, tf.image.transpose]\n",
        "    # for f in fs:\n",
        "    #     data = f(X)\n",
        "    #     pred = model.predict(data)\n",
        "    #     predicts.append(pred)\n",
        "    # prediction = model.predict(X)\n",
        "    # for j in range(0, len(predicts)):\n",
        "    #     prediction += predicts[j]\n",
        "    # prediction = prediction / (1 + len(predicts))\n",
        "\n",
        "    prediction = model.predict(X)\n",
        "    output = tf.argmax(prediction, axis=-1)\n",
        "\n",
        "    return output"
      ]
    },
    {
      "cell_type": "code",
      "execution_count": null,
      "metadata": {
        "execution": {
          "iopub.execute_input": "2022-11-15T21:47:13.564639Z",
          "iopub.status.busy": "2022-11-15T21:47:13.564163Z",
          "iopub.status.idle": "2022-11-15T21:47:13.646052Z",
          "shell.execute_reply": "2022-11-15T21:47:13.644988Z",
          "shell.execute_reply.started": "2022-11-15T21:47:13.564587Z"
        },
        "id": "ZUDL69WDOMmL",
        "outputId": "c7a84f3e-0353-461f-fe45-05892efac845"
      },
      "outputs": [
        {
          "data": {
            "text/plain": [
              "TensorShape([1])"
            ]
          },
          "execution_count": 75,
          "metadata": {},
          "output_type": "execute_result"
        }
      ],
      "source": [
        "a = predict(model, imgs_x[0])\n",
        "a"
      ]
    },
    {
      "cell_type": "code",
      "execution_count": null,
      "metadata": {
        "execution": {
          "iopub.execute_input": "2022-11-14T21:48:32.802190Z",
          "iopub.status.busy": "2022-11-14T21:48:32.801817Z",
          "iopub.status.idle": "2022-11-14T21:48:32.808493Z",
          "shell.execute_reply": "2022-11-14T21:48:32.807442Z",
          "shell.execute_reply.started": "2022-11-14T21:48:32.802158Z"
        },
        "id": "UdxvEKZmCj1C",
        "outputId": "4b3a8871-0da2-4fe7-dca6-a2946ec2c338"
      },
      "outputs": [
        {
          "data": {
            "text/plain": [
              "{'Others': 0, 'Species1': 1}"
            ]
          },
          "execution_count": 66,
          "metadata": {},
          "output_type": "execute_result"
        }
      ],
      "source": [
        "test_gen.class_indices"
      ]
    },
    {
      "cell_type": "code",
      "execution_count": null,
      "metadata": {
        "colab": {
          "base_uri": "https://localhost:8080/"
        },
        "execution": {
          "iopub.execute_input": "2022-11-15T19:13:22.888192Z",
          "iopub.status.busy": "2022-11-15T19:13:22.887162Z",
          "iopub.status.idle": "2022-11-15T19:13:28.327779Z",
          "shell.execute_reply": "2022-11-15T19:13:28.326643Z",
          "shell.execute_reply.started": "2022-11-15T19:13:22.888156Z"
        },
        "id": "cRodfJu0OmU1",
        "outputId": "f2290398-f9bb-42c0-e92a-a06087656678"
      },
      "outputs": [
        {
          "name": "stdout",
          "output_type": "stream",
          "text": [
            "5/5 [==============================] - 0s 32ms/step - loss: 0.4281 - accuracy: 0.8133\n"
          ]
        },
        {
          "data": {
            "text/plain": [
              "[0.4281134009361267, 0.8133333325386047]"
            ]
          },
          "execution_count": 94,
          "metadata": {},
          "output_type": "execute_result"
        }
      ],
      "source": [
        "evaluation = model.evaluate(val_gen)\n",
        "evaluation"
      ]
    },
    {
      "cell_type": "code",
      "execution_count": null,
      "metadata": {
        "execution": {
          "iopub.execute_input": "2022-11-15T19:20:31.939288Z",
          "iopub.status.busy": "2022-11-15T19:20:31.938839Z",
          "iopub.status.idle": "2022-11-15T19:20:37.933726Z",
          "shell.execute_reply": "2022-11-15T19:20:37.932479Z",
          "shell.execute_reply.started": "2022-11-15T19:20:31.939231Z"
        },
        "id": "IjG78Da3OMmL",
        "outputId": "df59fb84-ccdb-4042-9a94-d727409567dd"
      },
      "outputs": [
        {
          "name": "stdout",
          "output_type": "stream",
          "text": [
            "111/111 [==============================] - 5s 42ms/step - loss: 0.3416 - accuracy: 0.9472\n"
          ]
        },
        {
          "data": {
            "text/plain": [
              "[0.3416038453578949, 0.9472049474716187]"
            ]
          },
          "execution_count": 82,
          "metadata": {},
          "output_type": "execute_result"
        }
      ],
      "source": [
        "evaluation = model.evaluate(imgs_x, imgs_y)\n",
        "evaluation"
      ]
    },
    {
      "cell_type": "code",
      "execution_count": null,
      "metadata": {
        "execution": {
          "iopub.execute_input": "2022-11-15T20:39:08.171108Z",
          "iopub.status.busy": "2022-11-15T20:39:08.170712Z",
          "iopub.status.idle": "2022-11-15T20:39:08.178996Z",
          "shell.execute_reply": "2022-11-15T20:39:08.177792Z",
          "shell.execute_reply.started": "2022-11-15T20:39:08.171072Z"
        },
        "id": "WODcX3U0OMmL",
        "outputId": "d3ab35fa-99e6-4adc-e519-7d5a83f13ee9"
      },
      "outputs": [
        {
          "data": {
            "text/plain": [
              "(96, 96, 3)"
            ]
          },
          "execution_count": 27,
          "metadata": {},
          "output_type": "execute_result"
        }
      ],
      "source": [
        "valid_imgs_x[0].shape"
      ]
    },
    {
      "cell_type": "code",
      "execution_count": null,
      "metadata": {
        "colab": {
          "base_uri": "https://localhost:8080/"
        },
        "execution": {
          "iopub.execute_input": "2022-11-16T18:02:21.997602Z",
          "iopub.status.busy": "2022-11-16T18:02:21.997207Z",
          "iopub.status.idle": "2022-11-16T18:02:22.660984Z",
          "shell.execute_reply": "2022-11-16T18:02:22.659886Z",
          "shell.execute_reply.started": "2022-11-16T18:02:21.997572Z"
        },
        "id": "LUU6Foa2Lhi6",
        "outputId": "62fc9d8f-a284-496f-f6db-1f50a2778882"
      },
      "outputs": [
        {
          "data": {
            "text/plain": [
              "<tf.Tensor: shape=(2,), dtype=int64, numpy=array([2, 1])>"
            ]
          },
          "execution_count": 211,
          "metadata": {},
          "output_type": "execute_result"
        }
      ],
      "source": [
        "X = np.reshape(imgs_x, (-1, 96, 96, 3))\n",
        "# predictions = model.predict(train_gen)\n",
        "# output = tf.argmax(predictions, axis=-1)\n",
        "# output = tf.argmax(predictions, axis=-1)\n",
        "a = np.array([[0,0.1,0.2,0.3],[0.8,0.6,0.7,0.5]])\n",
        "output = tf.argmax(a[:,1:], axis=-1)\n",
        "# predictions[predictions>0.99] = 1\n",
        "# predictions[predictions<=0.99] = 0\n",
        "# predictions = np.array(predictions.T[0], dtype=int)\n",
        "# predictions\n",
        "output"
      ]
    },
    {
      "cell_type": "code",
      "execution_count": null,
      "metadata": {
        "colab": {
          "base_uri": "https://localhost:8080/"
        },
        "id": "ZEEf2ulxfFbV",
        "outputId": "aa05261a-2f1f-4e37-e9cb-510c0a7fbc80"
      },
      "outputs": [
        {
          "data": {
            "text/plain": [
              "array([1, 0, 0, 1, 0, 0, 1, 0, 0, 0, 1, 1, 1, 0, 0, 1, 0, 0, 1, 1, 1, 0,\n",
              "       0, 1, 0, 1, 1, 1, 1, 0, 1, 1, 1, 1, 1, 1, 0, 1, 0, 1, 0, 0, 0, 1,\n",
              "       0, 1, 0, 1, 0, 0, 0, 0, 0, 1, 0, 1, 0, 0, 0, 0, 0, 1, 1, 0, 1, 0,\n",
              "       0, 0, 1, 1, 1, 1, 1, 0, 1, 0, 0, 1, 0, 0, 1, 0, 1, 0, 0, 0, 0, 0,\n",
              "       0, 0, 1, 1, 0, 0, 0, 1, 0, 1, 0, 1, 0, 1, 1, 1, 1, 1, 0, 0, 0, 1,\n",
              "       0, 1, 0, 0, 1, 1, 0, 1, 1, 1, 1, 0, 1, 0, 0, 1, 1, 1, 0, 1, 0, 1,\n",
              "       1, 0, 0, 1, 1, 1, 0, 0, 1, 0, 0, 1, 0, 1, 1, 0, 0, 1, 0, 1, 0, 1,\n",
              "       0, 1, 0, 0, 0, 0, 0, 0, 0, 1, 1, 0, 1, 1, 0, 1, 0, 1, 1, 0, 1, 0,\n",
              "       1, 0, 0, 0, 1, 1, 1, 1, 0, 1, 1, 0, 1, 1, 1, 0, 0, 1, 0, 0, 0, 1,\n",
              "       1, 1, 0, 1, 1, 1, 0, 1, 0, 0, 0, 0, 0, 0, 0, 0, 0, 1, 1, 1, 1, 1,\n",
              "       1, 1, 1, 1, 1, 1, 1, 1, 1, 1, 0, 0, 1, 1, 1, 1, 0, 0, 0, 0, 0, 1,\n",
              "       0, 1, 0, 0, 1, 1, 0, 1, 0, 1, 0, 1, 1, 0, 1, 1, 1, 1, 0, 0, 0, 1,\n",
              "       1, 1, 0, 0, 0, 1, 1, 1, 0, 1, 0, 1, 1, 1, 1, 1, 1, 0, 0, 0, 0, 0,\n",
              "       1, 1, 0, 1, 0, 1, 0, 0, 1, 1, 0])"
            ]
          },
          "execution_count": 119,
          "metadata": {},
          "output_type": "execute_result"
        }
      ],
      "source": [
        "train_gen.y"
      ]
    },
    {
      "cell_type": "code",
      "execution_count": null,
      "metadata": {
        "colab": {
          "base_uri": "https://localhost:8080/"
        },
        "id": "ga6wm8rcgYgR",
        "outputId": "b0394af0-8e7d-4fb4-818a-9e63c9703480"
      },
      "outputs": [
        {
          "data": {
            "text/plain": [
              "array([False,  True,  True, False,  True,  True, False,  True,  True,\n",
              "        True, False, False, False,  True,  True, False,  True,  True,\n",
              "       False, False, False,  True,  True, False,  True, False, False,\n",
              "       False, False,  True, False, False, False, False, False, False,\n",
              "        True, False,  True, False,  True,  True,  True, False,  True,\n",
              "       False, False, False,  True,  True,  True,  True,  True, False,\n",
              "        True, False,  True,  True,  True,  True,  True, False, False,\n",
              "        True, False,  True,  True,  True, False, False, False, False,\n",
              "       False,  True, False,  True,  True, False,  True,  True, False,\n",
              "        True, False,  True, False,  True,  True,  True,  True,  True,\n",
              "       False, False,  True,  True,  True, False,  True, False,  True,\n",
              "       False,  True, False, False, False, False, False,  True,  True,\n",
              "       False, False,  True, False,  True,  True, False, False,  True,\n",
              "       False, False, False, False,  True, False,  True,  True, False,\n",
              "       False, False,  True, False,  True, False, False,  True,  True,\n",
              "       False, False, False,  True,  True, False,  True,  True, False,\n",
              "        True, False, False,  True,  True, False,  True, False,  True,\n",
              "       False,  True, False,  True,  True,  True,  True,  True, False,\n",
              "        True, False, False,  True, False, False,  True, False,  True,\n",
              "       False, False,  True, False,  True, False,  True,  True,  True,\n",
              "       False, False, False, False, False, False, False,  True, False,\n",
              "       False, False,  True,  True, False,  True,  True,  True, False,\n",
              "       False, False,  True, False, False, False,  True, False,  True,\n",
              "        True,  True,  True,  True,  True,  True,  True,  True, False,\n",
              "       False, False, False, False, False, False, False, False, False,\n",
              "       False, False, False, False, False,  True,  True, False,  True,\n",
              "       False, False,  True,  True,  True,  True, False, False,  True,\n",
              "       False,  True,  True, False, False,  True, False,  True, False,\n",
              "        True, False, False,  True, False, False, False, False,  True,\n",
              "        True,  True, False, False, False, False,  True,  True, False,\n",
              "       False, False,  True, False,  True, False, False, False, False,\n",
              "       False, False,  True,  True,  True,  True,  True, False, False,\n",
              "        True, False,  True, False,  True,  True, False, False,  True])"
            ]
          },
          "execution_count": 123,
          "metadata": {},
          "output_type": "execute_result"
        }
      ],
      "source": [
        "(predictions==train_gen.y)"
      ]
    },
    {
      "cell_type": "code",
      "execution_count": null,
      "metadata": {
        "execution": {
          "iopub.execute_input": "2022-11-16T18:01:04.970161Z",
          "iopub.status.busy": "2022-11-16T18:01:04.969375Z",
          "iopub.status.idle": "2022-11-16T18:01:04.976709Z",
          "shell.execute_reply": "2022-11-16T18:01:04.975824Z",
          "shell.execute_reply.started": "2022-11-16T18:01:04.970123Z"
        },
        "id": "znuWSzLpOMmM",
        "outputId": "b4528804-53d8-49ea-e268-33cfab07e429"
      },
      "outputs": [
        {
          "data": {
            "text/plain": [
              "array([0, 2, 5, 9])"
            ]
          },
          "execution_count": 44,
          "metadata": {},
          "output_type": "execute_result"
        }
      ],
      "source": [
        "=out = np.where(np.any(predictions>0.1, axis=1))[0]\n",
        "out"
      ]
    },
    {
      "cell_type": "code",
      "execution_count": null,
      "metadata": {
        "execution": {
          "iopub.execute_input": "2022-11-16T18:02:42.701891Z",
          "iopub.status.busy": "2022-11-16T18:02:42.700589Z",
          "iopub.status.idle": "2022-11-16T18:02:42.719362Z",
          "shell.execute_reply": "2022-11-16T18:02:42.718058Z",
          "shell.execute_reply.started": "2022-11-16T18:02:42.701847Z"
        },
        "id": "dy52JHV1OMmM",
        "outputId": "4042dc25-bea3-475c-aa97-794333014c53"
      },
      "outputs": [
        {
          "data": {
            "text/plain": [
              "<tf.Tensor: shape=(), dtype=int64, numpy=0>"
            ]
          },
          "execution_count": 46,
          "metadata": {},
          "output_type": "execute_result"
        }
      ],
      "source": [
        "for idx in output:\n",
        "    print()"
      ]
    },
    {
      "cell_type": "code",
      "execution_count": null,
      "metadata": {
        "execution": {
          "iopub.execute_input": "2022-11-15T20:54:44.242661Z",
          "iopub.status.busy": "2022-11-15T20:54:44.242288Z",
          "iopub.status.idle": "2022-11-15T20:54:44.251015Z",
          "shell.execute_reply": "2022-11-15T20:54:44.248927Z",
          "shell.execute_reply.started": "2022-11-15T20:54:44.242630Z"
        },
        "id": "cgZiGoBtOMmM"
      },
      "outputs": [],
      "source": [
        "import tensorflow.experimental.numpy as tnp"
      ]
    },
    {
      "cell_type": "code",
      "execution_count": null,
      "metadata": {
        "execution": {
          "iopub.execute_input": "2022-11-15T21:47:34.341003Z",
          "iopub.status.busy": "2022-11-15T21:47:34.340631Z",
          "iopub.status.idle": "2022-11-15T21:47:34.352698Z",
          "shell.execute_reply": "2022-11-15T21:47:34.351398Z",
          "shell.execute_reply.started": "2022-11-15T21:47:34.340971Z"
        },
        "id": "lKosDykBOMmM",
        "outputId": "62da3898-4be8-4622-a023-bbf06842a842"
      },
      "outputs": [
        {
          "data": {
            "text/plain": [
              "<tf.Tensor: shape=(1,), dtype=int64, numpy=array([0])>"
            ]
          },
          "execution_count": 77,
          "metadata": {},
          "output_type": "execute_result"
        }
      ],
      "source": [
        "a = tnp.zeros(1, dtype=tf.dtypes.int64)\n",
        "len(list(a.numpy()))\n",
        "a"
      ]
    },
    {
      "cell_type": "code",
      "execution_count": null,
      "metadata": {
        "execution": {
          "iopub.execute_input": "2022-11-15T20:53:14.452587Z",
          "iopub.status.busy": "2022-11-15T20:53:14.451478Z",
          "iopub.status.idle": "2022-11-15T20:53:14.480314Z",
          "shell.execute_reply": "2022-11-15T20:53:14.478924Z",
          "shell.execute_reply.started": "2022-11-15T20:53:14.452532Z"
        },
        "id": "jrsqF1hMOMmM",
        "outputId": "2ce9967f-405e-47f1-baa9-3a6a174eec0f"
      },
      "outputs": [
        {
          "ename": "AttributeError",
          "evalue": "'numpy.ndarray' object has no attribute 'numpy'",
          "output_type": "error",
          "traceback": [
            "\u001b[0;31m---------------------------------------------------------------------------\u001b[0m",
            "\u001b[0;31mAttributeError\u001b[0m                            Traceback (most recent call last)",
            "\u001b[0;32m/tmp/ipykernel_23/981408806.py\u001b[0m in \u001b[0;36m<module>\u001b[0;34m\u001b[0m\n\u001b[1;32m      1\u001b[0m \u001b[0ma\u001b[0m \u001b[0;34m=\u001b[0m \u001b[0mnp\u001b[0m\u001b[0;34m.\u001b[0m\u001b[0marray\u001b[0m\u001b[0;34m(\u001b[0m\u001b[0;36m0\u001b[0m\u001b[0;34m)\u001b[0m\u001b[0;34m\u001b[0m\u001b[0;34m\u001b[0m\u001b[0m\n\u001b[0;32m----> 2\u001b[0;31m \u001b[0ma\u001b[0m\u001b[0;34m.\u001b[0m\u001b[0mnumpy\u001b[0m\u001b[0;34m(\u001b[0m\u001b[0;34m)\u001b[0m\u001b[0;34m\u001b[0m\u001b[0;34m\u001b[0m\u001b[0m\n\u001b[0m",
            "\u001b[0;31mAttributeError\u001b[0m: 'numpy.ndarray' object has no attribute 'numpy'"
          ]
        }
      ],
      "source": [
        "a = np.array\n",
        "a.numpy()"
      ]
    },
    {
      "cell_type": "code",
      "execution_count": null,
      "metadata": {
        "colab": {
          "base_uri": "https://localhost:8080/"
        },
        "execution": {
          "iopub.execute_input": "2022-11-15T19:14:32.449264Z",
          "iopub.status.busy": "2022-11-15T19:14:32.448161Z",
          "iopub.status.idle": "2022-11-15T19:14:32.457516Z",
          "shell.execute_reply": "2022-11-15T19:14:32.456398Z",
          "shell.execute_reply.started": "2022-11-15T19:14:32.449217Z"
        },
        "id": "pNo7fG3vOMmN",
        "outputId": "9aecd0b3-d4c2-4981-fd00-8ebfe9f23e7b"
      },
      "outputs": [
        {
          "data": {
            "text/plain": [
              "array([1, 0, 0, 1, 0, 1, 0, 0, 1, 0, 1, 0, 0, 0, 0, 1, 0, 1, 1, 0, 0, 0,\n",
              "       0, 1, 1, 0, 1, 1, 1, 1, 0, 0, 0, 1, 1, 0, 0, 0, 0, 0, 1, 1, 0, 1,\n",
              "       0, 0, 0, 0, 0, 0, 1, 0, 1, 1, 1, 1, 0, 0, 1, 0, 0, 1, 0, 0, 1, 0,\n",
              "       1, 1, 1, 0, 0, 1, 1, 1, 1])"
            ]
          },
          "execution_count": 100,
          "metadata": {},
          "output_type": "execute_result"
        }
      ],
      "source": [
        "val_gen.y"
      ]
    },
    {
      "cell_type": "code",
      "execution_count": null,
      "metadata": {
        "execution": {
          "iopub.execute_input": "2022-11-15T13:46:26.075742Z",
          "iopub.status.busy": "2022-11-15T13:46:26.075408Z",
          "iopub.status.idle": "2022-11-15T13:46:26.081413Z",
          "shell.execute_reply": "2022-11-15T13:46:26.080292Z",
          "shell.execute_reply.started": "2022-11-15T13:46:26.075710Z"
        },
        "id": "jAgdSKqjNG50",
        "outputId": "6dcbd59f-94af-4735-9477-406ea45a53bf"
      },
      "outputs": [
        {
          "name": "stdout",
          "output_type": "stream",
          "text": [
            "True\n"
          ]
        }
      ],
      "source": [
        "print(0 in output)"
      ]
    },
    {
      "cell_type": "code",
      "execution_count": null,
      "metadata": {
        "execution": {
          "iopub.execute_input": "2022-11-15T10:24:57.182965Z",
          "iopub.status.busy": "2022-11-15T10:24:57.182563Z",
          "iopub.status.idle": "2022-11-15T10:24:57.190205Z",
          "shell.execute_reply": "2022-11-15T10:24:57.189192Z",
          "shell.execute_reply.started": "2022-11-15T10:24:57.182931Z"
        },
        "id": "Fiw8TQBMPGwe",
        "outputId": "40fc7945-a581-4551-97ae-1804dfd820fc"
      },
      "outputs": [
        {
          "data": {
            "text/plain": [
              "array([0, 0, 0, 0, 0, 0, 0, 0, 0, 0, 0, 0, 0, 0, 0, 0, 0, 0, 0, 0, 0, 0,\n",
              "       0, 0, 0, 0, 0, 0, 0, 0, 0, 0, 0, 0, 0, 0, 0, 0, 0, 0, 0, 0, 0, 0,\n",
              "       0, 0, 0, 0, 0, 0, 0, 0, 0, 0, 0, 0, 0, 0, 0, 0, 0, 0, 0, 0, 0, 0,\n",
              "       0, 0, 0, 0, 0, 0, 0, 0, 0, 0, 0, 0, 0, 0, 0, 0, 0, 0, 0, 0, 0, 0,\n",
              "       0, 0, 0, 0, 0, 0, 0, 0, 0, 0, 0, 0, 0, 0, 0, 0, 0, 0, 0, 0, 0, 0,\n",
              "       0, 0, 0, 0, 0, 0, 0, 0, 0, 0, 0, 0, 0, 0, 0, 0, 0, 0, 0, 0, 0, 0,\n",
              "       0, 0, 0, 0, 0, 0, 0, 0, 0, 0, 0, 0, 0, 0, 0, 0, 0, 0, 0, 0, 0, 0,\n",
              "       0, 0, 0, 0, 0, 0, 0, 0, 0, 0, 0, 0, 0, 0, 0, 0, 0, 0, 0, 0, 0, 0,\n",
              "       0, 0, 0, 0, 0, 0, 0, 0, 0, 0, 0, 0, 0, 0, 0, 0, 0, 0, 0, 0, 0, 0,\n",
              "       0, 0, 0, 0, 0, 0, 0, 0, 0, 0, 0, 0, 0, 0, 0, 0, 0, 0, 0, 0, 0, 0,\n",
              "       0, 0, 0, 0, 0, 0, 0, 0, 0, 0, 0, 0, 0, 0, 0, 0, 0, 0, 0, 0, 0, 0,\n",
              "       0, 0, 0, 0, 0, 0, 0, 0, 0, 0, 0, 0, 0, 0, 0, 0, 0, 0, 0, 0, 0, 0,\n",
              "       0, 0, 0, 0, 0, 0, 0, 0, 0, 0, 0, 0, 0, 0, 0, 0, 0, 0, 0, 0, 0, 0,\n",
              "       0, 0, 0, 0, 0, 0, 0, 0, 0, 0, 0, 0, 0, 0, 0, 0, 0, 0, 0, 0, 0, 0,\n",
              "       0, 0, 0, 0, 0, 0, 0, 0, 0, 0, 0, 0, 0, 0, 0, 0, 0, 0, 0, 0, 0, 0,\n",
              "       0, 0, 0, 0, 0, 0, 0, 1, 1, 1, 1, 1, 1, 1, 1, 1, 1, 1, 1, 1, 1, 1,\n",
              "       1, 1, 1, 1, 1], dtype=int32)"
            ]
          },
          "execution_count": 388,
          "metadata": {},
          "output_type": "execute_result"
        }
      ],
      "source": [
        "test_gen.labels"
      ]
    },
    {
      "cell_type": "code",
      "execution_count": null,
      "metadata": {
        "execution": {
          "iopub.execute_input": "2022-11-14T22:09:24.207809Z",
          "iopub.status.busy": "2022-11-14T22:09:24.207454Z",
          "iopub.status.idle": "2022-11-14T22:09:24.212552Z",
          "shell.execute_reply": "2022-11-14T22:09:24.211478Z",
          "shell.execute_reply.started": "2022-11-14T22:09:24.207777Z"
        },
        "id": "k1hREHJCOMmN"
      },
      "outputs": [],
      "source": [
        "n_others = (test_gen.labels == 0).sum()\n",
        "n_others"
      ]
    },
    {
      "cell_type": "code",
      "execution_count": null,
      "metadata": {
        "execution": {
          "iopub.execute_input": "2022-11-14T22:09:22.056662Z",
          "iopub.status.busy": "2022-11-14T22:09:22.056272Z",
          "iopub.status.idle": "2022-11-14T22:09:22.063081Z",
          "shell.execute_reply": "2022-11-14T22:09:22.062006Z",
          "shell.execute_reply.started": "2022-11-14T22:09:22.056631Z"
        },
        "id": "0_cQ4BACOMmO"
      },
      "outputs": [],
      "source": [
        "n_ones = (test_gen.labels == 1).sum()\n",
        "n_ones"
      ]
    },
    {
      "cell_type": "code",
      "execution_count": null,
      "metadata": {
        "execution": {
          "iopub.execute_input": "2022-11-14T22:09:40.136131Z",
          "iopub.status.busy": "2022-11-14T22:09:40.135748Z",
          "iopub.status.idle": "2022-11-14T22:09:40.143867Z",
          "shell.execute_reply": "2022-11-14T22:09:40.142392Z",
          "shell.execute_reply.started": "2022-11-14T22:09:40.136098Z"
        },
        "id": "0lAkdhd0OMmO",
        "outputId": "5ff53f6a-f742-41e3-efef-1395f8a5b9e6"
      },
      "outputs": [
        {
          "data": {
            "text/plain": [
              "16.85"
            ]
          },
          "execution_count": 75,
          "metadata": {},
          "output_type": "execute_result"
        }
      ],
      "source": [
        "n_others/n_ones"
      ]
    },
    {
      "cell_type": "markdown",
      "metadata": {
        "id": "-83ete1O0DT6"
      },
      "source": [
        "# Model saving\n",
        "The model is saved and it can be reloaded if necessary."
      ]
    },
    {
      "cell_type": "code",
      "execution_count": null,
      "metadata": {
        "id": "KWuFBdq8qpDj"
      },
      "outputs": [],
      "source": [
        "# Save the model\n",
        "model.save(mode)"
      ]
    },
    {
      "cell_type": "code",
      "execution_count": null,
      "metadata": {
        "id": "iWuzJ8KirX8c"
      },
      "outputs": [],
      "source": [
        "(test_gen.labels == 0).sum()"
      ]
    }
  ],
  "metadata": {
    "accelerator": "GPU",
    "colab": {
      "collapsed_sections": [
        "L2ZFGy0YOMmD",
        "lqkwFZMrFC8A",
        "MExAxJIzZo-N",
        "caYlR35qFREK",
        "klvPMoR2F-JJ",
        "-83ete1O0DT6"
      ],
      "provenance": []
    },
    "gpuClass": "standard",
    "kernelspec": {
      "display_name": "Python 3 (ipykernel)",
      "language": "python",
      "name": "python3"
    },
    "language_info": {
      "codemirror_mode": {
        "name": "ipython",
        "version": 3
      },
      "file_extension": ".py",
      "mimetype": "text/x-python",
      "name": "python",
      "nbconvert_exporter": "python",
      "pygments_lexer": "ipython3",
      "version": "3.9.12"
    }
  },
  "nbformat": 4,
  "nbformat_minor": 0
}