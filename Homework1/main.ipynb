{
 "cells": [
  {
   "cell_type": "markdown",
   "metadata": {
    "id": "rGEgyogRPFYc",
    "pycharm": {
     "name": "#%% md\n"
    }
   },
   "source": [
    "# Notebook for ANNDL - Homework 1\n",
    "\n",
    "Team: All Is Well\n",
    "\n",
    "Team members: Fatma Hamila, Kodai Takigawa, Zheng Maria Yu"
   ]
  },
  {
   "cell_type": "markdown",
   "metadata": {
    "id": "r_QsOhFvo7qr",
    "pycharm": {
     "name": "#%% md\n"
    }
   },
   "source": [
    "# Setup\n",
    "Firstly, we need to setup the environment by importing the required libraries, setting the current path (eventually mounting Google Drive), and fixing the random seed for our experiments' reproducibility.\n",
    "\n",
    "The dataset should be present in the same folder of this notebook."
   ]
  },
  {
   "cell_type": "code",
   "execution_count": 1,
   "metadata": {
    "executionInfo": {
     "elapsed": 2682,
     "status": "ok",
     "timestamp": 1667962381289,
     "user": {
      "displayName": "Maria Yu",
      "userId": "14411329470521378870"
     },
     "user_tz": -60
    },
    "id": "Z9l-AdB1uPvC",
    "pycharm": {
     "name": "#%%\n"
    }
   },
   "outputs": [],
   "source": [
    "# Import libraries\n",
    "import tensorflow as tf\n",
    "import numpy as np\n",
    "import os\n",
    "import random\n",
    "\n",
    "tfk = tf.keras\n",
    "tfkl = tf.keras.layers"
   ]
  },
  {
   "cell_type": "code",
   "execution_count": 2,
   "metadata": {
    "pycharm": {
     "name": "#%%\n"
    }
   },
   "outputs": [],
   "source": [
    "use_drive = False"
   ]
  },
  {
   "cell_type": "code",
   "execution_count": 3,
   "metadata": {
    "pycharm": {
     "name": "#%%\n"
    }
   },
   "outputs": [
    {
     "name": "stdout",
     "output_type": "stream",
     "text": [
      "C:\\Users\\zheng\\Documents\\Uni\\Magistrale\\ANNDL\\22-23\\Homework1\\Env\n"
     ]
    }
   ],
   "source": [
    "# Connect to Google Drive\n",
    "# Set path\n",
    "\n",
    "if(use_drive):\n",
    "    from google.colab import drive\n",
    "    drive.mount('/gdrive')\n",
    "    path = \"/gdrive/My Drive/ANNDL/2022-23/Homework1\"\n",
    "    %cd /gdrive/My Drive/ANNDL/2022-23/Homework1\n",
    "else:\n",
    "    path = os.getcwd()\n",
    "    print(str(path))"
   ]
  },
  {
   "cell_type": "code",
   "execution_count": 4,
   "metadata": {
    "executionInfo": {
     "elapsed": 2,
     "status": "ok",
     "timestamp": 1667962381289,
     "user": {
      "displayName": "Maria Yu",
      "userId": "14411329470521378870"
     },
     "user_tz": -60
    },
    "id": "76iRDDThuZsI",
    "pycharm": {
     "name": "#%%\n"
    }
   },
   "outputs": [],
   "source": [
    "# Fix random seed for reproducibility\n",
    "seed = 23\n",
    "\n",
    "random.seed(seed)\n",
    "os.environ['PYTHONHASHSEED'] = str(seed)\n",
    "np.random.seed(seed)\n",
    "tf.random.set_seed(seed)\n",
    "tf.compat.v1.set_random_seed(seed)"
   ]
  },
  {
   "cell_type": "markdown",
   "metadata": {
    "id": "0tiaTPpzp3xZ",
    "pycharm": {
     "name": "#%% md\n"
    }
   },
   "source": [
    "# Data splitting\n",
    "Now the dataset file should be unzipped and split into two parts: a training folder and a validation folder.\n",
    "\n",
    "Two data splitting modes are provided here:\n",
    "- make a random split using the package split-folders,\n",
    "- make a regular split using the function we defined below."
   ]
  },
  {
   "cell_type": "code",
   "execution_count": 5,
   "metadata": {
    "pycharm": {
     "name": "#%%\n"
    }
   },
   "outputs": [],
   "source": [
    "# Set to True to use the random seed for data splitting\n",
    "random_split = True"
   ]
  },
  {
   "cell_type": "code",
   "execution_count": 6,
   "metadata": {
    "pycharm": {
     "name": "#%%\n"
    }
   },
   "outputs": [],
   "source": [
    "# Set to True if we want to split the dataset folder\n",
    "split_dataset = False"
   ]
  },
  {
   "cell_type": "code",
   "execution_count": 7,
   "metadata": {
    "pycharm": {
     "name": "#%%\n"
    }
   },
   "outputs": [],
   "source": [
    "# Handle the dataset splitting\n",
    "# Random split: the operation is based on the chosen random seed\n",
    "# Regular split: the operation selects a validation sample per n images (current: n=20)\n",
    "\n",
    "if(split_dataset):\n",
    "    \n",
    "    # Unzip the dataset file\n",
    "    !unzip dataset.zip\n",
    "    \n",
    "    # Import the splitfolders funtion for random splitting\n",
    "    if(random_split):\n",
    "        !pip install split-folders\n",
    "        import splitfolders\n",
    "        \n",
    "        splitfolders.ratio(\"training\", output=\"output\", seed=seed, ratio=(.8, .2), group_prefix=None)\n",
    "        print(\"Random split completed\")\n",
    "    \n",
    "    else:\n",
    "        import glob\n",
    "        import shutil\n",
    "    \n",
    "        path = path + \"/dataset\"\n",
    "        os.chdir(path)\n",
    "        cwd = os.getcwd()\n",
    "        cwd\n",
    "    \n",
    "        os.makedirs(\"validation\", exist_ok=True)\n",
    "    \n",
    "        i = 0\n",
    "        n = 20\n",
    "    \n",
    "        for file in glob.glob(\"training/*/*.jpg\", recursive=True):\n",
    "            if i == n:\n",
    "                old_path = os.path.join(cwd, str(file))\n",
    "                new_path = old_path.replace(\"training\", \"validation\")\n",
    "                print(\"Image: \" + new_path)\n",
    "            \n",
    "                if not os.path.exists(os.path.dirname(new_path)):\n",
    "                    os.makedirs(os.path.dirname(new_path), exist_ok=True)\n",
    "            \n",
    "                shutil.move(old_path, new_path)\n",
    "                i = 0\n",
    "                continue\n",
    "            i += 1\n",
    "        print(\"Regular split completed\")"
   ]
  },
  {
   "cell_type": "code",
   "execution_count": 8,
   "metadata": {
    "pycharm": {
     "name": "#%%\n"
    }
   },
   "outputs": [],
   "source": [
    "# Set working paths\n",
    "\n",
    "if(random_split):\n",
    "    data_dir = os.path.join(path, 'dataset')\n",
    "    dataset_dir = os.path.join(data_dir, 'output')\n",
    "    training_dir = os.path.join(dataset_dir, 'train')\n",
    "    validation_dir = os.path.join(dataset_dir, 'val')\n",
    "\n",
    "else:\n",
    "    dataset_dir = cwd\n",
    "    training_dir = os.path.join(dataset_dir, 'training')\n",
    "    validation_dir = os.path.join(dataset_dir, 'validation')"
   ]
  },
  {
   "cell_type": "markdown",
   "metadata": {
    "id": "BqDbLz4_rf_c",
    "pycharm": {
     "name": "#%% md\n"
    }
   },
   "source": [
    "# Mode selection\n",
    "There are different available options for the model: it can be a basic convolutional neural network or based on a pre-trained one.\n",
    "\n",
    "The pre-trained models that we tried out are MobileNetV2, ResNet50V2, VGG19, EfficientNetB7.\n",
    "\n",
    "In transfer learning mode, the parameters of the supernet are freezed temporarily."
   ]
  },
  {
   "cell_type": "code",
   "execution_count": 9,
   "metadata": {
    "executionInfo": {
     "elapsed": 205,
     "status": "ok",
     "timestamp": 1667962506362,
     "user": {
      "displayName": "Maria Yu",
      "userId": "14411329470521378870"
     },
     "user_tz": -60
    },
    "id": "iKtdPypGrfPK",
    "pycharm": {
     "name": "#%%\n"
    }
   },
   "outputs": [],
   "source": [
    "# Params: [Baseline, Mobilenet, Resnet, VGG, Efficientnet, EfficientnetV2]\n",
    "mode = 'EfficientnetV2'"
   ]
  },
  {
   "cell_type": "markdown",
   "metadata": {
    "id": "kyKeLF_IqD6j",
    "pycharm": {
     "name": "#%% md\n"
    }
   },
   "source": [
    "# Data pre-processing\n",
    "In this part, data preprocessing is done with the corresponding preprocessing function or with the rescale factor.\n",
    "\n",
    "Data augmentation options are also available."
   ]
  },
  {
   "cell_type": "code",
   "execution_count": 10,
   "metadata": {
    "pycharm": {
     "name": "#%%\n"
    }
   },
   "outputs": [],
   "source": [
    "# Import the correct preprocessing function for pre-trained models\n",
    "if mode == 'EfficientnetV2':\n",
    "    from tensorflow.keras.applications.efficientnet_v2 import preprocess_input"
   ]
  },
  {
   "cell_type": "code",
   "execution_count": 11,
   "metadata": {
    "executionInfo": {
     "elapsed": 2,
     "status": "ok",
     "timestamp": 1667963090875,
     "user": {
      "displayName": "Maria Yu",
      "userId": "14411329470521378870"
     },
     "user_tz": -60
    },
    "id": "1Twnvp3TuTWq",
    "pycharm": {
     "name": "#%%\n"
    }
   },
   "outputs": [],
   "source": [
    "# Set batch size\n",
    "batch_size = 64"
   ]
  },
  {
   "cell_type": "code",
   "execution_count": 12,
   "metadata": {
    "executionInfo": {
     "elapsed": 224,
     "status": "ok",
     "timestamp": 1667967399878,
     "user": {
      "displayName": "Maria Yu",
      "userId": "14411329470521378870"
     },
     "user_tz": -60
    },
    "id": "-IKTqKzA4pkf",
    "pycharm": {
     "name": "#%%\n"
    }
   },
   "outputs": [],
   "source": [
    "# Set to True to apply data augmentation methods\n",
    "data_augmentation = True"
   ]
  },
  {
   "cell_type": "code",
   "execution_count": 13,
   "metadata": {
    "pycharm": {
     "name": "#%%\n"
    }
   },
   "outputs": [
    {
     "name": "stdout",
     "output_type": "stream",
     "text": [
      "Preprocessing function applied\n"
     ]
    }
   ],
   "source": [
    "# Load data with ImageDataGenerator\n",
    "# Other available parameters: width_shift_range = 0.2, height_shift_range = 0.2, zoom_range = 0.15, rotation_range = 20\n",
    "\n",
    "from tensorflow.keras.preprocessing.image import ImageDataGenerator\n",
    "\n",
    "\n",
    "if(mode == 'Baseline'):\n",
    "    train_data_gen = ImageDataGenerator(\n",
    "        rescale = 1/255.\n",
    "    )\n",
    "        \n",
    "    val_data_gen = ImageDataGenerator(\n",
    "        rescale = 1/255.\n",
    "    )\n",
    "    \n",
    "    print(\"Rescaling completed\")\n",
    "    \n",
    "else:\n",
    "    train_data_gen = ImageDataGenerator(\n",
    "        preprocessing_function = preprocess_input)\n",
    "    \n",
    "    val_data_gen = ImageDataGenerator(\n",
    "        preprocessing_function = preprocess_input\n",
    "    )\n",
    "        \n",
    "    print(\"Preprocessing function applied\")"
   ]
  },
  {
   "cell_type": "code",
   "execution_count": 14,
   "metadata": {
    "pycharm": {
     "name": "#%%\n"
    }
   },
   "outputs": [
    {
     "name": "stdout",
     "output_type": "stream",
     "text": [
      "Found 2829 images belonging to 8 classes.\n",
      "Found 713 images belonging to 8 classes.\n"
     ]
    }
   ],
   "source": [
    "# Create iterators\n",
    "train_gen = train_data_gen.flow_from_directory(\n",
    "    directory = training_dir,\n",
    "    target_size = (96,96),\n",
    "    color_mode = 'rgb',\n",
    "    classes = None,\n",
    "    class_mode = 'categorical',\n",
    "    batch_size = batch_size,\n",
    "    shuffle = True,\n",
    "    seed = seed\n",
    ")\n",
    "\n",
    "val_gen = val_data_gen.flow_from_directory(\n",
    "    directory = validation_dir,\n",
    "    target_size = (96,96),\n",
    "    color_mode = 'rgb',\n",
    "    classes = None,\n",
    "    class_mode = 'categorical',\n",
    "    batch_size = batch_size,\n",
    "    shuffle = False,\n",
    "    seed = seed\n",
    ")"
   ]
  },
  {
   "cell_type": "code",
   "execution_count": 15,
   "metadata": {
    "pycharm": {
     "name": "#%%\n"
    }
   },
   "outputs": [],
   "source": [
    "# Define augmented images generator\n",
    "\n",
    "import albumentations as alb\n",
    "from tensorflow.keras.utils import Sequence\n",
    "\n",
    "class AugmentDataGenerator(Sequence):\n",
    "    def __init__(self, datagen, augment=None):\n",
    "        self.datagen = datagen\n",
    "        if augment is None:\n",
    "            self.augment = alb.Compose([])\n",
    "        else:\n",
    "            self.augment = augment\n",
    "    \n",
    "    def __len__(self):\n",
    "        return len(self.datagen)\n",
    "    \n",
    "    def __getitem__(self, x):\n",
    "        images, *rest = self.datagen[x]\n",
    "        augmented = []\n",
    "        for image in images:\n",
    "            image = self.augment(image=image)['image']\n",
    "            augmented.append(image)\n",
    "        return (np.array(augmented), *rest)"
   ]
  },
  {
   "cell_type": "code",
   "execution_count": 16,
   "metadata": {
    "pycharm": {
     "name": "#%%\n"
    }
   },
   "outputs": [
    {
     "name": "stdout",
     "output_type": "stream",
     "text": [
      "Data augmentation applied\n"
     ]
    }
   ],
   "source": [
    "if(data_augmentation):\n",
    "    train_gen = AugmentDataGenerator(train_gen, alb.Compose([\n",
    "        alb.OneOf([\n",
    "            alb.HorizontalFlip(),\n",
    "            alb.VerticalFlip()\n",
    "        ]),\n",
    "        alb.Transpose(),\n",
    "        alb.GaussNoise(),\n",
    "        alb.CoarseDropout(),\n",
    "        alb.RandomBrightnessContrast(),\n",
    "        alb.SafeRotate(limit=20),\n",
    "        alb.OneOf([\n",
    "            alb.OpticalDistortion(),\n",
    "            alb.GridDistortion()\n",
    "        ], p=0.3)\n",
    "    ]))\n",
    "    \n",
    "    print(\"Data augmentation applied\")"
   ]
  },
  {
   "cell_type": "markdown",
   "metadata": {
    "id": "H7jnjBD2u2tS",
    "pycharm": {
     "name": "#%% md\n"
    }
   },
   "source": [
    "# Hyperparameters setting\n",
    "In this part, the hyperparameters of the model are defining."
   ]
  },
  {
   "cell_type": "code",
   "execution_count": 17,
   "metadata": {
    "executionInfo": {
     "elapsed": 309,
     "status": "ok",
     "timestamp": 1667967497148,
     "user": {
      "displayName": "Maria Yu",
      "userId": "14411329470521378870"
     },
     "user_tz": -60
    },
    "id": "tFigwY1Kx1eH",
    "pycharm": {
     "name": "#%%\n"
    }
   },
   "outputs": [],
   "source": [
    "# Fix input shape and number of epochs\n",
    "input_shape = (96, 96, 3)\n",
    "epochs = 1000"
   ]
  },
  {
   "cell_type": "code",
   "execution_count": 18,
   "metadata": {
    "pycharm": {
     "name": "#%%\n"
    }
   },
   "outputs": [],
   "source": [
    "# Define the categorical focal loss\n",
    "from keras import backend as K\n",
    "\n",
    "def categorical_focal_loss(y_true, y_pred):\n",
    "    \"\"\"\n",
    "    Softmax version of focal loss.\n",
    "    When there is a skew between different categories/labels in your data set, you can try to apply this function as a\n",
    "    loss.\n",
    "           m\n",
    "      FL = ∑  -alpha * (1 - p_o,c)^gamma * y_o,c * log(p_o,c)\n",
    "          c=1\n",
    "      where m = number of classes, c = class and o = observation\n",
    "    Parameters:\n",
    "      alpha -- the same as weighing factor in balanced cross entropy. Alpha is used to specify the weight of different\n",
    "      categories/labels, the size of the array needs to be consistent with the number of classes.\n",
    "      gamma -- focusing parameter for modulating factor (1-p)\n",
    "    Default value:\n",
    "      gamma -- 2.0 as mentioned in the paper\n",
    "      alpha -- 0.25 as mentioned in the paper\n",
    "    References:\n",
    "        Official paper: https://arxiv.org/pdf/1708.02002.pdf\n",
    "        https://www.tensorflow.org/api_docs/python/tf/keras/backend/categorical_crossentropy\n",
    "    Usage:\n",
    "     model.compile(loss=[categorical_focal_loss(alpha=[[.25, .25, .25]], gamma=2)], metrics=[\"accuracy\"], optimizer=adam)\n",
    "    \"\"\"\n",
    "    \n",
    "    alpha = [[.25, .1, .1, .1, .1, .1, .1, .15]]\n",
    "\n",
    "    alpha = np.array(alpha, dtype=np.float32)\n",
    "    \n",
    "    gamma = 2.\n",
    "\n",
    "    \"\"\"\n",
    "    :param y_true: A tensor of the same shape as `y_pred`\n",
    "    :param y_pred: A tensor resulting from a softmax\n",
    "    :return: Output tensor.\n",
    "    \"\"\"\n",
    "\n",
    "    # Clip the prediction value to prevent NaN's and Inf's\n",
    "    epsilon = K.epsilon()\n",
    "    y_pred = K.clip(y_pred, epsilon, 1. - epsilon)\n",
    "\n",
    "    # Calculate Cross Entropy\n",
    "    cross_entropy = -y_true * K.log(y_pred)\n",
    "\n",
    "    # Calculate Focal Loss\n",
    "    c_loss = alpha * K.pow(1 - y_pred, gamma) * cross_entropy\n",
    "\n",
    "    # Compute mean loss in mini_batch\n",
    "    return K.mean(K.sum(c_loss, axis=-1))"
   ]
  },
  {
   "cell_type": "code",
   "execution_count": 19,
   "metadata": {
    "executionInfo": {
     "elapsed": 1,
     "status": "ok",
     "timestamp": 1667967499409,
     "user": {
      "displayName": "Maria Yu",
      "userId": "14411329470521378870"
     },
     "user_tz": -60
    },
    "id": "5moa_FFb3xX8",
    "pycharm": {
     "name": "#%%\n"
    }
   },
   "outputs": [],
   "source": [
    "# Define loss\n",
    "loss = tfk.losses.CategoricalCrossentropy()\n",
    "# loss = categorical_focal_loss\n",
    "\n",
    "# Define learning rate\n",
    "lr = 1e-3\n",
    "\n",
    "# Define optimizer for regularization\n",
    "optimizer = tfk.optimizers.Adam(learning_rate = lr, epsilon = 0.1)\n",
    "\n",
    "# Define metrics for evaluation\n",
    "metrics = ['accuracy']"
   ]
  },
  {
   "cell_type": "code",
   "execution_count": 20,
   "metadata": {
    "pycharm": {
     "name": "#%%\n"
    }
   },
   "outputs": [],
   "source": [
    "# !pip install tensorflow_addons"
   ]
  },
  {
   "cell_type": "code",
   "execution_count": 21,
   "metadata": {
    "pycharm": {
     "name": "#%%\n"
    }
   },
   "outputs": [],
   "source": [
    "# import tensorflow_addons as tfa\n",
    "\n",
    "# optimizer = tfa.optimizers.AdamW(weight_decay=1e-5, learning_rate=lr, epsilon=0.1)"
   ]
  },
  {
   "cell_type": "markdown",
   "metadata": {
    "id": "f0lT-umHqX8j",
    "pycharm": {
     "name": "#%% md\n"
    }
   },
   "source": [
    "# Model structure\n",
    "According to the chosen mode, the corresponding model structure is loaded."
   ]
  },
  {
   "cell_type": "markdown",
   "metadata": {
    "pycharm": {
     "name": "#%% md\n"
    }
   },
   "source": [
    "## Basic CNN model"
   ]
  },
  {
   "cell_type": "code",
   "execution_count": 22,
   "metadata": {
    "pycharm": {
     "name": "#%%\n"
    }
   },
   "outputs": [],
   "source": [
    "# Use base CNN model\n",
    "if(mode == 'Baseline'):\n",
    "    model = tfk.Sequential()\n",
    "    \n",
    "    # Input layer\n",
    "    model.add(tfkl.Input(shape=input_shape, name='Input'))\n",
    "\n",
    "    # Convolution + Pooling\n",
    "    model.add(tfkl.Conv2D(\n",
    "        filters=32,\n",
    "        kernel_size=(3, 3),\n",
    "        strides=(1, 1),\n",
    "        padding='same',\n",
    "        activation='relu',\n",
    "        kernel_initializer = tfk.initializers.GlorotUniform(seed)\n",
    "    ))\n",
    "    model.add(tfkl.BatchNormalization())\n",
    "    model.add(tfkl.MaxPooling2D(pool_size=(2, 2)))\n",
    "\n",
    "    model.add(tfkl.Conv2D(\n",
    "        filters=64,\n",
    "        kernel_size=(3, 3),\n",
    "        strides=(1, 1),\n",
    "        padding='same',\n",
    "        activation='relu',\n",
    "        kernel_initializer = tfk.initializers.GlorotUniform(seed)\n",
    "    ))\n",
    "    model.add(tfkl.BatchNormalization())\n",
    "    model.add(tfkl.MaxPooling2D(pool_size=(2, 2)))\n",
    "\n",
    "    model.add(tfkl.Conv2D(\n",
    "        filters=128,\n",
    "        kernel_size=(3, 3),\n",
    "        strides=(1, 1),\n",
    "        padding='same',\n",
    "        activation='relu',\n",
    "        kernel_initializer = tfk.initializers.GlorotUniform(seed)\n",
    "    ))\n",
    "    model.add(tfkl.BatchNormalization())\n",
    "    model.add(tfkl.MaxPooling2D(pool_size=(2, 2)))\n",
    "    \n",
    "    model.add(tfkl.Conv2D(\n",
    "        filters=256,\n",
    "        kernel_size=(3, 3),\n",
    "        strides=(1, 1),\n",
    "        padding='same',\n",
    "        activation='relu',\n",
    "        kernel_initializer = tfk.initializers.GlorotUniform(seed)\n",
    "    ))\n",
    "    model.add(tfkl.BatchNormalization())\n",
    "    model.add(tfkl.MaxPooling2D(pool_size=(2, 2)))\n",
    "    \n",
    "    model.add(tfkl.Conv2D(\n",
    "        filters=512,\n",
    "        kernel_size=(3, 3),\n",
    "        strides=(1, 1),\n",
    "        padding='same',\n",
    "        activation='relu',\n",
    "        kernel_initializer = tfk.initializers.GlorotUniform(seed)\n",
    "    ))\n",
    "    model.add(tfkl.BatchNormalization())\n",
    "    model.add(tfkl.MaxPooling2D(pool_size=(2, 2)))\n",
    "\n",
    "    \n",
    "    # Flatten\n",
    "    model.add(tfkl.Flatten(name='Flatten'))\n",
    "\n",
    "    \n",
    "    # Linear layer with ReLU activation\n",
    "    model.add(tfkl.Dense(\n",
    "        units=128,\n",
    "        activation='relu',\n",
    "        kernel_initializer = tfk.initializers.GlorotUniform(seed)\n",
    "    ))\n",
    "    \n",
    "    # Dropout layer\n",
    "    model.add(tfkl.Dropout(0.2, seed=seed))\n",
    "\n",
    "    # Output layer\n",
    "    model.add(tfkl.Dense(\n",
    "        units=8,\n",
    "        activation='softmax',\n",
    "        kernel_initializer = tfk.initializers.GlorotUniform(seed),\n",
    "        name='Output'\n",
    "    ))"
   ]
  },
  {
   "cell_type": "markdown",
   "metadata": {
    "pycharm": {
     "name": "#%% md\n"
    }
   },
   "source": [
    "## Supernet: EfficientNetV2B0"
   ]
  },
  {
   "cell_type": "code",
   "execution_count": 26,
   "metadata": {
    "pycharm": {
     "name": "#%%\n"
    }
   },
   "outputs": [],
   "source": [
    "if(mode == 'EfficientnetV2'):\n",
    "    supernet = tfk.applications.EfficientNetV2B0(\n",
    "        include_top = False,\n",
    "        weights = \"imagenet\",\n",
    "        input_shape = (224, 224, 3)\n",
    "    )\n",
    "#     supernet.trainable = True\n",
    "    \n",
    "    model = tf.keras.Sequential()\n",
    "    model.add(tfkl.Input(shape=input_shape, name='Input'))\n",
    "    model.add(tfkl.Resizing(height=224, width=224))\n",
    "    model.add(supernet)\n",
    "    model.add(tfkl.GlobalAveragePooling2D())\n",
    "    \n",
    "    model.add(tfkl.Dense(\n",
    "        units = 128,\n",
    "        activation = 'relu',\n",
    "        kernel_initializer = tfk.initializers.GlorotUniform(seed)))\n",
    "    \n",
    "    model.add(tfkl.Dense(\n",
    "        units = 8,\n",
    "        activation = 'softmax',\n",
    "        kernel_initializer = tfk.initializers.GlorotUniform(seed)))"
   ]
  },
  {
   "cell_type": "markdown",
   "metadata": {
    "id": "bDPUj0TwR0rW",
    "pycharm": {
     "name": "#%% md\n"
    }
   },
   "source": [
    "## Model summary and compilation"
   ]
  },
  {
   "cell_type": "code",
   "execution_count": 27,
   "metadata": {
    "pycharm": {
     "name": "#%%\n"
    }
   },
   "outputs": [
    {
     "name": "stdout",
     "output_type": "stream",
     "text": [
      "Model: \"efficientnetv2-b0\"\n",
      "__________________________________________________________________________________________________\n",
      " Layer (type)                   Output Shape         Param #     Connected to                     \n",
      "==================================================================================================\n",
      " input_1 (InputLayer)           [(None, 224, 224, 3  0           []                               \n",
      "                                )]                                                                \n",
      "                                                                                                  \n",
      " rescaling (Rescaling)          (None, 224, 224, 3)  0           ['input_1[0][0]']                \n",
      "                                                                                                  \n",
      " normalization (Normalization)  (None, 224, 224, 3)  0           ['rescaling[0][0]']              \n",
      "                                                                                                  \n",
      " stem_conv (Conv2D)             (None, 112, 112, 32  864         ['normalization[0][0]']          \n",
      "                                )                                                                 \n",
      "                                                                                                  \n",
      " stem_bn (BatchNormalization)   (None, 112, 112, 32  128         ['stem_conv[0][0]']              \n",
      "                                )                                                                 \n",
      "                                                                                                  \n",
      " stem_activation (Activation)   (None, 112, 112, 32  0           ['stem_bn[0][0]']                \n",
      "                                )                                                                 \n",
      "                                                                                                  \n",
      " block1a_project_conv (Conv2D)  (None, 112, 112, 16  4608        ['stem_activation[0][0]']        \n",
      "                                )                                                                 \n",
      "                                                                                                  \n",
      " block1a_project_bn (BatchNorma  (None, 112, 112, 16  64         ['block1a_project_conv[0][0]']   \n",
      " lization)                      )                                                                 \n",
      "                                                                                                  \n",
      " block1a_project_activation (Ac  (None, 112, 112, 16  0          ['block1a_project_bn[0][0]']     \n",
      " tivation)                      )                                                                 \n",
      "                                                                                                  \n",
      " block2a_expand_conv (Conv2D)   (None, 56, 56, 64)   9216        ['block1a_project_activation[0][0\n",
      "                                                                 ]']                              \n",
      "                                                                                                  \n",
      " block2a_expand_bn (BatchNormal  (None, 56, 56, 64)  256         ['block2a_expand_conv[0][0]']    \n",
      " ization)                                                                                         \n",
      "                                                                                                  \n",
      " block2a_expand_activation (Act  (None, 56, 56, 64)  0           ['block2a_expand_bn[0][0]']      \n",
      " ivation)                                                                                         \n",
      "                                                                                                  \n",
      " block2a_project_conv (Conv2D)  (None, 56, 56, 32)   2048        ['block2a_expand_activation[0][0]\n",
      "                                                                 ']                               \n",
      "                                                                                                  \n",
      " block2a_project_bn (BatchNorma  (None, 56, 56, 32)  128         ['block2a_project_conv[0][0]']   \n",
      " lization)                                                                                        \n",
      "                                                                                                  \n",
      " block2b_expand_conv (Conv2D)   (None, 56, 56, 128)  36864       ['block2a_project_bn[0][0]']     \n",
      "                                                                                                  \n",
      " block2b_expand_bn (BatchNormal  (None, 56, 56, 128)  512        ['block2b_expand_conv[0][0]']    \n",
      " ization)                                                                                         \n",
      "                                                                                                  \n",
      " block2b_expand_activation (Act  (None, 56, 56, 128)  0          ['block2b_expand_bn[0][0]']      \n",
      " ivation)                                                                                         \n",
      "                                                                                                  \n",
      " block2b_project_conv (Conv2D)  (None, 56, 56, 32)   4096        ['block2b_expand_activation[0][0]\n",
      "                                                                 ']                               \n",
      "                                                                                                  \n",
      " block2b_project_bn (BatchNorma  (None, 56, 56, 32)  128         ['block2b_project_conv[0][0]']   \n",
      " lization)                                                                                        \n",
      "                                                                                                  \n",
      " block2b_drop (Dropout)         (None, 56, 56, 32)   0           ['block2b_project_bn[0][0]']     \n",
      "                                                                                                  \n",
      " block2b_add (Add)              (None, 56, 56, 32)   0           ['block2b_drop[0][0]',           \n",
      "                                                                  'block2a_project_bn[0][0]']     \n",
      "                                                                                                  \n",
      " block3a_expand_conv (Conv2D)   (None, 28, 28, 128)  36864       ['block2b_add[0][0]']            \n",
      "                                                                                                  \n",
      " block3a_expand_bn (BatchNormal  (None, 28, 28, 128)  512        ['block3a_expand_conv[0][0]']    \n",
      " ization)                                                                                         \n",
      "                                                                                                  \n",
      " block3a_expand_activation (Act  (None, 28, 28, 128)  0          ['block3a_expand_bn[0][0]']      \n",
      " ivation)                                                                                         \n",
      "                                                                                                  \n",
      " block3a_project_conv (Conv2D)  (None, 28, 28, 48)   6144        ['block3a_expand_activation[0][0]\n",
      "                                                                 ']                               \n",
      "                                                                                                  \n",
      " block3a_project_bn (BatchNorma  (None, 28, 28, 48)  192         ['block3a_project_conv[0][0]']   \n",
      " lization)                                                                                        \n",
      "                                                                                                  \n",
      " block3b_expand_conv (Conv2D)   (None, 28, 28, 192)  82944       ['block3a_project_bn[0][0]']     \n",
      "                                                                                                  \n",
      " block3b_expand_bn (BatchNormal  (None, 28, 28, 192)  768        ['block3b_expand_conv[0][0]']    \n",
      " ization)                                                                                         \n",
      "                                                                                                  \n",
      " block3b_expand_activation (Act  (None, 28, 28, 192)  0          ['block3b_expand_bn[0][0]']      \n",
      " ivation)                                                                                         \n"
     ]
    },
    {
     "name": "stdout",
     "output_type": "stream",
     "text": [
      "                                                                                                  \n",
      " block3b_project_conv (Conv2D)  (None, 28, 28, 48)   9216        ['block3b_expand_activation[0][0]\n",
      "                                                                 ']                               \n",
      "                                                                                                  \n",
      " block3b_project_bn (BatchNorma  (None, 28, 28, 48)  192         ['block3b_project_conv[0][0]']   \n",
      " lization)                                                                                        \n",
      "                                                                                                  \n",
      " block3b_drop (Dropout)         (None, 28, 28, 48)   0           ['block3b_project_bn[0][0]']     \n",
      "                                                                                                  \n",
      " block3b_add (Add)              (None, 28, 28, 48)   0           ['block3b_drop[0][0]',           \n",
      "                                                                  'block3a_project_bn[0][0]']     \n",
      "                                                                                                  \n",
      " block4a_expand_conv (Conv2D)   (None, 28, 28, 192)  9216        ['block3b_add[0][0]']            \n",
      "                                                                                                  \n",
      " block4a_expand_bn (BatchNormal  (None, 28, 28, 192)  768        ['block4a_expand_conv[0][0]']    \n",
      " ization)                                                                                         \n",
      "                                                                                                  \n",
      " block4a_expand_activation (Act  (None, 28, 28, 192)  0          ['block4a_expand_bn[0][0]']      \n",
      " ivation)                                                                                         \n",
      "                                                                                                  \n",
      " block4a_dwconv2 (DepthwiseConv  (None, 14, 14, 192)  1728       ['block4a_expand_activation[0][0]\n",
      " 2D)                                                             ']                               \n",
      "                                                                                                  \n",
      " block4a_bn (BatchNormalization  (None, 14, 14, 192)  768        ['block4a_dwconv2[0][0]']        \n",
      " )                                                                                                \n",
      "                                                                                                  \n",
      " block4a_activation (Activation  (None, 14, 14, 192)  0          ['block4a_bn[0][0]']             \n",
      " )                                                                                                \n",
      "                                                                                                  \n",
      " block4a_se_squeeze (GlobalAver  (None, 192)         0           ['block4a_activation[0][0]']     \n",
      " agePooling2D)                                                                                    \n",
      "                                                                                                  \n",
      " block4a_se_reshape (Reshape)   (None, 1, 1, 192)    0           ['block4a_se_squeeze[0][0]']     \n",
      "                                                                                                  \n",
      " block4a_se_reduce (Conv2D)     (None, 1, 1, 12)     2316        ['block4a_se_reshape[0][0]']     \n",
      "                                                                                                  \n",
      " block4a_se_expand (Conv2D)     (None, 1, 1, 192)    2496        ['block4a_se_reduce[0][0]']      \n",
      "                                                                                                  \n",
      " block4a_se_excite (Multiply)   (None, 14, 14, 192)  0           ['block4a_activation[0][0]',     \n",
      "                                                                  'block4a_se_expand[0][0]']      \n",
      "                                                                                                  \n",
      " block4a_project_conv (Conv2D)  (None, 14, 14, 96)   18432       ['block4a_se_excite[0][0]']      \n",
      "                                                                                                  \n",
      " block4a_project_bn (BatchNorma  (None, 14, 14, 96)  384         ['block4a_project_conv[0][0]']   \n",
      " lization)                                                                                        \n",
      "                                                                                                  \n",
      " block4b_expand_conv (Conv2D)   (None, 14, 14, 384)  36864       ['block4a_project_bn[0][0]']     \n",
      "                                                                                                  \n",
      " block4b_expand_bn (BatchNormal  (None, 14, 14, 384)  1536       ['block4b_expand_conv[0][0]']    \n",
      " ization)                                                                                         \n",
      "                                                                                                  \n",
      " block4b_expand_activation (Act  (None, 14, 14, 384)  0          ['block4b_expand_bn[0][0]']      \n",
      " ivation)                                                                                         \n",
      "                                                                                                  \n",
      " block4b_dwconv2 (DepthwiseConv  (None, 14, 14, 384)  3456       ['block4b_expand_activation[0][0]\n",
      " 2D)                                                             ']                               \n",
      "                                                                                                  \n",
      " block4b_bn (BatchNormalization  (None, 14, 14, 384)  1536       ['block4b_dwconv2[0][0]']        \n",
      " )                                                                                                \n",
      "                                                                                                  \n",
      " block4b_activation (Activation  (None, 14, 14, 384)  0          ['block4b_bn[0][0]']             \n",
      " )                                                                                                \n",
      "                                                                                                  \n",
      " block4b_se_squeeze (GlobalAver  (None, 384)         0           ['block4b_activation[0][0]']     \n",
      " agePooling2D)                                                                                    \n",
      "                                                                                                  \n",
      " block4b_se_reshape (Reshape)   (None, 1, 1, 384)    0           ['block4b_se_squeeze[0][0]']     \n",
      "                                                                                                  \n",
      " block4b_se_reduce (Conv2D)     (None, 1, 1, 24)     9240        ['block4b_se_reshape[0][0]']     \n",
      "                                                                                                  \n",
      " block4b_se_expand (Conv2D)     (None, 1, 1, 384)    9600        ['block4b_se_reduce[0][0]']      \n",
      "                                                                                                  \n",
      " block4b_se_excite (Multiply)   (None, 14, 14, 384)  0           ['block4b_activation[0][0]',     \n",
      "                                                                  'block4b_se_expand[0][0]']      \n",
      "                                                                                                  \n",
      " block4b_project_conv (Conv2D)  (None, 14, 14, 96)   36864       ['block4b_se_excite[0][0]']      \n",
      "                                                                                                  \n",
      " block4b_project_bn (BatchNorma  (None, 14, 14, 96)  384         ['block4b_project_conv[0][0]']   \n",
      " lization)                                                                                        \n",
      "                                                                                                  \n",
      " block4b_drop (Dropout)         (None, 14, 14, 96)   0           ['block4b_project_bn[0][0]']     \n",
      "                                                                                                  \n",
      " block4b_add (Add)              (None, 14, 14, 96)   0           ['block4b_drop[0][0]',           \n"
     ]
    },
    {
     "name": "stdout",
     "output_type": "stream",
     "text": [
      "                                                                  'block4a_project_bn[0][0]']     \n",
      "                                                                                                  \n",
      " block4c_expand_conv (Conv2D)   (None, 14, 14, 384)  36864       ['block4b_add[0][0]']            \n",
      "                                                                                                  \n",
      " block4c_expand_bn (BatchNormal  (None, 14, 14, 384)  1536       ['block4c_expand_conv[0][0]']    \n",
      " ization)                                                                                         \n",
      "                                                                                                  \n",
      " block4c_expand_activation (Act  (None, 14, 14, 384)  0          ['block4c_expand_bn[0][0]']      \n",
      " ivation)                                                                                         \n",
      "                                                                                                  \n",
      " block4c_dwconv2 (DepthwiseConv  (None, 14, 14, 384)  3456       ['block4c_expand_activation[0][0]\n",
      " 2D)                                                             ']                               \n",
      "                                                                                                  \n",
      " block4c_bn (BatchNormalization  (None, 14, 14, 384)  1536       ['block4c_dwconv2[0][0]']        \n",
      " )                                                                                                \n",
      "                                                                                                  \n",
      " block4c_activation (Activation  (None, 14, 14, 384)  0          ['block4c_bn[0][0]']             \n",
      " )                                                                                                \n",
      "                                                                                                  \n",
      " block4c_se_squeeze (GlobalAver  (None, 384)         0           ['block4c_activation[0][0]']     \n",
      " agePooling2D)                                                                                    \n",
      "                                                                                                  \n",
      " block4c_se_reshape (Reshape)   (None, 1, 1, 384)    0           ['block4c_se_squeeze[0][0]']     \n",
      "                                                                                                  \n",
      " block4c_se_reduce (Conv2D)     (None, 1, 1, 24)     9240        ['block4c_se_reshape[0][0]']     \n",
      "                                                                                                  \n",
      " block4c_se_expand (Conv2D)     (None, 1, 1, 384)    9600        ['block4c_se_reduce[0][0]']      \n",
      "                                                                                                  \n",
      " block4c_se_excite (Multiply)   (None, 14, 14, 384)  0           ['block4c_activation[0][0]',     \n",
      "                                                                  'block4c_se_expand[0][0]']      \n",
      "                                                                                                  \n",
      " block4c_project_conv (Conv2D)  (None, 14, 14, 96)   36864       ['block4c_se_excite[0][0]']      \n",
      "                                                                                                  \n",
      " block4c_project_bn (BatchNorma  (None, 14, 14, 96)  384         ['block4c_project_conv[0][0]']   \n",
      " lization)                                                                                        \n",
      "                                                                                                  \n",
      " block4c_drop (Dropout)         (None, 14, 14, 96)   0           ['block4c_project_bn[0][0]']     \n",
      "                                                                                                  \n",
      " block4c_add (Add)              (None, 14, 14, 96)   0           ['block4c_drop[0][0]',           \n",
      "                                                                  'block4b_add[0][0]']            \n",
      "                                                                                                  \n",
      " block5a_expand_conv (Conv2D)   (None, 14, 14, 576)  55296       ['block4c_add[0][0]']            \n",
      "                                                                                                  \n",
      " block5a_expand_bn (BatchNormal  (None, 14, 14, 576)  2304       ['block5a_expand_conv[0][0]']    \n",
      " ization)                                                                                         \n",
      "                                                                                                  \n",
      " block5a_expand_activation (Act  (None, 14, 14, 576)  0          ['block5a_expand_bn[0][0]']      \n",
      " ivation)                                                                                         \n",
      "                                                                                                  \n",
      " block5a_dwconv2 (DepthwiseConv  (None, 14, 14, 576)  5184       ['block5a_expand_activation[0][0]\n",
      " 2D)                                                             ']                               \n",
      "                                                                                                  \n",
      " block5a_bn (BatchNormalization  (None, 14, 14, 576)  2304       ['block5a_dwconv2[0][0]']        \n",
      " )                                                                                                \n",
      "                                                                                                  \n",
      " block5a_activation (Activation  (None, 14, 14, 576)  0          ['block5a_bn[0][0]']             \n",
      " )                                                                                                \n",
      "                                                                                                  \n",
      " block5a_se_squeeze (GlobalAver  (None, 576)         0           ['block5a_activation[0][0]']     \n",
      " agePooling2D)                                                                                    \n",
      "                                                                                                  \n",
      " block5a_se_reshape (Reshape)   (None, 1, 1, 576)    0           ['block5a_se_squeeze[0][0]']     \n",
      "                                                                                                  \n",
      " block5a_se_reduce (Conv2D)     (None, 1, 1, 24)     13848       ['block5a_se_reshape[0][0]']     \n",
      "                                                                                                  \n",
      " block5a_se_expand (Conv2D)     (None, 1, 1, 576)    14400       ['block5a_se_reduce[0][0]']      \n",
      "                                                                                                  \n",
      " block5a_se_excite (Multiply)   (None, 14, 14, 576)  0           ['block5a_activation[0][0]',     \n",
      "                                                                  'block5a_se_expand[0][0]']      \n",
      "                                                                                                  \n",
      " block5a_project_conv (Conv2D)  (None, 14, 14, 112)  64512       ['block5a_se_excite[0][0]']      \n",
      "                                                                                                  \n",
      " block5a_project_bn (BatchNorma  (None, 14, 14, 112)  448        ['block5a_project_conv[0][0]']   \n",
      " lization)                                                                                        \n",
      "                                                                                                  \n",
      " block5b_expand_conv (Conv2D)   (None, 14, 14, 672)  75264       ['block5a_project_bn[0][0]']     \n",
      "                                                                                                  \n",
      " block5b_expand_bn (BatchNormal  (None, 14, 14, 672)  2688       ['block5b_expand_conv[0][0]']    \n",
      " ization)                                                                                         \n",
      "                                                                                                  \n",
      " block5b_expand_activation (Act  (None, 14, 14, 672)  0          ['block5b_expand_bn[0][0]']      \n",
      " ivation)                                                                                         \n",
      "                                                                                                  \n"
     ]
    },
    {
     "name": "stdout",
     "output_type": "stream",
     "text": [
      " block5b_dwconv2 (DepthwiseConv  (None, 14, 14, 672)  6048       ['block5b_expand_activation[0][0]\n",
      " 2D)                                                             ']                               \n",
      "                                                                                                  \n",
      " block5b_bn (BatchNormalization  (None, 14, 14, 672)  2688       ['block5b_dwconv2[0][0]']        \n",
      " )                                                                                                \n",
      "                                                                                                  \n",
      " block5b_activation (Activation  (None, 14, 14, 672)  0          ['block5b_bn[0][0]']             \n",
      " )                                                                                                \n",
      "                                                                                                  \n",
      " block5b_se_squeeze (GlobalAver  (None, 672)         0           ['block5b_activation[0][0]']     \n",
      " agePooling2D)                                                                                    \n",
      "                                                                                                  \n",
      " block5b_se_reshape (Reshape)   (None, 1, 1, 672)    0           ['block5b_se_squeeze[0][0]']     \n",
      "                                                                                                  \n",
      " block5b_se_reduce (Conv2D)     (None, 1, 1, 28)     18844       ['block5b_se_reshape[0][0]']     \n",
      "                                                                                                  \n",
      " block5b_se_expand (Conv2D)     (None, 1, 1, 672)    19488       ['block5b_se_reduce[0][0]']      \n",
      "                                                                                                  \n",
      " block5b_se_excite (Multiply)   (None, 14, 14, 672)  0           ['block5b_activation[0][0]',     \n",
      "                                                                  'block5b_se_expand[0][0]']      \n",
      "                                                                                                  \n",
      " block5b_project_conv (Conv2D)  (None, 14, 14, 112)  75264       ['block5b_se_excite[0][0]']      \n",
      "                                                                                                  \n",
      " block5b_project_bn (BatchNorma  (None, 14, 14, 112)  448        ['block5b_project_conv[0][0]']   \n",
      " lization)                                                                                        \n",
      "                                                                                                  \n",
      " block5b_drop (Dropout)         (None, 14, 14, 112)  0           ['block5b_project_bn[0][0]']     \n",
      "                                                                                                  \n",
      " block5b_add (Add)              (None, 14, 14, 112)  0           ['block5b_drop[0][0]',           \n",
      "                                                                  'block5a_project_bn[0][0]']     \n",
      "                                                                                                  \n",
      " block5c_expand_conv (Conv2D)   (None, 14, 14, 672)  75264       ['block5b_add[0][0]']            \n",
      "                                                                                                  \n",
      " block5c_expand_bn (BatchNormal  (None, 14, 14, 672)  2688       ['block5c_expand_conv[0][0]']    \n",
      " ization)                                                                                         \n",
      "                                                                                                  \n",
      " block5c_expand_activation (Act  (None, 14, 14, 672)  0          ['block5c_expand_bn[0][0]']      \n",
      " ivation)                                                                                         \n",
      "                                                                                                  \n",
      " block5c_dwconv2 (DepthwiseConv  (None, 14, 14, 672)  6048       ['block5c_expand_activation[0][0]\n",
      " 2D)                                                             ']                               \n",
      "                                                                                                  \n",
      " block5c_bn (BatchNormalization  (None, 14, 14, 672)  2688       ['block5c_dwconv2[0][0]']        \n",
      " )                                                                                                \n",
      "                                                                                                  \n",
      " block5c_activation (Activation  (None, 14, 14, 672)  0          ['block5c_bn[0][0]']             \n",
      " )                                                                                                \n",
      "                                                                                                  \n",
      " block5c_se_squeeze (GlobalAver  (None, 672)         0           ['block5c_activation[0][0]']     \n",
      " agePooling2D)                                                                                    \n",
      "                                                                                                  \n",
      " block5c_se_reshape (Reshape)   (None, 1, 1, 672)    0           ['block5c_se_squeeze[0][0]']     \n",
      "                                                                                                  \n",
      " block5c_se_reduce (Conv2D)     (None, 1, 1, 28)     18844       ['block5c_se_reshape[0][0]']     \n",
      "                                                                                                  \n",
      " block5c_se_expand (Conv2D)     (None, 1, 1, 672)    19488       ['block5c_se_reduce[0][0]']      \n",
      "                                                                                                  \n",
      " block5c_se_excite (Multiply)   (None, 14, 14, 672)  0           ['block5c_activation[0][0]',     \n",
      "                                                                  'block5c_se_expand[0][0]']      \n",
      "                                                                                                  \n",
      " block5c_project_conv (Conv2D)  (None, 14, 14, 112)  75264       ['block5c_se_excite[0][0]']      \n",
      "                                                                                                  \n",
      " block5c_project_bn (BatchNorma  (None, 14, 14, 112)  448        ['block5c_project_conv[0][0]']   \n",
      " lization)                                                                                        \n",
      "                                                                                                  \n",
      " block5c_drop (Dropout)         (None, 14, 14, 112)  0           ['block5c_project_bn[0][0]']     \n",
      "                                                                                                  \n",
      " block5c_add (Add)              (None, 14, 14, 112)  0           ['block5c_drop[0][0]',           \n",
      "                                                                  'block5b_add[0][0]']            \n",
      "                                                                                                  \n",
      " block5d_expand_conv (Conv2D)   (None, 14, 14, 672)  75264       ['block5c_add[0][0]']            \n",
      "                                                                                                  \n",
      " block5d_expand_bn (BatchNormal  (None, 14, 14, 672)  2688       ['block5d_expand_conv[0][0]']    \n",
      " ization)                                                                                         \n",
      "                                                                                                  \n",
      " block5d_expand_activation (Act  (None, 14, 14, 672)  0          ['block5d_expand_bn[0][0]']      \n",
      " ivation)                                                                                         \n",
      "                                                                                                  \n",
      " block5d_dwconv2 (DepthwiseConv  (None, 14, 14, 672)  6048       ['block5d_expand_activation[0][0]\n",
      " 2D)                                                             ']                               \n",
      "                                                                                                  \n",
      " block5d_bn (BatchNormalization  (None, 14, 14, 672)  2688       ['block5d_dwconv2[0][0]']        \n",
      " )                                                                                                \n"
     ]
    },
    {
     "name": "stdout",
     "output_type": "stream",
     "text": [
      "                                                                                                  \n",
      " block5d_activation (Activation  (None, 14, 14, 672)  0          ['block5d_bn[0][0]']             \n",
      " )                                                                                                \n",
      "                                                                                                  \n",
      " block5d_se_squeeze (GlobalAver  (None, 672)         0           ['block5d_activation[0][0]']     \n",
      " agePooling2D)                                                                                    \n",
      "                                                                                                  \n",
      " block5d_se_reshape (Reshape)   (None, 1, 1, 672)    0           ['block5d_se_squeeze[0][0]']     \n",
      "                                                                                                  \n",
      " block5d_se_reduce (Conv2D)     (None, 1, 1, 28)     18844       ['block5d_se_reshape[0][0]']     \n",
      "                                                                                                  \n",
      " block5d_se_expand (Conv2D)     (None, 1, 1, 672)    19488       ['block5d_se_reduce[0][0]']      \n",
      "                                                                                                  \n",
      " block5d_se_excite (Multiply)   (None, 14, 14, 672)  0           ['block5d_activation[0][0]',     \n",
      "                                                                  'block5d_se_expand[0][0]']      \n",
      "                                                                                                  \n",
      " block5d_project_conv (Conv2D)  (None, 14, 14, 112)  75264       ['block5d_se_excite[0][0]']      \n",
      "                                                                                                  \n",
      " block5d_project_bn (BatchNorma  (None, 14, 14, 112)  448        ['block5d_project_conv[0][0]']   \n",
      " lization)                                                                                        \n",
      "                                                                                                  \n",
      " block5d_drop (Dropout)         (None, 14, 14, 112)  0           ['block5d_project_bn[0][0]']     \n",
      "                                                                                                  \n",
      " block5d_add (Add)              (None, 14, 14, 112)  0           ['block5d_drop[0][0]',           \n",
      "                                                                  'block5c_add[0][0]']            \n",
      "                                                                                                  \n",
      " block5e_expand_conv (Conv2D)   (None, 14, 14, 672)  75264       ['block5d_add[0][0]']            \n",
      "                                                                                                  \n",
      " block5e_expand_bn (BatchNormal  (None, 14, 14, 672)  2688       ['block5e_expand_conv[0][0]']    \n",
      " ization)                                                                                         \n",
      "                                                                                                  \n",
      " block5e_expand_activation (Act  (None, 14, 14, 672)  0          ['block5e_expand_bn[0][0]']      \n",
      " ivation)                                                                                         \n",
      "                                                                                                  \n",
      " block5e_dwconv2 (DepthwiseConv  (None, 14, 14, 672)  6048       ['block5e_expand_activation[0][0]\n",
      " 2D)                                                             ']                               \n",
      "                                                                                                  \n",
      " block5e_bn (BatchNormalization  (None, 14, 14, 672)  2688       ['block5e_dwconv2[0][0]']        \n",
      " )                                                                                                \n",
      "                                                                                                  \n",
      " block5e_activation (Activation  (None, 14, 14, 672)  0          ['block5e_bn[0][0]']             \n",
      " )                                                                                                \n",
      "                                                                                                  \n",
      " block5e_se_squeeze (GlobalAver  (None, 672)         0           ['block5e_activation[0][0]']     \n",
      " agePooling2D)                                                                                    \n",
      "                                                                                                  \n",
      " block5e_se_reshape (Reshape)   (None, 1, 1, 672)    0           ['block5e_se_squeeze[0][0]']     \n",
      "                                                                                                  \n",
      " block5e_se_reduce (Conv2D)     (None, 1, 1, 28)     18844       ['block5e_se_reshape[0][0]']     \n",
      "                                                                                                  \n",
      " block5e_se_expand (Conv2D)     (None, 1, 1, 672)    19488       ['block5e_se_reduce[0][0]']      \n",
      "                                                                                                  \n",
      " block5e_se_excite (Multiply)   (None, 14, 14, 672)  0           ['block5e_activation[0][0]',     \n",
      "                                                                  'block5e_se_expand[0][0]']      \n",
      "                                                                                                  \n",
      " block5e_project_conv (Conv2D)  (None, 14, 14, 112)  75264       ['block5e_se_excite[0][0]']      \n",
      "                                                                                                  \n",
      " block5e_project_bn (BatchNorma  (None, 14, 14, 112)  448        ['block5e_project_conv[0][0]']   \n",
      " lization)                                                                                        \n",
      "                                                                                                  \n",
      " block5e_drop (Dropout)         (None, 14, 14, 112)  0           ['block5e_project_bn[0][0]']     \n",
      "                                                                                                  \n",
      " block5e_add (Add)              (None, 14, 14, 112)  0           ['block5e_drop[0][0]',           \n",
      "                                                                  'block5d_add[0][0]']            \n",
      "                                                                                                  \n",
      " block6a_expand_conv (Conv2D)   (None, 14, 14, 672)  75264       ['block5e_add[0][0]']            \n",
      "                                                                                                  \n",
      " block6a_expand_bn (BatchNormal  (None, 14, 14, 672)  2688       ['block6a_expand_conv[0][0]']    \n",
      " ization)                                                                                         \n",
      "                                                                                                  \n",
      " block6a_expand_activation (Act  (None, 14, 14, 672)  0          ['block6a_expand_bn[0][0]']      \n",
      " ivation)                                                                                         \n",
      "                                                                                                  \n",
      " block6a_dwconv2 (DepthwiseConv  (None, 7, 7, 672)   6048        ['block6a_expand_activation[0][0]\n",
      " 2D)                                                             ']                               \n",
      "                                                                                                  \n",
      " block6a_bn (BatchNormalization  (None, 7, 7, 672)   2688        ['block6a_dwconv2[0][0]']        \n",
      " )                                                                                                \n",
      "                                                                                                  \n",
      " block6a_activation (Activation  (None, 7, 7, 672)   0           ['block6a_bn[0][0]']             \n",
      " )                                                                                                \n",
      "                                                                                                  \n",
      " block6a_se_squeeze (GlobalAver  (None, 672)         0           ['block6a_activation[0][0]']     \n"
     ]
    },
    {
     "name": "stdout",
     "output_type": "stream",
     "text": [
      " agePooling2D)                                                                                    \n",
      "                                                                                                  \n",
      " block6a_se_reshape (Reshape)   (None, 1, 1, 672)    0           ['block6a_se_squeeze[0][0]']     \n",
      "                                                                                                  \n",
      " block6a_se_reduce (Conv2D)     (None, 1, 1, 28)     18844       ['block6a_se_reshape[0][0]']     \n",
      "                                                                                                  \n",
      " block6a_se_expand (Conv2D)     (None, 1, 1, 672)    19488       ['block6a_se_reduce[0][0]']      \n",
      "                                                                                                  \n",
      " block6a_se_excite (Multiply)   (None, 7, 7, 672)    0           ['block6a_activation[0][0]',     \n",
      "                                                                  'block6a_se_expand[0][0]']      \n",
      "                                                                                                  \n",
      " block6a_project_conv (Conv2D)  (None, 7, 7, 192)    129024      ['block6a_se_excite[0][0]']      \n",
      "                                                                                                  \n",
      " block6a_project_bn (BatchNorma  (None, 7, 7, 192)   768         ['block6a_project_conv[0][0]']   \n",
      " lization)                                                                                        \n",
      "                                                                                                  \n",
      " block6b_expand_conv (Conv2D)   (None, 7, 7, 1152)   221184      ['block6a_project_bn[0][0]']     \n",
      "                                                                                                  \n",
      " block6b_expand_bn (BatchNormal  (None, 7, 7, 1152)  4608        ['block6b_expand_conv[0][0]']    \n",
      " ization)                                                                                         \n",
      "                                                                                                  \n",
      " block6b_expand_activation (Act  (None, 7, 7, 1152)  0           ['block6b_expand_bn[0][0]']      \n",
      " ivation)                                                                                         \n",
      "                                                                                                  \n",
      " block6b_dwconv2 (DepthwiseConv  (None, 7, 7, 1152)  10368       ['block6b_expand_activation[0][0]\n",
      " 2D)                                                             ']                               \n",
      "                                                                                                  \n",
      " block6b_bn (BatchNormalization  (None, 7, 7, 1152)  4608        ['block6b_dwconv2[0][0]']        \n",
      " )                                                                                                \n",
      "                                                                                                  \n",
      " block6b_activation (Activation  (None, 7, 7, 1152)  0           ['block6b_bn[0][0]']             \n",
      " )                                                                                                \n",
      "                                                                                                  \n",
      " block6b_se_squeeze (GlobalAver  (None, 1152)        0           ['block6b_activation[0][0]']     \n",
      " agePooling2D)                                                                                    \n",
      "                                                                                                  \n",
      " block6b_se_reshape (Reshape)   (None, 1, 1, 1152)   0           ['block6b_se_squeeze[0][0]']     \n",
      "                                                                                                  \n",
      " block6b_se_reduce (Conv2D)     (None, 1, 1, 48)     55344       ['block6b_se_reshape[0][0]']     \n",
      "                                                                                                  \n",
      " block6b_se_expand (Conv2D)     (None, 1, 1, 1152)   56448       ['block6b_se_reduce[0][0]']      \n",
      "                                                                                                  \n",
      " block6b_se_excite (Multiply)   (None, 7, 7, 1152)   0           ['block6b_activation[0][0]',     \n",
      "                                                                  'block6b_se_expand[0][0]']      \n",
      "                                                                                                  \n",
      " block6b_project_conv (Conv2D)  (None, 7, 7, 192)    221184      ['block6b_se_excite[0][0]']      \n",
      "                                                                                                  \n",
      " block6b_project_bn (BatchNorma  (None, 7, 7, 192)   768         ['block6b_project_conv[0][0]']   \n",
      " lization)                                                                                        \n",
      "                                                                                                  \n",
      " block6b_drop (Dropout)         (None, 7, 7, 192)    0           ['block6b_project_bn[0][0]']     \n",
      "                                                                                                  \n",
      " block6b_add (Add)              (None, 7, 7, 192)    0           ['block6b_drop[0][0]',           \n",
      "                                                                  'block6a_project_bn[0][0]']     \n",
      "                                                                                                  \n",
      " block6c_expand_conv (Conv2D)   (None, 7, 7, 1152)   221184      ['block6b_add[0][0]']            \n",
      "                                                                                                  \n",
      " block6c_expand_bn (BatchNormal  (None, 7, 7, 1152)  4608        ['block6c_expand_conv[0][0]']    \n",
      " ization)                                                                                         \n",
      "                                                                                                  \n",
      " block6c_expand_activation (Act  (None, 7, 7, 1152)  0           ['block6c_expand_bn[0][0]']      \n",
      " ivation)                                                                                         \n",
      "                                                                                                  \n",
      " block6c_dwconv2 (DepthwiseConv  (None, 7, 7, 1152)  10368       ['block6c_expand_activation[0][0]\n",
      " 2D)                                                             ']                               \n",
      "                                                                                                  \n",
      " block6c_bn (BatchNormalization  (None, 7, 7, 1152)  4608        ['block6c_dwconv2[0][0]']        \n",
      " )                                                                                                \n",
      "                                                                                                  \n",
      " block6c_activation (Activation  (None, 7, 7, 1152)  0           ['block6c_bn[0][0]']             \n",
      " )                                                                                                \n",
      "                                                                                                  \n",
      " block6c_se_squeeze (GlobalAver  (None, 1152)        0           ['block6c_activation[0][0]']     \n",
      " agePooling2D)                                                                                    \n",
      "                                                                                                  \n",
      " block6c_se_reshape (Reshape)   (None, 1, 1, 1152)   0           ['block6c_se_squeeze[0][0]']     \n",
      "                                                                                                  \n",
      " block6c_se_reduce (Conv2D)     (None, 1, 1, 48)     55344       ['block6c_se_reshape[0][0]']     \n",
      "                                                                                                  \n",
      " block6c_se_expand (Conv2D)     (None, 1, 1, 1152)   56448       ['block6c_se_reduce[0][0]']      \n",
      "                                                                                                  \n",
      " block6c_se_excite (Multiply)   (None, 7, 7, 1152)   0           ['block6c_activation[0][0]',     \n",
      "                                                                  'block6c_se_expand[0][0]']      \n"
     ]
    },
    {
     "name": "stdout",
     "output_type": "stream",
     "text": [
      "                                                                                                  \n",
      " block6c_project_conv (Conv2D)  (None, 7, 7, 192)    221184      ['block6c_se_excite[0][0]']      \n",
      "                                                                                                  \n",
      " block6c_project_bn (BatchNorma  (None, 7, 7, 192)   768         ['block6c_project_conv[0][0]']   \n",
      " lization)                                                                                        \n",
      "                                                                                                  \n",
      " block6c_drop (Dropout)         (None, 7, 7, 192)    0           ['block6c_project_bn[0][0]']     \n",
      "                                                                                                  \n",
      " block6c_add (Add)              (None, 7, 7, 192)    0           ['block6c_drop[0][0]',           \n",
      "                                                                  'block6b_add[0][0]']            \n",
      "                                                                                                  \n",
      " block6d_expand_conv (Conv2D)   (None, 7, 7, 1152)   221184      ['block6c_add[0][0]']            \n",
      "                                                                                                  \n",
      " block6d_expand_bn (BatchNormal  (None, 7, 7, 1152)  4608        ['block6d_expand_conv[0][0]']    \n",
      " ization)                                                                                         \n",
      "                                                                                                  \n",
      " block6d_expand_activation (Act  (None, 7, 7, 1152)  0           ['block6d_expand_bn[0][0]']      \n",
      " ivation)                                                                                         \n",
      "                                                                                                  \n",
      " block6d_dwconv2 (DepthwiseConv  (None, 7, 7, 1152)  10368       ['block6d_expand_activation[0][0]\n",
      " 2D)                                                             ']                               \n",
      "                                                                                                  \n",
      " block6d_bn (BatchNormalization  (None, 7, 7, 1152)  4608        ['block6d_dwconv2[0][0]']        \n",
      " )                                                                                                \n",
      "                                                                                                  \n",
      " block6d_activation (Activation  (None, 7, 7, 1152)  0           ['block6d_bn[0][0]']             \n",
      " )                                                                                                \n",
      "                                                                                                  \n",
      " block6d_se_squeeze (GlobalAver  (None, 1152)        0           ['block6d_activation[0][0]']     \n",
      " agePooling2D)                                                                                    \n",
      "                                                                                                  \n",
      " block6d_se_reshape (Reshape)   (None, 1, 1, 1152)   0           ['block6d_se_squeeze[0][0]']     \n",
      "                                                                                                  \n",
      " block6d_se_reduce (Conv2D)     (None, 1, 1, 48)     55344       ['block6d_se_reshape[0][0]']     \n",
      "                                                                                                  \n",
      " block6d_se_expand (Conv2D)     (None, 1, 1, 1152)   56448       ['block6d_se_reduce[0][0]']      \n",
      "                                                                                                  \n",
      " block6d_se_excite (Multiply)   (None, 7, 7, 1152)   0           ['block6d_activation[0][0]',     \n",
      "                                                                  'block6d_se_expand[0][0]']      \n",
      "                                                                                                  \n",
      " block6d_project_conv (Conv2D)  (None, 7, 7, 192)    221184      ['block6d_se_excite[0][0]']      \n",
      "                                                                                                  \n",
      " block6d_project_bn (BatchNorma  (None, 7, 7, 192)   768         ['block6d_project_conv[0][0]']   \n",
      " lization)                                                                                        \n",
      "                                                                                                  \n",
      " block6d_drop (Dropout)         (None, 7, 7, 192)    0           ['block6d_project_bn[0][0]']     \n",
      "                                                                                                  \n",
      " block6d_add (Add)              (None, 7, 7, 192)    0           ['block6d_drop[0][0]',           \n",
      "                                                                  'block6c_add[0][0]']            \n",
      "                                                                                                  \n",
      " block6e_expand_conv (Conv2D)   (None, 7, 7, 1152)   221184      ['block6d_add[0][0]']            \n",
      "                                                                                                  \n",
      " block6e_expand_bn (BatchNormal  (None, 7, 7, 1152)  4608        ['block6e_expand_conv[0][0]']    \n",
      " ization)                                                                                         \n",
      "                                                                                                  \n",
      " block6e_expand_activation (Act  (None, 7, 7, 1152)  0           ['block6e_expand_bn[0][0]']      \n",
      " ivation)                                                                                         \n",
      "                                                                                                  \n",
      " block6e_dwconv2 (DepthwiseConv  (None, 7, 7, 1152)  10368       ['block6e_expand_activation[0][0]\n",
      " 2D)                                                             ']                               \n",
      "                                                                                                  \n",
      " block6e_bn (BatchNormalization  (None, 7, 7, 1152)  4608        ['block6e_dwconv2[0][0]']        \n",
      " )                                                                                                \n",
      "                                                                                                  \n",
      " block6e_activation (Activation  (None, 7, 7, 1152)  0           ['block6e_bn[0][0]']             \n",
      " )                                                                                                \n",
      "                                                                                                  \n",
      " block6e_se_squeeze (GlobalAver  (None, 1152)        0           ['block6e_activation[0][0]']     \n",
      " agePooling2D)                                                                                    \n",
      "                                                                                                  \n",
      " block6e_se_reshape (Reshape)   (None, 1, 1, 1152)   0           ['block6e_se_squeeze[0][0]']     \n",
      "                                                                                                  \n",
      " block6e_se_reduce (Conv2D)     (None, 1, 1, 48)     55344       ['block6e_se_reshape[0][0]']     \n",
      "                                                                                                  \n",
      " block6e_se_expand (Conv2D)     (None, 1, 1, 1152)   56448       ['block6e_se_reduce[0][0]']      \n",
      "                                                                                                  \n",
      " block6e_se_excite (Multiply)   (None, 7, 7, 1152)   0           ['block6e_activation[0][0]',     \n",
      "                                                                  'block6e_se_expand[0][0]']      \n",
      "                                                                                                  \n",
      " block6e_project_conv (Conv2D)  (None, 7, 7, 192)    221184      ['block6e_se_excite[0][0]']      \n",
      "                                                                                                  \n",
      " block6e_project_bn (BatchNorma  (None, 7, 7, 192)   768         ['block6e_project_conv[0][0]']   \n",
      " lization)                                                                                        \n"
     ]
    },
    {
     "name": "stdout",
     "output_type": "stream",
     "text": [
      "                                                                                                  \n",
      " block6e_drop (Dropout)         (None, 7, 7, 192)    0           ['block6e_project_bn[0][0]']     \n",
      "                                                                                                  \n",
      " block6e_add (Add)              (None, 7, 7, 192)    0           ['block6e_drop[0][0]',           \n",
      "                                                                  'block6d_add[0][0]']            \n",
      "                                                                                                  \n",
      " block6f_expand_conv (Conv2D)   (None, 7, 7, 1152)   221184      ['block6e_add[0][0]']            \n",
      "                                                                                                  \n",
      " block6f_expand_bn (BatchNormal  (None, 7, 7, 1152)  4608        ['block6f_expand_conv[0][0]']    \n",
      " ization)                                                                                         \n",
      "                                                                                                  \n",
      " block6f_expand_activation (Act  (None, 7, 7, 1152)  0           ['block6f_expand_bn[0][0]']      \n",
      " ivation)                                                                                         \n",
      "                                                                                                  \n",
      " block6f_dwconv2 (DepthwiseConv  (None, 7, 7, 1152)  10368       ['block6f_expand_activation[0][0]\n",
      " 2D)                                                             ']                               \n",
      "                                                                                                  \n",
      " block6f_bn (BatchNormalization  (None, 7, 7, 1152)  4608        ['block6f_dwconv2[0][0]']        \n",
      " )                                                                                                \n",
      "                                                                                                  \n",
      " block6f_activation (Activation  (None, 7, 7, 1152)  0           ['block6f_bn[0][0]']             \n",
      " )                                                                                                \n",
      "                                                                                                  \n",
      " block6f_se_squeeze (GlobalAver  (None, 1152)        0           ['block6f_activation[0][0]']     \n",
      " agePooling2D)                                                                                    \n",
      "                                                                                                  \n",
      " block6f_se_reshape (Reshape)   (None, 1, 1, 1152)   0           ['block6f_se_squeeze[0][0]']     \n",
      "                                                                                                  \n",
      " block6f_se_reduce (Conv2D)     (None, 1, 1, 48)     55344       ['block6f_se_reshape[0][0]']     \n",
      "                                                                                                  \n",
      " block6f_se_expand (Conv2D)     (None, 1, 1, 1152)   56448       ['block6f_se_reduce[0][0]']      \n",
      "                                                                                                  \n",
      " block6f_se_excite (Multiply)   (None, 7, 7, 1152)   0           ['block6f_activation[0][0]',     \n",
      "                                                                  'block6f_se_expand[0][0]']      \n",
      "                                                                                                  \n",
      " block6f_project_conv (Conv2D)  (None, 7, 7, 192)    221184      ['block6f_se_excite[0][0]']      \n",
      "                                                                                                  \n",
      " block6f_project_bn (BatchNorma  (None, 7, 7, 192)   768         ['block6f_project_conv[0][0]']   \n",
      " lization)                                                                                        \n",
      "                                                                                                  \n",
      " block6f_drop (Dropout)         (None, 7, 7, 192)    0           ['block6f_project_bn[0][0]']     \n",
      "                                                                                                  \n",
      " block6f_add (Add)              (None, 7, 7, 192)    0           ['block6f_drop[0][0]',           \n",
      "                                                                  'block6e_add[0][0]']            \n",
      "                                                                                                  \n",
      " block6g_expand_conv (Conv2D)   (None, 7, 7, 1152)   221184      ['block6f_add[0][0]']            \n",
      "                                                                                                  \n",
      " block6g_expand_bn (BatchNormal  (None, 7, 7, 1152)  4608        ['block6g_expand_conv[0][0]']    \n",
      " ization)                                                                                         \n",
      "                                                                                                  \n",
      " block6g_expand_activation (Act  (None, 7, 7, 1152)  0           ['block6g_expand_bn[0][0]']      \n",
      " ivation)                                                                                         \n",
      "                                                                                                  \n",
      " block6g_dwconv2 (DepthwiseConv  (None, 7, 7, 1152)  10368       ['block6g_expand_activation[0][0]\n",
      " 2D)                                                             ']                               \n",
      "                                                                                                  \n",
      " block6g_bn (BatchNormalization  (None, 7, 7, 1152)  4608        ['block6g_dwconv2[0][0]']        \n",
      " )                                                                                                \n",
      "                                                                                                  \n",
      " block6g_activation (Activation  (None, 7, 7, 1152)  0           ['block6g_bn[0][0]']             \n",
      " )                                                                                                \n",
      "                                                                                                  \n",
      " block6g_se_squeeze (GlobalAver  (None, 1152)        0           ['block6g_activation[0][0]']     \n",
      " agePooling2D)                                                                                    \n",
      "                                                                                                  \n",
      " block6g_se_reshape (Reshape)   (None, 1, 1, 1152)   0           ['block6g_se_squeeze[0][0]']     \n",
      "                                                                                                  \n",
      " block6g_se_reduce (Conv2D)     (None, 1, 1, 48)     55344       ['block6g_se_reshape[0][0]']     \n",
      "                                                                                                  \n",
      " block6g_se_expand (Conv2D)     (None, 1, 1, 1152)   56448       ['block6g_se_reduce[0][0]']      \n",
      "                                                                                                  \n",
      " block6g_se_excite (Multiply)   (None, 7, 7, 1152)   0           ['block6g_activation[0][0]',     \n",
      "                                                                  'block6g_se_expand[0][0]']      \n",
      "                                                                                                  \n",
      " block6g_project_conv (Conv2D)  (None, 7, 7, 192)    221184      ['block6g_se_excite[0][0]']      \n",
      "                                                                                                  \n",
      " block6g_project_bn (BatchNorma  (None, 7, 7, 192)   768         ['block6g_project_conv[0][0]']   \n",
      " lization)                                                                                        \n",
      "                                                                                                  \n",
      " block6g_drop (Dropout)         (None, 7, 7, 192)    0           ['block6g_project_bn[0][0]']     \n",
      "                                                                                                  \n",
      " block6g_add (Add)              (None, 7, 7, 192)    0           ['block6g_drop[0][0]',           \n",
      "                                                                  'block6f_add[0][0]']            \n"
     ]
    },
    {
     "name": "stdout",
     "output_type": "stream",
     "text": [
      "                                                                                                  \n",
      " block6h_expand_conv (Conv2D)   (None, 7, 7, 1152)   221184      ['block6g_add[0][0]']            \n",
      "                                                                                                  \n",
      " block6h_expand_bn (BatchNormal  (None, 7, 7, 1152)  4608        ['block6h_expand_conv[0][0]']    \n",
      " ization)                                                                                         \n",
      "                                                                                                  \n",
      " block6h_expand_activation (Act  (None, 7, 7, 1152)  0           ['block6h_expand_bn[0][0]']      \n",
      " ivation)                                                                                         \n",
      "                                                                                                  \n",
      " block6h_dwconv2 (DepthwiseConv  (None, 7, 7, 1152)  10368       ['block6h_expand_activation[0][0]\n",
      " 2D)                                                             ']                               \n",
      "                                                                                                  \n",
      " block6h_bn (BatchNormalization  (None, 7, 7, 1152)  4608        ['block6h_dwconv2[0][0]']        \n",
      " )                                                                                                \n",
      "                                                                                                  \n",
      " block6h_activation (Activation  (None, 7, 7, 1152)  0           ['block6h_bn[0][0]']             \n",
      " )                                                                                                \n",
      "                                                                                                  \n",
      " block6h_se_squeeze (GlobalAver  (None, 1152)        0           ['block6h_activation[0][0]']     \n",
      " agePooling2D)                                                                                    \n",
      "                                                                                                  \n",
      " block6h_se_reshape (Reshape)   (None, 1, 1, 1152)   0           ['block6h_se_squeeze[0][0]']     \n",
      "                                                                                                  \n",
      " block6h_se_reduce (Conv2D)     (None, 1, 1, 48)     55344       ['block6h_se_reshape[0][0]']     \n",
      "                                                                                                  \n",
      " block6h_se_expand (Conv2D)     (None, 1, 1, 1152)   56448       ['block6h_se_reduce[0][0]']      \n",
      "                                                                                                  \n",
      " block6h_se_excite (Multiply)   (None, 7, 7, 1152)   0           ['block6h_activation[0][0]',     \n",
      "                                                                  'block6h_se_expand[0][0]']      \n",
      "                                                                                                  \n",
      " block6h_project_conv (Conv2D)  (None, 7, 7, 192)    221184      ['block6h_se_excite[0][0]']      \n",
      "                                                                                                  \n",
      " block6h_project_bn (BatchNorma  (None, 7, 7, 192)   768         ['block6h_project_conv[0][0]']   \n",
      " lization)                                                                                        \n",
      "                                                                                                  \n",
      " block6h_drop (Dropout)         (None, 7, 7, 192)    0           ['block6h_project_bn[0][0]']     \n",
      "                                                                                                  \n",
      " block6h_add (Add)              (None, 7, 7, 192)    0           ['block6h_drop[0][0]',           \n",
      "                                                                  'block6g_add[0][0]']            \n",
      "                                                                                                  \n",
      " top_conv (Conv2D)              (None, 7, 7, 1280)   245760      ['block6h_add[0][0]']            \n",
      "                                                                                                  \n",
      " top_bn (BatchNormalization)    (None, 7, 7, 1280)   5120        ['top_conv[0][0]']               \n",
      "                                                                                                  \n",
      " top_activation (Activation)    (None, 7, 7, 1280)   0           ['top_bn[0][0]']                 \n",
      "                                                                                                  \n",
      "==================================================================================================\n",
      "Total params: 5,919,312\n",
      "Trainable params: 5,858,704\n",
      "Non-trainable params: 60,608\n",
      "__________________________________________________________________________________________________\n"
     ]
    }
   ],
   "source": [
    "if(mode != 'Baseline'):\n",
    "    supernet.summary()"
   ]
  },
  {
   "cell_type": "code",
   "execution_count": 28,
   "metadata": {
    "pycharm": {
     "name": "#%%\n"
    }
   },
   "outputs": [
    {
     "name": "stdout",
     "output_type": "stream",
     "text": [
      "Model: \"sequential\"\n",
      "_________________________________________________________________\n",
      " Layer (type)                Output Shape              Param #   \n",
      "=================================================================\n",
      " resizing (Resizing)         (None, 224, 224, 3)       0         \n",
      "                                                                 \n",
      " efficientnetv2-b0 (Function  (None, 7, 7, 1280)       5919312   \n",
      " al)                                                             \n",
      "                                                                 \n",
      " global_average_pooling2d (G  (None, 1280)             0         \n",
      " lobalAveragePooling2D)                                          \n",
      "                                                                 \n",
      " dense (Dense)               (None, 128)               163968    \n",
      "                                                                 \n",
      " dense_1 (Dense)             (None, 8)                 1032      \n",
      "                                                                 \n",
      "=================================================================\n",
      "Total params: 6,084,312\n",
      "Trainable params: 6,023,704\n",
      "Non-trainable params: 60,608\n",
      "_________________________________________________________________\n"
     ]
    }
   ],
   "source": [
    "# Show model structure\n",
    "model.summary()"
   ]
  },
  {
   "cell_type": "code",
   "execution_count": 29,
   "metadata": {
    "pycharm": {
     "name": "#%%\n"
    }
   },
   "outputs": [],
   "source": [
    "# Compile the model\n",
    "model.compile(\n",
    "    optimizer=optimizer,\n",
    "    loss=loss,\n",
    "    metrics=metrics\n",
    ")"
   ]
  },
  {
   "cell_type": "markdown",
   "metadata": {
    "id": "Ok9qde99qbhC",
    "pycharm": {
     "name": "#%% md\n"
    }
   },
   "source": [
    "# Checkpoint and Early stopping settings\n",
    "Early stopping options can be activated to limit model overfitting.\n",
    "\n",
    "There is possibility to save checkpoints during the training, in order to keep track of the performance and to get more choices of the final model.\n"
   ]
  },
  {
   "cell_type": "code",
   "execution_count": 30,
   "metadata": {
    "pycharm": {
     "name": "#%%\n"
    }
   },
   "outputs": [
    {
     "data": {
      "text/plain": [
       "'C:\\\\Users\\\\zheng\\\\Documents\\\\Uni\\\\Magistrale\\\\ANNDL\\\\22-23\\\\Homework1\\\\Env'"
      ]
     },
     "execution_count": 30,
     "metadata": {},
     "output_type": "execute_result"
    }
   ],
   "source": [
    "os.getcwd()"
   ]
  },
  {
   "cell_type": "code",
   "execution_count": 31,
   "metadata": {
    "pycharm": {
     "name": "#%%\n"
    }
   },
   "outputs": [],
   "source": [
    "from datetime import datetime\n",
    "def create_folders_and_callbacks(model_name):\n",
    "    \n",
    "    exps_dir = os.path.join('experiments')\n",
    "    if not os.path.exists(exps_dir):\n",
    "        os.makedirs(exps_dir)\n",
    "\n",
    "    now = datetime.now().strftime('%b%d_%H-%M-%S')\n",
    "    print(now)\n",
    "\n",
    "    exp_dir = os.path.join(exps_dir, model_name + '_' + str(now))\n",
    "    if not os.path.exists(exp_dir):\n",
    "        os.makedirs(exp_dir)\n",
    "\n",
    "    callbacks = []\n",
    "\n",
    "    # Model checkpoint\n",
    "    ckpt_dir = os.path.join(exp_dir, 'base_ckpts')\n",
    "    if not os.path.exists(ckpt_dir):\n",
    "        os.makedirs(ckpt_dir)\n",
    "\n",
    "    ckpt_callback = tf.keras.callbacks.ModelCheckpoint(filepath=os.path.join(ckpt_dir, 'cp_{epoch:02d}.ckpt'),\n",
    "                                                     save_weights_only=False, # True to save only weights\n",
    "                                                     save_best_only=True,# True to save only the best epoch\n",
    "                                                     monitor='val_accuracy')\n",
    "    callbacks.append(ckpt_callback)\n",
    "\n",
    "    # Visualize Learning on Tensorboard\n",
    "    tb_dir = os.path.join(exp_dir, 'tb_logs')\n",
    "    if not os.path.exists(tb_dir):\n",
    "        os.makedirs(tb_dir)\n",
    "\n",
    "    # By default shows losses and metrics for both training and validation\n",
    "    tb_callback = tf.keras.callbacks.TensorBoard(log_dir=tb_dir,\n",
    "                                               profile_batch=0,\n",
    "                                               histogram_freq=1)  # if > 0 (epochs) shows weights histograms\n",
    "    callbacks.append(tb_callback)\n",
    "\n",
    "    \n",
    "\n",
    "    return callbacks, now"
   ]
  },
  {
   "cell_type": "code",
   "execution_count": 32,
   "metadata": {
    "pycharm": {
     "name": "#%%\n"
    }
   },
   "outputs": [
    {
     "name": "stdout",
     "output_type": "stream",
     "text": [
      "Nov22_23-39-14\n"
     ]
    }
   ],
   "source": [
    "callbacks, date = create_folders_and_callbacks(\"EfficientnetV2B0\")"
   ]
  },
  {
   "cell_type": "code",
   "execution_count": 33,
   "metadata": {
    "pycharm": {
     "name": "#%%\n"
    }
   },
   "outputs": [
    {
     "name": "stdout",
     "output_type": "stream",
     "text": [
      "EfficientnetV2_Nov22_23-39-14\n"
     ]
    }
   ],
   "source": [
    "foldername = mode + '_' + str(date)\n",
    "print(foldername)"
   ]
  },
  {
   "cell_type": "code",
   "execution_count": 35,
   "metadata": {
    "scrolled": true,
    "pycharm": {
     "name": "#%%\n"
    }
   },
   "outputs": [
    {
     "name": "stdout",
     "output_type": "stream",
     "text": [
      "Epoch 1/200\n",
      "45/45 [==============================] - 22s 263ms/step - loss: 2.0969 - accuracy: 0.1276 - val_loss: 2.0985 - val_accuracy: 0.1403\n",
      "Epoch 2/200\n",
      "45/45 [==============================] - 10s 217ms/step - loss: 2.0717 - accuracy: 0.1605 - val_loss: 2.0582 - val_accuracy: 0.1823\n",
      "Epoch 3/200\n",
      "45/45 [==============================] - 10s 224ms/step - loss: 2.0536 - accuracy: 0.1785 - val_loss: 2.0378 - val_accuracy: 0.1711\n",
      "Epoch 4/200\n",
      "45/45 [==============================] - 10s 222ms/step - loss: 2.0328 - accuracy: 0.1863 - val_loss: 2.0183 - val_accuracy: 0.1935\n",
      "Epoch 5/200\n",
      "45/45 [==============================] - 10s 221ms/step - loss: 2.0109 - accuracy: 0.2131 - val_loss: 1.9685 - val_accuracy: 0.2553\n",
      "Epoch 6/200\n",
      "45/45 [==============================] - 10s 218ms/step - loss: 1.9954 - accuracy: 0.2149 - val_loss: 1.9468 - val_accuracy: 0.2693\n",
      "Epoch 7/200\n",
      "45/45 [==============================] - 10s 226ms/step - loss: 1.9810 - accuracy: 0.2329 - val_loss: 1.9062 - val_accuracy: 0.2875\n",
      "Epoch 8/200\n",
      "45/45 [==============================] - 10s 224ms/step - loss: 1.9599 - accuracy: 0.2464 - val_loss: 1.8881 - val_accuracy: 0.3212\n",
      "Epoch 9/200\n",
      "45/45 [==============================] - 10s 220ms/step - loss: 1.9416 - accuracy: 0.2453 - val_loss: 1.8318 - val_accuracy: 0.3520\n",
      "Epoch 10/200\n",
      "45/45 [==============================] - 10s 218ms/step - loss: 1.9184 - accuracy: 0.2708 - val_loss: 1.7798 - val_accuracy: 0.3703\n",
      "Epoch 11/200\n",
      "45/45 [==============================] - 10s 215ms/step - loss: 1.9008 - accuracy: 0.2715 - val_loss: 1.7439 - val_accuracy: 0.4067\n",
      "Epoch 12/200\n",
      "45/45 [==============================] - 10s 216ms/step - loss: 1.8827 - accuracy: 0.2796 - val_loss: 1.7239 - val_accuracy: 0.3955\n",
      "Epoch 13/200\n",
      "45/45 [==============================] - 10s 217ms/step - loss: 1.8594 - accuracy: 0.3005 - val_loss: 1.6795 - val_accuracy: 0.4039\n",
      "Epoch 14/200\n",
      "45/45 [==============================] - 10s 216ms/step - loss: 1.8616 - accuracy: 0.2930 - val_loss: 1.6135 - val_accuracy: 0.4530\n",
      "Epoch 15/200\n",
      "45/45 [==============================] - 10s 216ms/step - loss: 1.8327 - accuracy: 0.3043 - val_loss: 1.5361 - val_accuracy: 0.4769\n",
      "Epoch 16/200\n",
      "45/45 [==============================] - 10s 217ms/step - loss: 1.8212 - accuracy: 0.3086 - val_loss: 1.5179 - val_accuracy: 0.4853\n",
      "Epoch 17/200\n",
      "45/45 [==============================] - 10s 216ms/step - loss: 1.8044 - accuracy: 0.3199 - val_loss: 1.4756 - val_accuracy: 0.4881\n",
      "Epoch 18/200\n",
      "45/45 [==============================] - 10s 217ms/step - loss: 1.7911 - accuracy: 0.3146 - val_loss: 1.3863 - val_accuracy: 0.5203\n",
      "Epoch 19/200\n",
      "45/45 [==============================] - 10s 217ms/step - loss: 1.7781 - accuracy: 0.3273 - val_loss: 1.3615 - val_accuracy: 0.5203\n",
      "Epoch 20/200\n",
      "45/45 [==============================] - 10s 228ms/step - loss: 1.7658 - accuracy: 0.3238 - val_loss: 1.3419 - val_accuracy: 0.5302\n",
      "Epoch 21/200\n",
      "45/45 [==============================] - 10s 219ms/step - loss: 1.7520 - accuracy: 0.3365 - val_loss: 1.2670 - val_accuracy: 0.5288\n",
      "Epoch 22/200\n",
      "45/45 [==============================] - 10s 217ms/step - loss: 1.7255 - accuracy: 0.3538 - val_loss: 1.2723 - val_accuracy: 0.5484\n",
      "Epoch 23/200\n",
      "45/45 [==============================] - 10s 215ms/step - loss: 1.7241 - accuracy: 0.3411 - val_loss: 1.2104 - val_accuracy: 0.5554\n",
      "Epoch 24/200\n",
      "45/45 [==============================] - 10s 216ms/step - loss: 1.6985 - accuracy: 0.3510 - val_loss: 1.1706 - val_accuracy: 0.5736\n",
      "Epoch 25/200\n",
      "45/45 [==============================] - 10s 216ms/step - loss: 1.7084 - accuracy: 0.3634 - val_loss: 1.1393 - val_accuracy: 0.5849\n",
      "Epoch 26/200\n",
      "45/45 [==============================] - 10s 225ms/step - loss: 1.6947 - accuracy: 0.3616 - val_loss: 1.1408 - val_accuracy: 0.5863\n",
      "Epoch 27/200\n",
      "45/45 [==============================] - 10s 216ms/step - loss: 1.6926 - accuracy: 0.3595 - val_loss: 1.1087 - val_accuracy: 0.5792\n",
      "Epoch 28/200\n",
      "45/45 [==============================] - 10s 216ms/step - loss: 1.6841 - accuracy: 0.3644 - val_loss: 1.0677 - val_accuracy: 0.6115\n",
      "Epoch 29/200\n",
      "45/45 [==============================] - 10s 216ms/step - loss: 1.6637 - accuracy: 0.3662 - val_loss: 1.0540 - val_accuracy: 0.6185\n",
      "Epoch 30/200\n",
      "45/45 [==============================] - 10s 216ms/step - loss: 1.6584 - accuracy: 0.3708 - val_loss: 1.0376 - val_accuracy: 0.6269\n",
      "Epoch 31/200\n",
      "45/45 [==============================] - 10s 216ms/step - loss: 1.6709 - accuracy: 0.3641 - val_loss: 1.0402 - val_accuracy: 0.6185\n",
      "Epoch 32/200\n",
      "45/45 [==============================] - 10s 216ms/step - loss: 1.6558 - accuracy: 0.3736 - val_loss: 1.0161 - val_accuracy: 0.6129\n",
      "Epoch 33/200\n",
      "45/45 [==============================] - 10s 216ms/step - loss: 1.6585 - accuracy: 0.3701 - val_loss: 1.0069 - val_accuracy: 0.6185\n",
      "Epoch 34/200\n",
      "45/45 [==============================] - 10s 217ms/step - loss: 1.6391 - accuracy: 0.3832 - val_loss: 0.9477 - val_accuracy: 0.6339\n",
      "Epoch 35/200\n",
      "45/45 [==============================] - 10s 220ms/step - loss: 1.6286 - accuracy: 0.3934 - val_loss: 0.9392 - val_accuracy: 0.6550\n",
      "Epoch 36/200\n",
      "45/45 [==============================] - 10s 218ms/step - loss: 1.6577 - accuracy: 0.3747 - val_loss: 0.9282 - val_accuracy: 0.6564\n",
      "Epoch 37/200\n",
      "45/45 [==============================] - 10s 217ms/step - loss: 1.6226 - accuracy: 0.3945 - val_loss: 0.9381 - val_accuracy: 0.6704\n",
      "Epoch 38/200\n",
      "45/45 [==============================] - 10s 216ms/step - loss: 1.6053 - accuracy: 0.4065 - val_loss: 0.9099 - val_accuracy: 0.6648\n",
      "Epoch 39/200\n",
      "45/45 [==============================] - 10s 215ms/step - loss: 1.6217 - accuracy: 0.3786 - val_loss: 0.9015 - val_accuracy: 0.6662\n",
      "Epoch 40/200\n",
      "45/45 [==============================] - 10s 217ms/step - loss: 1.6096 - accuracy: 0.3917 - val_loss: 0.8928 - val_accuracy: 0.6662\n",
      "Epoch 41/200\n",
      "45/45 [==============================] - 10s 217ms/step - loss: 1.6249 - accuracy: 0.3878 - val_loss: 0.8644 - val_accuracy: 0.6718\n",
      "Epoch 42/200\n",
      "45/45 [==============================] - 10s 216ms/step - loss: 1.6073 - accuracy: 0.3973 - val_loss: 0.8545 - val_accuracy: 0.6858\n",
      "Epoch 43/200\n",
      "45/45 [==============================] - 10s 216ms/step - loss: 1.6016 - accuracy: 0.3917 - val_loss: 0.8510 - val_accuracy: 0.6858\n",
      "Epoch 44/200\n",
      "45/45 [==============================] - 10s 217ms/step - loss: 1.5753 - accuracy: 0.4129 - val_loss: 0.8545 - val_accuracy: 0.6886\n",
      "Epoch 45/200\n",
      "45/45 [==============================] - 10s 216ms/step - loss: 1.5904 - accuracy: 0.4069 - val_loss: 0.8291 - val_accuracy: 0.6985\n",
      "Epoch 46/200\n",
      "45/45 [==============================] - 10s 216ms/step - loss: 1.5711 - accuracy: 0.4023 - val_loss: 0.8286 - val_accuracy: 0.6999\n",
      "Epoch 47/200\n",
      "45/45 [==============================] - 10s 216ms/step - loss: 1.5630 - accuracy: 0.4100 - val_loss: 0.7955 - val_accuracy: 0.7125\n",
      "Epoch 48/200\n",
      "45/45 [==============================] - 10s 215ms/step - loss: 1.5539 - accuracy: 0.4104 - val_loss: 0.8196 - val_accuracy: 0.6985\n",
      "Epoch 49/200\n",
      "45/45 [==============================] - 10s 216ms/step - loss: 1.5915 - accuracy: 0.3959 - val_loss: 0.7893 - val_accuracy: 0.7195\n",
      "Epoch 50/200\n",
      "45/45 [==============================] - 10s 216ms/step - loss: 1.5943 - accuracy: 0.3959 - val_loss: 0.7959 - val_accuracy: 0.7181\n",
      "Epoch 51/200\n",
      "45/45 [==============================] - 10s 216ms/step - loss: 1.5537 - accuracy: 0.4104 - val_loss: 0.7668 - val_accuracy: 0.7069\n",
      "Epoch 52/200\n",
      "45/45 [==============================] - 10s 219ms/step - loss: 1.5546 - accuracy: 0.4125 - val_loss: 0.7691 - val_accuracy: 0.7181\n",
      "Epoch 53/200\n",
      "45/45 [==============================] - 10s 217ms/step - loss: 1.5495 - accuracy: 0.4136 - val_loss: 0.7916 - val_accuracy: 0.7125\n",
      "Epoch 54/200\n",
      "45/45 [==============================] - 10s 216ms/step - loss: 1.5540 - accuracy: 0.4157 - val_loss: 0.7665 - val_accuracy: 0.7279\n",
      "Epoch 55/200\n",
      "45/45 [==============================] - 10s 217ms/step - loss: 1.5588 - accuracy: 0.4136 - val_loss: 0.7557 - val_accuracy: 0.7223\n",
      "Epoch 56/200\n",
      "45/45 [==============================] - 10s 216ms/step - loss: 1.5432 - accuracy: 0.4111 - val_loss: 0.7384 - val_accuracy: 0.7293\n",
      "Epoch 57/200\n",
      "45/45 [==============================] - 10s 216ms/step - loss: 1.5427 - accuracy: 0.4221 - val_loss: 0.7764 - val_accuracy: 0.7223\n",
      "Epoch 58/200\n",
      "45/45 [==============================] - 10s 216ms/step - loss: 1.5337 - accuracy: 0.4203 - val_loss: 0.7311 - val_accuracy: 0.7391\n",
      "Epoch 59/200\n",
      "45/45 [==============================] - 10s 216ms/step - loss: 1.5401 - accuracy: 0.4206 - val_loss: 0.7384 - val_accuracy: 0.7349\n",
      "Epoch 60/200\n",
      "45/45 [==============================] - 10s 216ms/step - loss: 1.5184 - accuracy: 0.4305 - val_loss: 0.7214 - val_accuracy: 0.7391\n",
      "Epoch 61/200\n",
      "45/45 [==============================] - 10s 216ms/step - loss: 1.5354 - accuracy: 0.4288 - val_loss: 0.6944 - val_accuracy: 0.7574\n",
      "Epoch 62/200\n",
      "45/45 [==============================] - 10s 216ms/step - loss: 1.5241 - accuracy: 0.4323 - val_loss: 0.6998 - val_accuracy: 0.7546\n",
      "Epoch 63/200\n",
      "45/45 [==============================] - 10s 216ms/step - loss: 1.5126 - accuracy: 0.4348 - val_loss: 0.7108 - val_accuracy: 0.7447\n",
      "Epoch 64/200\n",
      "45/45 [==============================] - 10s 215ms/step - loss: 1.4953 - accuracy: 0.4383 - val_loss: 0.7037 - val_accuracy: 0.7658\n",
      "Epoch 65/200\n",
      "45/45 [==============================] - 10s 216ms/step - loss: 1.5312 - accuracy: 0.4221 - val_loss: 0.6927 - val_accuracy: 0.7560\n",
      "Epoch 66/200\n",
      "45/45 [==============================] - 10s 216ms/step - loss: 1.4936 - accuracy: 0.4429 - val_loss: 0.6802 - val_accuracy: 0.7644\n",
      "Epoch 67/200\n",
      "45/45 [==============================] - 10s 217ms/step - loss: 1.4791 - accuracy: 0.4475 - val_loss: 0.6609 - val_accuracy: 0.7798\n",
      "Epoch 68/200\n",
      "45/45 [==============================] - 10s 215ms/step - loss: 1.5138 - accuracy: 0.4327 - val_loss: 0.6687 - val_accuracy: 0.7700\n",
      "Epoch 69/200\n",
      "45/45 [==============================] - 10s 216ms/step - loss: 1.4898 - accuracy: 0.4433 - val_loss: 0.6707 - val_accuracy: 0.7658\n",
      "Epoch 70/200\n",
      "45/45 [==============================] - 10s 217ms/step - loss: 1.4914 - accuracy: 0.4549 - val_loss: 0.6704 - val_accuracy: 0.7686\n",
      "Epoch 71/200\n",
      "45/45 [==============================] - 10s 216ms/step - loss: 1.4815 - accuracy: 0.4422 - val_loss: 0.6861 - val_accuracy: 0.7560\n",
      "Epoch 72/200\n",
      "45/45 [==============================] - 10s 217ms/step - loss: 1.4774 - accuracy: 0.4482 - val_loss: 0.6536 - val_accuracy: 0.7686\n",
      "Epoch 73/200\n",
      "45/45 [==============================] - 10s 216ms/step - loss: 1.4733 - accuracy: 0.4397 - val_loss: 0.6496 - val_accuracy: 0.7728\n",
      "Epoch 74/200\n",
      "45/45 [==============================] - 10s 216ms/step - loss: 1.4641 - accuracy: 0.4440 - val_loss: 0.6353 - val_accuracy: 0.7840\n",
      "Epoch 75/200\n",
      "45/45 [==============================] - 10s 215ms/step - loss: 1.4798 - accuracy: 0.4489 - val_loss: 0.6558 - val_accuracy: 0.7784\n",
      "Epoch 76/200\n",
      "45/45 [==============================] - 10s 217ms/step - loss: 1.4896 - accuracy: 0.4457 - val_loss: 0.6469 - val_accuracy: 0.7854\n",
      "Epoch 77/200\n",
      "45/45 [==============================] - 10s 217ms/step - loss: 1.4466 - accuracy: 0.4723 - val_loss: 0.6237 - val_accuracy: 0.7812\n",
      "Epoch 78/200\n",
      "45/45 [==============================] - 10s 216ms/step - loss: 1.4549 - accuracy: 0.4581 - val_loss: 0.7274 - val_accuracy: 0.7588\n",
      "Epoch 79/200\n",
      "45/45 [==============================] - 10s 219ms/step - loss: 1.4612 - accuracy: 0.4634 - val_loss: 0.6225 - val_accuracy: 0.7826\n",
      "Epoch 80/200\n",
      "45/45 [==============================] - 10s 216ms/step - loss: 1.4601 - accuracy: 0.4560 - val_loss: 0.6344 - val_accuracy: 0.7812\n",
      "Epoch 81/200\n",
      "45/45 [==============================] - 10s 216ms/step - loss: 1.4445 - accuracy: 0.4641 - val_loss: 0.6025 - val_accuracy: 0.7966\n",
      "Epoch 82/200\n",
      "45/45 [==============================] - 10s 216ms/step - loss: 1.4364 - accuracy: 0.4624 - val_loss: 0.5964 - val_accuracy: 0.7854\n",
      "Epoch 83/200\n",
      "45/45 [==============================] - 10s 217ms/step - loss: 1.4268 - accuracy: 0.4698 - val_loss: 0.5826 - val_accuracy: 0.7952\n",
      "Epoch 84/200\n",
      "45/45 [==============================] - 10s 216ms/step - loss: 1.4362 - accuracy: 0.4744 - val_loss: 0.5988 - val_accuracy: 0.7910\n",
      "Epoch 85/200\n",
      "45/45 [==============================] - 10s 216ms/step - loss: 1.4386 - accuracy: 0.4571 - val_loss: 0.6059 - val_accuracy: 0.7826\n",
      "Epoch 86/200\n",
      "45/45 [==============================] - 10s 216ms/step - loss: 1.4454 - accuracy: 0.4609 - val_loss: 0.6437 - val_accuracy: 0.7742\n",
      "Epoch 87/200\n",
      "45/45 [==============================] - 10s 216ms/step - loss: 1.4082 - accuracy: 0.4797 - val_loss: 0.5684 - val_accuracy: 0.8079\n",
      "Epoch 88/200\n",
      "45/45 [==============================] - 10s 216ms/step - loss: 1.3922 - accuracy: 0.4892 - val_loss: 0.5989 - val_accuracy: 0.7868\n",
      "Epoch 89/200\n",
      "45/45 [==============================] - 10s 217ms/step - loss: 1.4102 - accuracy: 0.4864 - val_loss: 0.5760 - val_accuracy: 0.8008\n",
      "Epoch 90/200\n",
      "45/45 [==============================] - 10s 222ms/step - loss: 1.4280 - accuracy: 0.4680 - val_loss: 0.6601 - val_accuracy: 0.7546\n",
      "Epoch 91/200\n",
      "45/45 [==============================] - 10s 216ms/step - loss: 1.4112 - accuracy: 0.4850 - val_loss: 0.5819 - val_accuracy: 0.7924\n",
      "Epoch 92/200\n",
      "45/45 [==============================] - 10s 216ms/step - loss: 1.4058 - accuracy: 0.4857 - val_loss: 0.5700 - val_accuracy: 0.8065\n",
      "Epoch 93/200\n",
      "45/45 [==============================] - 10s 216ms/step - loss: 1.4573 - accuracy: 0.4553 - val_loss: 0.5905 - val_accuracy: 0.8050\n",
      "Epoch 94/200\n",
      "45/45 [==============================] - 10s 215ms/step - loss: 1.3914 - accuracy: 0.4906 - val_loss: 0.5887 - val_accuracy: 0.8022\n",
      "Epoch 95/200\n",
      "45/45 [==============================] - 10s 216ms/step - loss: 1.3877 - accuracy: 0.4945 - val_loss: 0.5899 - val_accuracy: 0.7980\n",
      "Epoch 96/200\n",
      "45/45 [==============================] - 10s 216ms/step - loss: 1.4304 - accuracy: 0.4708 - val_loss: 0.6122 - val_accuracy: 0.7840\n",
      "Epoch 97/200\n",
      "45/45 [==============================] - 10s 217ms/step - loss: 1.3959 - accuracy: 0.4875 - val_loss: 0.5686 - val_accuracy: 0.8008\n",
      "Epoch 98/200\n",
      "45/45 [==============================] - 10s 216ms/step - loss: 1.3928 - accuracy: 0.4882 - val_loss: 0.5720 - val_accuracy: 0.7994\n",
      "Epoch 99/200\n",
      "45/45 [==============================] - 10s 216ms/step - loss: 1.4053 - accuracy: 0.4878 - val_loss: 0.5950 - val_accuracy: 0.7938\n",
      "Epoch 100/200\n",
      "45/45 [==============================] - 10s 216ms/step - loss: 1.3918 - accuracy: 0.4857 - val_loss: 0.5974 - val_accuracy: 0.7896\n",
      "Epoch 101/200\n",
      "45/45 [==============================] - 10s 216ms/step - loss: 1.3706 - accuracy: 0.4860 - val_loss: 0.5498 - val_accuracy: 0.8149\n",
      "Epoch 102/200\n",
      "45/45 [==============================] - 10s 216ms/step - loss: 1.3898 - accuracy: 0.4973 - val_loss: 0.6044 - val_accuracy: 0.7924\n",
      "Epoch 103/200\n",
      "45/45 [==============================] - 10s 216ms/step - loss: 1.3978 - accuracy: 0.4896 - val_loss: 0.6001 - val_accuracy: 0.7910\n",
      "Epoch 104/200\n",
      "45/45 [==============================] - 10s 217ms/step - loss: 1.3848 - accuracy: 0.4920 - val_loss: 0.5588 - val_accuracy: 0.8036\n",
      "Epoch 105/200\n",
      "45/45 [==============================] - 10s 216ms/step - loss: 1.3934 - accuracy: 0.4892 - val_loss: 0.5716 - val_accuracy: 0.7896\n",
      "Epoch 106/200\n",
      "45/45 [==============================] - 10s 216ms/step - loss: 1.3580 - accuracy: 0.5012 - val_loss: 0.5656 - val_accuracy: 0.8079\n",
      "Epoch 107/200\n",
      "45/45 [==============================] - 10s 216ms/step - loss: 1.3799 - accuracy: 0.4871 - val_loss: 0.5625 - val_accuracy: 0.8050\n",
      "Epoch 108/200\n",
      "45/45 [==============================] - 10s 216ms/step - loss: 1.3701 - accuracy: 0.4913 - val_loss: 0.5943 - val_accuracy: 0.7812\n",
      "Epoch 109/200\n",
      "45/45 [==============================] - 10s 215ms/step - loss: 1.3691 - accuracy: 0.5012 - val_loss: 0.5716 - val_accuracy: 0.8065\n",
      "Epoch 110/200\n",
      "45/45 [==============================] - 10s 215ms/step - loss: 1.3526 - accuracy: 0.5094 - val_loss: 0.5486 - val_accuracy: 0.8079\n",
      "Epoch 111/200\n",
      "45/45 [==============================] - 10s 215ms/step - loss: 1.3621 - accuracy: 0.5090 - val_loss: 0.5004 - val_accuracy: 0.8401\n",
      "Epoch 112/200\n",
      "45/45 [==============================] - 10s 215ms/step - loss: 1.3712 - accuracy: 0.5009 - val_loss: 0.5232 - val_accuracy: 0.8177\n",
      "Epoch 113/200\n"
     ]
    },
    {
     "name": "stdout",
     "output_type": "stream",
     "text": [
      "45/45 [==============================] - 10s 215ms/step - loss: 1.3431 - accuracy: 0.5157 - val_loss: 0.5203 - val_accuracy: 0.8247\n",
      "Epoch 114/200\n",
      "45/45 [==============================] - 10s 215ms/step - loss: 1.3509 - accuracy: 0.5157 - val_loss: 0.5447 - val_accuracy: 0.8107\n",
      "Epoch 115/200\n",
      "45/45 [==============================] - 10s 215ms/step - loss: 1.3503 - accuracy: 0.5147 - val_loss: 0.5248 - val_accuracy: 0.8205\n",
      "Epoch 116/200\n",
      "45/45 [==============================] - 10s 216ms/step - loss: 1.3383 - accuracy: 0.5133 - val_loss: 0.5334 - val_accuracy: 0.8149\n",
      "Epoch 117/200\n",
      "45/45 [==============================] - 10s 215ms/step - loss: 1.3378 - accuracy: 0.5171 - val_loss: 0.5204 - val_accuracy: 0.8205\n",
      "Epoch 118/200\n",
      "45/45 [==============================] - 10s 216ms/step - loss: 1.3291 - accuracy: 0.5232 - val_loss: 0.5309 - val_accuracy: 0.8233\n",
      "Epoch 119/200\n",
      "45/45 [==============================] - 10s 216ms/step - loss: 1.3071 - accuracy: 0.5182 - val_loss: 0.5324 - val_accuracy: 0.8050\n",
      "Epoch 120/200\n",
      "45/45 [==============================] - 10s 220ms/step - loss: 1.3228 - accuracy: 0.5182 - val_loss: 0.5530 - val_accuracy: 0.8163\n",
      "Epoch 121/200\n",
      "45/45 [==============================] - 10s 218ms/step - loss: 1.3334 - accuracy: 0.5129 - val_loss: 0.5452 - val_accuracy: 0.8135\n",
      "Epoch 122/200\n",
      "45/45 [==============================] - 10s 216ms/step - loss: 1.3385 - accuracy: 0.5108 - val_loss: 0.5183 - val_accuracy: 0.8247\n",
      "Epoch 123/200\n",
      "45/45 [==============================] - 10s 216ms/step - loss: 1.3157 - accuracy: 0.5171 - val_loss: 0.5229 - val_accuracy: 0.8233\n",
      "Epoch 124/200\n",
      "45/45 [==============================] - 10s 216ms/step - loss: 1.3270 - accuracy: 0.5175 - val_loss: 0.5652 - val_accuracy: 0.7938\n",
      "Epoch 125/200\n",
      "45/45 [==============================] - 10s 215ms/step - loss: 1.3295 - accuracy: 0.5101 - val_loss: 0.5458 - val_accuracy: 0.8050\n",
      "Epoch 126/200\n",
      "45/45 [==============================] - 10s 215ms/step - loss: 1.3339 - accuracy: 0.5097 - val_loss: 0.5215 - val_accuracy: 0.8247\n",
      "Epoch 127/200\n",
      "45/45 [==============================] - 10s 215ms/step - loss: 1.3259 - accuracy: 0.5210 - val_loss: 0.5335 - val_accuracy: 0.8107\n",
      "Epoch 128/200\n",
      "45/45 [==============================] - 10s 217ms/step - loss: 1.2963 - accuracy: 0.5242 - val_loss: 0.5186 - val_accuracy: 0.8275\n",
      "Epoch 129/200\n",
      "45/45 [==============================] - 10s 216ms/step - loss: 1.2991 - accuracy: 0.5295 - val_loss: 0.5183 - val_accuracy: 0.8247\n",
      "Epoch 130/200\n",
      "45/45 [==============================] - 10s 216ms/step - loss: 1.3179 - accuracy: 0.5235 - val_loss: 0.5189 - val_accuracy: 0.8135\n",
      "Epoch 131/200\n",
      "45/45 [==============================] - 10s 216ms/step - loss: 1.3170 - accuracy: 0.5224 - val_loss: 0.6114 - val_accuracy: 0.7952\n",
      "Epoch 132/200\n",
      "45/45 [==============================] - 10s 215ms/step - loss: 1.3204 - accuracy: 0.5221 - val_loss: 0.5369 - val_accuracy: 0.8177\n",
      "Epoch 133/200\n",
      "45/45 [==============================] - 10s 216ms/step - loss: 1.3083 - accuracy: 0.5235 - val_loss: 0.5068 - val_accuracy: 0.8303\n",
      "Epoch 134/200\n",
      "45/45 [==============================] - 10s 216ms/step - loss: 1.3186 - accuracy: 0.5217 - val_loss: 0.5052 - val_accuracy: 0.8275\n",
      "Epoch 135/200\n",
      "45/45 [==============================] - 10s 215ms/step - loss: 1.2903 - accuracy: 0.5285 - val_loss: 0.4845 - val_accuracy: 0.8247\n",
      "Epoch 136/200\n",
      "45/45 [==============================] - 10s 217ms/step - loss: 1.2884 - accuracy: 0.5419 - val_loss: 0.5267 - val_accuracy: 0.8135\n",
      "Epoch 137/200\n",
      "45/45 [==============================] - 10s 216ms/step - loss: 1.2899 - accuracy: 0.5391 - val_loss: 0.4980 - val_accuracy: 0.8359\n",
      "Epoch 138/200\n",
      "45/45 [==============================] - 10s 216ms/step - loss: 1.2965 - accuracy: 0.5334 - val_loss: 0.5160 - val_accuracy: 0.8093\n",
      "Epoch 139/200\n",
      "45/45 [==============================] - 10s 216ms/step - loss: 1.2692 - accuracy: 0.5422 - val_loss: 0.4898 - val_accuracy: 0.8233\n",
      "Epoch 140/200\n",
      "45/45 [==============================] - 10s 216ms/step - loss: 1.3124 - accuracy: 0.5249 - val_loss: 0.5462 - val_accuracy: 0.8093\n",
      "Epoch 141/200\n",
      "45/45 [==============================] - 10s 216ms/step - loss: 1.2847 - accuracy: 0.5391 - val_loss: 0.5069 - val_accuracy: 0.8233\n",
      "Epoch 142/200\n",
      "45/45 [==============================] - 10s 216ms/step - loss: 1.2740 - accuracy: 0.5550 - val_loss: 0.5032 - val_accuracy: 0.8261\n",
      "Epoch 143/200\n",
      "45/45 [==============================] - 10s 216ms/step - loss: 1.2978 - accuracy: 0.5366 - val_loss: 0.4917 - val_accuracy: 0.8317\n",
      "Epoch 144/200\n",
      "45/45 [==============================] - 10s 216ms/step - loss: 1.2856 - accuracy: 0.5391 - val_loss: 0.4950 - val_accuracy: 0.8289\n",
      "Epoch 145/200\n",
      "45/45 [==============================] - 10s 216ms/step - loss: 1.2740 - accuracy: 0.5458 - val_loss: 0.4899 - val_accuracy: 0.8303\n",
      "Epoch 146/200\n",
      "45/45 [==============================] - 10s 216ms/step - loss: 1.2774 - accuracy: 0.5543 - val_loss: 0.4782 - val_accuracy: 0.8261\n",
      "Epoch 147/200\n",
      "45/45 [==============================] - 10s 216ms/step - loss: 1.2389 - accuracy: 0.5490 - val_loss: 0.4880 - val_accuracy: 0.8345\n",
      "Epoch 148/200\n",
      "45/45 [==============================] - 10s 216ms/step - loss: 1.2447 - accuracy: 0.5546 - val_loss: 0.4805 - val_accuracy: 0.8345\n",
      "Epoch 149/200\n",
      "45/45 [==============================] - 10s 216ms/step - loss: 1.2928 - accuracy: 0.5316 - val_loss: 0.4972 - val_accuracy: 0.8289\n",
      "Epoch 150/200\n",
      "45/45 [==============================] - 10s 216ms/step - loss: 1.2673 - accuracy: 0.5465 - val_loss: 0.4736 - val_accuracy: 0.8373\n",
      "Epoch 151/200\n",
      "45/45 [==============================] - 10s 216ms/step - loss: 1.2496 - accuracy: 0.5581 - val_loss: 0.4782 - val_accuracy: 0.8345\n",
      "Epoch 152/200\n",
      "45/45 [==============================] - 10s 215ms/step - loss: 1.2759 - accuracy: 0.5369 - val_loss: 0.5003 - val_accuracy: 0.8205\n",
      "Epoch 153/200\n",
      "45/45 [==============================] - 10s 216ms/step - loss: 1.2698 - accuracy: 0.5518 - val_loss: 0.4775 - val_accuracy: 0.8345\n",
      "Epoch 154/200\n",
      "45/45 [==============================] - 10s 217ms/step - loss: 1.2681 - accuracy: 0.5429 - val_loss: 0.5517 - val_accuracy: 0.8065\n",
      "Epoch 155/200\n",
      "45/45 [==============================] - 10s 216ms/step - loss: 1.2486 - accuracy: 0.5613 - val_loss: 0.5094 - val_accuracy: 0.8177\n",
      "Epoch 156/200\n",
      "45/45 [==============================] - 10s 216ms/step - loss: 1.2423 - accuracy: 0.5532 - val_loss: 0.4593 - val_accuracy: 0.8401\n",
      "Epoch 157/200\n",
      "45/45 [==============================] - 10s 216ms/step - loss: 1.2176 - accuracy: 0.5634 - val_loss: 0.4593 - val_accuracy: 0.8359\n",
      "Epoch 158/200\n",
      "45/45 [==============================] - 10s 215ms/step - loss: 1.2500 - accuracy: 0.5581 - val_loss: 0.4985 - val_accuracy: 0.8289\n",
      "Epoch 159/200\n",
      "45/45 [==============================] - 10s 216ms/step - loss: 1.2428 - accuracy: 0.5578 - val_loss: 0.4539 - val_accuracy: 0.8443\n",
      "Epoch 160/200\n",
      "45/45 [==============================] - 10s 216ms/step - loss: 1.2332 - accuracy: 0.5550 - val_loss: 0.4564 - val_accuracy: 0.8415\n",
      "Epoch 161/200\n",
      "45/45 [==============================] - 10s 216ms/step - loss: 1.2427 - accuracy: 0.5483 - val_loss: 0.4642 - val_accuracy: 0.8317\n",
      "Epoch 162/200\n",
      "45/45 [==============================] - 10s 216ms/step - loss: 1.2321 - accuracy: 0.5716 - val_loss: 0.4535 - val_accuracy: 0.8443\n",
      "Epoch 163/200\n",
      "45/45 [==============================] - 10s 217ms/step - loss: 1.2463 - accuracy: 0.5475 - val_loss: 0.4537 - val_accuracy: 0.8373\n",
      "Epoch 164/200\n",
      "45/45 [==============================] - 10s 219ms/step - loss: 1.2244 - accuracy: 0.5613 - val_loss: 0.4708 - val_accuracy: 0.8373\n",
      "Epoch 165/200\n",
      "45/45 [==============================] - 10s 217ms/step - loss: 1.2255 - accuracy: 0.5659 - val_loss: 0.4620 - val_accuracy: 0.8359\n",
      "Epoch 166/200\n",
      "45/45 [==============================] - 10s 216ms/step - loss: 1.2203 - accuracy: 0.5624 - val_loss: 0.4566 - val_accuracy: 0.8429\n",
      "Epoch 167/200\n",
      "45/45 [==============================] - 10s 219ms/step - loss: 1.2226 - accuracy: 0.5634 - val_loss: 0.4391 - val_accuracy: 0.8555\n",
      "Epoch 168/200\n",
      "45/45 [==============================] - 10s 216ms/step - loss: 1.2040 - accuracy: 0.5645 - val_loss: 0.4647 - val_accuracy: 0.8401\n",
      "Epoch 169/200\n",
      "45/45 [==============================] - 10s 215ms/step - loss: 1.2365 - accuracy: 0.5634 - val_loss: 0.4686 - val_accuracy: 0.8429\n",
      "Epoch 170/200\n",
      "45/45 [==============================] - 10s 215ms/step - loss: 1.2310 - accuracy: 0.5652 - val_loss: 0.4613 - val_accuracy: 0.8485\n",
      "Epoch 171/200\n",
      "45/45 [==============================] - 10s 215ms/step - loss: 1.2374 - accuracy: 0.5589 - val_loss: 0.4751 - val_accuracy: 0.8415\n",
      "Epoch 172/200\n",
      "45/45 [==============================] - 10s 215ms/step - loss: 1.2367 - accuracy: 0.5525 - val_loss: 0.4741 - val_accuracy: 0.8317\n",
      "Epoch 173/200\n",
      "45/45 [==============================] - 10s 215ms/step - loss: 1.2424 - accuracy: 0.5603 - val_loss: 0.4597 - val_accuracy: 0.8429\n",
      "Epoch 174/200\n",
      "45/45 [==============================] - 10s 216ms/step - loss: 1.2195 - accuracy: 0.5581 - val_loss: 0.4412 - val_accuracy: 0.8541\n",
      "Epoch 175/200\n",
      "45/45 [==============================] - 10s 215ms/step - loss: 1.2153 - accuracy: 0.5709 - val_loss: 0.4584 - val_accuracy: 0.8443\n",
      "Epoch 176/200\n",
      "45/45 [==============================] - 10s 215ms/step - loss: 1.2402 - accuracy: 0.5528 - val_loss: 0.4307 - val_accuracy: 0.8541\n",
      "Epoch 177/200\n",
      "45/45 [==============================] - 10s 215ms/step - loss: 1.2056 - accuracy: 0.5613 - val_loss: 0.4513 - val_accuracy: 0.8485\n",
      "Epoch 178/200\n",
      "45/45 [==============================] - 10s 216ms/step - loss: 1.2000 - accuracy: 0.5642 - val_loss: 0.4294 - val_accuracy: 0.8499\n",
      "Epoch 179/200\n",
      "45/45 [==============================] - 10s 215ms/step - loss: 1.2061 - accuracy: 0.5649 - val_loss: 0.4250 - val_accuracy: 0.8612\n",
      "Epoch 180/200\n",
      "45/45 [==============================] - 10s 216ms/step - loss: 1.1778 - accuracy: 0.5794 - val_loss: 0.4375 - val_accuracy: 0.8513\n",
      "Epoch 181/200\n",
      "45/45 [==============================] - 10s 216ms/step - loss: 1.1988 - accuracy: 0.5691 - val_loss: 0.4427 - val_accuracy: 0.8569\n",
      "Epoch 182/200\n",
      "45/45 [==============================] - 10s 217ms/step - loss: 1.2021 - accuracy: 0.5779 - val_loss: 0.4444 - val_accuracy: 0.8373\n",
      "Epoch 183/200\n",
      "45/45 [==============================] - 10s 216ms/step - loss: 1.2226 - accuracy: 0.5680 - val_loss: 0.4530 - val_accuracy: 0.8401\n",
      "Epoch 184/200\n",
      "45/45 [==============================] - 10s 216ms/step - loss: 1.2365 - accuracy: 0.5603 - val_loss: 0.4546 - val_accuracy: 0.8415\n",
      "Epoch 185/200\n",
      "45/45 [==============================] - 10s 216ms/step - loss: 1.1994 - accuracy: 0.5772 - val_loss: 0.4631 - val_accuracy: 0.8429\n",
      "Epoch 186/200\n",
      "45/45 [==============================] - 10s 216ms/step - loss: 1.2088 - accuracy: 0.5758 - val_loss: 0.4736 - val_accuracy: 0.8387\n",
      "Epoch 187/200\n",
      "45/45 [==============================] - 10s 215ms/step - loss: 1.1858 - accuracy: 0.5765 - val_loss: 0.4458 - val_accuracy: 0.8429\n",
      "Epoch 188/200\n",
      "45/45 [==============================] - 10s 216ms/step - loss: 1.1830 - accuracy: 0.5811 - val_loss: 0.4907 - val_accuracy: 0.8345\n",
      "Epoch 189/200\n",
      "45/45 [==============================] - 10s 216ms/step - loss: 1.2222 - accuracy: 0.5649 - val_loss: 0.4310 - val_accuracy: 0.8569\n",
      "Epoch 190/200\n",
      "45/45 [==============================] - 10s 218ms/step - loss: 1.2091 - accuracy: 0.5631 - val_loss: 0.4328 - val_accuracy: 0.8499\n",
      "Epoch 191/200\n",
      "45/45 [==============================] - 10s 217ms/step - loss: 1.1853 - accuracy: 0.5656 - val_loss: 0.4750 - val_accuracy: 0.8345\n",
      "Epoch 192/200\n",
      "45/45 [==============================] - 10s 216ms/step - loss: 1.1896 - accuracy: 0.5673 - val_loss: 0.4435 - val_accuracy: 0.8513\n",
      "Epoch 193/200\n",
      "45/45 [==============================] - 10s 216ms/step - loss: 1.1972 - accuracy: 0.5751 - val_loss: 0.4264 - val_accuracy: 0.8569\n",
      "Epoch 194/200\n",
      "45/45 [==============================] - 10s 216ms/step - loss: 1.2093 - accuracy: 0.5730 - val_loss: 0.4657 - val_accuracy: 0.8359\n",
      "Epoch 195/200\n",
      "45/45 [==============================] - 10s 216ms/step - loss: 1.2000 - accuracy: 0.5719 - val_loss: 0.4338 - val_accuracy: 0.8485\n",
      "Epoch 196/200\n",
      "45/45 [==============================] - 10s 216ms/step - loss: 1.1923 - accuracy: 0.5786 - val_loss: 0.4232 - val_accuracy: 0.8612\n",
      "Epoch 197/200\n",
      "45/45 [==============================] - 10s 226ms/step - loss: 1.1925 - accuracy: 0.5709 - val_loss: 0.4730 - val_accuracy: 0.8317\n",
      "Epoch 198/200\n",
      "45/45 [==============================] - 10s 216ms/step - loss: 1.1753 - accuracy: 0.5730 - val_loss: 0.4237 - val_accuracy: 0.8597\n",
      "Epoch 199/200\n",
      "45/45 [==============================] - 10s 216ms/step - loss: 1.1928 - accuracy: 0.5741 - val_loss: 0.4282 - val_accuracy: 0.8612\n",
      "Epoch 200/200\n",
      "45/45 [==============================] - 10s 216ms/step - loss: 1.1737 - accuracy: 0.5719 - val_loss: 0.4395 - val_accuracy: 0.8471\n"
     ]
    }
   ],
   "source": [
    "history = model.fit(\n",
    "    x = train_gen,\n",
    "    validation_data = val_gen,\n",
    "    epochs = 200,\n",
    ")"
   ]
  },
  {
   "cell_type": "code",
   "execution_count": 36,
   "metadata": {
    "scrolled": true,
    "pycharm": {
     "name": "#%%\n"
    }
   },
   "outputs": [
    {
     "name": "stdout",
     "output_type": "stream",
     "text": [
      "Epoch 1/800\n",
      "45/45 [==============================] - ETA: 0s - loss: 1.1991 - accuracy: 0.5712"
     ]
    },
    {
     "name": "stderr",
     "output_type": "stream",
     "text": [
      "WARNING:absl:Function `_wrapped_model` contains input name(s) Input with unsupported characters which will be renamed to input in the SavedModel.\n",
      "WARNING:absl:Found untraced functions such as _jit_compiled_convolution_op, _jit_compiled_convolution_op, _jit_compiled_convolution_op, _jit_compiled_convolution_op, _jit_compiled_convolution_op while saving (showing 5 of 91). These functions will not be directly callable after loading.\n"
     ]
    },
    {
     "name": "stdout",
     "output_type": "stream",
     "text": [
      "INFO:tensorflow:Assets written to: experiments\\EfficientnetV2B0_Nov22_23-39-14\\base_ckpts\\cp_01.ckpt\\assets\n"
     ]
    },
    {
     "name": "stderr",
     "output_type": "stream",
     "text": [
      "INFO:tensorflow:Assets written to: experiments\\EfficientnetV2B0_Nov22_23-39-14\\base_ckpts\\cp_01.ckpt\\assets\n"
     ]
    },
    {
     "name": "stdout",
     "output_type": "stream",
     "text": [
      "45/45 [==============================] - 62s 1s/step - loss: 1.1991 - accuracy: 0.5712 - val_loss: 0.4414 - val_accuracy: 0.8541\n",
      "Epoch 2/800\n",
      "45/45 [==============================] - 11s 246ms/step - loss: 1.1683 - accuracy: 0.5794 - val_loss: 0.4515 - val_accuracy: 0.8373\n",
      "Epoch 3/800\n",
      "45/45 [==============================] - 11s 246ms/step - loss: 1.1957 - accuracy: 0.5737 - val_loss: 0.4419 - val_accuracy: 0.8457\n",
      "Epoch 4/800\n",
      "45/45 [==============================] - 11s 246ms/step - loss: 1.1538 - accuracy: 0.5857 - val_loss: 0.4437 - val_accuracy: 0.8527\n",
      "Epoch 5/800\n",
      "45/45 [==============================] - ETA: 0s - loss: 1.1514 - accuracy: 0.5917"
     ]
    },
    {
     "name": "stderr",
     "output_type": "stream",
     "text": [
      "WARNING:absl:Function `_wrapped_model` contains input name(s) Input with unsupported characters which will be renamed to input in the SavedModel.\n",
      "WARNING:absl:Found untraced functions such as _jit_compiled_convolution_op, _jit_compiled_convolution_op, _jit_compiled_convolution_op, _jit_compiled_convolution_op, _jit_compiled_convolution_op while saving (showing 5 of 91). These functions will not be directly callable after loading.\n"
     ]
    },
    {
     "name": "stdout",
     "output_type": "stream",
     "text": [
      "INFO:tensorflow:Assets written to: experiments\\EfficientnetV2B0_Nov22_23-39-14\\base_ckpts\\cp_05.ckpt\\assets\n"
     ]
    },
    {
     "name": "stderr",
     "output_type": "stream",
     "text": [
      "INFO:tensorflow:Assets written to: experiments\\EfficientnetV2B0_Nov22_23-39-14\\base_ckpts\\cp_05.ckpt\\assets\n"
     ]
    },
    {
     "name": "stdout",
     "output_type": "stream",
     "text": [
      "45/45 [==============================] - 60s 1s/step - loss: 1.1514 - accuracy: 0.5917 - val_loss: 0.4305 - val_accuracy: 0.8555\n",
      "Epoch 6/800\n",
      "45/45 [==============================] - ETA: 0s - loss: 1.1771 - accuracy: 0.5832"
     ]
    },
    {
     "name": "stderr",
     "output_type": "stream",
     "text": [
      "WARNING:absl:Function `_wrapped_model` contains input name(s) Input with unsupported characters which will be renamed to input in the SavedModel.\n",
      "WARNING:absl:Found untraced functions such as _jit_compiled_convolution_op, _jit_compiled_convolution_op, _jit_compiled_convolution_op, _jit_compiled_convolution_op, _jit_compiled_convolution_op while saving (showing 5 of 91). These functions will not be directly callable after loading.\n"
     ]
    },
    {
     "name": "stdout",
     "output_type": "stream",
     "text": [
      "INFO:tensorflow:Assets written to: experiments\\EfficientnetV2B0_Nov22_23-39-14\\base_ckpts\\cp_06.ckpt\\assets\n"
     ]
    },
    {
     "name": "stderr",
     "output_type": "stream",
     "text": [
      "INFO:tensorflow:Assets written to: experiments\\EfficientnetV2B0_Nov22_23-39-14\\base_ckpts\\cp_06.ckpt\\assets\n"
     ]
    },
    {
     "name": "stdout",
     "output_type": "stream",
     "text": [
      "45/45 [==============================] - 61s 1s/step - loss: 1.1771 - accuracy: 0.5832 - val_loss: 0.4291 - val_accuracy: 0.8597\n",
      "Epoch 7/800\n",
      "45/45 [==============================] - 11s 247ms/step - loss: 1.1727 - accuracy: 0.5744 - val_loss: 0.4502 - val_accuracy: 0.8541\n",
      "Epoch 8/800\n",
      "45/45 [==============================] - 11s 247ms/step - loss: 1.1707 - accuracy: 0.5748 - val_loss: 0.4543 - val_accuracy: 0.8443\n",
      "Epoch 9/800\n",
      "45/45 [==============================] - 11s 247ms/step - loss: 1.1763 - accuracy: 0.5762 - val_loss: 0.4448 - val_accuracy: 0.8471\n",
      "Epoch 10/800\n",
      "45/45 [==============================] - 11s 248ms/step - loss: 1.1506 - accuracy: 0.5903 - val_loss: 0.4559 - val_accuracy: 0.8499\n",
      "Epoch 11/800\n",
      "45/45 [==============================] - ETA: 0s - loss: 1.1385 - accuracy: 0.5885"
     ]
    },
    {
     "name": "stderr",
     "output_type": "stream",
     "text": [
      "WARNING:absl:Function `_wrapped_model` contains input name(s) Input with unsupported characters which will be renamed to input in the SavedModel.\n",
      "WARNING:absl:Found untraced functions such as _jit_compiled_convolution_op, _jit_compiled_convolution_op, _jit_compiled_convolution_op, _jit_compiled_convolution_op, _jit_compiled_convolution_op while saving (showing 5 of 91). These functions will not be directly callable after loading.\n"
     ]
    },
    {
     "name": "stdout",
     "output_type": "stream",
     "text": [
      "INFO:tensorflow:Assets written to: experiments\\EfficientnetV2B0_Nov22_23-39-14\\base_ckpts\\cp_11.ckpt\\assets\n"
     ]
    },
    {
     "name": "stderr",
     "output_type": "stream",
     "text": [
      "INFO:tensorflow:Assets written to: experiments\\EfficientnetV2B0_Nov22_23-39-14\\base_ckpts\\cp_11.ckpt\\assets\n"
     ]
    },
    {
     "name": "stdout",
     "output_type": "stream",
     "text": [
      "45/45 [==============================] - 60s 1s/step - loss: 1.1385 - accuracy: 0.5885 - val_loss: 0.4171 - val_accuracy: 0.8626\n",
      "Epoch 12/800\n",
      "45/45 [==============================] - 12s 247ms/step - loss: 1.1677 - accuracy: 0.5811 - val_loss: 0.4271 - val_accuracy: 0.8612\n",
      "Epoch 13/800\n",
      "45/45 [==============================] - 11s 247ms/step - loss: 1.1765 - accuracy: 0.5751 - val_loss: 0.4596 - val_accuracy: 0.8401\n",
      "Epoch 14/800\n",
      "45/45 [==============================] - 11s 247ms/step - loss: 1.1883 - accuracy: 0.5755 - val_loss: 0.4472 - val_accuracy: 0.8387\n",
      "Epoch 15/800\n",
      "45/45 [==============================] - 11s 247ms/step - loss: 1.1711 - accuracy: 0.5885 - val_loss: 0.4393 - val_accuracy: 0.8555\n",
      "Epoch 16/800\n",
      "45/45 [==============================] - 11s 247ms/step - loss: 1.1256 - accuracy: 0.5935 - val_loss: 0.4262 - val_accuracy: 0.8569\n",
      "Epoch 17/800\n",
      "45/45 [==============================] - 11s 247ms/step - loss: 1.1685 - accuracy: 0.5861 - val_loss: 0.4383 - val_accuracy: 0.8541\n",
      "Epoch 18/800\n",
      "45/45 [==============================] - 11s 247ms/step - loss: 1.1339 - accuracy: 0.5946 - val_loss: 0.4264 - val_accuracy: 0.8583\n",
      "Epoch 19/800\n",
      "45/45 [==============================] - 11s 248ms/step - loss: 1.1209 - accuracy: 0.5995 - val_loss: 0.4302 - val_accuracy: 0.8569\n",
      "Epoch 20/800\n",
      "45/45 [==============================] - 11s 247ms/step - loss: 1.1710 - accuracy: 0.5786 - val_loss: 0.4428 - val_accuracy: 0.8583\n",
      "Epoch 21/800\n",
      "45/45 [==============================] - 11s 247ms/step - loss: 1.1411 - accuracy: 0.5822 - val_loss: 0.4520 - val_accuracy: 0.8527\n",
      "Epoch 22/800\n",
      "45/45 [==============================] - 11s 247ms/step - loss: 1.1490 - accuracy: 0.5977 - val_loss: 0.4149 - val_accuracy: 0.8626\n",
      "Epoch 23/800\n",
      "45/45 [==============================] - 11s 248ms/step - loss: 1.1718 - accuracy: 0.5864 - val_loss: 0.4224 - val_accuracy: 0.8612\n",
      "Epoch 24/800\n",
      "45/45 [==============================] - 11s 247ms/step - loss: 1.1894 - accuracy: 0.5698 - val_loss: 0.4324 - val_accuracy: 0.8513\n",
      "Epoch 25/800\n",
      "45/45 [==============================] - 11s 247ms/step - loss: 1.1703 - accuracy: 0.5786 - val_loss: 0.4083 - val_accuracy: 0.8555\n",
      "Epoch 26/800\n",
      "45/45 [==============================] - 11s 247ms/step - loss: 1.1647 - accuracy: 0.5762 - val_loss: 0.4244 - val_accuracy: 0.8555\n",
      "Epoch 27/800\n",
      "45/45 [==============================] - 11s 248ms/step - loss: 1.1557 - accuracy: 0.5931 - val_loss: 0.4344 - val_accuracy: 0.8443\n",
      "Epoch 28/800\n",
      "45/45 [==============================] - 11s 247ms/step - loss: 1.1522 - accuracy: 0.5832 - val_loss: 0.4249 - val_accuracy: 0.8527\n",
      "Epoch 29/800\n",
      "45/45 [==============================] - ETA: 0s - loss: 1.1613 - accuracy: 0.5850"
     ]
    },
    {
     "name": "stderr",
     "output_type": "stream",
     "text": [
      "WARNING:absl:Function `_wrapped_model` contains input name(s) Input with unsupported characters which will be renamed to input in the SavedModel.\n",
      "WARNING:absl:Found untraced functions such as _jit_compiled_convolution_op, _jit_compiled_convolution_op, _jit_compiled_convolution_op, _jit_compiled_convolution_op, _jit_compiled_convolution_op while saving (showing 5 of 91). These functions will not be directly callable after loading.\n"
     ]
    },
    {
     "name": "stdout",
     "output_type": "stream",
     "text": [
      "INFO:tensorflow:Assets written to: experiments\\EfficientnetV2B0_Nov22_23-39-14\\base_ckpts\\cp_29.ckpt\\assets\n"
     ]
    },
    {
     "name": "stderr",
     "output_type": "stream",
     "text": [
      "INFO:tensorflow:Assets written to: experiments\\EfficientnetV2B0_Nov22_23-39-14\\base_ckpts\\cp_29.ckpt\\assets\n"
     ]
    },
    {
     "name": "stdout",
     "output_type": "stream",
     "text": [
      "45/45 [==============================] - 61s 1s/step - loss: 1.1613 - accuracy: 0.5850 - val_loss: 0.4063 - val_accuracy: 0.8668\n",
      "Epoch 30/800\n",
      "45/45 [==============================] - 12s 247ms/step - loss: 1.1523 - accuracy: 0.5914 - val_loss: 0.4180 - val_accuracy: 0.8612\n",
      "Epoch 31/800\n",
      "45/45 [==============================] - ETA: 0s - loss: 1.1643 - accuracy: 0.5829"
     ]
    },
    {
     "name": "stderr",
     "output_type": "stream",
     "text": [
      "WARNING:absl:Function `_wrapped_model` contains input name(s) Input with unsupported characters which will be renamed to input in the SavedModel.\n",
      "WARNING:absl:Found untraced functions such as _jit_compiled_convolution_op, _jit_compiled_convolution_op, _jit_compiled_convolution_op, _jit_compiled_convolution_op, _jit_compiled_convolution_op while saving (showing 5 of 91). These functions will not be directly callable after loading.\n"
     ]
    },
    {
     "name": "stdout",
     "output_type": "stream",
     "text": [
      "INFO:tensorflow:Assets written to: experiments\\EfficientnetV2B0_Nov22_23-39-14\\base_ckpts\\cp_31.ckpt\\assets\n"
     ]
    },
    {
     "name": "stderr",
     "output_type": "stream",
     "text": [
      "INFO:tensorflow:Assets written to: experiments\\EfficientnetV2B0_Nov22_23-39-14\\base_ckpts\\cp_31.ckpt\\assets\n"
     ]
    },
    {
     "name": "stdout",
     "output_type": "stream",
     "text": [
      "45/45 [==============================] - 60s 1s/step - loss: 1.1643 - accuracy: 0.5829 - val_loss: 0.4026 - val_accuracy: 0.8724\n",
      "Epoch 32/800\n",
      "45/45 [==============================] - 12s 249ms/step - loss: 1.1341 - accuracy: 0.6030 - val_loss: 0.3978 - val_accuracy: 0.8654\n",
      "Epoch 33/800\n",
      "45/45 [==============================] - 11s 251ms/step - loss: 1.1447 - accuracy: 0.5900 - val_loss: 0.4069 - val_accuracy: 0.8668\n",
      "Epoch 34/800\n",
      "45/45 [==============================] - 11s 249ms/step - loss: 1.1407 - accuracy: 0.6009 - val_loss: 0.4037 - val_accuracy: 0.8668\n",
      "Epoch 35/800\n",
      "45/45 [==============================] - 11s 248ms/step - loss: 1.1595 - accuracy: 0.5843 - val_loss: 0.4183 - val_accuracy: 0.8626\n",
      "Epoch 36/800\n",
      "45/45 [==============================] - 11s 249ms/step - loss: 1.1571 - accuracy: 0.5815 - val_loss: 0.4211 - val_accuracy: 0.8541\n",
      "Epoch 37/800\n",
      "45/45 [==============================] - 11s 249ms/step - loss: 1.1454 - accuracy: 0.5854 - val_loss: 0.3964 - val_accuracy: 0.8668\n",
      "Epoch 38/800\n",
      "45/45 [==============================] - ETA: 0s - loss: 1.1565 - accuracy: 0.5744"
     ]
    },
    {
     "name": "stderr",
     "output_type": "stream",
     "text": [
      "WARNING:absl:Function `_wrapped_model` contains input name(s) Input with unsupported characters which will be renamed to input in the SavedModel.\n",
      "WARNING:absl:Found untraced functions such as _jit_compiled_convolution_op, _jit_compiled_convolution_op, _jit_compiled_convolution_op, _jit_compiled_convolution_op, _jit_compiled_convolution_op while saving (showing 5 of 91). These functions will not be directly callable after loading.\n"
     ]
    },
    {
     "name": "stdout",
     "output_type": "stream",
     "text": [
      "INFO:tensorflow:Assets written to: experiments\\EfficientnetV2B0_Nov22_23-39-14\\base_ckpts\\cp_38.ckpt\\assets\n"
     ]
    },
    {
     "name": "stderr",
     "output_type": "stream",
     "text": [
      "INFO:tensorflow:Assets written to: experiments\\EfficientnetV2B0_Nov22_23-39-14\\base_ckpts\\cp_38.ckpt\\assets\n"
     ]
    },
    {
     "name": "stdout",
     "output_type": "stream",
     "text": [
      "45/45 [==============================] - 62s 1s/step - loss: 1.1565 - accuracy: 0.5744 - val_loss: 0.3912 - val_accuracy: 0.8752\n",
      "Epoch 39/800\n",
      "45/45 [==============================] - 12s 248ms/step - loss: 1.1651 - accuracy: 0.5779 - val_loss: 0.4520 - val_accuracy: 0.8527\n",
      "Epoch 40/800\n",
      "45/45 [==============================] - 11s 248ms/step - loss: 1.1413 - accuracy: 0.5931 - val_loss: 0.4205 - val_accuracy: 0.8640\n",
      "Epoch 41/800\n",
      "45/45 [==============================] - ETA: 0s - loss: 1.1545 - accuracy: 0.5829"
     ]
    },
    {
     "name": "stderr",
     "output_type": "stream",
     "text": [
      "WARNING:absl:Function `_wrapped_model` contains input name(s) Input with unsupported characters which will be renamed to input in the SavedModel.\n",
      "WARNING:absl:Found untraced functions such as _jit_compiled_convolution_op, _jit_compiled_convolution_op, _jit_compiled_convolution_op, _jit_compiled_convolution_op, _jit_compiled_convolution_op while saving (showing 5 of 91). These functions will not be directly callable after loading.\n"
     ]
    },
    {
     "name": "stdout",
     "output_type": "stream",
     "text": [
      "INFO:tensorflow:Assets written to: experiments\\EfficientnetV2B0_Nov22_23-39-14\\base_ckpts\\cp_41.ckpt\\assets\n"
     ]
    },
    {
     "name": "stderr",
     "output_type": "stream",
     "text": [
      "INFO:tensorflow:Assets written to: experiments\\EfficientnetV2B0_Nov22_23-39-14\\base_ckpts\\cp_41.ckpt\\assets\n"
     ]
    },
    {
     "name": "stdout",
     "output_type": "stream",
     "text": [
      "45/45 [==============================] - 60s 1s/step - loss: 1.1545 - accuracy: 0.5829 - val_loss: 0.3913 - val_accuracy: 0.8794\n",
      "Epoch 42/800\n",
      "45/45 [==============================] - 11s 248ms/step - loss: 1.1288 - accuracy: 0.6023 - val_loss: 0.4104 - val_accuracy: 0.8710\n",
      "Epoch 43/800\n",
      "45/45 [==============================] - 11s 249ms/step - loss: 1.0942 - accuracy: 0.6214 - val_loss: 0.3983 - val_accuracy: 0.8752\n",
      "Epoch 44/800\n",
      "45/45 [==============================] - 11s 250ms/step - loss: 1.1388 - accuracy: 0.5868 - val_loss: 0.3994 - val_accuracy: 0.8766\n",
      "Epoch 45/800\n",
      "45/45 [==============================] - 11s 252ms/step - loss: 1.1219 - accuracy: 0.5924 - val_loss: 0.4095 - val_accuracy: 0.8640\n",
      "Epoch 46/800\n",
      "45/45 [==============================] - 11s 248ms/step - loss: 1.1355 - accuracy: 0.5953 - val_loss: 0.3874 - val_accuracy: 0.8752\n",
      "Epoch 47/800\n",
      "45/45 [==============================] - 11s 248ms/step - loss: 1.1006 - accuracy: 0.6013 - val_loss: 0.4145 - val_accuracy: 0.8668\n",
      "Epoch 48/800\n",
      "45/45 [==============================] - 11s 249ms/step - loss: 1.1116 - accuracy: 0.5928 - val_loss: 0.4252 - val_accuracy: 0.8513\n",
      "Epoch 49/800\n",
      "45/45 [==============================] - 11s 248ms/step - loss: 1.1181 - accuracy: 0.6037 - val_loss: 0.4103 - val_accuracy: 0.8626\n",
      "Epoch 50/800\n",
      "45/45 [==============================] - 11s 249ms/step - loss: 1.1191 - accuracy: 0.5988 - val_loss: 0.3928 - val_accuracy: 0.8724\n",
      "Epoch 51/800\n",
      "45/45 [==============================] - 11s 252ms/step - loss: 1.1366 - accuracy: 0.5854 - val_loss: 0.3930 - val_accuracy: 0.8724\n",
      "Epoch 52/800\n",
      "45/45 [==============================] - 11s 248ms/step - loss: 1.0894 - accuracy: 0.6122 - val_loss: 0.4014 - val_accuracy: 0.8668\n",
      "Epoch 53/800\n",
      "45/45 [==============================] - 11s 250ms/step - loss: 1.1116 - accuracy: 0.5967 - val_loss: 0.4085 - val_accuracy: 0.8668\n",
      "Epoch 54/800\n",
      "45/45 [==============================] - 11s 249ms/step - loss: 1.0967 - accuracy: 0.6034 - val_loss: 0.3984 - val_accuracy: 0.8654\n",
      "Epoch 55/800\n",
      "45/45 [==============================] - 11s 250ms/step - loss: 1.1397 - accuracy: 0.5946 - val_loss: 0.4178 - val_accuracy: 0.8612\n",
      "Epoch 56/800\n",
      "45/45 [==============================] - 11s 249ms/step - loss: 1.1337 - accuracy: 0.5967 - val_loss: 0.4069 - val_accuracy: 0.8682\n",
      "Epoch 57/800\n",
      "45/45 [==============================] - 11s 249ms/step - loss: 1.0965 - accuracy: 0.6101 - val_loss: 0.4082 - val_accuracy: 0.8583\n",
      "Epoch 58/800\n",
      "45/45 [==============================] - 11s 249ms/step - loss: 1.1357 - accuracy: 0.5960 - val_loss: 0.3878 - val_accuracy: 0.8668\n",
      "Epoch 59/800\n",
      "45/45 [==============================] - 11s 249ms/step - loss: 1.0838 - accuracy: 0.6105 - val_loss: 0.4069 - val_accuracy: 0.8696\n",
      "Epoch 60/800\n",
      "45/45 [==============================] - 11s 248ms/step - loss: 1.1276 - accuracy: 0.5981 - val_loss: 0.4194 - val_accuracy: 0.8766\n",
      "Epoch 61/800\n",
      "45/45 [==============================] - 11s 249ms/step - loss: 1.0866 - accuracy: 0.6076 - val_loss: 0.4031 - val_accuracy: 0.8668\n",
      "Epoch 62/800\n",
      "45/45 [==============================] - 11s 250ms/step - loss: 1.0777 - accuracy: 0.6133 - val_loss: 0.4028 - val_accuracy: 0.8738\n",
      "Epoch 63/800\n",
      "45/45 [==============================] - ETA: 0s - loss: 1.1204 - accuracy: 0.5977"
     ]
    },
    {
     "name": "stderr",
     "output_type": "stream",
     "text": [
      "WARNING:absl:Function `_wrapped_model` contains input name(s) Input with unsupported characters which will be renamed to input in the SavedModel.\n",
      "WARNING:absl:Found untraced functions such as _jit_compiled_convolution_op, _jit_compiled_convolution_op, _jit_compiled_convolution_op, _jit_compiled_convolution_op, _jit_compiled_convolution_op while saving (showing 5 of 91). These functions will not be directly callable after loading.\n"
     ]
    },
    {
     "name": "stdout",
     "output_type": "stream",
     "text": [
      "INFO:tensorflow:Assets written to: experiments\\EfficientnetV2B0_Nov22_23-39-14\\base_ckpts\\cp_63.ckpt\\assets\n"
     ]
    },
    {
     "name": "stderr",
     "output_type": "stream",
     "text": [
      "INFO:tensorflow:Assets written to: experiments\\EfficientnetV2B0_Nov22_23-39-14\\base_ckpts\\cp_63.ckpt\\assets\n"
     ]
    },
    {
     "name": "stdout",
     "output_type": "stream",
     "text": [
      "45/45 [==============================] - 63s 1s/step - loss: 1.1204 - accuracy: 0.5977 - val_loss: 0.3894 - val_accuracy: 0.8864\n",
      "Epoch 64/800\n",
      "45/45 [==============================] - 12s 248ms/step - loss: 1.0999 - accuracy: 0.6052 - val_loss: 0.3750 - val_accuracy: 0.8794\n",
      "Epoch 65/800\n",
      "45/45 [==============================] - 11s 247ms/step - loss: 1.1008 - accuracy: 0.6062 - val_loss: 0.4063 - val_accuracy: 0.8640\n",
      "Epoch 66/800\n",
      "45/45 [==============================] - 11s 248ms/step - loss: 1.0999 - accuracy: 0.6087 - val_loss: 0.4096 - val_accuracy: 0.8696\n",
      "Epoch 67/800\n",
      "45/45 [==============================] - 11s 248ms/step - loss: 1.1071 - accuracy: 0.6062 - val_loss: 0.3889 - val_accuracy: 0.8808\n",
      "Epoch 68/800\n",
      "45/45 [==============================] - 11s 248ms/step - loss: 1.1160 - accuracy: 0.5977 - val_loss: 0.3781 - val_accuracy: 0.8836\n",
      "Epoch 69/800\n",
      "45/45 [==============================] - 11s 248ms/step - loss: 1.1108 - accuracy: 0.6030 - val_loss: 0.4172 - val_accuracy: 0.8682\n",
      "Epoch 70/800\n",
      "45/45 [==============================] - 11s 249ms/step - loss: 1.1010 - accuracy: 0.5992 - val_loss: 0.4190 - val_accuracy: 0.8738\n",
      "Epoch 71/800\n",
      "45/45 [==============================] - 11s 248ms/step - loss: 1.1302 - accuracy: 0.5903 - val_loss: 0.3749 - val_accuracy: 0.8808\n",
      "Epoch 72/800\n",
      "45/45 [==============================] - ETA: 0s - loss: 1.0916 - accuracy: 0.6059"
     ]
    },
    {
     "name": "stderr",
     "output_type": "stream",
     "text": [
      "WARNING:absl:Function `_wrapped_model` contains input name(s) Input with unsupported characters which will be renamed to input in the SavedModel.\n",
      "WARNING:absl:Found untraced functions such as _jit_compiled_convolution_op, _jit_compiled_convolution_op, _jit_compiled_convolution_op, _jit_compiled_convolution_op, _jit_compiled_convolution_op while saving (showing 5 of 91). These functions will not be directly callable after loading.\n"
     ]
    },
    {
     "name": "stdout",
     "output_type": "stream",
     "text": [
      "INFO:tensorflow:Assets written to: experiments\\EfficientnetV2B0_Nov22_23-39-14\\base_ckpts\\cp_72.ckpt\\assets\n"
     ]
    },
    {
     "name": "stderr",
     "output_type": "stream",
     "text": [
      "INFO:tensorflow:Assets written to: experiments\\EfficientnetV2B0_Nov22_23-39-14\\base_ckpts\\cp_72.ckpt\\assets\n"
     ]
    },
    {
     "name": "stdout",
     "output_type": "stream",
     "text": [
      "45/45 [==============================] - 61s 1s/step - loss: 1.0916 - accuracy: 0.6059 - val_loss: 0.3639 - val_accuracy: 0.8906\n",
      "Epoch 73/800\n",
      "45/45 [==============================] - 12s 253ms/step - loss: 1.0989 - accuracy: 0.6129 - val_loss: 0.3905 - val_accuracy: 0.8766\n",
      "Epoch 74/800\n",
      "45/45 [==============================] - 12s 257ms/step - loss: 1.0756 - accuracy: 0.6260 - val_loss: 0.3942 - val_accuracy: 0.8738\n",
      "Epoch 75/800\n",
      "45/45 [==============================] - 11s 250ms/step - loss: 1.0998 - accuracy: 0.6041 - val_loss: 0.3998 - val_accuracy: 0.8738\n",
      "Epoch 76/800\n",
      "45/45 [==============================] - 11s 249ms/step - loss: 1.0988 - accuracy: 0.6055 - val_loss: 0.3715 - val_accuracy: 0.8850\n",
      "Epoch 77/800\n",
      "45/45 [==============================] - 11s 249ms/step - loss: 1.1174 - accuracy: 0.6059 - val_loss: 0.3874 - val_accuracy: 0.8808\n",
      "Epoch 78/800\n",
      "45/45 [==============================] - 11s 251ms/step - loss: 1.1016 - accuracy: 0.5995 - val_loss: 0.3859 - val_accuracy: 0.8808\n",
      "Epoch 79/800\n",
      "45/45 [==============================] - 11s 249ms/step - loss: 1.0946 - accuracy: 0.6048 - val_loss: 0.3765 - val_accuracy: 0.8864\n",
      "Epoch 80/800\n",
      "45/45 [==============================] - ETA: 0s - loss: 1.0758 - accuracy: 0.6133"
     ]
    },
    {
     "name": "stderr",
     "output_type": "stream",
     "text": [
      "WARNING:absl:Function `_wrapped_model` contains input name(s) Input with unsupported characters which will be renamed to input in the SavedModel.\n",
      "WARNING:absl:Found untraced functions such as _jit_compiled_convolution_op, _jit_compiled_convolution_op, _jit_compiled_convolution_op, _jit_compiled_convolution_op, _jit_compiled_convolution_op while saving (showing 5 of 91). These functions will not be directly callable after loading.\n"
     ]
    },
    {
     "name": "stdout",
     "output_type": "stream",
     "text": [
      "INFO:tensorflow:Assets written to: experiments\\EfficientnetV2B0_Nov22_23-39-14\\base_ckpts\\cp_80.ckpt\\assets\n"
     ]
    },
    {
     "name": "stderr",
     "output_type": "stream",
     "text": [
      "INFO:tensorflow:Assets written to: experiments\\EfficientnetV2B0_Nov22_23-39-14\\base_ckpts\\cp_80.ckpt\\assets\n"
     ]
    },
    {
     "name": "stdout",
     "output_type": "stream",
     "text": [
      "45/45 [==============================] - 61s 1s/step - loss: 1.0758 - accuracy: 0.6133 - val_loss: 0.3872 - val_accuracy: 0.8920\n",
      "Epoch 81/800\n",
      "45/45 [==============================] - 12s 249ms/step - loss: 1.0829 - accuracy: 0.6041 - val_loss: 0.4084 - val_accuracy: 0.8738\n",
      "Epoch 82/800\n",
      "45/45 [==============================] - 11s 249ms/step - loss: 1.0574 - accuracy: 0.6221 - val_loss: 0.3737 - val_accuracy: 0.8822\n",
      "Epoch 83/800\n",
      "45/45 [==============================] - 11s 249ms/step - loss: 1.0793 - accuracy: 0.6154 - val_loss: 0.3786 - val_accuracy: 0.8808\n",
      "Epoch 84/800\n",
      "45/45 [==============================] - 11s 249ms/step - loss: 1.0696 - accuracy: 0.6281 - val_loss: 0.3863 - val_accuracy: 0.8780\n",
      "Epoch 85/800\n",
      "45/45 [==============================] - 11s 249ms/step - loss: 1.0879 - accuracy: 0.5999 - val_loss: 0.3940 - val_accuracy: 0.8822\n",
      "Epoch 86/800\n",
      "45/45 [==============================] - 11s 249ms/step - loss: 1.0861 - accuracy: 0.6151 - val_loss: 0.3874 - val_accuracy: 0.8794\n",
      "Epoch 87/800\n",
      "45/45 [==============================] - 11s 250ms/step - loss: 1.1140 - accuracy: 0.5995 - val_loss: 0.3908 - val_accuracy: 0.8808\n",
      "Epoch 88/800\n",
      "45/45 [==============================] - 11s 249ms/step - loss: 1.1028 - accuracy: 0.6087 - val_loss: 0.3969 - val_accuracy: 0.8808\n",
      "Epoch 89/800\n",
      "45/45 [==============================] - 11s 249ms/step - loss: 1.0902 - accuracy: 0.6129 - val_loss: 0.3967 - val_accuracy: 0.8808\n",
      "Epoch 90/800\n",
      "45/45 [==============================] - 11s 249ms/step - loss: 1.0956 - accuracy: 0.6136 - val_loss: 0.4121 - val_accuracy: 0.8766\n",
      "Epoch 91/800\n",
      "45/45 [==============================] - 11s 249ms/step - loss: 1.1031 - accuracy: 0.5977 - val_loss: 0.3957 - val_accuracy: 0.8780\n",
      "Epoch 92/800\n",
      "45/45 [==============================] - 11s 249ms/step - loss: 1.0924 - accuracy: 0.6172 - val_loss: 0.3812 - val_accuracy: 0.8794\n",
      "Epoch 93/800\n",
      "45/45 [==============================] - 11s 249ms/step - loss: 1.0725 - accuracy: 0.6186 - val_loss: 0.3769 - val_accuracy: 0.8906\n",
      "Epoch 94/800\n",
      "45/45 [==============================] - 11s 250ms/step - loss: 1.0922 - accuracy: 0.6083 - val_loss: 0.3813 - val_accuracy: 0.8878\n",
      "Epoch 95/800\n",
      "45/45 [==============================] - ETA: 0s - loss: 1.0716 - accuracy: 0.6182"
     ]
    },
    {
     "name": "stderr",
     "output_type": "stream",
     "text": [
      "WARNING:absl:Function `_wrapped_model` contains input name(s) Input with unsupported characters which will be renamed to input in the SavedModel.\n",
      "WARNING:absl:Found untraced functions such as _jit_compiled_convolution_op, _jit_compiled_convolution_op, _jit_compiled_convolution_op, _jit_compiled_convolution_op, _jit_compiled_convolution_op while saving (showing 5 of 91). These functions will not be directly callable after loading.\n"
     ]
    },
    {
     "name": "stdout",
     "output_type": "stream",
     "text": [
      "INFO:tensorflow:Assets written to: experiments\\EfficientnetV2B0_Nov22_23-39-14\\base_ckpts\\cp_95.ckpt\\assets\n"
     ]
    },
    {
     "name": "stderr",
     "output_type": "stream",
     "text": [
      "INFO:tensorflow:Assets written to: experiments\\EfficientnetV2B0_Nov22_23-39-14\\base_ckpts\\cp_95.ckpt\\assets\n"
     ]
    },
    {
     "name": "stdout",
     "output_type": "stream",
     "text": [
      "45/45 [==============================] - 63s 1s/step - loss: 1.0716 - accuracy: 0.6182 - val_loss: 0.3740 - val_accuracy: 0.8934\n",
      "Epoch 96/800\n",
      "45/45 [==============================] - 11s 248ms/step - loss: 1.0727 - accuracy: 0.6211 - val_loss: 0.3632 - val_accuracy: 0.8920\n",
      "Epoch 97/800\n",
      "45/45 [==============================] - 11s 249ms/step - loss: 1.0618 - accuracy: 0.6288 - val_loss: 0.4021 - val_accuracy: 0.8724\n",
      "Epoch 98/800\n",
      "45/45 [==============================] - 11s 249ms/step - loss: 1.0630 - accuracy: 0.6214 - val_loss: 0.3734 - val_accuracy: 0.8892\n",
      "Epoch 99/800\n",
      "45/45 [==============================] - 11s 248ms/step - loss: 1.0583 - accuracy: 0.6182 - val_loss: 0.3907 - val_accuracy: 0.8878\n",
      "Epoch 100/800\n",
      "45/45 [==============================] - 11s 249ms/step - loss: 1.0856 - accuracy: 0.6151 - val_loss: 0.3881 - val_accuracy: 0.8850\n",
      "Epoch 101/800\n",
      "45/45 [==============================] - 11s 249ms/step - loss: 1.0716 - accuracy: 0.6218 - val_loss: 0.3817 - val_accuracy: 0.8836\n",
      "Epoch 102/800\n",
      "45/45 [==============================] - 11s 249ms/step - loss: 1.0716 - accuracy: 0.6161 - val_loss: 0.3777 - val_accuracy: 0.8878\n",
      "Epoch 103/800\n",
      "45/45 [==============================] - 11s 250ms/step - loss: 1.0836 - accuracy: 0.6080 - val_loss: 0.3872 - val_accuracy: 0.8864\n",
      "Epoch 104/800\n",
      "45/45 [==============================] - 11s 250ms/step - loss: 1.0850 - accuracy: 0.6108 - val_loss: 0.3784 - val_accuracy: 0.8864\n",
      "Epoch 105/800\n",
      "45/45 [==============================] - 11s 250ms/step - loss: 1.0723 - accuracy: 0.6122 - val_loss: 0.3884 - val_accuracy: 0.8864\n",
      "Epoch 106/800\n",
      "45/45 [==============================] - 11s 250ms/step - loss: 1.0770 - accuracy: 0.6189 - val_loss: 0.3829 - val_accuracy: 0.8878\n",
      "Epoch 107/800\n",
      "45/45 [==============================] - 11s 249ms/step - loss: 1.0763 - accuracy: 0.6112 - val_loss: 0.3723 - val_accuracy: 0.8906\n",
      "Epoch 108/800\n",
      "45/45 [==============================] - 11s 249ms/step - loss: 1.0559 - accuracy: 0.6207 - val_loss: 0.3777 - val_accuracy: 0.8864\n",
      "Epoch 109/800\n",
      "45/45 [==============================] - 11s 249ms/step - loss: 1.0590 - accuracy: 0.6179 - val_loss: 0.4179 - val_accuracy: 0.8710\n",
      "Epoch 110/800\n",
      "45/45 [==============================] - ETA: 0s - loss: 1.0731 - accuracy: 0.6126"
     ]
    },
    {
     "name": "stderr",
     "output_type": "stream",
     "text": [
      "WARNING:absl:Function `_wrapped_model` contains input name(s) Input with unsupported characters which will be renamed to input in the SavedModel.\n",
      "WARNING:absl:Found untraced functions such as _jit_compiled_convolution_op, _jit_compiled_convolution_op, _jit_compiled_convolution_op, _jit_compiled_convolution_op, _jit_compiled_convolution_op while saving (showing 5 of 91). These functions will not be directly callable after loading.\n"
     ]
    },
    {
     "name": "stdout",
     "output_type": "stream",
     "text": [
      "INFO:tensorflow:Assets written to: experiments\\EfficientnetV2B0_Nov22_23-39-14\\base_ckpts\\cp_110.ckpt\\assets\n"
     ]
    },
    {
     "name": "stderr",
     "output_type": "stream",
     "text": [
      "INFO:tensorflow:Assets written to: experiments\\EfficientnetV2B0_Nov22_23-39-14\\base_ckpts\\cp_110.ckpt\\assets\n"
     ]
    },
    {
     "name": "stdout",
     "output_type": "stream",
     "text": [
      "45/45 [==============================] - 61s 1s/step - loss: 1.0731 - accuracy: 0.6126 - val_loss: 0.3703 - val_accuracy: 0.8948\n",
      "Epoch 111/800\n",
      "45/45 [==============================] - 11s 252ms/step - loss: 1.0441 - accuracy: 0.6239 - val_loss: 0.3707 - val_accuracy: 0.8906\n",
      "Epoch 112/800\n",
      "45/45 [==============================] - 11s 250ms/step - loss: 1.0647 - accuracy: 0.6165 - val_loss: 0.3746 - val_accuracy: 0.8794\n",
      "Epoch 113/800\n",
      "45/45 [==============================] - 11s 250ms/step - loss: 1.0488 - accuracy: 0.6271 - val_loss: 0.3980 - val_accuracy: 0.8738\n",
      "Epoch 114/800\n",
      "45/45 [==============================] - 11s 251ms/step - loss: 1.0818 - accuracy: 0.6069 - val_loss: 0.3699 - val_accuracy: 0.8920\n",
      "Epoch 115/800\n",
      "45/45 [==============================] - 11s 250ms/step - loss: 1.0688 - accuracy: 0.6225 - val_loss: 0.3976 - val_accuracy: 0.8836\n",
      "Epoch 116/800\n",
      "45/45 [==============================] - 11s 253ms/step - loss: 1.0162 - accuracy: 0.6433 - val_loss: 0.3926 - val_accuracy: 0.8780\n",
      "Epoch 117/800\n",
      "45/45 [==============================] - 11s 251ms/step - loss: 1.0843 - accuracy: 0.6168 - val_loss: 0.3951 - val_accuracy: 0.8878\n",
      "Epoch 118/800\n",
      "45/45 [==============================] - 11s 250ms/step - loss: 1.0244 - accuracy: 0.6257 - val_loss: 0.3712 - val_accuracy: 0.8906\n",
      "Epoch 119/800\n",
      "45/45 [==============================] - 11s 250ms/step - loss: 1.0663 - accuracy: 0.6211 - val_loss: 0.3811 - val_accuracy: 0.8906\n",
      "Epoch 120/800\n",
      "45/45 [==============================] - 11s 251ms/step - loss: 1.0796 - accuracy: 0.6122 - val_loss: 0.4121 - val_accuracy: 0.8794\n",
      "Epoch 121/800\n",
      "45/45 [==============================] - 11s 251ms/step - loss: 1.0747 - accuracy: 0.6182 - val_loss: 0.3669 - val_accuracy: 0.8934\n",
      "Epoch 122/800\n",
      "45/45 [==============================] - 11s 251ms/step - loss: 1.0409 - accuracy: 0.6281 - val_loss: 0.3666 - val_accuracy: 0.8850\n",
      "Epoch 123/800\n",
      "45/45 [==============================] - 11s 250ms/step - loss: 1.0516 - accuracy: 0.6200 - val_loss: 0.3609 - val_accuracy: 0.8836\n",
      "Epoch 124/800\n",
      "45/45 [==============================] - 11s 251ms/step - loss: 1.0461 - accuracy: 0.6264 - val_loss: 0.3787 - val_accuracy: 0.8906\n",
      "Epoch 125/800\n",
      "45/45 [==============================] - 11s 254ms/step - loss: 1.0705 - accuracy: 0.6246 - val_loss: 0.3514 - val_accuracy: 0.8906\n",
      "Epoch 126/800\n",
      "45/45 [==============================] - 11s 250ms/step - loss: 1.0620 - accuracy: 0.6204 - val_loss: 0.3478 - val_accuracy: 0.8920\n",
      "Epoch 127/800\n",
      "45/45 [==============================] - 11s 251ms/step - loss: 1.0464 - accuracy: 0.6257 - val_loss: 0.3809 - val_accuracy: 0.8752\n",
      "Epoch 128/800\n",
      "45/45 [==============================] - ETA: 0s - loss: 1.0513 - accuracy: 0.6228"
     ]
    },
    {
     "name": "stderr",
     "output_type": "stream",
     "text": [
      "WARNING:absl:Function `_wrapped_model` contains input name(s) Input with unsupported characters which will be renamed to input in the SavedModel.\n",
      "WARNING:absl:Found untraced functions such as _jit_compiled_convolution_op, _jit_compiled_convolution_op, _jit_compiled_convolution_op, _jit_compiled_convolution_op, _jit_compiled_convolution_op while saving (showing 5 of 91). These functions will not be directly callable after loading.\n"
     ]
    },
    {
     "name": "stdout",
     "output_type": "stream",
     "text": [
      "INFO:tensorflow:Assets written to: experiments\\EfficientnetV2B0_Nov22_23-39-14\\base_ckpts\\cp_128.ckpt\\assets\n"
     ]
    },
    {
     "name": "stderr",
     "output_type": "stream",
     "text": [
      "INFO:tensorflow:Assets written to: experiments\\EfficientnetV2B0_Nov22_23-39-14\\base_ckpts\\cp_128.ckpt\\assets\n"
     ]
    },
    {
     "name": "stdout",
     "output_type": "stream",
     "text": [
      "45/45 [==============================] - 61s 1s/step - loss: 1.0513 - accuracy: 0.6228 - val_loss: 0.3500 - val_accuracy: 0.8962\n",
      "Epoch 129/800\n",
      "45/45 [==============================] - 11s 249ms/step - loss: 1.0576 - accuracy: 0.6246 - val_loss: 0.3561 - val_accuracy: 0.8906\n",
      "Epoch 130/800\n",
      "45/45 [==============================] - 11s 249ms/step - loss: 1.0467 - accuracy: 0.6221 - val_loss: 0.3543 - val_accuracy: 0.8920\n",
      "Epoch 131/800\n",
      "45/45 [==============================] - ETA: 0s - loss: 1.0357 - accuracy: 0.6285"
     ]
    },
    {
     "name": "stderr",
     "output_type": "stream",
     "text": [
      "WARNING:absl:Function `_wrapped_model` contains input name(s) Input with unsupported characters which will be renamed to input in the SavedModel.\n",
      "WARNING:absl:Found untraced functions such as _jit_compiled_convolution_op, _jit_compiled_convolution_op, _jit_compiled_convolution_op, _jit_compiled_convolution_op, _jit_compiled_convolution_op while saving (showing 5 of 91). These functions will not be directly callable after loading.\n"
     ]
    },
    {
     "name": "stdout",
     "output_type": "stream",
     "text": [
      "INFO:tensorflow:Assets written to: experiments\\EfficientnetV2B0_Nov22_23-39-14\\base_ckpts\\cp_131.ckpt\\assets\n"
     ]
    },
    {
     "name": "stderr",
     "output_type": "stream",
     "text": [
      "INFO:tensorflow:Assets written to: experiments\\EfficientnetV2B0_Nov22_23-39-14\\base_ckpts\\cp_131.ckpt\\assets\n"
     ]
    },
    {
     "name": "stdout",
     "output_type": "stream",
     "text": [
      "45/45 [==============================] - 64s 1s/step - loss: 1.0357 - accuracy: 0.6285 - val_loss: 0.3402 - val_accuracy: 0.9046\n",
      "Epoch 132/800\n",
      "45/45 [==============================] - 12s 249ms/step - loss: 1.0438 - accuracy: 0.6296 - val_loss: 0.3853 - val_accuracy: 0.8738\n",
      "Epoch 133/800\n",
      "45/45 [==============================] - 11s 249ms/step - loss: 1.0517 - accuracy: 0.6250 - val_loss: 0.3506 - val_accuracy: 0.8976\n",
      "Epoch 134/800\n",
      "45/45 [==============================] - 11s 249ms/step - loss: 1.0693 - accuracy: 0.6165 - val_loss: 0.3656 - val_accuracy: 0.8836\n",
      "Epoch 135/800\n",
      "45/45 [==============================] - 11s 250ms/step - loss: 1.0859 - accuracy: 0.6080 - val_loss: 0.3719 - val_accuracy: 0.8794\n",
      "Epoch 136/800\n",
      "45/45 [==============================] - 11s 249ms/step - loss: 1.0501 - accuracy: 0.6197 - val_loss: 0.3717 - val_accuracy: 0.8766\n",
      "Epoch 137/800\n",
      "45/45 [==============================] - 11s 249ms/step - loss: 1.0345 - accuracy: 0.6197 - val_loss: 0.3807 - val_accuracy: 0.8766\n",
      "Epoch 138/800\n",
      "45/45 [==============================] - 11s 249ms/step - loss: 1.0711 - accuracy: 0.6193 - val_loss: 0.3717 - val_accuracy: 0.8752\n",
      "Epoch 139/800\n",
      "45/45 [==============================] - 11s 249ms/step - loss: 1.0457 - accuracy: 0.6338 - val_loss: 0.3623 - val_accuracy: 0.8850\n",
      "Epoch 140/800\n",
      "45/45 [==============================] - 11s 249ms/step - loss: 1.0501 - accuracy: 0.6306 - val_loss: 0.3769 - val_accuracy: 0.8724\n",
      "Epoch 141/800\n",
      "45/45 [==============================] - 11s 249ms/step - loss: 1.0240 - accuracy: 0.6228 - val_loss: 0.3552 - val_accuracy: 0.8892\n",
      "Epoch 142/800\n",
      "45/45 [==============================] - 11s 250ms/step - loss: 1.0389 - accuracy: 0.6352 - val_loss: 0.3580 - val_accuracy: 0.8836\n",
      "Epoch 143/800\n",
      "45/45 [==============================] - 11s 250ms/step - loss: 1.0445 - accuracy: 0.6260 - val_loss: 0.3729 - val_accuracy: 0.8836\n",
      "Epoch 144/800\n",
      "45/45 [==============================] - 11s 249ms/step - loss: 1.0479 - accuracy: 0.6225 - val_loss: 0.3593 - val_accuracy: 0.8822\n",
      "Epoch 145/800\n",
      "45/45 [==============================] - 11s 250ms/step - loss: 1.0376 - accuracy: 0.6221 - val_loss: 0.3521 - val_accuracy: 0.8752\n",
      "Epoch 146/800\n",
      "45/45 [==============================] - 11s 250ms/step - loss: 1.0189 - accuracy: 0.6366 - val_loss: 0.3743 - val_accuracy: 0.8780\n",
      "Epoch 147/800\n",
      "45/45 [==============================] - 11s 250ms/step - loss: 1.0536 - accuracy: 0.6211 - val_loss: 0.3571 - val_accuracy: 0.8878\n",
      "Epoch 148/800\n",
      "45/45 [==============================] - 11s 250ms/step - loss: 1.0277 - accuracy: 0.6299 - val_loss: 0.3793 - val_accuracy: 0.8822\n",
      "Epoch 149/800\n",
      "45/45 [==============================] - 11s 250ms/step - loss: 1.0466 - accuracy: 0.6257 - val_loss: 0.3730 - val_accuracy: 0.8850\n",
      "Epoch 150/800\n",
      "45/45 [==============================] - 11s 251ms/step - loss: 1.0450 - accuracy: 0.6151 - val_loss: 0.3574 - val_accuracy: 0.8934\n",
      "Epoch 151/800\n",
      "45/45 [==============================] - 11s 251ms/step - loss: 1.0335 - accuracy: 0.6246 - val_loss: 0.3417 - val_accuracy: 0.8934\n",
      "Epoch 152/800\n",
      "45/45 [==============================] - 11s 250ms/step - loss: 1.0481 - accuracy: 0.6296 - val_loss: 0.3516 - val_accuracy: 0.8906\n",
      "Epoch 153/800\n",
      "45/45 [==============================] - 11s 250ms/step - loss: 1.0101 - accuracy: 0.6327 - val_loss: 0.3569 - val_accuracy: 0.8822\n",
      "Epoch 154/800\n",
      "45/45 [==============================] - 12s 256ms/step - loss: 1.0101 - accuracy: 0.6476 - val_loss: 0.3757 - val_accuracy: 0.8738\n",
      "Epoch 155/800\n",
      "45/45 [==============================] - 12s 266ms/step - loss: 1.0239 - accuracy: 0.6320 - val_loss: 0.3611 - val_accuracy: 0.8906\n",
      "Epoch 156/800\n",
      "45/45 [==============================] - 12s 260ms/step - loss: 1.0249 - accuracy: 0.6242 - val_loss: 0.3564 - val_accuracy: 0.8962\n",
      "Epoch 157/800\n",
      "45/45 [==============================] - 12s 255ms/step - loss: 1.0075 - accuracy: 0.6345 - val_loss: 0.3861 - val_accuracy: 0.8780\n",
      "Epoch 158/800\n",
      "45/45 [==============================] - 11s 251ms/step - loss: 1.0251 - accuracy: 0.6356 - val_loss: 0.3701 - val_accuracy: 0.8766\n",
      "Epoch 159/800\n",
      "45/45 [==============================] - 11s 251ms/step - loss: 1.0232 - accuracy: 0.6359 - val_loss: 0.3480 - val_accuracy: 0.8962\n",
      "Epoch 160/800\n",
      "45/45 [==============================] - 11s 251ms/step - loss: 1.0137 - accuracy: 0.6402 - val_loss: 0.3549 - val_accuracy: 0.8878\n",
      "Epoch 161/800\n",
      "45/45 [==============================] - 11s 254ms/step - loss: 1.0360 - accuracy: 0.6317 - val_loss: 0.3748 - val_accuracy: 0.8780\n",
      "Epoch 162/800\n",
      "45/45 [==============================] - 11s 250ms/step - loss: 1.0138 - accuracy: 0.6288 - val_loss: 0.3632 - val_accuracy: 0.8878\n",
      "Epoch 163/800\n",
      "45/45 [==============================] - 11s 251ms/step - loss: 1.0238 - accuracy: 0.6317 - val_loss: 0.3663 - val_accuracy: 0.8836\n",
      "Epoch 164/800\n",
      "45/45 [==============================] - 11s 251ms/step - loss: 0.9972 - accuracy: 0.6331 - val_loss: 0.3579 - val_accuracy: 0.8920\n",
      "Epoch 165/800\n",
      "45/45 [==============================] - 11s 251ms/step - loss: 1.0331 - accuracy: 0.6264 - val_loss: 0.3903 - val_accuracy: 0.8696\n",
      "Epoch 166/800\n",
      "45/45 [==============================] - 11s 250ms/step - loss: 1.0248 - accuracy: 0.6444 - val_loss: 0.3690 - val_accuracy: 0.8808\n",
      "Epoch 167/800\n",
      "45/45 [==============================] - 11s 250ms/step - loss: 1.0352 - accuracy: 0.6292 - val_loss: 0.3620 - val_accuracy: 0.8836\n",
      "Epoch 168/800\n",
      "45/45 [==============================] - 11s 250ms/step - loss: 1.0078 - accuracy: 0.6373 - val_loss: 0.3471 - val_accuracy: 0.8892\n",
      "Epoch 169/800\n",
      "45/45 [==============================] - 11s 250ms/step - loss: 1.0213 - accuracy: 0.6306 - val_loss: 0.3732 - val_accuracy: 0.8808\n",
      "Epoch 170/800\n",
      "45/45 [==============================] - 11s 250ms/step - loss: 1.0480 - accuracy: 0.6193 - val_loss: 0.3907 - val_accuracy: 0.8766\n",
      "Epoch 171/800\n",
      "45/45 [==============================] - 11s 250ms/step - loss: 1.0293 - accuracy: 0.6349 - val_loss: 0.3812 - val_accuracy: 0.8850\n",
      "Epoch 172/800\n",
      "45/45 [==============================] - 11s 250ms/step - loss: 1.0244 - accuracy: 0.6242 - val_loss: 0.3734 - val_accuracy: 0.8836\n",
      "Epoch 173/800\n",
      "45/45 [==============================] - 11s 251ms/step - loss: 1.0242 - accuracy: 0.6394 - val_loss: 0.3471 - val_accuracy: 0.8920\n",
      "Epoch 174/800\n",
      "45/45 [==============================] - 11s 250ms/step - loss: 0.9851 - accuracy: 0.6430 - val_loss: 0.3660 - val_accuracy: 0.8906\n",
      "Epoch 175/800\n",
      "45/45 [==============================] - 11s 250ms/step - loss: 1.0144 - accuracy: 0.6324 - val_loss: 0.3515 - val_accuracy: 0.8976\n",
      "Epoch 176/800\n",
      "45/45 [==============================] - 11s 251ms/step - loss: 1.0122 - accuracy: 0.6377 - val_loss: 0.3604 - val_accuracy: 0.8962\n",
      "Epoch 177/800\n",
      "45/45 [==============================] - 11s 250ms/step - loss: 1.0041 - accuracy: 0.6497 - val_loss: 0.3691 - val_accuracy: 0.8920\n",
      "Epoch 178/800\n",
      "45/45 [==============================] - 11s 250ms/step - loss: 1.0322 - accuracy: 0.6271 - val_loss: 0.3705 - val_accuracy: 0.8920\n",
      "Epoch 179/800\n",
      "45/45 [==============================] - 11s 250ms/step - loss: 0.9896 - accuracy: 0.6497 - val_loss: 0.3484 - val_accuracy: 0.8934\n",
      "Epoch 180/800\n",
      "45/45 [==============================] - 11s 250ms/step - loss: 1.0054 - accuracy: 0.6405 - val_loss: 0.3722 - val_accuracy: 0.8836\n",
      "Epoch 181/800\n",
      "45/45 [==============================] - 11s 250ms/step - loss: 1.0091 - accuracy: 0.6433 - val_loss: 0.3471 - val_accuracy: 0.8934\n",
      "Epoch 182/800\n",
      "45/45 [==============================] - 11s 251ms/step - loss: 0.9949 - accuracy: 0.6412 - val_loss: 0.3496 - val_accuracy: 0.8990\n",
      "Epoch 183/800\n",
      "45/45 [==============================] - 11s 250ms/step - loss: 1.0168 - accuracy: 0.6338 - val_loss: 0.3857 - val_accuracy: 0.8766\n",
      "Epoch 184/800\n",
      "45/45 [==============================] - 11s 250ms/step - loss: 1.0150 - accuracy: 0.6402 - val_loss: 0.3611 - val_accuracy: 0.8850\n",
      "Epoch 185/800\n",
      "45/45 [==============================] - 11s 251ms/step - loss: 0.9852 - accuracy: 0.6451 - val_loss: 0.3685 - val_accuracy: 0.8920\n",
      "Epoch 186/800\n",
      "45/45 [==============================] - 11s 251ms/step - loss: 1.0090 - accuracy: 0.6384 - val_loss: 0.3764 - val_accuracy: 0.8794\n",
      "Epoch 187/800\n",
      "45/45 [==============================] - 11s 250ms/step - loss: 0.9924 - accuracy: 0.6472 - val_loss: 0.3541 - val_accuracy: 0.8962\n",
      "Epoch 188/800\n",
      "45/45 [==============================] - 11s 250ms/step - loss: 1.0192 - accuracy: 0.6356 - val_loss: 0.3627 - val_accuracy: 0.8850\n",
      "Epoch 189/800\n",
      "45/45 [==============================] - 11s 250ms/step - loss: 1.0111 - accuracy: 0.6345 - val_loss: 0.3466 - val_accuracy: 0.8892\n",
      "Epoch 190/800\n",
      "45/45 [==============================] - 11s 249ms/step - loss: 1.0022 - accuracy: 0.6426 - val_loss: 0.3532 - val_accuracy: 0.8892\n",
      "Epoch 191/800\n",
      "45/45 [==============================] - 11s 249ms/step - loss: 1.0005 - accuracy: 0.6486 - val_loss: 0.3833 - val_accuracy: 0.8780\n",
      "Epoch 192/800\n",
      "45/45 [==============================] - 11s 250ms/step - loss: 1.0036 - accuracy: 0.6416 - val_loss: 0.3666 - val_accuracy: 0.8948\n",
      "Epoch 193/800\n",
      "45/45 [==============================] - 11s 251ms/step - loss: 0.9858 - accuracy: 0.6440 - val_loss: 0.3467 - val_accuracy: 0.8990\n",
      "Epoch 194/800\n",
      "45/45 [==============================] - 11s 252ms/step - loss: 0.9914 - accuracy: 0.6451 - val_loss: 0.3709 - val_accuracy: 0.8836\n",
      "Epoch 195/800\n",
      "45/45 [==============================] - 12s 273ms/step - loss: 1.0271 - accuracy: 0.6274 - val_loss: 0.3526 - val_accuracy: 0.8948\n",
      "Epoch 196/800\n",
      "45/45 [==============================] - 11s 250ms/step - loss: 0.9878 - accuracy: 0.6511 - val_loss: 0.3874 - val_accuracy: 0.8752\n",
      "Epoch 197/800\n",
      "45/45 [==============================] - 11s 251ms/step - loss: 0.9810 - accuracy: 0.6391 - val_loss: 0.3720 - val_accuracy: 0.8892\n",
      "Epoch 198/800\n",
      "45/45 [==============================] - 11s 250ms/step - loss: 1.0092 - accuracy: 0.6426 - val_loss: 0.3900 - val_accuracy: 0.8780\n",
      "Epoch 199/800\n",
      "45/45 [==============================] - 11s 250ms/step - loss: 0.9850 - accuracy: 0.6462 - val_loss: 0.3699 - val_accuracy: 0.8864\n",
      "Epoch 200/800\n",
      "45/45 [==============================] - 11s 249ms/step - loss: 0.9913 - accuracy: 0.6511 - val_loss: 0.3798 - val_accuracy: 0.8906\n",
      "Epoch 201/800\n",
      "45/45 [==============================] - 11s 250ms/step - loss: 0.9735 - accuracy: 0.6638 - val_loss: 0.3694 - val_accuracy: 0.8864\n",
      "Epoch 202/800\n",
      "45/45 [==============================] - 11s 250ms/step - loss: 1.0093 - accuracy: 0.6405 - val_loss: 0.3730 - val_accuracy: 0.8878\n",
      "Epoch 203/800\n",
      "45/45 [==============================] - 11s 250ms/step - loss: 0.9953 - accuracy: 0.6419 - val_loss: 0.3493 - val_accuracy: 0.8892\n",
      "Epoch 204/800\n",
      "45/45 [==============================] - 11s 250ms/step - loss: 0.9781 - accuracy: 0.6550 - val_loss: 0.3504 - val_accuracy: 0.9018\n",
      "Epoch 205/800\n",
      "45/45 [==============================] - 11s 250ms/step - loss: 0.9900 - accuracy: 0.6430 - val_loss: 0.3782 - val_accuracy: 0.8836\n",
      "Epoch 206/800\n",
      "45/45 [==============================] - 11s 250ms/step - loss: 0.9867 - accuracy: 0.6387 - val_loss: 0.3463 - val_accuracy: 0.8920\n",
      "Epoch 207/800\n",
      "45/45 [==============================] - 11s 251ms/step - loss: 0.9939 - accuracy: 0.6419 - val_loss: 0.3623 - val_accuracy: 0.8920\n",
      "Epoch 208/800\n",
      "45/45 [==============================] - 11s 250ms/step - loss: 0.9866 - accuracy: 0.6479 - val_loss: 0.3712 - val_accuracy: 0.8752\n",
      "Epoch 209/800\n",
      "45/45 [==============================] - 11s 250ms/step - loss: 0.9851 - accuracy: 0.6391 - val_loss: 0.3685 - val_accuracy: 0.8836\n",
      "Epoch 210/800\n",
      "45/45 [==============================] - 11s 250ms/step - loss: 1.0116 - accuracy: 0.6359 - val_loss: 0.3816 - val_accuracy: 0.8752\n",
      "Epoch 211/800\n",
      "45/45 [==============================] - 11s 250ms/step - loss: 0.9805 - accuracy: 0.6504 - val_loss: 0.3819 - val_accuracy: 0.8906\n",
      "Epoch 212/800\n",
      "45/45 [==============================] - 11s 250ms/step - loss: 0.9644 - accuracy: 0.6617 - val_loss: 0.3858 - val_accuracy: 0.8836\n",
      "Epoch 213/800\n",
      "45/45 [==============================] - 11s 250ms/step - loss: 0.9937 - accuracy: 0.6448 - val_loss: 0.3879 - val_accuracy: 0.8850\n",
      "Epoch 214/800\n",
      "45/45 [==============================] - 11s 251ms/step - loss: 0.9925 - accuracy: 0.6423 - val_loss: 0.3660 - val_accuracy: 0.8920\n",
      "Epoch 215/800\n",
      "45/45 [==============================] - 11s 250ms/step - loss: 0.9887 - accuracy: 0.6448 - val_loss: 0.3458 - val_accuracy: 0.9032\n",
      "Epoch 216/800\n",
      "45/45 [==============================] - 11s 250ms/step - loss: 0.9823 - accuracy: 0.6444 - val_loss: 0.3538 - val_accuracy: 0.8850\n",
      "Epoch 217/800\n",
      "45/45 [==============================] - 11s 250ms/step - loss: 0.9690 - accuracy: 0.6504 - val_loss: 0.3747 - val_accuracy: 0.8864\n",
      "Epoch 218/800\n",
      "45/45 [==============================] - 11s 249ms/step - loss: 0.9877 - accuracy: 0.6356 - val_loss: 0.3630 - val_accuracy: 0.8990\n",
      "Epoch 219/800\n",
      "45/45 [==============================] - 11s 250ms/step - loss: 0.9806 - accuracy: 0.6430 - val_loss: 0.3585 - val_accuracy: 0.8962\n",
      "Epoch 220/800\n",
      "45/45 [==============================] - 11s 250ms/step - loss: 0.9961 - accuracy: 0.6419 - val_loss: 0.3454 - val_accuracy: 0.8948\n",
      "Epoch 221/800\n",
      "45/45 [==============================] - 11s 250ms/step - loss: 0.9867 - accuracy: 0.6455 - val_loss: 0.3549 - val_accuracy: 0.8892\n",
      "Epoch 222/800\n",
      "45/45 [==============================] - 11s 250ms/step - loss: 0.9802 - accuracy: 0.6568 - val_loss: 0.3773 - val_accuracy: 0.8766\n",
      "Epoch 223/800\n",
      "45/45 [==============================] - 11s 249ms/step - loss: 0.9697 - accuracy: 0.6564 - val_loss: 0.3545 - val_accuracy: 0.8976\n",
      "Epoch 224/800\n",
      "45/45 [==============================] - 11s 250ms/step - loss: 0.9671 - accuracy: 0.6444 - val_loss: 0.3535 - val_accuracy: 0.8976\n",
      "Epoch 225/800\n",
      "45/45 [==============================] - 11s 250ms/step - loss: 0.9511 - accuracy: 0.6617 - val_loss: 0.4127 - val_accuracy: 0.8738\n",
      "Epoch 226/800\n",
      "45/45 [==============================] - 11s 250ms/step - loss: 0.9585 - accuracy: 0.6607 - val_loss: 0.3692 - val_accuracy: 0.8864\n",
      "Epoch 227/800\n",
      "45/45 [==============================] - ETA: 0s - loss: 0.9789 - accuracy: 0.6405"
     ]
    },
    {
     "name": "stderr",
     "output_type": "stream",
     "text": [
      "WARNING:absl:Function `_wrapped_model` contains input name(s) Input with unsupported characters which will be renamed to input in the SavedModel.\n",
      "WARNING:absl:Found untraced functions such as _jit_compiled_convolution_op, _jit_compiled_convolution_op, _jit_compiled_convolution_op, _jit_compiled_convolution_op, _jit_compiled_convolution_op while saving (showing 5 of 91). These functions will not be directly callable after loading.\n"
     ]
    },
    {
     "name": "stdout",
     "output_type": "stream",
     "text": [
      "INFO:tensorflow:Assets written to: experiments\\EfficientnetV2B0_Nov22_23-39-14\\base_ckpts\\cp_227.ckpt\\assets\n"
     ]
    },
    {
     "name": "stderr",
     "output_type": "stream",
     "text": [
      "INFO:tensorflow:Assets written to: experiments\\EfficientnetV2B0_Nov22_23-39-14\\base_ckpts\\cp_227.ckpt\\assets\n"
     ]
    },
    {
     "name": "stdout",
     "output_type": "stream",
     "text": [
      "45/45 [==============================] - 62s 1s/step - loss: 0.9789 - accuracy: 0.6405 - val_loss: 0.3402 - val_accuracy: 0.9074\n",
      "Epoch 228/800\n",
      "45/45 [==============================] - 12s 250ms/step - loss: 0.9750 - accuracy: 0.6557 - val_loss: 0.3475 - val_accuracy: 0.8976\n",
      "Epoch 229/800\n",
      "45/45 [==============================] - 11s 250ms/step - loss: 0.9936 - accuracy: 0.6479 - val_loss: 0.3467 - val_accuracy: 0.8920\n",
      "Epoch 230/800\n",
      "45/45 [==============================] - 11s 251ms/step - loss: 0.9911 - accuracy: 0.6433 - val_loss: 0.3679 - val_accuracy: 0.8948\n",
      "Epoch 231/800\n",
      "45/45 [==============================] - 11s 251ms/step - loss: 0.9697 - accuracy: 0.6483 - val_loss: 0.3675 - val_accuracy: 0.8878\n",
      "Epoch 232/800\n",
      "45/45 [==============================] - 11s 251ms/step - loss: 0.9815 - accuracy: 0.6539 - val_loss: 0.3736 - val_accuracy: 0.8878\n",
      "Epoch 233/800\n",
      "45/45 [==============================] - 11s 250ms/step - loss: 0.9555 - accuracy: 0.6592 - val_loss: 0.3370 - val_accuracy: 0.8962\n",
      "Epoch 234/800\n",
      "45/45 [==============================] - 11s 251ms/step - loss: 0.9614 - accuracy: 0.6614 - val_loss: 0.3579 - val_accuracy: 0.8892\n",
      "Epoch 235/800\n",
      "45/45 [==============================] - 11s 250ms/step - loss: 0.9592 - accuracy: 0.6433 - val_loss: 0.3519 - val_accuracy: 0.8892\n",
      "Epoch 236/800\n",
      "45/45 [==============================] - 12s 254ms/step - loss: 0.9609 - accuracy: 0.6568 - val_loss: 0.3563 - val_accuracy: 0.8892\n",
      "Epoch 237/800\n",
      "45/45 [==============================] - 11s 253ms/step - loss: 0.9953 - accuracy: 0.6370 - val_loss: 0.3567 - val_accuracy: 0.8836\n",
      "Epoch 238/800\n",
      "45/45 [==============================] - 11s 251ms/step - loss: 0.9279 - accuracy: 0.6603 - val_loss: 0.3602 - val_accuracy: 0.8948\n",
      "Epoch 239/800\n",
      "45/45 [==============================] - 11s 250ms/step - loss: 0.9788 - accuracy: 0.6546 - val_loss: 0.3576 - val_accuracy: 0.8962\n",
      "Epoch 240/800\n",
      "45/45 [==============================] - 11s 251ms/step - loss: 0.9809 - accuracy: 0.6448 - val_loss: 0.3562 - val_accuracy: 0.8906\n",
      "Epoch 241/800\n",
      "45/45 [==============================] - 11s 252ms/step - loss: 0.9377 - accuracy: 0.6674 - val_loss: 0.3597 - val_accuracy: 0.8948\n",
      "Epoch 242/800\n",
      "45/45 [==============================] - 11s 251ms/step - loss: 0.9946 - accuracy: 0.6402 - val_loss: 0.3502 - val_accuracy: 0.8976\n",
      "Epoch 243/800\n",
      "45/45 [==============================] - 11s 251ms/step - loss: 0.9732 - accuracy: 0.6624 - val_loss: 0.3504 - val_accuracy: 0.8976\n",
      "Epoch 244/800\n",
      "45/45 [==============================] - 11s 251ms/step - loss: 0.9602 - accuracy: 0.6543 - val_loss: 0.3563 - val_accuracy: 0.9004\n",
      "Epoch 245/800\n",
      "45/45 [==============================] - 11s 251ms/step - loss: 0.9580 - accuracy: 0.6624 - val_loss: 0.3797 - val_accuracy: 0.8934\n",
      "Epoch 246/800\n",
      "45/45 [==============================] - 11s 251ms/step - loss: 0.9798 - accuracy: 0.6391 - val_loss: 0.3796 - val_accuracy: 0.8906\n",
      "Epoch 247/800\n",
      "45/45 [==============================] - 11s 251ms/step - loss: 0.9604 - accuracy: 0.6554 - val_loss: 0.3537 - val_accuracy: 0.9018\n",
      "Epoch 248/800\n",
      "45/45 [==============================] - 11s 251ms/step - loss: 0.9390 - accuracy: 0.6663 - val_loss: 0.3526 - val_accuracy: 0.9060\n",
      "Epoch 249/800\n",
      "45/45 [==============================] - 11s 251ms/step - loss: 0.9512 - accuracy: 0.6582 - val_loss: 0.3693 - val_accuracy: 0.8920\n",
      "Epoch 250/800\n",
      "45/45 [==============================] - 11s 251ms/step - loss: 0.9408 - accuracy: 0.6589 - val_loss: 0.3645 - val_accuracy: 0.8948\n",
      "Epoch 251/800\n",
      "45/45 [==============================] - 11s 251ms/step - loss: 0.9412 - accuracy: 0.6695 - val_loss: 0.3556 - val_accuracy: 0.8920\n",
      "Epoch 252/800\n",
      "45/45 [==============================] - 11s 251ms/step - loss: 0.9689 - accuracy: 0.6483 - val_loss: 0.3645 - val_accuracy: 0.8822\n",
      "Epoch 253/800\n",
      "45/45 [==============================] - 11s 251ms/step - loss: 0.9912 - accuracy: 0.6373 - val_loss: 0.3682 - val_accuracy: 0.8878\n",
      "Epoch 254/800\n",
      "45/45 [==============================] - 11s 251ms/step - loss: 0.9689 - accuracy: 0.6469 - val_loss: 0.3543 - val_accuracy: 0.9004\n",
      "Epoch 255/800\n",
      "45/45 [==============================] - 11s 251ms/step - loss: 0.9483 - accuracy: 0.6600 - val_loss: 0.3644 - val_accuracy: 0.8920\n",
      "Epoch 256/800\n",
      "45/45 [==============================] - 11s 250ms/step - loss: 0.9236 - accuracy: 0.6706 - val_loss: 0.3556 - val_accuracy: 0.8920\n",
      "Epoch 257/800\n",
      "45/45 [==============================] - 11s 251ms/step - loss: 0.9260 - accuracy: 0.6660 - val_loss: 0.3434 - val_accuracy: 0.8892\n",
      "Epoch 258/800\n",
      "45/45 [==============================] - 11s 251ms/step - loss: 0.9702 - accuracy: 0.6490 - val_loss: 0.3428 - val_accuracy: 0.8962\n",
      "Epoch 259/800\n",
      "45/45 [==============================] - 11s 251ms/step - loss: 0.9602 - accuracy: 0.6536 - val_loss: 0.3631 - val_accuracy: 0.8934\n",
      "Epoch 260/800\n",
      "45/45 [==============================] - 11s 251ms/step - loss: 0.9444 - accuracy: 0.6621 - val_loss: 0.3747 - val_accuracy: 0.8962\n",
      "Epoch 261/800\n",
      "45/45 [==============================] - 11s 251ms/step - loss: 0.9629 - accuracy: 0.6582 - val_loss: 0.3450 - val_accuracy: 0.9060\n",
      "Epoch 262/800\n",
      "45/45 [==============================] - 11s 252ms/step - loss: 0.9225 - accuracy: 0.6691 - val_loss: 0.3359 - val_accuracy: 0.9004\n",
      "Epoch 263/800\n",
      "45/45 [==============================] - 11s 251ms/step - loss: 0.9418 - accuracy: 0.6603 - val_loss: 0.3459 - val_accuracy: 0.8920\n",
      "Epoch 264/800\n",
      "45/45 [==============================] - 11s 251ms/step - loss: 0.9701 - accuracy: 0.6515 - val_loss: 0.3534 - val_accuracy: 0.8934\n",
      "Epoch 265/800\n",
      "45/45 [==============================] - 11s 250ms/step - loss: 0.9274 - accuracy: 0.6737 - val_loss: 0.3460 - val_accuracy: 0.8990\n",
      "Epoch 266/800\n",
      "45/45 [==============================] - 11s 251ms/step - loss: 0.9413 - accuracy: 0.6631 - val_loss: 0.4063 - val_accuracy: 0.8850\n",
      "Epoch 267/800\n",
      "45/45 [==============================] - 11s 254ms/step - loss: 0.9361 - accuracy: 0.6610 - val_loss: 0.3622 - val_accuracy: 0.8948\n",
      "Epoch 268/800\n",
      "45/45 [==============================] - 11s 254ms/step - loss: 0.9069 - accuracy: 0.6822 - val_loss: 0.3542 - val_accuracy: 0.8976\n",
      "Epoch 269/800\n",
      "45/45 [==============================] - 11s 251ms/step - loss: 0.9366 - accuracy: 0.6702 - val_loss: 0.3329 - val_accuracy: 0.9074\n",
      "Epoch 270/800\n",
      "45/45 [==============================] - 11s 251ms/step - loss: 0.9316 - accuracy: 0.6684 - val_loss: 0.3566 - val_accuracy: 0.8948\n",
      "Epoch 271/800\n",
      "45/45 [==============================] - 11s 251ms/step - loss: 0.9246 - accuracy: 0.6688 - val_loss: 0.3362 - val_accuracy: 0.9032\n",
      "Epoch 272/800\n",
      "45/45 [==============================] - 11s 251ms/step - loss: 0.9439 - accuracy: 0.6667 - val_loss: 0.3327 - val_accuracy: 0.9018\n",
      "Epoch 273/800\n",
      "45/45 [==============================] - 11s 251ms/step - loss: 0.9386 - accuracy: 0.6663 - val_loss: 0.3303 - val_accuracy: 0.9046\n",
      "Epoch 274/800\n",
      "45/45 [==============================] - 11s 251ms/step - loss: 0.9531 - accuracy: 0.6550 - val_loss: 0.3377 - val_accuracy: 0.8934\n",
      "Epoch 275/800\n",
      "45/45 [==============================] - 11s 251ms/step - loss: 0.9743 - accuracy: 0.6546 - val_loss: 0.3671 - val_accuracy: 0.8962\n",
      "Epoch 276/800\n",
      "45/45 [==============================] - 11s 251ms/step - loss: 0.9363 - accuracy: 0.6603 - val_loss: 0.3498 - val_accuracy: 0.9060\n",
      "Epoch 277/800\n",
      "45/45 [==============================] - 11s 251ms/step - loss: 0.9286 - accuracy: 0.6649 - val_loss: 0.3414 - val_accuracy: 0.8990\n",
      "Epoch 278/800\n",
      "45/45 [==============================] - 11s 251ms/step - loss: 0.9473 - accuracy: 0.6592 - val_loss: 0.3561 - val_accuracy: 0.8962\n",
      "Epoch 279/800\n",
      "45/45 [==============================] - 11s 251ms/step - loss: 0.9394 - accuracy: 0.6607 - val_loss: 0.3577 - val_accuracy: 0.8850\n",
      "Epoch 280/800\n",
      "45/45 [==============================] - 11s 251ms/step - loss: 0.9237 - accuracy: 0.6645 - val_loss: 0.3389 - val_accuracy: 0.8990\n",
      "Epoch 281/800\n",
      "45/45 [==============================] - 11s 251ms/step - loss: 0.9542 - accuracy: 0.6610 - val_loss: 0.3439 - val_accuracy: 0.9074\n",
      "Epoch 282/800\n",
      "45/45 [==============================] - 11s 251ms/step - loss: 0.9313 - accuracy: 0.6684 - val_loss: 0.3767 - val_accuracy: 0.8836\n",
      "Epoch 283/800\n",
      "45/45 [==============================] - 11s 251ms/step - loss: 0.9340 - accuracy: 0.6698 - val_loss: 0.3539 - val_accuracy: 0.8962\n",
      "Epoch 284/800\n",
      "45/45 [==============================] - 11s 251ms/step - loss: 0.9224 - accuracy: 0.6688 - val_loss: 0.3506 - val_accuracy: 0.8906\n",
      "Epoch 285/800\n",
      "45/45 [==============================] - 11s 250ms/step - loss: 0.9416 - accuracy: 0.6497 - val_loss: 0.3527 - val_accuracy: 0.9018\n",
      "Epoch 286/800\n",
      "45/45 [==============================] - 11s 250ms/step - loss: 0.9104 - accuracy: 0.6681 - val_loss: 0.3578 - val_accuracy: 0.8934\n",
      "Epoch 287/800\n",
      "45/45 [==============================] - 11s 250ms/step - loss: 0.9085 - accuracy: 0.6766 - val_loss: 0.3421 - val_accuracy: 0.8934\n",
      "Epoch 288/800\n",
      "45/45 [==============================] - 11s 251ms/step - loss: 0.9553 - accuracy: 0.6532 - val_loss: 0.3635 - val_accuracy: 0.8878\n",
      "Epoch 289/800\n",
      "45/45 [==============================] - 11s 251ms/step - loss: 0.9258 - accuracy: 0.6543 - val_loss: 0.3562 - val_accuracy: 0.8948\n",
      "Epoch 290/800\n",
      "45/45 [==============================] - 11s 250ms/step - loss: 0.9140 - accuracy: 0.6635 - val_loss: 0.3656 - val_accuracy: 0.8878\n",
      "Epoch 291/800\n",
      "45/45 [==============================] - 11s 250ms/step - loss: 0.9290 - accuracy: 0.6766 - val_loss: 0.3476 - val_accuracy: 0.8976\n",
      "Epoch 292/800\n",
      "45/45 [==============================] - 11s 250ms/step - loss: 0.9197 - accuracy: 0.6695 - val_loss: 0.3541 - val_accuracy: 0.8934\n",
      "Epoch 293/800\n",
      "45/45 [==============================] - 11s 250ms/step - loss: 0.9236 - accuracy: 0.6684 - val_loss: 0.3463 - val_accuracy: 0.8990\n",
      "Epoch 294/800\n",
      "45/45 [==============================] - 11s 251ms/step - loss: 0.9171 - accuracy: 0.6670 - val_loss: 0.3484 - val_accuracy: 0.9018\n",
      "Epoch 295/800\n",
      "45/45 [==============================] - 11s 250ms/step - loss: 0.8850 - accuracy: 0.6780 - val_loss: 0.3705 - val_accuracy: 0.8948\n",
      "Epoch 296/800\n",
      "45/45 [==============================] - 11s 250ms/step - loss: 0.9315 - accuracy: 0.6698 - val_loss: 0.3772 - val_accuracy: 0.8934\n",
      "Epoch 297/800\n",
      "45/45 [==============================] - 11s 251ms/step - loss: 0.9279 - accuracy: 0.6698 - val_loss: 0.3611 - val_accuracy: 0.9018\n",
      "Epoch 298/800\n",
      "45/45 [==============================] - 11s 250ms/step - loss: 0.9313 - accuracy: 0.6617 - val_loss: 0.3719 - val_accuracy: 0.8906\n",
      "Epoch 299/800\n",
      "45/45 [==============================] - 11s 250ms/step - loss: 0.9185 - accuracy: 0.6706 - val_loss: 0.3720 - val_accuracy: 0.8920\n",
      "Epoch 300/800\n",
      "45/45 [==============================] - 11s 251ms/step - loss: 0.9206 - accuracy: 0.6684 - val_loss: 0.3978 - val_accuracy: 0.8822\n",
      "Epoch 301/800\n",
      "45/45 [==============================] - 11s 250ms/step - loss: 0.9119 - accuracy: 0.6783 - val_loss: 0.3659 - val_accuracy: 0.8990\n",
      "Epoch 302/800\n",
      "45/45 [==============================] - 11s 252ms/step - loss: 0.9075 - accuracy: 0.6684 - val_loss: 0.3438 - val_accuracy: 0.8934\n",
      "Epoch 303/800\n",
      "45/45 [==============================] - 11s 252ms/step - loss: 0.9041 - accuracy: 0.6720 - val_loss: 0.3458 - val_accuracy: 0.9004\n",
      "Epoch 304/800\n",
      "45/45 [==============================] - 11s 251ms/step - loss: 0.8824 - accuracy: 0.6829 - val_loss: 0.3604 - val_accuracy: 0.8948\n",
      "Epoch 305/800\n",
      "45/45 [==============================] - 11s 252ms/step - loss: 0.9274 - accuracy: 0.6635 - val_loss: 0.3416 - val_accuracy: 0.9060\n",
      "Epoch 306/800\n",
      "45/45 [==============================] - 11s 252ms/step - loss: 0.9135 - accuracy: 0.6677 - val_loss: 0.3674 - val_accuracy: 0.8962\n",
      "Epoch 307/800\n",
      "45/45 [==============================] - 11s 252ms/step - loss: 0.8940 - accuracy: 0.6776 - val_loss: 0.3619 - val_accuracy: 0.8892\n",
      "Epoch 308/800\n",
      "45/45 [==============================] - 11s 252ms/step - loss: 0.9100 - accuracy: 0.6734 - val_loss: 0.3486 - val_accuracy: 0.8976\n",
      "Epoch 309/800\n",
      "45/45 [==============================] - 11s 252ms/step - loss: 0.9052 - accuracy: 0.6776 - val_loss: 0.3685 - val_accuracy: 0.8836\n",
      "Epoch 310/800\n",
      "45/45 [==============================] - 11s 252ms/step - loss: 0.9114 - accuracy: 0.6698 - val_loss: 0.3502 - val_accuracy: 0.9046\n",
      "Epoch 311/800\n",
      "45/45 [==============================] - 11s 252ms/step - loss: 0.8999 - accuracy: 0.6723 - val_loss: 0.3768 - val_accuracy: 0.8962\n",
      "Epoch 312/800\n",
      "45/45 [==============================] - 11s 252ms/step - loss: 0.9184 - accuracy: 0.6723 - val_loss: 0.3755 - val_accuracy: 0.8976\n",
      "Epoch 313/800\n",
      "45/45 [==============================] - 11s 252ms/step - loss: 0.9342 - accuracy: 0.6617 - val_loss: 0.3779 - val_accuracy: 0.8962\n",
      "Epoch 314/800\n",
      "45/45 [==============================] - 11s 251ms/step - loss: 0.9104 - accuracy: 0.6706 - val_loss: 0.3491 - val_accuracy: 0.8990\n",
      "Epoch 315/800\n",
      "45/45 [==============================] - 11s 251ms/step - loss: 0.9333 - accuracy: 0.6621 - val_loss: 0.3677 - val_accuracy: 0.8990\n",
      "Epoch 316/800\n",
      "45/45 [==============================] - 11s 250ms/step - loss: 0.9021 - accuracy: 0.6783 - val_loss: 0.3495 - val_accuracy: 0.8906\n",
      "Epoch 317/800\n",
      "45/45 [==============================] - ETA: 0s - loss: 0.8836 - accuracy: 0.6805"
     ]
    },
    {
     "name": "stderr",
     "output_type": "stream",
     "text": [
      "WARNING:absl:Function `_wrapped_model` contains input name(s) Input with unsupported characters which will be renamed to input in the SavedModel.\n",
      "WARNING:absl:Found untraced functions such as _jit_compiled_convolution_op, _jit_compiled_convolution_op, _jit_compiled_convolution_op, _jit_compiled_convolution_op, _jit_compiled_convolution_op while saving (showing 5 of 91). These functions will not be directly callable after loading.\n"
     ]
    },
    {
     "name": "stdout",
     "output_type": "stream",
     "text": [
      "INFO:tensorflow:Assets written to: experiments\\EfficientnetV2B0_Nov22_23-39-14\\base_ckpts\\cp_317.ckpt\\assets\n"
     ]
    },
    {
     "name": "stderr",
     "output_type": "stream",
     "text": [
      "INFO:tensorflow:Assets written to: experiments\\EfficientnetV2B0_Nov22_23-39-14\\base_ckpts\\cp_317.ckpt\\assets\n"
     ]
    },
    {
     "name": "stdout",
     "output_type": "stream",
     "text": [
      "45/45 [==============================] - 61s 1s/step - loss: 0.8836 - accuracy: 0.6805 - val_loss: 0.3619 - val_accuracy: 0.9088\n",
      "Epoch 318/800\n",
      "45/45 [==============================] - ETA: 0s - loss: 0.9045 - accuracy: 0.6741"
     ]
    },
    {
     "name": "stderr",
     "output_type": "stream",
     "text": [
      "WARNING:absl:Function `_wrapped_model` contains input name(s) Input with unsupported characters which will be renamed to input in the SavedModel.\n",
      "WARNING:absl:Found untraced functions such as _jit_compiled_convolution_op, _jit_compiled_convolution_op, _jit_compiled_convolution_op, _jit_compiled_convolution_op, _jit_compiled_convolution_op while saving (showing 5 of 91). These functions will not be directly callable after loading.\n"
     ]
    },
    {
     "name": "stdout",
     "output_type": "stream",
     "text": [
      "INFO:tensorflow:Assets written to: experiments\\EfficientnetV2B0_Nov22_23-39-14\\base_ckpts\\cp_318.ckpt\\assets\n"
     ]
    },
    {
     "name": "stderr",
     "output_type": "stream",
     "text": [
      "INFO:tensorflow:Assets written to: experiments\\EfficientnetV2B0_Nov22_23-39-14\\base_ckpts\\cp_318.ckpt\\assets\n"
     ]
    },
    {
     "name": "stdout",
     "output_type": "stream",
     "text": [
      "45/45 [==============================] - 62s 1s/step - loss: 0.9045 - accuracy: 0.6741 - val_loss: 0.3351 - val_accuracy: 0.9102\n",
      "Epoch 319/800\n",
      "45/45 [==============================] - 12s 250ms/step - loss: 0.8926 - accuracy: 0.6670 - val_loss: 0.3568 - val_accuracy: 0.8976\n",
      "Epoch 320/800\n",
      "45/45 [==============================] - 11s 249ms/step - loss: 0.9411 - accuracy: 0.6628 - val_loss: 0.3540 - val_accuracy: 0.9018\n",
      "Epoch 321/800\n",
      "45/45 [==============================] - 11s 250ms/step - loss: 0.8725 - accuracy: 0.6903 - val_loss: 0.3718 - val_accuracy: 0.8962\n",
      "Epoch 322/800\n",
      "45/45 [==============================] - 11s 251ms/step - loss: 0.9232 - accuracy: 0.6720 - val_loss: 0.3569 - val_accuracy: 0.9032\n",
      "Epoch 323/800\n",
      "45/45 [==============================] - 11s 251ms/step - loss: 0.9117 - accuracy: 0.6723 - val_loss: 0.3611 - val_accuracy: 0.8948\n",
      "Epoch 324/800\n",
      "45/45 [==============================] - 11s 250ms/step - loss: 0.9118 - accuracy: 0.6709 - val_loss: 0.3711 - val_accuracy: 0.8920\n",
      "Epoch 325/800\n",
      "45/45 [==============================] - 11s 251ms/step - loss: 0.8722 - accuracy: 0.6861 - val_loss: 0.3463 - val_accuracy: 0.9018\n",
      "Epoch 326/800\n",
      "45/45 [==============================] - 11s 251ms/step - loss: 0.9075 - accuracy: 0.6713 - val_loss: 0.3683 - val_accuracy: 0.8934\n",
      "Epoch 327/800\n",
      "45/45 [==============================] - 11s 251ms/step - loss: 0.9171 - accuracy: 0.6688 - val_loss: 0.3656 - val_accuracy: 0.8920\n",
      "Epoch 328/800\n",
      "45/45 [==============================] - 11s 250ms/step - loss: 0.8973 - accuracy: 0.6858 - val_loss: 0.3602 - val_accuracy: 0.9018\n",
      "Epoch 329/800\n",
      "45/45 [==============================] - 11s 250ms/step - loss: 0.8833 - accuracy: 0.6815 - val_loss: 0.3434 - val_accuracy: 0.9032\n",
      "Epoch 330/800\n",
      "45/45 [==============================] - 11s 250ms/step - loss: 0.8847 - accuracy: 0.6790 - val_loss: 0.3672 - val_accuracy: 0.8990\n",
      "Epoch 331/800\n",
      "45/45 [==============================] - 11s 250ms/step - loss: 0.9061 - accuracy: 0.6702 - val_loss: 0.3504 - val_accuracy: 0.9018\n",
      "Epoch 332/800\n",
      "45/45 [==============================] - 11s 251ms/step - loss: 0.8963 - accuracy: 0.6783 - val_loss: 0.3628 - val_accuracy: 0.8892\n",
      "Epoch 333/800\n",
      "45/45 [==============================] - 11s 251ms/step - loss: 0.8918 - accuracy: 0.6836 - val_loss: 0.3581 - val_accuracy: 0.8948\n",
      "Epoch 334/800\n",
      "45/45 [==============================] - 11s 250ms/step - loss: 0.9175 - accuracy: 0.6727 - val_loss: 0.3373 - val_accuracy: 0.9032\n",
      "Epoch 335/800\n",
      "45/45 [==============================] - 11s 250ms/step - loss: 0.8900 - accuracy: 0.6822 - val_loss: 0.3464 - val_accuracy: 0.9060\n",
      "Epoch 336/800\n",
      "45/45 [==============================] - 11s 250ms/step - loss: 0.8998 - accuracy: 0.6741 - val_loss: 0.3393 - val_accuracy: 0.9074\n",
      "Epoch 337/800\n",
      "45/45 [==============================] - 11s 250ms/step - loss: 0.8914 - accuracy: 0.6787 - val_loss: 0.3435 - val_accuracy: 0.9032\n",
      "Epoch 338/800\n",
      "45/45 [==============================] - 11s 250ms/step - loss: 0.9084 - accuracy: 0.6790 - val_loss: 0.3435 - val_accuracy: 0.8976\n",
      "Epoch 339/800\n",
      "45/45 [==============================] - 11s 250ms/step - loss: 0.8975 - accuracy: 0.6762 - val_loss: 0.3414 - val_accuracy: 0.9004\n",
      "Epoch 340/800\n",
      "45/45 [==============================] - 11s 250ms/step - loss: 0.8999 - accuracy: 0.6805 - val_loss: 0.3540 - val_accuracy: 0.8962\n",
      "Epoch 341/800\n",
      "45/45 [==============================] - 11s 250ms/step - loss: 0.8699 - accuracy: 0.6875 - val_loss: 0.3380 - val_accuracy: 0.9032\n",
      "Epoch 342/800\n",
      "45/45 [==============================] - 11s 250ms/step - loss: 0.8779 - accuracy: 0.6889 - val_loss: 0.3467 - val_accuracy: 0.9004\n",
      "Epoch 343/800\n",
      "45/45 [==============================] - 11s 250ms/step - loss: 0.8649 - accuracy: 0.6850 - val_loss: 0.3631 - val_accuracy: 0.8976\n",
      "Epoch 344/800\n",
      "45/45 [==============================] - 11s 250ms/step - loss: 0.9099 - accuracy: 0.6645 - val_loss: 0.3493 - val_accuracy: 0.9046\n",
      "Epoch 345/800\n",
      "45/45 [==============================] - 11s 250ms/step - loss: 0.8650 - accuracy: 0.6974 - val_loss: 0.3530 - val_accuracy: 0.9046\n",
      "Epoch 346/800\n",
      "45/45 [==============================] - 11s 250ms/step - loss: 0.8628 - accuracy: 0.6815 - val_loss: 0.3644 - val_accuracy: 0.8934\n",
      "Epoch 347/800\n",
      "45/45 [==============================] - 11s 250ms/step - loss: 0.8867 - accuracy: 0.6872 - val_loss: 0.3669 - val_accuracy: 0.9032\n",
      "Epoch 348/800\n",
      "45/45 [==============================] - 11s 252ms/step - loss: 0.9081 - accuracy: 0.6720 - val_loss: 0.3937 - val_accuracy: 0.8906\n",
      "Epoch 349/800\n",
      "45/45 [==============================] - 11s 250ms/step - loss: 0.8555 - accuracy: 0.6921 - val_loss: 0.3665 - val_accuracy: 0.9018\n",
      "Epoch 350/800\n",
      "45/45 [==============================] - 11s 250ms/step - loss: 0.8942 - accuracy: 0.6769 - val_loss: 0.3550 - val_accuracy: 0.9032\n",
      "Epoch 351/800\n",
      "45/45 [==============================] - 11s 249ms/step - loss: 0.9065 - accuracy: 0.6656 - val_loss: 0.3564 - val_accuracy: 0.9018\n",
      "Epoch 352/800\n",
      "45/45 [==============================] - 11s 250ms/step - loss: 0.8759 - accuracy: 0.6896 - val_loss: 0.3631 - val_accuracy: 0.9046\n",
      "Epoch 353/800\n",
      "45/45 [==============================] - 11s 250ms/step - loss: 0.8938 - accuracy: 0.6850 - val_loss: 0.3425 - val_accuracy: 0.9088\n",
      "Epoch 354/800\n",
      "45/45 [==============================] - 11s 251ms/step - loss: 0.8412 - accuracy: 0.7006 - val_loss: 0.3373 - val_accuracy: 0.9088\n",
      "Epoch 355/800\n",
      "45/45 [==============================] - 11s 251ms/step - loss: 0.8748 - accuracy: 0.6918 - val_loss: 0.3725 - val_accuracy: 0.8920\n",
      "Epoch 356/800\n",
      "45/45 [==============================] - 11s 250ms/step - loss: 0.8791 - accuracy: 0.6872 - val_loss: 0.3718 - val_accuracy: 0.8962\n",
      "Epoch 357/800\n",
      "45/45 [==============================] - 11s 250ms/step - loss: 0.8815 - accuracy: 0.6833 - val_loss: 0.3616 - val_accuracy: 0.8990\n",
      "Epoch 358/800\n",
      "45/45 [==============================] - 11s 250ms/step - loss: 0.8826 - accuracy: 0.6935 - val_loss: 0.3736 - val_accuracy: 0.8976\n",
      "Epoch 359/800\n",
      "45/45 [==============================] - 11s 251ms/step - loss: 0.8728 - accuracy: 0.6868 - val_loss: 0.3846 - val_accuracy: 0.8878\n",
      "Epoch 360/800\n",
      "45/45 [==============================] - 11s 249ms/step - loss: 0.8574 - accuracy: 0.6925 - val_loss: 0.4195 - val_accuracy: 0.8878\n",
      "Epoch 361/800\n",
      "45/45 [==============================] - ETA: 0s - loss: 0.8544 - accuracy: 0.6879"
     ]
    },
    {
     "name": "stderr",
     "output_type": "stream",
     "text": [
      "WARNING:absl:Function `_wrapped_model` contains input name(s) Input with unsupported characters which will be renamed to input in the SavedModel.\n",
      "WARNING:absl:Found untraced functions such as _jit_compiled_convolution_op, _jit_compiled_convolution_op, _jit_compiled_convolution_op, _jit_compiled_convolution_op, _jit_compiled_convolution_op while saving (showing 5 of 91). These functions will not be directly callable after loading.\n"
     ]
    },
    {
     "name": "stdout",
     "output_type": "stream",
     "text": [
      "INFO:tensorflow:Assets written to: experiments\\EfficientnetV2B0_Nov22_23-39-14\\base_ckpts\\cp_361.ckpt\\assets\n"
     ]
    },
    {
     "name": "stderr",
     "output_type": "stream",
     "text": [
      "INFO:tensorflow:Assets written to: experiments\\EfficientnetV2B0_Nov22_23-39-14\\base_ckpts\\cp_361.ckpt\\assets\n"
     ]
    },
    {
     "name": "stdout",
     "output_type": "stream",
     "text": [
      "45/45 [==============================] - 63s 1s/step - loss: 0.8544 - accuracy: 0.6879 - val_loss: 0.3517 - val_accuracy: 0.9158\n",
      "Epoch 362/800\n",
      "45/45 [==============================] - 12s 251ms/step - loss: 0.8840 - accuracy: 0.6861 - val_loss: 0.3554 - val_accuracy: 0.9074\n",
      "Epoch 363/800\n",
      "45/45 [==============================] - 11s 251ms/step - loss: 0.8994 - accuracy: 0.6713 - val_loss: 0.3770 - val_accuracy: 0.9046\n",
      "Epoch 364/800\n",
      "45/45 [==============================] - 11s 251ms/step - loss: 0.8505 - accuracy: 0.6992 - val_loss: 0.3665 - val_accuracy: 0.9018\n",
      "Epoch 365/800\n",
      "45/45 [==============================] - 11s 251ms/step - loss: 0.8626 - accuracy: 0.6942 - val_loss: 0.3607 - val_accuracy: 0.8976\n",
      "Epoch 366/800\n",
      "45/45 [==============================] - 11s 250ms/step - loss: 0.8849 - accuracy: 0.6723 - val_loss: 0.3678 - val_accuracy: 0.9074\n",
      "Epoch 367/800\n",
      "45/45 [==============================] - 11s 251ms/step - loss: 0.8715 - accuracy: 0.6865 - val_loss: 0.3752 - val_accuracy: 0.9004\n",
      "Epoch 368/800\n",
      "45/45 [==============================] - 11s 251ms/step - loss: 0.8809 - accuracy: 0.6850 - val_loss: 0.3818 - val_accuracy: 0.9046\n",
      "Epoch 369/800\n",
      "45/45 [==============================] - 11s 251ms/step - loss: 0.8629 - accuracy: 0.6939 - val_loss: 0.3623 - val_accuracy: 0.8976\n",
      "Epoch 370/800\n",
      "45/45 [==============================] - 11s 253ms/step - loss: 0.8455 - accuracy: 0.7006 - val_loss: 0.3568 - val_accuracy: 0.9032\n",
      "Epoch 371/800\n",
      "45/45 [==============================] - 11s 252ms/step - loss: 0.8553 - accuracy: 0.6935 - val_loss: 0.3756 - val_accuracy: 0.9004\n",
      "Epoch 372/800\n",
      "45/45 [==============================] - 11s 251ms/step - loss: 0.8881 - accuracy: 0.6889 - val_loss: 0.3605 - val_accuracy: 0.9004\n",
      "Epoch 373/800\n",
      "45/45 [==============================] - 11s 252ms/step - loss: 0.8772 - accuracy: 0.6858 - val_loss: 0.3691 - val_accuracy: 0.8990\n",
      "Epoch 374/800\n",
      "45/45 [==============================] - 11s 251ms/step - loss: 0.8488 - accuracy: 0.6935 - val_loss: 0.3948 - val_accuracy: 0.8836\n",
      "Epoch 375/800\n",
      "45/45 [==============================] - 11s 252ms/step - loss: 0.8650 - accuracy: 0.6914 - val_loss: 0.3672 - val_accuracy: 0.9032\n",
      "Epoch 376/800\n",
      "45/45 [==============================] - 11s 251ms/step - loss: 0.8793 - accuracy: 0.6776 - val_loss: 0.3627 - val_accuracy: 0.8962\n",
      "Epoch 377/800\n",
      "45/45 [==============================] - 11s 251ms/step - loss: 0.8591 - accuracy: 0.6921 - val_loss: 0.3739 - val_accuracy: 0.8920\n",
      "Epoch 378/800\n",
      "45/45 [==============================] - 11s 249ms/step - loss: 0.8505 - accuracy: 0.6861 - val_loss: 0.3675 - val_accuracy: 0.9046\n",
      "Epoch 379/800\n",
      "45/45 [==============================] - 11s 251ms/step - loss: 0.8562 - accuracy: 0.6921 - val_loss: 0.3510 - val_accuracy: 0.9074\n",
      "Epoch 380/800\n",
      "45/45 [==============================] - 11s 251ms/step - loss: 0.8684 - accuracy: 0.6801 - val_loss: 0.3355 - val_accuracy: 0.9130\n",
      "Epoch 381/800\n",
      "45/45 [==============================] - 11s 252ms/step - loss: 0.8759 - accuracy: 0.6815 - val_loss: 0.3940 - val_accuracy: 0.8920\n",
      "Epoch 382/800\n",
      "45/45 [==============================] - 11s 251ms/step - loss: 0.8775 - accuracy: 0.6787 - val_loss: 0.3631 - val_accuracy: 0.9018\n",
      "Epoch 383/800\n",
      "45/45 [==============================] - 11s 251ms/step - loss: 0.8491 - accuracy: 0.6985 - val_loss: 0.3708 - val_accuracy: 0.9046\n",
      "Epoch 384/800\n",
      "45/45 [==============================] - 11s 251ms/step - loss: 0.8443 - accuracy: 0.6974 - val_loss: 0.3861 - val_accuracy: 0.8962\n",
      "Epoch 385/800\n",
      "45/45 [==============================] - 11s 250ms/step - loss: 0.8550 - accuracy: 0.6886 - val_loss: 0.3778 - val_accuracy: 0.9018\n",
      "Epoch 386/800\n",
      "45/45 [==============================] - 11s 250ms/step - loss: 0.8569 - accuracy: 0.6921 - val_loss: 0.3643 - val_accuracy: 0.9060\n",
      "Epoch 387/800\n",
      "45/45 [==============================] - 11s 251ms/step - loss: 0.8706 - accuracy: 0.6875 - val_loss: 0.3733 - val_accuracy: 0.8934\n",
      "Epoch 388/800\n",
      "45/45 [==============================] - 11s 250ms/step - loss: 0.8693 - accuracy: 0.6826 - val_loss: 0.3897 - val_accuracy: 0.8990\n",
      "Epoch 389/800\n",
      "45/45 [==============================] - 11s 250ms/step - loss: 0.8694 - accuracy: 0.6900 - val_loss: 0.3903 - val_accuracy: 0.8878\n",
      "Epoch 390/800\n",
      "45/45 [==============================] - 11s 250ms/step - loss: 0.8391 - accuracy: 0.6999 - val_loss: 0.3648 - val_accuracy: 0.9032\n",
      "Epoch 391/800\n",
      "45/45 [==============================] - 11s 250ms/step - loss: 0.8510 - accuracy: 0.7063 - val_loss: 0.3877 - val_accuracy: 0.8836\n",
      "Epoch 392/800\n",
      "45/45 [==============================] - 11s 250ms/step - loss: 0.8723 - accuracy: 0.6932 - val_loss: 0.3778 - val_accuracy: 0.8906\n",
      "Epoch 393/800\n",
      "45/45 [==============================] - 11s 250ms/step - loss: 0.8496 - accuracy: 0.6921 - val_loss: 0.3698 - val_accuracy: 0.8864\n",
      "Epoch 394/800\n",
      "45/45 [==============================] - 11s 250ms/step - loss: 0.8750 - accuracy: 0.6872 - val_loss: 0.3881 - val_accuracy: 0.8906\n",
      "Epoch 395/800\n",
      "45/45 [==============================] - 11s 250ms/step - loss: 0.8498 - accuracy: 0.6992 - val_loss: 0.3678 - val_accuracy: 0.9032\n",
      "Epoch 396/800\n",
      "45/45 [==============================] - 11s 250ms/step - loss: 0.8452 - accuracy: 0.7020 - val_loss: 0.3689 - val_accuracy: 0.8934\n",
      "Epoch 397/800\n",
      "45/45 [==============================] - 11s 250ms/step - loss: 0.8555 - accuracy: 0.6928 - val_loss: 0.4058 - val_accuracy: 0.8836\n",
      "Epoch 398/800\n",
      "45/45 [==============================] - 11s 250ms/step - loss: 0.8617 - accuracy: 0.6921 - val_loss: 0.3700 - val_accuracy: 0.8976\n",
      "Epoch 399/800\n",
      "45/45 [==============================] - 11s 250ms/step - loss: 0.8723 - accuracy: 0.6850 - val_loss: 0.4091 - val_accuracy: 0.8850\n",
      "Epoch 400/800\n",
      "45/45 [==============================] - 11s 250ms/step - loss: 0.8513 - accuracy: 0.6865 - val_loss: 0.3790 - val_accuracy: 0.8934\n",
      "Epoch 401/800\n",
      "45/45 [==============================] - 11s 250ms/step - loss: 0.8385 - accuracy: 0.6985 - val_loss: 0.3741 - val_accuracy: 0.8962\n",
      "Epoch 402/800\n",
      "45/45 [==============================] - 11s 250ms/step - loss: 0.8506 - accuracy: 0.6889 - val_loss: 0.3517 - val_accuracy: 0.9060\n",
      "Epoch 403/800\n",
      "45/45 [==============================] - 11s 253ms/step - loss: 0.8544 - accuracy: 0.6886 - val_loss: 0.3870 - val_accuracy: 0.8794\n",
      "Epoch 404/800\n",
      "45/45 [==============================] - 11s 250ms/step - loss: 0.8460 - accuracy: 0.7006 - val_loss: 0.3558 - val_accuracy: 0.9018\n",
      "Epoch 405/800\n",
      "45/45 [==============================] - 11s 251ms/step - loss: 0.8619 - accuracy: 0.6872 - val_loss: 0.3765 - val_accuracy: 0.8934\n",
      "Epoch 406/800\n",
      "45/45 [==============================] - 11s 253ms/step - loss: 0.8690 - accuracy: 0.6812 - val_loss: 0.4011 - val_accuracy: 0.8780\n",
      "Epoch 407/800\n",
      "45/45 [==============================] - 11s 251ms/step - loss: 0.8623 - accuracy: 0.6925 - val_loss: 0.3635 - val_accuracy: 0.8990\n",
      "Epoch 408/800\n",
      "45/45 [==============================] - 11s 250ms/step - loss: 0.8510 - accuracy: 0.6893 - val_loss: 0.3763 - val_accuracy: 0.8962\n",
      "Epoch 409/800\n",
      "45/45 [==============================] - 11s 251ms/step - loss: 0.8460 - accuracy: 0.7017 - val_loss: 0.3485 - val_accuracy: 0.9060\n",
      "Epoch 410/800\n",
      "45/45 [==============================] - 11s 250ms/step - loss: 0.8312 - accuracy: 0.7020 - val_loss: 0.3551 - val_accuracy: 0.9032\n",
      "Epoch 411/800\n",
      "45/45 [==============================] - 11s 250ms/step - loss: 0.8301 - accuracy: 0.6981 - val_loss: 0.3639 - val_accuracy: 0.9032\n",
      "Epoch 412/800\n",
      "45/45 [==============================] - 11s 250ms/step - loss: 0.8359 - accuracy: 0.7091 - val_loss: 0.3607 - val_accuracy: 0.9060\n",
      "Epoch 413/800\n",
      "45/45 [==============================] - 11s 250ms/step - loss: 0.8193 - accuracy: 0.6992 - val_loss: 0.3539 - val_accuracy: 0.9032\n",
      "Epoch 414/800\n",
      "45/45 [==============================] - 11s 250ms/step - loss: 0.8357 - accuracy: 0.6967 - val_loss: 0.3528 - val_accuracy: 0.9074\n",
      "Epoch 415/800\n",
      "45/45 [==============================] - 11s 250ms/step - loss: 0.8155 - accuracy: 0.7222 - val_loss: 0.3395 - val_accuracy: 0.9102\n",
      "Epoch 416/800\n",
      "45/45 [==============================] - 11s 250ms/step - loss: 0.8260 - accuracy: 0.7006 - val_loss: 0.3435 - val_accuracy: 0.9102\n",
      "Epoch 417/800\n",
      "45/45 [==============================] - 11s 250ms/step - loss: 0.8361 - accuracy: 0.6985 - val_loss: 0.3660 - val_accuracy: 0.9046\n",
      "Epoch 418/800\n",
      "45/45 [==============================] - 11s 250ms/step - loss: 0.8396 - accuracy: 0.7010 - val_loss: 0.3764 - val_accuracy: 0.8962\n",
      "Epoch 419/800\n",
      "45/45 [==============================] - 11s 250ms/step - loss: 0.8496 - accuracy: 0.6992 - val_loss: 0.3672 - val_accuracy: 0.8976\n",
      "Epoch 420/800\n",
      "45/45 [==============================] - 11s 250ms/step - loss: 0.8336 - accuracy: 0.7052 - val_loss: 0.3751 - val_accuracy: 0.8976\n",
      "Epoch 421/800\n",
      "45/45 [==============================] - 11s 249ms/step - loss: 0.8262 - accuracy: 0.7020 - val_loss: 0.3591 - val_accuracy: 0.9046\n",
      "Epoch 422/800\n",
      "45/45 [==============================] - 11s 250ms/step - loss: 0.8158 - accuracy: 0.7048 - val_loss: 0.3853 - val_accuracy: 0.8948\n",
      "Epoch 423/800\n",
      "45/45 [==============================] - 11s 250ms/step - loss: 0.8410 - accuracy: 0.7024 - val_loss: 0.3707 - val_accuracy: 0.9032\n",
      "Epoch 424/800\n",
      "45/45 [==============================] - 11s 250ms/step - loss: 0.8496 - accuracy: 0.6939 - val_loss: 0.3681 - val_accuracy: 0.9046\n",
      "Epoch 425/800\n",
      "45/45 [==============================] - 11s 250ms/step - loss: 0.8570 - accuracy: 0.6939 - val_loss: 0.3717 - val_accuracy: 0.9004\n",
      "Epoch 426/800\n",
      "45/45 [==============================] - 11s 250ms/step - loss: 0.8487 - accuracy: 0.6903 - val_loss: 0.3778 - val_accuracy: 0.8920\n",
      "Epoch 427/800\n",
      "45/45 [==============================] - 11s 250ms/step - loss: 0.8429 - accuracy: 0.7024 - val_loss: 0.3793 - val_accuracy: 0.8850\n",
      "Epoch 428/800\n",
      "45/45 [==============================] - 11s 251ms/step - loss: 0.8168 - accuracy: 0.7024 - val_loss: 0.3556 - val_accuracy: 0.9046\n",
      "Epoch 429/800\n",
      "45/45 [==============================] - 11s 250ms/step - loss: 0.8445 - accuracy: 0.7041 - val_loss: 0.3705 - val_accuracy: 0.9074\n",
      "Epoch 430/800\n",
      "45/45 [==============================] - 11s 250ms/step - loss: 0.8418 - accuracy: 0.6939 - val_loss: 0.3526 - val_accuracy: 0.9088\n",
      "Epoch 431/800\n",
      "45/45 [==============================] - 11s 250ms/step - loss: 0.8074 - accuracy: 0.7179 - val_loss: 0.3550 - val_accuracy: 0.9004\n",
      "Epoch 432/800\n",
      "45/45 [==============================] - 11s 250ms/step - loss: 0.8317 - accuracy: 0.7002 - val_loss: 0.3672 - val_accuracy: 0.8990\n",
      "Epoch 433/800\n",
      "45/45 [==============================] - 11s 253ms/step - loss: 0.8502 - accuracy: 0.6964 - val_loss: 0.3592 - val_accuracy: 0.9032\n",
      "Epoch 434/800\n",
      "45/45 [==============================] - 11s 249ms/step - loss: 0.8384 - accuracy: 0.7038 - val_loss: 0.3845 - val_accuracy: 0.8878\n",
      "Epoch 435/800\n",
      "45/45 [==============================] - 11s 250ms/step - loss: 0.8298 - accuracy: 0.7038 - val_loss: 0.3618 - val_accuracy: 0.8962\n",
      "Epoch 436/800\n",
      "45/45 [==============================] - 11s 250ms/step - loss: 0.8161 - accuracy: 0.7002 - val_loss: 0.3530 - val_accuracy: 0.9046\n",
      "Epoch 437/800\n",
      "45/45 [==============================] - 11s 250ms/step - loss: 0.8282 - accuracy: 0.7055 - val_loss: 0.3827 - val_accuracy: 0.8892\n",
      "Epoch 438/800\n",
      "45/45 [==============================] - 11s 250ms/step - loss: 0.8355 - accuracy: 0.7077 - val_loss: 0.3569 - val_accuracy: 0.8962\n",
      "Epoch 439/800\n",
      "45/45 [==============================] - 11s 253ms/step - loss: 0.8053 - accuracy: 0.7147 - val_loss: 0.3705 - val_accuracy: 0.8892\n",
      "Epoch 440/800\n",
      "45/45 [==============================] - 11s 253ms/step - loss: 0.8190 - accuracy: 0.7098 - val_loss: 0.3722 - val_accuracy: 0.8948\n",
      "Epoch 441/800\n",
      "45/45 [==============================] - 11s 250ms/step - loss: 0.7876 - accuracy: 0.7158 - val_loss: 0.3505 - val_accuracy: 0.9018\n",
      "Epoch 442/800\n",
      "45/45 [==============================] - 11s 250ms/step - loss: 0.8015 - accuracy: 0.7077 - val_loss: 0.3629 - val_accuracy: 0.8976\n",
      "Epoch 443/800\n",
      "45/45 [==============================] - 11s 250ms/step - loss: 0.8332 - accuracy: 0.7077 - val_loss: 0.3682 - val_accuracy: 0.9018\n",
      "Epoch 444/800\n",
      "45/45 [==============================] - 11s 250ms/step - loss: 0.8280 - accuracy: 0.7140 - val_loss: 0.3428 - val_accuracy: 0.9060\n",
      "Epoch 445/800\n",
      "45/45 [==============================] - 11s 250ms/step - loss: 0.8119 - accuracy: 0.7094 - val_loss: 0.3455 - val_accuracy: 0.8976\n",
      "Epoch 446/800\n",
      "45/45 [==============================] - 11s 250ms/step - loss: 0.7998 - accuracy: 0.7193 - val_loss: 0.3643 - val_accuracy: 0.9004\n",
      "Epoch 447/800\n",
      "45/45 [==============================] - 11s 249ms/step - loss: 0.8280 - accuracy: 0.7045 - val_loss: 0.3828 - val_accuracy: 0.8976\n",
      "Epoch 448/800\n",
      "45/45 [==============================] - 11s 250ms/step - loss: 0.8101 - accuracy: 0.7116 - val_loss: 0.3523 - val_accuracy: 0.9046\n",
      "Epoch 449/800\n",
      "45/45 [==============================] - 11s 251ms/step - loss: 0.8023 - accuracy: 0.7126 - val_loss: 0.3672 - val_accuracy: 0.8962\n",
      "Epoch 450/800\n",
      "45/45 [==============================] - 11s 250ms/step - loss: 0.8204 - accuracy: 0.7109 - val_loss: 0.3618 - val_accuracy: 0.9032\n",
      "Epoch 451/800\n",
      "45/45 [==============================] - 11s 251ms/step - loss: 0.8168 - accuracy: 0.6995 - val_loss: 0.3626 - val_accuracy: 0.9046\n",
      "Epoch 452/800\n",
      "45/45 [==============================] - 11s 250ms/step - loss: 0.8218 - accuracy: 0.7066 - val_loss: 0.3687 - val_accuracy: 0.8920\n",
      "Epoch 453/800\n",
      "45/45 [==============================] - 11s 250ms/step - loss: 0.8300 - accuracy: 0.7002 - val_loss: 0.3777 - val_accuracy: 0.8990\n",
      "Epoch 454/800\n",
      "45/45 [==============================] - 11s 250ms/step - loss: 0.8263 - accuracy: 0.7077 - val_loss: 0.3605 - val_accuracy: 0.9046\n",
      "Epoch 455/800\n",
      "45/45 [==============================] - 11s 250ms/step - loss: 0.8278 - accuracy: 0.7112 - val_loss: 0.3669 - val_accuracy: 0.8948\n",
      "Epoch 456/800\n",
      "45/45 [==============================] - 11s 250ms/step - loss: 0.8000 - accuracy: 0.7158 - val_loss: 0.3768 - val_accuracy: 0.8934\n",
      "Epoch 457/800\n",
      "45/45 [==============================] - 11s 250ms/step - loss: 0.8251 - accuracy: 0.7109 - val_loss: 0.3677 - val_accuracy: 0.8962\n",
      "Epoch 458/800\n",
      "45/45 [==============================] - 11s 250ms/step - loss: 0.8234 - accuracy: 0.7002 - val_loss: 0.3708 - val_accuracy: 0.9018\n",
      "Epoch 459/800\n",
      "45/45 [==============================] - 11s 250ms/step - loss: 0.7914 - accuracy: 0.7169 - val_loss: 0.3837 - val_accuracy: 0.8892\n",
      "Epoch 460/800\n",
      "45/45 [==============================] - 11s 251ms/step - loss: 0.8191 - accuracy: 0.7034 - val_loss: 0.3743 - val_accuracy: 0.8990\n",
      "Epoch 461/800\n",
      "45/45 [==============================] - 11s 252ms/step - loss: 0.8191 - accuracy: 0.7045 - val_loss: 0.3687 - val_accuracy: 0.9060\n",
      "Epoch 462/800\n",
      "45/45 [==============================] - 11s 250ms/step - loss: 0.8159 - accuracy: 0.7059 - val_loss: 0.3688 - val_accuracy: 0.9018\n",
      "Epoch 463/800\n",
      "45/45 [==============================] - 11s 251ms/step - loss: 0.8356 - accuracy: 0.7087 - val_loss: 0.3420 - val_accuracy: 0.9060\n",
      "Epoch 464/800\n",
      "45/45 [==============================] - 11s 251ms/step - loss: 0.8042 - accuracy: 0.7236 - val_loss: 0.3447 - val_accuracy: 0.9032\n",
      "Epoch 465/800\n",
      "45/45 [==============================] - 11s 250ms/step - loss: 0.8118 - accuracy: 0.7130 - val_loss: 0.3612 - val_accuracy: 0.9060\n",
      "Epoch 466/800\n",
      "45/45 [==============================] - 11s 252ms/step - loss: 0.8187 - accuracy: 0.7105 - val_loss: 0.3549 - val_accuracy: 0.9060\n",
      "Epoch 467/800\n",
      "45/45 [==============================] - 11s 251ms/step - loss: 0.8169 - accuracy: 0.6992 - val_loss: 0.3645 - val_accuracy: 0.9046\n",
      "Epoch 468/800\n",
      "45/45 [==============================] - 11s 252ms/step - loss: 0.8125 - accuracy: 0.7116 - val_loss: 0.3463 - val_accuracy: 0.9004\n",
      "Epoch 469/800\n",
      "45/45 [==============================] - 11s 251ms/step - loss: 0.8037 - accuracy: 0.7200 - val_loss: 0.3613 - val_accuracy: 0.9074\n",
      "Epoch 470/800\n",
      "45/45 [==============================] - 11s 253ms/step - loss: 0.7967 - accuracy: 0.7179 - val_loss: 0.3457 - val_accuracy: 0.9102\n",
      "Epoch 471/800\n",
      "45/45 [==============================] - 11s 249ms/step - loss: 0.8055 - accuracy: 0.7119 - val_loss: 0.3563 - val_accuracy: 0.8990\n",
      "Epoch 472/800\n",
      "45/45 [==============================] - 11s 250ms/step - loss: 0.8259 - accuracy: 0.7084 - val_loss: 0.3422 - val_accuracy: 0.9060\n",
      "Epoch 473/800\n"
     ]
    },
    {
     "name": "stdout",
     "output_type": "stream",
     "text": [
      "45/45 [==============================] - 11s 250ms/step - loss: 0.8016 - accuracy: 0.7140 - val_loss: 0.3527 - val_accuracy: 0.8990\n",
      "Epoch 474/800\n",
      "45/45 [==============================] - 11s 250ms/step - loss: 0.8015 - accuracy: 0.7172 - val_loss: 0.3346 - val_accuracy: 0.9074\n",
      "Epoch 475/800\n",
      "45/45 [==============================] - 11s 250ms/step - loss: 0.7909 - accuracy: 0.7275 - val_loss: 0.3410 - val_accuracy: 0.9074\n",
      "Epoch 476/800\n",
      "45/45 [==============================] - 11s 250ms/step - loss: 0.8020 - accuracy: 0.7123 - val_loss: 0.3374 - val_accuracy: 0.9116\n",
      "Epoch 477/800\n",
      "45/45 [==============================] - 11s 250ms/step - loss: 0.7813 - accuracy: 0.7140 - val_loss: 0.3727 - val_accuracy: 0.8934\n",
      "Epoch 478/800\n",
      "45/45 [==============================] - 11s 251ms/step - loss: 0.8125 - accuracy: 0.7034 - val_loss: 0.3424 - val_accuracy: 0.9032\n",
      "Epoch 479/800\n",
      "45/45 [==============================] - 11s 250ms/step - loss: 0.8311 - accuracy: 0.6974 - val_loss: 0.3523 - val_accuracy: 0.9074\n",
      "Epoch 480/800\n",
      "45/45 [==============================] - 11s 250ms/step - loss: 0.7891 - accuracy: 0.7179 - val_loss: 0.3553 - val_accuracy: 0.9046\n",
      "Epoch 481/800\n",
      "45/45 [==============================] - 11s 252ms/step - loss: 0.7910 - accuracy: 0.7123 - val_loss: 0.3493 - val_accuracy: 0.9102\n",
      "Epoch 482/800\n",
      "45/45 [==============================] - 11s 250ms/step - loss: 0.7956 - accuracy: 0.7162 - val_loss: 0.3496 - val_accuracy: 0.9032\n",
      "Epoch 483/800\n",
      "45/45 [==============================] - 11s 250ms/step - loss: 0.8197 - accuracy: 0.7137 - val_loss: 0.3565 - val_accuracy: 0.9018\n",
      "Epoch 484/800\n",
      "45/45 [==============================] - 11s 251ms/step - loss: 0.8120 - accuracy: 0.7151 - val_loss: 0.3658 - val_accuracy: 0.8990\n",
      "Epoch 485/800\n",
      "45/45 [==============================] - 11s 253ms/step - loss: 0.7867 - accuracy: 0.7186 - val_loss: 0.3504 - val_accuracy: 0.8990\n",
      "Epoch 486/800\n",
      "45/45 [==============================] - 11s 250ms/step - loss: 0.8377 - accuracy: 0.6967 - val_loss: 0.3720 - val_accuracy: 0.9018\n",
      "Epoch 487/800\n",
      "45/45 [==============================] - 11s 249ms/step - loss: 0.7842 - accuracy: 0.7193 - val_loss: 0.3639 - val_accuracy: 0.9088\n",
      "Epoch 488/800\n",
      "45/45 [==============================] - 11s 250ms/step - loss: 0.7953 - accuracy: 0.7176 - val_loss: 0.4371 - val_accuracy: 0.8794\n",
      "Epoch 489/800\n",
      "45/45 [==============================] - 11s 249ms/step - loss: 0.8064 - accuracy: 0.7126 - val_loss: 0.3537 - val_accuracy: 0.9046\n",
      "Epoch 490/800\n",
      "45/45 [==============================] - 11s 250ms/step - loss: 0.7784 - accuracy: 0.7225 - val_loss: 0.3579 - val_accuracy: 0.9060\n",
      "Epoch 491/800\n",
      "45/45 [==============================] - 11s 251ms/step - loss: 0.7813 - accuracy: 0.7243 - val_loss: 0.3427 - val_accuracy: 0.9102\n",
      "Epoch 492/800\n",
      "45/45 [==============================] - 11s 250ms/step - loss: 0.7638 - accuracy: 0.7207 - val_loss: 0.3330 - val_accuracy: 0.9144\n",
      "Epoch 493/800\n",
      "45/45 [==============================] - 11s 250ms/step - loss: 0.8150 - accuracy: 0.7048 - val_loss: 0.3572 - val_accuracy: 0.9088\n",
      "Epoch 494/800\n",
      "45/45 [==============================] - 11s 250ms/step - loss: 0.7887 - accuracy: 0.7261 - val_loss: 0.3493 - val_accuracy: 0.9074\n",
      "Epoch 495/800\n",
      "45/45 [==============================] - 11s 251ms/step - loss: 0.8073 - accuracy: 0.7144 - val_loss: 0.3526 - val_accuracy: 0.9004\n",
      "Epoch 496/800\n",
      "45/45 [==============================] - 11s 252ms/step - loss: 0.7936 - accuracy: 0.7158 - val_loss: 0.3596 - val_accuracy: 0.9032\n",
      "Epoch 497/800\n",
      "45/45 [==============================] - 11s 252ms/step - loss: 0.8028 - accuracy: 0.7066 - val_loss: 0.4207 - val_accuracy: 0.8850\n",
      "Epoch 498/800\n",
      "45/45 [==============================] - 11s 250ms/step - loss: 0.7816 - accuracy: 0.7190 - val_loss: 0.3604 - val_accuracy: 0.9018\n",
      "Epoch 499/800\n",
      "45/45 [==============================] - 11s 251ms/step - loss: 0.8062 - accuracy: 0.7154 - val_loss: 0.3588 - val_accuracy: 0.9088\n",
      "Epoch 500/800\n",
      "45/45 [==============================] - 11s 253ms/step - loss: 0.8167 - accuracy: 0.7094 - val_loss: 0.3574 - val_accuracy: 0.9046\n",
      "Epoch 501/800\n",
      "45/45 [==============================] - 11s 250ms/step - loss: 0.7782 - accuracy: 0.7137 - val_loss: 0.3517 - val_accuracy: 0.9130\n",
      "Epoch 502/800\n",
      "45/45 [==============================] - 11s 252ms/step - loss: 0.7759 - accuracy: 0.7257 - val_loss: 0.3498 - val_accuracy: 0.9046\n",
      "Epoch 503/800\n",
      "45/45 [==============================] - 11s 251ms/step - loss: 0.7733 - accuracy: 0.7250 - val_loss: 0.3570 - val_accuracy: 0.9060\n",
      "Epoch 504/800\n",
      "45/45 [==============================] - ETA: 0s - loss: 0.7975 - accuracy: 0.7151"
     ]
    },
    {
     "name": "stderr",
     "output_type": "stream",
     "text": [
      "WARNING:absl:Function `_wrapped_model` contains input name(s) Input with unsupported characters which will be renamed to input in the SavedModel.\n",
      "WARNING:absl:Found untraced functions such as _jit_compiled_convolution_op, _jit_compiled_convolution_op, _jit_compiled_convolution_op, _jit_compiled_convolution_op, _jit_compiled_convolution_op while saving (showing 5 of 91). These functions will not be directly callable after loading.\n"
     ]
    },
    {
     "name": "stdout",
     "output_type": "stream",
     "text": [
      "INFO:tensorflow:Assets written to: experiments\\EfficientnetV2B0_Nov22_23-39-14\\base_ckpts\\cp_504.ckpt\\assets\n"
     ]
    },
    {
     "name": "stderr",
     "output_type": "stream",
     "text": [
      "INFO:tensorflow:Assets written to: experiments\\EfficientnetV2B0_Nov22_23-39-14\\base_ckpts\\cp_504.ckpt\\assets\n"
     ]
    },
    {
     "name": "stdout",
     "output_type": "stream",
     "text": [
      "45/45 [==============================] - 62s 1s/step - loss: 0.7975 - accuracy: 0.7151 - val_loss: 0.3468 - val_accuracy: 0.9173\n",
      "Epoch 505/800\n",
      "45/45 [==============================] - 12s 251ms/step - loss: 0.7862 - accuracy: 0.7172 - val_loss: 0.3605 - val_accuracy: 0.9088\n",
      "Epoch 506/800\n",
      "45/45 [==============================] - 11s 250ms/step - loss: 0.7745 - accuracy: 0.7261 - val_loss: 0.3398 - val_accuracy: 0.9046\n",
      "Epoch 507/800\n",
      "45/45 [==============================] - 11s 250ms/step - loss: 0.7872 - accuracy: 0.7268 - val_loss: 0.3393 - val_accuracy: 0.9046\n",
      "Epoch 508/800\n",
      "45/45 [==============================] - 11s 252ms/step - loss: 0.7558 - accuracy: 0.7211 - val_loss: 0.3494 - val_accuracy: 0.9004\n",
      "Epoch 509/800\n",
      "45/45 [==============================] - 11s 250ms/step - loss: 0.7703 - accuracy: 0.7292 - val_loss: 0.3701 - val_accuracy: 0.8962\n",
      "Epoch 510/800\n",
      "45/45 [==============================] - 11s 252ms/step - loss: 0.7923 - accuracy: 0.7162 - val_loss: 0.3626 - val_accuracy: 0.9046\n",
      "Epoch 511/800\n",
      "45/45 [==============================] - 11s 252ms/step - loss: 0.7903 - accuracy: 0.7317 - val_loss: 0.3489 - val_accuracy: 0.9032\n",
      "Epoch 512/800\n",
      "45/45 [==============================] - 11s 251ms/step - loss: 0.7715 - accuracy: 0.7215 - val_loss: 0.3797 - val_accuracy: 0.8934\n",
      "Epoch 513/800\n",
      "45/45 [==============================] - 11s 251ms/step - loss: 0.7778 - accuracy: 0.7147 - val_loss: 0.3546 - val_accuracy: 0.9046\n",
      "Epoch 514/800\n",
      "45/45 [==============================] - 11s 251ms/step - loss: 0.7817 - accuracy: 0.7197 - val_loss: 0.3666 - val_accuracy: 0.9088\n",
      "Epoch 515/800\n",
      "45/45 [==============================] - 11s 252ms/step - loss: 0.8010 - accuracy: 0.7207 - val_loss: 0.3694 - val_accuracy: 0.9032\n",
      "Epoch 516/800\n",
      "45/45 [==============================] - 11s 252ms/step - loss: 0.7772 - accuracy: 0.7261 - val_loss: 0.3680 - val_accuracy: 0.9060\n",
      "Epoch 517/800\n",
      "45/45 [==============================] - 11s 250ms/step - loss: 0.7670 - accuracy: 0.7296 - val_loss: 0.5008 - val_accuracy: 0.8485\n",
      "Epoch 518/800\n",
      "45/45 [==============================] - 12s 258ms/step - loss: 0.7624 - accuracy: 0.7243 - val_loss: 0.3785 - val_accuracy: 0.8948\n",
      "Epoch 519/800\n",
      "45/45 [==============================] - 11s 252ms/step - loss: 0.7526 - accuracy: 0.7285 - val_loss: 0.3604 - val_accuracy: 0.9060\n",
      "Epoch 520/800\n",
      "45/45 [==============================] - 11s 253ms/step - loss: 0.7861 - accuracy: 0.7193 - val_loss: 0.3398 - val_accuracy: 0.9130\n",
      "Epoch 521/800\n",
      "45/45 [==============================] - 11s 252ms/step - loss: 0.7680 - accuracy: 0.7225 - val_loss: 0.3715 - val_accuracy: 0.9074\n",
      "Epoch 522/800\n",
      "45/45 [==============================] - 11s 253ms/step - loss: 0.7763 - accuracy: 0.7151 - val_loss: 0.3637 - val_accuracy: 0.9060\n",
      "Epoch 523/800\n",
      "45/45 [==============================] - 11s 252ms/step - loss: 0.7951 - accuracy: 0.7207 - val_loss: 0.3598 - val_accuracy: 0.9130\n",
      "Epoch 524/800\n",
      "45/45 [==============================] - 11s 252ms/step - loss: 0.7673 - accuracy: 0.7200 - val_loss: 0.3629 - val_accuracy: 0.9060\n",
      "Epoch 525/800\n",
      "45/45 [==============================] - 11s 252ms/step - loss: 0.7789 - accuracy: 0.7190 - val_loss: 0.3946 - val_accuracy: 0.8948\n",
      "Epoch 526/800\n",
      "45/45 [==============================] - 11s 253ms/step - loss: 0.7540 - accuracy: 0.7275 - val_loss: 0.4387 - val_accuracy: 0.8794\n",
      "Epoch 527/800\n",
      "45/45 [==============================] - 11s 252ms/step - loss: 0.7744 - accuracy: 0.7250 - val_loss: 0.3998 - val_accuracy: 0.8948\n",
      "Epoch 528/800\n",
      "45/45 [==============================] - 11s 253ms/step - loss: 0.7560 - accuracy: 0.7328 - val_loss: 0.3591 - val_accuracy: 0.8962\n",
      "Epoch 529/800\n",
      "45/45 [==============================] - 12s 253ms/step - loss: 0.7641 - accuracy: 0.7310 - val_loss: 0.3681 - val_accuracy: 0.9004\n",
      "Epoch 530/800\n",
      "45/45 [==============================] - 11s 252ms/step - loss: 0.7760 - accuracy: 0.7200 - val_loss: 0.3476 - val_accuracy: 0.9116\n",
      "Epoch 531/800\n",
      "45/45 [==============================] - 12s 260ms/step - loss: 0.7671 - accuracy: 0.7296 - val_loss: 0.3697 - val_accuracy: 0.9004\n",
      "Epoch 532/800\n",
      "45/45 [==============================] - 12s 273ms/step - loss: 0.7548 - accuracy: 0.7317 - val_loss: 0.3873 - val_accuracy: 0.8948\n",
      "Epoch 533/800\n",
      "45/45 [==============================] - 12s 265ms/step - loss: 0.7774 - accuracy: 0.7261 - val_loss: 0.3713 - val_accuracy: 0.8920\n",
      "Epoch 534/800\n",
      "45/45 [==============================] - 12s 268ms/step - loss: 0.7993 - accuracy: 0.7151 - val_loss: 0.3819 - val_accuracy: 0.8948\n",
      "Epoch 535/800\n",
      "45/45 [==============================] - 12s 260ms/step - loss: 0.7473 - accuracy: 0.7257 - val_loss: 0.3984 - val_accuracy: 0.8976\n",
      "Epoch 536/800\n",
      "45/45 [==============================] - 11s 252ms/step - loss: 0.7544 - accuracy: 0.7275 - val_loss: 0.3797 - val_accuracy: 0.9032\n",
      "Epoch 537/800\n",
      "45/45 [==============================] - 12s 254ms/step - loss: 0.7568 - accuracy: 0.7303 - val_loss: 0.3809 - val_accuracy: 0.9004\n",
      "Epoch 538/800\n",
      "45/45 [==============================] - 12s 255ms/step - loss: 0.7797 - accuracy: 0.7253 - val_loss: 0.3739 - val_accuracy: 0.8990\n",
      "Epoch 539/800\n",
      "45/45 [==============================] - 12s 257ms/step - loss: 0.7871 - accuracy: 0.7158 - val_loss: 0.3890 - val_accuracy: 0.8962\n",
      "Epoch 540/800\n",
      "45/45 [==============================] - 11s 253ms/step - loss: 0.7758 - accuracy: 0.7218 - val_loss: 0.3743 - val_accuracy: 0.9018\n",
      "Epoch 541/800\n",
      "45/45 [==============================] - 11s 252ms/step - loss: 0.8018 - accuracy: 0.7130 - val_loss: 0.3812 - val_accuracy: 0.8990\n",
      "Epoch 542/800\n",
      "45/45 [==============================] - 11s 252ms/step - loss: 0.7450 - accuracy: 0.7367 - val_loss: 0.3750 - val_accuracy: 0.9018\n",
      "Epoch 543/800\n",
      "45/45 [==============================] - 11s 252ms/step - loss: 0.7530 - accuracy: 0.7321 - val_loss: 0.3670 - val_accuracy: 0.8990\n",
      "Epoch 544/800\n",
      "45/45 [==============================] - 11s 252ms/step - loss: 0.7420 - accuracy: 0.7416 - val_loss: 0.3974 - val_accuracy: 0.8990\n",
      "Epoch 545/800\n",
      "45/45 [==============================] - 11s 252ms/step - loss: 0.7788 - accuracy: 0.7310 - val_loss: 0.3710 - val_accuracy: 0.9018\n",
      "Epoch 546/800\n",
      "45/45 [==============================] - 11s 252ms/step - loss: 0.7528 - accuracy: 0.7335 - val_loss: 0.3779 - val_accuracy: 0.8990\n",
      "Epoch 547/800\n",
      "45/45 [==============================] - 11s 251ms/step - loss: 0.7517 - accuracy: 0.7384 - val_loss: 0.3641 - val_accuracy: 0.9018\n",
      "Epoch 548/800\n",
      "45/45 [==============================] - 12s 254ms/step - loss: 0.7366 - accuracy: 0.7388 - val_loss: 0.3567 - val_accuracy: 0.9158\n",
      "Epoch 549/800\n",
      "45/45 [==============================] - 12s 254ms/step - loss: 0.7432 - accuracy: 0.7338 - val_loss: 0.3586 - val_accuracy: 0.9046\n",
      "Epoch 550/800\n",
      "45/45 [==============================] - 11s 252ms/step - loss: 0.7506 - accuracy: 0.7384 - val_loss: 0.3659 - val_accuracy: 0.9004\n",
      "Epoch 551/800\n",
      "45/45 [==============================] - 11s 252ms/step - loss: 0.7459 - accuracy: 0.7388 - val_loss: 0.3472 - val_accuracy: 0.9102\n",
      "Epoch 552/800\n",
      "45/45 [==============================] - 11s 252ms/step - loss: 0.7780 - accuracy: 0.7151 - val_loss: 0.3668 - val_accuracy: 0.9060\n",
      "Epoch 553/800\n",
      "45/45 [==============================] - 11s 252ms/step - loss: 0.7636 - accuracy: 0.7236 - val_loss: 0.3745 - val_accuracy: 0.9046\n",
      "Epoch 554/800\n",
      "45/45 [==============================] - 11s 253ms/step - loss: 0.7746 - accuracy: 0.7225 - val_loss: 0.3629 - val_accuracy: 0.9074\n",
      "Epoch 555/800\n",
      "45/45 [==============================] - 11s 251ms/step - loss: 0.7464 - accuracy: 0.7271 - val_loss: 0.3644 - val_accuracy: 0.9060\n",
      "Epoch 556/800\n",
      "45/45 [==============================] - 11s 252ms/step - loss: 0.7491 - accuracy: 0.7420 - val_loss: 0.3514 - val_accuracy: 0.9088\n",
      "Epoch 557/800\n",
      "45/45 [==============================] - 11s 251ms/step - loss: 0.7778 - accuracy: 0.7204 - val_loss: 0.3673 - val_accuracy: 0.9074\n",
      "Epoch 558/800\n",
      "45/45 [==============================] - 11s 251ms/step - loss: 0.7377 - accuracy: 0.7384 - val_loss: 0.3677 - val_accuracy: 0.9074\n",
      "Epoch 559/800\n",
      "45/45 [==============================] - 11s 251ms/step - loss: 0.7478 - accuracy: 0.7282 - val_loss: 0.3758 - val_accuracy: 0.9046\n",
      "Epoch 560/800\n",
      "45/45 [==============================] - 11s 251ms/step - loss: 0.7418 - accuracy: 0.7359 - val_loss: 0.3656 - val_accuracy: 0.9060\n",
      "Epoch 561/800\n",
      "45/45 [==============================] - 11s 251ms/step - loss: 0.7570 - accuracy: 0.7243 - val_loss: 0.3927 - val_accuracy: 0.8976\n",
      "Epoch 562/800\n",
      "45/45 [==============================] - 11s 251ms/step - loss: 0.7431 - accuracy: 0.7264 - val_loss: 0.3752 - val_accuracy: 0.8990\n",
      "Epoch 563/800\n",
      "45/45 [==============================] - 11s 251ms/step - loss: 0.7420 - accuracy: 0.7384 - val_loss: 0.3726 - val_accuracy: 0.9004\n",
      "Epoch 564/800\n",
      "45/45 [==============================] - 11s 251ms/step - loss: 0.7423 - accuracy: 0.7345 - val_loss: 0.3796 - val_accuracy: 0.9004\n",
      "Epoch 565/800\n",
      "45/45 [==============================] - 11s 252ms/step - loss: 0.7443 - accuracy: 0.7268 - val_loss: 0.3769 - val_accuracy: 0.9060\n",
      "Epoch 566/800\n",
      "45/45 [==============================] - 11s 252ms/step - loss: 0.7474 - accuracy: 0.7317 - val_loss: 0.3793 - val_accuracy: 0.9032\n",
      "Epoch 567/800\n",
      "45/45 [==============================] - 11s 251ms/step - loss: 0.7442 - accuracy: 0.7299 - val_loss: 0.3808 - val_accuracy: 0.9074\n",
      "Epoch 568/800\n",
      "45/45 [==============================] - 11s 251ms/step - loss: 0.7450 - accuracy: 0.7342 - val_loss: 0.3673 - val_accuracy: 0.9060\n",
      "Epoch 569/800\n",
      "45/45 [==============================] - 11s 250ms/step - loss: 0.7656 - accuracy: 0.7306 - val_loss: 0.3670 - val_accuracy: 0.9102\n",
      "Epoch 570/800\n",
      "45/45 [==============================] - 12s 266ms/step - loss: 0.7491 - accuracy: 0.7338 - val_loss: 0.3768 - val_accuracy: 0.9032\n",
      "Epoch 571/800\n",
      "45/45 [==============================] - 12s 255ms/step - loss: 0.7301 - accuracy: 0.7494 - val_loss: 0.3701 - val_accuracy: 0.9018\n",
      "Epoch 572/800\n",
      "45/45 [==============================] - 11s 253ms/step - loss: 0.7683 - accuracy: 0.7261 - val_loss: 0.3531 - val_accuracy: 0.9102\n",
      "Epoch 573/800\n",
      "45/45 [==============================] - 11s 253ms/step - loss: 0.7460 - accuracy: 0.7356 - val_loss: 0.3759 - val_accuracy: 0.9004\n",
      "Epoch 574/800\n",
      "45/45 [==============================] - 12s 257ms/step - loss: 0.7332 - accuracy: 0.7349 - val_loss: 0.3843 - val_accuracy: 0.8962\n",
      "Epoch 575/800\n",
      "45/45 [==============================] - 11s 251ms/step - loss: 0.7049 - accuracy: 0.7561 - val_loss: 0.3693 - val_accuracy: 0.9088\n",
      "Epoch 576/800\n",
      "45/45 [==============================] - 11s 251ms/step - loss: 0.7266 - accuracy: 0.7402 - val_loss: 0.3655 - val_accuracy: 0.9074\n",
      "Epoch 577/800\n",
      "45/45 [==============================] - 11s 250ms/step - loss: 0.7261 - accuracy: 0.7409 - val_loss: 0.3738 - val_accuracy: 0.9032\n",
      "Epoch 578/800\n",
      "45/45 [==============================] - 12s 254ms/step - loss: 0.7278 - accuracy: 0.7490 - val_loss: 0.4140 - val_accuracy: 0.9004\n",
      "Epoch 579/800\n",
      "45/45 [==============================] - 12s 255ms/step - loss: 0.7404 - accuracy: 0.7289 - val_loss: 0.3831 - val_accuracy: 0.8962\n",
      "Epoch 580/800\n",
      "45/45 [==============================] - 12s 255ms/step - loss: 0.7377 - accuracy: 0.7363 - val_loss: 0.3898 - val_accuracy: 0.8934\n",
      "Epoch 581/800\n",
      "45/45 [==============================] - 12s 260ms/step - loss: 0.7212 - accuracy: 0.7317 - val_loss: 0.3764 - val_accuracy: 0.8976\n",
      "Epoch 582/800\n",
      "45/45 [==============================] - 12s 256ms/step - loss: 0.7535 - accuracy: 0.7352 - val_loss: 0.3668 - val_accuracy: 0.9102\n",
      "Epoch 583/800\n",
      "45/45 [==============================] - 12s 255ms/step - loss: 0.7289 - accuracy: 0.7306 - val_loss: 0.3701 - val_accuracy: 0.9046\n",
      "Epoch 584/800\n",
      "45/45 [==============================] - 11s 251ms/step - loss: 0.7126 - accuracy: 0.7536 - val_loss: 0.3691 - val_accuracy: 0.9046\n",
      "Epoch 585/800\n",
      "45/45 [==============================] - 11s 250ms/step - loss: 0.7352 - accuracy: 0.7359 - val_loss: 0.3858 - val_accuracy: 0.9018\n",
      "Epoch 586/800\n",
      "45/45 [==============================] - 11s 250ms/step - loss: 0.7250 - accuracy: 0.7423 - val_loss: 0.3977 - val_accuracy: 0.8934\n",
      "Epoch 587/800\n",
      "45/45 [==============================] - 11s 250ms/step - loss: 0.7457 - accuracy: 0.7388 - val_loss: 0.3877 - val_accuracy: 0.8990\n",
      "Epoch 588/800\n",
      "45/45 [==============================] - 11s 250ms/step - loss: 0.7199 - accuracy: 0.7391 - val_loss: 0.3826 - val_accuracy: 0.8962\n",
      "Epoch 589/800\n",
      "45/45 [==============================] - 11s 250ms/step - loss: 0.7435 - accuracy: 0.7416 - val_loss: 0.3955 - val_accuracy: 0.9018\n",
      "Epoch 590/800\n",
      "45/45 [==============================] - 11s 250ms/step - loss: 0.7487 - accuracy: 0.7331 - val_loss: 0.3636 - val_accuracy: 0.9060\n",
      "Epoch 591/800\n",
      "45/45 [==============================] - 11s 251ms/step - loss: 0.7426 - accuracy: 0.7420 - val_loss: 0.3660 - val_accuracy: 0.9102\n",
      "Epoch 592/800\n",
      "45/45 [==============================] - 11s 250ms/step - loss: 0.7278 - accuracy: 0.7423 - val_loss: 0.3778 - val_accuracy: 0.9032\n",
      "Epoch 593/800\n",
      "45/45 [==============================] - 11s 250ms/step - loss: 0.7362 - accuracy: 0.7409 - val_loss: 0.3762 - val_accuracy: 0.9032\n",
      "Epoch 594/800\n",
      "45/45 [==============================] - 11s 251ms/step - loss: 0.6976 - accuracy: 0.7561 - val_loss: 0.3795 - val_accuracy: 0.8976\n",
      "Epoch 595/800\n",
      "45/45 [==============================] - 11s 250ms/step - loss: 0.7125 - accuracy: 0.7487 - val_loss: 0.3662 - val_accuracy: 0.9074\n",
      "Epoch 596/800\n",
      "45/45 [==============================] - 11s 250ms/step - loss: 0.7539 - accuracy: 0.7261 - val_loss: 0.3668 - val_accuracy: 0.9046\n",
      "Epoch 597/800\n",
      "45/45 [==============================] - 11s 250ms/step - loss: 0.7060 - accuracy: 0.7579 - val_loss: 0.3594 - val_accuracy: 0.9074\n",
      "Epoch 598/800\n",
      "45/45 [==============================] - 11s 250ms/step - loss: 0.6946 - accuracy: 0.7554 - val_loss: 0.3668 - val_accuracy: 0.9074\n",
      "Epoch 599/800\n",
      "45/45 [==============================] - 11s 250ms/step - loss: 0.7307 - accuracy: 0.7416 - val_loss: 0.3561 - val_accuracy: 0.9088\n",
      "Epoch 600/800\n",
      "45/45 [==============================] - 11s 250ms/step - loss: 0.7326 - accuracy: 0.7402 - val_loss: 0.3681 - val_accuracy: 0.9116\n",
      "Epoch 601/800\n",
      "45/45 [==============================] - 11s 250ms/step - loss: 0.7093 - accuracy: 0.7405 - val_loss: 0.3606 - val_accuracy: 0.9102\n",
      "Epoch 602/800\n",
      "45/45 [==============================] - 11s 252ms/step - loss: 0.7272 - accuracy: 0.7370 - val_loss: 0.3901 - val_accuracy: 0.9060\n",
      "Epoch 603/800\n",
      "45/45 [==============================] - 11s 250ms/step - loss: 0.7365 - accuracy: 0.7434 - val_loss: 0.3525 - val_accuracy: 0.9158\n",
      "Epoch 604/800\n",
      "45/45 [==============================] - 11s 250ms/step - loss: 0.7368 - accuracy: 0.7349 - val_loss: 0.3750 - val_accuracy: 0.9046\n",
      "Epoch 605/800\n",
      "45/45 [==============================] - 11s 253ms/step - loss: 0.7183 - accuracy: 0.7473 - val_loss: 0.3879 - val_accuracy: 0.8976\n",
      "Epoch 606/800\n",
      "45/45 [==============================] - 11s 250ms/step - loss: 0.7252 - accuracy: 0.7370 - val_loss: 0.3519 - val_accuracy: 0.9004\n",
      "Epoch 607/800\n",
      "45/45 [==============================] - 11s 251ms/step - loss: 0.6993 - accuracy: 0.7497 - val_loss: 0.3748 - val_accuracy: 0.9004\n",
      "Epoch 608/800\n",
      "45/45 [==============================] - 11s 251ms/step - loss: 0.7262 - accuracy: 0.7395 - val_loss: 0.3897 - val_accuracy: 0.8962\n",
      "Epoch 609/800\n",
      "45/45 [==============================] - 11s 251ms/step - loss: 0.7276 - accuracy: 0.7391 - val_loss: 0.3567 - val_accuracy: 0.9032\n",
      "Epoch 610/800\n",
      "45/45 [==============================] - 11s 252ms/step - loss: 0.7324 - accuracy: 0.7434 - val_loss: 0.3648 - val_accuracy: 0.9074\n",
      "Epoch 611/800\n",
      "45/45 [==============================] - 11s 251ms/step - loss: 0.7287 - accuracy: 0.7441 - val_loss: 0.3858 - val_accuracy: 0.8976\n",
      "Epoch 612/800\n",
      "45/45 [==============================] - 11s 252ms/step - loss: 0.7197 - accuracy: 0.7469 - val_loss: 0.3884 - val_accuracy: 0.8976\n",
      "Epoch 613/800\n",
      "45/45 [==============================] - 12s 255ms/step - loss: 0.7228 - accuracy: 0.7349 - val_loss: 0.3786 - val_accuracy: 0.9046\n",
      "Epoch 614/800\n",
      "45/45 [==============================] - 12s 254ms/step - loss: 0.7330 - accuracy: 0.7391 - val_loss: 0.3960 - val_accuracy: 0.8990\n",
      "Epoch 615/800\n",
      "45/45 [==============================] - 11s 252ms/step - loss: 0.7016 - accuracy: 0.7543 - val_loss: 0.3642 - val_accuracy: 0.9130\n",
      "Epoch 616/800\n"
     ]
    },
    {
     "name": "stdout",
     "output_type": "stream",
     "text": [
      "45/45 [==============================] - 11s 250ms/step - loss: 0.7139 - accuracy: 0.7427 - val_loss: 0.3640 - val_accuracy: 0.9088\n",
      "Epoch 617/800\n",
      "45/45 [==============================] - 11s 250ms/step - loss: 0.7267 - accuracy: 0.7441 - val_loss: 0.3576 - val_accuracy: 0.9046\n",
      "Epoch 618/800\n",
      "45/45 [==============================] - 11s 250ms/step - loss: 0.7367 - accuracy: 0.7402 - val_loss: 0.3745 - val_accuracy: 0.9116\n",
      "Epoch 619/800\n",
      "45/45 [==============================] - 11s 250ms/step - loss: 0.7400 - accuracy: 0.7395 - val_loss: 0.3683 - val_accuracy: 0.9116\n",
      "Epoch 620/800\n",
      "45/45 [==============================] - 11s 250ms/step - loss: 0.7172 - accuracy: 0.7476 - val_loss: 0.3788 - val_accuracy: 0.9018\n",
      "Epoch 621/800\n",
      "45/45 [==============================] - 11s 251ms/step - loss: 0.7060 - accuracy: 0.7388 - val_loss: 0.3704 - val_accuracy: 0.9018\n",
      "Epoch 622/800\n",
      "45/45 [==============================] - 11s 251ms/step - loss: 0.7125 - accuracy: 0.7462 - val_loss: 0.3576 - val_accuracy: 0.9074\n",
      "Epoch 623/800\n",
      "45/45 [==============================] - 11s 252ms/step - loss: 0.7187 - accuracy: 0.7501 - val_loss: 0.3741 - val_accuracy: 0.9004\n",
      "Epoch 624/800\n",
      "45/45 [==============================] - 11s 252ms/step - loss: 0.6994 - accuracy: 0.7473 - val_loss: 0.3722 - val_accuracy: 0.9046\n",
      "Epoch 625/800\n",
      "45/45 [==============================] - 11s 252ms/step - loss: 0.7212 - accuracy: 0.7448 - val_loss: 0.3678 - val_accuracy: 0.9046\n",
      "Epoch 626/800\n",
      "45/45 [==============================] - 11s 251ms/step - loss: 0.7061 - accuracy: 0.7547 - val_loss: 0.3577 - val_accuracy: 0.9060\n",
      "Epoch 627/800\n",
      "45/45 [==============================] - 11s 251ms/step - loss: 0.7063 - accuracy: 0.7487 - val_loss: 0.3671 - val_accuracy: 0.9102\n",
      "Epoch 628/800\n",
      "45/45 [==============================] - 11s 251ms/step - loss: 0.7115 - accuracy: 0.7547 - val_loss: 0.3744 - val_accuracy: 0.9004\n",
      "Epoch 629/800\n",
      "45/45 [==============================] - 11s 251ms/step - loss: 0.6917 - accuracy: 0.7423 - val_loss: 0.3538 - val_accuracy: 0.9088\n",
      "Epoch 630/800\n",
      "45/45 [==============================] - 11s 251ms/step - loss: 0.6841 - accuracy: 0.7550 - val_loss: 0.3776 - val_accuracy: 0.9032\n",
      "Epoch 631/800\n",
      "45/45 [==============================] - 11s 251ms/step - loss: 0.7142 - accuracy: 0.7409 - val_loss: 0.3663 - val_accuracy: 0.9004\n",
      "Epoch 632/800\n",
      "45/45 [==============================] - 11s 251ms/step - loss: 0.7180 - accuracy: 0.7469 - val_loss: 0.3638 - val_accuracy: 0.9018\n",
      "Epoch 633/800\n",
      "45/45 [==============================] - 11s 252ms/step - loss: 0.7254 - accuracy: 0.7437 - val_loss: 0.3693 - val_accuracy: 0.9088\n",
      "Epoch 634/800\n",
      "45/45 [==============================] - 11s 252ms/step - loss: 0.7214 - accuracy: 0.7504 - val_loss: 0.3495 - val_accuracy: 0.9046\n",
      "Epoch 635/800\n",
      "45/45 [==============================] - 11s 251ms/step - loss: 0.7130 - accuracy: 0.7423 - val_loss: 0.3342 - val_accuracy: 0.9116\n",
      "Epoch 636/800\n",
      "45/45 [==============================] - 11s 251ms/step - loss: 0.7126 - accuracy: 0.7476 - val_loss: 0.3427 - val_accuracy: 0.9088\n",
      "Epoch 637/800\n",
      "45/45 [==============================] - 11s 251ms/step - loss: 0.7224 - accuracy: 0.7490 - val_loss: 0.3447 - val_accuracy: 0.9130\n",
      "Epoch 638/800\n",
      "45/45 [==============================] - 12s 257ms/step - loss: 0.7114 - accuracy: 0.7540 - val_loss: 0.3898 - val_accuracy: 0.8962\n",
      "Epoch 639/800\n",
      "45/45 [==============================] - 12s 256ms/step - loss: 0.7006 - accuracy: 0.7547 - val_loss: 0.3443 - val_accuracy: 0.9060\n",
      "Epoch 640/800\n",
      "45/45 [==============================] - 12s 259ms/step - loss: 0.6995 - accuracy: 0.7522 - val_loss: 0.3653 - val_accuracy: 0.9046\n",
      "Epoch 641/800\n",
      "45/45 [==============================] - 11s 251ms/step - loss: 0.6892 - accuracy: 0.7543 - val_loss: 0.3576 - val_accuracy: 0.9032\n",
      "Epoch 642/800\n",
      "45/45 [==============================] - 11s 251ms/step - loss: 0.7158 - accuracy: 0.7497 - val_loss: 0.3732 - val_accuracy: 0.9004\n",
      "Epoch 643/800\n",
      "45/45 [==============================] - 12s 256ms/step - loss: 0.7070 - accuracy: 0.7451 - val_loss: 0.4009 - val_accuracy: 0.8962\n",
      "Epoch 644/800\n",
      "45/45 [==============================] - 11s 252ms/step - loss: 0.7209 - accuracy: 0.7416 - val_loss: 0.3594 - val_accuracy: 0.9088\n",
      "Epoch 645/800\n",
      "45/45 [==============================] - 11s 254ms/step - loss: 0.7002 - accuracy: 0.7593 - val_loss: 0.3732 - val_accuracy: 0.9046\n",
      "Epoch 646/800\n",
      "45/45 [==============================] - 11s 255ms/step - loss: 0.7111 - accuracy: 0.7480 - val_loss: 0.3479 - val_accuracy: 0.9074\n",
      "Epoch 647/800\n",
      "45/45 [==============================] - 11s 255ms/step - loss: 0.7107 - accuracy: 0.7420 - val_loss: 0.3446 - val_accuracy: 0.9130\n",
      "Epoch 648/800\n",
      "45/45 [==============================] - 11s 252ms/step - loss: 0.6928 - accuracy: 0.7603 - val_loss: 0.3925 - val_accuracy: 0.8976\n",
      "Epoch 649/800\n",
      "45/45 [==============================] - 11s 252ms/step - loss: 0.7087 - accuracy: 0.7434 - val_loss: 0.3747 - val_accuracy: 0.9074\n",
      "Epoch 650/800\n",
      "45/45 [==============================] - 11s 253ms/step - loss: 0.7320 - accuracy: 0.7331 - val_loss: 0.3520 - val_accuracy: 0.9046\n",
      "Epoch 651/800\n",
      "45/45 [==============================] - 11s 252ms/step - loss: 0.7030 - accuracy: 0.7476 - val_loss: 0.3469 - val_accuracy: 0.9116\n",
      "Epoch 652/800\n",
      "45/45 [==============================] - 11s 251ms/step - loss: 0.6867 - accuracy: 0.7423 - val_loss: 0.3551 - val_accuracy: 0.9088\n",
      "Epoch 653/800\n",
      "45/45 [==============================] - 11s 252ms/step - loss: 0.7047 - accuracy: 0.7501 - val_loss: 0.3599 - val_accuracy: 0.9102\n",
      "Epoch 654/800\n",
      "45/45 [==============================] - 12s 255ms/step - loss: 0.6869 - accuracy: 0.7582 - val_loss: 0.3635 - val_accuracy: 0.9046\n",
      "Epoch 655/800\n",
      "45/45 [==============================] - 11s 252ms/step - loss: 0.7141 - accuracy: 0.7416 - val_loss: 0.3631 - val_accuracy: 0.9088\n",
      "Epoch 656/800\n",
      "45/45 [==============================] - 11s 252ms/step - loss: 0.7052 - accuracy: 0.7511 - val_loss: 0.3694 - val_accuracy: 0.9046\n",
      "Epoch 657/800\n",
      "45/45 [==============================] - 11s 252ms/step - loss: 0.6869 - accuracy: 0.7554 - val_loss: 0.3652 - val_accuracy: 0.9102\n",
      "Epoch 658/800\n",
      "45/45 [==============================] - 11s 252ms/step - loss: 0.6929 - accuracy: 0.7561 - val_loss: 0.3830 - val_accuracy: 0.9046\n",
      "Epoch 659/800\n",
      "45/45 [==============================] - 11s 251ms/step - loss: 0.7113 - accuracy: 0.7462 - val_loss: 0.3722 - val_accuracy: 0.9074\n",
      "Epoch 660/800\n",
      "45/45 [==============================] - 11s 251ms/step - loss: 0.6916 - accuracy: 0.7603 - val_loss: 0.3573 - val_accuracy: 0.9074\n",
      "Epoch 661/800\n",
      "45/45 [==============================] - 11s 250ms/step - loss: 0.7096 - accuracy: 0.7508 - val_loss: 0.3453 - val_accuracy: 0.9074\n",
      "Epoch 662/800\n",
      "45/45 [==============================] - 11s 251ms/step - loss: 0.6889 - accuracy: 0.7600 - val_loss: 0.3481 - val_accuracy: 0.9074\n",
      "Epoch 663/800\n",
      "45/45 [==============================] - 11s 252ms/step - loss: 0.6967 - accuracy: 0.7554 - val_loss: 0.3524 - val_accuracy: 0.9074\n",
      "Epoch 664/800\n",
      "45/45 [==============================] - 11s 251ms/step - loss: 0.7086 - accuracy: 0.7519 - val_loss: 0.3780 - val_accuracy: 0.9088\n",
      "Epoch 665/800\n",
      "45/45 [==============================] - 11s 251ms/step - loss: 0.6720 - accuracy: 0.7642 - val_loss: 0.3707 - val_accuracy: 0.9088\n",
      "Epoch 666/800\n",
      "45/45 [==============================] - 11s 251ms/step - loss: 0.6696 - accuracy: 0.7565 - val_loss: 0.3503 - val_accuracy: 0.9130\n",
      "Epoch 667/800\n",
      "45/45 [==============================] - 11s 250ms/step - loss: 0.7076 - accuracy: 0.7455 - val_loss: 0.3727 - val_accuracy: 0.9116\n",
      "Epoch 668/800\n",
      "45/45 [==============================] - 11s 251ms/step - loss: 0.7051 - accuracy: 0.7497 - val_loss: 0.3672 - val_accuracy: 0.9046\n",
      "Epoch 669/800\n",
      "45/45 [==============================] - 11s 251ms/step - loss: 0.7025 - accuracy: 0.7536 - val_loss: 0.3786 - val_accuracy: 0.9004\n",
      "Epoch 670/800\n",
      "45/45 [==============================] - 11s 251ms/step - loss: 0.6719 - accuracy: 0.7593 - val_loss: 0.3994 - val_accuracy: 0.9004\n",
      "Epoch 671/800\n",
      "45/45 [==============================] - 11s 251ms/step - loss: 0.6681 - accuracy: 0.7674 - val_loss: 0.4337 - val_accuracy: 0.8920\n",
      "Epoch 672/800\n",
      "45/45 [==============================] - 11s 250ms/step - loss: 0.6688 - accuracy: 0.7635 - val_loss: 0.3729 - val_accuracy: 0.9046\n",
      "Epoch 673/800\n",
      "45/45 [==============================] - 11s 250ms/step - loss: 0.7091 - accuracy: 0.7480 - val_loss: 0.3932 - val_accuracy: 0.8990\n",
      "Epoch 674/800\n",
      "45/45 [==============================] - 11s 251ms/step - loss: 0.6764 - accuracy: 0.7568 - val_loss: 0.3770 - val_accuracy: 0.9004\n",
      "Epoch 675/800\n",
      "45/45 [==============================] - 11s 251ms/step - loss: 0.6847 - accuracy: 0.7579 - val_loss: 0.3797 - val_accuracy: 0.9018\n",
      "Epoch 676/800\n",
      "45/45 [==============================] - 11s 251ms/step - loss: 0.6521 - accuracy: 0.7702 - val_loss: 0.3712 - val_accuracy: 0.9018\n",
      "Epoch 677/800\n",
      "45/45 [==============================] - 11s 250ms/step - loss: 0.6899 - accuracy: 0.7568 - val_loss: 0.3535 - val_accuracy: 0.9144\n",
      "Epoch 678/800\n",
      "45/45 [==============================] - 11s 251ms/step - loss: 0.6543 - accuracy: 0.7688 - val_loss: 0.3613 - val_accuracy: 0.9074\n",
      "Epoch 679/800\n",
      "45/45 [==============================] - 11s 250ms/step - loss: 0.6842 - accuracy: 0.7473 - val_loss: 0.3548 - val_accuracy: 0.9102\n",
      "Epoch 680/800\n",
      "45/45 [==============================] - 11s 251ms/step - loss: 0.6881 - accuracy: 0.7568 - val_loss: 0.3675 - val_accuracy: 0.8990\n",
      "Epoch 681/800\n",
      "45/45 [==============================] - 11s 251ms/step - loss: 0.6760 - accuracy: 0.7593 - val_loss: 0.3754 - val_accuracy: 0.9004\n",
      "Epoch 682/800\n",
      "45/45 [==============================] - 11s 251ms/step - loss: 0.6866 - accuracy: 0.7540 - val_loss: 0.3773 - val_accuracy: 0.9046\n",
      "Epoch 683/800\n",
      "45/45 [==============================] - 11s 251ms/step - loss: 0.6585 - accuracy: 0.7720 - val_loss: 0.3730 - val_accuracy: 0.9074\n",
      "Epoch 684/800\n",
      "45/45 [==============================] - 11s 251ms/step - loss: 0.7045 - accuracy: 0.7522 - val_loss: 0.3825 - val_accuracy: 0.9074\n",
      "Epoch 685/800\n",
      "45/45 [==============================] - 11s 250ms/step - loss: 0.7154 - accuracy: 0.7434 - val_loss: 0.3729 - val_accuracy: 0.9004\n",
      "Epoch 686/800\n",
      "45/45 [==============================] - 11s 252ms/step - loss: 0.6672 - accuracy: 0.7667 - val_loss: 0.3649 - val_accuracy: 0.9074\n",
      "Epoch 687/800\n",
      "45/45 [==============================] - 11s 251ms/step - loss: 0.6578 - accuracy: 0.7649 - val_loss: 0.3856 - val_accuracy: 0.9004\n",
      "Epoch 688/800\n",
      "45/45 [==============================] - 11s 251ms/step - loss: 0.6710 - accuracy: 0.7596 - val_loss: 0.3654 - val_accuracy: 0.9032\n",
      "Epoch 689/800\n",
      "45/45 [==============================] - 11s 251ms/step - loss: 0.6767 - accuracy: 0.7575 - val_loss: 0.3764 - val_accuracy: 0.9060\n",
      "Epoch 690/800\n",
      "45/45 [==============================] - 11s 251ms/step - loss: 0.6426 - accuracy: 0.7709 - val_loss: 0.3864 - val_accuracy: 0.8990\n",
      "Epoch 691/800\n",
      "45/45 [==============================] - 11s 251ms/step - loss: 0.7067 - accuracy: 0.7504 - val_loss: 0.3537 - val_accuracy: 0.8990\n",
      "Epoch 692/800\n",
      "45/45 [==============================] - 11s 251ms/step - loss: 0.6455 - accuracy: 0.7798 - val_loss: 0.3446 - val_accuracy: 0.8976\n",
      "Epoch 693/800\n",
      "45/45 [==============================] - 11s 251ms/step - loss: 0.6571 - accuracy: 0.7671 - val_loss: 0.3748 - val_accuracy: 0.8962\n",
      "Epoch 694/800\n",
      "45/45 [==============================] - 11s 251ms/step - loss: 0.6743 - accuracy: 0.7610 - val_loss: 0.3921 - val_accuracy: 0.8920\n",
      "Epoch 695/800\n",
      "45/45 [==============================] - 11s 251ms/step - loss: 0.6622 - accuracy: 0.7695 - val_loss: 0.3710 - val_accuracy: 0.9032\n",
      "Epoch 696/800\n",
      "45/45 [==============================] - 11s 251ms/step - loss: 0.6694 - accuracy: 0.7610 - val_loss: 0.3890 - val_accuracy: 0.8976\n",
      "Epoch 697/800\n",
      "45/45 [==============================] - 11s 251ms/step - loss: 0.6498 - accuracy: 0.7731 - val_loss: 0.3636 - val_accuracy: 0.8976\n",
      "Epoch 698/800\n",
      "45/45 [==============================] - 11s 251ms/step - loss: 0.6802 - accuracy: 0.7646 - val_loss: 0.3489 - val_accuracy: 0.9060\n",
      "Epoch 699/800\n",
      "45/45 [==============================] - 11s 250ms/step - loss: 0.6600 - accuracy: 0.7554 - val_loss: 0.3482 - val_accuracy: 0.9088\n",
      "Epoch 700/800\n",
      "45/45 [==============================] - 11s 251ms/step - loss: 0.6425 - accuracy: 0.7706 - val_loss: 0.3570 - val_accuracy: 0.9032\n",
      "Epoch 701/800\n",
      "45/45 [==============================] - 11s 250ms/step - loss: 0.6708 - accuracy: 0.7610 - val_loss: 0.3800 - val_accuracy: 0.9018\n",
      "Epoch 702/800\n",
      "45/45 [==============================] - 11s 251ms/step - loss: 0.6715 - accuracy: 0.7614 - val_loss: 0.3601 - val_accuracy: 0.9004\n",
      "Epoch 703/800\n",
      "45/45 [==============================] - 11s 251ms/step - loss: 0.6608 - accuracy: 0.7699 - val_loss: 0.3697 - val_accuracy: 0.9032\n",
      "Epoch 704/800\n",
      "45/45 [==============================] - 11s 251ms/step - loss: 0.6584 - accuracy: 0.7702 - val_loss: 0.3741 - val_accuracy: 0.8976\n",
      "Epoch 705/800\n",
      "45/45 [==============================] - 11s 251ms/step - loss: 0.6684 - accuracy: 0.7646 - val_loss: 0.3532 - val_accuracy: 0.9102\n",
      "Epoch 706/800\n",
      "45/45 [==============================] - 11s 251ms/step - loss: 0.6621 - accuracy: 0.7663 - val_loss: 0.3623 - val_accuracy: 0.9004\n",
      "Epoch 707/800\n",
      "45/45 [==============================] - 11s 251ms/step - loss: 0.6326 - accuracy: 0.7770 - val_loss: 0.3722 - val_accuracy: 0.9004\n",
      "Epoch 708/800\n",
      "45/45 [==============================] - 11s 251ms/step - loss: 0.6372 - accuracy: 0.7688 - val_loss: 0.3756 - val_accuracy: 0.8934\n",
      "Epoch 709/800\n",
      "45/45 [==============================] - 11s 251ms/step - loss: 0.6604 - accuracy: 0.7695 - val_loss: 0.3643 - val_accuracy: 0.9018\n",
      "Epoch 710/800\n",
      "45/45 [==============================] - 11s 251ms/step - loss: 0.6658 - accuracy: 0.7565 - val_loss: 0.3652 - val_accuracy: 0.9018\n",
      "Epoch 711/800\n",
      "45/45 [==============================] - 11s 250ms/step - loss: 0.6314 - accuracy: 0.7798 - val_loss: 0.3761 - val_accuracy: 0.8976\n",
      "Epoch 712/800\n",
      "45/45 [==============================] - 11s 251ms/step - loss: 0.6582 - accuracy: 0.7745 - val_loss: 0.3562 - val_accuracy: 0.9060\n",
      "Epoch 713/800\n",
      "45/45 [==============================] - 11s 250ms/step - loss: 0.6648 - accuracy: 0.7709 - val_loss: 0.3653 - val_accuracy: 0.9032\n",
      "Epoch 714/800\n",
      "45/45 [==============================] - 11s 251ms/step - loss: 0.6681 - accuracy: 0.7625 - val_loss: 0.3810 - val_accuracy: 0.8976\n",
      "Epoch 715/800\n",
      "45/45 [==============================] - 11s 250ms/step - loss: 0.6546 - accuracy: 0.7621 - val_loss: 0.3610 - val_accuracy: 0.9102\n",
      "Epoch 716/800\n",
      "45/45 [==============================] - 11s 254ms/step - loss: 0.6747 - accuracy: 0.7582 - val_loss: 0.3578 - val_accuracy: 0.9102\n",
      "Epoch 717/800\n",
      "45/45 [==============================] - 11s 253ms/step - loss: 0.6681 - accuracy: 0.7695 - val_loss: 0.3837 - val_accuracy: 0.9088\n",
      "Epoch 718/800\n",
      "45/45 [==============================] - 11s 251ms/step - loss: 0.6348 - accuracy: 0.7720 - val_loss: 0.3619 - val_accuracy: 0.9032\n",
      "Epoch 719/800\n",
      "45/45 [==============================] - 11s 251ms/step - loss: 0.6358 - accuracy: 0.7773 - val_loss: 0.3442 - val_accuracy: 0.9088\n",
      "Epoch 720/800\n",
      "45/45 [==============================] - 11s 251ms/step - loss: 0.6566 - accuracy: 0.7766 - val_loss: 0.3935 - val_accuracy: 0.9004\n",
      "Epoch 721/800\n",
      "45/45 [==============================] - 11s 253ms/step - loss: 0.6657 - accuracy: 0.7557 - val_loss: 0.3531 - val_accuracy: 0.9032\n",
      "Epoch 722/800\n",
      "45/45 [==============================] - 11s 251ms/step - loss: 0.6414 - accuracy: 0.7766 - val_loss: 0.3557 - val_accuracy: 0.9102\n",
      "Epoch 723/800\n",
      "45/45 [==============================] - 11s 251ms/step - loss: 0.6624 - accuracy: 0.7610 - val_loss: 0.3647 - val_accuracy: 0.9046\n",
      "Epoch 724/800\n",
      "45/45 [==============================] - 11s 249ms/step - loss: 0.6563 - accuracy: 0.7741 - val_loss: 0.3510 - val_accuracy: 0.9130\n",
      "Epoch 725/800\n",
      "45/45 [==============================] - 11s 251ms/step - loss: 0.6406 - accuracy: 0.7731 - val_loss: 0.3567 - val_accuracy: 0.9060\n",
      "Epoch 726/800\n",
      "45/45 [==============================] - 11s 251ms/step - loss: 0.6521 - accuracy: 0.7706 - val_loss: 0.3743 - val_accuracy: 0.9032\n",
      "Epoch 727/800\n",
      "45/45 [==============================] - 11s 250ms/step - loss: 0.6758 - accuracy: 0.7625 - val_loss: 0.3553 - val_accuracy: 0.9074\n",
      "Epoch 728/800\n"
     ]
    },
    {
     "name": "stdout",
     "output_type": "stream",
     "text": [
      "45/45 [==============================] - 11s 251ms/step - loss: 0.6450 - accuracy: 0.7787 - val_loss: 0.3596 - val_accuracy: 0.9060\n",
      "Epoch 729/800\n",
      "45/45 [==============================] - 11s 251ms/step - loss: 0.6630 - accuracy: 0.7656 - val_loss: 0.3705 - val_accuracy: 0.9060\n",
      "Epoch 730/800\n",
      "45/45 [==============================] - 11s 251ms/step - loss: 0.6756 - accuracy: 0.7540 - val_loss: 0.3665 - val_accuracy: 0.9004\n",
      "Epoch 731/800\n",
      "45/45 [==============================] - 11s 251ms/step - loss: 0.6790 - accuracy: 0.7582 - val_loss: 0.3428 - val_accuracy: 0.9046\n",
      "Epoch 732/800\n",
      "45/45 [==============================] - 11s 251ms/step - loss: 0.6666 - accuracy: 0.7625 - val_loss: 0.3638 - val_accuracy: 0.9032\n",
      "Epoch 733/800\n",
      "45/45 [==============================] - 11s 250ms/step - loss: 0.6258 - accuracy: 0.7755 - val_loss: 0.3579 - val_accuracy: 0.9088\n",
      "Epoch 734/800\n",
      "45/45 [==============================] - 11s 251ms/step - loss: 0.6371 - accuracy: 0.7791 - val_loss: 0.3834 - val_accuracy: 0.8990\n",
      "Epoch 735/800\n",
      "45/45 [==============================] - 11s 251ms/step - loss: 0.6658 - accuracy: 0.7632 - val_loss: 0.3644 - val_accuracy: 0.9046\n",
      "Epoch 736/800\n",
      "45/45 [==============================] - 11s 251ms/step - loss: 0.6298 - accuracy: 0.7819 - val_loss: 0.3560 - val_accuracy: 0.9018\n",
      "Epoch 737/800\n",
      "45/45 [==============================] - 11s 251ms/step - loss: 0.6436 - accuracy: 0.7688 - val_loss: 0.3766 - val_accuracy: 0.9046\n",
      "Epoch 738/800\n",
      "45/45 [==============================] - 11s 251ms/step - loss: 0.6586 - accuracy: 0.7649 - val_loss: 0.3511 - val_accuracy: 0.8976\n",
      "Epoch 739/800\n",
      "45/45 [==============================] - 11s 251ms/step - loss: 0.6460 - accuracy: 0.7791 - val_loss: 0.3398 - val_accuracy: 0.9046\n",
      "Epoch 740/800\n",
      "45/45 [==============================] - 11s 251ms/step - loss: 0.6402 - accuracy: 0.7748 - val_loss: 0.3783 - val_accuracy: 0.8962\n",
      "Epoch 741/800\n",
      "45/45 [==============================] - 11s 251ms/step - loss: 0.6417 - accuracy: 0.7628 - val_loss: 0.4622 - val_accuracy: 0.8752\n",
      "Epoch 742/800\n",
      "45/45 [==============================] - 11s 252ms/step - loss: 0.6564 - accuracy: 0.7653 - val_loss: 0.3669 - val_accuracy: 0.9046\n",
      "Epoch 743/800\n",
      "45/45 [==============================] - 11s 251ms/step - loss: 0.6643 - accuracy: 0.7674 - val_loss: 0.3579 - val_accuracy: 0.9046\n",
      "Epoch 744/800\n",
      "45/45 [==============================] - 11s 251ms/step - loss: 0.6412 - accuracy: 0.7762 - val_loss: 0.3660 - val_accuracy: 0.8976\n",
      "Epoch 745/800\n",
      "45/45 [==============================] - 11s 250ms/step - loss: 0.6294 - accuracy: 0.7812 - val_loss: 0.3555 - val_accuracy: 0.9074\n",
      "Epoch 746/800\n",
      "45/45 [==============================] - 11s 250ms/step - loss: 0.6809 - accuracy: 0.7526 - val_loss: 0.4931 - val_accuracy: 0.8710\n",
      "Epoch 747/800\n",
      "45/45 [==============================] - 11s 251ms/step - loss: 0.6456 - accuracy: 0.7688 - val_loss: 0.3726 - val_accuracy: 0.9046\n",
      "Epoch 748/800\n",
      "45/45 [==============================] - 11s 251ms/step - loss: 0.6444 - accuracy: 0.7720 - val_loss: 0.3720 - val_accuracy: 0.9060\n",
      "Epoch 749/800\n",
      "45/45 [==============================] - 11s 251ms/step - loss: 0.6495 - accuracy: 0.7635 - val_loss: 0.3743 - val_accuracy: 0.9102\n",
      "Epoch 750/800\n",
      "45/45 [==============================] - 11s 251ms/step - loss: 0.6739 - accuracy: 0.7596 - val_loss: 0.3687 - val_accuracy: 0.9116\n",
      "Epoch 751/800\n",
      "45/45 [==============================] - 11s 251ms/step - loss: 0.6471 - accuracy: 0.7745 - val_loss: 0.3964 - val_accuracy: 0.8948\n",
      "Epoch 752/800\n",
      "45/45 [==============================] - 11s 251ms/step - loss: 0.6480 - accuracy: 0.7702 - val_loss: 0.3986 - val_accuracy: 0.8934\n",
      "Epoch 753/800\n",
      "45/45 [==============================] - 11s 250ms/step - loss: 0.6398 - accuracy: 0.7635 - val_loss: 0.3817 - val_accuracy: 0.9018\n",
      "Epoch 754/800\n",
      "45/45 [==============================] - 11s 252ms/step - loss: 0.6488 - accuracy: 0.7731 - val_loss: 0.3839 - val_accuracy: 0.9032\n",
      "Epoch 755/800\n",
      "45/45 [==============================] - 11s 250ms/step - loss: 0.6553 - accuracy: 0.7678 - val_loss: 0.3737 - val_accuracy: 0.9116\n",
      "Epoch 756/800\n",
      "45/45 [==============================] - 11s 251ms/step - loss: 0.6502 - accuracy: 0.7618 - val_loss: 0.4269 - val_accuracy: 0.8990\n",
      "Epoch 757/800\n",
      "45/45 [==============================] - 11s 251ms/step - loss: 0.6435 - accuracy: 0.7706 - val_loss: 0.3692 - val_accuracy: 0.9060\n",
      "Epoch 758/800\n",
      "45/45 [==============================] - 11s 251ms/step - loss: 0.6532 - accuracy: 0.7713 - val_loss: 0.3766 - val_accuracy: 0.9060\n",
      "Epoch 759/800\n",
      "45/45 [==============================] - 11s 250ms/step - loss: 0.6496 - accuracy: 0.7748 - val_loss: 0.3701 - val_accuracy: 0.9102\n",
      "Epoch 760/800\n",
      "45/45 [==============================] - 11s 251ms/step - loss: 0.6753 - accuracy: 0.7653 - val_loss: 0.4001 - val_accuracy: 0.8948\n",
      "Epoch 761/800\n",
      "45/45 [==============================] - 11s 251ms/step - loss: 0.6546 - accuracy: 0.7734 - val_loss: 0.4310 - val_accuracy: 0.8948\n",
      "Epoch 762/800\n",
      "45/45 [==============================] - 11s 250ms/step - loss: 0.6370 - accuracy: 0.7823 - val_loss: 0.4244 - val_accuracy: 0.8948\n",
      "Epoch 763/800\n",
      "45/45 [==============================] - 11s 250ms/step - loss: 0.6405 - accuracy: 0.7794 - val_loss: 0.4105 - val_accuracy: 0.8906\n",
      "Epoch 764/800\n",
      "45/45 [==============================] - 11s 251ms/step - loss: 0.6541 - accuracy: 0.7713 - val_loss: 0.3867 - val_accuracy: 0.9074\n",
      "Epoch 765/800\n",
      "45/45 [==============================] - 11s 251ms/step - loss: 0.6482 - accuracy: 0.7734 - val_loss: 0.3983 - val_accuracy: 0.8962\n",
      "Epoch 766/800\n",
      "45/45 [==============================] - 11s 251ms/step - loss: 0.6275 - accuracy: 0.7770 - val_loss: 0.3693 - val_accuracy: 0.9088\n",
      "Epoch 767/800\n",
      "45/45 [==============================] - 12s 254ms/step - loss: 0.6173 - accuracy: 0.7770 - val_loss: 0.3920 - val_accuracy: 0.8976\n",
      "Epoch 768/800\n",
      "45/45 [==============================] - 11s 252ms/step - loss: 0.6460 - accuracy: 0.7773 - val_loss: 0.3925 - val_accuracy: 0.8990\n",
      "Epoch 769/800\n",
      "45/45 [==============================] - 11s 254ms/step - loss: 0.6574 - accuracy: 0.7724 - val_loss: 0.4216 - val_accuracy: 0.8892\n",
      "Epoch 770/800\n",
      "45/45 [==============================] - 11s 253ms/step - loss: 0.6345 - accuracy: 0.7798 - val_loss: 0.3885 - val_accuracy: 0.8976\n",
      "Epoch 771/800\n",
      "45/45 [==============================] - 12s 255ms/step - loss: 0.6240 - accuracy: 0.7854 - val_loss: 0.3847 - val_accuracy: 0.8990\n",
      "Epoch 772/800\n",
      "45/45 [==============================] - 11s 251ms/step - loss: 0.6050 - accuracy: 0.7812 - val_loss: 0.4061 - val_accuracy: 0.8934\n",
      "Epoch 773/800\n",
      "45/45 [==============================] - 11s 251ms/step - loss: 0.6421 - accuracy: 0.7699 - val_loss: 0.3625 - val_accuracy: 0.9046\n",
      "Epoch 774/800\n",
      "45/45 [==============================] - 11s 251ms/step - loss: 0.6056 - accuracy: 0.7858 - val_loss: 0.3505 - val_accuracy: 0.9032\n",
      "Epoch 775/800\n",
      "45/45 [==============================] - 11s 251ms/step - loss: 0.6379 - accuracy: 0.7681 - val_loss: 0.3770 - val_accuracy: 0.9074\n",
      "Epoch 776/800\n",
      "45/45 [==============================] - 11s 252ms/step - loss: 0.6573 - accuracy: 0.7653 - val_loss: 0.3883 - val_accuracy: 0.9032\n",
      "Epoch 777/800\n",
      "45/45 [==============================] - 11s 250ms/step - loss: 0.6366 - accuracy: 0.7798 - val_loss: 0.3762 - val_accuracy: 0.9046\n",
      "Epoch 778/800\n",
      "45/45 [==============================] - 11s 252ms/step - loss: 0.6304 - accuracy: 0.7819 - val_loss: 0.3930 - val_accuracy: 0.8962\n",
      "Epoch 779/800\n",
      "45/45 [==============================] - 11s 251ms/step - loss: 0.6614 - accuracy: 0.7642 - val_loss: 0.3778 - val_accuracy: 0.9060\n",
      "Epoch 780/800\n",
      "45/45 [==============================] - 11s 252ms/step - loss: 0.6307 - accuracy: 0.7900 - val_loss: 0.3874 - val_accuracy: 0.9088\n",
      "Epoch 781/800\n",
      "45/45 [==============================] - 11s 252ms/step - loss: 0.6497 - accuracy: 0.7731 - val_loss: 0.4064 - val_accuracy: 0.9046\n",
      "Epoch 782/800\n",
      "45/45 [==============================] - 11s 252ms/step - loss: 0.6524 - accuracy: 0.7702 - val_loss: 0.3855 - val_accuracy: 0.9116\n",
      "Epoch 783/800\n",
      "45/45 [==============================] - 11s 251ms/step - loss: 0.6215 - accuracy: 0.7738 - val_loss: 0.3783 - val_accuracy: 0.9088\n",
      "Epoch 784/800\n",
      "45/45 [==============================] - 11s 251ms/step - loss: 0.6096 - accuracy: 0.7840 - val_loss: 0.3913 - val_accuracy: 0.8990\n",
      "Epoch 785/800\n",
      "45/45 [==============================] - 11s 251ms/step - loss: 0.6121 - accuracy: 0.7812 - val_loss: 0.3770 - val_accuracy: 0.9088\n",
      "Epoch 786/800\n",
      "45/45 [==============================] - 11s 251ms/step - loss: 0.6244 - accuracy: 0.7801 - val_loss: 0.3780 - val_accuracy: 0.9046\n",
      "Epoch 787/800\n",
      "45/45 [==============================] - 11s 251ms/step - loss: 0.6114 - accuracy: 0.7900 - val_loss: 0.3785 - val_accuracy: 0.9116\n",
      "Epoch 788/800\n",
      "45/45 [==============================] - 11s 251ms/step - loss: 0.6126 - accuracy: 0.7798 - val_loss: 0.3741 - val_accuracy: 0.9102\n",
      "Epoch 789/800\n",
      "45/45 [==============================] - 11s 251ms/step - loss: 0.6307 - accuracy: 0.7801 - val_loss: 0.3958 - val_accuracy: 0.9102\n",
      "Epoch 790/800\n",
      "45/45 [==============================] - 12s 269ms/step - loss: 0.6494 - accuracy: 0.7695 - val_loss: 0.3934 - val_accuracy: 0.9046\n",
      "Epoch 791/800\n",
      "45/45 [==============================] - 12s 259ms/step - loss: 0.6036 - accuracy: 0.7837 - val_loss: 0.3788 - val_accuracy: 0.8990\n",
      "Epoch 792/800\n",
      "45/45 [==============================] - 11s 252ms/step - loss: 0.6575 - accuracy: 0.7625 - val_loss: 0.3676 - val_accuracy: 0.9116\n",
      "Epoch 793/800\n",
      "45/45 [==============================] - 11s 251ms/step - loss: 0.6096 - accuracy: 0.7844 - val_loss: 0.3811 - val_accuracy: 0.9046\n",
      "Epoch 794/800\n",
      "45/45 [==============================] - 11s 251ms/step - loss: 0.6082 - accuracy: 0.7830 - val_loss: 0.3765 - val_accuracy: 0.9018\n",
      "Epoch 795/800\n",
      "45/45 [==============================] - 11s 251ms/step - loss: 0.6365 - accuracy: 0.7755 - val_loss: 0.4018 - val_accuracy: 0.8962\n",
      "Epoch 796/800\n",
      "45/45 [==============================] - 11s 252ms/step - loss: 0.6271 - accuracy: 0.7798 - val_loss: 0.3848 - val_accuracy: 0.9088\n",
      "Epoch 797/800\n",
      "45/45 [==============================] - 11s 252ms/step - loss: 0.6301 - accuracy: 0.7805 - val_loss: 0.3718 - val_accuracy: 0.9004\n",
      "Epoch 798/800\n",
      "45/45 [==============================] - 11s 255ms/step - loss: 0.6754 - accuracy: 0.7649 - val_loss: 0.3863 - val_accuracy: 0.8962\n",
      "Epoch 799/800\n",
      "45/45 [==============================] - 12s 257ms/step - loss: 0.6148 - accuracy: 0.7780 - val_loss: 0.3754 - val_accuracy: 0.9032\n",
      "Epoch 800/800\n",
      "45/45 [==============================] - 12s 256ms/step - loss: 0.6348 - accuracy: 0.7709 - val_loss: 0.3869 - val_accuracy: 0.9032\n"
     ]
    }
   ],
   "source": [
    "history = model.fit(\n",
    "    x = train_gen,\n",
    "    validation_data = val_gen,\n",
    "    epochs = 800,\n",
    "    callbacks = callbacks\n",
    ").history"
   ]
  },
  {
   "cell_type": "code",
   "execution_count": 70,
   "metadata": {
    "pycharm": {
     "name": "#%%\n"
    }
   },
   "outputs": [
    {
     "data": {
      "text/plain": [
       "'C:\\\\Users\\\\zheng\\\\Documents\\\\Uni\\\\Magistrale\\\\ANNDL\\\\22-23\\\\Homework1\\\\Env'"
      ]
     },
     "execution_count": 70,
     "metadata": {},
     "output_type": "execute_result"
    }
   ],
   "source": [
    "os.getcwd()"
   ]
  },
  {
   "cell_type": "code",
   "execution_count": 44,
   "metadata": {
    "pycharm": {
     "name": "#%%\n"
    }
   },
   "outputs": [
    {
     "name": "stdout",
     "output_type": "stream",
     "text": [
      "EfficientnetV2_Nov22_23-39-14\n"
     ]
    }
   ],
   "source": [
    "print(foldername)"
   ]
  },
  {
   "cell_type": "code",
   "execution_count": 45,
   "metadata": {
    "executionInfo": {
     "elapsed": 194,
     "status": "ok",
     "timestamp": 1667968886371,
     "user": {
      "displayName": "Maria Yu",
      "userId": "14411329470521378870"
     },
     "user_tz": -60
    },
    "id": "liuoATAmrUOK",
    "pycharm": {
     "name": "#%%\n"
    }
   },
   "outputs": [],
   "source": [
    "f=open(os.path.join(os.getcwd(), 'experiments\\EfficientnetV2B0_Nov22_23-39-14\\history'),\"w\")\n",
    "f.write(str(history))\n",
    "f.close()"
   ]
  },
  {
   "cell_type": "code",
   "execution_count": 46,
   "metadata": {
    "pycharm": {
     "name": "#%%\n"
    }
   },
   "outputs": [
    {
     "name": "stdout",
     "output_type": "stream",
     "text": [
      "Nov23_03-17-17\n"
     ]
    }
   ],
   "source": [
    "callbacks, date = create_folders_and_callbacks(\"EfficientnetV2B0\")"
   ]
  },
  {
   "cell_type": "code",
   "execution_count": 83,
   "metadata": {
    "pycharm": {
     "name": "#%%\n"
    }
   },
   "outputs": [],
   "source": [
    "# foldername = mode + '_' + str(date)\n",
    "# print(foldername)"
   ]
  },
  {
   "cell_type": "code",
   "execution_count": 48,
   "metadata": {
    "pycharm": {
     "name": "#%%\n"
    }
   },
   "outputs": [],
   "source": [
    "newmodel = tfk.models.load_model(\"experiments/EfficientnetV2B0_Nov22_23-39-14\"+\"/base_ckpts/cp_\"+str(504)+\".ckpt\",\n",
    "                                 custom_objects={\"categorical_focal_loss\": categorical_focal_loss}\n",
    "                             )"
   ]
  },
  {
   "cell_type": "code",
   "execution_count": 49,
   "metadata": {
    "pycharm": {
     "name": "#%%\n"
    }
   },
   "outputs": [],
   "source": [
    "newmodel.compile(\n",
    "    optimizer=tfk.optimizers.Adam(learning_rate=5e-5, epsilon=0.1),\n",
    "    loss=categorical_focal_loss,\n",
    "    metrics=metrics\n",
    ")"
   ]
  },
  {
   "cell_type": "code",
   "execution_count": 50,
   "metadata": {
    "scrolled": true,
    "pycharm": {
     "name": "#%%\n"
    }
   },
   "outputs": [
    {
     "name": "stdout",
     "output_type": "stream",
     "text": [
      "Epoch 1/200\n",
      "45/45 [==============================] - ETA: 0s - loss: 0.0608 - accuracy: 0.7197"
     ]
    },
    {
     "name": "stderr",
     "output_type": "stream",
     "text": [
      "WARNING:absl:Function `_wrapped_model` contains input name(s) Input with unsupported characters which will be renamed to input in the SavedModel.\n",
      "WARNING:absl:Found untraced functions such as _jit_compiled_convolution_op, _jit_compiled_convolution_op, _jit_compiled_convolution_op, _jit_compiled_convolution_op, _jit_compiled_convolution_op while saving (showing 5 of 91). These functions will not be directly callable after loading.\n"
     ]
    },
    {
     "name": "stdout",
     "output_type": "stream",
     "text": [
      "INFO:tensorflow:Assets written to: experiments\\EfficientnetV2B0_Nov23_03-17-17\\base_ckpts\\cp_01.ckpt\\assets\n"
     ]
    },
    {
     "name": "stderr",
     "output_type": "stream",
     "text": [
      "INFO:tensorflow:Assets written to: experiments\\EfficientnetV2B0_Nov23_03-17-17\\base_ckpts\\cp_01.ckpt\\assets\n"
     ]
    },
    {
     "name": "stdout",
     "output_type": "stream",
     "text": [
      "45/45 [==============================] - 75s 1s/step - loss: 0.0608 - accuracy: 0.7197 - val_loss: 0.0433 - val_accuracy: 0.8976\n",
      "Epoch 2/200\n",
      "45/45 [==============================] - ETA: 0s - loss: 0.0595 - accuracy: 0.7271"
     ]
    },
    {
     "name": "stderr",
     "output_type": "stream",
     "text": [
      "WARNING:absl:Function `_wrapped_model` contains input name(s) Input with unsupported characters which will be renamed to input in the SavedModel.\n",
      "WARNING:absl:Found untraced functions such as _jit_compiled_convolution_op, _jit_compiled_convolution_op, _jit_compiled_convolution_op, _jit_compiled_convolution_op, _jit_compiled_convolution_op while saving (showing 5 of 91). These functions will not be directly callable after loading.\n"
     ]
    },
    {
     "name": "stdout",
     "output_type": "stream",
     "text": [
      "INFO:tensorflow:Assets written to: experiments\\EfficientnetV2B0_Nov23_03-17-17\\base_ckpts\\cp_02.ckpt\\assets\n"
     ]
    },
    {
     "name": "stderr",
     "output_type": "stream",
     "text": [
      "INFO:tensorflow:Assets written to: experiments\\EfficientnetV2B0_Nov23_03-17-17\\base_ckpts\\cp_02.ckpt\\assets\n"
     ]
    },
    {
     "name": "stdout",
     "output_type": "stream",
     "text": [
      "45/45 [==============================] - 68s 2s/step - loss: 0.0595 - accuracy: 0.7271 - val_loss: 0.0396 - val_accuracy: 0.9060\n",
      "Epoch 3/200\n",
      "45/45 [==============================] - 12s 251ms/step - loss: 0.0613 - accuracy: 0.7363 - val_loss: 0.0403 - val_accuracy: 0.8976\n",
      "Epoch 4/200\n",
      "45/45 [==============================] - ETA: 0s - loss: 0.0608 - accuracy: 0.7215"
     ]
    },
    {
     "name": "stderr",
     "output_type": "stream",
     "text": [
      "WARNING:absl:Function `_wrapped_model` contains input name(s) Input with unsupported characters which will be renamed to input in the SavedModel.\n",
      "WARNING:absl:Found untraced functions such as _jit_compiled_convolution_op, _jit_compiled_convolution_op, _jit_compiled_convolution_op, _jit_compiled_convolution_op, _jit_compiled_convolution_op while saving (showing 5 of 91). These functions will not be directly callable after loading.\n"
     ]
    },
    {
     "name": "stdout",
     "output_type": "stream",
     "text": [
      "INFO:tensorflow:Assets written to: experiments\\EfficientnetV2B0_Nov23_03-17-17\\base_ckpts\\cp_04.ckpt\\assets\n"
     ]
    },
    {
     "name": "stderr",
     "output_type": "stream",
     "text": [
      "INFO:tensorflow:Assets written to: experiments\\EfficientnetV2B0_Nov23_03-17-17\\base_ckpts\\cp_04.ckpt\\assets\n"
     ]
    },
    {
     "name": "stdout",
     "output_type": "stream",
     "text": [
      "45/45 [==============================] - 63s 1s/step - loss: 0.0608 - accuracy: 0.7215 - val_loss: 0.0383 - val_accuracy: 0.9130\n",
      "Epoch 5/200\n",
      "45/45 [==============================] - 12s 250ms/step - loss: 0.0631 - accuracy: 0.7101 - val_loss: 0.0418 - val_accuracy: 0.9004\n",
      "Epoch 6/200\n",
      "45/45 [==============================] - 11s 249ms/step - loss: 0.0607 - accuracy: 0.7246 - val_loss: 0.0410 - val_accuracy: 0.9046\n",
      "Epoch 7/200\n",
      "45/45 [==============================] - 11s 248ms/step - loss: 0.0567 - accuracy: 0.7317 - val_loss: 0.0411 - val_accuracy: 0.9088\n",
      "Epoch 8/200\n",
      "45/45 [==============================] - 11s 249ms/step - loss: 0.0623 - accuracy: 0.7183 - val_loss: 0.0413 - val_accuracy: 0.9116\n",
      "Epoch 9/200\n",
      "45/45 [==============================] - 11s 250ms/step - loss: 0.0590 - accuracy: 0.7317 - val_loss: 0.0394 - val_accuracy: 0.9116\n",
      "Epoch 10/200\n",
      "45/45 [==============================] - 11s 250ms/step - loss: 0.0585 - accuracy: 0.7310 - val_loss: 0.0400 - val_accuracy: 0.9060\n",
      "Epoch 11/200\n",
      "45/45 [==============================] - 11s 249ms/step - loss: 0.0572 - accuracy: 0.7416 - val_loss: 0.0391 - val_accuracy: 0.9102\n",
      "Epoch 12/200\n",
      "45/45 [==============================] - 11s 250ms/step - loss: 0.0600 - accuracy: 0.7342 - val_loss: 0.0376 - val_accuracy: 0.9130\n",
      "Epoch 13/200\n",
      "45/45 [==============================] - 11s 250ms/step - loss: 0.0585 - accuracy: 0.7367 - val_loss: 0.0387 - val_accuracy: 0.9116\n",
      "Epoch 14/200\n",
      "45/45 [==============================] - 11s 253ms/step - loss: 0.0594 - accuracy: 0.7229 - val_loss: 0.0409 - val_accuracy: 0.9032\n",
      "Epoch 15/200\n",
      "45/45 [==============================] - ETA: 0s - loss: 0.0621 - accuracy: 0.7204"
     ]
    },
    {
     "name": "stderr",
     "output_type": "stream",
     "text": [
      "WARNING:absl:Function `_wrapped_model` contains input name(s) Input with unsupported characters which will be renamed to input in the SavedModel.\n",
      "WARNING:absl:Found untraced functions such as _jit_compiled_convolution_op, _jit_compiled_convolution_op, _jit_compiled_convolution_op, _jit_compiled_convolution_op, _jit_compiled_convolution_op while saving (showing 5 of 91). These functions will not be directly callable after loading.\n"
     ]
    },
    {
     "name": "stdout",
     "output_type": "stream",
     "text": [
      "INFO:tensorflow:Assets written to: experiments\\EfficientnetV2B0_Nov23_03-17-17\\base_ckpts\\cp_15.ckpt\\assets\n"
     ]
    },
    {
     "name": "stderr",
     "output_type": "stream",
     "text": [
      "INFO:tensorflow:Assets written to: experiments\\EfficientnetV2B0_Nov23_03-17-17\\base_ckpts\\cp_15.ckpt\\assets\n"
     ]
    },
    {
     "name": "stdout",
     "output_type": "stream",
     "text": [
      "45/45 [==============================] - 63s 1s/step - loss: 0.0621 - accuracy: 0.7204 - val_loss: 0.0394 - val_accuracy: 0.9144\n",
      "Epoch 16/200\n",
      "45/45 [==============================] - 11s 248ms/step - loss: 0.0601 - accuracy: 0.7154 - val_loss: 0.0397 - val_accuracy: 0.9102\n",
      "Epoch 17/200\n",
      "45/45 [==============================] - 11s 250ms/step - loss: 0.0611 - accuracy: 0.7193 - val_loss: 0.0388 - val_accuracy: 0.9074\n",
      "Epoch 18/200\n",
      "45/45 [==============================] - 11s 253ms/step - loss: 0.0597 - accuracy: 0.7207 - val_loss: 0.0382 - val_accuracy: 0.9116\n",
      "Epoch 19/200\n",
      "45/45 [==============================] - 11s 249ms/step - loss: 0.0626 - accuracy: 0.7172 - val_loss: 0.0402 - val_accuracy: 0.9074\n",
      "Epoch 20/200\n",
      "45/45 [==============================] - 11s 250ms/step - loss: 0.0565 - accuracy: 0.7310 - val_loss: 0.0411 - val_accuracy: 0.9060\n",
      "Epoch 21/200\n",
      "45/45 [==============================] - 11s 250ms/step - loss: 0.0585 - accuracy: 0.7239 - val_loss: 0.0394 - val_accuracy: 0.9116\n",
      "Epoch 22/200\n",
      "45/45 [==============================] - 11s 250ms/step - loss: 0.0553 - accuracy: 0.7370 - val_loss: 0.0399 - val_accuracy: 0.9088\n",
      "Epoch 23/200\n",
      "45/45 [==============================] - 11s 251ms/step - loss: 0.0573 - accuracy: 0.7268 - val_loss: 0.0415 - val_accuracy: 0.9102\n",
      "Epoch 24/200\n",
      "45/45 [==============================] - 11s 250ms/step - loss: 0.0618 - accuracy: 0.7116 - val_loss: 0.0385 - val_accuracy: 0.9144\n",
      "Epoch 25/200\n",
      "45/45 [==============================] - 11s 250ms/step - loss: 0.0642 - accuracy: 0.7112 - val_loss: 0.0386 - val_accuracy: 0.9102\n",
      "Epoch 26/200\n",
      "45/45 [==============================] - 11s 250ms/step - loss: 0.0560 - accuracy: 0.7356 - val_loss: 0.0405 - val_accuracy: 0.9074\n",
      "Epoch 27/200\n",
      "45/45 [==============================] - ETA: 0s - loss: 0.0614 - accuracy: 0.7087"
     ]
    },
    {
     "name": "stderr",
     "output_type": "stream",
     "text": [
      "WARNING:absl:Function `_wrapped_model` contains input name(s) Input with unsupported characters which will be renamed to input in the SavedModel.\n",
      "WARNING:absl:Found untraced functions such as _jit_compiled_convolution_op, _jit_compiled_convolution_op, _jit_compiled_convolution_op, _jit_compiled_convolution_op, _jit_compiled_convolution_op while saving (showing 5 of 91). These functions will not be directly callable after loading.\n"
     ]
    },
    {
     "name": "stdout",
     "output_type": "stream",
     "text": [
      "INFO:tensorflow:Assets written to: experiments\\EfficientnetV2B0_Nov23_03-17-17\\base_ckpts\\cp_27.ckpt\\assets\n"
     ]
    },
    {
     "name": "stderr",
     "output_type": "stream",
     "text": [
      "INFO:tensorflow:Assets written to: experiments\\EfficientnetV2B0_Nov23_03-17-17\\base_ckpts\\cp_27.ckpt\\assets\n"
     ]
    },
    {
     "name": "stdout",
     "output_type": "stream",
     "text": [
      "45/45 [==============================] - 63s 1s/step - loss: 0.0614 - accuracy: 0.7087 - val_loss: 0.0380 - val_accuracy: 0.9158\n",
      "Epoch 28/200\n",
      "45/45 [==============================] - 12s 249ms/step - loss: 0.0574 - accuracy: 0.7349 - val_loss: 0.0385 - val_accuracy: 0.9130\n",
      "Epoch 29/200\n",
      "45/45 [==============================] - 11s 250ms/step - loss: 0.0582 - accuracy: 0.7363 - val_loss: 0.0400 - val_accuracy: 0.9060\n",
      "Epoch 30/200\n",
      "45/45 [==============================] - 11s 250ms/step - loss: 0.0625 - accuracy: 0.7126 - val_loss: 0.0401 - val_accuracy: 0.9102\n",
      "Epoch 31/200\n",
      "45/45 [==============================] - 11s 250ms/step - loss: 0.0603 - accuracy: 0.7250 - val_loss: 0.0396 - val_accuracy: 0.9088\n",
      "Epoch 32/200\n",
      "45/45 [==============================] - 11s 250ms/step - loss: 0.0600 - accuracy: 0.7183 - val_loss: 0.0418 - val_accuracy: 0.8990\n",
      "Epoch 33/200\n",
      "45/45 [==============================] - 11s 251ms/step - loss: 0.0588 - accuracy: 0.7370 - val_loss: 0.0405 - val_accuracy: 0.9088\n",
      "Epoch 34/200\n",
      "45/45 [==============================] - 11s 251ms/step - loss: 0.0581 - accuracy: 0.7229 - val_loss: 0.0374 - val_accuracy: 0.9116\n",
      "Epoch 35/200\n",
      "45/45 [==============================] - 11s 250ms/step - loss: 0.0572 - accuracy: 0.7275 - val_loss: 0.0413 - val_accuracy: 0.9102\n",
      "Epoch 36/200\n",
      "45/45 [==============================] - 11s 251ms/step - loss: 0.0597 - accuracy: 0.7183 - val_loss: 0.0413 - val_accuracy: 0.9046\n",
      "Epoch 37/200\n",
      "45/45 [==============================] - 11s 251ms/step - loss: 0.0592 - accuracy: 0.7158 - val_loss: 0.0412 - val_accuracy: 0.9004\n",
      "Epoch 38/200\n",
      "45/45 [==============================] - ETA: 0s - loss: 0.0565 - accuracy: 0.7367"
     ]
    },
    {
     "name": "stderr",
     "output_type": "stream",
     "text": [
      "WARNING:absl:Function `_wrapped_model` contains input name(s) Input with unsupported characters which will be renamed to input in the SavedModel.\n",
      "WARNING:absl:Found untraced functions such as _jit_compiled_convolution_op, _jit_compiled_convolution_op, _jit_compiled_convolution_op, _jit_compiled_convolution_op, _jit_compiled_convolution_op while saving (showing 5 of 91). These functions will not be directly callable after loading.\n"
     ]
    },
    {
     "name": "stdout",
     "output_type": "stream",
     "text": [
      "INFO:tensorflow:Assets written to: experiments\\EfficientnetV2B0_Nov23_03-17-17\\base_ckpts\\cp_38.ckpt\\assets\n"
     ]
    },
    {
     "name": "stderr",
     "output_type": "stream",
     "text": [
      "INFO:tensorflow:Assets written to: experiments\\EfficientnetV2B0_Nov23_03-17-17\\base_ckpts\\cp_38.ckpt\\assets\n"
     ]
    },
    {
     "name": "stdout",
     "output_type": "stream",
     "text": [
      "45/45 [==============================] - 63s 1s/step - loss: 0.0565 - accuracy: 0.7367 - val_loss: 0.0400 - val_accuracy: 0.9173\n",
      "Epoch 39/200\n",
      "45/45 [==============================] - 12s 250ms/step - loss: 0.0620 - accuracy: 0.7147 - val_loss: 0.0388 - val_accuracy: 0.9102\n",
      "Epoch 40/200\n",
      "45/45 [==============================] - 11s 250ms/step - loss: 0.0585 - accuracy: 0.7317 - val_loss: 0.0392 - val_accuracy: 0.9060\n",
      "Epoch 41/200\n",
      "45/45 [==============================] - 11s 250ms/step - loss: 0.0544 - accuracy: 0.7427 - val_loss: 0.0387 - val_accuracy: 0.9173\n",
      "Epoch 42/200\n",
      "45/45 [==============================] - 11s 250ms/step - loss: 0.0586 - accuracy: 0.7324 - val_loss: 0.0390 - val_accuracy: 0.9130\n",
      "Epoch 43/200\n",
      "45/45 [==============================] - 11s 251ms/step - loss: 0.0581 - accuracy: 0.7137 - val_loss: 0.0381 - val_accuracy: 0.9144\n",
      "Epoch 44/200\n",
      "45/45 [==============================] - 11s 251ms/step - loss: 0.0568 - accuracy: 0.7200 - val_loss: 0.0389 - val_accuracy: 0.9102\n",
      "Epoch 45/200\n",
      "45/45 [==============================] - 11s 251ms/step - loss: 0.0594 - accuracy: 0.7197 - val_loss: 0.0406 - val_accuracy: 0.9074\n",
      "Epoch 46/200\n",
      "45/45 [==============================] - 11s 251ms/step - loss: 0.0571 - accuracy: 0.7331 - val_loss: 0.0384 - val_accuracy: 0.9074\n",
      "Epoch 47/200\n",
      "45/45 [==============================] - 11s 251ms/step - loss: 0.0593 - accuracy: 0.7169 - val_loss: 0.0379 - val_accuracy: 0.9102\n",
      "Epoch 48/200\n",
      "45/45 [==============================] - 11s 251ms/step - loss: 0.0572 - accuracy: 0.7268 - val_loss: 0.0397 - val_accuracy: 0.9102\n",
      "Epoch 49/200\n",
      "45/45 [==============================] - 11s 251ms/step - loss: 0.0566 - accuracy: 0.7349 - val_loss: 0.0423 - val_accuracy: 0.9074\n",
      "Epoch 50/200\n",
      "45/45 [==============================] - 11s 250ms/step - loss: 0.0619 - accuracy: 0.7144 - val_loss: 0.0385 - val_accuracy: 0.9116\n",
      "Epoch 51/200\n",
      "45/45 [==============================] - 11s 251ms/step - loss: 0.0572 - accuracy: 0.7243 - val_loss: 0.0394 - val_accuracy: 0.9088\n",
      "Epoch 52/200\n",
      "45/45 [==============================] - 11s 251ms/step - loss: 0.0575 - accuracy: 0.7250 - val_loss: 0.0404 - val_accuracy: 0.9088\n",
      "Epoch 53/200\n",
      "45/45 [==============================] - 11s 250ms/step - loss: 0.0603 - accuracy: 0.7232 - val_loss: 0.0391 - val_accuracy: 0.9060\n",
      "Epoch 54/200\n",
      "45/45 [==============================] - 11s 251ms/step - loss: 0.0575 - accuracy: 0.7299 - val_loss: 0.0414 - val_accuracy: 0.9046\n",
      "Epoch 55/200\n",
      "45/45 [==============================] - 11s 251ms/step - loss: 0.0550 - accuracy: 0.7377 - val_loss: 0.0402 - val_accuracy: 0.9102\n",
      "Epoch 56/200\n",
      "45/45 [==============================] - 11s 251ms/step - loss: 0.0596 - accuracy: 0.7140 - val_loss: 0.0405 - val_accuracy: 0.9032\n",
      "Epoch 57/200\n",
      "45/45 [==============================] - 11s 251ms/step - loss: 0.0571 - accuracy: 0.7289 - val_loss: 0.0411 - val_accuracy: 0.9088\n",
      "Epoch 58/200\n",
      "45/45 [==============================] - 11s 251ms/step - loss: 0.0563 - accuracy: 0.7328 - val_loss: 0.0408 - val_accuracy: 0.9046\n",
      "Epoch 59/200\n",
      "45/45 [==============================] - 11s 251ms/step - loss: 0.0564 - accuracy: 0.7374 - val_loss: 0.0394 - val_accuracy: 0.9004\n",
      "Epoch 60/200\n",
      "45/45 [==============================] - 11s 251ms/step - loss: 0.0561 - accuracy: 0.7204 - val_loss: 0.0411 - val_accuracy: 0.9116\n",
      "Epoch 61/200\n",
      "45/45 [==============================] - 11s 251ms/step - loss: 0.0581 - accuracy: 0.7246 - val_loss: 0.0410 - val_accuracy: 0.9018\n",
      "Epoch 62/200\n",
      "45/45 [==============================] - 11s 251ms/step - loss: 0.0576 - accuracy: 0.7229 - val_loss: 0.0428 - val_accuracy: 0.8976\n",
      "Epoch 63/200\n",
      "45/45 [==============================] - 11s 251ms/step - loss: 0.0585 - accuracy: 0.7091 - val_loss: 0.0395 - val_accuracy: 0.9158\n",
      "Epoch 64/200\n",
      "45/45 [==============================] - 11s 252ms/step - loss: 0.0564 - accuracy: 0.7303 - val_loss: 0.0400 - val_accuracy: 0.9060\n",
      "Epoch 65/200\n",
      "45/45 [==============================] - 11s 250ms/step - loss: 0.0541 - accuracy: 0.7299 - val_loss: 0.0386 - val_accuracy: 0.9088\n",
      "Epoch 66/200\n",
      "45/45 [==============================] - 11s 250ms/step - loss: 0.0581 - accuracy: 0.7193 - val_loss: 0.0415 - val_accuracy: 0.9004\n",
      "Epoch 67/200\n",
      "45/45 [==============================] - 11s 251ms/step - loss: 0.0558 - accuracy: 0.7257 - val_loss: 0.0385 - val_accuracy: 0.9102\n",
      "Epoch 68/200\n",
      "45/45 [==============================] - 11s 250ms/step - loss: 0.0566 - accuracy: 0.7282 - val_loss: 0.0424 - val_accuracy: 0.8990\n",
      "Epoch 69/200\n",
      "45/45 [==============================] - 11s 250ms/step - loss: 0.0544 - accuracy: 0.7253 - val_loss: 0.0394 - val_accuracy: 0.9102\n",
      "Epoch 70/200\n",
      "45/45 [==============================] - 11s 249ms/step - loss: 0.0598 - accuracy: 0.7137 - val_loss: 0.0402 - val_accuracy: 0.9060\n",
      "Epoch 71/200\n",
      "45/45 [==============================] - 11s 250ms/step - loss: 0.0542 - accuracy: 0.7395 - val_loss: 0.0402 - val_accuracy: 0.9074\n",
      "Epoch 72/200\n",
      "45/45 [==============================] - 11s 249ms/step - loss: 0.0565 - accuracy: 0.7211 - val_loss: 0.0388 - val_accuracy: 0.9032\n",
      "Epoch 73/200\n",
      "45/45 [==============================] - 11s 250ms/step - loss: 0.0571 - accuracy: 0.7222 - val_loss: 0.0427 - val_accuracy: 0.9116\n",
      "Epoch 74/200\n",
      "45/45 [==============================] - 12s 260ms/step - loss: 0.0559 - accuracy: 0.7352 - val_loss: 0.0386 - val_accuracy: 0.9116\n",
      "Epoch 75/200\n",
      "45/45 [==============================] - 11s 257ms/step - loss: 0.0586 - accuracy: 0.7215 - val_loss: 0.0387 - val_accuracy: 0.9088\n",
      "Epoch 76/200\n",
      "45/45 [==============================] - 11s 250ms/step - loss: 0.0561 - accuracy: 0.7356 - val_loss: 0.0404 - val_accuracy: 0.9018\n",
      "Epoch 77/200\n",
      "45/45 [==============================] - 11s 249ms/step - loss: 0.0563 - accuracy: 0.7282 - val_loss: 0.0399 - val_accuracy: 0.9102\n",
      "Epoch 78/200\n",
      "45/45 [==============================] - 11s 249ms/step - loss: 0.0559 - accuracy: 0.7321 - val_loss: 0.0397 - val_accuracy: 0.9060\n",
      "Epoch 79/200\n",
      "45/45 [==============================] - 11s 249ms/step - loss: 0.0577 - accuracy: 0.7264 - val_loss: 0.0404 - val_accuracy: 0.9158\n",
      "Epoch 80/200\n",
      "45/45 [==============================] - 11s 249ms/step - loss: 0.0595 - accuracy: 0.7200 - val_loss: 0.0426 - val_accuracy: 0.9074\n",
      "Epoch 81/200\n",
      "45/45 [==============================] - 11s 250ms/step - loss: 0.0540 - accuracy: 0.7310 - val_loss: 0.0413 - val_accuracy: 0.9032\n",
      "Epoch 82/200\n",
      "45/45 [==============================] - 11s 250ms/step - loss: 0.0552 - accuracy: 0.7275 - val_loss: 0.0395 - val_accuracy: 0.9144\n",
      "Epoch 83/200\n",
      "45/45 [==============================] - 11s 250ms/step - loss: 0.0546 - accuracy: 0.7183 - val_loss: 0.0394 - val_accuracy: 0.9032\n",
      "Epoch 84/200\n",
      "45/45 [==============================] - 11s 249ms/step - loss: 0.0584 - accuracy: 0.7261 - val_loss: 0.0399 - val_accuracy: 0.9102\n",
      "Epoch 85/200\n",
      "45/45 [==============================] - 11s 250ms/step - loss: 0.0550 - accuracy: 0.7328 - val_loss: 0.0397 - val_accuracy: 0.9074\n",
      "Epoch 86/200\n",
      "45/45 [==============================] - 11s 252ms/step - loss: 0.0542 - accuracy: 0.7303 - val_loss: 0.0413 - val_accuracy: 0.9018\n",
      "Epoch 87/200\n",
      "45/45 [==============================] - 11s 249ms/step - loss: 0.0537 - accuracy: 0.7328 - val_loss: 0.0408 - val_accuracy: 0.9018\n",
      "Epoch 88/200\n",
      "45/45 [==============================] - 11s 250ms/step - loss: 0.0571 - accuracy: 0.7328 - val_loss: 0.0435 - val_accuracy: 0.9032\n",
      "Epoch 89/200\n",
      "45/45 [==============================] - 11s 250ms/step - loss: 0.0573 - accuracy: 0.7285 - val_loss: 0.0420 - val_accuracy: 0.9018\n",
      "Epoch 90/200\n",
      "45/45 [==============================] - 11s 251ms/step - loss: 0.0562 - accuracy: 0.7268 - val_loss: 0.0397 - val_accuracy: 0.9060\n",
      "Epoch 91/200\n",
      "45/45 [==============================] - 11s 253ms/step - loss: 0.0551 - accuracy: 0.7345 - val_loss: 0.0384 - val_accuracy: 0.9144\n",
      "Epoch 92/200\n",
      "45/45 [==============================] - 11s 249ms/step - loss: 0.0559 - accuracy: 0.7292 - val_loss: 0.0392 - val_accuracy: 0.9102\n",
      "Epoch 93/200\n",
      "45/45 [==============================] - 11s 250ms/step - loss: 0.0585 - accuracy: 0.7172 - val_loss: 0.0384 - val_accuracy: 0.9144\n",
      "Epoch 94/200\n",
      "45/45 [==============================] - 11s 249ms/step - loss: 0.0581 - accuracy: 0.7200 - val_loss: 0.0400 - val_accuracy: 0.9046\n",
      "Epoch 95/200\n",
      "45/45 [==============================] - 11s 250ms/step - loss: 0.0562 - accuracy: 0.7345 - val_loss: 0.0402 - val_accuracy: 0.9004\n",
      "Epoch 96/200\n",
      "45/45 [==============================] - 11s 250ms/step - loss: 0.0543 - accuracy: 0.7473 - val_loss: 0.0405 - val_accuracy: 0.9046\n",
      "Epoch 97/200\n",
      "45/45 [==============================] - 11s 250ms/step - loss: 0.0563 - accuracy: 0.7253 - val_loss: 0.0400 - val_accuracy: 0.9046\n",
      "Epoch 98/200\n",
      "45/45 [==============================] - 11s 250ms/step - loss: 0.0569 - accuracy: 0.7250 - val_loss: 0.0402 - val_accuracy: 0.9074\n",
      "Epoch 99/200\n",
      "45/45 [==============================] - 11s 249ms/step - loss: 0.0558 - accuracy: 0.7310 - val_loss: 0.0366 - val_accuracy: 0.9102\n",
      "Epoch 100/200\n",
      "45/45 [==============================] - 11s 250ms/step - loss: 0.0561 - accuracy: 0.7345 - val_loss: 0.0409 - val_accuracy: 0.9088\n",
      "Epoch 101/200\n",
      "45/45 [==============================] - 11s 251ms/step - loss: 0.0584 - accuracy: 0.7250 - val_loss: 0.0382 - val_accuracy: 0.9074\n",
      "Epoch 102/200\n",
      "45/45 [==============================] - 11s 250ms/step - loss: 0.0559 - accuracy: 0.7275 - val_loss: 0.0391 - val_accuracy: 0.9060\n",
      "Epoch 103/200\n",
      "45/45 [==============================] - 11s 250ms/step - loss: 0.0579 - accuracy: 0.7176 - val_loss: 0.0378 - val_accuracy: 0.9074\n",
      "Epoch 104/200\n",
      "45/45 [==============================] - 11s 249ms/step - loss: 0.0565 - accuracy: 0.7162 - val_loss: 0.0392 - val_accuracy: 0.9116\n",
      "Epoch 105/200\n",
      "45/45 [==============================] - 11s 249ms/step - loss: 0.0565 - accuracy: 0.7268 - val_loss: 0.0381 - val_accuracy: 0.9074\n",
      "Epoch 106/200\n",
      "45/45 [==============================] - 11s 250ms/step - loss: 0.0555 - accuracy: 0.7207 - val_loss: 0.0395 - val_accuracy: 0.9060\n",
      "Epoch 107/200\n",
      "45/45 [==============================] - 11s 249ms/step - loss: 0.0568 - accuracy: 0.7289 - val_loss: 0.0395 - val_accuracy: 0.9088\n",
      "Epoch 108/200\n",
      "45/45 [==============================] - 11s 250ms/step - loss: 0.0568 - accuracy: 0.7200 - val_loss: 0.0391 - val_accuracy: 0.9116\n",
      "Epoch 109/200\n",
      "45/45 [==============================] - 11s 249ms/step - loss: 0.0558 - accuracy: 0.7289 - val_loss: 0.0395 - val_accuracy: 0.9102\n",
      "Epoch 110/200\n",
      "45/45 [==============================] - 11s 250ms/step - loss: 0.0549 - accuracy: 0.7253 - val_loss: 0.0389 - val_accuracy: 0.9032\n",
      "Epoch 111/200\n",
      "45/45 [==============================] - 11s 249ms/step - loss: 0.0555 - accuracy: 0.7285 - val_loss: 0.0395 - val_accuracy: 0.9144\n",
      "Epoch 112/200\n",
      "45/45 [==============================] - 11s 249ms/step - loss: 0.0563 - accuracy: 0.7264 - val_loss: 0.0409 - val_accuracy: 0.9074\n",
      "Epoch 113/200\n",
      "45/45 [==============================] - 11s 250ms/step - loss: 0.0575 - accuracy: 0.7165 - val_loss: 0.0397 - val_accuracy: 0.9074\n",
      "Epoch 114/200\n",
      "45/45 [==============================] - 11s 249ms/step - loss: 0.0548 - accuracy: 0.7338 - val_loss: 0.0413 - val_accuracy: 0.9046\n",
      "Epoch 115/200\n",
      "45/45 [==============================] - 11s 250ms/step - loss: 0.0542 - accuracy: 0.7331 - val_loss: 0.0409 - val_accuracy: 0.9018\n",
      "Epoch 116/200\n",
      "45/45 [==============================] - 11s 250ms/step - loss: 0.0578 - accuracy: 0.7246 - val_loss: 0.0413 - val_accuracy: 0.9102\n",
      "Epoch 117/200\n",
      "45/45 [==============================] - 11s 250ms/step - loss: 0.0528 - accuracy: 0.7356 - val_loss: 0.0409 - val_accuracy: 0.9088\n",
      "Epoch 118/200\n",
      "45/45 [==============================] - 11s 250ms/step - loss: 0.0549 - accuracy: 0.7285 - val_loss: 0.0387 - val_accuracy: 0.9102\n",
      "Epoch 119/200\n",
      "45/45 [==============================] - 11s 250ms/step - loss: 0.0548 - accuracy: 0.7261 - val_loss: 0.0387 - val_accuracy: 0.9046\n",
      "Epoch 120/200\n",
      "45/45 [==============================] - 11s 249ms/step - loss: 0.0556 - accuracy: 0.7271 - val_loss: 0.0405 - val_accuracy: 0.9088\n",
      "Epoch 121/200\n",
      "45/45 [==============================] - 11s 250ms/step - loss: 0.0556 - accuracy: 0.7296 - val_loss: 0.0417 - val_accuracy: 0.9032\n",
      "Epoch 122/200\n",
      "45/45 [==============================] - 11s 250ms/step - loss: 0.0543 - accuracy: 0.7328 - val_loss: 0.0405 - val_accuracy: 0.9032\n",
      "Epoch 123/200\n",
      "45/45 [==============================] - 11s 250ms/step - loss: 0.0609 - accuracy: 0.7197 - val_loss: 0.0394 - val_accuracy: 0.9046\n",
      "Epoch 124/200\n",
      "45/45 [==============================] - 11s 250ms/step - loss: 0.0531 - accuracy: 0.7374 - val_loss: 0.0408 - val_accuracy: 0.9074\n",
      "Epoch 125/200\n",
      "45/45 [==============================] - 11s 250ms/step - loss: 0.0531 - accuracy: 0.7321 - val_loss: 0.0385 - val_accuracy: 0.9130\n",
      "Epoch 126/200\n",
      "45/45 [==============================] - 11s 250ms/step - loss: 0.0550 - accuracy: 0.7236 - val_loss: 0.0403 - val_accuracy: 0.9046\n",
      "Epoch 127/200\n",
      "45/45 [==============================] - 11s 251ms/step - loss: 0.0572 - accuracy: 0.7204 - val_loss: 0.0388 - val_accuracy: 0.9102\n",
      "Epoch 128/200\n",
      "45/45 [==============================] - 11s 250ms/step - loss: 0.0573 - accuracy: 0.7158 - val_loss: 0.0408 - val_accuracy: 0.9018\n",
      "Epoch 129/200\n",
      "45/45 [==============================] - 11s 250ms/step - loss: 0.0559 - accuracy: 0.7225 - val_loss: 0.0406 - val_accuracy: 0.9032\n",
      "Epoch 130/200\n",
      "45/45 [==============================] - 11s 250ms/step - loss: 0.0527 - accuracy: 0.7250 - val_loss: 0.0413 - val_accuracy: 0.9046\n",
      "Epoch 131/200\n",
      "45/45 [==============================] - 11s 250ms/step - loss: 0.0573 - accuracy: 0.7179 - val_loss: 0.0407 - val_accuracy: 0.9004\n",
      "Epoch 132/200\n",
      "45/45 [==============================] - 11s 250ms/step - loss: 0.0569 - accuracy: 0.7261 - val_loss: 0.0399 - val_accuracy: 0.9088\n",
      "Epoch 133/200\n",
      "45/45 [==============================] - 11s 250ms/step - loss: 0.0563 - accuracy: 0.7123 - val_loss: 0.0405 - val_accuracy: 0.9046\n",
      "Epoch 134/200\n",
      "45/45 [==============================] - 11s 250ms/step - loss: 0.0549 - accuracy: 0.7169 - val_loss: 0.0398 - val_accuracy: 0.9060\n",
      "Epoch 135/200\n",
      "45/45 [==============================] - 11s 249ms/step - loss: 0.0563 - accuracy: 0.7207 - val_loss: 0.0382 - val_accuracy: 0.9130\n",
      "Epoch 136/200\n",
      "45/45 [==============================] - 11s 250ms/step - loss: 0.0551 - accuracy: 0.7264 - val_loss: 0.0404 - val_accuracy: 0.9018\n",
      "Epoch 137/200\n",
      "45/45 [==============================] - 11s 250ms/step - loss: 0.0549 - accuracy: 0.7222 - val_loss: 0.0391 - val_accuracy: 0.9074\n",
      "Epoch 138/200\n",
      "45/45 [==============================] - 11s 250ms/step - loss: 0.0590 - accuracy: 0.7116 - val_loss: 0.0414 - val_accuracy: 0.9102\n",
      "Epoch 139/200\n",
      "45/45 [==============================] - 11s 249ms/step - loss: 0.0563 - accuracy: 0.7289 - val_loss: 0.0380 - val_accuracy: 0.9088\n",
      "Epoch 140/200\n",
      "45/45 [==============================] - 11s 251ms/step - loss: 0.0552 - accuracy: 0.7282 - val_loss: 0.0386 - val_accuracy: 0.9102\n",
      "Epoch 141/200\n",
      "45/45 [==============================] - 12s 257ms/step - loss: 0.0571 - accuracy: 0.7303 - val_loss: 0.0373 - val_accuracy: 0.9088\n",
      "Epoch 142/200\n",
      "45/45 [==============================] - 12s 256ms/step - loss: 0.0565 - accuracy: 0.7126 - val_loss: 0.0402 - val_accuracy: 0.9088\n",
      "Epoch 143/200\n",
      "45/45 [==============================] - 11s 252ms/step - loss: 0.0545 - accuracy: 0.7250 - val_loss: 0.0399 - val_accuracy: 0.9060\n",
      "Epoch 144/200\n",
      "45/45 [==============================] - 11s 250ms/step - loss: 0.0598 - accuracy: 0.7116 - val_loss: 0.0373 - val_accuracy: 0.9130\n",
      "Epoch 145/200\n",
      "45/45 [==============================] - 11s 250ms/step - loss: 0.0558 - accuracy: 0.7158 - val_loss: 0.0390 - val_accuracy: 0.9074\n",
      "Epoch 146/200\n",
      "45/45 [==============================] - 11s 250ms/step - loss: 0.0552 - accuracy: 0.7169 - val_loss: 0.0401 - val_accuracy: 0.9088\n",
      "Epoch 147/200\n",
      "45/45 [==============================] - 11s 250ms/step - loss: 0.0550 - accuracy: 0.7356 - val_loss: 0.0413 - val_accuracy: 0.9060\n",
      "Epoch 148/200\n",
      "45/45 [==============================] - 11s 251ms/step - loss: 0.0577 - accuracy: 0.7183 - val_loss: 0.0398 - val_accuracy: 0.9088\n",
      "Epoch 149/200\n",
      "45/45 [==============================] - 11s 250ms/step - loss: 0.0567 - accuracy: 0.7296 - val_loss: 0.0406 - val_accuracy: 0.9088\n",
      "Epoch 150/200\n"
     ]
    },
    {
     "name": "stdout",
     "output_type": "stream",
     "text": [
      "45/45 [==============================] - 11s 250ms/step - loss: 0.0555 - accuracy: 0.7268 - val_loss: 0.0387 - val_accuracy: 0.9116\n",
      "Epoch 151/200\n",
      "45/45 [==============================] - 11s 250ms/step - loss: 0.0568 - accuracy: 0.7324 - val_loss: 0.0391 - val_accuracy: 0.9144\n",
      "Epoch 152/200\n",
      "45/45 [==============================] - 11s 250ms/step - loss: 0.0522 - accuracy: 0.7398 - val_loss: 0.0408 - val_accuracy: 0.8990\n",
      "Epoch 153/200\n",
      "45/45 [==============================] - 11s 250ms/step - loss: 0.0592 - accuracy: 0.7119 - val_loss: 0.0383 - val_accuracy: 0.9130\n",
      "Epoch 154/200\n",
      "45/45 [==============================] - 11s 250ms/step - loss: 0.0558 - accuracy: 0.7119 - val_loss: 0.0403 - val_accuracy: 0.9102\n",
      "Epoch 155/200\n",
      "45/45 [==============================] - 11s 250ms/step - loss: 0.0557 - accuracy: 0.7317 - val_loss: 0.0403 - val_accuracy: 0.9144\n",
      "Epoch 156/200\n",
      "45/45 [==============================] - 11s 249ms/step - loss: 0.0532 - accuracy: 0.7342 - val_loss: 0.0409 - val_accuracy: 0.9018\n",
      "Epoch 157/200\n",
      "45/45 [==============================] - 11s 250ms/step - loss: 0.0543 - accuracy: 0.7271 - val_loss: 0.0389 - val_accuracy: 0.9074\n",
      "Epoch 158/200\n",
      "45/45 [==============================] - 11s 249ms/step - loss: 0.0568 - accuracy: 0.7193 - val_loss: 0.0372 - val_accuracy: 0.9130\n",
      "Epoch 159/200\n",
      "45/45 [==============================] - 11s 250ms/step - loss: 0.0556 - accuracy: 0.7303 - val_loss: 0.0382 - val_accuracy: 0.9102\n",
      "Epoch 160/200\n",
      "45/45 [==============================] - 11s 250ms/step - loss: 0.0513 - accuracy: 0.7462 - val_loss: 0.0398 - val_accuracy: 0.9046\n",
      "Epoch 161/200\n",
      "45/45 [==============================] - 11s 250ms/step - loss: 0.0562 - accuracy: 0.7264 - val_loss: 0.0395 - val_accuracy: 0.9088\n",
      "Epoch 162/200\n",
      "45/45 [==============================] - 11s 250ms/step - loss: 0.0557 - accuracy: 0.7264 - val_loss: 0.0408 - val_accuracy: 0.9074\n",
      "Epoch 163/200\n",
      "45/45 [==============================] - 11s 250ms/step - loss: 0.0544 - accuracy: 0.7285 - val_loss: 0.0386 - val_accuracy: 0.9144\n",
      "Epoch 164/200\n",
      "45/45 [==============================] - 11s 250ms/step - loss: 0.0550 - accuracy: 0.7349 - val_loss: 0.0377 - val_accuracy: 0.9102\n",
      "Epoch 165/200\n",
      "45/45 [==============================] - 11s 250ms/step - loss: 0.0538 - accuracy: 0.7310 - val_loss: 0.0385 - val_accuracy: 0.9074\n",
      "Epoch 166/200\n",
      "45/45 [==============================] - 11s 250ms/step - loss: 0.0570 - accuracy: 0.7207 - val_loss: 0.0399 - val_accuracy: 0.9046\n",
      "Epoch 167/200\n",
      "45/45 [==============================] - 12s 254ms/step - loss: 0.0543 - accuracy: 0.7328 - val_loss: 0.0413 - val_accuracy: 0.9102\n",
      "Epoch 168/200\n",
      "45/45 [==============================] - 11s 250ms/step - loss: 0.0531 - accuracy: 0.7324 - val_loss: 0.0389 - val_accuracy: 0.9088\n",
      "Epoch 169/200\n",
      "45/45 [==============================] - 11s 250ms/step - loss: 0.0551 - accuracy: 0.7314 - val_loss: 0.0403 - val_accuracy: 0.9046\n",
      "Epoch 170/200\n",
      "45/45 [==============================] - 11s 250ms/step - loss: 0.0538 - accuracy: 0.7303 - val_loss: 0.0396 - val_accuracy: 0.9074\n",
      "Epoch 171/200\n",
      "45/45 [==============================] - 11s 250ms/step - loss: 0.0560 - accuracy: 0.7179 - val_loss: 0.0404 - val_accuracy: 0.9102\n",
      "Epoch 172/200\n",
      "45/45 [==============================] - 11s 250ms/step - loss: 0.0560 - accuracy: 0.7186 - val_loss: 0.0389 - val_accuracy: 0.9018\n",
      "Epoch 173/200\n",
      "45/45 [==============================] - 11s 248ms/step - loss: 0.0530 - accuracy: 0.7427 - val_loss: 0.0392 - val_accuracy: 0.9060\n",
      "Epoch 174/200\n",
      "45/45 [==============================] - 11s 250ms/step - loss: 0.0543 - accuracy: 0.7374 - val_loss: 0.0398 - val_accuracy: 0.9088\n",
      "Epoch 175/200\n",
      "45/45 [==============================] - 11s 250ms/step - loss: 0.0578 - accuracy: 0.7190 - val_loss: 0.0384 - val_accuracy: 0.9088\n",
      "Epoch 176/200\n",
      "45/45 [==============================] - 11s 250ms/step - loss: 0.0537 - accuracy: 0.7388 - val_loss: 0.0390 - val_accuracy: 0.9088\n",
      "Epoch 177/200\n",
      "45/45 [==============================] - 11s 250ms/step - loss: 0.0543 - accuracy: 0.7278 - val_loss: 0.0390 - val_accuracy: 0.9074\n",
      "Epoch 178/200\n",
      "45/45 [==============================] - 11s 250ms/step - loss: 0.0547 - accuracy: 0.7328 - val_loss: 0.0389 - val_accuracy: 0.9102\n",
      "Epoch 179/200\n",
      "45/45 [==============================] - 11s 249ms/step - loss: 0.0548 - accuracy: 0.7239 - val_loss: 0.0408 - val_accuracy: 0.9074\n",
      "Epoch 180/200\n",
      "45/45 [==============================] - 11s 249ms/step - loss: 0.0535 - accuracy: 0.7296 - val_loss: 0.0405 - val_accuracy: 0.9088\n",
      "Epoch 181/200\n",
      "45/45 [==============================] - 11s 250ms/step - loss: 0.0536 - accuracy: 0.7363 - val_loss: 0.0402 - val_accuracy: 0.9060\n",
      "Epoch 182/200\n",
      "45/45 [==============================] - 11s 250ms/step - loss: 0.0542 - accuracy: 0.7200 - val_loss: 0.0400 - val_accuracy: 0.9074\n",
      "Epoch 183/200\n",
      "45/45 [==============================] - 11s 250ms/step - loss: 0.0570 - accuracy: 0.7250 - val_loss: 0.0395 - val_accuracy: 0.9074\n",
      "Epoch 184/200\n",
      "45/45 [==============================] - 11s 249ms/step - loss: 0.0572 - accuracy: 0.7193 - val_loss: 0.0397 - val_accuracy: 0.9088\n",
      "Epoch 185/200\n",
      "45/45 [==============================] - 11s 250ms/step - loss: 0.0561 - accuracy: 0.7207 - val_loss: 0.0401 - val_accuracy: 0.9004\n",
      "Epoch 186/200\n",
      "45/45 [==============================] - 11s 250ms/step - loss: 0.0568 - accuracy: 0.7130 - val_loss: 0.0380 - val_accuracy: 0.9102\n",
      "Epoch 187/200\n",
      "45/45 [==============================] - 11s 249ms/step - loss: 0.0525 - accuracy: 0.7381 - val_loss: 0.0373 - val_accuracy: 0.9088\n",
      "Epoch 188/200\n",
      "45/45 [==============================] - 11s 249ms/step - loss: 0.0561 - accuracy: 0.7080 - val_loss: 0.0387 - val_accuracy: 0.9102\n",
      "Epoch 189/200\n",
      "45/45 [==============================] - 11s 250ms/step - loss: 0.0590 - accuracy: 0.7165 - val_loss: 0.0392 - val_accuracy: 0.9032\n",
      "Epoch 190/200\n",
      "45/45 [==============================] - 11s 250ms/step - loss: 0.0552 - accuracy: 0.7314 - val_loss: 0.0383 - val_accuracy: 0.9088\n",
      "Epoch 191/200\n",
      "45/45 [==============================] - 11s 250ms/step - loss: 0.0565 - accuracy: 0.7197 - val_loss: 0.0391 - val_accuracy: 0.9088\n",
      "Epoch 192/200\n",
      "45/45 [==============================] - 11s 250ms/step - loss: 0.0544 - accuracy: 0.7292 - val_loss: 0.0389 - val_accuracy: 0.8990\n",
      "Epoch 193/200\n",
      "45/45 [==============================] - 11s 249ms/step - loss: 0.0545 - accuracy: 0.7186 - val_loss: 0.0405 - val_accuracy: 0.9018\n",
      "Epoch 194/200\n",
      "45/45 [==============================] - 11s 250ms/step - loss: 0.0564 - accuracy: 0.7246 - val_loss: 0.0393 - val_accuracy: 0.9060\n",
      "Epoch 195/200\n",
      "45/45 [==============================] - 11s 252ms/step - loss: 0.0543 - accuracy: 0.7229 - val_loss: 0.0402 - val_accuracy: 0.9032\n",
      "Epoch 196/200\n",
      "45/45 [==============================] - 11s 249ms/step - loss: 0.0566 - accuracy: 0.7264 - val_loss: 0.0474 - val_accuracy: 0.8892\n",
      "Epoch 197/200\n",
      "45/45 [==============================] - 11s 250ms/step - loss: 0.0564 - accuracy: 0.7211 - val_loss: 0.0382 - val_accuracy: 0.9088\n",
      "Epoch 198/200\n",
      "45/45 [==============================] - 11s 250ms/step - loss: 0.0559 - accuracy: 0.7278 - val_loss: 0.0386 - val_accuracy: 0.9088\n",
      "Epoch 199/200\n",
      "45/45 [==============================] - 11s 250ms/step - loss: 0.0543 - accuracy: 0.7236 - val_loss: 0.0402 - val_accuracy: 0.9018\n",
      "Epoch 200/200\n",
      "45/45 [==============================] - 11s 250ms/step - loss: 0.0562 - accuracy: 0.7232 - val_loss: 0.0385 - val_accuracy: 0.9074\n"
     ]
    }
   ],
   "source": [
    "re_history = newmodel.fit(\n",
    "    x = train_gen,\n",
    "    validation_data = val_gen,\n",
    "    epochs = 200,\n",
    "    callbacks = callbacks\n",
    ").history"
   ]
  },
  {
   "cell_type": "markdown",
   "metadata": {
    "id": "Um4Ebl0aqiYa",
    "pycharm": {
     "name": "#%% md\n"
    }
   },
   "source": [
    "# Trend plot\n",
    "Model loss and accuracy trends can be plotted for a better understanding of the training process."
   ]
  },
  {
   "cell_type": "markdown",
   "metadata": {
    "id": "nMTI1OpUGDBK",
    "pycharm": {
     "name": "#%% md\n"
    }
   },
   "source": [
    "## Matplotlib"
   ]
  },
  {
   "cell_type": "code",
   "execution_count": 37,
   "metadata": {
    "executionInfo": {
     "elapsed": 288,
     "status": "ok",
     "timestamp": 1667968557297,
     "user": {
      "displayName": "Maria Yu",
      "userId": "14411329470521378870"
     },
     "user_tz": -60
    },
    "id": "V75c5PjD0b6e",
    "pycharm": {
     "name": "#%%\n"
    }
   },
   "outputs": [],
   "source": [
    "# Import library\n",
    "import matplotlib.pyplot as plt"
   ]
  },
  {
   "cell_type": "code",
   "execution_count": 38,
   "metadata": {
    "colab": {
     "base_uri": "https://localhost:8080/",
     "height": 336
    },
    "executionInfo": {
     "elapsed": 383,
     "status": "ok",
     "timestamp": 1667968557880,
     "user": {
      "displayName": "Maria Yu",
      "userId": "14411329470521378870"
     },
     "user_tz": -60
    },
    "id": "uKzFy9BmJ1oc",
    "outputId": "669b0d2b-0eb2-4439-bb32-93d5751263a3",
    "pycharm": {
     "name": "#%%\n"
    }
   },
   "outputs": [
    {
     "data": {
      "image/png": "[encoded data removed]",
      "text/plain": [
       "<Figure size 576x360 with 1 Axes>"
      ]
     },
     "metadata": {
      "needs_background": "light"
     },
     "output_type": "display_data"
    }
   ],
   "source": [
    "# Plot the accuracy\n",
    "plt.figure(figsize=(8,5))\n",
    "plt.plot(history['loss'], label='Training', alpha=.8, color='#ff7f0e')\n",
    "plt.plot(history['val_loss'], label='Validation', alpha=.8, color='#4D61E2')\n",
    "plt.title(mode + ' Loss')\n",
    "plt.legend(loc='upper right')\n",
    "plt.grid(alpha=.3)\n",
    "plt.show()"
   ]
  },
  {
   "cell_type": "code",
   "execution_count": 39,
   "metadata": {
    "colab": {
     "base_uri": "https://localhost:8080/",
     "height": 336
    },
    "executionInfo": {
     "elapsed": 278,
     "status": "ok",
     "timestamp": 1667968567331,
     "user": {
      "displayName": "Maria Yu",
      "userId": "14411329470521378870"
     },
     "user_tz": -60
    },
    "id": "Q1T2m3MhJ1H9",
    "outputId": "040dac2e-7437-436a-b790-da1811a52b26",
    "pycharm": {
     "name": "#%%\n"
    }
   },
   "outputs": [
    {
     "data": {
      "image/png": "[encoded data removed]",
      "text/plain": [
       "<Figure size 576x360 with 1 Axes>"
      ]
     },
     "metadata": {
      "needs_background": "light"
     },
     "output_type": "display_data"
    }
   ],
   "source": [
    "plt.figure(figsize=(8,5))\n",
    "plt.plot(history['accuracy'], label='Training', alpha=.8, color='#ff7f0e')\n",
    "plt.plot(history['val_accuracy'], label='Validation', alpha=.8, color='#4D61E2')\n",
    "plt.title(mode + ' Accuracy')\n",
    "plt.legend(loc='lower right')\n",
    "plt.grid(alpha=.3)\n",
    "plt.show()"
   ]
  },
  {
   "cell_type": "code",
   "execution_count": null,
   "metadata": {
    "pycharm": {
     "name": "#%%\n"
    }
   },
   "outputs": [],
   "source": [
    "# Plot the accuracy\n",
    "plt.figure(figsize=(8,5))\n",
    "plt.plot(re_history['loss'], label='Training', alpha=.8, color='#ff7f0e')\n",
    "plt.plot(re_history['val_loss'], label='Validation', alpha=.8, color='#4D61E2')\n",
    "plt.title(mode + ' Loss')\n",
    "plt.legend(loc='upper right')\n",
    "plt.grid(alpha=.3)\n",
    "plt.show()"
   ]
  },
  {
   "cell_type": "code",
   "execution_count": null,
   "metadata": {
    "pycharm": {
     "name": "#%%\n"
    }
   },
   "outputs": [],
   "source": [
    "plt.figure(figsize=(8,5))\n",
    "plt.plot(re_history['accuracy'], label='Training', alpha=.8, color='#ff7f0e')\n",
    "plt.plot(re_history['val_accuracy'], label='Validation', alpha=.8, color='#4D61E2')\n",
    "plt.title(mode + ' Accuracy')\n",
    "plt.legend(loc='upper right')\n",
    "plt.grid(alpha=.3)\n",
    "plt.show()"
   ]
  },
  {
   "cell_type": "markdown",
   "metadata": {
    "id": "eIkjM67YNay_",
    "pycharm": {
     "name": "#%% md\n"
    }
   },
   "source": [
    "# Model evaluation\n",
    "For a better evaluation, we compute the validation F1 scores of the 8 classes locally."
   ]
  },
  {
   "cell_type": "code",
   "execution_count": 40,
   "metadata": {
    "pycharm": {
     "name": "#%%\n"
    }
   },
   "outputs": [
    {
     "data": {
      "text/plain": [
       "713"
      ]
     },
     "execution_count": 40,
     "metadata": {},
     "output_type": "execute_result"
    }
   ],
   "source": [
    "from PIL import Image\n",
    "import os\n",
    "from albumentations import *\n",
    "import albumentations as alb\n",
    "\n",
    "class PlantDataset():\n",
    "    \"\"\"The class PlantDataset loads the data and executes the pre-processing operations on it\"\"\"\n",
    "\n",
    "    def __init__(self, path):\n",
    "        images = self.load_images(path)\n",
    "        self.images, self.labels, _,_ = self.split_images(images, 0)\n",
    "        #self.images,self.labels=self.augment_images()\n",
    "\n",
    "    @staticmethod\n",
    "    def split_images(images, rate):\n",
    "        train_data = []\n",
    "        train_labels = []\n",
    "        test_data = []\n",
    "        test_labels = []\n",
    "        for k in images.keys():\n",
    "            n = int(len(images[k]) * rate)\n",
    "            train_data += images[k][n:]\n",
    "            test_data += images[k][:n]\n",
    "            train_labels += [k] * (len(images[k]) - n)\n",
    "            test_labels += [k] * (n)\n",
    "\n",
    "        return train_data, train_labels, test_data, test_labels\n",
    "    def augment_images(self):\n",
    "        image_augmented=[]\n",
    "        labels=[]\n",
    "        for i,l in zip(self.images,self.labels):\n",
    "\n",
    "            image_augmented.append(i)\n",
    "            labels.append(l)\n",
    "\n",
    "            image_augmented.append(tf.image.flip_left_right(i))\n",
    "            labels.append(l)\n",
    "\n",
    "            image_augmented.append(tf.image.flip_up_down(i))\n",
    "            labels.append(l)\n",
    "\n",
    "            image_augmented.append(tf.image.transpose(i))\n",
    "            labels.append(l)\n",
    "\n",
    "\n",
    "        return image_augmented,labels\n",
    "\n",
    "    def get_images(self):\n",
    "        return self.images, self.labels\n",
    "\n",
    "    @staticmethod\n",
    "    def load_images(image_path):\n",
    "        \"\"\"This method loads the images from the given path\"\"\"\n",
    "        images = {}\n",
    "        for i, file in enumerate(os.listdir(image_path)):\n",
    "            for img in os.listdir(os.path.join(image_path, file)):\n",
    "                path = os.path.join(image_path, file, img)\n",
    "                image = Image.open(path)\n",
    "                if i in images:\n",
    "                    images[i].append(np.asarray(image))\n",
    "                else:\n",
    "                    images[i]=[np.asarray(image)]\n",
    "\n",
    "        return images\n",
    "\n",
    "    def __len__(self):\n",
    "        return len(self.images)\n",
    "\n",
    "ds=PlantDataset(validation_dir)\n",
    "ds.__len__()"
   ]
  },
  {
   "cell_type": "code",
   "execution_count": 41,
   "metadata": {
    "executionInfo": {
     "elapsed": 398,
     "status": "ok",
     "timestamp": 1667961570280,
     "user": {
      "displayName": "Maria Yu",
      "userId": "14411329470521378870"
     },
     "user_tz": -60
    },
    "id": "9KajQvAKPyjR",
    "pycharm": {
     "name": "#%%\n"
    }
   },
   "outputs": [],
   "source": [
    "def predict(model, X):\n",
    "\n",
    "    X = np.reshape(X, (-1, 96, 96, 3))\n",
    "    assert X.ndim == 4\n",
    "\n",
    "#     X = X/255.\n",
    "\n",
    "    X = tf.keras.applications.efficientnet_v2.preprocess_input(X)\n",
    "    \n",
    "#     prediction = model.predict(X)\n",
    "    \n",
    "    predicts = []\n",
    "    \n",
    "    fs = [tf.image.flip_left_right, tf.image.flip_up_down, tf.image.transpose]\n",
    "    for f in fs:\n",
    "        data = f(X)\n",
    "        pred = model.predict(data)\n",
    "        predicts.append(pred)\n",
    "    \n",
    "    prediction = model.predict(X)\n",
    "    \n",
    "    for j in range(0, len(predicts)):\n",
    "        prediction += predicts[j]\n",
    "    prediction = prediction / (1 + len(predicts))\n",
    "    \n",
    "    output = tf.argmax(prediction, axis=-1)\n",
    "    return output\n",
    "\n",
    "\n",
    "\n",
    "def accuracy(ds, model,step=100):\n",
    "    \"\"\"Compute the accuracy rate on the given dataset with the input model\"\"\"\n",
    "\n",
    "    num_correct = 0\n",
    "    data,target=ds.get_images()\n",
    "    n =ds.__len__()\n",
    "    tp=[0]*8\n",
    "    tn=[0]*8\n",
    "    fp=[0]*8\n",
    "    fn=[0]*8\n",
    "    for i in range(0,n//step+1):\n",
    "        x=data[i*step:min(n,(i+1)*step)]\n",
    "        y=target[i*step:min(n,(i+1)*step)]\n",
    "        output = predict(model,x)\n",
    "        c=np.array(y==output)\n",
    "        num_correct += sum(c)\n",
    "        for a,b in zip(y,output):\n",
    "            if a==b:\n",
    "                tp[a]+=1\n",
    "                for i in range(8):\n",
    "                    if i==a:\n",
    "                        continue\n",
    "                    tn[i]+=1\n",
    "            else:\n",
    "                fp[b]+=1\n",
    "                fn[a]+=1\n",
    "                for i in range(8):\n",
    "                    if i==a or i==b:\n",
    "                        continue\n",
    "                    tn[i]+=1\n",
    "\n",
    "\n",
    "    print(num_correct/ds.__len__())\n",
    "    for i in range(8):\n",
    "        precision=tp[i]/(tp[i]+fp[i]+1e-3)\n",
    "        recall=tp[i]/(tp[i]+fn[i]+1e-3)\n",
    "        print(\"class:\",i,\"f1 score:\",2 * precision * recall / (precision + recall + 1e-3),\"precision:\",precision,\"recall:\",recall)\n"
   ]
  },
  {
   "cell_type": "code",
   "execution_count": 42,
   "metadata": {
    "pycharm": {
     "name": "#%%\n"
    }
   },
   "outputs": [
    {
     "data": {
      "text/plain": [
       "'C:\\\\Users\\\\zheng\\\\Documents\\\\Uni\\\\Magistrale\\\\ANNDL\\\\22-23\\\\Homework1\\\\Env'"
      ]
     },
     "execution_count": 42,
     "metadata": {},
     "output_type": "execute_result"
    }
   ],
   "source": [
    "os.getcwd()"
   ]
  },
  {
   "cell_type": "code",
   "execution_count": 43,
   "metadata": {
    "id": "cRodfJu0OmU1",
    "pycharm": {
     "name": "#%%\n"
    },
    "scrolled": false
   },
   "outputs": [
    {
     "name": "stdout",
     "output_type": "stream",
     "text": [
      "713\n",
      "504\n",
      "4/4 [==============================] - 2s 115ms/step\n",
      "4/4 [==============================] - 0s 32ms/step\n",
      "4/4 [==============================] - 0s 32ms/step\n",
      "4/4 [==============================] - 0s 32ms/step\n",
      "4/4 [==============================] - 0s 34ms/step\n",
      "4/4 [==============================] - 0s 33ms/step\n",
      "4/4 [==============================] - 0s 32ms/step\n",
      "4/4 [==============================] - 0s 33ms/step\n",
      "4/4 [==============================] - 0s 34ms/step\n",
      "4/4 [==============================] - 0s 32ms/step\n",
      "4/4 [==============================] - 0s 34ms/step\n",
      "4/4 [==============================] - 0s 33ms/step\n",
      "4/4 [==============================] - 0s 33ms/step\n",
      "4/4 [==============================] - 0s 33ms/step\n",
      "4/4 [==============================] - 0s 32ms/step\n",
      "4/4 [==============================] - 0s 34ms/step\n",
      "4/4 [==============================] - 0s 33ms/step\n",
      "4/4 [==============================] - 0s 34ms/step\n",
      "4/4 [==============================] - 0s 33ms/step\n",
      "4/4 [==============================] - 0s 33ms/step\n",
      "4/4 [==============================] - 0s 33ms/step\n",
      "4/4 [==============================] - 0s 33ms/step\n",
      "4/4 [==============================] - 0s 32ms/step\n",
      "4/4 [==============================] - 0s 36ms/step\n",
      "4/4 [==============================] - 0s 34ms/step\n",
      "4/4 [==============================] - 0s 32ms/step\n",
      "4/4 [==============================] - 0s 32ms/step\n",
      "4/4 [==============================] - 0s 32ms/step\n",
      "1/1 [==============================] - 0s 25ms/step\n",
      "1/1 [==============================] - 0s 24ms/step\n",
      "1/1 [==============================] - 0s 23ms/step\n",
      "1/1 [==============================] - 0s 24ms/step\n",
      "0.9186535764375876\n",
      "class: 0 f1 score: 0.6566281300219172 precision: 0.7187275397643824 recall: 0.6052472303360438\n",
      "class: 1 f1 score: 0.9277213376158968 precision: 0.9509710689110891 recall: 0.9065335837982822\n",
      "class: 2 f1 score: 0.952321862112121 precision: 0.9265970036972138 recall: 0.9805730041455908\n",
      "class: 3 f1 score: 0.9277211546704807 precision: 0.9150857067386157 recall: 0.9417384297239833\n",
      "class: 4 f1 score: 0.9360774579779928 precision: 0.9795818410016224 recall: 0.8971878767488154\n",
      "class: 5 f1 score: 0.954024280579659 precision: 0.9767214715936839 recall: 0.9333125930534878\n",
      "class: 6 f1 score: 0.9501648745839977 precision: 0.9217311153816053 recall: 0.9814723937741316\n",
      "class: 7 f1 score: 0.885206540217216 precision: 0.861103137933908 recall: 0.9117557671003225\n",
      "361\n",
      "4/4 [==============================] - 1s 140ms/step\n",
      "4/4 [==============================] - 0s 32ms/step\n",
      "4/4 [==============================] - 0s 33ms/step\n",
      "4/4 [==============================] - 0s 33ms/step\n",
      "4/4 [==============================] - 0s 32ms/step\n",
      "4/4 [==============================] - 0s 33ms/step\n",
      "4/4 [==============================] - 0s 32ms/step\n",
      "4/4 [==============================] - 0s 33ms/step\n",
      "4/4 [==============================] - 0s 33ms/step\n",
      "4/4 [==============================] - 0s 33ms/step\n",
      "4/4 [==============================] - 0s 33ms/step\n",
      "4/4 [==============================] - 0s 33ms/step\n",
      "4/4 [==============================] - 0s 32ms/step\n",
      "4/4 [==============================] - 0s 32ms/step\n",
      "4/4 [==============================] - 0s 33ms/step\n",
      "4/4 [==============================] - 0s 32ms/step\n",
      "4/4 [==============================] - 0s 32ms/step\n",
      "4/4 [==============================] - 0s 32ms/step\n",
      "4/4 [==============================] - 0s 33ms/step\n",
      "4/4 [==============================] - 0s 33ms/step\n",
      "4/4 [==============================] - 0s 33ms/step\n",
      "4/4 [==============================] - 0s 33ms/step\n",
      "4/4 [==============================] - 0s 33ms/step\n",
      "4/4 [==============================] - 0s 33ms/step\n",
      "4/4 [==============================] - 0s 32ms/step\n",
      "4/4 [==============================] - 0s 33ms/step\n",
      "4/4 [==============================] - 0s 33ms/step\n",
      "4/4 [==============================] - 0s 33ms/step\n",
      "1/1 [==============================] - 0s 25ms/step\n",
      "1/1 [==============================] - 0s 24ms/step\n",
      "1/1 [==============================] - 0s 24ms/step\n",
      "1/1 [==============================] - 0s 24ms/step\n",
      "0.9130434782608695\n",
      "class: 0 f1 score: 0.7037083461141809 precision: 0.7575528014302597 recall: 0.6578774242783085\n",
      "class: 1 f1 score: 0.929069016249815 precision: 0.9339534532693088 recall: 0.9252249978972159\n",
      "class: 2 f1 score: 0.9564290058573329 precision: 0.9433873265346553 recall: 0.9708643605401889\n",
      "class: 3 f1 score: 0.9121127726966046 precision: 0.9126124989077775 recall: 0.9126124989077775\n",
      "class: 4 f1 score: 0.9137774613805237 precision: 0.9320297861185813 recall: 0.8971878767488154\n",
      "class: 5 f1 score: 0.9432993435527883 precision: 0.9545237608236177 recall: 0.9333125930534878\n",
      "class: 6 f1 score: 0.945438052973508 precision: 0.9210445522407698 recall: 0.9722132202479606\n",
      "class: 7 f1 score: 0.8732782575114225 precision: 0.8653762944587071 recall: 0.8823442907422476\n",
      "318\n",
      "4/4 [==============================] - 1s 101ms/step\n",
      "4/4 [==============================] - 0s 33ms/step\n",
      "4/4 [==============================] - 0s 33ms/step\n",
      "4/4 [==============================] - 0s 32ms/step\n",
      "4/4 [==============================] - 0s 32ms/step\n",
      "4/4 [==============================] - 0s 32ms/step\n",
      "4/4 [==============================] - 0s 32ms/step\n",
      "4/4 [==============================] - 0s 32ms/step\n",
      "4/4 [==============================] - 0s 32ms/step\n",
      "4/4 [==============================] - 0s 33ms/step\n",
      "4/4 [==============================] - 0s 33ms/step\n",
      "4/4 [==============================] - 0s 32ms/step\n",
      "4/4 [==============================] - 0s 32ms/step\n",
      "4/4 [==============================] - 0s 32ms/step\n",
      "4/4 [==============================] - 0s 32ms/step\n",
      "4/4 [==============================] - 0s 32ms/step\n",
      "4/4 [==============================] - 0s 36ms/step\n",
      "4/4 [==============================] - 0s 36ms/step\n",
      "4/4 [==============================] - 0s 35ms/step\n",
      "4/4 [==============================] - 0s 32ms/step\n",
      "4/4 [==============================] - 0s 32ms/step\n",
      "4/4 [==============================] - 0s 33ms/step\n",
      "4/4 [==============================] - 0s 31ms/step\n",
      "4/4 [==============================] - 0s 32ms/step\n",
      "4/4 [==============================] - 0s 33ms/step\n",
      "4/4 [==============================] - 0s 32ms/step\n",
      "4/4 [==============================] - 0s 32ms/step\n",
      "4/4 [==============================] - 0s 32ms/step\n",
      "1/1 [==============================] - 0s 24ms/step\n",
      "1/1 [==============================] - 0s 24ms/step\n",
      "1/1 [==============================] - 0s 23ms/step\n",
      "1/1 [==============================] - 0s 24ms/step\n",
      "0.9102384291725105\n",
      "class: 0 f1 score: 0.693927055515587 precision: 0.7352724919855299 recall: 0.6578774242783085\n",
      "class: 1 f1 score: 0.9247252679558193 precision: 0.9252249978972159 recall: 0.9252249978972159\n",
      "class: 2 f1 score: 0.9514142325738904 precision: 0.9428481633508252 recall: 0.961155716934787\n",
      "class: 3 f1 score: 0.908582587495514 precision: 0.8962179602079225 recall: 0.9223211425131794\n",
      "class: 4 f1 score: 0.9042537454318683 precision: 0.9223211425131794 recall: 0.8878421696993486\n",
      "class: 5 f1 score: 0.954024280579659 precision: 0.9767214715936839 recall: 0.9333125930534878\n",
      "class: 6 f1 score: 0.9497181637072645 precision: 0.929195316855603 recall: 0.9722132202479606\n",
      "class: 7 f1 score: 0.872040751645126 precision: 0.872540465289556 recall: 0.872540465289556\n",
      "317\n",
      "4/4 [==============================] - 1s 84ms/step\n",
      "4/4 [==============================] - 0s 33ms/step\n",
      "4/4 [==============================] - 0s 32ms/step\n",
      "4/4 [==============================] - 0s 32ms/step\n",
      "4/4 [==============================] - 0s 32ms/step\n",
      "4/4 [==============================] - 0s 33ms/step\n",
      "4/4 [==============================] - 0s 32ms/step\n",
      "4/4 [==============================] - 0s 32ms/step\n",
      "4/4 [==============================] - 0s 34ms/step\n",
      "4/4 [==============================] - 0s 34ms/step\n",
      "4/4 [==============================] - 0s 32ms/step\n",
      "4/4 [==============================] - 0s 32ms/step\n",
      "4/4 [==============================] - 0s 34ms/step\n",
      "4/4 [==============================] - 0s 32ms/step\n",
      "4/4 [==============================] - 0s 32ms/step\n",
      "4/4 [==============================] - 0s 32ms/step\n",
      "4/4 [==============================] - 0s 32ms/step\n",
      "4/4 [==============================] - 0s 32ms/step\n",
      "4/4 [==============================] - 0s 32ms/step\n",
      "4/4 [==============================] - 0s 32ms/step\n",
      "4/4 [==============================] - 0s 32ms/step\n",
      "4/4 [==============================] - 0s 32ms/step\n",
      "4/4 [==============================] - 0s 32ms/step\n",
      "4/4 [==============================] - 0s 32ms/step\n",
      "4/4 [==============================] - 0s 32ms/step\n",
      "4/4 [==============================] - 0s 32ms/step\n",
      "4/4 [==============================] - 0s 32ms/step\n",
      "4/4 [==============================] - 0s 32ms/step\n",
      "1/1 [==============================] - 0s 24ms/step\n",
      "1/1 [==============================] - 0s 24ms/step\n",
      "1/1 [==============================] - 0s 23ms/step\n",
      "1/1 [==============================] - 0s 23ms/step\n",
      "0.9102384291725105\n",
      "class: 0 f1 score: 0.6818428494232616 precision: 0.6170081487627923 recall: 0.7631378121628378\n",
      "class: 1 f1 score: 0.930864886435392 precision: 0.9793713466871475 recall: 0.8878421696993486\n",
      "class: 2 f1 score: 0.9555885065160113 precision: 0.9607748943637807 recall: 0.9514470733293852\n",
      "class: 3 f1 score: 0.9240202503266896 precision: 0.8990743204190786 recall: 0.9514470733293852\n",
      "class: 4 f1 score: 0.9009002750554994 precision: 0.905651833473269 recall: 0.8971878767488154\n",
      "class: 5 f1 score: 0.9280521375075218 precision: 0.9999743596318044 recall: 0.8666474078353815\n",
      "class: 6 f1 score: 0.945438052973508 precision: 0.9210445522407698 recall: 0.9722132202479606\n",
      "class: 7 f1 score: 0.8850637211304696 precision: 0.8989808183755719 recall: 0.872540465289556\n",
      "227\n",
      "4/4 [==============================] - 5s 158ms/step\n",
      "4/4 [==============================] - 0s 32ms/step\n",
      "4/4 [==============================] - 0s 32ms/step\n",
      "4/4 [==============================] - 0s 32ms/step\n",
      "4/4 [==============================] - 0s 32ms/step\n",
      "4/4 [==============================] - 0s 33ms/step\n",
      "4/4 [==============================] - 0s 32ms/step\n",
      "4/4 [==============================] - 0s 32ms/step\n",
      "4/4 [==============================] - 0s 32ms/step\n",
      "4/4 [==============================] - 0s 32ms/step\n",
      "4/4 [==============================] - 0s 32ms/step\n",
      "4/4 [==============================] - 0s 33ms/step\n",
      "4/4 [==============================] - 0s 32ms/step\n",
      "4/4 [==============================] - 0s 32ms/step\n",
      "4/4 [==============================] - 0s 32ms/step\n",
      "4/4 [==============================] - 0s 32ms/step\n",
      "4/4 [==============================] - 0s 32ms/step\n",
      "4/4 [==============================] - 0s 33ms/step\n",
      "4/4 [==============================] - 0s 33ms/step\n",
      "4/4 [==============================] - 0s 32ms/step\n",
      "4/4 [==============================] - 0s 32ms/step\n",
      "4/4 [==============================] - 0s 32ms/step\n",
      "4/4 [==============================] - 0s 32ms/step\n",
      "4/4 [==============================] - 0s 32ms/step\n",
      "4/4 [==============================] - 0s 32ms/step\n",
      "4/4 [==============================] - 0s 32ms/step\n",
      "4/4 [==============================] - 0s 32ms/step\n",
      "4/4 [==============================] - 0s 32ms/step\n",
      "1/1 [==============================] - 0s 24ms/step\n",
      "1/1 [==============================] - 0s 24ms/step\n",
      "1/1 [==============================] - 0s 24ms/step\n",
      "1/1 [==============================] - 0s 24ms/step\n",
      "0.9074333800841514\n",
      "class: 0 f1 score: 0.6751581490714804 precision: 0.6944251548568096 recall: 0.6578774242783085\n",
      "class: 1 f1 score: 0.9145860242382722 precision: 0.9238007257073741 recall: 0.9065335837982822\n",
      "class: 2 f1 score: 0.9518723257494583 precision: 0.9345707049466827 recall: 0.9708643605401889\n",
      "class: 3 f1 score: 0.9058953956293934 precision: 0.9199908000919991 recall: 0.8931952116969738\n",
      "class: 4 f1 score: 0.9085827704367849 precision: 0.9313634180057058 recall: 0.8878421696993486\n",
      "class: 5 f1 score: 0.954024280579659 precision: 0.9767214715936839 recall: 0.9333125930534878\n",
      "class: 6 f1 score: 0.9583957068614085 precision: 0.9459374239871713 recall: 0.9722132202479606\n",
      "class: 7 f1 score: 0.8620519051912675 precision: 0.8348547261034303 recall: 0.8921481161949393\n"
     ]
    }
   ],
   "source": [
    "print(ds.__len__())\n",
    "for n in [504, 361, 318, 317, 227]:\n",
    "    print(n)\n",
    "    newmodel = tfk.models.load_model(\n",
    "        \"experiments/EfficientnetV2B0_Nov22_23-39-14\"+\"/base_ckpts/cp_\"+str(n)+\".ckpt\",\n",
    "        custom_objects={\"categorical_focal_loss\": categorical_focal_loss}\n",
    "    )\n",
    "    accuracy(ds,newmodel)"
   ]
  },
  {
   "cell_type": "markdown",
   "metadata": {
    "id": "-83ete1O0DT6",
    "pycharm": {
     "name": "#%% md\n"
    }
   },
   "source": [
    "# Model saving\n",
    "The model is saved and it can be reloaded if necessary."
   ]
  },
  {
   "cell_type": "code",
   "execution_count": null,
   "metadata": {
    "colab": {
     "base_uri": "https://localhost:8080/"
    },
    "executionInfo": {
     "elapsed": 2376,
     "status": "ok",
     "timestamp": 1637329343715,
     "user": {
      "displayName": "Maria Yu",
      "photoUrl": "https://lh3.googleusercontent.com/a/default-user=s64",
      "userId": "14411329470521378870"
     },
     "user_tz": -60
    },
    "id": "KWuFBdq8qpDj",
    "outputId": "10047537-b514-445c-ec90-25156d117bcc",
    "pycharm": {
     "name": "#%%\n"
    }
   },
   "outputs": [
    {
     "name": "stderr",
     "output_type": "stream",
     "text": [
      "WARNING:absl:Function `_wrapped_model` contains input name(s) Input with unsupported characters which will be renamed to input in the SavedModel.\n"
     ]
    },
    {
     "name": "stdout",
     "output_type": "stream",
     "text": [
      "INFO:tensorflow:Assets written to: Baseline/assets\n"
     ]
    },
    {
     "name": "stderr",
     "output_type": "stream",
     "text": [
      "INFO:tensorflow:Assets written to: Baseline/assets\n"
     ]
    }
   ],
   "source": [
    "# Save the model\n",
    "model.save(mode)"
   ]
  }
 ],
 "metadata": {
  "accelerator": "GPU",
  "colab": {
   "authorship_tag": "ABX9TyOPyCRRk0/5km7Xtc6Ky4m6",
   "mount_file_id": "1O_120kCNjLtqhdQFRsW98ZfKb0e80IiF",
   "provenance": []
  },
  "kernelspec": {
   "display_name": "Python 3 (ipykernel)",
   "language": "python",
   "name": "python3"
  },
  "language_info": {
   "codemirror_mode": {
    "name": "ipython",
    "version": 3
   },
   "file_extension": ".py",
   "mimetype": "text/x-python",
   "name": "python",
   "nbconvert_exporter": "python",
   "pygments_lexer": "ipython3",
   "version": "3.9.12"
  }
 },
 "nbformat": 4,
 "nbformat_minor": 1
}